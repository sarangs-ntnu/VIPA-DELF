{
 "cells": [
  {
   "cell_type": "code",
   "execution_count": 1,
   "metadata": {},
   "outputs": [
    {
     "name": "stdout",
     "output_type": "stream",
     "text": [
      "2.0.1+cu117\n"
     ]
    }
   ],
   "source": [
    "import torch\n",
    "import os\n",
    "from torchvision import transforms, datasets,models\n",
    "from torch.utils import data\n",
    "from torch import optim\n",
    "print(torch.__version__)"
   ]
  },
  {
   "cell_type": "code",
   "execution_count": 2,
   "metadata": {},
   "outputs": [
    {
     "data": {
      "text/plain": [
       "device(type='cuda', index=0)"
      ]
     },
     "execution_count": 2,
     "metadata": {},
     "output_type": "execute_result"
    }
   ],
   "source": [
    "###########################\n",
    "# Checking if GPU is used\n",
    "###########################\n",
    "\n",
    "use_cuda=torch.cuda.is_available()\n",
    "use_mps = torch.backends.mps.is_available()\n",
    "device=torch.device(\"cuda:0\" if use_cuda else \"mps\" if use_mps else \"cpu\")\n",
    "device"
   ]
  },
  {
   "cell_type": "code",
   "execution_count": 3,
   "metadata": {},
   "outputs": [
    {
     "name": "stdout",
     "output_type": "stream",
     "text": [
      "Fri Jul 12 00:27:36 2024       \n",
      "+---------------------------------------------------------------------------------------+\n",
      "| NVIDIA-SMI 535.161.08             Driver Version: 535.161.08   CUDA Version: 12.2     |\n",
      "|-----------------------------------------+----------------------+----------------------+\n",
      "| GPU  Name                 Persistence-M | Bus-Id        Disp.A | Volatile Uncorr. ECC |\n",
      "| Fan  Temp   Perf          Pwr:Usage/Cap |         Memory-Usage | GPU-Util  Compute M. |\n",
      "|                                         |                      |               MIG M. |\n",
      "|=========================================+======================+======================|\n",
      "|   0  Tesla V100-SXM3-32GB           On  | 00000000:34:00.0 Off |                    0 |\n",
      "| N/A   33C    P0              75W / 350W |    737MiB / 32768MiB |     18%      Default |\n",
      "|                                         |                      |                  N/A |\n",
      "+-----------------------------------------+----------------------+----------------------+\n",
      "|   1  Tesla V100-SXM3-32GB           On  | 00000000:36:00.0 Off |                    0 |\n",
      "| N/A   57C    P0             263W / 350W |   8045MiB / 32768MiB |     99%      Default |\n",
      "|                                         |                      |                  N/A |\n",
      "+-----------------------------------------+----------------------+----------------------+\n",
      "|   2  Tesla V100-SXM3-32GB           On  | 00000000:39:00.0 Off |                    0 |\n",
      "| N/A   62C    P0              99W / 350W |  11545MiB / 32768MiB |      0%      Default |\n",
      "|                                         |                      |                  N/A |\n",
      "+-----------------------------------------+----------------------+----------------------+\n",
      "|   3  Tesla V100-SXM3-32GB           On  | 00000000:3B:00.0 Off |                    0 |\n",
      "| N/A   66C    P0             355W / 350W |   1279MiB / 32768MiB |     99%      Default |\n",
      "|                                         |                      |                  N/A |\n",
      "+-----------------------------------------+----------------------+----------------------+\n",
      "|   4  Tesla V100-SXM3-32GB           On  | 00000000:57:00.0 Off |                    0 |\n",
      "| N/A   30C    P0              49W / 350W |      0MiB / 32768MiB |      0%      Default |\n",
      "|                                         |                      |                  N/A |\n",
      "+-----------------------------------------+----------------------+----------------------+\n",
      "|   5  Tesla V100-SXM3-32GB           On  | 00000000:59:00.0 Off |                    0 |\n",
      "| N/A   36C    P0              69W / 350W |   9251MiB / 32768MiB |      0%      Default |\n",
      "|                                         |                      |                  N/A |\n",
      "+-----------------------------------------+----------------------+----------------------+\n",
      "|   6  Tesla V100-SXM3-32GB           On  | 00000000:5C:00.0 Off |                    0 |\n",
      "| N/A   28C    P0              50W / 350W |      0MiB / 32768MiB |      0%      Default |\n",
      "|                                         |                      |                  N/A |\n",
      "+-----------------------------------------+----------------------+----------------------+\n",
      "|   7  Tesla V100-SXM3-32GB           On  | 00000000:5E:00.0 Off |                    0 |\n",
      "| N/A   33C    P0              49W / 350W |      0MiB / 32768MiB |      0%      Default |\n",
      "|                                         |                      |                  N/A |\n",
      "+-----------------------------------------+----------------------+----------------------+\n",
      "|   8  Tesla V100-SXM3-32GB           On  | 00000000:B7:00.0 Off |                    0 |\n",
      "| N/A   31C    P0              48W / 350W |      0MiB / 32768MiB |      0%      Default |\n",
      "|                                         |                      |                  N/A |\n",
      "+-----------------------------------------+----------------------+----------------------+\n",
      "|   9  Tesla V100-SXM3-32GB           On  | 00000000:B9:00.0 Off |                    0 |\n",
      "| N/A   31C    P0              48W / 350W |      0MiB / 32768MiB |      0%      Default |\n",
      "|                                         |                      |                  N/A |\n",
      "+-----------------------------------------+----------------------+----------------------+\n",
      "|  10  Tesla V100-SXM3-32GB           On  | 00000000:BC:00.0 Off |                    0 |\n",
      "| N/A   35C    P0              51W / 350W |      0MiB / 32768MiB |      0%      Default |\n",
      "|                                         |                      |                  N/A |\n",
      "+-----------------------------------------+----------------------+----------------------+\n",
      "|  11  Tesla V100-SXM3-32GB           On  | 00000000:BE:00.0 Off |                    0 |\n",
      "| N/A   36C    P0              49W / 350W |      0MiB / 32768MiB |      0%      Default |\n",
      "|                                         |                      |                  N/A |\n",
      "+-----------------------------------------+----------------------+----------------------+\n",
      "|  12  Tesla V100-SXM3-32GB           On  | 00000000:E0:00.0 Off |                    0 |\n",
      "| N/A   31C    P0              47W / 350W |      0MiB / 32768MiB |      0%      Default |\n",
      "|                                         |                      |                  N/A |\n",
      "+-----------------------------------------+----------------------+----------------------+\n",
      "|  13  Tesla V100-SXM3-32GB           On  | 00000000:E2:00.0 Off |                    0 |\n",
      "| N/A   30C    P0              48W / 350W |      0MiB / 32768MiB |      0%      Default |\n",
      "|                                         |                      |                  N/A |\n",
      "+-----------------------------------------+----------------------+----------------------+\n",
      "|  14  Tesla V100-SXM3-32GB           On  | 00000000:E5:00.0 Off |                    0 |\n",
      "| N/A   34C    P0              49W / 350W |      0MiB / 32768MiB |      0%      Default |\n",
      "|                                         |                      |                  N/A |\n",
      "+-----------------------------------------+----------------------+----------------------+\n",
      "|  15  Tesla V100-SXM3-32GB           On  | 00000000:E7:00.0 Off |                    0 |\n",
      "| N/A   35C    P0              50W / 350W |      0MiB / 32768MiB |      0%      Default |\n",
      "|                                         |                      |                  N/A |\n",
      "+-----------------------------------------+----------------------+----------------------+\n",
      "                                                                                         \n",
      "+---------------------------------------------------------------------------------------+\n",
      "| Processes:                                                                            |\n",
      "|  GPU   GI   CI        PID   Type   Process name                            GPU Memory |\n",
      "|        ID   ID                                                             Usage      |\n",
      "|=======================================================================================|\n",
      "|    0   N/A  N/A   1875342      C   ...meshu/anaconda3/envs/ECG/bin/python      734MiB |\n",
      "|    1   N/A  N/A   1932494      C   ...meshu/anaconda3/envs/ECG/bin/python    16930MiB |\n",
      "|    2   N/A  N/A   3001583      C   ...meshu/anaconda3/envs/ECG/bin/python    11542MiB |\n",
      "|    3   N/A  N/A   2589348      C   ...rabink1/.conda/envs/jepa/bin/python     1276MiB |\n",
      "|    5   N/A  N/A   2701134      C   ...gs/D1/chameleon_venv/bin/python3.11     9248MiB |\n",
      "+---------------------------------------------------------------------------------------+\n"
     ]
    }
   ],
   "source": [
    "!nvidia-smi"
   ]
  },
  {
   "cell_type": "code",
   "execution_count": 3,
   "metadata": {},
   "outputs": [],
   "source": [
    "########################################\n",
    "# Setting basic parameters for the model\n",
    "########################################           \n",
    "         \n",
    "batch_size=16\n",
    "max_epochs=5\n",
    "lr=0.0001\n",
    "\n",
    "NUM_CLIENTS = 10\n",
    "\n",
    "NUM_DATA_SPLIT = NUM_CLIENTS\n",
    "\n",
    "ROUNDS = 5\n",
    "\n",
    "# added this just to done some experiments. Remove it to execute correct code.\n",
    "# It should be same as NUM_CLIENTS\n",
    "# NUM_DATA_SPLIT = 40\n",
    "\n",
    "num_classes = 2\n",
    "\n",
    "\n",
    "# name of new dataset\n",
    "dataset = \"Real_images_processed\""
   ]
  },
  {
   "cell_type": "code",
   "execution_count": 4,
   "metadata": {},
   "outputs": [
    {
     "name": "stdout",
     "output_type": "stream",
     "text": [
      "train root Real_images_processed/train\n",
      "Directory './fl_checkpointsswintransformer_e5_c10_r5_1' created\n"
     ]
    }
   ],
   "source": [
    "train_root_dir=os.path.join(dataset, 'train')   \n",
    "val_root_dir= os.path.join(dataset, 'validation') \n",
    "test_root_dir= os.path.join(dataset, 'test') \n",
    "model_path='./fl_checkpointsswintransformer_e5_c10_r5_1'  # set path to the folder that will store model's checkpoints\n",
    "\n",
    "n_classes=2  # number of classes used for training\n",
    "\n",
    "global val_f1_max\n",
    "\n",
    "\n",
    "try:\n",
    "    if not os.path.exists(model_path):\n",
    "        os.makedirs(model_path)\n",
    "except OSError as err:\n",
    "    print(err)\n",
    "    \n",
    "print('train root', train_root_dir)\n",
    "\n",
    "print(\"Directory '% s' created\" % model_path)\n",
    "filename='results_e'+str(max_epochs)+'_'+'b'+str(batch_size)+'_'+'lr'+str(lr)+'_'+'cnn'   #filename used for saving epoch-wise training details and test results "
   ]
  },
  {
   "cell_type": "markdown",
   "metadata": {},
   "source": [
    "## Federated Learning"
   ]
  },
  {
   "cell_type": "code",
   "execution_count": 5,
   "metadata": {},
   "outputs": [
    {
     "name": "stderr",
     "output_type": "stream",
     "text": [
      "2024-07-12 12:56:52.809953: I tensorflow/core/platform/cpu_feature_guard.cc:210] This TensorFlow binary is optimized to use available CPU instructions in performance-critical operations.\n",
      "To enable the following instructions: AVX2 AVX512F FMA, in other operations, rebuild TensorFlow with the appropriate compiler flags.\n",
      "2024-07-12 12:56:57.315385: W tensorflow/compiler/tf2tensorrt/utils/py_utils.cc:38] TF-TRT Warning: Could not find TensorRT\n"
     ]
    },
    {
     "name": "stdout",
     "output_type": "stream",
     "text": [
      "Training on cuda:0 using PyTorch 2.0.1+cu117 and Flower 1.9.0\n"
     ]
    }
   ],
   "source": [
    "from collections import OrderedDict\n",
    "from typing import Dict, List, Optional, Tuple\n",
    "\n",
    "import numpy as np\n",
    "import torch\n",
    "import torch.nn as nn\n",
    "import torch.nn.functional as F\n",
    "import torchvision.transforms as transforms\n",
    "from torch.utils.data import DataLoader, random_split\n",
    "from torchvision.datasets import CIFAR10\n",
    "\n",
    "import flwr as fl\n",
    "\n",
    "print(\n",
    "    f\"Training on {device} using PyTorch {torch.__version__} and Flower {fl.__version__}\"\n",
    ")"
   ]
  },
  {
   "cell_type": "markdown",
   "metadata": {},
   "source": [
    "### Custom Data Loader"
   ]
  },
  {
   "cell_type": "code",
   "execution_count": 6,
   "metadata": {},
   "outputs": [
    {
     "name": "stdout",
     "output_type": "stream",
     "text": [
      "Number of Training set images:196\n",
      "Number of Validation set images:55\n",
      "Number of Test set images:30\n",
      "\n",
      "Datassets after split...\n",
      "Number of Training set images:10\n",
      "Number of Validation set images:10\n"
     ]
    }
   ],
   "source": [
    "def load_datasets(num_clients: int):\n",
    "    # ####################################\n",
    "    # # Training\n",
    "    # ####################################\n",
    "\n",
    "    trans={\n",
    "        # Train uses data augmentation\n",
    "        'train': transforms.Compose([\n",
    "            transforms.Resize((224, 224)),\n",
    "            # transforms.RandomRotation(degrees=15),\n",
    "            # transforms.RandomHorizontalFlip(),\n",
    "            transforms.ToTensor(),\n",
    "            transforms.Normalize([0.4762, 0.3054, 0.2368], [0.3345, 0.2407, 0.2164])\n",
    "        ]),\n",
    "        # Validation does not use augmentation\n",
    "        'valid':\n",
    "        transforms.Compose([\n",
    "            transforms.Resize((224, 224)),            \n",
    "            transforms.ToTensor(),\n",
    "            transforms.Normalize([0.4762, 0.3054, 0.2368], [0.3345, 0.2407, 0.2164])\n",
    "        ]),\n",
    "\n",
    "        # Test does not use augmentation\n",
    "        'test':\n",
    "        transforms.Compose([\n",
    "            transforms.Resize((224, 224)),\n",
    "            transforms.ToTensor(),\n",
    "            transforms.Normalize([0.4762, 0.3054, 0.2368], [0.3345, 0.2407, 0.2164])\n",
    "        ]),\n",
    "    }\n",
    "\n",
    "    training_dataset= datasets.ImageFolder(train_root_dir, transform=trans['train'])\n",
    "    validation_dataset= datasets.ImageFolder(val_root_dir, transform=trans['valid'])\n",
    "    test_dataset= datasets.ImageFolder(test_root_dir, transform=trans['test'])\n",
    "\n",
    "    print('Number of Training set images:{}'.format(len(training_dataset)))\n",
    "    print('Number of Validation set images:{}'.format(len(validation_dataset)))\n",
    "    print('Number of Test set images:{}'.format(len(test_dataset)))\n",
    "\n",
    "    # Split training set into `num_clients` partitions to simulate different local datasets\n",
    "    partition_size = len(training_dataset) // num_clients\n",
    "    lengths = [partition_size] * num_clients\n",
    "    diff = len(training_dataset) - sum(lengths)\n",
    "    lengths[-1] = lengths[-1] + diff\n",
    "    train_datasets = random_split(training_dataset, lengths, torch.Generator().manual_seed(42))\n",
    "\n",
    "    partition_size = len(validation_dataset) // num_clients\n",
    "    lengths = [partition_size] * num_clients\n",
    "    diff = len(validation_dataset) - sum(lengths)\n",
    "    lengths[-1] = lengths[-1] + diff\n",
    "    val_datasets = random_split(validation_dataset, lengths, torch.Generator().manual_seed(42))\n",
    "\n",
    "    # Split each partition into train/val and create DataLoader\n",
    "    trainloaders = []\n",
    "    valloaders = []\n",
    "    for tr_ds in train_datasets:\n",
    "        trainloaders.append(data.DataLoader(tr_ds, batch_size=batch_size, shuffle=True))\n",
    "    for val_ds in val_datasets:\n",
    "        valloaders.append(data.DataLoader(val_ds, batch_size=batch_size))\n",
    "\n",
    "    testloader = data.DataLoader(test_dataset,batch_size)\n",
    "    \n",
    "    print(\"\\nDatassets after split...\")\n",
    "    print('Number of Training set images:{}'.format(len(trainloaders)))\n",
    "    print('Number of Validation set images:{}'.format(len(valloaders)))\n",
    "\n",
    "    \n",
    "    return trainloaders, valloaders, testloader\n",
    "\n",
    "trainloaders, valloaders, testloader = load_datasets(NUM_DATA_SPLIT)"
   ]
  },
  {
   "cell_type": "markdown",
   "metadata": {},
   "source": [
    "### Model Training"
   ]
  },
  {
   "cell_type": "code",
   "execution_count": 7,
   "metadata": {},
   "outputs": [],
   "source": [
    "def train(model, trainloader, epochs: int):\n",
    "    \"\"\"Train the network on the training set.\"\"\"\n",
    "    optimizer=optim.Adam(model.parameters(), lr, weight_decay=1e-4)\n",
    "\n",
    "    scheduler=optim.lr_scheduler.ReduceLROnPlateau(optimizer,mode='min',patience=4,verbose=True)\n",
    "\n",
    "    criterion = nn.CrossEntropyLoss()\n",
    "\n",
    "    model.train()\n",
    "    print(\"Starting client training...\")\n",
    "    for epoch in range(epochs):\n",
    "        print(f\"Running epoch {epoch}/{epochs}\")\n",
    "        correct, total, epoch_loss = 0, 0, 0.0\n",
    "        for images, labels in trainloader:\n",
    "            images, labels = images.to(device), labels.to(device)\n",
    "            optimizer.zero_grad()\n",
    "            outputs = model(images)\n",
    "            loss = criterion(outputs, labels)\n",
    "            loss.backward()\n",
    "            optimizer.step()\n",
    "            # Metrics\n",
    "            epoch_loss += loss.item() * images.size(0)\n",
    "            total += labels.size(0)\n",
    "            correct += (torch.max(outputs.data, 1)[1] == labels).sum().item()\n",
    "        epoch_loss /= len(trainloader.dataset)\n",
    "        epoch_acc = correct / total\n",
    "        print(f\"Epoch {epoch+1}: train loss {epoch_loss}, accuracy {epoch_acc}\")\n",
    "        scheduler.step(epoch_loss)\n",
    "#             epoch_loss += loss\n",
    "#             total += labels.size(0)\n",
    "#             correct += (torch.max(outputs.data, 1)[1] == labels).sum().item()\n",
    "#         epoch_loss /= len(trainloader.dataset)\n",
    "#         epoch_acc = correct / total\n",
    "#         print(f\"Epoch {epoch+1}: train loss {epoch_loss}, accuracy {epoch_acc}\")\n",
    "\n",
    "\n",
    "def test(model, testloader):\n",
    "    \"\"\"Evaluate the network on the entire test set.\"\"\"\n",
    "    criterion = nn.CrossEntropyLoss()\n",
    "\n",
    "    correct, total, loss = 0, 0, 0.0\n",
    "    model.eval()\n",
    "    print(\"Starting client validation...\")\n",
    "    with torch.no_grad():\n",
    "        for images, labels in testloader:\n",
    "            images, labels = images.to(device), labels.to(device)\n",
    "            outputs = model(images)\n",
    "            loss += criterion(outputs, labels).item()\n",
    "            _, predicted = torch.max(outputs.data, 1)\n",
    "            total += labels.size(0)\n",
    "            correct += (predicted == labels).sum().item()\n",
    "    loss /= len(testloader.dataset)\n",
    "    accuracy = correct / total\n",
    "    print(f\"Validataion accuracy = {accuracy}\")\n",
    "    return loss, accuracy"
   ]
  },
  {
   "cell_type": "markdown",
   "metadata": {},
   "source": [
    "### Custom Strategy"
   ]
  },
  {
   "cell_type": "code",
   "execution_count": 8,
   "metadata": {},
   "outputs": [],
   "source": [
    "from typing import Callable, Union\n",
    "\n",
    "from flwr.common import (\n",
    "    EvaluateIns,\n",
    "    EvaluateRes,\n",
    "    FitIns,\n",
    "    FitRes,\n",
    "    MetricsAggregationFn,\n",
    "    NDArrays,\n",
    "    Parameters,\n",
    "    Scalar,\n",
    "    ndarrays_to_parameters,\n",
    "    parameters_to_ndarrays,\n",
    ")\n",
    "from flwr.server.client_manager import ClientManager\n",
    "from flwr.server.client_proxy import ClientProxy\n",
    "from flwr.server.strategy.aggregate import aggregate, weighted_loss_avg\n",
    "\n",
    "\n",
    "class FedCustom(fl.server.strategy.Strategy):\n",
    "    def __init__(\n",
    "        self,\n",
    "        fraction_fit: float = 1.0,\n",
    "        fraction_evaluate: float = 1.0,\n",
    "        min_fit_clients: int = 2,\n",
    "        min_evaluate_clients: int = 2,\n",
    "        min_available_clients: int = 2,\n",
    "    ) -> None:\n",
    "        super().__init__()\n",
    "        self.fraction_fit = fraction_fit\n",
    "        self.fraction_evaluate = fraction_evaluate\n",
    "        self.min_fit_clients = min_fit_clients\n",
    "        self.min_evaluate_clients = min_evaluate_clients\n",
    "        self.min_available_clients = min_available_clients\n",
    "\n",
    "    def __repr__(self) -> str:\n",
    "        return \"FedCustom\"\n",
    "\n",
    "    def initialize_parameters(\n",
    "        self, client_manager: ClientManager\n",
    "    ) -> Optional[Parameters]:\n",
    "        \"\"\"Initialize global model parameters.\"\"\"\n",
    "        \n",
    "        net = create_pretrained_densenet(2)\n",
    "        net.to(device)\n",
    "        # get initial parameters for starting point.\n",
    "        ndarrays = get_parameters(net)\n",
    "        # ndarrays_to_parameters function converst numpy ndarray into io.bytes (tensors).\n",
    "        return fl.common.ndarrays_to_parameters(ndarrays)\n",
    "\n",
    "    def configure_fit(\n",
    "        self, server_round: int, parameters: Parameters, client_manager: ClientManager\n",
    "    ) -> List[Tuple[ClientProxy, FitIns]]:\n",
    "        \"\"\"Configure the next round of training.\"\"\"\n",
    "\n",
    "        print(\"Starting configure fit function...\")\n",
    "        # Sample clients\n",
    "        sample_size, min_num_clients = self.num_fit_clients(\n",
    "            client_manager.num_available()\n",
    "        )\n",
    "        clients = client_manager.sample(\n",
    "            num_clients=sample_size, min_num_clients=min_num_clients\n",
    "        )\n",
    "        \n",
    "        print(f\"Sample size = {sample_size} Min Num Clients = {min_num_clients} Clients = {clients}\")\n",
    "\n",
    "        # Create custom configs\n",
    "        n_clients = len(clients)\n",
    "        half_clients = n_clients // 2\n",
    "        standard_config = {\"lr\": 0.001}\n",
    "        higher_lr_config = {\"lr\": 0.003}\n",
    "        fit_configurations = []\n",
    "        \n",
    "        print(f\"Number of clients = {n_clients}\")\n",
    "        for idx, client in enumerate(clients):\n",
    "            if idx < half_clients:\n",
    "                fit_configurations.append((client, FitIns(parameters, standard_config)))\n",
    "            else:\n",
    "                fit_configurations.append(\n",
    "                    (client, FitIns(parameters, higher_lr_config))\n",
    "                )\n",
    "        print(\"Fit Configurations\")        \n",
    "        return fit_configurations\n",
    "\n",
    "    def aggregate_fit(\n",
    "        self,\n",
    "        server_round: int,\n",
    "        results: List[Tuple[ClientProxy, FitRes]],\n",
    "        failures: List[Union[Tuple[ClientProxy, FitRes], BaseException]],\n",
    "    ) -> Tuple[Optional[Parameters], Dict[str, Scalar]]:\n",
    "        \"\"\"Aggregate fit results using weighted average.\"\"\"\n",
    "\n",
    "        weights_results = [\n",
    "            (parameters_to_ndarrays(fit_res.parameters), fit_res.num_examples)\n",
    "            for _, fit_res in results\n",
    "        ]\n",
    "        parameters_aggregated = ndarrays_to_parameters(aggregate(weights_results))\n",
    "        metrics_aggregated = {}\n",
    "        \n",
    "        return parameters_aggregated, metrics_aggregated\n",
    "\n",
    "\n",
    "\n",
    "    def configure_evaluate(\n",
    "        self, server_round: int, parameters: Parameters, client_manager: ClientManager\n",
    "    ) -> List[Tuple[ClientProxy, EvaluateIns]]:\n",
    "        \"\"\"Configure the next round of evaluation.\"\"\"\n",
    "        if self.fraction_evaluate == 0.0:\n",
    "            return []\n",
    "        config = {}\n",
    "        evaluate_ins = EvaluateIns(parameters, config)\n",
    "\n",
    "        # Sample clients\n",
    "        sample_size, min_num_clients = self.num_evaluation_clients(\n",
    "            client_manager.num_available()\n",
    "        )\n",
    "        clients = client_manager.sample(\n",
    "            num_clients=sample_size, min_num_clients=min_num_clients\n",
    "        )\n",
    "\n",
    "        # Return client/config pairs\n",
    "        return [(client, evaluate_ins) for client in clients]\n",
    "\n",
    "    def aggregate_evaluate(\n",
    "        self,\n",
    "        server_round: int,\n",
    "        results: List[Tuple[ClientProxy, EvaluateRes]],\n",
    "        failures: List[Union[Tuple[ClientProxy, EvaluateRes], BaseException]],\n",
    "    ) -> Tuple[Optional[float], Dict[str, Scalar]]:\n",
    "        \"\"\"Aggregate evaluation losses using weighted average.\"\"\"\n",
    "\n",
    "        if not results:\n",
    "            return None, {}\n",
    "\n",
    "        loss_aggregated = weighted_loss_avg(\n",
    "            [\n",
    "                (evaluate_res.num_examples, evaluate_res.loss)\n",
    "                for _, evaluate_res in results\n",
    "            ]\n",
    "        )\n",
    "        metrics_aggregated = {}\n",
    "        return loss_aggregated, metrics_aggregated\n",
    "\n",
    "    def evaluate(\n",
    "        self, server_round: int, parameters: Parameters\n",
    "    ) -> Optional[Tuple[float, Dict[str, Scalar]]]:\n",
    "        \"\"\"Evaluate global model parameters using an evaluation function.\"\"\"\n",
    "\n",
    "        loss = 1\n",
    "        metric = {}    \n",
    "        \n",
    "        try:\n",
    "            parameters_ndarrays = parameters_to_ndarrays(parameters)\n",
    "            len(parameters_ndarrays)\n",
    "            # Let's assume we won't perform the global model evaluation on the server side.\n",
    "            print(\"Evaluating global model\")                \n",
    "            global_model = create_pretrained_densenet(2)\n",
    "            global_model.to(device)\n",
    "\n",
    "            set_parameters(global_model, parameters_ndarrays)\n",
    "            print(\"Parameter set\")\n",
    "            loss, accuracy = test(global_model, testloader)\n",
    "            print(f\"Global evaluation round {server_round} loss = {float(loss)} accuracy = {float(accuracy)}\")\n",
    "            \n",
    "            # Save your weights here.\n",
    "            best_model_path = model_path+f'/fl_densenet_{server_round}.pth'\n",
    "            torch.save({'round':server_round,\n",
    "                'state_dict':global_model.state_dict(),\n",
    "                'loss':loss,\n",
    "                'acc':accuracy},\n",
    "                best_model_path    \n",
    "                )\n",
    "            print(f\"Model saved at {best_model_path}\")\n",
    "            \n",
    "        except:\n",
    "            print(\"Parameter type is not ndarray\")\n",
    "        \n",
    "        return float(loss), metric\n",
    "\n",
    "    def num_fit_clients(self, num_available_clients: int) -> Tuple[int, int]:\n",
    "        \"\"\"Return sample size and required number of clients.\"\"\"\n",
    "        num_clients = int(num_available_clients * self.fraction_fit)\n",
    "        return max(num_clients, self.min_fit_clients), self.min_available_clients\n",
    "\n",
    "    def num_evaluation_clients(self, num_available_clients: int) -> Tuple[int, int]:\n",
    "        \"\"\"Use a fraction of available clients for evaluation.\"\"\"\n",
    "        num_clients = int(num_available_clients * self.fraction_evaluate)\n",
    "        return max(num_clients, self.min_evaluate_clients), self.min_available_clients"
   ]
  },
  {
   "cell_type": "code",
   "execution_count": 9,
   "metadata": {},
   "outputs": [],
   "source": [
    "class FlowerClient(fl.client.NumPyClient):\n",
    "    def __init__(self, cid, model, trainloader, valloader, max_epochs):\n",
    "        self.cid = cid\n",
    "        self.model = model\n",
    "        self.trainloader = trainloader\n",
    "        self.valloader = valloader\n",
    "        self.max_epochs = max_epochs\n",
    "\n",
    "    def get_parameters(self, config):\n",
    "        print(f\"[Client {self.cid}] get_parameters\")\n",
    "        return get_parameters(self.model)\n",
    "\n",
    "    def fit(self, parameters, config):\n",
    "        print(f\"[Client {self.cid}] fit, config: {config}\")\n",
    "        set_parameters(self.model, parameters)\n",
    "        print(\"Client parameters set\")\n",
    "        train(self.model, self.trainloader, epochs=self.max_epochs)\n",
    "        print(\"Training completed!\")\n",
    "        return get_parameters(self.model), len(self.trainloader), {}\n",
    "\n",
    "    def evaluate(self, parameters, config):\n",
    "        print(f\"[Client {self.cid}] evaluate, config: {config}\")\n",
    "        set_parameters(self.model, parameters)\n",
    "        loss, accuracy = test(self.model, self.valloader)\n",
    "        print(f\"Evaluation loss = {float(loss)} accuracy = {float(accuracy)}\")\n",
    "        return float(loss), len(self.valloader), {\"accuracy\": float(accuracy)}\n",
    "\n",
    "    \n",
    "import timm\n",
    "\n",
    "def create_pretrained_densenet(num_classes):\n",
    "    model = timm.create_model('swin_base_patch4_window7_224', pretrained=True, num_classes=2)\n",
    "    return model\n",
    "# def create_pretrained_densenet(num_classes):\n",
    "#     model = models.vit_b_16(pretrained=True)\n",
    "#     # Replace the classifier with a new one (the number of classes in your dataset)\n",
    "#     num_ftrs = model.classifier.in_features\n",
    "#     model.classifier = nn.Linear(num_ftrs, num_classes)\n",
    "#     return model\n",
    "\n",
    "\n",
    "\n",
    "def client_fn(cid) -> FlowerClient:\n",
    "    model = create_pretrained_densenet(num_classes)\n",
    "    model.to(device)\n",
    "\n",
    "    trainloader = trainloaders[int(cid)]\n",
    "    valloader = valloaders[int(cid)]\n",
    "\n",
    "    return FlowerClient(cid, model, trainloader, testloader, max_epochs)"
   ]
  },
  {
   "cell_type": "markdown",
   "metadata": {},
   "source": [
    "### Creating Flower Client"
   ]
  },
  {
   "cell_type": "code",
   "execution_count": 10,
   "metadata": {},
   "outputs": [],
   "source": [
    "def get_parameters(model) -> List[np.ndarray]:\n",
    "    listOfArray = [val.cpu().numpy() for _, val in model.state_dict().items()]\n",
    "    print(f\"Length of params: {len(listOfArray)}\")\n",
    "    return listOfArray\n",
    "\n",
    "def set_parameters(model, parameters: List[np.ndarray]):\n",
    "    print(f\"Updating parameters {len(parameters)}\")\n",
    "    \n",
    "    ord_dict = {}\n",
    "    # this is added for densenet parameters inconsistency.\n",
    "    for k, v, p in zip(model.state_dict().keys(), model.state_dict().values(), parameters):\n",
    "        try:\n",
    "            len(p)\n",
    "            ord_dict[k] = torch.Tensor(p)\n",
    "        except:\n",
    "#             print(f\"Value of V = {v}\")\n",
    "            ord_dict[k] = torch.Tensor(v)\n",
    "    \n",
    "#     params_dict = zip(model.state_dict().keys(), parameters)\n",
    "#     st_dict = OrderedDict({k: torch.Tensor(v) for k, v in params_dict})\n",
    "\n",
    "    st_dict = OrderedDict(ord_dict)\n",
    "    model.load_state_dict(st_dict, strict=True)\n",
    "    print(\"Setting parameters...\")"
   ]
  },
  {
   "cell_type": "code",
   "execution_count": 11,
   "metadata": {
    "scrolled": true
   },
   "outputs": [
    {
     "name": "stderr",
     "output_type": "stream",
     "text": [
      "\u001b[92mINFO \u001b[0m:      Starting Flower simulation, config: num_rounds=5, no round_timeout\n",
      "2024-07-12 12:57:10,366\tINFO worker.py:1752 -- Started a local Ray instance.\n",
      "\u001b[92mINFO \u001b[0m:      Flower VCE: Ray initialized with resources: {'GPU': 1.0, 'accelerator_type:V100': 1.0, 'object_store_memory': 200000000000.0, 'memory': 1362342280192.0, 'CPU': 96.0, 'node:10.128.0.31': 1.0, 'node:__internal_head__': 1.0}\n",
      "\u001b[92mINFO \u001b[0m:      Optimize your simulation with Flower VCE: https://flower.ai/docs/framework/how-to-run-simulations.html\n",
      "/tmp/ipykernel_4123866/24281487.py:29: UserWarning: No `num_cpus` specified in `client_resources`. Using `num_cpus=1` for each client.\n",
      "  history = fl.simulation.start_simulation(\n",
      "\u001b[92mINFO \u001b[0m:      Flower VCE: Resources for each Virtual Client: {'num_gpus': 1, 'num_cpus': 1}\n",
      "\u001b[92mINFO \u001b[0m:      Flower VCE: Creating VirtualClientEngineActorPool with 1 actors\n",
      "\u001b[92mINFO \u001b[0m:      [INIT]\n",
      "\u001b[36m(pid=4132010)\u001b[0m 2024-07-12 12:57:36.430031: W tensorflow/compiler/tf2tensorrt/utils/py_utils.cc:38] TF-TRT Warning: Could not find TensorRT\n"
     ]
    },
    {
     "name": "stdout",
     "output_type": "stream",
     "text": [
      "Length of params: 329\n"
     ]
    },
    {
     "name": "stderr",
     "output_type": "stream",
     "text": [
      "\u001b[92mINFO \u001b[0m:      Using initial global parameters provided by strategy\n",
      "\u001b[92mINFO \u001b[0m:      Evaluating initial global parameters\n"
     ]
    },
    {
     "name": "stdout",
     "output_type": "stream",
     "text": [
      "Evaluating global model\n",
      "Updating parameters 329\n",
      "Setting parameters...\n",
      "Parameter set\n",
      "Starting client validation...\n",
      "Validataion accuracy = 0.5333333333333333\n",
      "Global evaluation round 0 loss = 0.05143308738867442 accuracy = 0.5333333333333333\n"
     ]
    },
    {
     "name": "stderr",
     "output_type": "stream",
     "text": [
      "\u001b[92mINFO \u001b[0m:      initial parameters (loss, other metrics): 0.05143308738867442, {}\n",
      "\u001b[92mINFO \u001b[0m:      \n",
      "\u001b[92mINFO \u001b[0m:      [ROUND 1]\n",
      "\u001b[92mINFO \u001b[0m:      configure_fit: strategy sampled 10 clients (out of 10)\n"
     ]
    },
    {
     "name": "stdout",
     "output_type": "stream",
     "text": [
      "Model saved at ./fl_checkpointsswintransformer_e5_c10_r5_1/fl_densenet_0.pth\n",
      "Starting configure fit function...\n",
      "Sample size = 10 Min Num Clients = 2 Clients = [<flwr.simulation.ray_transport.ray_client_proxy.RayActorClientProxy object at 0x155491d76d50>, <flwr.simulation.ray_transport.ray_client_proxy.RayActorClientProxy object at 0x155491d76c50>, <flwr.simulation.ray_transport.ray_client_proxy.RayActorClientProxy object at 0x155491d76510>, <flwr.simulation.ray_transport.ray_client_proxy.RayActorClientProxy object at 0x155491d76910>, <flwr.simulation.ray_transport.ray_client_proxy.RayActorClientProxy object at 0x155491d76dd0>, <flwr.simulation.ray_transport.ray_client_proxy.RayActorClientProxy object at 0x155491d76610>, <flwr.simulation.ray_transport.ray_client_proxy.RayActorClientProxy object at 0x155491d76cd0>, <flwr.simulation.ray_transport.ray_client_proxy.RayActorClientProxy object at 0x155491d76b90>, <flwr.simulation.ray_transport.ray_client_proxy.RayActorClientProxy object at 0x155491d76e50>, <flwr.simulation.ray_transport.ray_client_proxy.RayActorClientProxy object at 0x155491d76bd0>]\n",
      "Number of clients = 10\n",
      "Fit Configurations\n"
     ]
    },
    {
     "name": "stderr",
     "output_type": "stream",
     "text": [
      "\u001b[36m(ClientAppActor pid=4132010)\u001b[0m \u001b[93mWARNING \u001b[0m:   Deprecation Warning: The `client_fn` function must return an instance of `Client`, but an instance of `NumpyClient` was returned. Please use `NumPyClient.to_client()` method to convert it to `Client`.\n"
     ]
    },
    {
     "name": "stdout",
     "output_type": "stream",
     "text": [
      "\u001b[36m(ClientAppActor pid=4132010)\u001b[0m [Client 7] fit, config: {'lr': 0.001}\n",
      "\u001b[36m(ClientAppActor pid=4132010)\u001b[0m Updating parameters 329\n",
      "\u001b[36m(ClientAppActor pid=4132010)\u001b[0m Setting parameters...\n",
      "\u001b[36m(ClientAppActor pid=4132010)\u001b[0m Client parameters set\n",
      "\u001b[36m(ClientAppActor pid=4132010)\u001b[0m Starting client training...\n",
      "\u001b[36m(ClientAppActor pid=4132010)\u001b[0m Running epoch 0/5\n",
      "\u001b[36m(ClientAppActor pid=4132010)\u001b[0m Epoch 1: train loss 0.7654025570342415, accuracy 0.5789473684210527\n",
      "\u001b[36m(ClientAppActor pid=4132010)\u001b[0m Running epoch 1/5\n",
      "\u001b[36m(ClientAppActor pid=4132010)\u001b[0m Epoch 2: train loss 0.2879590748956329, accuracy 0.8421052631578947\n",
      "\u001b[36m(ClientAppActor pid=4132010)\u001b[0m Running epoch 2/5\n",
      "\u001b[36m(ClientAppActor pid=4132010)\u001b[0m Epoch 3: train loss 0.12297746460688741, accuracy 1.0\n",
      "\u001b[36m(ClientAppActor pid=4132010)\u001b[0m Running epoch 3/5\n",
      "\u001b[36m(ClientAppActor pid=4132010)\u001b[0m Epoch 4: train loss 0.040302448673173785, accuracy 1.0\n",
      "\u001b[36m(ClientAppActor pid=4132010)\u001b[0m Running epoch 4/5\n",
      "\u001b[36m(ClientAppActor pid=4132010)\u001b[0m Epoch 5: train loss 0.0075475832533189345, accuracy 1.0\n",
      "\u001b[36m(ClientAppActor pid=4132010)\u001b[0m Training completed!\n",
      "\u001b[36m(ClientAppActor pid=4132010)\u001b[0m Length of params: 329\n"
     ]
    },
    {
     "name": "stderr",
     "output_type": "stream",
     "text": [
      "\u001b[36m(ClientAppActor pid=4132010)\u001b[0m \u001b[93mWARNING \u001b[0m:   Deprecation Warning: The `client_fn` function must return an instance of `Client`, but an instance of `NumpyClient` was returned. Please use `NumPyClient.to_client()` method to convert it to `Client`.\n"
     ]
    },
    {
     "name": "stdout",
     "output_type": "stream",
     "text": [
      "\u001b[36m(ClientAppActor pid=4132010)\u001b[0m [Client 5] fit, config: {'lr': 0.001}\n",
      "\u001b[36m(ClientAppActor pid=4132010)\u001b[0m Updating parameters 329\n",
      "\u001b[36m(ClientAppActor pid=4132010)\u001b[0m Setting parameters...\n",
      "\u001b[36m(ClientAppActor pid=4132010)\u001b[0m Client parameters set\n",
      "\u001b[36m(ClientAppActor pid=4132010)\u001b[0m Starting client training...\n",
      "\u001b[36m(ClientAppActor pid=4132010)\u001b[0m Running epoch 0/5\n",
      "\u001b[36m(ClientAppActor pid=4132010)\u001b[0m Epoch 1: train loss 0.7207869103080348, accuracy 0.5789473684210527\n",
      "\u001b[36m(ClientAppActor pid=4132010)\u001b[0m Running epoch 1/5\n",
      "\u001b[36m(ClientAppActor pid=4132010)\u001b[0m Epoch 2: train loss 0.23062992095947266, accuracy 0.9473684210526315\n",
      "\u001b[36m(ClientAppActor pid=4132010)\u001b[0m Running epoch 2/5\n",
      "\u001b[36m(ClientAppActor pid=4132010)\u001b[0m Epoch 3: train loss 0.13707279453152105, accuracy 0.9473684210526315\n",
      "\u001b[36m(ClientAppActor pid=4132010)\u001b[0m Running epoch 3/5\n",
      "\u001b[36m(ClientAppActor pid=4132010)\u001b[0m Epoch 4: train loss 0.011986101536374343, accuracy 1.0\n",
      "\u001b[36m(ClientAppActor pid=4132010)\u001b[0m Running epoch 4/5\n",
      "\u001b[36m(ClientAppActor pid=4132010)\u001b[0m Epoch 5: train loss 0.0032637241468029586, accuracy 1.0\n",
      "\u001b[36m(ClientAppActor pid=4132010)\u001b[0m Training completed!\n",
      "\u001b[36m(ClientAppActor pid=4132010)\u001b[0m Length of params: 329\n"
     ]
    },
    {
     "name": "stderr",
     "output_type": "stream",
     "text": [
      "\u001b[36m(ClientAppActor pid=4132010)\u001b[0m \u001b[93mWARNING \u001b[0m:   Deprecation Warning: The `client_fn` function must return an instance of `Client`, but an instance of `NumpyClient` was returned. Please use `NumPyClient.to_client()` method to convert it to `Client`.\n"
     ]
    },
    {
     "name": "stdout",
     "output_type": "stream",
     "text": [
      "\u001b[36m(ClientAppActor pid=4132010)\u001b[0m [Client 0] fit, config: {'lr': 0.001}\n",
      "\u001b[36m(ClientAppActor pid=4132010)\u001b[0m Updating parameters 329\n",
      "\u001b[36m(ClientAppActor pid=4132010)\u001b[0m Setting parameters...\n",
      "\u001b[36m(ClientAppActor pid=4132010)\u001b[0m Client parameters set\n",
      "\u001b[36m(ClientAppActor pid=4132010)\u001b[0m Starting client training...\n",
      "\u001b[36m(ClientAppActor pid=4132010)\u001b[0m Running epoch 0/5\n",
      "\u001b[36m(ClientAppActor pid=4132010)\u001b[0m Epoch 1: train loss 0.666638234728261, accuracy 0.631578947368421\n",
      "\u001b[36m(ClientAppActor pid=4132010)\u001b[0m Running epoch 1/5\n",
      "\u001b[36m(ClientAppActor pid=4132010)\u001b[0m Epoch 2: train loss 0.16818727513677195, accuracy 0.9473684210526315\n",
      "\u001b[36m(ClientAppActor pid=4132010)\u001b[0m Running epoch 2/5\n",
      "\u001b[36m(ClientAppActor pid=4132010)\u001b[0m Epoch 3: train loss 0.06509053239010666, accuracy 0.9473684210526315\n",
      "\u001b[36m(ClientAppActor pid=4132010)\u001b[0m Running epoch 3/5\n",
      "\u001b[36m(ClientAppActor pid=4132010)\u001b[0m Epoch 4: train loss 0.005105224695350779, accuracy 1.0\n",
      "\u001b[36m(ClientAppActor pid=4132010)\u001b[0m Running epoch 4/5\n",
      "\u001b[36m(ClientAppActor pid=4132010)\u001b[0m Epoch 5: train loss 0.003649934721914561, accuracy 1.0\n",
      "\u001b[36m(ClientAppActor pid=4132010)\u001b[0m Training completed!\n",
      "\u001b[36m(ClientAppActor pid=4132010)\u001b[0m Length of params: 329\n"
     ]
    },
    {
     "name": "stderr",
     "output_type": "stream",
     "text": [
      "\u001b[36m(ClientAppActor pid=4132010)\u001b[0m \u001b[93mWARNING \u001b[0m:   Deprecation Warning: The `client_fn` function must return an instance of `Client`, but an instance of `NumpyClient` was returned. Please use `NumPyClient.to_client()` method to convert it to `Client`.\n"
     ]
    },
    {
     "name": "stdout",
     "output_type": "stream",
     "text": [
      "\u001b[36m(ClientAppActor pid=4132010)\u001b[0m [Client 2] fit, config: {'lr': 0.001}\n",
      "\u001b[36m(ClientAppActor pid=4132010)\u001b[0m Updating parameters 329\n",
      "\u001b[36m(ClientAppActor pid=4132010)\u001b[0m Setting parameters...\n",
      "\u001b[36m(ClientAppActor pid=4132010)\u001b[0m Client parameters set\n",
      "\u001b[36m(ClientAppActor pid=4132010)\u001b[0m Starting client training...\n",
      "\u001b[36m(ClientAppActor pid=4132010)\u001b[0m Running epoch 0/5\n",
      "\u001b[36m(ClientAppActor pid=4132010)\u001b[0m Epoch 1: train loss 0.6702380399954947, accuracy 0.6842105263157895\n",
      "\u001b[36m(ClientAppActor pid=4132010)\u001b[0m Running epoch 1/5\n",
      "\u001b[36m(ClientAppActor pid=4132010)\u001b[0m Epoch 2: train loss 0.30633569234295893, accuracy 0.9473684210526315\n",
      "\u001b[36m(ClientAppActor pid=4132010)\u001b[0m Running epoch 2/5\n",
      "\u001b[36m(ClientAppActor pid=4132010)\u001b[0m Epoch 3: train loss 0.11767381390458659, accuracy 1.0\n",
      "\u001b[36m(ClientAppActor pid=4132010)\u001b[0m Running epoch 3/5\n",
      "\u001b[36m(ClientAppActor pid=4132010)\u001b[0m Epoch 4: train loss 0.12619135626836828, accuracy 0.8947368421052632\n",
      "\u001b[36m(ClientAppActor pid=4132010)\u001b[0m Running epoch 4/5\n",
      "\u001b[36m(ClientAppActor pid=4132010)\u001b[0m Epoch 5: train loss 0.020712708662215033, accuracy 1.0\n",
      "\u001b[36m(ClientAppActor pid=4132010)\u001b[0m Training completed!\n",
      "\u001b[36m(ClientAppActor pid=4132010)\u001b[0m Length of params: 329\n"
     ]
    },
    {
     "name": "stderr",
     "output_type": "stream",
     "text": [
      "\u001b[36m(ClientAppActor pid=4132010)\u001b[0m \u001b[93mWARNING \u001b[0m:   Deprecation Warning: The `client_fn` function must return an instance of `Client`, but an instance of `NumpyClient` was returned. Please use `NumPyClient.to_client()` method to convert it to `Client`.\n"
     ]
    },
    {
     "name": "stdout",
     "output_type": "stream",
     "text": [
      "\u001b[36m(ClientAppActor pid=4132010)\u001b[0m [Client 8] fit, config: {'lr': 0.001}\n",
      "\u001b[36m(ClientAppActor pid=4132010)\u001b[0m Updating parameters 329\n",
      "\u001b[36m(ClientAppActor pid=4132010)\u001b[0m Setting parameters...\n",
      "\u001b[36m(ClientAppActor pid=4132010)\u001b[0m Client parameters set\n",
      "\u001b[36m(ClientAppActor pid=4132010)\u001b[0m Starting client training...\n",
      "\u001b[36m(ClientAppActor pid=4132010)\u001b[0m Running epoch 0/5\n",
      "\u001b[36m(ClientAppActor pid=4132010)\u001b[0m Epoch 1: train loss 0.7493942317209745, accuracy 0.5789473684210527\n",
      "\u001b[36m(ClientAppActor pid=4132010)\u001b[0m Running epoch 1/5\n",
      "\u001b[36m(ClientAppActor pid=4132010)\u001b[0m Epoch 2: train loss 0.3092745119019559, accuracy 0.8947368421052632\n",
      "\u001b[36m(ClientAppActor pid=4132010)\u001b[0m Running epoch 2/5\n",
      "\u001b[36m(ClientAppActor pid=4132010)\u001b[0m Epoch 3: train loss 0.16898363985513387, accuracy 0.9473684210526315\n",
      "\u001b[36m(ClientAppActor pid=4132010)\u001b[0m Running epoch 3/5\n",
      "\u001b[36m(ClientAppActor pid=4132010)\u001b[0m Epoch 4: train loss 0.09002454578876495, accuracy 1.0\n",
      "\u001b[36m(ClientAppActor pid=4132010)\u001b[0m Running epoch 4/5\n",
      "\u001b[36m(ClientAppActor pid=4132010)\u001b[0m Epoch 5: train loss 0.02635392353036686, accuracy 1.0\n",
      "\u001b[36m(ClientAppActor pid=4132010)\u001b[0m Training completed!\n",
      "\u001b[36m(ClientAppActor pid=4132010)\u001b[0m Length of params: 329\n"
     ]
    },
    {
     "name": "stderr",
     "output_type": "stream",
     "text": [
      "\u001b[36m(ClientAppActor pid=4132010)\u001b[0m \u001b[93mWARNING \u001b[0m:   Deprecation Warning: The `client_fn` function must return an instance of `Client`, but an instance of `NumpyClient` was returned. Please use `NumPyClient.to_client()` method to convert it to `Client`.\n"
     ]
    },
    {
     "name": "stdout",
     "output_type": "stream",
     "text": [
      "\u001b[36m(ClientAppActor pid=4132010)\u001b[0m [Client 1] fit, config: {'lr': 0.003}\n",
      "\u001b[36m(ClientAppActor pid=4132010)\u001b[0m Updating parameters 329\n",
      "\u001b[36m(ClientAppActor pid=4132010)\u001b[0m Setting parameters...\n",
      "\u001b[36m(ClientAppActor pid=4132010)\u001b[0m Client parameters set\n",
      "\u001b[36m(ClientAppActor pid=4132010)\u001b[0m Starting client training...\n",
      "\u001b[36m(ClientAppActor pid=4132010)\u001b[0m Running epoch 0/5\n",
      "\u001b[36m(ClientAppActor pid=4132010)\u001b[0m Epoch 1: train loss 0.7438123477132697, accuracy 0.5263157894736842\n",
      "\u001b[36m(ClientAppActor pid=4132010)\u001b[0m Running epoch 1/5\n",
      "\u001b[36m(ClientAppActor pid=4132010)\u001b[0m Epoch 2: train loss 0.3551662344681589, accuracy 0.8947368421052632\n",
      "\u001b[36m(ClientAppActor pid=4132010)\u001b[0m Running epoch 2/5\n",
      "\u001b[36m(ClientAppActor pid=4132010)\u001b[0m Epoch 3: train loss 0.18181421294024117, accuracy 1.0\n",
      "\u001b[36m(ClientAppActor pid=4132010)\u001b[0m Running epoch 3/5\n",
      "\u001b[36m(ClientAppActor pid=4132010)\u001b[0m Epoch 4: train loss 0.10186235685097544, accuracy 0.9473684210526315\n",
      "\u001b[36m(ClientAppActor pid=4132010)\u001b[0m Running epoch 4/5\n",
      "\u001b[36m(ClientAppActor pid=4132010)\u001b[0m Epoch 5: train loss 0.01787686457024201, accuracy 1.0\n",
      "\u001b[36m(ClientAppActor pid=4132010)\u001b[0m Training completed!\n",
      "\u001b[36m(ClientAppActor pid=4132010)\u001b[0m Length of params: 329\n"
     ]
    },
    {
     "name": "stderr",
     "output_type": "stream",
     "text": [
      "\u001b[36m(ClientAppActor pid=4132010)\u001b[0m \u001b[93mWARNING \u001b[0m:   Deprecation Warning: The `client_fn` function must return an instance of `Client`, but an instance of `NumpyClient` was returned. Please use `NumPyClient.to_client()` method to convert it to `Client`.\n"
     ]
    },
    {
     "name": "stdout",
     "output_type": "stream",
     "text": [
      "\u001b[36m(ClientAppActor pid=4132010)\u001b[0m [Client 6] fit, config: {'lr': 0.003}\n",
      "\u001b[36m(ClientAppActor pid=4132010)\u001b[0m Updating parameters 329\n",
      "\u001b[36m(ClientAppActor pid=4132010)\u001b[0m Setting parameters...\n",
      "\u001b[36m(ClientAppActor pid=4132010)\u001b[0m Client parameters set\n",
      "\u001b[36m(ClientAppActor pid=4132010)\u001b[0m Starting client training...\n",
      "\u001b[36m(ClientAppActor pid=4132010)\u001b[0m Running epoch 0/5\n",
      "\u001b[36m(ClientAppActor pid=4132010)\u001b[0m Epoch 1: train loss 0.8776841665569105, accuracy 0.42105263157894735\n",
      "\u001b[36m(ClientAppActor pid=4132010)\u001b[0m Running epoch 1/5\n",
      "\u001b[36m(ClientAppActor pid=4132010)\u001b[0m Epoch 2: train loss 0.35307079710458456, accuracy 0.8947368421052632\n",
      "\u001b[36m(ClientAppActor pid=4132010)\u001b[0m Running epoch 2/5\n",
      "\u001b[36m(ClientAppActor pid=4132010)\u001b[0m Epoch 3: train loss 0.3458123575209787, accuracy 0.7894736842105263\n",
      "\u001b[36m(ClientAppActor pid=4132010)\u001b[0m Running epoch 3/5\n",
      "\u001b[36m(ClientAppActor pid=4132010)\u001b[0m Epoch 4: train loss 0.1438113500021006, accuracy 0.9473684210526315\n",
      "\u001b[36m(ClientAppActor pid=4132010)\u001b[0m Running epoch 4/5\n",
      "\u001b[36m(ClientAppActor pid=4132010)\u001b[0m Epoch 5: train loss 0.06449965309155614, accuracy 1.0\n",
      "\u001b[36m(ClientAppActor pid=4132010)\u001b[0m Training completed!\n",
      "\u001b[36m(ClientAppActor pid=4132010)\u001b[0m Length of params: 329\n"
     ]
    },
    {
     "name": "stderr",
     "output_type": "stream",
     "text": [
      "\u001b[36m(ClientAppActor pid=4132010)\u001b[0m \u001b[93mWARNING \u001b[0m:   Deprecation Warning: The `client_fn` function must return an instance of `Client`, but an instance of `NumpyClient` was returned. Please use `NumPyClient.to_client()` method to convert it to `Client`.\n"
     ]
    },
    {
     "name": "stdout",
     "output_type": "stream",
     "text": [
      "\u001b[36m(ClientAppActor pid=4132010)\u001b[0m [Client 3] fit, config: {'lr': 0.003}\n",
      "\u001b[36m(ClientAppActor pid=4132010)\u001b[0m Updating parameters 329\n",
      "\u001b[36m(ClientAppActor pid=4132010)\u001b[0m Setting parameters...\n",
      "\u001b[36m(ClientAppActor pid=4132010)\u001b[0m Client parameters set\n",
      "\u001b[36m(ClientAppActor pid=4132010)\u001b[0m Starting client training...\n",
      "\u001b[36m(ClientAppActor pid=4132010)\u001b[0m Running epoch 0/5\n",
      "\u001b[36m(ClientAppActor pid=4132010)\u001b[0m Epoch 1: train loss 0.9068373755404824, accuracy 0.3684210526315789\n",
      "\u001b[36m(ClientAppActor pid=4132010)\u001b[0m Running epoch 1/5\n",
      "\u001b[36m(ClientAppActor pid=4132010)\u001b[0m Epoch 2: train loss 0.4977409769045679, accuracy 0.6842105263157895\n",
      "\u001b[36m(ClientAppActor pid=4132010)\u001b[0m Running epoch 2/5\n",
      "\u001b[36m(ClientAppActor pid=4132010)\u001b[0m Epoch 3: train loss 0.2065486656992059, accuracy 0.9473684210526315\n",
      "\u001b[36m(ClientAppActor pid=4132010)\u001b[0m Running epoch 3/5\n",
      "\u001b[36m(ClientAppActor pid=4132010)\u001b[0m Epoch 4: train loss 0.06609432085564262, accuracy 1.0\n",
      "\u001b[36m(ClientAppActor pid=4132010)\u001b[0m Running epoch 4/5\n",
      "\u001b[36m(ClientAppActor pid=4132010)\u001b[0m Epoch 5: train loss 0.100254509009813, accuracy 1.0\n",
      "\u001b[36m(ClientAppActor pid=4132010)\u001b[0m Training completed!\n",
      "\u001b[36m(ClientAppActor pid=4132010)\u001b[0m Length of params: 329\n"
     ]
    },
    {
     "name": "stderr",
     "output_type": "stream",
     "text": [
      "\u001b[36m(ClientAppActor pid=4132010)\u001b[0m \u001b[93mWARNING \u001b[0m:   Deprecation Warning: The `client_fn` function must return an instance of `Client`, but an instance of `NumpyClient` was returned. Please use `NumPyClient.to_client()` method to convert it to `Client`.\n"
     ]
    },
    {
     "name": "stdout",
     "output_type": "stream",
     "text": [
      "\u001b[36m(ClientAppActor pid=4132010)\u001b[0m [Client 9] fit, config: {'lr': 0.003}\n",
      "\u001b[36m(ClientAppActor pid=4132010)\u001b[0m Updating parameters 329\n",
      "\u001b[36m(ClientAppActor pid=4132010)\u001b[0m Setting parameters...\n",
      "\u001b[36m(ClientAppActor pid=4132010)\u001b[0m Client parameters set\n",
      "\u001b[36m(ClientAppActor pid=4132010)\u001b[0m Starting client training...\n",
      "\u001b[36m(ClientAppActor pid=4132010)\u001b[0m Running epoch 0/5\n",
      "\u001b[36m(ClientAppActor pid=4132010)\u001b[0m Epoch 1: train loss 0.996819486618042, accuracy 0.36\n",
      "\u001b[36m(ClientAppActor pid=4132010)\u001b[0m Running epoch 1/5\n",
      "\u001b[36m(ClientAppActor pid=4132010)\u001b[0m Epoch 2: train loss 0.5331909787654877, accuracy 0.68\n",
      "\u001b[36m(ClientAppActor pid=4132010)\u001b[0m Running epoch 2/5\n",
      "\u001b[36m(ClientAppActor pid=4132010)\u001b[0m Epoch 3: train loss 0.3644600212574005, accuracy 0.96\n",
      "\u001b[36m(ClientAppActor pid=4132010)\u001b[0m Running epoch 3/5\n",
      "\u001b[36m(ClientAppActor pid=4132010)\u001b[0m Epoch 4: train loss 0.2549288022518158, accuracy 0.92\n",
      "\u001b[36m(ClientAppActor pid=4132010)\u001b[0m Running epoch 4/5\n",
      "\u001b[36m(ClientAppActor pid=4132010)\u001b[0m Epoch 5: train loss 0.1419653832912445, accuracy 1.0\n",
      "\u001b[36m(ClientAppActor pid=4132010)\u001b[0m Training completed!\n",
      "\u001b[36m(ClientAppActor pid=4132010)\u001b[0m Length of params: 329\n"
     ]
    },
    {
     "name": "stderr",
     "output_type": "stream",
     "text": [
      "\u001b[36m(ClientAppActor pid=4132010)\u001b[0m \u001b[93mWARNING \u001b[0m:   Deprecation Warning: The `client_fn` function must return an instance of `Client`, but an instance of `NumpyClient` was returned. Please use `NumPyClient.to_client()` method to convert it to `Client`.\n"
     ]
    },
    {
     "name": "stdout",
     "output_type": "stream",
     "text": [
      "\u001b[36m(ClientAppActor pid=4132010)\u001b[0m [Client 4] fit, config: {'lr': 0.003}\n",
      "\u001b[36m(ClientAppActor pid=4132010)\u001b[0m Updating parameters 329\n",
      "\u001b[36m(ClientAppActor pid=4132010)\u001b[0m Setting parameters...\n",
      "\u001b[36m(ClientAppActor pid=4132010)\u001b[0m Client parameters set\n",
      "\u001b[36m(ClientAppActor pid=4132010)\u001b[0m Starting client training...\n",
      "\u001b[36m(ClientAppActor pid=4132010)\u001b[0m Running epoch 0/5\n",
      "\u001b[36m(ClientAppActor pid=4132010)\u001b[0m Epoch 1: train loss 0.6465202409185862, accuracy 0.7368421052631579\n",
      "\u001b[36m(ClientAppActor pid=4132010)\u001b[0m Running epoch 1/5\n",
      "\u001b[36m(ClientAppActor pid=4132010)\u001b[0m Epoch 2: train loss 0.3000343253738002, accuracy 0.7368421052631579\n",
      "\u001b[36m(ClientAppActor pid=4132010)\u001b[0m Running epoch 2/5\n",
      "\u001b[36m(ClientAppActor pid=4132010)\u001b[0m Epoch 3: train loss 0.14114121935869517, accuracy 0.9473684210526315\n",
      "\u001b[36m(ClientAppActor pid=4132010)\u001b[0m Running epoch 3/5\n",
      "\u001b[36m(ClientAppActor pid=4132010)\u001b[0m Epoch 4: train loss 0.02787505739711617, accuracy 1.0\n",
      "\u001b[36m(ClientAppActor pid=4132010)\u001b[0m Running epoch 4/5\n",
      "\u001b[36m(ClientAppActor pid=4132010)\u001b[0m Epoch 5: train loss 0.00636533914918178, accuracy 1.0\n",
      "\u001b[36m(ClientAppActor pid=4132010)\u001b[0m Training completed!\n",
      "\u001b[36m(ClientAppActor pid=4132010)\u001b[0m Length of params: 329\n"
     ]
    },
    {
     "name": "stderr",
     "output_type": "stream",
     "text": [
      "\u001b[92mINFO \u001b[0m:      aggregate_fit: received 10 results and 0 failures\n"
     ]
    },
    {
     "name": "stdout",
     "output_type": "stream",
     "text": [
      "Evaluating global model\n",
      "Updating parameters 329\n",
      "Setting parameters...\n",
      "Parameter set\n",
      "Starting client validation...\n",
      "Validataion accuracy = 0.8666666666666667\n",
      "Global evaluation round 1 loss = 0.03231253108630578 accuracy = 0.8666666666666667\n"
     ]
    },
    {
     "name": "stderr",
     "output_type": "stream",
     "text": [
      "\u001b[92mINFO \u001b[0m:      fit progress: (1, 0.03231253108630578, {}, 475.8219316820614)\n",
      "\u001b[92mINFO \u001b[0m:      configure_evaluate: strategy sampled 10 clients (out of 10)\n"
     ]
    },
    {
     "name": "stdout",
     "output_type": "stream",
     "text": [
      "Model saved at ./fl_checkpointsswintransformer_e5_c10_r5_1/fl_densenet_1.pth\n"
     ]
    },
    {
     "name": "stderr",
     "output_type": "stream",
     "text": [
      "\u001b[36m(ClientAppActor pid=4132010)\u001b[0m \u001b[93mWARNING \u001b[0m:   Deprecation Warning: The `client_fn` function must return an instance of `Client`, but an instance of `NumpyClient` was returned. Please use `NumPyClient.to_client()` method to convert it to `Client`.\n"
     ]
    },
    {
     "name": "stdout",
     "output_type": "stream",
     "text": [
      "\u001b[36m(ClientAppActor pid=4132010)\u001b[0m [Client 7] evaluate, config: {}\n",
      "\u001b[36m(ClientAppActor pid=4132010)\u001b[0m Updating parameters 329\n",
      "\u001b[36m(ClientAppActor pid=4132010)\u001b[0m Setting parameters...\n",
      "\u001b[36m(ClientAppActor pid=4132010)\u001b[0m Starting client validation...\n",
      "\u001b[36m(ClientAppActor pid=4132010)\u001b[0m Validataion accuracy = 0.8666666666666667\n",
      "\u001b[36m(ClientAppActor pid=4132010)\u001b[0m Evaluation loss = 0.03231253108630578 accuracy = 0.8666666666666667\n"
     ]
    },
    {
     "name": "stderr",
     "output_type": "stream",
     "text": [
      "\u001b[36m(ClientAppActor pid=4132010)\u001b[0m \u001b[93mWARNING \u001b[0m:   Deprecation Warning: The `client_fn` function must return an instance of `Client`, but an instance of `NumpyClient` was returned. Please use `NumPyClient.to_client()` method to convert it to `Client`.\n"
     ]
    },
    {
     "name": "stdout",
     "output_type": "stream",
     "text": [
      "\u001b[36m(ClientAppActor pid=4132010)\u001b[0m [Client 8] evaluate, config: {}\n",
      "\u001b[36m(ClientAppActor pid=4132010)\u001b[0m Updating parameters 329\n",
      "\u001b[36m(ClientAppActor pid=4132010)\u001b[0m Setting parameters...\n",
      "\u001b[36m(ClientAppActor pid=4132010)\u001b[0m Starting client validation...\n",
      "\u001b[36m(ClientAppActor pid=4132010)\u001b[0m Validataion accuracy = 0.8666666666666667\n",
      "\u001b[36m(ClientAppActor pid=4132010)\u001b[0m Evaluation loss = 0.03231253108630578 accuracy = 0.8666666666666667\n"
     ]
    },
    {
     "name": "stderr",
     "output_type": "stream",
     "text": [
      "\u001b[36m(ClientAppActor pid=4132010)\u001b[0m \u001b[93mWARNING \u001b[0m:   Deprecation Warning: The `client_fn` function must return an instance of `Client`, but an instance of `NumpyClient` was returned. Please use `NumPyClient.to_client()` method to convert it to `Client`.\n"
     ]
    },
    {
     "name": "stdout",
     "output_type": "stream",
     "text": [
      "\u001b[36m(ClientAppActor pid=4132010)\u001b[0m [Client 1] evaluate, config: {}\n",
      "\u001b[36m(ClientAppActor pid=4132010)\u001b[0m Updating parameters 329\n",
      "\u001b[36m(ClientAppActor pid=4132010)\u001b[0m Setting parameters...\n",
      "\u001b[36m(ClientAppActor pid=4132010)\u001b[0m Starting client validation...\n",
      "\u001b[36m(ClientAppActor pid=4132010)\u001b[0m Validataion accuracy = 0.8666666666666667\n",
      "\u001b[36m(ClientAppActor pid=4132010)\u001b[0m Evaluation loss = 0.03231253108630578 accuracy = 0.8666666666666667\n"
     ]
    },
    {
     "name": "stderr",
     "output_type": "stream",
     "text": [
      "\u001b[36m(ClientAppActor pid=4132010)\u001b[0m \u001b[93mWARNING \u001b[0m:   Deprecation Warning: The `client_fn` function must return an instance of `Client`, but an instance of `NumpyClient` was returned. Please use `NumPyClient.to_client()` method to convert it to `Client`.\n"
     ]
    },
    {
     "name": "stdout",
     "output_type": "stream",
     "text": [
      "\u001b[36m(ClientAppActor pid=4132010)\u001b[0m [Client 3] evaluate, config: {}\n",
      "\u001b[36m(ClientAppActor pid=4132010)\u001b[0m Updating parameters 329\n",
      "\u001b[36m(ClientAppActor pid=4132010)\u001b[0m Setting parameters...\n",
      "\u001b[36m(ClientAppActor pid=4132010)\u001b[0m Starting client validation...\n",
      "\u001b[36m(ClientAppActor pid=4132010)\u001b[0m Validataion accuracy = 0.8666666666666667\n",
      "\u001b[36m(ClientAppActor pid=4132010)\u001b[0m Evaluation loss = 0.03231253108630578 accuracy = 0.8666666666666667\n"
     ]
    },
    {
     "name": "stderr",
     "output_type": "stream",
     "text": [
      "\u001b[36m(ClientAppActor pid=4132010)\u001b[0m \u001b[93mWARNING \u001b[0m:   Deprecation Warning: The `client_fn` function must return an instance of `Client`, but an instance of `NumpyClient` was returned. Please use `NumPyClient.to_client()` method to convert it to `Client`.\n"
     ]
    },
    {
     "name": "stdout",
     "output_type": "stream",
     "text": [
      "\u001b[36m(ClientAppActor pid=4132010)\u001b[0m [Client 9] evaluate, config: {}\n",
      "\u001b[36m(ClientAppActor pid=4132010)\u001b[0m Updating parameters 329\n",
      "\u001b[36m(ClientAppActor pid=4132010)\u001b[0m Setting parameters...\n",
      "\u001b[36m(ClientAppActor pid=4132010)\u001b[0m Starting client validation...\n",
      "\u001b[36m(ClientAppActor pid=4132010)\u001b[0m Validataion accuracy = 0.8666666666666667\n",
      "\u001b[36m(ClientAppActor pid=4132010)\u001b[0m Evaluation loss = 0.03231253108630578 accuracy = 0.8666666666666667\n"
     ]
    },
    {
     "name": "stderr",
     "output_type": "stream",
     "text": [
      "\u001b[36m(ClientAppActor pid=4132010)\u001b[0m \u001b[93mWARNING \u001b[0m:   Deprecation Warning: The `client_fn` function must return an instance of `Client`, but an instance of `NumpyClient` was returned. Please use `NumPyClient.to_client()` method to convert it to `Client`.\n"
     ]
    },
    {
     "name": "stdout",
     "output_type": "stream",
     "text": [
      "\u001b[36m(ClientAppActor pid=4132010)\u001b[0m [Client 0] evaluate, config: {}\n",
      "\u001b[36m(ClientAppActor pid=4132010)\u001b[0m Updating parameters 329\n",
      "\u001b[36m(ClientAppActor pid=4132010)\u001b[0m Setting parameters...\n",
      "\u001b[36m(ClientAppActor pid=4132010)\u001b[0m Starting client validation...\n",
      "\u001b[36m(ClientAppActor pid=4132010)\u001b[0m Validataion accuracy = 0.8666666666666667\n",
      "\u001b[36m(ClientAppActor pid=4132010)\u001b[0m Evaluation loss = 0.03231253108630578 accuracy = 0.8666666666666667\n"
     ]
    },
    {
     "name": "stderr",
     "output_type": "stream",
     "text": [
      "\u001b[36m(ClientAppActor pid=4132010)\u001b[0m \u001b[93mWARNING \u001b[0m:   Deprecation Warning: The `client_fn` function must return an instance of `Client`, but an instance of `NumpyClient` was returned. Please use `NumPyClient.to_client()` method to convert it to `Client`.\n"
     ]
    },
    {
     "name": "stdout",
     "output_type": "stream",
     "text": [
      "\u001b[36m(ClientAppActor pid=4132010)\u001b[0m [Client 5] evaluate, config: {}\n",
      "\u001b[36m(ClientAppActor pid=4132010)\u001b[0m Updating parameters 329\n",
      "\u001b[36m(ClientAppActor pid=4132010)\u001b[0m Setting parameters...\n",
      "\u001b[36m(ClientAppActor pid=4132010)\u001b[0m Starting client validation...\n",
      "\u001b[36m(ClientAppActor pid=4132010)\u001b[0m Validataion accuracy = 0.8666666666666667\n",
      "\u001b[36m(ClientAppActor pid=4132010)\u001b[0m Evaluation loss = 0.03231253108630578 accuracy = 0.8666666666666667\n"
     ]
    },
    {
     "name": "stderr",
     "output_type": "stream",
     "text": [
      "\u001b[36m(ClientAppActor pid=4132010)\u001b[0m \u001b[93mWARNING \u001b[0m:   Deprecation Warning: The `client_fn` function must return an instance of `Client`, but an instance of `NumpyClient` was returned. Please use `NumPyClient.to_client()` method to convert it to `Client`.\n"
     ]
    },
    {
     "name": "stdout",
     "output_type": "stream",
     "text": [
      "\u001b[36m(ClientAppActor pid=4132010)\u001b[0m [Client 6] evaluate, config: {}\n",
      "\u001b[36m(ClientAppActor pid=4132010)\u001b[0m Updating parameters 329\n",
      "\u001b[36m(ClientAppActor pid=4132010)\u001b[0m Setting parameters...\n",
      "\u001b[36m(ClientAppActor pid=4132010)\u001b[0m Starting client validation...\n",
      "\u001b[36m(ClientAppActor pid=4132010)\u001b[0m Validataion accuracy = 0.8666666666666667\n",
      "\u001b[36m(ClientAppActor pid=4132010)\u001b[0m Evaluation loss = 0.03231253108630578 accuracy = 0.8666666666666667\n"
     ]
    },
    {
     "name": "stderr",
     "output_type": "stream",
     "text": [
      "\u001b[36m(ClientAppActor pid=4132010)\u001b[0m \u001b[93mWARNING \u001b[0m:   Deprecation Warning: The `client_fn` function must return an instance of `Client`, but an instance of `NumpyClient` was returned. Please use `NumPyClient.to_client()` method to convert it to `Client`.\n"
     ]
    },
    {
     "name": "stdout",
     "output_type": "stream",
     "text": [
      "\u001b[36m(ClientAppActor pid=4132010)\u001b[0m [Client 4] evaluate, config: {}\n",
      "\u001b[36m(ClientAppActor pid=4132010)\u001b[0m Updating parameters 329\n",
      "\u001b[36m(ClientAppActor pid=4132010)\u001b[0m Setting parameters...\n",
      "\u001b[36m(ClientAppActor pid=4132010)\u001b[0m Starting client validation...\n",
      "\u001b[36m(ClientAppActor pid=4132010)\u001b[0m Validataion accuracy = 0.8666666666666667\n",
      "\u001b[36m(ClientAppActor pid=4132010)\u001b[0m Evaluation loss = 0.03231253108630578 accuracy = 0.8666666666666667\n"
     ]
    },
    {
     "name": "stderr",
     "output_type": "stream",
     "text": [
      "\u001b[36m(ClientAppActor pid=4132010)\u001b[0m \u001b[93mWARNING \u001b[0m:   Deprecation Warning: The `client_fn` function must return an instance of `Client`, but an instance of `NumpyClient` was returned. Please use `NumPyClient.to_client()` method to convert it to `Client`.\n"
     ]
    },
    {
     "name": "stdout",
     "output_type": "stream",
     "text": [
      "\u001b[36m(ClientAppActor pid=4132010)\u001b[0m [Client 2] evaluate, config: {}\n",
      "\u001b[36m(ClientAppActor pid=4132010)\u001b[0m Updating parameters 329\n",
      "\u001b[36m(ClientAppActor pid=4132010)\u001b[0m Setting parameters...\n",
      "\u001b[36m(ClientAppActor pid=4132010)\u001b[0m Starting client validation...\n"
     ]
    },
    {
     "name": "stderr",
     "output_type": "stream",
     "text": [
      "\u001b[92mINFO \u001b[0m:      aggregate_evaluate: received 10 results and 0 failures\n",
      "\u001b[92mINFO \u001b[0m:      \n",
      "\u001b[92mINFO \u001b[0m:      [ROUND 2]\n",
      "\u001b[92mINFO \u001b[0m:      configure_fit: strategy sampled 10 clients (out of 10)\n"
     ]
    },
    {
     "name": "stdout",
     "output_type": "stream",
     "text": [
      "Starting configure fit function...\n",
      "Sample size = 10 Min Num Clients = 2 Clients = [<flwr.simulation.ray_transport.ray_client_proxy.RayActorClientProxy object at 0x155491d76e50>, <flwr.simulation.ray_transport.ray_client_proxy.RayActorClientProxy object at 0x155491d76b90>, <flwr.simulation.ray_transport.ray_client_proxy.RayActorClientProxy object at 0x155491d76c50>, <flwr.simulation.ray_transport.ray_client_proxy.RayActorClientProxy object at 0x155491d76610>, <flwr.simulation.ray_transport.ray_client_proxy.RayActorClientProxy object at 0x155491d76510>, <flwr.simulation.ray_transport.ray_client_proxy.RayActorClientProxy object at 0x155491d76cd0>, <flwr.simulation.ray_transport.ray_client_proxy.RayActorClientProxy object at 0x155491d76910>, <flwr.simulation.ray_transport.ray_client_proxy.RayActorClientProxy object at 0x155491d76d50>, <flwr.simulation.ray_transport.ray_client_proxy.RayActorClientProxy object at 0x155491d76bd0>, <flwr.simulation.ray_transport.ray_client_proxy.RayActorClientProxy object at 0x155491d76dd0>]\n",
      "Number of clients = 10\n",
      "Fit Configurations\n",
      "\u001b[36m(ClientAppActor pid=4132010)\u001b[0m Validataion accuracy = 0.8666666666666667\n",
      "\u001b[36m(ClientAppActor pid=4132010)\u001b[0m Evaluation loss = 0.03231253108630578 accuracy = 0.8666666666666667\n"
     ]
    },
    {
     "name": "stderr",
     "output_type": "stream",
     "text": [
      "\u001b[36m(ClientAppActor pid=4132010)\u001b[0m \u001b[93mWARNING \u001b[0m:   Deprecation Warning: The `client_fn` function must return an instance of `Client`, but an instance of `NumpyClient` was returned. Please use `NumPyClient.to_client()` method to convert it to `Client`.\n"
     ]
    },
    {
     "name": "stdout",
     "output_type": "stream",
     "text": [
      "\u001b[36m(ClientAppActor pid=4132010)\u001b[0m [Client 9] fit, config: {'lr': 0.001}\n",
      "\u001b[36m(ClientAppActor pid=4132010)\u001b[0m Updating parameters 329\n",
      "\u001b[36m(ClientAppActor pid=4132010)\u001b[0m Setting parameters...\n",
      "\u001b[36m(ClientAppActor pid=4132010)\u001b[0m Client parameters set\n",
      "\u001b[36m(ClientAppActor pid=4132010)\u001b[0m Starting client training...\n",
      "\u001b[36m(ClientAppActor pid=4132010)\u001b[0m Running epoch 0/5\n",
      "\u001b[36m(ClientAppActor pid=4132010)\u001b[0m Epoch 1: train loss 0.6976028966903687, accuracy 0.68\n",
      "\u001b[36m(ClientAppActor pid=4132010)\u001b[0m Running epoch 1/5\n",
      "\u001b[36m(ClientAppActor pid=4132010)\u001b[0m Epoch 2: train loss 0.2763266050815582, accuracy 0.92\n",
      "\u001b[36m(ClientAppActor pid=4132010)\u001b[0m Running epoch 2/5\n",
      "\u001b[36m(ClientAppActor pid=4132010)\u001b[0m Epoch 3: train loss 0.2585666143894196, accuracy 0.76\n",
      "\u001b[36m(ClientAppActor pid=4132010)\u001b[0m Running epoch 3/5\n",
      "\u001b[36m(ClientAppActor pid=4132010)\u001b[0m Epoch 4: train loss 0.11697137773036957, accuracy 1.0\n",
      "\u001b[36m(ClientAppActor pid=4132010)\u001b[0m Running epoch 4/5\n",
      "\u001b[36m(ClientAppActor pid=4132010)\u001b[0m Epoch 5: train loss 0.05236117631196976, accuracy 1.0\n",
      "\u001b[36m(ClientAppActor pid=4132010)\u001b[0m Training completed!\n",
      "\u001b[36m(ClientAppActor pid=4132010)\u001b[0m Length of params: 329\n"
     ]
    },
    {
     "name": "stderr",
     "output_type": "stream",
     "text": [
      "\u001b[36m(ClientAppActor pid=4132010)\u001b[0m \u001b[93mWARNING \u001b[0m:   Deprecation Warning: The `client_fn` function must return an instance of `Client`, but an instance of `NumpyClient` was returned. Please use `NumPyClient.to_client()` method to convert it to `Client`.\n"
     ]
    },
    {
     "name": "stdout",
     "output_type": "stream",
     "text": [
      "\u001b[36m(ClientAppActor pid=4132010)\u001b[0m [Client 3] fit, config: {'lr': 0.001}\n",
      "\u001b[36m(ClientAppActor pid=4132010)\u001b[0m Updating parameters 329\n",
      "\u001b[36m(ClientAppActor pid=4132010)\u001b[0m Setting parameters...\n",
      "\u001b[36m(ClientAppActor pid=4132010)\u001b[0m Client parameters set\n",
      "\u001b[36m(ClientAppActor pid=4132010)\u001b[0m Starting client training...\n",
      "\u001b[36m(ClientAppActor pid=4132010)\u001b[0m Running epoch 0/5\n",
      "\u001b[36m(ClientAppActor pid=4132010)\u001b[0m Epoch 1: train loss 0.1538498201652577, accuracy 0.9473684210526315\n",
      "\u001b[36m(ClientAppActor pid=4132010)\u001b[0m Running epoch 1/5\n",
      "\u001b[36m(ClientAppActor pid=4132010)\u001b[0m Epoch 2: train loss 0.033458593644593894, accuracy 1.0\n",
      "\u001b[36m(ClientAppActor pid=4132010)\u001b[0m Running epoch 2/5\n",
      "\u001b[36m(ClientAppActor pid=4132010)\u001b[0m Epoch 3: train loss 0.006928491528685156, accuracy 1.0\n",
      "\u001b[36m(ClientAppActor pid=4132010)\u001b[0m Running epoch 3/5\n",
      "\u001b[36m(ClientAppActor pid=4132010)\u001b[0m Epoch 4: train loss 0.0035545147624553033, accuracy 1.0\n",
      "\u001b[36m(ClientAppActor pid=4132010)\u001b[0m Running epoch 4/5\n",
      "\u001b[36m(ClientAppActor pid=4132010)\u001b[0m Epoch 5: train loss 0.0009285786654800177, accuracy 1.0\n",
      "\u001b[36m(ClientAppActor pid=4132010)\u001b[0m Training completed!\n",
      "\u001b[36m(ClientAppActor pid=4132010)\u001b[0m Length of params: 329\n"
     ]
    },
    {
     "name": "stderr",
     "output_type": "stream",
     "text": [
      "\u001b[36m(ClientAppActor pid=4132010)\u001b[0m \u001b[93mWARNING \u001b[0m:   Deprecation Warning: The `client_fn` function must return an instance of `Client`, but an instance of `NumpyClient` was returned. Please use `NumPyClient.to_client()` method to convert it to `Client`.\n"
     ]
    },
    {
     "name": "stdout",
     "output_type": "stream",
     "text": [
      "\u001b[36m(ClientAppActor pid=4132010)\u001b[0m [Client 5] fit, config: {'lr': 0.001}\n",
      "\u001b[36m(ClientAppActor pid=4132010)\u001b[0m Updating parameters 329\n",
      "\u001b[36m(ClientAppActor pid=4132010)\u001b[0m Setting parameters...\n",
      "\u001b[36m(ClientAppActor pid=4132010)\u001b[0m Client parameters set\n",
      "\u001b[36m(ClientAppActor pid=4132010)\u001b[0m Starting client training...\n",
      "\u001b[36m(ClientAppActor pid=4132010)\u001b[0m Running epoch 0/5\n",
      "\u001b[36m(ClientAppActor pid=4132010)\u001b[0m Epoch 1: train loss 0.020815767053710788, accuracy 1.0\n",
      "\u001b[36m(ClientAppActor pid=4132010)\u001b[0m Running epoch 1/5\n",
      "\u001b[36m(ClientAppActor pid=4132010)\u001b[0m Epoch 2: train loss 0.060447002859099916, accuracy 0.9473684210526315\n",
      "\u001b[36m(ClientAppActor pid=4132010)\u001b[0m Running epoch 2/5\n",
      "\u001b[36m(ClientAppActor pid=4132010)\u001b[0m Epoch 3: train loss 0.18497365145135278, accuracy 0.8947368421052632\n",
      "\u001b[36m(ClientAppActor pid=4132010)\u001b[0m Running epoch 3/5\n",
      "\u001b[36m(ClientAppActor pid=4132010)\u001b[0m Epoch 4: train loss 0.00027723729420502325, accuracy 1.0\n",
      "\u001b[36m(ClientAppActor pid=4132010)\u001b[0m Running epoch 4/5\n",
      "\u001b[36m(ClientAppActor pid=4132010)\u001b[0m Epoch 5: train loss 0.017272815892570896, accuracy 1.0\n",
      "\u001b[36m(ClientAppActor pid=4132010)\u001b[0m Training completed!\n",
      "\u001b[36m(ClientAppActor pid=4132010)\u001b[0m Length of params: 329\n"
     ]
    },
    {
     "name": "stderr",
     "output_type": "stream",
     "text": [
      "\u001b[36m(ClientAppActor pid=4132010)\u001b[0m \u001b[93mWARNING \u001b[0m:   Deprecation Warning: The `client_fn` function must return an instance of `Client`, but an instance of `NumpyClient` was returned. Please use `NumPyClient.to_client()` method to convert it to `Client`.\n"
     ]
    },
    {
     "name": "stdout",
     "output_type": "stream",
     "text": [
      "\u001b[36m(ClientAppActor pid=4132010)\u001b[0m [Client 1] fit, config: {'lr': 0.001}\n",
      "\u001b[36m(ClientAppActor pid=4132010)\u001b[0m Updating parameters 329\n",
      "\u001b[36m(ClientAppActor pid=4132010)\u001b[0m Setting parameters...\n",
      "\u001b[36m(ClientAppActor pid=4132010)\u001b[0m Client parameters set\n",
      "\u001b[36m(ClientAppActor pid=4132010)\u001b[0m Starting client training...\n",
      "\u001b[36m(ClientAppActor pid=4132010)\u001b[0m Running epoch 0/5\n",
      "\u001b[36m(ClientAppActor pid=4132010)\u001b[0m Epoch 1: train loss 0.4071866838555587, accuracy 0.8421052631578947\n",
      "\u001b[36m(ClientAppActor pid=4132010)\u001b[0m Running epoch 1/5\n",
      "\u001b[36m(ClientAppActor pid=4132010)\u001b[0m Epoch 2: train loss 0.10514190283260848, accuracy 1.0\n",
      "\u001b[36m(ClientAppActor pid=4132010)\u001b[0m Running epoch 2/5\n",
      "\u001b[36m(ClientAppActor pid=4132010)\u001b[0m Epoch 3: train loss 0.4251045678791247, accuracy 0.7894736842105263\n",
      "\u001b[36m(ClientAppActor pid=4132010)\u001b[0m Running epoch 3/5\n",
      "\u001b[36m(ClientAppActor pid=4132010)\u001b[0m Epoch 4: train loss 0.06881321966648102, accuracy 1.0\n",
      "\u001b[36m(ClientAppActor pid=4132010)\u001b[0m Running epoch 4/5\n",
      "\u001b[36m(ClientAppActor pid=4132010)\u001b[0m Epoch 5: train loss 0.18383189094694039, accuracy 0.8421052631578947\n",
      "\u001b[36m(ClientAppActor pid=4132010)\u001b[0m Training completed!\n",
      "\u001b[36m(ClientAppActor pid=4132010)\u001b[0m Length of params: 329\n"
     ]
    },
    {
     "name": "stderr",
     "output_type": "stream",
     "text": [
      "\u001b[36m(ClientAppActor pid=4132010)\u001b[0m \u001b[93mWARNING \u001b[0m:   Deprecation Warning: The `client_fn` function must return an instance of `Client`, but an instance of `NumpyClient` was returned. Please use `NumPyClient.to_client()` method to convert it to `Client`.\n"
     ]
    },
    {
     "name": "stdout",
     "output_type": "stream",
     "text": [
      "\u001b[36m(ClientAppActor pid=4132010)\u001b[0m [Client 0] fit, config: {'lr': 0.001}\n",
      "\u001b[36m(ClientAppActor pid=4132010)\u001b[0m Updating parameters 329\n",
      "\u001b[36m(ClientAppActor pid=4132010)\u001b[0m Setting parameters...\n",
      "\u001b[36m(ClientAppActor pid=4132010)\u001b[0m Client parameters set\n",
      "\u001b[36m(ClientAppActor pid=4132010)\u001b[0m Starting client training...\n",
      "\u001b[36m(ClientAppActor pid=4132010)\u001b[0m Running epoch 0/5\n",
      "\u001b[36m(ClientAppActor pid=4132010)\u001b[0m Epoch 1: train loss 0.15845082308116712, accuracy 0.8947368421052632\n",
      "\u001b[36m(ClientAppActor pid=4132010)\u001b[0m Running epoch 1/5\n",
      "\u001b[36m(ClientAppActor pid=4132010)\u001b[0m Epoch 2: train loss 0.014952320384940035, accuracy 1.0\n",
      "\u001b[36m(ClientAppActor pid=4132010)\u001b[0m Running epoch 2/5\n",
      "\u001b[36m(ClientAppActor pid=4132010)\u001b[0m Epoch 3: train loss 0.3174651597969626, accuracy 0.7894736842105263\n",
      "\u001b[36m(ClientAppActor pid=4132010)\u001b[0m Running epoch 3/5\n",
      "\u001b[36m(ClientAppActor pid=4132010)\u001b[0m Epoch 4: train loss 0.010793374116091351, accuracy 1.0\n",
      "\u001b[36m(ClientAppActor pid=4132010)\u001b[0m Running epoch 4/5\n",
      "\u001b[36m(ClientAppActor pid=4132010)\u001b[0m Epoch 5: train loss 0.021283264921389912, accuracy 1.0\n",
      "\u001b[36m(ClientAppActor pid=4132010)\u001b[0m Training completed!\n",
      "\u001b[36m(ClientAppActor pid=4132010)\u001b[0m Length of params: 329\n"
     ]
    },
    {
     "name": "stderr",
     "output_type": "stream",
     "text": [
      "\u001b[36m(ClientAppActor pid=4132010)\u001b[0m \u001b[93mWARNING \u001b[0m:   Deprecation Warning: The `client_fn` function must return an instance of `Client`, but an instance of `NumpyClient` was returned. Please use `NumPyClient.to_client()` method to convert it to `Client`.\n"
     ]
    },
    {
     "name": "stdout",
     "output_type": "stream",
     "text": [
      "\u001b[36m(ClientAppActor pid=4132010)\u001b[0m [Client 6] fit, config: {'lr': 0.003}\n",
      "\u001b[36m(ClientAppActor pid=4132010)\u001b[0m Updating parameters 329\n",
      "\u001b[36m(ClientAppActor pid=4132010)\u001b[0m Setting parameters...\n",
      "\u001b[36m(ClientAppActor pid=4132010)\u001b[0m Client parameters set\n",
      "\u001b[36m(ClientAppActor pid=4132010)\u001b[0m Starting client training...\n",
      "\u001b[36m(ClientAppActor pid=4132010)\u001b[0m Running epoch 0/5\n",
      "\u001b[36m(ClientAppActor pid=4132010)\u001b[0m Epoch 1: train loss 0.33825875583447906, accuracy 0.8421052631578947\n",
      "\u001b[36m(ClientAppActor pid=4132010)\u001b[0m Running epoch 1/5\n",
      "\u001b[36m(ClientAppActor pid=4132010)\u001b[0m Epoch 2: train loss 0.14344046617809095, accuracy 0.9473684210526315\n",
      "\u001b[36m(ClientAppActor pid=4132010)\u001b[0m Running epoch 2/5\n",
      "\u001b[36m(ClientAppActor pid=4132010)\u001b[0m Epoch 3: train loss 0.15861112742047562, accuracy 0.8947368421052632\n",
      "\u001b[36m(ClientAppActor pid=4132010)\u001b[0m Running epoch 3/5\n",
      "\u001b[36m(ClientAppActor pid=4132010)\u001b[0m Epoch 4: train loss 0.07026955602984679, accuracy 1.0\n",
      "\u001b[36m(ClientAppActor pid=4132010)\u001b[0m Running epoch 4/5\n",
      "\u001b[36m(ClientAppActor pid=4132010)\u001b[0m Epoch 5: train loss 0.0434405148813599, accuracy 1.0\n",
      "\u001b[36m(ClientAppActor pid=4132010)\u001b[0m Training completed!\n",
      "\u001b[36m(ClientAppActor pid=4132010)\u001b[0m Length of params: 329\n"
     ]
    },
    {
     "name": "stderr",
     "output_type": "stream",
     "text": [
      "\u001b[36m(ClientAppActor pid=4132010)\u001b[0m \u001b[93mWARNING \u001b[0m:   Deprecation Warning: The `client_fn` function must return an instance of `Client`, but an instance of `NumpyClient` was returned. Please use `NumPyClient.to_client()` method to convert it to `Client`.\n"
     ]
    },
    {
     "name": "stdout",
     "output_type": "stream",
     "text": [
      "\u001b[36m(ClientAppActor pid=4132010)\u001b[0m [Client 2] fit, config: {'lr': 0.003}\n",
      "\u001b[36m(ClientAppActor pid=4132010)\u001b[0m Updating parameters 329\n",
      "\u001b[36m(ClientAppActor pid=4132010)\u001b[0m Setting parameters...\n",
      "\u001b[36m(ClientAppActor pid=4132010)\u001b[0m Client parameters set\n",
      "\u001b[36m(ClientAppActor pid=4132010)\u001b[0m Starting client training...\n",
      "\u001b[36m(ClientAppActor pid=4132010)\u001b[0m Running epoch 0/5\n",
      "\u001b[36m(ClientAppActor pid=4132010)\u001b[0m Epoch 1: train loss 0.5729853714277086, accuracy 0.7894736842105263\n",
      "\u001b[36m(ClientAppActor pid=4132010)\u001b[0m Running epoch 1/5\n",
      "\u001b[36m(ClientAppActor pid=4132010)\u001b[0m Epoch 2: train loss 1.122997196097123, accuracy 0.7368421052631579\n",
      "\u001b[36m(ClientAppActor pid=4132010)\u001b[0m Running epoch 2/5\n",
      "\u001b[36m(ClientAppActor pid=4132010)\u001b[0m Epoch 3: train loss 0.465554626364457, accuracy 0.7894736842105263\n",
      "\u001b[36m(ClientAppActor pid=4132010)\u001b[0m Running epoch 3/5\n",
      "\u001b[36m(ClientAppActor pid=4132010)\u001b[0m Epoch 4: train loss 0.5078430191466683, accuracy 0.8947368421052632\n",
      "\u001b[36m(ClientAppActor pid=4132010)\u001b[0m Running epoch 4/5\n",
      "\u001b[36m(ClientAppActor pid=4132010)\u001b[0m Epoch 5: train loss 0.3687881717556401, accuracy 0.8947368421052632\n",
      "\u001b[36m(ClientAppActor pid=4132010)\u001b[0m Training completed!\n",
      "\u001b[36m(ClientAppActor pid=4132010)\u001b[0m Length of params: 329\n"
     ]
    },
    {
     "name": "stderr",
     "output_type": "stream",
     "text": [
      "\u001b[36m(ClientAppActor pid=4132010)\u001b[0m \u001b[93mWARNING \u001b[0m:   Deprecation Warning: The `client_fn` function must return an instance of `Client`, but an instance of `NumpyClient` was returned. Please use `NumPyClient.to_client()` method to convert it to `Client`.\n"
     ]
    },
    {
     "name": "stdout",
     "output_type": "stream",
     "text": [
      "\u001b[36m(ClientAppActor pid=4132010)\u001b[0m [Client 7] fit, config: {'lr': 0.003}\n",
      "\u001b[36m(ClientAppActor pid=4132010)\u001b[0m Updating parameters 329\n",
      "\u001b[36m(ClientAppActor pid=4132010)\u001b[0m Setting parameters...\n",
      "\u001b[36m(ClientAppActor pid=4132010)\u001b[0m Client parameters set\n",
      "\u001b[36m(ClientAppActor pid=4132010)\u001b[0m Starting client training...\n",
      "\u001b[36m(ClientAppActor pid=4132010)\u001b[0m Running epoch 0/5\n",
      "\u001b[36m(ClientAppActor pid=4132010)\u001b[0m Epoch 1: train loss 0.24977453758842066, accuracy 0.8947368421052632\n",
      "\u001b[36m(ClientAppActor pid=4132010)\u001b[0m Running epoch 1/5\n",
      "\u001b[36m(ClientAppActor pid=4132010)\u001b[0m Epoch 2: train loss 0.05783619721861262, accuracy 1.0\n",
      "\u001b[36m(ClientAppActor pid=4132010)\u001b[0m Running epoch 2/5\n",
      "\u001b[36m(ClientAppActor pid=4132010)\u001b[0m Epoch 3: train loss 0.06454753365955855, accuracy 1.0\n",
      "\u001b[36m(ClientAppActor pid=4132010)\u001b[0m Running epoch 3/5\n",
      "\u001b[36m(ClientAppActor pid=4132010)\u001b[0m Epoch 4: train loss 0.007572355686294797, accuracy 1.0\n",
      "\u001b[36m(ClientAppActor pid=4132010)\u001b[0m Running epoch 4/5\n",
      "\u001b[36m(ClientAppActor pid=4132010)\u001b[0m Epoch 5: train loss 0.0018208717045031097, accuracy 1.0\n",
      "\u001b[36m(ClientAppActor pid=4132010)\u001b[0m Training completed!\n",
      "\u001b[36m(ClientAppActor pid=4132010)\u001b[0m Length of params: 329\n"
     ]
    },
    {
     "name": "stderr",
     "output_type": "stream",
     "text": [
      "\u001b[36m(ClientAppActor pid=4132010)\u001b[0m \u001b[93mWARNING \u001b[0m:   Deprecation Warning: The `client_fn` function must return an instance of `Client`, but an instance of `NumpyClient` was returned. Please use `NumPyClient.to_client()` method to convert it to `Client`.\n"
     ]
    },
    {
     "name": "stdout",
     "output_type": "stream",
     "text": [
      "\u001b[36m(ClientAppActor pid=4132010)\u001b[0m [Client 4] fit, config: {'lr': 0.003}\n",
      "\u001b[36m(ClientAppActor pid=4132010)\u001b[0m Updating parameters 329\n",
      "\u001b[36m(ClientAppActor pid=4132010)\u001b[0m Setting parameters...\n",
      "\u001b[36m(ClientAppActor pid=4132010)\u001b[0m Client parameters set\n",
      "\u001b[36m(ClientAppActor pid=4132010)\u001b[0m Starting client training...\n",
      "\u001b[36m(ClientAppActor pid=4132010)\u001b[0m Running epoch 0/5\n",
      "\u001b[36m(ClientAppActor pid=4132010)\u001b[0m Epoch 1: train loss 0.016280753985292426, accuracy 1.0\n",
      "\u001b[36m(ClientAppActor pid=4132010)\u001b[0m Running epoch 1/5\n",
      "\u001b[36m(ClientAppActor pid=4132010)\u001b[0m Epoch 2: train loss 0.001075564803518079, accuracy 1.0\n",
      "\u001b[36m(ClientAppActor pid=4132010)\u001b[0m Running epoch 2/5\n",
      "\u001b[36m(ClientAppActor pid=4132010)\u001b[0m Epoch 3: train loss 0.000237409215179995, accuracy 1.0\n",
      "\u001b[36m(ClientAppActor pid=4132010)\u001b[0m Running epoch 3/5\n",
      "\u001b[36m(ClientAppActor pid=4132010)\u001b[0m Epoch 4: train loss 1.6814736430828099e-06, accuracy 1.0\n",
      "\u001b[36m(ClientAppActor pid=4132010)\u001b[0m Running epoch 4/5\n",
      "\u001b[36m(ClientAppActor pid=4132010)\u001b[0m Epoch 5: train loss 1.223459584683664e-06, accuracy 1.0\n",
      "\u001b[36m(ClientAppActor pid=4132010)\u001b[0m Training completed!\n",
      "\u001b[36m(ClientAppActor pid=4132010)\u001b[0m Length of params: 329\n"
     ]
    },
    {
     "name": "stderr",
     "output_type": "stream",
     "text": [
      "\u001b[36m(ClientAppActor pid=4132010)\u001b[0m \u001b[93mWARNING \u001b[0m:   Deprecation Warning: The `client_fn` function must return an instance of `Client`, but an instance of `NumpyClient` was returned. Please use `NumPyClient.to_client()` method to convert it to `Client`.\n"
     ]
    },
    {
     "name": "stdout",
     "output_type": "stream",
     "text": [
      "\u001b[36m(ClientAppActor pid=4132010)\u001b[0m [Client 8] fit, config: {'lr': 0.003}\n",
      "\u001b[36m(ClientAppActor pid=4132010)\u001b[0m Updating parameters 329\n",
      "\u001b[36m(ClientAppActor pid=4132010)\u001b[0m Setting parameters...\n",
      "\u001b[36m(ClientAppActor pid=4132010)\u001b[0m Client parameters set\n",
      "\u001b[36m(ClientAppActor pid=4132010)\u001b[0m Starting client training...\n",
      "\u001b[36m(ClientAppActor pid=4132010)\u001b[0m Running epoch 0/5\n",
      "\u001b[36m(ClientAppActor pid=4132010)\u001b[0m Epoch 1: train loss 0.270366979272742, accuracy 0.8947368421052632\n",
      "\u001b[36m(ClientAppActor pid=4132010)\u001b[0m Running epoch 1/5\n",
      "\u001b[36m(ClientAppActor pid=4132010)\u001b[0m Epoch 2: train loss 0.23976979963481426, accuracy 0.9473684210526315\n",
      "\u001b[36m(ClientAppActor pid=4132010)\u001b[0m Running epoch 2/5\n",
      "\u001b[36m(ClientAppActor pid=4132010)\u001b[0m Epoch 3: train loss 0.6706474094014419, accuracy 0.5789473684210527\n",
      "\u001b[36m(ClientAppActor pid=4132010)\u001b[0m Running epoch 3/5\n",
      "\u001b[36m(ClientAppActor pid=4132010)\u001b[0m Epoch 4: train loss 0.08023058309366829, accuracy 1.0\n",
      "\u001b[36m(ClientAppActor pid=4132010)\u001b[0m Running epoch 4/5\n",
      "\u001b[36m(ClientAppActor pid=4132010)\u001b[0m Epoch 5: train loss 0.09543995255310285, accuracy 1.0\n",
      "\u001b[36m(ClientAppActor pid=4132010)\u001b[0m Training completed!\n",
      "\u001b[36m(ClientAppActor pid=4132010)\u001b[0m Length of params: 329\n"
     ]
    },
    {
     "name": "stderr",
     "output_type": "stream",
     "text": [
      "\u001b[92mINFO \u001b[0m:      aggregate_fit: received 10 results and 0 failures\n"
     ]
    },
    {
     "name": "stdout",
     "output_type": "stream",
     "text": [
      "Evaluating global model\n",
      "Updating parameters 329\n",
      "Setting parameters...\n",
      "Parameter set\n",
      "Starting client validation...\n",
      "Validataion accuracy = 0.8666666666666667\n",
      "Global evaluation round 2 loss = 0.032950586763521035 accuracy = 0.8666666666666667\n"
     ]
    },
    {
     "name": "stderr",
     "output_type": "stream",
     "text": [
      "\u001b[92mINFO \u001b[0m:      fit progress: (2, 0.032950586763521035, {}, 964.3059425740503)\n",
      "\u001b[92mINFO \u001b[0m:      configure_evaluate: strategy sampled 10 clients (out of 10)\n"
     ]
    },
    {
     "name": "stdout",
     "output_type": "stream",
     "text": [
      "Model saved at ./fl_checkpointsswintransformer_e5_c10_r5_1/fl_densenet_2.pth\n"
     ]
    },
    {
     "name": "stderr",
     "output_type": "stream",
     "text": [
      "\u001b[36m(ClientAppActor pid=4132010)\u001b[0m \u001b[93mWARNING \u001b[0m:   Deprecation Warning: The `client_fn` function must return an instance of `Client`, but an instance of `NumpyClient` was returned. Please use `NumPyClient.to_client()` method to convert it to `Client`.\n"
     ]
    },
    {
     "name": "stdout",
     "output_type": "stream",
     "text": [
      "\u001b[36m(ClientAppActor pid=4132010)\u001b[0m [Client 3] evaluate, config: {}\n",
      "\u001b[36m(ClientAppActor pid=4132010)\u001b[0m Updating parameters 329\n",
      "\u001b[36m(ClientAppActor pid=4132010)\u001b[0m Setting parameters...\n",
      "\u001b[36m(ClientAppActor pid=4132010)\u001b[0m Starting client validation...\n",
      "\u001b[36m(ClientAppActor pid=4132010)\u001b[0m Validataion accuracy = 0.8666666666666667\n",
      "\u001b[36m(ClientAppActor pid=4132010)\u001b[0m Evaluation loss = 0.032950586763521035 accuracy = 0.8666666666666667\n"
     ]
    },
    {
     "name": "stderr",
     "output_type": "stream",
     "text": [
      "\u001b[36m(ClientAppActor pid=4132010)\u001b[0m \u001b[93mWARNING \u001b[0m:   Deprecation Warning: The `client_fn` function must return an instance of `Client`, but an instance of `NumpyClient` was returned. Please use `NumPyClient.to_client()` method to convert it to `Client`.\n"
     ]
    },
    {
     "name": "stdout",
     "output_type": "stream",
     "text": [
      "\u001b[36m(ClientAppActor pid=4132010)\u001b[0m [Client 0] evaluate, config: {}\n",
      "\u001b[36m(ClientAppActor pid=4132010)\u001b[0m Updating parameters 329\n",
      "\u001b[36m(ClientAppActor pid=4132010)\u001b[0m Setting parameters...\n",
      "\u001b[36m(ClientAppActor pid=4132010)\u001b[0m Starting client validation...\n",
      "\u001b[36m(ClientAppActor pid=4132010)\u001b[0m Validataion accuracy = 0.8666666666666667\n",
      "\u001b[36m(ClientAppActor pid=4132010)\u001b[0m Evaluation loss = 0.032950586763521035 accuracy = 0.8666666666666667\n"
     ]
    },
    {
     "name": "stderr",
     "output_type": "stream",
     "text": [
      "\u001b[36m(ClientAppActor pid=4132010)\u001b[0m \u001b[93mWARNING \u001b[0m:   Deprecation Warning: The `client_fn` function must return an instance of `Client`, but an instance of `NumpyClient` was returned. Please use `NumPyClient.to_client()` method to convert it to `Client`.\n"
     ]
    },
    {
     "name": "stdout",
     "output_type": "stream",
     "text": [
      "\u001b[36m(ClientAppActor pid=4132010)\u001b[0m [Client 8] evaluate, config: {}\n",
      "\u001b[36m(ClientAppActor pid=4132010)\u001b[0m Updating parameters 329\n",
      "\u001b[36m(ClientAppActor pid=4132010)\u001b[0m Setting parameters...\n",
      "\u001b[36m(ClientAppActor pid=4132010)\u001b[0m Starting client validation...\n",
      "\u001b[36m(ClientAppActor pid=4132010)\u001b[0m Validataion accuracy = 0.8666666666666667\n",
      "\u001b[36m(ClientAppActor pid=4132010)\u001b[0m Evaluation loss = 0.032950586763521035 accuracy = 0.8666666666666667\n"
     ]
    },
    {
     "name": "stderr",
     "output_type": "stream",
     "text": [
      "\u001b[36m(ClientAppActor pid=4132010)\u001b[0m \u001b[93mWARNING \u001b[0m:   Deprecation Warning: The `client_fn` function must return an instance of `Client`, but an instance of `NumpyClient` was returned. Please use `NumPyClient.to_client()` method to convert it to `Client`.\n"
     ]
    },
    {
     "name": "stdout",
     "output_type": "stream",
     "text": [
      "\u001b[36m(ClientAppActor pid=4132010)\u001b[0m [Client 6] evaluate, config: {}\n",
      "\u001b[36m(ClientAppActor pid=4132010)\u001b[0m Updating parameters 329\n",
      "\u001b[36m(ClientAppActor pid=4132010)\u001b[0m Setting parameters...\n",
      "\u001b[36m(ClientAppActor pid=4132010)\u001b[0m Starting client validation...\n",
      "\u001b[36m(ClientAppActor pid=4132010)\u001b[0m Validataion accuracy = 0.8666666666666667\n",
      "\u001b[36m(ClientAppActor pid=4132010)\u001b[0m Evaluation loss = 0.032950586763521035 accuracy = 0.8666666666666667\n"
     ]
    },
    {
     "name": "stderr",
     "output_type": "stream",
     "text": [
      "\u001b[36m(ClientAppActor pid=4132010)\u001b[0m \u001b[93mWARNING \u001b[0m:   Deprecation Warning: The `client_fn` function must return an instance of `Client`, but an instance of `NumpyClient` was returned. Please use `NumPyClient.to_client()` method to convert it to `Client`.\n"
     ]
    },
    {
     "name": "stdout",
     "output_type": "stream",
     "text": [
      "\u001b[36m(ClientAppActor pid=4132010)\u001b[0m [Client 1] evaluate, config: {}\n",
      "\u001b[36m(ClientAppActor pid=4132010)\u001b[0m Updating parameters 329\n",
      "\u001b[36m(ClientAppActor pid=4132010)\u001b[0m Setting parameters...\n",
      "\u001b[36m(ClientAppActor pid=4132010)\u001b[0m Starting client validation...\n",
      "\u001b[36m(ClientAppActor pid=4132010)\u001b[0m Validataion accuracy = 0.8666666666666667\n",
      "\u001b[36m(ClientAppActor pid=4132010)\u001b[0m Evaluation loss = 0.032950586763521035 accuracy = 0.8666666666666667\n"
     ]
    },
    {
     "name": "stderr",
     "output_type": "stream",
     "text": [
      "\u001b[36m(ClientAppActor pid=4132010)\u001b[0m \u001b[93mWARNING \u001b[0m:   Deprecation Warning: The `client_fn` function must return an instance of `Client`, but an instance of `NumpyClient` was returned. Please use `NumPyClient.to_client()` method to convert it to `Client`.\n"
     ]
    },
    {
     "name": "stdout",
     "output_type": "stream",
     "text": [
      "\u001b[36m(ClientAppActor pid=4132010)\u001b[0m [Client 5] evaluate, config: {}\n",
      "\u001b[36m(ClientAppActor pid=4132010)\u001b[0m Updating parameters 329\n",
      "\u001b[36m(ClientAppActor pid=4132010)\u001b[0m Setting parameters...\n",
      "\u001b[36m(ClientAppActor pid=4132010)\u001b[0m Starting client validation...\n",
      "\u001b[36m(ClientAppActor pid=4132010)\u001b[0m Validataion accuracy = 0.8666666666666667\n",
      "\u001b[36m(ClientAppActor pid=4132010)\u001b[0m Evaluation loss = 0.032950586763521035 accuracy = 0.8666666666666667\n"
     ]
    },
    {
     "name": "stderr",
     "output_type": "stream",
     "text": [
      "\u001b[36m(ClientAppActor pid=4132010)\u001b[0m \u001b[93mWARNING \u001b[0m:   Deprecation Warning: The `client_fn` function must return an instance of `Client`, but an instance of `NumpyClient` was returned. Please use `NumPyClient.to_client()` method to convert it to `Client`.\n"
     ]
    },
    {
     "name": "stdout",
     "output_type": "stream",
     "text": [
      "\u001b[36m(ClientAppActor pid=4132010)\u001b[0m [Client 2] evaluate, config: {}\n",
      "\u001b[36m(ClientAppActor pid=4132010)\u001b[0m Updating parameters 329\n",
      "\u001b[36m(ClientAppActor pid=4132010)\u001b[0m Setting parameters...\n",
      "\u001b[36m(ClientAppActor pid=4132010)\u001b[0m Starting client validation...\n",
      "\u001b[36m(ClientAppActor pid=4132010)\u001b[0m Validataion accuracy = 0.8666666666666667\n",
      "\u001b[36m(ClientAppActor pid=4132010)\u001b[0m Evaluation loss = 0.032950586763521035 accuracy = 0.8666666666666667\n"
     ]
    },
    {
     "name": "stderr",
     "output_type": "stream",
     "text": [
      "\u001b[36m(ClientAppActor pid=4132010)\u001b[0m \u001b[93mWARNING \u001b[0m:   Deprecation Warning: The `client_fn` function must return an instance of `Client`, but an instance of `NumpyClient` was returned. Please use `NumPyClient.to_client()` method to convert it to `Client`.\n"
     ]
    },
    {
     "name": "stdout",
     "output_type": "stream",
     "text": [
      "\u001b[36m(ClientAppActor pid=4132010)\u001b[0m [Client 4] evaluate, config: {}\n",
      "\u001b[36m(ClientAppActor pid=4132010)\u001b[0m Updating parameters 329\n",
      "\u001b[36m(ClientAppActor pid=4132010)\u001b[0m Setting parameters...\n",
      "\u001b[36m(ClientAppActor pid=4132010)\u001b[0m Starting client validation...\n",
      "\u001b[36m(ClientAppActor pid=4132010)\u001b[0m Validataion accuracy = 0.8666666666666667\n",
      "\u001b[36m(ClientAppActor pid=4132010)\u001b[0m Evaluation loss = 0.032950586763521035 accuracy = 0.8666666666666667\n"
     ]
    },
    {
     "name": "stderr",
     "output_type": "stream",
     "text": [
      "\u001b[36m(ClientAppActor pid=4132010)\u001b[0m \u001b[93mWARNING \u001b[0m:   Deprecation Warning: The `client_fn` function must return an instance of `Client`, but an instance of `NumpyClient` was returned. Please use `NumPyClient.to_client()` method to convert it to `Client`.\n"
     ]
    },
    {
     "name": "stdout",
     "output_type": "stream",
     "text": [
      "\u001b[36m(ClientAppActor pid=4132010)\u001b[0m [Client 7] evaluate, config: {}\n",
      "\u001b[36m(ClientAppActor pid=4132010)\u001b[0m Updating parameters 329\n",
      "\u001b[36m(ClientAppActor pid=4132010)\u001b[0m Setting parameters...\n",
      "\u001b[36m(ClientAppActor pid=4132010)\u001b[0m Starting client validation...\n",
      "\u001b[36m(ClientAppActor pid=4132010)\u001b[0m Validataion accuracy = 0.8666666666666667\n",
      "\u001b[36m(ClientAppActor pid=4132010)\u001b[0m Evaluation loss = 0.032950586763521035 accuracy = 0.8666666666666667\n"
     ]
    },
    {
     "name": "stderr",
     "output_type": "stream",
     "text": [
      "\u001b[36m(ClientAppActor pid=4132010)\u001b[0m \u001b[93mWARNING \u001b[0m:   Deprecation Warning: The `client_fn` function must return an instance of `Client`, but an instance of `NumpyClient` was returned. Please use `NumPyClient.to_client()` method to convert it to `Client`.\n"
     ]
    },
    {
     "name": "stdout",
     "output_type": "stream",
     "text": [
      "\u001b[36m(ClientAppActor pid=4132010)\u001b[0m [Client 9] evaluate, config: {}\n",
      "\u001b[36m(ClientAppActor pid=4132010)\u001b[0m Updating parameters 329\n",
      "\u001b[36m(ClientAppActor pid=4132010)\u001b[0m Setting parameters...\n",
      "\u001b[36m(ClientAppActor pid=4132010)\u001b[0m Starting client validation...\n"
     ]
    },
    {
     "name": "stderr",
     "output_type": "stream",
     "text": [
      "\u001b[92mINFO \u001b[0m:      aggregate_evaluate: received 10 results and 0 failures\n",
      "\u001b[92mINFO \u001b[0m:      \n",
      "\u001b[92mINFO \u001b[0m:      [ROUND 3]\n",
      "\u001b[92mINFO \u001b[0m:      configure_fit: strategy sampled 10 clients (out of 10)\n"
     ]
    },
    {
     "name": "stdout",
     "output_type": "stream",
     "text": [
      "Starting configure fit function...\n",
      "Sample size = 10 Min Num Clients = 2 Clients = [<flwr.simulation.ray_transport.ray_client_proxy.RayActorClientProxy object at 0x155491d76d50>, <flwr.simulation.ray_transport.ray_client_proxy.RayActorClientProxy object at 0x155491d76910>, <flwr.simulation.ray_transport.ray_client_proxy.RayActorClientProxy object at 0x155491d76c50>, <flwr.simulation.ray_transport.ray_client_proxy.RayActorClientProxy object at 0x155491d76bd0>, <flwr.simulation.ray_transport.ray_client_proxy.RayActorClientProxy object at 0x155491d76610>, <flwr.simulation.ray_transport.ray_client_proxy.RayActorClientProxy object at 0x155491d76cd0>, <flwr.simulation.ray_transport.ray_client_proxy.RayActorClientProxy object at 0x155491d76510>, <flwr.simulation.ray_transport.ray_client_proxy.RayActorClientProxy object at 0x155491d76e50>, <flwr.simulation.ray_transport.ray_client_proxy.RayActorClientProxy object at 0x155491d76dd0>, <flwr.simulation.ray_transport.ray_client_proxy.RayActorClientProxy object at 0x155491d76b90>]\n",
      "Number of clients = 10\n",
      "Fit Configurations\n",
      "\u001b[36m(ClientAppActor pid=4132010)\u001b[0m Validataion accuracy = 0.8666666666666667\n",
      "\u001b[36m(ClientAppActor pid=4132010)\u001b[0m Evaluation loss = 0.032950586763521035 accuracy = 0.8666666666666667\n"
     ]
    },
    {
     "name": "stderr",
     "output_type": "stream",
     "text": [
      "\u001b[36m(ClientAppActor pid=4132010)\u001b[0m \u001b[93mWARNING \u001b[0m:   Deprecation Warning: The `client_fn` function must return an instance of `Client`, but an instance of `NumpyClient` was returned. Please use `NumPyClient.to_client()` method to convert it to `Client`.\n"
     ]
    },
    {
     "name": "stdout",
     "output_type": "stream",
     "text": [
      "\u001b[36m(ClientAppActor pid=4132010)\u001b[0m [Client 7] fit, config: {'lr': 0.001}\n",
      "\u001b[36m(ClientAppActor pid=4132010)\u001b[0m Updating parameters 329\n",
      "\u001b[36m(ClientAppActor pid=4132010)\u001b[0m Setting parameters...\n",
      "\u001b[36m(ClientAppActor pid=4132010)\u001b[0m Client parameters set\n",
      "\u001b[36m(ClientAppActor pid=4132010)\u001b[0m Starting client training...\n",
      "\u001b[36m(ClientAppActor pid=4132010)\u001b[0m Running epoch 0/5\n",
      "\u001b[36m(ClientAppActor pid=4132010)\u001b[0m Epoch 1: train loss 0.15839438021526134, accuracy 0.9473684210526315\n",
      "\u001b[36m(ClientAppActor pid=4132010)\u001b[0m Running epoch 1/5\n",
      "\u001b[36m(ClientAppActor pid=4132010)\u001b[0m Epoch 2: train loss 0.21189201583987788, accuracy 0.9473684210526315\n",
      "\u001b[36m(ClientAppActor pid=4132010)\u001b[0m Running epoch 2/5\n",
      "\u001b[36m(ClientAppActor pid=4132010)\u001b[0m Epoch 3: train loss 0.014109405126778017, accuracy 1.0\n",
      "\u001b[36m(ClientAppActor pid=4132010)\u001b[0m Running epoch 3/5\n",
      "\u001b[36m(ClientAppActor pid=4132010)\u001b[0m Epoch 4: train loss 0.1490117782040646, accuracy 0.9473684210526315\n",
      "\u001b[36m(ClientAppActor pid=4132010)\u001b[0m Running epoch 4/5\n",
      "\u001b[36m(ClientAppActor pid=4132010)\u001b[0m Epoch 5: train loss 0.006679261673094803, accuracy 1.0\n",
      "\u001b[36m(ClientAppActor pid=4132010)\u001b[0m Training completed!\n",
      "\u001b[36m(ClientAppActor pid=4132010)\u001b[0m Length of params: 329\n"
     ]
    },
    {
     "name": "stderr",
     "output_type": "stream",
     "text": [
      "\u001b[36m(ClientAppActor pid=4132010)\u001b[0m \u001b[93mWARNING \u001b[0m:   Deprecation Warning: The `client_fn` function must return an instance of `Client`, but an instance of `NumpyClient` was returned. Please use `NumPyClient.to_client()` method to convert it to `Client`.\n"
     ]
    },
    {
     "name": "stdout",
     "output_type": "stream",
     "text": [
      "\u001b[36m(ClientAppActor pid=4132010)\u001b[0m [Client 2] fit, config: {'lr': 0.001}\n",
      "\u001b[36m(ClientAppActor pid=4132010)\u001b[0m Updating parameters 329\n",
      "\u001b[36m(ClientAppActor pid=4132010)\u001b[0m Setting parameters...\n",
      "\u001b[36m(ClientAppActor pid=4132010)\u001b[0m Client parameters set\n",
      "\u001b[36m(ClientAppActor pid=4132010)\u001b[0m Starting client training...\n",
      "\u001b[36m(ClientAppActor pid=4132010)\u001b[0m Running epoch 0/5\n",
      "\u001b[36m(ClientAppActor pid=4132010)\u001b[0m Epoch 1: train loss 0.7094221373921946, accuracy 0.8421052631578947\n",
      "\u001b[36m(ClientAppActor pid=4132010)\u001b[0m Running epoch 1/5\n",
      "\u001b[36m(ClientAppActor pid=4132010)\u001b[0m Epoch 2: train loss 0.40302458559591814, accuracy 0.7894736842105263\n",
      "\u001b[36m(ClientAppActor pid=4132010)\u001b[0m Running epoch 2/5\n",
      "\u001b[36m(ClientAppActor pid=4132010)\u001b[0m Epoch 3: train loss 0.16041924373099678, accuracy 0.9473684210526315\n",
      "\u001b[36m(ClientAppActor pid=4132010)\u001b[0m Running epoch 3/5\n",
      "\u001b[36m(ClientAppActor pid=4132010)\u001b[0m Epoch 4: train loss 0.11992611138052062, accuracy 1.0\n",
      "\u001b[36m(ClientAppActor pid=4132010)\u001b[0m Running epoch 4/5\n",
      "\u001b[36m(ClientAppActor pid=4132010)\u001b[0m Epoch 5: train loss 0.09030594794373763, accuracy 1.0\n",
      "\u001b[36m(ClientAppActor pid=4132010)\u001b[0m Training completed!\n",
      "\u001b[36m(ClientAppActor pid=4132010)\u001b[0m Length of params: 329\n"
     ]
    },
    {
     "name": "stderr",
     "output_type": "stream",
     "text": [
      "\u001b[36m(ClientAppActor pid=4132010)\u001b[0m \u001b[93mWARNING \u001b[0m:   Deprecation Warning: The `client_fn` function must return an instance of `Client`, but an instance of `NumpyClient` was returned. Please use `NumPyClient.to_client()` method to convert it to `Client`.\n"
     ]
    },
    {
     "name": "stdout",
     "output_type": "stream",
     "text": [
      "\u001b[36m(ClientAppActor pid=4132010)\u001b[0m [Client 5] fit, config: {'lr': 0.001}\n",
      "\u001b[36m(ClientAppActor pid=4132010)\u001b[0m Updating parameters 329\n",
      "\u001b[36m(ClientAppActor pid=4132010)\u001b[0m Setting parameters...\n",
      "\u001b[36m(ClientAppActor pid=4132010)\u001b[0m Client parameters set\n",
      "\u001b[36m(ClientAppActor pid=4132010)\u001b[0m Starting client training...\n",
      "\u001b[36m(ClientAppActor pid=4132010)\u001b[0m Running epoch 0/5\n",
      "\u001b[36m(ClientAppActor pid=4132010)\u001b[0m Epoch 1: train loss 0.006501121470998777, accuracy 1.0\n",
      "\u001b[36m(ClientAppActor pid=4132010)\u001b[0m Running epoch 1/5\n",
      "\u001b[36m(ClientAppActor pid=4132010)\u001b[0m Epoch 2: train loss 0.03671207805210112, accuracy 1.0\n",
      "\u001b[36m(ClientAppActor pid=4132010)\u001b[0m Running epoch 2/5\n",
      "\u001b[36m(ClientAppActor pid=4132010)\u001b[0m Epoch 3: train loss 0.007175253361071411, accuracy 1.0\n",
      "\u001b[36m(ClientAppActor pid=4132010)\u001b[0m Running epoch 3/5\n",
      "\u001b[36m(ClientAppActor pid=4132010)\u001b[0m Epoch 4: train loss 0.003024939654431747, accuracy 1.0\n",
      "\u001b[36m(ClientAppActor pid=4132010)\u001b[0m Running epoch 4/5\n",
      "\u001b[36m(ClientAppActor pid=4132010)\u001b[0m Epoch 5: train loss 0.0006037000067336569, accuracy 1.0\n",
      "\u001b[36m(ClientAppActor pid=4132010)\u001b[0m Training completed!\n",
      "\u001b[36m(ClientAppActor pid=4132010)\u001b[0m Length of params: 329\n"
     ]
    },
    {
     "name": "stderr",
     "output_type": "stream",
     "text": [
      "\u001b[36m(ClientAppActor pid=4132010)\u001b[0m \u001b[93mWARNING \u001b[0m:   Deprecation Warning: The `client_fn` function must return an instance of `Client`, but an instance of `NumpyClient` was returned. Please use `NumPyClient.to_client()` method to convert it to `Client`.\n"
     ]
    },
    {
     "name": "stdout",
     "output_type": "stream",
     "text": [
      "\u001b[36m(ClientAppActor pid=4132010)\u001b[0m [Client 4] fit, config: {'lr': 0.001}\n",
      "\u001b[36m(ClientAppActor pid=4132010)\u001b[0m Updating parameters 329\n",
      "\u001b[36m(ClientAppActor pid=4132010)\u001b[0m Setting parameters...\n",
      "\u001b[36m(ClientAppActor pid=4132010)\u001b[0m Client parameters set\n",
      "\u001b[36m(ClientAppActor pid=4132010)\u001b[0m Starting client training...\n",
      "\u001b[36m(ClientAppActor pid=4132010)\u001b[0m Running epoch 0/5\n",
      "\u001b[36m(ClientAppActor pid=4132010)\u001b[0m Epoch 1: train loss 0.004262444437604006, accuracy 1.0\n",
      "\u001b[36m(ClientAppActor pid=4132010)\u001b[0m Running epoch 1/5\n",
      "\u001b[36m(ClientAppActor pid=4132010)\u001b[0m Epoch 2: train loss 0.00010614262506399092, accuracy 1.0\n",
      "\u001b[36m(ClientAppActor pid=4132010)\u001b[0m Running epoch 2/5\n",
      "\u001b[36m(ClientAppActor pid=4132010)\u001b[0m Epoch 3: train loss 0.00016761170379715238, accuracy 1.0\n",
      "\u001b[36m(ClientAppActor pid=4132010)\u001b[0m Running epoch 3/5\n",
      "\u001b[36m(ClientAppActor pid=4132010)\u001b[0m Epoch 4: train loss 1.1625173518843057e-05, accuracy 1.0\n",
      "\u001b[36m(ClientAppActor pid=4132010)\u001b[0m Running epoch 4/5\n",
      "\u001b[36m(ClientAppActor pid=4132010)\u001b[0m Epoch 5: train loss 2.1269249678449628e-06, accuracy 1.0\n",
      "\u001b[36m(ClientAppActor pid=4132010)\u001b[0m Training completed!\n",
      "\u001b[36m(ClientAppActor pid=4132010)\u001b[0m Length of params: 329\n"
     ]
    },
    {
     "name": "stderr",
     "output_type": "stream",
     "text": [
      "\u001b[36m(ClientAppActor pid=4132010)\u001b[0m \u001b[93mWARNING \u001b[0m:   Deprecation Warning: The `client_fn` function must return an instance of `Client`, but an instance of `NumpyClient` was returned. Please use `NumPyClient.to_client()` method to convert it to `Client`.\n"
     ]
    },
    {
     "name": "stdout",
     "output_type": "stream",
     "text": [
      "\u001b[36m(ClientAppActor pid=4132010)\u001b[0m [Client 1] fit, config: {'lr': 0.001}\n",
      "\u001b[36m(ClientAppActor pid=4132010)\u001b[0m Updating parameters 329\n",
      "\u001b[36m(ClientAppActor pid=4132010)\u001b[0m Setting parameters...\n",
      "\u001b[36m(ClientAppActor pid=4132010)\u001b[0m Client parameters set\n",
      "\u001b[36m(ClientAppActor pid=4132010)\u001b[0m Starting client training...\n",
      "\u001b[36m(ClientAppActor pid=4132010)\u001b[0m Running epoch 0/5\n",
      "\u001b[36m(ClientAppActor pid=4132010)\u001b[0m Epoch 1: train loss 0.30404164759736313, accuracy 0.8421052631578947\n",
      "\u001b[36m(ClientAppActor pid=4132010)\u001b[0m Running epoch 1/5\n",
      "\u001b[36m(ClientAppActor pid=4132010)\u001b[0m Epoch 2: train loss 0.09723293742066935, accuracy 0.9473684210526315\n",
      "\u001b[36m(ClientAppActor pid=4132010)\u001b[0m Running epoch 2/5\n",
      "\u001b[36m(ClientAppActor pid=4132010)\u001b[0m Epoch 3: train loss 0.18692840400495028, accuracy 0.9473684210526315\n",
      "\u001b[36m(ClientAppActor pid=4132010)\u001b[0m Running epoch 3/5\n",
      "\u001b[36m(ClientAppActor pid=4132010)\u001b[0m Epoch 4: train loss 0.025026198084417143, accuracy 1.0\n",
      "\u001b[36m(ClientAppActor pid=4132010)\u001b[0m Running epoch 4/5\n",
      "\u001b[36m(ClientAppActor pid=4132010)\u001b[0m Epoch 5: train loss 0.015994358097056027, accuracy 1.0\n",
      "\u001b[36m(ClientAppActor pid=4132010)\u001b[0m Training completed!\n",
      "\u001b[36m(ClientAppActor pid=4132010)\u001b[0m Length of params: 329\n"
     ]
    },
    {
     "name": "stderr",
     "output_type": "stream",
     "text": [
      "\u001b[36m(ClientAppActor pid=4132010)\u001b[0m \u001b[93mWARNING \u001b[0m:   Deprecation Warning: The `client_fn` function must return an instance of `Client`, but an instance of `NumpyClient` was returned. Please use `NumPyClient.to_client()` method to convert it to `Client`.\n"
     ]
    },
    {
     "name": "stdout",
     "output_type": "stream",
     "text": [
      "\u001b[36m(ClientAppActor pid=4132010)\u001b[0m [Client 6] fit, config: {'lr': 0.003}\n",
      "\u001b[36m(ClientAppActor pid=4132010)\u001b[0m Updating parameters 329\n",
      "\u001b[36m(ClientAppActor pid=4132010)\u001b[0m Setting parameters...\n",
      "\u001b[36m(ClientAppActor pid=4132010)\u001b[0m Client parameters set\n",
      "\u001b[36m(ClientAppActor pid=4132010)\u001b[0m Starting client training...\n",
      "\u001b[36m(ClientAppActor pid=4132010)\u001b[0m Running epoch 0/5\n",
      "\u001b[36m(ClientAppActor pid=4132010)\u001b[0m Epoch 1: train loss 0.15282060598072253, accuracy 0.8947368421052632\n",
      "\u001b[36m(ClientAppActor pid=4132010)\u001b[0m Running epoch 1/5\n",
      "\u001b[36m(ClientAppActor pid=4132010)\u001b[0m Epoch 2: train loss 0.029527927797875907, accuracy 1.0\n",
      "\u001b[36m(ClientAppActor pid=4132010)\u001b[0m Running epoch 2/5\n",
      "\u001b[36m(ClientAppActor pid=4132010)\u001b[0m Epoch 3: train loss 0.00755097854294275, accuracy 1.0\n",
      "\u001b[36m(ClientAppActor pid=4132010)\u001b[0m Running epoch 3/5\n",
      "\u001b[36m(ClientAppActor pid=4132010)\u001b[0m Epoch 4: train loss 0.05621905425735014, accuracy 0.9473684210526315\n",
      "\u001b[36m(ClientAppActor pid=4132010)\u001b[0m Running epoch 4/5\n",
      "\u001b[36m(ClientAppActor pid=4132010)\u001b[0m Epoch 5: train loss 0.005043289624154568, accuracy 1.0\n",
      "\u001b[36m(ClientAppActor pid=4132010)\u001b[0m Training completed!\n",
      "\u001b[36m(ClientAppActor pid=4132010)\u001b[0m Length of params: 329\n"
     ]
    },
    {
     "name": "stderr",
     "output_type": "stream",
     "text": [
      "\u001b[36m(ClientAppActor pid=4132010)\u001b[0m \u001b[93mWARNING \u001b[0m:   Deprecation Warning: The `client_fn` function must return an instance of `Client`, but an instance of `NumpyClient` was returned. Please use `NumPyClient.to_client()` method to convert it to `Client`.\n"
     ]
    },
    {
     "name": "stdout",
     "output_type": "stream",
     "text": [
      "\u001b[36m(ClientAppActor pid=4132010)\u001b[0m [Client 0] fit, config: {'lr': 0.003}\n",
      "\u001b[36m(ClientAppActor pid=4132010)\u001b[0m Updating parameters 329\n",
      "\u001b[36m(ClientAppActor pid=4132010)\u001b[0m Setting parameters...\n",
      "\u001b[36m(ClientAppActor pid=4132010)\u001b[0m Client parameters set\n",
      "\u001b[36m(ClientAppActor pid=4132010)\u001b[0m Starting client training...\n",
      "\u001b[36m(ClientAppActor pid=4132010)\u001b[0m Running epoch 0/5\n",
      "\u001b[36m(ClientAppActor pid=4132010)\u001b[0m Epoch 1: train loss 0.10042181336566021, accuracy 0.9473684210526315\n",
      "\u001b[36m(ClientAppActor pid=4132010)\u001b[0m Running epoch 1/5\n",
      "\u001b[36m(ClientAppActor pid=4132010)\u001b[0m Epoch 2: train loss 0.006981445957391866, accuracy 1.0\n",
      "\u001b[36m(ClientAppActor pid=4132010)\u001b[0m Running epoch 2/5\n",
      "\u001b[36m(ClientAppActor pid=4132010)\u001b[0m Epoch 3: train loss 0.001044319774097714, accuracy 1.0\n",
      "\u001b[36m(ClientAppActor pid=4132010)\u001b[0m Running epoch 3/5\n",
      "\u001b[36m(ClientAppActor pid=4132010)\u001b[0m Epoch 4: train loss 0.0030464797991474994, accuracy 1.0\n",
      "\u001b[36m(ClientAppActor pid=4132010)\u001b[0m Running epoch 4/5\n",
      "\u001b[36m(ClientAppActor pid=4132010)\u001b[0m Epoch 5: train loss 0.0029850796047053577, accuracy 1.0\n",
      "\u001b[36m(ClientAppActor pid=4132010)\u001b[0m Training completed!\n",
      "\u001b[36m(ClientAppActor pid=4132010)\u001b[0m Length of params: 329\n"
     ]
    },
    {
     "name": "stderr",
     "output_type": "stream",
     "text": [
      "\u001b[36m(ClientAppActor pid=4132010)\u001b[0m \u001b[93mWARNING \u001b[0m:   Deprecation Warning: The `client_fn` function must return an instance of `Client`, but an instance of `NumpyClient` was returned. Please use `NumPyClient.to_client()` method to convert it to `Client`.\n"
     ]
    },
    {
     "name": "stdout",
     "output_type": "stream",
     "text": [
      "\u001b[36m(ClientAppActor pid=4132010)\u001b[0m [Client 9] fit, config: {'lr': 0.003}\n",
      "\u001b[36m(ClientAppActor pid=4132010)\u001b[0m Updating parameters 329\n",
      "\u001b[36m(ClientAppActor pid=4132010)\u001b[0m Setting parameters...\n",
      "\u001b[36m(ClientAppActor pid=4132010)\u001b[0m Client parameters set\n",
      "\u001b[36m(ClientAppActor pid=4132010)\u001b[0m Starting client training...\n",
      "\u001b[36m(ClientAppActor pid=4132010)\u001b[0m Running epoch 0/5\n",
      "\u001b[36m(ClientAppActor pid=4132010)\u001b[0m Epoch 1: train loss 0.22493676900863646, accuracy 0.88\n",
      "\u001b[36m(ClientAppActor pid=4132010)\u001b[0m Running epoch 1/5\n",
      "\u001b[36m(ClientAppActor pid=4132010)\u001b[0m Epoch 2: train loss 0.10458860889542848, accuracy 0.92\n",
      "\u001b[36m(ClientAppActor pid=4132010)\u001b[0m Running epoch 2/5\n",
      "\u001b[36m(ClientAppActor pid=4132010)\u001b[0m Epoch 3: train loss 0.04725580841302872, accuracy 1.0\n",
      "\u001b[36m(ClientAppActor pid=4132010)\u001b[0m Running epoch 3/5\n",
      "\u001b[36m(ClientAppActor pid=4132010)\u001b[0m Epoch 4: train loss 0.016296607814729212, accuracy 1.0\n",
      "\u001b[36m(ClientAppActor pid=4132010)\u001b[0m Running epoch 4/5\n",
      "\u001b[36m(ClientAppActor pid=4132010)\u001b[0m Epoch 5: train loss 0.005416542859748006, accuracy 1.0\n",
      "\u001b[36m(ClientAppActor pid=4132010)\u001b[0m Training completed!\n",
      "\u001b[36m(ClientAppActor pid=4132010)\u001b[0m Length of params: 329\n"
     ]
    },
    {
     "name": "stderr",
     "output_type": "stream",
     "text": [
      "\u001b[36m(ClientAppActor pid=4132010)\u001b[0m \u001b[93mWARNING \u001b[0m:   Deprecation Warning: The `client_fn` function must return an instance of `Client`, but an instance of `NumpyClient` was returned. Please use `NumPyClient.to_client()` method to convert it to `Client`.\n"
     ]
    },
    {
     "name": "stdout",
     "output_type": "stream",
     "text": [
      "\u001b[36m(ClientAppActor pid=4132010)\u001b[0m [Client 8] fit, config: {'lr': 0.003}\n",
      "\u001b[36m(ClientAppActor pid=4132010)\u001b[0m Updating parameters 329\n",
      "\u001b[36m(ClientAppActor pid=4132010)\u001b[0m Setting parameters...\n",
      "\u001b[36m(ClientAppActor pid=4132010)\u001b[0m Client parameters set\n",
      "\u001b[36m(ClientAppActor pid=4132010)\u001b[0m Starting client training...\n",
      "\u001b[36m(ClientAppActor pid=4132010)\u001b[0m Running epoch 0/5\n",
      "\u001b[36m(ClientAppActor pid=4132010)\u001b[0m Epoch 1: train loss 0.2039490216656735, accuracy 0.9473684210526315\n",
      "\u001b[36m(ClientAppActor pid=4132010)\u001b[0m Running epoch 1/5\n",
      "\u001b[36m(ClientAppActor pid=4132010)\u001b[0m Epoch 2: train loss 0.045134117140581735, accuracy 1.0\n",
      "\u001b[36m(ClientAppActor pid=4132010)\u001b[0m Running epoch 2/5\n",
      "\u001b[36m(ClientAppActor pid=4132010)\u001b[0m Epoch 3: train loss 0.11659600546485499, accuracy 0.9473684210526315\n",
      "\u001b[36m(ClientAppActor pid=4132010)\u001b[0m Running epoch 3/5\n",
      "\u001b[36m(ClientAppActor pid=4132010)\u001b[0m Epoch 4: train loss 0.030612974942318703, accuracy 1.0\n",
      "\u001b[36m(ClientAppActor pid=4132010)\u001b[0m Running epoch 4/5\n",
      "\u001b[36m(ClientAppActor pid=4132010)\u001b[0m Epoch 5: train loss 0.038056787936703154, accuracy 1.0\n",
      "\u001b[36m(ClientAppActor pid=4132010)\u001b[0m Training completed!\n",
      "\u001b[36m(ClientAppActor pid=4132010)\u001b[0m Length of params: 329\n"
     ]
    },
    {
     "name": "stderr",
     "output_type": "stream",
     "text": [
      "\u001b[36m(ClientAppActor pid=4132010)\u001b[0m \u001b[93mWARNING \u001b[0m:   Deprecation Warning: The `client_fn` function must return an instance of `Client`, but an instance of `NumpyClient` was returned. Please use `NumPyClient.to_client()` method to convert it to `Client`.\n"
     ]
    },
    {
     "name": "stdout",
     "output_type": "stream",
     "text": [
      "\u001b[36m(ClientAppActor pid=4132010)\u001b[0m [Client 3] fit, config: {'lr': 0.003}\n",
      "\u001b[36m(ClientAppActor pid=4132010)\u001b[0m Updating parameters 329\n",
      "\u001b[36m(ClientAppActor pid=4132010)\u001b[0m Setting parameters...\n",
      "\u001b[36m(ClientAppActor pid=4132010)\u001b[0m Client parameters set\n",
      "\u001b[36m(ClientAppActor pid=4132010)\u001b[0m Starting client training...\n",
      "\u001b[36m(ClientAppActor pid=4132010)\u001b[0m Running epoch 0/5\n",
      "\u001b[36m(ClientAppActor pid=4132010)\u001b[0m Epoch 1: train loss 0.07642361717788797, accuracy 0.9473684210526315\n",
      "\u001b[36m(ClientAppActor pid=4132010)\u001b[0m Running epoch 1/5\n",
      "\u001b[36m(ClientAppActor pid=4132010)\u001b[0m Epoch 2: train loss 0.009278481397287626, accuracy 1.0\n",
      "\u001b[36m(ClientAppActor pid=4132010)\u001b[0m Running epoch 2/5\n",
      "\u001b[36m(ClientAppActor pid=4132010)\u001b[0m Epoch 3: train loss 0.018760637159606342, accuracy 1.0\n",
      "\u001b[36m(ClientAppActor pid=4132010)\u001b[0m Running epoch 3/5\n",
      "\u001b[36m(ClientAppActor pid=4132010)\u001b[0m Epoch 4: train loss 0.002531814426842366, accuracy 1.0\n",
      "\u001b[36m(ClientAppActor pid=4132010)\u001b[0m Running epoch 4/5\n",
      "\u001b[36m(ClientAppActor pid=4132010)\u001b[0m Epoch 5: train loss 0.000213405635134366, accuracy 1.0\n",
      "\u001b[36m(ClientAppActor pid=4132010)\u001b[0m Training completed!\n",
      "\u001b[36m(ClientAppActor pid=4132010)\u001b[0m Length of params: 329\n"
     ]
    },
    {
     "name": "stderr",
     "output_type": "stream",
     "text": [
      "\u001b[92mINFO \u001b[0m:      aggregate_fit: received 10 results and 0 failures\n"
     ]
    },
    {
     "name": "stdout",
     "output_type": "stream",
     "text": [
      "Evaluating global model\n",
      "Updating parameters 329\n",
      "Setting parameters...\n",
      "Parameter set\n",
      "Starting client validation...\n",
      "Validataion accuracy = 0.9\n",
      "Global evaluation round 3 loss = 0.043616305602093536 accuracy = 0.9\n"
     ]
    },
    {
     "name": "stderr",
     "output_type": "stream",
     "text": [
      "\u001b[92mINFO \u001b[0m:      fit progress: (3, 0.043616305602093536, {}, 1434.6807689859997)\n",
      "\u001b[92mINFO \u001b[0m:      configure_evaluate: strategy sampled 10 clients (out of 10)\n"
     ]
    },
    {
     "name": "stdout",
     "output_type": "stream",
     "text": [
      "Model saved at ./fl_checkpointsswintransformer_e5_c10_r5_1/fl_densenet_3.pth\n"
     ]
    },
    {
     "name": "stderr",
     "output_type": "stream",
     "text": [
      "\u001b[36m(ClientAppActor pid=4132010)\u001b[0m \u001b[93mWARNING \u001b[0m:   Deprecation Warning: The `client_fn` function must return an instance of `Client`, but an instance of `NumpyClient` was returned. Please use `NumPyClient.to_client()` method to convert it to `Client`.\n"
     ]
    },
    {
     "name": "stdout",
     "output_type": "stream",
     "text": [
      "\u001b[36m(ClientAppActor pid=4132010)\u001b[0m [Client 8] evaluate, config: {}\n",
      "\u001b[36m(ClientAppActor pid=4132010)\u001b[0m Updating parameters 329\n",
      "\u001b[36m(ClientAppActor pid=4132010)\u001b[0m Setting parameters...\n",
      "\u001b[36m(ClientAppActor pid=4132010)\u001b[0m Starting client validation...\n",
      "\u001b[36m(ClientAppActor pid=4132010)\u001b[0m Validataion accuracy = 0.9\n",
      "\u001b[36m(ClientAppActor pid=4132010)\u001b[0m Evaluation loss = 0.043616305602093536 accuracy = 0.9\n"
     ]
    },
    {
     "name": "stderr",
     "output_type": "stream",
     "text": [
      "\u001b[36m(ClientAppActor pid=4132010)\u001b[0m \u001b[93mWARNING \u001b[0m:   Deprecation Warning: The `client_fn` function must return an instance of `Client`, but an instance of `NumpyClient` was returned. Please use `NumPyClient.to_client()` method to convert it to `Client`.\n"
     ]
    },
    {
     "name": "stdout",
     "output_type": "stream",
     "text": [
      "\u001b[36m(ClientAppActor pid=4132010)\u001b[0m [Client 3] evaluate, config: {}\n",
      "\u001b[36m(ClientAppActor pid=4132010)\u001b[0m Updating parameters 329\n",
      "\u001b[36m(ClientAppActor pid=4132010)\u001b[0m Setting parameters...\n",
      "\u001b[36m(ClientAppActor pid=4132010)\u001b[0m Starting client validation...\n",
      "\u001b[36m(ClientAppActor pid=4132010)\u001b[0m Validataion accuracy = 0.9\n",
      "\u001b[36m(ClientAppActor pid=4132010)\u001b[0m Evaluation loss = 0.043616305602093536 accuracy = 0.9\n"
     ]
    },
    {
     "name": "stderr",
     "output_type": "stream",
     "text": [
      "\u001b[36m(ClientAppActor pid=4132010)\u001b[0m \u001b[93mWARNING \u001b[0m:   Deprecation Warning: The `client_fn` function must return an instance of `Client`, but an instance of `NumpyClient` was returned. Please use `NumPyClient.to_client()` method to convert it to `Client`.\n"
     ]
    },
    {
     "name": "stdout",
     "output_type": "stream",
     "text": [
      "\u001b[36m(ClientAppActor pid=4132010)\u001b[0m [Client 1] evaluate, config: {}\n",
      "\u001b[36m(ClientAppActor pid=4132010)\u001b[0m Updating parameters 329\n",
      "\u001b[36m(ClientAppActor pid=4132010)\u001b[0m Setting parameters...\n",
      "\u001b[36m(ClientAppActor pid=4132010)\u001b[0m Starting client validation...\n",
      "\u001b[36m(ClientAppActor pid=4132010)\u001b[0m Validataion accuracy = 0.9\n",
      "\u001b[36m(ClientAppActor pid=4132010)\u001b[0m Evaluation loss = 0.043616305602093536 accuracy = 0.9\n"
     ]
    },
    {
     "name": "stderr",
     "output_type": "stream",
     "text": [
      "\u001b[36m(ClientAppActor pid=4132010)\u001b[0m \u001b[93mWARNING \u001b[0m:   Deprecation Warning: The `client_fn` function must return an instance of `Client`, but an instance of `NumpyClient` was returned. Please use `NumPyClient.to_client()` method to convert it to `Client`.\n"
     ]
    },
    {
     "name": "stdout",
     "output_type": "stream",
     "text": [
      "\u001b[36m(ClientAppActor pid=4132010)\u001b[0m [Client 5] evaluate, config: {}\n",
      "\u001b[36m(ClientAppActor pid=4132010)\u001b[0m Updating parameters 329\n",
      "\u001b[36m(ClientAppActor pid=4132010)\u001b[0m Setting parameters...\n",
      "\u001b[36m(ClientAppActor pid=4132010)\u001b[0m Starting client validation...\n",
      "\u001b[36m(ClientAppActor pid=4132010)\u001b[0m Validataion accuracy = 0.9\n",
      "\u001b[36m(ClientAppActor pid=4132010)\u001b[0m Evaluation loss = 0.043616305602093536 accuracy = 0.9\n"
     ]
    },
    {
     "name": "stderr",
     "output_type": "stream",
     "text": [
      "\u001b[36m(ClientAppActor pid=4132010)\u001b[0m \u001b[93mWARNING \u001b[0m:   Deprecation Warning: The `client_fn` function must return an instance of `Client`, but an instance of `NumpyClient` was returned. Please use `NumPyClient.to_client()` method to convert it to `Client`.\n"
     ]
    },
    {
     "name": "stdout",
     "output_type": "stream",
     "text": [
      "\u001b[36m(ClientAppActor pid=4132010)\u001b[0m [Client 9] evaluate, config: {}\n",
      "\u001b[36m(ClientAppActor pid=4132010)\u001b[0m Updating parameters 329\n",
      "\u001b[36m(ClientAppActor pid=4132010)\u001b[0m Setting parameters...\n",
      "\u001b[36m(ClientAppActor pid=4132010)\u001b[0m Starting client validation...\n",
      "\u001b[36m(ClientAppActor pid=4132010)\u001b[0m Validataion accuracy = 0.9\n",
      "\u001b[36m(ClientAppActor pid=4132010)\u001b[0m Evaluation loss = 0.043616305602093536 accuracy = 0.9\n"
     ]
    },
    {
     "name": "stderr",
     "output_type": "stream",
     "text": [
      "\u001b[36m(ClientAppActor pid=4132010)\u001b[0m \u001b[93mWARNING \u001b[0m:   Deprecation Warning: The `client_fn` function must return an instance of `Client`, but an instance of `NumpyClient` was returned. Please use `NumPyClient.to_client()` method to convert it to `Client`.\n"
     ]
    },
    {
     "name": "stdout",
     "output_type": "stream",
     "text": [
      "\u001b[36m(ClientAppActor pid=4132010)\u001b[0m [Client 4] evaluate, config: {}\n",
      "\u001b[36m(ClientAppActor pid=4132010)\u001b[0m Updating parameters 329\n",
      "\u001b[36m(ClientAppActor pid=4132010)\u001b[0m Setting parameters...\n",
      "\u001b[36m(ClientAppActor pid=4132010)\u001b[0m Starting client validation...\n",
      "\u001b[36m(ClientAppActor pid=4132010)\u001b[0m Validataion accuracy = 0.9\n",
      "\u001b[36m(ClientAppActor pid=4132010)\u001b[0m Evaluation loss = 0.043616305602093536 accuracy = 0.9\n"
     ]
    },
    {
     "name": "stderr",
     "output_type": "stream",
     "text": [
      "\u001b[36m(ClientAppActor pid=4132010)\u001b[0m \u001b[93mWARNING \u001b[0m:   Deprecation Warning: The `client_fn` function must return an instance of `Client`, but an instance of `NumpyClient` was returned. Please use `NumPyClient.to_client()` method to convert it to `Client`.\n"
     ]
    },
    {
     "name": "stdout",
     "output_type": "stream",
     "text": [
      "\u001b[36m(ClientAppActor pid=4132010)\u001b[0m [Client 2] evaluate, config: {}\n",
      "\u001b[36m(ClientAppActor pid=4132010)\u001b[0m Updating parameters 329\n",
      "\u001b[36m(ClientAppActor pid=4132010)\u001b[0m Setting parameters...\n",
      "\u001b[36m(ClientAppActor pid=4132010)\u001b[0m Starting client validation...\n",
      "\u001b[36m(ClientAppActor pid=4132010)\u001b[0m Validataion accuracy = 0.9\n",
      "\u001b[36m(ClientAppActor pid=4132010)\u001b[0m Evaluation loss = 0.043616305602093536 accuracy = 0.9\n"
     ]
    },
    {
     "name": "stderr",
     "output_type": "stream",
     "text": [
      "\u001b[36m(ClientAppActor pid=4132010)\u001b[0m \u001b[93mWARNING \u001b[0m:   Deprecation Warning: The `client_fn` function must return an instance of `Client`, but an instance of `NumpyClient` was returned. Please use `NumPyClient.to_client()` method to convert it to `Client`.\n"
     ]
    },
    {
     "name": "stdout",
     "output_type": "stream",
     "text": [
      "\u001b[36m(ClientAppActor pid=4132010)\u001b[0m [Client 0] evaluate, config: {}\n",
      "\u001b[36m(ClientAppActor pid=4132010)\u001b[0m Updating parameters 329\n",
      "\u001b[36m(ClientAppActor pid=4132010)\u001b[0m Setting parameters...\n",
      "\u001b[36m(ClientAppActor pid=4132010)\u001b[0m Starting client validation...\n",
      "\u001b[36m(ClientAppActor pid=4132010)\u001b[0m Validataion accuracy = 0.9\n",
      "\u001b[36m(ClientAppActor pid=4132010)\u001b[0m Evaluation loss = 0.043616305602093536 accuracy = 0.9\n"
     ]
    },
    {
     "name": "stderr",
     "output_type": "stream",
     "text": [
      "\u001b[36m(ClientAppActor pid=4132010)\u001b[0m \u001b[93mWARNING \u001b[0m:   Deprecation Warning: The `client_fn` function must return an instance of `Client`, but an instance of `NumpyClient` was returned. Please use `NumPyClient.to_client()` method to convert it to `Client`.\n"
     ]
    },
    {
     "name": "stdout",
     "output_type": "stream",
     "text": [
      "\u001b[36m(ClientAppActor pid=4132010)\u001b[0m [Client 6] evaluate, config: {}\n",
      "\u001b[36m(ClientAppActor pid=4132010)\u001b[0m Updating parameters 329\n",
      "\u001b[36m(ClientAppActor pid=4132010)\u001b[0m Setting parameters...\n",
      "\u001b[36m(ClientAppActor pid=4132010)\u001b[0m Starting client validation...\n",
      "\u001b[36m(ClientAppActor pid=4132010)\u001b[0m Validataion accuracy = 0.9\n",
      "\u001b[36m(ClientAppActor pid=4132010)\u001b[0m Evaluation loss = 0.043616305602093536 accuracy = 0.9\n"
     ]
    },
    {
     "name": "stderr",
     "output_type": "stream",
     "text": [
      "\u001b[36m(ClientAppActor pid=4132010)\u001b[0m \u001b[93mWARNING \u001b[0m:   Deprecation Warning: The `client_fn` function must return an instance of `Client`, but an instance of `NumpyClient` was returned. Please use `NumPyClient.to_client()` method to convert it to `Client`.\n"
     ]
    },
    {
     "name": "stdout",
     "output_type": "stream",
     "text": [
      "\u001b[36m(ClientAppActor pid=4132010)\u001b[0m [Client 7] evaluate, config: {}\n",
      "\u001b[36m(ClientAppActor pid=4132010)\u001b[0m Updating parameters 329\n",
      "\u001b[36m(ClientAppActor pid=4132010)\u001b[0m Setting parameters...\n",
      "\u001b[36m(ClientAppActor pid=4132010)\u001b[0m Starting client validation...\n"
     ]
    },
    {
     "name": "stderr",
     "output_type": "stream",
     "text": [
      "\u001b[92mINFO \u001b[0m:      aggregate_evaluate: received 10 results and 0 failures\n",
      "\u001b[92mINFO \u001b[0m:      \n",
      "\u001b[92mINFO \u001b[0m:      [ROUND 4]\n",
      "\u001b[92mINFO \u001b[0m:      configure_fit: strategy sampled 10 clients (out of 10)\n"
     ]
    },
    {
     "name": "stdout",
     "output_type": "stream",
     "text": [
      "Starting configure fit function...\n",
      "Sample size = 10 Min Num Clients = 2 Clients = [<flwr.simulation.ray_transport.ray_client_proxy.RayActorClientProxy object at 0x155491d76610>, <flwr.simulation.ray_transport.ray_client_proxy.RayActorClientProxy object at 0x155491d76b90>, <flwr.simulation.ray_transport.ray_client_proxy.RayActorClientProxy object at 0x155491d76510>, <flwr.simulation.ray_transport.ray_client_proxy.RayActorClientProxy object at 0x155491d76c50>, <flwr.simulation.ray_transport.ray_client_proxy.RayActorClientProxy object at 0x155491d76910>, <flwr.simulation.ray_transport.ray_client_proxy.RayActorClientProxy object at 0x155491d76bd0>, <flwr.simulation.ray_transport.ray_client_proxy.RayActorClientProxy object at 0x155491d76d50>, <flwr.simulation.ray_transport.ray_client_proxy.RayActorClientProxy object at 0x155491d76dd0>, <flwr.simulation.ray_transport.ray_client_proxy.RayActorClientProxy object at 0x155491d76cd0>, <flwr.simulation.ray_transport.ray_client_proxy.RayActorClientProxy object at 0x155491d76e50>]\n",
      "Number of clients = 10\n",
      "Fit Configurations\n",
      "\u001b[36m(ClientAppActor pid=4132010)\u001b[0m Validataion accuracy = 0.9\n",
      "\u001b[36m(ClientAppActor pid=4132010)\u001b[0m Evaluation loss = 0.043616305602093536 accuracy = 0.9\n"
     ]
    },
    {
     "name": "stderr",
     "output_type": "stream",
     "text": [
      "\u001b[36m(ClientAppActor pid=4132010)\u001b[0m \u001b[93mWARNING \u001b[0m:   Deprecation Warning: The `client_fn` function must return an instance of `Client`, but an instance of `NumpyClient` was returned. Please use `NumPyClient.to_client()` method to convert it to `Client`.\n"
     ]
    },
    {
     "name": "stdout",
     "output_type": "stream",
     "text": [
      "\u001b[36m(ClientAppActor pid=4132010)\u001b[0m [Client 1] fit, config: {'lr': 0.001}\n",
      "\u001b[36m(ClientAppActor pid=4132010)\u001b[0m Updating parameters 329\n",
      "\u001b[36m(ClientAppActor pid=4132010)\u001b[0m Setting parameters...\n",
      "\u001b[36m(ClientAppActor pid=4132010)\u001b[0m Client parameters set\n",
      "\u001b[36m(ClientAppActor pid=4132010)\u001b[0m Starting client training...\n",
      "\u001b[36m(ClientAppActor pid=4132010)\u001b[0m Running epoch 0/5\n",
      "\u001b[36m(ClientAppActor pid=4132010)\u001b[0m Epoch 1: train loss 0.3304998950579351, accuracy 0.9473684210526315\n",
      "\u001b[36m(ClientAppActor pid=4132010)\u001b[0m Running epoch 1/5\n",
      "\u001b[36m(ClientAppActor pid=4132010)\u001b[0m Epoch 2: train loss 0.7706853261609611, accuracy 0.7894736842105263\n",
      "\u001b[36m(ClientAppActor pid=4132010)\u001b[0m Running epoch 2/5\n",
      "\u001b[36m(ClientAppActor pid=4132010)\u001b[0m Epoch 3: train loss 0.029156473881908153, accuracy 1.0\n",
      "\u001b[36m(ClientAppActor pid=4132010)\u001b[0m Running epoch 3/5\n",
      "\u001b[36m(ClientAppActor pid=4132010)\u001b[0m Epoch 4: train loss 0.1170035892803418, accuracy 0.9473684210526315\n",
      "\u001b[36m(ClientAppActor pid=4132010)\u001b[0m Running epoch 4/5\n",
      "\u001b[36m(ClientAppActor pid=4132010)\u001b[0m Epoch 5: train loss 0.04510893496243577, accuracy 1.0\n",
      "\u001b[36m(ClientAppActor pid=4132010)\u001b[0m Training completed!\n",
      "\u001b[36m(ClientAppActor pid=4132010)\u001b[0m Length of params: 329\n"
     ]
    },
    {
     "name": "stderr",
     "output_type": "stream",
     "text": [
      "\u001b[36m(ClientAppActor pid=4132010)\u001b[0m \u001b[93mWARNING \u001b[0m:   Deprecation Warning: The `client_fn` function must return an instance of `Client`, but an instance of `NumpyClient` was returned. Please use `NumPyClient.to_client()` method to convert it to `Client`.\n"
     ]
    },
    {
     "name": "stdout",
     "output_type": "stream",
     "text": [
      "\u001b[36m(ClientAppActor pid=4132010)\u001b[0m [Client 3] fit, config: {'lr': 0.001}\n",
      "\u001b[36m(ClientAppActor pid=4132010)\u001b[0m Updating parameters 329\n",
      "\u001b[36m(ClientAppActor pid=4132010)\u001b[0m Setting parameters...\n",
      "\u001b[36m(ClientAppActor pid=4132010)\u001b[0m Client parameters set\n",
      "\u001b[36m(ClientAppActor pid=4132010)\u001b[0m Starting client training...\n",
      "\u001b[36m(ClientAppActor pid=4132010)\u001b[0m Running epoch 0/5\n",
      "\u001b[36m(ClientAppActor pid=4132010)\u001b[0m Epoch 1: train loss 0.0029082258598033435, accuracy 1.0\n",
      "\u001b[36m(ClientAppActor pid=4132010)\u001b[0m Running epoch 1/5\n",
      "\u001b[36m(ClientAppActor pid=4132010)\u001b[0m Epoch 2: train loss 0.38238219741584833, accuracy 0.9473684210526315\n",
      "\u001b[36m(ClientAppActor pid=4132010)\u001b[0m Running epoch 2/5\n",
      "\u001b[36m(ClientAppActor pid=4132010)\u001b[0m Epoch 3: train loss 0.022203178586144196, accuracy 1.0\n",
      "\u001b[36m(ClientAppActor pid=4132010)\u001b[0m Running epoch 3/5\n",
      "\u001b[36m(ClientAppActor pid=4132010)\u001b[0m Epoch 4: train loss 0.0078317838304333, accuracy 1.0\n",
      "\u001b[36m(ClientAppActor pid=4132010)\u001b[0m Running epoch 4/5\n",
      "\u001b[36m(ClientAppActor pid=4132010)\u001b[0m Epoch 5: train loss 0.0017461873472999095, accuracy 1.0\n",
      "\u001b[36m(ClientAppActor pid=4132010)\u001b[0m Training completed!\n",
      "\u001b[36m(ClientAppActor pid=4132010)\u001b[0m Length of params: 329\n"
     ]
    },
    {
     "name": "stderr",
     "output_type": "stream",
     "text": [
      "\u001b[36m(ClientAppActor pid=4132010)\u001b[0m \u001b[93mWARNING \u001b[0m:   Deprecation Warning: The `client_fn` function must return an instance of `Client`, but an instance of `NumpyClient` was returned. Please use `NumPyClient.to_client()` method to convert it to `Client`.\n"
     ]
    },
    {
     "name": "stdout",
     "output_type": "stream",
     "text": [
      "\u001b[36m(ClientAppActor pid=4132010)\u001b[0m [Client 0] fit, config: {'lr': 0.001}\n",
      "\u001b[36m(ClientAppActor pid=4132010)\u001b[0m Updating parameters 329\n",
      "\u001b[36m(ClientAppActor pid=4132010)\u001b[0m Setting parameters...\n",
      "\u001b[36m(ClientAppActor pid=4132010)\u001b[0m Client parameters set\n",
      "\u001b[36m(ClientAppActor pid=4132010)\u001b[0m Starting client training...\n",
      "\u001b[36m(ClientAppActor pid=4132010)\u001b[0m Running epoch 0/5\n",
      "\u001b[36m(ClientAppActor pid=4132010)\u001b[0m Epoch 1: train loss 0.018542542416406304, accuracy 1.0\n",
      "\u001b[36m(ClientAppActor pid=4132010)\u001b[0m Running epoch 1/5\n",
      "\u001b[36m(ClientAppActor pid=4132010)\u001b[0m Epoch 2: train loss 0.0011202643035128283, accuracy 1.0\n",
      "\u001b[36m(ClientAppActor pid=4132010)\u001b[0m Running epoch 2/5\n",
      "\u001b[36m(ClientAppActor pid=4132010)\u001b[0m Epoch 3: train loss 0.00037291470155315966, accuracy 1.0\n",
      "\u001b[36m(ClientAppActor pid=4132010)\u001b[0m Running epoch 3/5\n",
      "\u001b[36m(ClientAppActor pid=4132010)\u001b[0m Epoch 4: train loss 0.0008802401441100397, accuracy 1.0\n",
      "\u001b[36m(ClientAppActor pid=4132010)\u001b[0m Running epoch 4/5\n",
      "\u001b[36m(ClientAppActor pid=4132010)\u001b[0m Epoch 5: train loss 0.0003184972462660976, accuracy 1.0\n",
      "\u001b[36m(ClientAppActor pid=4132010)\u001b[0m Training completed!\n",
      "\u001b[36m(ClientAppActor pid=4132010)\u001b[0m Length of params: 329\n"
     ]
    },
    {
     "name": "stderr",
     "output_type": "stream",
     "text": [
      "\u001b[36m(ClientAppActor pid=4132010)\u001b[0m \u001b[93mWARNING \u001b[0m:   Deprecation Warning: The `client_fn` function must return an instance of `Client`, but an instance of `NumpyClient` was returned. Please use `NumPyClient.to_client()` method to convert it to `Client`.\n"
     ]
    },
    {
     "name": "stdout",
     "output_type": "stream",
     "text": [
      "\u001b[36m(ClientAppActor pid=4132010)\u001b[0m [Client 5] fit, config: {'lr': 0.001}\n",
      "\u001b[36m(ClientAppActor pid=4132010)\u001b[0m Updating parameters 329\n",
      "\u001b[36m(ClientAppActor pid=4132010)\u001b[0m Setting parameters...\n",
      "\u001b[36m(ClientAppActor pid=4132010)\u001b[0m Client parameters set\n",
      "\u001b[36m(ClientAppActor pid=4132010)\u001b[0m Starting client training...\n",
      "\u001b[36m(ClientAppActor pid=4132010)\u001b[0m Running epoch 0/5\n",
      "\u001b[36m(ClientAppActor pid=4132010)\u001b[0m Epoch 1: train loss 0.0014293613739458746, accuracy 1.0\n",
      "\u001b[36m(ClientAppActor pid=4132010)\u001b[0m Running epoch 1/5\n",
      "\u001b[36m(ClientAppActor pid=4132010)\u001b[0m Epoch 2: train loss 0.00033530826514929925, accuracy 1.0\n",
      "\u001b[36m(ClientAppActor pid=4132010)\u001b[0m Running epoch 2/5\n",
      "\u001b[36m(ClientAppActor pid=4132010)\u001b[0m Epoch 3: train loss 4.9051828311444535e-05, accuracy 1.0\n",
      "\u001b[36m(ClientAppActor pid=4132010)\u001b[0m Running epoch 3/5\n",
      "\u001b[36m(ClientAppActor pid=4132010)\u001b[0m Epoch 4: train loss 7.942992899762957e-06, accuracy 1.0\n",
      "\u001b[36m(ClientAppActor pid=4132010)\u001b[0m Running epoch 4/5\n",
      "\u001b[36m(ClientAppActor pid=4132010)\u001b[0m Epoch 5: train loss 4.912611182972844e-06, accuracy 1.0\n",
      "\u001b[36m(ClientAppActor pid=4132010)\u001b[0m Training completed!\n",
      "\u001b[36m(ClientAppActor pid=4132010)\u001b[0m Length of params: 329\n"
     ]
    },
    {
     "name": "stderr",
     "output_type": "stream",
     "text": [
      "\u001b[36m(ClientAppActor pid=4132010)\u001b[0m \u001b[93mWARNING \u001b[0m:   Deprecation Warning: The `client_fn` function must return an instance of `Client`, but an instance of `NumpyClient` was returned. Please use `NumPyClient.to_client()` method to convert it to `Client`.\n"
     ]
    },
    {
     "name": "stdout",
     "output_type": "stream",
     "text": [
      "\u001b[36m(ClientAppActor pid=4132010)\u001b[0m [Client 2] fit, config: {'lr': 0.001}\n",
      "\u001b[36m(ClientAppActor pid=4132010)\u001b[0m Updating parameters 329\n",
      "\u001b[36m(ClientAppActor pid=4132010)\u001b[0m Setting parameters...\n",
      "\u001b[36m(ClientAppActor pid=4132010)\u001b[0m Client parameters set\n",
      "\u001b[36m(ClientAppActor pid=4132010)\u001b[0m Starting client training...\n",
      "\u001b[36m(ClientAppActor pid=4132010)\u001b[0m Running epoch 0/5\n",
      "\u001b[36m(ClientAppActor pid=4132010)\u001b[0m Epoch 1: train loss 0.5810395855652658, accuracy 0.8421052631578947\n",
      "\u001b[36m(ClientAppActor pid=4132010)\u001b[0m Running epoch 1/5\n",
      "\u001b[36m(ClientAppActor pid=4132010)\u001b[0m Epoch 2: train loss 0.41012680530548096, accuracy 0.8421052631578947\n",
      "\u001b[36m(ClientAppActor pid=4132010)\u001b[0m Running epoch 2/5\n",
      "\u001b[36m(ClientAppActor pid=4132010)\u001b[0m Epoch 3: train loss 0.2350150105714994, accuracy 0.7894736842105263\n",
      "\u001b[36m(ClientAppActor pid=4132010)\u001b[0m Running epoch 3/5\n",
      "\u001b[36m(ClientAppActor pid=4132010)\u001b[0m Epoch 4: train loss 0.14102297942889364, accuracy 1.0\n",
      "\u001b[36m(ClientAppActor pid=4132010)\u001b[0m Running epoch 4/5\n",
      "\u001b[36m(ClientAppActor pid=4132010)\u001b[0m Epoch 5: train loss 0.10831316854608686, accuracy 1.0\n",
      "\u001b[36m(ClientAppActor pid=4132010)\u001b[0m Training completed!\n",
      "\u001b[36m(ClientAppActor pid=4132010)\u001b[0m Length of params: 329\n"
     ]
    },
    {
     "name": "stderr",
     "output_type": "stream",
     "text": [
      "\u001b[36m(ClientAppActor pid=4132010)\u001b[0m \u001b[93mWARNING \u001b[0m:   Deprecation Warning: The `client_fn` function must return an instance of `Client`, but an instance of `NumpyClient` was returned. Please use `NumPyClient.to_client()` method to convert it to `Client`.\n"
     ]
    },
    {
     "name": "stdout",
     "output_type": "stream",
     "text": [
      "\u001b[36m(ClientAppActor pid=4132010)\u001b[0m [Client 4] fit, config: {'lr': 0.003}\n",
      "\u001b[36m(ClientAppActor pid=4132010)\u001b[0m Updating parameters 329\n",
      "\u001b[36m(ClientAppActor pid=4132010)\u001b[0m Setting parameters...\n",
      "\u001b[36m(ClientAppActor pid=4132010)\u001b[0m Client parameters set\n",
      "\u001b[36m(ClientAppActor pid=4132010)\u001b[0m Starting client training...\n",
      "\u001b[36m(ClientAppActor pid=4132010)\u001b[0m Running epoch 0/5\n",
      "\u001b[36m(ClientAppActor pid=4132010)\u001b[0m Epoch 1: train loss 0.00019848769299738036, accuracy 1.0\n",
      "\u001b[36m(ClientAppActor pid=4132010)\u001b[0m Running epoch 1/5\n",
      "\u001b[36m(ClientAppActor pid=4132010)\u001b[0m Epoch 2: train loss 5.11396657729117e-05, accuracy 1.0\n",
      "\u001b[36m(ClientAppActor pid=4132010)\u001b[0m Running epoch 2/5\n",
      "\u001b[36m(ClientAppActor pid=4132010)\u001b[0m Epoch 3: train loss 1.4599697830195318e-05, accuracy 1.0\n",
      "\u001b[36m(ClientAppActor pid=4132010)\u001b[0m Running epoch 3/5\n",
      "\u001b[36m(ClientAppActor pid=4132010)\u001b[0m Epoch 4: train loss 5.954112614410023e-06, accuracy 1.0\n",
      "\u001b[36m(ClientAppActor pid=4132010)\u001b[0m Running epoch 4/5\n",
      "\u001b[36m(ClientAppActor pid=4132010)\u001b[0m Epoch 5: train loss 3.339841695330841e-05, accuracy 1.0\n",
      "\u001b[36m(ClientAppActor pid=4132010)\u001b[0m Training completed!\n",
      "\u001b[36m(ClientAppActor pid=4132010)\u001b[0m Length of params: 329\n"
     ]
    },
    {
     "name": "stderr",
     "output_type": "stream",
     "text": [
      "\u001b[36m(ClientAppActor pid=4132010)\u001b[0m \u001b[93mWARNING \u001b[0m:   Deprecation Warning: The `client_fn` function must return an instance of `Client`, but an instance of `NumpyClient` was returned. Please use `NumPyClient.to_client()` method to convert it to `Client`.\n"
     ]
    },
    {
     "name": "stdout",
     "output_type": "stream",
     "text": [
      "\u001b[36m(ClientAppActor pid=4132010)\u001b[0m [Client 7] fit, config: {'lr': 0.003}\n",
      "\u001b[36m(ClientAppActor pid=4132010)\u001b[0m Updating parameters 329\n",
      "\u001b[36m(ClientAppActor pid=4132010)\u001b[0m Setting parameters...\n",
      "\u001b[36m(ClientAppActor pid=4132010)\u001b[0m Client parameters set\n",
      "\u001b[36m(ClientAppActor pid=4132010)\u001b[0m Starting client training...\n",
      "\u001b[36m(ClientAppActor pid=4132010)\u001b[0m Running epoch 0/5\n",
      "\u001b[36m(ClientAppActor pid=4132010)\u001b[0m Epoch 1: train loss 0.21532938109808847, accuracy 0.9473684210526315\n",
      "\u001b[36m(ClientAppActor pid=4132010)\u001b[0m Running epoch 1/5\n",
      "\u001b[36m(ClientAppActor pid=4132010)\u001b[0m Epoch 2: train loss 0.6234991858896377, accuracy 0.7894736842105263\n",
      "\u001b[36m(ClientAppActor pid=4132010)\u001b[0m Running epoch 2/5\n",
      "\u001b[36m(ClientAppActor pid=4132010)\u001b[0m Epoch 3: train loss 0.030146804687223937, accuracy 1.0\n",
      "\u001b[36m(ClientAppActor pid=4132010)\u001b[0m Running epoch 3/5\n",
      "\u001b[36m(ClientAppActor pid=4132010)\u001b[0m Epoch 4: train loss 0.08283224701881409, accuracy 1.0\n",
      "\u001b[36m(ClientAppActor pid=4132010)\u001b[0m Running epoch 4/5\n",
      "\u001b[36m(ClientAppActor pid=4132010)\u001b[0m Epoch 5: train loss 0.005295348133107549, accuracy 1.0\n",
      "\u001b[36m(ClientAppActor pid=4132010)\u001b[0m Training completed!\n",
      "\u001b[36m(ClientAppActor pid=4132010)\u001b[0m Length of params: 329\n"
     ]
    },
    {
     "name": "stderr",
     "output_type": "stream",
     "text": [
      "\u001b[36m(ClientAppActor pid=4132010)\u001b[0m \u001b[93mWARNING \u001b[0m:   Deprecation Warning: The `client_fn` function must return an instance of `Client`, but an instance of `NumpyClient` was returned. Please use `NumPyClient.to_client()` method to convert it to `Client`.\n"
     ]
    },
    {
     "name": "stdout",
     "output_type": "stream",
     "text": [
      "\u001b[36m(ClientAppActor pid=4132010)\u001b[0m [Client 8] fit, config: {'lr': 0.003}\n",
      "\u001b[36m(ClientAppActor pid=4132010)\u001b[0m Updating parameters 329\n",
      "\u001b[36m(ClientAppActor pid=4132010)\u001b[0m Setting parameters...\n",
      "\u001b[36m(ClientAppActor pid=4132010)\u001b[0m Client parameters set\n",
      "\u001b[36m(ClientAppActor pid=4132010)\u001b[0m Starting client training...\n",
      "\u001b[36m(ClientAppActor pid=4132010)\u001b[0m Running epoch 0/5\n",
      "\u001b[36m(ClientAppActor pid=4132010)\u001b[0m Epoch 1: train loss 0.15830574243476517, accuracy 0.9473684210526315\n",
      "\u001b[36m(ClientAppActor pid=4132010)\u001b[0m Running epoch 1/5\n",
      "\u001b[36m(ClientAppActor pid=4132010)\u001b[0m Epoch 2: train loss 0.4972170320780654, accuracy 0.7894736842105263\n",
      "\u001b[36m(ClientAppActor pid=4132010)\u001b[0m Running epoch 2/5\n",
      "\u001b[36m(ClientAppActor pid=4132010)\u001b[0m Epoch 3: train loss 0.0966851272081074, accuracy 0.9473684210526315\n",
      "\u001b[36m(ClientAppActor pid=4132010)\u001b[0m Running epoch 3/5\n",
      "\u001b[36m(ClientAppActor pid=4132010)\u001b[0m Epoch 4: train loss 0.026002631106070782, accuracy 1.0\n",
      "\u001b[36m(ClientAppActor pid=4132010)\u001b[0m Running epoch 4/5\n",
      "\u001b[36m(ClientAppActor pid=4132010)\u001b[0m Epoch 5: train loss 0.006624598699425788, accuracy 1.0\n",
      "\u001b[36m(ClientAppActor pid=4132010)\u001b[0m Training completed!\n",
      "\u001b[36m(ClientAppActor pid=4132010)\u001b[0m Length of params: 329\n"
     ]
    },
    {
     "name": "stderr",
     "output_type": "stream",
     "text": [
      "\u001b[36m(ClientAppActor pid=4132010)\u001b[0m \u001b[93mWARNING \u001b[0m:   Deprecation Warning: The `client_fn` function must return an instance of `Client`, but an instance of `NumpyClient` was returned. Please use `NumPyClient.to_client()` method to convert it to `Client`.\n"
     ]
    },
    {
     "name": "stdout",
     "output_type": "stream",
     "text": [
      "\u001b[36m(ClientAppActor pid=4132010)\u001b[0m [Client 6] fit, config: {'lr': 0.003}\n",
      "\u001b[36m(ClientAppActor pid=4132010)\u001b[0m Updating parameters 329\n",
      "\u001b[36m(ClientAppActor pid=4132010)\u001b[0m Setting parameters...\n",
      "\u001b[36m(ClientAppActor pid=4132010)\u001b[0m Client parameters set\n",
      "\u001b[36m(ClientAppActor pid=4132010)\u001b[0m Starting client training...\n",
      "\u001b[36m(ClientAppActor pid=4132010)\u001b[0m Running epoch 0/5\n",
      "\u001b[36m(ClientAppActor pid=4132010)\u001b[0m Epoch 1: train loss 0.06971203457368047, accuracy 0.9473684210526315\n",
      "\u001b[36m(ClientAppActor pid=4132010)\u001b[0m Running epoch 1/5\n",
      "\u001b[36m(ClientAppActor pid=4132010)\u001b[0m Epoch 2: train loss 0.8665383132909866, accuracy 0.8421052631578947\n",
      "\u001b[36m(ClientAppActor pid=4132010)\u001b[0m Running epoch 2/5\n",
      "\u001b[36m(ClientAppActor pid=4132010)\u001b[0m Epoch 3: train loss 0.18201827846075358, accuracy 0.8947368421052632\n",
      "\u001b[36m(ClientAppActor pid=4132010)\u001b[0m Running epoch 3/5\n",
      "\u001b[36m(ClientAppActor pid=4132010)\u001b[0m Epoch 4: train loss 0.0038260427475171653, accuracy 1.0\n",
      "\u001b[36m(ClientAppActor pid=4132010)\u001b[0m Running epoch 4/5\n",
      "\u001b[36m(ClientAppActor pid=4132010)\u001b[0m Epoch 5: train loss 0.0023536080200421182, accuracy 1.0\n",
      "\u001b[36m(ClientAppActor pid=4132010)\u001b[0m Training completed!\n",
      "\u001b[36m(ClientAppActor pid=4132010)\u001b[0m Length of params: 329\n"
     ]
    },
    {
     "name": "stderr",
     "output_type": "stream",
     "text": [
      "\u001b[36m(ClientAppActor pid=4132010)\u001b[0m \u001b[93mWARNING \u001b[0m:   Deprecation Warning: The `client_fn` function must return an instance of `Client`, but an instance of `NumpyClient` was returned. Please use `NumPyClient.to_client()` method to convert it to `Client`.\n"
     ]
    },
    {
     "name": "stdout",
     "output_type": "stream",
     "text": [
      "\u001b[36m(ClientAppActor pid=4132010)\u001b[0m [Client 9] fit, config: {'lr': 0.003}\n",
      "\u001b[36m(ClientAppActor pid=4132010)\u001b[0m Updating parameters 329\n",
      "\u001b[36m(ClientAppActor pid=4132010)\u001b[0m Setting parameters...\n",
      "\u001b[36m(ClientAppActor pid=4132010)\u001b[0m Client parameters set\n",
      "\u001b[36m(ClientAppActor pid=4132010)\u001b[0m Starting client training...\n",
      "\u001b[36m(ClientAppActor pid=4132010)\u001b[0m Running epoch 0/5\n",
      "\u001b[36m(ClientAppActor pid=4132010)\u001b[0m Epoch 1: train loss 0.06464953124523162, accuracy 0.96\n",
      "\u001b[36m(ClientAppActor pid=4132010)\u001b[0m Running epoch 1/5\n",
      "\u001b[36m(ClientAppActor pid=4132010)\u001b[0m Epoch 2: train loss 0.06590313789900393, accuracy 0.96\n",
      "\u001b[36m(ClientAppActor pid=4132010)\u001b[0m Running epoch 2/5\n",
      "\u001b[36m(ClientAppActor pid=4132010)\u001b[0m Epoch 3: train loss 0.011644597798585891, accuracy 1.0\n",
      "\u001b[36m(ClientAppActor pid=4132010)\u001b[0m Running epoch 3/5\n",
      "\u001b[36m(ClientAppActor pid=4132010)\u001b[0m Epoch 4: train loss 0.010788141675293446, accuracy 1.0\n",
      "\u001b[36m(ClientAppActor pid=4132010)\u001b[0m Running epoch 4/5\n",
      "\u001b[36m(ClientAppActor pid=4132010)\u001b[0m Epoch 5: train loss 0.004078479837626219, accuracy 1.0\n",
      "\u001b[36m(ClientAppActor pid=4132010)\u001b[0m Training completed!\n",
      "\u001b[36m(ClientAppActor pid=4132010)\u001b[0m Length of params: 329\n"
     ]
    },
    {
     "name": "stderr",
     "output_type": "stream",
     "text": [
      "\u001b[92mINFO \u001b[0m:      aggregate_fit: received 10 results and 0 failures\n"
     ]
    },
    {
     "name": "stdout",
     "output_type": "stream",
     "text": [
      "Evaluating global model\n",
      "Updating parameters 329\n",
      "Setting parameters...\n",
      "Parameter set\n",
      "Starting client validation...\n",
      "Validataion accuracy = 0.8333333333333334\n",
      "Global evaluation round 4 loss = 0.04336360121766726 accuracy = 0.8333333333333334\n"
     ]
    },
    {
     "name": "stderr",
     "output_type": "stream",
     "text": [
      "\u001b[92mINFO \u001b[0m:      fit progress: (4, 0.04336360121766726, {}, 1871.9804485731293)\n",
      "\u001b[92mINFO \u001b[0m:      configure_evaluate: strategy sampled 10 clients (out of 10)\n"
     ]
    },
    {
     "name": "stdout",
     "output_type": "stream",
     "text": [
      "Model saved at ./fl_checkpointsswintransformer_e5_c10_r5_1/fl_densenet_4.pth\n"
     ]
    },
    {
     "name": "stderr",
     "output_type": "stream",
     "text": [
      "\u001b[36m(ClientAppActor pid=4132010)\u001b[0m \u001b[93mWARNING \u001b[0m:   Deprecation Warning: The `client_fn` function must return an instance of `Client`, but an instance of `NumpyClient` was returned. Please use `NumPyClient.to_client()` method to convert it to `Client`.\n"
     ]
    },
    {
     "name": "stdout",
     "output_type": "stream",
     "text": [
      "\u001b[36m(ClientAppActor pid=4132010)\u001b[0m [Client 7] evaluate, config: {}\n",
      "\u001b[36m(ClientAppActor pid=4132010)\u001b[0m Updating parameters 329\n",
      "\u001b[36m(ClientAppActor pid=4132010)\u001b[0m Setting parameters...\n",
      "\u001b[36m(ClientAppActor pid=4132010)\u001b[0m Starting client validation...\n",
      "\u001b[36m(ClientAppActor pid=4132010)\u001b[0m Validataion accuracy = 0.8333333333333334\n",
      "\u001b[36m(ClientAppActor pid=4132010)\u001b[0m Evaluation loss = 0.04336360121766726 accuracy = 0.8333333333333334\n"
     ]
    },
    {
     "name": "stderr",
     "output_type": "stream",
     "text": [
      "\u001b[36m(ClientAppActor pid=4132010)\u001b[0m \u001b[93mWARNING \u001b[0m:   Deprecation Warning: The `client_fn` function must return an instance of `Client`, but an instance of `NumpyClient` was returned. Please use `NumPyClient.to_client()` method to convert it to `Client`.\n"
     ]
    },
    {
     "name": "stdout",
     "output_type": "stream",
     "text": [
      "\u001b[36m(ClientAppActor pid=4132010)\u001b[0m [Client 1] evaluate, config: {}\n",
      "\u001b[36m(ClientAppActor pid=4132010)\u001b[0m Updating parameters 329\n",
      "\u001b[36m(ClientAppActor pid=4132010)\u001b[0m Setting parameters...\n",
      "\u001b[36m(ClientAppActor pid=4132010)\u001b[0m Starting client validation...\n",
      "\u001b[36m(ClientAppActor pid=4132010)\u001b[0m Validataion accuracy = 0.8333333333333334\n",
      "\u001b[36m(ClientAppActor pid=4132010)\u001b[0m Evaluation loss = 0.04336360121766726 accuracy = 0.8333333333333334\n"
     ]
    },
    {
     "name": "stderr",
     "output_type": "stream",
     "text": [
      "\u001b[36m(ClientAppActor pid=4132010)\u001b[0m \u001b[93mWARNING \u001b[0m:   Deprecation Warning: The `client_fn` function must return an instance of `Client`, but an instance of `NumpyClient` was returned. Please use `NumPyClient.to_client()` method to convert it to `Client`.\n"
     ]
    },
    {
     "name": "stdout",
     "output_type": "stream",
     "text": [
      "\u001b[36m(ClientAppActor pid=4132010)\u001b[0m [Client 4] evaluate, config: {}\n",
      "\u001b[36m(ClientAppActor pid=4132010)\u001b[0m Updating parameters 329\n",
      "\u001b[36m(ClientAppActor pid=4132010)\u001b[0m Setting parameters...\n",
      "\u001b[36m(ClientAppActor pid=4132010)\u001b[0m Starting client validation...\n",
      "\u001b[36m(ClientAppActor pid=4132010)\u001b[0m Validataion accuracy = 0.8333333333333334\n",
      "\u001b[36m(ClientAppActor pid=4132010)\u001b[0m Evaluation loss = 0.04336360121766726 accuracy = 0.8333333333333334\n"
     ]
    },
    {
     "name": "stderr",
     "output_type": "stream",
     "text": [
      "\u001b[36m(ClientAppActor pid=4132010)\u001b[0m \u001b[93mWARNING \u001b[0m:   Deprecation Warning: The `client_fn` function must return an instance of `Client`, but an instance of `NumpyClient` was returned. Please use `NumPyClient.to_client()` method to convert it to `Client`.\n"
     ]
    },
    {
     "name": "stdout",
     "output_type": "stream",
     "text": [
      "\u001b[36m(ClientAppActor pid=4132010)\u001b[0m [Client 0] evaluate, config: {}\n",
      "\u001b[36m(ClientAppActor pid=4132010)\u001b[0m Updating parameters 329\n",
      "\u001b[36m(ClientAppActor pid=4132010)\u001b[0m Setting parameters...\n",
      "\u001b[36m(ClientAppActor pid=4132010)\u001b[0m Starting client validation...\n",
      "\u001b[36m(ClientAppActor pid=4132010)\u001b[0m Validataion accuracy = 0.8333333333333334\n",
      "\u001b[36m(ClientAppActor pid=4132010)\u001b[0m Evaluation loss = 0.04336360121766726 accuracy = 0.8333333333333334\n"
     ]
    },
    {
     "name": "stderr",
     "output_type": "stream",
     "text": [
      "\u001b[36m(ClientAppActor pid=4132010)\u001b[0m \u001b[93mWARNING \u001b[0m:   Deprecation Warning: The `client_fn` function must return an instance of `Client`, but an instance of `NumpyClient` was returned. Please use `NumPyClient.to_client()` method to convert it to `Client`.\n"
     ]
    },
    {
     "name": "stdout",
     "output_type": "stream",
     "text": [
      "\u001b[36m(ClientAppActor pid=4132010)\u001b[0m [Client 5] evaluate, config: {}\n",
      "\u001b[36m(ClientAppActor pid=4132010)\u001b[0m Updating parameters 329\n",
      "\u001b[36m(ClientAppActor pid=4132010)\u001b[0m Setting parameters...\n",
      "\u001b[36m(ClientAppActor pid=4132010)\u001b[0m Starting client validation...\n",
      "\u001b[36m(ClientAppActor pid=4132010)\u001b[0m Validataion accuracy = 0.8333333333333334\n",
      "\u001b[36m(ClientAppActor pid=4132010)\u001b[0m Evaluation loss = 0.04336360121766726 accuracy = 0.8333333333333334\n"
     ]
    },
    {
     "name": "stderr",
     "output_type": "stream",
     "text": [
      "\u001b[36m(ClientAppActor pid=4132010)\u001b[0m \u001b[93mWARNING \u001b[0m:   Deprecation Warning: The `client_fn` function must return an instance of `Client`, but an instance of `NumpyClient` was returned. Please use `NumPyClient.to_client()` method to convert it to `Client`.\n"
     ]
    },
    {
     "name": "stdout",
     "output_type": "stream",
     "text": [
      "\u001b[36m(ClientAppActor pid=4132010)\u001b[0m [Client 8] evaluate, config: {}\n",
      "\u001b[36m(ClientAppActor pid=4132010)\u001b[0m Updating parameters 329\n",
      "\u001b[36m(ClientAppActor pid=4132010)\u001b[0m Setting parameters...\n",
      "\u001b[36m(ClientAppActor pid=4132010)\u001b[0m Starting client validation...\n",
      "\u001b[36m(ClientAppActor pid=4132010)\u001b[0m Validataion accuracy = 0.8333333333333334\n",
      "\u001b[36m(ClientAppActor pid=4132010)\u001b[0m Evaluation loss = 0.04336360121766726 accuracy = 0.8333333333333334\n"
     ]
    },
    {
     "name": "stderr",
     "output_type": "stream",
     "text": [
      "\u001b[36m(ClientAppActor pid=4132010)\u001b[0m \u001b[93mWARNING \u001b[0m:   Deprecation Warning: The `client_fn` function must return an instance of `Client`, but an instance of `NumpyClient` was returned. Please use `NumPyClient.to_client()` method to convert it to `Client`.\n"
     ]
    },
    {
     "name": "stdout",
     "output_type": "stream",
     "text": [
      "\u001b[36m(ClientAppActor pid=4132010)\u001b[0m [Client 9] evaluate, config: {}\n",
      "\u001b[36m(ClientAppActor pid=4132010)\u001b[0m Updating parameters 329\n",
      "\u001b[36m(ClientAppActor pid=4132010)\u001b[0m Setting parameters...\n",
      "\u001b[36m(ClientAppActor pid=4132010)\u001b[0m Starting client validation...\n",
      "\u001b[36m(ClientAppActor pid=4132010)\u001b[0m Validataion accuracy = 0.8333333333333334\n",
      "\u001b[36m(ClientAppActor pid=4132010)\u001b[0m Evaluation loss = 0.04336360121766726 accuracy = 0.8333333333333334\n"
     ]
    },
    {
     "name": "stderr",
     "output_type": "stream",
     "text": [
      "\u001b[36m(ClientAppActor pid=4132010)\u001b[0m \u001b[93mWARNING \u001b[0m:   Deprecation Warning: The `client_fn` function must return an instance of `Client`, but an instance of `NumpyClient` was returned. Please use `NumPyClient.to_client()` method to convert it to `Client`.\n"
     ]
    },
    {
     "name": "stdout",
     "output_type": "stream",
     "text": [
      "\u001b[36m(ClientAppActor pid=4132010)\u001b[0m [Client 6] evaluate, config: {}\n",
      "\u001b[36m(ClientAppActor pid=4132010)\u001b[0m Updating parameters 329\n",
      "\u001b[36m(ClientAppActor pid=4132010)\u001b[0m Setting parameters...\n",
      "\u001b[36m(ClientAppActor pid=4132010)\u001b[0m Starting client validation...\n",
      "\u001b[36m(ClientAppActor pid=4132010)\u001b[0m Validataion accuracy = 0.8333333333333334\n",
      "\u001b[36m(ClientAppActor pid=4132010)\u001b[0m Evaluation loss = 0.04336360121766726 accuracy = 0.8333333333333334\n"
     ]
    },
    {
     "name": "stderr",
     "output_type": "stream",
     "text": [
      "\u001b[36m(ClientAppActor pid=4132010)\u001b[0m \u001b[93mWARNING \u001b[0m:   Deprecation Warning: The `client_fn` function must return an instance of `Client`, but an instance of `NumpyClient` was returned. Please use `NumPyClient.to_client()` method to convert it to `Client`.\n"
     ]
    },
    {
     "name": "stdout",
     "output_type": "stream",
     "text": [
      "\u001b[36m(ClientAppActor pid=4132010)\u001b[0m [Client 2] evaluate, config: {}\n",
      "\u001b[36m(ClientAppActor pid=4132010)\u001b[0m Updating parameters 329\n",
      "\u001b[36m(ClientAppActor pid=4132010)\u001b[0m Setting parameters...\n",
      "\u001b[36m(ClientAppActor pid=4132010)\u001b[0m Starting client validation...\n",
      "\u001b[36m(ClientAppActor pid=4132010)\u001b[0m Validataion accuracy = 0.8333333333333334\n",
      "\u001b[36m(ClientAppActor pid=4132010)\u001b[0m Evaluation loss = 0.04336360121766726 accuracy = 0.8333333333333334\n"
     ]
    },
    {
     "name": "stderr",
     "output_type": "stream",
     "text": [
      "\u001b[36m(ClientAppActor pid=4132010)\u001b[0m \u001b[93mWARNING \u001b[0m:   Deprecation Warning: The `client_fn` function must return an instance of `Client`, but an instance of `NumpyClient` was returned. Please use `NumPyClient.to_client()` method to convert it to `Client`.\n"
     ]
    },
    {
     "name": "stdout",
     "output_type": "stream",
     "text": [
      "\u001b[36m(ClientAppActor pid=4132010)\u001b[0m [Client 3] evaluate, config: {}\n",
      "\u001b[36m(ClientAppActor pid=4132010)\u001b[0m Updating parameters 329\n",
      "\u001b[36m(ClientAppActor pid=4132010)\u001b[0m Setting parameters...\n",
      "\u001b[36m(ClientAppActor pid=4132010)\u001b[0m Starting client validation...\n"
     ]
    },
    {
     "name": "stderr",
     "output_type": "stream",
     "text": [
      "\u001b[92mINFO \u001b[0m:      aggregate_evaluate: received 10 results and 0 failures\n",
      "\u001b[92mINFO \u001b[0m:      \n",
      "\u001b[92mINFO \u001b[0m:      [ROUND 5]\n",
      "\u001b[92mINFO \u001b[0m:      configure_fit: strategy sampled 10 clients (out of 10)\n"
     ]
    },
    {
     "name": "stdout",
     "output_type": "stream",
     "text": [
      "Starting configure fit function...\n",
      "Sample size = 10 Min Num Clients = 2 Clients = [<flwr.simulation.ray_transport.ray_client_proxy.RayActorClientProxy object at 0x155491d76910>, <flwr.simulation.ray_transport.ray_client_proxy.RayActorClientProxy object at 0x155491d76d50>, <flwr.simulation.ray_transport.ray_client_proxy.RayActorClientProxy object at 0x155491d76cd0>, <flwr.simulation.ray_transport.ray_client_proxy.RayActorClientProxy object at 0x155491d76510>, <flwr.simulation.ray_transport.ray_client_proxy.RayActorClientProxy object at 0x155491d76610>, <flwr.simulation.ray_transport.ray_client_proxy.RayActorClientProxy object at 0x155491d76dd0>, <flwr.simulation.ray_transport.ray_client_proxy.RayActorClientProxy object at 0x155491d76c50>, <flwr.simulation.ray_transport.ray_client_proxy.RayActorClientProxy object at 0x155491d76b90>, <flwr.simulation.ray_transport.ray_client_proxy.RayActorClientProxy object at 0x155491d76bd0>, <flwr.simulation.ray_transport.ray_client_proxy.RayActorClientProxy object at 0x155491d76e50>]\n",
      "Number of clients = 10\n",
      "Fit Configurations\n",
      "\u001b[36m(ClientAppActor pid=4132010)\u001b[0m Validataion accuracy = 0.8333333333333334\n",
      "\u001b[36m(ClientAppActor pid=4132010)\u001b[0m Evaluation loss = 0.04336360121766726 accuracy = 0.8333333333333334\n"
     ]
    },
    {
     "name": "stderr",
     "output_type": "stream",
     "text": [
      "\u001b[36m(ClientAppActor pid=4132010)\u001b[0m \u001b[93mWARNING \u001b[0m:   Deprecation Warning: The `client_fn` function must return an instance of `Client`, but an instance of `NumpyClient` was returned. Please use `NumPyClient.to_client()` method to convert it to `Client`.\n"
     ]
    },
    {
     "name": "stdout",
     "output_type": "stream",
     "text": [
      "\u001b[36m(ClientAppActor pid=4132010)\u001b[0m [Client 2] fit, config: {'lr': 0.001}\n",
      "\u001b[36m(ClientAppActor pid=4132010)\u001b[0m Updating parameters 329\n",
      "\u001b[36m(ClientAppActor pid=4132010)\u001b[0m Setting parameters...\n",
      "\u001b[36m(ClientAppActor pid=4132010)\u001b[0m Client parameters set\n",
      "\u001b[36m(ClientAppActor pid=4132010)\u001b[0m Starting client training...\n",
      "\u001b[36m(ClientAppActor pid=4132010)\u001b[0m Running epoch 0/5\n",
      "\u001b[36m(ClientAppActor pid=4132010)\u001b[0m Epoch 1: train loss 0.45232327360855906, accuracy 0.8421052631578947\n",
      "\u001b[36m(ClientAppActor pid=4132010)\u001b[0m Running epoch 1/5\n",
      "\u001b[36m(ClientAppActor pid=4132010)\u001b[0m Epoch 2: train loss 0.06616077434859778, accuracy 1.0\n",
      "\u001b[36m(ClientAppActor pid=4132010)\u001b[0m Running epoch 2/5\n",
      "\u001b[36m(ClientAppActor pid=4132010)\u001b[0m Epoch 3: train loss 0.026733816938327725, accuracy 1.0\n",
      "\u001b[36m(ClientAppActor pid=4132010)\u001b[0m Running epoch 3/5\n",
      "\u001b[36m(ClientAppActor pid=4132010)\u001b[0m Epoch 4: train loss 0.021104707235568447, accuracy 1.0\n",
      "\u001b[36m(ClientAppActor pid=4132010)\u001b[0m Running epoch 4/5\n",
      "\u001b[36m(ClientAppActor pid=4132010)\u001b[0m Epoch 5: train loss 0.00931083129130696, accuracy 1.0\n",
      "\u001b[36m(ClientAppActor pid=4132010)\u001b[0m Training completed!\n",
      "\u001b[36m(ClientAppActor pid=4132010)\u001b[0m Length of params: 329\n"
     ]
    },
    {
     "name": "stderr",
     "output_type": "stream",
     "text": [
      "\u001b[36m(ClientAppActor pid=4132010)\u001b[0m \u001b[93mWARNING \u001b[0m:   Deprecation Warning: The `client_fn` function must return an instance of `Client`, but an instance of `NumpyClient` was returned. Please use `NumPyClient.to_client()` method to convert it to `Client`.\n"
     ]
    },
    {
     "name": "stdout",
     "output_type": "stream",
     "text": [
      "\u001b[36m(ClientAppActor pid=4132010)\u001b[0m [Client 7] fit, config: {'lr': 0.001}\n",
      "\u001b[36m(ClientAppActor pid=4132010)\u001b[0m Updating parameters 329\n",
      "\u001b[36m(ClientAppActor pid=4132010)\u001b[0m Setting parameters...\n",
      "\u001b[36m(ClientAppActor pid=4132010)\u001b[0m Client parameters set\n",
      "\u001b[36m(ClientAppActor pid=4132010)\u001b[0m Starting client training...\n",
      "\u001b[36m(ClientAppActor pid=4132010)\u001b[0m Running epoch 0/5\n",
      "\u001b[36m(ClientAppActor pid=4132010)\u001b[0m Epoch 1: train loss 0.06558560011418242, accuracy 0.9473684210526315\n",
      "\u001b[36m(ClientAppActor pid=4132010)\u001b[0m Running epoch 1/5\n",
      "\u001b[36m(ClientAppActor pid=4132010)\u001b[0m Epoch 2: train loss 0.0014497573046307814, accuracy 1.0\n",
      "\u001b[36m(ClientAppActor pid=4132010)\u001b[0m Running epoch 2/5\n",
      "\u001b[36m(ClientAppActor pid=4132010)\u001b[0m Epoch 3: train loss 0.00457676349814344, accuracy 1.0\n",
      "\u001b[36m(ClientAppActor pid=4132010)\u001b[0m Running epoch 3/5\n",
      "\u001b[36m(ClientAppActor pid=4132010)\u001b[0m Epoch 4: train loss 0.0027819976308628134, accuracy 1.0\n",
      "\u001b[36m(ClientAppActor pid=4132010)\u001b[0m Running epoch 4/5\n",
      "\u001b[36m(ClientAppActor pid=4132010)\u001b[0m Epoch 5: train loss 0.00015380394018537022, accuracy 1.0\n",
      "\u001b[36m(ClientAppActor pid=4132010)\u001b[0m Training completed!\n",
      "\u001b[36m(ClientAppActor pid=4132010)\u001b[0m Length of params: 329\n"
     ]
    },
    {
     "name": "stderr",
     "output_type": "stream",
     "text": [
      "\u001b[36m(ClientAppActor pid=4132010)\u001b[0m \u001b[93mWARNING \u001b[0m:   Deprecation Warning: The `client_fn` function must return an instance of `Client`, but an instance of `NumpyClient` was returned. Please use `NumPyClient.to_client()` method to convert it to `Client`.\n"
     ]
    },
    {
     "name": "stdout",
     "output_type": "stream",
     "text": [
      "\u001b[36m(ClientAppActor pid=4132010)\u001b[0m [Client 6] fit, config: {'lr': 0.001}\n",
      "\u001b[36m(ClientAppActor pid=4132010)\u001b[0m Updating parameters 329\n",
      "\u001b[36m(ClientAppActor pid=4132010)\u001b[0m Setting parameters...\n",
      "\u001b[36m(ClientAppActor pid=4132010)\u001b[0m Client parameters set\n",
      "\u001b[36m(ClientAppActor pid=4132010)\u001b[0m Starting client training...\n",
      "\u001b[36m(ClientAppActor pid=4132010)\u001b[0m Running epoch 0/5\n",
      "\u001b[36m(ClientAppActor pid=4132010)\u001b[0m Epoch 1: train loss 0.02252827446576894, accuracy 1.0\n",
      "\u001b[36m(ClientAppActor pid=4132010)\u001b[0m Running epoch 1/5\n",
      "\u001b[36m(ClientAppActor pid=4132010)\u001b[0m Epoch 2: train loss 0.0297910881130711, accuracy 1.0\n",
      "\u001b[36m(ClientAppActor pid=4132010)\u001b[0m Running epoch 2/5\n",
      "\u001b[36m(ClientAppActor pid=4132010)\u001b[0m Epoch 3: train loss 0.0020223635273348343, accuracy 1.0\n",
      "\u001b[36m(ClientAppActor pid=4132010)\u001b[0m Running epoch 3/5\n",
      "\u001b[36m(ClientAppActor pid=4132010)\u001b[0m Epoch 4: train loss 0.0008592094619464325, accuracy 1.0\n",
      "\u001b[36m(ClientAppActor pid=4132010)\u001b[0m Running epoch 4/5\n",
      "\u001b[36m(ClientAppActor pid=4132010)\u001b[0m Epoch 5: train loss 7.089819968984414e-05, accuracy 1.0\n",
      "\u001b[36m(ClientAppActor pid=4132010)\u001b[0m Training completed!\n",
      "\u001b[36m(ClientAppActor pid=4132010)\u001b[0m Length of params: 329\n"
     ]
    },
    {
     "name": "stderr",
     "output_type": "stream",
     "text": [
      "\u001b[36m(ClientAppActor pid=4132010)\u001b[0m \u001b[93mWARNING \u001b[0m:   Deprecation Warning: The `client_fn` function must return an instance of `Client`, but an instance of `NumpyClient` was returned. Please use `NumPyClient.to_client()` method to convert it to `Client`.\n"
     ]
    },
    {
     "name": "stdout",
     "output_type": "stream",
     "text": [
      "\u001b[36m(ClientAppActor pid=4132010)\u001b[0m [Client 0] fit, config: {'lr': 0.001}\n",
      "\u001b[36m(ClientAppActor pid=4132010)\u001b[0m Updating parameters 329\n",
      "\u001b[36m(ClientAppActor pid=4132010)\u001b[0m Setting parameters...\n",
      "\u001b[36m(ClientAppActor pid=4132010)\u001b[0m Client parameters set\n",
      "\u001b[36m(ClientAppActor pid=4132010)\u001b[0m Starting client training...\n",
      "\u001b[36m(ClientAppActor pid=4132010)\u001b[0m Running epoch 0/5\n",
      "\u001b[36m(ClientAppActor pid=4132010)\u001b[0m Epoch 1: train loss 0.0023505769602611267, accuracy 1.0\n",
      "\u001b[36m(ClientAppActor pid=4132010)\u001b[0m Running epoch 1/5\n",
      "\u001b[36m(ClientAppActor pid=4132010)\u001b[0m Epoch 2: train loss 0.0005920285747331371, accuracy 1.0\n",
      "\u001b[36m(ClientAppActor pid=4132010)\u001b[0m Running epoch 2/5\n",
      "\u001b[36m(ClientAppActor pid=4132010)\u001b[0m Epoch 3: train loss 3.061784331006684e-06, accuracy 1.0\n",
      "\u001b[36m(ClientAppActor pid=4132010)\u001b[0m Running epoch 3/5\n",
      "\u001b[36m(ClientAppActor pid=4132010)\u001b[0m Epoch 4: train loss 0.00013460519132099522, accuracy 1.0\n",
      "\u001b[36m(ClientAppActor pid=4132010)\u001b[0m Running epoch 4/5\n",
      "\u001b[36m(ClientAppActor pid=4132010)\u001b[0m Epoch 5: train loss 1.0477848034820693e-06, accuracy 1.0\n",
      "\u001b[36m(ClientAppActor pid=4132010)\u001b[0m Training completed!\n",
      "\u001b[36m(ClientAppActor pid=4132010)\u001b[0m Length of params: 329\n"
     ]
    },
    {
     "name": "stderr",
     "output_type": "stream",
     "text": [
      "\u001b[36m(ClientAppActor pid=4132010)\u001b[0m \u001b[93mWARNING \u001b[0m:   Deprecation Warning: The `client_fn` function must return an instance of `Client`, but an instance of `NumpyClient` was returned. Please use `NumPyClient.to_client()` method to convert it to `Client`.\n"
     ]
    },
    {
     "name": "stdout",
     "output_type": "stream",
     "text": [
      "\u001b[36m(ClientAppActor pid=4132010)\u001b[0m [Client 1] fit, config: {'lr': 0.001}\n",
      "\u001b[36m(ClientAppActor pid=4132010)\u001b[0m Updating parameters 329\n",
      "\u001b[36m(ClientAppActor pid=4132010)\u001b[0m Setting parameters...\n",
      "\u001b[36m(ClientAppActor pid=4132010)\u001b[0m Client parameters set\n",
      "\u001b[36m(ClientAppActor pid=4132010)\u001b[0m Starting client training...\n",
      "\u001b[36m(ClientAppActor pid=4132010)\u001b[0m Running epoch 0/5\n",
      "\u001b[36m(ClientAppActor pid=4132010)\u001b[0m Epoch 1: train loss 0.2087365459454687, accuracy 0.9473684210526315\n",
      "\u001b[36m(ClientAppActor pid=4132010)\u001b[0m Running epoch 1/5\n",
      "\u001b[36m(ClientAppActor pid=4132010)\u001b[0m Epoch 2: train loss 0.06507431911794763, accuracy 1.0\n",
      "\u001b[36m(ClientAppActor pid=4132010)\u001b[0m Running epoch 2/5\n",
      "\u001b[36m(ClientAppActor pid=4132010)\u001b[0m Epoch 3: train loss 0.002135598198755791, accuracy 1.0\n",
      "\u001b[36m(ClientAppActor pid=4132010)\u001b[0m Running epoch 3/5\n",
      "\u001b[36m(ClientAppActor pid=4132010)\u001b[0m Epoch 4: train loss 0.002388743443972137, accuracy 1.0\n",
      "\u001b[36m(ClientAppActor pid=4132010)\u001b[0m Running epoch 4/5\n",
      "\u001b[36m(ClientAppActor pid=4132010)\u001b[0m Epoch 5: train loss 0.0035092571319852908, accuracy 1.0\n",
      "\u001b[36m(ClientAppActor pid=4132010)\u001b[0m Training completed!\n",
      "\u001b[36m(ClientAppActor pid=4132010)\u001b[0m Length of params: 329\n"
     ]
    },
    {
     "name": "stderr",
     "output_type": "stream",
     "text": [
      "\u001b[36m(ClientAppActor pid=4132010)\u001b[0m \u001b[93mWARNING \u001b[0m:   Deprecation Warning: The `client_fn` function must return an instance of `Client`, but an instance of `NumpyClient` was returned. Please use `NumPyClient.to_client()` method to convert it to `Client`.\n"
     ]
    },
    {
     "name": "stdout",
     "output_type": "stream",
     "text": [
      "\u001b[36m(ClientAppActor pid=4132010)\u001b[0m [Client 8] fit, config: {'lr': 0.003}\n",
      "\u001b[36m(ClientAppActor pid=4132010)\u001b[0m Updating parameters 329\n",
      "\u001b[36m(ClientAppActor pid=4132010)\u001b[0m Setting parameters...\n",
      "\u001b[36m(ClientAppActor pid=4132010)\u001b[0m Client parameters set\n",
      "\u001b[36m(ClientAppActor pid=4132010)\u001b[0m Starting client training...\n",
      "\u001b[36m(ClientAppActor pid=4132010)\u001b[0m Running epoch 0/5\n",
      "\u001b[36m(ClientAppActor pid=4132010)\u001b[0m Epoch 1: train loss 0.10244845089159514, accuracy 1.0\n",
      "\u001b[36m(ClientAppActor pid=4132010)\u001b[0m Running epoch 1/5\n",
      "\u001b[36m(ClientAppActor pid=4132010)\u001b[0m Epoch 2: train loss 0.042019602906963736, accuracy 1.0\n",
      "\u001b[36m(ClientAppActor pid=4132010)\u001b[0m Running epoch 2/5\n",
      "\u001b[36m(ClientAppActor pid=4132010)\u001b[0m Epoch 3: train loss 0.10556923872546146, accuracy 0.8947368421052632\n",
      "\u001b[36m(ClientAppActor pid=4132010)\u001b[0m Running epoch 3/5\n",
      "\u001b[36m(ClientAppActor pid=4132010)\u001b[0m Epoch 4: train loss 0.006740369040543507, accuracy 1.0\n",
      "\u001b[36m(ClientAppActor pid=4132010)\u001b[0m Running epoch 4/5\n",
      "\u001b[36m(ClientAppActor pid=4132010)\u001b[0m Epoch 5: train loss 0.025017720304037396, accuracy 1.0\n",
      "\u001b[36m(ClientAppActor pid=4132010)\u001b[0m Training completed!\n",
      "\u001b[36m(ClientAppActor pid=4132010)\u001b[0m Length of params: 329\n"
     ]
    },
    {
     "name": "stderr",
     "output_type": "stream",
     "text": [
      "\u001b[36m(ClientAppActor pid=4132010)\u001b[0m \u001b[93mWARNING \u001b[0m:   Deprecation Warning: The `client_fn` function must return an instance of `Client`, but an instance of `NumpyClient` was returned. Please use `NumPyClient.to_client()` method to convert it to `Client`.\n"
     ]
    },
    {
     "name": "stdout",
     "output_type": "stream",
     "text": [
      "\u001b[36m(ClientAppActor pid=4132010)\u001b[0m [Client 5] fit, config: {'lr': 0.003}\n",
      "\u001b[36m(ClientAppActor pid=4132010)\u001b[0m Updating parameters 329\n",
      "\u001b[36m(ClientAppActor pid=4132010)\u001b[0m Setting parameters...\n",
      "\u001b[36m(ClientAppActor pid=4132010)\u001b[0m Client parameters set\n",
      "\u001b[36m(ClientAppActor pid=4132010)\u001b[0m Starting client training...\n",
      "\u001b[36m(ClientAppActor pid=4132010)\u001b[0m Running epoch 0/5\n",
      "\u001b[36m(ClientAppActor pid=4132010)\u001b[0m Epoch 1: train loss 0.0018022088697762229, accuracy 1.0\n",
      "\u001b[36m(ClientAppActor pid=4132010)\u001b[0m Running epoch 1/5\n",
      "\u001b[36m(ClientAppActor pid=4132010)\u001b[0m Epoch 2: train loss 0.00032758782617747784, accuracy 1.0\n",
      "\u001b[36m(ClientAppActor pid=4132010)\u001b[0m Running epoch 2/5\n",
      "\u001b[36m(ClientAppActor pid=4132010)\u001b[0m Epoch 3: train loss 1.4636838769595334e-05, accuracy 1.0\n",
      "\u001b[36m(ClientAppActor pid=4132010)\u001b[0m Running epoch 3/5\n",
      "\u001b[36m(ClientAppActor pid=4132010)\u001b[0m Epoch 4: train loss 6.8134433700163895e-06, accuracy 1.0\n",
      "\u001b[36m(ClientAppActor pid=4132010)\u001b[0m Running epoch 4/5\n",
      "\u001b[36m(ClientAppActor pid=4132010)\u001b[0m Epoch 5: train loss 0.0002785259072736249, accuracy 1.0\n",
      "\u001b[36m(ClientAppActor pid=4132010)\u001b[0m Training completed!\n",
      "\u001b[36m(ClientAppActor pid=4132010)\u001b[0m Length of params: 329\n"
     ]
    },
    {
     "name": "stderr",
     "output_type": "stream",
     "text": [
      "\u001b[36m(ClientAppActor pid=4132010)\u001b[0m \u001b[93mWARNING \u001b[0m:   Deprecation Warning: The `client_fn` function must return an instance of `Client`, but an instance of `NumpyClient` was returned. Please use `NumPyClient.to_client()` method to convert it to `Client`.\n"
     ]
    },
    {
     "name": "stdout",
     "output_type": "stream",
     "text": [
      "\u001b[36m(ClientAppActor pid=4132010)\u001b[0m [Client 3] fit, config: {'lr': 0.003}\n",
      "\u001b[36m(ClientAppActor pid=4132010)\u001b[0m Updating parameters 329\n",
      "\u001b[36m(ClientAppActor pid=4132010)\u001b[0m Setting parameters...\n",
      "\u001b[36m(ClientAppActor pid=4132010)\u001b[0m Client parameters set\n",
      "\u001b[36m(ClientAppActor pid=4132010)\u001b[0m Starting client training...\n",
      "\u001b[36m(ClientAppActor pid=4132010)\u001b[0m Running epoch 0/5\n",
      "\u001b[36m(ClientAppActor pid=4132010)\u001b[0m Epoch 1: train loss 0.012180974899245868, accuracy 1.0\n",
      "\u001b[36m(ClientAppActor pid=4132010)\u001b[0m Running epoch 1/5\n",
      "\u001b[36m(ClientAppActor pid=4132010)\u001b[0m Epoch 2: train loss 0.00031138493987351755, accuracy 1.0\n",
      "\u001b[36m(ClientAppActor pid=4132010)\u001b[0m Running epoch 2/5\n",
      "\u001b[36m(ClientAppActor pid=4132010)\u001b[0m Epoch 3: train loss 0.00015024492887804578, accuracy 1.0\n",
      "\u001b[36m(ClientAppActor pid=4132010)\u001b[0m Running epoch 3/5\n",
      "\u001b[36m(ClientAppActor pid=4132010)\u001b[0m Epoch 4: train loss 4.0412385715171695e-05, accuracy 1.0\n",
      "\u001b[36m(ClientAppActor pid=4132010)\u001b[0m Running epoch 4/5\n",
      "\u001b[36m(ClientAppActor pid=4132010)\u001b[0m Epoch 5: train loss 9.47525932612112e-05, accuracy 1.0\n",
      "\u001b[36m(ClientAppActor pid=4132010)\u001b[0m Training completed!\n",
      "\u001b[36m(ClientAppActor pid=4132010)\u001b[0m Length of params: 329\n"
     ]
    },
    {
     "name": "stderr",
     "output_type": "stream",
     "text": [
      "\u001b[36m(ClientAppActor pid=4132010)\u001b[0m \u001b[93mWARNING \u001b[0m:   Deprecation Warning: The `client_fn` function must return an instance of `Client`, but an instance of `NumpyClient` was returned. Please use `NumPyClient.to_client()` method to convert it to `Client`.\n"
     ]
    },
    {
     "name": "stdout",
     "output_type": "stream",
     "text": [
      "\u001b[36m(ClientAppActor pid=4132010)\u001b[0m [Client 4] fit, config: {'lr': 0.003}\n",
      "\u001b[36m(ClientAppActor pid=4132010)\u001b[0m Updating parameters 329\n",
      "\u001b[36m(ClientAppActor pid=4132010)\u001b[0m Setting parameters...\n",
      "\u001b[36m(ClientAppActor pid=4132010)\u001b[0m Client parameters set\n",
      "\u001b[36m(ClientAppActor pid=4132010)\u001b[0m Starting client training...\n",
      "\u001b[36m(ClientAppActor pid=4132010)\u001b[0m Running epoch 0/5\n",
      "\u001b[36m(ClientAppActor pid=4132010)\u001b[0m Epoch 1: train loss 0.00036021297809814935, accuracy 1.0\n",
      "\u001b[36m(ClientAppActor pid=4132010)\u001b[0m Running epoch 1/5\n",
      "\u001b[36m(ClientAppActor pid=4132010)\u001b[0m Epoch 2: train loss 7.150176938203483e-05, accuracy 1.0\n",
      "\u001b[36m(ClientAppActor pid=4132010)\u001b[0m Running epoch 2/5\n",
      "\u001b[36m(ClientAppActor pid=4132010)\u001b[0m Epoch 3: train loss 1.9844483368184517e-05, accuracy 1.0\n",
      "\u001b[36m(ClientAppActor pid=4132010)\u001b[0m Running epoch 3/5\n",
      "\u001b[36m(ClientAppActor pid=4132010)\u001b[0m Epoch 4: train loss 1.0264308983957898e-05, accuracy 1.0\n",
      "\u001b[36m(ClientAppActor pid=4132010)\u001b[0m Running epoch 4/5\n",
      "\u001b[36m(ClientAppActor pid=4132010)\u001b[0m Epoch 5: train loss 4.046815056905248e-06, accuracy 1.0\n",
      "\u001b[36m(ClientAppActor pid=4132010)\u001b[0m Training completed!\n",
      "\u001b[36m(ClientAppActor pid=4132010)\u001b[0m Length of params: 329\n"
     ]
    },
    {
     "name": "stderr",
     "output_type": "stream",
     "text": [
      "\u001b[36m(ClientAppActor pid=4132010)\u001b[0m \u001b[93mWARNING \u001b[0m:   Deprecation Warning: The `client_fn` function must return an instance of `Client`, but an instance of `NumpyClient` was returned. Please use `NumPyClient.to_client()` method to convert it to `Client`.\n"
     ]
    },
    {
     "name": "stdout",
     "output_type": "stream",
     "text": [
      "\u001b[36m(ClientAppActor pid=4132010)\u001b[0m [Client 9] fit, config: {'lr': 0.003}\n",
      "\u001b[36m(ClientAppActor pid=4132010)\u001b[0m Updating parameters 329\n",
      "\u001b[36m(ClientAppActor pid=4132010)\u001b[0m Setting parameters...\n",
      "\u001b[36m(ClientAppActor pid=4132010)\u001b[0m Client parameters set\n",
      "\u001b[36m(ClientAppActor pid=4132010)\u001b[0m Starting client training...\n",
      "\u001b[36m(ClientAppActor pid=4132010)\u001b[0m Running epoch 0/5\n",
      "\u001b[36m(ClientAppActor pid=4132010)\u001b[0m Epoch 1: train loss 0.02389709398150444, accuracy 1.0\n",
      "\u001b[36m(ClientAppActor pid=4132010)\u001b[0m Running epoch 1/5\n",
      "\u001b[36m(ClientAppActor pid=4132010)\u001b[0m Epoch 2: train loss 0.021548989713191986, accuracy 1.0\n",
      "\u001b[36m(ClientAppActor pid=4132010)\u001b[0m Running epoch 2/5\n",
      "\u001b[36m(ClientAppActor pid=4132010)\u001b[0m Epoch 3: train loss 0.0007845054753124714, accuracy 1.0\n",
      "\u001b[36m(ClientAppActor pid=4132010)\u001b[0m Running epoch 3/5\n",
      "\u001b[36m(ClientAppActor pid=4132010)\u001b[0m Epoch 4: train loss 0.005921525019221008, accuracy 1.0\n",
      "\u001b[36m(ClientAppActor pid=4132010)\u001b[0m Running epoch 4/5\n",
      "\u001b[36m(ClientAppActor pid=4132010)\u001b[0m Epoch 5: train loss 0.0001824664871674031, accuracy 1.0\n",
      "\u001b[36m(ClientAppActor pid=4132010)\u001b[0m Training completed!\n",
      "\u001b[36m(ClientAppActor pid=4132010)\u001b[0m Length of params: 329\n"
     ]
    },
    {
     "name": "stderr",
     "output_type": "stream",
     "text": [
      "\u001b[92mINFO \u001b[0m:      aggregate_fit: received 10 results and 0 failures\n"
     ]
    },
    {
     "name": "stdout",
     "output_type": "stream",
     "text": [
      "Evaluating global model\n",
      "Updating parameters 329\n",
      "Setting parameters...\n",
      "Parameter set\n",
      "Starting client validation...\n",
      "Validataion accuracy = 0.8666666666666667\n",
      "Global evaluation round 5 loss = 0.061509841183821364 accuracy = 0.8666666666666667\n"
     ]
    },
    {
     "name": "stderr",
     "output_type": "stream",
     "text": [
      "\u001b[92mINFO \u001b[0m:      fit progress: (5, 0.061509841183821364, {}, 2332.0324224031065)\n",
      "\u001b[92mINFO \u001b[0m:      configure_evaluate: strategy sampled 10 clients (out of 10)\n"
     ]
    },
    {
     "name": "stdout",
     "output_type": "stream",
     "text": [
      "Model saved at ./fl_checkpointsswintransformer_e5_c10_r5_1/fl_densenet_5.pth\n"
     ]
    },
    {
     "name": "stderr",
     "output_type": "stream",
     "text": [
      "\u001b[36m(ClientAppActor pid=4132010)\u001b[0m \u001b[93mWARNING \u001b[0m:   Deprecation Warning: The `client_fn` function must return an instance of `Client`, but an instance of `NumpyClient` was returned. Please use `NumPyClient.to_client()` method to convert it to `Client`.\n"
     ]
    },
    {
     "name": "stdout",
     "output_type": "stream",
     "text": [
      "\u001b[36m(ClientAppActor pid=4132010)\u001b[0m [Client 8] evaluate, config: {}\n",
      "\u001b[36m(ClientAppActor pid=4132010)\u001b[0m Updating parameters 329\n",
      "\u001b[36m(ClientAppActor pid=4132010)\u001b[0m Setting parameters...\n",
      "\u001b[36m(ClientAppActor pid=4132010)\u001b[0m Starting client validation...\n",
      "\u001b[36m(ClientAppActor pid=4132010)\u001b[0m Validataion accuracy = 0.8666666666666667\n",
      "\u001b[36m(ClientAppActor pid=4132010)\u001b[0m Evaluation loss = 0.061509841183821364 accuracy = 0.8666666666666667\n"
     ]
    },
    {
     "name": "stderr",
     "output_type": "stream",
     "text": [
      "\u001b[36m(ClientAppActor pid=4132010)\u001b[0m \u001b[93mWARNING \u001b[0m:   Deprecation Warning: The `client_fn` function must return an instance of `Client`, but an instance of `NumpyClient` was returned. Please use `NumPyClient.to_client()` method to convert it to `Client`.\n"
     ]
    },
    {
     "name": "stdout",
     "output_type": "stream",
     "text": [
      "\u001b[36m(ClientAppActor pid=4132010)\u001b[0m [Client 3] evaluate, config: {}\n",
      "\u001b[36m(ClientAppActor pid=4132010)\u001b[0m Updating parameters 329\n",
      "\u001b[36m(ClientAppActor pid=4132010)\u001b[0m Setting parameters...\n",
      "\u001b[36m(ClientAppActor pid=4132010)\u001b[0m Starting client validation...\n",
      "\u001b[36m(ClientAppActor pid=4132010)\u001b[0m Validataion accuracy = 0.8666666666666667\n",
      "\u001b[36m(ClientAppActor pid=4132010)\u001b[0m Evaluation loss = 0.061509841183821364 accuracy = 0.8666666666666667\n"
     ]
    },
    {
     "name": "stderr",
     "output_type": "stream",
     "text": [
      "\u001b[36m(ClientAppActor pid=4132010)\u001b[0m \u001b[93mWARNING \u001b[0m:   Deprecation Warning: The `client_fn` function must return an instance of `Client`, but an instance of `NumpyClient` was returned. Please use `NumPyClient.to_client()` method to convert it to `Client`.\n"
     ]
    },
    {
     "name": "stdout",
     "output_type": "stream",
     "text": [
      "\u001b[36m(ClientAppActor pid=4132010)\u001b[0m [Client 0] evaluate, config: {}\n",
      "\u001b[36m(ClientAppActor pid=4132010)\u001b[0m Updating parameters 329\n",
      "\u001b[36m(ClientAppActor pid=4132010)\u001b[0m Setting parameters...\n",
      "\u001b[36m(ClientAppActor pid=4132010)\u001b[0m Starting client validation...\n",
      "\u001b[36m(ClientAppActor pid=4132010)\u001b[0m Validataion accuracy = 0.8666666666666667\n",
      "\u001b[36m(ClientAppActor pid=4132010)\u001b[0m Evaluation loss = 0.061509841183821364 accuracy = 0.8666666666666667\n"
     ]
    },
    {
     "name": "stderr",
     "output_type": "stream",
     "text": [
      "\u001b[36m(ClientAppActor pid=4132010)\u001b[0m \u001b[93mWARNING \u001b[0m:   Deprecation Warning: The `client_fn` function must return an instance of `Client`, but an instance of `NumpyClient` was returned. Please use `NumPyClient.to_client()` method to convert it to `Client`.\n"
     ]
    },
    {
     "name": "stdout",
     "output_type": "stream",
     "text": [
      "\u001b[36m(ClientAppActor pid=4132010)\u001b[0m [Client 6] evaluate, config: {}\n",
      "\u001b[36m(ClientAppActor pid=4132010)\u001b[0m Updating parameters 329\n",
      "\u001b[36m(ClientAppActor pid=4132010)\u001b[0m Setting parameters...\n",
      "\u001b[36m(ClientAppActor pid=4132010)\u001b[0m Starting client validation...\n",
      "\u001b[36m(ClientAppActor pid=4132010)\u001b[0m Validataion accuracy = 0.8666666666666667\n",
      "\u001b[36m(ClientAppActor pid=4132010)\u001b[0m Evaluation loss = 0.061509841183821364 accuracy = 0.8666666666666667\n"
     ]
    },
    {
     "name": "stderr",
     "output_type": "stream",
     "text": [
      "\u001b[36m(ClientAppActor pid=4132010)\u001b[0m \u001b[93mWARNING \u001b[0m:   Deprecation Warning: The `client_fn` function must return an instance of `Client`, but an instance of `NumpyClient` was returned. Please use `NumPyClient.to_client()` method to convert it to `Client`.\n"
     ]
    },
    {
     "name": "stdout",
     "output_type": "stream",
     "text": [
      "\u001b[36m(ClientAppActor pid=4132010)\u001b[0m [Client 2] evaluate, config: {}\n",
      "\u001b[36m(ClientAppActor pid=4132010)\u001b[0m Updating parameters 329\n",
      "\u001b[36m(ClientAppActor pid=4132010)\u001b[0m Setting parameters...\n",
      "\u001b[36m(ClientAppActor pid=4132010)\u001b[0m Starting client validation...\n",
      "\u001b[36m(ClientAppActor pid=4132010)\u001b[0m Validataion accuracy = 0.8666666666666667\n",
      "\u001b[36m(ClientAppActor pid=4132010)\u001b[0m Evaluation loss = 0.061509841183821364 accuracy = 0.8666666666666667\n"
     ]
    },
    {
     "name": "stderr",
     "output_type": "stream",
     "text": [
      "\u001b[36m(ClientAppActor pid=4132010)\u001b[0m \u001b[93mWARNING \u001b[0m:   Deprecation Warning: The `client_fn` function must return an instance of `Client`, but an instance of `NumpyClient` was returned. Please use `NumPyClient.to_client()` method to convert it to `Client`.\n"
     ]
    },
    {
     "name": "stdout",
     "output_type": "stream",
     "text": [
      "\u001b[36m(ClientAppActor pid=4132010)\u001b[0m [Client 7] evaluate, config: {}\n",
      "\u001b[36m(ClientAppActor pid=4132010)\u001b[0m Updating parameters 329\n",
      "\u001b[36m(ClientAppActor pid=4132010)\u001b[0m Setting parameters...\n",
      "\u001b[36m(ClientAppActor pid=4132010)\u001b[0m Starting client validation...\n",
      "\u001b[36m(ClientAppActor pid=4132010)\u001b[0m Validataion accuracy = 0.8666666666666667\n",
      "\u001b[36m(ClientAppActor pid=4132010)\u001b[0m Evaluation loss = 0.061509841183821364 accuracy = 0.8666666666666667\n"
     ]
    },
    {
     "name": "stderr",
     "output_type": "stream",
     "text": [
      "\u001b[36m(ClientAppActor pid=4132010)\u001b[0m \u001b[93mWARNING \u001b[0m:   Deprecation Warning: The `client_fn` function must return an instance of `Client`, but an instance of `NumpyClient` was returned. Please use `NumPyClient.to_client()` method to convert it to `Client`.\n"
     ]
    },
    {
     "name": "stdout",
     "output_type": "stream",
     "text": [
      "\u001b[36m(ClientAppActor pid=4132010)\u001b[0m [Client 4] evaluate, config: {}\n",
      "\u001b[36m(ClientAppActor pid=4132010)\u001b[0m Updating parameters 329\n",
      "\u001b[36m(ClientAppActor pid=4132010)\u001b[0m Setting parameters...\n",
      "\u001b[36m(ClientAppActor pid=4132010)\u001b[0m Starting client validation...\n",
      "\u001b[36m(ClientAppActor pid=4132010)\u001b[0m Validataion accuracy = 0.8666666666666667\n",
      "\u001b[36m(ClientAppActor pid=4132010)\u001b[0m Evaluation loss = 0.061509841183821364 accuracy = 0.8666666666666667\n"
     ]
    },
    {
     "name": "stderr",
     "output_type": "stream",
     "text": [
      "\u001b[36m(ClientAppActor pid=4132010)\u001b[0m \u001b[93mWARNING \u001b[0m:   Deprecation Warning: The `client_fn` function must return an instance of `Client`, but an instance of `NumpyClient` was returned. Please use `NumPyClient.to_client()` method to convert it to `Client`.\n"
     ]
    },
    {
     "name": "stdout",
     "output_type": "stream",
     "text": [
      "\u001b[36m(ClientAppActor pid=4132010)\u001b[0m [Client 5] evaluate, config: {}\n",
      "\u001b[36m(ClientAppActor pid=4132010)\u001b[0m Updating parameters 329\n",
      "\u001b[36m(ClientAppActor pid=4132010)\u001b[0m Setting parameters...\n",
      "\u001b[36m(ClientAppActor pid=4132010)\u001b[0m Starting client validation...\n",
      "\u001b[36m(ClientAppActor pid=4132010)\u001b[0m Validataion accuracy = 0.8666666666666667\n",
      "\u001b[36m(ClientAppActor pid=4132010)\u001b[0m Evaluation loss = 0.061509841183821364 accuracy = 0.8666666666666667\n"
     ]
    },
    {
     "name": "stderr",
     "output_type": "stream",
     "text": [
      "\u001b[36m(ClientAppActor pid=4132010)\u001b[0m \u001b[93mWARNING \u001b[0m:   Deprecation Warning: The `client_fn` function must return an instance of `Client`, but an instance of `NumpyClient` was returned. Please use `NumPyClient.to_client()` method to convert it to `Client`.\n"
     ]
    },
    {
     "name": "stdout",
     "output_type": "stream",
     "text": [
      "\u001b[36m(ClientAppActor pid=4132010)\u001b[0m [Client 9] evaluate, config: {}\n",
      "\u001b[36m(ClientAppActor pid=4132010)\u001b[0m Updating parameters 329\n",
      "\u001b[36m(ClientAppActor pid=4132010)\u001b[0m Setting parameters...\n",
      "\u001b[36m(ClientAppActor pid=4132010)\u001b[0m Starting client validation...\n",
      "\u001b[36m(ClientAppActor pid=4132010)\u001b[0m Validataion accuracy = 0.8666666666666667\n",
      "\u001b[36m(ClientAppActor pid=4132010)\u001b[0m Evaluation loss = 0.061509841183821364 accuracy = 0.8666666666666667\n"
     ]
    },
    {
     "name": "stderr",
     "output_type": "stream",
     "text": [
      "\u001b[36m(ClientAppActor pid=4132010)\u001b[0m \u001b[93mWARNING \u001b[0m:   Deprecation Warning: The `client_fn` function must return an instance of `Client`, but an instance of `NumpyClient` was returned. Please use `NumPyClient.to_client()` method to convert it to `Client`.\n"
     ]
    },
    {
     "name": "stdout",
     "output_type": "stream",
     "text": [
      "\u001b[36m(ClientAppActor pid=4132010)\u001b[0m [Client 1] evaluate, config: {}\n",
      "\u001b[36m(ClientAppActor pid=4132010)\u001b[0m Updating parameters 329\n",
      "\u001b[36m(ClientAppActor pid=4132010)\u001b[0m Setting parameters...\n",
      "\u001b[36m(ClientAppActor pid=4132010)\u001b[0m Starting client validation...\n"
     ]
    },
    {
     "name": "stderr",
     "output_type": "stream",
     "text": [
      "\u001b[92mINFO \u001b[0m:      aggregate_evaluate: received 10 results and 0 failures\n",
      "\u001b[92mINFO \u001b[0m:      \n",
      "\u001b[92mINFO \u001b[0m:      [SUMMARY]\n",
      "\u001b[92mINFO \u001b[0m:      Run finished 5 round(s) in 2475.04s\n",
      "\u001b[92mINFO \u001b[0m:      \tHistory (loss, distributed):\n",
      "\u001b[92mINFO \u001b[0m:      \t\tround 1: 0.03231253108630578\n",
      "\u001b[92mINFO \u001b[0m:      \t\tround 2: 0.032950586763521035\n",
      "\u001b[92mINFO \u001b[0m:      \t\tround 3: 0.04361630560209353\n",
      "\u001b[92mINFO \u001b[0m:      \t\tround 4: 0.043363601217667254\n",
      "\u001b[92mINFO \u001b[0m:      \t\tround 5: 0.06150984118382137\n",
      "\u001b[92mINFO \u001b[0m:      \tHistory (loss, centralized):\n",
      "\u001b[92mINFO \u001b[0m:      \t\tround 0: 0.05143308738867442\n",
      "\u001b[92mINFO \u001b[0m:      \t\tround 1: 0.03231253108630578\n",
      "\u001b[92mINFO \u001b[0m:      \t\tround 2: 0.032950586763521035\n",
      "\u001b[92mINFO \u001b[0m:      \t\tround 3: 0.043616305602093536\n",
      "\u001b[92mINFO \u001b[0m:      \t\tround 4: 0.04336360121766726\n",
      "\u001b[92mINFO \u001b[0m:      \t\tround 5: 0.061509841183821364\n",
      "\u001b[92mINFO \u001b[0m:      \n"
     ]
    },
    {
     "name": "stdout",
     "output_type": "stream",
     "text": [
      "\u001b[36m(ClientAppActor pid=4132010)\u001b[0m Validataion accuracy = 0.8666666666666667\n",
      "\u001b[36m(ClientAppActor pid=4132010)\u001b[0m Evaluation loss = 0.061509841183821364 accuracy = 0.8666666666666667\n",
      "End of Simulation History = History (loss, distributed):\n",
      "\tround 1: 0.03231253108630578\n",
      "\tround 2: 0.032950586763521035\n",
      "\tround 3: 0.04361630560209353\n",
      "\tround 4: 0.043363601217667254\n",
      "\tround 5: 0.06150984118382137\n",
      "History (loss, centralized):\n",
      "\tround 0: 0.05143308738867442\n",
      "\tround 1: 0.03231253108630578\n",
      "\tround 2: 0.032950586763521035\n",
      "\tround 3: 0.043616305602093536\n",
      "\tround 4: 0.04336360121766726\n",
      "\tround 5: 0.061509841183821364\n",
      "\n"
     ]
    }
   ],
   "source": [
    "# Create an instance of the model and get the parameters\n",
    "# params = get_parameters(create_pretrained_densenet(num_classes).to(device))\n",
    "# print(\"ParamsIn: \", params)\n",
    "\n",
    "# Pass parameters to the Strategy for server-side parameter initialization\n",
    "# strategy = fl.server.strategy.FedAvg(\n",
    "#     fraction_fit=0.3,\n",
    "#     fraction_evaluate=0.3,\n",
    "#     min_fit_clients=1,\n",
    "#     min_evaluate_clients=1,\n",
    "#     min_available_clients=NUM_CLIENTS,\n",
    "# #     initial_parameters=fl.common.ndarrays_to_parameters(params),\n",
    "# )\n",
    "\n",
    "# Specify client resources if you need GPU (defaults to 1 CPU and 0 GPU)\n",
    "client_resources = None\n",
    "if use_cuda:\n",
    "    client_resources = {'num_gpus': 1}\n",
    "\n",
    "# Start simulation\n",
    "# fl.simulation.start_simulation(\n",
    "#     client_fn=client_fn,\n",
    "#     num_clients=NUM_CLIENTS,\n",
    "#     config=fl.server.ServerConfig(num_rounds=1),  # Just three rounds\n",
    "#     strategy=strategy,\n",
    "#     client_resources=client_resources,\n",
    "# )\n",
    "\n",
    "history = fl.simulation.start_simulation(\n",
    "    client_fn=client_fn,\n",
    "    num_clients=NUM_CLIENTS,\n",
    "    config=fl.server.ServerConfig(num_rounds=ROUNDS),  # Just three rounds\n",
    "    strategy=FedCustom(),\n",
    "    client_resources=client_resources,\n",
    ")\n",
    "\n",
    "\n",
    "print(f\"End of Simulation History = {history}\")"
   ]
  },
  {
   "cell_type": "markdown",
   "metadata": {},
   "source": [
    "## Inference"
   ]
  },
  {
   "cell_type": "code",
   "execution_count": null,
   "metadata": {},
   "outputs": [],
   "source": [
    "# import torch\n",
    "# import torchvision.transforms as transforms\n",
    "# from PIL import Image\n",
    "# import os\n",
    "# from torchvision import datasets, models\n",
    "# from torch.utils.data import DataLoader"
   ]
  },
  {
   "cell_type": "code",
   "execution_count": 40,
   "metadata": {},
   "outputs": [],
   "source": [
    "# # Define device\n",
    "# use_cuda = torch.cuda.is_available()\n",
    "# device = torch.device(\"cuda:0\" if use_cuda else \"cpu\")"
   ]
  },
  {
   "cell_type": "code",
   "execution_count": 17,
   "metadata": {},
   "outputs": [],
   "source": [
    "# # Load model\n",
    "# num_classes = 2\n",
    "# model = create_pretrained_densenet(num_classes)\n",
    "# model.to(device)"
   ]
  },
  {
   "cell_type": "code",
   "execution_count": null,
   "metadata": {},
   "outputs": [],
   "source": []
  },
  {
   "cell_type": "code",
   "execution_count": 18,
   "metadata": {},
   "outputs": [],
   "source": [
    "# # Load best model weights\n",
    "# best_model_path = \"./fl_checkpointsdensenet121/fl_densenet_15.pth\"\n",
    "# checkpoint = torch.load(best_model_path)\n",
    "# model.load_state_dict(checkpoint['state_dict'])\n",
    "# print(\"Model loaded successfully\")"
   ]
  },
  {
   "cell_type": "code",
   "execution_count": 43,
   "metadata": {},
   "outputs": [],
   "source": [
    "# # Define transform\n",
    "# transform = transforms.Compose([\n",
    "#     transforms.Resize((224, 224)),\n",
    "#     transforms.ToTensor(),\n",
    "#     transforms.Normalize(mean=[0.4762, 0.3054, 0.2368], std=[0.3345, 0.2407, 0.2164])\n",
    "# ])\n",
    "\n",
    "# # Define test dataset and dataloader\n",
    "# test_root_dir = os.path.join('./../../processed_RealDS', 'test')\n",
    "# test_dataset = datasets.ImageFolder(test_root_dir, transform=transform)\n",
    "# test_loader = DataLoader(test_dataset, batch_size=1, shuffle=False)\n"
   ]
  },
  {
   "cell_type": "code",
   "execution_count": 3,
   "metadata": {},
   "outputs": [],
   "source": [
    "# # Load your single image\n",
    "# PATH_DATASET = './../../processed_RealDS'\n",
    "\n",
    "# image_path = os.path.join(PATH_DATASET, 'test','Disease','Image_114.jpeg')  # Replace 'path_to_your_image.jpg' with the path to your image\n",
    "# image = Image.open(image_path)\n"
   ]
  },
  {
   "cell_type": "code",
   "execution_count": 34,
   "metadata": {},
   "outputs": [],
   "source": [
    "# image = Image.open(image_path)\n",
    "\n",
    "# # Apply the transform to the image\n",
    "# image = transform(image)\n",
    "\n",
    "# # Add batch dimension\n",
    "# image = image.unsqueeze(0)\n",
    "# image = image.to(device)\n"
   ]
  },
  {
   "cell_type": "code",
   "execution_count": 19,
   "metadata": {},
   "outputs": [],
   "source": [
    "# # Perform inference and calculate accuracy\n",
    "# model.eval()\n",
    "# correct = 0\n",
    "# total = 0\n",
    "# class_labels = ['Healthy', 'Disease']  # Replace with your actual class labels\n"
   ]
  },
  {
   "cell_type": "code",
   "execution_count": null,
   "metadata": {},
   "outputs": [],
   "source": []
  },
  {
   "cell_type": "code",
   "execution_count": 20,
   "metadata": {},
   "outputs": [],
   "source": [
    "# # Perform inference\n",
    "# with torch.no_grad():\n",
    "#     output = model(image)\n",
    "\n",
    "#     # Get the predicted class index\n",
    "#     _, predicted = torch.max(output, 1)\n",
    "#     predicted_class_index = predicted.item()\n",
    "    \n",
    "#     # Interpret the results (assuming you have a class label mapping)\n",
    "#     class_labels = ['Healthy','Disease' ]  # Replace with your actual class labels\n",
    "#     predicted_class_label = class_labels[predicted_class_index]\n",
    "#     print('Predicted class:', predicted_class_label)"
   ]
  },
  {
   "cell_type": "code",
   "execution_count": 21,
   "metadata": {},
   "outputs": [],
   "source": [
    "# print('Predicted class:', predicted_class_label)"
   ]
  },
  {
   "cell_type": "markdown",
   "metadata": {},
   "source": [
    "## all predictions"
   ]
  },
  {
   "cell_type": "code",
   "execution_count": null,
   "metadata": {},
   "outputs": [],
   "source": []
  },
  {
   "cell_type": "code",
   "execution_count": 22,
   "metadata": {},
   "outputs": [],
   "source": [
    "# with torch.no_grad():\n",
    "#     for images, labels in test_loader:\n",
    "#         images, labels = images.to(device), labels.to(device)\n",
    "#         outputs = model(images)\n",
    "#         _, predicted = torch.max(outputs.data, 1)\n",
    "#         total += labels.size(0)\n",
    "#         correct += (predicted == labels).sum().item()\n",
    "#         print(f\"Predicted class: {class_labels[predicted.item()]}\")\n",
    "\n",
    "# accuracy = correct / total\n",
    "# print(f'Overall test accuracy: {accuracy * 100:.2f}%')"
   ]
  },
  {
   "cell_type": "code",
   "execution_count": 12,
   "metadata": {},
   "outputs": [],
   "source": [
    "# tmp_model = create_pretrained_densenet(num_classes).to(device)\n",
    "\n",
    "# params = get_parameters(tmp_model)\n",
    "\n",
    "# # it will return byteio(numpyArray(param))\n",
    "# array_to_param = fl.common.ndarrays_to_parameters(params)\n",
    "\n",
    "# param_to_arr = fl.common.parameters_to_ndarrays(array_to_param)\n",
    "\n",
    "# print(type(param_to_arr))\n",
    "\n",
    "# for i, v in enumerate(param_to_arr):\n",
    "#     try:\n",
    "#         print(len(v))\n",
    "#     except:\n",
    "#         print(v)\n",
    "#         param_to_arr[i] = np.array([0])\n",
    "# set_parameters(tmp_model, param_to_arr)"
   ]
  },
  {
   "cell_type": "markdown",
   "metadata": {},
   "source": [
    "# Testing"
   ]
  },
  {
   "cell_type": "code",
   "execution_count": 15,
   "metadata": {},
   "outputs": [
    {
     "name": "stdout",
     "output_type": "stream",
     "text": [
      "Best model path:fl_checkpointsdensenet121_e5_c5_r5/fl_densenet_5.pth\n"
     ]
    },
    {
     "name": "stderr",
     "output_type": "stream",
     "text": [
      "/home/sarangs/D1/chameleon_venv/lib/python3.11/site-packages/torchvision/models/_utils.py:223: UserWarning: Arguments other than a weight enum or `None` for 'weights' are deprecated since 0.13 and may be removed in the future. The current behavior is equivalent to passing `weights=None`.\n",
      "  warnings.warn(msg)\n"
     ]
    },
    {
     "data": {
      "text/plain": [
       "DenseNet(\n",
       "  (features): Sequential(\n",
       "    (conv0): Conv2d(3, 64, kernel_size=(7, 7), stride=(2, 2), padding=(3, 3), bias=False)\n",
       "    (norm0): BatchNorm2d(64, eps=1e-05, momentum=0.1, affine=True, track_running_stats=True)\n",
       "    (relu0): ReLU(inplace=True)\n",
       "    (pool0): MaxPool2d(kernel_size=3, stride=2, padding=1, dilation=1, ceil_mode=False)\n",
       "    (denseblock1): _DenseBlock(\n",
       "      (denselayer1): _DenseLayer(\n",
       "        (norm1): BatchNorm2d(64, eps=1e-05, momentum=0.1, affine=True, track_running_stats=True)\n",
       "        (relu1): ReLU(inplace=True)\n",
       "        (conv1): Conv2d(64, 128, kernel_size=(1, 1), stride=(1, 1), bias=False)\n",
       "        (norm2): BatchNorm2d(128, eps=1e-05, momentum=0.1, affine=True, track_running_stats=True)\n",
       "        (relu2): ReLU(inplace=True)\n",
       "        (conv2): Conv2d(128, 32, kernel_size=(3, 3), stride=(1, 1), padding=(1, 1), bias=False)\n",
       "      )\n",
       "      (denselayer2): _DenseLayer(\n",
       "        (norm1): BatchNorm2d(96, eps=1e-05, momentum=0.1, affine=True, track_running_stats=True)\n",
       "        (relu1): ReLU(inplace=True)\n",
       "        (conv1): Conv2d(96, 128, kernel_size=(1, 1), stride=(1, 1), bias=False)\n",
       "        (norm2): BatchNorm2d(128, eps=1e-05, momentum=0.1, affine=True, track_running_stats=True)\n",
       "        (relu2): ReLU(inplace=True)\n",
       "        (conv2): Conv2d(128, 32, kernel_size=(3, 3), stride=(1, 1), padding=(1, 1), bias=False)\n",
       "      )\n",
       "      (denselayer3): _DenseLayer(\n",
       "        (norm1): BatchNorm2d(128, eps=1e-05, momentum=0.1, affine=True, track_running_stats=True)\n",
       "        (relu1): ReLU(inplace=True)\n",
       "        (conv1): Conv2d(128, 128, kernel_size=(1, 1), stride=(1, 1), bias=False)\n",
       "        (norm2): BatchNorm2d(128, eps=1e-05, momentum=0.1, affine=True, track_running_stats=True)\n",
       "        (relu2): ReLU(inplace=True)\n",
       "        (conv2): Conv2d(128, 32, kernel_size=(3, 3), stride=(1, 1), padding=(1, 1), bias=False)\n",
       "      )\n",
       "      (denselayer4): _DenseLayer(\n",
       "        (norm1): BatchNorm2d(160, eps=1e-05, momentum=0.1, affine=True, track_running_stats=True)\n",
       "        (relu1): ReLU(inplace=True)\n",
       "        (conv1): Conv2d(160, 128, kernel_size=(1, 1), stride=(1, 1), bias=False)\n",
       "        (norm2): BatchNorm2d(128, eps=1e-05, momentum=0.1, affine=True, track_running_stats=True)\n",
       "        (relu2): ReLU(inplace=True)\n",
       "        (conv2): Conv2d(128, 32, kernel_size=(3, 3), stride=(1, 1), padding=(1, 1), bias=False)\n",
       "      )\n",
       "      (denselayer5): _DenseLayer(\n",
       "        (norm1): BatchNorm2d(192, eps=1e-05, momentum=0.1, affine=True, track_running_stats=True)\n",
       "        (relu1): ReLU(inplace=True)\n",
       "        (conv1): Conv2d(192, 128, kernel_size=(1, 1), stride=(1, 1), bias=False)\n",
       "        (norm2): BatchNorm2d(128, eps=1e-05, momentum=0.1, affine=True, track_running_stats=True)\n",
       "        (relu2): ReLU(inplace=True)\n",
       "        (conv2): Conv2d(128, 32, kernel_size=(3, 3), stride=(1, 1), padding=(1, 1), bias=False)\n",
       "      )\n",
       "      (denselayer6): _DenseLayer(\n",
       "        (norm1): BatchNorm2d(224, eps=1e-05, momentum=0.1, affine=True, track_running_stats=True)\n",
       "        (relu1): ReLU(inplace=True)\n",
       "        (conv1): Conv2d(224, 128, kernel_size=(1, 1), stride=(1, 1), bias=False)\n",
       "        (norm2): BatchNorm2d(128, eps=1e-05, momentum=0.1, affine=True, track_running_stats=True)\n",
       "        (relu2): ReLU(inplace=True)\n",
       "        (conv2): Conv2d(128, 32, kernel_size=(3, 3), stride=(1, 1), padding=(1, 1), bias=False)\n",
       "      )\n",
       "    )\n",
       "    (transition1): _Transition(\n",
       "      (norm): BatchNorm2d(256, eps=1e-05, momentum=0.1, affine=True, track_running_stats=True)\n",
       "      (relu): ReLU(inplace=True)\n",
       "      (conv): Conv2d(256, 128, kernel_size=(1, 1), stride=(1, 1), bias=False)\n",
       "      (pool): AvgPool2d(kernel_size=2, stride=2, padding=0)\n",
       "    )\n",
       "    (denseblock2): _DenseBlock(\n",
       "      (denselayer1): _DenseLayer(\n",
       "        (norm1): BatchNorm2d(128, eps=1e-05, momentum=0.1, affine=True, track_running_stats=True)\n",
       "        (relu1): ReLU(inplace=True)\n",
       "        (conv1): Conv2d(128, 128, kernel_size=(1, 1), stride=(1, 1), bias=False)\n",
       "        (norm2): BatchNorm2d(128, eps=1e-05, momentum=0.1, affine=True, track_running_stats=True)\n",
       "        (relu2): ReLU(inplace=True)\n",
       "        (conv2): Conv2d(128, 32, kernel_size=(3, 3), stride=(1, 1), padding=(1, 1), bias=False)\n",
       "      )\n",
       "      (denselayer2): _DenseLayer(\n",
       "        (norm1): BatchNorm2d(160, eps=1e-05, momentum=0.1, affine=True, track_running_stats=True)\n",
       "        (relu1): ReLU(inplace=True)\n",
       "        (conv1): Conv2d(160, 128, kernel_size=(1, 1), stride=(1, 1), bias=False)\n",
       "        (norm2): BatchNorm2d(128, eps=1e-05, momentum=0.1, affine=True, track_running_stats=True)\n",
       "        (relu2): ReLU(inplace=True)\n",
       "        (conv2): Conv2d(128, 32, kernel_size=(3, 3), stride=(1, 1), padding=(1, 1), bias=False)\n",
       "      )\n",
       "      (denselayer3): _DenseLayer(\n",
       "        (norm1): BatchNorm2d(192, eps=1e-05, momentum=0.1, affine=True, track_running_stats=True)\n",
       "        (relu1): ReLU(inplace=True)\n",
       "        (conv1): Conv2d(192, 128, kernel_size=(1, 1), stride=(1, 1), bias=False)\n",
       "        (norm2): BatchNorm2d(128, eps=1e-05, momentum=0.1, affine=True, track_running_stats=True)\n",
       "        (relu2): ReLU(inplace=True)\n",
       "        (conv2): Conv2d(128, 32, kernel_size=(3, 3), stride=(1, 1), padding=(1, 1), bias=False)\n",
       "      )\n",
       "      (denselayer4): _DenseLayer(\n",
       "        (norm1): BatchNorm2d(224, eps=1e-05, momentum=0.1, affine=True, track_running_stats=True)\n",
       "        (relu1): ReLU(inplace=True)\n",
       "        (conv1): Conv2d(224, 128, kernel_size=(1, 1), stride=(1, 1), bias=False)\n",
       "        (norm2): BatchNorm2d(128, eps=1e-05, momentum=0.1, affine=True, track_running_stats=True)\n",
       "        (relu2): ReLU(inplace=True)\n",
       "        (conv2): Conv2d(128, 32, kernel_size=(3, 3), stride=(1, 1), padding=(1, 1), bias=False)\n",
       "      )\n",
       "      (denselayer5): _DenseLayer(\n",
       "        (norm1): BatchNorm2d(256, eps=1e-05, momentum=0.1, affine=True, track_running_stats=True)\n",
       "        (relu1): ReLU(inplace=True)\n",
       "        (conv1): Conv2d(256, 128, kernel_size=(1, 1), stride=(1, 1), bias=False)\n",
       "        (norm2): BatchNorm2d(128, eps=1e-05, momentum=0.1, affine=True, track_running_stats=True)\n",
       "        (relu2): ReLU(inplace=True)\n",
       "        (conv2): Conv2d(128, 32, kernel_size=(3, 3), stride=(1, 1), padding=(1, 1), bias=False)\n",
       "      )\n",
       "      (denselayer6): _DenseLayer(\n",
       "        (norm1): BatchNorm2d(288, eps=1e-05, momentum=0.1, affine=True, track_running_stats=True)\n",
       "        (relu1): ReLU(inplace=True)\n",
       "        (conv1): Conv2d(288, 128, kernel_size=(1, 1), stride=(1, 1), bias=False)\n",
       "        (norm2): BatchNorm2d(128, eps=1e-05, momentum=0.1, affine=True, track_running_stats=True)\n",
       "        (relu2): ReLU(inplace=True)\n",
       "        (conv2): Conv2d(128, 32, kernel_size=(3, 3), stride=(1, 1), padding=(1, 1), bias=False)\n",
       "      )\n",
       "      (denselayer7): _DenseLayer(\n",
       "        (norm1): BatchNorm2d(320, eps=1e-05, momentum=0.1, affine=True, track_running_stats=True)\n",
       "        (relu1): ReLU(inplace=True)\n",
       "        (conv1): Conv2d(320, 128, kernel_size=(1, 1), stride=(1, 1), bias=False)\n",
       "        (norm2): BatchNorm2d(128, eps=1e-05, momentum=0.1, affine=True, track_running_stats=True)\n",
       "        (relu2): ReLU(inplace=True)\n",
       "        (conv2): Conv2d(128, 32, kernel_size=(3, 3), stride=(1, 1), padding=(1, 1), bias=False)\n",
       "      )\n",
       "      (denselayer8): _DenseLayer(\n",
       "        (norm1): BatchNorm2d(352, eps=1e-05, momentum=0.1, affine=True, track_running_stats=True)\n",
       "        (relu1): ReLU(inplace=True)\n",
       "        (conv1): Conv2d(352, 128, kernel_size=(1, 1), stride=(1, 1), bias=False)\n",
       "        (norm2): BatchNorm2d(128, eps=1e-05, momentum=0.1, affine=True, track_running_stats=True)\n",
       "        (relu2): ReLU(inplace=True)\n",
       "        (conv2): Conv2d(128, 32, kernel_size=(3, 3), stride=(1, 1), padding=(1, 1), bias=False)\n",
       "      )\n",
       "      (denselayer9): _DenseLayer(\n",
       "        (norm1): BatchNorm2d(384, eps=1e-05, momentum=0.1, affine=True, track_running_stats=True)\n",
       "        (relu1): ReLU(inplace=True)\n",
       "        (conv1): Conv2d(384, 128, kernel_size=(1, 1), stride=(1, 1), bias=False)\n",
       "        (norm2): BatchNorm2d(128, eps=1e-05, momentum=0.1, affine=True, track_running_stats=True)\n",
       "        (relu2): ReLU(inplace=True)\n",
       "        (conv2): Conv2d(128, 32, kernel_size=(3, 3), stride=(1, 1), padding=(1, 1), bias=False)\n",
       "      )\n",
       "      (denselayer10): _DenseLayer(\n",
       "        (norm1): BatchNorm2d(416, eps=1e-05, momentum=0.1, affine=True, track_running_stats=True)\n",
       "        (relu1): ReLU(inplace=True)\n",
       "        (conv1): Conv2d(416, 128, kernel_size=(1, 1), stride=(1, 1), bias=False)\n",
       "        (norm2): BatchNorm2d(128, eps=1e-05, momentum=0.1, affine=True, track_running_stats=True)\n",
       "        (relu2): ReLU(inplace=True)\n",
       "        (conv2): Conv2d(128, 32, kernel_size=(3, 3), stride=(1, 1), padding=(1, 1), bias=False)\n",
       "      )\n",
       "      (denselayer11): _DenseLayer(\n",
       "        (norm1): BatchNorm2d(448, eps=1e-05, momentum=0.1, affine=True, track_running_stats=True)\n",
       "        (relu1): ReLU(inplace=True)\n",
       "        (conv1): Conv2d(448, 128, kernel_size=(1, 1), stride=(1, 1), bias=False)\n",
       "        (norm2): BatchNorm2d(128, eps=1e-05, momentum=0.1, affine=True, track_running_stats=True)\n",
       "        (relu2): ReLU(inplace=True)\n",
       "        (conv2): Conv2d(128, 32, kernel_size=(3, 3), stride=(1, 1), padding=(1, 1), bias=False)\n",
       "      )\n",
       "      (denselayer12): _DenseLayer(\n",
       "        (norm1): BatchNorm2d(480, eps=1e-05, momentum=0.1, affine=True, track_running_stats=True)\n",
       "        (relu1): ReLU(inplace=True)\n",
       "        (conv1): Conv2d(480, 128, kernel_size=(1, 1), stride=(1, 1), bias=False)\n",
       "        (norm2): BatchNorm2d(128, eps=1e-05, momentum=0.1, affine=True, track_running_stats=True)\n",
       "        (relu2): ReLU(inplace=True)\n",
       "        (conv2): Conv2d(128, 32, kernel_size=(3, 3), stride=(1, 1), padding=(1, 1), bias=False)\n",
       "      )\n",
       "    )\n",
       "    (transition2): _Transition(\n",
       "      (norm): BatchNorm2d(512, eps=1e-05, momentum=0.1, affine=True, track_running_stats=True)\n",
       "      (relu): ReLU(inplace=True)\n",
       "      (conv): Conv2d(512, 256, kernel_size=(1, 1), stride=(1, 1), bias=False)\n",
       "      (pool): AvgPool2d(kernel_size=2, stride=2, padding=0)\n",
       "    )\n",
       "    (denseblock3): _DenseBlock(\n",
       "      (denselayer1): _DenseLayer(\n",
       "        (norm1): BatchNorm2d(256, eps=1e-05, momentum=0.1, affine=True, track_running_stats=True)\n",
       "        (relu1): ReLU(inplace=True)\n",
       "        (conv1): Conv2d(256, 128, kernel_size=(1, 1), stride=(1, 1), bias=False)\n",
       "        (norm2): BatchNorm2d(128, eps=1e-05, momentum=0.1, affine=True, track_running_stats=True)\n",
       "        (relu2): ReLU(inplace=True)\n",
       "        (conv2): Conv2d(128, 32, kernel_size=(3, 3), stride=(1, 1), padding=(1, 1), bias=False)\n",
       "      )\n",
       "      (denselayer2): _DenseLayer(\n",
       "        (norm1): BatchNorm2d(288, eps=1e-05, momentum=0.1, affine=True, track_running_stats=True)\n",
       "        (relu1): ReLU(inplace=True)\n",
       "        (conv1): Conv2d(288, 128, kernel_size=(1, 1), stride=(1, 1), bias=False)\n",
       "        (norm2): BatchNorm2d(128, eps=1e-05, momentum=0.1, affine=True, track_running_stats=True)\n",
       "        (relu2): ReLU(inplace=True)\n",
       "        (conv2): Conv2d(128, 32, kernel_size=(3, 3), stride=(1, 1), padding=(1, 1), bias=False)\n",
       "      )\n",
       "      (denselayer3): _DenseLayer(\n",
       "        (norm1): BatchNorm2d(320, eps=1e-05, momentum=0.1, affine=True, track_running_stats=True)\n",
       "        (relu1): ReLU(inplace=True)\n",
       "        (conv1): Conv2d(320, 128, kernel_size=(1, 1), stride=(1, 1), bias=False)\n",
       "        (norm2): BatchNorm2d(128, eps=1e-05, momentum=0.1, affine=True, track_running_stats=True)\n",
       "        (relu2): ReLU(inplace=True)\n",
       "        (conv2): Conv2d(128, 32, kernel_size=(3, 3), stride=(1, 1), padding=(1, 1), bias=False)\n",
       "      )\n",
       "      (denselayer4): _DenseLayer(\n",
       "        (norm1): BatchNorm2d(352, eps=1e-05, momentum=0.1, affine=True, track_running_stats=True)\n",
       "        (relu1): ReLU(inplace=True)\n",
       "        (conv1): Conv2d(352, 128, kernel_size=(1, 1), stride=(1, 1), bias=False)\n",
       "        (norm2): BatchNorm2d(128, eps=1e-05, momentum=0.1, affine=True, track_running_stats=True)\n",
       "        (relu2): ReLU(inplace=True)\n",
       "        (conv2): Conv2d(128, 32, kernel_size=(3, 3), stride=(1, 1), padding=(1, 1), bias=False)\n",
       "      )\n",
       "      (denselayer5): _DenseLayer(\n",
       "        (norm1): BatchNorm2d(384, eps=1e-05, momentum=0.1, affine=True, track_running_stats=True)\n",
       "        (relu1): ReLU(inplace=True)\n",
       "        (conv1): Conv2d(384, 128, kernel_size=(1, 1), stride=(1, 1), bias=False)\n",
       "        (norm2): BatchNorm2d(128, eps=1e-05, momentum=0.1, affine=True, track_running_stats=True)\n",
       "        (relu2): ReLU(inplace=True)\n",
       "        (conv2): Conv2d(128, 32, kernel_size=(3, 3), stride=(1, 1), padding=(1, 1), bias=False)\n",
       "      )\n",
       "      (denselayer6): _DenseLayer(\n",
       "        (norm1): BatchNorm2d(416, eps=1e-05, momentum=0.1, affine=True, track_running_stats=True)\n",
       "        (relu1): ReLU(inplace=True)\n",
       "        (conv1): Conv2d(416, 128, kernel_size=(1, 1), stride=(1, 1), bias=False)\n",
       "        (norm2): BatchNorm2d(128, eps=1e-05, momentum=0.1, affine=True, track_running_stats=True)\n",
       "        (relu2): ReLU(inplace=True)\n",
       "        (conv2): Conv2d(128, 32, kernel_size=(3, 3), stride=(1, 1), padding=(1, 1), bias=False)\n",
       "      )\n",
       "      (denselayer7): _DenseLayer(\n",
       "        (norm1): BatchNorm2d(448, eps=1e-05, momentum=0.1, affine=True, track_running_stats=True)\n",
       "        (relu1): ReLU(inplace=True)\n",
       "        (conv1): Conv2d(448, 128, kernel_size=(1, 1), stride=(1, 1), bias=False)\n",
       "        (norm2): BatchNorm2d(128, eps=1e-05, momentum=0.1, affine=True, track_running_stats=True)\n",
       "        (relu2): ReLU(inplace=True)\n",
       "        (conv2): Conv2d(128, 32, kernel_size=(3, 3), stride=(1, 1), padding=(1, 1), bias=False)\n",
       "      )\n",
       "      (denselayer8): _DenseLayer(\n",
       "        (norm1): BatchNorm2d(480, eps=1e-05, momentum=0.1, affine=True, track_running_stats=True)\n",
       "        (relu1): ReLU(inplace=True)\n",
       "        (conv1): Conv2d(480, 128, kernel_size=(1, 1), stride=(1, 1), bias=False)\n",
       "        (norm2): BatchNorm2d(128, eps=1e-05, momentum=0.1, affine=True, track_running_stats=True)\n",
       "        (relu2): ReLU(inplace=True)\n",
       "        (conv2): Conv2d(128, 32, kernel_size=(3, 3), stride=(1, 1), padding=(1, 1), bias=False)\n",
       "      )\n",
       "      (denselayer9): _DenseLayer(\n",
       "        (norm1): BatchNorm2d(512, eps=1e-05, momentum=0.1, affine=True, track_running_stats=True)\n",
       "        (relu1): ReLU(inplace=True)\n",
       "        (conv1): Conv2d(512, 128, kernel_size=(1, 1), stride=(1, 1), bias=False)\n",
       "        (norm2): BatchNorm2d(128, eps=1e-05, momentum=0.1, affine=True, track_running_stats=True)\n",
       "        (relu2): ReLU(inplace=True)\n",
       "        (conv2): Conv2d(128, 32, kernel_size=(3, 3), stride=(1, 1), padding=(1, 1), bias=False)\n",
       "      )\n",
       "      (denselayer10): _DenseLayer(\n",
       "        (norm1): BatchNorm2d(544, eps=1e-05, momentum=0.1, affine=True, track_running_stats=True)\n",
       "        (relu1): ReLU(inplace=True)\n",
       "        (conv1): Conv2d(544, 128, kernel_size=(1, 1), stride=(1, 1), bias=False)\n",
       "        (norm2): BatchNorm2d(128, eps=1e-05, momentum=0.1, affine=True, track_running_stats=True)\n",
       "        (relu2): ReLU(inplace=True)\n",
       "        (conv2): Conv2d(128, 32, kernel_size=(3, 3), stride=(1, 1), padding=(1, 1), bias=False)\n",
       "      )\n",
       "      (denselayer11): _DenseLayer(\n",
       "        (norm1): BatchNorm2d(576, eps=1e-05, momentum=0.1, affine=True, track_running_stats=True)\n",
       "        (relu1): ReLU(inplace=True)\n",
       "        (conv1): Conv2d(576, 128, kernel_size=(1, 1), stride=(1, 1), bias=False)\n",
       "        (norm2): BatchNorm2d(128, eps=1e-05, momentum=0.1, affine=True, track_running_stats=True)\n",
       "        (relu2): ReLU(inplace=True)\n",
       "        (conv2): Conv2d(128, 32, kernel_size=(3, 3), stride=(1, 1), padding=(1, 1), bias=False)\n",
       "      )\n",
       "      (denselayer12): _DenseLayer(\n",
       "        (norm1): BatchNorm2d(608, eps=1e-05, momentum=0.1, affine=True, track_running_stats=True)\n",
       "        (relu1): ReLU(inplace=True)\n",
       "        (conv1): Conv2d(608, 128, kernel_size=(1, 1), stride=(1, 1), bias=False)\n",
       "        (norm2): BatchNorm2d(128, eps=1e-05, momentum=0.1, affine=True, track_running_stats=True)\n",
       "        (relu2): ReLU(inplace=True)\n",
       "        (conv2): Conv2d(128, 32, kernel_size=(3, 3), stride=(1, 1), padding=(1, 1), bias=False)\n",
       "      )\n",
       "      (denselayer13): _DenseLayer(\n",
       "        (norm1): BatchNorm2d(640, eps=1e-05, momentum=0.1, affine=True, track_running_stats=True)\n",
       "        (relu1): ReLU(inplace=True)\n",
       "        (conv1): Conv2d(640, 128, kernel_size=(1, 1), stride=(1, 1), bias=False)\n",
       "        (norm2): BatchNorm2d(128, eps=1e-05, momentum=0.1, affine=True, track_running_stats=True)\n",
       "        (relu2): ReLU(inplace=True)\n",
       "        (conv2): Conv2d(128, 32, kernel_size=(3, 3), stride=(1, 1), padding=(1, 1), bias=False)\n",
       "      )\n",
       "      (denselayer14): _DenseLayer(\n",
       "        (norm1): BatchNorm2d(672, eps=1e-05, momentum=0.1, affine=True, track_running_stats=True)\n",
       "        (relu1): ReLU(inplace=True)\n",
       "        (conv1): Conv2d(672, 128, kernel_size=(1, 1), stride=(1, 1), bias=False)\n",
       "        (norm2): BatchNorm2d(128, eps=1e-05, momentum=0.1, affine=True, track_running_stats=True)\n",
       "        (relu2): ReLU(inplace=True)\n",
       "        (conv2): Conv2d(128, 32, kernel_size=(3, 3), stride=(1, 1), padding=(1, 1), bias=False)\n",
       "      )\n",
       "      (denselayer15): _DenseLayer(\n",
       "        (norm1): BatchNorm2d(704, eps=1e-05, momentum=0.1, affine=True, track_running_stats=True)\n",
       "        (relu1): ReLU(inplace=True)\n",
       "        (conv1): Conv2d(704, 128, kernel_size=(1, 1), stride=(1, 1), bias=False)\n",
       "        (norm2): BatchNorm2d(128, eps=1e-05, momentum=0.1, affine=True, track_running_stats=True)\n",
       "        (relu2): ReLU(inplace=True)\n",
       "        (conv2): Conv2d(128, 32, kernel_size=(3, 3), stride=(1, 1), padding=(1, 1), bias=False)\n",
       "      )\n",
       "      (denselayer16): _DenseLayer(\n",
       "        (norm1): BatchNorm2d(736, eps=1e-05, momentum=0.1, affine=True, track_running_stats=True)\n",
       "        (relu1): ReLU(inplace=True)\n",
       "        (conv1): Conv2d(736, 128, kernel_size=(1, 1), stride=(1, 1), bias=False)\n",
       "        (norm2): BatchNorm2d(128, eps=1e-05, momentum=0.1, affine=True, track_running_stats=True)\n",
       "        (relu2): ReLU(inplace=True)\n",
       "        (conv2): Conv2d(128, 32, kernel_size=(3, 3), stride=(1, 1), padding=(1, 1), bias=False)\n",
       "      )\n",
       "      (denselayer17): _DenseLayer(\n",
       "        (norm1): BatchNorm2d(768, eps=1e-05, momentum=0.1, affine=True, track_running_stats=True)\n",
       "        (relu1): ReLU(inplace=True)\n",
       "        (conv1): Conv2d(768, 128, kernel_size=(1, 1), stride=(1, 1), bias=False)\n",
       "        (norm2): BatchNorm2d(128, eps=1e-05, momentum=0.1, affine=True, track_running_stats=True)\n",
       "        (relu2): ReLU(inplace=True)\n",
       "        (conv2): Conv2d(128, 32, kernel_size=(3, 3), stride=(1, 1), padding=(1, 1), bias=False)\n",
       "      )\n",
       "      (denselayer18): _DenseLayer(\n",
       "        (norm1): BatchNorm2d(800, eps=1e-05, momentum=0.1, affine=True, track_running_stats=True)\n",
       "        (relu1): ReLU(inplace=True)\n",
       "        (conv1): Conv2d(800, 128, kernel_size=(1, 1), stride=(1, 1), bias=False)\n",
       "        (norm2): BatchNorm2d(128, eps=1e-05, momentum=0.1, affine=True, track_running_stats=True)\n",
       "        (relu2): ReLU(inplace=True)\n",
       "        (conv2): Conv2d(128, 32, kernel_size=(3, 3), stride=(1, 1), padding=(1, 1), bias=False)\n",
       "      )\n",
       "      (denselayer19): _DenseLayer(\n",
       "        (norm1): BatchNorm2d(832, eps=1e-05, momentum=0.1, affine=True, track_running_stats=True)\n",
       "        (relu1): ReLU(inplace=True)\n",
       "        (conv1): Conv2d(832, 128, kernel_size=(1, 1), stride=(1, 1), bias=False)\n",
       "        (norm2): BatchNorm2d(128, eps=1e-05, momentum=0.1, affine=True, track_running_stats=True)\n",
       "        (relu2): ReLU(inplace=True)\n",
       "        (conv2): Conv2d(128, 32, kernel_size=(3, 3), stride=(1, 1), padding=(1, 1), bias=False)\n",
       "      )\n",
       "      (denselayer20): _DenseLayer(\n",
       "        (norm1): BatchNorm2d(864, eps=1e-05, momentum=0.1, affine=True, track_running_stats=True)\n",
       "        (relu1): ReLU(inplace=True)\n",
       "        (conv1): Conv2d(864, 128, kernel_size=(1, 1), stride=(1, 1), bias=False)\n",
       "        (norm2): BatchNorm2d(128, eps=1e-05, momentum=0.1, affine=True, track_running_stats=True)\n",
       "        (relu2): ReLU(inplace=True)\n",
       "        (conv2): Conv2d(128, 32, kernel_size=(3, 3), stride=(1, 1), padding=(1, 1), bias=False)\n",
       "      )\n",
       "      (denselayer21): _DenseLayer(\n",
       "        (norm1): BatchNorm2d(896, eps=1e-05, momentum=0.1, affine=True, track_running_stats=True)\n",
       "        (relu1): ReLU(inplace=True)\n",
       "        (conv1): Conv2d(896, 128, kernel_size=(1, 1), stride=(1, 1), bias=False)\n",
       "        (norm2): BatchNorm2d(128, eps=1e-05, momentum=0.1, affine=True, track_running_stats=True)\n",
       "        (relu2): ReLU(inplace=True)\n",
       "        (conv2): Conv2d(128, 32, kernel_size=(3, 3), stride=(1, 1), padding=(1, 1), bias=False)\n",
       "      )\n",
       "      (denselayer22): _DenseLayer(\n",
       "        (norm1): BatchNorm2d(928, eps=1e-05, momentum=0.1, affine=True, track_running_stats=True)\n",
       "        (relu1): ReLU(inplace=True)\n",
       "        (conv1): Conv2d(928, 128, kernel_size=(1, 1), stride=(1, 1), bias=False)\n",
       "        (norm2): BatchNorm2d(128, eps=1e-05, momentum=0.1, affine=True, track_running_stats=True)\n",
       "        (relu2): ReLU(inplace=True)\n",
       "        (conv2): Conv2d(128, 32, kernel_size=(3, 3), stride=(1, 1), padding=(1, 1), bias=False)\n",
       "      )\n",
       "      (denselayer23): _DenseLayer(\n",
       "        (norm1): BatchNorm2d(960, eps=1e-05, momentum=0.1, affine=True, track_running_stats=True)\n",
       "        (relu1): ReLU(inplace=True)\n",
       "        (conv1): Conv2d(960, 128, kernel_size=(1, 1), stride=(1, 1), bias=False)\n",
       "        (norm2): BatchNorm2d(128, eps=1e-05, momentum=0.1, affine=True, track_running_stats=True)\n",
       "        (relu2): ReLU(inplace=True)\n",
       "        (conv2): Conv2d(128, 32, kernel_size=(3, 3), stride=(1, 1), padding=(1, 1), bias=False)\n",
       "      )\n",
       "      (denselayer24): _DenseLayer(\n",
       "        (norm1): BatchNorm2d(992, eps=1e-05, momentum=0.1, affine=True, track_running_stats=True)\n",
       "        (relu1): ReLU(inplace=True)\n",
       "        (conv1): Conv2d(992, 128, kernel_size=(1, 1), stride=(1, 1), bias=False)\n",
       "        (norm2): BatchNorm2d(128, eps=1e-05, momentum=0.1, affine=True, track_running_stats=True)\n",
       "        (relu2): ReLU(inplace=True)\n",
       "        (conv2): Conv2d(128, 32, kernel_size=(3, 3), stride=(1, 1), padding=(1, 1), bias=False)\n",
       "      )\n",
       "    )\n",
       "    (transition3): _Transition(\n",
       "      (norm): BatchNorm2d(1024, eps=1e-05, momentum=0.1, affine=True, track_running_stats=True)\n",
       "      (relu): ReLU(inplace=True)\n",
       "      (conv): Conv2d(1024, 512, kernel_size=(1, 1), stride=(1, 1), bias=False)\n",
       "      (pool): AvgPool2d(kernel_size=2, stride=2, padding=0)\n",
       "    )\n",
       "    (denseblock4): _DenseBlock(\n",
       "      (denselayer1): _DenseLayer(\n",
       "        (norm1): BatchNorm2d(512, eps=1e-05, momentum=0.1, affine=True, track_running_stats=True)\n",
       "        (relu1): ReLU(inplace=True)\n",
       "        (conv1): Conv2d(512, 128, kernel_size=(1, 1), stride=(1, 1), bias=False)\n",
       "        (norm2): BatchNorm2d(128, eps=1e-05, momentum=0.1, affine=True, track_running_stats=True)\n",
       "        (relu2): ReLU(inplace=True)\n",
       "        (conv2): Conv2d(128, 32, kernel_size=(3, 3), stride=(1, 1), padding=(1, 1), bias=False)\n",
       "      )\n",
       "      (denselayer2): _DenseLayer(\n",
       "        (norm1): BatchNorm2d(544, eps=1e-05, momentum=0.1, affine=True, track_running_stats=True)\n",
       "        (relu1): ReLU(inplace=True)\n",
       "        (conv1): Conv2d(544, 128, kernel_size=(1, 1), stride=(1, 1), bias=False)\n",
       "        (norm2): BatchNorm2d(128, eps=1e-05, momentum=0.1, affine=True, track_running_stats=True)\n",
       "        (relu2): ReLU(inplace=True)\n",
       "        (conv2): Conv2d(128, 32, kernel_size=(3, 3), stride=(1, 1), padding=(1, 1), bias=False)\n",
       "      )\n",
       "      (denselayer3): _DenseLayer(\n",
       "        (norm1): BatchNorm2d(576, eps=1e-05, momentum=0.1, affine=True, track_running_stats=True)\n",
       "        (relu1): ReLU(inplace=True)\n",
       "        (conv1): Conv2d(576, 128, kernel_size=(1, 1), stride=(1, 1), bias=False)\n",
       "        (norm2): BatchNorm2d(128, eps=1e-05, momentum=0.1, affine=True, track_running_stats=True)\n",
       "        (relu2): ReLU(inplace=True)\n",
       "        (conv2): Conv2d(128, 32, kernel_size=(3, 3), stride=(1, 1), padding=(1, 1), bias=False)\n",
       "      )\n",
       "      (denselayer4): _DenseLayer(\n",
       "        (norm1): BatchNorm2d(608, eps=1e-05, momentum=0.1, affine=True, track_running_stats=True)\n",
       "        (relu1): ReLU(inplace=True)\n",
       "        (conv1): Conv2d(608, 128, kernel_size=(1, 1), stride=(1, 1), bias=False)\n",
       "        (norm2): BatchNorm2d(128, eps=1e-05, momentum=0.1, affine=True, track_running_stats=True)\n",
       "        (relu2): ReLU(inplace=True)\n",
       "        (conv2): Conv2d(128, 32, kernel_size=(3, 3), stride=(1, 1), padding=(1, 1), bias=False)\n",
       "      )\n",
       "      (denselayer5): _DenseLayer(\n",
       "        (norm1): BatchNorm2d(640, eps=1e-05, momentum=0.1, affine=True, track_running_stats=True)\n",
       "        (relu1): ReLU(inplace=True)\n",
       "        (conv1): Conv2d(640, 128, kernel_size=(1, 1), stride=(1, 1), bias=False)\n",
       "        (norm2): BatchNorm2d(128, eps=1e-05, momentum=0.1, affine=True, track_running_stats=True)\n",
       "        (relu2): ReLU(inplace=True)\n",
       "        (conv2): Conv2d(128, 32, kernel_size=(3, 3), stride=(1, 1), padding=(1, 1), bias=False)\n",
       "      )\n",
       "      (denselayer6): _DenseLayer(\n",
       "        (norm1): BatchNorm2d(672, eps=1e-05, momentum=0.1, affine=True, track_running_stats=True)\n",
       "        (relu1): ReLU(inplace=True)\n",
       "        (conv1): Conv2d(672, 128, kernel_size=(1, 1), stride=(1, 1), bias=False)\n",
       "        (norm2): BatchNorm2d(128, eps=1e-05, momentum=0.1, affine=True, track_running_stats=True)\n",
       "        (relu2): ReLU(inplace=True)\n",
       "        (conv2): Conv2d(128, 32, kernel_size=(3, 3), stride=(1, 1), padding=(1, 1), bias=False)\n",
       "      )\n",
       "      (denselayer7): _DenseLayer(\n",
       "        (norm1): BatchNorm2d(704, eps=1e-05, momentum=0.1, affine=True, track_running_stats=True)\n",
       "        (relu1): ReLU(inplace=True)\n",
       "        (conv1): Conv2d(704, 128, kernel_size=(1, 1), stride=(1, 1), bias=False)\n",
       "        (norm2): BatchNorm2d(128, eps=1e-05, momentum=0.1, affine=True, track_running_stats=True)\n",
       "        (relu2): ReLU(inplace=True)\n",
       "        (conv2): Conv2d(128, 32, kernel_size=(3, 3), stride=(1, 1), padding=(1, 1), bias=False)\n",
       "      )\n",
       "      (denselayer8): _DenseLayer(\n",
       "        (norm1): BatchNorm2d(736, eps=1e-05, momentum=0.1, affine=True, track_running_stats=True)\n",
       "        (relu1): ReLU(inplace=True)\n",
       "        (conv1): Conv2d(736, 128, kernel_size=(1, 1), stride=(1, 1), bias=False)\n",
       "        (norm2): BatchNorm2d(128, eps=1e-05, momentum=0.1, affine=True, track_running_stats=True)\n",
       "        (relu2): ReLU(inplace=True)\n",
       "        (conv2): Conv2d(128, 32, kernel_size=(3, 3), stride=(1, 1), padding=(1, 1), bias=False)\n",
       "      )\n",
       "      (denselayer9): _DenseLayer(\n",
       "        (norm1): BatchNorm2d(768, eps=1e-05, momentum=0.1, affine=True, track_running_stats=True)\n",
       "        (relu1): ReLU(inplace=True)\n",
       "        (conv1): Conv2d(768, 128, kernel_size=(1, 1), stride=(1, 1), bias=False)\n",
       "        (norm2): BatchNorm2d(128, eps=1e-05, momentum=0.1, affine=True, track_running_stats=True)\n",
       "        (relu2): ReLU(inplace=True)\n",
       "        (conv2): Conv2d(128, 32, kernel_size=(3, 3), stride=(1, 1), padding=(1, 1), bias=False)\n",
       "      )\n",
       "      (denselayer10): _DenseLayer(\n",
       "        (norm1): BatchNorm2d(800, eps=1e-05, momentum=0.1, affine=True, track_running_stats=True)\n",
       "        (relu1): ReLU(inplace=True)\n",
       "        (conv1): Conv2d(800, 128, kernel_size=(1, 1), stride=(1, 1), bias=False)\n",
       "        (norm2): BatchNorm2d(128, eps=1e-05, momentum=0.1, affine=True, track_running_stats=True)\n",
       "        (relu2): ReLU(inplace=True)\n",
       "        (conv2): Conv2d(128, 32, kernel_size=(3, 3), stride=(1, 1), padding=(1, 1), bias=False)\n",
       "      )\n",
       "      (denselayer11): _DenseLayer(\n",
       "        (norm1): BatchNorm2d(832, eps=1e-05, momentum=0.1, affine=True, track_running_stats=True)\n",
       "        (relu1): ReLU(inplace=True)\n",
       "        (conv1): Conv2d(832, 128, kernel_size=(1, 1), stride=(1, 1), bias=False)\n",
       "        (norm2): BatchNorm2d(128, eps=1e-05, momentum=0.1, affine=True, track_running_stats=True)\n",
       "        (relu2): ReLU(inplace=True)\n",
       "        (conv2): Conv2d(128, 32, kernel_size=(3, 3), stride=(1, 1), padding=(1, 1), bias=False)\n",
       "      )\n",
       "      (denselayer12): _DenseLayer(\n",
       "        (norm1): BatchNorm2d(864, eps=1e-05, momentum=0.1, affine=True, track_running_stats=True)\n",
       "        (relu1): ReLU(inplace=True)\n",
       "        (conv1): Conv2d(864, 128, kernel_size=(1, 1), stride=(1, 1), bias=False)\n",
       "        (norm2): BatchNorm2d(128, eps=1e-05, momentum=0.1, affine=True, track_running_stats=True)\n",
       "        (relu2): ReLU(inplace=True)\n",
       "        (conv2): Conv2d(128, 32, kernel_size=(3, 3), stride=(1, 1), padding=(1, 1), bias=False)\n",
       "      )\n",
       "      (denselayer13): _DenseLayer(\n",
       "        (norm1): BatchNorm2d(896, eps=1e-05, momentum=0.1, affine=True, track_running_stats=True)\n",
       "        (relu1): ReLU(inplace=True)\n",
       "        (conv1): Conv2d(896, 128, kernel_size=(1, 1), stride=(1, 1), bias=False)\n",
       "        (norm2): BatchNorm2d(128, eps=1e-05, momentum=0.1, affine=True, track_running_stats=True)\n",
       "        (relu2): ReLU(inplace=True)\n",
       "        (conv2): Conv2d(128, 32, kernel_size=(3, 3), stride=(1, 1), padding=(1, 1), bias=False)\n",
       "      )\n",
       "      (denselayer14): _DenseLayer(\n",
       "        (norm1): BatchNorm2d(928, eps=1e-05, momentum=0.1, affine=True, track_running_stats=True)\n",
       "        (relu1): ReLU(inplace=True)\n",
       "        (conv1): Conv2d(928, 128, kernel_size=(1, 1), stride=(1, 1), bias=False)\n",
       "        (norm2): BatchNorm2d(128, eps=1e-05, momentum=0.1, affine=True, track_running_stats=True)\n",
       "        (relu2): ReLU(inplace=True)\n",
       "        (conv2): Conv2d(128, 32, kernel_size=(3, 3), stride=(1, 1), padding=(1, 1), bias=False)\n",
       "      )\n",
       "      (denselayer15): _DenseLayer(\n",
       "        (norm1): BatchNorm2d(960, eps=1e-05, momentum=0.1, affine=True, track_running_stats=True)\n",
       "        (relu1): ReLU(inplace=True)\n",
       "        (conv1): Conv2d(960, 128, kernel_size=(1, 1), stride=(1, 1), bias=False)\n",
       "        (norm2): BatchNorm2d(128, eps=1e-05, momentum=0.1, affine=True, track_running_stats=True)\n",
       "        (relu2): ReLU(inplace=True)\n",
       "        (conv2): Conv2d(128, 32, kernel_size=(3, 3), stride=(1, 1), padding=(1, 1), bias=False)\n",
       "      )\n",
       "      (denselayer16): _DenseLayer(\n",
       "        (norm1): BatchNorm2d(992, eps=1e-05, momentum=0.1, affine=True, track_running_stats=True)\n",
       "        (relu1): ReLU(inplace=True)\n",
       "        (conv1): Conv2d(992, 128, kernel_size=(1, 1), stride=(1, 1), bias=False)\n",
       "        (norm2): BatchNorm2d(128, eps=1e-05, momentum=0.1, affine=True, track_running_stats=True)\n",
       "        (relu2): ReLU(inplace=True)\n",
       "        (conv2): Conv2d(128, 32, kernel_size=(3, 3), stride=(1, 1), padding=(1, 1), bias=False)\n",
       "      )\n",
       "    )\n",
       "    (norm5): BatchNorm2d(1024, eps=1e-05, momentum=0.1, affine=True, track_running_stats=True)\n",
       "  )\n",
       "  (classifier): Sequential(\n",
       "    (0): Linear(in_features=1024, out_features=2, bias=True)\n",
       "    (1): LogSoftmax(dim=1)\n",
       "  )\n",
       ")"
      ]
     },
     "execution_count": 15,
     "metadata": {},
     "output_type": "execute_result"
    }
   ],
   "source": [
    "\n",
    "############################\n",
    "#         Test\n",
    "############################\n",
    "test_list=[]\n",
    "test_model_path = \"fl_checkpointsdensenet121_e5_c5_r5/fl_densenet_5.pth\"\n",
    "print('Best model path:{}'.format(test_model_path))\n",
    "best_model=models.densenet121(weights=False).to(device)\n",
    "\n",
    "n_inputs = best_model.classifier.in_features\n",
    "best_model.classifier = nn.Sequential(\n",
    "              nn.Linear(n_inputs, n_classes),               \n",
    "              nn.LogSoftmax(dim=1))\n",
    "\n",
    "\n",
    "checkpoint=torch.load(test_model_path,map_location=device)   # loading best model\n",
    "best_model.load_state_dict(checkpoint['state_dict'])\n",
    "best_model.to(device)\n",
    "best_model.eval()"
   ]
  },
  {
   "cell_type": "code",
   "execution_count": 16,
   "metadata": {},
   "outputs": [],
   "source": [
    "from torch.utils.data import DataLoader\n",
    "\n",
    "# Define transform\n",
    "transform = transforms.Compose([\n",
    "    transforms.Resize((224, 224)),\n",
    "    transforms.ToTensor(),\n",
    "    transforms.Normalize(mean=[0.4762, 0.3054, 0.2368], std=[0.3345, 0.2407, 0.2164])\n",
    "])\n",
    "\n",
    "# Define test dataset and dataloader\n",
    "test_root_dir = os.path.join('Real_images_processed', 'test')\n",
    "test_dataset = datasets.ImageFolder(test_root_dir, transform=transform)\n",
    "test_loader = DataLoader(test_dataset, batch_size=1, shuffle=False)\n"
   ]
  },
  {
   "cell_type": "code",
   "execution_count": 17,
   "metadata": {},
   "outputs": [
    {
     "name": "stdout",
     "output_type": "stream",
     "text": [
      "1 Predicted class: Disease | Actual Class: Disease\n",
      "2 Predicted class: Disease | Actual Class: Disease\n",
      "3 Predicted class: Disease | Actual Class: Disease\n",
      "4 Predicted class: Disease | Actual Class: Disease\n",
      "5 Predicted class: Healthy | Actual Class: Disease\n",
      "6 Predicted class: Disease | Actual Class: Disease\n",
      "7 Predicted class: Healthy | Actual Class: Disease\n",
      "8 Predicted class: Disease | Actual Class: Disease\n",
      "9 Predicted class: Disease | Actual Class: Disease\n",
      "10 Predicted class: Disease | Actual Class: Disease\n",
      "11 Predicted class: Disease | Actual Class: Disease\n",
      "12 Predicted class: Disease | Actual Class: Disease\n",
      "13 Predicted class: Disease | Actual Class: Disease\n",
      "14 Predicted class: Disease | Actual Class: Disease\n",
      "15 Predicted class: Healthy | Actual Class: Healthy\n",
      "16 Predicted class: Healthy | Actual Class: Healthy\n",
      "17 Predicted class: Healthy | Actual Class: Healthy\n",
      "18 Predicted class: Healthy | Actual Class: Healthy\n",
      "19 Predicted class: Healthy | Actual Class: Healthy\n",
      "20 Predicted class: Disease | Actual Class: Healthy\n",
      "21 Predicted class: Disease | Actual Class: Healthy\n",
      "22 Predicted class: Disease | Actual Class: Healthy\n",
      "23 Predicted class: Healthy | Actual Class: Healthy\n",
      "24 Predicted class: Healthy | Actual Class: Healthy\n",
      "25 Predicted class: Disease | Actual Class: Healthy\n",
      "26 Predicted class: Healthy | Actual Class: Healthy\n",
      "27 Predicted class: Healthy | Actual Class: Healthy\n",
      "28 Predicted class: Healthy | Actual Class: Healthy\n",
      "29 Predicted class: Healthy | Actual Class: Healthy\n",
      "30 Predicted class: Healthy | Actual Class: Healthy\n",
      "Overall test accuracy: 80.00%\n"
     ]
    }
   ],
   "source": [
    "# Org test images: 111.jpg, 119.jpg\n",
    "# Other org: 662.jpg, 841.jpg, 731.jpg\n",
    "correct, total, loss = 0, 0, 0.0\n",
    "count = 1\n",
    "class_labels = ['Disease', 'Healthy']\n",
    "with torch.no_grad():\n",
    "    for images, labels in test_loader:\n",
    "        images, labels = images.to(device), labels.to(device)\n",
    "        outputs = best_model(images)\n",
    "        _, predicted = torch.max(outputs.data, 1)\n",
    "        total += labels.size(0)\n",
    "        correct += (predicted == labels).sum().item()\n",
    "        print(f\"{count} Predicted class: {class_labels[predicted.item()]} | Actual Class: {class_labels[labels]}\")\n",
    "        count += 1\n",
    "accuracy = correct / total\n",
    "print(f'Overall test accuracy: {accuracy * 100:.2f}%')"
   ]
  },
  {
   "cell_type": "code",
   "execution_count": null,
   "metadata": {},
   "outputs": [],
   "source": []
  },
  {
   "cell_type": "code",
   "execution_count": null,
   "metadata": {},
   "outputs": [],
   "source": []
  },
  {
   "cell_type": "code",
   "execution_count": null,
   "metadata": {},
   "outputs": [],
   "source": []
  },
  {
   "cell_type": "code",
   "execution_count": null,
   "metadata": {},
   "outputs": [],
   "source": [
    "\n"
   ]
  }
 ],
 "metadata": {
  "kernelspec": {
   "display_name": "Python 3 (ipykernel)",
   "language": "python",
   "name": "python3"
  },
  "language_info": {
   "codemirror_mode": {
    "name": "ipython",
    "version": 3
   },
   "file_extension": ".py",
   "mimetype": "text/x-python",
   "name": "python",
   "nbconvert_exporter": "python",
   "pygments_lexer": "ipython3",
   "version": "3.11.9"
  }
 },
 "nbformat": 4,
 "nbformat_minor": 4
}
