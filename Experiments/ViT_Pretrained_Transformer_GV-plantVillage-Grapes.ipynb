{
 "cells": [
  {
   "cell_type": "code",
   "execution_count": 8,
   "id": "a355f088",
   "metadata": {},
   "outputs": [
    {
     "name": "stdout",
     "output_type": "stream",
     "text": [
      "Requirement already satisfied: vit-pytorch in /home/sarangs/D1/chameleon_venv/lib/python3.11/site-packages (1.6.5)\n",
      "Requirement already satisfied: einops>=0.7.0 in /home/sarangs/D1/chameleon_venv/lib/python3.11/site-packages (from vit-pytorch) (0.7.0)\n",
      "Requirement already satisfied: torch>=1.10 in /home/sarangs/D1/chameleon_venv/lib/python3.11/site-packages (from vit-pytorch) (2.0.1)\n",
      "Requirement already satisfied: torchvision in /home/sarangs/D1/chameleon_venv/lib/python3.11/site-packages (from vit-pytorch) (0.15.2)\n",
      "Requirement already satisfied: filelock in /home/sarangs/D1/chameleon_venv/lib/python3.11/site-packages (from torch>=1.10->vit-pytorch) (3.13.1)\n",
      "Requirement already satisfied: typing-extensions in /home/sarangs/D1/chameleon_venv/lib/python3.11/site-packages (from torch>=1.10->vit-pytorch) (4.10.0)\n",
      "Requirement already satisfied: sympy in /home/sarangs/D1/chameleon_venv/lib/python3.11/site-packages (from torch>=1.10->vit-pytorch) (1.12)\n",
      "Requirement already satisfied: networkx in /home/sarangs/D1/chameleon_venv/lib/python3.11/site-packages (from torch>=1.10->vit-pytorch) (3.2.1)\n",
      "Requirement already satisfied: jinja2 in /home/sarangs/D1/chameleon_venv/lib/python3.11/site-packages (from torch>=1.10->vit-pytorch) (3.1.3)\n",
      "Requirement already satisfied: nvidia-cuda-nvrtc-cu11==11.7.99 in /home/sarangs/D1/chameleon_venv/lib/python3.11/site-packages (from torch>=1.10->vit-pytorch) (11.7.99)\n",
      "Requirement already satisfied: nvidia-cuda-runtime-cu11==11.7.99 in /home/sarangs/D1/chameleon_venv/lib/python3.11/site-packages (from torch>=1.10->vit-pytorch) (11.7.99)\n",
      "Requirement already satisfied: nvidia-cuda-cupti-cu11==11.7.101 in /home/sarangs/D1/chameleon_venv/lib/python3.11/site-packages (from torch>=1.10->vit-pytorch) (11.7.101)\n",
      "Requirement already satisfied: nvidia-cudnn-cu11==8.5.0.96 in /home/sarangs/D1/chameleon_venv/lib/python3.11/site-packages (from torch>=1.10->vit-pytorch) (8.5.0.96)\n",
      "Requirement already satisfied: nvidia-cublas-cu11==11.10.3.66 in /home/sarangs/D1/chameleon_venv/lib/python3.11/site-packages (from torch>=1.10->vit-pytorch) (11.10.3.66)\n",
      "Requirement already satisfied: nvidia-cufft-cu11==10.9.0.58 in /home/sarangs/D1/chameleon_venv/lib/python3.11/site-packages (from torch>=1.10->vit-pytorch) (10.9.0.58)\n",
      "Requirement already satisfied: nvidia-curand-cu11==10.2.10.91 in /home/sarangs/D1/chameleon_venv/lib/python3.11/site-packages (from torch>=1.10->vit-pytorch) (10.2.10.91)\n",
      "Requirement already satisfied: nvidia-cusolver-cu11==11.4.0.1 in /home/sarangs/D1/chameleon_venv/lib/python3.11/site-packages (from torch>=1.10->vit-pytorch) (11.4.0.1)\n",
      "Requirement already satisfied: nvidia-cusparse-cu11==11.7.4.91 in /home/sarangs/D1/chameleon_venv/lib/python3.11/site-packages (from torch>=1.10->vit-pytorch) (11.7.4.91)\n",
      "Requirement already satisfied: nvidia-nccl-cu11==2.14.3 in /home/sarangs/D1/chameleon_venv/lib/python3.11/site-packages (from torch>=1.10->vit-pytorch) (2.14.3)\n",
      "Requirement already satisfied: nvidia-nvtx-cu11==11.7.91 in /home/sarangs/D1/chameleon_venv/lib/python3.11/site-packages (from torch>=1.10->vit-pytorch) (11.7.91)\n",
      "Requirement already satisfied: triton==2.0.0 in /home/sarangs/D1/chameleon_venv/lib/python3.11/site-packages (from torch>=1.10->vit-pytorch) (2.0.0)\n",
      "Requirement already satisfied: setuptools in /home/sarangs/D1/chameleon_venv/lib/python3.11/site-packages (from nvidia-cublas-cu11==11.10.3.66->torch>=1.10->vit-pytorch) (65.5.0)\n",
      "Requirement already satisfied: wheel in /home/sarangs/D1/chameleon_venv/lib/python3.11/site-packages (from nvidia-cublas-cu11==11.10.3.66->torch>=1.10->vit-pytorch) (0.42.0)\n",
      "Requirement already satisfied: cmake in /home/sarangs/D1/chameleon_venv/lib/python3.11/site-packages (from triton==2.0.0->torch>=1.10->vit-pytorch) (3.28.3)\n",
      "Requirement already satisfied: lit in /home/sarangs/D1/chameleon_venv/lib/python3.11/site-packages (from triton==2.0.0->torch>=1.10->vit-pytorch) (17.0.6)\n",
      "Requirement already satisfied: numpy in /home/sarangs/D1/chameleon_venv/lib/python3.11/site-packages (from torchvision->vit-pytorch) (1.23.5)\n",
      "Requirement already satisfied: requests in /home/sarangs/D1/chameleon_venv/lib/python3.11/site-packages (from torchvision->vit-pytorch) (2.31.0)\n",
      "Requirement already satisfied: pillow!=8.3.*,>=5.3.0 in /home/sarangs/D1/chameleon_venv/lib/python3.11/site-packages (from torchvision->vit-pytorch) (9.5.0)\n",
      "Requirement already satisfied: MarkupSafe>=2.0 in /home/sarangs/D1/chameleon_venv/lib/python3.11/site-packages (from jinja2->torch>=1.10->vit-pytorch) (2.1.5)\n",
      "Requirement already satisfied: charset-normalizer<4,>=2 in /home/sarangs/D1/chameleon_venv/lib/python3.11/site-packages (from requests->torchvision->vit-pytorch) (3.3.2)\n",
      "Requirement already satisfied: idna<4,>=2.5 in /home/sarangs/D1/chameleon_venv/lib/python3.11/site-packages (from requests->torchvision->vit-pytorch) (3.6)\n",
      "Requirement already satisfied: urllib3<3,>=1.21.1 in /home/sarangs/D1/chameleon_venv/lib/python3.11/site-packages (from requests->torchvision->vit-pytorch) (2.2.1)\n",
      "Requirement already satisfied: certifi>=2017.4.17 in /home/sarangs/D1/chameleon_venv/lib/python3.11/site-packages (from requests->torchvision->vit-pytorch) (2024.2.2)\n",
      "Requirement already satisfied: mpmath>=0.19 in /home/sarangs/D1/chameleon_venv/lib/python3.11/site-packages (from sympy->torch>=1.10->vit-pytorch) (1.3.0)\n",
      "Requirement already satisfied: seaborn in /home/sarangs/D1/chameleon_venv/lib/python3.11/site-packages (0.12.2)\n",
      "Requirement already satisfied: numpy!=1.24.0,>=1.17 in /home/sarangs/D1/chameleon_venv/lib/python3.11/site-packages (from seaborn) (1.23.5)\n",
      "Requirement already satisfied: pandas>=0.25 in /home/sarangs/D1/chameleon_venv/lib/python3.11/site-packages (from seaborn) (2.2.1)\n",
      "Requirement already satisfied: matplotlib!=3.6.1,>=3.1 in /home/sarangs/D1/chameleon_venv/lib/python3.11/site-packages (from seaborn) (3.8.3)\n",
      "Requirement already satisfied: contourpy>=1.0.1 in /home/sarangs/D1/chameleon_venv/lib/python3.11/site-packages (from matplotlib!=3.6.1,>=3.1->seaborn) (1.2.0)\n",
      "Requirement already satisfied: cycler>=0.10 in /home/sarangs/D1/chameleon_venv/lib/python3.11/site-packages (from matplotlib!=3.6.1,>=3.1->seaborn) (0.12.1)\n",
      "Requirement already satisfied: fonttools>=4.22.0 in /home/sarangs/D1/chameleon_venv/lib/python3.11/site-packages (from matplotlib!=3.6.1,>=3.1->seaborn) (4.49.0)\n",
      "Requirement already satisfied: kiwisolver>=1.3.1 in /home/sarangs/D1/chameleon_venv/lib/python3.11/site-packages (from matplotlib!=3.6.1,>=3.1->seaborn) (1.4.5)\n",
      "Requirement already satisfied: packaging>=20.0 in /home/sarangs/D1/chameleon_venv/lib/python3.11/site-packages (from matplotlib!=3.6.1,>=3.1->seaborn) (23.2)\n",
      "Requirement already satisfied: pillow>=8 in /home/sarangs/D1/chameleon_venv/lib/python3.11/site-packages (from matplotlib!=3.6.1,>=3.1->seaborn) (9.5.0)\n",
      "Requirement already satisfied: pyparsing>=2.3.1 in /home/sarangs/D1/chameleon_venv/lib/python3.11/site-packages (from matplotlib!=3.6.1,>=3.1->seaborn) (3.1.2)\n",
      "Requirement already satisfied: python-dateutil>=2.7 in /home/sarangs/D1/chameleon_venv/lib/python3.11/site-packages (from matplotlib!=3.6.1,>=3.1->seaborn) (2.9.0.post0)\n",
      "Requirement already satisfied: pytz>=2020.1 in /home/sarangs/D1/chameleon_venv/lib/python3.11/site-packages (from pandas>=0.25->seaborn) (2024.1)\n",
      "Requirement already satisfied: tzdata>=2022.7 in /home/sarangs/D1/chameleon_venv/lib/python3.11/site-packages (from pandas>=0.25->seaborn) (2024.1)\n",
      "Requirement already satisfied: six>=1.5 in /home/sarangs/D1/chameleon_venv/lib/python3.11/site-packages (from python-dateutil>=2.7->matplotlib!=3.6.1,>=3.1->seaborn) (1.16.0)\n"
     ]
    }
   ],
   "source": [
    "import torch\n",
    "import torch.nn as nn\n",
    "import torch.optim as optim\n",
    "from torch.utils.data import DataLoader, random_split\n",
    "from torchvision.datasets import ImageFolder\n",
    "import torchvision.transforms as transforms\n",
    "!pip install vit-pytorch\n",
    "from vit_pytorch import ViT\n",
    "from tqdm import tqdm  # Import tqdm\n",
    "from sklearn.metrics import confusion_matrix, accuracy_score, classification_report\n",
    "import numpy as np\n",
    "!pip install seaborn\n",
    "import seaborn as sns\n",
    "import matplotlib.pyplot as plt"
   ]
  },
  {
   "cell_type": "code",
   "execution_count": 9,
   "id": "2890be68",
   "metadata": {},
   "outputs": [],
   "source": [
    "train_root_dir=\"/global/D1/plantVillageGrapes_processed/train\"\n",
    "val_root_dir=\"/global/D1/plantVillageGrapes_processed/validation\"\n",
    "test_root_dir=\"/global/D1/plantVillageGrapes_processed/test\""
   ]
  },
  {
   "cell_type": "code",
   "execution_count": 10,
   "id": "bc656724",
   "metadata": {},
   "outputs": [],
   "source": [
    "# Define the hyperparameters\n",
    "batch_size = 32\n",
    "learning_rate = 1e-4\n",
    "num_epochs = 60"
   ]
  },
  {
   "cell_type": "code",
   "execution_count": 11,
   "id": "a5f2f4d5",
   "metadata": {},
   "outputs": [],
   "source": [
    "####################################\n",
    "# Training\n",
    "####################################\n",
    "\n",
    "trans={\n",
    "    # Train uses data augmentation\n",
    "    'train':\n",
    "    transforms.Compose([\n",
    "        transforms.Resize((224, 224)),\n",
    "        transforms.RandomRotation(degrees=15),\n",
    "        transforms.RandomHorizontalFlip(),\n",
    "        transforms.ToTensor(),\n",
    "        transforms.Normalize([0.4762, 0.3054, 0.2368],\n",
    "                             [0.3345, 0.2407, 0.2164])\n",
    "    ]),\n",
    "    # Validation does not use augmentation\n",
    "    'valid':\n",
    "    transforms.Compose([\n",
    "        transforms.Resize((224,224)),\n",
    "        transforms.ToTensor(),\n",
    "        transforms.Normalize([0.4762, 0.3054, 0.2368],\n",
    "                             [0.3345, 0.2407, 0.2164])\n",
    "    ]),\n",
    "    \n",
    "    # Test does not use augmentation\n",
    "    'test':\n",
    "    transforms.Compose([\n",
    "        transforms.Resize((224,224)),\n",
    "        transforms.ToTensor(),\n",
    "        transforms.Normalize([0.4762, 0.3054, 0.2368],\n",
    "                             [0.3345, 0.2407, 0.2164])\n",
    "    ]),\n",
    "}"
   ]
  },
  {
   "cell_type": "code",
   "execution_count": 12,
   "id": "426ee994",
   "metadata": {},
   "outputs": [
    {
     "name": "stdout",
     "output_type": "stream",
     "text": [
      "Number of Training set images:2438\n",
      "Number of Validation set images:4062\n",
      "Number of Test set images:1016\n"
     ]
    }
   ],
   "source": [
    "#Generators\n",
    "training_dataset = ImageFolder(train_root_dir,transform=trans['train'])\n",
    "validation_dataset = ImageFolder(val_root_dir,transform=trans['valid'])\n",
    "test_dataset = ImageFolder(test_root_dir,transform=trans['test'])\n",
    "\n",
    "train_dataloader = DataLoader(training_dataset,batch_size,shuffle=True) # ** unpacks a dictionary into keyword arguments\n",
    "val_dataloader = DataLoader(validation_dataset,batch_size)\n",
    "test_dataloader = DataLoader(test_dataset,batch_size)\n",
    "\n",
    "print('Number of Training set images:{}'.format(len(training_dataset)))\n",
    "print('Number of Validation set images:{}'.format(len(validation_dataset)))\n",
    "print('Number of Test set images:{}'.format(len(test_dataset)))"
   ]
  },
  {
   "cell_type": "code",
   "execution_count": 13,
   "id": "2748a2cd",
   "metadata": {},
   "outputs": [
    {
     "name": "stdout",
     "output_type": "stream",
     "text": [
      "Device:  cuda\n"
     ]
    },
    {
     "data": {
      "text/plain": [
       "ViT(\n",
       "  (to_patch_embedding): Sequential(\n",
       "    (0): Rearrange('b c (h p1) (w p2) -> b (h w) (p1 p2 c)', p1=32, p2=32)\n",
       "    (1): LayerNorm((3072,), eps=1e-05, elementwise_affine=True)\n",
       "    (2): Linear(in_features=3072, out_features=768, bias=True)\n",
       "    (3): LayerNorm((768,), eps=1e-05, elementwise_affine=True)\n",
       "  )\n",
       "  (dropout): Dropout(p=0.0, inplace=False)\n",
       "  (transformer): Transformer(\n",
       "    (norm): LayerNorm((768,), eps=1e-05, elementwise_affine=True)\n",
       "    (layers): ModuleList(\n",
       "      (0-11): 12 x ModuleList(\n",
       "        (0): Attention(\n",
       "          (norm): LayerNorm((768,), eps=1e-05, elementwise_affine=True)\n",
       "          (attend): Softmax(dim=-1)\n",
       "          (dropout): Dropout(p=0.1, inplace=False)\n",
       "          (to_qkv): Linear(in_features=768, out_features=2304, bias=False)\n",
       "          (to_out): Sequential(\n",
       "            (0): Linear(in_features=768, out_features=768, bias=True)\n",
       "            (1): Dropout(p=0.1, inplace=False)\n",
       "          )\n",
       "        )\n",
       "        (1): FeedForward(\n",
       "          (net): Sequential(\n",
       "            (0): LayerNorm((768,), eps=1e-05, elementwise_affine=True)\n",
       "            (1): Linear(in_features=768, out_features=3072, bias=True)\n",
       "            (2): GELU(approximate='none')\n",
       "            (3): Dropout(p=0.1, inplace=False)\n",
       "            (4): Linear(in_features=3072, out_features=768, bias=True)\n",
       "            (5): Dropout(p=0.1, inplace=False)\n",
       "          )\n",
       "        )\n",
       "      )\n",
       "    )\n",
       "  )\n",
       "  (to_latent): Identity()\n",
       "  (mlp_head): Linear(in_features=768, out_features=4, bias=True)\n",
       ")"
      ]
     },
     "execution_count": 13,
     "metadata": {},
     "output_type": "execute_result"
    }
   ],
   "source": [
    "# Initialize the Vision Transformer model\n",
    "model = ViT(\n",
    "    image_size=224,\n",
    "    patch_size=32,\n",
    "    num_classes=len(training_dataset.classes),\n",
    "    dim=768,  # Dimension of the model\n",
    "    depth=12,  # Number of transformer layers\n",
    "    heads=12,  # Number of attention heads\n",
    "    mlp_dim=3072,  # Dimension of the MLP layers\n",
    "    dropout=0.1\n",
    ")\n",
    "\n",
    "# Define the loss function and optimizer\n",
    "criterion = nn.CrossEntropyLoss()\n",
    "optimizer = optim.Adam(model.parameters(), lr=learning_rate)\n",
    "\n",
    "# Set the device to use (CPU or GPU)\n",
    "device = torch.device('cuda' if torch.cuda.is_available() else 'mps' if torch.backends.mps.is_available() else 'cpu')\n",
    "print(\"Device: \", device)\n",
    "model.to(device)"
   ]
  },
  {
   "cell_type": "markdown",
   "id": "24600943",
   "metadata": {},
   "source": [
    "## Training"
   ]
  },
  {
   "cell_type": "code",
   "execution_count": 14,
   "id": "a6f95172",
   "metadata": {
    "scrolled": true
   },
   "outputs": [
    {
     "name": "stderr",
     "output_type": "stream",
     "text": [
      "Epoch 1/60: 100%|████████████████████████| 77/77 [10:54<00:00,  8.50s/batch, loss=1.2]\n"
     ]
    },
    {
     "name": "stdout",
     "output_type": "stream",
     "text": [
      "Training - Epoch 1/60, Loss: 1.1999067439661397\n",
      "Validation - Epoch 1/60, Loss: 0.9509368348778702\n",
      "Validation - Epoch 1/60, Accuracy: 55.83%\n"
     ]
    },
    {
     "name": "stderr",
     "output_type": "stream",
     "text": [
      "Epoch 2/60: 100%|██████████████████████| 77/77 [22:34<00:00, 17.59s/batch, loss=0.937]\n"
     ]
    },
    {
     "name": "stdout",
     "output_type": "stream",
     "text": [
      "Training - Epoch 2/60, Loss: 0.9371410484437819\n",
      "Validation - Epoch 2/60, Loss: 1.1186812192084283\n",
      "Validation - Epoch 2/60, Accuracy: 47.78%\n"
     ]
    },
    {
     "name": "stderr",
     "output_type": "stream",
     "text": [
      "Epoch 3/60: 100%|███████████████████████| 77/77 [22:31<00:00, 17.55s/batch, loss=0.75]\n"
     ]
    },
    {
     "name": "stdout",
     "output_type": "stream",
     "text": [
      "Training - Epoch 3/60, Loss: 0.7498651537802312\n",
      "Validation - Epoch 3/60, Loss: 0.6805670486073795\n",
      "Validation - Epoch 3/60, Accuracy: 70.65%\n"
     ]
    },
    {
     "name": "stderr",
     "output_type": "stream",
     "text": [
      "Epoch 4/60: 100%|██████████████████████| 77/77 [25:08<00:00, 19.59s/batch, loss=0.643]\n"
     ]
    },
    {
     "name": "stdout",
     "output_type": "stream",
     "text": [
      "Training - Epoch 4/60, Loss: 0.6428222756881219\n",
      "Validation - Epoch 4/60, Loss: 0.6055217727901429\n",
      "Validation - Epoch 4/60, Accuracy: 73.41%\n"
     ]
    },
    {
     "name": "stderr",
     "output_type": "stream",
     "text": [
      "Epoch 5/60: 100%|█████████████████████████| 77/77 [23:05<00:00, 18.00s/batch, loss=0.583]\n"
     ]
    },
    {
     "name": "stdout",
     "output_type": "stream",
     "text": [
      "Training - Epoch 5/60, Loss: 0.5830318548462607\n",
      "Validation - Epoch 5/60, Loss: 0.5119227362195338\n",
      "Validation - Epoch 5/60, Accuracy: 79.03%\n"
     ]
    },
    {
     "name": "stderr",
     "output_type": "stream",
     "text": [
      "Epoch 6/60: 100%|█████████████████████████| 77/77 [20:44<00:00, 16.16s/batch, loss=0.539]\n"
     ]
    },
    {
     "name": "stdout",
     "output_type": "stream",
     "text": [
      "Training - Epoch 6/60, Loss: 0.5394003298375514\n",
      "Validation - Epoch 6/60, Loss: 0.5797378662533648\n",
      "Validation - Epoch 6/60, Accuracy: 73.24%\n"
     ]
    },
    {
     "name": "stderr",
     "output_type": "stream",
     "text": [
      "Epoch 7/60: 100%|█████████████████████████| 77/77 [20:07<00:00, 15.68s/batch, loss=0.519]\n"
     ]
    },
    {
     "name": "stdout",
     "output_type": "stream",
     "text": [
      "Training - Epoch 7/60, Loss: 0.5185957535520777\n",
      "Validation - Epoch 7/60, Loss: 0.4513501143009644\n",
      "Validation - Epoch 7/60, Accuracy: 82.30%\n"
     ]
    },
    {
     "name": "stderr",
     "output_type": "stream",
     "text": [
      "Epoch 8/60: 100%|█████████████████████████| 77/77 [20:06<00:00, 15.67s/batch, loss=0.521]\n"
     ]
    },
    {
     "name": "stdout",
     "output_type": "stream",
     "text": [
      "Training - Epoch 8/60, Loss: 0.5209400181646471\n",
      "Validation - Epoch 8/60, Loss: 0.4799188752108672\n",
      "Validation - Epoch 8/60, Accuracy: 78.75%\n"
     ]
    },
    {
     "name": "stderr",
     "output_type": "stream",
     "text": [
      "Epoch 9/60: 100%|█████████████████████████| 77/77 [20:08<00:00, 15.69s/batch, loss=0.464]\n"
     ]
    },
    {
     "name": "stdout",
     "output_type": "stream",
     "text": [
      "Training - Epoch 9/60, Loss: 0.46367236149388474\n",
      "Validation - Epoch 9/60, Loss: 0.3806635934536851\n",
      "Validation - Epoch 9/60, Accuracy: 84.56%\n"
     ]
    },
    {
     "name": "stderr",
     "output_type": "stream",
     "text": [
      "Epoch 10/60: 100%|████████████████████████| 77/77 [21:16<00:00, 16.57s/batch, loss=0.433]\n"
     ]
    },
    {
     "name": "stdout",
     "output_type": "stream",
     "text": [
      "Training - Epoch 10/60, Loss: 0.43343441014166\n",
      "Validation - Epoch 10/60, Loss: 0.42306175934312146\n",
      "Validation - Epoch 10/60, Accuracy: 83.46%\n"
     ]
    },
    {
     "name": "stderr",
     "output_type": "stream",
     "text": [
      "Epoch 11/60: 100%|████████████████████████| 77/77 [20:25<00:00, 15.91s/batch, loss=0.422]\n"
     ]
    },
    {
     "name": "stdout",
     "output_type": "stream",
     "text": [
      "Training - Epoch 11/60, Loss: 0.4221079435634923\n",
      "Validation - Epoch 11/60, Loss: 0.3679449348820476\n",
      "Validation - Epoch 11/60, Accuracy: 83.70%\n"
     ]
    },
    {
     "name": "stderr",
     "output_type": "stream",
     "text": [
      "Epoch 12/60: 100%|████████████████████████| 77/77 [21:14<00:00, 16.55s/batch, loss=0.403]\n"
     ]
    },
    {
     "name": "stdout",
     "output_type": "stream",
     "text": [
      "Training - Epoch 12/60, Loss: 0.40325664525682275\n",
      "Validation - Epoch 12/60, Loss: 0.5929921985435205\n",
      "Validation - Epoch 12/60, Accuracy: 74.25%\n"
     ]
    },
    {
     "name": "stderr",
     "output_type": "stream",
     "text": [
      "Epoch 13/60: 100%|████████████████████████| 77/77 [21:18<00:00, 16.60s/batch, loss=0.353]\n"
     ]
    },
    {
     "name": "stdout",
     "output_type": "stream",
     "text": [
      "Training - Epoch 13/60, Loss: 0.3534435108304024\n",
      "Validation - Epoch 13/60, Loss: 0.30531485660338964\n",
      "Validation - Epoch 13/60, Accuracy: 87.94%\n"
     ]
    },
    {
     "name": "stderr",
     "output_type": "stream",
     "text": [
      "Epoch 14/60: 100%|████████████████████████| 77/77 [17:38<00:00, 13.75s/batch, loss=0.321]\n"
     ]
    },
    {
     "name": "stdout",
     "output_type": "stream",
     "text": [
      "Training - Epoch 14/60, Loss: 0.32127744501287286\n",
      "Validation - Epoch 14/60, Loss: 0.3965360312832622\n",
      "Validation - Epoch 14/60, Accuracy: 83.41%\n"
     ]
    },
    {
     "name": "stderr",
     "output_type": "stream",
     "text": [
      "Epoch 15/60: 100%|████████████████████████| 77/77 [12:17<00:00,  9.58s/batch, loss=0.307]\n"
     ]
    },
    {
     "name": "stdout",
     "output_type": "stream",
     "text": [
      "Training - Epoch 15/60, Loss: 0.3069108065169353\n",
      "Validation - Epoch 15/60, Loss: 0.2517113738260635\n",
      "Validation - Epoch 15/60, Accuracy: 90.55%\n"
     ]
    },
    {
     "name": "stderr",
     "output_type": "stream",
     "text": [
      "Epoch 16/60: 100%|████████████████████████| 77/77 [11:52<00:00,  9.26s/batch, loss=0.323]\n"
     ]
    },
    {
     "name": "stdout",
     "output_type": "stream",
     "text": [
      "Training - Epoch 16/60, Loss: 0.3229054222246269\n",
      "Validation - Epoch 16/60, Loss: 0.2611434483739335\n",
      "Validation - Epoch 16/60, Accuracy: 90.05%\n"
     ]
    },
    {
     "name": "stderr",
     "output_type": "stream",
     "text": [
      "Epoch 17/60: 100%|████████████████████████| 77/77 [11:48<00:00,  9.20s/batch, loss=0.275]\n"
     ]
    },
    {
     "name": "stdout",
     "output_type": "stream",
     "text": [
      "Training - Epoch 17/60, Loss: 0.27541007391818156\n",
      "Validation - Epoch 17/60, Loss: 0.2371373940405883\n",
      "Validation - Epoch 17/60, Accuracy: 90.92%\n"
     ]
    },
    {
     "name": "stderr",
     "output_type": "stream",
     "text": [
      "Epoch 18/60: 100%|████████████████████████| 77/77 [11:31<00:00,  8.98s/batch, loss=0.302]\n"
     ]
    },
    {
     "name": "stdout",
     "output_type": "stream",
     "text": [
      "Training - Epoch 18/60, Loss: 0.3022193972553526\n",
      "Validation - Epoch 18/60, Loss: 0.38899648579673507\n",
      "Validation - Epoch 18/60, Accuracy: 84.69%\n"
     ]
    },
    {
     "name": "stderr",
     "output_type": "stream",
     "text": [
      "Epoch 19/60: 100%|████████████████████████| 77/77 [03:53<00:00,  3.03s/batch, loss=0.276]\n"
     ]
    },
    {
     "name": "stdout",
     "output_type": "stream",
     "text": [
      "Training - Epoch 19/60, Loss: 0.27553279905930744\n",
      "Validation - Epoch 19/60, Loss: 0.22755849108789264\n",
      "Validation - Epoch 19/60, Accuracy: 91.06%\n"
     ]
    },
    {
     "name": "stderr",
     "output_type": "stream",
     "text": [
      "Epoch 20/60: 100%|████████████████████████| 77/77 [03:00<00:00,  2.35s/batch, loss=0.246]\n"
     ]
    },
    {
     "name": "stdout",
     "output_type": "stream",
     "text": [
      "Training - Epoch 20/60, Loss: 0.24598439569984162\n",
      "Validation - Epoch 20/60, Loss: 0.27452108401834496\n",
      "Validation - Epoch 20/60, Accuracy: 88.70%\n"
     ]
    },
    {
     "name": "stderr",
     "output_type": "stream",
     "text": [
      "Epoch 21/60: 100%|████████████████████████| 77/77 [03:08<00:00,  2.45s/batch, loss=0.261]\n"
     ]
    },
    {
     "name": "stdout",
     "output_type": "stream",
     "text": [
      "Training - Epoch 21/60, Loss: 0.2610859253576824\n",
      "Validation - Epoch 21/60, Loss: 0.24350309424747632\n",
      "Validation - Epoch 21/60, Accuracy: 90.10%\n"
     ]
    },
    {
     "name": "stderr",
     "output_type": "stream",
     "text": [
      "Epoch 22/60: 100%|████████████████████████| 77/77 [03:04<00:00,  2.39s/batch, loss=0.222]\n"
     ]
    },
    {
     "name": "stdout",
     "output_type": "stream",
     "text": [
      "Training - Epoch 22/60, Loss: 0.2221516112905818\n",
      "Validation - Epoch 22/60, Loss: 0.17642264093793047\n",
      "Validation - Epoch 22/60, Accuracy: 93.57%\n"
     ]
    },
    {
     "name": "stderr",
     "output_type": "stream",
     "text": [
      "Epoch 23/60: 100%|█████████████████████████| 77/77 [03:01<00:00,  2.36s/batch, loss=0.24]\n"
     ]
    },
    {
     "name": "stdout",
     "output_type": "stream",
     "text": [
      "Training - Epoch 23/60, Loss: 0.24011932569858316\n",
      "Validation - Epoch 23/60, Loss: 0.26283286489898294\n",
      "Validation - Epoch 23/60, Accuracy: 89.86%\n"
     ]
    },
    {
     "name": "stderr",
     "output_type": "stream",
     "text": [
      "Epoch 24/60: 100%|████████████████████████| 77/77 [02:56<00:00,  2.30s/batch, loss=0.208]\n"
     ]
    },
    {
     "name": "stdout",
     "output_type": "stream",
     "text": [
      "Training - Epoch 24/60, Loss: 0.2080831274922405\n",
      "Validation - Epoch 24/60, Loss: 0.27363876251166497\n",
      "Validation - Epoch 24/60, Accuracy: 89.27%\n"
     ]
    },
    {
     "name": "stderr",
     "output_type": "stream",
     "text": [
      "Epoch 25/60: 100%|████████████████████████| 77/77 [03:14<00:00,  2.53s/batch, loss=0.206]\n"
     ]
    },
    {
     "name": "stdout",
     "output_type": "stream",
     "text": [
      "Training - Epoch 25/60, Loss: 0.206361593968876\n",
      "Validation - Epoch 25/60, Loss: 0.2015369186603178\n",
      "Validation - Epoch 25/60, Accuracy: 92.22%\n"
     ]
    },
    {
     "name": "stderr",
     "output_type": "stream",
     "text": [
      "Epoch 26/60: 100%|████████████████████████| 77/77 [02:40<00:00,  2.08s/batch, loss=0.198]\n"
     ]
    },
    {
     "name": "stdout",
     "output_type": "stream",
     "text": [
      "Training - Epoch 26/60, Loss: 0.1983565930035207\n",
      "Validation - Epoch 26/60, Loss: 0.20698355718636813\n",
      "Validation - Epoch 26/60, Accuracy: 91.78%\n"
     ]
    },
    {
     "name": "stderr",
     "output_type": "stream",
     "text": [
      "Epoch 27/60: 100%|████████████████████████| 77/77 [02:46<00:00,  2.17s/batch, loss=0.222]\n"
     ]
    },
    {
     "name": "stdout",
     "output_type": "stream",
     "text": [
      "Training - Epoch 27/60, Loss: 0.2216245746602873\n",
      "Validation - Epoch 27/60, Loss: 0.1740122076424616\n",
      "Validation - Epoch 27/60, Accuracy: 93.57%\n"
     ]
    },
    {
     "name": "stderr",
     "output_type": "stream",
     "text": [
      "Epoch 28/60: 100%|██████████████████████████| 77/77 [03:00<00:00,  2.35s/batch, loss=0.2]\n"
     ]
    },
    {
     "name": "stdout",
     "output_type": "stream",
     "text": [
      "Training - Epoch 28/60, Loss: 0.2001597636693774\n",
      "Validation - Epoch 28/60, Loss: 0.17213297964946375\n",
      "Validation - Epoch 28/60, Accuracy: 93.18%\n"
     ]
    },
    {
     "name": "stderr",
     "output_type": "stream",
     "text": [
      "Epoch 29/60: 100%|████████████████████████| 77/77 [02:58<00:00,  2.32s/batch, loss=0.178]\n"
     ]
    },
    {
     "name": "stdout",
     "output_type": "stream",
     "text": [
      "Training - Epoch 29/60, Loss: 0.1780560033081414\n",
      "Validation - Epoch 29/60, Loss: 0.15243336667240723\n",
      "Validation - Epoch 29/60, Accuracy: 93.92%\n"
     ]
    },
    {
     "name": "stderr",
     "output_type": "stream",
     "text": [
      "Epoch 30/60: 100%|█████████████████████████| 77/77 [02:46<00:00,  2.16s/batch, loss=0.18]\n"
     ]
    },
    {
     "name": "stdout",
     "output_type": "stream",
     "text": [
      "Training - Epoch 30/60, Loss: 0.18047686721887682\n",
      "Validation - Epoch 30/60, Loss: 0.1456881226663749\n",
      "Validation - Epoch 30/60, Accuracy: 94.78%\n"
     ]
    },
    {
     "name": "stderr",
     "output_type": "stream",
     "text": [
      "Epoch 31/60: 100%|█████████████████████████| 77/77 [02:44<00:00,  2.13s/batch, loss=0.19]\n"
     ]
    },
    {
     "name": "stdout",
     "output_type": "stream",
     "text": [
      "Training - Epoch 31/60, Loss: 0.18979344015045987\n",
      "Validation - Epoch 31/60, Loss: 0.19919762973064983\n",
      "Validation - Epoch 31/60, Accuracy: 92.15%\n"
     ]
    },
    {
     "name": "stderr",
     "output_type": "stream",
     "text": [
      "Epoch 32/60: 100%|████████████████████████| 77/77 [02:54<00:00,  2.26s/batch, loss=0.165]\n"
     ]
    },
    {
     "name": "stdout",
     "output_type": "stream",
     "text": [
      "Training - Epoch 32/60, Loss: 0.16545452167848487\n",
      "Validation - Epoch 32/60, Loss: 0.17150654031470688\n",
      "Validation - Epoch 32/60, Accuracy: 93.21%\n"
     ]
    },
    {
     "name": "stderr",
     "output_type": "stream",
     "text": [
      "Epoch 33/60: 100%|████████████████████████| 77/77 [02:34<00:00,  2.01s/batch, loss=0.166]\n"
     ]
    },
    {
     "name": "stdout",
     "output_type": "stream",
     "text": [
      "Training - Epoch 33/60, Loss: 0.16637051289344762\n",
      "Validation - Epoch 33/60, Loss: 0.1611284433568894\n",
      "Validation - Epoch 33/60, Accuracy: 94.07%\n"
     ]
    },
    {
     "name": "stderr",
     "output_type": "stream",
     "text": [
      "Epoch 34/60: 100%|████████████████████████| 77/77 [02:48<00:00,  2.19s/batch, loss=0.215]\n"
     ]
    },
    {
     "name": "stdout",
     "output_type": "stream",
     "text": [
      "Training - Epoch 34/60, Loss: 0.21489062625914812\n",
      "Validation - Epoch 34/60, Loss: 0.15294811194102595\n",
      "Validation - Epoch 34/60, Accuracy: 94.09%\n"
     ]
    },
    {
     "name": "stderr",
     "output_type": "stream",
     "text": [
      "Epoch 35/60: 100%|█████████████████████████| 77/77 [02:50<00:00,  2.21s/batch, loss=0.14]\n"
     ]
    },
    {
     "name": "stdout",
     "output_type": "stream",
     "text": [
      "Training - Epoch 35/60, Loss: 0.13982273848703156\n",
      "Validation - Epoch 35/60, Loss: 0.16788511815678886\n",
      "Validation - Epoch 35/60, Accuracy: 93.25%\n"
     ]
    },
    {
     "name": "stderr",
     "output_type": "stream",
     "text": [
      "Epoch 36/60: 100%|████████████████████████| 77/77 [02:53<00:00,  2.25s/batch, loss=0.135]\n"
     ]
    },
    {
     "name": "stdout",
     "output_type": "stream",
     "text": [
      "Training - Epoch 36/60, Loss: 0.13547330306141409\n",
      "Validation - Epoch 36/60, Loss: 0.141809943895677\n",
      "Validation - Epoch 36/60, Accuracy: 94.56%\n"
     ]
    },
    {
     "name": "stderr",
     "output_type": "stream",
     "text": [
      "Epoch 37/60: 100%|████████████████████████| 77/77 [01:07<00:00,  1.14batch/s, loss=0.121]\n"
     ]
    },
    {
     "name": "stdout",
     "output_type": "stream",
     "text": [
      "Training - Epoch 37/60, Loss: 0.1209449881881282\n",
      "Validation - Epoch 37/60, Loss: 0.25237913154373603\n",
      "Validation - Epoch 37/60, Accuracy: 89.54%\n"
     ]
    },
    {
     "name": "stderr",
     "output_type": "stream",
     "text": [
      "Epoch 38/60: 100%|████████████████████████| 77/77 [01:23<00:00,  1.09s/batch, loss=0.189]\n"
     ]
    },
    {
     "name": "stdout",
     "output_type": "stream",
     "text": [
      "Training - Epoch 38/60, Loss: 0.18876963161996432\n",
      "Validation - Epoch 38/60, Loss: 0.11305054015476315\n",
      "Validation - Epoch 38/60, Accuracy: 95.72%\n"
     ]
    },
    {
     "name": "stderr",
     "output_type": "stream",
     "text": [
      "Epoch 39/60: 100%|████████████████████████| 77/77 [01:39<00:00,  1.29s/batch, loss=0.176]\n"
     ]
    },
    {
     "name": "stdout",
     "output_type": "stream",
     "text": [
      "Training - Epoch 39/60, Loss: 0.1757848264963983\n",
      "Validation - Epoch 39/60, Loss: 0.16216802322049076\n",
      "Validation - Epoch 39/60, Accuracy: 93.35%\n"
     ]
    },
    {
     "name": "stderr",
     "output_type": "stream",
     "text": [
      "Epoch 40/60: 100%|█████████████████████████| 77/77 [01:22<00:00,  1.07s/batch, loss=0.14]\n"
     ]
    },
    {
     "name": "stdout",
     "output_type": "stream",
     "text": [
      "Training - Epoch 40/60, Loss: 0.13980721906069424\n",
      "Validation - Epoch 40/60, Loss: 0.14365986180326748\n",
      "Validation - Epoch 40/60, Accuracy: 94.90%\n"
     ]
    },
    {
     "name": "stderr",
     "output_type": "stream",
     "text": [
      "Epoch 41/60: 100%|████████████████████████| 77/77 [01:14<00:00,  1.04batch/s, loss=0.133]\n"
     ]
    },
    {
     "name": "stdout",
     "output_type": "stream",
     "text": [
      "Training - Epoch 41/60, Loss: 0.1326661248413193\n",
      "Validation - Epoch 41/60, Loss: 0.18740033232478615\n",
      "Validation - Epoch 41/60, Accuracy: 92.89%\n"
     ]
    },
    {
     "name": "stderr",
     "output_type": "stream",
     "text": [
      "Epoch 42/60: 100%|████████████████████████| 77/77 [01:24<00:00,  1.10s/batch, loss=0.127]\n"
     ]
    },
    {
     "name": "stdout",
     "output_type": "stream",
     "text": [
      "Training - Epoch 42/60, Loss: 0.12685768037744158\n",
      "Validation - Epoch 42/60, Loss: 0.2161732589198995\n",
      "Validation - Epoch 42/60, Accuracy: 92.44%\n"
     ]
    },
    {
     "name": "stderr",
     "output_type": "stream",
     "text": [
      "Epoch 43/60: 100%|████████████████████████| 77/77 [01:25<00:00,  1.11s/batch, loss=0.144]\n"
     ]
    },
    {
     "name": "stdout",
     "output_type": "stream",
     "text": [
      "Training - Epoch 43/60, Loss: 0.1440798089561331\n",
      "Validation - Epoch 43/60, Loss: 0.17920817789900315\n",
      "Validation - Epoch 43/60, Accuracy: 93.16%\n"
     ]
    },
    {
     "name": "stderr",
     "output_type": "stream",
     "text": [
      "Epoch 44/60: 100%|████████████████████████| 77/77 [01:26<00:00,  1.13s/batch, loss=0.122]\n"
     ]
    },
    {
     "name": "stdout",
     "output_type": "stream",
     "text": [
      "Training - Epoch 44/60, Loss: 0.12183497805003222\n",
      "Validation - Epoch 44/60, Loss: 0.35539616739557156\n",
      "Validation - Epoch 44/60, Accuracy: 87.12%\n"
     ]
    },
    {
     "name": "stderr",
     "output_type": "stream",
     "text": [
      "Epoch 45/60: 100%|████████████████████████| 77/77 [01:18<00:00,  1.02s/batch, loss=0.131]\n"
     ]
    },
    {
     "name": "stdout",
     "output_type": "stream",
     "text": [
      "Training - Epoch 45/60, Loss: 0.1308609601473073\n",
      "Validation - Epoch 45/60, Loss: 0.17554841358324616\n",
      "Validation - Epoch 45/60, Accuracy: 93.57%\n"
     ]
    },
    {
     "name": "stderr",
     "output_type": "stream",
     "text": [
      "Epoch 46/60: 100%|████████████████████████| 77/77 [01:27<00:00,  1.14s/batch, loss=0.134]\n"
     ]
    },
    {
     "name": "stdout",
     "output_type": "stream",
     "text": [
      "Training - Epoch 46/60, Loss: 0.13426419260439934\n",
      "Validation - Epoch 46/60, Loss: 0.30847832723337365\n",
      "Validation - Epoch 46/60, Accuracy: 87.22%\n"
     ]
    },
    {
     "name": "stderr",
     "output_type": "stream",
     "text": [
      "Epoch 47/60: 100%|█████████████████████████| 77/77 [01:31<00:00,  1.19s/batch, loss=0.15]\n"
     ]
    },
    {
     "name": "stdout",
     "output_type": "stream",
     "text": [
      "Training - Epoch 47/60, Loss: 0.14968962038492228\n",
      "Validation - Epoch 47/60, Loss: 0.12079781900420344\n",
      "Validation - Epoch 47/60, Accuracy: 95.25%\n"
     ]
    },
    {
     "name": "stderr",
     "output_type": "stream",
     "text": [
      "Epoch 48/60: 100%|█████████████████████████| 77/77 [00:28<00:00,  2.71batch/s, loss=0.14]\n"
     ]
    },
    {
     "name": "stdout",
     "output_type": "stream",
     "text": [
      "Training - Epoch 48/60, Loss: 0.13953675930811602\n",
      "Validation - Epoch 48/60, Loss: 0.2508135674755991\n",
      "Validation - Epoch 48/60, Accuracy: 89.83%\n"
     ]
    },
    {
     "name": "stderr",
     "output_type": "stream",
     "text": [
      "Epoch 49/60: 100%|████████████████████████| 77/77 [00:12<00:00,  6.01batch/s, loss=0.124]\n"
     ]
    },
    {
     "name": "stdout",
     "output_type": "stream",
     "text": [
      "Training - Epoch 49/60, Loss: 0.12378778765824708\n",
      "Validation - Epoch 49/60, Loss: 0.19266846549411223\n",
      "Validation - Epoch 49/60, Accuracy: 92.76%\n"
     ]
    },
    {
     "name": "stderr",
     "output_type": "stream",
     "text": [
      "Epoch 50/60: 100%|████████████████████████| 77/77 [00:20<00:00,  3.72batch/s, loss=0.113]\n"
     ]
    },
    {
     "name": "stdout",
     "output_type": "stream",
     "text": [
      "Training - Epoch 50/60, Loss: 0.11332039241134734\n",
      "Validation - Epoch 50/60, Loss: 0.16240927527885973\n",
      "Validation - Epoch 50/60, Accuracy: 94.04%\n"
     ]
    },
    {
     "name": "stderr",
     "output_type": "stream",
     "text": [
      "Epoch 51/60: 100%|████████████████████████| 77/77 [00:12<00:00,  6.07batch/s, loss=0.165]\n"
     ]
    },
    {
     "name": "stdout",
     "output_type": "stream",
     "text": [
      "Training - Epoch 51/60, Loss: 0.1648409960718898\n",
      "Validation - Epoch 51/60, Loss: 0.12408661526558172\n",
      "Validation - Epoch 51/60, Accuracy: 95.25%\n"
     ]
    },
    {
     "name": "stderr",
     "output_type": "stream",
     "text": [
      "Epoch 52/60: 100%|████████████████████████| 77/77 [00:12<00:00,  6.25batch/s, loss=0.116]\n"
     ]
    },
    {
     "name": "stdout",
     "output_type": "stream",
     "text": [
      "Training - Epoch 52/60, Loss: 0.11644060063695946\n",
      "Validation - Epoch 52/60, Loss: 0.14893866944178116\n",
      "Validation - Epoch 52/60, Accuracy: 94.12%\n"
     ]
    },
    {
     "name": "stderr",
     "output_type": "stream",
     "text": [
      "Epoch 53/60: 100%|████████████████████████| 77/77 [00:13<00:00,  5.82batch/s, loss=0.118]\n"
     ]
    },
    {
     "name": "stdout",
     "output_type": "stream",
     "text": [
      "Training - Epoch 53/60, Loss: 0.11844339894203397\n",
      "Validation - Epoch 53/60, Loss: 0.11931681129201425\n",
      "Validation - Epoch 53/60, Accuracy: 95.54%\n"
     ]
    },
    {
     "name": "stderr",
     "output_type": "stream",
     "text": [
      "Epoch 54/60: 100%|███████████████████████| 77/77 [00:12<00:00,  6.00batch/s, loss=0.0944]\n"
     ]
    },
    {
     "name": "stdout",
     "output_type": "stream",
     "text": [
      "Training - Epoch 54/60, Loss: 0.09439016974156166\n",
      "Validation - Epoch 54/60, Loss: 0.16782573670791426\n",
      "Validation - Epoch 54/60, Accuracy: 93.70%\n"
     ]
    },
    {
     "name": "stderr",
     "output_type": "stream",
     "text": [
      "Epoch 55/60: 100%|████████████████████████| 77/77 [00:12<00:00,  6.15batch/s, loss=0.136]\n"
     ]
    },
    {
     "name": "stdout",
     "output_type": "stream",
     "text": [
      "Training - Epoch 55/60, Loss: 0.1357715567936758\n",
      "Validation - Epoch 55/60, Loss: 0.12717193455662668\n",
      "Validation - Epoch 55/60, Accuracy: 95.22%\n"
     ]
    },
    {
     "name": "stderr",
     "output_type": "stream",
     "text": [
      "Epoch 56/60: 100%|████████████████████████| 77/77 [00:12<00:00,  6.13batch/s, loss=0.116]\n"
     ]
    },
    {
     "name": "stdout",
     "output_type": "stream",
     "text": [
      "Training - Epoch 56/60, Loss: 0.11594536315117564\n",
      "Validation - Epoch 56/60, Loss: 0.12781413310774836\n",
      "Validation - Epoch 56/60, Accuracy: 94.98%\n"
     ]
    },
    {
     "name": "stderr",
     "output_type": "stream",
     "text": [
      "Epoch 57/60: 100%|████████████████████████| 77/77 [00:12<00:00,  6.02batch/s, loss=0.131]\n"
     ]
    },
    {
     "name": "stdout",
     "output_type": "stream",
     "text": [
      "Training - Epoch 57/60, Loss: 0.13089636034731353\n",
      "Validation - Epoch 57/60, Loss: 0.15118654209897692\n",
      "Validation - Epoch 57/60, Accuracy: 94.24%\n"
     ]
    },
    {
     "name": "stderr",
     "output_type": "stream",
     "text": [
      "Epoch 58/60: 100%|███████████████████████| 77/77 [00:23<00:00,  3.29batch/s, loss=0.0994]\n"
     ]
    },
    {
     "name": "stdout",
     "output_type": "stream",
     "text": [
      "Training - Epoch 58/60, Loss: 0.09942571327162834\n",
      "Validation - Epoch 58/60, Loss: 0.11551534262533697\n",
      "Validation - Epoch 58/60, Accuracy: 96.21%\n"
     ]
    },
    {
     "name": "stderr",
     "output_type": "stream",
     "text": [
      "Epoch 59/60: 100%|███████████████████████| 77/77 [00:34<00:00,  2.22batch/s, loss=0.0981]\n"
     ]
    },
    {
     "name": "stdout",
     "output_type": "stream",
     "text": [
      "Training - Epoch 59/60, Loss: 0.0981093632970489\n",
      "Validation - Epoch 59/60, Loss: 0.13210221201797404\n",
      "Validation - Epoch 59/60, Accuracy: 95.40%\n"
     ]
    },
    {
     "name": "stderr",
     "output_type": "stream",
     "text": [
      "Epoch 60/60: 100%|███████████████████████| 77/77 [00:12<00:00,  6.11batch/s, loss=0.0924]\n"
     ]
    },
    {
     "name": "stdout",
     "output_type": "stream",
     "text": [
      "Training - Epoch 60/60, Loss: 0.09235458699502534\n",
      "Validation - Epoch 60/60, Loss: 0.12202128732034306\n",
      "Validation - Epoch 60/60, Accuracy: 95.99%\n",
      "Training completed and modal saved to vit_model.pth\n"
     ]
    }
   ],
   "source": [
    "# Training loop\n",
    "for epoch in range(num_epochs):\n",
    "    model.train()\n",
    "    running_loss = 0.0\n",
    "\n",
    "    # Use tqdm for a progress bar\n",
    "    with tqdm(total=len(train_dataloader), desc=f'Epoch {epoch+1}/{num_epochs}', unit='batch') as pbar:\n",
    "        for i, (images, labels) in enumerate(train_dataloader):\n",
    "            images, labels = images.to(device), labels.to(device)\n",
    "            \n",
    "            optimizer.zero_grad()\n",
    "            outputs = model(images)\n",
    "            loss = criterion(outputs, labels)\n",
    "            loss.backward()\n",
    "            optimizer.step()\n",
    "            \n",
    "            running_loss += loss.item()\n",
    "            \n",
    "            # Update the progress bar\n",
    "            pbar.set_postfix(loss=running_loss / (i + 1))\n",
    "            pbar.update(1)\n",
    "\n",
    "    print(f'Training - Epoch {epoch+1}/{num_epochs}, Loss: {running_loss/len(train_dataloader)}')\n",
    "\n",
    "    # Validation\n",
    "    model.eval()\n",
    "    val_loss = 0.0\n",
    "    true_labels = []\n",
    "    predicted_labels = []\n",
    "\n",
    "    with torch.no_grad():\n",
    "        for images, labels in val_dataloader:\n",
    "            images, labels = images.to(device), labels.to(device)\n",
    "            \n",
    "            outputs = model(images)\n",
    "            loss = criterion(outputs, labels)\n",
    "            val_loss += loss.item()\n",
    "\n",
    "            _, predicted = torch.max(outputs, 1)\n",
    "            true_labels.extend(labels.cpu().numpy())\n",
    "            predicted_labels.extend(predicted.cpu().numpy())\n",
    "\n",
    "    print(f'Validation - Epoch {epoch+1}/{num_epochs}, Loss: {val_loss/len(val_dataloader)}')\n",
    "\n",
    "    # Compute and print validation accuracy\n",
    "    accuracy = accuracy_score(true_labels, predicted_labels)\n",
    "    print(f'Validation - Epoch {epoch+1}/{num_epochs}, Accuracy: {accuracy * 100:.2f}%')\n",
    "\n",
    "# Save the trained model\n",
    "torch.save(model.state_dict(), 'vit_model_plantVillage_Grapes.pth')\n",
    "print(\"Training completed and modal saved to vit_model.pth\")"
   ]
  },
  {
   "cell_type": "code",
   "execution_count": null,
   "id": "86d1fdfd-08b4-4c0b-ae6b-8132e268e23d",
   "metadata": {},
   "outputs": [],
   "source": []
  }
 ],
 "metadata": {
  "kernelspec": {
   "display_name": "Python 3 (ipykernel)",
   "language": "python",
   "name": "python3"
  },
  "language_info": {
   "codemirror_mode": {
    "name": "ipython",
    "version": 3
   },
   "file_extension": ".py",
   "mimetype": "text/x-python",
   "name": "python",
   "nbconvert_exporter": "python",
   "pygments_lexer": "ipython3",
   "version": "3.11.9"
  }
 },
 "nbformat": 4,
 "nbformat_minor": 5
}
