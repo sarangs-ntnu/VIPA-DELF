{
 "cells": [
  {
   "cell_type": "code",
   "execution_count": 1,
   "metadata": {},
   "outputs": [
    {
     "name": "stdout",
     "output_type": "stream",
     "text": [
      "2.0.1+cu117\n"
     ]
    }
   ],
   "source": [
    "import torch\n",
    "import os\n",
    "from torchvision import transforms, datasets,models\n",
    "from torch.utils import data\n",
    "from torch import optim\n",
    "print(torch.__version__)"
   ]
  },
  {
   "cell_type": "code",
   "execution_count": 2,
   "metadata": {},
   "outputs": [
    {
     "data": {
      "text/plain": [
       "device(type='cuda', index=0)"
      ]
     },
     "execution_count": 2,
     "metadata": {},
     "output_type": "execute_result"
    }
   ],
   "source": [
    "###########################\n",
    "# Checking if GPU is used\n",
    "###########################\n",
    "\n",
    "use_cuda=torch.cuda.is_available()\n",
    "use_mps = torch.backends.mps.is_available()\n",
    "device=torch.device(\"cuda:0\" if use_cuda else \"mps\" if use_mps else \"cpu\")\n",
    "device"
   ]
  },
  {
   "cell_type": "code",
   "execution_count": 3,
   "metadata": {},
   "outputs": [
    {
     "name": "stdout",
     "output_type": "stream",
     "text": [
      "Fri Jul 12 02:06:16 2024       \n",
      "+---------------------------------------------------------------------------------------+\n",
      "| NVIDIA-SMI 535.161.08             Driver Version: 535.161.08   CUDA Version: 12.2     |\n",
      "|-----------------------------------------+----------------------+----------------------+\n",
      "| GPU  Name                 Persistence-M | Bus-Id        Disp.A | Volatile Uncorr. ECC |\n",
      "| Fan  Temp   Perf          Pwr:Usage/Cap |         Memory-Usage | GPU-Util  Compute M. |\n",
      "|                                         |                      |               MIG M. |\n",
      "|=========================================+======================+======================|\n",
      "|   0  Tesla V100-SXM3-32GB           On  | 00000000:34:00.0 Off |                    0 |\n",
      "| N/A   32C    P0              72W / 350W |    739MiB / 32768MiB |     22%      Default |\n",
      "|                                         |                      |                  N/A |\n",
      "+-----------------------------------------+----------------------+----------------------+\n",
      "|   1  Tesla V100-SXM3-32GB           On  | 00000000:36:00.0 Off |                    0 |\n",
      "| N/A   48C    P0             356W / 350W |  16935MiB / 32768MiB |     61%      Default |\n",
      "|                                         |                      |                  N/A |\n",
      "+-----------------------------------------+----------------------+----------------------+\n",
      "|   2  Tesla V100-SXM3-32GB           On  | 00000000:39:00.0 Off |                    0 |\n",
      "| N/A   60C    P0             147W / 350W |  12859MiB / 32768MiB |     90%      Default |\n",
      "|                                         |                      |                  N/A |\n",
      "+-----------------------------------------+----------------------+----------------------+\n",
      "|   3  Tesla V100-SXM3-32GB           On  | 00000000:3B:00.0 Off |                    0 |\n",
      "| N/A   35C    P0              49W / 350W |      0MiB / 32768MiB |      0%      Default |\n",
      "|                                         |                      |                  N/A |\n",
      "+-----------------------------------------+----------------------+----------------------+\n",
      "|   4  Tesla V100-SXM3-32GB           On  | 00000000:57:00.0 Off |                    0 |\n",
      "| N/A   30C    P0              49W / 350W |      0MiB / 32768MiB |      0%      Default |\n",
      "|                                         |                      |                  N/A |\n",
      "+-----------------------------------------+----------------------+----------------------+\n",
      "|   5  Tesla V100-SXM3-32GB           On  | 00000000:59:00.0 Off |                    0 |\n",
      "| N/A   35C    P0              68W / 350W |   4895MiB / 32768MiB |      0%      Default |\n",
      "|                                         |                      |                  N/A |\n",
      "+-----------------------------------------+----------------------+----------------------+\n",
      "|   6  Tesla V100-SXM3-32GB           On  | 00000000:5C:00.0 Off |                    0 |\n",
      "| N/A   28C    P0              50W / 350W |      0MiB / 32768MiB |      0%      Default |\n",
      "|                                         |                      |                  N/A |\n",
      "+-----------------------------------------+----------------------+----------------------+\n",
      "|   7  Tesla V100-SXM3-32GB           On  | 00000000:5E:00.0 Off |                    0 |\n",
      "| N/A   37C    P0              84W / 350W |   1597MiB / 32768MiB |      0%      Default |\n",
      "|                                         |                      |                  N/A |\n",
      "+-----------------------------------------+----------------------+----------------------+\n",
      "|   8  Tesla V100-SXM3-32GB           On  | 00000000:B7:00.0 Off |                    0 |\n",
      "| N/A   30C    P0              48W / 350W |      0MiB / 32768MiB |      0%      Default |\n",
      "|                                         |                      |                  N/A |\n",
      "+-----------------------------------------+----------------------+----------------------+\n",
      "|   9  Tesla V100-SXM3-32GB           On  | 00000000:B9:00.0 Off |                    0 |\n",
      "| N/A   31C    P0              48W / 350W |      0MiB / 32768MiB |      0%      Default |\n",
      "|                                         |                      |                  N/A |\n",
      "+-----------------------------------------+----------------------+----------------------+\n",
      "|  10  Tesla V100-SXM3-32GB           On  | 00000000:BC:00.0 Off |                    0 |\n",
      "| N/A   35C    P0              51W / 350W |      0MiB / 32768MiB |      0%      Default |\n",
      "|                                         |                      |                  N/A |\n",
      "+-----------------------------------------+----------------------+----------------------+\n",
      "|  11  Tesla V100-SXM3-32GB           On  | 00000000:BE:00.0 Off |                    0 |\n",
      "| N/A   35C    P0              49W / 350W |      0MiB / 32768MiB |      0%      Default |\n",
      "|                                         |                      |                  N/A |\n",
      "+-----------------------------------------+----------------------+----------------------+\n",
      "|  12  Tesla V100-SXM3-32GB           On  | 00000000:E0:00.0 Off |                    0 |\n",
      "| N/A   30C    P0              47W / 350W |      0MiB / 32768MiB |      0%      Default |\n",
      "|                                         |                      |                  N/A |\n",
      "+-----------------------------------------+----------------------+----------------------+\n",
      "|  13  Tesla V100-SXM3-32GB           On  | 00000000:E2:00.0 Off |                    0 |\n",
      "| N/A   30C    P0              48W / 350W |      0MiB / 32768MiB |      0%      Default |\n",
      "|                                         |                      |                  N/A |\n",
      "+-----------------------------------------+----------------------+----------------------+\n",
      "|  14  Tesla V100-SXM3-32GB           On  | 00000000:E5:00.0 Off |                    0 |\n",
      "| N/A   34C    P0              49W / 350W |      0MiB / 32768MiB |      0%      Default |\n",
      "|                                         |                      |                  N/A |\n",
      "+-----------------------------------------+----------------------+----------------------+\n",
      "|  15  Tesla V100-SXM3-32GB           On  | 00000000:E7:00.0 Off |                    0 |\n",
      "| N/A   35C    P0              50W / 350W |      0MiB / 32768MiB |      0%      Default |\n",
      "|                                         |                      |                  N/A |\n",
      "+-----------------------------------------+----------------------+----------------------+\n",
      "                                                                                         \n",
      "+---------------------------------------------------------------------------------------+\n",
      "| Processes:                                                                            |\n",
      "|  GPU   GI   CI        PID   Type   Process name                            GPU Memory |\n",
      "|        ID   ID                                                             Usage      |\n",
      "|=======================================================================================|\n",
      "|    0   N/A  N/A   1875342      C   ...meshu/anaconda3/envs/ECG/bin/python      734MiB |\n",
      "|    1   N/A  N/A   1932494      C   ...meshu/anaconda3/envs/ECG/bin/python    19324MiB |\n",
      "|    2   N/A  N/A   3001583      C   ...meshu/anaconda3/envs/ECG/bin/python    24846MiB |\n",
      "|    5   N/A  N/A   2718812      C   ...gs/D1/chameleon_venv/bin/python3.11      754MiB |\n",
      "|    5   N/A  N/A   2741705      C   ...gs/D1/chameleon_venv/bin/python3.11      696MiB |\n",
      "|    5   N/A  N/A   2750208      C   ray::ClientAppActor                        2916MiB |\n",
      "|    5   N/A  N/A   2880230      C   ...gs/D1/chameleon_venv/bin/python3.11      522MiB |\n",
      "|    7   N/A  N/A   2773280      C   ...ur/anaconda3/envs/synEEG/bin/python     1594MiB |\n",
      "+---------------------------------------------------------------------------------------+\n"
     ]
    }
   ],
   "source": [
    "!nvidia-smi"
   ]
  },
  {
   "cell_type": "code",
   "execution_count": 4,
   "metadata": {},
   "outputs": [],
   "source": [
    "########################################\n",
    "# Setting basic parameters for the model\n",
    "########################################           \n",
    "         \n",
    "batch_size=16\n",
    "max_epochs=5\n",
    "lr=0.0001\n",
    "\n",
    "NUM_CLIENTS = 5\n",
    "\n",
    "NUM_DATA_SPLIT = NUM_CLIENTS\n",
    "\n",
    "ROUNDS = 10\n",
    "\n",
    "# added this just to done some experiments. Remove it to execute correct code.\n",
    "# It should be same as NUM_CLIENTS\n",
    "# NUM_DATA_SPLIT = 40\n",
    "\n",
    "num_classes = 2\n",
    "\n",
    "\n",
    "# name of new dataset\n",
    "dataset = \"Real_images_processed\""
   ]
  },
  {
   "cell_type": "code",
   "execution_count": 5,
   "metadata": {},
   "outputs": [
    {
     "name": "stdout",
     "output_type": "stream",
     "text": [
      "train root Real_images_processed/train\n",
      "Directory './fl_checkpointsdensenet169_e5_c5_r10' created\n"
     ]
    }
   ],
   "source": [
    "train_root_dir=os.path.join(dataset, 'train')   \n",
    "val_root_dir= os.path.join(dataset, 'validation') \n",
    "test_root_dir= os.path.join(dataset, 'test') \n",
    "model_path='./fl_checkpointsdensenet169_e5_c5_r10'  # set path to the folder that will store model's checkpoints\n",
    "\n",
    "n_classes=2  # number of classes used for training\n",
    "\n",
    "global val_f1_max\n",
    "\n",
    "\n",
    "try:\n",
    "    if not os.path.exists(model_path):\n",
    "        os.makedirs(model_path)\n",
    "except OSError as err:\n",
    "    print(err)\n",
    "    \n",
    "print('train root', train_root_dir)\n",
    "\n",
    "print(\"Directory '% s' created\" % model_path)\n",
    "filename='results_e'+str(max_epochs)+'_'+'b'+str(batch_size)+'_'+'lr'+str(lr)+'_'+'cnn'   #filename used for saving epoch-wise training details and test results "
   ]
  },
  {
   "cell_type": "markdown",
   "metadata": {},
   "source": [
    "## Federated Learning"
   ]
  },
  {
   "cell_type": "code",
   "execution_count": 6,
   "metadata": {},
   "outputs": [
    {
     "name": "stderr",
     "output_type": "stream",
     "text": [
      "2024-07-12 02:06:39.602346: I tensorflow/core/platform/cpu_feature_guard.cc:210] This TensorFlow binary is optimized to use available CPU instructions in performance-critical operations.\n",
      "To enable the following instructions: AVX2 AVX512F FMA, in other operations, rebuild TensorFlow with the appropriate compiler flags.\n",
      "2024-07-12 02:06:57.806664: W tensorflow/compiler/tf2tensorrt/utils/py_utils.cc:38] TF-TRT Warning: Could not find TensorRT\n"
     ]
    },
    {
     "name": "stdout",
     "output_type": "stream",
     "text": [
      "Training on cuda:0 using PyTorch 2.0.1+cu117 and Flower 1.9.0\n"
     ]
    }
   ],
   "source": [
    "from collections import OrderedDict\n",
    "from typing import Dict, List, Optional, Tuple\n",
    "\n",
    "import numpy as np\n",
    "import torch\n",
    "import torch.nn as nn\n",
    "import torch.nn.functional as F\n",
    "import torchvision.transforms as transforms\n",
    "from torch.utils.data import DataLoader, random_split\n",
    "from torchvision.datasets import CIFAR10\n",
    "\n",
    "import flwr as fl\n",
    "\n",
    "print(\n",
    "    f\"Training on {device} using PyTorch {torch.__version__} and Flower {fl.__version__}\"\n",
    ")"
   ]
  },
  {
   "cell_type": "markdown",
   "metadata": {},
   "source": [
    "### Custom Data Loader"
   ]
  },
  {
   "cell_type": "code",
   "execution_count": 7,
   "metadata": {},
   "outputs": [
    {
     "name": "stdout",
     "output_type": "stream",
     "text": [
      "Number of Training set images:196\n",
      "Number of Validation set images:55\n",
      "Number of Test set images:30\n",
      "\n",
      "Datassets after split...\n",
      "Number of Training set images:5\n",
      "Number of Validation set images:5\n"
     ]
    }
   ],
   "source": [
    "def load_datasets(num_clients: int):\n",
    "    # ####################################\n",
    "    # # Training\n",
    "    # ####################################\n",
    "\n",
    "    trans={\n",
    "        # Train uses data augmentation\n",
    "        'train': transforms.Compose([\n",
    "            transforms.Resize((224, 224)),\n",
    "            # transforms.RandomRotation(degrees=15),\n",
    "            # transforms.RandomHorizontalFlip(),\n",
    "            transforms.ToTensor(),\n",
    "            transforms.Normalize([0.4762, 0.3054, 0.2368], [0.3345, 0.2407, 0.2164])\n",
    "        ]),\n",
    "        # Validation does not use augmentation\n",
    "        'valid':\n",
    "        transforms.Compose([\n",
    "            transforms.Resize((224, 224)),            \n",
    "            transforms.ToTensor(),\n",
    "            transforms.Normalize([0.4762, 0.3054, 0.2368], [0.3345, 0.2407, 0.2164])\n",
    "        ]),\n",
    "\n",
    "        # Test does not use augmentation\n",
    "        'test':\n",
    "        transforms.Compose([\n",
    "            transforms.Resize((224, 224)),\n",
    "            transforms.ToTensor(),\n",
    "            transforms.Normalize([0.4762, 0.3054, 0.2368], [0.3345, 0.2407, 0.2164])\n",
    "        ]),\n",
    "    }\n",
    "\n",
    "    training_dataset= datasets.ImageFolder(train_root_dir, transform=trans['train'])\n",
    "    validation_dataset= datasets.ImageFolder(val_root_dir, transform=trans['valid'])\n",
    "    test_dataset= datasets.ImageFolder(test_root_dir, transform=trans['test'])\n",
    "\n",
    "    print('Number of Training set images:{}'.format(len(training_dataset)))\n",
    "    print('Number of Validation set images:{}'.format(len(validation_dataset)))\n",
    "    print('Number of Test set images:{}'.format(len(test_dataset)))\n",
    "\n",
    "    # Split training set into `num_clients` partitions to simulate different local datasets\n",
    "    partition_size = len(training_dataset) // num_clients\n",
    "    lengths = [partition_size] * num_clients\n",
    "    diff = len(training_dataset) - sum(lengths)\n",
    "    lengths[-1] = lengths[-1] + diff\n",
    "    train_datasets = random_split(training_dataset, lengths, torch.Generator().manual_seed(42))\n",
    "\n",
    "    partition_size = len(validation_dataset) // num_clients\n",
    "    lengths = [partition_size] * num_clients\n",
    "    diff = len(validation_dataset) - sum(lengths)\n",
    "    lengths[-1] = lengths[-1] + diff\n",
    "    val_datasets = random_split(validation_dataset, lengths, torch.Generator().manual_seed(42))\n",
    "\n",
    "    # Split each partition into train/val and create DataLoader\n",
    "    trainloaders = []\n",
    "    valloaders = []\n",
    "    for tr_ds in train_datasets:\n",
    "        trainloaders.append(data.DataLoader(tr_ds, batch_size=batch_size, shuffle=True))\n",
    "    for val_ds in val_datasets:\n",
    "        valloaders.append(data.DataLoader(val_ds, batch_size=batch_size))\n",
    "\n",
    "    testloader = data.DataLoader(test_dataset,batch_size)\n",
    "    \n",
    "    print(\"\\nDatassets after split...\")\n",
    "    print('Number of Training set images:{}'.format(len(trainloaders)))\n",
    "    print('Number of Validation set images:{}'.format(len(valloaders)))\n",
    "\n",
    "    \n",
    "    return trainloaders, valloaders, testloader\n",
    "\n",
    "trainloaders, valloaders, testloader = load_datasets(NUM_DATA_SPLIT)"
   ]
  },
  {
   "cell_type": "markdown",
   "metadata": {},
   "source": [
    "### Model Training"
   ]
  },
  {
   "cell_type": "code",
   "execution_count": 8,
   "metadata": {},
   "outputs": [],
   "source": [
    "def train(model, trainloader, epochs: int):\n",
    "    \"\"\"Train the network on the training set.\"\"\"\n",
    "    optimizer=optim.Adam(model.parameters(), lr, weight_decay=1e-4)\n",
    "\n",
    "    scheduler=optim.lr_scheduler.ReduceLROnPlateau(optimizer,mode='min',patience=4,verbose=True)\n",
    "\n",
    "    criterion = nn.CrossEntropyLoss()\n",
    "\n",
    "    model.train()\n",
    "    print(\"Starting client training...\")\n",
    "    for epoch in range(epochs):\n",
    "        print(f\"Running epoch {epoch}/{epochs}\")\n",
    "        correct, total, epoch_loss = 0, 0, 0.0\n",
    "        for images, labels in trainloader:\n",
    "            images, labels = images.to(device), labels.to(device)\n",
    "            optimizer.zero_grad()\n",
    "            outputs = model(images)\n",
    "            loss = criterion(outputs, labels)\n",
    "            loss.backward()\n",
    "            optimizer.step()\n",
    "            # Metrics\n",
    "            epoch_loss += loss.item() * images.size(0)\n",
    "            total += labels.size(0)\n",
    "            correct += (torch.max(outputs.data, 1)[1] == labels).sum().item()\n",
    "        epoch_loss /= len(trainloader.dataset)\n",
    "        epoch_acc = correct / total\n",
    "        print(f\"Epoch {epoch+1}: train loss {epoch_loss}, accuracy {epoch_acc}\")\n",
    "        scheduler.step(epoch_loss)\n",
    "#             epoch_loss += loss\n",
    "#             total += labels.size(0)\n",
    "#             correct += (torch.max(outputs.data, 1)[1] == labels).sum().item()\n",
    "#         epoch_loss /= len(trainloader.dataset)\n",
    "#         epoch_acc = correct / total\n",
    "#         print(f\"Epoch {epoch+1}: train loss {epoch_loss}, accuracy {epoch_acc}\")\n",
    "\n",
    "\n",
    "def test(model, testloader):\n",
    "    \"\"\"Evaluate the network on the entire test set.\"\"\"\n",
    "    criterion = nn.CrossEntropyLoss()\n",
    "\n",
    "    correct, total, loss = 0, 0, 0.0\n",
    "    model.eval()\n",
    "    print(\"Starting client validation...\")\n",
    "    with torch.no_grad():\n",
    "        for images, labels in testloader:\n",
    "            images, labels = images.to(device), labels.to(device)\n",
    "            outputs = model(images)\n",
    "            loss += criterion(outputs, labels).item()\n",
    "            _, predicted = torch.max(outputs.data, 1)\n",
    "            total += labels.size(0)\n",
    "            correct += (predicted == labels).sum().item()\n",
    "    loss /= len(testloader.dataset)\n",
    "    accuracy = correct / total\n",
    "    print(f\"Validataion accuracy = {accuracy}\")\n",
    "    return loss, accuracy"
   ]
  },
  {
   "cell_type": "markdown",
   "metadata": {},
   "source": [
    "### Custom Strategy"
   ]
  },
  {
   "cell_type": "code",
   "execution_count": 9,
   "metadata": {},
   "outputs": [],
   "source": [
    "from typing import Callable, Union\n",
    "\n",
    "from flwr.common import (\n",
    "    EvaluateIns,\n",
    "    EvaluateRes,\n",
    "    FitIns,\n",
    "    FitRes,\n",
    "    MetricsAggregationFn,\n",
    "    NDArrays,\n",
    "    Parameters,\n",
    "    Scalar,\n",
    "    ndarrays_to_parameters,\n",
    "    parameters_to_ndarrays,\n",
    ")\n",
    "from flwr.server.client_manager import ClientManager\n",
    "from flwr.server.client_proxy import ClientProxy\n",
    "from flwr.server.strategy.aggregate import aggregate, weighted_loss_avg\n",
    "\n",
    "\n",
    "class FedCustom(fl.server.strategy.Strategy):\n",
    "    def __init__(\n",
    "        self,\n",
    "        fraction_fit: float = 1.0,\n",
    "        fraction_evaluate: float = 1.0,\n",
    "        min_fit_clients: int = 2,\n",
    "        min_evaluate_clients: int = 2,\n",
    "        min_available_clients: int = 2,\n",
    "    ) -> None:\n",
    "        super().__init__()\n",
    "        self.fraction_fit = fraction_fit\n",
    "        self.fraction_evaluate = fraction_evaluate\n",
    "        self.min_fit_clients = min_fit_clients\n",
    "        self.min_evaluate_clients = min_evaluate_clients\n",
    "        self.min_available_clients = min_available_clients\n",
    "\n",
    "    def __repr__(self) -> str:\n",
    "        return \"FedCustom\"\n",
    "\n",
    "    def initialize_parameters(\n",
    "        self, client_manager: ClientManager\n",
    "    ) -> Optional[Parameters]:\n",
    "        \"\"\"Initialize global model parameters.\"\"\"\n",
    "        \n",
    "        net = create_pretrained_densenet(2)\n",
    "        net.to(device)\n",
    "        # get initial parameters for starting point.\n",
    "        ndarrays = get_parameters(net)\n",
    "        # ndarrays_to_parameters function converst numpy ndarray into io.bytes (tensors).\n",
    "        return fl.common.ndarrays_to_parameters(ndarrays)\n",
    "\n",
    "    def configure_fit(\n",
    "        self, server_round: int, parameters: Parameters, client_manager: ClientManager\n",
    "    ) -> List[Tuple[ClientProxy, FitIns]]:\n",
    "        \"\"\"Configure the next round of training.\"\"\"\n",
    "\n",
    "        print(\"Starting configure fit function...\")\n",
    "        # Sample clients\n",
    "        sample_size, min_num_clients = self.num_fit_clients(\n",
    "            client_manager.num_available()\n",
    "        )\n",
    "        clients = client_manager.sample(\n",
    "            num_clients=sample_size, min_num_clients=min_num_clients\n",
    "        )\n",
    "        \n",
    "        print(f\"Sample size = {sample_size} Min Num Clients = {min_num_clients} Clients = {clients}\")\n",
    "\n",
    "        # Create custom configs\n",
    "        n_clients = len(clients)\n",
    "        half_clients = n_clients // 2\n",
    "        standard_config = {\"lr\": 0.001}\n",
    "        higher_lr_config = {\"lr\": 0.003}\n",
    "        fit_configurations = []\n",
    "        \n",
    "        print(f\"Number of clients = {n_clients}\")\n",
    "        for idx, client in enumerate(clients):\n",
    "            if idx < half_clients:\n",
    "                fit_configurations.append((client, FitIns(parameters, standard_config)))\n",
    "            else:\n",
    "                fit_configurations.append(\n",
    "                    (client, FitIns(parameters, higher_lr_config))\n",
    "                )\n",
    "        print(\"Fit Configurations\")        \n",
    "        return fit_configurations\n",
    "\n",
    "    def aggregate_fit(\n",
    "        self,\n",
    "        server_round: int,\n",
    "        results: List[Tuple[ClientProxy, FitRes]],\n",
    "        failures: List[Union[Tuple[ClientProxy, FitRes], BaseException]],\n",
    "    ) -> Tuple[Optional[Parameters], Dict[str, Scalar]]:\n",
    "        \"\"\"Aggregate fit results using weighted average.\"\"\"\n",
    "\n",
    "        weights_results = [\n",
    "            (parameters_to_ndarrays(fit_res.parameters), fit_res.num_examples)\n",
    "            for _, fit_res in results\n",
    "        ]\n",
    "        parameters_aggregated = ndarrays_to_parameters(aggregate(weights_results))\n",
    "        metrics_aggregated = {}\n",
    "        \n",
    "        return parameters_aggregated, metrics_aggregated\n",
    "\n",
    "\n",
    "\n",
    "    def configure_evaluate(\n",
    "        self, server_round: int, parameters: Parameters, client_manager: ClientManager\n",
    "    ) -> List[Tuple[ClientProxy, EvaluateIns]]:\n",
    "        \"\"\"Configure the next round of evaluation.\"\"\"\n",
    "        if self.fraction_evaluate == 0.0:\n",
    "            return []\n",
    "        config = {}\n",
    "        evaluate_ins = EvaluateIns(parameters, config)\n",
    "\n",
    "        # Sample clients\n",
    "        sample_size, min_num_clients = self.num_evaluation_clients(\n",
    "            client_manager.num_available()\n",
    "        )\n",
    "        clients = client_manager.sample(\n",
    "            num_clients=sample_size, min_num_clients=min_num_clients\n",
    "        )\n",
    "\n",
    "        # Return client/config pairs\n",
    "        return [(client, evaluate_ins) for client in clients]\n",
    "\n",
    "    def aggregate_evaluate(\n",
    "        self,\n",
    "        server_round: int,\n",
    "        results: List[Tuple[ClientProxy, EvaluateRes]],\n",
    "        failures: List[Union[Tuple[ClientProxy, EvaluateRes], BaseException]],\n",
    "    ) -> Tuple[Optional[float], Dict[str, Scalar]]:\n",
    "        \"\"\"Aggregate evaluation losses using weighted average.\"\"\"\n",
    "\n",
    "        if not results:\n",
    "            return None, {}\n",
    "\n",
    "        loss_aggregated = weighted_loss_avg(\n",
    "            [\n",
    "                (evaluate_res.num_examples, evaluate_res.loss)\n",
    "                for _, evaluate_res in results\n",
    "            ]\n",
    "        )\n",
    "        metrics_aggregated = {}\n",
    "        return loss_aggregated, metrics_aggregated\n",
    "\n",
    "    def evaluate(\n",
    "        self, server_round: int, parameters: Parameters\n",
    "    ) -> Optional[Tuple[float, Dict[str, Scalar]]]:\n",
    "        \"\"\"Evaluate global model parameters using an evaluation function.\"\"\"\n",
    "\n",
    "        loss = 1\n",
    "        metric = {}    \n",
    "        \n",
    "        try:\n",
    "            parameters_ndarrays = parameters_to_ndarrays(parameters)\n",
    "            len(parameters_ndarrays)\n",
    "            # Let's assume we won't perform the global model evaluation on the server side.\n",
    "            print(\"Evaluating global model\")                \n",
    "            global_model = create_pretrained_densenet(2)\n",
    "            global_model.to(device)\n",
    "\n",
    "            set_parameters(global_model, parameters_ndarrays)\n",
    "            print(\"Parameter set\")\n",
    "            loss, accuracy = test(global_model, testloader)\n",
    "            print(f\"Global evaluation round {server_round} loss = {float(loss)} accuracy = {float(accuracy)}\")\n",
    "            \n",
    "            # Save your weights here.\n",
    "            best_model_path = model_path+f'/fl_densenet_{server_round}.pth'\n",
    "            torch.save({'round':server_round,\n",
    "                'state_dict':global_model.state_dict(),\n",
    "                'loss':loss,\n",
    "                'acc':accuracy},\n",
    "                best_model_path    \n",
    "                )\n",
    "            print(f\"Model saved at {best_model_path}\")\n",
    "            \n",
    "        except:\n",
    "            print(\"Parameter type is not ndarray\")\n",
    "        \n",
    "        return float(loss), metric\n",
    "\n",
    "    def num_fit_clients(self, num_available_clients: int) -> Tuple[int, int]:\n",
    "        \"\"\"Return sample size and required number of clients.\"\"\"\n",
    "        num_clients = int(num_available_clients * self.fraction_fit)\n",
    "        return max(num_clients, self.min_fit_clients), self.min_available_clients\n",
    "\n",
    "    def num_evaluation_clients(self, num_available_clients: int) -> Tuple[int, int]:\n",
    "        \"\"\"Use a fraction of available clients for evaluation.\"\"\"\n",
    "        num_clients = int(num_available_clients * self.fraction_evaluate)\n",
    "        return max(num_clients, self.min_evaluate_clients), self.min_available_clients"
   ]
  },
  {
   "cell_type": "code",
   "execution_count": 13,
   "metadata": {},
   "outputs": [],
   "source": [
    "class FlowerClient(fl.client.NumPyClient):\n",
    "    def __init__(self, cid, model, trainloader, valloader, max_epochs):\n",
    "        self.cid = cid\n",
    "        self.model = model\n",
    "        self.trainloader = trainloader\n",
    "        self.valloader = valloader\n",
    "        self.max_epochs = max_epochs\n",
    "\n",
    "    def get_parameters(self, config):\n",
    "        print(f\"[Client {self.cid}] get_parameters\")\n",
    "        return get_parameters(self.model)\n",
    "\n",
    "    def fit(self, parameters, config):\n",
    "        print(f\"[Client {self.cid}] fit, config: {config}\")\n",
    "        set_parameters(self.model, parameters)\n",
    "        print(\"Client parameters set\")\n",
    "        train(self.model, self.trainloader, epochs=self.max_epochs)\n",
    "        print(\"Training completed!\")\n",
    "        return get_parameters(self.model), len(self.trainloader), {}\n",
    "\n",
    "    def evaluate(self, parameters, config):\n",
    "        print(f\"[Client {self.cid}] evaluate, config: {config}\")\n",
    "        set_parameters(self.model, parameters)\n",
    "        loss, accuracy = test(self.model, self.valloader)\n",
    "        print(f\"Evaluation loss = {float(loss)} accuracy = {float(accuracy)}\")\n",
    "        return float(loss), len(self.valloader), {\"accuracy\": float(accuracy)}\n",
    "\n",
    "    \n",
    "import torchvision\n",
    "def create_pretrained_densenet(num_classes):\n",
    "    model = torchvision.models.densenet169(weights=True).to(device)   # make weights=True if you want to download pre-trained weights\n",
    "    for param in model.parameters():\n",
    "        param.requires_grad = True                       # Set param.requires_grad = False if you want to train only the last updated layers and freeze all other layers\n",
    "        \n",
    "    n_inputs = model.classifier.in_features\n",
    "    model.classifier = nn.Sequential(\n",
    "                      nn.Linear(n_inputs, num_classes),                  \n",
    "                      nn.LogSoftmax(dim=1))\n",
    "    return model\n",
    "# def create_pretrained_densenet(num_classes):\n",
    "#     model = models.vit_b_16(pretrained=True)\n",
    "#     # Replace the classifier with a new one (the number of classes in your dataset)\n",
    "#     num_ftrs = model.classifier.in_features\n",
    "#     model.classifier = nn.Linear(num_ftrs, num_classes)\n",
    "#     return model\n",
    "\n",
    "\n",
    "\n",
    "def client_fn(cid) -> FlowerClient:\n",
    "    model = create_pretrained_densenet(num_classes)\n",
    "    model.to(device)\n",
    "\n",
    "    trainloader = trainloaders[int(cid)]\n",
    "    valloader = valloaders[int(cid)]\n",
    "\n",
    "    return FlowerClient(cid, model, trainloader, testloader, max_epochs)"
   ]
  },
  {
   "cell_type": "markdown",
   "metadata": {},
   "source": [
    "### Creating Flower Client"
   ]
  },
  {
   "cell_type": "code",
   "execution_count": 14,
   "metadata": {},
   "outputs": [],
   "source": [
    "def get_parameters(model) -> List[np.ndarray]:\n",
    "    listOfArray = [val.cpu().numpy() for _, val in model.state_dict().items()]\n",
    "    print(f\"Length of params: {len(listOfArray)}\")\n",
    "    return listOfArray\n",
    "\n",
    "def set_parameters(model, parameters: List[np.ndarray]):\n",
    "    print(f\"Updating parameters {len(parameters)}\")\n",
    "    \n",
    "    ord_dict = {}\n",
    "    # this is added for densenet parameters inconsistency.\n",
    "    for k, v, p in zip(model.state_dict().keys(), model.state_dict().values(), parameters):\n",
    "        try:\n",
    "            len(p)\n",
    "            ord_dict[k] = torch.Tensor(p)\n",
    "        except:\n",
    "#             print(f\"Value of V = {v}\")\n",
    "            ord_dict[k] = torch.Tensor(v)\n",
    "    \n",
    "#     params_dict = zip(model.state_dict().keys(), parameters)\n",
    "#     st_dict = OrderedDict({k: torch.Tensor(v) for k, v in params_dict})\n",
    "\n",
    "    st_dict = OrderedDict(ord_dict)\n",
    "    model.load_state_dict(st_dict, strict=True)\n",
    "    print(\"Setting parameters...\")"
   ]
  },
  {
   "cell_type": "code",
   "execution_count": 15,
   "metadata": {
    "scrolled": true
   },
   "outputs": [
    {
     "name": "stderr",
     "output_type": "stream",
     "text": [
      "\u001b[92mINFO \u001b[0m:      Starting Flower simulation, config: num_rounds=10, no round_timeout\n",
      "2024-07-12 02:10:13,641\tINFO worker.py:1752 -- Started a local Ray instance.\n",
      "\u001b[92mINFO \u001b[0m:      Flower VCE: Ray initialized with resources: {'GPU': 1.0, 'CPU': 96.0, 'accelerator_type:V100': 1.0, 'memory': 1067689057280.0, 'node:10.128.0.31': 1.0, 'node:__internal_head__': 1.0, 'object_store_memory': 200000000000.0}\n",
      "\u001b[92mINFO \u001b[0m:      Optimize your simulation with Flower VCE: https://flower.ai/docs/framework/how-to-run-simulations.html\n",
      "/tmp/ipykernel_2886930/24281487.py:29: UserWarning: No `num_cpus` specified in `client_resources`. Using `num_cpus=1` for each client.\n",
      "  history = fl.simulation.start_simulation(\n",
      "\u001b[92mINFO \u001b[0m:      Flower VCE: Resources for each Virtual Client: {'num_gpus': 1, 'num_cpus': 1}\n",
      "\u001b[92mINFO \u001b[0m:      Flower VCE: Creating VirtualClientEngineActorPool with 1 actors\n",
      "\u001b[92mINFO \u001b[0m:      [INIT]\n",
      "/home/sarangs/D1/chameleon_venv/lib/python3.11/site-packages/torchvision/models/_utils.py:223: UserWarning: Arguments other than a weight enum or `None` for 'weights' are deprecated since 0.13 and may be removed in the future. The current behavior is equivalent to passing `weights=DenseNet169_Weights.IMAGENET1K_V1`. You can also use `weights=DenseNet169_Weights.DEFAULT` to get the most up-to-date weights.\n",
      "  warnings.warn(msg)\n",
      "\u001b[92mINFO \u001b[0m:      Using initial global parameters provided by strategy\n",
      "\u001b[92mINFO \u001b[0m:      Evaluating initial global parameters\n"
     ]
    },
    {
     "name": "stdout",
     "output_type": "stream",
     "text": [
      "Length of params: 1015\n",
      "Evaluating global model\n",
      "Updating parameters 1015\n",
      "Setting parameters...\n",
      "Parameter set\n",
      "Starting client validation...\n",
      "Validataion accuracy = 0.5333333333333333\n",
      "Global evaluation round 0 loss = 0.05107033451398214 accuracy = 0.5333333333333333\n"
     ]
    },
    {
     "name": "stderr",
     "output_type": "stream",
     "text": [
      "\u001b[92mINFO \u001b[0m:      initial parameters (loss, other metrics): 0.05107033451398214, {}\n",
      "\u001b[92mINFO \u001b[0m:      \n",
      "\u001b[92mINFO \u001b[0m:      [ROUND 1]\n",
      "\u001b[92mINFO \u001b[0m:      configure_fit: strategy sampled 5 clients (out of 5)\n"
     ]
    },
    {
     "name": "stdout",
     "output_type": "stream",
     "text": [
      "Model saved at ./fl_checkpointsdensenet169_e5_c5_r10/fl_densenet_0.pth\n",
      "Starting configure fit function...\n",
      "Sample size = 5 Min Num Clients = 2 Clients = [<flwr.simulation.ray_transport.ray_client_proxy.RayActorClientProxy object at 0x15535efa5710>, <flwr.simulation.ray_transport.ray_client_proxy.RayActorClientProxy object at 0x15535efa5990>, <flwr.simulation.ray_transport.ray_client_proxy.RayActorClientProxy object at 0x15535efa6410>, <flwr.simulation.ray_transport.ray_client_proxy.RayActorClientProxy object at 0x15535efa4350>, <flwr.simulation.ray_transport.ray_client_proxy.RayActorClientProxy object at 0x15535efa5550>]\n",
      "Number of clients = 5\n",
      "Fit Configurations\n"
     ]
    },
    {
     "name": "stderr",
     "output_type": "stream",
     "text": [
      "\u001b[36m(pid=2909872)\u001b[0m 2024-07-12 02:11:35.392511: W tensorflow/compiler/tf2tensorrt/utils/py_utils.cc:38] TF-TRT Warning: Could not find TensorRT\n",
      "\u001b[36m(ClientAppActor pid=2909872)\u001b[0m /home/sarangs/D1/chameleon_venv/lib/python3.11/site-packages/torchvision/models/_utils.py:223: UserWarning: Arguments other than a weight enum or `None` for 'weights' are deprecated since 0.13 and may be removed in the future. The current behavior is equivalent to passing `weights=DenseNet169_Weights.IMAGENET1K_V1`. You can also use `weights=DenseNet169_Weights.DEFAULT` to get the most up-to-date weights.\n",
      "\u001b[36m(ClientAppActor pid=2909872)\u001b[0m   warnings.warn(msg)\n",
      "\u001b[36m(ClientAppActor pid=2909872)\u001b[0m \u001b[93mWARNING \u001b[0m:   Deprecation Warning: The `client_fn` function must return an instance of `Client`, but an instance of `NumpyClient` was returned. Please use `NumPyClient.to_client()` method to convert it to `Client`.\n"
     ]
    },
    {
     "name": "stdout",
     "output_type": "stream",
     "text": [
      "\u001b[36m(ClientAppActor pid=2909872)\u001b[0m [Client 0] fit, config: {'lr': 0.001}\n",
      "\u001b[36m(ClientAppActor pid=2909872)\u001b[0m Updating parameters 1015\n",
      "\u001b[36m(ClientAppActor pid=2909872)\u001b[0m Setting parameters...\n",
      "\u001b[36m(ClientAppActor pid=2909872)\u001b[0m Client parameters set\n",
      "\u001b[36m(ClientAppActor pid=2909872)\u001b[0m Starting client training...\n",
      "\u001b[36m(ClientAppActor pid=2909872)\u001b[0m Running epoch 0/5\n",
      "\u001b[36m(ClientAppActor pid=2909872)\u001b[0m Epoch 1: train loss 0.6195576924544114, accuracy 0.6666666666666666\n",
      "\u001b[36m(ClientAppActor pid=2909872)\u001b[0m Running epoch 1/5\n",
      "\u001b[36m(ClientAppActor pid=2909872)\u001b[0m Epoch 2: train loss 0.19036921896995643, accuracy 0.9743589743589743\n",
      "\u001b[36m(ClientAppActor pid=2909872)\u001b[0m Running epoch 2/5\n",
      "\u001b[36m(ClientAppActor pid=2909872)\u001b[0m Epoch 3: train loss 0.05232030783708279, accuracy 1.0\n",
      "\u001b[36m(ClientAppActor pid=2909872)\u001b[0m Running epoch 3/5\n",
      "\u001b[36m(ClientAppActor pid=2909872)\u001b[0m Epoch 4: train loss 0.03277603871165178, accuracy 1.0\n",
      "\u001b[36m(ClientAppActor pid=2909872)\u001b[0m Running epoch 4/5\n",
      "\u001b[36m(ClientAppActor pid=2909872)\u001b[0m Epoch 5: train loss 0.0405738258208984, accuracy 1.0\n",
      "\u001b[36m(ClientAppActor pid=2909872)\u001b[0m Training completed!\n",
      "\u001b[36m(ClientAppActor pid=2909872)\u001b[0m Length of params: 1015\n"
     ]
    },
    {
     "name": "stderr",
     "output_type": "stream",
     "text": [
      "\u001b[36m(ClientAppActor pid=2909872)\u001b[0m \u001b[93mWARNING \u001b[0m:   Deprecation Warning: The `client_fn` function must return an instance of `Client`, but an instance of `NumpyClient` was returned. Please use `NumPyClient.to_client()` method to convert it to `Client`.\n"
     ]
    },
    {
     "name": "stdout",
     "output_type": "stream",
     "text": [
      "\u001b[36m(ClientAppActor pid=2909872)\u001b[0m [Client 2] fit, config: {'lr': 0.001}\n",
      "\u001b[36m(ClientAppActor pid=2909872)\u001b[0m Updating parameters 1015\n",
      "\u001b[36m(ClientAppActor pid=2909872)\u001b[0m Setting parameters...\n",
      "\u001b[36m(ClientAppActor pid=2909872)\u001b[0m Client parameters set\n",
      "\u001b[36m(ClientAppActor pid=2909872)\u001b[0m Starting client training...\n",
      "\u001b[36m(ClientAppActor pid=2909872)\u001b[0m Running epoch 0/5\n",
      "\u001b[36m(ClientAppActor pid=2909872)\u001b[0m Epoch 1: train loss 0.532861929673415, accuracy 0.7435897435897436\n",
      "\u001b[36m(ClientAppActor pid=2909872)\u001b[0m Running epoch 1/5\n",
      "\u001b[36m(ClientAppActor pid=2909872)\u001b[0m Epoch 2: train loss 0.13291111703102404, accuracy 1.0\n",
      "\u001b[36m(ClientAppActor pid=2909872)\u001b[0m Running epoch 2/5\n",
      "\u001b[36m(ClientAppActor pid=2909872)\u001b[0m Epoch 3: train loss 0.04165556128972616, accuracy 1.0\n",
      "\u001b[36m(ClientAppActor pid=2909872)\u001b[0m Running epoch 3/5\n",
      "\u001b[36m(ClientAppActor pid=2909872)\u001b[0m Epoch 4: train loss 0.018051539285060685, accuracy 1.0\n",
      "\u001b[36m(ClientAppActor pid=2909872)\u001b[0m Running epoch 4/5\n",
      "\u001b[36m(ClientAppActor pid=2909872)\u001b[0m Epoch 5: train loss 0.03366899819901356, accuracy 1.0\n",
      "\u001b[36m(ClientAppActor pid=2909872)\u001b[0m Training completed!\n",
      "\u001b[36m(ClientAppActor pid=2909872)\u001b[0m Length of params: 1015\n"
     ]
    },
    {
     "name": "stderr",
     "output_type": "stream",
     "text": [
      "\u001b[36m(ClientAppActor pid=2909872)\u001b[0m \u001b[93mWARNING \u001b[0m:   Deprecation Warning: The `client_fn` function must return an instance of `Client`, but an instance of `NumpyClient` was returned. Please use `NumPyClient.to_client()` method to convert it to `Client`.\n"
     ]
    },
    {
     "name": "stdout",
     "output_type": "stream",
     "text": [
      "\u001b[36m(ClientAppActor pid=2909872)\u001b[0m [Client 1] fit, config: {'lr': 0.003}\n",
      "\u001b[36m(ClientAppActor pid=2909872)\u001b[0m Updating parameters 1015\n",
      "\u001b[36m(ClientAppActor pid=2909872)\u001b[0m Setting parameters...\n",
      "\u001b[36m(ClientAppActor pid=2909872)\u001b[0m Client parameters set\n",
      "\u001b[36m(ClientAppActor pid=2909872)\u001b[0m Starting client training...\n",
      "\u001b[36m(ClientAppActor pid=2909872)\u001b[0m Running epoch 0/5\n",
      "\u001b[36m(ClientAppActor pid=2909872)\u001b[0m Epoch 1: train loss 0.6722292945935175, accuracy 0.5128205128205128\n",
      "\u001b[36m(ClientAppActor pid=2909872)\u001b[0m Running epoch 1/5\n",
      "\u001b[36m(ClientAppActor pid=2909872)\u001b[0m Epoch 2: train loss 0.1602163375952305, accuracy 1.0\n",
      "\u001b[36m(ClientAppActor pid=2909872)\u001b[0m Running epoch 2/5\n",
      "\u001b[36m(ClientAppActor pid=2909872)\u001b[0m Epoch 3: train loss 0.09151431707999645, accuracy 1.0\n",
      "\u001b[36m(ClientAppActor pid=2909872)\u001b[0m Running epoch 3/5\n",
      "\u001b[36m(ClientAppActor pid=2909872)\u001b[0m Epoch 4: train loss 0.032455763612420134, accuracy 1.0\n",
      "\u001b[36m(ClientAppActor pid=2909872)\u001b[0m Running epoch 4/5\n",
      "\u001b[36m(ClientAppActor pid=2909872)\u001b[0m Epoch 5: train loss 0.02062657857552553, accuracy 1.0\n",
      "\u001b[36m(ClientAppActor pid=2909872)\u001b[0m Training completed!\n",
      "\u001b[36m(ClientAppActor pid=2909872)\u001b[0m Length of params: 1015\n"
     ]
    },
    {
     "name": "stderr",
     "output_type": "stream",
     "text": [
      "\u001b[36m(ClientAppActor pid=2909872)\u001b[0m \u001b[93mWARNING \u001b[0m:   Deprecation Warning: The `client_fn` function must return an instance of `Client`, but an instance of `NumpyClient` was returned. Please use `NumPyClient.to_client()` method to convert it to `Client`.\n"
     ]
    },
    {
     "name": "stdout",
     "output_type": "stream",
     "text": [
      "\u001b[36m(ClientAppActor pid=2909872)\u001b[0m [Client 4] fit, config: {'lr': 0.003}\n",
      "\u001b[36m(ClientAppActor pid=2909872)\u001b[0m Updating parameters 1015\n",
      "\u001b[36m(ClientAppActor pid=2909872)\u001b[0m Setting parameters...\n",
      "\u001b[36m(ClientAppActor pid=2909872)\u001b[0m Client parameters set\n",
      "\u001b[36m(ClientAppActor pid=2909872)\u001b[0m Starting client training...\n",
      "\u001b[36m(ClientAppActor pid=2909872)\u001b[0m Running epoch 0/5\n",
      "\u001b[36m(ClientAppActor pid=2909872)\u001b[0m Epoch 1: train loss 0.7460905075073242, accuracy 0.475\n",
      "\u001b[36m(ClientAppActor pid=2909872)\u001b[0m Running epoch 1/5\n",
      "\u001b[36m(ClientAppActor pid=2909872)\u001b[0m Epoch 2: train loss 0.16581224501132966, accuracy 1.0\n",
      "\u001b[36m(ClientAppActor pid=2909872)\u001b[0m Running epoch 2/5\n",
      "\u001b[36m(ClientAppActor pid=2909872)\u001b[0m Epoch 3: train loss 0.07094041034579276, accuracy 1.0\n",
      "\u001b[36m(ClientAppActor pid=2909872)\u001b[0m Running epoch 3/5\n",
      "\u001b[36m(ClientAppActor pid=2909872)\u001b[0m Epoch 4: train loss 0.03809710554778576, accuracy 1.0\n",
      "\u001b[36m(ClientAppActor pid=2909872)\u001b[0m Running epoch 4/5\n",
      "\u001b[36m(ClientAppActor pid=2909872)\u001b[0m Epoch 5: train loss 0.02165393382310867, accuracy 1.0\n",
      "\u001b[36m(ClientAppActor pid=2909872)\u001b[0m Training completed!\n",
      "\u001b[36m(ClientAppActor pid=2909872)\u001b[0m Length of params: 1015\n"
     ]
    },
    {
     "name": "stderr",
     "output_type": "stream",
     "text": [
      "\u001b[36m(ClientAppActor pid=2909872)\u001b[0m \u001b[93mWARNING \u001b[0m:   Deprecation Warning: The `client_fn` function must return an instance of `Client`, but an instance of `NumpyClient` was returned. Please use `NumPyClient.to_client()` method to convert it to `Client`.\n"
     ]
    },
    {
     "name": "stdout",
     "output_type": "stream",
     "text": [
      "\u001b[36m(ClientAppActor pid=2909872)\u001b[0m [Client 3] fit, config: {'lr': 0.003}\n",
      "\u001b[36m(ClientAppActor pid=2909872)\u001b[0m Updating parameters 1015\n",
      "\u001b[36m(ClientAppActor pid=2909872)\u001b[0m Setting parameters...\n",
      "\u001b[36m(ClientAppActor pid=2909872)\u001b[0m Client parameters set\n",
      "\u001b[36m(ClientAppActor pid=2909872)\u001b[0m Starting client training...\n",
      "\u001b[36m(ClientAppActor pid=2909872)\u001b[0m Running epoch 0/5\n",
      "\u001b[36m(ClientAppActor pid=2909872)\u001b[0m Epoch 1: train loss 0.6939351696234483, accuracy 0.6153846153846154\n",
      "\u001b[36m(ClientAppActor pid=2909872)\u001b[0m Running epoch 1/5\n",
      "\u001b[36m(ClientAppActor pid=2909872)\u001b[0m Epoch 2: train loss 0.15679780145486197, accuracy 1.0\n",
      "\u001b[36m(ClientAppActor pid=2909872)\u001b[0m Running epoch 2/5\n",
      "\u001b[36m(ClientAppActor pid=2909872)\u001b[0m Epoch 3: train loss 0.07289951944198364, accuracy 1.0\n",
      "\u001b[36m(ClientAppActor pid=2909872)\u001b[0m Running epoch 3/5\n",
      "\u001b[36m(ClientAppActor pid=2909872)\u001b[0m Epoch 4: train loss 0.04494356612364451, accuracy 1.0\n",
      "\u001b[36m(ClientAppActor pid=2909872)\u001b[0m Running epoch 4/5\n"
     ]
    },
    {
     "name": "stderr",
     "output_type": "stream",
     "text": [
      "\u001b[92mINFO \u001b[0m:      aggregate_fit: received 5 results and 0 failures\n"
     ]
    },
    {
     "name": "stdout",
     "output_type": "stream",
     "text": [
      "\u001b[36m(ClientAppActor pid=2909872)\u001b[0m Epoch 5: train loss 0.03842167174204802, accuracy 1.0\n",
      "\u001b[36m(ClientAppActor pid=2909872)\u001b[0m Training completed!\n",
      "\u001b[36m(ClientAppActor pid=2909872)\u001b[0m Length of params: 1015\n",
      "Evaluating global model\n",
      "Updating parameters 1015\n",
      "Setting parameters...\n",
      "Parameter set\n",
      "Starting client validation...\n",
      "Validataion accuracy = 0.8666666666666667\n",
      "Global evaluation round 1 loss = 0.02617429941892624 accuracy = 0.8666666666666667\n"
     ]
    },
    {
     "name": "stderr",
     "output_type": "stream",
     "text": [
      "\u001b[92mINFO \u001b[0m:      fit progress: (1, 0.02617429941892624, {}, 354.2710280639585)\n",
      "\u001b[92mINFO \u001b[0m:      configure_evaluate: strategy sampled 5 clients (out of 5)\n"
     ]
    },
    {
     "name": "stdout",
     "output_type": "stream",
     "text": [
      "Model saved at ./fl_checkpointsdensenet169_e5_c5_r10/fl_densenet_1.pth\n"
     ]
    },
    {
     "name": "stderr",
     "output_type": "stream",
     "text": [
      "\u001b[36m(ClientAppActor pid=2909872)\u001b[0m \u001b[93mWARNING \u001b[0m:   Deprecation Warning: The `client_fn` function must return an instance of `Client`, but an instance of `NumpyClient` was returned. Please use `NumPyClient.to_client()` method to convert it to `Client`.\n"
     ]
    },
    {
     "name": "stdout",
     "output_type": "stream",
     "text": [
      "\u001b[36m(ClientAppActor pid=2909872)\u001b[0m [Client 3] evaluate, config: {}\n",
      "\u001b[36m(ClientAppActor pid=2909872)\u001b[0m Updating parameters 1015\n",
      "\u001b[36m(ClientAppActor pid=2909872)\u001b[0m Setting parameters...\n",
      "\u001b[36m(ClientAppActor pid=2909872)\u001b[0m Starting client validation...\n",
      "\u001b[36m(ClientAppActor pid=2909872)\u001b[0m Validataion accuracy = 0.8666666666666667\n",
      "\u001b[36m(ClientAppActor pid=2909872)\u001b[0m Evaluation loss = 0.02617429941892624 accuracy = 0.8666666666666667\n"
     ]
    },
    {
     "name": "stderr",
     "output_type": "stream",
     "text": [
      "\u001b[36m(ClientAppActor pid=2909872)\u001b[0m \u001b[93mWARNING \u001b[0m:   Deprecation Warning: The `client_fn` function must return an instance of `Client`, but an instance of `NumpyClient` was returned. Please use `NumPyClient.to_client()` method to convert it to `Client`.\n"
     ]
    },
    {
     "name": "stdout",
     "output_type": "stream",
     "text": [
      "\u001b[36m(ClientAppActor pid=2909872)\u001b[0m [Client 1] evaluate, config: {}\n",
      "\u001b[36m(ClientAppActor pid=2909872)\u001b[0m Updating parameters 1015\n",
      "\u001b[36m(ClientAppActor pid=2909872)\u001b[0m Setting parameters...\n",
      "\u001b[36m(ClientAppActor pid=2909872)\u001b[0m Starting client validation...\n",
      "\u001b[36m(ClientAppActor pid=2909872)\u001b[0m Validataion accuracy = 0.8666666666666667\n",
      "\u001b[36m(ClientAppActor pid=2909872)\u001b[0m Evaluation loss = 0.02617429941892624 accuracy = 0.8666666666666667\n"
     ]
    },
    {
     "name": "stderr",
     "output_type": "stream",
     "text": [
      "\u001b[36m(ClientAppActor pid=2909872)\u001b[0m \u001b[93mWARNING \u001b[0m:   Deprecation Warning: The `client_fn` function must return an instance of `Client`, but an instance of `NumpyClient` was returned. Please use `NumPyClient.to_client()` method to convert it to `Client`.\n"
     ]
    },
    {
     "name": "stdout",
     "output_type": "stream",
     "text": [
      "\u001b[36m(ClientAppActor pid=2909872)\u001b[0m [Client 0] evaluate, config: {}\n",
      "\u001b[36m(ClientAppActor pid=2909872)\u001b[0m Updating parameters 1015\n",
      "\u001b[36m(ClientAppActor pid=2909872)\u001b[0m Setting parameters...\n",
      "\u001b[36m(ClientAppActor pid=2909872)\u001b[0m Starting client validation...\n",
      "\u001b[36m(ClientAppActor pid=2909872)\u001b[0m Validataion accuracy = 0.8666666666666667\n",
      "\u001b[36m(ClientAppActor pid=2909872)\u001b[0m Evaluation loss = 0.02617429941892624 accuracy = 0.8666666666666667\n"
     ]
    },
    {
     "name": "stderr",
     "output_type": "stream",
     "text": [
      "\u001b[36m(ClientAppActor pid=2909872)\u001b[0m \u001b[93mWARNING \u001b[0m:   Deprecation Warning: The `client_fn` function must return an instance of `Client`, but an instance of `NumpyClient` was returned. Please use `NumPyClient.to_client()` method to convert it to `Client`.\n"
     ]
    },
    {
     "name": "stdout",
     "output_type": "stream",
     "text": [
      "\u001b[36m(ClientAppActor pid=2909872)\u001b[0m [Client 4] evaluate, config: {}\n",
      "\u001b[36m(ClientAppActor pid=2909872)\u001b[0m Updating parameters 1015\n",
      "\u001b[36m(ClientAppActor pid=2909872)\u001b[0m Setting parameters...\n",
      "\u001b[36m(ClientAppActor pid=2909872)\u001b[0m Starting client validation...\n",
      "\u001b[36m(ClientAppActor pid=2909872)\u001b[0m Validataion accuracy = 0.8666666666666667\n",
      "\u001b[36m(ClientAppActor pid=2909872)\u001b[0m Evaluation loss = 0.02617429941892624 accuracy = 0.8666666666666667\n"
     ]
    },
    {
     "name": "stderr",
     "output_type": "stream",
     "text": [
      "\u001b[36m(ClientAppActor pid=2909872)\u001b[0m \u001b[93mWARNING \u001b[0m:   Deprecation Warning: The `client_fn` function must return an instance of `Client`, but an instance of `NumpyClient` was returned. Please use `NumPyClient.to_client()` method to convert it to `Client`.\n"
     ]
    },
    {
     "name": "stdout",
     "output_type": "stream",
     "text": [
      "\u001b[36m(ClientAppActor pid=2909872)\u001b[0m [Client 2] evaluate, config: {}\n",
      "\u001b[36m(ClientAppActor pid=2909872)\u001b[0m Updating parameters 1015\n",
      "\u001b[36m(ClientAppActor pid=2909872)\u001b[0m Setting parameters...\n",
      "\u001b[36m(ClientAppActor pid=2909872)\u001b[0m Starting client validation...\n"
     ]
    },
    {
     "name": "stderr",
     "output_type": "stream",
     "text": [
      "\u001b[92mINFO \u001b[0m:      aggregate_evaluate: received 5 results and 0 failures\n",
      "\u001b[92mINFO \u001b[0m:      \n",
      "\u001b[92mINFO \u001b[0m:      [ROUND 2]\n",
      "\u001b[92mINFO \u001b[0m:      configure_fit: strategy sampled 5 clients (out of 5)\n"
     ]
    },
    {
     "name": "stdout",
     "output_type": "stream",
     "text": [
      "Starting configure fit function...\n",
      "Sample size = 5 Min Num Clients = 2 Clients = [<flwr.simulation.ray_transport.ray_client_proxy.RayActorClientProxy object at 0x15535efa5550>, <flwr.simulation.ray_transport.ray_client_proxy.RayActorClientProxy object at 0x15535efa4350>, <flwr.simulation.ray_transport.ray_client_proxy.RayActorClientProxy object at 0x15535efa5990>, <flwr.simulation.ray_transport.ray_client_proxy.RayActorClientProxy object at 0x15535efa5710>, <flwr.simulation.ray_transport.ray_client_proxy.RayActorClientProxy object at 0x15535efa6410>]\n",
      "Number of clients = 5\n",
      "Fit Configurations\n",
      "\u001b[36m(ClientAppActor pid=2909872)\u001b[0m Validataion accuracy = 0.8666666666666667\n",
      "\u001b[36m(ClientAppActor pid=2909872)\u001b[0m Evaluation loss = 0.02617429941892624 accuracy = 0.8666666666666667\n"
     ]
    },
    {
     "name": "stderr",
     "output_type": "stream",
     "text": [
      "\u001b[36m(ClientAppActor pid=2909872)\u001b[0m \u001b[93mWARNING \u001b[0m:   Deprecation Warning: The `client_fn` function must return an instance of `Client`, but an instance of `NumpyClient` was returned. Please use `NumPyClient.to_client()` method to convert it to `Client`.\n"
     ]
    },
    {
     "name": "stdout",
     "output_type": "stream",
     "text": [
      "\u001b[36m(ClientAppActor pid=2909872)\u001b[0m [Client 3] fit, config: {'lr': 0.001}\n",
      "\u001b[36m(ClientAppActor pid=2909872)\u001b[0m Updating parameters 1015\n",
      "\u001b[36m(ClientAppActor pid=2909872)\u001b[0m Setting parameters...\n",
      "\u001b[36m(ClientAppActor pid=2909872)\u001b[0m Client parameters set\n",
      "\u001b[36m(ClientAppActor pid=2909872)\u001b[0m Starting client training...\n",
      "\u001b[36m(ClientAppActor pid=2909872)\u001b[0m Running epoch 0/5\n",
      "\u001b[36m(ClientAppActor pid=2909872)\u001b[0m Epoch 1: train loss 0.094419464468956, accuracy 0.9743589743589743\n",
      "\u001b[36m(ClientAppActor pid=2909872)\u001b[0m Running epoch 1/5\n",
      "\u001b[36m(ClientAppActor pid=2909872)\u001b[0m Epoch 2: train loss 0.028957361450944193, accuracy 1.0\n",
      "\u001b[36m(ClientAppActor pid=2909872)\u001b[0m Running epoch 2/5\n",
      "\u001b[36m(ClientAppActor pid=2909872)\u001b[0m Epoch 3: train loss 0.018726267613088474, accuracy 1.0\n",
      "\u001b[36m(ClientAppActor pid=2909872)\u001b[0m Running epoch 3/5\n",
      "\u001b[36m(ClientAppActor pid=2909872)\u001b[0m Epoch 4: train loss 0.009245117875532461, accuracy 1.0\n",
      "\u001b[36m(ClientAppActor pid=2909872)\u001b[0m Running epoch 4/5\n",
      "\u001b[36m(ClientAppActor pid=2909872)\u001b[0m Epoch 5: train loss 0.006126192302849048, accuracy 1.0\n",
      "\u001b[36m(ClientAppActor pid=2909872)\u001b[0m Training completed!\n",
      "\u001b[36m(ClientAppActor pid=2909872)\u001b[0m Length of params: 1015\n"
     ]
    },
    {
     "name": "stderr",
     "output_type": "stream",
     "text": [
      "\u001b[36m(ClientAppActor pid=2909872)\u001b[0m \u001b[93mWARNING \u001b[0m:   Deprecation Warning: The `client_fn` function must return an instance of `Client`, but an instance of `NumpyClient` was returned. Please use `NumPyClient.to_client()` method to convert it to `Client`.\n"
     ]
    },
    {
     "name": "stdout",
     "output_type": "stream",
     "text": [
      "\u001b[36m(ClientAppActor pid=2909872)\u001b[0m [Client 4] fit, config: {'lr': 0.001}\n",
      "\u001b[36m(ClientAppActor pid=2909872)\u001b[0m Updating parameters 1015\n",
      "\u001b[36m(ClientAppActor pid=2909872)\u001b[0m Setting parameters...\n",
      "\u001b[36m(ClientAppActor pid=2909872)\u001b[0m Client parameters set\n",
      "\u001b[36m(ClientAppActor pid=2909872)\u001b[0m Starting client training...\n",
      "\u001b[36m(ClientAppActor pid=2909872)\u001b[0m Running epoch 0/5\n",
      "\u001b[36m(ClientAppActor pid=2909872)\u001b[0m Epoch 1: train loss 0.14561640620231628, accuracy 0.925\n",
      "\u001b[36m(ClientAppActor pid=2909872)\u001b[0m Running epoch 1/5\n",
      "\u001b[36m(ClientAppActor pid=2909872)\u001b[0m Epoch 2: train loss 0.03713453039526939, accuracy 1.0\n",
      "\u001b[36m(ClientAppActor pid=2909872)\u001b[0m Running epoch 2/5\n",
      "\u001b[36m(ClientAppActor pid=2909872)\u001b[0m Epoch 3: train loss 0.01907370463013649, accuracy 1.0\n",
      "\u001b[36m(ClientAppActor pid=2909872)\u001b[0m Running epoch 3/5\n",
      "\u001b[36m(ClientAppActor pid=2909872)\u001b[0m Epoch 4: train loss 0.04407147318124771, accuracy 1.0\n",
      "\u001b[36m(ClientAppActor pid=2909872)\u001b[0m Running epoch 4/5\n",
      "\u001b[36m(ClientAppActor pid=2909872)\u001b[0m Epoch 5: train loss 0.009706185664981604, accuracy 1.0\n",
      "\u001b[36m(ClientAppActor pid=2909872)\u001b[0m Training completed!\n",
      "\u001b[36m(ClientAppActor pid=2909872)\u001b[0m Length of params: 1015\n"
     ]
    },
    {
     "name": "stderr",
     "output_type": "stream",
     "text": [
      "\u001b[36m(ClientAppActor pid=2909872)\u001b[0m \u001b[93mWARNING \u001b[0m:   Deprecation Warning: The `client_fn` function must return an instance of `Client`, but an instance of `NumpyClient` was returned. Please use `NumPyClient.to_client()` method to convert it to `Client`.\n"
     ]
    },
    {
     "name": "stdout",
     "output_type": "stream",
     "text": [
      "\u001b[36m(ClientAppActor pid=2909872)\u001b[0m [Client 2] fit, config: {'lr': 0.003}\n",
      "\u001b[36m(ClientAppActor pid=2909872)\u001b[0m Updating parameters 1015\n",
      "\u001b[36m(ClientAppActor pid=2909872)\u001b[0m Setting parameters...\n",
      "\u001b[36m(ClientAppActor pid=2909872)\u001b[0m Client parameters set\n",
      "\u001b[36m(ClientAppActor pid=2909872)\u001b[0m Starting client training...\n",
      "\u001b[36m(ClientAppActor pid=2909872)\u001b[0m Running epoch 0/5\n",
      "\u001b[36m(ClientAppActor pid=2909872)\u001b[0m Epoch 1: train loss 0.0905112685301365, accuracy 1.0\n",
      "\u001b[36m(ClientAppActor pid=2909872)\u001b[0m Running epoch 1/5\n",
      "\u001b[36m(ClientAppActor pid=2909872)\u001b[0m Epoch 2: train loss 0.026955937441342916, accuracy 1.0\n",
      "\u001b[36m(ClientAppActor pid=2909872)\u001b[0m Running epoch 2/5\n",
      "\u001b[36m(ClientAppActor pid=2909872)\u001b[0m Epoch 3: train loss 0.0110948480761204, accuracy 1.0\n",
      "\u001b[36m(ClientAppActor pid=2909872)\u001b[0m Running epoch 3/5\n",
      "\u001b[36m(ClientAppActor pid=2909872)\u001b[0m Epoch 4: train loss 0.011508702849730467, accuracy 1.0\n",
      "\u001b[36m(ClientAppActor pid=2909872)\u001b[0m Running epoch 4/5\n",
      "\u001b[36m(ClientAppActor pid=2909872)\u001b[0m Epoch 5: train loss 0.005913992507908589, accuracy 1.0\n",
      "\u001b[36m(ClientAppActor pid=2909872)\u001b[0m Training completed!\n",
      "\u001b[36m(ClientAppActor pid=2909872)\u001b[0m Length of params: 1015\n"
     ]
    },
    {
     "name": "stderr",
     "output_type": "stream",
     "text": [
      "\u001b[36m(ClientAppActor pid=2909872)\u001b[0m \u001b[93mWARNING \u001b[0m:   Deprecation Warning: The `client_fn` function must return an instance of `Client`, but an instance of `NumpyClient` was returned. Please use `NumPyClient.to_client()` method to convert it to `Client`.\n"
     ]
    },
    {
     "name": "stdout",
     "output_type": "stream",
     "text": [
      "\u001b[36m(ClientAppActor pid=2909872)\u001b[0m [Client 0] fit, config: {'lr': 0.003}\n",
      "\u001b[36m(ClientAppActor pid=2909872)\u001b[0m Updating parameters 1015\n",
      "\u001b[36m(ClientAppActor pid=2909872)\u001b[0m Setting parameters...\n",
      "\u001b[36m(ClientAppActor pid=2909872)\u001b[0m Client parameters set\n",
      "\u001b[36m(ClientAppActor pid=2909872)\u001b[0m Starting client training...\n",
      "\u001b[36m(ClientAppActor pid=2909872)\u001b[0m Running epoch 0/5\n",
      "\u001b[36m(ClientAppActor pid=2909872)\u001b[0m Epoch 1: train loss 0.10599771457222792, accuracy 0.9487179487179487\n",
      "\u001b[36m(ClientAppActor pid=2909872)\u001b[0m Running epoch 1/5\n",
      "\u001b[36m(ClientAppActor pid=2909872)\u001b[0m Epoch 2: train loss 0.04169516924482126, accuracy 1.0\n",
      "\u001b[36m(ClientAppActor pid=2909872)\u001b[0m Running epoch 2/5\n",
      "\u001b[36m(ClientAppActor pid=2909872)\u001b[0m Epoch 3: train loss 0.016281897727495585, accuracy 1.0\n",
      "\u001b[36m(ClientAppActor pid=2909872)\u001b[0m Running epoch 3/5\n",
      "\u001b[36m(ClientAppActor pid=2909872)\u001b[0m Epoch 4: train loss 0.01167920422859681, accuracy 1.0\n",
      "\u001b[36m(ClientAppActor pid=2909872)\u001b[0m Running epoch 4/5\n",
      "\u001b[36m(ClientAppActor pid=2909872)\u001b[0m Epoch 5: train loss 0.0068894903629254075, accuracy 1.0\n",
      "\u001b[36m(ClientAppActor pid=2909872)\u001b[0m Training completed!\n",
      "\u001b[36m(ClientAppActor pid=2909872)\u001b[0m Length of params: 1015\n"
     ]
    },
    {
     "name": "stderr",
     "output_type": "stream",
     "text": [
      "\u001b[36m(ClientAppActor pid=2909872)\u001b[0m \u001b[93mWARNING \u001b[0m:   Deprecation Warning: The `client_fn` function must return an instance of `Client`, but an instance of `NumpyClient` was returned. Please use `NumPyClient.to_client()` method to convert it to `Client`.\n"
     ]
    },
    {
     "name": "stdout",
     "output_type": "stream",
     "text": [
      "\u001b[36m(ClientAppActor pid=2909872)\u001b[0m [Client 1] fit, config: {'lr': 0.003}\n",
      "\u001b[36m(ClientAppActor pid=2909872)\u001b[0m Updating parameters 1015\n",
      "\u001b[36m(ClientAppActor pid=2909872)\u001b[0m Setting parameters...\n",
      "\u001b[36m(ClientAppActor pid=2909872)\u001b[0m Client parameters set\n",
      "\u001b[36m(ClientAppActor pid=2909872)\u001b[0m Starting client training...\n",
      "\u001b[36m(ClientAppActor pid=2909872)\u001b[0m Running epoch 0/5\n",
      "\u001b[36m(ClientAppActor pid=2909872)\u001b[0m Epoch 1: train loss 0.2822026721177957, accuracy 0.8461538461538461\n",
      "\u001b[36m(ClientAppActor pid=2909872)\u001b[0m Running epoch 1/5\n",
      "\u001b[36m(ClientAppActor pid=2909872)\u001b[0m Epoch 2: train loss 0.06926188551080532, accuracy 1.0\n",
      "\u001b[36m(ClientAppActor pid=2909872)\u001b[0m Running epoch 2/5\n",
      "\u001b[36m(ClientAppActor pid=2909872)\u001b[0m Epoch 3: train loss 0.06551161828713539, accuracy 1.0\n",
      "\u001b[36m(ClientAppActor pid=2909872)\u001b[0m Running epoch 3/5\n",
      "\u001b[36m(ClientAppActor pid=2909872)\u001b[0m Epoch 4: train loss 0.035315330211932845, accuracy 1.0\n",
      "\u001b[36m(ClientAppActor pid=2909872)\u001b[0m Running epoch 4/5\n",
      "\u001b[36m(ClientAppActor pid=2909872)\u001b[0m Epoch 5: train loss 0.021411514148498192, accuracy 1.0\n",
      "\u001b[36m(ClientAppActor pid=2909872)\u001b[0m Training completed!\n",
      "\u001b[36m(ClientAppActor pid=2909872)\u001b[0m Length of params: 1015\n"
     ]
    },
    {
     "name": "stderr",
     "output_type": "stream",
     "text": [
      "\u001b[92mINFO \u001b[0m:      aggregate_fit: received 5 results and 0 failures\n"
     ]
    },
    {
     "name": "stdout",
     "output_type": "stream",
     "text": [
      "Evaluating global model\n",
      "Updating parameters 1015\n",
      "Setting parameters...\n",
      "Parameter set\n",
      "Starting client validation...\n",
      "Validataion accuracy = 0.8666666666666667\n",
      "Global evaluation round 2 loss = 0.03568345010280609 accuracy = 0.8666666666666667\n"
     ]
    },
    {
     "name": "stderr",
     "output_type": "stream",
     "text": [
      "\u001b[92mINFO \u001b[0m:      fit progress: (2, 0.03568345010280609, {}, 617.4537918521091)\n",
      "\u001b[92mINFO \u001b[0m:      configure_evaluate: strategy sampled 5 clients (out of 5)\n"
     ]
    },
    {
     "name": "stdout",
     "output_type": "stream",
     "text": [
      "Model saved at ./fl_checkpointsdensenet169_e5_c5_r10/fl_densenet_2.pth\n"
     ]
    },
    {
     "name": "stderr",
     "output_type": "stream",
     "text": [
      "\u001b[36m(ClientAppActor pid=2909872)\u001b[0m \u001b[93mWARNING \u001b[0m:   Deprecation Warning: The `client_fn` function must return an instance of `Client`, but an instance of `NumpyClient` was returned. Please use `NumPyClient.to_client()` method to convert it to `Client`.\n"
     ]
    },
    {
     "name": "stdout",
     "output_type": "stream",
     "text": [
      "\u001b[36m(ClientAppActor pid=2909872)\u001b[0m [Client 4] evaluate, config: {}\n",
      "\u001b[36m(ClientAppActor pid=2909872)\u001b[0m Updating parameters 1015\n",
      "\u001b[36m(ClientAppActor pid=2909872)\u001b[0m Setting parameters...\n",
      "\u001b[36m(ClientAppActor pid=2909872)\u001b[0m Starting client validation...\n",
      "\u001b[36m(ClientAppActor pid=2909872)\u001b[0m Validataion accuracy = 0.8666666666666667\n",
      "\u001b[36m(ClientAppActor pid=2909872)\u001b[0m Evaluation loss = 0.03568345010280609 accuracy = 0.8666666666666667\n"
     ]
    },
    {
     "name": "stderr",
     "output_type": "stream",
     "text": [
      "\u001b[36m(ClientAppActor pid=2909872)\u001b[0m \u001b[93mWARNING \u001b[0m:   Deprecation Warning: The `client_fn` function must return an instance of `Client`, but an instance of `NumpyClient` was returned. Please use `NumPyClient.to_client()` method to convert it to `Client`.\n"
     ]
    },
    {
     "name": "stdout",
     "output_type": "stream",
     "text": [
      "\u001b[36m(ClientAppActor pid=2909872)\u001b[0m [Client 3] evaluate, config: {}\n",
      "\u001b[36m(ClientAppActor pid=2909872)\u001b[0m Updating parameters 1015\n",
      "\u001b[36m(ClientAppActor pid=2909872)\u001b[0m Setting parameters...\n",
      "\u001b[36m(ClientAppActor pid=2909872)\u001b[0m Starting client validation...\n",
      "\u001b[36m(ClientAppActor pid=2909872)\u001b[0m Validataion accuracy = 0.8666666666666667\n",
      "\u001b[36m(ClientAppActor pid=2909872)\u001b[0m Evaluation loss = 0.03568345010280609 accuracy = 0.8666666666666667\n"
     ]
    },
    {
     "name": "stderr",
     "output_type": "stream",
     "text": [
      "\u001b[36m(ClientAppActor pid=2909872)\u001b[0m \u001b[93mWARNING \u001b[0m:   Deprecation Warning: The `client_fn` function must return an instance of `Client`, but an instance of `NumpyClient` was returned. Please use `NumPyClient.to_client()` method to convert it to `Client`.\n"
     ]
    },
    {
     "name": "stdout",
     "output_type": "stream",
     "text": [
      "\u001b[36m(ClientAppActor pid=2909872)\u001b[0m [Client 2] evaluate, config: {}\n",
      "\u001b[36m(ClientAppActor pid=2909872)\u001b[0m Updating parameters 1015\n",
      "\u001b[36m(ClientAppActor pid=2909872)\u001b[0m Setting parameters...\n",
      "\u001b[36m(ClientAppActor pid=2909872)\u001b[0m Starting client validation...\n",
      "\u001b[36m(ClientAppActor pid=2909872)\u001b[0m Validataion accuracy = 0.8666666666666667\n",
      "\u001b[36m(ClientAppActor pid=2909872)\u001b[0m Evaluation loss = 0.03568345010280609 accuracy = 0.8666666666666667\n"
     ]
    },
    {
     "name": "stderr",
     "output_type": "stream",
     "text": [
      "\u001b[36m(ClientAppActor pid=2909872)\u001b[0m \u001b[93mWARNING \u001b[0m:   Deprecation Warning: The `client_fn` function must return an instance of `Client`, but an instance of `NumpyClient` was returned. Please use `NumPyClient.to_client()` method to convert it to `Client`.\n"
     ]
    },
    {
     "name": "stdout",
     "output_type": "stream",
     "text": [
      "\u001b[36m(ClientAppActor pid=2909872)\u001b[0m [Client 1] evaluate, config: {}\n",
      "\u001b[36m(ClientAppActor pid=2909872)\u001b[0m Updating parameters 1015\n",
      "\u001b[36m(ClientAppActor pid=2909872)\u001b[0m Setting parameters...\n",
      "\u001b[36m(ClientAppActor pid=2909872)\u001b[0m Starting client validation...\n",
      "\u001b[36m(ClientAppActor pid=2909872)\u001b[0m Validataion accuracy = 0.8666666666666667\n",
      "\u001b[36m(ClientAppActor pid=2909872)\u001b[0m Evaluation loss = 0.03568345010280609 accuracy = 0.8666666666666667\n"
     ]
    },
    {
     "name": "stderr",
     "output_type": "stream",
     "text": [
      "\u001b[36m(ClientAppActor pid=2909872)\u001b[0m \u001b[93mWARNING \u001b[0m:   Deprecation Warning: The `client_fn` function must return an instance of `Client`, but an instance of `NumpyClient` was returned. Please use `NumPyClient.to_client()` method to convert it to `Client`.\n"
     ]
    },
    {
     "name": "stdout",
     "output_type": "stream",
     "text": [
      "\u001b[36m(ClientAppActor pid=2909872)\u001b[0m [Client 0] evaluate, config: {}\n",
      "\u001b[36m(ClientAppActor pid=2909872)\u001b[0m Updating parameters 1015\n",
      "\u001b[36m(ClientAppActor pid=2909872)\u001b[0m Setting parameters...\n",
      "\u001b[36m(ClientAppActor pid=2909872)\u001b[0m Starting client validation...\n"
     ]
    },
    {
     "name": "stderr",
     "output_type": "stream",
     "text": [
      "\u001b[92mINFO \u001b[0m:      aggregate_evaluate: received 5 results and 0 failures\n",
      "\u001b[92mINFO \u001b[0m:      \n",
      "\u001b[92mINFO \u001b[0m:      [ROUND 3]\n",
      "\u001b[92mINFO \u001b[0m:      configure_fit: strategy sampled 5 clients (out of 5)\n"
     ]
    },
    {
     "name": "stdout",
     "output_type": "stream",
     "text": [
      "Starting configure fit function...\n",
      "Sample size = 5 Min Num Clients = 2 Clients = [<flwr.simulation.ray_transport.ray_client_proxy.RayActorClientProxy object at 0x15535efa6410>, <flwr.simulation.ray_transport.ray_client_proxy.RayActorClientProxy object at 0x15535efa4350>, <flwr.simulation.ray_transport.ray_client_proxy.RayActorClientProxy object at 0x15535efa5990>, <flwr.simulation.ray_transport.ray_client_proxy.RayActorClientProxy object at 0x15535efa5710>, <flwr.simulation.ray_transport.ray_client_proxy.RayActorClientProxy object at 0x15535efa5550>]\n",
      "Number of clients = 5\n",
      "Fit Configurations\n",
      "\u001b[36m(ClientAppActor pid=2909872)\u001b[0m Validataion accuracy = 0.8666666666666667\n",
      "\u001b[36m(ClientAppActor pid=2909872)\u001b[0m Evaluation loss = 0.03568345010280609 accuracy = 0.8666666666666667\n"
     ]
    },
    {
     "name": "stderr",
     "output_type": "stream",
     "text": [
      "\u001b[36m(ClientAppActor pid=2909872)\u001b[0m \u001b[93mWARNING \u001b[0m:   Deprecation Warning: The `client_fn` function must return an instance of `Client`, but an instance of `NumpyClient` was returned. Please use `NumPyClient.to_client()` method to convert it to `Client`.\n"
     ]
    },
    {
     "name": "stdout",
     "output_type": "stream",
     "text": [
      "\u001b[36m(ClientAppActor pid=2909872)\u001b[0m [Client 1] fit, config: {'lr': 0.001}\n",
      "\u001b[36m(ClientAppActor pid=2909872)\u001b[0m Updating parameters 1015\n",
      "\u001b[36m(ClientAppActor pid=2909872)\u001b[0m Setting parameters...\n",
      "\u001b[36m(ClientAppActor pid=2909872)\u001b[0m Client parameters set\n",
      "\u001b[36m(ClientAppActor pid=2909872)\u001b[0m Starting client training...\n",
      "\u001b[36m(ClientAppActor pid=2909872)\u001b[0m Running epoch 0/5\n",
      "\u001b[36m(ClientAppActor pid=2909872)\u001b[0m Epoch 1: train loss 0.04178087112422173, accuracy 1.0\n",
      "\u001b[36m(ClientAppActor pid=2909872)\u001b[0m Running epoch 1/5\n",
      "\u001b[36m(ClientAppActor pid=2909872)\u001b[0m Epoch 2: train loss 0.007883836300327228, accuracy 1.0\n",
      "\u001b[36m(ClientAppActor pid=2909872)\u001b[0m Running epoch 2/5\n",
      "\u001b[36m(ClientAppActor pid=2909872)\u001b[0m Epoch 3: train loss 0.04673985296334976, accuracy 0.9743589743589743\n",
      "\u001b[36m(ClientAppActor pid=2909872)\u001b[0m Running epoch 3/5\n",
      "\u001b[36m(ClientAppActor pid=2909872)\u001b[0m Epoch 4: train loss 0.0045742772710629, accuracy 1.0\n",
      "\u001b[36m(ClientAppActor pid=2909872)\u001b[0m Running epoch 4/5\n",
      "\u001b[36m(ClientAppActor pid=2909872)\u001b[0m Epoch 5: train loss 0.004656252021399828, accuracy 1.0\n",
      "\u001b[36m(ClientAppActor pid=2909872)\u001b[0m Training completed!\n",
      "\u001b[36m(ClientAppActor pid=2909872)\u001b[0m Length of params: 1015\n"
     ]
    },
    {
     "name": "stderr",
     "output_type": "stream",
     "text": [
      "\u001b[36m(ClientAppActor pid=2909872)\u001b[0m \u001b[93mWARNING \u001b[0m:   Deprecation Warning: The `client_fn` function must return an instance of `Client`, but an instance of `NumpyClient` was returned. Please use `NumPyClient.to_client()` method to convert it to `Client`.\n"
     ]
    },
    {
     "name": "stdout",
     "output_type": "stream",
     "text": [
      "\u001b[36m(ClientAppActor pid=2909872)\u001b[0m [Client 4] fit, config: {'lr': 0.001}\n",
      "\u001b[36m(ClientAppActor pid=2909872)\u001b[0m Updating parameters 1015\n",
      "\u001b[36m(ClientAppActor pid=2909872)\u001b[0m Setting parameters...\n",
      "\u001b[36m(ClientAppActor pid=2909872)\u001b[0m Client parameters set\n",
      "\u001b[36m(ClientAppActor pid=2909872)\u001b[0m Starting client training...\n",
      "\u001b[36m(ClientAppActor pid=2909872)\u001b[0m Running epoch 0/5\n",
      "\u001b[36m(ClientAppActor pid=2909872)\u001b[0m Epoch 1: train loss 0.11180672645568848, accuracy 0.95\n",
      "\u001b[36m(ClientAppActor pid=2909872)\u001b[0m Running epoch 1/5\n",
      "\u001b[36m(ClientAppActor pid=2909872)\u001b[0m Epoch 2: train loss 0.08646534234285355, accuracy 0.975\n",
      "\u001b[36m(ClientAppActor pid=2909872)\u001b[0m Running epoch 2/5\n",
      "\u001b[36m(ClientAppActor pid=2909872)\u001b[0m Epoch 3: train loss 0.008657827600836753, accuracy 1.0\n",
      "\u001b[36m(ClientAppActor pid=2909872)\u001b[0m Running epoch 3/5\n",
      "\u001b[36m(ClientAppActor pid=2909872)\u001b[0m Epoch 4: train loss 0.03219289742410183, accuracy 1.0\n",
      "\u001b[36m(ClientAppActor pid=2909872)\u001b[0m Running epoch 4/5\n",
      "\u001b[36m(ClientAppActor pid=2909872)\u001b[0m Epoch 5: train loss 0.007021450810134411, accuracy 1.0\n",
      "\u001b[36m(ClientAppActor pid=2909872)\u001b[0m Training completed!\n",
      "\u001b[36m(ClientAppActor pid=2909872)\u001b[0m Length of params: 1015\n"
     ]
    },
    {
     "name": "stderr",
     "output_type": "stream",
     "text": [
      "\u001b[36m(ClientAppActor pid=2909872)\u001b[0m \u001b[93mWARNING \u001b[0m:   Deprecation Warning: The `client_fn` function must return an instance of `Client`, but an instance of `NumpyClient` was returned. Please use `NumPyClient.to_client()` method to convert it to `Client`.\n"
     ]
    },
    {
     "name": "stdout",
     "output_type": "stream",
     "text": [
      "\u001b[36m(ClientAppActor pid=2909872)\u001b[0m [Client 2] fit, config: {'lr': 0.003}\n",
      "\u001b[36m(ClientAppActor pid=2909872)\u001b[0m Updating parameters 1015\n",
      "\u001b[36m(ClientAppActor pid=2909872)\u001b[0m Setting parameters...\n",
      "\u001b[36m(ClientAppActor pid=2909872)\u001b[0m Client parameters set\n",
      "\u001b[36m(ClientAppActor pid=2909872)\u001b[0m Starting client training...\n",
      "\u001b[36m(ClientAppActor pid=2909872)\u001b[0m Running epoch 0/5\n",
      "\u001b[36m(ClientAppActor pid=2909872)\u001b[0m Epoch 1: train loss 0.005715023559064438, accuracy 1.0\n",
      "\u001b[36m(ClientAppActor pid=2909872)\u001b[0m Running epoch 1/5\n",
      "\u001b[36m(ClientAppActor pid=2909872)\u001b[0m Epoch 2: train loss 0.14117441058923036, accuracy 0.9487179487179487\n",
      "\u001b[36m(ClientAppActor pid=2909872)\u001b[0m Running epoch 2/5\n",
      "\u001b[36m(ClientAppActor pid=2909872)\u001b[0m Epoch 3: train loss 0.0023332675053284336, accuracy 1.0\n",
      "\u001b[36m(ClientAppActor pid=2909872)\u001b[0m Running epoch 3/5\n",
      "\u001b[36m(ClientAppActor pid=2909872)\u001b[0m Epoch 4: train loss 0.004559593952786273, accuracy 1.0\n",
      "\u001b[36m(ClientAppActor pid=2909872)\u001b[0m Running epoch 4/5\n",
      "\u001b[36m(ClientAppActor pid=2909872)\u001b[0m Epoch 5: train loss 0.22672913051568544, accuracy 0.9230769230769231\n",
      "\u001b[36m(ClientAppActor pid=2909872)\u001b[0m Training completed!\n",
      "\u001b[36m(ClientAppActor pid=2909872)\u001b[0m Length of params: 1015\n"
     ]
    },
    {
     "name": "stderr",
     "output_type": "stream",
     "text": [
      "\u001b[36m(ClientAppActor pid=2909872)\u001b[0m \u001b[93mWARNING \u001b[0m:   Deprecation Warning: The `client_fn` function must return an instance of `Client`, but an instance of `NumpyClient` was returned. Please use `NumPyClient.to_client()` method to convert it to `Client`.\n"
     ]
    },
    {
     "name": "stdout",
     "output_type": "stream",
     "text": [
      "\u001b[36m(ClientAppActor pid=2909872)\u001b[0m [Client 0] fit, config: {'lr': 0.003}\n",
      "\u001b[36m(ClientAppActor pid=2909872)\u001b[0m Updating parameters 1015\n",
      "\u001b[36m(ClientAppActor pid=2909872)\u001b[0m Setting parameters...\n",
      "\u001b[36m(ClientAppActor pid=2909872)\u001b[0m Client parameters set\n",
      "\u001b[36m(ClientAppActor pid=2909872)\u001b[0m Starting client training...\n",
      "\u001b[36m(ClientAppActor pid=2909872)\u001b[0m Running epoch 0/5\n",
      "\u001b[36m(ClientAppActor pid=2909872)\u001b[0m Epoch 1: train loss 0.03588257811199396, accuracy 0.9743589743589743\n",
      "\u001b[36m(ClientAppActor pid=2909872)\u001b[0m Running epoch 1/5\n",
      "\u001b[36m(ClientAppActor pid=2909872)\u001b[0m Epoch 2: train loss 0.01240067136211273, accuracy 1.0\n",
      "\u001b[36m(ClientAppActor pid=2909872)\u001b[0m Running epoch 2/5\n",
      "\u001b[36m(ClientAppActor pid=2909872)\u001b[0m Epoch 3: train loss 0.022479914319820892, accuracy 1.0\n",
      "\u001b[36m(ClientAppActor pid=2909872)\u001b[0m Running epoch 3/5\n",
      "\u001b[36m(ClientAppActor pid=2909872)\u001b[0m Epoch 4: train loss 0.008066877334689101, accuracy 1.0\n",
      "\u001b[36m(ClientAppActor pid=2909872)\u001b[0m Running epoch 4/5\n",
      "\u001b[36m(ClientAppActor pid=2909872)\u001b[0m Epoch 5: train loss 0.005626152747143538, accuracy 1.0\n",
      "\u001b[36m(ClientAppActor pid=2909872)\u001b[0m Training completed!\n",
      "\u001b[36m(ClientAppActor pid=2909872)\u001b[0m Length of params: 1015\n"
     ]
    },
    {
     "name": "stderr",
     "output_type": "stream",
     "text": [
      "\u001b[36m(ClientAppActor pid=2909872)\u001b[0m \u001b[93mWARNING \u001b[0m:   Deprecation Warning: The `client_fn` function must return an instance of `Client`, but an instance of `NumpyClient` was returned. Please use `NumPyClient.to_client()` method to convert it to `Client`.\n"
     ]
    },
    {
     "name": "stdout",
     "output_type": "stream",
     "text": [
      "\u001b[36m(ClientAppActor pid=2909872)\u001b[0m [Client 3] fit, config: {'lr': 0.003}\n",
      "\u001b[36m(ClientAppActor pid=2909872)\u001b[0m Updating parameters 1015\n",
      "\u001b[36m(ClientAppActor pid=2909872)\u001b[0m Setting parameters...\n",
      "\u001b[36m(ClientAppActor pid=2909872)\u001b[0m Client parameters set\n",
      "\u001b[36m(ClientAppActor pid=2909872)\u001b[0m Starting client training...\n",
      "\u001b[36m(ClientAppActor pid=2909872)\u001b[0m Running epoch 0/5\n",
      "\u001b[36m(ClientAppActor pid=2909872)\u001b[0m Epoch 1: train loss 0.09277717838398157, accuracy 0.9487179487179487\n",
      "\u001b[36m(ClientAppActor pid=2909872)\u001b[0m Running epoch 1/5\n",
      "\u001b[36m(ClientAppActor pid=2909872)\u001b[0m Epoch 2: train loss 0.017027721238824036, accuracy 1.0\n",
      "\u001b[36m(ClientAppActor pid=2909872)\u001b[0m Running epoch 2/5\n",
      "\u001b[36m(ClientAppActor pid=2909872)\u001b[0m Epoch 3: train loss 0.01621811588605245, accuracy 1.0\n",
      "\u001b[36m(ClientAppActor pid=2909872)\u001b[0m Running epoch 3/5\n",
      "\u001b[36m(ClientAppActor pid=2909872)\u001b[0m Epoch 4: train loss 0.00624556827526062, accuracy 1.0\n",
      "\u001b[36m(ClientAppActor pid=2909872)\u001b[0m Running epoch 4/5\n",
      "\u001b[36m(ClientAppActor pid=2909872)\u001b[0m Epoch 5: train loss 0.0038632440488212383, accuracy 1.0\n",
      "\u001b[36m(ClientAppActor pid=2909872)\u001b[0m Training completed!\n",
      "\u001b[36m(ClientAppActor pid=2909872)\u001b[0m Length of params: 1015\n"
     ]
    },
    {
     "name": "stderr",
     "output_type": "stream",
     "text": [
      "\u001b[92mINFO \u001b[0m:      aggregate_fit: received 5 results and 0 failures\n"
     ]
    },
    {
     "name": "stdout",
     "output_type": "stream",
     "text": [
      "Evaluating global model\n",
      "Updating parameters 1015\n",
      "Setting parameters...\n",
      "Parameter set\n",
      "Starting client validation...\n",
      "Validataion accuracy = 0.9\n",
      "Global evaluation round 3 loss = 0.04238011948764324 accuracy = 0.9\n"
     ]
    },
    {
     "name": "stderr",
     "output_type": "stream",
     "text": [
      "\u001b[92mINFO \u001b[0m:      fit progress: (3, 0.04238011948764324, {}, 880.8281889921054)\n",
      "\u001b[92mINFO \u001b[0m:      configure_evaluate: strategy sampled 5 clients (out of 5)\n"
     ]
    },
    {
     "name": "stdout",
     "output_type": "stream",
     "text": [
      "Model saved at ./fl_checkpointsdensenet169_e5_c5_r10/fl_densenet_3.pth\n"
     ]
    },
    {
     "name": "stderr",
     "output_type": "stream",
     "text": [
      "\u001b[36m(ClientAppActor pid=2909872)\u001b[0m \u001b[93mWARNING \u001b[0m:   Deprecation Warning: The `client_fn` function must return an instance of `Client`, but an instance of `NumpyClient` was returned. Please use `NumPyClient.to_client()` method to convert it to `Client`.\n"
     ]
    },
    {
     "name": "stdout",
     "output_type": "stream",
     "text": [
      "\u001b[36m(ClientAppActor pid=2909872)\u001b[0m [Client 0] evaluate, config: {}\n",
      "\u001b[36m(ClientAppActor pid=2909872)\u001b[0m Updating parameters 1015\n",
      "\u001b[36m(ClientAppActor pid=2909872)\u001b[0m Setting parameters...\n",
      "\u001b[36m(ClientAppActor pid=2909872)\u001b[0m Starting client validation...\n",
      "\u001b[36m(ClientAppActor pid=2909872)\u001b[0m Validataion accuracy = 0.9\n",
      "\u001b[36m(ClientAppActor pid=2909872)\u001b[0m Evaluation loss = 0.04238011948764324 accuracy = 0.9\n"
     ]
    },
    {
     "name": "stderr",
     "output_type": "stream",
     "text": [
      "\u001b[36m(ClientAppActor pid=2909872)\u001b[0m \u001b[93mWARNING \u001b[0m:   Deprecation Warning: The `client_fn` function must return an instance of `Client`, but an instance of `NumpyClient` was returned. Please use `NumPyClient.to_client()` method to convert it to `Client`.\n"
     ]
    },
    {
     "name": "stdout",
     "output_type": "stream",
     "text": [
      "\u001b[36m(ClientAppActor pid=2909872)\u001b[0m [Client 1] evaluate, config: {}\n",
      "\u001b[36m(ClientAppActor pid=2909872)\u001b[0m Updating parameters 1015\n",
      "\u001b[36m(ClientAppActor pid=2909872)\u001b[0m Setting parameters...\n",
      "\u001b[36m(ClientAppActor pid=2909872)\u001b[0m Starting client validation...\n",
      "\u001b[36m(ClientAppActor pid=2909872)\u001b[0m Validataion accuracy = 0.9\n",
      "\u001b[36m(ClientAppActor pid=2909872)\u001b[0m Evaluation loss = 0.04238011948764324 accuracy = 0.9\n"
     ]
    },
    {
     "name": "stderr",
     "output_type": "stream",
     "text": [
      "\u001b[36m(ClientAppActor pid=2909872)\u001b[0m \u001b[93mWARNING \u001b[0m:   Deprecation Warning: The `client_fn` function must return an instance of `Client`, but an instance of `NumpyClient` was returned. Please use `NumPyClient.to_client()` method to convert it to `Client`.\n"
     ]
    },
    {
     "name": "stdout",
     "output_type": "stream",
     "text": [
      "\u001b[36m(ClientAppActor pid=2909872)\u001b[0m [Client 4] evaluate, config: {}\n",
      "\u001b[36m(ClientAppActor pid=2909872)\u001b[0m Updating parameters 1015\n",
      "\u001b[36m(ClientAppActor pid=2909872)\u001b[0m Setting parameters...\n",
      "\u001b[36m(ClientAppActor pid=2909872)\u001b[0m Starting client validation...\n",
      "\u001b[36m(ClientAppActor pid=2909872)\u001b[0m Validataion accuracy = 0.9\n",
      "\u001b[36m(ClientAppActor pid=2909872)\u001b[0m Evaluation loss = 0.04238011948764324 accuracy = 0.9\n"
     ]
    },
    {
     "name": "stderr",
     "output_type": "stream",
     "text": [
      "\u001b[36m(ClientAppActor pid=2909872)\u001b[0m \u001b[93mWARNING \u001b[0m:   Deprecation Warning: The `client_fn` function must return an instance of `Client`, but an instance of `NumpyClient` was returned. Please use `NumPyClient.to_client()` method to convert it to `Client`.\n"
     ]
    },
    {
     "name": "stdout",
     "output_type": "stream",
     "text": [
      "\u001b[36m(ClientAppActor pid=2909872)\u001b[0m [Client 2] evaluate, config: {}\n",
      "\u001b[36m(ClientAppActor pid=2909872)\u001b[0m Updating parameters 1015\n",
      "\u001b[36m(ClientAppActor pid=2909872)\u001b[0m Setting parameters...\n",
      "\u001b[36m(ClientAppActor pid=2909872)\u001b[0m Starting client validation...\n",
      "\u001b[36m(ClientAppActor pid=2909872)\u001b[0m Validataion accuracy = 0.9\n",
      "\u001b[36m(ClientAppActor pid=2909872)\u001b[0m Evaluation loss = 0.04238011948764324 accuracy = 0.9\n"
     ]
    },
    {
     "name": "stderr",
     "output_type": "stream",
     "text": [
      "\u001b[36m(ClientAppActor pid=2909872)\u001b[0m \u001b[93mWARNING \u001b[0m:   Deprecation Warning: The `client_fn` function must return an instance of `Client`, but an instance of `NumpyClient` was returned. Please use `NumPyClient.to_client()` method to convert it to `Client`.\n"
     ]
    },
    {
     "name": "stdout",
     "output_type": "stream",
     "text": [
      "\u001b[36m(ClientAppActor pid=2909872)\u001b[0m [Client 3] evaluate, config: {}\n",
      "\u001b[36m(ClientAppActor pid=2909872)\u001b[0m Updating parameters 1015\n",
      "\u001b[36m(ClientAppActor pid=2909872)\u001b[0m Setting parameters...\n",
      "\u001b[36m(ClientAppActor pid=2909872)\u001b[0m Starting client validation...\n"
     ]
    },
    {
     "name": "stderr",
     "output_type": "stream",
     "text": [
      "\u001b[92mINFO \u001b[0m:      aggregate_evaluate: received 5 results and 0 failures\n",
      "\u001b[92mINFO \u001b[0m:      \n",
      "\u001b[92mINFO \u001b[0m:      [ROUND 4]\n",
      "\u001b[92mINFO \u001b[0m:      configure_fit: strategy sampled 5 clients (out of 5)\n"
     ]
    },
    {
     "name": "stdout",
     "output_type": "stream",
     "text": [
      "Starting configure fit function...\n",
      "Sample size = 5 Min Num Clients = 2 Clients = [<flwr.simulation.ray_transport.ray_client_proxy.RayActorClientProxy object at 0x15535efa5990>, <flwr.simulation.ray_transport.ray_client_proxy.RayActorClientProxy object at 0x15535efa4350>, <flwr.simulation.ray_transport.ray_client_proxy.RayActorClientProxy object at 0x15535efa5550>, <flwr.simulation.ray_transport.ray_client_proxy.RayActorClientProxy object at 0x15535efa6410>, <flwr.simulation.ray_transport.ray_client_proxy.RayActorClientProxy object at 0x15535efa5710>]\n",
      "Number of clients = 5\n",
      "Fit Configurations\n",
      "\u001b[36m(ClientAppActor pid=2909872)\u001b[0m Validataion accuracy = 0.9\n",
      "\u001b[36m(ClientAppActor pid=2909872)\u001b[0m Evaluation loss = 0.04238011948764324 accuracy = 0.9\n"
     ]
    },
    {
     "name": "stderr",
     "output_type": "stream",
     "text": [
      "\u001b[36m(ClientAppActor pid=2909872)\u001b[0m \u001b[93mWARNING \u001b[0m:   Deprecation Warning: The `client_fn` function must return an instance of `Client`, but an instance of `NumpyClient` was returned. Please use `NumPyClient.to_client()` method to convert it to `Client`.\n"
     ]
    },
    {
     "name": "stdout",
     "output_type": "stream",
     "text": [
      "\u001b[36m(ClientAppActor pid=2909872)\u001b[0m [Client 2] fit, config: {'lr': 0.001}\n",
      "\u001b[36m(ClientAppActor pid=2909872)\u001b[0m Updating parameters 1015\n",
      "\u001b[36m(ClientAppActor pid=2909872)\u001b[0m Setting parameters...\n",
      "\u001b[36m(ClientAppActor pid=2909872)\u001b[0m Client parameters set\n",
      "\u001b[36m(ClientAppActor pid=2909872)\u001b[0m Starting client training...\n",
      "\u001b[36m(ClientAppActor pid=2909872)\u001b[0m Running epoch 0/5\n",
      "\u001b[36m(ClientAppActor pid=2909872)\u001b[0m Epoch 1: train loss 0.010467668159458881, accuracy 1.0\n",
      "\u001b[36m(ClientAppActor pid=2909872)\u001b[0m Running epoch 1/5\n",
      "\u001b[36m(ClientAppActor pid=2909872)\u001b[0m Epoch 2: train loss 0.004356462580080216, accuracy 1.0\n",
      "\u001b[36m(ClientAppActor pid=2909872)\u001b[0m Running epoch 2/5\n",
      "\u001b[36m(ClientAppActor pid=2909872)\u001b[0m Epoch 3: train loss 0.010955260075533237, accuracy 1.0\n",
      "\u001b[36m(ClientAppActor pid=2909872)\u001b[0m Running epoch 3/5\n",
      "\u001b[36m(ClientAppActor pid=2909872)\u001b[0m Epoch 4: train loss 0.024040142121987466, accuracy 1.0\n",
      "\u001b[36m(ClientAppActor pid=2909872)\u001b[0m Running epoch 4/5\n",
      "\u001b[36m(ClientAppActor pid=2909872)\u001b[0m Epoch 5: train loss 0.001681165536865592, accuracy 1.0\n",
      "\u001b[36m(ClientAppActor pid=2909872)\u001b[0m Training completed!\n",
      "\u001b[36m(ClientAppActor pid=2909872)\u001b[0m Length of params: 1015\n"
     ]
    },
    {
     "name": "stderr",
     "output_type": "stream",
     "text": [
      "\u001b[36m(ClientAppActor pid=2909872)\u001b[0m \u001b[93mWARNING \u001b[0m:   Deprecation Warning: The `client_fn` function must return an instance of `Client`, but an instance of `NumpyClient` was returned. Please use `NumPyClient.to_client()` method to convert it to `Client`.\n"
     ]
    },
    {
     "name": "stdout",
     "output_type": "stream",
     "text": [
      "\u001b[36m(ClientAppActor pid=2909872)\u001b[0m [Client 4] fit, config: {'lr': 0.001}\n",
      "\u001b[36m(ClientAppActor pid=2909872)\u001b[0m Updating parameters 1015\n",
      "\u001b[36m(ClientAppActor pid=2909872)\u001b[0m Setting parameters...\n",
      "\u001b[36m(ClientAppActor pid=2909872)\u001b[0m Client parameters set\n",
      "\u001b[36m(ClientAppActor pid=2909872)\u001b[0m Starting client training...\n",
      "\u001b[36m(ClientAppActor pid=2909872)\u001b[0m Running epoch 0/5\n",
      "\u001b[36m(ClientAppActor pid=2909872)\u001b[0m Epoch 1: train loss 0.016589239705353975, accuracy 1.0\n",
      "\u001b[36m(ClientAppActor pid=2909872)\u001b[0m Running epoch 1/5\n",
      "\u001b[36m(ClientAppActor pid=2909872)\u001b[0m Epoch 2: train loss 0.09701944403350353, accuracy 0.95\n",
      "\u001b[36m(ClientAppActor pid=2909872)\u001b[0m Running epoch 2/5\n",
      "\u001b[36m(ClientAppActor pid=2909872)\u001b[0m Epoch 3: train loss 0.008612714521586896, accuracy 1.0\n",
      "\u001b[36m(ClientAppActor pid=2909872)\u001b[0m Running epoch 3/5\n",
      "\u001b[36m(ClientAppActor pid=2909872)\u001b[0m Epoch 4: train loss 0.02143823727965355, accuracy 1.0\n",
      "\u001b[36m(ClientAppActor pid=2909872)\u001b[0m Running epoch 4/5\n",
      "\u001b[36m(ClientAppActor pid=2909872)\u001b[0m Epoch 5: train loss 0.00692425318993628, accuracy 1.0\n",
      "\u001b[36m(ClientAppActor pid=2909872)\u001b[0m Training completed!\n",
      "\u001b[36m(ClientAppActor pid=2909872)\u001b[0m Length of params: 1015\n"
     ]
    },
    {
     "name": "stderr",
     "output_type": "stream",
     "text": [
      "\u001b[36m(ClientAppActor pid=2909872)\u001b[0m \u001b[93mWARNING \u001b[0m:   Deprecation Warning: The `client_fn` function must return an instance of `Client`, but an instance of `NumpyClient` was returned. Please use `NumPyClient.to_client()` method to convert it to `Client`.\n"
     ]
    },
    {
     "name": "stdout",
     "output_type": "stream",
     "text": [
      "\u001b[36m(ClientAppActor pid=2909872)\u001b[0m [Client 3] fit, config: {'lr': 0.003}\n",
      "\u001b[36m(ClientAppActor pid=2909872)\u001b[0m Updating parameters 1015\n",
      "\u001b[36m(ClientAppActor pid=2909872)\u001b[0m Setting parameters...\n",
      "\u001b[36m(ClientAppActor pid=2909872)\u001b[0m Client parameters set\n",
      "\u001b[36m(ClientAppActor pid=2909872)\u001b[0m Starting client training...\n",
      "\u001b[36m(ClientAppActor pid=2909872)\u001b[0m Running epoch 0/5\n",
      "\u001b[36m(ClientAppActor pid=2909872)\u001b[0m Epoch 1: train loss 0.0557317663079653, accuracy 0.9743589743589743\n",
      "\u001b[36m(ClientAppActor pid=2909872)\u001b[0m Running epoch 1/5\n",
      "\u001b[36m(ClientAppActor pid=2909872)\u001b[0m Epoch 2: train loss 0.042289990263107494, accuracy 1.0\n",
      "\u001b[36m(ClientAppActor pid=2909872)\u001b[0m Running epoch 2/5\n",
      "\u001b[36m(ClientAppActor pid=2909872)\u001b[0m Epoch 3: train loss 0.012149347135653863, accuracy 1.0\n",
      "\u001b[36m(ClientAppActor pid=2909872)\u001b[0m Running epoch 3/5\n",
      "\u001b[36m(ClientAppActor pid=2909872)\u001b[0m Epoch 4: train loss 0.031489080439011254, accuracy 1.0\n",
      "\u001b[36m(ClientAppActor pid=2909872)\u001b[0m Running epoch 4/5\n",
      "\u001b[36m(ClientAppActor pid=2909872)\u001b[0m Epoch 5: train loss 0.005912631033704831, accuracy 1.0\n",
      "\u001b[36m(ClientAppActor pid=2909872)\u001b[0m Training completed!\n",
      "\u001b[36m(ClientAppActor pid=2909872)\u001b[0m Length of params: 1015\n"
     ]
    },
    {
     "name": "stderr",
     "output_type": "stream",
     "text": [
      "\u001b[36m(ClientAppActor pid=2909872)\u001b[0m \u001b[93mWARNING \u001b[0m:   Deprecation Warning: The `client_fn` function must return an instance of `Client`, but an instance of `NumpyClient` was returned. Please use `NumPyClient.to_client()` method to convert it to `Client`.\n"
     ]
    },
    {
     "name": "stdout",
     "output_type": "stream",
     "text": [
      "\u001b[36m(ClientAppActor pid=2909872)\u001b[0m [Client 1] fit, config: {'lr': 0.003}\n",
      "\u001b[36m(ClientAppActor pid=2909872)\u001b[0m Updating parameters 1015\n",
      "\u001b[36m(ClientAppActor pid=2909872)\u001b[0m Setting parameters...\n",
      "\u001b[36m(ClientAppActor pid=2909872)\u001b[0m Client parameters set\n",
      "\u001b[36m(ClientAppActor pid=2909872)\u001b[0m Starting client training...\n",
      "\u001b[36m(ClientAppActor pid=2909872)\u001b[0m Running epoch 0/5\n",
      "\u001b[36m(ClientAppActor pid=2909872)\u001b[0m Epoch 1: train loss 0.025470699828404646, accuracy 1.0\n",
      "\u001b[36m(ClientAppActor pid=2909872)\u001b[0m Running epoch 1/5\n",
      "\u001b[36m(ClientAppActor pid=2909872)\u001b[0m Epoch 2: train loss 0.024379299237177923, accuracy 1.0\n",
      "\u001b[36m(ClientAppActor pid=2909872)\u001b[0m Running epoch 2/5\n",
      "\u001b[36m(ClientAppActor pid=2909872)\u001b[0m Epoch 3: train loss 0.005938454781873868, accuracy 1.0\n",
      "\u001b[36m(ClientAppActor pid=2909872)\u001b[0m Running epoch 3/5\n",
      "\u001b[36m(ClientAppActor pid=2909872)\u001b[0m Epoch 4: train loss 0.080906714229152, accuracy 0.9743589743589743\n",
      "\u001b[36m(ClientAppActor pid=2909872)\u001b[0m Running epoch 4/5\n",
      "\u001b[36m(ClientAppActor pid=2909872)\u001b[0m Epoch 5: train loss 0.007393804020606554, accuracy 1.0\n",
      "\u001b[36m(ClientAppActor pid=2909872)\u001b[0m Training completed!\n",
      "\u001b[36m(ClientAppActor pid=2909872)\u001b[0m Length of params: 1015\n"
     ]
    },
    {
     "name": "stderr",
     "output_type": "stream",
     "text": [
      "\u001b[36m(ClientAppActor pid=2909872)\u001b[0m \u001b[93mWARNING \u001b[0m:   Deprecation Warning: The `client_fn` function must return an instance of `Client`, but an instance of `NumpyClient` was returned. Please use `NumPyClient.to_client()` method to convert it to `Client`.\n"
     ]
    },
    {
     "name": "stdout",
     "output_type": "stream",
     "text": [
      "\u001b[36m(ClientAppActor pid=2909872)\u001b[0m [Client 0] fit, config: {'lr': 0.003}\n",
      "\u001b[36m(ClientAppActor pid=2909872)\u001b[0m Updating parameters 1015\n",
      "\u001b[36m(ClientAppActor pid=2909872)\u001b[0m Setting parameters...\n",
      "\u001b[36m(ClientAppActor pid=2909872)\u001b[0m Client parameters set\n",
      "\u001b[36m(ClientAppActor pid=2909872)\u001b[0m Starting client training...\n",
      "\u001b[36m(ClientAppActor pid=2909872)\u001b[0m Running epoch 0/5\n",
      "\u001b[36m(ClientAppActor pid=2909872)\u001b[0m Epoch 1: train loss 0.004314469292950936, accuracy 1.0\n",
      "\u001b[36m(ClientAppActor pid=2909872)\u001b[0m Running epoch 1/5\n",
      "\u001b[36m(ClientAppActor pid=2909872)\u001b[0m Epoch 2: train loss 0.0024079979600337073, accuracy 1.0\n",
      "\u001b[36m(ClientAppActor pid=2909872)\u001b[0m Running epoch 2/5\n",
      "\u001b[36m(ClientAppActor pid=2909872)\u001b[0m Epoch 3: train loss 0.0029775286093354225, accuracy 1.0\n",
      "\u001b[36m(ClientAppActor pid=2909872)\u001b[0m Running epoch 3/5\n",
      "\u001b[36m(ClientAppActor pid=2909872)\u001b[0m Epoch 4: train loss 0.13921016158583838, accuracy 0.9743589743589743\n",
      "\u001b[36m(ClientAppActor pid=2909872)\u001b[0m Running epoch 4/5\n",
      "\u001b[36m(ClientAppActor pid=2909872)\u001b[0m Epoch 5: train loss 0.0005692454810158756, accuracy 1.0\n",
      "\u001b[36m(ClientAppActor pid=2909872)\u001b[0m Training completed!\n",
      "\u001b[36m(ClientAppActor pid=2909872)\u001b[0m Length of params: 1015\n"
     ]
    },
    {
     "name": "stderr",
     "output_type": "stream",
     "text": [
      "\u001b[92mINFO \u001b[0m:      aggregate_fit: received 5 results and 0 failures\n"
     ]
    },
    {
     "name": "stdout",
     "output_type": "stream",
     "text": [
      "Evaluating global model\n",
      "Updating parameters 1015\n",
      "Setting parameters...\n",
      "Parameter set\n",
      "Starting client validation...\n",
      "Validataion accuracy = 0.9\n",
      "Global evaluation round 4 loss = 0.04227189160883427 accuracy = 0.9\n"
     ]
    },
    {
     "name": "stderr",
     "output_type": "stream",
     "text": [
      "\u001b[92mINFO \u001b[0m:      fit progress: (4, 0.04227189160883427, {}, 1122.702556898119)\n",
      "\u001b[92mINFO \u001b[0m:      configure_evaluate: strategy sampled 5 clients (out of 5)\n"
     ]
    },
    {
     "name": "stdout",
     "output_type": "stream",
     "text": [
      "Model saved at ./fl_checkpointsdensenet169_e5_c5_r10/fl_densenet_4.pth\n"
     ]
    },
    {
     "name": "stderr",
     "output_type": "stream",
     "text": [
      "\u001b[36m(ClientAppActor pid=2909872)\u001b[0m \u001b[93mWARNING \u001b[0m:   Deprecation Warning: The `client_fn` function must return an instance of `Client`, but an instance of `NumpyClient` was returned. Please use `NumPyClient.to_client()` method to convert it to `Client`.\n"
     ]
    },
    {
     "name": "stdout",
     "output_type": "stream",
     "text": [
      "\u001b[36m(ClientAppActor pid=2909872)\u001b[0m [Client 0] evaluate, config: {}\n",
      "\u001b[36m(ClientAppActor pid=2909872)\u001b[0m Updating parameters 1015\n",
      "\u001b[36m(ClientAppActor pid=2909872)\u001b[0m Setting parameters...\n",
      "\u001b[36m(ClientAppActor pid=2909872)\u001b[0m Starting client validation...\n",
      "\u001b[36m(ClientAppActor pid=2909872)\u001b[0m Validataion accuracy = 0.9\n",
      "\u001b[36m(ClientAppActor pid=2909872)\u001b[0m Evaluation loss = 0.04227189160883427 accuracy = 0.9\n"
     ]
    },
    {
     "name": "stderr",
     "output_type": "stream",
     "text": [
      "\u001b[36m(ClientAppActor pid=2909872)\u001b[0m \u001b[93mWARNING \u001b[0m:   Deprecation Warning: The `client_fn` function must return an instance of `Client`, but an instance of `NumpyClient` was returned. Please use `NumPyClient.to_client()` method to convert it to `Client`.\n"
     ]
    },
    {
     "name": "stdout",
     "output_type": "stream",
     "text": [
      "\u001b[36m(ClientAppActor pid=2909872)\u001b[0m [Client 2] evaluate, config: {}\n",
      "\u001b[36m(ClientAppActor pid=2909872)\u001b[0m Updating parameters 1015\n",
      "\u001b[36m(ClientAppActor pid=2909872)\u001b[0m Setting parameters...\n",
      "\u001b[36m(ClientAppActor pid=2909872)\u001b[0m Starting client validation...\n",
      "\u001b[36m(ClientAppActor pid=2909872)\u001b[0m Validataion accuracy = 0.9\n",
      "\u001b[36m(ClientAppActor pid=2909872)\u001b[0m Evaluation loss = 0.04227189160883427 accuracy = 0.9\n"
     ]
    },
    {
     "name": "stderr",
     "output_type": "stream",
     "text": [
      "\u001b[36m(ClientAppActor pid=2909872)\u001b[0m \u001b[93mWARNING \u001b[0m:   Deprecation Warning: The `client_fn` function must return an instance of `Client`, but an instance of `NumpyClient` was returned. Please use `NumPyClient.to_client()` method to convert it to `Client`.\n"
     ]
    },
    {
     "name": "stdout",
     "output_type": "stream",
     "text": [
      "\u001b[36m(ClientAppActor pid=2909872)\u001b[0m [Client 4] evaluate, config: {}\n",
      "\u001b[36m(ClientAppActor pid=2909872)\u001b[0m Updating parameters 1015\n",
      "\u001b[36m(ClientAppActor pid=2909872)\u001b[0m Setting parameters...\n",
      "\u001b[36m(ClientAppActor pid=2909872)\u001b[0m Starting client validation...\n",
      "\u001b[36m(ClientAppActor pid=2909872)\u001b[0m Validataion accuracy = 0.9\n",
      "\u001b[36m(ClientAppActor pid=2909872)\u001b[0m Evaluation loss = 0.04227189160883427 accuracy = 0.9\n"
     ]
    },
    {
     "name": "stderr",
     "output_type": "stream",
     "text": [
      "\u001b[36m(ClientAppActor pid=2909872)\u001b[0m \u001b[93mWARNING \u001b[0m:   Deprecation Warning: The `client_fn` function must return an instance of `Client`, but an instance of `NumpyClient` was returned. Please use `NumPyClient.to_client()` method to convert it to `Client`.\n"
     ]
    },
    {
     "name": "stdout",
     "output_type": "stream",
     "text": [
      "\u001b[36m(ClientAppActor pid=2909872)\u001b[0m [Client 1] evaluate, config: {}\n",
      "\u001b[36m(ClientAppActor pid=2909872)\u001b[0m Updating parameters 1015\n",
      "\u001b[36m(ClientAppActor pid=2909872)\u001b[0m Setting parameters...\n",
      "\u001b[36m(ClientAppActor pid=2909872)\u001b[0m Starting client validation...\n",
      "\u001b[36m(ClientAppActor pid=2909872)\u001b[0m Validataion accuracy = 0.9\n",
      "\u001b[36m(ClientAppActor pid=2909872)\u001b[0m Evaluation loss = 0.04227189160883427 accuracy = 0.9\n"
     ]
    },
    {
     "name": "stderr",
     "output_type": "stream",
     "text": [
      "\u001b[36m(ClientAppActor pid=2909872)\u001b[0m \u001b[93mWARNING \u001b[0m:   Deprecation Warning: The `client_fn` function must return an instance of `Client`, but an instance of `NumpyClient` was returned. Please use `NumPyClient.to_client()` method to convert it to `Client`.\n"
     ]
    },
    {
     "name": "stdout",
     "output_type": "stream",
     "text": [
      "\u001b[36m(ClientAppActor pid=2909872)\u001b[0m [Client 3] evaluate, config: {}\n",
      "\u001b[36m(ClientAppActor pid=2909872)\u001b[0m Updating parameters 1015\n",
      "\u001b[36m(ClientAppActor pid=2909872)\u001b[0m Setting parameters...\n",
      "\u001b[36m(ClientAppActor pid=2909872)\u001b[0m Starting client validation...\n"
     ]
    },
    {
     "name": "stderr",
     "output_type": "stream",
     "text": [
      "\u001b[92mINFO \u001b[0m:      aggregate_evaluate: received 5 results and 0 failures\n",
      "\u001b[92mINFO \u001b[0m:      \n",
      "\u001b[92mINFO \u001b[0m:      [ROUND 5]\n",
      "\u001b[92mINFO \u001b[0m:      configure_fit: strategy sampled 5 clients (out of 5)\n"
     ]
    },
    {
     "name": "stdout",
     "output_type": "stream",
     "text": [
      "Starting configure fit function...\n",
      "Sample size = 5 Min Num Clients = 2 Clients = [<flwr.simulation.ray_transport.ray_client_proxy.RayActorClientProxy object at 0x15535efa5550>, <flwr.simulation.ray_transport.ray_client_proxy.RayActorClientProxy object at 0x15535efa4350>, <flwr.simulation.ray_transport.ray_client_proxy.RayActorClientProxy object at 0x15535efa5990>, <flwr.simulation.ray_transport.ray_client_proxy.RayActorClientProxy object at 0x15535efa5710>, <flwr.simulation.ray_transport.ray_client_proxy.RayActorClientProxy object at 0x15535efa6410>]\n",
      "Number of clients = 5\n",
      "Fit Configurations\n",
      "\u001b[36m(ClientAppActor pid=2909872)\u001b[0m Validataion accuracy = 0.9\n",
      "\u001b[36m(ClientAppActor pid=2909872)\u001b[0m Evaluation loss = 0.04227189160883427 accuracy = 0.9\n"
     ]
    },
    {
     "name": "stderr",
     "output_type": "stream",
     "text": [
      "\u001b[36m(ClientAppActor pid=2909872)\u001b[0m \u001b[93mWARNING \u001b[0m:   Deprecation Warning: The `client_fn` function must return an instance of `Client`, but an instance of `NumpyClient` was returned. Please use `NumPyClient.to_client()` method to convert it to `Client`.\n"
     ]
    },
    {
     "name": "stdout",
     "output_type": "stream",
     "text": [
      "\u001b[36m(ClientAppActor pid=2909872)\u001b[0m [Client 3] fit, config: {'lr': 0.001}\n",
      "\u001b[36m(ClientAppActor pid=2909872)\u001b[0m Updating parameters 1015\n",
      "\u001b[36m(ClientAppActor pid=2909872)\u001b[0m Setting parameters...\n",
      "\u001b[36m(ClientAppActor pid=2909872)\u001b[0m Client parameters set\n",
      "\u001b[36m(ClientAppActor pid=2909872)\u001b[0m Starting client training...\n",
      "\u001b[36m(ClientAppActor pid=2909872)\u001b[0m Running epoch 0/5\n",
      "\u001b[36m(ClientAppActor pid=2909872)\u001b[0m Epoch 1: train loss 0.005117171288778384, accuracy 1.0\n",
      "\u001b[36m(ClientAppActor pid=2909872)\u001b[0m Running epoch 1/5\n",
      "\u001b[36m(ClientAppActor pid=2909872)\u001b[0m Epoch 2: train loss 0.013175679275240654, accuracy 1.0\n",
      "\u001b[36m(ClientAppActor pid=2909872)\u001b[0m Running epoch 2/5\n",
      "\u001b[36m(ClientAppActor pid=2909872)\u001b[0m Epoch 3: train loss 0.0017348299465643673, accuracy 1.0\n",
      "\u001b[36m(ClientAppActor pid=2909872)\u001b[0m Running epoch 3/5\n",
      "\u001b[36m(ClientAppActor pid=2909872)\u001b[0m Epoch 4: train loss 0.01360100340575744, accuracy 1.0\n",
      "\u001b[36m(ClientAppActor pid=2909872)\u001b[0m Running epoch 4/5\n",
      "\u001b[36m(ClientAppActor pid=2909872)\u001b[0m Epoch 5: train loss 0.0044680276575187845, accuracy 1.0\n",
      "\u001b[36m(ClientAppActor pid=2909872)\u001b[0m Training completed!\n",
      "\u001b[36m(ClientAppActor pid=2909872)\u001b[0m Length of params: 1015\n"
     ]
    },
    {
     "name": "stderr",
     "output_type": "stream",
     "text": [
      "\u001b[36m(ClientAppActor pid=2909872)\u001b[0m \u001b[93mWARNING \u001b[0m:   Deprecation Warning: The `client_fn` function must return an instance of `Client`, but an instance of `NumpyClient` was returned. Please use `NumPyClient.to_client()` method to convert it to `Client`.\n"
     ]
    },
    {
     "name": "stdout",
     "output_type": "stream",
     "text": [
      "\u001b[36m(ClientAppActor pid=2909872)\u001b[0m [Client 4] fit, config: {'lr': 0.001}\n",
      "\u001b[36m(ClientAppActor pid=2909872)\u001b[0m Updating parameters 1015\n",
      "\u001b[36m(ClientAppActor pid=2909872)\u001b[0m Setting parameters...\n",
      "\u001b[36m(ClientAppActor pid=2909872)\u001b[0m Client parameters set\n",
      "\u001b[36m(ClientAppActor pid=2909872)\u001b[0m Starting client training...\n",
      "\u001b[36m(ClientAppActor pid=2909872)\u001b[0m Running epoch 0/5\n",
      "\u001b[36m(ClientAppActor pid=2909872)\u001b[0m Epoch 1: train loss 0.007294182991608977, accuracy 1.0\n",
      "\u001b[36m(ClientAppActor pid=2909872)\u001b[0m Running epoch 1/5\n",
      "\u001b[36m(ClientAppActor pid=2909872)\u001b[0m Epoch 2: train loss 0.014876922592520714, accuracy 1.0\n",
      "\u001b[36m(ClientAppActor pid=2909872)\u001b[0m Running epoch 2/5\n",
      "\u001b[36m(ClientAppActor pid=2909872)\u001b[0m Epoch 3: train loss 0.0020927772391587498, accuracy 1.0\n",
      "\u001b[36m(ClientAppActor pid=2909872)\u001b[0m Running epoch 3/5\n",
      "\u001b[36m(ClientAppActor pid=2909872)\u001b[0m Epoch 4: train loss 0.002963741822168231, accuracy 1.0\n",
      "\u001b[36m(ClientAppActor pid=2909872)\u001b[0m Running epoch 4/5\n",
      "\u001b[36m(ClientAppActor pid=2909872)\u001b[0m Epoch 5: train loss 0.002928227512165904, accuracy 1.0\n",
      "\u001b[36m(ClientAppActor pid=2909872)\u001b[0m Training completed!\n",
      "\u001b[36m(ClientAppActor pid=2909872)\u001b[0m Length of params: 1015\n"
     ]
    },
    {
     "name": "stderr",
     "output_type": "stream",
     "text": [
      "\u001b[36m(ClientAppActor pid=2909872)\u001b[0m \u001b[93mWARNING \u001b[0m:   Deprecation Warning: The `client_fn` function must return an instance of `Client`, but an instance of `NumpyClient` was returned. Please use `NumPyClient.to_client()` method to convert it to `Client`.\n"
     ]
    },
    {
     "name": "stdout",
     "output_type": "stream",
     "text": [
      "\u001b[36m(ClientAppActor pid=2909872)\u001b[0m [Client 2] fit, config: {'lr': 0.003}\n",
      "\u001b[36m(ClientAppActor pid=2909872)\u001b[0m Updating parameters 1015\n",
      "\u001b[36m(ClientAppActor pid=2909872)\u001b[0m Setting parameters...\n",
      "\u001b[36m(ClientAppActor pid=2909872)\u001b[0m Client parameters set\n",
      "\u001b[36m(ClientAppActor pid=2909872)\u001b[0m Starting client training...\n",
      "\u001b[36m(ClientAppActor pid=2909872)\u001b[0m Running epoch 0/5\n",
      "\u001b[36m(ClientAppActor pid=2909872)\u001b[0m Epoch 1: train loss 0.005149437974278743, accuracy 1.0\n",
      "\u001b[36m(ClientAppActor pid=2909872)\u001b[0m Running epoch 1/5\n",
      "\u001b[36m(ClientAppActor pid=2909872)\u001b[0m Epoch 2: train loss 0.004246695540272272, accuracy 1.0\n",
      "\u001b[36m(ClientAppActor pid=2909872)\u001b[0m Running epoch 2/5\n",
      "\u001b[36m(ClientAppActor pid=2909872)\u001b[0m Epoch 3: train loss 0.0009669041893898677, accuracy 1.0\n",
      "\u001b[36m(ClientAppActor pid=2909872)\u001b[0m Running epoch 3/5\n",
      "\u001b[36m(ClientAppActor pid=2909872)\u001b[0m Epoch 4: train loss 0.015064272671364821, accuracy 1.0\n",
      "\u001b[36m(ClientAppActor pid=2909872)\u001b[0m Running epoch 4/5\n",
      "\u001b[36m(ClientAppActor pid=2909872)\u001b[0m Epoch 5: train loss 0.0009622157727463696, accuracy 1.0\n",
      "\u001b[36m(ClientAppActor pid=2909872)\u001b[0m Training completed!\n",
      "\u001b[36m(ClientAppActor pid=2909872)\u001b[0m Length of params: 1015\n"
     ]
    },
    {
     "name": "stderr",
     "output_type": "stream",
     "text": [
      "\u001b[36m(ClientAppActor pid=2909872)\u001b[0m \u001b[93mWARNING \u001b[0m:   Deprecation Warning: The `client_fn` function must return an instance of `Client`, but an instance of `NumpyClient` was returned. Please use `NumPyClient.to_client()` method to convert it to `Client`.\n"
     ]
    },
    {
     "name": "stdout",
     "output_type": "stream",
     "text": [
      "\u001b[36m(ClientAppActor pid=2909872)\u001b[0m [Client 0] fit, config: {'lr': 0.003}\n",
      "\u001b[36m(ClientAppActor pid=2909872)\u001b[0m Updating parameters 1015\n",
      "\u001b[36m(ClientAppActor pid=2909872)\u001b[0m Setting parameters...\n",
      "\u001b[36m(ClientAppActor pid=2909872)\u001b[0m Client parameters set\n",
      "\u001b[36m(ClientAppActor pid=2909872)\u001b[0m Starting client training...\n",
      "\u001b[36m(ClientAppActor pid=2909872)\u001b[0m Running epoch 0/5\n",
      "\u001b[36m(ClientAppActor pid=2909872)\u001b[0m Epoch 1: train loss 0.006491283910014691, accuracy 1.0\n",
      "\u001b[36m(ClientAppActor pid=2909872)\u001b[0m Running epoch 1/5\n",
      "\u001b[36m(ClientAppActor pid=2909872)\u001b[0m Epoch 2: train loss 0.0031643308078249297, accuracy 1.0\n",
      "\u001b[36m(ClientAppActor pid=2909872)\u001b[0m Running epoch 2/5\n",
      "\u001b[36m(ClientAppActor pid=2909872)\u001b[0m Epoch 3: train loss 0.0013684241932470542, accuracy 1.0\n",
      "\u001b[36m(ClientAppActor pid=2909872)\u001b[0m Running epoch 3/5\n",
      "\u001b[36m(ClientAppActor pid=2909872)\u001b[0m Epoch 4: train loss 0.086121373785994, accuracy 0.9487179487179487\n",
      "\u001b[36m(ClientAppActor pid=2909872)\u001b[0m Running epoch 4/5\n",
      "\u001b[36m(ClientAppActor pid=2909872)\u001b[0m Epoch 5: train loss 0.0052498781050627046, accuracy 1.0\n",
      "\u001b[36m(ClientAppActor pid=2909872)\u001b[0m Training completed!\n",
      "\u001b[36m(ClientAppActor pid=2909872)\u001b[0m Length of params: 1015\n"
     ]
    },
    {
     "name": "stderr",
     "output_type": "stream",
     "text": [
      "\u001b[36m(ClientAppActor pid=2909872)\u001b[0m \u001b[93mWARNING \u001b[0m:   Deprecation Warning: The `client_fn` function must return an instance of `Client`, but an instance of `NumpyClient` was returned. Please use `NumPyClient.to_client()` method to convert it to `Client`.\n"
     ]
    },
    {
     "name": "stdout",
     "output_type": "stream",
     "text": [
      "\u001b[36m(ClientAppActor pid=2909872)\u001b[0m [Client 1] fit, config: {'lr': 0.003}\n",
      "\u001b[36m(ClientAppActor pid=2909872)\u001b[0m Updating parameters 1015\n",
      "\u001b[36m(ClientAppActor pid=2909872)\u001b[0m Setting parameters...\n",
      "\u001b[36m(ClientAppActor pid=2909872)\u001b[0m Client parameters set\n",
      "\u001b[36m(ClientAppActor pid=2909872)\u001b[0m Starting client training...\n",
      "\u001b[36m(ClientAppActor pid=2909872)\u001b[0m Running epoch 0/5\n",
      "\u001b[36m(ClientAppActor pid=2909872)\u001b[0m Epoch 1: train loss 0.31383323879578173, accuracy 0.9487179487179487\n",
      "\u001b[36m(ClientAppActor pid=2909872)\u001b[0m Running epoch 1/5\n",
      "\u001b[36m(ClientAppActor pid=2909872)\u001b[0m Epoch 2: train loss 0.011092048711501636, accuracy 1.0\n",
      "\u001b[36m(ClientAppActor pid=2909872)\u001b[0m Running epoch 2/5\n",
      "\u001b[36m(ClientAppActor pid=2909872)\u001b[0m Epoch 3: train loss 0.007697440994282563, accuracy 1.0\n",
      "\u001b[36m(ClientAppActor pid=2909872)\u001b[0m Running epoch 3/5\n",
      "\u001b[36m(ClientAppActor pid=2909872)\u001b[0m Epoch 4: train loss 0.009887094776599836, accuracy 1.0\n",
      "\u001b[36m(ClientAppActor pid=2909872)\u001b[0m Running epoch 4/5\n"
     ]
    },
    {
     "name": "stderr",
     "output_type": "stream",
     "text": [
      "\u001b[92mINFO \u001b[0m:      aggregate_fit: received 5 results and 0 failures\n"
     ]
    },
    {
     "name": "stdout",
     "output_type": "stream",
     "text": [
      "\u001b[36m(ClientAppActor pid=2909872)\u001b[0m Epoch 5: train loss 0.013473678332490798, accuracy 1.0\n",
      "\u001b[36m(ClientAppActor pid=2909872)\u001b[0m Training completed!\n",
      "\u001b[36m(ClientAppActor pid=2909872)\u001b[0m Length of params: 1015\n",
      "Evaluating global model\n",
      "Updating parameters 1015\n",
      "Setting parameters...\n",
      "Parameter set\n",
      "Starting client validation...\n",
      "Validataion accuracy = 0.9\n",
      "Global evaluation round 5 loss = 0.04968570371468862 accuracy = 0.9\n"
     ]
    },
    {
     "name": "stderr",
     "output_type": "stream",
     "text": [
      "\u001b[92mINFO \u001b[0m:      fit progress: (5, 0.04968570371468862, {}, 1368.0544853610918)\n",
      "\u001b[92mINFO \u001b[0m:      configure_evaluate: strategy sampled 5 clients (out of 5)\n"
     ]
    },
    {
     "name": "stdout",
     "output_type": "stream",
     "text": [
      "Model saved at ./fl_checkpointsdensenet169_e5_c5_r10/fl_densenet_5.pth\n"
     ]
    },
    {
     "name": "stderr",
     "output_type": "stream",
     "text": [
      "\u001b[36m(ClientAppActor pid=2909872)\u001b[0m \u001b[93mWARNING \u001b[0m:   Deprecation Warning: The `client_fn` function must return an instance of `Client`, but an instance of `NumpyClient` was returned. Please use `NumPyClient.to_client()` method to convert it to `Client`.\n"
     ]
    },
    {
     "name": "stdout",
     "output_type": "stream",
     "text": [
      "\u001b[36m(ClientAppActor pid=2909872)\u001b[0m [Client 1] evaluate, config: {}\n",
      "\u001b[36m(ClientAppActor pid=2909872)\u001b[0m Updating parameters 1015\n",
      "\u001b[36m(ClientAppActor pid=2909872)\u001b[0m Setting parameters...\n",
      "\u001b[36m(ClientAppActor pid=2909872)\u001b[0m Starting client validation...\n",
      "\u001b[36m(ClientAppActor pid=2909872)\u001b[0m Validataion accuracy = 0.9\n",
      "\u001b[36m(ClientAppActor pid=2909872)\u001b[0m Evaluation loss = 0.04968570371468862 accuracy = 0.9\n"
     ]
    },
    {
     "name": "stderr",
     "output_type": "stream",
     "text": [
      "\u001b[36m(ClientAppActor pid=2909872)\u001b[0m \u001b[93mWARNING \u001b[0m:   Deprecation Warning: The `client_fn` function must return an instance of `Client`, but an instance of `NumpyClient` was returned. Please use `NumPyClient.to_client()` method to convert it to `Client`.\n"
     ]
    },
    {
     "name": "stdout",
     "output_type": "stream",
     "text": [
      "\u001b[36m(ClientAppActor pid=2909872)\u001b[0m [Client 4] evaluate, config: {}\n",
      "\u001b[36m(ClientAppActor pid=2909872)\u001b[0m Updating parameters 1015\n",
      "\u001b[36m(ClientAppActor pid=2909872)\u001b[0m Setting parameters...\n",
      "\u001b[36m(ClientAppActor pid=2909872)\u001b[0m Starting client validation...\n",
      "\u001b[36m(ClientAppActor pid=2909872)\u001b[0m Validataion accuracy = 0.9\n",
      "\u001b[36m(ClientAppActor pid=2909872)\u001b[0m Evaluation loss = 0.04968570371468862 accuracy = 0.9\n"
     ]
    },
    {
     "name": "stderr",
     "output_type": "stream",
     "text": [
      "\u001b[36m(ClientAppActor pid=2909872)\u001b[0m \u001b[93mWARNING \u001b[0m:   Deprecation Warning: The `client_fn` function must return an instance of `Client`, but an instance of `NumpyClient` was returned. Please use `NumPyClient.to_client()` method to convert it to `Client`.\n"
     ]
    },
    {
     "name": "stdout",
     "output_type": "stream",
     "text": [
      "\u001b[36m(ClientAppActor pid=2909872)\u001b[0m [Client 2] evaluate, config: {}\n",
      "\u001b[36m(ClientAppActor pid=2909872)\u001b[0m Updating parameters 1015\n",
      "\u001b[36m(ClientAppActor pid=2909872)\u001b[0m Setting parameters...\n",
      "\u001b[36m(ClientAppActor pid=2909872)\u001b[0m Starting client validation...\n",
      "\u001b[36m(ClientAppActor pid=2909872)\u001b[0m Validataion accuracy = 0.9\n",
      "\u001b[36m(ClientAppActor pid=2909872)\u001b[0m Evaluation loss = 0.04968570371468862 accuracy = 0.9\n"
     ]
    },
    {
     "name": "stderr",
     "output_type": "stream",
     "text": [
      "\u001b[36m(ClientAppActor pid=2909872)\u001b[0m \u001b[93mWARNING \u001b[0m:   Deprecation Warning: The `client_fn` function must return an instance of `Client`, but an instance of `NumpyClient` was returned. Please use `NumPyClient.to_client()` method to convert it to `Client`.\n"
     ]
    },
    {
     "name": "stdout",
     "output_type": "stream",
     "text": [
      "\u001b[36m(ClientAppActor pid=2909872)\u001b[0m [Client 0] evaluate, config: {}\n",
      "\u001b[36m(ClientAppActor pid=2909872)\u001b[0m Updating parameters 1015\n",
      "\u001b[36m(ClientAppActor pid=2909872)\u001b[0m Setting parameters...\n",
      "\u001b[36m(ClientAppActor pid=2909872)\u001b[0m Starting client validation...\n",
      "\u001b[36m(ClientAppActor pid=2909872)\u001b[0m Validataion accuracy = 0.9\n",
      "\u001b[36m(ClientAppActor pid=2909872)\u001b[0m Evaluation loss = 0.04968570371468862 accuracy = 0.9\n"
     ]
    },
    {
     "name": "stderr",
     "output_type": "stream",
     "text": [
      "\u001b[36m(ClientAppActor pid=2909872)\u001b[0m \u001b[93mWARNING \u001b[0m:   Deprecation Warning: The `client_fn` function must return an instance of `Client`, but an instance of `NumpyClient` was returned. Please use `NumPyClient.to_client()` method to convert it to `Client`.\n"
     ]
    },
    {
     "name": "stdout",
     "output_type": "stream",
     "text": [
      "\u001b[36m(ClientAppActor pid=2909872)\u001b[0m [Client 3] evaluate, config: {}\n",
      "\u001b[36m(ClientAppActor pid=2909872)\u001b[0m Updating parameters 1015\n",
      "\u001b[36m(ClientAppActor pid=2909872)\u001b[0m Setting parameters...\n",
      "\u001b[36m(ClientAppActor pid=2909872)\u001b[0m Starting client validation...\n"
     ]
    },
    {
     "name": "stderr",
     "output_type": "stream",
     "text": [
      "\u001b[92mINFO \u001b[0m:      aggregate_evaluate: received 5 results and 0 failures\n",
      "\u001b[92mINFO \u001b[0m:      \n",
      "\u001b[92mINFO \u001b[0m:      [ROUND 6]\n",
      "\u001b[92mINFO \u001b[0m:      configure_fit: strategy sampled 5 clients (out of 5)\n"
     ]
    },
    {
     "name": "stdout",
     "output_type": "stream",
     "text": [
      "\u001b[36m(ClientAppActor pid=2909872)\u001b[0m Validataion accuracy = 0.9\n",
      "\u001b[36m(ClientAppActor pid=2909872)\u001b[0m Evaluation loss = 0.04968570371468862 accuracy = 0.9\n",
      "Starting configure fit function...\n",
      "Sample size = 5 Min Num Clients = 2 Clients = [<flwr.simulation.ray_transport.ray_client_proxy.RayActorClientProxy object at 0x15535efa5990>, <flwr.simulation.ray_transport.ray_client_proxy.RayActorClientProxy object at 0x15535efa4350>, <flwr.simulation.ray_transport.ray_client_proxy.RayActorClientProxy object at 0x15535efa6410>, <flwr.simulation.ray_transport.ray_client_proxy.RayActorClientProxy object at 0x15535efa5550>, <flwr.simulation.ray_transport.ray_client_proxy.RayActorClientProxy object at 0x15535efa5710>]\n",
      "Number of clients = 5\n",
      "Fit Configurations\n"
     ]
    },
    {
     "name": "stderr",
     "output_type": "stream",
     "text": [
      "\u001b[36m(ClientAppActor pid=2909872)\u001b[0m \u001b[93mWARNING \u001b[0m:   Deprecation Warning: The `client_fn` function must return an instance of `Client`, but an instance of `NumpyClient` was returned. Please use `NumPyClient.to_client()` method to convert it to `Client`.\n"
     ]
    },
    {
     "name": "stdout",
     "output_type": "stream",
     "text": [
      "\u001b[36m(ClientAppActor pid=2909872)\u001b[0m [Client 2] fit, config: {'lr': 0.001}\n",
      "\u001b[36m(ClientAppActor pid=2909872)\u001b[0m Updating parameters 1015\n",
      "\u001b[36m(ClientAppActor pid=2909872)\u001b[0m Setting parameters...\n",
      "\u001b[36m(ClientAppActor pid=2909872)\u001b[0m Client parameters set\n",
      "\u001b[36m(ClientAppActor pid=2909872)\u001b[0m Starting client training...\n",
      "\u001b[36m(ClientAppActor pid=2909872)\u001b[0m Running epoch 0/5\n",
      "\u001b[36m(ClientAppActor pid=2909872)\u001b[0m Epoch 1: train loss 0.0014248379977802054, accuracy 1.0\n",
      "\u001b[36m(ClientAppActor pid=2909872)\u001b[0m Running epoch 1/5\n",
      "\u001b[36m(ClientAppActor pid=2909872)\u001b[0m Epoch 2: train loss 0.004985954525928276, accuracy 1.0\n",
      "\u001b[36m(ClientAppActor pid=2909872)\u001b[0m Running epoch 2/5\n",
      "\u001b[36m(ClientAppActor pid=2909872)\u001b[0m Epoch 3: train loss 0.0009041366955408683, accuracy 1.0\n",
      "\u001b[36m(ClientAppActor pid=2909872)\u001b[0m Running epoch 3/5\n",
      "\u001b[36m(ClientAppActor pid=2909872)\u001b[0m Epoch 4: train loss 0.0008843016918175495, accuracy 1.0\n",
      "\u001b[36m(ClientAppActor pid=2909872)\u001b[0m Running epoch 4/5\n",
      "\u001b[36m(ClientAppActor pid=2909872)\u001b[0m Epoch 5: train loss 0.00019748148714335493, accuracy 1.0\n",
      "\u001b[36m(ClientAppActor pid=2909872)\u001b[0m Training completed!\n",
      "\u001b[36m(ClientAppActor pid=2909872)\u001b[0m Length of params: 1015\n"
     ]
    },
    {
     "name": "stderr",
     "output_type": "stream",
     "text": [
      "\u001b[36m(ClientAppActor pid=2909872)\u001b[0m \u001b[93mWARNING \u001b[0m:   Deprecation Warning: The `client_fn` function must return an instance of `Client`, but an instance of `NumpyClient` was returned. Please use `NumPyClient.to_client()` method to convert it to `Client`.\n"
     ]
    },
    {
     "name": "stdout",
     "output_type": "stream",
     "text": [
      "\u001b[36m(ClientAppActor pid=2909872)\u001b[0m [Client 4] fit, config: {'lr': 0.001}\n",
      "\u001b[36m(ClientAppActor pid=2909872)\u001b[0m Updating parameters 1015\n",
      "\u001b[36m(ClientAppActor pid=2909872)\u001b[0m Setting parameters...\n",
      "\u001b[36m(ClientAppActor pid=2909872)\u001b[0m Client parameters set\n",
      "\u001b[36m(ClientAppActor pid=2909872)\u001b[0m Starting client training...\n",
      "\u001b[36m(ClientAppActor pid=2909872)\u001b[0m Running epoch 0/5\n",
      "\u001b[36m(ClientAppActor pid=2909872)\u001b[0m Epoch 1: train loss 0.001351289701415226, accuracy 1.0\n",
      "\u001b[36m(ClientAppActor pid=2909872)\u001b[0m Running epoch 1/5\n",
      "\u001b[36m(ClientAppActor pid=2909872)\u001b[0m Epoch 2: train loss 0.004047787189483643, accuracy 1.0\n",
      "\u001b[36m(ClientAppActor pid=2909872)\u001b[0m Running epoch 2/5\n",
      "\u001b[36m(ClientAppActor pid=2909872)\u001b[0m Epoch 3: train loss 0.0003508278226945549, accuracy 1.0\n",
      "\u001b[36m(ClientAppActor pid=2909872)\u001b[0m Running epoch 3/5\n",
      "\u001b[36m(ClientAppActor pid=2909872)\u001b[0m Epoch 4: train loss 0.0003042738710064441, accuracy 1.0\n",
      "\u001b[36m(ClientAppActor pid=2909872)\u001b[0m Running epoch 4/5\n",
      "\u001b[36m(ClientAppActor pid=2909872)\u001b[0m Epoch 5: train loss 0.0027377669292036446, accuracy 1.0\n",
      "\u001b[36m(ClientAppActor pid=2909872)\u001b[0m Training completed!\n",
      "\u001b[36m(ClientAppActor pid=2909872)\u001b[0m Length of params: 1015\n"
     ]
    },
    {
     "name": "stderr",
     "output_type": "stream",
     "text": [
      "\u001b[36m(ClientAppActor pid=2909872)\u001b[0m \u001b[93mWARNING \u001b[0m:   Deprecation Warning: The `client_fn` function must return an instance of `Client`, but an instance of `NumpyClient` was returned. Please use `NumPyClient.to_client()` method to convert it to `Client`.\n"
     ]
    },
    {
     "name": "stdout",
     "output_type": "stream",
     "text": [
      "\u001b[36m(ClientAppActor pid=2909872)\u001b[0m [Client 1] fit, config: {'lr': 0.003}\n",
      "\u001b[36m(ClientAppActor pid=2909872)\u001b[0m Updating parameters 1015\n",
      "\u001b[36m(ClientAppActor pid=2909872)\u001b[0m Setting parameters...\n",
      "\u001b[36m(ClientAppActor pid=2909872)\u001b[0m Client parameters set\n",
      "\u001b[36m(ClientAppActor pid=2909872)\u001b[0m Starting client training...\n",
      "\u001b[36m(ClientAppActor pid=2909872)\u001b[0m Running epoch 0/5\n",
      "\u001b[36m(ClientAppActor pid=2909872)\u001b[0m Epoch 1: train loss 0.06568105327777374, accuracy 0.9743589743589743\n",
      "\u001b[36m(ClientAppActor pid=2909872)\u001b[0m Running epoch 1/5\n",
      "\u001b[36m(ClientAppActor pid=2909872)\u001b[0m Epoch 2: train loss 0.021638164105705727, accuracy 1.0\n",
      "\u001b[36m(ClientAppActor pid=2909872)\u001b[0m Running epoch 2/5\n",
      "\u001b[36m(ClientAppActor pid=2909872)\u001b[0m Epoch 3: train loss 0.008374584193986196, accuracy 1.0\n",
      "\u001b[36m(ClientAppActor pid=2909872)\u001b[0m Running epoch 3/5\n",
      "\u001b[36m(ClientAppActor pid=2909872)\u001b[0m Epoch 4: train loss 0.037176877785569586, accuracy 0.9743589743589743\n",
      "\u001b[36m(ClientAppActor pid=2909872)\u001b[0m Running epoch 4/5\n",
      "\u001b[36m(ClientAppActor pid=2909872)\u001b[0m Epoch 5: train loss 0.014606868107922567, accuracy 1.0\n",
      "\u001b[36m(ClientAppActor pid=2909872)\u001b[0m Training completed!\n",
      "\u001b[36m(ClientAppActor pid=2909872)\u001b[0m Length of params: 1015\n"
     ]
    },
    {
     "name": "stderr",
     "output_type": "stream",
     "text": [
      "\u001b[36m(ClientAppActor pid=2909872)\u001b[0m \u001b[93mWARNING \u001b[0m:   Deprecation Warning: The `client_fn` function must return an instance of `Client`, but an instance of `NumpyClient` was returned. Please use `NumPyClient.to_client()` method to convert it to `Client`.\n"
     ]
    },
    {
     "name": "stdout",
     "output_type": "stream",
     "text": [
      "\u001b[36m(ClientAppActor pid=2909872)\u001b[0m [Client 3] fit, config: {'lr': 0.003}\n",
      "\u001b[36m(ClientAppActor pid=2909872)\u001b[0m Updating parameters 1015\n",
      "\u001b[36m(ClientAppActor pid=2909872)\u001b[0m Setting parameters...\n",
      "\u001b[36m(ClientAppActor pid=2909872)\u001b[0m Client parameters set\n",
      "\u001b[36m(ClientAppActor pid=2909872)\u001b[0m Starting client training...\n",
      "\u001b[36m(ClientAppActor pid=2909872)\u001b[0m Running epoch 0/5\n",
      "\u001b[36m(ClientAppActor pid=2909872)\u001b[0m Epoch 1: train loss 0.011145289987325668, accuracy 1.0\n",
      "\u001b[36m(ClientAppActor pid=2909872)\u001b[0m Running epoch 1/5\n",
      "\u001b[36m(ClientAppActor pid=2909872)\u001b[0m Epoch 2: train loss 0.011077289015818864, accuracy 1.0\n",
      "\u001b[36m(ClientAppActor pid=2909872)\u001b[0m Running epoch 2/5\n",
      "\u001b[36m(ClientAppActor pid=2909872)\u001b[0m Epoch 3: train loss 0.03729709908843805, accuracy 0.9743589743589743\n",
      "\u001b[36m(ClientAppActor pid=2909872)\u001b[0m Running epoch 3/5\n",
      "\u001b[36m(ClientAppActor pid=2909872)\u001b[0m Epoch 4: train loss 0.00776827446399973, accuracy 1.0\n",
      "\u001b[36m(ClientAppActor pid=2909872)\u001b[0m Running epoch 4/5\n",
      "\u001b[36m(ClientAppActor pid=2909872)\u001b[0m Epoch 5: train loss 0.0030421589453441976, accuracy 1.0\n",
      "\u001b[36m(ClientAppActor pid=2909872)\u001b[0m Training completed!\n",
      "\u001b[36m(ClientAppActor pid=2909872)\u001b[0m Length of params: 1015\n"
     ]
    },
    {
     "name": "stderr",
     "output_type": "stream",
     "text": [
      "\u001b[36m(ClientAppActor pid=2909872)\u001b[0m \u001b[93mWARNING \u001b[0m:   Deprecation Warning: The `client_fn` function must return an instance of `Client`, but an instance of `NumpyClient` was returned. Please use `NumPyClient.to_client()` method to convert it to `Client`.\n"
     ]
    },
    {
     "name": "stdout",
     "output_type": "stream",
     "text": [
      "\u001b[36m(ClientAppActor pid=2909872)\u001b[0m [Client 0] fit, config: {'lr': 0.003}\n",
      "\u001b[36m(ClientAppActor pid=2909872)\u001b[0m Updating parameters 1015\n",
      "\u001b[36m(ClientAppActor pid=2909872)\u001b[0m Setting parameters...\n",
      "\u001b[36m(ClientAppActor pid=2909872)\u001b[0m Client parameters set\n",
      "\u001b[36m(ClientAppActor pid=2909872)\u001b[0m Starting client training...\n",
      "\u001b[36m(ClientAppActor pid=2909872)\u001b[0m Running epoch 0/5\n",
      "\u001b[36m(ClientAppActor pid=2909872)\u001b[0m Epoch 1: train loss 0.0006637582495713081, accuracy 1.0\n",
      "\u001b[36m(ClientAppActor pid=2909872)\u001b[0m Running epoch 1/5\n",
      "\u001b[36m(ClientAppActor pid=2909872)\u001b[0m Epoch 2: train loss 0.0010911845684182853, accuracy 1.0\n",
      "\u001b[36m(ClientAppActor pid=2909872)\u001b[0m Running epoch 2/5\n",
      "\u001b[36m(ClientAppActor pid=2909872)\u001b[0m Epoch 3: train loss 0.00026925555982579215, accuracy 1.0\n",
      "\u001b[36m(ClientAppActor pid=2909872)\u001b[0m Running epoch 3/5\n",
      "\u001b[36m(ClientAppActor pid=2909872)\u001b[0m Epoch 4: train loss 0.0004909871681891859, accuracy 1.0\n",
      "\u001b[36m(ClientAppActor pid=2909872)\u001b[0m Running epoch 4/5\n",
      "\u001b[36m(ClientAppActor pid=2909872)\u001b[0m Epoch 5: train loss 0.08466946573641437, accuracy 0.9743589743589743\n",
      "\u001b[36m(ClientAppActor pid=2909872)\u001b[0m Training completed!\n",
      "\u001b[36m(ClientAppActor pid=2909872)\u001b[0m Length of params: 1015\n"
     ]
    },
    {
     "name": "stderr",
     "output_type": "stream",
     "text": [
      "\u001b[92mINFO \u001b[0m:      aggregate_fit: received 5 results and 0 failures\n"
     ]
    },
    {
     "name": "stdout",
     "output_type": "stream",
     "text": [
      "Evaluating global model\n",
      "Updating parameters 1015\n",
      "Setting parameters...\n",
      "Parameter set\n",
      "Starting client validation...\n",
      "Validataion accuracy = 0.9\n",
      "Global evaluation round 6 loss = 0.05472664460539818 accuracy = 0.9\n"
     ]
    },
    {
     "name": "stderr",
     "output_type": "stream",
     "text": [
      "\u001b[92mINFO \u001b[0m:      fit progress: (6, 0.05472664460539818, {}, 1662.466515915934)\n",
      "\u001b[92mINFO \u001b[0m:      configure_evaluate: strategy sampled 5 clients (out of 5)\n"
     ]
    },
    {
     "name": "stdout",
     "output_type": "stream",
     "text": [
      "Model saved at ./fl_checkpointsdensenet169_e5_c5_r10/fl_densenet_6.pth\n"
     ]
    },
    {
     "name": "stderr",
     "output_type": "stream",
     "text": [
      "\u001b[36m(ClientAppActor pid=2909872)\u001b[0m \u001b[93mWARNING \u001b[0m:   Deprecation Warning: The `client_fn` function must return an instance of `Client`, but an instance of `NumpyClient` was returned. Please use `NumPyClient.to_client()` method to convert it to `Client`.\n"
     ]
    },
    {
     "name": "stdout",
     "output_type": "stream",
     "text": [
      "\u001b[36m(ClientAppActor pid=2909872)\u001b[0m [Client 0] evaluate, config: {}\n",
      "\u001b[36m(ClientAppActor pid=2909872)\u001b[0m Updating parameters 1015\n",
      "\u001b[36m(ClientAppActor pid=2909872)\u001b[0m Setting parameters...\n",
      "\u001b[36m(ClientAppActor pid=2909872)\u001b[0m Starting client validation...\n",
      "\u001b[36m(ClientAppActor pid=2909872)\u001b[0m Validataion accuracy = 0.9\n",
      "\u001b[36m(ClientAppActor pid=2909872)\u001b[0m Evaluation loss = 0.05472664460539818 accuracy = 0.9\n"
     ]
    },
    {
     "name": "stderr",
     "output_type": "stream",
     "text": [
      "\u001b[36m(ClientAppActor pid=2909872)\u001b[0m \u001b[93mWARNING \u001b[0m:   Deprecation Warning: The `client_fn` function must return an instance of `Client`, but an instance of `NumpyClient` was returned. Please use `NumPyClient.to_client()` method to convert it to `Client`.\n"
     ]
    },
    {
     "name": "stdout",
     "output_type": "stream",
     "text": [
      "\u001b[36m(ClientAppActor pid=2909872)\u001b[0m [Client 4] evaluate, config: {}\n",
      "\u001b[36m(ClientAppActor pid=2909872)\u001b[0m Updating parameters 1015\n",
      "\u001b[36m(ClientAppActor pid=2909872)\u001b[0m Setting parameters...\n",
      "\u001b[36m(ClientAppActor pid=2909872)\u001b[0m Starting client validation...\n",
      "\u001b[36m(ClientAppActor pid=2909872)\u001b[0m Validataion accuracy = 0.9\n",
      "\u001b[36m(ClientAppActor pid=2909872)\u001b[0m Evaluation loss = 0.05472664460539818 accuracy = 0.9\n"
     ]
    },
    {
     "name": "stderr",
     "output_type": "stream",
     "text": [
      "\u001b[36m(ClientAppActor pid=2909872)\u001b[0m \u001b[93mWARNING \u001b[0m:   Deprecation Warning: The `client_fn` function must return an instance of `Client`, but an instance of `NumpyClient` was returned. Please use `NumPyClient.to_client()` method to convert it to `Client`.\n"
     ]
    },
    {
     "name": "stdout",
     "output_type": "stream",
     "text": [
      "\u001b[36m(ClientAppActor pid=2909872)\u001b[0m [Client 1] evaluate, config: {}\n",
      "\u001b[36m(ClientAppActor pid=2909872)\u001b[0m Updating parameters 1015\n",
      "\u001b[36m(ClientAppActor pid=2909872)\u001b[0m Setting parameters...\n",
      "\u001b[36m(ClientAppActor pid=2909872)\u001b[0m Starting client validation...\n",
      "\u001b[36m(ClientAppActor pid=2909872)\u001b[0m Validataion accuracy = 0.9\n",
      "\u001b[36m(ClientAppActor pid=2909872)\u001b[0m Evaluation loss = 0.05472664460539818 accuracy = 0.9\n"
     ]
    },
    {
     "name": "stderr",
     "output_type": "stream",
     "text": [
      "\u001b[36m(ClientAppActor pid=2909872)\u001b[0m \u001b[93mWARNING \u001b[0m:   Deprecation Warning: The `client_fn` function must return an instance of `Client`, but an instance of `NumpyClient` was returned. Please use `NumPyClient.to_client()` method to convert it to `Client`.\n"
     ]
    },
    {
     "name": "stdout",
     "output_type": "stream",
     "text": [
      "\u001b[36m(ClientAppActor pid=2909872)\u001b[0m [Client 3] evaluate, config: {}\n",
      "\u001b[36m(ClientAppActor pid=2909872)\u001b[0m Updating parameters 1015\n",
      "\u001b[36m(ClientAppActor pid=2909872)\u001b[0m Setting parameters...\n",
      "\u001b[36m(ClientAppActor pid=2909872)\u001b[0m Starting client validation...\n",
      "\u001b[36m(ClientAppActor pid=2909872)\u001b[0m Validataion accuracy = 0.9\n",
      "\u001b[36m(ClientAppActor pid=2909872)\u001b[0m Evaluation loss = 0.05472664460539818 accuracy = 0.9\n"
     ]
    },
    {
     "name": "stderr",
     "output_type": "stream",
     "text": [
      "\u001b[36m(ClientAppActor pid=2909872)\u001b[0m \u001b[93mWARNING \u001b[0m:   Deprecation Warning: The `client_fn` function must return an instance of `Client`, but an instance of `NumpyClient` was returned. Please use `NumPyClient.to_client()` method to convert it to `Client`.\n"
     ]
    },
    {
     "name": "stdout",
     "output_type": "stream",
     "text": [
      "\u001b[36m(ClientAppActor pid=2909872)\u001b[0m [Client 2] evaluate, config: {}\n",
      "\u001b[36m(ClientAppActor pid=2909872)\u001b[0m Updating parameters 1015\n",
      "\u001b[36m(ClientAppActor pid=2909872)\u001b[0m Setting parameters...\n",
      "\u001b[36m(ClientAppActor pid=2909872)\u001b[0m Starting client validation...\n"
     ]
    },
    {
     "name": "stderr",
     "output_type": "stream",
     "text": [
      "\u001b[92mINFO \u001b[0m:      aggregate_evaluate: received 5 results and 0 failures\n",
      "\u001b[92mINFO \u001b[0m:      \n",
      "\u001b[92mINFO \u001b[0m:      [ROUND 7]\n",
      "\u001b[92mINFO \u001b[0m:      configure_fit: strategy sampled 5 clients (out of 5)\n"
     ]
    },
    {
     "name": "stdout",
     "output_type": "stream",
     "text": [
      "Starting configure fit function...\n",
      "Sample size = 5 Min Num Clients = 2 Clients = [<flwr.simulation.ray_transport.ray_client_proxy.RayActorClientProxy object at 0x15535efa5550>, <flwr.simulation.ray_transport.ray_client_proxy.RayActorClientProxy object at 0x15535efa5990>, <flwr.simulation.ray_transport.ray_client_proxy.RayActorClientProxy object at 0x15535efa4350>, <flwr.simulation.ray_transport.ray_client_proxy.RayActorClientProxy object at 0x15535efa6410>, <flwr.simulation.ray_transport.ray_client_proxy.RayActorClientProxy object at 0x15535efa5710>]\n",
      "Number of clients = 5\n",
      "Fit Configurations\n",
      "\u001b[36m(ClientAppActor pid=2909872)\u001b[0m Validataion accuracy = 0.9\n",
      "\u001b[36m(ClientAppActor pid=2909872)\u001b[0m Evaluation loss = 0.05472664460539818 accuracy = 0.9\n"
     ]
    },
    {
     "name": "stderr",
     "output_type": "stream",
     "text": [
      "\u001b[36m(ClientAppActor pid=2909872)\u001b[0m \u001b[93mWARNING \u001b[0m:   Deprecation Warning: The `client_fn` function must return an instance of `Client`, but an instance of `NumpyClient` was returned. Please use `NumPyClient.to_client()` method to convert it to `Client`.\n"
     ]
    },
    {
     "name": "stdout",
     "output_type": "stream",
     "text": [
      "\u001b[36m(ClientAppActor pid=2909872)\u001b[0m [Client 3] fit, config: {'lr': 0.001}\n",
      "\u001b[36m(ClientAppActor pid=2909872)\u001b[0m Updating parameters 1015\n",
      "\u001b[36m(ClientAppActor pid=2909872)\u001b[0m Setting parameters...\n",
      "\u001b[36m(ClientAppActor pid=2909872)\u001b[0m Client parameters set\n",
      "\u001b[36m(ClientAppActor pid=2909872)\u001b[0m Starting client training...\n",
      "\u001b[36m(ClientAppActor pid=2909872)\u001b[0m Running epoch 0/5\n",
      "\u001b[36m(ClientAppActor pid=2909872)\u001b[0m Epoch 1: train loss 0.0012679113245282609, accuracy 1.0\n",
      "\u001b[36m(ClientAppActor pid=2909872)\u001b[0m Running epoch 1/5\n",
      "\u001b[36m(ClientAppActor pid=2909872)\u001b[0m Epoch 2: train loss 0.0014739762812566299, accuracy 1.0\n",
      "\u001b[36m(ClientAppActor pid=2909872)\u001b[0m Running epoch 2/5\n",
      "\u001b[36m(ClientAppActor pid=2909872)\u001b[0m Epoch 3: train loss 0.0021295537575124167, accuracy 1.0\n",
      "\u001b[36m(ClientAppActor pid=2909872)\u001b[0m Running epoch 3/5\n",
      "\u001b[36m(ClientAppActor pid=2909872)\u001b[0m Epoch 4: train loss 0.1014487187210948, accuracy 0.9487179487179487\n",
      "\u001b[36m(ClientAppActor pid=2909872)\u001b[0m Running epoch 4/5\n",
      "\u001b[36m(ClientAppActor pid=2909872)\u001b[0m Epoch 5: train loss 0.0008479202619920939, accuracy 1.0\n",
      "\u001b[36m(ClientAppActor pid=2909872)\u001b[0m Training completed!\n",
      "\u001b[36m(ClientAppActor pid=2909872)\u001b[0m Length of params: 1015\n"
     ]
    },
    {
     "name": "stderr",
     "output_type": "stream",
     "text": [
      "\u001b[36m(ClientAppActor pid=2909872)\u001b[0m \u001b[93mWARNING \u001b[0m:   Deprecation Warning: The `client_fn` function must return an instance of `Client`, but an instance of `NumpyClient` was returned. Please use `NumPyClient.to_client()` method to convert it to `Client`.\n"
     ]
    },
    {
     "name": "stdout",
     "output_type": "stream",
     "text": [
      "\u001b[36m(ClientAppActor pid=2909872)\u001b[0m [Client 2] fit, config: {'lr': 0.001}\n",
      "\u001b[36m(ClientAppActor pid=2909872)\u001b[0m Updating parameters 1015\n",
      "\u001b[36m(ClientAppActor pid=2909872)\u001b[0m Setting parameters...\n",
      "\u001b[36m(ClientAppActor pid=2909872)\u001b[0m Client parameters set\n",
      "\u001b[36m(ClientAppActor pid=2909872)\u001b[0m Starting client training...\n",
      "\u001b[36m(ClientAppActor pid=2909872)\u001b[0m Running epoch 0/5\n",
      "\u001b[36m(ClientAppActor pid=2909872)\u001b[0m Epoch 1: train loss 0.0005220532169541678, accuracy 1.0\n",
      "\u001b[36m(ClientAppActor pid=2909872)\u001b[0m Running epoch 1/5\n",
      "\u001b[36m(ClientAppActor pid=2909872)\u001b[0m Epoch 2: train loss 0.0002571783966581839, accuracy 1.0\n",
      "\u001b[36m(ClientAppActor pid=2909872)\u001b[0m Running epoch 2/5\n",
      "\u001b[36m(ClientAppActor pid=2909872)\u001b[0m Epoch 3: train loss 0.00032020330903693463, accuracy 1.0\n",
      "\u001b[36m(ClientAppActor pid=2909872)\u001b[0m Running epoch 3/5\n",
      "\u001b[36m(ClientAppActor pid=2909872)\u001b[0m Epoch 4: train loss 0.002743603862864592, accuracy 1.0\n",
      "\u001b[36m(ClientAppActor pid=2909872)\u001b[0m Running epoch 4/5\n",
      "\u001b[36m(ClientAppActor pid=2909872)\u001b[0m Epoch 5: train loss 0.0016208857474012827, accuracy 1.0\n",
      "\u001b[36m(ClientAppActor pid=2909872)\u001b[0m Training completed!\n",
      "\u001b[36m(ClientAppActor pid=2909872)\u001b[0m Length of params: 1015\n"
     ]
    },
    {
     "name": "stderr",
     "output_type": "stream",
     "text": [
      "\u001b[36m(ClientAppActor pid=2909872)\u001b[0m \u001b[93mWARNING \u001b[0m:   Deprecation Warning: The `client_fn` function must return an instance of `Client`, but an instance of `NumpyClient` was returned. Please use `NumPyClient.to_client()` method to convert it to `Client`.\n"
     ]
    },
    {
     "name": "stdout",
     "output_type": "stream",
     "text": [
      "\u001b[36m(ClientAppActor pid=2909872)\u001b[0m [Client 4] fit, config: {'lr': 0.003}\n",
      "\u001b[36m(ClientAppActor pid=2909872)\u001b[0m Updating parameters 1015\n",
      "\u001b[36m(ClientAppActor pid=2909872)\u001b[0m Setting parameters...\n",
      "\u001b[36m(ClientAppActor pid=2909872)\u001b[0m Client parameters set\n",
      "\u001b[36m(ClientAppActor pid=2909872)\u001b[0m Starting client training...\n",
      "\u001b[36m(ClientAppActor pid=2909872)\u001b[0m Running epoch 0/5\n",
      "\u001b[36m(ClientAppActor pid=2909872)\u001b[0m Epoch 1: train loss 0.0006761882570572198, accuracy 1.0\n",
      "\u001b[36m(ClientAppActor pid=2909872)\u001b[0m Running epoch 1/5\n",
      "\u001b[36m(ClientAppActor pid=2909872)\u001b[0m Epoch 2: train loss 0.0038977273041382434, accuracy 1.0\n",
      "\u001b[36m(ClientAppActor pid=2909872)\u001b[0m Running epoch 2/5\n",
      "\u001b[36m(ClientAppActor pid=2909872)\u001b[0m Epoch 3: train loss 0.0005756205529905856, accuracy 1.0\n",
      "\u001b[36m(ClientAppActor pid=2909872)\u001b[0m Running epoch 3/5\n",
      "\u001b[36m(ClientAppActor pid=2909872)\u001b[0m Epoch 4: train loss 0.00039493566728197036, accuracy 1.0\n",
      "\u001b[36m(ClientAppActor pid=2909872)\u001b[0m Running epoch 4/5\n",
      "\u001b[36m(ClientAppActor pid=2909872)\u001b[0m Epoch 5: train loss 0.00030226550152292477, accuracy 1.0\n",
      "\u001b[36m(ClientAppActor pid=2909872)\u001b[0m Training completed!\n",
      "\u001b[36m(ClientAppActor pid=2909872)\u001b[0m Length of params: 1015\n"
     ]
    },
    {
     "name": "stderr",
     "output_type": "stream",
     "text": [
      "\u001b[36m(ClientAppActor pid=2909872)\u001b[0m \u001b[93mWARNING \u001b[0m:   Deprecation Warning: The `client_fn` function must return an instance of `Client`, but an instance of `NumpyClient` was returned. Please use `NumPyClient.to_client()` method to convert it to `Client`.\n"
     ]
    },
    {
     "name": "stdout",
     "output_type": "stream",
     "text": [
      "\u001b[36m(ClientAppActor pid=2909872)\u001b[0m [Client 1] fit, config: {'lr': 0.003}\n",
      "\u001b[36m(ClientAppActor pid=2909872)\u001b[0m Updating parameters 1015\n",
      "\u001b[36m(ClientAppActor pid=2909872)\u001b[0m Setting parameters...\n",
      "\u001b[36m(ClientAppActor pid=2909872)\u001b[0m Client parameters set\n",
      "\u001b[36m(ClientAppActor pid=2909872)\u001b[0m Starting client training...\n",
      "\u001b[36m(ClientAppActor pid=2909872)\u001b[0m Running epoch 0/5\n",
      "\u001b[36m(ClientAppActor pid=2909872)\u001b[0m Epoch 1: train loss 0.0039672944881320475, accuracy 1.0\n",
      "\u001b[36m(ClientAppActor pid=2909872)\u001b[0m Running epoch 1/5\n",
      "\u001b[36m(ClientAppActor pid=2909872)\u001b[0m Epoch 2: train loss 0.009742783609395608, accuracy 1.0\n",
      "\u001b[36m(ClientAppActor pid=2909872)\u001b[0m Running epoch 2/5\n",
      "\u001b[36m(ClientAppActor pid=2909872)\u001b[0m Epoch 3: train loss 0.0010583755793049932, accuracy 1.0\n",
      "\u001b[36m(ClientAppActor pid=2909872)\u001b[0m Running epoch 3/5\n",
      "\u001b[36m(ClientAppActor pid=2909872)\u001b[0m Epoch 4: train loss 0.029189519202097867, accuracy 0.9743589743589743\n",
      "\u001b[36m(ClientAppActor pid=2909872)\u001b[0m Running epoch 4/5\n",
      "\u001b[36m(ClientAppActor pid=2909872)\u001b[0m Epoch 5: train loss 0.0010739728996458536, accuracy 1.0\n",
      "\u001b[36m(ClientAppActor pid=2909872)\u001b[0m Training completed!\n",
      "\u001b[36m(ClientAppActor pid=2909872)\u001b[0m Length of params: 1015\n"
     ]
    },
    {
     "name": "stderr",
     "output_type": "stream",
     "text": [
      "\u001b[36m(ClientAppActor pid=2909872)\u001b[0m \u001b[93mWARNING \u001b[0m:   Deprecation Warning: The `client_fn` function must return an instance of `Client`, but an instance of `NumpyClient` was returned. Please use `NumPyClient.to_client()` method to convert it to `Client`.\n"
     ]
    },
    {
     "name": "stdout",
     "output_type": "stream",
     "text": [
      "\u001b[36m(ClientAppActor pid=2909872)\u001b[0m [Client 0] fit, config: {'lr': 0.003}\n",
      "\u001b[36m(ClientAppActor pid=2909872)\u001b[0m Updating parameters 1015\n",
      "\u001b[36m(ClientAppActor pid=2909872)\u001b[0m Setting parameters...\n",
      "\u001b[36m(ClientAppActor pid=2909872)\u001b[0m Client parameters set\n",
      "\u001b[36m(ClientAppActor pid=2909872)\u001b[0m Starting client training...\n",
      "\u001b[36m(ClientAppActor pid=2909872)\u001b[0m Running epoch 0/5\n",
      "\u001b[36m(ClientAppActor pid=2909872)\u001b[0m Epoch 1: train loss 0.0015178328165068077, accuracy 1.0\n",
      "\u001b[36m(ClientAppActor pid=2909872)\u001b[0m Running epoch 1/5\n",
      "\u001b[36m(ClientAppActor pid=2909872)\u001b[0m Epoch 2: train loss 0.0002628366126326653, accuracy 1.0\n",
      "\u001b[36m(ClientAppActor pid=2909872)\u001b[0m Running epoch 2/5\n",
      "\u001b[36m(ClientAppActor pid=2909872)\u001b[0m Epoch 3: train loss 0.0007215824145346116, accuracy 1.0\n",
      "\u001b[36m(ClientAppActor pid=2909872)\u001b[0m Running epoch 3/5\n",
      "\u001b[36m(ClientAppActor pid=2909872)\u001b[0m Epoch 4: train loss 0.0007336099470893925, accuracy 1.0\n",
      "\u001b[36m(ClientAppActor pid=2909872)\u001b[0m Running epoch 4/5\n",
      "\u001b[36m(ClientAppActor pid=2909872)\u001b[0m Epoch 5: train loss 0.000313762661953194, accuracy 1.0\n",
      "\u001b[36m(ClientAppActor pid=2909872)\u001b[0m Training completed!\n",
      "\u001b[36m(ClientAppActor pid=2909872)\u001b[0m Length of params: 1015\n"
     ]
    },
    {
     "name": "stderr",
     "output_type": "stream",
     "text": [
      "\u001b[92mINFO \u001b[0m:      aggregate_fit: received 5 results and 0 failures\n"
     ]
    },
    {
     "name": "stdout",
     "output_type": "stream",
     "text": [
      "Evaluating global model\n",
      "Updating parameters 1015\n",
      "Setting parameters...\n",
      "Parameter set\n",
      "Starting client validation...\n",
      "Validataion accuracy = 0.9\n",
      "Global evaluation round 7 loss = 0.05439078770577908 accuracy = 0.9\n"
     ]
    },
    {
     "name": "stderr",
     "output_type": "stream",
     "text": [
      "\u001b[92mINFO \u001b[0m:      fit progress: (7, 0.05439078770577908, {}, 1934.1882617981173)\n",
      "\u001b[92mINFO \u001b[0m:      configure_evaluate: strategy sampled 5 clients (out of 5)\n"
     ]
    },
    {
     "name": "stdout",
     "output_type": "stream",
     "text": [
      "Model saved at ./fl_checkpointsdensenet169_e5_c5_r10/fl_densenet_7.pth\n"
     ]
    },
    {
     "name": "stderr",
     "output_type": "stream",
     "text": [
      "\u001b[36m(ClientAppActor pid=2909872)\u001b[0m \u001b[93mWARNING \u001b[0m:   Deprecation Warning: The `client_fn` function must return an instance of `Client`, but an instance of `NumpyClient` was returned. Please use `NumPyClient.to_client()` method to convert it to `Client`.\n"
     ]
    },
    {
     "name": "stdout",
     "output_type": "stream",
     "text": [
      "\u001b[36m(ClientAppActor pid=2909872)\u001b[0m [Client 3] evaluate, config: {}\n",
      "\u001b[36m(ClientAppActor pid=2909872)\u001b[0m Updating parameters 1015\n",
      "\u001b[36m(ClientAppActor pid=2909872)\u001b[0m Setting parameters...\n",
      "\u001b[36m(ClientAppActor pid=2909872)\u001b[0m Starting client validation...\n",
      "\u001b[36m(ClientAppActor pid=2909872)\u001b[0m Validataion accuracy = 0.9\n",
      "\u001b[36m(ClientAppActor pid=2909872)\u001b[0m Evaluation loss = 0.05439078770577908 accuracy = 0.9\n"
     ]
    },
    {
     "name": "stderr",
     "output_type": "stream",
     "text": [
      "\u001b[36m(ClientAppActor pid=2909872)\u001b[0m \u001b[93mWARNING \u001b[0m:   Deprecation Warning: The `client_fn` function must return an instance of `Client`, but an instance of `NumpyClient` was returned. Please use `NumPyClient.to_client()` method to convert it to `Client`.\n"
     ]
    },
    {
     "name": "stdout",
     "output_type": "stream",
     "text": [
      "\u001b[36m(ClientAppActor pid=2909872)\u001b[0m [Client 2] evaluate, config: {}\n",
      "\u001b[36m(ClientAppActor pid=2909872)\u001b[0m Updating parameters 1015\n",
      "\u001b[36m(ClientAppActor pid=2909872)\u001b[0m Setting parameters...\n",
      "\u001b[36m(ClientAppActor pid=2909872)\u001b[0m Starting client validation...\n",
      "\u001b[36m(ClientAppActor pid=2909872)\u001b[0m Validataion accuracy = 0.9\n",
      "\u001b[36m(ClientAppActor pid=2909872)\u001b[0m Evaluation loss = 0.05439078770577908 accuracy = 0.9\n"
     ]
    },
    {
     "name": "stderr",
     "output_type": "stream",
     "text": [
      "\u001b[36m(ClientAppActor pid=2909872)\u001b[0m \u001b[93mWARNING \u001b[0m:   Deprecation Warning: The `client_fn` function must return an instance of `Client`, but an instance of `NumpyClient` was returned. Please use `NumPyClient.to_client()` method to convert it to `Client`.\n"
     ]
    },
    {
     "name": "stdout",
     "output_type": "stream",
     "text": [
      "\u001b[36m(ClientAppActor pid=2909872)\u001b[0m [Client 4] evaluate, config: {}\n",
      "\u001b[36m(ClientAppActor pid=2909872)\u001b[0m Updating parameters 1015\n",
      "\u001b[36m(ClientAppActor pid=2909872)\u001b[0m Setting parameters...\n",
      "\u001b[36m(ClientAppActor pid=2909872)\u001b[0m Starting client validation...\n",
      "\u001b[36m(ClientAppActor pid=2909872)\u001b[0m Validataion accuracy = 0.9\n",
      "\u001b[36m(ClientAppActor pid=2909872)\u001b[0m Evaluation loss = 0.05439078770577908 accuracy = 0.9\n"
     ]
    },
    {
     "name": "stderr",
     "output_type": "stream",
     "text": [
      "\u001b[36m(ClientAppActor pid=2909872)\u001b[0m \u001b[93mWARNING \u001b[0m:   Deprecation Warning: The `client_fn` function must return an instance of `Client`, but an instance of `NumpyClient` was returned. Please use `NumPyClient.to_client()` method to convert it to `Client`.\n"
     ]
    },
    {
     "name": "stdout",
     "output_type": "stream",
     "text": [
      "\u001b[36m(ClientAppActor pid=2909872)\u001b[0m [Client 0] evaluate, config: {}\n",
      "\u001b[36m(ClientAppActor pid=2909872)\u001b[0m Updating parameters 1015\n",
      "\u001b[36m(ClientAppActor pid=2909872)\u001b[0m Setting parameters...\n",
      "\u001b[36m(ClientAppActor pid=2909872)\u001b[0m Starting client validation...\n",
      "\u001b[36m(ClientAppActor pid=2909872)\u001b[0m Validataion accuracy = 0.9\n",
      "\u001b[36m(ClientAppActor pid=2909872)\u001b[0m Evaluation loss = 0.05439078770577908 accuracy = 0.9\n"
     ]
    },
    {
     "name": "stderr",
     "output_type": "stream",
     "text": [
      "\u001b[36m(ClientAppActor pid=2909872)\u001b[0m \u001b[93mWARNING \u001b[0m:   Deprecation Warning: The `client_fn` function must return an instance of `Client`, but an instance of `NumpyClient` was returned. Please use `NumPyClient.to_client()` method to convert it to `Client`.\n"
     ]
    },
    {
     "name": "stdout",
     "output_type": "stream",
     "text": [
      "\u001b[36m(ClientAppActor pid=2909872)\u001b[0m [Client 1] evaluate, config: {}\n",
      "\u001b[36m(ClientAppActor pid=2909872)\u001b[0m Updating parameters 1015\n",
      "\u001b[36m(ClientAppActor pid=2909872)\u001b[0m Setting parameters...\n",
      "\u001b[36m(ClientAppActor pid=2909872)\u001b[0m Starting client validation...\n"
     ]
    },
    {
     "name": "stderr",
     "output_type": "stream",
     "text": [
      "\u001b[92mINFO \u001b[0m:      aggregate_evaluate: received 5 results and 0 failures\n",
      "\u001b[92mINFO \u001b[0m:      \n",
      "\u001b[92mINFO \u001b[0m:      [ROUND 8]\n",
      "\u001b[92mINFO \u001b[0m:      configure_fit: strategy sampled 5 clients (out of 5)\n"
     ]
    },
    {
     "name": "stdout",
     "output_type": "stream",
     "text": [
      "Starting configure fit function...\n",
      "Sample size = 5 Min Num Clients = 2 Clients = [<flwr.simulation.ray_transport.ray_client_proxy.RayActorClientProxy object at 0x15535efa4350>, <flwr.simulation.ray_transport.ray_client_proxy.RayActorClientProxy object at 0x15535efa5990>, <flwr.simulation.ray_transport.ray_client_proxy.RayActorClientProxy object at 0x15535efa5710>, <flwr.simulation.ray_transport.ray_client_proxy.RayActorClientProxy object at 0x15535efa6410>, <flwr.simulation.ray_transport.ray_client_proxy.RayActorClientProxy object at 0x15535efa5550>]\n",
      "Number of clients = 5\n",
      "Fit Configurations\n",
      "\u001b[36m(ClientAppActor pid=2909872)\u001b[0m Validataion accuracy = 0.9\n",
      "\u001b[36m(ClientAppActor pid=2909872)\u001b[0m Evaluation loss = 0.05439078770577908 accuracy = 0.9\n"
     ]
    },
    {
     "name": "stderr",
     "output_type": "stream",
     "text": [
      "\u001b[36m(ClientAppActor pid=2909872)\u001b[0m \u001b[93mWARNING \u001b[0m:   Deprecation Warning: The `client_fn` function must return an instance of `Client`, but an instance of `NumpyClient` was returned. Please use `NumPyClient.to_client()` method to convert it to `Client`.\n"
     ]
    },
    {
     "name": "stdout",
     "output_type": "stream",
     "text": [
      "\u001b[36m(ClientAppActor pid=2909872)\u001b[0m [Client 4] fit, config: {'lr': 0.001}\n",
      "\u001b[36m(ClientAppActor pid=2909872)\u001b[0m Updating parameters 1015\n",
      "\u001b[36m(ClientAppActor pid=2909872)\u001b[0m Setting parameters...\n",
      "\u001b[36m(ClientAppActor pid=2909872)\u001b[0m Client parameters set\n",
      "\u001b[36m(ClientAppActor pid=2909872)\u001b[0m Starting client training...\n",
      "\u001b[36m(ClientAppActor pid=2909872)\u001b[0m Running epoch 0/5\n",
      "\u001b[36m(ClientAppActor pid=2909872)\u001b[0m Epoch 1: train loss 0.0016820159857161344, accuracy 1.0\n",
      "\u001b[36m(ClientAppActor pid=2909872)\u001b[0m Running epoch 1/5\n",
      "\u001b[36m(ClientAppActor pid=2909872)\u001b[0m Epoch 2: train loss 0.0005355319823138416, accuracy 1.0\n",
      "\u001b[36m(ClientAppActor pid=2909872)\u001b[0m Running epoch 2/5\n",
      "\u001b[36m(ClientAppActor pid=2909872)\u001b[0m Epoch 3: train loss 0.00034449536469765006, accuracy 1.0\n",
      "\u001b[36m(ClientAppActor pid=2909872)\u001b[0m Running epoch 3/5\n",
      "\u001b[36m(ClientAppActor pid=2909872)\u001b[0m Epoch 4: train loss 0.001214078941848129, accuracy 1.0\n",
      "\u001b[36m(ClientAppActor pid=2909872)\u001b[0m Running epoch 4/5\n",
      "\u001b[36m(ClientAppActor pid=2909872)\u001b[0m Epoch 5: train loss 0.00018100989691447467, accuracy 1.0\n",
      "\u001b[36m(ClientAppActor pid=2909872)\u001b[0m Training completed!\n",
      "\u001b[36m(ClientAppActor pid=2909872)\u001b[0m Length of params: 1015\n"
     ]
    },
    {
     "name": "stderr",
     "output_type": "stream",
     "text": [
      "\u001b[36m(ClientAppActor pid=2909872)\u001b[0m \u001b[93mWARNING \u001b[0m:   Deprecation Warning: The `client_fn` function must return an instance of `Client`, but an instance of `NumpyClient` was returned. Please use `NumPyClient.to_client()` method to convert it to `Client`.\n"
     ]
    },
    {
     "name": "stdout",
     "output_type": "stream",
     "text": [
      "\u001b[36m(ClientAppActor pid=2909872)\u001b[0m [Client 2] fit, config: {'lr': 0.001}\n",
      "\u001b[36m(ClientAppActor pid=2909872)\u001b[0m Updating parameters 1015\n",
      "\u001b[36m(ClientAppActor pid=2909872)\u001b[0m Setting parameters...\n",
      "\u001b[36m(ClientAppActor pid=2909872)\u001b[0m Client parameters set\n",
      "\u001b[36m(ClientAppActor pid=2909872)\u001b[0m Starting client training...\n",
      "\u001b[36m(ClientAppActor pid=2909872)\u001b[0m Running epoch 0/5\n",
      "\u001b[36m(ClientAppActor pid=2909872)\u001b[0m Epoch 1: train loss 0.002714114252459974, accuracy 1.0\n",
      "\u001b[36m(ClientAppActor pid=2909872)\u001b[0m Running epoch 1/5\n",
      "\u001b[36m(ClientAppActor pid=2909872)\u001b[0m Epoch 2: train loss 0.0005229220259934664, accuracy 1.0\n",
      "\u001b[36m(ClientAppActor pid=2909872)\u001b[0m Running epoch 2/5\n",
      "\u001b[36m(ClientAppActor pid=2909872)\u001b[0m Epoch 3: train loss 0.0008934083432391979, accuracy 1.0\n",
      "\u001b[36m(ClientAppActor pid=2909872)\u001b[0m Running epoch 3/5\n",
      "\u001b[36m(ClientAppActor pid=2909872)\u001b[0m Epoch 4: train loss 0.0010427740068198778, accuracy 1.0\n",
      "\u001b[36m(ClientAppActor pid=2909872)\u001b[0m Running epoch 4/5\n",
      "\u001b[36m(ClientAppActor pid=2909872)\u001b[0m Epoch 5: train loss 0.0032690830337695586, accuracy 1.0\n",
      "\u001b[36m(ClientAppActor pid=2909872)\u001b[0m Training completed!\n",
      "\u001b[36m(ClientAppActor pid=2909872)\u001b[0m Length of params: 1015\n"
     ]
    },
    {
     "name": "stderr",
     "output_type": "stream",
     "text": [
      "\u001b[36m(ClientAppActor pid=2909872)\u001b[0m \u001b[93mWARNING \u001b[0m:   Deprecation Warning: The `client_fn` function must return an instance of `Client`, but an instance of `NumpyClient` was returned. Please use `NumPyClient.to_client()` method to convert it to `Client`.\n"
     ]
    },
    {
     "name": "stdout",
     "output_type": "stream",
     "text": [
      "\u001b[36m(ClientAppActor pid=2909872)\u001b[0m [Client 0] fit, config: {'lr': 0.003}\n",
      "\u001b[36m(ClientAppActor pid=2909872)\u001b[0m Updating parameters 1015\n",
      "\u001b[36m(ClientAppActor pid=2909872)\u001b[0m Setting parameters...\n",
      "\u001b[36m(ClientAppActor pid=2909872)\u001b[0m Client parameters set\n",
      "\u001b[36m(ClientAppActor pid=2909872)\u001b[0m Starting client training...\n",
      "\u001b[36m(ClientAppActor pid=2909872)\u001b[0m Running epoch 0/5\n",
      "\u001b[36m(ClientAppActor pid=2909872)\u001b[0m Epoch 1: train loss 0.0003212839215755081, accuracy 1.0\n",
      "\u001b[36m(ClientAppActor pid=2909872)\u001b[0m Running epoch 1/5\n",
      "\u001b[36m(ClientAppActor pid=2909872)\u001b[0m Epoch 2: train loss 0.00030730588612361596, accuracy 1.0\n",
      "\u001b[36m(ClientAppActor pid=2909872)\u001b[0m Running epoch 2/5\n",
      "\u001b[36m(ClientAppActor pid=2909872)\u001b[0m Epoch 3: train loss 0.00022723769898920393, accuracy 1.0\n",
      "\u001b[36m(ClientAppActor pid=2909872)\u001b[0m Running epoch 3/5\n",
      "\u001b[36m(ClientAppActor pid=2909872)\u001b[0m Epoch 4: train loss 0.0005671120314405132, accuracy 1.0\n",
      "\u001b[36m(ClientAppActor pid=2909872)\u001b[0m Running epoch 4/5\n",
      "\u001b[36m(ClientAppActor pid=2909872)\u001b[0m Epoch 5: train loss 0.0001772054141232123, accuracy 1.0\n",
      "\u001b[36m(ClientAppActor pid=2909872)\u001b[0m Training completed!\n",
      "\u001b[36m(ClientAppActor pid=2909872)\u001b[0m Length of params: 1015\n"
     ]
    },
    {
     "name": "stderr",
     "output_type": "stream",
     "text": [
      "\u001b[36m(ClientAppActor pid=2909872)\u001b[0m \u001b[93mWARNING \u001b[0m:   Deprecation Warning: The `client_fn` function must return an instance of `Client`, but an instance of `NumpyClient` was returned. Please use `NumPyClient.to_client()` method to convert it to `Client`.\n"
     ]
    },
    {
     "name": "stdout",
     "output_type": "stream",
     "text": [
      "\u001b[36m(ClientAppActor pid=2909872)\u001b[0m [Client 1] fit, config: {'lr': 0.003}\n",
      "\u001b[36m(ClientAppActor pid=2909872)\u001b[0m Updating parameters 1015\n",
      "\u001b[36m(ClientAppActor pid=2909872)\u001b[0m Setting parameters...\n",
      "\u001b[36m(ClientAppActor pid=2909872)\u001b[0m Client parameters set\n",
      "\u001b[36m(ClientAppActor pid=2909872)\u001b[0m Starting client training...\n",
      "\u001b[36m(ClientAppActor pid=2909872)\u001b[0m Running epoch 0/5\n",
      "\u001b[36m(ClientAppActor pid=2909872)\u001b[0m Epoch 1: train loss 0.008663767136824436, accuracy 1.0\n",
      "\u001b[36m(ClientAppActor pid=2909872)\u001b[0m Running epoch 1/5\n",
      "\u001b[36m(ClientAppActor pid=2909872)\u001b[0m Epoch 2: train loss 0.0015336595033892454, accuracy 1.0\n",
      "\u001b[36m(ClientAppActor pid=2909872)\u001b[0m Running epoch 2/5\n",
      "\u001b[36m(ClientAppActor pid=2909872)\u001b[0m Epoch 3: train loss 0.011001283917814875, accuracy 1.0\n",
      "\u001b[36m(ClientAppActor pid=2909872)\u001b[0m Running epoch 3/5\n",
      "\u001b[36m(ClientAppActor pid=2909872)\u001b[0m Epoch 4: train loss 0.08000332783334531, accuracy 0.9743589743589743\n",
      "\u001b[36m(ClientAppActor pid=2909872)\u001b[0m Running epoch 4/5\n",
      "\u001b[36m(ClientAppActor pid=2909872)\u001b[0m Epoch 5: train loss 0.0010331011114594264, accuracy 1.0\n",
      "\u001b[36m(ClientAppActor pid=2909872)\u001b[0m Training completed!\n",
      "\u001b[36m(ClientAppActor pid=2909872)\u001b[0m Length of params: 1015\n"
     ]
    },
    {
     "name": "stderr",
     "output_type": "stream",
     "text": [
      "\u001b[36m(ClientAppActor pid=2909872)\u001b[0m \u001b[93mWARNING \u001b[0m:   Deprecation Warning: The `client_fn` function must return an instance of `Client`, but an instance of `NumpyClient` was returned. Please use `NumPyClient.to_client()` method to convert it to `Client`.\n"
     ]
    },
    {
     "name": "stdout",
     "output_type": "stream",
     "text": [
      "\u001b[36m(ClientAppActor pid=2909872)\u001b[0m [Client 3] fit, config: {'lr': 0.003}\n",
      "\u001b[36m(ClientAppActor pid=2909872)\u001b[0m Updating parameters 1015\n",
      "\u001b[36m(ClientAppActor pid=2909872)\u001b[0m Setting parameters...\n",
      "\u001b[36m(ClientAppActor pid=2909872)\u001b[0m Client parameters set\n",
      "\u001b[36m(ClientAppActor pid=2909872)\u001b[0m Starting client training...\n",
      "\u001b[36m(ClientAppActor pid=2909872)\u001b[0m Running epoch 0/5\n",
      "\u001b[36m(ClientAppActor pid=2909872)\u001b[0m Epoch 1: train loss 0.0003361866073623204, accuracy 1.0\n",
      "\u001b[36m(ClientAppActor pid=2909872)\u001b[0m Running epoch 1/5\n",
      "\u001b[36m(ClientAppActor pid=2909872)\u001b[0m Epoch 2: train loss 0.0003855718614664884, accuracy 1.0\n",
      "\u001b[36m(ClientAppActor pid=2909872)\u001b[0m Running epoch 2/5\n",
      "\u001b[36m(ClientAppActor pid=2909872)\u001b[0m Epoch 3: train loss 0.0003902593676824696, accuracy 1.0\n",
      "\u001b[36m(ClientAppActor pid=2909872)\u001b[0m Running epoch 3/5\n",
      "\u001b[36m(ClientAppActor pid=2909872)\u001b[0m Epoch 4: train loss 0.00035975588103517506, accuracy 1.0\n",
      "\u001b[36m(ClientAppActor pid=2909872)\u001b[0m Running epoch 4/5\n",
      "\u001b[36m(ClientAppActor pid=2909872)\u001b[0m Epoch 5: train loss 0.0005801296807849446, accuracy 1.0\n",
      "\u001b[36m(ClientAppActor pid=2909872)\u001b[0m Training completed!\n",
      "\u001b[36m(ClientAppActor pid=2909872)\u001b[0m Length of params: 1015\n"
     ]
    },
    {
     "name": "stderr",
     "output_type": "stream",
     "text": [
      "\u001b[92mINFO \u001b[0m:      aggregate_fit: received 5 results and 0 failures\n"
     ]
    },
    {
     "name": "stdout",
     "output_type": "stream",
     "text": [
      "Evaluating global model\n",
      "Updating parameters 1015\n",
      "Setting parameters...\n",
      "Parameter set\n",
      "Starting client validation...\n",
      "Validataion accuracy = 0.8666666666666667\n",
      "Global evaluation round 8 loss = 0.07999197108050188 accuracy = 0.8666666666666667\n"
     ]
    },
    {
     "name": "stderr",
     "output_type": "stream",
     "text": [
      "\u001b[92mINFO \u001b[0m:      fit progress: (8, 0.07999197108050188, {}, 2177.563908013981)\n",
      "\u001b[92mINFO \u001b[0m:      configure_evaluate: strategy sampled 5 clients (out of 5)\n"
     ]
    },
    {
     "name": "stdout",
     "output_type": "stream",
     "text": [
      "Model saved at ./fl_checkpointsdensenet169_e5_c5_r10/fl_densenet_8.pth\n"
     ]
    },
    {
     "name": "stderr",
     "output_type": "stream",
     "text": [
      "\u001b[36m(ClientAppActor pid=2909872)\u001b[0m \u001b[93mWARNING \u001b[0m:   Deprecation Warning: The `client_fn` function must return an instance of `Client`, but an instance of `NumpyClient` was returned. Please use `NumPyClient.to_client()` method to convert it to `Client`.\n"
     ]
    },
    {
     "name": "stdout",
     "output_type": "stream",
     "text": [
      "\u001b[36m(ClientAppActor pid=2909872)\u001b[0m [Client 3] evaluate, config: {}\n",
      "\u001b[36m(ClientAppActor pid=2909872)\u001b[0m Updating parameters 1015\n",
      "\u001b[36m(ClientAppActor pid=2909872)\u001b[0m Setting parameters...\n",
      "\u001b[36m(ClientAppActor pid=2909872)\u001b[0m Starting client validation...\n",
      "\u001b[36m(ClientAppActor pid=2909872)\u001b[0m Validataion accuracy = 0.8666666666666667\n",
      "\u001b[36m(ClientAppActor pid=2909872)\u001b[0m Evaluation loss = 0.07999197108050188 accuracy = 0.8666666666666667\n"
     ]
    },
    {
     "name": "stderr",
     "output_type": "stream",
     "text": [
      "\u001b[36m(ClientAppActor pid=2909872)\u001b[0m \u001b[93mWARNING \u001b[0m:   Deprecation Warning: The `client_fn` function must return an instance of `Client`, but an instance of `NumpyClient` was returned. Please use `NumPyClient.to_client()` method to convert it to `Client`.\n"
     ]
    },
    {
     "name": "stdout",
     "output_type": "stream",
     "text": [
      "\u001b[36m(ClientAppActor pid=2909872)\u001b[0m [Client 2] evaluate, config: {}\n",
      "\u001b[36m(ClientAppActor pid=2909872)\u001b[0m Updating parameters 1015\n",
      "\u001b[36m(ClientAppActor pid=2909872)\u001b[0m Setting parameters...\n",
      "\u001b[36m(ClientAppActor pid=2909872)\u001b[0m Starting client validation...\n",
      "\u001b[36m(ClientAppActor pid=2909872)\u001b[0m Validataion accuracy = 0.8666666666666667\n",
      "\u001b[36m(ClientAppActor pid=2909872)\u001b[0m Evaluation loss = 0.07999197108050188 accuracy = 0.8666666666666667\n"
     ]
    },
    {
     "name": "stderr",
     "output_type": "stream",
     "text": [
      "\u001b[36m(ClientAppActor pid=2909872)\u001b[0m \u001b[93mWARNING \u001b[0m:   Deprecation Warning: The `client_fn` function must return an instance of `Client`, but an instance of `NumpyClient` was returned. Please use `NumPyClient.to_client()` method to convert it to `Client`.\n"
     ]
    },
    {
     "name": "stdout",
     "output_type": "stream",
     "text": [
      "\u001b[36m(ClientAppActor pid=2909872)\u001b[0m [Client 1] evaluate, config: {}\n",
      "\u001b[36m(ClientAppActor pid=2909872)\u001b[0m Updating parameters 1015\n",
      "\u001b[36m(ClientAppActor pid=2909872)\u001b[0m Setting parameters...\n",
      "\u001b[36m(ClientAppActor pid=2909872)\u001b[0m Starting client validation...\n",
      "\u001b[36m(ClientAppActor pid=2909872)\u001b[0m Validataion accuracy = 0.8666666666666667\n",
      "\u001b[36m(ClientAppActor pid=2909872)\u001b[0m Evaluation loss = 0.07999197108050188 accuracy = 0.8666666666666667\n"
     ]
    },
    {
     "name": "stderr",
     "output_type": "stream",
     "text": [
      "\u001b[36m(ClientAppActor pid=2909872)\u001b[0m \u001b[93mWARNING \u001b[0m:   Deprecation Warning: The `client_fn` function must return an instance of `Client`, but an instance of `NumpyClient` was returned. Please use `NumPyClient.to_client()` method to convert it to `Client`.\n"
     ]
    },
    {
     "name": "stdout",
     "output_type": "stream",
     "text": [
      "\u001b[36m(ClientAppActor pid=2909872)\u001b[0m [Client 0] evaluate, config: {}\n",
      "\u001b[36m(ClientAppActor pid=2909872)\u001b[0m Updating parameters 1015\n",
      "\u001b[36m(ClientAppActor pid=2909872)\u001b[0m Setting parameters...\n",
      "\u001b[36m(ClientAppActor pid=2909872)\u001b[0m Starting client validation...\n",
      "\u001b[36m(ClientAppActor pid=2909872)\u001b[0m Validataion accuracy = 0.8666666666666667\n",
      "\u001b[36m(ClientAppActor pid=2909872)\u001b[0m Evaluation loss = 0.07999197108050188 accuracy = 0.8666666666666667\n"
     ]
    },
    {
     "name": "stderr",
     "output_type": "stream",
     "text": [
      "\u001b[36m(ClientAppActor pid=2909872)\u001b[0m \u001b[93mWARNING \u001b[0m:   Deprecation Warning: The `client_fn` function must return an instance of `Client`, but an instance of `NumpyClient` was returned. Please use `NumPyClient.to_client()` method to convert it to `Client`.\n"
     ]
    },
    {
     "name": "stdout",
     "output_type": "stream",
     "text": [
      "\u001b[36m(ClientAppActor pid=2909872)\u001b[0m [Client 4] evaluate, config: {}\n",
      "\u001b[36m(ClientAppActor pid=2909872)\u001b[0m Updating parameters 1015\n",
      "\u001b[36m(ClientAppActor pid=2909872)\u001b[0m Setting parameters...\n",
      "\u001b[36m(ClientAppActor pid=2909872)\u001b[0m Starting client validation...\n"
     ]
    },
    {
     "name": "stderr",
     "output_type": "stream",
     "text": [
      "\u001b[92mINFO \u001b[0m:      aggregate_evaluate: received 5 results and 0 failures\n",
      "\u001b[92mINFO \u001b[0m:      \n",
      "\u001b[92mINFO \u001b[0m:      [ROUND 9]\n",
      "\u001b[92mINFO \u001b[0m:      configure_fit: strategy sampled 5 clients (out of 5)\n"
     ]
    },
    {
     "name": "stdout",
     "output_type": "stream",
     "text": [
      "Starting configure fit function...\n",
      "Sample size = 5 Min Num Clients = 2 Clients = [<flwr.simulation.ray_transport.ray_client_proxy.RayActorClientProxy object at 0x15535efa5550>, <flwr.simulation.ray_transport.ray_client_proxy.RayActorClientProxy object at 0x15535efa5710>, <flwr.simulation.ray_transport.ray_client_proxy.RayActorClientProxy object at 0x15535efa4350>, <flwr.simulation.ray_transport.ray_client_proxy.RayActorClientProxy object at 0x15535efa5990>, <flwr.simulation.ray_transport.ray_client_proxy.RayActorClientProxy object at 0x15535efa6410>]\n",
      "Number of clients = 5\n",
      "Fit Configurations\n",
      "\u001b[36m(ClientAppActor pid=2909872)\u001b[0m Validataion accuracy = 0.8666666666666667\n",
      "\u001b[36m(ClientAppActor pid=2909872)\u001b[0m Evaluation loss = 0.07999197108050188 accuracy = 0.8666666666666667\n"
     ]
    },
    {
     "name": "stderr",
     "output_type": "stream",
     "text": [
      "\u001b[36m(ClientAppActor pid=2909872)\u001b[0m \u001b[93mWARNING \u001b[0m:   Deprecation Warning: The `client_fn` function must return an instance of `Client`, but an instance of `NumpyClient` was returned. Please use `NumPyClient.to_client()` method to convert it to `Client`.\n"
     ]
    },
    {
     "name": "stdout",
     "output_type": "stream",
     "text": [
      "\u001b[36m(ClientAppActor pid=2909872)\u001b[0m [Client 3] fit, config: {'lr': 0.001}\n",
      "\u001b[36m(ClientAppActor pid=2909872)\u001b[0m Updating parameters 1015\n",
      "\u001b[36m(ClientAppActor pid=2909872)\u001b[0m Setting parameters...\n",
      "\u001b[36m(ClientAppActor pid=2909872)\u001b[0m Client parameters set\n",
      "\u001b[36m(ClientAppActor pid=2909872)\u001b[0m Starting client training...\n",
      "\u001b[36m(ClientAppActor pid=2909872)\u001b[0m Running epoch 0/5\n",
      "\u001b[36m(ClientAppActor pid=2909872)\u001b[0m Epoch 1: train loss 0.00011329085702107896, accuracy 1.0\n",
      "\u001b[36m(ClientAppActor pid=2909872)\u001b[0m Running epoch 1/5\n",
      "\u001b[36m(ClientAppActor pid=2909872)\u001b[0m Epoch 2: train loss 6.741551652129811e-05, accuracy 1.0\n",
      "\u001b[36m(ClientAppActor pid=2909872)\u001b[0m Running epoch 2/5\n",
      "\u001b[36m(ClientAppActor pid=2909872)\u001b[0m Epoch 3: train loss 8.768758785803444e-05, accuracy 1.0\n",
      "\u001b[36m(ClientAppActor pid=2909872)\u001b[0m Running epoch 3/5\n",
      "\u001b[36m(ClientAppActor pid=2909872)\u001b[0m Epoch 4: train loss 0.0014672613887784954, accuracy 1.0\n",
      "\u001b[36m(ClientAppActor pid=2909872)\u001b[0m Running epoch 4/5\n",
      "\u001b[36m(ClientAppActor pid=2909872)\u001b[0m Epoch 5: train loss 0.03657364616773497, accuracy 1.0\n",
      "\u001b[36m(ClientAppActor pid=2909872)\u001b[0m Training completed!\n",
      "\u001b[36m(ClientAppActor pid=2909872)\u001b[0m Length of params: 1015\n"
     ]
    },
    {
     "name": "stderr",
     "output_type": "stream",
     "text": [
      "\u001b[36m(ClientAppActor pid=2909872)\u001b[0m \u001b[93mWARNING \u001b[0m:   Deprecation Warning: The `client_fn` function must return an instance of `Client`, but an instance of `NumpyClient` was returned. Please use `NumPyClient.to_client()` method to convert it to `Client`.\n"
     ]
    },
    {
     "name": "stdout",
     "output_type": "stream",
     "text": [
      "\u001b[36m(ClientAppActor pid=2909872)\u001b[0m [Client 0] fit, config: {'lr': 0.001}\n",
      "\u001b[36m(ClientAppActor pid=2909872)\u001b[0m Updating parameters 1015\n",
      "\u001b[36m(ClientAppActor pid=2909872)\u001b[0m Setting parameters...\n",
      "\u001b[36m(ClientAppActor pid=2909872)\u001b[0m Client parameters set\n",
      "\u001b[36m(ClientAppActor pid=2909872)\u001b[0m Starting client training...\n",
      "\u001b[36m(ClientAppActor pid=2909872)\u001b[0m Running epoch 0/5\n",
      "\u001b[36m(ClientAppActor pid=2909872)\u001b[0m Epoch 1: train loss 7.410125293133136e-05, accuracy 1.0\n",
      "\u001b[36m(ClientAppActor pid=2909872)\u001b[0m Running epoch 1/5\n",
      "\u001b[36m(ClientAppActor pid=2909872)\u001b[0m Epoch 2: train loss 4.5847071398897337e-05, accuracy 1.0\n",
      "\u001b[36m(ClientAppActor pid=2909872)\u001b[0m Running epoch 2/5\n",
      "\u001b[36m(ClientAppActor pid=2909872)\u001b[0m Epoch 3: train loss 5.282788343044022e-05, accuracy 1.0\n",
      "\u001b[36m(ClientAppActor pid=2909872)\u001b[0m Running epoch 3/5\n",
      "\u001b[36m(ClientAppActor pid=2909872)\u001b[0m Epoch 4: train loss 1.4405772535843798e-05, accuracy 1.0\n",
      "\u001b[36m(ClientAppActor pid=2909872)\u001b[0m Running epoch 4/5\n",
      "\u001b[36m(ClientAppActor pid=2909872)\u001b[0m Epoch 5: train loss 5.92201160123715e-05, accuracy 1.0\n",
      "\u001b[36m(ClientAppActor pid=2909872)\u001b[0m Training completed!\n",
      "\u001b[36m(ClientAppActor pid=2909872)\u001b[0m Length of params: 1015\n"
     ]
    },
    {
     "name": "stderr",
     "output_type": "stream",
     "text": [
      "\u001b[36m(ClientAppActor pid=2909872)\u001b[0m \u001b[93mWARNING \u001b[0m:   Deprecation Warning: The `client_fn` function must return an instance of `Client`, but an instance of `NumpyClient` was returned. Please use `NumPyClient.to_client()` method to convert it to `Client`.\n"
     ]
    },
    {
     "name": "stdout",
     "output_type": "stream",
     "text": [
      "\u001b[36m(ClientAppActor pid=2909872)\u001b[0m [Client 4] fit, config: {'lr': 0.003}\n",
      "\u001b[36m(ClientAppActor pid=2909872)\u001b[0m Updating parameters 1015\n",
      "\u001b[36m(ClientAppActor pid=2909872)\u001b[0m Setting parameters...\n",
      "\u001b[36m(ClientAppActor pid=2909872)\u001b[0m Client parameters set\n",
      "\u001b[36m(ClientAppActor pid=2909872)\u001b[0m Starting client training...\n",
      "\u001b[36m(ClientAppActor pid=2909872)\u001b[0m Running epoch 0/5\n",
      "\u001b[36m(ClientAppActor pid=2909872)\u001b[0m Epoch 1: train loss 0.003192735114134848, accuracy 1.0\n",
      "\u001b[36m(ClientAppActor pid=2909872)\u001b[0m Running epoch 1/5\n",
      "\u001b[36m(ClientAppActor pid=2909872)\u001b[0m Epoch 2: train loss 0.6415975250900374, accuracy 0.875\n",
      "\u001b[36m(ClientAppActor pid=2909872)\u001b[0m Running epoch 2/5\n",
      "\u001b[36m(ClientAppActor pid=2909872)\u001b[0m Epoch 3: train loss 0.00036961217410862445, accuracy 1.0\n",
      "\u001b[36m(ClientAppActor pid=2909872)\u001b[0m Running epoch 3/5\n",
      "\u001b[36m(ClientAppActor pid=2909872)\u001b[0m Epoch 4: train loss 0.006803860128275119, accuracy 1.0\n",
      "\u001b[36m(ClientAppActor pid=2909872)\u001b[0m Running epoch 4/5\n",
      "\u001b[36m(ClientAppActor pid=2909872)\u001b[0m Epoch 5: train loss 0.04159024665132165, accuracy 0.975\n",
      "\u001b[36m(ClientAppActor pid=2909872)\u001b[0m Training completed!\n",
      "\u001b[36m(ClientAppActor pid=2909872)\u001b[0m Length of params: 1015\n"
     ]
    },
    {
     "name": "stderr",
     "output_type": "stream",
     "text": [
      "\u001b[36m(ClientAppActor pid=2909872)\u001b[0m \u001b[93mWARNING \u001b[0m:   Deprecation Warning: The `client_fn` function must return an instance of `Client`, but an instance of `NumpyClient` was returned. Please use `NumPyClient.to_client()` method to convert it to `Client`.\n"
     ]
    },
    {
     "name": "stdout",
     "output_type": "stream",
     "text": [
      "\u001b[36m(ClientAppActor pid=2909872)\u001b[0m [Client 2] fit, config: {'lr': 0.003}\n",
      "\u001b[36m(ClientAppActor pid=2909872)\u001b[0m Updating parameters 1015\n",
      "\u001b[36m(ClientAppActor pid=2909872)\u001b[0m Setting parameters...\n",
      "\u001b[36m(ClientAppActor pid=2909872)\u001b[0m Client parameters set\n",
      "\u001b[36m(ClientAppActor pid=2909872)\u001b[0m Starting client training...\n",
      "\u001b[36m(ClientAppActor pid=2909872)\u001b[0m Running epoch 0/5\n",
      "\u001b[36m(ClientAppActor pid=2909872)\u001b[0m Epoch 1: train loss 0.0001521183050779375, accuracy 1.0\n",
      "\u001b[36m(ClientAppActor pid=2909872)\u001b[0m Running epoch 1/5\n",
      "\u001b[36m(ClientAppActor pid=2909872)\u001b[0m Epoch 2: train loss 0.00010758128523892269, accuracy 1.0\n",
      "\u001b[36m(ClientAppActor pid=2909872)\u001b[0m Running epoch 2/5\n",
      "\u001b[36m(ClientAppActor pid=2909872)\u001b[0m Epoch 3: train loss 0.0001228347872921194, accuracy 1.0\n",
      "\u001b[36m(ClientAppActor pid=2909872)\u001b[0m Running epoch 3/5\n",
      "\u001b[36m(ClientAppActor pid=2909872)\u001b[0m Epoch 4: train loss 7.222269759483587e-05, accuracy 1.0\n",
      "\u001b[36m(ClientAppActor pid=2909872)\u001b[0m Running epoch 4/5\n",
      "\u001b[36m(ClientAppActor pid=2909872)\u001b[0m Epoch 5: train loss 0.000275437878232109, accuracy 1.0\n",
      "\u001b[36m(ClientAppActor pid=2909872)\u001b[0m Training completed!\n",
      "\u001b[36m(ClientAppActor pid=2909872)\u001b[0m Length of params: 1015\n"
     ]
    },
    {
     "name": "stderr",
     "output_type": "stream",
     "text": [
      "\u001b[36m(ClientAppActor pid=2909872)\u001b[0m \u001b[93mWARNING \u001b[0m:   Deprecation Warning: The `client_fn` function must return an instance of `Client`, but an instance of `NumpyClient` was returned. Please use `NumPyClient.to_client()` method to convert it to `Client`.\n"
     ]
    },
    {
     "name": "stdout",
     "output_type": "stream",
     "text": [
      "\u001b[36m(ClientAppActor pid=2909872)\u001b[0m [Client 1] fit, config: {'lr': 0.003}\n",
      "\u001b[36m(ClientAppActor pid=2909872)\u001b[0m Updating parameters 1015\n",
      "\u001b[36m(ClientAppActor pid=2909872)\u001b[0m Setting parameters...\n",
      "\u001b[36m(ClientAppActor pid=2909872)\u001b[0m Client parameters set\n",
      "\u001b[36m(ClientAppActor pid=2909872)\u001b[0m Starting client training...\n",
      "\u001b[36m(ClientAppActor pid=2909872)\u001b[0m Running epoch 0/5\n",
      "\u001b[36m(ClientAppActor pid=2909872)\u001b[0m Epoch 1: train loss 0.014249678599672059, accuracy 1.0\n",
      "\u001b[36m(ClientAppActor pid=2909872)\u001b[0m Running epoch 1/5\n",
      "\u001b[36m(ClientAppActor pid=2909872)\u001b[0m Epoch 2: train loss 0.00039749559297118907, accuracy 1.0\n",
      "\u001b[36m(ClientAppActor pid=2909872)\u001b[0m Running epoch 2/5\n",
      "\u001b[36m(ClientAppActor pid=2909872)\u001b[0m Epoch 3: train loss 0.0004989170105172655, accuracy 1.0\n",
      "\u001b[36m(ClientAppActor pid=2909872)\u001b[0m Running epoch 3/5\n",
      "\u001b[36m(ClientAppActor pid=2909872)\u001b[0m Epoch 4: train loss 0.0020791143716241303, accuracy 1.0\n",
      "\u001b[36m(ClientAppActor pid=2909872)\u001b[0m Running epoch 4/5\n",
      "\u001b[36m(ClientAppActor pid=2909872)\u001b[0m Epoch 5: train loss 0.003923991360725501, accuracy 1.0\n",
      "\u001b[36m(ClientAppActor pid=2909872)\u001b[0m Training completed!\n",
      "\u001b[36m(ClientAppActor pid=2909872)\u001b[0m Length of params: 1015\n"
     ]
    },
    {
     "name": "stderr",
     "output_type": "stream",
     "text": [
      "\u001b[92mINFO \u001b[0m:      aggregate_fit: received 5 results and 0 failures\n"
     ]
    },
    {
     "name": "stdout",
     "output_type": "stream",
     "text": [
      "Evaluating global model\n",
      "Updating parameters 1015\n",
      "Setting parameters...\n",
      "Parameter set\n",
      "Starting client validation...\n",
      "Validataion accuracy = 0.8666666666666667\n",
      "Global evaluation round 9 loss = 0.06591762552658717 accuracy = 0.8666666666666667\n"
     ]
    },
    {
     "name": "stderr",
     "output_type": "stream",
     "text": [
      "\u001b[92mINFO \u001b[0m:      fit progress: (9, 0.06591762552658717, {}, 2416.8468879810534)\n",
      "\u001b[92mINFO \u001b[0m:      configure_evaluate: strategy sampled 5 clients (out of 5)\n"
     ]
    },
    {
     "name": "stdout",
     "output_type": "stream",
     "text": [
      "Model saved at ./fl_checkpointsdensenet169_e5_c5_r10/fl_densenet_9.pth\n"
     ]
    },
    {
     "name": "stderr",
     "output_type": "stream",
     "text": [
      "\u001b[36m(ClientAppActor pid=2909872)\u001b[0m \u001b[93mWARNING \u001b[0m:   Deprecation Warning: The `client_fn` function must return an instance of `Client`, but an instance of `NumpyClient` was returned. Please use `NumPyClient.to_client()` method to convert it to `Client`.\n"
     ]
    },
    {
     "name": "stdout",
     "output_type": "stream",
     "text": [
      "\u001b[36m(ClientAppActor pid=2909872)\u001b[0m [Client 1] evaluate, config: {}\n",
      "\u001b[36m(ClientAppActor pid=2909872)\u001b[0m Updating parameters 1015\n",
      "\u001b[36m(ClientAppActor pid=2909872)\u001b[0m Setting parameters...\n",
      "\u001b[36m(ClientAppActor pid=2909872)\u001b[0m Starting client validation...\n",
      "\u001b[36m(ClientAppActor pid=2909872)\u001b[0m Validataion accuracy = 0.8666666666666667\n",
      "\u001b[36m(ClientAppActor pid=2909872)\u001b[0m Evaluation loss = 0.06591762552658717 accuracy = 0.8666666666666667\n"
     ]
    },
    {
     "name": "stderr",
     "output_type": "stream",
     "text": [
      "\u001b[36m(ClientAppActor pid=2909872)\u001b[0m \u001b[93mWARNING \u001b[0m:   Deprecation Warning: The `client_fn` function must return an instance of `Client`, but an instance of `NumpyClient` was returned. Please use `NumPyClient.to_client()` method to convert it to `Client`.\n"
     ]
    },
    {
     "name": "stdout",
     "output_type": "stream",
     "text": [
      "\u001b[36m(ClientAppActor pid=2909872)\u001b[0m [Client 3] evaluate, config: {}\n",
      "\u001b[36m(ClientAppActor pid=2909872)\u001b[0m Updating parameters 1015\n",
      "\u001b[36m(ClientAppActor pid=2909872)\u001b[0m Setting parameters...\n",
      "\u001b[36m(ClientAppActor pid=2909872)\u001b[0m Starting client validation...\n",
      "\u001b[36m(ClientAppActor pid=2909872)\u001b[0m Validataion accuracy = 0.8666666666666667\n",
      "\u001b[36m(ClientAppActor pid=2909872)\u001b[0m Evaluation loss = 0.06591762552658717 accuracy = 0.8666666666666667\n"
     ]
    },
    {
     "name": "stderr",
     "output_type": "stream",
     "text": [
      "\u001b[36m(ClientAppActor pid=2909872)\u001b[0m \u001b[93mWARNING \u001b[0m:   Deprecation Warning: The `client_fn` function must return an instance of `Client`, but an instance of `NumpyClient` was returned. Please use `NumPyClient.to_client()` method to convert it to `Client`.\n"
     ]
    },
    {
     "name": "stdout",
     "output_type": "stream",
     "text": [
      "\u001b[36m(ClientAppActor pid=2909872)\u001b[0m [Client 0] evaluate, config: {}\n",
      "\u001b[36m(ClientAppActor pid=2909872)\u001b[0m Updating parameters 1015\n",
      "\u001b[36m(ClientAppActor pid=2909872)\u001b[0m Setting parameters...\n",
      "\u001b[36m(ClientAppActor pid=2909872)\u001b[0m Starting client validation...\n",
      "\u001b[36m(ClientAppActor pid=2909872)\u001b[0m Validataion accuracy = 0.8666666666666667\n",
      "\u001b[36m(ClientAppActor pid=2909872)\u001b[0m Evaluation loss = 0.06591762552658717 accuracy = 0.8666666666666667\n"
     ]
    },
    {
     "name": "stderr",
     "output_type": "stream",
     "text": [
      "\u001b[36m(ClientAppActor pid=2909872)\u001b[0m \u001b[93mWARNING \u001b[0m:   Deprecation Warning: The `client_fn` function must return an instance of `Client`, but an instance of `NumpyClient` was returned. Please use `NumPyClient.to_client()` method to convert it to `Client`.\n"
     ]
    },
    {
     "name": "stdout",
     "output_type": "stream",
     "text": [
      "\u001b[36m(ClientAppActor pid=2909872)\u001b[0m [Client 2] evaluate, config: {}\n",
      "\u001b[36m(ClientAppActor pid=2909872)\u001b[0m Updating parameters 1015\n",
      "\u001b[36m(ClientAppActor pid=2909872)\u001b[0m Setting parameters...\n",
      "\u001b[36m(ClientAppActor pid=2909872)\u001b[0m Starting client validation...\n",
      "\u001b[36m(ClientAppActor pid=2909872)\u001b[0m Validataion accuracy = 0.8666666666666667\n",
      "\u001b[36m(ClientAppActor pid=2909872)\u001b[0m Evaluation loss = 0.06591762552658717 accuracy = 0.8666666666666667\n"
     ]
    },
    {
     "name": "stderr",
     "output_type": "stream",
     "text": [
      "\u001b[36m(ClientAppActor pid=2909872)\u001b[0m \u001b[93mWARNING \u001b[0m:   Deprecation Warning: The `client_fn` function must return an instance of `Client`, but an instance of `NumpyClient` was returned. Please use `NumPyClient.to_client()` method to convert it to `Client`.\n"
     ]
    },
    {
     "name": "stdout",
     "output_type": "stream",
     "text": [
      "\u001b[36m(ClientAppActor pid=2909872)\u001b[0m [Client 4] evaluate, config: {}\n",
      "\u001b[36m(ClientAppActor pid=2909872)\u001b[0m Updating parameters 1015\n",
      "\u001b[36m(ClientAppActor pid=2909872)\u001b[0m Setting parameters...\n",
      "\u001b[36m(ClientAppActor pid=2909872)\u001b[0m Starting client validation...\n"
     ]
    },
    {
     "name": "stderr",
     "output_type": "stream",
     "text": [
      "\u001b[92mINFO \u001b[0m:      aggregate_evaluate: received 5 results and 0 failures\n",
      "\u001b[92mINFO \u001b[0m:      \n",
      "\u001b[92mINFO \u001b[0m:      [ROUND 10]\n",
      "\u001b[92mINFO \u001b[0m:      configure_fit: strategy sampled 5 clients (out of 5)\n"
     ]
    },
    {
     "name": "stdout",
     "output_type": "stream",
     "text": [
      "Starting configure fit function...\n",
      "Sample size = 5 Min Num Clients = 2 Clients = [<flwr.simulation.ray_transport.ray_client_proxy.RayActorClientProxy object at 0x15535efa5990>, <flwr.simulation.ray_transport.ray_client_proxy.RayActorClientProxy object at 0x15535efa5710>, <flwr.simulation.ray_transport.ray_client_proxy.RayActorClientProxy object at 0x15535efa6410>, <flwr.simulation.ray_transport.ray_client_proxy.RayActorClientProxy object at 0x15535efa4350>, <flwr.simulation.ray_transport.ray_client_proxy.RayActorClientProxy object at 0x15535efa5550>]\n",
      "Number of clients = 5\n",
      "Fit Configurations\n",
      "\u001b[36m(ClientAppActor pid=2909872)\u001b[0m Validataion accuracy = 0.8666666666666667\n",
      "\u001b[36m(ClientAppActor pid=2909872)\u001b[0m Evaluation loss = 0.06591762552658717 accuracy = 0.8666666666666667\n"
     ]
    },
    {
     "name": "stderr",
     "output_type": "stream",
     "text": [
      "\u001b[36m(ClientAppActor pid=2909872)\u001b[0m \u001b[93mWARNING \u001b[0m:   Deprecation Warning: The `client_fn` function must return an instance of `Client`, but an instance of `NumpyClient` was returned. Please use `NumPyClient.to_client()` method to convert it to `Client`.\n"
     ]
    },
    {
     "name": "stdout",
     "output_type": "stream",
     "text": [
      "\u001b[36m(ClientAppActor pid=2909872)\u001b[0m [Client 2] fit, config: {'lr': 0.001}\n",
      "\u001b[36m(ClientAppActor pid=2909872)\u001b[0m Updating parameters 1015\n",
      "\u001b[36m(ClientAppActor pid=2909872)\u001b[0m Setting parameters...\n",
      "\u001b[36m(ClientAppActor pid=2909872)\u001b[0m Client parameters set\n",
      "\u001b[36m(ClientAppActor pid=2909872)\u001b[0m Starting client training...\n",
      "\u001b[36m(ClientAppActor pid=2909872)\u001b[0m Running epoch 0/5\n",
      "\u001b[36m(ClientAppActor pid=2909872)\u001b[0m Epoch 1: train loss 0.0016360029231947965, accuracy 1.0\n",
      "\u001b[36m(ClientAppActor pid=2909872)\u001b[0m Running epoch 1/5\n",
      "\u001b[36m(ClientAppActor pid=2909872)\u001b[0m Epoch 2: train loss 0.0002713604684546366, accuracy 1.0\n",
      "\u001b[36m(ClientAppActor pid=2909872)\u001b[0m Running epoch 2/5\n",
      "\u001b[36m(ClientAppActor pid=2909872)\u001b[0m Epoch 3: train loss 6.199481438857336e-05, accuracy 1.0\n",
      "\u001b[36m(ClientAppActor pid=2909872)\u001b[0m Running epoch 3/5\n",
      "\u001b[36m(ClientAppActor pid=2909872)\u001b[0m Epoch 4: train loss 0.0003847548928322981, accuracy 1.0\n",
      "\u001b[36m(ClientAppActor pid=2909872)\u001b[0m Running epoch 4/5\n",
      "\u001b[36m(ClientAppActor pid=2909872)\u001b[0m Epoch 5: train loss 6.457022165052014e-05, accuracy 1.0\n",
      "\u001b[36m(ClientAppActor pid=2909872)\u001b[0m Training completed!\n",
      "\u001b[36m(ClientAppActor pid=2909872)\u001b[0m Length of params: 1015\n"
     ]
    },
    {
     "name": "stderr",
     "output_type": "stream",
     "text": [
      "\u001b[36m(ClientAppActor pid=2909872)\u001b[0m \u001b[93mWARNING \u001b[0m:   Deprecation Warning: The `client_fn` function must return an instance of `Client`, but an instance of `NumpyClient` was returned. Please use `NumPyClient.to_client()` method to convert it to `Client`.\n"
     ]
    },
    {
     "name": "stdout",
     "output_type": "stream",
     "text": [
      "\u001b[36m(ClientAppActor pid=2909872)\u001b[0m [Client 0] fit, config: {'lr': 0.001}\n",
      "\u001b[36m(ClientAppActor pid=2909872)\u001b[0m Updating parameters 1015\n",
      "\u001b[36m(ClientAppActor pid=2909872)\u001b[0m Setting parameters...\n",
      "\u001b[36m(ClientAppActor pid=2909872)\u001b[0m Client parameters set\n",
      "\u001b[36m(ClientAppActor pid=2909872)\u001b[0m Starting client training...\n",
      "\u001b[36m(ClientAppActor pid=2909872)\u001b[0m Running epoch 0/5\n",
      "\u001b[36m(ClientAppActor pid=2909872)\u001b[0m Epoch 1: train loss 1.3030354635609398e-05, accuracy 1.0\n",
      "\u001b[36m(ClientAppActor pid=2909872)\u001b[0m Running epoch 1/5\n",
      "\u001b[36m(ClientAppActor pid=2909872)\u001b[0m Epoch 2: train loss 2.0399578202975532e-05, accuracy 1.0\n",
      "\u001b[36m(ClientAppActor pid=2909872)\u001b[0m Running epoch 2/5\n",
      "\u001b[36m(ClientAppActor pid=2909872)\u001b[0m Epoch 3: train loss 2.774016189878472e-05, accuracy 1.0\n",
      "\u001b[36m(ClientAppActor pid=2909872)\u001b[0m Running epoch 3/5\n",
      "\u001b[36m(ClientAppActor pid=2909872)\u001b[0m Epoch 4: train loss 3.4394818496179934e-05, accuracy 1.0\n",
      "\u001b[36m(ClientAppActor pid=2909872)\u001b[0m Running epoch 4/5\n",
      "\u001b[36m(ClientAppActor pid=2909872)\u001b[0m Epoch 5: train loss 6.498376117237151e-06, accuracy 1.0\n",
      "\u001b[36m(ClientAppActor pid=2909872)\u001b[0m Training completed!\n",
      "\u001b[36m(ClientAppActor pid=2909872)\u001b[0m Length of params: 1015\n"
     ]
    },
    {
     "name": "stderr",
     "output_type": "stream",
     "text": [
      "\u001b[36m(ClientAppActor pid=2909872)\u001b[0m \u001b[93mWARNING \u001b[0m:   Deprecation Warning: The `client_fn` function must return an instance of `Client`, but an instance of `NumpyClient` was returned. Please use `NumPyClient.to_client()` method to convert it to `Client`.\n"
     ]
    },
    {
     "name": "stdout",
     "output_type": "stream",
     "text": [
      "\u001b[36m(ClientAppActor pid=2909872)\u001b[0m [Client 1] fit, config: {'lr': 0.003}\n",
      "\u001b[36m(ClientAppActor pid=2909872)\u001b[0m Updating parameters 1015\n",
      "\u001b[36m(ClientAppActor pid=2909872)\u001b[0m Setting parameters...\n",
      "\u001b[36m(ClientAppActor pid=2909872)\u001b[0m Client parameters set\n",
      "\u001b[36m(ClientAppActor pid=2909872)\u001b[0m Starting client training...\n",
      "\u001b[36m(ClientAppActor pid=2909872)\u001b[0m Running epoch 0/5\n",
      "\u001b[36m(ClientAppActor pid=2909872)\u001b[0m Epoch 1: train loss 6.627515894927992e-05, accuracy 1.0\n",
      "\u001b[36m(ClientAppActor pid=2909872)\u001b[0m Running epoch 1/5\n",
      "\u001b[36m(ClientAppActor pid=2909872)\u001b[0m Epoch 2: train loss 0.009723768420278644, accuracy 1.0\n",
      "\u001b[36m(ClientAppActor pid=2909872)\u001b[0m Running epoch 2/5\n",
      "\u001b[36m(ClientAppActor pid=2909872)\u001b[0m Epoch 3: train loss 0.00023293516222530833, accuracy 1.0\n",
      "\u001b[36m(ClientAppActor pid=2909872)\u001b[0m Running epoch 3/5\n",
      "\u001b[36m(ClientAppActor pid=2909872)\u001b[0m Epoch 4: train loss 0.0016842620321907676, accuracy 1.0\n",
      "\u001b[36m(ClientAppActor pid=2909872)\u001b[0m Running epoch 4/5\n",
      "\u001b[36m(ClientAppActor pid=2909872)\u001b[0m Epoch 5: train loss 0.000734897011380571, accuracy 1.0\n",
      "\u001b[36m(ClientAppActor pid=2909872)\u001b[0m Training completed!\n",
      "\u001b[36m(ClientAppActor pid=2909872)\u001b[0m Length of params: 1015\n"
     ]
    },
    {
     "name": "stderr",
     "output_type": "stream",
     "text": [
      "\u001b[36m(ClientAppActor pid=2909872)\u001b[0m \u001b[93mWARNING \u001b[0m:   Deprecation Warning: The `client_fn` function must return an instance of `Client`, but an instance of `NumpyClient` was returned. Please use `NumPyClient.to_client()` method to convert it to `Client`.\n"
     ]
    },
    {
     "name": "stdout",
     "output_type": "stream",
     "text": [
      "\u001b[36m(ClientAppActor pid=2909872)\u001b[0m [Client 4] fit, config: {'lr': 0.003}\n",
      "\u001b[36m(ClientAppActor pid=2909872)\u001b[0m Updating parameters 1015\n",
      "\u001b[36m(ClientAppActor pid=2909872)\u001b[0m Setting parameters...\n",
      "\u001b[36m(ClientAppActor pid=2909872)\u001b[0m Client parameters set\n",
      "\u001b[36m(ClientAppActor pid=2909872)\u001b[0m Starting client training...\n",
      "\u001b[36m(ClientAppActor pid=2909872)\u001b[0m Running epoch 0/5\n",
      "\u001b[36m(ClientAppActor pid=2909872)\u001b[0m Epoch 1: train loss 0.034570718056056646, accuracy 0.975\n",
      "\u001b[36m(ClientAppActor pid=2909872)\u001b[0m Running epoch 1/5\n",
      "\u001b[36m(ClientAppActor pid=2909872)\u001b[0m Epoch 2: train loss 0.0008188836975023151, accuracy 1.0\n",
      "\u001b[36m(ClientAppActor pid=2909872)\u001b[0m Running epoch 2/5\n",
      "\u001b[36m(ClientAppActor pid=2909872)\u001b[0m Epoch 3: train loss 0.003475887922104448, accuracy 1.0\n",
      "\u001b[36m(ClientAppActor pid=2909872)\u001b[0m Running epoch 3/5\n",
      "\u001b[36m(ClientAppActor pid=2909872)\u001b[0m Epoch 4: train loss 0.01634817523881793, accuracy 1.0\n",
      "\u001b[36m(ClientAppActor pid=2909872)\u001b[0m Running epoch 4/5\n",
      "\u001b[36m(ClientAppActor pid=2909872)\u001b[0m Epoch 5: train loss 0.001003079250222072, accuracy 1.0\n",
      "\u001b[36m(ClientAppActor pid=2909872)\u001b[0m Training completed!\n",
      "\u001b[36m(ClientAppActor pid=2909872)\u001b[0m Length of params: 1015\n"
     ]
    },
    {
     "name": "stderr",
     "output_type": "stream",
     "text": [
      "\u001b[36m(ClientAppActor pid=2909872)\u001b[0m \u001b[93mWARNING \u001b[0m:   Deprecation Warning: The `client_fn` function must return an instance of `Client`, but an instance of `NumpyClient` was returned. Please use `NumPyClient.to_client()` method to convert it to `Client`.\n"
     ]
    },
    {
     "name": "stdout",
     "output_type": "stream",
     "text": [
      "\u001b[36m(ClientAppActor pid=2909872)\u001b[0m [Client 3] fit, config: {'lr': 0.003}\n",
      "\u001b[36m(ClientAppActor pid=2909872)\u001b[0m Updating parameters 1015\n",
      "\u001b[36m(ClientAppActor pid=2909872)\u001b[0m Setting parameters...\n",
      "\u001b[36m(ClientAppActor pid=2909872)\u001b[0m Client parameters set\n",
      "\u001b[36m(ClientAppActor pid=2909872)\u001b[0m Starting client training...\n",
      "\u001b[36m(ClientAppActor pid=2909872)\u001b[0m Running epoch 0/5\n",
      "\u001b[36m(ClientAppActor pid=2909872)\u001b[0m Epoch 1: train loss 0.0002822021271687192, accuracy 1.0\n",
      "\u001b[36m(ClientAppActor pid=2909872)\u001b[0m Running epoch 1/5\n",
      "\u001b[36m(ClientAppActor pid=2909872)\u001b[0m Epoch 2: train loss 0.0001672517705278901, accuracy 1.0\n",
      "\u001b[36m(ClientAppActor pid=2909872)\u001b[0m Running epoch 2/5\n",
      "\u001b[36m(ClientAppActor pid=2909872)\u001b[0m Epoch 3: train loss 0.004050645253813948, accuracy 1.0\n",
      "\u001b[36m(ClientAppActor pid=2909872)\u001b[0m Running epoch 3/5\n",
      "\u001b[36m(ClientAppActor pid=2909872)\u001b[0m Epoch 4: train loss 0.00022330458532684506, accuracy 1.0\n",
      "\u001b[36m(ClientAppActor pid=2909872)\u001b[0m Running epoch 4/5\n"
     ]
    },
    {
     "name": "stderr",
     "output_type": "stream",
     "text": [
      "\u001b[92mINFO \u001b[0m:      aggregate_fit: received 5 results and 0 failures\n"
     ]
    },
    {
     "name": "stdout",
     "output_type": "stream",
     "text": [
      "\u001b[36m(ClientAppActor pid=2909872)\u001b[0m Epoch 5: train loss 0.0017296361848144815, accuracy 1.0\n",
      "\u001b[36m(ClientAppActor pid=2909872)\u001b[0m Training completed!\n",
      "\u001b[36m(ClientAppActor pid=2909872)\u001b[0m Length of params: 1015\n",
      "Evaluating global model\n",
      "Updating parameters 1015\n",
      "Setting parameters...\n",
      "Parameter set\n",
      "Starting client validation...\n",
      "Validataion accuracy = 0.9\n",
      "Global evaluation round 10 loss = 0.06815388947725295 accuracy = 0.9\n"
     ]
    },
    {
     "name": "stderr",
     "output_type": "stream",
     "text": [
      "\u001b[92mINFO \u001b[0m:      fit progress: (10, 0.06815388947725295, {}, 2685.5163515219465)\n",
      "\u001b[92mINFO \u001b[0m:      configure_evaluate: strategy sampled 5 clients (out of 5)\n"
     ]
    },
    {
     "name": "stdout",
     "output_type": "stream",
     "text": [
      "Model saved at ./fl_checkpointsdensenet169_e5_c5_r10/fl_densenet_10.pth\n"
     ]
    },
    {
     "name": "stderr",
     "output_type": "stream",
     "text": [
      "\u001b[36m(ClientAppActor pid=2909872)\u001b[0m \u001b[93mWARNING \u001b[0m:   Deprecation Warning: The `client_fn` function must return an instance of `Client`, but an instance of `NumpyClient` was returned. Please use `NumPyClient.to_client()` method to convert it to `Client`.\n"
     ]
    },
    {
     "name": "stdout",
     "output_type": "stream",
     "text": [
      "\u001b[36m(ClientAppActor pid=2909872)\u001b[0m [Client 0] evaluate, config: {}\n",
      "\u001b[36m(ClientAppActor pid=2909872)\u001b[0m Updating parameters 1015\n",
      "\u001b[36m(ClientAppActor pid=2909872)\u001b[0m Setting parameters...\n",
      "\u001b[36m(ClientAppActor pid=2909872)\u001b[0m Starting client validation...\n",
      "\u001b[36m(ClientAppActor pid=2909872)\u001b[0m Validataion accuracy = 0.9\n",
      "\u001b[36m(ClientAppActor pid=2909872)\u001b[0m Evaluation loss = 0.06815388947725295 accuracy = 0.9\n"
     ]
    },
    {
     "name": "stderr",
     "output_type": "stream",
     "text": [
      "\u001b[36m(ClientAppActor pid=2909872)\u001b[0m \u001b[93mWARNING \u001b[0m:   Deprecation Warning: The `client_fn` function must return an instance of `Client`, but an instance of `NumpyClient` was returned. Please use `NumPyClient.to_client()` method to convert it to `Client`.\n"
     ]
    },
    {
     "name": "stdout",
     "output_type": "stream",
     "text": [
      "\u001b[36m(ClientAppActor pid=2909872)\u001b[0m [Client 3] evaluate, config: {}\n",
      "\u001b[36m(ClientAppActor pid=2909872)\u001b[0m Updating parameters 1015\n",
      "\u001b[36m(ClientAppActor pid=2909872)\u001b[0m Setting parameters...\n",
      "\u001b[36m(ClientAppActor pid=2909872)\u001b[0m Starting client validation...\n",
      "\u001b[36m(ClientAppActor pid=2909872)\u001b[0m Validataion accuracy = 0.9\n",
      "\u001b[36m(ClientAppActor pid=2909872)\u001b[0m Evaluation loss = 0.06815388947725295 accuracy = 0.9\n"
     ]
    },
    {
     "name": "stderr",
     "output_type": "stream",
     "text": [
      "\u001b[36m(ClientAppActor pid=2909872)\u001b[0m \u001b[93mWARNING \u001b[0m:   Deprecation Warning: The `client_fn` function must return an instance of `Client`, but an instance of `NumpyClient` was returned. Please use `NumPyClient.to_client()` method to convert it to `Client`.\n"
     ]
    },
    {
     "name": "stdout",
     "output_type": "stream",
     "text": [
      "\u001b[36m(ClientAppActor pid=2909872)\u001b[0m [Client 2] evaluate, config: {}\n",
      "\u001b[36m(ClientAppActor pid=2909872)\u001b[0m Updating parameters 1015\n",
      "\u001b[36m(ClientAppActor pid=2909872)\u001b[0m Setting parameters...\n",
      "\u001b[36m(ClientAppActor pid=2909872)\u001b[0m Starting client validation...\n",
      "\u001b[36m(ClientAppActor pid=2909872)\u001b[0m Validataion accuracy = 0.9\n",
      "\u001b[36m(ClientAppActor pid=2909872)\u001b[0m Evaluation loss = 0.06815388947725295 accuracy = 0.9\n"
     ]
    },
    {
     "name": "stderr",
     "output_type": "stream",
     "text": [
      "\u001b[36m(ClientAppActor pid=2909872)\u001b[0m \u001b[93mWARNING \u001b[0m:   Deprecation Warning: The `client_fn` function must return an instance of `Client`, but an instance of `NumpyClient` was returned. Please use `NumPyClient.to_client()` method to convert it to `Client`.\n"
     ]
    },
    {
     "name": "stdout",
     "output_type": "stream",
     "text": [
      "\u001b[36m(ClientAppActor pid=2909872)\u001b[0m [Client 1] evaluate, config: {}\n",
      "\u001b[36m(ClientAppActor pid=2909872)\u001b[0m Updating parameters 1015\n",
      "\u001b[36m(ClientAppActor pid=2909872)\u001b[0m Setting parameters...\n",
      "\u001b[36m(ClientAppActor pid=2909872)\u001b[0m Starting client validation...\n",
      "\u001b[36m(ClientAppActor pid=2909872)\u001b[0m Validataion accuracy = 0.9\n",
      "\u001b[36m(ClientAppActor pid=2909872)\u001b[0m Evaluation loss = 0.06815388947725295 accuracy = 0.9\n"
     ]
    },
    {
     "name": "stderr",
     "output_type": "stream",
     "text": [
      "\u001b[36m(ClientAppActor pid=2909872)\u001b[0m \u001b[93mWARNING \u001b[0m:   Deprecation Warning: The `client_fn` function must return an instance of `Client`, but an instance of `NumpyClient` was returned. Please use `NumPyClient.to_client()` method to convert it to `Client`.\n"
     ]
    },
    {
     "name": "stdout",
     "output_type": "stream",
     "text": [
      "\u001b[36m(ClientAppActor pid=2909872)\u001b[0m [Client 4] evaluate, config: {}\n",
      "\u001b[36m(ClientAppActor pid=2909872)\u001b[0m Updating parameters 1015\n",
      "\u001b[36m(ClientAppActor pid=2909872)\u001b[0m Setting parameters...\n",
      "\u001b[36m(ClientAppActor pid=2909872)\u001b[0m Starting client validation...\n"
     ]
    },
    {
     "name": "stderr",
     "output_type": "stream",
     "text": [
      "\u001b[92mINFO \u001b[0m:      aggregate_evaluate: received 5 results and 0 failures\n",
      "\u001b[92mINFO \u001b[0m:      \n",
      "\u001b[92mINFO \u001b[0m:      [SUMMARY]\n",
      "\u001b[92mINFO \u001b[0m:      Run finished 10 round(s) in 2729.68s\n",
      "\u001b[92mINFO \u001b[0m:      \tHistory (loss, distributed):\n",
      "\u001b[92mINFO \u001b[0m:      \t\tround 1: 0.02617429941892624\n",
      "\u001b[92mINFO \u001b[0m:      \t\tround 2: 0.03568345010280609\n",
      "\u001b[92mINFO \u001b[0m:      \t\tround 3: 0.04238011948764324\n",
      "\u001b[92mINFO \u001b[0m:      \t\tround 4: 0.04227189160883427\n",
      "\u001b[92mINFO \u001b[0m:      \t\tround 5: 0.04968570371468862\n",
      "\u001b[92mINFO \u001b[0m:      \t\tround 6: 0.05472664460539818\n",
      "\u001b[92mINFO \u001b[0m:      \t\tround 7: 0.05439078770577908\n",
      "\u001b[92mINFO \u001b[0m:      \t\tround 8: 0.07999197108050188\n",
      "\u001b[92mINFO \u001b[0m:      \t\tround 9: 0.06591762552658717\n",
      "\u001b[92mINFO \u001b[0m:      \t\tround 10: 0.06815388947725295\n",
      "\u001b[92mINFO \u001b[0m:      \tHistory (loss, centralized):\n",
      "\u001b[92mINFO \u001b[0m:      \t\tround 0: 0.05107033451398214\n",
      "\u001b[92mINFO \u001b[0m:      \t\tround 1: 0.02617429941892624\n",
      "\u001b[92mINFO \u001b[0m:      \t\tround 2: 0.03568345010280609\n",
      "\u001b[92mINFO \u001b[0m:      \t\tround 3: 0.04238011948764324\n",
      "\u001b[92mINFO \u001b[0m:      \t\tround 4: 0.04227189160883427\n",
      "\u001b[92mINFO \u001b[0m:      \t\tround 5: 0.04968570371468862\n",
      "\u001b[92mINFO \u001b[0m:      \t\tround 6: 0.05472664460539818\n",
      "\u001b[92mINFO \u001b[0m:      \t\tround 7: 0.05439078770577908\n",
      "\u001b[92mINFO \u001b[0m:      \t\tround 8: 0.07999197108050188\n",
      "\u001b[92mINFO \u001b[0m:      \t\tround 9: 0.06591762552658717\n",
      "\u001b[92mINFO \u001b[0m:      \t\tround 10: 0.06815388947725295\n",
      "\u001b[92mINFO \u001b[0m:      \n"
     ]
    },
    {
     "name": "stdout",
     "output_type": "stream",
     "text": [
      "\u001b[36m(ClientAppActor pid=2909872)\u001b[0m Validataion accuracy = 0.9\n",
      "\u001b[36m(ClientAppActor pid=2909872)\u001b[0m Evaluation loss = 0.06815388947725295 accuracy = 0.9\n",
      "End of Simulation History = History (loss, distributed):\n",
      "\tround 1: 0.02617429941892624\n",
      "\tround 2: 0.03568345010280609\n",
      "\tround 3: 0.04238011948764324\n",
      "\tround 4: 0.04227189160883427\n",
      "\tround 5: 0.04968570371468862\n",
      "\tround 6: 0.05472664460539818\n",
      "\tround 7: 0.05439078770577908\n",
      "\tround 8: 0.07999197108050188\n",
      "\tround 9: 0.06591762552658717\n",
      "\tround 10: 0.06815388947725295\n",
      "History (loss, centralized):\n",
      "\tround 0: 0.05107033451398214\n",
      "\tround 1: 0.02617429941892624\n",
      "\tround 2: 0.03568345010280609\n",
      "\tround 3: 0.04238011948764324\n",
      "\tround 4: 0.04227189160883427\n",
      "\tround 5: 0.04968570371468862\n",
      "\tround 6: 0.05472664460539818\n",
      "\tround 7: 0.05439078770577908\n",
      "\tround 8: 0.07999197108050188\n",
      "\tround 9: 0.06591762552658717\n",
      "\tround 10: 0.06815388947725295\n",
      "\n"
     ]
    }
   ],
   "source": [
    "# Create an instance of the model and get the parameters\n",
    "# params = get_parameters(create_pretrained_densenet(num_classes).to(device))\n",
    "# print(\"ParamsIn: \", params)\n",
    "\n",
    "# Pass parameters to the Strategy for server-side parameter initialization\n",
    "# strategy = fl.server.strategy.FedAvg(\n",
    "#     fraction_fit=0.3,\n",
    "#     fraction_evaluate=0.3,\n",
    "#     min_fit_clients=1,\n",
    "#     min_evaluate_clients=1,\n",
    "#     min_available_clients=NUM_CLIENTS,\n",
    "# #     initial_parameters=fl.common.ndarrays_to_parameters(params),\n",
    "# )\n",
    "\n",
    "# Specify client resources if you need GPU (defaults to 1 CPU and 0 GPU)\n",
    "client_resources = None\n",
    "if use_cuda:\n",
    "    client_resources = {'num_gpus': 1}\n",
    "\n",
    "# Start simulation\n",
    "# fl.simulation.start_simulation(\n",
    "#     client_fn=client_fn,\n",
    "#     num_clients=NUM_CLIENTS,\n",
    "#     config=fl.server.ServerConfig(num_rounds=1),  # Just three rounds\n",
    "#     strategy=strategy,\n",
    "#     client_resources=client_resources,\n",
    "# )\n",
    "\n",
    "history = fl.simulation.start_simulation(\n",
    "    client_fn=client_fn,\n",
    "    num_clients=NUM_CLIENTS,\n",
    "    config=fl.server.ServerConfig(num_rounds=ROUNDS),  # Just three rounds\n",
    "    strategy=FedCustom(),\n",
    "    client_resources=client_resources,\n",
    ")\n",
    "\n",
    "\n",
    "print(f\"End of Simulation History = {history}\")"
   ]
  },
  {
   "cell_type": "markdown",
   "metadata": {},
   "source": [
    "## Inference"
   ]
  },
  {
   "cell_type": "code",
   "execution_count": null,
   "metadata": {},
   "outputs": [],
   "source": [
    "# import torch\n",
    "# import torchvision.transforms as transforms\n",
    "# from PIL import Image\n",
    "# import os\n",
    "# from torchvision import datasets, models\n",
    "# from torch.utils.data import DataLoader"
   ]
  },
  {
   "cell_type": "code",
   "execution_count": 40,
   "metadata": {},
   "outputs": [],
   "source": [
    "# # Define device\n",
    "# use_cuda = torch.cuda.is_available()\n",
    "# device = torch.device(\"cuda:0\" if use_cuda else \"cpu\")"
   ]
  },
  {
   "cell_type": "code",
   "execution_count": 17,
   "metadata": {},
   "outputs": [],
   "source": [
    "# # Load model\n",
    "# num_classes = 2\n",
    "# model = create_pretrained_densenet(num_classes)\n",
    "# model.to(device)"
   ]
  },
  {
   "cell_type": "code",
   "execution_count": null,
   "metadata": {},
   "outputs": [],
   "source": []
  },
  {
   "cell_type": "code",
   "execution_count": 18,
   "metadata": {},
   "outputs": [],
   "source": [
    "# # Load best model weights\n",
    "# best_model_path = \"./fl_checkpointsdensenet121/fl_densenet_15.pth\"\n",
    "# checkpoint = torch.load(best_model_path)\n",
    "# model.load_state_dict(checkpoint['state_dict'])\n",
    "# print(\"Model loaded successfully\")"
   ]
  },
  {
   "cell_type": "code",
   "execution_count": 43,
   "metadata": {},
   "outputs": [],
   "source": [
    "# # Define transform\n",
    "# transform = transforms.Compose([\n",
    "#     transforms.Resize((224, 224)),\n",
    "#     transforms.ToTensor(),\n",
    "#     transforms.Normalize(mean=[0.4762, 0.3054, 0.2368], std=[0.3345, 0.2407, 0.2164])\n",
    "# ])\n",
    "\n",
    "# # Define test dataset and dataloader\n",
    "# test_root_dir = os.path.join('./../../processed_RealDS', 'test')\n",
    "# test_dataset = datasets.ImageFolder(test_root_dir, transform=transform)\n",
    "# test_loader = DataLoader(test_dataset, batch_size=1, shuffle=False)\n"
   ]
  },
  {
   "cell_type": "code",
   "execution_count": 3,
   "metadata": {},
   "outputs": [],
   "source": [
    "# # Load your single image\n",
    "# PATH_DATASET = './../../processed_RealDS'\n",
    "\n",
    "# image_path = os.path.join(PATH_DATASET, 'test','Disease','Image_114.jpeg')  # Replace 'path_to_your_image.jpg' with the path to your image\n",
    "# image = Image.open(image_path)\n"
   ]
  },
  {
   "cell_type": "code",
   "execution_count": 34,
   "metadata": {},
   "outputs": [],
   "source": [
    "# image = Image.open(image_path)\n",
    "\n",
    "# # Apply the transform to the image\n",
    "# image = transform(image)\n",
    "\n",
    "# # Add batch dimension\n",
    "# image = image.unsqueeze(0)\n",
    "# image = image.to(device)\n"
   ]
  },
  {
   "cell_type": "code",
   "execution_count": 19,
   "metadata": {},
   "outputs": [],
   "source": [
    "# # Perform inference and calculate accuracy\n",
    "# model.eval()\n",
    "# correct = 0\n",
    "# total = 0\n",
    "# class_labels = ['Healthy', 'Disease']  # Replace with your actual class labels\n"
   ]
  },
  {
   "cell_type": "code",
   "execution_count": null,
   "metadata": {},
   "outputs": [],
   "source": []
  },
  {
   "cell_type": "code",
   "execution_count": 20,
   "metadata": {},
   "outputs": [],
   "source": [
    "# # Perform inference\n",
    "# with torch.no_grad():\n",
    "#     output = model(image)\n",
    "\n",
    "#     # Get the predicted class index\n",
    "#     _, predicted = torch.max(output, 1)\n",
    "#     predicted_class_index = predicted.item()\n",
    "    \n",
    "#     # Interpret the results (assuming you have a class label mapping)\n",
    "#     class_labels = ['Healthy','Disease' ]  # Replace with your actual class labels\n",
    "#     predicted_class_label = class_labels[predicted_class_index]\n",
    "#     print('Predicted class:', predicted_class_label)"
   ]
  },
  {
   "cell_type": "code",
   "execution_count": 21,
   "metadata": {},
   "outputs": [],
   "source": [
    "# print('Predicted class:', predicted_class_label)"
   ]
  },
  {
   "cell_type": "markdown",
   "metadata": {},
   "source": [
    "## all predictions"
   ]
  },
  {
   "cell_type": "code",
   "execution_count": null,
   "metadata": {},
   "outputs": [],
   "source": []
  },
  {
   "cell_type": "code",
   "execution_count": 22,
   "metadata": {},
   "outputs": [],
   "source": [
    "# with torch.no_grad():\n",
    "#     for images, labels in test_loader:\n",
    "#         images, labels = images.to(device), labels.to(device)\n",
    "#         outputs = model(images)\n",
    "#         _, predicted = torch.max(outputs.data, 1)\n",
    "#         total += labels.size(0)\n",
    "#         correct += (predicted == labels).sum().item()\n",
    "#         print(f\"Predicted class: {class_labels[predicted.item()]}\")\n",
    "\n",
    "# accuracy = correct / total\n",
    "# print(f'Overall test accuracy: {accuracy * 100:.2f}%')"
   ]
  },
  {
   "cell_type": "code",
   "execution_count": 12,
   "metadata": {},
   "outputs": [],
   "source": [
    "# tmp_model = create_pretrained_densenet(num_classes).to(device)\n",
    "\n",
    "# params = get_parameters(tmp_model)\n",
    "\n",
    "# # it will return byteio(numpyArray(param))\n",
    "# array_to_param = fl.common.ndarrays_to_parameters(params)\n",
    "\n",
    "# param_to_arr = fl.common.parameters_to_ndarrays(array_to_param)\n",
    "\n",
    "# print(type(param_to_arr))\n",
    "\n",
    "# for i, v in enumerate(param_to_arr):\n",
    "#     try:\n",
    "#         print(len(v))\n",
    "#     except:\n",
    "#         print(v)\n",
    "#         param_to_arr[i] = np.array([0])\n",
    "# set_parameters(tmp_model, param_to_arr)"
   ]
  },
  {
   "cell_type": "markdown",
   "metadata": {},
   "source": [
    "# Testing"
   ]
  },
  {
   "cell_type": "code",
   "execution_count": 15,
   "metadata": {},
   "outputs": [
    {
     "name": "stdout",
     "output_type": "stream",
     "text": [
      "Best model path:fl_checkpointsdensenet121_e5_c5_r5/fl_densenet_5.pth\n"
     ]
    },
    {
     "name": "stderr",
     "output_type": "stream",
     "text": [
      "/home/sarangs/D1/chameleon_venv/lib/python3.11/site-packages/torchvision/models/_utils.py:223: UserWarning: Arguments other than a weight enum or `None` for 'weights' are deprecated since 0.13 and may be removed in the future. The current behavior is equivalent to passing `weights=None`.\n",
      "  warnings.warn(msg)\n"
     ]
    },
    {
     "data": {
      "text/plain": [
       "DenseNet(\n",
       "  (features): Sequential(\n",
       "    (conv0): Conv2d(3, 64, kernel_size=(7, 7), stride=(2, 2), padding=(3, 3), bias=False)\n",
       "    (norm0): BatchNorm2d(64, eps=1e-05, momentum=0.1, affine=True, track_running_stats=True)\n",
       "    (relu0): ReLU(inplace=True)\n",
       "    (pool0): MaxPool2d(kernel_size=3, stride=2, padding=1, dilation=1, ceil_mode=False)\n",
       "    (denseblock1): _DenseBlock(\n",
       "      (denselayer1): _DenseLayer(\n",
       "        (norm1): BatchNorm2d(64, eps=1e-05, momentum=0.1, affine=True, track_running_stats=True)\n",
       "        (relu1): ReLU(inplace=True)\n",
       "        (conv1): Conv2d(64, 128, kernel_size=(1, 1), stride=(1, 1), bias=False)\n",
       "        (norm2): BatchNorm2d(128, eps=1e-05, momentum=0.1, affine=True, track_running_stats=True)\n",
       "        (relu2): ReLU(inplace=True)\n",
       "        (conv2): Conv2d(128, 32, kernel_size=(3, 3), stride=(1, 1), padding=(1, 1), bias=False)\n",
       "      )\n",
       "      (denselayer2): _DenseLayer(\n",
       "        (norm1): BatchNorm2d(96, eps=1e-05, momentum=0.1, affine=True, track_running_stats=True)\n",
       "        (relu1): ReLU(inplace=True)\n",
       "        (conv1): Conv2d(96, 128, kernel_size=(1, 1), stride=(1, 1), bias=False)\n",
       "        (norm2): BatchNorm2d(128, eps=1e-05, momentum=0.1, affine=True, track_running_stats=True)\n",
       "        (relu2): ReLU(inplace=True)\n",
       "        (conv2): Conv2d(128, 32, kernel_size=(3, 3), stride=(1, 1), padding=(1, 1), bias=False)\n",
       "      )\n",
       "      (denselayer3): _DenseLayer(\n",
       "        (norm1): BatchNorm2d(128, eps=1e-05, momentum=0.1, affine=True, track_running_stats=True)\n",
       "        (relu1): ReLU(inplace=True)\n",
       "        (conv1): Conv2d(128, 128, kernel_size=(1, 1), stride=(1, 1), bias=False)\n",
       "        (norm2): BatchNorm2d(128, eps=1e-05, momentum=0.1, affine=True, track_running_stats=True)\n",
       "        (relu2): ReLU(inplace=True)\n",
       "        (conv2): Conv2d(128, 32, kernel_size=(3, 3), stride=(1, 1), padding=(1, 1), bias=False)\n",
       "      )\n",
       "      (denselayer4): _DenseLayer(\n",
       "        (norm1): BatchNorm2d(160, eps=1e-05, momentum=0.1, affine=True, track_running_stats=True)\n",
       "        (relu1): ReLU(inplace=True)\n",
       "        (conv1): Conv2d(160, 128, kernel_size=(1, 1), stride=(1, 1), bias=False)\n",
       "        (norm2): BatchNorm2d(128, eps=1e-05, momentum=0.1, affine=True, track_running_stats=True)\n",
       "        (relu2): ReLU(inplace=True)\n",
       "        (conv2): Conv2d(128, 32, kernel_size=(3, 3), stride=(1, 1), padding=(1, 1), bias=False)\n",
       "      )\n",
       "      (denselayer5): _DenseLayer(\n",
       "        (norm1): BatchNorm2d(192, eps=1e-05, momentum=0.1, affine=True, track_running_stats=True)\n",
       "        (relu1): ReLU(inplace=True)\n",
       "        (conv1): Conv2d(192, 128, kernel_size=(1, 1), stride=(1, 1), bias=False)\n",
       "        (norm2): BatchNorm2d(128, eps=1e-05, momentum=0.1, affine=True, track_running_stats=True)\n",
       "        (relu2): ReLU(inplace=True)\n",
       "        (conv2): Conv2d(128, 32, kernel_size=(3, 3), stride=(1, 1), padding=(1, 1), bias=False)\n",
       "      )\n",
       "      (denselayer6): _DenseLayer(\n",
       "        (norm1): BatchNorm2d(224, eps=1e-05, momentum=0.1, affine=True, track_running_stats=True)\n",
       "        (relu1): ReLU(inplace=True)\n",
       "        (conv1): Conv2d(224, 128, kernel_size=(1, 1), stride=(1, 1), bias=False)\n",
       "        (norm2): BatchNorm2d(128, eps=1e-05, momentum=0.1, affine=True, track_running_stats=True)\n",
       "        (relu2): ReLU(inplace=True)\n",
       "        (conv2): Conv2d(128, 32, kernel_size=(3, 3), stride=(1, 1), padding=(1, 1), bias=False)\n",
       "      )\n",
       "    )\n",
       "    (transition1): _Transition(\n",
       "      (norm): BatchNorm2d(256, eps=1e-05, momentum=0.1, affine=True, track_running_stats=True)\n",
       "      (relu): ReLU(inplace=True)\n",
       "      (conv): Conv2d(256, 128, kernel_size=(1, 1), stride=(1, 1), bias=False)\n",
       "      (pool): AvgPool2d(kernel_size=2, stride=2, padding=0)\n",
       "    )\n",
       "    (denseblock2): _DenseBlock(\n",
       "      (denselayer1): _DenseLayer(\n",
       "        (norm1): BatchNorm2d(128, eps=1e-05, momentum=0.1, affine=True, track_running_stats=True)\n",
       "        (relu1): ReLU(inplace=True)\n",
       "        (conv1): Conv2d(128, 128, kernel_size=(1, 1), stride=(1, 1), bias=False)\n",
       "        (norm2): BatchNorm2d(128, eps=1e-05, momentum=0.1, affine=True, track_running_stats=True)\n",
       "        (relu2): ReLU(inplace=True)\n",
       "        (conv2): Conv2d(128, 32, kernel_size=(3, 3), stride=(1, 1), padding=(1, 1), bias=False)\n",
       "      )\n",
       "      (denselayer2): _DenseLayer(\n",
       "        (norm1): BatchNorm2d(160, eps=1e-05, momentum=0.1, affine=True, track_running_stats=True)\n",
       "        (relu1): ReLU(inplace=True)\n",
       "        (conv1): Conv2d(160, 128, kernel_size=(1, 1), stride=(1, 1), bias=False)\n",
       "        (norm2): BatchNorm2d(128, eps=1e-05, momentum=0.1, affine=True, track_running_stats=True)\n",
       "        (relu2): ReLU(inplace=True)\n",
       "        (conv2): Conv2d(128, 32, kernel_size=(3, 3), stride=(1, 1), padding=(1, 1), bias=False)\n",
       "      )\n",
       "      (denselayer3): _DenseLayer(\n",
       "        (norm1): BatchNorm2d(192, eps=1e-05, momentum=0.1, affine=True, track_running_stats=True)\n",
       "        (relu1): ReLU(inplace=True)\n",
       "        (conv1): Conv2d(192, 128, kernel_size=(1, 1), stride=(1, 1), bias=False)\n",
       "        (norm2): BatchNorm2d(128, eps=1e-05, momentum=0.1, affine=True, track_running_stats=True)\n",
       "        (relu2): ReLU(inplace=True)\n",
       "        (conv2): Conv2d(128, 32, kernel_size=(3, 3), stride=(1, 1), padding=(1, 1), bias=False)\n",
       "      )\n",
       "      (denselayer4): _DenseLayer(\n",
       "        (norm1): BatchNorm2d(224, eps=1e-05, momentum=0.1, affine=True, track_running_stats=True)\n",
       "        (relu1): ReLU(inplace=True)\n",
       "        (conv1): Conv2d(224, 128, kernel_size=(1, 1), stride=(1, 1), bias=False)\n",
       "        (norm2): BatchNorm2d(128, eps=1e-05, momentum=0.1, affine=True, track_running_stats=True)\n",
       "        (relu2): ReLU(inplace=True)\n",
       "        (conv2): Conv2d(128, 32, kernel_size=(3, 3), stride=(1, 1), padding=(1, 1), bias=False)\n",
       "      )\n",
       "      (denselayer5): _DenseLayer(\n",
       "        (norm1): BatchNorm2d(256, eps=1e-05, momentum=0.1, affine=True, track_running_stats=True)\n",
       "        (relu1): ReLU(inplace=True)\n",
       "        (conv1): Conv2d(256, 128, kernel_size=(1, 1), stride=(1, 1), bias=False)\n",
       "        (norm2): BatchNorm2d(128, eps=1e-05, momentum=0.1, affine=True, track_running_stats=True)\n",
       "        (relu2): ReLU(inplace=True)\n",
       "        (conv2): Conv2d(128, 32, kernel_size=(3, 3), stride=(1, 1), padding=(1, 1), bias=False)\n",
       "      )\n",
       "      (denselayer6): _DenseLayer(\n",
       "        (norm1): BatchNorm2d(288, eps=1e-05, momentum=0.1, affine=True, track_running_stats=True)\n",
       "        (relu1): ReLU(inplace=True)\n",
       "        (conv1): Conv2d(288, 128, kernel_size=(1, 1), stride=(1, 1), bias=False)\n",
       "        (norm2): BatchNorm2d(128, eps=1e-05, momentum=0.1, affine=True, track_running_stats=True)\n",
       "        (relu2): ReLU(inplace=True)\n",
       "        (conv2): Conv2d(128, 32, kernel_size=(3, 3), stride=(1, 1), padding=(1, 1), bias=False)\n",
       "      )\n",
       "      (denselayer7): _DenseLayer(\n",
       "        (norm1): BatchNorm2d(320, eps=1e-05, momentum=0.1, affine=True, track_running_stats=True)\n",
       "        (relu1): ReLU(inplace=True)\n",
       "        (conv1): Conv2d(320, 128, kernel_size=(1, 1), stride=(1, 1), bias=False)\n",
       "        (norm2): BatchNorm2d(128, eps=1e-05, momentum=0.1, affine=True, track_running_stats=True)\n",
       "        (relu2): ReLU(inplace=True)\n",
       "        (conv2): Conv2d(128, 32, kernel_size=(3, 3), stride=(1, 1), padding=(1, 1), bias=False)\n",
       "      )\n",
       "      (denselayer8): _DenseLayer(\n",
       "        (norm1): BatchNorm2d(352, eps=1e-05, momentum=0.1, affine=True, track_running_stats=True)\n",
       "        (relu1): ReLU(inplace=True)\n",
       "        (conv1): Conv2d(352, 128, kernel_size=(1, 1), stride=(1, 1), bias=False)\n",
       "        (norm2): BatchNorm2d(128, eps=1e-05, momentum=0.1, affine=True, track_running_stats=True)\n",
       "        (relu2): ReLU(inplace=True)\n",
       "        (conv2): Conv2d(128, 32, kernel_size=(3, 3), stride=(1, 1), padding=(1, 1), bias=False)\n",
       "      )\n",
       "      (denselayer9): _DenseLayer(\n",
       "        (norm1): BatchNorm2d(384, eps=1e-05, momentum=0.1, affine=True, track_running_stats=True)\n",
       "        (relu1): ReLU(inplace=True)\n",
       "        (conv1): Conv2d(384, 128, kernel_size=(1, 1), stride=(1, 1), bias=False)\n",
       "        (norm2): BatchNorm2d(128, eps=1e-05, momentum=0.1, affine=True, track_running_stats=True)\n",
       "        (relu2): ReLU(inplace=True)\n",
       "        (conv2): Conv2d(128, 32, kernel_size=(3, 3), stride=(1, 1), padding=(1, 1), bias=False)\n",
       "      )\n",
       "      (denselayer10): _DenseLayer(\n",
       "        (norm1): BatchNorm2d(416, eps=1e-05, momentum=0.1, affine=True, track_running_stats=True)\n",
       "        (relu1): ReLU(inplace=True)\n",
       "        (conv1): Conv2d(416, 128, kernel_size=(1, 1), stride=(1, 1), bias=False)\n",
       "        (norm2): BatchNorm2d(128, eps=1e-05, momentum=0.1, affine=True, track_running_stats=True)\n",
       "        (relu2): ReLU(inplace=True)\n",
       "        (conv2): Conv2d(128, 32, kernel_size=(3, 3), stride=(1, 1), padding=(1, 1), bias=False)\n",
       "      )\n",
       "      (denselayer11): _DenseLayer(\n",
       "        (norm1): BatchNorm2d(448, eps=1e-05, momentum=0.1, affine=True, track_running_stats=True)\n",
       "        (relu1): ReLU(inplace=True)\n",
       "        (conv1): Conv2d(448, 128, kernel_size=(1, 1), stride=(1, 1), bias=False)\n",
       "        (norm2): BatchNorm2d(128, eps=1e-05, momentum=0.1, affine=True, track_running_stats=True)\n",
       "        (relu2): ReLU(inplace=True)\n",
       "        (conv2): Conv2d(128, 32, kernel_size=(3, 3), stride=(1, 1), padding=(1, 1), bias=False)\n",
       "      )\n",
       "      (denselayer12): _DenseLayer(\n",
       "        (norm1): BatchNorm2d(480, eps=1e-05, momentum=0.1, affine=True, track_running_stats=True)\n",
       "        (relu1): ReLU(inplace=True)\n",
       "        (conv1): Conv2d(480, 128, kernel_size=(1, 1), stride=(1, 1), bias=False)\n",
       "        (norm2): BatchNorm2d(128, eps=1e-05, momentum=0.1, affine=True, track_running_stats=True)\n",
       "        (relu2): ReLU(inplace=True)\n",
       "        (conv2): Conv2d(128, 32, kernel_size=(3, 3), stride=(1, 1), padding=(1, 1), bias=False)\n",
       "      )\n",
       "    )\n",
       "    (transition2): _Transition(\n",
       "      (norm): BatchNorm2d(512, eps=1e-05, momentum=0.1, affine=True, track_running_stats=True)\n",
       "      (relu): ReLU(inplace=True)\n",
       "      (conv): Conv2d(512, 256, kernel_size=(1, 1), stride=(1, 1), bias=False)\n",
       "      (pool): AvgPool2d(kernel_size=2, stride=2, padding=0)\n",
       "    )\n",
       "    (denseblock3): _DenseBlock(\n",
       "      (denselayer1): _DenseLayer(\n",
       "        (norm1): BatchNorm2d(256, eps=1e-05, momentum=0.1, affine=True, track_running_stats=True)\n",
       "        (relu1): ReLU(inplace=True)\n",
       "        (conv1): Conv2d(256, 128, kernel_size=(1, 1), stride=(1, 1), bias=False)\n",
       "        (norm2): BatchNorm2d(128, eps=1e-05, momentum=0.1, affine=True, track_running_stats=True)\n",
       "        (relu2): ReLU(inplace=True)\n",
       "        (conv2): Conv2d(128, 32, kernel_size=(3, 3), stride=(1, 1), padding=(1, 1), bias=False)\n",
       "      )\n",
       "      (denselayer2): _DenseLayer(\n",
       "        (norm1): BatchNorm2d(288, eps=1e-05, momentum=0.1, affine=True, track_running_stats=True)\n",
       "        (relu1): ReLU(inplace=True)\n",
       "        (conv1): Conv2d(288, 128, kernel_size=(1, 1), stride=(1, 1), bias=False)\n",
       "        (norm2): BatchNorm2d(128, eps=1e-05, momentum=0.1, affine=True, track_running_stats=True)\n",
       "        (relu2): ReLU(inplace=True)\n",
       "        (conv2): Conv2d(128, 32, kernel_size=(3, 3), stride=(1, 1), padding=(1, 1), bias=False)\n",
       "      )\n",
       "      (denselayer3): _DenseLayer(\n",
       "        (norm1): BatchNorm2d(320, eps=1e-05, momentum=0.1, affine=True, track_running_stats=True)\n",
       "        (relu1): ReLU(inplace=True)\n",
       "        (conv1): Conv2d(320, 128, kernel_size=(1, 1), stride=(1, 1), bias=False)\n",
       "        (norm2): BatchNorm2d(128, eps=1e-05, momentum=0.1, affine=True, track_running_stats=True)\n",
       "        (relu2): ReLU(inplace=True)\n",
       "        (conv2): Conv2d(128, 32, kernel_size=(3, 3), stride=(1, 1), padding=(1, 1), bias=False)\n",
       "      )\n",
       "      (denselayer4): _DenseLayer(\n",
       "        (norm1): BatchNorm2d(352, eps=1e-05, momentum=0.1, affine=True, track_running_stats=True)\n",
       "        (relu1): ReLU(inplace=True)\n",
       "        (conv1): Conv2d(352, 128, kernel_size=(1, 1), stride=(1, 1), bias=False)\n",
       "        (norm2): BatchNorm2d(128, eps=1e-05, momentum=0.1, affine=True, track_running_stats=True)\n",
       "        (relu2): ReLU(inplace=True)\n",
       "        (conv2): Conv2d(128, 32, kernel_size=(3, 3), stride=(1, 1), padding=(1, 1), bias=False)\n",
       "      )\n",
       "      (denselayer5): _DenseLayer(\n",
       "        (norm1): BatchNorm2d(384, eps=1e-05, momentum=0.1, affine=True, track_running_stats=True)\n",
       "        (relu1): ReLU(inplace=True)\n",
       "        (conv1): Conv2d(384, 128, kernel_size=(1, 1), stride=(1, 1), bias=False)\n",
       "        (norm2): BatchNorm2d(128, eps=1e-05, momentum=0.1, affine=True, track_running_stats=True)\n",
       "        (relu2): ReLU(inplace=True)\n",
       "        (conv2): Conv2d(128, 32, kernel_size=(3, 3), stride=(1, 1), padding=(1, 1), bias=False)\n",
       "      )\n",
       "      (denselayer6): _DenseLayer(\n",
       "        (norm1): BatchNorm2d(416, eps=1e-05, momentum=0.1, affine=True, track_running_stats=True)\n",
       "        (relu1): ReLU(inplace=True)\n",
       "        (conv1): Conv2d(416, 128, kernel_size=(1, 1), stride=(1, 1), bias=False)\n",
       "        (norm2): BatchNorm2d(128, eps=1e-05, momentum=0.1, affine=True, track_running_stats=True)\n",
       "        (relu2): ReLU(inplace=True)\n",
       "        (conv2): Conv2d(128, 32, kernel_size=(3, 3), stride=(1, 1), padding=(1, 1), bias=False)\n",
       "      )\n",
       "      (denselayer7): _DenseLayer(\n",
       "        (norm1): BatchNorm2d(448, eps=1e-05, momentum=0.1, affine=True, track_running_stats=True)\n",
       "        (relu1): ReLU(inplace=True)\n",
       "        (conv1): Conv2d(448, 128, kernel_size=(1, 1), stride=(1, 1), bias=False)\n",
       "        (norm2): BatchNorm2d(128, eps=1e-05, momentum=0.1, affine=True, track_running_stats=True)\n",
       "        (relu2): ReLU(inplace=True)\n",
       "        (conv2): Conv2d(128, 32, kernel_size=(3, 3), stride=(1, 1), padding=(1, 1), bias=False)\n",
       "      )\n",
       "      (denselayer8): _DenseLayer(\n",
       "        (norm1): BatchNorm2d(480, eps=1e-05, momentum=0.1, affine=True, track_running_stats=True)\n",
       "        (relu1): ReLU(inplace=True)\n",
       "        (conv1): Conv2d(480, 128, kernel_size=(1, 1), stride=(1, 1), bias=False)\n",
       "        (norm2): BatchNorm2d(128, eps=1e-05, momentum=0.1, affine=True, track_running_stats=True)\n",
       "        (relu2): ReLU(inplace=True)\n",
       "        (conv2): Conv2d(128, 32, kernel_size=(3, 3), stride=(1, 1), padding=(1, 1), bias=False)\n",
       "      )\n",
       "      (denselayer9): _DenseLayer(\n",
       "        (norm1): BatchNorm2d(512, eps=1e-05, momentum=0.1, affine=True, track_running_stats=True)\n",
       "        (relu1): ReLU(inplace=True)\n",
       "        (conv1): Conv2d(512, 128, kernel_size=(1, 1), stride=(1, 1), bias=False)\n",
       "        (norm2): BatchNorm2d(128, eps=1e-05, momentum=0.1, affine=True, track_running_stats=True)\n",
       "        (relu2): ReLU(inplace=True)\n",
       "        (conv2): Conv2d(128, 32, kernel_size=(3, 3), stride=(1, 1), padding=(1, 1), bias=False)\n",
       "      )\n",
       "      (denselayer10): _DenseLayer(\n",
       "        (norm1): BatchNorm2d(544, eps=1e-05, momentum=0.1, affine=True, track_running_stats=True)\n",
       "        (relu1): ReLU(inplace=True)\n",
       "        (conv1): Conv2d(544, 128, kernel_size=(1, 1), stride=(1, 1), bias=False)\n",
       "        (norm2): BatchNorm2d(128, eps=1e-05, momentum=0.1, affine=True, track_running_stats=True)\n",
       "        (relu2): ReLU(inplace=True)\n",
       "        (conv2): Conv2d(128, 32, kernel_size=(3, 3), stride=(1, 1), padding=(1, 1), bias=False)\n",
       "      )\n",
       "      (denselayer11): _DenseLayer(\n",
       "        (norm1): BatchNorm2d(576, eps=1e-05, momentum=0.1, affine=True, track_running_stats=True)\n",
       "        (relu1): ReLU(inplace=True)\n",
       "        (conv1): Conv2d(576, 128, kernel_size=(1, 1), stride=(1, 1), bias=False)\n",
       "        (norm2): BatchNorm2d(128, eps=1e-05, momentum=0.1, affine=True, track_running_stats=True)\n",
       "        (relu2): ReLU(inplace=True)\n",
       "        (conv2): Conv2d(128, 32, kernel_size=(3, 3), stride=(1, 1), padding=(1, 1), bias=False)\n",
       "      )\n",
       "      (denselayer12): _DenseLayer(\n",
       "        (norm1): BatchNorm2d(608, eps=1e-05, momentum=0.1, affine=True, track_running_stats=True)\n",
       "        (relu1): ReLU(inplace=True)\n",
       "        (conv1): Conv2d(608, 128, kernel_size=(1, 1), stride=(1, 1), bias=False)\n",
       "        (norm2): BatchNorm2d(128, eps=1e-05, momentum=0.1, affine=True, track_running_stats=True)\n",
       "        (relu2): ReLU(inplace=True)\n",
       "        (conv2): Conv2d(128, 32, kernel_size=(3, 3), stride=(1, 1), padding=(1, 1), bias=False)\n",
       "      )\n",
       "      (denselayer13): _DenseLayer(\n",
       "        (norm1): BatchNorm2d(640, eps=1e-05, momentum=0.1, affine=True, track_running_stats=True)\n",
       "        (relu1): ReLU(inplace=True)\n",
       "        (conv1): Conv2d(640, 128, kernel_size=(1, 1), stride=(1, 1), bias=False)\n",
       "        (norm2): BatchNorm2d(128, eps=1e-05, momentum=0.1, affine=True, track_running_stats=True)\n",
       "        (relu2): ReLU(inplace=True)\n",
       "        (conv2): Conv2d(128, 32, kernel_size=(3, 3), stride=(1, 1), padding=(1, 1), bias=False)\n",
       "      )\n",
       "      (denselayer14): _DenseLayer(\n",
       "        (norm1): BatchNorm2d(672, eps=1e-05, momentum=0.1, affine=True, track_running_stats=True)\n",
       "        (relu1): ReLU(inplace=True)\n",
       "        (conv1): Conv2d(672, 128, kernel_size=(1, 1), stride=(1, 1), bias=False)\n",
       "        (norm2): BatchNorm2d(128, eps=1e-05, momentum=0.1, affine=True, track_running_stats=True)\n",
       "        (relu2): ReLU(inplace=True)\n",
       "        (conv2): Conv2d(128, 32, kernel_size=(3, 3), stride=(1, 1), padding=(1, 1), bias=False)\n",
       "      )\n",
       "      (denselayer15): _DenseLayer(\n",
       "        (norm1): BatchNorm2d(704, eps=1e-05, momentum=0.1, affine=True, track_running_stats=True)\n",
       "        (relu1): ReLU(inplace=True)\n",
       "        (conv1): Conv2d(704, 128, kernel_size=(1, 1), stride=(1, 1), bias=False)\n",
       "        (norm2): BatchNorm2d(128, eps=1e-05, momentum=0.1, affine=True, track_running_stats=True)\n",
       "        (relu2): ReLU(inplace=True)\n",
       "        (conv2): Conv2d(128, 32, kernel_size=(3, 3), stride=(1, 1), padding=(1, 1), bias=False)\n",
       "      )\n",
       "      (denselayer16): _DenseLayer(\n",
       "        (norm1): BatchNorm2d(736, eps=1e-05, momentum=0.1, affine=True, track_running_stats=True)\n",
       "        (relu1): ReLU(inplace=True)\n",
       "        (conv1): Conv2d(736, 128, kernel_size=(1, 1), stride=(1, 1), bias=False)\n",
       "        (norm2): BatchNorm2d(128, eps=1e-05, momentum=0.1, affine=True, track_running_stats=True)\n",
       "        (relu2): ReLU(inplace=True)\n",
       "        (conv2): Conv2d(128, 32, kernel_size=(3, 3), stride=(1, 1), padding=(1, 1), bias=False)\n",
       "      )\n",
       "      (denselayer17): _DenseLayer(\n",
       "        (norm1): BatchNorm2d(768, eps=1e-05, momentum=0.1, affine=True, track_running_stats=True)\n",
       "        (relu1): ReLU(inplace=True)\n",
       "        (conv1): Conv2d(768, 128, kernel_size=(1, 1), stride=(1, 1), bias=False)\n",
       "        (norm2): BatchNorm2d(128, eps=1e-05, momentum=0.1, affine=True, track_running_stats=True)\n",
       "        (relu2): ReLU(inplace=True)\n",
       "        (conv2): Conv2d(128, 32, kernel_size=(3, 3), stride=(1, 1), padding=(1, 1), bias=False)\n",
       "      )\n",
       "      (denselayer18): _DenseLayer(\n",
       "        (norm1): BatchNorm2d(800, eps=1e-05, momentum=0.1, affine=True, track_running_stats=True)\n",
       "        (relu1): ReLU(inplace=True)\n",
       "        (conv1): Conv2d(800, 128, kernel_size=(1, 1), stride=(1, 1), bias=False)\n",
       "        (norm2): BatchNorm2d(128, eps=1e-05, momentum=0.1, affine=True, track_running_stats=True)\n",
       "        (relu2): ReLU(inplace=True)\n",
       "        (conv2): Conv2d(128, 32, kernel_size=(3, 3), stride=(1, 1), padding=(1, 1), bias=False)\n",
       "      )\n",
       "      (denselayer19): _DenseLayer(\n",
       "        (norm1): BatchNorm2d(832, eps=1e-05, momentum=0.1, affine=True, track_running_stats=True)\n",
       "        (relu1): ReLU(inplace=True)\n",
       "        (conv1): Conv2d(832, 128, kernel_size=(1, 1), stride=(1, 1), bias=False)\n",
       "        (norm2): BatchNorm2d(128, eps=1e-05, momentum=0.1, affine=True, track_running_stats=True)\n",
       "        (relu2): ReLU(inplace=True)\n",
       "        (conv2): Conv2d(128, 32, kernel_size=(3, 3), stride=(1, 1), padding=(1, 1), bias=False)\n",
       "      )\n",
       "      (denselayer20): _DenseLayer(\n",
       "        (norm1): BatchNorm2d(864, eps=1e-05, momentum=0.1, affine=True, track_running_stats=True)\n",
       "        (relu1): ReLU(inplace=True)\n",
       "        (conv1): Conv2d(864, 128, kernel_size=(1, 1), stride=(1, 1), bias=False)\n",
       "        (norm2): BatchNorm2d(128, eps=1e-05, momentum=0.1, affine=True, track_running_stats=True)\n",
       "        (relu2): ReLU(inplace=True)\n",
       "        (conv2): Conv2d(128, 32, kernel_size=(3, 3), stride=(1, 1), padding=(1, 1), bias=False)\n",
       "      )\n",
       "      (denselayer21): _DenseLayer(\n",
       "        (norm1): BatchNorm2d(896, eps=1e-05, momentum=0.1, affine=True, track_running_stats=True)\n",
       "        (relu1): ReLU(inplace=True)\n",
       "        (conv1): Conv2d(896, 128, kernel_size=(1, 1), stride=(1, 1), bias=False)\n",
       "        (norm2): BatchNorm2d(128, eps=1e-05, momentum=0.1, affine=True, track_running_stats=True)\n",
       "        (relu2): ReLU(inplace=True)\n",
       "        (conv2): Conv2d(128, 32, kernel_size=(3, 3), stride=(1, 1), padding=(1, 1), bias=False)\n",
       "      )\n",
       "      (denselayer22): _DenseLayer(\n",
       "        (norm1): BatchNorm2d(928, eps=1e-05, momentum=0.1, affine=True, track_running_stats=True)\n",
       "        (relu1): ReLU(inplace=True)\n",
       "        (conv1): Conv2d(928, 128, kernel_size=(1, 1), stride=(1, 1), bias=False)\n",
       "        (norm2): BatchNorm2d(128, eps=1e-05, momentum=0.1, affine=True, track_running_stats=True)\n",
       "        (relu2): ReLU(inplace=True)\n",
       "        (conv2): Conv2d(128, 32, kernel_size=(3, 3), stride=(1, 1), padding=(1, 1), bias=False)\n",
       "      )\n",
       "      (denselayer23): _DenseLayer(\n",
       "        (norm1): BatchNorm2d(960, eps=1e-05, momentum=0.1, affine=True, track_running_stats=True)\n",
       "        (relu1): ReLU(inplace=True)\n",
       "        (conv1): Conv2d(960, 128, kernel_size=(1, 1), stride=(1, 1), bias=False)\n",
       "        (norm2): BatchNorm2d(128, eps=1e-05, momentum=0.1, affine=True, track_running_stats=True)\n",
       "        (relu2): ReLU(inplace=True)\n",
       "        (conv2): Conv2d(128, 32, kernel_size=(3, 3), stride=(1, 1), padding=(1, 1), bias=False)\n",
       "      )\n",
       "      (denselayer24): _DenseLayer(\n",
       "        (norm1): BatchNorm2d(992, eps=1e-05, momentum=0.1, affine=True, track_running_stats=True)\n",
       "        (relu1): ReLU(inplace=True)\n",
       "        (conv1): Conv2d(992, 128, kernel_size=(1, 1), stride=(1, 1), bias=False)\n",
       "        (norm2): BatchNorm2d(128, eps=1e-05, momentum=0.1, affine=True, track_running_stats=True)\n",
       "        (relu2): ReLU(inplace=True)\n",
       "        (conv2): Conv2d(128, 32, kernel_size=(3, 3), stride=(1, 1), padding=(1, 1), bias=False)\n",
       "      )\n",
       "    )\n",
       "    (transition3): _Transition(\n",
       "      (norm): BatchNorm2d(1024, eps=1e-05, momentum=0.1, affine=True, track_running_stats=True)\n",
       "      (relu): ReLU(inplace=True)\n",
       "      (conv): Conv2d(1024, 512, kernel_size=(1, 1), stride=(1, 1), bias=False)\n",
       "      (pool): AvgPool2d(kernel_size=2, stride=2, padding=0)\n",
       "    )\n",
       "    (denseblock4): _DenseBlock(\n",
       "      (denselayer1): _DenseLayer(\n",
       "        (norm1): BatchNorm2d(512, eps=1e-05, momentum=0.1, affine=True, track_running_stats=True)\n",
       "        (relu1): ReLU(inplace=True)\n",
       "        (conv1): Conv2d(512, 128, kernel_size=(1, 1), stride=(1, 1), bias=False)\n",
       "        (norm2): BatchNorm2d(128, eps=1e-05, momentum=0.1, affine=True, track_running_stats=True)\n",
       "        (relu2): ReLU(inplace=True)\n",
       "        (conv2): Conv2d(128, 32, kernel_size=(3, 3), stride=(1, 1), padding=(1, 1), bias=False)\n",
       "      )\n",
       "      (denselayer2): _DenseLayer(\n",
       "        (norm1): BatchNorm2d(544, eps=1e-05, momentum=0.1, affine=True, track_running_stats=True)\n",
       "        (relu1): ReLU(inplace=True)\n",
       "        (conv1): Conv2d(544, 128, kernel_size=(1, 1), stride=(1, 1), bias=False)\n",
       "        (norm2): BatchNorm2d(128, eps=1e-05, momentum=0.1, affine=True, track_running_stats=True)\n",
       "        (relu2): ReLU(inplace=True)\n",
       "        (conv2): Conv2d(128, 32, kernel_size=(3, 3), stride=(1, 1), padding=(1, 1), bias=False)\n",
       "      )\n",
       "      (denselayer3): _DenseLayer(\n",
       "        (norm1): BatchNorm2d(576, eps=1e-05, momentum=0.1, affine=True, track_running_stats=True)\n",
       "        (relu1): ReLU(inplace=True)\n",
       "        (conv1): Conv2d(576, 128, kernel_size=(1, 1), stride=(1, 1), bias=False)\n",
       "        (norm2): BatchNorm2d(128, eps=1e-05, momentum=0.1, affine=True, track_running_stats=True)\n",
       "        (relu2): ReLU(inplace=True)\n",
       "        (conv2): Conv2d(128, 32, kernel_size=(3, 3), stride=(1, 1), padding=(1, 1), bias=False)\n",
       "      )\n",
       "      (denselayer4): _DenseLayer(\n",
       "        (norm1): BatchNorm2d(608, eps=1e-05, momentum=0.1, affine=True, track_running_stats=True)\n",
       "        (relu1): ReLU(inplace=True)\n",
       "        (conv1): Conv2d(608, 128, kernel_size=(1, 1), stride=(1, 1), bias=False)\n",
       "        (norm2): BatchNorm2d(128, eps=1e-05, momentum=0.1, affine=True, track_running_stats=True)\n",
       "        (relu2): ReLU(inplace=True)\n",
       "        (conv2): Conv2d(128, 32, kernel_size=(3, 3), stride=(1, 1), padding=(1, 1), bias=False)\n",
       "      )\n",
       "      (denselayer5): _DenseLayer(\n",
       "        (norm1): BatchNorm2d(640, eps=1e-05, momentum=0.1, affine=True, track_running_stats=True)\n",
       "        (relu1): ReLU(inplace=True)\n",
       "        (conv1): Conv2d(640, 128, kernel_size=(1, 1), stride=(1, 1), bias=False)\n",
       "        (norm2): BatchNorm2d(128, eps=1e-05, momentum=0.1, affine=True, track_running_stats=True)\n",
       "        (relu2): ReLU(inplace=True)\n",
       "        (conv2): Conv2d(128, 32, kernel_size=(3, 3), stride=(1, 1), padding=(1, 1), bias=False)\n",
       "      )\n",
       "      (denselayer6): _DenseLayer(\n",
       "        (norm1): BatchNorm2d(672, eps=1e-05, momentum=0.1, affine=True, track_running_stats=True)\n",
       "        (relu1): ReLU(inplace=True)\n",
       "        (conv1): Conv2d(672, 128, kernel_size=(1, 1), stride=(1, 1), bias=False)\n",
       "        (norm2): BatchNorm2d(128, eps=1e-05, momentum=0.1, affine=True, track_running_stats=True)\n",
       "        (relu2): ReLU(inplace=True)\n",
       "        (conv2): Conv2d(128, 32, kernel_size=(3, 3), stride=(1, 1), padding=(1, 1), bias=False)\n",
       "      )\n",
       "      (denselayer7): _DenseLayer(\n",
       "        (norm1): BatchNorm2d(704, eps=1e-05, momentum=0.1, affine=True, track_running_stats=True)\n",
       "        (relu1): ReLU(inplace=True)\n",
       "        (conv1): Conv2d(704, 128, kernel_size=(1, 1), stride=(1, 1), bias=False)\n",
       "        (norm2): BatchNorm2d(128, eps=1e-05, momentum=0.1, affine=True, track_running_stats=True)\n",
       "        (relu2): ReLU(inplace=True)\n",
       "        (conv2): Conv2d(128, 32, kernel_size=(3, 3), stride=(1, 1), padding=(1, 1), bias=False)\n",
       "      )\n",
       "      (denselayer8): _DenseLayer(\n",
       "        (norm1): BatchNorm2d(736, eps=1e-05, momentum=0.1, affine=True, track_running_stats=True)\n",
       "        (relu1): ReLU(inplace=True)\n",
       "        (conv1): Conv2d(736, 128, kernel_size=(1, 1), stride=(1, 1), bias=False)\n",
       "        (norm2): BatchNorm2d(128, eps=1e-05, momentum=0.1, affine=True, track_running_stats=True)\n",
       "        (relu2): ReLU(inplace=True)\n",
       "        (conv2): Conv2d(128, 32, kernel_size=(3, 3), stride=(1, 1), padding=(1, 1), bias=False)\n",
       "      )\n",
       "      (denselayer9): _DenseLayer(\n",
       "        (norm1): BatchNorm2d(768, eps=1e-05, momentum=0.1, affine=True, track_running_stats=True)\n",
       "        (relu1): ReLU(inplace=True)\n",
       "        (conv1): Conv2d(768, 128, kernel_size=(1, 1), stride=(1, 1), bias=False)\n",
       "        (norm2): BatchNorm2d(128, eps=1e-05, momentum=0.1, affine=True, track_running_stats=True)\n",
       "        (relu2): ReLU(inplace=True)\n",
       "        (conv2): Conv2d(128, 32, kernel_size=(3, 3), stride=(1, 1), padding=(1, 1), bias=False)\n",
       "      )\n",
       "      (denselayer10): _DenseLayer(\n",
       "        (norm1): BatchNorm2d(800, eps=1e-05, momentum=0.1, affine=True, track_running_stats=True)\n",
       "        (relu1): ReLU(inplace=True)\n",
       "        (conv1): Conv2d(800, 128, kernel_size=(1, 1), stride=(1, 1), bias=False)\n",
       "        (norm2): BatchNorm2d(128, eps=1e-05, momentum=0.1, affine=True, track_running_stats=True)\n",
       "        (relu2): ReLU(inplace=True)\n",
       "        (conv2): Conv2d(128, 32, kernel_size=(3, 3), stride=(1, 1), padding=(1, 1), bias=False)\n",
       "      )\n",
       "      (denselayer11): _DenseLayer(\n",
       "        (norm1): BatchNorm2d(832, eps=1e-05, momentum=0.1, affine=True, track_running_stats=True)\n",
       "        (relu1): ReLU(inplace=True)\n",
       "        (conv1): Conv2d(832, 128, kernel_size=(1, 1), stride=(1, 1), bias=False)\n",
       "        (norm2): BatchNorm2d(128, eps=1e-05, momentum=0.1, affine=True, track_running_stats=True)\n",
       "        (relu2): ReLU(inplace=True)\n",
       "        (conv2): Conv2d(128, 32, kernel_size=(3, 3), stride=(1, 1), padding=(1, 1), bias=False)\n",
       "      )\n",
       "      (denselayer12): _DenseLayer(\n",
       "        (norm1): BatchNorm2d(864, eps=1e-05, momentum=0.1, affine=True, track_running_stats=True)\n",
       "        (relu1): ReLU(inplace=True)\n",
       "        (conv1): Conv2d(864, 128, kernel_size=(1, 1), stride=(1, 1), bias=False)\n",
       "        (norm2): BatchNorm2d(128, eps=1e-05, momentum=0.1, affine=True, track_running_stats=True)\n",
       "        (relu2): ReLU(inplace=True)\n",
       "        (conv2): Conv2d(128, 32, kernel_size=(3, 3), stride=(1, 1), padding=(1, 1), bias=False)\n",
       "      )\n",
       "      (denselayer13): _DenseLayer(\n",
       "        (norm1): BatchNorm2d(896, eps=1e-05, momentum=0.1, affine=True, track_running_stats=True)\n",
       "        (relu1): ReLU(inplace=True)\n",
       "        (conv1): Conv2d(896, 128, kernel_size=(1, 1), stride=(1, 1), bias=False)\n",
       "        (norm2): BatchNorm2d(128, eps=1e-05, momentum=0.1, affine=True, track_running_stats=True)\n",
       "        (relu2): ReLU(inplace=True)\n",
       "        (conv2): Conv2d(128, 32, kernel_size=(3, 3), stride=(1, 1), padding=(1, 1), bias=False)\n",
       "      )\n",
       "      (denselayer14): _DenseLayer(\n",
       "        (norm1): BatchNorm2d(928, eps=1e-05, momentum=0.1, affine=True, track_running_stats=True)\n",
       "        (relu1): ReLU(inplace=True)\n",
       "        (conv1): Conv2d(928, 128, kernel_size=(1, 1), stride=(1, 1), bias=False)\n",
       "        (norm2): BatchNorm2d(128, eps=1e-05, momentum=0.1, affine=True, track_running_stats=True)\n",
       "        (relu2): ReLU(inplace=True)\n",
       "        (conv2): Conv2d(128, 32, kernel_size=(3, 3), stride=(1, 1), padding=(1, 1), bias=False)\n",
       "      )\n",
       "      (denselayer15): _DenseLayer(\n",
       "        (norm1): BatchNorm2d(960, eps=1e-05, momentum=0.1, affine=True, track_running_stats=True)\n",
       "        (relu1): ReLU(inplace=True)\n",
       "        (conv1): Conv2d(960, 128, kernel_size=(1, 1), stride=(1, 1), bias=False)\n",
       "        (norm2): BatchNorm2d(128, eps=1e-05, momentum=0.1, affine=True, track_running_stats=True)\n",
       "        (relu2): ReLU(inplace=True)\n",
       "        (conv2): Conv2d(128, 32, kernel_size=(3, 3), stride=(1, 1), padding=(1, 1), bias=False)\n",
       "      )\n",
       "      (denselayer16): _DenseLayer(\n",
       "        (norm1): BatchNorm2d(992, eps=1e-05, momentum=0.1, affine=True, track_running_stats=True)\n",
       "        (relu1): ReLU(inplace=True)\n",
       "        (conv1): Conv2d(992, 128, kernel_size=(1, 1), stride=(1, 1), bias=False)\n",
       "        (norm2): BatchNorm2d(128, eps=1e-05, momentum=0.1, affine=True, track_running_stats=True)\n",
       "        (relu2): ReLU(inplace=True)\n",
       "        (conv2): Conv2d(128, 32, kernel_size=(3, 3), stride=(1, 1), padding=(1, 1), bias=False)\n",
       "      )\n",
       "    )\n",
       "    (norm5): BatchNorm2d(1024, eps=1e-05, momentum=0.1, affine=True, track_running_stats=True)\n",
       "  )\n",
       "  (classifier): Sequential(\n",
       "    (0): Linear(in_features=1024, out_features=2, bias=True)\n",
       "    (1): LogSoftmax(dim=1)\n",
       "  )\n",
       ")"
      ]
     },
     "execution_count": 15,
     "metadata": {},
     "output_type": "execute_result"
    }
   ],
   "source": [
    "\n",
    "############################\n",
    "#         Test\n",
    "############################\n",
    "test_list=[]\n",
    "test_model_path = \"fl_checkpointsdensenet121_e5_c5_r5/fl_densenet_5.pth\"\n",
    "print('Best model path:{}'.format(test_model_path))\n",
    "best_model=models.densenet121(weights=False).to(device)\n",
    "\n",
    "n_inputs = best_model.classifier.in_features\n",
    "best_model.classifier = nn.Sequential(\n",
    "              nn.Linear(n_inputs, n_classes),               \n",
    "              nn.LogSoftmax(dim=1))\n",
    "\n",
    "\n",
    "checkpoint=torch.load(test_model_path,map_location=device)   # loading best model\n",
    "best_model.load_state_dict(checkpoint['state_dict'])\n",
    "best_model.to(device)\n",
    "best_model.eval()"
   ]
  },
  {
   "cell_type": "code",
   "execution_count": 16,
   "metadata": {},
   "outputs": [],
   "source": [
    "from torch.utils.data import DataLoader\n",
    "\n",
    "# Define transform\n",
    "transform = transforms.Compose([\n",
    "    transforms.Resize((224, 224)),\n",
    "    transforms.ToTensor(),\n",
    "    transforms.Normalize(mean=[0.4762, 0.3054, 0.2368], std=[0.3345, 0.2407, 0.2164])\n",
    "])\n",
    "\n",
    "# Define test dataset and dataloader\n",
    "test_root_dir = os.path.join('Real_images_processed', 'test')\n",
    "test_dataset = datasets.ImageFolder(test_root_dir, transform=transform)\n",
    "test_loader = DataLoader(test_dataset, batch_size=1, shuffle=False)\n"
   ]
  },
  {
   "cell_type": "code",
   "execution_count": 17,
   "metadata": {},
   "outputs": [
    {
     "name": "stdout",
     "output_type": "stream",
     "text": [
      "1 Predicted class: Disease | Actual Class: Disease\n",
      "2 Predicted class: Disease | Actual Class: Disease\n",
      "3 Predicted class: Disease | Actual Class: Disease\n",
      "4 Predicted class: Disease | Actual Class: Disease\n",
      "5 Predicted class: Healthy | Actual Class: Disease\n",
      "6 Predicted class: Disease | Actual Class: Disease\n",
      "7 Predicted class: Healthy | Actual Class: Disease\n",
      "8 Predicted class: Disease | Actual Class: Disease\n",
      "9 Predicted class: Disease | Actual Class: Disease\n",
      "10 Predicted class: Disease | Actual Class: Disease\n",
      "11 Predicted class: Disease | Actual Class: Disease\n",
      "12 Predicted class: Disease | Actual Class: Disease\n",
      "13 Predicted class: Disease | Actual Class: Disease\n",
      "14 Predicted class: Disease | Actual Class: Disease\n",
      "15 Predicted class: Healthy | Actual Class: Healthy\n",
      "16 Predicted class: Healthy | Actual Class: Healthy\n",
      "17 Predicted class: Healthy | Actual Class: Healthy\n",
      "18 Predicted class: Healthy | Actual Class: Healthy\n",
      "19 Predicted class: Healthy | Actual Class: Healthy\n",
      "20 Predicted class: Disease | Actual Class: Healthy\n",
      "21 Predicted class: Disease | Actual Class: Healthy\n",
      "22 Predicted class: Disease | Actual Class: Healthy\n",
      "23 Predicted class: Healthy | Actual Class: Healthy\n",
      "24 Predicted class: Healthy | Actual Class: Healthy\n",
      "25 Predicted class: Disease | Actual Class: Healthy\n",
      "26 Predicted class: Healthy | Actual Class: Healthy\n",
      "27 Predicted class: Healthy | Actual Class: Healthy\n",
      "28 Predicted class: Healthy | Actual Class: Healthy\n",
      "29 Predicted class: Healthy | Actual Class: Healthy\n",
      "30 Predicted class: Healthy | Actual Class: Healthy\n",
      "Overall test accuracy: 80.00%\n"
     ]
    }
   ],
   "source": [
    "# Org test images: 111.jpg, 119.jpg\n",
    "# Other org: 662.jpg, 841.jpg, 731.jpg\n",
    "correct, total, loss = 0, 0, 0.0\n",
    "count = 1\n",
    "class_labels = ['Disease', 'Healthy']\n",
    "with torch.no_grad():\n",
    "    for images, labels in test_loader:\n",
    "        images, labels = images.to(device), labels.to(device)\n",
    "        outputs = best_model(images)\n",
    "        _, predicted = torch.max(outputs.data, 1)\n",
    "        total += labels.size(0)\n",
    "        correct += (predicted == labels).sum().item()\n",
    "        print(f\"{count} Predicted class: {class_labels[predicted.item()]} | Actual Class: {class_labels[labels]}\")\n",
    "        count += 1\n",
    "accuracy = correct / total\n",
    "print(f'Overall test accuracy: {accuracy * 100:.2f}%')"
   ]
  },
  {
   "cell_type": "code",
   "execution_count": null,
   "metadata": {},
   "outputs": [],
   "source": []
  },
  {
   "cell_type": "code",
   "execution_count": null,
   "metadata": {},
   "outputs": [],
   "source": []
  },
  {
   "cell_type": "code",
   "execution_count": null,
   "metadata": {},
   "outputs": [],
   "source": []
  },
  {
   "cell_type": "code",
   "execution_count": null,
   "metadata": {},
   "outputs": [],
   "source": [
    "\n"
   ]
  }
 ],
 "metadata": {
  "kernelspec": {
   "display_name": "Python 3 (ipykernel)",
   "language": "python",
   "name": "python3"
  },
  "language_info": {
   "codemirror_mode": {
    "name": "ipython",
    "version": 3
   },
   "file_extension": ".py",
   "mimetype": "text/x-python",
   "name": "python",
   "nbconvert_exporter": "python",
   "pygments_lexer": "ipython3",
   "version": "3.11.9"
  }
 },
 "nbformat": 4,
 "nbformat_minor": 4
}
