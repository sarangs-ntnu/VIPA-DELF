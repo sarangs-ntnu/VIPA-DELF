{
 "cells": [
  {
   "cell_type": "code",
   "execution_count": 14,
   "id": "a355f088",
   "metadata": {},
   "outputs": [],
   "source": [
    "import torch\n",
    "import torch.nn as nn\n",
    "import torch.optim as optim\n",
    "from torch.utils.data import DataLoader, random_split\n",
    "from torchvision.datasets import ImageFolder\n",
    "import torchvision.transforms as transforms\n",
    "from vit_pytorch import ViT\n",
    "from tqdm import tqdm  # Import tqdm\n",
    "from sklearn.metrics import confusion_matrix, accuracy_score, classification_report\n",
    "import numpy as np\n",
    "import seaborn as sns\n",
    "import matplotlib.pyplot as plt"
   ]
  },
  {
   "cell_type": "code",
   "execution_count": 15,
   "id": "2890be68",
   "metadata": {},
   "outputs": [],
   "source": [
    "train_root_dir=\"./../data_processed/train\"\n",
    "val_root_dir=\"./../data_processed/validation\"\n",
    "test_root_dir=\"./../data_processed/test\""
   ]
  },
  {
   "cell_type": "code",
   "execution_count": 16,
   "id": "bc656724",
   "metadata": {},
   "outputs": [],
   "source": [
    "# Define the hyperparameters\n",
    "batch_size = 32\n",
    "learning_rate = 1e-4\n",
    "num_epochs = 60"
   ]
  },
  {
   "cell_type": "code",
   "execution_count": 17,
   "id": "a5f2f4d5",
   "metadata": {},
   "outputs": [],
   "source": [
    "####################################\n",
    "# Training\n",
    "####################################\n",
    "\n",
    "trans={\n",
    "    # Train uses data augmentation\n",
    "    'train':\n",
    "    transforms.Compose([\n",
    "        transforms.Resize((224, 224)),\n",
    "        transforms.RandomRotation(degrees=15),\n",
    "        transforms.RandomHorizontalFlip(),\n",
    "        transforms.ToTensor(),\n",
    "        transforms.Normalize([0.4762, 0.3054, 0.2368],\n",
    "                             [0.3345, 0.2407, 0.2164])\n",
    "    ]),\n",
    "    # Validation does not use augmentation\n",
    "    'valid':\n",
    "    transforms.Compose([\n",
    "        transforms.Resize((224,224)),\n",
    "        transforms.ToTensor(),\n",
    "        transforms.Normalize([0.4762, 0.3054, 0.2368],\n",
    "                             [0.3345, 0.2407, 0.2164])\n",
    "    ]),\n",
    "    \n",
    "    # Test does not use augmentation\n",
    "    'test':\n",
    "    transforms.Compose([\n",
    "        transforms.Resize((224,224)),\n",
    "        transforms.ToTensor(),\n",
    "        transforms.Normalize([0.4762, 0.3054, 0.2368],\n",
    "                             [0.3345, 0.2407, 0.2164])\n",
    "    ]),\n",
    "}"
   ]
  },
  {
   "cell_type": "code",
   "execution_count": 18,
   "id": "426ee994",
   "metadata": {},
   "outputs": [
    {
     "name": "stdout",
     "output_type": "stream",
     "text": [
      "Number of Training set images:1063\n",
      "Number of Validation set images:266\n",
      "Number of Test set images:444\n"
     ]
    }
   ],
   "source": [
    "#Generators\n",
    "training_dataset = ImageFolder(train_root_dir,transform=trans['train'])\n",
    "validation_dataset = ImageFolder(val_root_dir,transform=trans['valid'])\n",
    "test_dataset = ImageFolder(test_root_dir,transform=trans['test'])\n",
    "\n",
    "train_dataloader = DataLoader(training_dataset,batch_size,shuffle=True) # ** unpacks a dictionary into keyword arguments\n",
    "val_dataloader = DataLoader(validation_dataset,batch_size)\n",
    "test_dataloader = DataLoader(test_dataset,batch_size)\n",
    "\n",
    "print('Number of Training set images:{}'.format(len(training_dataset)))\n",
    "print('Number of Validation set images:{}'.format(len(validation_dataset)))\n",
    "print('Number of Test set images:{}'.format(len(test_dataset)))"
   ]
  },
  {
   "cell_type": "code",
   "execution_count": 19,
   "id": "2748a2cd",
   "metadata": {},
   "outputs": [
    {
     "name": "stdout",
     "output_type": "stream",
     "text": [
      "Device:  cuda\n"
     ]
    },
    {
     "data": {
      "text/plain": [
       "ViT(\n",
       "  (to_patch_embedding): Sequential(\n",
       "    (0): Rearrange('b c (h p1) (w p2) -> b (h w) (p1 p2 c)', p1=32, p2=32)\n",
       "    (1): LayerNorm((3072,), eps=1e-05, elementwise_affine=True)\n",
       "    (2): Linear(in_features=3072, out_features=768, bias=True)\n",
       "    (3): LayerNorm((768,), eps=1e-05, elementwise_affine=True)\n",
       "  )\n",
       "  (dropout): Dropout(p=0.0, inplace=False)\n",
       "  (transformer): Transformer(\n",
       "    (norm): LayerNorm((768,), eps=1e-05, elementwise_affine=True)\n",
       "    (layers): ModuleList(\n",
       "      (0-11): 12 x ModuleList(\n",
       "        (0): Attention(\n",
       "          (norm): LayerNorm((768,), eps=1e-05, elementwise_affine=True)\n",
       "          (attend): Softmax(dim=-1)\n",
       "          (dropout): Dropout(p=0.1, inplace=False)\n",
       "          (to_qkv): Linear(in_features=768, out_features=2304, bias=False)\n",
       "          (to_out): Sequential(\n",
       "            (0): Linear(in_features=768, out_features=768, bias=True)\n",
       "            (1): Dropout(p=0.1, inplace=False)\n",
       "          )\n",
       "        )\n",
       "        (1): FeedForward(\n",
       "          (net): Sequential(\n",
       "            (0): LayerNorm((768,), eps=1e-05, elementwise_affine=True)\n",
       "            (1): Linear(in_features=768, out_features=3072, bias=True)\n",
       "            (2): GELU(approximate='none')\n",
       "            (3): Dropout(p=0.1, inplace=False)\n",
       "            (4): Linear(in_features=3072, out_features=768, bias=True)\n",
       "            (5): Dropout(p=0.1, inplace=False)\n",
       "          )\n",
       "        )\n",
       "      )\n",
       "    )\n",
       "  )\n",
       "  (to_latent): Identity()\n",
       "  (mlp_head): Linear(in_features=768, out_features=2, bias=True)\n",
       ")"
      ]
     },
     "execution_count": 19,
     "metadata": {},
     "output_type": "execute_result"
    }
   ],
   "source": [
    "# Initialize the Vision Transformer model\n",
    "model = ViT(\n",
    "    image_size=224,\n",
    "    patch_size=32,\n",
    "    num_classes=len(training_dataset.classes),\n",
    "    dim=768,  # Dimension of the model\n",
    "    depth=12,  # Number of transformer layers\n",
    "    heads=12,  # Number of attention heads\n",
    "    mlp_dim=3072,  # Dimension of the MLP layers\n",
    "    dropout=0.1\n",
    ")\n",
    "\n",
    "# Define the loss function and optimizer\n",
    "criterion = nn.CrossEntropyLoss()\n",
    "optimizer = optim.Adam(model.parameters(), lr=learning_rate)\n",
    "\n",
    "# Set the device to use (CPU or GPU)\n",
    "device = torch.device('cuda' if torch.cuda.is_available() else 'mps' if torch.backends.mps.is_available() else 'cpu')\n",
    "print(\"Device: \", device)\n",
    "model.to(device)"
   ]
  },
  {
   "cell_type": "markdown",
   "id": "24600943",
   "metadata": {},
   "source": [
    "## Training"
   ]
  },
  {
   "cell_type": "code",
   "execution_count": 20,
   "id": "a6f95172",
   "metadata": {
    "scrolled": true
   },
   "outputs": [
    {
     "name": "stderr",
     "output_type": "stream",
     "text": [
      "Epoch 1/60: 100%|██████████| 34/34 [00:16<00:00,  2.11batch/s, loss=0.975]\n"
     ]
    },
    {
     "name": "stdout",
     "output_type": "stream",
     "text": [
      "Training - Epoch 1/60, Loss: 0.9750384872450548\n",
      "Validation - Epoch 1/60, Loss: 0.7162366824017631\n",
      "Validation - Epoch 1/60, Accuracy: 64.29%\n"
     ]
    },
    {
     "name": "stderr",
     "output_type": "stream",
     "text": [
      "Epoch 2/60: 100%|██████████| 34/34 [00:15<00:00,  2.16batch/s, loss=0.578]\n"
     ]
    },
    {
     "name": "stdout",
     "output_type": "stream",
     "text": [
      "Training - Epoch 2/60, Loss: 0.5781842014368843\n",
      "Validation - Epoch 2/60, Loss: 0.6091475735108057\n",
      "Validation - Epoch 2/60, Accuracy: 71.80%\n"
     ]
    },
    {
     "name": "stderr",
     "output_type": "stream",
     "text": [
      "Epoch 3/60: 100%|██████████| 34/34 [00:16<00:00,  2.04batch/s, loss=0.552]\n"
     ]
    },
    {
     "name": "stdout",
     "output_type": "stream",
     "text": [
      "Training - Epoch 3/60, Loss: 0.5521366429679534\n",
      "Validation - Epoch 3/60, Loss: 0.6078521874215868\n",
      "Validation - Epoch 3/60, Accuracy: 71.80%\n"
     ]
    },
    {
     "name": "stderr",
     "output_type": "stream",
     "text": [
      "Epoch 4/60: 100%|██████████| 34/34 [00:16<00:00,  2.08batch/s, loss=0.513]\n"
     ]
    },
    {
     "name": "stdout",
     "output_type": "stream",
     "text": [
      "Training - Epoch 4/60, Loss: 0.5125803027082892\n",
      "Validation - Epoch 4/60, Loss: 0.5282057490613725\n",
      "Validation - Epoch 4/60, Accuracy: 77.82%\n"
     ]
    },
    {
     "name": "stderr",
     "output_type": "stream",
     "text": [
      "Epoch 5/60: 100%|██████████| 34/34 [00:16<00:00,  2.01batch/s, loss=0.434]\n"
     ]
    },
    {
     "name": "stdout",
     "output_type": "stream",
     "text": [
      "Training - Epoch 5/60, Loss: 0.4344012868755004\n",
      "Validation - Epoch 5/60, Loss: 0.5262392353680398\n",
      "Validation - Epoch 5/60, Accuracy: 71.43%\n"
     ]
    },
    {
     "name": "stderr",
     "output_type": "stream",
     "text": [
      "Epoch 6/60: 100%|██████████| 34/34 [00:16<00:00,  2.04batch/s, loss=0.383]\n"
     ]
    },
    {
     "name": "stdout",
     "output_type": "stream",
     "text": [
      "Training - Epoch 6/60, Loss: 0.38323995514827613\n",
      "Validation - Epoch 6/60, Loss: 0.31708698057466084\n",
      "Validation - Epoch 6/60, Accuracy: 87.22%\n"
     ]
    },
    {
     "name": "stderr",
     "output_type": "stream",
     "text": [
      "Epoch 7/60: 100%|██████████| 34/34 [00:16<00:00,  2.08batch/s, loss=0.316]\n"
     ]
    },
    {
     "name": "stdout",
     "output_type": "stream",
     "text": [
      "Training - Epoch 7/60, Loss: 0.31627604628310485\n",
      "Validation - Epoch 7/60, Loss: 0.26430418714880943\n",
      "Validation - Epoch 7/60, Accuracy: 89.10%\n"
     ]
    },
    {
     "name": "stderr",
     "output_type": "stream",
     "text": [
      "Epoch 8/60: 100%|██████████| 34/34 [00:16<00:00,  2.06batch/s, loss=0.244]\n"
     ]
    },
    {
     "name": "stdout",
     "output_type": "stream",
     "text": [
      "Training - Epoch 8/60, Loss: 0.243776004323188\n",
      "Validation - Epoch 8/60, Loss: 0.24253814833031762\n",
      "Validation - Epoch 8/60, Accuracy: 89.10%\n"
     ]
    },
    {
     "name": "stderr",
     "output_type": "stream",
     "text": [
      "Epoch 9/60: 100%|██████████| 34/34 [00:16<00:00,  2.07batch/s, loss=0.23] \n"
     ]
    },
    {
     "name": "stdout",
     "output_type": "stream",
     "text": [
      "Training - Epoch 9/60, Loss: 0.23035268277368126\n",
      "Validation - Epoch 9/60, Loss: 0.23725675460365084\n",
      "Validation - Epoch 9/60, Accuracy: 90.98%\n"
     ]
    },
    {
     "name": "stderr",
     "output_type": "stream",
     "text": [
      "Epoch 10/60: 100%|██████████| 34/34 [00:16<00:00,  2.10batch/s, loss=0.177]\n"
     ]
    },
    {
     "name": "stdout",
     "output_type": "stream",
     "text": [
      "Training - Epoch 10/60, Loss: 0.17697497073780089\n",
      "Validation - Epoch 10/60, Loss: 0.20667441354857552\n",
      "Validation - Epoch 10/60, Accuracy: 92.48%\n"
     ]
    },
    {
     "name": "stderr",
     "output_type": "stream",
     "text": [
      "Epoch 11/60: 100%|██████████| 34/34 [00:16<00:00,  2.03batch/s, loss=0.154]\n"
     ]
    },
    {
     "name": "stdout",
     "output_type": "stream",
     "text": [
      "Training - Epoch 11/60, Loss: 0.15429790909675992\n",
      "Validation - Epoch 11/60, Loss: 0.22717159613966942\n",
      "Validation - Epoch 11/60, Accuracy: 92.86%\n"
     ]
    },
    {
     "name": "stderr",
     "output_type": "stream",
     "text": [
      "Epoch 12/60: 100%|██████████| 34/34 [00:16<00:00,  2.11batch/s, loss=0.184]\n"
     ]
    },
    {
     "name": "stdout",
     "output_type": "stream",
     "text": [
      "Training - Epoch 12/60, Loss: 0.18359637096085968\n",
      "Validation - Epoch 12/60, Loss: 0.17844223769174683\n",
      "Validation - Epoch 12/60, Accuracy: 93.98%\n"
     ]
    },
    {
     "name": "stderr",
     "output_type": "stream",
     "text": [
      "Epoch 13/60: 100%|██████████| 34/34 [00:16<00:00,  2.03batch/s, loss=0.128]\n"
     ]
    },
    {
     "name": "stdout",
     "output_type": "stream",
     "text": [
      "Training - Epoch 13/60, Loss: 0.12833824864698246\n",
      "Validation - Epoch 13/60, Loss: 0.24857278344117933\n",
      "Validation - Epoch 13/60, Accuracy: 92.11%\n"
     ]
    },
    {
     "name": "stderr",
     "output_type": "stream",
     "text": [
      "Epoch 14/60: 100%|██████████| 34/34 [00:16<00:00,  2.10batch/s, loss=0.155]\n"
     ]
    },
    {
     "name": "stdout",
     "output_type": "stream",
     "text": [
      "Training - Epoch 14/60, Loss: 0.15486405592630892\n",
      "Validation - Epoch 14/60, Loss: 0.21072234865278006\n",
      "Validation - Epoch 14/60, Accuracy: 92.48%\n"
     ]
    },
    {
     "name": "stderr",
     "output_type": "stream",
     "text": [
      "Epoch 15/60: 100%|██████████| 34/34 [00:16<00:00,  2.11batch/s, loss=0.146]\n"
     ]
    },
    {
     "name": "stdout",
     "output_type": "stream",
     "text": [
      "Training - Epoch 15/60, Loss: 0.14641663174637976\n",
      "Validation - Epoch 15/60, Loss: 0.17270902906441027\n",
      "Validation - Epoch 15/60, Accuracy: 95.11%\n"
     ]
    },
    {
     "name": "stderr",
     "output_type": "stream",
     "text": [
      "Epoch 16/60: 100%|██████████| 34/34 [00:15<00:00,  2.16batch/s, loss=0.135] \n"
     ]
    },
    {
     "name": "stdout",
     "output_type": "stream",
     "text": [
      "Training - Epoch 16/60, Loss: 0.13490501402274652\n",
      "Validation - Epoch 16/60, Loss: 0.3190892085226046\n",
      "Validation - Epoch 16/60, Accuracy: 89.10%\n"
     ]
    },
    {
     "name": "stderr",
     "output_type": "stream",
     "text": [
      "Epoch 17/60: 100%|██████████| 34/34 [00:16<00:00,  2.06batch/s, loss=0.137]\n"
     ]
    },
    {
     "name": "stdout",
     "output_type": "stream",
     "text": [
      "Training - Epoch 17/60, Loss: 0.13744167621959658\n",
      "Validation - Epoch 17/60, Loss: 0.2091641538362536\n",
      "Validation - Epoch 17/60, Accuracy: 92.11%\n"
     ]
    },
    {
     "name": "stderr",
     "output_type": "stream",
     "text": [
      "Epoch 18/60: 100%|██████████| 34/34 [00:16<00:00,  2.02batch/s, loss=0.127]\n"
     ]
    },
    {
     "name": "stdout",
     "output_type": "stream",
     "text": [
      "Training - Epoch 18/60, Loss: 0.12659376048866441\n",
      "Validation - Epoch 18/60, Loss: 0.15397770770101082\n",
      "Validation - Epoch 18/60, Accuracy: 93.98%\n"
     ]
    },
    {
     "name": "stderr",
     "output_type": "stream",
     "text": [
      "Epoch 19/60: 100%|██████████| 34/34 [00:17<00:00,  1.96batch/s, loss=0.0853]\n"
     ]
    },
    {
     "name": "stdout",
     "output_type": "stream",
     "text": [
      "Training - Epoch 19/60, Loss: 0.08527433692806345\n",
      "Validation - Epoch 19/60, Loss: 0.22938039526343346\n",
      "Validation - Epoch 19/60, Accuracy: 92.11%\n"
     ]
    },
    {
     "name": "stderr",
     "output_type": "stream",
     "text": [
      "Epoch 20/60: 100%|██████████| 34/34 [00:17<00:00,  1.98batch/s, loss=0.0888]\n"
     ]
    },
    {
     "name": "stdout",
     "output_type": "stream",
     "text": [
      "Training - Epoch 20/60, Loss: 0.08875076299163458\n",
      "Validation - Epoch 20/60, Loss: 0.15679437077293792\n",
      "Validation - Epoch 20/60, Accuracy: 94.36%\n"
     ]
    },
    {
     "name": "stderr",
     "output_type": "stream",
     "text": [
      "Epoch 21/60: 100%|██████████| 34/34 [00:16<00:00,  2.06batch/s, loss=0.0883]\n"
     ]
    },
    {
     "name": "stdout",
     "output_type": "stream",
     "text": [
      "Training - Epoch 21/60, Loss: 0.08834102827891269\n",
      "Validation - Epoch 21/60, Loss: 0.17747894131268063\n",
      "Validation - Epoch 21/60, Accuracy: 94.36%\n"
     ]
    },
    {
     "name": "stderr",
     "output_type": "stream",
     "text": [
      "Epoch 22/60: 100%|██████████| 34/34 [00:17<00:00,  1.90batch/s, loss=0.0817]\n"
     ]
    },
    {
     "name": "stdout",
     "output_type": "stream",
     "text": [
      "Training - Epoch 22/60, Loss: 0.08169761928729713\n",
      "Validation - Epoch 22/60, Loss: 0.22494748369273213\n",
      "Validation - Epoch 22/60, Accuracy: 93.61%\n"
     ]
    },
    {
     "name": "stderr",
     "output_type": "stream",
     "text": [
      "Epoch 23/60: 100%|██████████| 34/34 [00:17<00:00,  1.99batch/s, loss=0.07]  \n"
     ]
    },
    {
     "name": "stdout",
     "output_type": "stream",
     "text": [
      "Training - Epoch 23/60, Loss: 0.07003449896514855\n",
      "Validation - Epoch 23/60, Loss: 0.26766304299235344\n",
      "Validation - Epoch 23/60, Accuracy: 93.23%\n"
     ]
    },
    {
     "name": "stderr",
     "output_type": "stream",
     "text": [
      "Epoch 24/60: 100%|██████████| 34/34 [00:16<00:00,  2.01batch/s, loss=0.101] \n"
     ]
    },
    {
     "name": "stdout",
     "output_type": "stream",
     "text": [
      "Training - Epoch 24/60, Loss: 0.10111265891122029\n",
      "Validation - Epoch 24/60, Loss: 0.19677299592230055\n",
      "Validation - Epoch 24/60, Accuracy: 94.36%\n"
     ]
    },
    {
     "name": "stderr",
     "output_type": "stream",
     "text": [
      "Epoch 25/60: 100%|██████████| 34/34 [00:16<00:00,  2.10batch/s, loss=0.0936]\n"
     ]
    },
    {
     "name": "stdout",
     "output_type": "stream",
     "text": [
      "Training - Epoch 25/60, Loss: 0.09355558364597313\n",
      "Validation - Epoch 25/60, Loss: 0.19800789571470684\n",
      "Validation - Epoch 25/60, Accuracy: 93.23%\n"
     ]
    },
    {
     "name": "stderr",
     "output_type": "stream",
     "text": [
      "Epoch 26/60: 100%|██████████| 34/34 [00:15<00:00,  2.14batch/s, loss=0.0856]\n"
     ]
    },
    {
     "name": "stdout",
     "output_type": "stream",
     "text": [
      "Training - Epoch 26/60, Loss: 0.08559039936346166\n",
      "Validation - Epoch 26/60, Loss: 0.2362109989238282\n",
      "Validation - Epoch 26/60, Accuracy: 95.11%\n"
     ]
    },
    {
     "name": "stderr",
     "output_type": "stream",
     "text": [
      "Epoch 27/60: 100%|██████████| 34/34 [00:15<00:00,  2.17batch/s, loss=0.0657]\n"
     ]
    },
    {
     "name": "stdout",
     "output_type": "stream",
     "text": [
      "Training - Epoch 27/60, Loss: 0.06572697982739877\n",
      "Validation - Epoch 27/60, Loss: 0.27786060858407935\n",
      "Validation - Epoch 27/60, Accuracy: 94.74%\n"
     ]
    },
    {
     "name": "stderr",
     "output_type": "stream",
     "text": [
      "Epoch 28/60: 100%|██████████| 34/34 [00:15<00:00,  2.20batch/s, loss=0.0645]\n"
     ]
    },
    {
     "name": "stdout",
     "output_type": "stream",
     "text": [
      "Training - Epoch 28/60, Loss: 0.06445699817199699\n",
      "Validation - Epoch 28/60, Loss: 0.2067231144497378\n",
      "Validation - Epoch 28/60, Accuracy: 93.98%\n"
     ]
    },
    {
     "name": "stderr",
     "output_type": "stream",
     "text": [
      "Epoch 29/60: 100%|██████████| 34/34 [00:15<00:00,  2.19batch/s, loss=0.0744]\n"
     ]
    },
    {
     "name": "stdout",
     "output_type": "stream",
     "text": [
      "Training - Epoch 29/60, Loss: 0.07440256923847996\n",
      "Validation - Epoch 29/60, Loss: 0.2484858331994878\n",
      "Validation - Epoch 29/60, Accuracy: 92.11%\n"
     ]
    },
    {
     "name": "stderr",
     "output_type": "stream",
     "text": [
      "Epoch 30/60: 100%|██████████| 34/34 [00:16<00:00,  2.11batch/s, loss=0.0649]\n"
     ]
    },
    {
     "name": "stdout",
     "output_type": "stream",
     "text": [
      "Training - Epoch 30/60, Loss: 0.06490199001478579\n",
      "Validation - Epoch 30/60, Loss: 0.19944150207771194\n",
      "Validation - Epoch 30/60, Accuracy: 95.49%\n"
     ]
    },
    {
     "name": "stderr",
     "output_type": "stream",
     "text": [
      "Epoch 31/60: 100%|██████████| 34/34 [00:16<00:00,  2.06batch/s, loss=0.0598]\n"
     ]
    },
    {
     "name": "stdout",
     "output_type": "stream",
     "text": [
      "Training - Epoch 31/60, Loss: 0.059767303152886385\n",
      "Validation - Epoch 31/60, Loss: 0.23404530292868408\n",
      "Validation - Epoch 31/60, Accuracy: 94.36%\n"
     ]
    },
    {
     "name": "stderr",
     "output_type": "stream",
     "text": [
      "Epoch 32/60: 100%|██████████| 34/34 [00:16<00:00,  2.05batch/s, loss=0.0461]\n"
     ]
    },
    {
     "name": "stdout",
     "output_type": "stream",
     "text": [
      "Training - Epoch 32/60, Loss: 0.04606600509620929\n",
      "Validation - Epoch 32/60, Loss: 0.28012469108216465\n",
      "Validation - Epoch 32/60, Accuracy: 93.98%\n"
     ]
    },
    {
     "name": "stderr",
     "output_type": "stream",
     "text": [
      "Epoch 33/60: 100%|██████████| 34/34 [00:16<00:00,  2.09batch/s, loss=0.0896]\n"
     ]
    },
    {
     "name": "stdout",
     "output_type": "stream",
     "text": [
      "Training - Epoch 33/60, Loss: 0.08964276596260093\n",
      "Validation - Epoch 33/60, Loss: 0.25602914672344923\n",
      "Validation - Epoch 33/60, Accuracy: 93.98%\n"
     ]
    },
    {
     "name": "stderr",
     "output_type": "stream",
     "text": [
      "Epoch 34/60: 100%|██████████| 34/34 [00:16<00:00,  2.05batch/s, loss=0.132]\n"
     ]
    },
    {
     "name": "stdout",
     "output_type": "stream",
     "text": [
      "Training - Epoch 34/60, Loss: 0.13165940193678527\n",
      "Validation - Epoch 34/60, Loss: 0.16018982958565983\n",
      "Validation - Epoch 34/60, Accuracy: 93.23%\n"
     ]
    },
    {
     "name": "stderr",
     "output_type": "stream",
     "text": [
      "Epoch 35/60: 100%|██████████| 34/34 [00:16<00:00,  2.12batch/s, loss=0.0782]\n"
     ]
    },
    {
     "name": "stdout",
     "output_type": "stream",
     "text": [
      "Training - Epoch 35/60, Loss: 0.07823752454372451\n",
      "Validation - Epoch 35/60, Loss: 0.16622119841890204\n",
      "Validation - Epoch 35/60, Accuracy: 94.36%\n"
     ]
    },
    {
     "name": "stderr",
     "output_type": "stream",
     "text": [
      "Epoch 36/60: 100%|██████████| 34/34 [00:15<00:00,  2.13batch/s, loss=0.0708]\n"
     ]
    },
    {
     "name": "stdout",
     "output_type": "stream",
     "text": [
      "Training - Epoch 36/60, Loss: 0.07076516861150808\n",
      "Validation - Epoch 36/60, Loss: 0.17546855001192954\n",
      "Validation - Epoch 36/60, Accuracy: 95.11%\n"
     ]
    },
    {
     "name": "stderr",
     "output_type": "stream",
     "text": [
      "Epoch 37/60: 100%|██████████| 34/34 [00:16<00:00,  2.05batch/s, loss=0.0544]\n"
     ]
    },
    {
     "name": "stdout",
     "output_type": "stream",
     "text": [
      "Training - Epoch 37/60, Loss: 0.054443948963821376\n",
      "Validation - Epoch 37/60, Loss: 0.20307280786154377\n",
      "Validation - Epoch 37/60, Accuracy: 93.61%\n"
     ]
    },
    {
     "name": "stderr",
     "output_type": "stream",
     "text": [
      "Epoch 38/60: 100%|██████████| 34/34 [00:15<00:00,  2.13batch/s, loss=0.0415]\n"
     ]
    },
    {
     "name": "stdout",
     "output_type": "stream",
     "text": [
      "Training - Epoch 38/60, Loss: 0.04150964925408035\n",
      "Validation - Epoch 38/60, Loss: 0.25806422571056625\n",
      "Validation - Epoch 38/60, Accuracy: 94.36%\n"
     ]
    },
    {
     "name": "stderr",
     "output_type": "stream",
     "text": [
      "Epoch 39/60: 100%|██████████| 34/34 [00:15<00:00,  2.14batch/s, loss=0.0588]\n"
     ]
    },
    {
     "name": "stdout",
     "output_type": "stream",
     "text": [
      "Training - Epoch 39/60, Loss: 0.05875898852451321\n",
      "Validation - Epoch 39/60, Loss: 0.18893576599657536\n",
      "Validation - Epoch 39/60, Accuracy: 93.98%\n"
     ]
    },
    {
     "name": "stderr",
     "output_type": "stream",
     "text": [
      "Epoch 40/60: 100%|██████████| 34/34 [00:15<00:00,  2.23batch/s, loss=0.0549]\n"
     ]
    },
    {
     "name": "stdout",
     "output_type": "stream",
     "text": [
      "Training - Epoch 40/60, Loss: 0.054948588949628174\n",
      "Validation - Epoch 40/60, Loss: 0.19917669819874895\n",
      "Validation - Epoch 40/60, Accuracy: 94.36%\n"
     ]
    },
    {
     "name": "stderr",
     "output_type": "stream",
     "text": [
      "Epoch 41/60: 100%|██████████| 34/34 [00:16<00:00,  2.07batch/s, loss=0.0943]\n"
     ]
    },
    {
     "name": "stdout",
     "output_type": "stream",
     "text": [
      "Training - Epoch 41/60, Loss: 0.09426064975559711\n",
      "Validation - Epoch 41/60, Loss: 0.18208669777959585\n",
      "Validation - Epoch 41/60, Accuracy: 93.98%\n"
     ]
    },
    {
     "name": "stderr",
     "output_type": "stream",
     "text": [
      "Epoch 42/60: 100%|██████████| 34/34 [00:16<00:00,  2.11batch/s, loss=0.0507]\n"
     ]
    },
    {
     "name": "stdout",
     "output_type": "stream",
     "text": [
      "Training - Epoch 42/60, Loss: 0.05071537263746209\n",
      "Validation - Epoch 42/60, Loss: 0.21611474855389032\n",
      "Validation - Epoch 42/60, Accuracy: 94.74%\n"
     ]
    },
    {
     "name": "stderr",
     "output_type": "stream",
     "text": [
      "Epoch 43/60: 100%|██████████| 34/34 [00:16<00:00,  2.12batch/s, loss=0.0311] \n"
     ]
    },
    {
     "name": "stdout",
     "output_type": "stream",
     "text": [
      "Training - Epoch 43/60, Loss: 0.03107344889705179\n",
      "Validation - Epoch 43/60, Loss: 0.19395724359330618\n",
      "Validation - Epoch 43/60, Accuracy: 95.11%\n"
     ]
    },
    {
     "name": "stderr",
     "output_type": "stream",
     "text": [
      "Epoch 44/60: 100%|██████████| 34/34 [00:16<00:00,  2.06batch/s, loss=0.0682]\n"
     ]
    },
    {
     "name": "stdout",
     "output_type": "stream",
     "text": [
      "Training - Epoch 44/60, Loss: 0.06817863400518785\n",
      "Validation - Epoch 44/60, Loss: 0.21042988682165742\n",
      "Validation - Epoch 44/60, Accuracy: 94.36%\n"
     ]
    },
    {
     "name": "stderr",
     "output_type": "stream",
     "text": [
      "Epoch 45/60: 100%|██████████| 34/34 [00:15<00:00,  2.15batch/s, loss=0.0613]\n"
     ]
    },
    {
     "name": "stdout",
     "output_type": "stream",
     "text": [
      "Training - Epoch 45/60, Loss: 0.061262799753903356\n",
      "Validation - Epoch 45/60, Loss: 0.2210455226401488\n",
      "Validation - Epoch 45/60, Accuracy: 93.98%\n"
     ]
    },
    {
     "name": "stderr",
     "output_type": "stream",
     "text": [
      "Epoch 46/60: 100%|██████████| 34/34 [00:16<00:00,  2.03batch/s, loss=0.0352]\n"
     ]
    },
    {
     "name": "stdout",
     "output_type": "stream",
     "text": [
      "Training - Epoch 46/60, Loss: 0.03518544209039058\n",
      "Validation - Epoch 46/60, Loss: 0.25211805671763915\n",
      "Validation - Epoch 46/60, Accuracy: 94.36%\n"
     ]
    },
    {
     "name": "stderr",
     "output_type": "stream",
     "text": [
      "Epoch 47/60: 100%|██████████| 34/34 [00:16<00:00,  2.07batch/s, loss=0.0634]\n"
     ]
    },
    {
     "name": "stdout",
     "output_type": "stream",
     "text": [
      "Training - Epoch 47/60, Loss: 0.06338364642579108\n",
      "Validation - Epoch 47/60, Loss: 0.161733935535368\n",
      "Validation - Epoch 47/60, Accuracy: 93.98%\n"
     ]
    },
    {
     "name": "stderr",
     "output_type": "stream",
     "text": [
      "Epoch 48/60: 100%|██████████| 34/34 [00:16<00:00,  2.10batch/s, loss=0.0379]\n"
     ]
    },
    {
     "name": "stdout",
     "output_type": "stream",
     "text": [
      "Training - Epoch 48/60, Loss: 0.037935689940829485\n",
      "Validation - Epoch 48/60, Loss: 0.2107118368278154\n",
      "Validation - Epoch 48/60, Accuracy: 93.98%\n"
     ]
    },
    {
     "name": "stderr",
     "output_type": "stream",
     "text": [
      "Epoch 49/60: 100%|██████████| 34/34 [00:16<00:00,  2.10batch/s, loss=0.0203]\n"
     ]
    },
    {
     "name": "stdout",
     "output_type": "stream",
     "text": [
      "Training - Epoch 49/60, Loss: 0.020299406104159597\n",
      "Validation - Epoch 49/60, Loss: 0.21864898554566833\n",
      "Validation - Epoch 49/60, Accuracy: 94.74%\n"
     ]
    },
    {
     "name": "stderr",
     "output_type": "stream",
     "text": [
      "Epoch 50/60: 100%|██████████| 34/34 [00:16<00:00,  2.03batch/s, loss=0.0389]\n"
     ]
    },
    {
     "name": "stdout",
     "output_type": "stream",
     "text": [
      "Training - Epoch 50/60, Loss: 0.038895561201463674\n",
      "Validation - Epoch 50/60, Loss: 0.19475127482372853\n",
      "Validation - Epoch 50/60, Accuracy: 94.74%\n"
     ]
    },
    {
     "name": "stderr",
     "output_type": "stream",
     "text": [
      "Epoch 51/60: 100%|██████████| 34/34 [00:16<00:00,  2.09batch/s, loss=0.0263]\n"
     ]
    },
    {
     "name": "stdout",
     "output_type": "stream",
     "text": [
      "Training - Epoch 51/60, Loss: 0.026319667900251635\n",
      "Validation - Epoch 51/60, Loss: 0.22217274027773076\n",
      "Validation - Epoch 51/60, Accuracy: 94.36%\n"
     ]
    },
    {
     "name": "stderr",
     "output_type": "stream",
     "text": [
      "Epoch 52/60: 100%|██████████| 34/34 [00:16<00:00,  2.11batch/s, loss=0.0211]\n"
     ]
    },
    {
     "name": "stdout",
     "output_type": "stream",
     "text": [
      "Training - Epoch 52/60, Loss: 0.02106525617358891\n",
      "Validation - Epoch 52/60, Loss: 0.2546717225470477\n",
      "Validation - Epoch 52/60, Accuracy: 94.74%\n"
     ]
    },
    {
     "name": "stderr",
     "output_type": "stream",
     "text": [
      "Epoch 53/60: 100%|██████████| 34/34 [00:16<00:00,  2.10batch/s, loss=0.117] \n"
     ]
    },
    {
     "name": "stdout",
     "output_type": "stream",
     "text": [
      "Training - Epoch 53/60, Loss: 0.11693082632058684\n",
      "Validation - Epoch 53/60, Loss: 0.1703763496544626\n",
      "Validation - Epoch 53/60, Accuracy: 93.61%\n"
     ]
    },
    {
     "name": "stderr",
     "output_type": "stream",
     "text": [
      "Epoch 54/60: 100%|██████████| 34/34 [00:16<00:00,  2.04batch/s, loss=0.0507]\n"
     ]
    },
    {
     "name": "stdout",
     "output_type": "stream",
     "text": [
      "Training - Epoch 54/60, Loss: 0.05065485561156974\n",
      "Validation - Epoch 54/60, Loss: 0.22775685678546628\n",
      "Validation - Epoch 54/60, Accuracy: 93.23%\n"
     ]
    },
    {
     "name": "stderr",
     "output_type": "stream",
     "text": [
      "Epoch 55/60: 100%|██████████| 34/34 [00:16<00:00,  2.00batch/s, loss=0.0427]\n"
     ]
    },
    {
     "name": "stdout",
     "output_type": "stream",
     "text": [
      "Training - Epoch 55/60, Loss: 0.042748818037045354\n",
      "Validation - Epoch 55/60, Loss: 0.20692780470320335\n",
      "Validation - Epoch 55/60, Accuracy: 95.11%\n"
     ]
    },
    {
     "name": "stderr",
     "output_type": "stream",
     "text": [
      "Epoch 56/60: 100%|██████████| 34/34 [00:16<00:00,  2.08batch/s, loss=0.0323]\n"
     ]
    },
    {
     "name": "stdout",
     "output_type": "stream",
     "text": [
      "Training - Epoch 56/60, Loss: 0.03233132071395898\n",
      "Validation - Epoch 56/60, Loss: 0.2556010837369185\n",
      "Validation - Epoch 56/60, Accuracy: 93.61%\n"
     ]
    },
    {
     "name": "stderr",
     "output_type": "stream",
     "text": [
      "Epoch 57/60: 100%|██████████| 34/34 [00:16<00:00,  2.06batch/s, loss=0.0351] \n"
     ]
    },
    {
     "name": "stdout",
     "output_type": "stream",
     "text": [
      "Training - Epoch 57/60, Loss: 0.03513580116593991\n",
      "Validation - Epoch 57/60, Loss: 0.14982974860403273\n",
      "Validation - Epoch 57/60, Accuracy: 95.86%\n"
     ]
    },
    {
     "name": "stderr",
     "output_type": "stream",
     "text": [
      "Epoch 58/60: 100%|██████████| 34/34 [00:16<00:00,  2.03batch/s, loss=0.0247]\n"
     ]
    },
    {
     "name": "stdout",
     "output_type": "stream",
     "text": [
      "Training - Epoch 58/60, Loss: 0.02471222268521909\n",
      "Validation - Epoch 58/60, Loss: 0.20003103069029748\n",
      "Validation - Epoch 58/60, Accuracy: 95.11%\n"
     ]
    },
    {
     "name": "stderr",
     "output_type": "stream",
     "text": [
      "Epoch 59/60: 100%|██████████| 34/34 [00:16<00:00,  2.02batch/s, loss=0.052] \n"
     ]
    },
    {
     "name": "stdout",
     "output_type": "stream",
     "text": [
      "Training - Epoch 59/60, Loss: 0.05202341584577773\n",
      "Validation - Epoch 59/60, Loss: 0.17493108584959474\n",
      "Validation - Epoch 59/60, Accuracy: 95.11%\n"
     ]
    },
    {
     "name": "stderr",
     "output_type": "stream",
     "text": [
      "Epoch 60/60: 100%|██████████| 34/34 [00:16<00:00,  2.05batch/s, loss=0.0237]\n"
     ]
    },
    {
     "name": "stdout",
     "output_type": "stream",
     "text": [
      "Training - Epoch 60/60, Loss: 0.02371059050132959\n",
      "Validation - Epoch 60/60, Loss: 0.15420653828833666\n",
      "Validation - Epoch 60/60, Accuracy: 95.49%\n",
      "Training completed and modal saved to vit_model.pth\n"
     ]
    }
   ],
   "source": [
    "# Training loop\n",
    "for epoch in range(num_epochs):\n",
    "    model.train()\n",
    "    running_loss = 0.0\n",
    "\n",
    "    # Use tqdm for a progress bar\n",
    "    with tqdm(total=len(train_dataloader), desc=f'Epoch {epoch+1}/{num_epochs}', unit='batch') as pbar:\n",
    "        for i, (images, labels) in enumerate(train_dataloader):\n",
    "            images, labels = images.to(device), labels.to(device)\n",
    "            \n",
    "            optimizer.zero_grad()\n",
    "            outputs = model(images)\n",
    "            loss = criterion(outputs, labels)\n",
    "            loss.backward()\n",
    "            optimizer.step()\n",
    "            \n",
    "            running_loss += loss.item()\n",
    "            \n",
    "            # Update the progress bar\n",
    "            pbar.set_postfix(loss=running_loss / (i + 1))\n",
    "            pbar.update(1)\n",
    "\n",
    "    print(f'Training - Epoch {epoch+1}/{num_epochs}, Loss: {running_loss/len(train_dataloader)}')\n",
    "\n",
    "    # Validation\n",
    "    model.eval()\n",
    "    val_loss = 0.0\n",
    "    true_labels = []\n",
    "    predicted_labels = []\n",
    "\n",
    "    with torch.no_grad():\n",
    "        for images, labels in val_dataloader:\n",
    "            images, labels = images.to(device), labels.to(device)\n",
    "            \n",
    "            outputs = model(images)\n",
    "            loss = criterion(outputs, labels)\n",
    "            val_loss += loss.item()\n",
    "\n",
    "            _, predicted = torch.max(outputs, 1)\n",
    "            true_labels.extend(labels.cpu().numpy())\n",
    "            predicted_labels.extend(predicted.cpu().numpy())\n",
    "\n",
    "    print(f'Validation - Epoch {epoch+1}/{num_epochs}, Loss: {val_loss/len(val_dataloader)}')\n",
    "\n",
    "    # Compute and print validation accuracy\n",
    "    accuracy = accuracy_score(true_labels, predicted_labels)\n",
    "    print(f'Validation - Epoch {epoch+1}/{num_epochs}, Accuracy: {accuracy * 100:.2f}%')\n",
    "\n",
    "# Save the trained model\n",
    "torch.save(model.state_dict(), 'vit_model.pth')\n",
    "print(\"Training completed and modal saved to vit_model.pth\")"
   ]
  },
  {
   "cell_type": "markdown",
   "id": "d5fe209e",
   "metadata": {},
   "source": [
    "## Testing"
   ]
  },
  {
   "cell_type": "markdown",
   "id": "c26d5e63",
   "metadata": {},
   "source": [
    "## Visualizing Results"
   ]
  },
  {
   "cell_type": "code",
   "execution_count": 22,
   "id": "ee5e9812",
   "metadata": {},
   "outputs": [],
   "source": [
    "# plt.figure(figsize=(20, 16))\n",
    "# sns.set(font_scale=1.5)\n",
    "# sns.heatmap(conf_matrix, annot=True, fmt='d', cmap='Blues', xticklabels=class_names, yticklabels=class_names)\n",
    "# plt.xlabel('Predicted')\n",
    "# plt.ylabel('True')\n",
    "# plt.title('Confusion Matrix')"
   ]
  },
  {
   "cell_type": "code",
   "execution_count": null,
   "id": "debc307d",
   "metadata": {},
   "outputs": [],
   "source": []
  }
 ],
 "metadata": {
  "kernelspec": {
   "display_name": "Python 3 (ipykernel)",
   "language": "python",
   "name": "python3"
  },
  "language_info": {
   "codemirror_mode": {
    "name": "ipython",
    "version": 3
   },
   "file_extension": ".py",
   "mimetype": "text/x-python",
   "name": "python",
   "nbconvert_exporter": "python",
   "pygments_lexer": "ipython3",
   "version": "3.8.19"
  }
 },
 "nbformat": 4,
 "nbformat_minor": 5
}
