{
 "cells": [
  {
   "cell_type": "code",
   "execution_count": 1,
   "metadata": {},
   "outputs": [
    {
     "name": "stdout",
     "output_type": "stream",
     "text": [
      "2.0.1+cu117\n"
     ]
    }
   ],
   "source": [
    "import torch\n",
    "import os\n",
    "from torchvision import transforms, datasets,models\n",
    "from torch.utils import data\n",
    "from torch import optim\n",
    "print(torch.__version__)"
   ]
  },
  {
   "cell_type": "code",
   "execution_count": 2,
   "metadata": {},
   "outputs": [
    {
     "data": {
      "text/plain": [
       "device(type='cuda', index=0)"
      ]
     },
     "execution_count": 2,
     "metadata": {},
     "output_type": "execute_result"
    }
   ],
   "source": [
    "###########################\n",
    "# Checking if GPU is used\n",
    "###########################\n",
    "\n",
    "use_cuda=torch.cuda.is_available()\n",
    "use_mps = torch.backends.mps.is_available()\n",
    "device=torch.device(\"cuda:0\" if use_cuda else \"mps\" if use_mps else \"cpu\")\n",
    "device"
   ]
  },
  {
   "cell_type": "code",
   "execution_count": 3,
   "metadata": {},
   "outputs": [
    {
     "name": "stdout",
     "output_type": "stream",
     "text": [
      "Fri Jul 12 00:27:36 2024       \n",
      "+---------------------------------------------------------------------------------------+\n",
      "| NVIDIA-SMI 535.161.08             Driver Version: 535.161.08   CUDA Version: 12.2     |\n",
      "|-----------------------------------------+----------------------+----------------------+\n",
      "| GPU  Name                 Persistence-M | Bus-Id        Disp.A | Volatile Uncorr. ECC |\n",
      "| Fan  Temp   Perf          Pwr:Usage/Cap |         Memory-Usage | GPU-Util  Compute M. |\n",
      "|                                         |                      |               MIG M. |\n",
      "|=========================================+======================+======================|\n",
      "|   0  Tesla V100-SXM3-32GB           On  | 00000000:34:00.0 Off |                    0 |\n",
      "| N/A   33C    P0              75W / 350W |    737MiB / 32768MiB |     18%      Default |\n",
      "|                                         |                      |                  N/A |\n",
      "+-----------------------------------------+----------------------+----------------------+\n",
      "|   1  Tesla V100-SXM3-32GB           On  | 00000000:36:00.0 Off |                    0 |\n",
      "| N/A   57C    P0             263W / 350W |   8045MiB / 32768MiB |     99%      Default |\n",
      "|                                         |                      |                  N/A |\n",
      "+-----------------------------------------+----------------------+----------------------+\n",
      "|   2  Tesla V100-SXM3-32GB           On  | 00000000:39:00.0 Off |                    0 |\n",
      "| N/A   62C    P0              99W / 350W |  11545MiB / 32768MiB |      0%      Default |\n",
      "|                                         |                      |                  N/A |\n",
      "+-----------------------------------------+----------------------+----------------------+\n",
      "|   3  Tesla V100-SXM3-32GB           On  | 00000000:3B:00.0 Off |                    0 |\n",
      "| N/A   66C    P0             355W / 350W |   1279MiB / 32768MiB |     99%      Default |\n",
      "|                                         |                      |                  N/A |\n",
      "+-----------------------------------------+----------------------+----------------------+\n",
      "|   4  Tesla V100-SXM3-32GB           On  | 00000000:57:00.0 Off |                    0 |\n",
      "| N/A   30C    P0              49W / 350W |      0MiB / 32768MiB |      0%      Default |\n",
      "|                                         |                      |                  N/A |\n",
      "+-----------------------------------------+----------------------+----------------------+\n",
      "|   5  Tesla V100-SXM3-32GB           On  | 00000000:59:00.0 Off |                    0 |\n",
      "| N/A   36C    P0              69W / 350W |   9251MiB / 32768MiB |      0%      Default |\n",
      "|                                         |                      |                  N/A |\n",
      "+-----------------------------------------+----------------------+----------------------+\n",
      "|   6  Tesla V100-SXM3-32GB           On  | 00000000:5C:00.0 Off |                    0 |\n",
      "| N/A   28C    P0              50W / 350W |      0MiB / 32768MiB |      0%      Default |\n",
      "|                                         |                      |                  N/A |\n",
      "+-----------------------------------------+----------------------+----------------------+\n",
      "|   7  Tesla V100-SXM3-32GB           On  | 00000000:5E:00.0 Off |                    0 |\n",
      "| N/A   33C    P0              49W / 350W |      0MiB / 32768MiB |      0%      Default |\n",
      "|                                         |                      |                  N/A |\n",
      "+-----------------------------------------+----------------------+----------------------+\n",
      "|   8  Tesla V100-SXM3-32GB           On  | 00000000:B7:00.0 Off |                    0 |\n",
      "| N/A   31C    P0              48W / 350W |      0MiB / 32768MiB |      0%      Default |\n",
      "|                                         |                      |                  N/A |\n",
      "+-----------------------------------------+----------------------+----------------------+\n",
      "|   9  Tesla V100-SXM3-32GB           On  | 00000000:B9:00.0 Off |                    0 |\n",
      "| N/A   31C    P0              48W / 350W |      0MiB / 32768MiB |      0%      Default |\n",
      "|                                         |                      |                  N/A |\n",
      "+-----------------------------------------+----------------------+----------------------+\n",
      "|  10  Tesla V100-SXM3-32GB           On  | 00000000:BC:00.0 Off |                    0 |\n",
      "| N/A   35C    P0              51W / 350W |      0MiB / 32768MiB |      0%      Default |\n",
      "|                                         |                      |                  N/A |\n",
      "+-----------------------------------------+----------------------+----------------------+\n",
      "|  11  Tesla V100-SXM3-32GB           On  | 00000000:BE:00.0 Off |                    0 |\n",
      "| N/A   36C    P0              49W / 350W |      0MiB / 32768MiB |      0%      Default |\n",
      "|                                         |                      |                  N/A |\n",
      "+-----------------------------------------+----------------------+----------------------+\n",
      "|  12  Tesla V100-SXM3-32GB           On  | 00000000:E0:00.0 Off |                    0 |\n",
      "| N/A   31C    P0              47W / 350W |      0MiB / 32768MiB |      0%      Default |\n",
      "|                                         |                      |                  N/A |\n",
      "+-----------------------------------------+----------------------+----------------------+\n",
      "|  13  Tesla V100-SXM3-32GB           On  | 00000000:E2:00.0 Off |                    0 |\n",
      "| N/A   30C    P0              48W / 350W |      0MiB / 32768MiB |      0%      Default |\n",
      "|                                         |                      |                  N/A |\n",
      "+-----------------------------------------+----------------------+----------------------+\n",
      "|  14  Tesla V100-SXM3-32GB           On  | 00000000:E5:00.0 Off |                    0 |\n",
      "| N/A   34C    P0              49W / 350W |      0MiB / 32768MiB |      0%      Default |\n",
      "|                                         |                      |                  N/A |\n",
      "+-----------------------------------------+----------------------+----------------------+\n",
      "|  15  Tesla V100-SXM3-32GB           On  | 00000000:E7:00.0 Off |                    0 |\n",
      "| N/A   35C    P0              50W / 350W |      0MiB / 32768MiB |      0%      Default |\n",
      "|                                         |                      |                  N/A |\n",
      "+-----------------------------------------+----------------------+----------------------+\n",
      "                                                                                         \n",
      "+---------------------------------------------------------------------------------------+\n",
      "| Processes:                                                                            |\n",
      "|  GPU   GI   CI        PID   Type   Process name                            GPU Memory |\n",
      "|        ID   ID                                                             Usage      |\n",
      "|=======================================================================================|\n",
      "|    0   N/A  N/A   1875342      C   ...meshu/anaconda3/envs/ECG/bin/python      734MiB |\n",
      "|    1   N/A  N/A   1932494      C   ...meshu/anaconda3/envs/ECG/bin/python    16930MiB |\n",
      "|    2   N/A  N/A   3001583      C   ...meshu/anaconda3/envs/ECG/bin/python    11542MiB |\n",
      "|    3   N/A  N/A   2589348      C   ...rabink1/.conda/envs/jepa/bin/python     1276MiB |\n",
      "|    5   N/A  N/A   2701134      C   ...gs/D1/chameleon_venv/bin/python3.11     9248MiB |\n",
      "+---------------------------------------------------------------------------------------+\n"
     ]
    }
   ],
   "source": [
    "!nvidia-smi"
   ]
  },
  {
   "cell_type": "code",
   "execution_count": 3,
   "metadata": {},
   "outputs": [],
   "source": [
    "########################################\n",
    "# Setting basic parameters for the model\n",
    "########################################           \n",
    "         \n",
    "batch_size=16\n",
    "max_epochs=5\n",
    "lr=0.0001\n",
    "\n",
    "NUM_CLIENTS = 5\n",
    "\n",
    "NUM_DATA_SPLIT = NUM_CLIENTS\n",
    "\n",
    "ROUNDS = 5\n",
    "\n",
    "# added this just to done some experiments. Remove it to execute correct code.\n",
    "# It should be same as NUM_CLIENTS\n",
    "# NUM_DATA_SPLIT = 40\n",
    "\n",
    "num_classes = 2\n",
    "\n",
    "\n",
    "# name of new dataset\n",
    "dataset = \"Real_images_processed\""
   ]
  },
  {
   "cell_type": "code",
   "execution_count": 4,
   "metadata": {},
   "outputs": [
    {
     "name": "stdout",
     "output_type": "stream",
     "text": [
      "train root Real_images_processed/train\n",
      "Directory './fl_checkpointsswintransformer_e5_c5_r5' created\n"
     ]
    }
   ],
   "source": [
    "train_root_dir=os.path.join(dataset, 'train')   \n",
    "val_root_dir= os.path.join(dataset, 'validation') \n",
    "test_root_dir= os.path.join(dataset, 'test') \n",
    "model_path='./fl_checkpointsswintransformer_e5_c5_r5'  # set path to the folder that will store model's checkpoints\n",
    "\n",
    "n_classes=2  # number of classes used for training\n",
    "\n",
    "global val_f1_max\n",
    "\n",
    "\n",
    "try:\n",
    "    if not os.path.exists(model_path):\n",
    "        os.makedirs(model_path)\n",
    "except OSError as err:\n",
    "    print(err)\n",
    "    \n",
    "print('train root', train_root_dir)\n",
    "\n",
    "print(\"Directory '% s' created\" % model_path)\n",
    "filename='results_e'+str(max_epochs)+'_'+'b'+str(batch_size)+'_'+'lr'+str(lr)+'_'+'cnn'   #filename used for saving epoch-wise training details and test results "
   ]
  },
  {
   "cell_type": "markdown",
   "metadata": {},
   "source": [
    "## Federated Learning"
   ]
  },
  {
   "cell_type": "code",
   "execution_count": 5,
   "metadata": {},
   "outputs": [
    {
     "name": "stderr",
     "output_type": "stream",
     "text": [
      "2024-07-12 02:59:58.387083: I tensorflow/core/platform/cpu_feature_guard.cc:210] This TensorFlow binary is optimized to use available CPU instructions in performance-critical operations.\n",
      "To enable the following instructions: AVX2 AVX512F FMA, in other operations, rebuild TensorFlow with the appropriate compiler flags.\n",
      "2024-07-12 03:00:11.654282: W tensorflow/compiler/tf2tensorrt/utils/py_utils.cc:38] TF-TRT Warning: Could not find TensorRT\n"
     ]
    },
    {
     "name": "stdout",
     "output_type": "stream",
     "text": [
      "Training on cuda:0 using PyTorch 2.0.1+cu117 and Flower 1.9.0\n"
     ]
    }
   ],
   "source": [
    "from collections import OrderedDict\n",
    "from typing import Dict, List, Optional, Tuple\n",
    "\n",
    "import numpy as np\n",
    "import torch\n",
    "import torch.nn as nn\n",
    "import torch.nn.functional as F\n",
    "import torchvision.transforms as transforms\n",
    "from torch.utils.data import DataLoader, random_split\n",
    "from torchvision.datasets import CIFAR10\n",
    "\n",
    "import flwr as fl\n",
    "\n",
    "print(\n",
    "    f\"Training on {device} using PyTorch {torch.__version__} and Flower {fl.__version__}\"\n",
    ")"
   ]
  },
  {
   "cell_type": "markdown",
   "metadata": {},
   "source": [
    "### Custom Data Loader"
   ]
  },
  {
   "cell_type": "code",
   "execution_count": 6,
   "metadata": {},
   "outputs": [
    {
     "name": "stdout",
     "output_type": "stream",
     "text": [
      "Number of Training set images:196\n",
      "Number of Validation set images:55\n",
      "Number of Test set images:30\n",
      "\n",
      "Datassets after split...\n",
      "Number of Training set images:5\n",
      "Number of Validation set images:5\n"
     ]
    }
   ],
   "source": [
    "def load_datasets(num_clients: int):\n",
    "    # ####################################\n",
    "    # # Training\n",
    "    # ####################################\n",
    "\n",
    "    trans={\n",
    "        # Train uses data augmentation\n",
    "        'train': transforms.Compose([\n",
    "            transforms.Resize((224, 224)),\n",
    "            # transforms.RandomRotation(degrees=15),\n",
    "            # transforms.RandomHorizontalFlip(),\n",
    "            transforms.ToTensor(),\n",
    "            transforms.Normalize([0.4762, 0.3054, 0.2368], [0.3345, 0.2407, 0.2164])\n",
    "        ]),\n",
    "        # Validation does not use augmentation\n",
    "        'valid':\n",
    "        transforms.Compose([\n",
    "            transforms.Resize((224, 224)),            \n",
    "            transforms.ToTensor(),\n",
    "            transforms.Normalize([0.4762, 0.3054, 0.2368], [0.3345, 0.2407, 0.2164])\n",
    "        ]),\n",
    "\n",
    "        # Test does not use augmentation\n",
    "        'test':\n",
    "        transforms.Compose([\n",
    "            transforms.Resize((224, 224)),\n",
    "            transforms.ToTensor(),\n",
    "            transforms.Normalize([0.4762, 0.3054, 0.2368], [0.3345, 0.2407, 0.2164])\n",
    "        ]),\n",
    "    }\n",
    "\n",
    "    training_dataset= datasets.ImageFolder(train_root_dir, transform=trans['train'])\n",
    "    validation_dataset= datasets.ImageFolder(val_root_dir, transform=trans['valid'])\n",
    "    test_dataset= datasets.ImageFolder(test_root_dir, transform=trans['test'])\n",
    "\n",
    "    print('Number of Training set images:{}'.format(len(training_dataset)))\n",
    "    print('Number of Validation set images:{}'.format(len(validation_dataset)))\n",
    "    print('Number of Test set images:{}'.format(len(test_dataset)))\n",
    "\n",
    "    # Split training set into `num_clients` partitions to simulate different local datasets\n",
    "    partition_size = len(training_dataset) // num_clients\n",
    "    lengths = [partition_size] * num_clients\n",
    "    diff = len(training_dataset) - sum(lengths)\n",
    "    lengths[-1] = lengths[-1] + diff\n",
    "    train_datasets = random_split(training_dataset, lengths, torch.Generator().manual_seed(42))\n",
    "\n",
    "    partition_size = len(validation_dataset) // num_clients\n",
    "    lengths = [partition_size] * num_clients\n",
    "    diff = len(validation_dataset) - sum(lengths)\n",
    "    lengths[-1] = lengths[-1] + diff\n",
    "    val_datasets = random_split(validation_dataset, lengths, torch.Generator().manual_seed(42))\n",
    "\n",
    "    # Split each partition into train/val and create DataLoader\n",
    "    trainloaders = []\n",
    "    valloaders = []\n",
    "    for tr_ds in train_datasets:\n",
    "        trainloaders.append(data.DataLoader(tr_ds, batch_size=batch_size, shuffle=True))\n",
    "    for val_ds in val_datasets:\n",
    "        valloaders.append(data.DataLoader(val_ds, batch_size=batch_size))\n",
    "\n",
    "    testloader = data.DataLoader(test_dataset,batch_size)\n",
    "    \n",
    "    print(\"\\nDatassets after split...\")\n",
    "    print('Number of Training set images:{}'.format(len(trainloaders)))\n",
    "    print('Number of Validation set images:{}'.format(len(valloaders)))\n",
    "\n",
    "    \n",
    "    return trainloaders, valloaders, testloader\n",
    "\n",
    "trainloaders, valloaders, testloader = load_datasets(NUM_DATA_SPLIT)"
   ]
  },
  {
   "cell_type": "markdown",
   "metadata": {},
   "source": [
    "### Model Training"
   ]
  },
  {
   "cell_type": "code",
   "execution_count": 7,
   "metadata": {},
   "outputs": [],
   "source": [
    "def train(model, trainloader, epochs: int):\n",
    "    \"\"\"Train the network on the training set.\"\"\"\n",
    "    optimizer=optim.Adam(model.parameters(), lr, weight_decay=1e-4)\n",
    "\n",
    "    scheduler=optim.lr_scheduler.ReduceLROnPlateau(optimizer,mode='min',patience=4,verbose=True)\n",
    "\n",
    "    criterion = nn.CrossEntropyLoss()\n",
    "\n",
    "    model.train()\n",
    "    print(\"Starting client training...\")\n",
    "    for epoch in range(epochs):\n",
    "        print(f\"Running epoch {epoch}/{epochs}\")\n",
    "        correct, total, epoch_loss = 0, 0, 0.0\n",
    "        for images, labels in trainloader:\n",
    "            images, labels = images.to(device), labels.to(device)\n",
    "            optimizer.zero_grad()\n",
    "            outputs = model(images)\n",
    "            loss = criterion(outputs, labels)\n",
    "            loss.backward()\n",
    "            optimizer.step()\n",
    "            # Metrics\n",
    "            epoch_loss += loss.item() * images.size(0)\n",
    "            total += labels.size(0)\n",
    "            correct += (torch.max(outputs.data, 1)[1] == labels).sum().item()\n",
    "        epoch_loss /= len(trainloader.dataset)\n",
    "        epoch_acc = correct / total\n",
    "        print(f\"Epoch {epoch+1}: train loss {epoch_loss}, accuracy {epoch_acc}\")\n",
    "        scheduler.step(epoch_loss)\n",
    "#             epoch_loss += loss\n",
    "#             total += labels.size(0)\n",
    "#             correct += (torch.max(outputs.data, 1)[1] == labels).sum().item()\n",
    "#         epoch_loss /= len(trainloader.dataset)\n",
    "#         epoch_acc = correct / total\n",
    "#         print(f\"Epoch {epoch+1}: train loss {epoch_loss}, accuracy {epoch_acc}\")\n",
    "\n",
    "\n",
    "def test(model, testloader):\n",
    "    \"\"\"Evaluate the network on the entire test set.\"\"\"\n",
    "    criterion = nn.CrossEntropyLoss()\n",
    "\n",
    "    correct, total, loss = 0, 0, 0.0\n",
    "    model.eval()\n",
    "    print(\"Starting client validation...\")\n",
    "    with torch.no_grad():\n",
    "        for images, labels in testloader:\n",
    "            images, labels = images.to(device), labels.to(device)\n",
    "            outputs = model(images)\n",
    "            loss += criterion(outputs, labels).item()\n",
    "            _, predicted = torch.max(outputs.data, 1)\n",
    "            total += labels.size(0)\n",
    "            correct += (predicted == labels).sum().item()\n",
    "    loss /= len(testloader.dataset)\n",
    "    accuracy = correct / total\n",
    "    print(f\"Validataion accuracy = {accuracy}\")\n",
    "    return loss, accuracy"
   ]
  },
  {
   "cell_type": "markdown",
   "metadata": {},
   "source": [
    "### Custom Strategy"
   ]
  },
  {
   "cell_type": "code",
   "execution_count": 8,
   "metadata": {},
   "outputs": [],
   "source": [
    "from typing import Callable, Union\n",
    "\n",
    "from flwr.common import (\n",
    "    EvaluateIns,\n",
    "    EvaluateRes,\n",
    "    FitIns,\n",
    "    FitRes,\n",
    "    MetricsAggregationFn,\n",
    "    NDArrays,\n",
    "    Parameters,\n",
    "    Scalar,\n",
    "    ndarrays_to_parameters,\n",
    "    parameters_to_ndarrays,\n",
    ")\n",
    "from flwr.server.client_manager import ClientManager\n",
    "from flwr.server.client_proxy import ClientProxy\n",
    "from flwr.server.strategy.aggregate import aggregate, weighted_loss_avg\n",
    "\n",
    "\n",
    "class FedCustom(fl.server.strategy.Strategy):\n",
    "    def __init__(\n",
    "        self,\n",
    "        fraction_fit: float = 1.0,\n",
    "        fraction_evaluate: float = 1.0,\n",
    "        min_fit_clients: int = 2,\n",
    "        min_evaluate_clients: int = 2,\n",
    "        min_available_clients: int = 2,\n",
    "    ) -> None:\n",
    "        super().__init__()\n",
    "        self.fraction_fit = fraction_fit\n",
    "        self.fraction_evaluate = fraction_evaluate\n",
    "        self.min_fit_clients = min_fit_clients\n",
    "        self.min_evaluate_clients = min_evaluate_clients\n",
    "        self.min_available_clients = min_available_clients\n",
    "\n",
    "    def __repr__(self) -> str:\n",
    "        return \"FedCustom\"\n",
    "\n",
    "    def initialize_parameters(\n",
    "        self, client_manager: ClientManager\n",
    "    ) -> Optional[Parameters]:\n",
    "        \"\"\"Initialize global model parameters.\"\"\"\n",
    "        \n",
    "        net = create_pretrained_densenet(2)\n",
    "        net.to(device)\n",
    "        # get initial parameters for starting point.\n",
    "        ndarrays = get_parameters(net)\n",
    "        # ndarrays_to_parameters function converst numpy ndarray into io.bytes (tensors).\n",
    "        return fl.common.ndarrays_to_parameters(ndarrays)\n",
    "\n",
    "    def configure_fit(\n",
    "        self, server_round: int, parameters: Parameters, client_manager: ClientManager\n",
    "    ) -> List[Tuple[ClientProxy, FitIns]]:\n",
    "        \"\"\"Configure the next round of training.\"\"\"\n",
    "\n",
    "        print(\"Starting configure fit function...\")\n",
    "        # Sample clients\n",
    "        sample_size, min_num_clients = self.num_fit_clients(\n",
    "            client_manager.num_available()\n",
    "        )\n",
    "        clients = client_manager.sample(\n",
    "            num_clients=sample_size, min_num_clients=min_num_clients\n",
    "        )\n",
    "        \n",
    "        print(f\"Sample size = {sample_size} Min Num Clients = {min_num_clients} Clients = {clients}\")\n",
    "\n",
    "        # Create custom configs\n",
    "        n_clients = len(clients)\n",
    "        half_clients = n_clients // 2\n",
    "        standard_config = {\"lr\": 0.001}\n",
    "        higher_lr_config = {\"lr\": 0.003}\n",
    "        fit_configurations = []\n",
    "        \n",
    "        print(f\"Number of clients = {n_clients}\")\n",
    "        for idx, client in enumerate(clients):\n",
    "            if idx < half_clients:\n",
    "                fit_configurations.append((client, FitIns(parameters, standard_config)))\n",
    "            else:\n",
    "                fit_configurations.append(\n",
    "                    (client, FitIns(parameters, higher_lr_config))\n",
    "                )\n",
    "        print(\"Fit Configurations\")        \n",
    "        return fit_configurations\n",
    "\n",
    "    def aggregate_fit(\n",
    "        self,\n",
    "        server_round: int,\n",
    "        results: List[Tuple[ClientProxy, FitRes]],\n",
    "        failures: List[Union[Tuple[ClientProxy, FitRes], BaseException]],\n",
    "    ) -> Tuple[Optional[Parameters], Dict[str, Scalar]]:\n",
    "        \"\"\"Aggregate fit results using weighted average.\"\"\"\n",
    "\n",
    "        weights_results = [\n",
    "            (parameters_to_ndarrays(fit_res.parameters), fit_res.num_examples)\n",
    "            for _, fit_res in results\n",
    "        ]\n",
    "        parameters_aggregated = ndarrays_to_parameters(aggregate(weights_results))\n",
    "        metrics_aggregated = {}\n",
    "        \n",
    "        return parameters_aggregated, metrics_aggregated\n",
    "\n",
    "\n",
    "\n",
    "    def configure_evaluate(\n",
    "        self, server_round: int, parameters: Parameters, client_manager: ClientManager\n",
    "    ) -> List[Tuple[ClientProxy, EvaluateIns]]:\n",
    "        \"\"\"Configure the next round of evaluation.\"\"\"\n",
    "        if self.fraction_evaluate == 0.0:\n",
    "            return []\n",
    "        config = {}\n",
    "        evaluate_ins = EvaluateIns(parameters, config)\n",
    "\n",
    "        # Sample clients\n",
    "        sample_size, min_num_clients = self.num_evaluation_clients(\n",
    "            client_manager.num_available()\n",
    "        )\n",
    "        clients = client_manager.sample(\n",
    "            num_clients=sample_size, min_num_clients=min_num_clients\n",
    "        )\n",
    "\n",
    "        # Return client/config pairs\n",
    "        return [(client, evaluate_ins) for client in clients]\n",
    "\n",
    "    def aggregate_evaluate(\n",
    "        self,\n",
    "        server_round: int,\n",
    "        results: List[Tuple[ClientProxy, EvaluateRes]],\n",
    "        failures: List[Union[Tuple[ClientProxy, EvaluateRes], BaseException]],\n",
    "    ) -> Tuple[Optional[float], Dict[str, Scalar]]:\n",
    "        \"\"\"Aggregate evaluation losses using weighted average.\"\"\"\n",
    "\n",
    "        if not results:\n",
    "            return None, {}\n",
    "\n",
    "        loss_aggregated = weighted_loss_avg(\n",
    "            [\n",
    "                (evaluate_res.num_examples, evaluate_res.loss)\n",
    "                for _, evaluate_res in results\n",
    "            ]\n",
    "        )\n",
    "        metrics_aggregated = {}\n",
    "        return loss_aggregated, metrics_aggregated\n",
    "\n",
    "    def evaluate(\n",
    "        self, server_round: int, parameters: Parameters\n",
    "    ) -> Optional[Tuple[float, Dict[str, Scalar]]]:\n",
    "        \"\"\"Evaluate global model parameters using an evaluation function.\"\"\"\n",
    "\n",
    "        loss = 1\n",
    "        metric = {}    \n",
    "        \n",
    "        try:\n",
    "            parameters_ndarrays = parameters_to_ndarrays(parameters)\n",
    "            len(parameters_ndarrays)\n",
    "            # Let's assume we won't perform the global model evaluation on the server side.\n",
    "            print(\"Evaluating global model\")                \n",
    "            global_model = create_pretrained_densenet(2)\n",
    "            global_model.to(device)\n",
    "\n",
    "            set_parameters(global_model, parameters_ndarrays)\n",
    "            print(\"Parameter set\")\n",
    "            loss, accuracy = test(global_model, testloader)\n",
    "            print(f\"Global evaluation round {server_round} loss = {float(loss)} accuracy = {float(accuracy)}\")\n",
    "            \n",
    "            # Save your weights here.\n",
    "            best_model_path = model_path+f'/fl_densenet_{server_round}.pth'\n",
    "            torch.save({'round':server_round,\n",
    "                'state_dict':global_model.state_dict(),\n",
    "                'loss':loss,\n",
    "                'acc':accuracy},\n",
    "                best_model_path    \n",
    "                )\n",
    "            print(f\"Model saved at {best_model_path}\")\n",
    "            \n",
    "        except:\n",
    "            print(\"Parameter type is not ndarray\")\n",
    "        \n",
    "        return float(loss), metric\n",
    "\n",
    "    def num_fit_clients(self, num_available_clients: int) -> Tuple[int, int]:\n",
    "        \"\"\"Return sample size and required number of clients.\"\"\"\n",
    "        num_clients = int(num_available_clients * self.fraction_fit)\n",
    "        return max(num_clients, self.min_fit_clients), self.min_available_clients\n",
    "\n",
    "    def num_evaluation_clients(self, num_available_clients: int) -> Tuple[int, int]:\n",
    "        \"\"\"Use a fraction of available clients for evaluation.\"\"\"\n",
    "        num_clients = int(num_available_clients * self.fraction_evaluate)\n",
    "        return max(num_clients, self.min_evaluate_clients), self.min_available_clients"
   ]
  },
  {
   "cell_type": "code",
   "execution_count": 9,
   "metadata": {},
   "outputs": [],
   "source": [
    "class FlowerClient(fl.client.NumPyClient):\n",
    "    def __init__(self, cid, model, trainloader, valloader, max_epochs):\n",
    "        self.cid = cid\n",
    "        self.model = model\n",
    "        self.trainloader = trainloader\n",
    "        self.valloader = valloader\n",
    "        self.max_epochs = max_epochs\n",
    "\n",
    "    def get_parameters(self, config):\n",
    "        print(f\"[Client {self.cid}] get_parameters\")\n",
    "        return get_parameters(self.model)\n",
    "\n",
    "    def fit(self, parameters, config):\n",
    "        print(f\"[Client {self.cid}] fit, config: {config}\")\n",
    "        set_parameters(self.model, parameters)\n",
    "        print(\"Client parameters set\")\n",
    "        train(self.model, self.trainloader, epochs=self.max_epochs)\n",
    "        print(\"Training completed!\")\n",
    "        return get_parameters(self.model), len(self.trainloader), {}\n",
    "\n",
    "    def evaluate(self, parameters, config):\n",
    "        print(f\"[Client {self.cid}] evaluate, config: {config}\")\n",
    "        set_parameters(self.model, parameters)\n",
    "        loss, accuracy = test(self.model, self.valloader)\n",
    "        print(f\"Evaluation loss = {float(loss)} accuracy = {float(accuracy)}\")\n",
    "        return float(loss), len(self.valloader), {\"accuracy\": float(accuracy)}\n",
    "\n",
    "    \n",
    "import timm\n",
    "\n",
    "def create_pretrained_densenet(num_classes):\n",
    "    model = timm.create_model('swin_base_patch4_window7_224', pretrained=True, num_classes=2)\n",
    "    return model\n",
    "# def create_pretrained_densenet(num_classes):\n",
    "#     model = models.vit_b_16(pretrained=True)\n",
    "#     # Replace the classifier with a new one (the number of classes in your dataset)\n",
    "#     num_ftrs = model.classifier.in_features\n",
    "#     model.classifier = nn.Linear(num_ftrs, num_classes)\n",
    "#     return model\n",
    "\n",
    "\n",
    "\n",
    "def client_fn(cid) -> FlowerClient:\n",
    "    model = create_pretrained_densenet(num_classes)\n",
    "    model.to(device)\n",
    "\n",
    "    trainloader = trainloaders[int(cid)]\n",
    "    valloader = valloaders[int(cid)]\n",
    "\n",
    "    return FlowerClient(cid, model, trainloader, testloader, max_epochs)"
   ]
  },
  {
   "cell_type": "markdown",
   "metadata": {},
   "source": [
    "### Creating Flower Client"
   ]
  },
  {
   "cell_type": "code",
   "execution_count": 10,
   "metadata": {},
   "outputs": [],
   "source": [
    "def get_parameters(model) -> List[np.ndarray]:\n",
    "    listOfArray = [val.cpu().numpy() for _, val in model.state_dict().items()]\n",
    "    print(f\"Length of params: {len(listOfArray)}\")\n",
    "    return listOfArray\n",
    "\n",
    "def set_parameters(model, parameters: List[np.ndarray]):\n",
    "    print(f\"Updating parameters {len(parameters)}\")\n",
    "    \n",
    "    ord_dict = {}\n",
    "    # this is added for densenet parameters inconsistency.\n",
    "    for k, v, p in zip(model.state_dict().keys(), model.state_dict().values(), parameters):\n",
    "        try:\n",
    "            len(p)\n",
    "            ord_dict[k] = torch.Tensor(p)\n",
    "        except:\n",
    "#             print(f\"Value of V = {v}\")\n",
    "            ord_dict[k] = torch.Tensor(v)\n",
    "    \n",
    "#     params_dict = zip(model.state_dict().keys(), parameters)\n",
    "#     st_dict = OrderedDict({k: torch.Tensor(v) for k, v in params_dict})\n",
    "\n",
    "    st_dict = OrderedDict(ord_dict)\n",
    "    model.load_state_dict(st_dict, strict=True)\n",
    "    print(\"Setting parameters...\")"
   ]
  },
  {
   "cell_type": "code",
   "execution_count": 11,
   "metadata": {
    "scrolled": true
   },
   "outputs": [
    {
     "name": "stderr",
     "output_type": "stream",
     "text": [
      "\u001b[92mINFO \u001b[0m:      Starting Flower simulation, config: num_rounds=5, no round_timeout\n",
      "2024-07-12 03:01:00,281\tINFO worker.py:1752 -- Started a local Ray instance.\n",
      "\u001b[92mINFO \u001b[0m:      Flower VCE: Ray initialized with resources: {'GPU': 1.0, 'accelerator_type:V100': 1.0, 'CPU': 96.0, 'object_store_memory': 200000000000.0, 'memory': 1087371959296.0, 'node:__internal_head__': 1.0, 'node:10.128.0.31': 1.0}\n",
      "\u001b[92mINFO \u001b[0m:      Optimize your simulation with Flower VCE: https://flower.ai/docs/framework/how-to-run-simulations.html\n",
      "/tmp/ipykernel_2981549/24281487.py:29: UserWarning: No `num_cpus` specified in `client_resources`. Using `num_cpus=1` for each client.\n",
      "  history = fl.simulation.start_simulation(\n",
      "\u001b[92mINFO \u001b[0m:      Flower VCE: Resources for each Virtual Client: {'num_gpus': 1, 'num_cpus': 1}\n",
      "\u001b[92mINFO \u001b[0m:      Flower VCE: Creating VirtualClientEngineActorPool with 1 actors\n",
      "\u001b[92mINFO \u001b[0m:      [INIT]\n"
     ]
    },
    {
     "name": "stdout",
     "output_type": "stream",
     "text": [
      "Length of params: 329\n"
     ]
    },
    {
     "name": "stderr",
     "output_type": "stream",
     "text": [
      "\u001b[92mINFO \u001b[0m:      Using initial global parameters provided by strategy\n",
      "\u001b[92mINFO \u001b[0m:      Evaluating initial global parameters\n"
     ]
    },
    {
     "name": "stdout",
     "output_type": "stream",
     "text": [
      "Evaluating global model\n",
      "Updating parameters 329\n",
      "Setting parameters...\n",
      "Parameter set\n",
      "Starting client validation...\n",
      "Validataion accuracy = 0.4\n",
      "Global evaluation round 0 loss = 0.051406596104303995 accuracy = 0.4\n"
     ]
    },
    {
     "name": "stderr",
     "output_type": "stream",
     "text": [
      "\u001b[92mINFO \u001b[0m:      initial parameters (loss, other metrics): 0.051406596104303995, {}\n",
      "\u001b[92mINFO \u001b[0m:      \n",
      "\u001b[92mINFO \u001b[0m:      [ROUND 1]\n",
      "\u001b[92mINFO \u001b[0m:      configure_fit: strategy sampled 5 clients (out of 5)\n"
     ]
    },
    {
     "name": "stdout",
     "output_type": "stream",
     "text": [
      "Model saved at ./fl_checkpointsswintransformer_e5_c5_r5/fl_densenet_0.pth\n",
      "Starting configure fit function...\n",
      "Sample size = 5 Min Num Clients = 2 Clients = [<flwr.simulation.ray_transport.ray_client_proxy.RayActorClientProxy object at 0x155491d6e3d0>, <flwr.simulation.ray_transport.ray_client_proxy.RayActorClientProxy object at 0x155491d6e290>, <flwr.simulation.ray_transport.ray_client_proxy.RayActorClientProxy object at 0x155491d6c210>, <flwr.simulation.ray_transport.ray_client_proxy.RayActorClientProxy object at 0x155314addcd0>, <flwr.simulation.ray_transport.ray_client_proxy.RayActorClientProxy object at 0x155491d6e490>]\n",
      "Number of clients = 5\n",
      "Fit Configurations\n"
     ]
    },
    {
     "name": "stderr",
     "output_type": "stream",
     "text": [
      "\u001b[36m(pid=2989835)\u001b[0m 2024-07-12 03:01:54.807003: W tensorflow/compiler/tf2tensorrt/utils/py_utils.cc:38] TF-TRT Warning: Could not find TensorRT\n",
      "\u001b[36m(ClientAppActor pid=2989835)\u001b[0m \u001b[93mWARNING \u001b[0m:   Deprecation Warning: The `client_fn` function must return an instance of `Client`, but an instance of `NumpyClient` was returned. Please use `NumPyClient.to_client()` method to convert it to `Client`.\n"
     ]
    },
    {
     "name": "stdout",
     "output_type": "stream",
     "text": [
      "\u001b[36m(ClientAppActor pid=2989835)\u001b[0m [Client 3] fit, config: {'lr': 0.001}\n",
      "\u001b[36m(ClientAppActor pid=2989835)\u001b[0m Updating parameters 329\n",
      "\u001b[36m(ClientAppActor pid=2989835)\u001b[0m Setting parameters...\n",
      "\u001b[36m(ClientAppActor pid=2989835)\u001b[0m Client parameters set\n",
      "\u001b[36m(ClientAppActor pid=2989835)\u001b[0m Starting client training...\n",
      "\u001b[36m(ClientAppActor pid=2989835)\u001b[0m Running epoch 0/5\n",
      "\u001b[36m(ClientAppActor pid=2989835)\u001b[0m Epoch 1: train loss 0.647157887617747, accuracy 0.5641025641025641\n",
      "\u001b[36m(ClientAppActor pid=2989835)\u001b[0m Running epoch 1/5\n",
      "\u001b[36m(ClientAppActor pid=2989835)\u001b[0m Epoch 2: train loss 0.21330326069623995, accuracy 0.8974358974358975\n",
      "\u001b[36m(ClientAppActor pid=2989835)\u001b[0m Running epoch 2/5\n",
      "\u001b[36m(ClientAppActor pid=2989835)\u001b[0m Epoch 3: train loss 0.2746085107135467, accuracy 0.8717948717948718\n",
      "\u001b[36m(ClientAppActor pid=2989835)\u001b[0m Running epoch 3/5\n",
      "\u001b[36m(ClientAppActor pid=2989835)\u001b[0m Epoch 4: train loss 0.25233517109583586, accuracy 0.9487179487179487\n",
      "\u001b[36m(ClientAppActor pid=2989835)\u001b[0m Running epoch 4/5\n",
      "\u001b[36m(ClientAppActor pid=2989835)\u001b[0m Epoch 5: train loss 0.052271100477530405, accuracy 0.9743589743589743\n",
      "\u001b[36m(ClientAppActor pid=2989835)\u001b[0m Training completed!\n",
      "\u001b[36m(ClientAppActor pid=2989835)\u001b[0m Length of params: 329\n"
     ]
    },
    {
     "name": "stderr",
     "output_type": "stream",
     "text": [
      "\u001b[36m(ClientAppActor pid=2989835)\u001b[0m \u001b[93mWARNING \u001b[0m:   Deprecation Warning: The `client_fn` function must return an instance of `Client`, but an instance of `NumpyClient` was returned. Please use `NumPyClient.to_client()` method to convert it to `Client`.\n"
     ]
    },
    {
     "name": "stdout",
     "output_type": "stream",
     "text": [
      "\u001b[36m(ClientAppActor pid=2989835)\u001b[0m [Client 2] fit, config: {'lr': 0.001}\n",
      "\u001b[36m(ClientAppActor pid=2989835)\u001b[0m Updating parameters 329\n",
      "\u001b[36m(ClientAppActor pid=2989835)\u001b[0m Setting parameters...\n",
      "\u001b[36m(ClientAppActor pid=2989835)\u001b[0m Client parameters set\n",
      "\u001b[36m(ClientAppActor pid=2989835)\u001b[0m Starting client training...\n",
      "\u001b[36m(ClientAppActor pid=2989835)\u001b[0m Running epoch 0/5\n",
      "\u001b[36m(ClientAppActor pid=2989835)\u001b[0m Epoch 1: train loss 0.5979427848106775, accuracy 0.6153846153846154\n",
      "\u001b[36m(ClientAppActor pid=2989835)\u001b[0m Running epoch 1/5\n",
      "\u001b[36m(ClientAppActor pid=2989835)\u001b[0m Epoch 2: train loss 0.1945249171784291, accuracy 0.9230769230769231\n",
      "\u001b[36m(ClientAppActor pid=2989835)\u001b[0m Running epoch 2/5\n",
      "\u001b[36m(ClientAppActor pid=2989835)\u001b[0m Epoch 3: train loss 0.0350063538704163, accuracy 1.0\n",
      "\u001b[36m(ClientAppActor pid=2989835)\u001b[0m Running epoch 3/5\n",
      "\u001b[36m(ClientAppActor pid=2989835)\u001b[0m Epoch 4: train loss 0.0007856076565356209, accuracy 1.0\n",
      "\u001b[36m(ClientAppActor pid=2989835)\u001b[0m Running epoch 4/5\n",
      "\u001b[36m(ClientAppActor pid=2989835)\u001b[0m Epoch 5: train loss 0.14294451690064028, accuracy 0.9230769230769231\n",
      "\u001b[36m(ClientAppActor pid=2989835)\u001b[0m Training completed!\n",
      "\u001b[36m(ClientAppActor pid=2989835)\u001b[0m Length of params: 329\n"
     ]
    },
    {
     "name": "stderr",
     "output_type": "stream",
     "text": [
      "\u001b[36m(ClientAppActor pid=2989835)\u001b[0m \u001b[93mWARNING \u001b[0m:   Deprecation Warning: The `client_fn` function must return an instance of `Client`, but an instance of `NumpyClient` was returned. Please use `NumPyClient.to_client()` method to convert it to `Client`.\n"
     ]
    },
    {
     "name": "stdout",
     "output_type": "stream",
     "text": [
      "\u001b[36m(ClientAppActor pid=2989835)\u001b[0m [Client 1] fit, config: {'lr': 0.003}\n",
      "\u001b[36m(ClientAppActor pid=2989835)\u001b[0m Updating parameters 329\n",
      "\u001b[36m(ClientAppActor pid=2989835)\u001b[0m Setting parameters...\n",
      "\u001b[36m(ClientAppActor pid=2989835)\u001b[0m Client parameters set\n",
      "\u001b[36m(ClientAppActor pid=2989835)\u001b[0m Starting client training...\n",
      "\u001b[36m(ClientAppActor pid=2989835)\u001b[0m Running epoch 0/5\n",
      "\u001b[36m(ClientAppActor pid=2989835)\u001b[0m Epoch 1: train loss 0.7937814257083795, accuracy 0.48717948717948717\n",
      "\u001b[36m(ClientAppActor pid=2989835)\u001b[0m Running epoch 1/5\n",
      "\u001b[36m(ClientAppActor pid=2989835)\u001b[0m Epoch 2: train loss 0.48008754008855575, accuracy 0.8205128205128205\n",
      "\u001b[36m(ClientAppActor pid=2989835)\u001b[0m Running epoch 2/5\n",
      "\u001b[36m(ClientAppActor pid=2989835)\u001b[0m Epoch 3: train loss 0.2897685766220093, accuracy 0.8974358974358975\n",
      "\u001b[36m(ClientAppActor pid=2989835)\u001b[0m Running epoch 3/5\n",
      "\u001b[36m(ClientAppActor pid=2989835)\u001b[0m Epoch 4: train loss 0.1860446899365156, accuracy 0.8974358974358975\n",
      "\u001b[36m(ClientAppActor pid=2989835)\u001b[0m Running epoch 4/5\n",
      "\u001b[36m(ClientAppActor pid=2989835)\u001b[0m Epoch 5: train loss 0.09404031607585076, accuracy 1.0\n",
      "\u001b[36m(ClientAppActor pid=2989835)\u001b[0m Training completed!\n",
      "\u001b[36m(ClientAppActor pid=2989835)\u001b[0m Length of params: 329\n"
     ]
    },
    {
     "name": "stderr",
     "output_type": "stream",
     "text": [
      "\u001b[36m(ClientAppActor pid=2989835)\u001b[0m \u001b[93mWARNING \u001b[0m:   Deprecation Warning: The `client_fn` function must return an instance of `Client`, but an instance of `NumpyClient` was returned. Please use `NumPyClient.to_client()` method to convert it to `Client`.\n"
     ]
    },
    {
     "name": "stdout",
     "output_type": "stream",
     "text": [
      "\u001b[36m(ClientAppActor pid=2989835)\u001b[0m [Client 0] fit, config: {'lr': 0.003}\n",
      "\u001b[36m(ClientAppActor pid=2989835)\u001b[0m Updating parameters 329\n",
      "\u001b[36m(ClientAppActor pid=2989835)\u001b[0m Setting parameters...\n",
      "\u001b[36m(ClientAppActor pid=2989835)\u001b[0m Client parameters set\n",
      "\u001b[36m(ClientAppActor pid=2989835)\u001b[0m Starting client training...\n",
      "\u001b[36m(ClientAppActor pid=2989835)\u001b[0m Running epoch 0/5\n",
      "\u001b[36m(ClientAppActor pid=2989835)\u001b[0m Epoch 1: train loss 0.704688568909963, accuracy 0.5897435897435898\n",
      "\u001b[36m(ClientAppActor pid=2989835)\u001b[0m Running epoch 1/5\n",
      "\u001b[36m(ClientAppActor pid=2989835)\u001b[0m Epoch 2: train loss 0.5911506731540729, accuracy 0.717948717948718\n",
      "\u001b[36m(ClientAppActor pid=2989835)\u001b[0m Running epoch 2/5\n",
      "\u001b[36m(ClientAppActor pid=2989835)\u001b[0m Epoch 3: train loss 0.19558289054876718, accuracy 0.9743589743589743\n",
      "\u001b[36m(ClientAppActor pid=2989835)\u001b[0m Running epoch 3/5\n",
      "\u001b[36m(ClientAppActor pid=2989835)\u001b[0m Epoch 4: train loss 0.12057778010001549, accuracy 0.9487179487179487\n",
      "\u001b[36m(ClientAppActor pid=2989835)\u001b[0m Running epoch 4/5\n",
      "\u001b[36m(ClientAppActor pid=2989835)\u001b[0m Epoch 5: train loss 0.04592666717676016, accuracy 0.9743589743589743\n",
      "\u001b[36m(ClientAppActor pid=2989835)\u001b[0m Training completed!\n",
      "\u001b[36m(ClientAppActor pid=2989835)\u001b[0m Length of params: 329\n"
     ]
    },
    {
     "name": "stderr",
     "output_type": "stream",
     "text": [
      "\u001b[36m(ClientAppActor pid=2989835)\u001b[0m \u001b[93mWARNING \u001b[0m:   Deprecation Warning: The `client_fn` function must return an instance of `Client`, but an instance of `NumpyClient` was returned. Please use `NumPyClient.to_client()` method to convert it to `Client`.\n"
     ]
    },
    {
     "name": "stdout",
     "output_type": "stream",
     "text": [
      "\u001b[36m(ClientAppActor pid=2989835)\u001b[0m [Client 4] fit, config: {'lr': 0.003}\n",
      "\u001b[36m(ClientAppActor pid=2989835)\u001b[0m Updating parameters 329\n",
      "\u001b[36m(ClientAppActor pid=2989835)\u001b[0m Setting parameters...\n",
      "\u001b[36m(ClientAppActor pid=2989835)\u001b[0m Client parameters set\n",
      "\u001b[36m(ClientAppActor pid=2989835)\u001b[0m Starting client training...\n",
      "\u001b[36m(ClientAppActor pid=2989835)\u001b[0m Running epoch 0/5\n",
      "\u001b[36m(ClientAppActor pid=2989835)\u001b[0m Epoch 1: train loss 0.8773486018180847, accuracy 0.45\n",
      "\u001b[36m(ClientAppActor pid=2989835)\u001b[0m Running epoch 1/5\n",
      "\u001b[36m(ClientAppActor pid=2989835)\u001b[0m Epoch 2: train loss 0.35856937170028685, accuracy 0.875\n",
      "\u001b[36m(ClientAppActor pid=2989835)\u001b[0m Running epoch 2/5\n",
      "\u001b[36m(ClientAppActor pid=2989835)\u001b[0m Epoch 3: train loss 0.19725212305784226, accuracy 0.95\n",
      "\u001b[36m(ClientAppActor pid=2989835)\u001b[0m Running epoch 3/5\n",
      "\u001b[36m(ClientAppActor pid=2989835)\u001b[0m Epoch 4: train loss 0.17624556943774222, accuracy 0.95\n",
      "\u001b[36m(ClientAppActor pid=2989835)\u001b[0m Running epoch 4/5\n",
      "\u001b[36m(ClientAppActor pid=2989835)\u001b[0m Epoch 5: train loss 0.03348827064037323, accuracy 1.0\n",
      "\u001b[36m(ClientAppActor pid=2989835)\u001b[0m Training completed!\n",
      "\u001b[36m(ClientAppActor pid=2989835)\u001b[0m Length of params: 329\n"
     ]
    },
    {
     "name": "stderr",
     "output_type": "stream",
     "text": [
      "\u001b[92mINFO \u001b[0m:      aggregate_fit: received 5 results and 0 failures\n"
     ]
    },
    {
     "name": "stdout",
     "output_type": "stream",
     "text": [
      "Evaluating global model\n",
      "Updating parameters 329\n",
      "Setting parameters...\n",
      "Parameter set\n",
      "Starting client validation...\n",
      "Validataion accuracy = 0.8666666666666667\n",
      "Global evaluation round 1 loss = 0.022573108226060866 accuracy = 0.8666666666666667\n"
     ]
    },
    {
     "name": "stderr",
     "output_type": "stream",
     "text": [
      "\u001b[92mINFO \u001b[0m:      fit progress: (1, 0.022573108226060866, {}, 353.7692824250553)\n",
      "\u001b[92mINFO \u001b[0m:      configure_evaluate: strategy sampled 5 clients (out of 5)\n"
     ]
    },
    {
     "name": "stdout",
     "output_type": "stream",
     "text": [
      "Model saved at ./fl_checkpointsswintransformer_e5_c5_r5/fl_densenet_1.pth\n"
     ]
    },
    {
     "name": "stderr",
     "output_type": "stream",
     "text": [
      "\u001b[36m(ClientAppActor pid=2989835)\u001b[0m \u001b[93mWARNING \u001b[0m:   Deprecation Warning: The `client_fn` function must return an instance of `Client`, but an instance of `NumpyClient` was returned. Please use `NumPyClient.to_client()` method to convert it to `Client`.\n"
     ]
    },
    {
     "name": "stdout",
     "output_type": "stream",
     "text": [
      "\u001b[36m(ClientAppActor pid=2989835)\u001b[0m [Client 3] evaluate, config: {}\n",
      "\u001b[36m(ClientAppActor pid=2989835)\u001b[0m Updating parameters 329\n",
      "\u001b[36m(ClientAppActor pid=2989835)\u001b[0m Setting parameters...\n",
      "\u001b[36m(ClientAppActor pid=2989835)\u001b[0m Starting client validation...\n",
      "\u001b[36m(ClientAppActor pid=2989835)\u001b[0m Validataion accuracy = 0.8666666666666667\n",
      "\u001b[36m(ClientAppActor pid=2989835)\u001b[0m Evaluation loss = 0.022573108226060866 accuracy = 0.8666666666666667\n"
     ]
    },
    {
     "name": "stderr",
     "output_type": "stream",
     "text": [
      "\u001b[36m(ClientAppActor pid=2989835)\u001b[0m \u001b[93mWARNING \u001b[0m:   Deprecation Warning: The `client_fn` function must return an instance of `Client`, but an instance of `NumpyClient` was returned. Please use `NumPyClient.to_client()` method to convert it to `Client`.\n"
     ]
    },
    {
     "name": "stdout",
     "output_type": "stream",
     "text": [
      "\u001b[36m(ClientAppActor pid=2989835)\u001b[0m [Client 2] evaluate, config: {}\n",
      "\u001b[36m(ClientAppActor pid=2989835)\u001b[0m Updating parameters 329\n",
      "\u001b[36m(ClientAppActor pid=2989835)\u001b[0m Setting parameters...\n",
      "\u001b[36m(ClientAppActor pid=2989835)\u001b[0m Starting client validation...\n",
      "\u001b[36m(ClientAppActor pid=2989835)\u001b[0m Validataion accuracy = 0.8666666666666667\n",
      "\u001b[36m(ClientAppActor pid=2989835)\u001b[0m Evaluation loss = 0.022573108226060866 accuracy = 0.8666666666666667\n"
     ]
    },
    {
     "name": "stderr",
     "output_type": "stream",
     "text": [
      "\u001b[36m(ClientAppActor pid=2989835)\u001b[0m \u001b[93mWARNING \u001b[0m:   Deprecation Warning: The `client_fn` function must return an instance of `Client`, but an instance of `NumpyClient` was returned. Please use `NumPyClient.to_client()` method to convert it to `Client`.\n"
     ]
    },
    {
     "name": "stdout",
     "output_type": "stream",
     "text": [
      "\u001b[36m(ClientAppActor pid=2989835)\u001b[0m [Client 4] evaluate, config: {}\n",
      "\u001b[36m(ClientAppActor pid=2989835)\u001b[0m Updating parameters 329\n",
      "\u001b[36m(ClientAppActor pid=2989835)\u001b[0m Setting parameters...\n",
      "\u001b[36m(ClientAppActor pid=2989835)\u001b[0m Starting client validation...\n",
      "\u001b[36m(ClientAppActor pid=2989835)\u001b[0m Validataion accuracy = 0.8666666666666667\n",
      "\u001b[36m(ClientAppActor pid=2989835)\u001b[0m Evaluation loss = 0.022573108226060866 accuracy = 0.8666666666666667\n"
     ]
    },
    {
     "name": "stderr",
     "output_type": "stream",
     "text": [
      "\u001b[36m(ClientAppActor pid=2989835)\u001b[0m \u001b[93mWARNING \u001b[0m:   Deprecation Warning: The `client_fn` function must return an instance of `Client`, but an instance of `NumpyClient` was returned. Please use `NumPyClient.to_client()` method to convert it to `Client`.\n"
     ]
    },
    {
     "name": "stdout",
     "output_type": "stream",
     "text": [
      "\u001b[36m(ClientAppActor pid=2989835)\u001b[0m [Client 1] evaluate, config: {}\n",
      "\u001b[36m(ClientAppActor pid=2989835)\u001b[0m Updating parameters 329\n",
      "\u001b[36m(ClientAppActor pid=2989835)\u001b[0m Setting parameters...\n",
      "\u001b[36m(ClientAppActor pid=2989835)\u001b[0m Starting client validation...\n",
      "\u001b[36m(ClientAppActor pid=2989835)\u001b[0m Validataion accuracy = 0.8666666666666667\n",
      "\u001b[36m(ClientAppActor pid=2989835)\u001b[0m Evaluation loss = 0.022573108226060866 accuracy = 0.8666666666666667\n"
     ]
    },
    {
     "name": "stderr",
     "output_type": "stream",
     "text": [
      "\u001b[36m(ClientAppActor pid=2989835)\u001b[0m \u001b[93mWARNING \u001b[0m:   Deprecation Warning: The `client_fn` function must return an instance of `Client`, but an instance of `NumpyClient` was returned. Please use `NumPyClient.to_client()` method to convert it to `Client`.\n"
     ]
    },
    {
     "name": "stdout",
     "output_type": "stream",
     "text": [
      "\u001b[36m(ClientAppActor pid=2989835)\u001b[0m [Client 0] evaluate, config: {}\n",
      "\u001b[36m(ClientAppActor pid=2989835)\u001b[0m Updating parameters 329\n",
      "\u001b[36m(ClientAppActor pid=2989835)\u001b[0m Setting parameters...\n",
      "\u001b[36m(ClientAppActor pid=2989835)\u001b[0m Starting client validation...\n"
     ]
    },
    {
     "name": "stderr",
     "output_type": "stream",
     "text": [
      "\u001b[92mINFO \u001b[0m:      aggregate_evaluate: received 5 results and 0 failures\n",
      "\u001b[92mINFO \u001b[0m:      \n",
      "\u001b[92mINFO \u001b[0m:      [ROUND 2]\n",
      "\u001b[92mINFO \u001b[0m:      configure_fit: strategy sampled 5 clients (out of 5)\n"
     ]
    },
    {
     "name": "stdout",
     "output_type": "stream",
     "text": [
      "Starting configure fit function...\n",
      "Sample size = 5 Min Num Clients = 2 Clients = [<flwr.simulation.ray_transport.ray_client_proxy.RayActorClientProxy object at 0x155314addcd0>, <flwr.simulation.ray_transport.ray_client_proxy.RayActorClientProxy object at 0x155491d6c210>, <flwr.simulation.ray_transport.ray_client_proxy.RayActorClientProxy object at 0x155491d6e290>, <flwr.simulation.ray_transport.ray_client_proxy.RayActorClientProxy object at 0x155491d6e3d0>, <flwr.simulation.ray_transport.ray_client_proxy.RayActorClientProxy object at 0x155491d6e490>]\n",
      "Number of clients = 5\n",
      "Fit Configurations\n",
      "\u001b[36m(ClientAppActor pid=2989835)\u001b[0m Validataion accuracy = 0.8666666666666667\n",
      "\u001b[36m(ClientAppActor pid=2989835)\u001b[0m Evaluation loss = 0.022573108226060866 accuracy = 0.8666666666666667\n"
     ]
    },
    {
     "name": "stderr",
     "output_type": "stream",
     "text": [
      "\u001b[36m(ClientAppActor pid=2989835)\u001b[0m \u001b[93mWARNING \u001b[0m:   Deprecation Warning: The `client_fn` function must return an instance of `Client`, but an instance of `NumpyClient` was returned. Please use `NumPyClient.to_client()` method to convert it to `Client`.\n"
     ]
    },
    {
     "name": "stdout",
     "output_type": "stream",
     "text": [
      "\u001b[36m(ClientAppActor pid=2989835)\u001b[0m [Client 0] fit, config: {'lr': 0.001}\n",
      "\u001b[36m(ClientAppActor pid=2989835)\u001b[0m Updating parameters 329\n",
      "\u001b[36m(ClientAppActor pid=2989835)\u001b[0m Setting parameters...\n",
      "\u001b[36m(ClientAppActor pid=2989835)\u001b[0m Client parameters set\n",
      "\u001b[36m(ClientAppActor pid=2989835)\u001b[0m Starting client training...\n",
      "\u001b[36m(ClientAppActor pid=2989835)\u001b[0m Running epoch 0/5\n",
      "\u001b[36m(ClientAppActor pid=2989835)\u001b[0m Epoch 1: train loss 0.5599776698897282, accuracy 0.7948717948717948\n",
      "\u001b[36m(ClientAppActor pid=2989835)\u001b[0m Running epoch 1/5\n",
      "\u001b[36m(ClientAppActor pid=2989835)\u001b[0m Epoch 2: train loss 0.2823896572375909, accuracy 0.8974358974358975\n",
      "\u001b[36m(ClientAppActor pid=2989835)\u001b[0m Running epoch 2/5\n",
      "\u001b[36m(ClientAppActor pid=2989835)\u001b[0m Epoch 3: train loss 0.06883440842517675, accuracy 0.9743589743589743\n",
      "\u001b[36m(ClientAppActor pid=2989835)\u001b[0m Running epoch 3/5\n",
      "\u001b[36m(ClientAppActor pid=2989835)\u001b[0m Epoch 4: train loss 0.0563241465924642, accuracy 1.0\n",
      "\u001b[36m(ClientAppActor pid=2989835)\u001b[0m Running epoch 4/5\n",
      "\u001b[36m(ClientAppActor pid=2989835)\u001b[0m Epoch 5: train loss 0.013594465625758927, accuracy 1.0\n",
      "\u001b[36m(ClientAppActor pid=2989835)\u001b[0m Training completed!\n",
      "\u001b[36m(ClientAppActor pid=2989835)\u001b[0m Length of params: 329\n"
     ]
    },
    {
     "name": "stderr",
     "output_type": "stream",
     "text": [
      "\u001b[36m(ClientAppActor pid=2989835)\u001b[0m \u001b[93mWARNING \u001b[0m:   Deprecation Warning: The `client_fn` function must return an instance of `Client`, but an instance of `NumpyClient` was returned. Please use `NumPyClient.to_client()` method to convert it to `Client`.\n"
     ]
    },
    {
     "name": "stdout",
     "output_type": "stream",
     "text": [
      "\u001b[36m(ClientAppActor pid=2989835)\u001b[0m [Client 1] fit, config: {'lr': 0.001}\n",
      "\u001b[36m(ClientAppActor pid=2989835)\u001b[0m Updating parameters 329\n",
      "\u001b[36m(ClientAppActor pid=2989835)\u001b[0m Setting parameters...\n",
      "\u001b[36m(ClientAppActor pid=2989835)\u001b[0m Client parameters set\n",
      "\u001b[36m(ClientAppActor pid=2989835)\u001b[0m Starting client training...\n",
      "\u001b[36m(ClientAppActor pid=2989835)\u001b[0m Running epoch 0/5\n",
      "\u001b[36m(ClientAppActor pid=2989835)\u001b[0m Epoch 1: train loss 0.3382803996404012, accuracy 0.9230769230769231\n",
      "\u001b[36m(ClientAppActor pid=2989835)\u001b[0m Running epoch 1/5\n",
      "\u001b[36m(ClientAppActor pid=2989835)\u001b[0m Epoch 2: train loss 0.2818229607282541, accuracy 0.8461538461538461\n",
      "\u001b[36m(ClientAppActor pid=2989835)\u001b[0m Running epoch 2/5\n",
      "\u001b[36m(ClientAppActor pid=2989835)\u001b[0m Epoch 3: train loss 0.15749500940243402, accuracy 1.0\n",
      "\u001b[36m(ClientAppActor pid=2989835)\u001b[0m Running epoch 3/5\n",
      "\u001b[36m(ClientAppActor pid=2989835)\u001b[0m Epoch 4: train loss 0.0762757217654815, accuracy 1.0\n",
      "\u001b[36m(ClientAppActor pid=2989835)\u001b[0m Running epoch 4/5\n",
      "\u001b[36m(ClientAppActor pid=2989835)\u001b[0m Epoch 5: train loss 0.016619753426848315, accuracy 1.0\n",
      "\u001b[36m(ClientAppActor pid=2989835)\u001b[0m Training completed!\n",
      "\u001b[36m(ClientAppActor pid=2989835)\u001b[0m Length of params: 329\n"
     ]
    },
    {
     "name": "stderr",
     "output_type": "stream",
     "text": [
      "\u001b[36m(ClientAppActor pid=2989835)\u001b[0m \u001b[93mWARNING \u001b[0m:   Deprecation Warning: The `client_fn` function must return an instance of `Client`, but an instance of `NumpyClient` was returned. Please use `NumPyClient.to_client()` method to convert it to `Client`.\n"
     ]
    },
    {
     "name": "stdout",
     "output_type": "stream",
     "text": [
      "\u001b[36m(ClientAppActor pid=2989835)\u001b[0m [Client 2] fit, config: {'lr': 0.003}\n",
      "\u001b[36m(ClientAppActor pid=2989835)\u001b[0m Updating parameters 329\n",
      "\u001b[36m(ClientAppActor pid=2989835)\u001b[0m Setting parameters...\n",
      "\u001b[36m(ClientAppActor pid=2989835)\u001b[0m Client parameters set\n",
      "\u001b[36m(ClientAppActor pid=2989835)\u001b[0m Starting client training...\n",
      "\u001b[36m(ClientAppActor pid=2989835)\u001b[0m Running epoch 0/5\n",
      "\u001b[36m(ClientAppActor pid=2989835)\u001b[0m Epoch 1: train loss 0.015997857882235296, accuracy 1.0\n",
      "\u001b[36m(ClientAppActor pid=2989835)\u001b[0m Running epoch 1/5\n",
      "\u001b[36m(ClientAppActor pid=2989835)\u001b[0m Epoch 2: train loss 4.527974040404213e-05, accuracy 1.0\n",
      "\u001b[36m(ClientAppActor pid=2989835)\u001b[0m Running epoch 2/5\n",
      "\u001b[36m(ClientAppActor pid=2989835)\u001b[0m Epoch 3: train loss 4.942056781286598e-05, accuracy 1.0\n",
      "\u001b[36m(ClientAppActor pid=2989835)\u001b[0m Running epoch 3/5\n",
      "\u001b[36m(ClientAppActor pid=2989835)\u001b[0m Epoch 4: train loss 0.00011353232231414996, accuracy 1.0\n",
      "\u001b[36m(ClientAppActor pid=2989835)\u001b[0m Running epoch 4/5\n",
      "\u001b[36m(ClientAppActor pid=2989835)\u001b[0m Epoch 5: train loss 1.8331504237814956e-05, accuracy 1.0\n",
      "\u001b[36m(ClientAppActor pid=2989835)\u001b[0m Training completed!\n",
      "\u001b[36m(ClientAppActor pid=2989835)\u001b[0m Length of params: 329\n"
     ]
    },
    {
     "name": "stderr",
     "output_type": "stream",
     "text": [
      "\u001b[36m(ClientAppActor pid=2989835)\u001b[0m \u001b[93mWARNING \u001b[0m:   Deprecation Warning: The `client_fn` function must return an instance of `Client`, but an instance of `NumpyClient` was returned. Please use `NumPyClient.to_client()` method to convert it to `Client`.\n"
     ]
    },
    {
     "name": "stdout",
     "output_type": "stream",
     "text": [
      "\u001b[36m(ClientAppActor pid=2989835)\u001b[0m [Client 3] fit, config: {'lr': 0.003}\n",
      "\u001b[36m(ClientAppActor pid=2989835)\u001b[0m Updating parameters 329\n",
      "\u001b[36m(ClientAppActor pid=2989835)\u001b[0m Setting parameters...\n",
      "\u001b[36m(ClientAppActor pid=2989835)\u001b[0m Client parameters set\n",
      "\u001b[36m(ClientAppActor pid=2989835)\u001b[0m Starting client training...\n",
      "\u001b[36m(ClientAppActor pid=2989835)\u001b[0m Running epoch 0/5\n",
      "\u001b[36m(ClientAppActor pid=2989835)\u001b[0m Epoch 1: train loss 0.21484542657167482, accuracy 0.8974358974358975\n",
      "\u001b[36m(ClientAppActor pid=2989835)\u001b[0m Running epoch 1/5\n",
      "\u001b[36m(ClientAppActor pid=2989835)\u001b[0m Epoch 2: train loss 0.04122393076809553, accuracy 0.9743589743589743\n",
      "\u001b[36m(ClientAppActor pid=2989835)\u001b[0m Running epoch 2/5\n",
      "\u001b[36m(ClientAppActor pid=2989835)\u001b[0m Epoch 3: train loss 0.06623415632221179, accuracy 0.9743589743589743\n",
      "\u001b[36m(ClientAppActor pid=2989835)\u001b[0m Running epoch 3/5\n",
      "\u001b[36m(ClientAppActor pid=2989835)\u001b[0m Epoch 4: train loss 0.014450075200352913, accuracy 1.0\n",
      "\u001b[36m(ClientAppActor pid=2989835)\u001b[0m Running epoch 4/5\n",
      "\u001b[36m(ClientAppActor pid=2989835)\u001b[0m Epoch 5: train loss 0.011000238633595215, accuracy 1.0\n",
      "\u001b[36m(ClientAppActor pid=2989835)\u001b[0m Training completed!\n",
      "\u001b[36m(ClientAppActor pid=2989835)\u001b[0m Length of params: 329\n"
     ]
    },
    {
     "name": "stderr",
     "output_type": "stream",
     "text": [
      "\u001b[36m(ClientAppActor pid=2989835)\u001b[0m \u001b[93mWARNING \u001b[0m:   Deprecation Warning: The `client_fn` function must return an instance of `Client`, but an instance of `NumpyClient` was returned. Please use `NumPyClient.to_client()` method to convert it to `Client`.\n"
     ]
    },
    {
     "name": "stdout",
     "output_type": "stream",
     "text": [
      "\u001b[36m(ClientAppActor pid=2989835)\u001b[0m [Client 4] fit, config: {'lr': 0.003}\n",
      "\u001b[36m(ClientAppActor pid=2989835)\u001b[0m Updating parameters 329\n",
      "\u001b[36m(ClientAppActor pid=2989835)\u001b[0m Setting parameters...\n",
      "\u001b[36m(ClientAppActor pid=2989835)\u001b[0m Client parameters set\n",
      "\u001b[36m(ClientAppActor pid=2989835)\u001b[0m Starting client training...\n",
      "\u001b[36m(ClientAppActor pid=2989835)\u001b[0m Running epoch 0/5\n",
      "\u001b[36m(ClientAppActor pid=2989835)\u001b[0m Epoch 1: train loss 0.774756595492363, accuracy 0.6\n",
      "\u001b[36m(ClientAppActor pid=2989835)\u001b[0m Running epoch 1/5\n",
      "\u001b[36m(ClientAppActor pid=2989835)\u001b[0m Epoch 2: train loss 0.3344368040561676, accuracy 0.85\n",
      "\u001b[36m(ClientAppActor pid=2989835)\u001b[0m Running epoch 2/5\n",
      "\u001b[36m(ClientAppActor pid=2989835)\u001b[0m Epoch 3: train loss 0.1630031108856201, accuracy 0.975\n",
      "\u001b[36m(ClientAppActor pid=2989835)\u001b[0m Running epoch 3/5\n",
      "\u001b[36m(ClientAppActor pid=2989835)\u001b[0m Epoch 4: train loss 0.07528835460543633, accuracy 1.0\n",
      "\u001b[36m(ClientAppActor pid=2989835)\u001b[0m Running epoch 4/5\n",
      "\u001b[36m(ClientAppActor pid=2989835)\u001b[0m Epoch 5: train loss 0.021099072694778443, accuracy 1.0\n",
      "\u001b[36m(ClientAppActor pid=2989835)\u001b[0m Training completed!\n",
      "\u001b[36m(ClientAppActor pid=2989835)\u001b[0m Length of params: 329\n"
     ]
    },
    {
     "name": "stderr",
     "output_type": "stream",
     "text": [
      "\u001b[92mINFO \u001b[0m:      aggregate_fit: received 5 results and 0 failures\n"
     ]
    },
    {
     "name": "stdout",
     "output_type": "stream",
     "text": [
      "Evaluating global model\n",
      "Updating parameters 329\n",
      "Setting parameters...\n",
      "Parameter set\n",
      "Starting client validation...\n",
      "Validataion accuracy = 0.8333333333333334\n",
      "Global evaluation round 2 loss = 0.03914549512167772 accuracy = 0.8333333333333334\n"
     ]
    },
    {
     "name": "stderr",
     "output_type": "stream",
     "text": [
      "\u001b[92mINFO \u001b[0m:      fit progress: (2, 0.03914549512167772, {}, 661.5129682649858)\n",
      "\u001b[92mINFO \u001b[0m:      configure_evaluate: strategy sampled 5 clients (out of 5)\n"
     ]
    },
    {
     "name": "stdout",
     "output_type": "stream",
     "text": [
      "Model saved at ./fl_checkpointsswintransformer_e5_c5_r5/fl_densenet_2.pth\n"
     ]
    },
    {
     "name": "stderr",
     "output_type": "stream",
     "text": [
      "\u001b[36m(ClientAppActor pid=2989835)\u001b[0m \u001b[93mWARNING \u001b[0m:   Deprecation Warning: The `client_fn` function must return an instance of `Client`, but an instance of `NumpyClient` was returned. Please use `NumPyClient.to_client()` method to convert it to `Client`.\n"
     ]
    },
    {
     "name": "stdout",
     "output_type": "stream",
     "text": [
      "\u001b[36m(ClientAppActor pid=2989835)\u001b[0m [Client 1] evaluate, config: {}\n",
      "\u001b[36m(ClientAppActor pid=2989835)\u001b[0m Updating parameters 329\n",
      "\u001b[36m(ClientAppActor pid=2989835)\u001b[0m Setting parameters...\n",
      "\u001b[36m(ClientAppActor pid=2989835)\u001b[0m Starting client validation...\n",
      "\u001b[36m(ClientAppActor pid=2989835)\u001b[0m Validataion accuracy = 0.8333333333333334\n",
      "\u001b[36m(ClientAppActor pid=2989835)\u001b[0m Evaluation loss = 0.03914549512167772 accuracy = 0.8333333333333334\n"
     ]
    },
    {
     "name": "stderr",
     "output_type": "stream",
     "text": [
      "\u001b[36m(ClientAppActor pid=2989835)\u001b[0m \u001b[93mWARNING \u001b[0m:   Deprecation Warning: The `client_fn` function must return an instance of `Client`, but an instance of `NumpyClient` was returned. Please use `NumPyClient.to_client()` method to convert it to `Client`.\n"
     ]
    },
    {
     "name": "stdout",
     "output_type": "stream",
     "text": [
      "\u001b[36m(ClientAppActor pid=2989835)\u001b[0m [Client 4] evaluate, config: {}\n",
      "\u001b[36m(ClientAppActor pid=2989835)\u001b[0m Updating parameters 329\n",
      "\u001b[36m(ClientAppActor pid=2989835)\u001b[0m Setting parameters...\n",
      "\u001b[36m(ClientAppActor pid=2989835)\u001b[0m Starting client validation...\n",
      "\u001b[36m(ClientAppActor pid=2989835)\u001b[0m Validataion accuracy = 0.8333333333333334\n",
      "\u001b[36m(ClientAppActor pid=2989835)\u001b[0m Evaluation loss = 0.03914549512167772 accuracy = 0.8333333333333334\n"
     ]
    },
    {
     "name": "stderr",
     "output_type": "stream",
     "text": [
      "\u001b[36m(ClientAppActor pid=2989835)\u001b[0m \u001b[93mWARNING \u001b[0m:   Deprecation Warning: The `client_fn` function must return an instance of `Client`, but an instance of `NumpyClient` was returned. Please use `NumPyClient.to_client()` method to convert it to `Client`.\n"
     ]
    },
    {
     "name": "stdout",
     "output_type": "stream",
     "text": [
      "\u001b[36m(ClientAppActor pid=2989835)\u001b[0m [Client 3] evaluate, config: {}\n",
      "\u001b[36m(ClientAppActor pid=2989835)\u001b[0m Updating parameters 329\n",
      "\u001b[36m(ClientAppActor pid=2989835)\u001b[0m Setting parameters...\n",
      "\u001b[36m(ClientAppActor pid=2989835)\u001b[0m Starting client validation...\n",
      "\u001b[36m(ClientAppActor pid=2989835)\u001b[0m Validataion accuracy = 0.8333333333333334\n",
      "\u001b[36m(ClientAppActor pid=2989835)\u001b[0m Evaluation loss = 0.03914549512167772 accuracy = 0.8333333333333334\n"
     ]
    },
    {
     "name": "stderr",
     "output_type": "stream",
     "text": [
      "\u001b[36m(ClientAppActor pid=2989835)\u001b[0m \u001b[93mWARNING \u001b[0m:   Deprecation Warning: The `client_fn` function must return an instance of `Client`, but an instance of `NumpyClient` was returned. Please use `NumPyClient.to_client()` method to convert it to `Client`.\n"
     ]
    },
    {
     "name": "stdout",
     "output_type": "stream",
     "text": [
      "\u001b[36m(ClientAppActor pid=2989835)\u001b[0m [Client 0] evaluate, config: {}\n",
      "\u001b[36m(ClientAppActor pid=2989835)\u001b[0m Updating parameters 329\n",
      "\u001b[36m(ClientAppActor pid=2989835)\u001b[0m Setting parameters...\n",
      "\u001b[36m(ClientAppActor pid=2989835)\u001b[0m Starting client validation...\n",
      "\u001b[36m(ClientAppActor pid=2989835)\u001b[0m Validataion accuracy = 0.8333333333333334\n",
      "\u001b[36m(ClientAppActor pid=2989835)\u001b[0m Evaluation loss = 0.03914549512167772 accuracy = 0.8333333333333334\n"
     ]
    },
    {
     "name": "stderr",
     "output_type": "stream",
     "text": [
      "\u001b[36m(ClientAppActor pid=2989835)\u001b[0m \u001b[93mWARNING \u001b[0m:   Deprecation Warning: The `client_fn` function must return an instance of `Client`, but an instance of `NumpyClient` was returned. Please use `NumPyClient.to_client()` method to convert it to `Client`.\n"
     ]
    },
    {
     "name": "stdout",
     "output_type": "stream",
     "text": [
      "\u001b[36m(ClientAppActor pid=2989835)\u001b[0m [Client 2] evaluate, config: {}\n",
      "\u001b[36m(ClientAppActor pid=2989835)\u001b[0m Updating parameters 329\n",
      "\u001b[36m(ClientAppActor pid=2989835)\u001b[0m Setting parameters...\n",
      "\u001b[36m(ClientAppActor pid=2989835)\u001b[0m Starting client validation...\n"
     ]
    },
    {
     "name": "stderr",
     "output_type": "stream",
     "text": [
      "\u001b[92mINFO \u001b[0m:      aggregate_evaluate: received 5 results and 0 failures\n",
      "\u001b[92mINFO \u001b[0m:      \n",
      "\u001b[92mINFO \u001b[0m:      [ROUND 3]\n",
      "\u001b[92mINFO \u001b[0m:      configure_fit: strategy sampled 5 clients (out of 5)\n"
     ]
    },
    {
     "name": "stdout",
     "output_type": "stream",
     "text": [
      "Starting configure fit function...\n",
      "Sample size = 5 Min Num Clients = 2 Clients = [<flwr.simulation.ray_transport.ray_client_proxy.RayActorClientProxy object at 0x155491d6c210>, <flwr.simulation.ray_transport.ray_client_proxy.RayActorClientProxy object at 0x155491d6e490>, <flwr.simulation.ray_transport.ray_client_proxy.RayActorClientProxy object at 0x155491d6e290>, <flwr.simulation.ray_transport.ray_client_proxy.RayActorClientProxy object at 0x155314addcd0>, <flwr.simulation.ray_transport.ray_client_proxy.RayActorClientProxy object at 0x155491d6e3d0>]\n",
      "Number of clients = 5\n",
      "Fit Configurations\n",
      "\u001b[36m(ClientAppActor pid=2989835)\u001b[0m Validataion accuracy = 0.8333333333333334\n",
      "\u001b[36m(ClientAppActor pid=2989835)\u001b[0m Evaluation loss = 0.03914549512167772 accuracy = 0.8333333333333334\n"
     ]
    },
    {
     "name": "stderr",
     "output_type": "stream",
     "text": [
      "\u001b[36m(ClientAppActor pid=2989835)\u001b[0m \u001b[93mWARNING \u001b[0m:   Deprecation Warning: The `client_fn` function must return an instance of `Client`, but an instance of `NumpyClient` was returned. Please use `NumPyClient.to_client()` method to convert it to `Client`.\n"
     ]
    },
    {
     "name": "stdout",
     "output_type": "stream",
     "text": [
      "\u001b[36m(ClientAppActor pid=2989835)\u001b[0m [Client 1] fit, config: {'lr': 0.001}\n",
      "\u001b[36m(ClientAppActor pid=2989835)\u001b[0m Updating parameters 329\n",
      "\u001b[36m(ClientAppActor pid=2989835)\u001b[0m Setting parameters...\n",
      "\u001b[36m(ClientAppActor pid=2989835)\u001b[0m Client parameters set\n",
      "\u001b[36m(ClientAppActor pid=2989835)\u001b[0m Starting client training...\n",
      "\u001b[36m(ClientAppActor pid=2989835)\u001b[0m Running epoch 0/5\n",
      "\u001b[36m(ClientAppActor pid=2989835)\u001b[0m Epoch 1: train loss 0.2787636228096791, accuracy 0.8205128205128205\n",
      "\u001b[36m(ClientAppActor pid=2989835)\u001b[0m Running epoch 1/5\n",
      "\u001b[36m(ClientAppActor pid=2989835)\u001b[0m Epoch 2: train loss 0.07373219231764476, accuracy 0.9743589743589743\n",
      "\u001b[36m(ClientAppActor pid=2989835)\u001b[0m Running epoch 2/5\n",
      "\u001b[36m(ClientAppActor pid=2989835)\u001b[0m Epoch 3: train loss 0.02446880282308811, accuracy 1.0\n",
      "\u001b[36m(ClientAppActor pid=2989835)\u001b[0m Running epoch 3/5\n",
      "\u001b[36m(ClientAppActor pid=2989835)\u001b[0m Epoch 4: train loss 0.012774518243252085, accuracy 1.0\n",
      "\u001b[36m(ClientAppActor pid=2989835)\u001b[0m Running epoch 4/5\n",
      "\u001b[36m(ClientAppActor pid=2989835)\u001b[0m Epoch 5: train loss 0.0071663530215095635, accuracy 1.0\n",
      "\u001b[36m(ClientAppActor pid=2989835)\u001b[0m Training completed!\n",
      "\u001b[36m(ClientAppActor pid=2989835)\u001b[0m Length of params: 329\n"
     ]
    },
    {
     "name": "stderr",
     "output_type": "stream",
     "text": [
      "\u001b[36m(ClientAppActor pid=2989835)\u001b[0m \u001b[93mWARNING \u001b[0m:   Deprecation Warning: The `client_fn` function must return an instance of `Client`, but an instance of `NumpyClient` was returned. Please use `NumPyClient.to_client()` method to convert it to `Client`.\n"
     ]
    },
    {
     "name": "stdout",
     "output_type": "stream",
     "text": [
      "\u001b[36m(ClientAppActor pid=2989835)\u001b[0m [Client 4] fit, config: {'lr': 0.001}\n",
      "\u001b[36m(ClientAppActor pid=2989835)\u001b[0m Updating parameters 329\n",
      "\u001b[36m(ClientAppActor pid=2989835)\u001b[0m Setting parameters...\n",
      "\u001b[36m(ClientAppActor pid=2989835)\u001b[0m Client parameters set\n",
      "\u001b[36m(ClientAppActor pid=2989835)\u001b[0m Starting client training...\n",
      "\u001b[36m(ClientAppActor pid=2989835)\u001b[0m Running epoch 0/5\n",
      "\u001b[36m(ClientAppActor pid=2989835)\u001b[0m Epoch 1: train loss 0.1308544985949993, accuracy 0.975\n",
      "\u001b[36m(ClientAppActor pid=2989835)\u001b[0m Running epoch 1/5\n",
      "\u001b[36m(ClientAppActor pid=2989835)\u001b[0m Epoch 2: train loss 0.1754397913813591, accuracy 0.95\n",
      "\u001b[36m(ClientAppActor pid=2989835)\u001b[0m Running epoch 2/5\n",
      "\u001b[36m(ClientAppActor pid=2989835)\u001b[0m Epoch 3: train loss 0.013654250651597977, accuracy 1.0\n",
      "\u001b[36m(ClientAppActor pid=2989835)\u001b[0m Running epoch 3/5\n",
      "\u001b[36m(ClientAppActor pid=2989835)\u001b[0m Epoch 4: train loss 0.005049112997949123, accuracy 1.0\n",
      "\u001b[36m(ClientAppActor pid=2989835)\u001b[0m Running epoch 4/5\n",
      "\u001b[36m(ClientAppActor pid=2989835)\u001b[0m Epoch 5: train loss 0.0015335901291109622, accuracy 1.0\n",
      "\u001b[36m(ClientAppActor pid=2989835)\u001b[0m Training completed!\n",
      "\u001b[36m(ClientAppActor pid=2989835)\u001b[0m Length of params: 329\n"
     ]
    },
    {
     "name": "stderr",
     "output_type": "stream",
     "text": [
      "\u001b[36m(ClientAppActor pid=2989835)\u001b[0m \u001b[93mWARNING \u001b[0m:   Deprecation Warning: The `client_fn` function must return an instance of `Client`, but an instance of `NumpyClient` was returned. Please use `NumPyClient.to_client()` method to convert it to `Client`.\n"
     ]
    },
    {
     "name": "stdout",
     "output_type": "stream",
     "text": [
      "\u001b[36m(ClientAppActor pid=2989835)\u001b[0m [Client 2] fit, config: {'lr': 0.003}\n",
      "\u001b[36m(ClientAppActor pid=2989835)\u001b[0m Updating parameters 329\n",
      "\u001b[36m(ClientAppActor pid=2989835)\u001b[0m Setting parameters...\n",
      "\u001b[36m(ClientAppActor pid=2989835)\u001b[0m Client parameters set\n",
      "\u001b[36m(ClientAppActor pid=2989835)\u001b[0m Starting client training...\n",
      "\u001b[36m(ClientAppActor pid=2989835)\u001b[0m Running epoch 0/5\n",
      "\u001b[36m(ClientAppActor pid=2989835)\u001b[0m Epoch 1: train loss 0.002621641290039779, accuracy 1.0\n",
      "\u001b[36m(ClientAppActor pid=2989835)\u001b[0m Running epoch 1/5\n",
      "\u001b[36m(ClientAppActor pid=2989835)\u001b[0m Epoch 2: train loss 6.413103894887265e-05, accuracy 1.0\n",
      "\u001b[36m(ClientAppActor pid=2989835)\u001b[0m Running epoch 2/5\n",
      "\u001b[36m(ClientAppActor pid=2989835)\u001b[0m Epoch 3: train loss 1.699404086908684e-05, accuracy 1.0\n",
      "\u001b[36m(ClientAppActor pid=2989835)\u001b[0m Running epoch 3/5\n",
      "\u001b[36m(ClientAppActor pid=2989835)\u001b[0m Epoch 4: train loss 1.7712151696823406e-05, accuracy 1.0\n",
      "\u001b[36m(ClientAppActor pid=2989835)\u001b[0m Running epoch 4/5\n",
      "\u001b[36m(ClientAppActor pid=2989835)\u001b[0m Epoch 5: train loss 3.7871340696372686e-06, accuracy 1.0\n",
      "\u001b[36m(ClientAppActor pid=2989835)\u001b[0m Training completed!\n",
      "\u001b[36m(ClientAppActor pid=2989835)\u001b[0m Length of params: 329\n"
     ]
    },
    {
     "name": "stderr",
     "output_type": "stream",
     "text": [
      "\u001b[36m(ClientAppActor pid=2989835)\u001b[0m \u001b[93mWARNING \u001b[0m:   Deprecation Warning: The `client_fn` function must return an instance of `Client`, but an instance of `NumpyClient` was returned. Please use `NumPyClient.to_client()` method to convert it to `Client`.\n"
     ]
    },
    {
     "name": "stdout",
     "output_type": "stream",
     "text": [
      "\u001b[36m(ClientAppActor pid=2989835)\u001b[0m [Client 0] fit, config: {'lr': 0.003}\n",
      "\u001b[36m(ClientAppActor pid=2989835)\u001b[0m Updating parameters 329\n",
      "\u001b[36m(ClientAppActor pid=2989835)\u001b[0m Setting parameters...\n",
      "\u001b[36m(ClientAppActor pid=2989835)\u001b[0m Client parameters set\n",
      "\u001b[36m(ClientAppActor pid=2989835)\u001b[0m Starting client training...\n",
      "\u001b[36m(ClientAppActor pid=2989835)\u001b[0m Running epoch 0/5\n",
      "\u001b[36m(ClientAppActor pid=2989835)\u001b[0m Epoch 1: train loss 0.16531036641353217, accuracy 0.9487179487179487\n",
      "\u001b[36m(ClientAppActor pid=2989835)\u001b[0m Running epoch 1/5\n",
      "\u001b[36m(ClientAppActor pid=2989835)\u001b[0m Epoch 2: train loss 0.03587563641560383, accuracy 1.0\n",
      "\u001b[36m(ClientAppActor pid=2989835)\u001b[0m Running epoch 2/5\n",
      "\u001b[36m(ClientAppActor pid=2989835)\u001b[0m Epoch 3: train loss 0.011794391207588024, accuracy 1.0\n",
      "\u001b[36m(ClientAppActor pid=2989835)\u001b[0m Running epoch 3/5\n",
      "\u001b[36m(ClientAppActor pid=2989835)\u001b[0m Epoch 4: train loss 0.0059721602025465705, accuracy 1.0\n",
      "\u001b[36m(ClientAppActor pid=2989835)\u001b[0m Running epoch 4/5\n",
      "\u001b[36m(ClientAppActor pid=2989835)\u001b[0m Epoch 5: train loss 0.000198845855685739, accuracy 1.0\n",
      "\u001b[36m(ClientAppActor pid=2989835)\u001b[0m Training completed!\n",
      "\u001b[36m(ClientAppActor pid=2989835)\u001b[0m Length of params: 329\n"
     ]
    },
    {
     "name": "stderr",
     "output_type": "stream",
     "text": [
      "\u001b[36m(ClientAppActor pid=2989835)\u001b[0m \u001b[93mWARNING \u001b[0m:   Deprecation Warning: The `client_fn` function must return an instance of `Client`, but an instance of `NumpyClient` was returned. Please use `NumPyClient.to_client()` method to convert it to `Client`.\n"
     ]
    },
    {
     "name": "stdout",
     "output_type": "stream",
     "text": [
      "\u001b[36m(ClientAppActor pid=2989835)\u001b[0m [Client 3] fit, config: {'lr': 0.003}\n",
      "\u001b[36m(ClientAppActor pid=2989835)\u001b[0m Updating parameters 329\n",
      "\u001b[36m(ClientAppActor pid=2989835)\u001b[0m Setting parameters...\n",
      "\u001b[36m(ClientAppActor pid=2989835)\u001b[0m Client parameters set\n",
      "\u001b[36m(ClientAppActor pid=2989835)\u001b[0m Starting client training...\n",
      "\u001b[36m(ClientAppActor pid=2989835)\u001b[0m Running epoch 0/5\n",
      "\u001b[36m(ClientAppActor pid=2989835)\u001b[0m Epoch 1: train loss 0.09896703097873773, accuracy 0.9487179487179487\n",
      "\u001b[36m(ClientAppActor pid=2989835)\u001b[0m Running epoch 1/5\n",
      "\u001b[36m(ClientAppActor pid=2989835)\u001b[0m Epoch 2: train loss 0.04820142046381266, accuracy 1.0\n",
      "\u001b[36m(ClientAppActor pid=2989835)\u001b[0m Running epoch 2/5\n",
      "\u001b[36m(ClientAppActor pid=2989835)\u001b[0m Epoch 3: train loss 0.0068350054102782635, accuracy 1.0\n",
      "\u001b[36m(ClientAppActor pid=2989835)\u001b[0m Running epoch 3/5\n",
      "\u001b[36m(ClientAppActor pid=2989835)\u001b[0m Epoch 4: train loss 0.0005561985830680873, accuracy 1.0\n",
      "\u001b[36m(ClientAppActor pid=2989835)\u001b[0m Running epoch 4/5\n",
      "\u001b[36m(ClientAppActor pid=2989835)\u001b[0m Epoch 5: train loss 0.0004968355464930377, accuracy 1.0\n",
      "\u001b[36m(ClientAppActor pid=2989835)\u001b[0m Training completed!\n",
      "\u001b[36m(ClientAppActor pid=2989835)\u001b[0m Length of params: 329\n"
     ]
    },
    {
     "name": "stderr",
     "output_type": "stream",
     "text": [
      "\u001b[92mINFO \u001b[0m:      aggregate_fit: received 5 results and 0 failures\n"
     ]
    },
    {
     "name": "stdout",
     "output_type": "stream",
     "text": [
      "Evaluating global model\n",
      "Updating parameters 329\n",
      "Setting parameters...\n",
      "Parameter set\n",
      "Starting client validation...\n",
      "Validataion accuracy = 0.8666666666666667\n",
      "Global evaluation round 3 loss = 0.03281706223885218 accuracy = 0.8666666666666667\n"
     ]
    },
    {
     "name": "stderr",
     "output_type": "stream",
     "text": [
      "\u001b[92mINFO \u001b[0m:      fit progress: (3, 0.03281706223885218, {}, 955.0210656381678)\n",
      "\u001b[92mINFO \u001b[0m:      configure_evaluate: strategy sampled 5 clients (out of 5)\n"
     ]
    },
    {
     "name": "stdout",
     "output_type": "stream",
     "text": [
      "Model saved at ./fl_checkpointsswintransformer_e5_c5_r5/fl_densenet_3.pth\n"
     ]
    },
    {
     "name": "stderr",
     "output_type": "stream",
     "text": [
      "\u001b[36m(ClientAppActor pid=2989835)\u001b[0m \u001b[93mWARNING \u001b[0m:   Deprecation Warning: The `client_fn` function must return an instance of `Client`, but an instance of `NumpyClient` was returned. Please use `NumPyClient.to_client()` method to convert it to `Client`.\n"
     ]
    },
    {
     "name": "stdout",
     "output_type": "stream",
     "text": [
      "\u001b[36m(ClientAppActor pid=2989835)\u001b[0m [Client 2] evaluate, config: {}\n",
      "\u001b[36m(ClientAppActor pid=2989835)\u001b[0m Updating parameters 329\n",
      "\u001b[36m(ClientAppActor pid=2989835)\u001b[0m Setting parameters...\n",
      "\u001b[36m(ClientAppActor pid=2989835)\u001b[0m Starting client validation...\n",
      "\u001b[36m(ClientAppActor pid=2989835)\u001b[0m Validataion accuracy = 0.8666666666666667\n",
      "\u001b[36m(ClientAppActor pid=2989835)\u001b[0m Evaluation loss = 0.03281706223885218 accuracy = 0.8666666666666667\n"
     ]
    },
    {
     "name": "stderr",
     "output_type": "stream",
     "text": [
      "\u001b[36m(ClientAppActor pid=2989835)\u001b[0m \u001b[93mWARNING \u001b[0m:   Deprecation Warning: The `client_fn` function must return an instance of `Client`, but an instance of `NumpyClient` was returned. Please use `NumPyClient.to_client()` method to convert it to `Client`.\n"
     ]
    },
    {
     "name": "stdout",
     "output_type": "stream",
     "text": [
      "\u001b[36m(ClientAppActor pid=2989835)\u001b[0m [Client 1] evaluate, config: {}\n",
      "\u001b[36m(ClientAppActor pid=2989835)\u001b[0m Updating parameters 329\n",
      "\u001b[36m(ClientAppActor pid=2989835)\u001b[0m Setting parameters...\n",
      "\u001b[36m(ClientAppActor pid=2989835)\u001b[0m Starting client validation...\n",
      "\u001b[36m(ClientAppActor pid=2989835)\u001b[0m Validataion accuracy = 0.8666666666666667\n",
      "\u001b[36m(ClientAppActor pid=2989835)\u001b[0m Evaluation loss = 0.03281706223885218 accuracy = 0.8666666666666667\n"
     ]
    },
    {
     "name": "stderr",
     "output_type": "stream",
     "text": [
      "\u001b[36m(ClientAppActor pid=2989835)\u001b[0m \u001b[93mWARNING \u001b[0m:   Deprecation Warning: The `client_fn` function must return an instance of `Client`, but an instance of `NumpyClient` was returned. Please use `NumPyClient.to_client()` method to convert it to `Client`.\n"
     ]
    },
    {
     "name": "stdout",
     "output_type": "stream",
     "text": [
      "\u001b[36m(ClientAppActor pid=2989835)\u001b[0m [Client 4] evaluate, config: {}\n",
      "\u001b[36m(ClientAppActor pid=2989835)\u001b[0m Updating parameters 329\n",
      "\u001b[36m(ClientAppActor pid=2989835)\u001b[0m Setting parameters...\n",
      "\u001b[36m(ClientAppActor pid=2989835)\u001b[0m Starting client validation...\n",
      "\u001b[36m(ClientAppActor pid=2989835)\u001b[0m Validataion accuracy = 0.8666666666666667\n",
      "\u001b[36m(ClientAppActor pid=2989835)\u001b[0m Evaluation loss = 0.03281706223885218 accuracy = 0.8666666666666667\n"
     ]
    },
    {
     "name": "stderr",
     "output_type": "stream",
     "text": [
      "\u001b[36m(ClientAppActor pid=2989835)\u001b[0m \u001b[93mWARNING \u001b[0m:   Deprecation Warning: The `client_fn` function must return an instance of `Client`, but an instance of `NumpyClient` was returned. Please use `NumPyClient.to_client()` method to convert it to `Client`.\n"
     ]
    },
    {
     "name": "stdout",
     "output_type": "stream",
     "text": [
      "\u001b[36m(ClientAppActor pid=2989835)\u001b[0m [Client 0] evaluate, config: {}\n",
      "\u001b[36m(ClientAppActor pid=2989835)\u001b[0m Updating parameters 329\n",
      "\u001b[36m(ClientAppActor pid=2989835)\u001b[0m Setting parameters...\n",
      "\u001b[36m(ClientAppActor pid=2989835)\u001b[0m Starting client validation...\n",
      "\u001b[36m(ClientAppActor pid=2989835)\u001b[0m Validataion accuracy = 0.8666666666666667\n",
      "\u001b[36m(ClientAppActor pid=2989835)\u001b[0m Evaluation loss = 0.03281706223885218 accuracy = 0.8666666666666667\n"
     ]
    },
    {
     "name": "stderr",
     "output_type": "stream",
     "text": [
      "\u001b[36m(ClientAppActor pid=2989835)\u001b[0m \u001b[93mWARNING \u001b[0m:   Deprecation Warning: The `client_fn` function must return an instance of `Client`, but an instance of `NumpyClient` was returned. Please use `NumPyClient.to_client()` method to convert it to `Client`.\n"
     ]
    },
    {
     "name": "stdout",
     "output_type": "stream",
     "text": [
      "\u001b[36m(ClientAppActor pid=2989835)\u001b[0m [Client 3] evaluate, config: {}\n",
      "\u001b[36m(ClientAppActor pid=2989835)\u001b[0m Updating parameters 329\n",
      "\u001b[36m(ClientAppActor pid=2989835)\u001b[0m Setting parameters...\n",
      "\u001b[36m(ClientAppActor pid=2989835)\u001b[0m Starting client validation...\n"
     ]
    },
    {
     "name": "stderr",
     "output_type": "stream",
     "text": [
      "\u001b[92mINFO \u001b[0m:      aggregate_evaluate: received 5 results and 0 failures\n",
      "\u001b[92mINFO \u001b[0m:      \n",
      "\u001b[92mINFO \u001b[0m:      [ROUND 4]\n",
      "\u001b[92mINFO \u001b[0m:      configure_fit: strategy sampled 5 clients (out of 5)\n"
     ]
    },
    {
     "name": "stdout",
     "output_type": "stream",
     "text": [
      "Starting configure fit function...\n",
      "Sample size = 5 Min Num Clients = 2 Clients = [<flwr.simulation.ray_transport.ray_client_proxy.RayActorClientProxy object at 0x155491d6c210>, <flwr.simulation.ray_transport.ray_client_proxy.RayActorClientProxy object at 0x155491d6e3d0>, <flwr.simulation.ray_transport.ray_client_proxy.RayActorClientProxy object at 0x155491d6e290>, <flwr.simulation.ray_transport.ray_client_proxy.RayActorClientProxy object at 0x155314addcd0>, <flwr.simulation.ray_transport.ray_client_proxy.RayActorClientProxy object at 0x155491d6e490>]\n",
      "Number of clients = 5\n",
      "Fit Configurations\n",
      "\u001b[36m(ClientAppActor pid=2989835)\u001b[0m Validataion accuracy = 0.8666666666666667\n",
      "\u001b[36m(ClientAppActor pid=2989835)\u001b[0m Evaluation loss = 0.03281706223885218 accuracy = 0.8666666666666667\n"
     ]
    },
    {
     "name": "stderr",
     "output_type": "stream",
     "text": [
      "\u001b[36m(ClientAppActor pid=2989835)\u001b[0m \u001b[93mWARNING \u001b[0m:   Deprecation Warning: The `client_fn` function must return an instance of `Client`, but an instance of `NumpyClient` was returned. Please use `NumPyClient.to_client()` method to convert it to `Client`.\n"
     ]
    },
    {
     "name": "stdout",
     "output_type": "stream",
     "text": [
      "\u001b[36m(ClientAppActor pid=2989835)\u001b[0m [Client 1] fit, config: {'lr': 0.001}\n",
      "\u001b[36m(ClientAppActor pid=2989835)\u001b[0m Updating parameters 329\n",
      "\u001b[36m(ClientAppActor pid=2989835)\u001b[0m Setting parameters...\n",
      "\u001b[36m(ClientAppActor pid=2989835)\u001b[0m Client parameters set\n",
      "\u001b[36m(ClientAppActor pid=2989835)\u001b[0m Starting client training...\n",
      "\u001b[36m(ClientAppActor pid=2989835)\u001b[0m Running epoch 0/5\n",
      "\u001b[36m(ClientAppActor pid=2989835)\u001b[0m Epoch 1: train loss 0.39297421047320735, accuracy 0.8974358974358975\n",
      "\u001b[36m(ClientAppActor pid=2989835)\u001b[0m Running epoch 1/5\n",
      "\u001b[36m(ClientAppActor pid=2989835)\u001b[0m Epoch 2: train loss 0.04870944336438791, accuracy 0.9743589743589743\n",
      "\u001b[36m(ClientAppActor pid=2989835)\u001b[0m Running epoch 2/5\n",
      "\u001b[36m(ClientAppActor pid=2989835)\u001b[0m Epoch 3: train loss 0.057158392328673445, accuracy 0.9743589743589743\n",
      "\u001b[36m(ClientAppActor pid=2989835)\u001b[0m Running epoch 3/5\n",
      "\u001b[36m(ClientAppActor pid=2989835)\u001b[0m Epoch 4: train loss 0.06060226261615753, accuracy 0.9743589743589743\n",
      "\u001b[36m(ClientAppActor pid=2989835)\u001b[0m Running epoch 4/5\n",
      "\u001b[36m(ClientAppActor pid=2989835)\u001b[0m Epoch 5: train loss 0.006849102287863691, accuracy 1.0\n",
      "\u001b[36m(ClientAppActor pid=2989835)\u001b[0m Training completed!\n",
      "\u001b[36m(ClientAppActor pid=2989835)\u001b[0m Length of params: 329\n"
     ]
    },
    {
     "name": "stderr",
     "output_type": "stream",
     "text": [
      "\u001b[36m(ClientAppActor pid=2989835)\u001b[0m \u001b[93mWARNING \u001b[0m:   Deprecation Warning: The `client_fn` function must return an instance of `Client`, but an instance of `NumpyClient` was returned. Please use `NumPyClient.to_client()` method to convert it to `Client`.\n"
     ]
    },
    {
     "name": "stdout",
     "output_type": "stream",
     "text": [
      "\u001b[36m(ClientAppActor pid=2989835)\u001b[0m [Client 3] fit, config: {'lr': 0.001}\n",
      "\u001b[36m(ClientAppActor pid=2989835)\u001b[0m Updating parameters 329\n",
      "\u001b[36m(ClientAppActor pid=2989835)\u001b[0m Setting parameters...\n",
      "\u001b[36m(ClientAppActor pid=2989835)\u001b[0m Client parameters set\n",
      "\u001b[36m(ClientAppActor pid=2989835)\u001b[0m Starting client training...\n",
      "\u001b[36m(ClientAppActor pid=2989835)\u001b[0m Running epoch 0/5\n",
      "\u001b[36m(ClientAppActor pid=2989835)\u001b[0m Epoch 1: train loss 0.02177072115815603, accuracy 1.0\n",
      "\u001b[36m(ClientAppActor pid=2989835)\u001b[0m Running epoch 1/5\n",
      "\u001b[36m(ClientAppActor pid=2989835)\u001b[0m Epoch 2: train loss 6.526797452375505e-05, accuracy 1.0\n",
      "\u001b[36m(ClientAppActor pid=2989835)\u001b[0m Running epoch 2/5\n",
      "\u001b[36m(ClientAppActor pid=2989835)\u001b[0m Epoch 3: train loss 0.0004222289236890785, accuracy 1.0\n",
      "\u001b[36m(ClientAppActor pid=2989835)\u001b[0m Running epoch 3/5\n",
      "\u001b[36m(ClientAppActor pid=2989835)\u001b[0m Epoch 4: train loss 0.001069480185530362, accuracy 1.0\n",
      "\u001b[36m(ClientAppActor pid=2989835)\u001b[0m Running epoch 4/5\n",
      "\u001b[36m(ClientAppActor pid=2989835)\u001b[0m Epoch 5: train loss 7.863172868383117e-05, accuracy 1.0\n",
      "\u001b[36m(ClientAppActor pid=2989835)\u001b[0m Training completed!\n",
      "\u001b[36m(ClientAppActor pid=2989835)\u001b[0m Length of params: 329\n"
     ]
    },
    {
     "name": "stderr",
     "output_type": "stream",
     "text": [
      "\u001b[36m(ClientAppActor pid=2989835)\u001b[0m \u001b[93mWARNING \u001b[0m:   Deprecation Warning: The `client_fn` function must return an instance of `Client`, but an instance of `NumpyClient` was returned. Please use `NumPyClient.to_client()` method to convert it to `Client`.\n"
     ]
    },
    {
     "name": "stdout",
     "output_type": "stream",
     "text": [
      "\u001b[36m(ClientAppActor pid=2989835)\u001b[0m [Client 2] fit, config: {'lr': 0.003}\n",
      "\u001b[36m(ClientAppActor pid=2989835)\u001b[0m Updating parameters 329\n",
      "\u001b[36m(ClientAppActor pid=2989835)\u001b[0m Setting parameters...\n",
      "\u001b[36m(ClientAppActor pid=2989835)\u001b[0m Client parameters set\n",
      "\u001b[36m(ClientAppActor pid=2989835)\u001b[0m Starting client training...\n",
      "\u001b[36m(ClientAppActor pid=2989835)\u001b[0m Running epoch 0/5\n",
      "\u001b[36m(ClientAppActor pid=2989835)\u001b[0m Epoch 1: train loss 0.00021733831314262576, accuracy 1.0\n",
      "\u001b[36m(ClientAppActor pid=2989835)\u001b[0m Running epoch 1/5\n",
      "\u001b[36m(ClientAppActor pid=2989835)\u001b[0m Epoch 2: train loss 1.339691790492044e-05, accuracy 1.0\n",
      "\u001b[36m(ClientAppActor pid=2989835)\u001b[0m Running epoch 2/5\n",
      "\u001b[36m(ClientAppActor pid=2989835)\u001b[0m Epoch 3: train loss 1.9677359001108038e-05, accuracy 1.0\n",
      "\u001b[36m(ClientAppActor pid=2989835)\u001b[0m Running epoch 3/5\n",
      "\u001b[36m(ClientAppActor pid=2989835)\u001b[0m Epoch 4: train loss 3.936915688357728e-06, accuracy 1.0\n",
      "\u001b[36m(ClientAppActor pid=2989835)\u001b[0m Running epoch 4/5\n",
      "\u001b[36m(ClientAppActor pid=2989835)\u001b[0m Epoch 5: train loss 5.226737654923524e-06, accuracy 1.0\n",
      "\u001b[36m(ClientAppActor pid=2989835)\u001b[0m Training completed!\n",
      "\u001b[36m(ClientAppActor pid=2989835)\u001b[0m Length of params: 329\n"
     ]
    },
    {
     "name": "stderr",
     "output_type": "stream",
     "text": [
      "\u001b[36m(ClientAppActor pid=2989835)\u001b[0m \u001b[93mWARNING \u001b[0m:   Deprecation Warning: The `client_fn` function must return an instance of `Client`, but an instance of `NumpyClient` was returned. Please use `NumPyClient.to_client()` method to convert it to `Client`.\n"
     ]
    },
    {
     "name": "stdout",
     "output_type": "stream",
     "text": [
      "\u001b[36m(ClientAppActor pid=2989835)\u001b[0m [Client 0] fit, config: {'lr': 0.003}\n",
      "\u001b[36m(ClientAppActor pid=2989835)\u001b[0m Updating parameters 329\n",
      "\u001b[36m(ClientAppActor pid=2989835)\u001b[0m Setting parameters...\n",
      "\u001b[36m(ClientAppActor pid=2989835)\u001b[0m Client parameters set\n",
      "\u001b[36m(ClientAppActor pid=2989835)\u001b[0m Starting client training...\n",
      "\u001b[36m(ClientAppActor pid=2989835)\u001b[0m Running epoch 0/5\n",
      "\u001b[36m(ClientAppActor pid=2989835)\u001b[0m Epoch 1: train loss 0.003433459968222544, accuracy 1.0\n",
      "\u001b[36m(ClientAppActor pid=2989835)\u001b[0m Running epoch 1/5\n",
      "\u001b[36m(ClientAppActor pid=2989835)\u001b[0m Epoch 2: train loss 0.0007430207577925056, accuracy 1.0\n",
      "\u001b[36m(ClientAppActor pid=2989835)\u001b[0m Running epoch 2/5\n",
      "\u001b[36m(ClientAppActor pid=2989835)\u001b[0m Epoch 3: train loss 2.531673883892766e-05, accuracy 1.0\n",
      "\u001b[36m(ClientAppActor pid=2989835)\u001b[0m Running epoch 3/5\n",
      "\u001b[36m(ClientAppActor pid=2989835)\u001b[0m Epoch 4: train loss 6.32787373316928e-05, accuracy 1.0\n",
      "\u001b[36m(ClientAppActor pid=2989835)\u001b[0m Running epoch 4/5\n",
      "\u001b[36m(ClientAppActor pid=2989835)\u001b[0m Epoch 5: train loss 0.00019705063748868922, accuracy 1.0\n",
      "\u001b[36m(ClientAppActor pid=2989835)\u001b[0m Training completed!\n",
      "\u001b[36m(ClientAppActor pid=2989835)\u001b[0m Length of params: 329\n"
     ]
    },
    {
     "name": "stderr",
     "output_type": "stream",
     "text": [
      "\u001b[36m(ClientAppActor pid=2989835)\u001b[0m \u001b[93mWARNING \u001b[0m:   Deprecation Warning: The `client_fn` function must return an instance of `Client`, but an instance of `NumpyClient` was returned. Please use `NumPyClient.to_client()` method to convert it to `Client`.\n"
     ]
    },
    {
     "name": "stdout",
     "output_type": "stream",
     "text": [
      "\u001b[36m(ClientAppActor pid=2989835)\u001b[0m [Client 4] fit, config: {'lr': 0.003}\n",
      "\u001b[36m(ClientAppActor pid=2989835)\u001b[0m Updating parameters 329\n",
      "\u001b[36m(ClientAppActor pid=2989835)\u001b[0m Setting parameters...\n",
      "\u001b[36m(ClientAppActor pid=2989835)\u001b[0m Client parameters set\n",
      "\u001b[36m(ClientAppActor pid=2989835)\u001b[0m Starting client training...\n",
      "\u001b[36m(ClientAppActor pid=2989835)\u001b[0m Running epoch 0/5\n",
      "\u001b[36m(ClientAppActor pid=2989835)\u001b[0m Epoch 1: train loss 0.12221584916114807, accuracy 0.925\n",
      "\u001b[36m(ClientAppActor pid=2989835)\u001b[0m Running epoch 1/5\n",
      "\u001b[36m(ClientAppActor pid=2989835)\u001b[0m Epoch 2: train loss 0.05105967335402965, accuracy 0.975\n",
      "\u001b[36m(ClientAppActor pid=2989835)\u001b[0m Running epoch 2/5\n",
      "\u001b[36m(ClientAppActor pid=2989835)\u001b[0m Epoch 3: train loss 0.006770331040024757, accuracy 1.0\n",
      "\u001b[36m(ClientAppActor pid=2989835)\u001b[0m Running epoch 3/5\n",
      "\u001b[36m(ClientAppActor pid=2989835)\u001b[0m Epoch 4: train loss 0.036580807995051146, accuracy 0.975\n",
      "\u001b[36m(ClientAppActor pid=2989835)\u001b[0m Running epoch 4/5\n",
      "\u001b[36m(ClientAppActor pid=2989835)\u001b[0m Epoch 5: train loss 0.0012509124586358666, accuracy 1.0\n",
      "\u001b[36m(ClientAppActor pid=2989835)\u001b[0m Training completed!\n",
      "\u001b[36m(ClientAppActor pid=2989835)\u001b[0m Length of params: 329\n"
     ]
    },
    {
     "name": "stderr",
     "output_type": "stream",
     "text": [
      "\u001b[92mINFO \u001b[0m:      aggregate_fit: received 5 results and 0 failures\n"
     ]
    },
    {
     "name": "stdout",
     "output_type": "stream",
     "text": [
      "Evaluating global model\n",
      "Updating parameters 329\n",
      "Setting parameters...\n",
      "Parameter set\n",
      "Starting client validation...\n",
      "Validataion accuracy = 0.8666666666666667\n",
      "Global evaluation round 4 loss = 0.047610161701838176 accuracy = 0.8666666666666667\n"
     ]
    },
    {
     "name": "stderr",
     "output_type": "stream",
     "text": [
      "\u001b[92mINFO \u001b[0m:      fit progress: (4, 0.047610161701838176, {}, 1230.50699858414)\n",
      "\u001b[92mINFO \u001b[0m:      configure_evaluate: strategy sampled 5 clients (out of 5)\n"
     ]
    },
    {
     "name": "stdout",
     "output_type": "stream",
     "text": [
      "Model saved at ./fl_checkpointsswintransformer_e5_c5_r5/fl_densenet_4.pth\n"
     ]
    },
    {
     "name": "stderr",
     "output_type": "stream",
     "text": [
      "\u001b[36m(ClientAppActor pid=2989835)\u001b[0m \u001b[93mWARNING \u001b[0m:   Deprecation Warning: The `client_fn` function must return an instance of `Client`, but an instance of `NumpyClient` was returned. Please use `NumPyClient.to_client()` method to convert it to `Client`.\n"
     ]
    },
    {
     "name": "stdout",
     "output_type": "stream",
     "text": [
      "\u001b[36m(ClientAppActor pid=2989835)\u001b[0m [Client 4] evaluate, config: {}\n",
      "\u001b[36m(ClientAppActor pid=2989835)\u001b[0m Updating parameters 329\n",
      "\u001b[36m(ClientAppActor pid=2989835)\u001b[0m Setting parameters...\n",
      "\u001b[36m(ClientAppActor pid=2989835)\u001b[0m Starting client validation...\n",
      "\u001b[36m(ClientAppActor pid=2989835)\u001b[0m Validataion accuracy = 0.8666666666666667\n",
      "\u001b[36m(ClientAppActor pid=2989835)\u001b[0m Evaluation loss = 0.047610161701838176 accuracy = 0.8666666666666667\n"
     ]
    },
    {
     "name": "stderr",
     "output_type": "stream",
     "text": [
      "\u001b[36m(ClientAppActor pid=2989835)\u001b[0m \u001b[93mWARNING \u001b[0m:   Deprecation Warning: The `client_fn` function must return an instance of `Client`, but an instance of `NumpyClient` was returned. Please use `NumPyClient.to_client()` method to convert it to `Client`.\n"
     ]
    },
    {
     "name": "stdout",
     "output_type": "stream",
     "text": [
      "\u001b[36m(ClientAppActor pid=2989835)\u001b[0m [Client 3] evaluate, config: {}\n",
      "\u001b[36m(ClientAppActor pid=2989835)\u001b[0m Updating parameters 329\n",
      "\u001b[36m(ClientAppActor pid=2989835)\u001b[0m Setting parameters...\n",
      "\u001b[36m(ClientAppActor pid=2989835)\u001b[0m Starting client validation...\n",
      "\u001b[36m(ClientAppActor pid=2989835)\u001b[0m Validataion accuracy = 0.8666666666666667\n",
      "\u001b[36m(ClientAppActor pid=2989835)\u001b[0m Evaluation loss = 0.047610161701838176 accuracy = 0.8666666666666667\n"
     ]
    },
    {
     "name": "stderr",
     "output_type": "stream",
     "text": [
      "\u001b[36m(ClientAppActor pid=2989835)\u001b[0m \u001b[93mWARNING \u001b[0m:   Deprecation Warning: The `client_fn` function must return an instance of `Client`, but an instance of `NumpyClient` was returned. Please use `NumPyClient.to_client()` method to convert it to `Client`.\n"
     ]
    },
    {
     "name": "stdout",
     "output_type": "stream",
     "text": [
      "\u001b[36m(ClientAppActor pid=2989835)\u001b[0m [Client 2] evaluate, config: {}\n",
      "\u001b[36m(ClientAppActor pid=2989835)\u001b[0m Updating parameters 329\n",
      "\u001b[36m(ClientAppActor pid=2989835)\u001b[0m Setting parameters...\n",
      "\u001b[36m(ClientAppActor pid=2989835)\u001b[0m Starting client validation...\n",
      "\u001b[36m(ClientAppActor pid=2989835)\u001b[0m Validataion accuracy = 0.8666666666666667\n",
      "\u001b[36m(ClientAppActor pid=2989835)\u001b[0m Evaluation loss = 0.047610161701838176 accuracy = 0.8666666666666667\n"
     ]
    },
    {
     "name": "stderr",
     "output_type": "stream",
     "text": [
      "\u001b[36m(ClientAppActor pid=2989835)\u001b[0m \u001b[93mWARNING \u001b[0m:   Deprecation Warning: The `client_fn` function must return an instance of `Client`, but an instance of `NumpyClient` was returned. Please use `NumPyClient.to_client()` method to convert it to `Client`.\n"
     ]
    },
    {
     "name": "stdout",
     "output_type": "stream",
     "text": [
      "\u001b[36m(ClientAppActor pid=2989835)\u001b[0m [Client 1] evaluate, config: {}\n",
      "\u001b[36m(ClientAppActor pid=2989835)\u001b[0m Updating parameters 329\n",
      "\u001b[36m(ClientAppActor pid=2989835)\u001b[0m Setting parameters...\n",
      "\u001b[36m(ClientAppActor pid=2989835)\u001b[0m Starting client validation...\n",
      "\u001b[36m(ClientAppActor pid=2989835)\u001b[0m Validataion accuracy = 0.8666666666666667\n",
      "\u001b[36m(ClientAppActor pid=2989835)\u001b[0m Evaluation loss = 0.047610161701838176 accuracy = 0.8666666666666667\n"
     ]
    },
    {
     "name": "stderr",
     "output_type": "stream",
     "text": [
      "\u001b[36m(ClientAppActor pid=2989835)\u001b[0m \u001b[93mWARNING \u001b[0m:   Deprecation Warning: The `client_fn` function must return an instance of `Client`, but an instance of `NumpyClient` was returned. Please use `NumPyClient.to_client()` method to convert it to `Client`.\n"
     ]
    },
    {
     "name": "stdout",
     "output_type": "stream",
     "text": [
      "\u001b[36m(ClientAppActor pid=2989835)\u001b[0m [Client 0] evaluate, config: {}\n",
      "\u001b[36m(ClientAppActor pid=2989835)\u001b[0m Updating parameters 329\n",
      "\u001b[36m(ClientAppActor pid=2989835)\u001b[0m Setting parameters...\n",
      "\u001b[36m(ClientAppActor pid=2989835)\u001b[0m Starting client validation...\n"
     ]
    },
    {
     "name": "stderr",
     "output_type": "stream",
     "text": [
      "\u001b[92mINFO \u001b[0m:      aggregate_evaluate: received 5 results and 0 failures\n",
      "\u001b[92mINFO \u001b[0m:      \n",
      "\u001b[92mINFO \u001b[0m:      [ROUND 5]\n",
      "\u001b[92mINFO \u001b[0m:      configure_fit: strategy sampled 5 clients (out of 5)\n"
     ]
    },
    {
     "name": "stdout",
     "output_type": "stream",
     "text": [
      "Starting configure fit function...\n",
      "Sample size = 5 Min Num Clients = 2 Clients = [<flwr.simulation.ray_transport.ray_client_proxy.RayActorClientProxy object at 0x155314addcd0>, <flwr.simulation.ray_transport.ray_client_proxy.RayActorClientProxy object at 0x155491d6c210>, <flwr.simulation.ray_transport.ray_client_proxy.RayActorClientProxy object at 0x155491d6e3d0>, <flwr.simulation.ray_transport.ray_client_proxy.RayActorClientProxy object at 0x155491d6e290>, <flwr.simulation.ray_transport.ray_client_proxy.RayActorClientProxy object at 0x155491d6e490>]\n",
      "Number of clients = 5\n",
      "Fit Configurations\n",
      "\u001b[36m(ClientAppActor pid=2989835)\u001b[0m Validataion accuracy = 0.8666666666666667\n",
      "\u001b[36m(ClientAppActor pid=2989835)\u001b[0m Evaluation loss = 0.047610161701838176 accuracy = 0.8666666666666667\n"
     ]
    },
    {
     "name": "stderr",
     "output_type": "stream",
     "text": [
      "\u001b[36m(ClientAppActor pid=2989835)\u001b[0m \u001b[93mWARNING \u001b[0m:   Deprecation Warning: The `client_fn` function must return an instance of `Client`, but an instance of `NumpyClient` was returned. Please use `NumPyClient.to_client()` method to convert it to `Client`.\n"
     ]
    },
    {
     "name": "stdout",
     "output_type": "stream",
     "text": [
      "\u001b[36m(ClientAppActor pid=2989835)\u001b[0m [Client 0] fit, config: {'lr': 0.001}\n",
      "\u001b[36m(ClientAppActor pid=2989835)\u001b[0m Updating parameters 329\n",
      "\u001b[36m(ClientAppActor pid=2989835)\u001b[0m Setting parameters...\n",
      "\u001b[36m(ClientAppActor pid=2989835)\u001b[0m Client parameters set\n",
      "\u001b[36m(ClientAppActor pid=2989835)\u001b[0m Starting client training...\n",
      "\u001b[36m(ClientAppActor pid=2989835)\u001b[0m Running epoch 0/5\n",
      "\u001b[36m(ClientAppActor pid=2989835)\u001b[0m Epoch 1: train loss 7.127205246494948e-05, accuracy 1.0\n",
      "\u001b[36m(ClientAppActor pid=2989835)\u001b[0m Running epoch 1/5\n",
      "\u001b[36m(ClientAppActor pid=2989835)\u001b[0m Epoch 2: train loss 0.0004983211202227558, accuracy 1.0\n",
      "\u001b[36m(ClientAppActor pid=2989835)\u001b[0m Running epoch 2/5\n",
      "\u001b[36m(ClientAppActor pid=2989835)\u001b[0m Epoch 3: train loss 2.8744433037876988e-05, accuracy 1.0\n",
      "\u001b[36m(ClientAppActor pid=2989835)\u001b[0m Running epoch 3/5\n",
      "\u001b[36m(ClientAppActor pid=2989835)\u001b[0m Epoch 4: train loss 0.00030211608494331205, accuracy 1.0\n",
      "\u001b[36m(ClientAppActor pid=2989835)\u001b[0m Running epoch 4/5\n",
      "\u001b[36m(ClientAppActor pid=2989835)\u001b[0m Epoch 5: train loss 3.896284215443302e-05, accuracy 1.0\n",
      "\u001b[36m(ClientAppActor pid=2989835)\u001b[0m Training completed!\n",
      "\u001b[36m(ClientAppActor pid=2989835)\u001b[0m Length of params: 329\n"
     ]
    },
    {
     "name": "stderr",
     "output_type": "stream",
     "text": [
      "\u001b[36m(ClientAppActor pid=2989835)\u001b[0m \u001b[93mWARNING \u001b[0m:   Deprecation Warning: The `client_fn` function must return an instance of `Client`, but an instance of `NumpyClient` was returned. Please use `NumPyClient.to_client()` method to convert it to `Client`.\n"
     ]
    },
    {
     "name": "stdout",
     "output_type": "stream",
     "text": [
      "\u001b[36m(ClientAppActor pid=2989835)\u001b[0m [Client 1] fit, config: {'lr': 0.001}\n",
      "\u001b[36m(ClientAppActor pid=2989835)\u001b[0m Updating parameters 329\n",
      "\u001b[36m(ClientAppActor pid=2989835)\u001b[0m Setting parameters...\n",
      "\u001b[36m(ClientAppActor pid=2989835)\u001b[0m Client parameters set\n",
      "\u001b[36m(ClientAppActor pid=2989835)\u001b[0m Starting client training...\n",
      "\u001b[36m(ClientAppActor pid=2989835)\u001b[0m Running epoch 0/5\n",
      "\u001b[36m(ClientAppActor pid=2989835)\u001b[0m Epoch 1: train loss 0.03674734722526642, accuracy 0.9743589743589743\n",
      "\u001b[36m(ClientAppActor pid=2989835)\u001b[0m Running epoch 1/5\n",
      "\u001b[36m(ClientAppActor pid=2989835)\u001b[0m Epoch 2: train loss 0.0280779122064511, accuracy 1.0\n",
      "\u001b[36m(ClientAppActor pid=2989835)\u001b[0m Running epoch 2/5\n",
      "\u001b[36m(ClientAppActor pid=2989835)\u001b[0m Epoch 3: train loss 0.0018497165923084442, accuracy 1.0\n",
      "\u001b[36m(ClientAppActor pid=2989835)\u001b[0m Running epoch 3/5\n",
      "\u001b[36m(ClientAppActor pid=2989835)\u001b[0m Epoch 4: train loss 0.001545186956019069, accuracy 1.0\n",
      "\u001b[36m(ClientAppActor pid=2989835)\u001b[0m Running epoch 4/5\n",
      "\u001b[36m(ClientAppActor pid=2989835)\u001b[0m Epoch 5: train loss 0.0002553271478973329, accuracy 1.0\n",
      "\u001b[36m(ClientAppActor pid=2989835)\u001b[0m Training completed!\n",
      "\u001b[36m(ClientAppActor pid=2989835)\u001b[0m Length of params: 329\n"
     ]
    },
    {
     "name": "stderr",
     "output_type": "stream",
     "text": [
      "\u001b[36m(ClientAppActor pid=2989835)\u001b[0m \u001b[93mWARNING \u001b[0m:   Deprecation Warning: The `client_fn` function must return an instance of `Client`, but an instance of `NumpyClient` was returned. Please use `NumPyClient.to_client()` method to convert it to `Client`.\n"
     ]
    },
    {
     "name": "stdout",
     "output_type": "stream",
     "text": [
      "\u001b[36m(ClientAppActor pid=2989835)\u001b[0m [Client 3] fit, config: {'lr': 0.003}\n",
      "\u001b[36m(ClientAppActor pid=2989835)\u001b[0m Updating parameters 329\n",
      "\u001b[36m(ClientAppActor pid=2989835)\u001b[0m Setting parameters...\n",
      "\u001b[36m(ClientAppActor pid=2989835)\u001b[0m Client parameters set\n",
      "\u001b[36m(ClientAppActor pid=2989835)\u001b[0m Starting client training...\n",
      "\u001b[36m(ClientAppActor pid=2989835)\u001b[0m Running epoch 0/5\n",
      "\u001b[36m(ClientAppActor pid=2989835)\u001b[0m Epoch 1: train loss 0.0002742285736857388, accuracy 1.0\n",
      "\u001b[36m(ClientAppActor pid=2989835)\u001b[0m Running epoch 1/5\n",
      "\u001b[36m(ClientAppActor pid=2989835)\u001b[0m Epoch 2: train loss 6.870407600791995e-05, accuracy 1.0\n",
      "\u001b[36m(ClientAppActor pid=2989835)\u001b[0m Running epoch 2/5\n",
      "\u001b[36m(ClientAppActor pid=2989835)\u001b[0m Epoch 3: train loss 7.467707317305329e-05, accuracy 1.0\n",
      "\u001b[36m(ClientAppActor pid=2989835)\u001b[0m Running epoch 3/5\n",
      "\u001b[36m(ClientAppActor pid=2989835)\u001b[0m Epoch 4: train loss 3.798186606164295e-05, accuracy 1.0\n",
      "\u001b[36m(ClientAppActor pid=2989835)\u001b[0m Running epoch 4/5\n",
      "\u001b[36m(ClientAppActor pid=2989835)\u001b[0m Epoch 5: train loss 5.062074246809108e-05, accuracy 1.0\n",
      "\u001b[36m(ClientAppActor pid=2989835)\u001b[0m Training completed!\n",
      "\u001b[36m(ClientAppActor pid=2989835)\u001b[0m Length of params: 329\n"
     ]
    },
    {
     "name": "stderr",
     "output_type": "stream",
     "text": [
      "\u001b[36m(ClientAppActor pid=2989835)\u001b[0m \u001b[93mWARNING \u001b[0m:   Deprecation Warning: The `client_fn` function must return an instance of `Client`, but an instance of `NumpyClient` was returned. Please use `NumPyClient.to_client()` method to convert it to `Client`.\n"
     ]
    },
    {
     "name": "stdout",
     "output_type": "stream",
     "text": [
      "\u001b[36m(ClientAppActor pid=2989835)\u001b[0m [Client 2] fit, config: {'lr': 0.003}\n",
      "\u001b[36m(ClientAppActor pid=2989835)\u001b[0m Updating parameters 329\n",
      "\u001b[36m(ClientAppActor pid=2989835)\u001b[0m Setting parameters...\n",
      "\u001b[36m(ClientAppActor pid=2989835)\u001b[0m Client parameters set\n",
      "\u001b[36m(ClientAppActor pid=2989835)\u001b[0m Starting client training...\n",
      "\u001b[36m(ClientAppActor pid=2989835)\u001b[0m Running epoch 0/5\n",
      "\u001b[36m(ClientAppActor pid=2989835)\u001b[0m Epoch 1: train loss 0.0006830378790534899, accuracy 1.0\n",
      "\u001b[36m(ClientAppActor pid=2989835)\u001b[0m Running epoch 1/5\n",
      "\u001b[36m(ClientAppActor pid=2989835)\u001b[0m Epoch 2: train loss 0.00010707771010250629, accuracy 1.0\n",
      "\u001b[36m(ClientAppActor pid=2989835)\u001b[0m Running epoch 2/5\n",
      "\u001b[36m(ClientAppActor pid=2989835)\u001b[0m Epoch 3: train loss 1.3866706304281997e-05, accuracy 1.0\n",
      "\u001b[36m(ClientAppActor pid=2989835)\u001b[0m Running epoch 3/5\n",
      "\u001b[36m(ClientAppActor pid=2989835)\u001b[0m Epoch 4: train loss 4.691854102043763e-06, accuracy 1.0\n",
      "\u001b[36m(ClientAppActor pid=2989835)\u001b[0m Running epoch 4/5\n",
      "\u001b[36m(ClientAppActor pid=2989835)\u001b[0m Epoch 5: train loss 8.848031426075464e-06, accuracy 1.0\n",
      "\u001b[36m(ClientAppActor pid=2989835)\u001b[0m Training completed!\n",
      "\u001b[36m(ClientAppActor pid=2989835)\u001b[0m Length of params: 329\n"
     ]
    },
    {
     "name": "stderr",
     "output_type": "stream",
     "text": [
      "\u001b[36m(ClientAppActor pid=2989835)\u001b[0m \u001b[93mWARNING \u001b[0m:   Deprecation Warning: The `client_fn` function must return an instance of `Client`, but an instance of `NumpyClient` was returned. Please use `NumPyClient.to_client()` method to convert it to `Client`.\n"
     ]
    },
    {
     "name": "stdout",
     "output_type": "stream",
     "text": [
      "\u001b[36m(ClientAppActor pid=2989835)\u001b[0m [Client 4] fit, config: {'lr': 0.003}\n",
      "\u001b[36m(ClientAppActor pid=2989835)\u001b[0m Updating parameters 329\n",
      "\u001b[36m(ClientAppActor pid=2989835)\u001b[0m Setting parameters...\n",
      "\u001b[36m(ClientAppActor pid=2989835)\u001b[0m Client parameters set\n",
      "\u001b[36m(ClientAppActor pid=2989835)\u001b[0m Starting client training...\n",
      "\u001b[36m(ClientAppActor pid=2989835)\u001b[0m Running epoch 0/5\n",
      "\u001b[36m(ClientAppActor pid=2989835)\u001b[0m Epoch 1: train loss 0.0007647538324818016, accuracy 1.0\n",
      "\u001b[36m(ClientAppActor pid=2989835)\u001b[0m Running epoch 1/5\n",
      "\u001b[36m(ClientAppActor pid=2989835)\u001b[0m Epoch 2: train loss 0.0025839699635980653, accuracy 1.0\n",
      "\u001b[36m(ClientAppActor pid=2989835)\u001b[0m Running epoch 2/5\n",
      "\u001b[36m(ClientAppActor pid=2989835)\u001b[0m Epoch 3: train loss 3.3706194403748666e-05, accuracy 1.0\n",
      "\u001b[36m(ClientAppActor pid=2989835)\u001b[0m Running epoch 3/5\n",
      "\u001b[36m(ClientAppActor pid=2989835)\u001b[0m Epoch 4: train loss 0.011839555701226346, accuracy 1.0\n",
      "\u001b[36m(ClientAppActor pid=2989835)\u001b[0m Running epoch 4/5\n",
      "\u001b[36m(ClientAppActor pid=2989835)\u001b[0m Epoch 5: train loss 0.0021877461986150593, accuracy 1.0\n",
      "\u001b[36m(ClientAppActor pid=2989835)\u001b[0m Training completed!\n",
      "\u001b[36m(ClientAppActor pid=2989835)\u001b[0m Length of params: 329\n"
     ]
    },
    {
     "name": "stderr",
     "output_type": "stream",
     "text": [
      "\u001b[92mINFO \u001b[0m:      aggregate_fit: received 5 results and 0 failures\n"
     ]
    },
    {
     "name": "stdout",
     "output_type": "stream",
     "text": [
      "Evaluating global model\n",
      "Updating parameters 329\n",
      "Setting parameters...\n",
      "Parameter set\n",
      "Starting client validation...\n",
      "Validataion accuracy = 0.9\n",
      "Global evaluation round 5 loss = 0.07697812325010697 accuracy = 0.9\n"
     ]
    },
    {
     "name": "stderr",
     "output_type": "stream",
     "text": [
      "\u001b[92mINFO \u001b[0m:      fit progress: (5, 0.07697812325010697, {}, 1510.335729174083)\n",
      "\u001b[92mINFO \u001b[0m:      configure_evaluate: strategy sampled 5 clients (out of 5)\n"
     ]
    },
    {
     "name": "stdout",
     "output_type": "stream",
     "text": [
      "Model saved at ./fl_checkpointsswintransformer_e5_c5_r5/fl_densenet_5.pth\n"
     ]
    },
    {
     "name": "stderr",
     "output_type": "stream",
     "text": [
      "\u001b[36m(ClientAppActor pid=2989835)\u001b[0m \u001b[93mWARNING \u001b[0m:   Deprecation Warning: The `client_fn` function must return an instance of `Client`, but an instance of `NumpyClient` was returned. Please use `NumPyClient.to_client()` method to convert it to `Client`.\n"
     ]
    },
    {
     "name": "stdout",
     "output_type": "stream",
     "text": [
      "\u001b[36m(ClientAppActor pid=2989835)\u001b[0m [Client 4] evaluate, config: {}\n",
      "\u001b[36m(ClientAppActor pid=2989835)\u001b[0m Updating parameters 329\n",
      "\u001b[36m(ClientAppActor pid=2989835)\u001b[0m Setting parameters...\n",
      "\u001b[36m(ClientAppActor pid=2989835)\u001b[0m Starting client validation...\n",
      "\u001b[36m(ClientAppActor pid=2989835)\u001b[0m Validataion accuracy = 0.9\n",
      "\u001b[36m(ClientAppActor pid=2989835)\u001b[0m Evaluation loss = 0.07697812325010697 accuracy = 0.9\n"
     ]
    },
    {
     "name": "stderr",
     "output_type": "stream",
     "text": [
      "\u001b[36m(ClientAppActor pid=2989835)\u001b[0m \u001b[93mWARNING \u001b[0m:   Deprecation Warning: The `client_fn` function must return an instance of `Client`, but an instance of `NumpyClient` was returned. Please use `NumPyClient.to_client()` method to convert it to `Client`.\n"
     ]
    },
    {
     "name": "stdout",
     "output_type": "stream",
     "text": [
      "\u001b[36m(ClientAppActor pid=2989835)\u001b[0m [Client 1] evaluate, config: {}\n",
      "\u001b[36m(ClientAppActor pid=2989835)\u001b[0m Updating parameters 329\n",
      "\u001b[36m(ClientAppActor pid=2989835)\u001b[0m Setting parameters...\n",
      "\u001b[36m(ClientAppActor pid=2989835)\u001b[0m Starting client validation...\n",
      "\u001b[36m(ClientAppActor pid=2989835)\u001b[0m Validataion accuracy = 0.9\n",
      "\u001b[36m(ClientAppActor pid=2989835)\u001b[0m Evaluation loss = 0.07697812325010697 accuracy = 0.9\n"
     ]
    },
    {
     "name": "stderr",
     "output_type": "stream",
     "text": [
      "\u001b[36m(ClientAppActor pid=2989835)\u001b[0m \u001b[93mWARNING \u001b[0m:   Deprecation Warning: The `client_fn` function must return an instance of `Client`, but an instance of `NumpyClient` was returned. Please use `NumPyClient.to_client()` method to convert it to `Client`.\n"
     ]
    },
    {
     "name": "stdout",
     "output_type": "stream",
     "text": [
      "\u001b[36m(ClientAppActor pid=2989835)\u001b[0m [Client 2] evaluate, config: {}\n",
      "\u001b[36m(ClientAppActor pid=2989835)\u001b[0m Updating parameters 329\n",
      "\u001b[36m(ClientAppActor pid=2989835)\u001b[0m Setting parameters...\n",
      "\u001b[36m(ClientAppActor pid=2989835)\u001b[0m Starting client validation...\n",
      "\u001b[36m(ClientAppActor pid=2989835)\u001b[0m Validataion accuracy = 0.9\n",
      "\u001b[36m(ClientAppActor pid=2989835)\u001b[0m Evaluation loss = 0.07697812325010697 accuracy = 0.9\n"
     ]
    },
    {
     "name": "stderr",
     "output_type": "stream",
     "text": [
      "\u001b[36m(ClientAppActor pid=2989835)\u001b[0m \u001b[93mWARNING \u001b[0m:   Deprecation Warning: The `client_fn` function must return an instance of `Client`, but an instance of `NumpyClient` was returned. Please use `NumPyClient.to_client()` method to convert it to `Client`.\n"
     ]
    },
    {
     "name": "stdout",
     "output_type": "stream",
     "text": [
      "\u001b[36m(ClientAppActor pid=2989835)\u001b[0m [Client 0] evaluate, config: {}\n",
      "\u001b[36m(ClientAppActor pid=2989835)\u001b[0m Updating parameters 329\n",
      "\u001b[36m(ClientAppActor pid=2989835)\u001b[0m Setting parameters...\n",
      "\u001b[36m(ClientAppActor pid=2989835)\u001b[0m Starting client validation...\n",
      "\u001b[36m(ClientAppActor pid=2989835)\u001b[0m Validataion accuracy = 0.9\n",
      "\u001b[36m(ClientAppActor pid=2989835)\u001b[0m Evaluation loss = 0.07697812325010697 accuracy = 0.9\n"
     ]
    },
    {
     "name": "stderr",
     "output_type": "stream",
     "text": [
      "\u001b[36m(ClientAppActor pid=2989835)\u001b[0m \u001b[93mWARNING \u001b[0m:   Deprecation Warning: The `client_fn` function must return an instance of `Client`, but an instance of `NumpyClient` was returned. Please use `NumPyClient.to_client()` method to convert it to `Client`.\n"
     ]
    },
    {
     "name": "stdout",
     "output_type": "stream",
     "text": [
      "\u001b[36m(ClientAppActor pid=2989835)\u001b[0m [Client 3] evaluate, config: {}\n",
      "\u001b[36m(ClientAppActor pid=2989835)\u001b[0m Updating parameters 329\n",
      "\u001b[36m(ClientAppActor pid=2989835)\u001b[0m Setting parameters...\n",
      "\u001b[36m(ClientAppActor pid=2989835)\u001b[0m Starting client validation...\n"
     ]
    },
    {
     "name": "stderr",
     "output_type": "stream",
     "text": [
      "\u001b[92mINFO \u001b[0m:      aggregate_evaluate: received 5 results and 0 failures\n",
      "\u001b[92mINFO \u001b[0m:      \n",
      "\u001b[92mINFO \u001b[0m:      [SUMMARY]\n",
      "\u001b[92mINFO \u001b[0m:      Run finished 5 round(s) in 1555.35s\n",
      "\u001b[92mINFO \u001b[0m:      \tHistory (loss, distributed):\n",
      "\u001b[92mINFO \u001b[0m:      \t\tround 1: 0.022573108226060866\n",
      "\u001b[92mINFO \u001b[0m:      \t\tround 2: 0.03914549512167772\n",
      "\u001b[92mINFO \u001b[0m:      \t\tround 3: 0.03281706223885218\n",
      "\u001b[92mINFO \u001b[0m:      \t\tround 4: 0.047610161701838176\n",
      "\u001b[92mINFO \u001b[0m:      \t\tround 5: 0.07697812325010697\n",
      "\u001b[92mINFO \u001b[0m:      \tHistory (loss, centralized):\n",
      "\u001b[92mINFO \u001b[0m:      \t\tround 0: 0.051406596104303995\n",
      "\u001b[92mINFO \u001b[0m:      \t\tround 1: 0.022573108226060866\n",
      "\u001b[92mINFO \u001b[0m:      \t\tround 2: 0.03914549512167772\n",
      "\u001b[92mINFO \u001b[0m:      \t\tround 3: 0.03281706223885218\n",
      "\u001b[92mINFO \u001b[0m:      \t\tround 4: 0.047610161701838176\n",
      "\u001b[92mINFO \u001b[0m:      \t\tround 5: 0.07697812325010697\n",
      "\u001b[92mINFO \u001b[0m:      \n"
     ]
    },
    {
     "name": "stdout",
     "output_type": "stream",
     "text": [
      "\u001b[36m(ClientAppActor pid=2989835)\u001b[0m Validataion accuracy = 0.9\n",
      "\u001b[36m(ClientAppActor pid=2989835)\u001b[0m Evaluation loss = 0.07697812325010697 accuracy = 0.9\n",
      "End of Simulation History = History (loss, distributed):\n",
      "\tround 1: 0.022573108226060866\n",
      "\tround 2: 0.03914549512167772\n",
      "\tround 3: 0.03281706223885218\n",
      "\tround 4: 0.047610161701838176\n",
      "\tround 5: 0.07697812325010697\n",
      "History (loss, centralized):\n",
      "\tround 0: 0.051406596104303995\n",
      "\tround 1: 0.022573108226060866\n",
      "\tround 2: 0.03914549512167772\n",
      "\tround 3: 0.03281706223885218\n",
      "\tround 4: 0.047610161701838176\n",
      "\tround 5: 0.07697812325010697\n",
      "\n"
     ]
    }
   ],
   "source": [
    "# Create an instance of the model and get the parameters\n",
    "# params = get_parameters(create_pretrained_densenet(num_classes).to(device))\n",
    "# print(\"ParamsIn: \", params)\n",
    "\n",
    "# Pass parameters to the Strategy for server-side parameter initialization\n",
    "# strategy = fl.server.strategy.FedAvg(\n",
    "#     fraction_fit=0.3,\n",
    "#     fraction_evaluate=0.3,\n",
    "#     min_fit_clients=1,\n",
    "#     min_evaluate_clients=1,\n",
    "#     min_available_clients=NUM_CLIENTS,\n",
    "# #     initial_parameters=fl.common.ndarrays_to_parameters(params),\n",
    "# )\n",
    "\n",
    "# Specify client resources if you need GPU (defaults to 1 CPU and 0 GPU)\n",
    "client_resources = None\n",
    "if use_cuda:\n",
    "    client_resources = {'num_gpus': 1}\n",
    "\n",
    "# Start simulation\n",
    "# fl.simulation.start_simulation(\n",
    "#     client_fn=client_fn,\n",
    "#     num_clients=NUM_CLIENTS,\n",
    "#     config=fl.server.ServerConfig(num_rounds=1),  # Just three rounds\n",
    "#     strategy=strategy,\n",
    "#     client_resources=client_resources,\n",
    "# )\n",
    "\n",
    "history = fl.simulation.start_simulation(\n",
    "    client_fn=client_fn,\n",
    "    num_clients=NUM_CLIENTS,\n",
    "    config=fl.server.ServerConfig(num_rounds=ROUNDS),  # Just three rounds\n",
    "    strategy=FedCustom(),\n",
    "    client_resources=client_resources,\n",
    ")\n",
    "\n",
    "\n",
    "print(f\"End of Simulation History = {history}\")"
   ]
  },
  {
   "cell_type": "markdown",
   "metadata": {},
   "source": [
    "## Inference"
   ]
  },
  {
   "cell_type": "code",
   "execution_count": null,
   "metadata": {},
   "outputs": [],
   "source": [
    "# import torch\n",
    "# import torchvision.transforms as transforms\n",
    "# from PIL import Image\n",
    "# import os\n",
    "# from torchvision import datasets, models\n",
    "# from torch.utils.data import DataLoader"
   ]
  },
  {
   "cell_type": "code",
   "execution_count": 40,
   "metadata": {},
   "outputs": [],
   "source": [
    "# # Define device\n",
    "# use_cuda = torch.cuda.is_available()\n",
    "# device = torch.device(\"cuda:0\" if use_cuda else \"cpu\")"
   ]
  },
  {
   "cell_type": "code",
   "execution_count": 17,
   "metadata": {},
   "outputs": [],
   "source": [
    "# # Load model\n",
    "# num_classes = 2\n",
    "# model = create_pretrained_densenet(num_classes)\n",
    "# model.to(device)"
   ]
  },
  {
   "cell_type": "code",
   "execution_count": null,
   "metadata": {},
   "outputs": [],
   "source": []
  },
  {
   "cell_type": "code",
   "execution_count": 18,
   "metadata": {},
   "outputs": [],
   "source": [
    "# # Load best model weights\n",
    "# best_model_path = \"./fl_checkpointsdensenet121/fl_densenet_15.pth\"\n",
    "# checkpoint = torch.load(best_model_path)\n",
    "# model.load_state_dict(checkpoint['state_dict'])\n",
    "# print(\"Model loaded successfully\")"
   ]
  },
  {
   "cell_type": "code",
   "execution_count": 43,
   "metadata": {},
   "outputs": [],
   "source": [
    "# # Define transform\n",
    "# transform = transforms.Compose([\n",
    "#     transforms.Resize((224, 224)),\n",
    "#     transforms.ToTensor(),\n",
    "#     transforms.Normalize(mean=[0.4762, 0.3054, 0.2368], std=[0.3345, 0.2407, 0.2164])\n",
    "# ])\n",
    "\n",
    "# # Define test dataset and dataloader\n",
    "# test_root_dir = os.path.join('./../../processed_RealDS', 'test')\n",
    "# test_dataset = datasets.ImageFolder(test_root_dir, transform=transform)\n",
    "# test_loader = DataLoader(test_dataset, batch_size=1, shuffle=False)\n"
   ]
  },
  {
   "cell_type": "code",
   "execution_count": 3,
   "metadata": {},
   "outputs": [],
   "source": [
    "# # Load your single image\n",
    "# PATH_DATASET = './../../processed_RealDS'\n",
    "\n",
    "# image_path = os.path.join(PATH_DATASET, 'test','Disease','Image_114.jpeg')  # Replace 'path_to_your_image.jpg' with the path to your image\n",
    "# image = Image.open(image_path)\n"
   ]
  },
  {
   "cell_type": "code",
   "execution_count": 34,
   "metadata": {},
   "outputs": [],
   "source": [
    "# image = Image.open(image_path)\n",
    "\n",
    "# # Apply the transform to the image\n",
    "# image = transform(image)\n",
    "\n",
    "# # Add batch dimension\n",
    "# image = image.unsqueeze(0)\n",
    "# image = image.to(device)\n"
   ]
  },
  {
   "cell_type": "code",
   "execution_count": 19,
   "metadata": {},
   "outputs": [],
   "source": [
    "# # Perform inference and calculate accuracy\n",
    "# model.eval()\n",
    "# correct = 0\n",
    "# total = 0\n",
    "# class_labels = ['Healthy', 'Disease']  # Replace with your actual class labels\n"
   ]
  },
  {
   "cell_type": "code",
   "execution_count": null,
   "metadata": {},
   "outputs": [],
   "source": []
  },
  {
   "cell_type": "code",
   "execution_count": 20,
   "metadata": {},
   "outputs": [],
   "source": [
    "# # Perform inference\n",
    "# with torch.no_grad():\n",
    "#     output = model(image)\n",
    "\n",
    "#     # Get the predicted class index\n",
    "#     _, predicted = torch.max(output, 1)\n",
    "#     predicted_class_index = predicted.item()\n",
    "    \n",
    "#     # Interpret the results (assuming you have a class label mapping)\n",
    "#     class_labels = ['Healthy','Disease' ]  # Replace with your actual class labels\n",
    "#     predicted_class_label = class_labels[predicted_class_index]\n",
    "#     print('Predicted class:', predicted_class_label)"
   ]
  },
  {
   "cell_type": "code",
   "execution_count": 21,
   "metadata": {},
   "outputs": [],
   "source": [
    "# print('Predicted class:', predicted_class_label)"
   ]
  },
  {
   "cell_type": "markdown",
   "metadata": {},
   "source": [
    "## all predictions"
   ]
  },
  {
   "cell_type": "code",
   "execution_count": null,
   "metadata": {},
   "outputs": [],
   "source": []
  },
  {
   "cell_type": "code",
   "execution_count": 22,
   "metadata": {},
   "outputs": [],
   "source": [
    "# with torch.no_grad():\n",
    "#     for images, labels in test_loader:\n",
    "#         images, labels = images.to(device), labels.to(device)\n",
    "#         outputs = model(images)\n",
    "#         _, predicted = torch.max(outputs.data, 1)\n",
    "#         total += labels.size(0)\n",
    "#         correct += (predicted == labels).sum().item()\n",
    "#         print(f\"Predicted class: {class_labels[predicted.item()]}\")\n",
    "\n",
    "# accuracy = correct / total\n",
    "# print(f'Overall test accuracy: {accuracy * 100:.2f}%')"
   ]
  },
  {
   "cell_type": "code",
   "execution_count": 12,
   "metadata": {},
   "outputs": [],
   "source": [
    "# tmp_model = create_pretrained_densenet(num_classes).to(device)\n",
    "\n",
    "# params = get_parameters(tmp_model)\n",
    "\n",
    "# # it will return byteio(numpyArray(param))\n",
    "# array_to_param = fl.common.ndarrays_to_parameters(params)\n",
    "\n",
    "# param_to_arr = fl.common.parameters_to_ndarrays(array_to_param)\n",
    "\n",
    "# print(type(param_to_arr))\n",
    "\n",
    "# for i, v in enumerate(param_to_arr):\n",
    "#     try:\n",
    "#         print(len(v))\n",
    "#     except:\n",
    "#         print(v)\n",
    "#         param_to_arr[i] = np.array([0])\n",
    "# set_parameters(tmp_model, param_to_arr)"
   ]
  },
  {
   "cell_type": "markdown",
   "metadata": {},
   "source": [
    "# Testing"
   ]
  },
  {
   "cell_type": "code",
   "execution_count": 15,
   "metadata": {},
   "outputs": [
    {
     "name": "stdout",
     "output_type": "stream",
     "text": [
      "Best model path:fl_checkpointsdensenet121_e5_c5_r5/fl_densenet_5.pth\n"
     ]
    },
    {
     "name": "stderr",
     "output_type": "stream",
     "text": [
      "/home/sarangs/D1/chameleon_venv/lib/python3.11/site-packages/torchvision/models/_utils.py:223: UserWarning: Arguments other than a weight enum or `None` for 'weights' are deprecated since 0.13 and may be removed in the future. The current behavior is equivalent to passing `weights=None`.\n",
      "  warnings.warn(msg)\n"
     ]
    },
    {
     "data": {
      "text/plain": [
       "DenseNet(\n",
       "  (features): Sequential(\n",
       "    (conv0): Conv2d(3, 64, kernel_size=(7, 7), stride=(2, 2), padding=(3, 3), bias=False)\n",
       "    (norm0): BatchNorm2d(64, eps=1e-05, momentum=0.1, affine=True, track_running_stats=True)\n",
       "    (relu0): ReLU(inplace=True)\n",
       "    (pool0): MaxPool2d(kernel_size=3, stride=2, padding=1, dilation=1, ceil_mode=False)\n",
       "    (denseblock1): _DenseBlock(\n",
       "      (denselayer1): _DenseLayer(\n",
       "        (norm1): BatchNorm2d(64, eps=1e-05, momentum=0.1, affine=True, track_running_stats=True)\n",
       "        (relu1): ReLU(inplace=True)\n",
       "        (conv1): Conv2d(64, 128, kernel_size=(1, 1), stride=(1, 1), bias=False)\n",
       "        (norm2): BatchNorm2d(128, eps=1e-05, momentum=0.1, affine=True, track_running_stats=True)\n",
       "        (relu2): ReLU(inplace=True)\n",
       "        (conv2): Conv2d(128, 32, kernel_size=(3, 3), stride=(1, 1), padding=(1, 1), bias=False)\n",
       "      )\n",
       "      (denselayer2): _DenseLayer(\n",
       "        (norm1): BatchNorm2d(96, eps=1e-05, momentum=0.1, affine=True, track_running_stats=True)\n",
       "        (relu1): ReLU(inplace=True)\n",
       "        (conv1): Conv2d(96, 128, kernel_size=(1, 1), stride=(1, 1), bias=False)\n",
       "        (norm2): BatchNorm2d(128, eps=1e-05, momentum=0.1, affine=True, track_running_stats=True)\n",
       "        (relu2): ReLU(inplace=True)\n",
       "        (conv2): Conv2d(128, 32, kernel_size=(3, 3), stride=(1, 1), padding=(1, 1), bias=False)\n",
       "      )\n",
       "      (denselayer3): _DenseLayer(\n",
       "        (norm1): BatchNorm2d(128, eps=1e-05, momentum=0.1, affine=True, track_running_stats=True)\n",
       "        (relu1): ReLU(inplace=True)\n",
       "        (conv1): Conv2d(128, 128, kernel_size=(1, 1), stride=(1, 1), bias=False)\n",
       "        (norm2): BatchNorm2d(128, eps=1e-05, momentum=0.1, affine=True, track_running_stats=True)\n",
       "        (relu2): ReLU(inplace=True)\n",
       "        (conv2): Conv2d(128, 32, kernel_size=(3, 3), stride=(1, 1), padding=(1, 1), bias=False)\n",
       "      )\n",
       "      (denselayer4): _DenseLayer(\n",
       "        (norm1): BatchNorm2d(160, eps=1e-05, momentum=0.1, affine=True, track_running_stats=True)\n",
       "        (relu1): ReLU(inplace=True)\n",
       "        (conv1): Conv2d(160, 128, kernel_size=(1, 1), stride=(1, 1), bias=False)\n",
       "        (norm2): BatchNorm2d(128, eps=1e-05, momentum=0.1, affine=True, track_running_stats=True)\n",
       "        (relu2): ReLU(inplace=True)\n",
       "        (conv2): Conv2d(128, 32, kernel_size=(3, 3), stride=(1, 1), padding=(1, 1), bias=False)\n",
       "      )\n",
       "      (denselayer5): _DenseLayer(\n",
       "        (norm1): BatchNorm2d(192, eps=1e-05, momentum=0.1, affine=True, track_running_stats=True)\n",
       "        (relu1): ReLU(inplace=True)\n",
       "        (conv1): Conv2d(192, 128, kernel_size=(1, 1), stride=(1, 1), bias=False)\n",
       "        (norm2): BatchNorm2d(128, eps=1e-05, momentum=0.1, affine=True, track_running_stats=True)\n",
       "        (relu2): ReLU(inplace=True)\n",
       "        (conv2): Conv2d(128, 32, kernel_size=(3, 3), stride=(1, 1), padding=(1, 1), bias=False)\n",
       "      )\n",
       "      (denselayer6): _DenseLayer(\n",
       "        (norm1): BatchNorm2d(224, eps=1e-05, momentum=0.1, affine=True, track_running_stats=True)\n",
       "        (relu1): ReLU(inplace=True)\n",
       "        (conv1): Conv2d(224, 128, kernel_size=(1, 1), stride=(1, 1), bias=False)\n",
       "        (norm2): BatchNorm2d(128, eps=1e-05, momentum=0.1, affine=True, track_running_stats=True)\n",
       "        (relu2): ReLU(inplace=True)\n",
       "        (conv2): Conv2d(128, 32, kernel_size=(3, 3), stride=(1, 1), padding=(1, 1), bias=False)\n",
       "      )\n",
       "    )\n",
       "    (transition1): _Transition(\n",
       "      (norm): BatchNorm2d(256, eps=1e-05, momentum=0.1, affine=True, track_running_stats=True)\n",
       "      (relu): ReLU(inplace=True)\n",
       "      (conv): Conv2d(256, 128, kernel_size=(1, 1), stride=(1, 1), bias=False)\n",
       "      (pool): AvgPool2d(kernel_size=2, stride=2, padding=0)\n",
       "    )\n",
       "    (denseblock2): _DenseBlock(\n",
       "      (denselayer1): _DenseLayer(\n",
       "        (norm1): BatchNorm2d(128, eps=1e-05, momentum=0.1, affine=True, track_running_stats=True)\n",
       "        (relu1): ReLU(inplace=True)\n",
       "        (conv1): Conv2d(128, 128, kernel_size=(1, 1), stride=(1, 1), bias=False)\n",
       "        (norm2): BatchNorm2d(128, eps=1e-05, momentum=0.1, affine=True, track_running_stats=True)\n",
       "        (relu2): ReLU(inplace=True)\n",
       "        (conv2): Conv2d(128, 32, kernel_size=(3, 3), stride=(1, 1), padding=(1, 1), bias=False)\n",
       "      )\n",
       "      (denselayer2): _DenseLayer(\n",
       "        (norm1): BatchNorm2d(160, eps=1e-05, momentum=0.1, affine=True, track_running_stats=True)\n",
       "        (relu1): ReLU(inplace=True)\n",
       "        (conv1): Conv2d(160, 128, kernel_size=(1, 1), stride=(1, 1), bias=False)\n",
       "        (norm2): BatchNorm2d(128, eps=1e-05, momentum=0.1, affine=True, track_running_stats=True)\n",
       "        (relu2): ReLU(inplace=True)\n",
       "        (conv2): Conv2d(128, 32, kernel_size=(3, 3), stride=(1, 1), padding=(1, 1), bias=False)\n",
       "      )\n",
       "      (denselayer3): _DenseLayer(\n",
       "        (norm1): BatchNorm2d(192, eps=1e-05, momentum=0.1, affine=True, track_running_stats=True)\n",
       "        (relu1): ReLU(inplace=True)\n",
       "        (conv1): Conv2d(192, 128, kernel_size=(1, 1), stride=(1, 1), bias=False)\n",
       "        (norm2): BatchNorm2d(128, eps=1e-05, momentum=0.1, affine=True, track_running_stats=True)\n",
       "        (relu2): ReLU(inplace=True)\n",
       "        (conv2): Conv2d(128, 32, kernel_size=(3, 3), stride=(1, 1), padding=(1, 1), bias=False)\n",
       "      )\n",
       "      (denselayer4): _DenseLayer(\n",
       "        (norm1): BatchNorm2d(224, eps=1e-05, momentum=0.1, affine=True, track_running_stats=True)\n",
       "        (relu1): ReLU(inplace=True)\n",
       "        (conv1): Conv2d(224, 128, kernel_size=(1, 1), stride=(1, 1), bias=False)\n",
       "        (norm2): BatchNorm2d(128, eps=1e-05, momentum=0.1, affine=True, track_running_stats=True)\n",
       "        (relu2): ReLU(inplace=True)\n",
       "        (conv2): Conv2d(128, 32, kernel_size=(3, 3), stride=(1, 1), padding=(1, 1), bias=False)\n",
       "      )\n",
       "      (denselayer5): _DenseLayer(\n",
       "        (norm1): BatchNorm2d(256, eps=1e-05, momentum=0.1, affine=True, track_running_stats=True)\n",
       "        (relu1): ReLU(inplace=True)\n",
       "        (conv1): Conv2d(256, 128, kernel_size=(1, 1), stride=(1, 1), bias=False)\n",
       "        (norm2): BatchNorm2d(128, eps=1e-05, momentum=0.1, affine=True, track_running_stats=True)\n",
       "        (relu2): ReLU(inplace=True)\n",
       "        (conv2): Conv2d(128, 32, kernel_size=(3, 3), stride=(1, 1), padding=(1, 1), bias=False)\n",
       "      )\n",
       "      (denselayer6): _DenseLayer(\n",
       "        (norm1): BatchNorm2d(288, eps=1e-05, momentum=0.1, affine=True, track_running_stats=True)\n",
       "        (relu1): ReLU(inplace=True)\n",
       "        (conv1): Conv2d(288, 128, kernel_size=(1, 1), stride=(1, 1), bias=False)\n",
       "        (norm2): BatchNorm2d(128, eps=1e-05, momentum=0.1, affine=True, track_running_stats=True)\n",
       "        (relu2): ReLU(inplace=True)\n",
       "        (conv2): Conv2d(128, 32, kernel_size=(3, 3), stride=(1, 1), padding=(1, 1), bias=False)\n",
       "      )\n",
       "      (denselayer7): _DenseLayer(\n",
       "        (norm1): BatchNorm2d(320, eps=1e-05, momentum=0.1, affine=True, track_running_stats=True)\n",
       "        (relu1): ReLU(inplace=True)\n",
       "        (conv1): Conv2d(320, 128, kernel_size=(1, 1), stride=(1, 1), bias=False)\n",
       "        (norm2): BatchNorm2d(128, eps=1e-05, momentum=0.1, affine=True, track_running_stats=True)\n",
       "        (relu2): ReLU(inplace=True)\n",
       "        (conv2): Conv2d(128, 32, kernel_size=(3, 3), stride=(1, 1), padding=(1, 1), bias=False)\n",
       "      )\n",
       "      (denselayer8): _DenseLayer(\n",
       "        (norm1): BatchNorm2d(352, eps=1e-05, momentum=0.1, affine=True, track_running_stats=True)\n",
       "        (relu1): ReLU(inplace=True)\n",
       "        (conv1): Conv2d(352, 128, kernel_size=(1, 1), stride=(1, 1), bias=False)\n",
       "        (norm2): BatchNorm2d(128, eps=1e-05, momentum=0.1, affine=True, track_running_stats=True)\n",
       "        (relu2): ReLU(inplace=True)\n",
       "        (conv2): Conv2d(128, 32, kernel_size=(3, 3), stride=(1, 1), padding=(1, 1), bias=False)\n",
       "      )\n",
       "      (denselayer9): _DenseLayer(\n",
       "        (norm1): BatchNorm2d(384, eps=1e-05, momentum=0.1, affine=True, track_running_stats=True)\n",
       "        (relu1): ReLU(inplace=True)\n",
       "        (conv1): Conv2d(384, 128, kernel_size=(1, 1), stride=(1, 1), bias=False)\n",
       "        (norm2): BatchNorm2d(128, eps=1e-05, momentum=0.1, affine=True, track_running_stats=True)\n",
       "        (relu2): ReLU(inplace=True)\n",
       "        (conv2): Conv2d(128, 32, kernel_size=(3, 3), stride=(1, 1), padding=(1, 1), bias=False)\n",
       "      )\n",
       "      (denselayer10): _DenseLayer(\n",
       "        (norm1): BatchNorm2d(416, eps=1e-05, momentum=0.1, affine=True, track_running_stats=True)\n",
       "        (relu1): ReLU(inplace=True)\n",
       "        (conv1): Conv2d(416, 128, kernel_size=(1, 1), stride=(1, 1), bias=False)\n",
       "        (norm2): BatchNorm2d(128, eps=1e-05, momentum=0.1, affine=True, track_running_stats=True)\n",
       "        (relu2): ReLU(inplace=True)\n",
       "        (conv2): Conv2d(128, 32, kernel_size=(3, 3), stride=(1, 1), padding=(1, 1), bias=False)\n",
       "      )\n",
       "      (denselayer11): _DenseLayer(\n",
       "        (norm1): BatchNorm2d(448, eps=1e-05, momentum=0.1, affine=True, track_running_stats=True)\n",
       "        (relu1): ReLU(inplace=True)\n",
       "        (conv1): Conv2d(448, 128, kernel_size=(1, 1), stride=(1, 1), bias=False)\n",
       "        (norm2): BatchNorm2d(128, eps=1e-05, momentum=0.1, affine=True, track_running_stats=True)\n",
       "        (relu2): ReLU(inplace=True)\n",
       "        (conv2): Conv2d(128, 32, kernel_size=(3, 3), stride=(1, 1), padding=(1, 1), bias=False)\n",
       "      )\n",
       "      (denselayer12): _DenseLayer(\n",
       "        (norm1): BatchNorm2d(480, eps=1e-05, momentum=0.1, affine=True, track_running_stats=True)\n",
       "        (relu1): ReLU(inplace=True)\n",
       "        (conv1): Conv2d(480, 128, kernel_size=(1, 1), stride=(1, 1), bias=False)\n",
       "        (norm2): BatchNorm2d(128, eps=1e-05, momentum=0.1, affine=True, track_running_stats=True)\n",
       "        (relu2): ReLU(inplace=True)\n",
       "        (conv2): Conv2d(128, 32, kernel_size=(3, 3), stride=(1, 1), padding=(1, 1), bias=False)\n",
       "      )\n",
       "    )\n",
       "    (transition2): _Transition(\n",
       "      (norm): BatchNorm2d(512, eps=1e-05, momentum=0.1, affine=True, track_running_stats=True)\n",
       "      (relu): ReLU(inplace=True)\n",
       "      (conv): Conv2d(512, 256, kernel_size=(1, 1), stride=(1, 1), bias=False)\n",
       "      (pool): AvgPool2d(kernel_size=2, stride=2, padding=0)\n",
       "    )\n",
       "    (denseblock3): _DenseBlock(\n",
       "      (denselayer1): _DenseLayer(\n",
       "        (norm1): BatchNorm2d(256, eps=1e-05, momentum=0.1, affine=True, track_running_stats=True)\n",
       "        (relu1): ReLU(inplace=True)\n",
       "        (conv1): Conv2d(256, 128, kernel_size=(1, 1), stride=(1, 1), bias=False)\n",
       "        (norm2): BatchNorm2d(128, eps=1e-05, momentum=0.1, affine=True, track_running_stats=True)\n",
       "        (relu2): ReLU(inplace=True)\n",
       "        (conv2): Conv2d(128, 32, kernel_size=(3, 3), stride=(1, 1), padding=(1, 1), bias=False)\n",
       "      )\n",
       "      (denselayer2): _DenseLayer(\n",
       "        (norm1): BatchNorm2d(288, eps=1e-05, momentum=0.1, affine=True, track_running_stats=True)\n",
       "        (relu1): ReLU(inplace=True)\n",
       "        (conv1): Conv2d(288, 128, kernel_size=(1, 1), stride=(1, 1), bias=False)\n",
       "        (norm2): BatchNorm2d(128, eps=1e-05, momentum=0.1, affine=True, track_running_stats=True)\n",
       "        (relu2): ReLU(inplace=True)\n",
       "        (conv2): Conv2d(128, 32, kernel_size=(3, 3), stride=(1, 1), padding=(1, 1), bias=False)\n",
       "      )\n",
       "      (denselayer3): _DenseLayer(\n",
       "        (norm1): BatchNorm2d(320, eps=1e-05, momentum=0.1, affine=True, track_running_stats=True)\n",
       "        (relu1): ReLU(inplace=True)\n",
       "        (conv1): Conv2d(320, 128, kernel_size=(1, 1), stride=(1, 1), bias=False)\n",
       "        (norm2): BatchNorm2d(128, eps=1e-05, momentum=0.1, affine=True, track_running_stats=True)\n",
       "        (relu2): ReLU(inplace=True)\n",
       "        (conv2): Conv2d(128, 32, kernel_size=(3, 3), stride=(1, 1), padding=(1, 1), bias=False)\n",
       "      )\n",
       "      (denselayer4): _DenseLayer(\n",
       "        (norm1): BatchNorm2d(352, eps=1e-05, momentum=0.1, affine=True, track_running_stats=True)\n",
       "        (relu1): ReLU(inplace=True)\n",
       "        (conv1): Conv2d(352, 128, kernel_size=(1, 1), stride=(1, 1), bias=False)\n",
       "        (norm2): BatchNorm2d(128, eps=1e-05, momentum=0.1, affine=True, track_running_stats=True)\n",
       "        (relu2): ReLU(inplace=True)\n",
       "        (conv2): Conv2d(128, 32, kernel_size=(3, 3), stride=(1, 1), padding=(1, 1), bias=False)\n",
       "      )\n",
       "      (denselayer5): _DenseLayer(\n",
       "        (norm1): BatchNorm2d(384, eps=1e-05, momentum=0.1, affine=True, track_running_stats=True)\n",
       "        (relu1): ReLU(inplace=True)\n",
       "        (conv1): Conv2d(384, 128, kernel_size=(1, 1), stride=(1, 1), bias=False)\n",
       "        (norm2): BatchNorm2d(128, eps=1e-05, momentum=0.1, affine=True, track_running_stats=True)\n",
       "        (relu2): ReLU(inplace=True)\n",
       "        (conv2): Conv2d(128, 32, kernel_size=(3, 3), stride=(1, 1), padding=(1, 1), bias=False)\n",
       "      )\n",
       "      (denselayer6): _DenseLayer(\n",
       "        (norm1): BatchNorm2d(416, eps=1e-05, momentum=0.1, affine=True, track_running_stats=True)\n",
       "        (relu1): ReLU(inplace=True)\n",
       "        (conv1): Conv2d(416, 128, kernel_size=(1, 1), stride=(1, 1), bias=False)\n",
       "        (norm2): BatchNorm2d(128, eps=1e-05, momentum=0.1, affine=True, track_running_stats=True)\n",
       "        (relu2): ReLU(inplace=True)\n",
       "        (conv2): Conv2d(128, 32, kernel_size=(3, 3), stride=(1, 1), padding=(1, 1), bias=False)\n",
       "      )\n",
       "      (denselayer7): _DenseLayer(\n",
       "        (norm1): BatchNorm2d(448, eps=1e-05, momentum=0.1, affine=True, track_running_stats=True)\n",
       "        (relu1): ReLU(inplace=True)\n",
       "        (conv1): Conv2d(448, 128, kernel_size=(1, 1), stride=(1, 1), bias=False)\n",
       "        (norm2): BatchNorm2d(128, eps=1e-05, momentum=0.1, affine=True, track_running_stats=True)\n",
       "        (relu2): ReLU(inplace=True)\n",
       "        (conv2): Conv2d(128, 32, kernel_size=(3, 3), stride=(1, 1), padding=(1, 1), bias=False)\n",
       "      )\n",
       "      (denselayer8): _DenseLayer(\n",
       "        (norm1): BatchNorm2d(480, eps=1e-05, momentum=0.1, affine=True, track_running_stats=True)\n",
       "        (relu1): ReLU(inplace=True)\n",
       "        (conv1): Conv2d(480, 128, kernel_size=(1, 1), stride=(1, 1), bias=False)\n",
       "        (norm2): BatchNorm2d(128, eps=1e-05, momentum=0.1, affine=True, track_running_stats=True)\n",
       "        (relu2): ReLU(inplace=True)\n",
       "        (conv2): Conv2d(128, 32, kernel_size=(3, 3), stride=(1, 1), padding=(1, 1), bias=False)\n",
       "      )\n",
       "      (denselayer9): _DenseLayer(\n",
       "        (norm1): BatchNorm2d(512, eps=1e-05, momentum=0.1, affine=True, track_running_stats=True)\n",
       "        (relu1): ReLU(inplace=True)\n",
       "        (conv1): Conv2d(512, 128, kernel_size=(1, 1), stride=(1, 1), bias=False)\n",
       "        (norm2): BatchNorm2d(128, eps=1e-05, momentum=0.1, affine=True, track_running_stats=True)\n",
       "        (relu2): ReLU(inplace=True)\n",
       "        (conv2): Conv2d(128, 32, kernel_size=(3, 3), stride=(1, 1), padding=(1, 1), bias=False)\n",
       "      )\n",
       "      (denselayer10): _DenseLayer(\n",
       "        (norm1): BatchNorm2d(544, eps=1e-05, momentum=0.1, affine=True, track_running_stats=True)\n",
       "        (relu1): ReLU(inplace=True)\n",
       "        (conv1): Conv2d(544, 128, kernel_size=(1, 1), stride=(1, 1), bias=False)\n",
       "        (norm2): BatchNorm2d(128, eps=1e-05, momentum=0.1, affine=True, track_running_stats=True)\n",
       "        (relu2): ReLU(inplace=True)\n",
       "        (conv2): Conv2d(128, 32, kernel_size=(3, 3), stride=(1, 1), padding=(1, 1), bias=False)\n",
       "      )\n",
       "      (denselayer11): _DenseLayer(\n",
       "        (norm1): BatchNorm2d(576, eps=1e-05, momentum=0.1, affine=True, track_running_stats=True)\n",
       "        (relu1): ReLU(inplace=True)\n",
       "        (conv1): Conv2d(576, 128, kernel_size=(1, 1), stride=(1, 1), bias=False)\n",
       "        (norm2): BatchNorm2d(128, eps=1e-05, momentum=0.1, affine=True, track_running_stats=True)\n",
       "        (relu2): ReLU(inplace=True)\n",
       "        (conv2): Conv2d(128, 32, kernel_size=(3, 3), stride=(1, 1), padding=(1, 1), bias=False)\n",
       "      )\n",
       "      (denselayer12): _DenseLayer(\n",
       "        (norm1): BatchNorm2d(608, eps=1e-05, momentum=0.1, affine=True, track_running_stats=True)\n",
       "        (relu1): ReLU(inplace=True)\n",
       "        (conv1): Conv2d(608, 128, kernel_size=(1, 1), stride=(1, 1), bias=False)\n",
       "        (norm2): BatchNorm2d(128, eps=1e-05, momentum=0.1, affine=True, track_running_stats=True)\n",
       "        (relu2): ReLU(inplace=True)\n",
       "        (conv2): Conv2d(128, 32, kernel_size=(3, 3), stride=(1, 1), padding=(1, 1), bias=False)\n",
       "      )\n",
       "      (denselayer13): _DenseLayer(\n",
       "        (norm1): BatchNorm2d(640, eps=1e-05, momentum=0.1, affine=True, track_running_stats=True)\n",
       "        (relu1): ReLU(inplace=True)\n",
       "        (conv1): Conv2d(640, 128, kernel_size=(1, 1), stride=(1, 1), bias=False)\n",
       "        (norm2): BatchNorm2d(128, eps=1e-05, momentum=0.1, affine=True, track_running_stats=True)\n",
       "        (relu2): ReLU(inplace=True)\n",
       "        (conv2): Conv2d(128, 32, kernel_size=(3, 3), stride=(1, 1), padding=(1, 1), bias=False)\n",
       "      )\n",
       "      (denselayer14): _DenseLayer(\n",
       "        (norm1): BatchNorm2d(672, eps=1e-05, momentum=0.1, affine=True, track_running_stats=True)\n",
       "        (relu1): ReLU(inplace=True)\n",
       "        (conv1): Conv2d(672, 128, kernel_size=(1, 1), stride=(1, 1), bias=False)\n",
       "        (norm2): BatchNorm2d(128, eps=1e-05, momentum=0.1, affine=True, track_running_stats=True)\n",
       "        (relu2): ReLU(inplace=True)\n",
       "        (conv2): Conv2d(128, 32, kernel_size=(3, 3), stride=(1, 1), padding=(1, 1), bias=False)\n",
       "      )\n",
       "      (denselayer15): _DenseLayer(\n",
       "        (norm1): BatchNorm2d(704, eps=1e-05, momentum=0.1, affine=True, track_running_stats=True)\n",
       "        (relu1): ReLU(inplace=True)\n",
       "        (conv1): Conv2d(704, 128, kernel_size=(1, 1), stride=(1, 1), bias=False)\n",
       "        (norm2): BatchNorm2d(128, eps=1e-05, momentum=0.1, affine=True, track_running_stats=True)\n",
       "        (relu2): ReLU(inplace=True)\n",
       "        (conv2): Conv2d(128, 32, kernel_size=(3, 3), stride=(1, 1), padding=(1, 1), bias=False)\n",
       "      )\n",
       "      (denselayer16): _DenseLayer(\n",
       "        (norm1): BatchNorm2d(736, eps=1e-05, momentum=0.1, affine=True, track_running_stats=True)\n",
       "        (relu1): ReLU(inplace=True)\n",
       "        (conv1): Conv2d(736, 128, kernel_size=(1, 1), stride=(1, 1), bias=False)\n",
       "        (norm2): BatchNorm2d(128, eps=1e-05, momentum=0.1, affine=True, track_running_stats=True)\n",
       "        (relu2): ReLU(inplace=True)\n",
       "        (conv2): Conv2d(128, 32, kernel_size=(3, 3), stride=(1, 1), padding=(1, 1), bias=False)\n",
       "      )\n",
       "      (denselayer17): _DenseLayer(\n",
       "        (norm1): BatchNorm2d(768, eps=1e-05, momentum=0.1, affine=True, track_running_stats=True)\n",
       "        (relu1): ReLU(inplace=True)\n",
       "        (conv1): Conv2d(768, 128, kernel_size=(1, 1), stride=(1, 1), bias=False)\n",
       "        (norm2): BatchNorm2d(128, eps=1e-05, momentum=0.1, affine=True, track_running_stats=True)\n",
       "        (relu2): ReLU(inplace=True)\n",
       "        (conv2): Conv2d(128, 32, kernel_size=(3, 3), stride=(1, 1), padding=(1, 1), bias=False)\n",
       "      )\n",
       "      (denselayer18): _DenseLayer(\n",
       "        (norm1): BatchNorm2d(800, eps=1e-05, momentum=0.1, affine=True, track_running_stats=True)\n",
       "        (relu1): ReLU(inplace=True)\n",
       "        (conv1): Conv2d(800, 128, kernel_size=(1, 1), stride=(1, 1), bias=False)\n",
       "        (norm2): BatchNorm2d(128, eps=1e-05, momentum=0.1, affine=True, track_running_stats=True)\n",
       "        (relu2): ReLU(inplace=True)\n",
       "        (conv2): Conv2d(128, 32, kernel_size=(3, 3), stride=(1, 1), padding=(1, 1), bias=False)\n",
       "      )\n",
       "      (denselayer19): _DenseLayer(\n",
       "        (norm1): BatchNorm2d(832, eps=1e-05, momentum=0.1, affine=True, track_running_stats=True)\n",
       "        (relu1): ReLU(inplace=True)\n",
       "        (conv1): Conv2d(832, 128, kernel_size=(1, 1), stride=(1, 1), bias=False)\n",
       "        (norm2): BatchNorm2d(128, eps=1e-05, momentum=0.1, affine=True, track_running_stats=True)\n",
       "        (relu2): ReLU(inplace=True)\n",
       "        (conv2): Conv2d(128, 32, kernel_size=(3, 3), stride=(1, 1), padding=(1, 1), bias=False)\n",
       "      )\n",
       "      (denselayer20): _DenseLayer(\n",
       "        (norm1): BatchNorm2d(864, eps=1e-05, momentum=0.1, affine=True, track_running_stats=True)\n",
       "        (relu1): ReLU(inplace=True)\n",
       "        (conv1): Conv2d(864, 128, kernel_size=(1, 1), stride=(1, 1), bias=False)\n",
       "        (norm2): BatchNorm2d(128, eps=1e-05, momentum=0.1, affine=True, track_running_stats=True)\n",
       "        (relu2): ReLU(inplace=True)\n",
       "        (conv2): Conv2d(128, 32, kernel_size=(3, 3), stride=(1, 1), padding=(1, 1), bias=False)\n",
       "      )\n",
       "      (denselayer21): _DenseLayer(\n",
       "        (norm1): BatchNorm2d(896, eps=1e-05, momentum=0.1, affine=True, track_running_stats=True)\n",
       "        (relu1): ReLU(inplace=True)\n",
       "        (conv1): Conv2d(896, 128, kernel_size=(1, 1), stride=(1, 1), bias=False)\n",
       "        (norm2): BatchNorm2d(128, eps=1e-05, momentum=0.1, affine=True, track_running_stats=True)\n",
       "        (relu2): ReLU(inplace=True)\n",
       "        (conv2): Conv2d(128, 32, kernel_size=(3, 3), stride=(1, 1), padding=(1, 1), bias=False)\n",
       "      )\n",
       "      (denselayer22): _DenseLayer(\n",
       "        (norm1): BatchNorm2d(928, eps=1e-05, momentum=0.1, affine=True, track_running_stats=True)\n",
       "        (relu1): ReLU(inplace=True)\n",
       "        (conv1): Conv2d(928, 128, kernel_size=(1, 1), stride=(1, 1), bias=False)\n",
       "        (norm2): BatchNorm2d(128, eps=1e-05, momentum=0.1, affine=True, track_running_stats=True)\n",
       "        (relu2): ReLU(inplace=True)\n",
       "        (conv2): Conv2d(128, 32, kernel_size=(3, 3), stride=(1, 1), padding=(1, 1), bias=False)\n",
       "      )\n",
       "      (denselayer23): _DenseLayer(\n",
       "        (norm1): BatchNorm2d(960, eps=1e-05, momentum=0.1, affine=True, track_running_stats=True)\n",
       "        (relu1): ReLU(inplace=True)\n",
       "        (conv1): Conv2d(960, 128, kernel_size=(1, 1), stride=(1, 1), bias=False)\n",
       "        (norm2): BatchNorm2d(128, eps=1e-05, momentum=0.1, affine=True, track_running_stats=True)\n",
       "        (relu2): ReLU(inplace=True)\n",
       "        (conv2): Conv2d(128, 32, kernel_size=(3, 3), stride=(1, 1), padding=(1, 1), bias=False)\n",
       "      )\n",
       "      (denselayer24): _DenseLayer(\n",
       "        (norm1): BatchNorm2d(992, eps=1e-05, momentum=0.1, affine=True, track_running_stats=True)\n",
       "        (relu1): ReLU(inplace=True)\n",
       "        (conv1): Conv2d(992, 128, kernel_size=(1, 1), stride=(1, 1), bias=False)\n",
       "        (norm2): BatchNorm2d(128, eps=1e-05, momentum=0.1, affine=True, track_running_stats=True)\n",
       "        (relu2): ReLU(inplace=True)\n",
       "        (conv2): Conv2d(128, 32, kernel_size=(3, 3), stride=(1, 1), padding=(1, 1), bias=False)\n",
       "      )\n",
       "    )\n",
       "    (transition3): _Transition(\n",
       "      (norm): BatchNorm2d(1024, eps=1e-05, momentum=0.1, affine=True, track_running_stats=True)\n",
       "      (relu): ReLU(inplace=True)\n",
       "      (conv): Conv2d(1024, 512, kernel_size=(1, 1), stride=(1, 1), bias=False)\n",
       "      (pool): AvgPool2d(kernel_size=2, stride=2, padding=0)\n",
       "    )\n",
       "    (denseblock4): _DenseBlock(\n",
       "      (denselayer1): _DenseLayer(\n",
       "        (norm1): BatchNorm2d(512, eps=1e-05, momentum=0.1, affine=True, track_running_stats=True)\n",
       "        (relu1): ReLU(inplace=True)\n",
       "        (conv1): Conv2d(512, 128, kernel_size=(1, 1), stride=(1, 1), bias=False)\n",
       "        (norm2): BatchNorm2d(128, eps=1e-05, momentum=0.1, affine=True, track_running_stats=True)\n",
       "        (relu2): ReLU(inplace=True)\n",
       "        (conv2): Conv2d(128, 32, kernel_size=(3, 3), stride=(1, 1), padding=(1, 1), bias=False)\n",
       "      )\n",
       "      (denselayer2): _DenseLayer(\n",
       "        (norm1): BatchNorm2d(544, eps=1e-05, momentum=0.1, affine=True, track_running_stats=True)\n",
       "        (relu1): ReLU(inplace=True)\n",
       "        (conv1): Conv2d(544, 128, kernel_size=(1, 1), stride=(1, 1), bias=False)\n",
       "        (norm2): BatchNorm2d(128, eps=1e-05, momentum=0.1, affine=True, track_running_stats=True)\n",
       "        (relu2): ReLU(inplace=True)\n",
       "        (conv2): Conv2d(128, 32, kernel_size=(3, 3), stride=(1, 1), padding=(1, 1), bias=False)\n",
       "      )\n",
       "      (denselayer3): _DenseLayer(\n",
       "        (norm1): BatchNorm2d(576, eps=1e-05, momentum=0.1, affine=True, track_running_stats=True)\n",
       "        (relu1): ReLU(inplace=True)\n",
       "        (conv1): Conv2d(576, 128, kernel_size=(1, 1), stride=(1, 1), bias=False)\n",
       "        (norm2): BatchNorm2d(128, eps=1e-05, momentum=0.1, affine=True, track_running_stats=True)\n",
       "        (relu2): ReLU(inplace=True)\n",
       "        (conv2): Conv2d(128, 32, kernel_size=(3, 3), stride=(1, 1), padding=(1, 1), bias=False)\n",
       "      )\n",
       "      (denselayer4): _DenseLayer(\n",
       "        (norm1): BatchNorm2d(608, eps=1e-05, momentum=0.1, affine=True, track_running_stats=True)\n",
       "        (relu1): ReLU(inplace=True)\n",
       "        (conv1): Conv2d(608, 128, kernel_size=(1, 1), stride=(1, 1), bias=False)\n",
       "        (norm2): BatchNorm2d(128, eps=1e-05, momentum=0.1, affine=True, track_running_stats=True)\n",
       "        (relu2): ReLU(inplace=True)\n",
       "        (conv2): Conv2d(128, 32, kernel_size=(3, 3), stride=(1, 1), padding=(1, 1), bias=False)\n",
       "      )\n",
       "      (denselayer5): _DenseLayer(\n",
       "        (norm1): BatchNorm2d(640, eps=1e-05, momentum=0.1, affine=True, track_running_stats=True)\n",
       "        (relu1): ReLU(inplace=True)\n",
       "        (conv1): Conv2d(640, 128, kernel_size=(1, 1), stride=(1, 1), bias=False)\n",
       "        (norm2): BatchNorm2d(128, eps=1e-05, momentum=0.1, affine=True, track_running_stats=True)\n",
       "        (relu2): ReLU(inplace=True)\n",
       "        (conv2): Conv2d(128, 32, kernel_size=(3, 3), stride=(1, 1), padding=(1, 1), bias=False)\n",
       "      )\n",
       "      (denselayer6): _DenseLayer(\n",
       "        (norm1): BatchNorm2d(672, eps=1e-05, momentum=0.1, affine=True, track_running_stats=True)\n",
       "        (relu1): ReLU(inplace=True)\n",
       "        (conv1): Conv2d(672, 128, kernel_size=(1, 1), stride=(1, 1), bias=False)\n",
       "        (norm2): BatchNorm2d(128, eps=1e-05, momentum=0.1, affine=True, track_running_stats=True)\n",
       "        (relu2): ReLU(inplace=True)\n",
       "        (conv2): Conv2d(128, 32, kernel_size=(3, 3), stride=(1, 1), padding=(1, 1), bias=False)\n",
       "      )\n",
       "      (denselayer7): _DenseLayer(\n",
       "        (norm1): BatchNorm2d(704, eps=1e-05, momentum=0.1, affine=True, track_running_stats=True)\n",
       "        (relu1): ReLU(inplace=True)\n",
       "        (conv1): Conv2d(704, 128, kernel_size=(1, 1), stride=(1, 1), bias=False)\n",
       "        (norm2): BatchNorm2d(128, eps=1e-05, momentum=0.1, affine=True, track_running_stats=True)\n",
       "        (relu2): ReLU(inplace=True)\n",
       "        (conv2): Conv2d(128, 32, kernel_size=(3, 3), stride=(1, 1), padding=(1, 1), bias=False)\n",
       "      )\n",
       "      (denselayer8): _DenseLayer(\n",
       "        (norm1): BatchNorm2d(736, eps=1e-05, momentum=0.1, affine=True, track_running_stats=True)\n",
       "        (relu1): ReLU(inplace=True)\n",
       "        (conv1): Conv2d(736, 128, kernel_size=(1, 1), stride=(1, 1), bias=False)\n",
       "        (norm2): BatchNorm2d(128, eps=1e-05, momentum=0.1, affine=True, track_running_stats=True)\n",
       "        (relu2): ReLU(inplace=True)\n",
       "        (conv2): Conv2d(128, 32, kernel_size=(3, 3), stride=(1, 1), padding=(1, 1), bias=False)\n",
       "      )\n",
       "      (denselayer9): _DenseLayer(\n",
       "        (norm1): BatchNorm2d(768, eps=1e-05, momentum=0.1, affine=True, track_running_stats=True)\n",
       "        (relu1): ReLU(inplace=True)\n",
       "        (conv1): Conv2d(768, 128, kernel_size=(1, 1), stride=(1, 1), bias=False)\n",
       "        (norm2): BatchNorm2d(128, eps=1e-05, momentum=0.1, affine=True, track_running_stats=True)\n",
       "        (relu2): ReLU(inplace=True)\n",
       "        (conv2): Conv2d(128, 32, kernel_size=(3, 3), stride=(1, 1), padding=(1, 1), bias=False)\n",
       "      )\n",
       "      (denselayer10): _DenseLayer(\n",
       "        (norm1): BatchNorm2d(800, eps=1e-05, momentum=0.1, affine=True, track_running_stats=True)\n",
       "        (relu1): ReLU(inplace=True)\n",
       "        (conv1): Conv2d(800, 128, kernel_size=(1, 1), stride=(1, 1), bias=False)\n",
       "        (norm2): BatchNorm2d(128, eps=1e-05, momentum=0.1, affine=True, track_running_stats=True)\n",
       "        (relu2): ReLU(inplace=True)\n",
       "        (conv2): Conv2d(128, 32, kernel_size=(3, 3), stride=(1, 1), padding=(1, 1), bias=False)\n",
       "      )\n",
       "      (denselayer11): _DenseLayer(\n",
       "        (norm1): BatchNorm2d(832, eps=1e-05, momentum=0.1, affine=True, track_running_stats=True)\n",
       "        (relu1): ReLU(inplace=True)\n",
       "        (conv1): Conv2d(832, 128, kernel_size=(1, 1), stride=(1, 1), bias=False)\n",
       "        (norm2): BatchNorm2d(128, eps=1e-05, momentum=0.1, affine=True, track_running_stats=True)\n",
       "        (relu2): ReLU(inplace=True)\n",
       "        (conv2): Conv2d(128, 32, kernel_size=(3, 3), stride=(1, 1), padding=(1, 1), bias=False)\n",
       "      )\n",
       "      (denselayer12): _DenseLayer(\n",
       "        (norm1): BatchNorm2d(864, eps=1e-05, momentum=0.1, affine=True, track_running_stats=True)\n",
       "        (relu1): ReLU(inplace=True)\n",
       "        (conv1): Conv2d(864, 128, kernel_size=(1, 1), stride=(1, 1), bias=False)\n",
       "        (norm2): BatchNorm2d(128, eps=1e-05, momentum=0.1, affine=True, track_running_stats=True)\n",
       "        (relu2): ReLU(inplace=True)\n",
       "        (conv2): Conv2d(128, 32, kernel_size=(3, 3), stride=(1, 1), padding=(1, 1), bias=False)\n",
       "      )\n",
       "      (denselayer13): _DenseLayer(\n",
       "        (norm1): BatchNorm2d(896, eps=1e-05, momentum=0.1, affine=True, track_running_stats=True)\n",
       "        (relu1): ReLU(inplace=True)\n",
       "        (conv1): Conv2d(896, 128, kernel_size=(1, 1), stride=(1, 1), bias=False)\n",
       "        (norm2): BatchNorm2d(128, eps=1e-05, momentum=0.1, affine=True, track_running_stats=True)\n",
       "        (relu2): ReLU(inplace=True)\n",
       "        (conv2): Conv2d(128, 32, kernel_size=(3, 3), stride=(1, 1), padding=(1, 1), bias=False)\n",
       "      )\n",
       "      (denselayer14): _DenseLayer(\n",
       "        (norm1): BatchNorm2d(928, eps=1e-05, momentum=0.1, affine=True, track_running_stats=True)\n",
       "        (relu1): ReLU(inplace=True)\n",
       "        (conv1): Conv2d(928, 128, kernel_size=(1, 1), stride=(1, 1), bias=False)\n",
       "        (norm2): BatchNorm2d(128, eps=1e-05, momentum=0.1, affine=True, track_running_stats=True)\n",
       "        (relu2): ReLU(inplace=True)\n",
       "        (conv2): Conv2d(128, 32, kernel_size=(3, 3), stride=(1, 1), padding=(1, 1), bias=False)\n",
       "      )\n",
       "      (denselayer15): _DenseLayer(\n",
       "        (norm1): BatchNorm2d(960, eps=1e-05, momentum=0.1, affine=True, track_running_stats=True)\n",
       "        (relu1): ReLU(inplace=True)\n",
       "        (conv1): Conv2d(960, 128, kernel_size=(1, 1), stride=(1, 1), bias=False)\n",
       "        (norm2): BatchNorm2d(128, eps=1e-05, momentum=0.1, affine=True, track_running_stats=True)\n",
       "        (relu2): ReLU(inplace=True)\n",
       "        (conv2): Conv2d(128, 32, kernel_size=(3, 3), stride=(1, 1), padding=(1, 1), bias=False)\n",
       "      )\n",
       "      (denselayer16): _DenseLayer(\n",
       "        (norm1): BatchNorm2d(992, eps=1e-05, momentum=0.1, affine=True, track_running_stats=True)\n",
       "        (relu1): ReLU(inplace=True)\n",
       "        (conv1): Conv2d(992, 128, kernel_size=(1, 1), stride=(1, 1), bias=False)\n",
       "        (norm2): BatchNorm2d(128, eps=1e-05, momentum=0.1, affine=True, track_running_stats=True)\n",
       "        (relu2): ReLU(inplace=True)\n",
       "        (conv2): Conv2d(128, 32, kernel_size=(3, 3), stride=(1, 1), padding=(1, 1), bias=False)\n",
       "      )\n",
       "    )\n",
       "    (norm5): BatchNorm2d(1024, eps=1e-05, momentum=0.1, affine=True, track_running_stats=True)\n",
       "  )\n",
       "  (classifier): Sequential(\n",
       "    (0): Linear(in_features=1024, out_features=2, bias=True)\n",
       "    (1): LogSoftmax(dim=1)\n",
       "  )\n",
       ")"
      ]
     },
     "execution_count": 15,
     "metadata": {},
     "output_type": "execute_result"
    }
   ],
   "source": [
    "\n",
    "############################\n",
    "#         Test\n",
    "############################\n",
    "test_list=[]\n",
    "test_model_path = \"fl_checkpointsdensenet121_e5_c5_r5/fl_densenet_5.pth\"\n",
    "print('Best model path:{}'.format(test_model_path))\n",
    "best_model=models.densenet121(weights=False).to(device)\n",
    "\n",
    "n_inputs = best_model.classifier.in_features\n",
    "best_model.classifier = nn.Sequential(\n",
    "              nn.Linear(n_inputs, n_classes),               \n",
    "              nn.LogSoftmax(dim=1))\n",
    "\n",
    "\n",
    "checkpoint=torch.load(test_model_path,map_location=device)   # loading best model\n",
    "best_model.load_state_dict(checkpoint['state_dict'])\n",
    "best_model.to(device)\n",
    "best_model.eval()"
   ]
  },
  {
   "cell_type": "code",
   "execution_count": 16,
   "metadata": {},
   "outputs": [],
   "source": [
    "from torch.utils.data import DataLoader\n",
    "\n",
    "# Define transform\n",
    "transform = transforms.Compose([\n",
    "    transforms.Resize((224, 224)),\n",
    "    transforms.ToTensor(),\n",
    "    transforms.Normalize(mean=[0.4762, 0.3054, 0.2368], std=[0.3345, 0.2407, 0.2164])\n",
    "])\n",
    "\n",
    "# Define test dataset and dataloader\n",
    "test_root_dir = os.path.join('Real_images_processed', 'test')\n",
    "test_dataset = datasets.ImageFolder(test_root_dir, transform=transform)\n",
    "test_loader = DataLoader(test_dataset, batch_size=1, shuffle=False)\n"
   ]
  },
  {
   "cell_type": "code",
   "execution_count": 17,
   "metadata": {},
   "outputs": [
    {
     "name": "stdout",
     "output_type": "stream",
     "text": [
      "1 Predicted class: Disease | Actual Class: Disease\n",
      "2 Predicted class: Disease | Actual Class: Disease\n",
      "3 Predicted class: Disease | Actual Class: Disease\n",
      "4 Predicted class: Disease | Actual Class: Disease\n",
      "5 Predicted class: Healthy | Actual Class: Disease\n",
      "6 Predicted class: Disease | Actual Class: Disease\n",
      "7 Predicted class: Healthy | Actual Class: Disease\n",
      "8 Predicted class: Disease | Actual Class: Disease\n",
      "9 Predicted class: Disease | Actual Class: Disease\n",
      "10 Predicted class: Disease | Actual Class: Disease\n",
      "11 Predicted class: Disease | Actual Class: Disease\n",
      "12 Predicted class: Disease | Actual Class: Disease\n",
      "13 Predicted class: Disease | Actual Class: Disease\n",
      "14 Predicted class: Disease | Actual Class: Disease\n",
      "15 Predicted class: Healthy | Actual Class: Healthy\n",
      "16 Predicted class: Healthy | Actual Class: Healthy\n",
      "17 Predicted class: Healthy | Actual Class: Healthy\n",
      "18 Predicted class: Healthy | Actual Class: Healthy\n",
      "19 Predicted class: Healthy | Actual Class: Healthy\n",
      "20 Predicted class: Disease | Actual Class: Healthy\n",
      "21 Predicted class: Disease | Actual Class: Healthy\n",
      "22 Predicted class: Disease | Actual Class: Healthy\n",
      "23 Predicted class: Healthy | Actual Class: Healthy\n",
      "24 Predicted class: Healthy | Actual Class: Healthy\n",
      "25 Predicted class: Disease | Actual Class: Healthy\n",
      "26 Predicted class: Healthy | Actual Class: Healthy\n",
      "27 Predicted class: Healthy | Actual Class: Healthy\n",
      "28 Predicted class: Healthy | Actual Class: Healthy\n",
      "29 Predicted class: Healthy | Actual Class: Healthy\n",
      "30 Predicted class: Healthy | Actual Class: Healthy\n",
      "Overall test accuracy: 80.00%\n"
     ]
    }
   ],
   "source": [
    "# Org test images: 111.jpg, 119.jpg\n",
    "# Other org: 662.jpg, 841.jpg, 731.jpg\n",
    "correct, total, loss = 0, 0, 0.0\n",
    "count = 1\n",
    "class_labels = ['Disease', 'Healthy']\n",
    "with torch.no_grad():\n",
    "    for images, labels in test_loader:\n",
    "        images, labels = images.to(device), labels.to(device)\n",
    "        outputs = best_model(images)\n",
    "        _, predicted = torch.max(outputs.data, 1)\n",
    "        total += labels.size(0)\n",
    "        correct += (predicted == labels).sum().item()\n",
    "        print(f\"{count} Predicted class: {class_labels[predicted.item()]} | Actual Class: {class_labels[labels]}\")\n",
    "        count += 1\n",
    "accuracy = correct / total\n",
    "print(f'Overall test accuracy: {accuracy * 100:.2f}%')"
   ]
  },
  {
   "cell_type": "code",
   "execution_count": null,
   "metadata": {},
   "outputs": [],
   "source": []
  },
  {
   "cell_type": "code",
   "execution_count": null,
   "metadata": {},
   "outputs": [],
   "source": []
  },
  {
   "cell_type": "code",
   "execution_count": null,
   "metadata": {},
   "outputs": [],
   "source": []
  },
  {
   "cell_type": "code",
   "execution_count": null,
   "metadata": {},
   "outputs": [],
   "source": [
    "\n"
   ]
  }
 ],
 "metadata": {
  "kernelspec": {
   "display_name": "Python 3 (ipykernel)",
   "language": "python",
   "name": "python3"
  },
  "language_info": {
   "codemirror_mode": {
    "name": "ipython",
    "version": 3
   },
   "file_extension": ".py",
   "mimetype": "text/x-python",
   "name": "python",
   "nbconvert_exporter": "python",
   "pygments_lexer": "ipython3",
   "version": "3.11.9"
  }
 },
 "nbformat": 4,
 "nbformat_minor": 4
}
