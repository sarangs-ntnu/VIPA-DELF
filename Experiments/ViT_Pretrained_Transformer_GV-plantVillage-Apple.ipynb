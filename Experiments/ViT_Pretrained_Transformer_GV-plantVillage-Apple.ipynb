{
 "cells": [
  {
   "cell_type": "code",
   "execution_count": 8,
   "id": "a355f088",
   "metadata": {},
   "outputs": [
    {
     "name": "stdout",
     "output_type": "stream",
     "text": [
      "Requirement already satisfied: vit-pytorch in /home/sarangs/D1/chameleon_venv/lib/python3.11/site-packages (1.6.5)\n",
      "Requirement already satisfied: einops>=0.7.0 in /home/sarangs/D1/chameleon_venv/lib/python3.11/site-packages (from vit-pytorch) (0.7.0)\n",
      "Requirement already satisfied: torch>=1.10 in /home/sarangs/D1/chameleon_venv/lib/python3.11/site-packages (from vit-pytorch) (2.0.1)\n",
      "Requirement already satisfied: torchvision in /home/sarangs/D1/chameleon_venv/lib/python3.11/site-packages (from vit-pytorch) (0.15.2)\n",
      "Requirement already satisfied: filelock in /home/sarangs/D1/chameleon_venv/lib/python3.11/site-packages (from torch>=1.10->vit-pytorch) (3.13.1)\n",
      "Requirement already satisfied: typing-extensions in /home/sarangs/D1/chameleon_venv/lib/python3.11/site-packages (from torch>=1.10->vit-pytorch) (4.10.0)\n",
      "Requirement already satisfied: sympy in /home/sarangs/D1/chameleon_venv/lib/python3.11/site-packages (from torch>=1.10->vit-pytorch) (1.12)\n",
      "Requirement already satisfied: networkx in /home/sarangs/D1/chameleon_venv/lib/python3.11/site-packages (from torch>=1.10->vit-pytorch) (3.2.1)\n",
      "Requirement already satisfied: jinja2 in /home/sarangs/D1/chameleon_venv/lib/python3.11/site-packages (from torch>=1.10->vit-pytorch) (3.1.3)\n",
      "Requirement already satisfied: nvidia-cuda-nvrtc-cu11==11.7.99 in /home/sarangs/D1/chameleon_venv/lib/python3.11/site-packages (from torch>=1.10->vit-pytorch) (11.7.99)\n",
      "Requirement already satisfied: nvidia-cuda-runtime-cu11==11.7.99 in /home/sarangs/D1/chameleon_venv/lib/python3.11/site-packages (from torch>=1.10->vit-pytorch) (11.7.99)\n",
      "Requirement already satisfied: nvidia-cuda-cupti-cu11==11.7.101 in /home/sarangs/D1/chameleon_venv/lib/python3.11/site-packages (from torch>=1.10->vit-pytorch) (11.7.101)\n",
      "Requirement already satisfied: nvidia-cudnn-cu11==8.5.0.96 in /home/sarangs/D1/chameleon_venv/lib/python3.11/site-packages (from torch>=1.10->vit-pytorch) (8.5.0.96)\n",
      "Requirement already satisfied: nvidia-cublas-cu11==11.10.3.66 in /home/sarangs/D1/chameleon_venv/lib/python3.11/site-packages (from torch>=1.10->vit-pytorch) (11.10.3.66)\n",
      "Requirement already satisfied: nvidia-cufft-cu11==10.9.0.58 in /home/sarangs/D1/chameleon_venv/lib/python3.11/site-packages (from torch>=1.10->vit-pytorch) (10.9.0.58)\n",
      "Requirement already satisfied: nvidia-curand-cu11==10.2.10.91 in /home/sarangs/D1/chameleon_venv/lib/python3.11/site-packages (from torch>=1.10->vit-pytorch) (10.2.10.91)\n",
      "Requirement already satisfied: nvidia-cusolver-cu11==11.4.0.1 in /home/sarangs/D1/chameleon_venv/lib/python3.11/site-packages (from torch>=1.10->vit-pytorch) (11.4.0.1)\n",
      "Requirement already satisfied: nvidia-cusparse-cu11==11.7.4.91 in /home/sarangs/D1/chameleon_venv/lib/python3.11/site-packages (from torch>=1.10->vit-pytorch) (11.7.4.91)\n",
      "Requirement already satisfied: nvidia-nccl-cu11==2.14.3 in /home/sarangs/D1/chameleon_venv/lib/python3.11/site-packages (from torch>=1.10->vit-pytorch) (2.14.3)\n",
      "Requirement already satisfied: nvidia-nvtx-cu11==11.7.91 in /home/sarangs/D1/chameleon_venv/lib/python3.11/site-packages (from torch>=1.10->vit-pytorch) (11.7.91)\n",
      "Requirement already satisfied: triton==2.0.0 in /home/sarangs/D1/chameleon_venv/lib/python3.11/site-packages (from torch>=1.10->vit-pytorch) (2.0.0)\n",
      "Requirement already satisfied: setuptools in /home/sarangs/D1/chameleon_venv/lib/python3.11/site-packages (from nvidia-cublas-cu11==11.10.3.66->torch>=1.10->vit-pytorch) (65.5.0)\n",
      "Requirement already satisfied: wheel in /home/sarangs/D1/chameleon_venv/lib/python3.11/site-packages (from nvidia-cublas-cu11==11.10.3.66->torch>=1.10->vit-pytorch) (0.42.0)\n",
      "Requirement already satisfied: cmake in /home/sarangs/D1/chameleon_venv/lib/python3.11/site-packages (from triton==2.0.0->torch>=1.10->vit-pytorch) (3.28.3)\n",
      "Requirement already satisfied: lit in /home/sarangs/D1/chameleon_venv/lib/python3.11/site-packages (from triton==2.0.0->torch>=1.10->vit-pytorch) (17.0.6)\n",
      "Requirement already satisfied: numpy in /home/sarangs/D1/chameleon_venv/lib/python3.11/site-packages (from torchvision->vit-pytorch) (1.23.5)\n",
      "Requirement already satisfied: requests in /home/sarangs/D1/chameleon_venv/lib/python3.11/site-packages (from torchvision->vit-pytorch) (2.31.0)\n",
      "Requirement already satisfied: pillow!=8.3.*,>=5.3.0 in /home/sarangs/D1/chameleon_venv/lib/python3.11/site-packages (from torchvision->vit-pytorch) (9.5.0)\n",
      "Requirement already satisfied: MarkupSafe>=2.0 in /home/sarangs/D1/chameleon_venv/lib/python3.11/site-packages (from jinja2->torch>=1.10->vit-pytorch) (2.1.5)\n",
      "Requirement already satisfied: charset-normalizer<4,>=2 in /home/sarangs/D1/chameleon_venv/lib/python3.11/site-packages (from requests->torchvision->vit-pytorch) (3.3.2)\n",
      "Requirement already satisfied: idna<4,>=2.5 in /home/sarangs/D1/chameleon_venv/lib/python3.11/site-packages (from requests->torchvision->vit-pytorch) (3.6)\n",
      "Requirement already satisfied: urllib3<3,>=1.21.1 in /home/sarangs/D1/chameleon_venv/lib/python3.11/site-packages (from requests->torchvision->vit-pytorch) (2.2.1)\n",
      "Requirement already satisfied: certifi>=2017.4.17 in /home/sarangs/D1/chameleon_venv/lib/python3.11/site-packages (from requests->torchvision->vit-pytorch) (2024.2.2)\n",
      "Requirement already satisfied: mpmath>=0.19 in /home/sarangs/D1/chameleon_venv/lib/python3.11/site-packages (from sympy->torch>=1.10->vit-pytorch) (1.3.0)\n",
      "Requirement already satisfied: seaborn in /home/sarangs/D1/chameleon_venv/lib/python3.11/site-packages (0.12.2)\n",
      "Requirement already satisfied: numpy!=1.24.0,>=1.17 in /home/sarangs/D1/chameleon_venv/lib/python3.11/site-packages (from seaborn) (1.23.5)\n",
      "Requirement already satisfied: pandas>=0.25 in /home/sarangs/D1/chameleon_venv/lib/python3.11/site-packages (from seaborn) (2.2.1)\n",
      "Requirement already satisfied: matplotlib!=3.6.1,>=3.1 in /home/sarangs/D1/chameleon_venv/lib/python3.11/site-packages (from seaborn) (3.8.3)\n",
      "Requirement already satisfied: contourpy>=1.0.1 in /home/sarangs/D1/chameleon_venv/lib/python3.11/site-packages (from matplotlib!=3.6.1,>=3.1->seaborn) (1.2.0)\n",
      "Requirement already satisfied: cycler>=0.10 in /home/sarangs/D1/chameleon_venv/lib/python3.11/site-packages (from matplotlib!=3.6.1,>=3.1->seaborn) (0.12.1)\n",
      "Requirement already satisfied: fonttools>=4.22.0 in /home/sarangs/D1/chameleon_venv/lib/python3.11/site-packages (from matplotlib!=3.6.1,>=3.1->seaborn) (4.49.0)\n",
      "Requirement already satisfied: kiwisolver>=1.3.1 in /home/sarangs/D1/chameleon_venv/lib/python3.11/site-packages (from matplotlib!=3.6.1,>=3.1->seaborn) (1.4.5)\n",
      "Requirement already satisfied: packaging>=20.0 in /home/sarangs/D1/chameleon_venv/lib/python3.11/site-packages (from matplotlib!=3.6.1,>=3.1->seaborn) (23.2)\n",
      "Requirement already satisfied: pillow>=8 in /home/sarangs/D1/chameleon_venv/lib/python3.11/site-packages (from matplotlib!=3.6.1,>=3.1->seaborn) (9.5.0)\n",
      "Requirement already satisfied: pyparsing>=2.3.1 in /home/sarangs/D1/chameleon_venv/lib/python3.11/site-packages (from matplotlib!=3.6.1,>=3.1->seaborn) (3.1.2)\n",
      "Requirement already satisfied: python-dateutil>=2.7 in /home/sarangs/D1/chameleon_venv/lib/python3.11/site-packages (from matplotlib!=3.6.1,>=3.1->seaborn) (2.9.0.post0)\n",
      "Requirement already satisfied: pytz>=2020.1 in /home/sarangs/D1/chameleon_venv/lib/python3.11/site-packages (from pandas>=0.25->seaborn) (2024.1)\n",
      "Requirement already satisfied: tzdata>=2022.7 in /home/sarangs/D1/chameleon_venv/lib/python3.11/site-packages (from pandas>=0.25->seaborn) (2024.1)\n",
      "Requirement already satisfied: six>=1.5 in /home/sarangs/D1/chameleon_venv/lib/python3.11/site-packages (from python-dateutil>=2.7->matplotlib!=3.6.1,>=3.1->seaborn) (1.16.0)\n"
     ]
    }
   ],
   "source": [
    "import torch\n",
    "import torch.nn as nn\n",
    "import torch.optim as optim\n",
    "from torch.utils.data import DataLoader, random_split\n",
    "from torchvision.datasets import ImageFolder\n",
    "import torchvision.transforms as transforms\n",
    "!pip install vit-pytorch\n",
    "from vit_pytorch import ViT\n",
    "from tqdm import tqdm  # Import tqdm\n",
    "from sklearn.metrics import confusion_matrix, accuracy_score, classification_report\n",
    "import numpy as np\n",
    "!pip install seaborn\n",
    "import seaborn as sns\n",
    "import matplotlib.pyplot as plt"
   ]
  },
  {
   "cell_type": "code",
   "execution_count": 9,
   "id": "2890be68",
   "metadata": {},
   "outputs": [],
   "source": [
    "train_root_dir=\"/global/D1/plantVillageApple_processed/train\"\n",
    "val_root_dir=\"/global/D1/plantVillageApple_processed/validation\"\n",
    "test_root_dir=\"/global/D1/plantVillageApple_processed/test\""
   ]
  },
  {
   "cell_type": "code",
   "execution_count": 10,
   "id": "bc656724",
   "metadata": {},
   "outputs": [],
   "source": [
    "# Define the hyperparameters\n",
    "batch_size = 32\n",
    "learning_rate = 1e-4\n",
    "num_epochs = 60"
   ]
  },
  {
   "cell_type": "code",
   "execution_count": 11,
   "id": "a5f2f4d5",
   "metadata": {},
   "outputs": [],
   "source": [
    "####################################\n",
    "# Training\n",
    "####################################\n",
    "\n",
    "trans={\n",
    "    # Train uses data augmentation\n",
    "    'train':\n",
    "    transforms.Compose([\n",
    "        transforms.Resize((224, 224)),\n",
    "        transforms.RandomRotation(degrees=15),\n",
    "        transforms.RandomHorizontalFlip(),\n",
    "        transforms.ToTensor(),\n",
    "        transforms.Normalize([0.4762, 0.3054, 0.2368],\n",
    "                             [0.3345, 0.2407, 0.2164])\n",
    "    ]),\n",
    "    # Validation does not use augmentation\n",
    "    'valid':\n",
    "    transforms.Compose([\n",
    "        transforms.Resize((224,224)),\n",
    "        transforms.ToTensor(),\n",
    "        transforms.Normalize([0.4762, 0.3054, 0.2368],\n",
    "                             [0.3345, 0.2407, 0.2164])\n",
    "    ]),\n",
    "    \n",
    "    # Test does not use augmentation\n",
    "    'test':\n",
    "    transforms.Compose([\n",
    "        transforms.Resize((224,224)),\n",
    "        transforms.ToTensor(),\n",
    "        transforms.Normalize([0.4762, 0.3054, 0.2368],\n",
    "                             [0.3345, 0.2407, 0.2164])\n",
    "    ]),\n",
    "}"
   ]
  },
  {
   "cell_type": "code",
   "execution_count": 12,
   "id": "426ee994",
   "metadata": {},
   "outputs": [
    {
     "name": "stdout",
     "output_type": "stream",
     "text": [
      "Number of Training set images:1903\n",
      "Number of Validation set images:3171\n",
      "Number of Test set images:793\n"
     ]
    }
   ],
   "source": [
    "#Generators\n",
    "training_dataset = ImageFolder(train_root_dir,transform=trans['train'])\n",
    "validation_dataset = ImageFolder(val_root_dir,transform=trans['valid'])\n",
    "test_dataset = ImageFolder(test_root_dir,transform=trans['test'])\n",
    "\n",
    "train_dataloader = DataLoader(training_dataset,batch_size,shuffle=True) # ** unpacks a dictionary into keyword arguments\n",
    "val_dataloader = DataLoader(validation_dataset,batch_size)\n",
    "test_dataloader = DataLoader(test_dataset,batch_size)\n",
    "\n",
    "print('Number of Training set images:{}'.format(len(training_dataset)))\n",
    "print('Number of Validation set images:{}'.format(len(validation_dataset)))\n",
    "print('Number of Test set images:{}'.format(len(test_dataset)))"
   ]
  },
  {
   "cell_type": "code",
   "execution_count": 13,
   "id": "2748a2cd",
   "metadata": {},
   "outputs": [
    {
     "name": "stdout",
     "output_type": "stream",
     "text": [
      "Device:  cuda\n"
     ]
    },
    {
     "data": {
      "text/plain": [
       "ViT(\n",
       "  (to_patch_embedding): Sequential(\n",
       "    (0): Rearrange('b c (h p1) (w p2) -> b (h w) (p1 p2 c)', p1=32, p2=32)\n",
       "    (1): LayerNorm((3072,), eps=1e-05, elementwise_affine=True)\n",
       "    (2): Linear(in_features=3072, out_features=768, bias=True)\n",
       "    (3): LayerNorm((768,), eps=1e-05, elementwise_affine=True)\n",
       "  )\n",
       "  (dropout): Dropout(p=0.0, inplace=False)\n",
       "  (transformer): Transformer(\n",
       "    (norm): LayerNorm((768,), eps=1e-05, elementwise_affine=True)\n",
       "    (layers): ModuleList(\n",
       "      (0-11): 12 x ModuleList(\n",
       "        (0): Attention(\n",
       "          (norm): LayerNorm((768,), eps=1e-05, elementwise_affine=True)\n",
       "          (attend): Softmax(dim=-1)\n",
       "          (dropout): Dropout(p=0.1, inplace=False)\n",
       "          (to_qkv): Linear(in_features=768, out_features=2304, bias=False)\n",
       "          (to_out): Sequential(\n",
       "            (0): Linear(in_features=768, out_features=768, bias=True)\n",
       "            (1): Dropout(p=0.1, inplace=False)\n",
       "          )\n",
       "        )\n",
       "        (1): FeedForward(\n",
       "          (net): Sequential(\n",
       "            (0): LayerNorm((768,), eps=1e-05, elementwise_affine=True)\n",
       "            (1): Linear(in_features=768, out_features=3072, bias=True)\n",
       "            (2): GELU(approximate='none')\n",
       "            (3): Dropout(p=0.1, inplace=False)\n",
       "            (4): Linear(in_features=3072, out_features=768, bias=True)\n",
       "            (5): Dropout(p=0.1, inplace=False)\n",
       "          )\n",
       "        )\n",
       "      )\n",
       "    )\n",
       "  )\n",
       "  (to_latent): Identity()\n",
       "  (mlp_head): Linear(in_features=768, out_features=4, bias=True)\n",
       ")"
      ]
     },
     "execution_count": 13,
     "metadata": {},
     "output_type": "execute_result"
    }
   ],
   "source": [
    "# Initialize the Vision Transformer model\n",
    "model = ViT(\n",
    "    image_size=224,\n",
    "    patch_size=32,\n",
    "    num_classes=len(training_dataset.classes),\n",
    "    dim=768,  # Dimension of the model\n",
    "    depth=12,  # Number of transformer layers\n",
    "    heads=12,  # Number of attention heads\n",
    "    mlp_dim=3072,  # Dimension of the MLP layers\n",
    "    dropout=0.1\n",
    ")\n",
    "\n",
    "# Define the loss function and optimizer\n",
    "criterion = nn.CrossEntropyLoss()\n",
    "optimizer = optim.Adam(model.parameters(), lr=learning_rate)\n",
    "\n",
    "# Set the device to use (CPU or GPU)\n",
    "device = torch.device('cuda' if torch.cuda.is_available() else 'mps' if torch.backends.mps.is_available() else 'cpu')\n",
    "print(\"Device: \", device)\n",
    "model.to(device)"
   ]
  },
  {
   "cell_type": "markdown",
   "id": "24600943",
   "metadata": {},
   "source": [
    "## Training"
   ]
  },
  {
   "cell_type": "code",
   "execution_count": 14,
   "id": "a6f95172",
   "metadata": {
    "scrolled": true
   },
   "outputs": [
    {
     "name": "stderr",
     "output_type": "stream",
     "text": [
      "Epoch 1/60: 100%|███████████████████████| 60/60 [13:37<00:00, 13.62s/batch, loss=1.38]\n"
     ]
    },
    {
     "name": "stdout",
     "output_type": "stream",
     "text": [
      "Training - Epoch 1/60, Loss: 1.382939566175143\n",
      "Validation - Epoch 1/60, Loss: 0.9107335421815514\n",
      "Validation - Epoch 1/60, Accuracy: 64.33%\n"
     ]
    },
    {
     "name": "stderr",
     "output_type": "stream",
     "text": [
      "Epoch 2/60: 100%|██████████████████████| 60/60 [16:47<00:00, 16.79s/batch, loss=0.801]\n"
     ]
    },
    {
     "name": "stdout",
     "output_type": "stream",
     "text": [
      "Training - Epoch 2/60, Loss: 0.8008904784917832\n",
      "Validation - Epoch 2/60, Loss: 0.6387656521052122\n",
      "Validation - Epoch 2/60, Accuracy: 74.61%\n"
     ]
    },
    {
     "name": "stderr",
     "output_type": "stream",
     "text": [
      "Epoch 3/60: 100%|██████████████████████| 60/60 [17:50<00:00, 17.84s/batch, loss=0.546]\n"
     ]
    },
    {
     "name": "stdout",
     "output_type": "stream",
     "text": [
      "Training - Epoch 3/60, Loss: 0.5458389823635419\n",
      "Validation - Epoch 3/60, Loss: 0.478166074231267\n",
      "Validation - Epoch 3/60, Accuracy: 83.03%\n"
     ]
    },
    {
     "name": "stderr",
     "output_type": "stream",
     "text": [
      "Epoch 4/60: 100%|██████████████████████| 60/60 [17:54<00:00, 17.90s/batch, loss=0.399]\n"
     ]
    },
    {
     "name": "stdout",
     "output_type": "stream",
     "text": [
      "Training - Epoch 4/60, Loss: 0.39882722149292626\n",
      "Validation - Epoch 4/60, Loss: 0.37335292212665083\n",
      "Validation - Epoch 4/60, Accuracy: 87.04%\n"
     ]
    },
    {
     "name": "stderr",
     "output_type": "stream",
     "text": [
      "Epoch 5/60: 100%|█████████████████████████| 60/60 [16:19<00:00, 16.33s/batch, loss=0.365]\n"
     ]
    },
    {
     "name": "stdout",
     "output_type": "stream",
     "text": [
      "Training - Epoch 5/60, Loss: 0.364991720020771\n",
      "Validation - Epoch 5/60, Loss: 0.2963186762109399\n",
      "Validation - Epoch 5/60, Accuracy: 89.50%\n"
     ]
    },
    {
     "name": "stderr",
     "output_type": "stream",
     "text": [
      "Epoch 6/60: 100%|█████████████████████████| 60/60 [18:13<00:00, 18.22s/batch, loss=0.294]\n"
     ]
    },
    {
     "name": "stdout",
     "output_type": "stream",
     "text": [
      "Training - Epoch 6/60, Loss: 0.29425810699661575\n",
      "Validation - Epoch 6/60, Loss: 0.2999969732016325\n",
      "Validation - Epoch 6/60, Accuracy: 89.75%\n"
     ]
    },
    {
     "name": "stderr",
     "output_type": "stream",
     "text": [
      "Epoch 7/60: 100%|█████████████████████████| 60/60 [15:45<00:00, 15.76s/batch, loss=0.306]\n"
     ]
    },
    {
     "name": "stdout",
     "output_type": "stream",
     "text": [
      "Training - Epoch 7/60, Loss: 0.30553786307573316\n",
      "Validation - Epoch 7/60, Loss: 0.2900970614794642\n",
      "Validation - Epoch 7/60, Accuracy: 88.74%\n"
     ]
    },
    {
     "name": "stderr",
     "output_type": "stream",
     "text": [
      "Epoch 8/60: 100%|█████████████████████████| 60/60 [15:38<00:00, 15.64s/batch, loss=0.265]\n"
     ]
    },
    {
     "name": "stdout",
     "output_type": "stream",
     "text": [
      "Training - Epoch 8/60, Loss: 0.2646450021614631\n",
      "Validation - Epoch 8/60, Loss: 0.23233211692422628\n",
      "Validation - Epoch 8/60, Accuracy: 91.71%\n"
     ]
    },
    {
     "name": "stderr",
     "output_type": "stream",
     "text": [
      "Epoch 9/60: 100%|█████████████████████████| 60/60 [15:42<00:00, 15.71s/batch, loss=0.245]\n"
     ]
    },
    {
     "name": "stdout",
     "output_type": "stream",
     "text": [
      "Training - Epoch 9/60, Loss: 0.24507249382634957\n",
      "Validation - Epoch 9/60, Loss: 0.222999631986022\n",
      "Validation - Epoch 9/60, Accuracy: 91.99%\n"
     ]
    },
    {
     "name": "stderr",
     "output_type": "stream",
     "text": [
      "Epoch 10/60: 100%|████████████████████████| 60/60 [15:42<00:00, 15.70s/batch, loss=0.258]\n"
     ]
    },
    {
     "name": "stdout",
     "output_type": "stream",
     "text": [
      "Training - Epoch 10/60, Loss: 0.2583152890826265\n",
      "Validation - Epoch 10/60, Loss: 0.2440367170982063\n",
      "Validation - Epoch 10/60, Accuracy: 90.48%\n"
     ]
    },
    {
     "name": "stderr",
     "output_type": "stream",
     "text": [
      "Epoch 11/60: 100%|████████████████████████| 60/60 [15:43<00:00, 15.73s/batch, loss=0.226]\n"
     ]
    },
    {
     "name": "stdout",
     "output_type": "stream",
     "text": [
      "Training - Epoch 11/60, Loss: 0.22576256655156612\n",
      "Validation - Epoch 11/60, Loss: 0.7095500907115638\n",
      "Validation - Epoch 11/60, Accuracy: 77.20%\n"
     ]
    },
    {
     "name": "stderr",
     "output_type": "stream",
     "text": [
      "Epoch 12/60: 100%|████████████████████████| 60/60 [15:40<00:00, 15.68s/batch, loss=0.255]\n"
     ]
    },
    {
     "name": "stdout",
     "output_type": "stream",
     "text": [
      "Training - Epoch 12/60, Loss: 0.2554049098243316\n",
      "Validation - Epoch 12/60, Loss: 0.19345761094242334\n",
      "Validation - Epoch 12/60, Accuracy: 93.09%\n"
     ]
    },
    {
     "name": "stderr",
     "output_type": "stream",
     "text": [
      "Epoch 13/60: 100%|████████████████████████| 60/60 [15:45<00:00, 15.76s/batch, loss=0.207]\n"
     ]
    },
    {
     "name": "stdout",
     "output_type": "stream",
     "text": [
      "Training - Epoch 13/60, Loss: 0.20731348631282648\n",
      "Validation - Epoch 13/60, Loss: 0.18357355856336655\n",
      "Validation - Epoch 13/60, Accuracy: 93.41%\n"
     ]
    },
    {
     "name": "stderr",
     "output_type": "stream",
     "text": [
      "Epoch 14/60: 100%|████████████████████████| 60/60 [16:14<00:00, 16.24s/batch, loss=0.189]\n"
     ]
    },
    {
     "name": "stdout",
     "output_type": "stream",
     "text": [
      "Training - Epoch 14/60, Loss: 0.1885184393885235\n",
      "Validation - Epoch 14/60, Loss: 0.19557140354881994\n",
      "Validation - Epoch 14/60, Accuracy: 93.31%\n"
     ]
    },
    {
     "name": "stderr",
     "output_type": "stream",
     "text": [
      "Epoch 15/60: 100%|████████████████████████| 60/60 [16:31<00:00, 16.52s/batch, loss=0.208]\n"
     ]
    },
    {
     "name": "stdout",
     "output_type": "stream",
     "text": [
      "Training - Epoch 15/60, Loss: 0.20840247040614485\n",
      "Validation - Epoch 15/60, Loss: 0.2306197471357882\n",
      "Validation - Epoch 15/60, Accuracy: 91.74%\n"
     ]
    },
    {
     "name": "stderr",
     "output_type": "stream",
     "text": [
      "Epoch 16/60: 100%|████████████████████████| 60/60 [16:33<00:00, 16.55s/batch, loss=0.179]\n"
     ]
    },
    {
     "name": "stdout",
     "output_type": "stream",
     "text": [
      "Training - Epoch 16/60, Loss: 0.17944801589474083\n",
      "Validation - Epoch 16/60, Loss: 0.17252366199623792\n",
      "Validation - Epoch 16/60, Accuracy: 94.13%\n"
     ]
    },
    {
     "name": "stderr",
     "output_type": "stream",
     "text": [
      "Epoch 17/60: 100%|████████████████████████| 60/60 [16:13<00:00, 16.22s/batch, loss=0.203]\n"
     ]
    },
    {
     "name": "stdout",
     "output_type": "stream",
     "text": [
      "Training - Epoch 17/60, Loss: 0.20255898895363014\n",
      "Validation - Epoch 17/60, Loss: 0.18329306109109894\n",
      "Validation - Epoch 17/60, Accuracy: 92.81%\n"
     ]
    },
    {
     "name": "stderr",
     "output_type": "stream",
     "text": [
      "Epoch 18/60: 100%|████████████████████████| 60/60 [12:08<00:00, 12.15s/batch, loss=0.186]\n"
     ]
    },
    {
     "name": "stdout",
     "output_type": "stream",
     "text": [
      "Training - Epoch 18/60, Loss: 0.18598620466267068\n",
      "Validation - Epoch 18/60, Loss: 0.16873112096451223\n",
      "Validation - Epoch 18/60, Accuracy: 94.01%\n"
     ]
    },
    {
     "name": "stderr",
     "output_type": "stream",
     "text": [
      "Epoch 19/60: 100%|████████████████████████| 60/60 [09:10<00:00,  9.17s/batch, loss=0.159]\n"
     ]
    },
    {
     "name": "stdout",
     "output_type": "stream",
     "text": [
      "Training - Epoch 19/60, Loss: 0.1589553533277164\n",
      "Validation - Epoch 19/60, Loss: 0.24469243144616484\n",
      "Validation - Epoch 19/60, Accuracy: 91.23%\n"
     ]
    },
    {
     "name": "stderr",
     "output_type": "stream",
     "text": [
      "Epoch 20/60: 100%|████████████████████████| 60/60 [09:16<00:00,  9.27s/batch, loss=0.182]\n"
     ]
    },
    {
     "name": "stdout",
     "output_type": "stream",
     "text": [
      "Training - Epoch 20/60, Loss: 0.18172103815401594\n",
      "Validation - Epoch 20/60, Loss: 0.3025991372857243\n",
      "Validation - Epoch 20/60, Accuracy: 89.21%\n"
     ]
    },
    {
     "name": "stderr",
     "output_type": "stream",
     "text": [
      "Epoch 21/60: 100%|████████████████████████| 60/60 [09:17<00:00,  9.30s/batch, loss=0.199]\n"
     ]
    },
    {
     "name": "stdout",
     "output_type": "stream",
     "text": [
      "Training - Epoch 21/60, Loss: 0.19864889873812597\n",
      "Validation - Epoch 21/60, Loss: 0.19531876895576716\n",
      "Validation - Epoch 21/60, Accuracy: 93.25%\n"
     ]
    },
    {
     "name": "stderr",
     "output_type": "stream",
     "text": [
      "Epoch 22/60: 100%|█████████████████████████| 60/60 [09:14<00:00,  9.25s/batch, loss=0.14]\n"
     ]
    },
    {
     "name": "stdout",
     "output_type": "stream",
     "text": [
      "Training - Epoch 22/60, Loss: 0.1395308778466036\n",
      "Validation - Epoch 22/60, Loss: 0.17440098386257888\n",
      "Validation - Epoch 22/60, Accuracy: 93.85%\n"
     ]
    },
    {
     "name": "stderr",
     "output_type": "stream",
     "text": [
      "Epoch 23/60: 100%|████████████████████████| 60/60 [05:48<00:00,  5.80s/batch, loss=0.149]\n"
     ]
    },
    {
     "name": "stdout",
     "output_type": "stream",
     "text": [
      "Training - Epoch 23/60, Loss: 0.14923252469549578\n",
      "Validation - Epoch 23/60, Loss: 0.17291692435974254\n",
      "Validation - Epoch 23/60, Accuracy: 93.63%\n"
     ]
    },
    {
     "name": "stderr",
     "output_type": "stream",
     "text": [
      "Epoch 24/60: 100%|████████████████████████| 60/60 [02:26<00:00,  2.44s/batch, loss=0.128]\n"
     ]
    },
    {
     "name": "stdout",
     "output_type": "stream",
     "text": [
      "Training - Epoch 24/60, Loss: 0.1284627354082962\n",
      "Validation - Epoch 24/60, Loss: 0.22565632121637463\n",
      "Validation - Epoch 24/60, Accuracy: 91.99%\n"
     ]
    },
    {
     "name": "stderr",
     "output_type": "stream",
     "text": [
      "Epoch 25/60: 100%|████████████████████████| 60/60 [02:12<00:00,  2.21s/batch, loss=0.145]\n"
     ]
    },
    {
     "name": "stdout",
     "output_type": "stream",
     "text": [
      "Training - Epoch 25/60, Loss: 0.1447649651672691\n",
      "Validation - Epoch 25/60, Loss: 0.24127654317067937\n",
      "Validation - Epoch 25/60, Accuracy: 91.80%\n"
     ]
    },
    {
     "name": "stderr",
     "output_type": "stream",
     "text": [
      "Epoch 26/60: 100%|████████████████████████| 60/60 [02:30<00:00,  2.51s/batch, loss=0.142]\n"
     ]
    },
    {
     "name": "stdout",
     "output_type": "stream",
     "text": [
      "Training - Epoch 26/60, Loss: 0.14160395137344797\n",
      "Validation - Epoch 26/60, Loss: 0.17549437899142503\n",
      "Validation - Epoch 26/60, Accuracy: 93.60%\n"
     ]
    },
    {
     "name": "stderr",
     "output_type": "stream",
     "text": [
      "Epoch 27/60: 100%|█████████████████████████| 60/60 [02:27<00:00,  2.45s/batch, loss=0.15]\n"
     ]
    },
    {
     "name": "stdout",
     "output_type": "stream",
     "text": [
      "Training - Epoch 27/60, Loss: 0.1504098660312593\n",
      "Validation - Epoch 27/60, Loss: 0.17178092072252185\n",
      "Validation - Epoch 27/60, Accuracy: 94.04%\n"
     ]
    },
    {
     "name": "stderr",
     "output_type": "stream",
     "text": [
      "Epoch 28/60: 100%|████████████████████████| 60/60 [02:19<00:00,  2.32s/batch, loss=0.174]\n"
     ]
    },
    {
     "name": "stdout",
     "output_type": "stream",
     "text": [
      "Training - Epoch 28/60, Loss: 0.17398335154478747\n",
      "Validation - Epoch 28/60, Loss: 0.1515785887162201\n",
      "Validation - Epoch 28/60, Accuracy: 94.58%\n"
     ]
    },
    {
     "name": "stderr",
     "output_type": "stream",
     "text": [
      "Epoch 29/60: 100%|████████████████████████| 60/60 [02:16<00:00,  2.27s/batch, loss=0.141]\n"
     ]
    },
    {
     "name": "stdout",
     "output_type": "stream",
     "text": [
      "Training - Epoch 29/60, Loss: 0.14113491281556587\n",
      "Validation - Epoch 29/60, Loss: 0.207041537957266\n",
      "Validation - Epoch 29/60, Accuracy: 92.59%\n"
     ]
    },
    {
     "name": "stderr",
     "output_type": "stream",
     "text": [
      "Epoch 30/60: 100%|█████████████████████████| 60/60 [02:30<00:00,  2.51s/batch, loss=0.12]\n"
     ]
    },
    {
     "name": "stdout",
     "output_type": "stream",
     "text": [
      "Training - Epoch 30/60, Loss: 0.12004335628201564\n",
      "Validation - Epoch 30/60, Loss: 0.16904089689836838\n",
      "Validation - Epoch 30/60, Accuracy: 94.07%\n"
     ]
    },
    {
     "name": "stderr",
     "output_type": "stream",
     "text": [
      "Epoch 31/60: 100%|████████████████████████| 60/60 [02:27<00:00,  2.46s/batch, loss=0.157]\n"
     ]
    },
    {
     "name": "stdout",
     "output_type": "stream",
     "text": [
      "Training - Epoch 31/60, Loss: 0.15725594342996677\n",
      "Validation - Epoch 31/60, Loss: 0.2030296213575639\n",
      "Validation - Epoch 31/60, Accuracy: 92.72%\n"
     ]
    },
    {
     "name": "stderr",
     "output_type": "stream",
     "text": [
      "Epoch 32/60: 100%|████████████████████████| 60/60 [02:22<00:00,  2.38s/batch, loss=0.122]\n"
     ]
    },
    {
     "name": "stdout",
     "output_type": "stream",
     "text": [
      "Training - Epoch 32/60, Loss: 0.12220343304798006\n",
      "Validation - Epoch 32/60, Loss: 0.22974103244720026\n",
      "Validation - Epoch 32/60, Accuracy: 93.00%\n"
     ]
    },
    {
     "name": "stderr",
     "output_type": "stream",
     "text": [
      "Epoch 33/60: 100%|████████████████████████| 60/60 [01:56<00:00,  1.95s/batch, loss=0.105]\n"
     ]
    },
    {
     "name": "stdout",
     "output_type": "stream",
     "text": [
      "Training - Epoch 33/60, Loss: 0.10525239251243572\n",
      "Validation - Epoch 33/60, Loss: 0.18518935220432467\n",
      "Validation - Epoch 33/60, Accuracy: 94.29%\n"
     ]
    },
    {
     "name": "stderr",
     "output_type": "stream",
     "text": [
      "Epoch 34/60: 100%|████████████████████████| 60/60 [02:03<00:00,  2.06s/batch, loss=0.106]\n"
     ]
    },
    {
     "name": "stdout",
     "output_type": "stream",
     "text": [
      "Training - Epoch 34/60, Loss: 0.10597142017601678\n",
      "Validation - Epoch 34/60, Loss: 0.19969097838620656\n",
      "Validation - Epoch 34/60, Accuracy: 92.75%\n"
     ]
    },
    {
     "name": "stderr",
     "output_type": "stream",
     "text": [
      "Epoch 35/60: 100%|████████████████████████| 60/60 [02:32<00:00,  2.54s/batch, loss=0.138]\n"
     ]
    },
    {
     "name": "stdout",
     "output_type": "stream",
     "text": [
      "Training - Epoch 35/60, Loss: 0.13797011841088533\n",
      "Validation - Epoch 35/60, Loss: 0.22397790428483857\n",
      "Validation - Epoch 35/60, Accuracy: 91.39%\n"
     ]
    },
    {
     "name": "stderr",
     "output_type": "stream",
     "text": [
      "Epoch 36/60: 100%|████████████████████████| 60/60 [02:19<00:00,  2.33s/batch, loss=0.112]\n"
     ]
    },
    {
     "name": "stdout",
     "output_type": "stream",
     "text": [
      "Training - Epoch 36/60, Loss: 0.11220699131178359\n",
      "Validation - Epoch 36/60, Loss: 0.15304937703418545\n",
      "Validation - Epoch 36/60, Accuracy: 94.64%\n"
     ]
    },
    {
     "name": "stderr",
     "output_type": "stream",
     "text": [
      "Epoch 37/60: 100%|████████████████████████| 60/60 [02:04<00:00,  2.08s/batch, loss=0.113]\n"
     ]
    },
    {
     "name": "stdout",
     "output_type": "stream",
     "text": [
      "Training - Epoch 37/60, Loss: 0.1128926234630247\n",
      "Validation - Epoch 37/60, Loss: 0.14272930387116503\n",
      "Validation - Epoch 37/60, Accuracy: 95.08%\n"
     ]
    },
    {
     "name": "stderr",
     "output_type": "stream",
     "text": [
      "Epoch 38/60: 100%|███████████████████████| 60/60 [02:07<00:00,  2.13s/batch, loss=0.0927]\n"
     ]
    },
    {
     "name": "stdout",
     "output_type": "stream",
     "text": [
      "Training - Epoch 38/60, Loss: 0.09271358082381388\n",
      "Validation - Epoch 38/60, Loss: 0.1325965730077587\n",
      "Validation - Epoch 38/60, Accuracy: 95.62%\n"
     ]
    },
    {
     "name": "stderr",
     "output_type": "stream",
     "text": [
      "Epoch 39/60: 100%|████████████████████████| 60/60 [02:07<00:00,  2.13s/batch, loss=0.102]\n"
     ]
    },
    {
     "name": "stdout",
     "output_type": "stream",
     "text": [
      "Training - Epoch 39/60, Loss: 0.10196049010846764\n",
      "Validation - Epoch 39/60, Loss: 0.30006798429065384\n",
      "Validation - Epoch 39/60, Accuracy: 88.65%\n"
     ]
    },
    {
     "name": "stderr",
     "output_type": "stream",
     "text": [
      "Epoch 40/60: 100%|█████████████████████████| 60/60 [02:24<00:00,  2.41s/batch, loss=0.12]\n"
     ]
    },
    {
     "name": "stdout",
     "output_type": "stream",
     "text": [
      "Training - Epoch 40/60, Loss: 0.11994588129843274\n",
      "Validation - Epoch 40/60, Loss: 0.13661408620420842\n",
      "Validation - Epoch 40/60, Accuracy: 95.14%\n"
     ]
    },
    {
     "name": "stderr",
     "output_type": "stream",
     "text": [
      "Epoch 41/60: 100%|███████████████████████| 60/60 [02:14<00:00,  2.24s/batch, loss=0.0908]\n"
     ]
    },
    {
     "name": "stdout",
     "output_type": "stream",
     "text": [
      "Training - Epoch 41/60, Loss: 0.09081417887161175\n",
      "Validation - Epoch 41/60, Loss: 0.16122942834626883\n",
      "Validation - Epoch 41/60, Accuracy: 94.83%\n"
     ]
    },
    {
     "name": "stderr",
     "output_type": "stream",
     "text": [
      "Epoch 42/60: 100%|███████████████████████| 60/60 [01:54<00:00,  1.90s/batch, loss=0.0936]\n"
     ]
    },
    {
     "name": "stdout",
     "output_type": "stream",
     "text": [
      "Training - Epoch 42/60, Loss: 0.09363074456341565\n",
      "Validation - Epoch 42/60, Loss: 0.15922531689924654\n",
      "Validation - Epoch 42/60, Accuracy: 94.17%\n"
     ]
    },
    {
     "name": "stderr",
     "output_type": "stream",
     "text": [
      "Epoch 43/60: 100%|████████████████████████| 60/60 [02:06<00:00,  2.11s/batch, loss=0.105]\n"
     ]
    },
    {
     "name": "stdout",
     "output_type": "stream",
     "text": [
      "Training - Epoch 43/60, Loss: 0.10482092883903533\n",
      "Validation - Epoch 43/60, Loss: 0.12095563663518988\n",
      "Validation - Epoch 43/60, Accuracy: 96.34%\n"
     ]
    },
    {
     "name": "stderr",
     "output_type": "stream",
     "text": [
      "Epoch 44/60: 100%|████████████████████████| 60/60 [02:24<00:00,  2.41s/batch, loss=0.118]\n"
     ]
    },
    {
     "name": "stdout",
     "output_type": "stream",
     "text": [
      "Training - Epoch 44/60, Loss: 0.1175572639486442\n",
      "Validation - Epoch 44/60, Loss: 0.186414573432412\n",
      "Validation - Epoch 44/60, Accuracy: 93.76%\n"
     ]
    },
    {
     "name": "stderr",
     "output_type": "stream",
     "text": [
      "Epoch 45/60: 100%|████████████████████████| 60/60 [02:17<00:00,  2.29s/batch, loss=0.114]\n"
     ]
    },
    {
     "name": "stdout",
     "output_type": "stream",
     "text": [
      "Training - Epoch 45/60, Loss: 0.11390143988343576\n",
      "Validation - Epoch 45/60, Loss: 0.1401705228490755\n",
      "Validation - Epoch 45/60, Accuracy: 94.70%\n"
     ]
    },
    {
     "name": "stderr",
     "output_type": "stream",
     "text": [
      "Epoch 46/60: 100%|████████████████████████| 60/60 [01:53<00:00,  1.90s/batch, loss=0.104]\n"
     ]
    },
    {
     "name": "stdout",
     "output_type": "stream",
     "text": [
      "Training - Epoch 46/60, Loss: 0.10395615483090902\n",
      "Validation - Epoch 46/60, Loss: 0.17303719113901025\n",
      "Validation - Epoch 46/60, Accuracy: 93.88%\n"
     ]
    },
    {
     "name": "stderr",
     "output_type": "stream",
     "text": [
      "Epoch 47/60: 100%|███████████████████████| 60/60 [00:46<00:00,  1.28batch/s, loss=0.0967]\n"
     ]
    },
    {
     "name": "stdout",
     "output_type": "stream",
     "text": [
      "Training - Epoch 47/60, Loss: 0.09669934535243858\n",
      "Validation - Epoch 47/60, Loss: 0.14413253307691776\n",
      "Validation - Epoch 47/60, Accuracy: 94.89%\n"
     ]
    },
    {
     "name": "stderr",
     "output_type": "stream",
     "text": [
      "Epoch 48/60: 100%|████████████████████████| 60/60 [01:00<00:00,  1.01s/batch, loss=0.105]\n"
     ]
    },
    {
     "name": "stdout",
     "output_type": "stream",
     "text": [
      "Training - Epoch 48/60, Loss: 0.1051543793718641\n",
      "Validation - Epoch 48/60, Loss: 0.13594086734228766\n",
      "Validation - Epoch 48/60, Accuracy: 95.52%\n"
     ]
    },
    {
     "name": "stderr",
     "output_type": "stream",
     "text": [
      "Epoch 49/60: 100%|███████████████████████| 60/60 [01:24<00:00,  1.42s/batch, loss=0.0942]\n"
     ]
    },
    {
     "name": "stdout",
     "output_type": "stream",
     "text": [
      "Training - Epoch 49/60, Loss: 0.09421618073247373\n",
      "Validation - Epoch 49/60, Loss: 0.13402974711265414\n",
      "Validation - Epoch 49/60, Accuracy: 95.49%\n"
     ]
    },
    {
     "name": "stderr",
     "output_type": "stream",
     "text": [
      "Epoch 50/60: 100%|███████████████████████| 60/60 [01:33<00:00,  1.55s/batch, loss=0.0721]\n"
     ]
    },
    {
     "name": "stdout",
     "output_type": "stream",
     "text": [
      "Training - Epoch 50/60, Loss: 0.07211581860125686\n",
      "Validation - Epoch 50/60, Loss: 0.1163236345804762\n",
      "Validation - Epoch 50/60, Accuracy: 96.40%\n"
     ]
    },
    {
     "name": "stderr",
     "output_type": "stream",
     "text": [
      "Epoch 51/60: 100%|███████████████████████| 60/60 [01:02<00:00,  1.04s/batch, loss=0.0882]\n"
     ]
    },
    {
     "name": "stdout",
     "output_type": "stream",
     "text": [
      "Training - Epoch 51/60, Loss: 0.08823068328395796\n",
      "Validation - Epoch 51/60, Loss: 0.20031034618616103\n",
      "Validation - Epoch 51/60, Accuracy: 93.31%\n"
     ]
    },
    {
     "name": "stderr",
     "output_type": "stream",
     "text": [
      "Epoch 52/60: 100%|████████████████████████| 60/60 [00:54<00:00,  1.10batch/s, loss=0.104]\n"
     ]
    },
    {
     "name": "stdout",
     "output_type": "stream",
     "text": [
      "Training - Epoch 52/60, Loss: 0.10385115689908465\n",
      "Validation - Epoch 52/60, Loss: 0.12652124945889226\n",
      "Validation - Epoch 52/60, Accuracy: 95.62%\n"
     ]
    },
    {
     "name": "stderr",
     "output_type": "stream",
     "text": [
      "Epoch 53/60: 100%|███████████████████████| 60/60 [01:10<00:00,  1.18s/batch, loss=0.0895]\n"
     ]
    },
    {
     "name": "stdout",
     "output_type": "stream",
     "text": [
      "Training - Epoch 53/60, Loss: 0.08950571668489525\n",
      "Validation - Epoch 53/60, Loss: 0.20388505703764168\n",
      "Validation - Epoch 53/60, Accuracy: 92.97%\n"
     ]
    },
    {
     "name": "stderr",
     "output_type": "stream",
     "text": [
      "Epoch 54/60: 100%|███████████████████████| 60/60 [01:21<00:00,  1.36s/batch, loss=0.0815]\n"
     ]
    },
    {
     "name": "stdout",
     "output_type": "stream",
     "text": [
      "Training - Epoch 54/60, Loss: 0.08145971458870918\n",
      "Validation - Epoch 54/60, Loss: 0.13229974583082366\n",
      "Validation - Epoch 54/60, Accuracy: 95.58%\n"
     ]
    },
    {
     "name": "stderr",
     "output_type": "stream",
     "text": [
      "Epoch 55/60: 100%|███████████████████████| 60/60 [01:10<00:00,  1.17s/batch, loss=0.0905]\n"
     ]
    },
    {
     "name": "stdout",
     "output_type": "stream",
     "text": [
      "Training - Epoch 55/60, Loss: 0.09050784283511651\n",
      "Validation - Epoch 55/60, Loss: 0.13241914810147137\n",
      "Validation - Epoch 55/60, Accuracy: 95.68%\n"
     ]
    },
    {
     "name": "stderr",
     "output_type": "stream",
     "text": [
      "Epoch 56/60: 100%|████████████████████████| 60/60 [01:10<00:00,  1.17s/batch, loss=0.103]\n"
     ]
    },
    {
     "name": "stdout",
     "output_type": "stream",
     "text": [
      "Training - Epoch 56/60, Loss: 0.10285016597869495\n",
      "Validation - Epoch 56/60, Loss: 0.1156793352495879\n",
      "Validation - Epoch 56/60, Accuracy: 96.06%\n"
     ]
    },
    {
     "name": "stderr",
     "output_type": "stream",
     "text": [
      "Epoch 57/60: 100%|███████████████████████| 60/60 [01:05<00:00,  1.10s/batch, loss=0.0673]\n"
     ]
    },
    {
     "name": "stdout",
     "output_type": "stream",
     "text": [
      "Training - Epoch 57/60, Loss: 0.06733311457404247\n",
      "Validation - Epoch 57/60, Loss: 0.20964844232425095\n",
      "Validation - Epoch 57/60, Accuracy: 92.56%\n"
     ]
    },
    {
     "name": "stderr",
     "output_type": "stream",
     "text": [
      "Epoch 58/60: 100%|███████████████████████| 60/60 [01:10<00:00,  1.18s/batch, loss=0.0811]\n"
     ]
    },
    {
     "name": "stdout",
     "output_type": "stream",
     "text": [
      "Training - Epoch 58/60, Loss: 0.08106654474589353\n",
      "Validation - Epoch 58/60, Loss: 0.14381776200403693\n",
      "Validation - Epoch 58/60, Accuracy: 95.74%\n"
     ]
    },
    {
     "name": "stderr",
     "output_type": "stream",
     "text": [
      "Epoch 59/60: 100%|███████████████████████| 60/60 [01:16<00:00,  1.28s/batch, loss=0.0723]\n"
     ]
    },
    {
     "name": "stdout",
     "output_type": "stream",
     "text": [
      "Training - Epoch 59/60, Loss: 0.07227583142424313\n",
      "Validation - Epoch 59/60, Loss: 0.15527325654940796\n",
      "Validation - Epoch 59/60, Accuracy: 94.42%\n"
     ]
    },
    {
     "name": "stderr",
     "output_type": "stream",
     "text": [
      "Epoch 60/60: 100%|███████████████████████| 60/60 [01:19<00:00,  1.32s/batch, loss=0.0838]\n"
     ]
    },
    {
     "name": "stdout",
     "output_type": "stream",
     "text": [
      "Training - Epoch 60/60, Loss: 0.08383982765953987\n",
      "Validation - Epoch 60/60, Loss: 0.10279260755167342\n",
      "Validation - Epoch 60/60, Accuracy: 96.66%\n",
      "Training completed and modal saved to vit_model.pth\n"
     ]
    }
   ],
   "source": [
    "# Training loop\n",
    "for epoch in range(num_epochs):\n",
    "    model.train()\n",
    "    running_loss = 0.0\n",
    "\n",
    "    # Use tqdm for a progress bar\n",
    "    with tqdm(total=len(train_dataloader), desc=f'Epoch {epoch+1}/{num_epochs}', unit='batch') as pbar:\n",
    "        for i, (images, labels) in enumerate(train_dataloader):\n",
    "            images, labels = images.to(device), labels.to(device)\n",
    "            \n",
    "            optimizer.zero_grad()\n",
    "            outputs = model(images)\n",
    "            loss = criterion(outputs, labels)\n",
    "            loss.backward()\n",
    "            optimizer.step()\n",
    "            \n",
    "            running_loss += loss.item()\n",
    "            \n",
    "            # Update the progress bar\n",
    "            pbar.set_postfix(loss=running_loss / (i + 1))\n",
    "            pbar.update(1)\n",
    "\n",
    "    print(f'Training - Epoch {epoch+1}/{num_epochs}, Loss: {running_loss/len(train_dataloader)}')\n",
    "\n",
    "    # Validation\n",
    "    model.eval()\n",
    "    val_loss = 0.0\n",
    "    true_labels = []\n",
    "    predicted_labels = []\n",
    "\n",
    "    with torch.no_grad():\n",
    "        for images, labels in val_dataloader:\n",
    "            images, labels = images.to(device), labels.to(device)\n",
    "            \n",
    "            outputs = model(images)\n",
    "            loss = criterion(outputs, labels)\n",
    "            val_loss += loss.item()\n",
    "\n",
    "            _, predicted = torch.max(outputs, 1)\n",
    "            true_labels.extend(labels.cpu().numpy())\n",
    "            predicted_labels.extend(predicted.cpu().numpy())\n",
    "\n",
    "    print(f'Validation - Epoch {epoch+1}/{num_epochs}, Loss: {val_loss/len(val_dataloader)}')\n",
    "\n",
    "    # Compute and print validation accuracy\n",
    "    accuracy = accuracy_score(true_labels, predicted_labels)\n",
    "    print(f'Validation - Epoch {epoch+1}/{num_epochs}, Accuracy: {accuracy * 100:.2f}%')\n",
    "\n",
    "# Save the trained model\n",
    "torch.save(model.state_dict(), 'vit_model_plantVillage_Apple.pth')\n",
    "print(\"Training completed and modal saved to vit_model.pth\")"
   ]
  },
  {
   "cell_type": "code",
   "execution_count": null,
   "id": "f9d07c7a-b567-4a8a-84d5-fcbca43b118d",
   "metadata": {},
   "outputs": [],
   "source": []
  }
 ],
 "metadata": {
  "kernelspec": {
   "display_name": "Python 3 (ipykernel)",
   "language": "python",
   "name": "python3"
  },
  "language_info": {
   "codemirror_mode": {
    "name": "ipython",
    "version": 3
   },
   "file_extension": ".py",
   "mimetype": "text/x-python",
   "name": "python",
   "nbconvert_exporter": "python",
   "pygments_lexer": "ipython3",
   "version": "3.11.9"
  }
 },
 "nbformat": 4,
 "nbformat_minor": 5
}
