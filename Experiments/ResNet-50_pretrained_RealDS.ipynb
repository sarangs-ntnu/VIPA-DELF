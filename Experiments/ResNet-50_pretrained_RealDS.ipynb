{
 "cells": [
  {
   "cell_type": "code",
   "execution_count": 1,
   "id": "fbe063d4",
   "metadata": {},
   "outputs": [],
   "source": [
    "import torch\n",
    "import torchvision\n",
    "import time\n",
    "from torch import nn\n",
    "from torch import optim\n",
    "from torch.utils import data\n",
    "from Validate import validate_net\n",
    "from Test import test_net\n",
    "from misc import print_metrics, training_curve \n",
    "from PIL import Image\n",
    "import os\n",
    "import re\n",
    "import argparse\n",
    "from collections import defaultdict\n",
    "import numpy as np\n",
    "import logging\n",
    "import csv\n",
    "from torchvision import transforms, datasets, models\n",
    "import sklearn.metrics as mtc\n",
    "from sklearn.metrics import confusion_matrix\n",
    "from sklearn.metrics import classification_report\n",
    "import pathlib"
   ]
  },
  {
   "cell_type": "code",
   "execution_count": 2,
   "id": "ca7f6e51",
   "metadata": {},
   "outputs": [
    {
     "data": {
      "text/plain": [
       "device(type='cuda', index=0)"
      ]
     },
     "execution_count": 2,
     "metadata": {},
     "output_type": "execute_result"
    }
   ],
   "source": [
    "###########################\n",
    "# Checking if GPU is used\n",
    "###########################\n",
    "\n",
    "use_cuda=torch.cuda.is_available()\n",
    "use_mps = torch.backends.mps.is_available()\n",
    "device=torch.device(\"cuda:0\" if use_cuda else \"mps\" if use_mps else \"cpu\")\n",
    "device"
   ]
  },
  {
   "cell_type": "code",
   "execution_count": 12,
   "id": "cc82d655",
   "metadata": {},
   "outputs": [],
   "source": [
    "########################################\n",
    "# Setting basic parameters for the model\n",
    "########################################           \n",
    "         \n",
    "batch_size=8\n",
    "max_epochs=30\n",
    "lr=0.0001"
   ]
  },
  {
   "cell_type": "code",
   "execution_count": 4,
   "id": "76bada85",
   "metadata": {},
   "outputs": [],
   "source": [
    "# # directory of dataset\n",
    "# dir_original = \"./../GrapevineDS\"\n",
    "\n",
    "# # name of new dataset\n",
    "# dir_processed = \"./../data_processed\"\n"
   ]
  },
  {
   "cell_type": "code",
   "execution_count": 5,
   "id": "25b121c4",
   "metadata": {},
   "outputs": [],
   "source": [
    "# data_dir = pathlib.Path(dir_original)\n",
    "\n",
    "# set_samples = ['train', 'validation', 'test']\n",
    "# print(\"set_samples: \", set_samples, \"\\n\")\n",
    "\n",
    "# CLASS_NAMES = np.array([item.name for item in sorted(data_dir.glob('*'))])\t\t\t\t\t\t\t\t\t\t\t\t\n",
    "# print(\"class: \", CLASS_NAMES, \"\\n\")\n",
    "\n",
    "# N_IMAGES = np.array([len(list(data_dir.glob(item.name+'/*.jpg'))) for item in sorted(data_dir.glob('*'))])\t\t\t# number of images for class\n",
    "# print(\"number of images for class: \", N_IMAGES, \"\\n\")\n",
    "\n",
    "# N_samples = np.array([(int(np.around(n*60/100)), int(np.around(n*15/100)), int(np.around(n*25/100))) for n in N_IMAGES])\t# number of images for set (train,validation,test)\n",
    "# print(\"split of dataset: \\n \", N_samples, \"\\n\")\n"
   ]
  },
  {
   "cell_type": "markdown",
   "id": "38bbedb5",
   "metadata": {},
   "source": [
    "### Preprocessing Dataset"
   ]
  },
  {
   "cell_type": "code",
   "execution_count": 9,
   "id": "a2a19d7a",
   "metadata": {},
   "outputs": [],
   "source": [
    "# #size of new images\n",
    "# # size of new images\n",
    "# size = 1280, 720\n",
    "\n",
    "# try:\n",
    "#     # Check if dir_processed exists and is a directory\n",
    "#     if not os.path.isdir(dir_processed):\n",
    "#         # If it's not a directory, create it\n",
    "#         os.makedirs(dir_processed)\n",
    "# except OSError as err:\n",
    "#     print(err)\n",
    "\n",
    "# # Now create subdirectories for sets and classes\n",
    "# for set_tag in set_samples:\n",
    "#     os.makedirs(os.path.join(dir_processed, set_tag),exist_ok=True)\n",
    "#     for class_name in CLASS_NAMES:\n",
    "#         os.makedirs(os.path.join(dir_processed, set_tag, class_name), exist_ok=True)"
   ]
  },
  {
   "cell_type": "code",
   "execution_count": 6,
   "id": "9987dea6",
   "metadata": {
    "scrolled": true
   },
   "outputs": [],
   "source": [
    "# # SPLIT DATASET (and resize) *************************************\n",
    "# print(\"Split dataset.....\")\n",
    "\n",
    "# i=0\n",
    "# j=0\n",
    "# k=0\n",
    "# for class_name in CLASS_NAMES: # \"j\" cambia con il tipo di pianta [0,3]\n",
    "\n",
    "#     print(\"class name: \", class_name)\n",
    "\n",
    "#     contatore_samples = 0\n",
    "#     k=0\n",
    "\n",
    "#     array = sorted(os.listdir(dir_original + '/' + class_name))\n",
    "#     #random.shuffle(array)\n",
    "\n",
    "#     for image_name in array: # \"contatore\" si azzera ad ogni campo 'train' 'validation' 'test'\n",
    "\n",
    "#         print(\"image: \", i)\n",
    "#         i=i+1\n",
    "        \n",
    "#         if contatore_samples==N_samples[j][k] and k+1  < len(N_samples[j]):    # \"k\" cambia con train, validation, e test\n",
    "#             print(\"updating k: \", k)\n",
    "#             print(len(N_samples[j]))\n",
    "#             k+=1\n",
    "#             contatore_samples=0\n",
    "\n",
    "\n",
    "#         img=Image.open(dir_original +'/'+class_name+'/'+image_name)\n",
    "#         l,_ = img.size\n",
    "#         l=int(l)\n",
    "        \n",
    "        \n",
    "#         if l==1080 or l==720:\n",
    "        \n",
    "#             transposed = img.transpose(Image.ROTATE_90)\n",
    "#             transposed.thumbnail(size)\n",
    "#             transposed.save(dir_processed+'/'+set_samples[k]+'/'+class_name+'/'+image_name)\n",
    "        \n",
    "#         else:\n",
    "        \n",
    "#             img.thumbnail(size)\n",
    "#             img.save(dir_processed+'/'+set_samples[k]+'/'+class_name+'/'+image_name)\n",
    "\n",
    "#         contatore_samples+=1\n",
    "\n",
    "#     j+=1"
   ]
  },
  {
   "cell_type": "code",
   "execution_count": 7,
   "id": "ada4b05b",
   "metadata": {},
   "outputs": [
    {
     "name": "stdout",
     "output_type": "stream",
     "text": [
      "train root ./../processed_RealDS\\train\n",
      "Directory './realDS_checkpoints_30_32_0001/' created\n"
     ]
    }
   ],
   "source": [
    "PATH_DATASET = './../processed_RealDS'\n",
    " \n",
    "train_root_dir=os.path.join(PATH_DATASET, 'train')  \n",
    "val_root_dir= os.path.join(PATH_DATASET, 'validation')\n",
    "test_root_dir= os.path.join(PATH_DATASET, 'test') \n",
    "model_path=r'./realDS_checkpoints_30_32_0001/'  # set path to the folder that will store model's checkpoints\n",
    "\n",
    "n_classes=2  # number of classes used for training\n",
    "\n",
    "global val_f1_max\n",
    "\n",
    "\n",
    "try:\n",
    "    if not os.path.exists(os.path.dirname(model_path)):\n",
    "        os.makedirs(os.path.dirname(model_path))\n",
    "except OSError as err:\n",
    "    print(err)\n",
    "    \n",
    "print('train root', train_root_dir)\n",
    "\n",
    "print(\"Directory '% s' created\" % model_path)\n",
    "filename='results_plasmopara'+str(max_epochs)+'_'+'b'+str(batch_size)+'_'+'lr'+str(lr)+'_'+'resnet50'   #filename used for saving epoch-wise training details and test results "
   ]
  },
  {
   "cell_type": "code",
   "execution_count": 8,
   "id": "4886a643",
   "metadata": {},
   "outputs": [],
   "source": [
    "# ####################################\n",
    "# # Training\n",
    "# ####################################\n",
    "\n",
    "trans={\n",
    " # Train uses data augmentation\n",
    " 'train':\n",
    " transforms.Compose([\n",
    "     transforms.Resize((224, 224)),\n",
    "     #transforms.RandomRotation(degrees=15),\n",
    "     #transforms.RandomHorizontalFlip(),\n",
    "     transforms.ToTensor(),\n",
    "     transforms.Normalize([0.4762, 0.3054, 0.2368], [0.3345, 0.2407, 0.2164])\n",
    "]),\n",
    " # Validation does not use augmentation\n",
    " 'valid':\n",
    " transforms.Compose([\n",
    "     transforms.Resize((224,224)),\n",
    "     transforms.ToTensor(),\n",
    "     transforms.Normalize([0.4762, 0.3054, 0.2368], [0.3345, 0.2407, 0.2164])\n",
    " ]),\n",
    "\n",
    " # Test does not use augmentation\n",
    " 'test':\n",
    " transforms.Compose([\n",
    "     transforms.Resize((224,224)),\n",
    "     transforms.ToTensor(),\n",
    "     transforms.Normalize([0.4762, 0.3054, 0.2368], [0.3345, 0.2407, 0.2164])\n",
    " ]),\n",
    "}"
   ]
  },
  {
   "cell_type": "code",
   "execution_count": 10,
   "id": "9cef8676",
   "metadata": {},
   "outputs": [],
   "source": [
    "class train:\n",
    "    def __init__(self):\n",
    "\n",
    "#         transform=trans['valid']\n",
    "        #Generators\n",
    "        training_dataset= datasets.ImageFolder(train_root_dir, transform=trans['train'])\n",
    "        validation_dataset= datasets.ImageFolder(val_root_dir, transform=trans['valid'])\n",
    "        test_dataset= datasets.ImageFolder(test_root_dir, transform=trans['test'])\n",
    "        \n",
    "        self.training_generator=data.DataLoader(training_dataset,batch_size,shuffle=True) # ** unpacks a dictionary into keyword arguments\n",
    "        self.validation_generator=data.DataLoader(validation_dataset,batch_size)\n",
    "        self.test_generator=data.DataLoader(test_dataset,batch_size)\n",
    "       \n",
    "        print('Number of Training set images:{}'.format(len(training_dataset)))\n",
    "        print('Number of Validation set images:{}'.format(len(validation_dataset)))\n",
    "        print('Number of Test set images:{}'.format(len(test_dataset)))\n",
    "        \n",
    "    def train_net(self):        \n",
    "                #Initialize model\n",
    "        model = torchvision.models.resnet50(weights=False).to(device)   # make weights=True if you want to download pre-trained weights   # make weights=True if you want to download pre-trained weights\n",
    "        \n",
    "        \n",
    "#         model.load_state_dict(torch.load('./densenet121.pth',map_location='cuda'))   # provide a .pth path for already downloaded weights; otherwise comment this line out\n",
    "        \n",
    "        \n",
    "        # Option to freeze model weights\n",
    "        for param in model.parameters():\n",
    "            param.requires_grad = True                       # Set param.requires_grad = False if you want to train only the last updated layers and freeze all other layers\n",
    "        \n",
    "        n_inputs = model.fc.in_features\n",
    "        model.fc = nn.Sequential(\n",
    "                      nn.Linear(n_inputs, 256),\n",
    "                      nn.ReLU(), \n",
    "                      nn.Dropout(0.4),\n",
    "                      nn.Linear(256, n_classes),  \n",
    "                      nn.LogSoftmax(dim=1))\n",
    "        \n",
    "       \n",
    "        model.to(device)\n",
    "        optimizer=optim.Adam(model.parameters(), lr, weight_decay=1e-4)\n",
    "        scheduler=optim.lr_scheduler.ReduceLROnPlateau(optimizer,mode='min',patience=4,verbose=True)\n",
    "        criterion = nn.NLLLoss()\n",
    "        val_f1_max=0.0\n",
    "        epochs=[]\n",
    "        lossesT=[]\n",
    "        lossesV=[]\n",
    "\n",
    "        for epoch in range(max_epochs):\n",
    "            print('Epoch {}/{}'.format(epoch+1,max_epochs))\n",
    "            print('-'*10)\n",
    "            \n",
    "            since=time.time()\n",
    "            train_metrics=defaultdict(float)\n",
    "            total_loss=0\n",
    "            running_corrects=0\n",
    "            num_steps=0\n",
    "            \n",
    "            all_labels_d = torch.tensor([], dtype=torch.long).to(device)\n",
    "            all_predictions_d = torch.tensor([], dtype=torch.long).to(device)\n",
    "            all_predictions_probabilities_d = torch.tensor([], dtype=torch.float).to(device)\n",
    "            \n",
    "            model.train()\n",
    "            \n",
    "            #Training\n",
    "            for image, labels in self.training_generator:\n",
    "                #Transfer to GPU:\n",
    "                \n",
    "                image, labels = image.to(device, dtype=torch.float32), labels.to(device)\n",
    "                outputs = model(image)\n",
    "                predicted_probability, predicted  = torch.max(outputs, 1)\n",
    "                loss = criterion(outputs, labels)\n",
    "              \n",
    "                num_steps+=image.size(0)\n",
    "                \n",
    "                optimizer.zero_grad()\n",
    "                loss.backward()\n",
    "                optimizer.step()\n",
    "                total_loss+=loss.item()*image.size(0)\n",
    "           \n",
    "                running_corrects += torch.sum(predicted == labels.data)\n",
    "                all_labels_d = torch.cat((all_labels_d, labels), 0)\n",
    "                all_predictions_d = torch.cat((all_predictions_d, predicted), 0)\n",
    "                all_predictions_probabilities_d = torch.cat((all_predictions_probabilities_d, predicted_probability), 0)\n",
    "                \n",
    "                \n",
    "            y_true = all_labels_d.cpu()\n",
    "            y_predicted = all_predictions_d.cpu()  # to('cpu')\n",
    "            valset_predicted_probabilites = all_predictions_probabilities_d.cpu()  # to('cpu')\n",
    "            \n",
    "            \n",
    "            #############################\n",
    "            # Standard metrics \n",
    "            #############################\n",
    "        \n",
    "            train_micro_precision=mtc.precision_score(y_true, y_predicted, average=\"micro\")     \n",
    "            train_micro_recall=mtc.recall_score(y_true, y_predicted, average=\"micro\")\n",
    "            train_micro_f1=mtc.f1_score(y_true, y_predicted, average=\"micro\")  \n",
    "        \n",
    "            train_macro_precision=mtc.precision_score(y_true, y_predicted, average=\"macro\")     \n",
    "            train_macro_recall=mtc.recall_score(y_true, y_predicted, average=\"macro\")\n",
    "            train_macro_f1=mtc.f1_score(y_true, y_predicted, average=\"macro\")  \n",
    "        \n",
    "            train_mcc=mtc.matthews_corrcoef(y_true, y_predicted)\n",
    "             \n",
    "            \n",
    "            train_metrics['loss']=total_loss/num_steps\n",
    "        \n",
    "            train_metrics['micro_precision']=train_micro_precision\n",
    "            train_metrics['micro_recall']=train_micro_recall\n",
    "            train_metrics['micro_f1']=train_micro_f1\n",
    "            train_metrics['macro_precision']=train_macro_precision\n",
    "            train_metrics['macro_recall']=train_macro_recall\n",
    "            train_metrics['macro_f1']=train_macro_f1\n",
    "            train_metrics['mcc']=train_mcc\n",
    "            \n",
    "            print('Training...')\n",
    "            print('Train_loss:{:.3f}'.format(total_loss/num_steps))\n",
    "           \n",
    "            \n",
    "            print_metrics(train_metrics,num_steps)\n",
    "\n",
    "            ############################\n",
    "            # Validation\n",
    "            ############################\n",
    "            \n",
    "            model.eval()\n",
    "            with torch.no_grad():\n",
    "                val_loss, val_metrics, val_num_steps=validate_net(model,self.validation_generator,device,criterion)\n",
    "                \n",
    "            scheduler.step(val_loss)\n",
    "            epochs.append(epoch)\n",
    "            lossesT.append(total_loss/num_steps)\n",
    "            lossesV.append(val_loss)\n",
    "            \n",
    "            print('.'*5)\n",
    "            print('Validating...')\n",
    "            print('val_loss:{:.3f}'.format(val_loss))\n",
    "        \n",
    "            print_metrics(val_metrics,val_num_steps)\n",
    "\n",
    "\n",
    "            ##################################################################\n",
    "            # Writing epoch-wise training and validation results to a csv file \n",
    "            ##################################################################\n",
    "\n",
    "            key_name=['Epoch','Train_loss','Train_micro_precision','Train_micro_recall','Train_micro_f1','Train_macro_precision','Train_macro_recall','Train_macro_f1','Train_mcc','Val_loss','Val_micro_precision','Val_micro_recall','Val_micro_f1','Val_macro_precision','Val_macro_recall','Val_macro_f1','Val_mcc']\n",
    "            train_list=[]\n",
    "            train_list.append(epoch)\n",
    "\n",
    "            try:\n",
    "\n",
    "                with open(filename+str('.csv'), 'a',newline=\"\") as f:\n",
    "                    wr = csv.writer(f,delimiter=\",\")\n",
    "                    if epoch==0:\n",
    "                        wr.writerow(key_name)\n",
    "\n",
    "                    for k, vl in train_metrics.items():\n",
    "                        train_list.append(vl)\n",
    "\n",
    "                    train_list.append(val_loss)\n",
    "\n",
    "                    for k, vl in val_metrics.items():\n",
    "                        train_list.append(vl)\n",
    "                    zip(train_list)\n",
    "                    wr.writerow(train_list)\n",
    "\n",
    "\n",
    "            except IOError:\n",
    "                print(\"I/O Error\")\n",
    "\n",
    "            \n",
    "            ##############################\n",
    "            # Saving best model \n",
    "            ##############################\n",
    "            \n",
    "            if val_metrics['micro_f1']>=val_f1_max:\n",
    "                print('val micro f1 increased ({:.6f}-->{:.6f}).Saving model'.format(val_f1_max,val_metrics['micro_f1']))\n",
    "                \n",
    "                torch.save({'epoch':epoch+1,\n",
    "                            'model_state_dict':model.state_dict(),\n",
    "                            'optimizer_state_dict': optimizer.state_dict(),\n",
    "                            'scheduler': scheduler.state_dict(), \n",
    "                            'loss':val_loss},model_path+f'/C_{epoch+1}_{batch_size}.pth')\n",
    "                best_model_path=model_path+f'/C_{epoch+1}_{batch_size}.pth'\n",
    "               \n",
    "                val_f1_max=val_metrics['micro_f1']\n",
    "                \n",
    "\n",
    "            print('-'*10)\n",
    "       \n",
    "        time_elapsed=time.time()-since\n",
    "        print('{:.0f}m {:.0f}s'.format(time_elapsed // 60, time_elapsed % 60))\n",
    "        \n",
    "        training_curve(epochs,lossesT,lossesV)\n",
    "        epochs.clear()\n",
    "        lossesT.clear()\n",
    "        lossesV.clear()\n",
    "        \n",
    "\n",
    "        ############################\n",
    "        #         Test\n",
    "        ############################\n",
    "        test_list=[]\n",
    "        print('Best model path:{}'.format(best_model_path))\n",
    "        best_model=torchvision.models.resnet50(weights=False).to(device)\n",
    "        \n",
    "        n_inputs = best_model.fc.in_features\n",
    "        best_model.fc = nn.Sequential(\n",
    "                      nn.Linear(n_inputs, 256),\n",
    "                      nn.ReLU(), \n",
    "                      nn.Dropout(0.4),\n",
    "                      nn.Linear(256, n_classes),\n",
    "                      nn.LogSoftmax(dim=1))\n",
    "\n",
    " \n",
    "        checkpoint=torch.load(best_model_path,map_location=device)   # loading best model\n",
    "        best_model.load_state_dict(checkpoint['model_state_dict'])\n",
    "        best_model.to(device)\n",
    "        best_model.eval()\n",
    "        with torch.no_grad():\n",
    "       \t       test_loss, test_metrics, test_num_steps=test_net(best_model,self.test_generator,device,criterion)\n",
    "\n",
    "        \n",
    "        print_metrics(test_metrics,test_num_steps)\n",
    "        test_list.append(test_loss)\n",
    "     \n",
    "\n",
    "        for k, vl in test_metrics.items():      \n",
    "            test_list.append(vl)              # append metrics results in a list\n",
    "  \n",
    "  \n",
    "  \n",
    "        ##################################################################\n",
    "        # Writing test results to a csv file \n",
    "        ##################################################################\n",
    "\n",
    "        key_name=['Test_loss','Test_micro_precision','Test_micro_recall','Test_micro_f1','Test_macro_precision','Test_macro_recall','Test_macro_f1','Test_mcc']\n",
    "        try:\n",
    "\n",
    "                with open(filename+str('.csv'), 'a',newline=\"\") as f:\n",
    "                    wr = csv.writer(f,delimiter=\",\")\n",
    "                    wr.writerow(key_name)\n",
    "                    zip(test_list)\n",
    "                    wr.writerow(test_list) \n",
    "                    wr.writerow(\"\") \n",
    "        except IOError:\n",
    "                print(\"I/O Error\")  \n",
    "        return val_metrics, test_metrics"
   ]
  },
  {
   "cell_type": "code",
   "execution_count": 13,
   "id": "435934c5",
   "metadata": {},
   "outputs": [
    {
     "name": "stderr",
     "output_type": "stream",
     "text": [
      "INFO: Using device: cuda:0\n",
      "INFO: Starting training:\n",
      "             Epochs: 30\n",
      "             Batch Size: 8\n",
      "             Learning Rate: 0.0001\n",
      "C:\\Users\\User1\\anaconda3\\envs\\GrapevineDS\\lib\\site-packages\\torchvision\\models\\_utils.py:223: UserWarning: Arguments other than a weight enum or `None` for 'weights' are deprecated since 0.13 and may be removed in the future. The current behavior is equivalent to passing `weights=None`.\n",
      "  warnings.warn(msg)\n"
     ]
    },
    {
     "name": "stdout",
     "output_type": "stream",
     "text": [
      "Number of Training set images:1600\n",
      "Number of Validation set images:19\n",
      "Number of Test set images:30\n"
     ]
    },
    {
     "name": "stderr",
     "output_type": "stream",
     "text": [
      "C:\\Users\\User1\\anaconda3\\envs\\GrapevineDS\\lib\\site-packages\\torch\\optim\\lr_scheduler.py:28: UserWarning: The verbose parameter is deprecated. Please use get_last_lr() to access the learning rate.\n",
      "  warnings.warn(\"The verbose parameter is deprecated. Please use get_last_lr() \"\n",
      "C:\\Users\\User1\\anaconda3\\envs\\GrapevineDS\\lib\\site-packages\\torch\\nn\\modules\\conv.py:456: UserWarning: Plan failed with a cudnnException: CUDNN_BACKEND_EXECUTION_PLAN_DESCRIPTOR: cudnnFinalize Descriptor Failed cudnn_status: CUDNN_STATUS_NOT_SUPPORTED (Triggered internally at C:\\actions-runner\\_work\\pytorch\\pytorch\\builder\\windows\\pytorch\\aten\\src\\ATen\\native\\cudnn\\Conv_v8.cpp:919.)\n",
      "  return F.conv2d(input, weight, bias, self.stride,\n"
     ]
    },
    {
     "name": "stdout",
     "output_type": "stream",
     "text": [
      "Epoch 1/30\n",
      "----------\n",
      "Training...\n",
      "Train_loss:0.246\n",
      "loss:0.245695,micro_precision:0.900625,micro_recall:0.900625,micro_f1:0.900625,macro_precision:0.901017,macro_recall:0.900625,macro_f1:0.900601,mcc:0.801642\n"
     ]
    },
    {
     "name": "stderr",
     "output_type": "stream",
     "text": [
      "C:\\Users\\User1\\anaconda3\\envs\\GrapevineDS\\lib\\site-packages\\sklearn\\metrics\\_classification.py:1334: UndefinedMetricWarning: Precision is ill-defined and being set to 0.0 in labels with no predicted samples. Use `zero_division` parameter to control this behavior.\n",
      "  _warn_prf(average, modifier, msg_start, len(result))\n"
     ]
    },
    {
     "name": "stdout",
     "output_type": "stream",
     "text": [
      ".....\n",
      "Validating...\n",
      "val_loss:0.858\n",
      "micro_precision:0.894737,micro_recall:0.894737,micro_f1:0.894737,macro_precision:0.447368,macro_recall:0.500000,macro_f1:0.472222,mcc:0.000000\n",
      "val micro f1 increased (0.000000-->0.894737).Saving model\n",
      "----------\n",
      "Epoch 2/30\n",
      "----------\n",
      "Training...\n",
      "Train_loss:0.076\n",
      "loss:0.075685,micro_precision:0.978125,micro_recall:0.978125,micro_f1:0.978125,macro_precision:0.978132,macro_recall:0.978125,macro_f1:0.978125,mcc:0.956257\n",
      ".....\n",
      "Validating...\n",
      "val_loss:0.873\n",
      "micro_precision:0.894737,micro_recall:0.894737,micro_f1:0.894737,macro_precision:0.447368,macro_recall:0.500000,macro_f1:0.472222,mcc:0.000000\n",
      "val micro f1 increased (0.894737-->0.894737).Saving model\n"
     ]
    },
    {
     "name": "stderr",
     "output_type": "stream",
     "text": [
      "C:\\Users\\User1\\anaconda3\\envs\\GrapevineDS\\lib\\site-packages\\sklearn\\metrics\\_classification.py:1334: UndefinedMetricWarning: Precision is ill-defined and being set to 0.0 in labels with no predicted samples. Use `zero_division` parameter to control this behavior.\n",
      "  _warn_prf(average, modifier, msg_start, len(result))\n"
     ]
    },
    {
     "name": "stdout",
     "output_type": "stream",
     "text": [
      "----------\n",
      "Epoch 3/30\n",
      "----------\n",
      "Training...\n",
      "Train_loss:0.048\n",
      "loss:0.048194,micro_precision:0.988125,micro_recall:0.988125,micro_f1:0.988125,macro_precision:0.988132,macro_recall:0.988125,macro_f1:0.988125,mcc:0.976257\n",
      ".....\n",
      "Validating...\n",
      "val_loss:0.744\n",
      "micro_precision:0.894737,micro_recall:0.894737,micro_f1:0.894737,macro_precision:0.447368,macro_recall:0.500000,macro_f1:0.472222,mcc:0.000000\n",
      "val micro f1 increased (0.894737-->0.894737).Saving model\n"
     ]
    },
    {
     "name": "stderr",
     "output_type": "stream",
     "text": [
      "C:\\Users\\User1\\anaconda3\\envs\\GrapevineDS\\lib\\site-packages\\sklearn\\metrics\\_classification.py:1334: UndefinedMetricWarning: Precision is ill-defined and being set to 0.0 in labels with no predicted samples. Use `zero_division` parameter to control this behavior.\n",
      "  _warn_prf(average, modifier, msg_start, len(result))\n"
     ]
    },
    {
     "name": "stdout",
     "output_type": "stream",
     "text": [
      "----------\n",
      "Epoch 4/30\n",
      "----------\n",
      "Training...\n",
      "Train_loss:0.036\n",
      "loss:0.035699,micro_precision:0.992500,micro_recall:0.992500,micro_f1:0.992500,macro_precision:0.992500,macro_recall:0.992500,macro_f1:0.992500,mcc:0.985000\n"
     ]
    },
    {
     "name": "stderr",
     "output_type": "stream",
     "text": [
      "C:\\Users\\User1\\anaconda3\\envs\\GrapevineDS\\lib\\site-packages\\sklearn\\metrics\\_classification.py:1334: UndefinedMetricWarning: Precision is ill-defined and being set to 0.0 in labels with no predicted samples. Use `zero_division` parameter to control this behavior.\n",
      "  _warn_prf(average, modifier, msg_start, len(result))\n"
     ]
    },
    {
     "name": "stdout",
     "output_type": "stream",
     "text": [
      ".....\n",
      "Validating...\n",
      "val_loss:0.360\n",
      "micro_precision:0.894737,micro_recall:0.894737,micro_f1:0.894737,macro_precision:0.447368,macro_recall:0.500000,macro_f1:0.472222,mcc:0.000000\n",
      "val micro f1 increased (0.894737-->0.894737).Saving model\n",
      "----------\n",
      "Epoch 5/30\n",
      "----------\n",
      "Training...\n",
      "Train_loss:0.052\n",
      "loss:0.052152,micro_precision:0.988750,micro_recall:0.988750,micro_f1:0.988750,macro_precision:0.988762,macro_recall:0.988750,macro_f1:0.988750,mcc:0.977512\n",
      ".....\n",
      "Validating...\n",
      "val_loss:0.314\n",
      "micro_precision:0.894737,micro_recall:0.894737,micro_f1:0.894737,macro_precision:0.447368,macro_recall:0.500000,macro_f1:0.472222,mcc:0.000000\n",
      "val micro f1 increased (0.894737-->0.894737).Saving model\n"
     ]
    },
    {
     "name": "stderr",
     "output_type": "stream",
     "text": [
      "C:\\Users\\User1\\anaconda3\\envs\\GrapevineDS\\lib\\site-packages\\sklearn\\metrics\\_classification.py:1334: UndefinedMetricWarning: Precision is ill-defined and being set to 0.0 in labels with no predicted samples. Use `zero_division` parameter to control this behavior.\n",
      "  _warn_prf(average, modifier, msg_start, len(result))\n"
     ]
    },
    {
     "name": "stdout",
     "output_type": "stream",
     "text": [
      "----------\n",
      "Epoch 6/30\n",
      "----------\n",
      "Training...\n",
      "Train_loss:0.029\n",
      "loss:0.029468,micro_precision:0.990625,micro_recall:0.990625,micro_f1:0.990625,macro_precision:0.990626,macro_recall:0.990625,macro_f1:0.990625,mcc:0.981251\n",
      ".....\n",
      "Validating...\n",
      "val_loss:0.864\n",
      "micro_precision:0.894737,micro_recall:0.894737,micro_f1:0.894737,macro_precision:0.447368,macro_recall:0.500000,macro_f1:0.472222,mcc:0.000000\n",
      "val micro f1 increased (0.894737-->0.894737).Saving model\n"
     ]
    },
    {
     "name": "stderr",
     "output_type": "stream",
     "text": [
      "C:\\Users\\User1\\anaconda3\\envs\\GrapevineDS\\lib\\site-packages\\sklearn\\metrics\\_classification.py:1334: UndefinedMetricWarning: Precision is ill-defined and being set to 0.0 in labels with no predicted samples. Use `zero_division` parameter to control this behavior.\n",
      "  _warn_prf(average, modifier, msg_start, len(result))\n"
     ]
    },
    {
     "name": "stdout",
     "output_type": "stream",
     "text": [
      "----------\n",
      "Epoch 7/30\n",
      "----------\n",
      "Training...\n",
      "Train_loss:0.022\n",
      "loss:0.022394,micro_precision:0.993125,micro_recall:0.993125,micro_f1:0.993125,macro_precision:0.993126,macro_recall:0.993125,macro_f1:0.993125,mcc:0.986251\n",
      ".....\n",
      "Validating...\n",
      "val_loss:0.809\n",
      "micro_precision:0.894737,micro_recall:0.894737,micro_f1:0.894737,macro_precision:0.447368,macro_recall:0.500000,macro_f1:0.472222,mcc:0.000000\n",
      "val micro f1 increased (0.894737-->0.894737).Saving model\n"
     ]
    },
    {
     "name": "stderr",
     "output_type": "stream",
     "text": [
      "C:\\Users\\User1\\anaconda3\\envs\\GrapevineDS\\lib\\site-packages\\sklearn\\metrics\\_classification.py:1334: UndefinedMetricWarning: Precision is ill-defined and being set to 0.0 in labels with no predicted samples. Use `zero_division` parameter to control this behavior.\n",
      "  _warn_prf(average, modifier, msg_start, len(result))\n"
     ]
    },
    {
     "name": "stdout",
     "output_type": "stream",
     "text": [
      "----------\n",
      "Epoch 8/30\n",
      "----------\n",
      "Training...\n",
      "Train_loss:0.026\n",
      "loss:0.026072,micro_precision:0.993125,micro_recall:0.993125,micro_f1:0.993125,macro_precision:0.993126,macro_recall:0.993125,macro_f1:0.993125,mcc:0.986251\n",
      ".....\n",
      "Validating...\n",
      "val_loss:0.947\n",
      "micro_precision:0.894737,micro_recall:0.894737,micro_f1:0.894737,macro_precision:0.447368,macro_recall:0.500000,macro_f1:0.472222,mcc:0.000000\n",
      "val micro f1 increased (0.894737-->0.894737).Saving model\n"
     ]
    },
    {
     "name": "stderr",
     "output_type": "stream",
     "text": [
      "C:\\Users\\User1\\anaconda3\\envs\\GrapevineDS\\lib\\site-packages\\sklearn\\metrics\\_classification.py:1334: UndefinedMetricWarning: Precision is ill-defined and being set to 0.0 in labels with no predicted samples. Use `zero_division` parameter to control this behavior.\n",
      "  _warn_prf(average, modifier, msg_start, len(result))\n"
     ]
    },
    {
     "name": "stdout",
     "output_type": "stream",
     "text": [
      "----------\n",
      "Epoch 9/30\n",
      "----------\n",
      "Training...\n",
      "Train_loss:0.030\n",
      "loss:0.030226,micro_precision:0.991250,micro_recall:0.991250,micro_f1:0.991250,macro_precision:0.991250,macro_recall:0.991250,macro_f1:0.991250,mcc:0.982500\n",
      ".....\n",
      "Validating...\n",
      "val_loss:0.859\n",
      "micro_precision:0.894737,micro_recall:0.894737,micro_f1:0.894737,macro_precision:0.447368,macro_recall:0.500000,macro_f1:0.472222,mcc:0.000000\n",
      "val micro f1 increased (0.894737-->0.894737).Saving model\n"
     ]
    },
    {
     "name": "stderr",
     "output_type": "stream",
     "text": [
      "C:\\Users\\User1\\anaconda3\\envs\\GrapevineDS\\lib\\site-packages\\sklearn\\metrics\\_classification.py:1334: UndefinedMetricWarning: Precision is ill-defined and being set to 0.0 in labels with no predicted samples. Use `zero_division` parameter to control this behavior.\n",
      "  _warn_prf(average, modifier, msg_start, len(result))\n"
     ]
    },
    {
     "name": "stdout",
     "output_type": "stream",
     "text": [
      "----------\n",
      "Epoch 10/30\n",
      "----------\n",
      "Training...\n",
      "Train_loss:0.032\n",
      "loss:0.032125,micro_precision:0.995000,micro_recall:0.995000,micro_f1:0.995000,macro_precision:0.995012,macro_recall:0.995000,macro_f1:0.995000,mcc:0.990012\n",
      ".....\n",
      "Validating...\n",
      "val_loss:0.594\n",
      "micro_precision:0.894737,micro_recall:0.894737,micro_f1:0.894737,macro_precision:0.447368,macro_recall:0.500000,macro_f1:0.472222,mcc:0.000000\n",
      "val micro f1 increased (0.894737-->0.894737).Saving model\n"
     ]
    },
    {
     "name": "stderr",
     "output_type": "stream",
     "text": [
      "C:\\Users\\User1\\anaconda3\\envs\\GrapevineDS\\lib\\site-packages\\sklearn\\metrics\\_classification.py:1334: UndefinedMetricWarning: Precision is ill-defined and being set to 0.0 in labels with no predicted samples. Use `zero_division` parameter to control this behavior.\n",
      "  _warn_prf(average, modifier, msg_start, len(result))\n"
     ]
    },
    {
     "name": "stdout",
     "output_type": "stream",
     "text": [
      "----------\n",
      "Epoch 11/30\n",
      "----------\n",
      "Training...\n",
      "Train_loss:0.021\n",
      "loss:0.020717,micro_precision:0.995625,micro_recall:0.995625,micro_f1:0.995625,macro_precision:0.995632,macro_recall:0.995625,macro_f1:0.995625,mcc:0.991257\n",
      ".....\n",
      "Validating...\n",
      "val_loss:0.737\n",
      "micro_precision:0.894737,micro_recall:0.894737,micro_f1:0.894737,macro_precision:0.447368,macro_recall:0.500000,macro_f1:0.472222,mcc:0.000000\n",
      "val micro f1 increased (0.894737-->0.894737).Saving model\n"
     ]
    },
    {
     "name": "stderr",
     "output_type": "stream",
     "text": [
      "C:\\Users\\User1\\anaconda3\\envs\\GrapevineDS\\lib\\site-packages\\sklearn\\metrics\\_classification.py:1334: UndefinedMetricWarning: Precision is ill-defined and being set to 0.0 in labels with no predicted samples. Use `zero_division` parameter to control this behavior.\n",
      "  _warn_prf(average, modifier, msg_start, len(result))\n"
     ]
    },
    {
     "name": "stdout",
     "output_type": "stream",
     "text": [
      "----------\n",
      "Epoch 12/30\n",
      "----------\n",
      "Training...\n",
      "Train_loss:0.004\n",
      "loss:0.003973,micro_precision:1.000000,micro_recall:1.000000,micro_f1:1.000000,macro_precision:1.000000,macro_recall:1.000000,macro_f1:1.000000,mcc:1.000000\n",
      ".....\n",
      "Validating...\n",
      "val_loss:0.780\n",
      "micro_precision:0.894737,micro_recall:0.894737,micro_f1:0.894737,macro_precision:0.447368,macro_recall:0.500000,macro_f1:0.472222,mcc:0.000000\n",
      "val micro f1 increased (0.894737-->0.894737).Saving model\n"
     ]
    },
    {
     "name": "stderr",
     "output_type": "stream",
     "text": [
      "C:\\Users\\User1\\anaconda3\\envs\\GrapevineDS\\lib\\site-packages\\sklearn\\metrics\\_classification.py:1334: UndefinedMetricWarning: Precision is ill-defined and being set to 0.0 in labels with no predicted samples. Use `zero_division` parameter to control this behavior.\n",
      "  _warn_prf(average, modifier, msg_start, len(result))\n"
     ]
    },
    {
     "name": "stdout",
     "output_type": "stream",
     "text": [
      "----------\n",
      "Epoch 13/30\n",
      "----------\n",
      "Training...\n",
      "Train_loss:0.030\n",
      "loss:0.030237,micro_precision:0.995625,micro_recall:0.995625,micro_f1:0.995625,macro_precision:0.995663,macro_recall:0.995625,macro_f1:0.995625,mcc:0.991288\n",
      ".....\n",
      "Validating...\n",
      "val_loss:0.753\n",
      "micro_precision:0.894737,micro_recall:0.894737,micro_f1:0.894737,macro_precision:0.447368,macro_recall:0.500000,macro_f1:0.472222,mcc:0.000000\n",
      "val micro f1 increased (0.894737-->0.894737).Saving model\n"
     ]
    },
    {
     "name": "stderr",
     "output_type": "stream",
     "text": [
      "C:\\Users\\User1\\anaconda3\\envs\\GrapevineDS\\lib\\site-packages\\sklearn\\metrics\\_classification.py:1334: UndefinedMetricWarning: Precision is ill-defined and being set to 0.0 in labels with no predicted samples. Use `zero_division` parameter to control this behavior.\n",
      "  _warn_prf(average, modifier, msg_start, len(result))\n"
     ]
    },
    {
     "name": "stdout",
     "output_type": "stream",
     "text": [
      "----------\n",
      "Epoch 14/30\n",
      "----------\n",
      "Training...\n",
      "Train_loss:0.017\n",
      "loss:0.016745,micro_precision:0.996875,micro_recall:0.996875,micro_f1:0.996875,macro_precision:0.996876,macro_recall:0.996875,macro_f1:0.996875,mcc:0.993751\n",
      ".....\n",
      "Validating...\n",
      "val_loss:0.731\n",
      "micro_precision:0.894737,micro_recall:0.894737,micro_f1:0.894737,macro_precision:0.447368,macro_recall:0.500000,macro_f1:0.472222,mcc:0.000000\n",
      "val micro f1 increased (0.894737-->0.894737).Saving model\n"
     ]
    },
    {
     "name": "stderr",
     "output_type": "stream",
     "text": [
      "C:\\Users\\User1\\anaconda3\\envs\\GrapevineDS\\lib\\site-packages\\sklearn\\metrics\\_classification.py:1334: UndefinedMetricWarning: Precision is ill-defined and being set to 0.0 in labels with no predicted samples. Use `zero_division` parameter to control this behavior.\n",
      "  _warn_prf(average, modifier, msg_start, len(result))\n"
     ]
    },
    {
     "name": "stdout",
     "output_type": "stream",
     "text": [
      "----------\n",
      "Epoch 15/30\n",
      "----------\n",
      "Training...\n",
      "Train_loss:0.011\n",
      "loss:0.011379,micro_precision:0.996875,micro_recall:0.996875,micro_f1:0.996875,macro_precision:0.996882,macro_recall:0.996875,macro_f1:0.996875,mcc:0.993757\n"
     ]
    },
    {
     "name": "stderr",
     "output_type": "stream",
     "text": [
      "C:\\Users\\User1\\anaconda3\\envs\\GrapevineDS\\lib\\site-packages\\sklearn\\metrics\\_classification.py:1334: UndefinedMetricWarning: Precision is ill-defined and being set to 0.0 in labels with no predicted samples. Use `zero_division` parameter to control this behavior.\n",
      "  _warn_prf(average, modifier, msg_start, len(result))\n"
     ]
    },
    {
     "name": "stdout",
     "output_type": "stream",
     "text": [
      ".....\n",
      "Validating...\n",
      "val_loss:0.779\n",
      "micro_precision:0.894737,micro_recall:0.894737,micro_f1:0.894737,macro_precision:0.447368,macro_recall:0.500000,macro_f1:0.472222,mcc:0.000000\n",
      "val micro f1 increased (0.894737-->0.894737).Saving model\n",
      "----------\n",
      "Epoch 16/30\n",
      "----------\n",
      "Training...\n",
      "Train_loss:0.007\n",
      "loss:0.007477,micro_precision:0.996875,micro_recall:0.996875,micro_f1:0.996875,macro_precision:0.996882,macro_recall:0.996875,macro_f1:0.996875,mcc:0.993757\n"
     ]
    },
    {
     "name": "stderr",
     "output_type": "stream",
     "text": [
      "C:\\Users\\User1\\anaconda3\\envs\\GrapevineDS\\lib\\site-packages\\sklearn\\metrics\\_classification.py:1334: UndefinedMetricWarning: Precision is ill-defined and being set to 0.0 in labels with no predicted samples. Use `zero_division` parameter to control this behavior.\n",
      "  _warn_prf(average, modifier, msg_start, len(result))\n"
     ]
    },
    {
     "name": "stdout",
     "output_type": "stream",
     "text": [
      ".....\n",
      "Validating...\n",
      "val_loss:0.790\n",
      "micro_precision:0.894737,micro_recall:0.894737,micro_f1:0.894737,macro_precision:0.447368,macro_recall:0.500000,macro_f1:0.472222,mcc:0.000000\n",
      "val micro f1 increased (0.894737-->0.894737).Saving model\n",
      "----------\n",
      "Epoch 17/30\n",
      "----------\n",
      "Training...\n",
      "Train_loss:0.014\n",
      "loss:0.014232,micro_precision:0.998125,micro_recall:0.998125,micro_f1:0.998125,macro_precision:0.998132,macro_recall:0.998125,macro_f1:0.998125,mcc:0.996257\n",
      ".....\n",
      "Validating...\n",
      "val_loss:0.761\n",
      "micro_precision:0.894737,micro_recall:0.894737,micro_f1:0.894737,macro_precision:0.447368,macro_recall:0.500000,macro_f1:0.472222,mcc:0.000000\n",
      "val micro f1 increased (0.894737-->0.894737).Saving model\n"
     ]
    },
    {
     "name": "stderr",
     "output_type": "stream",
     "text": [
      "C:\\Users\\User1\\anaconda3\\envs\\GrapevineDS\\lib\\site-packages\\sklearn\\metrics\\_classification.py:1334: UndefinedMetricWarning: Precision is ill-defined and being set to 0.0 in labels with no predicted samples. Use `zero_division` parameter to control this behavior.\n",
      "  _warn_prf(average, modifier, msg_start, len(result))\n"
     ]
    },
    {
     "name": "stdout",
     "output_type": "stream",
     "text": [
      "----------\n",
      "Epoch 18/30\n",
      "----------\n",
      "Training...\n",
      "Train_loss:0.009\n",
      "loss:0.009041,micro_precision:0.998750,micro_recall:0.998750,micro_f1:0.998750,macro_precision:0.998753,macro_recall:0.998750,macro_f1:0.998750,mcc:0.997503\n",
      ".....\n",
      "Validating...\n",
      "val_loss:0.751\n",
      "micro_precision:0.894737,micro_recall:0.894737,micro_f1:0.894737,macro_precision:0.447368,macro_recall:0.500000,macro_f1:0.472222,mcc:0.000000\n",
      "val micro f1 increased (0.894737-->0.894737).Saving model\n"
     ]
    },
    {
     "name": "stderr",
     "output_type": "stream",
     "text": [
      "C:\\Users\\User1\\anaconda3\\envs\\GrapevineDS\\lib\\site-packages\\sklearn\\metrics\\_classification.py:1334: UndefinedMetricWarning: Precision is ill-defined and being set to 0.0 in labels with no predicted samples. Use `zero_division` parameter to control this behavior.\n",
      "  _warn_prf(average, modifier, msg_start, len(result))\n"
     ]
    },
    {
     "name": "stdout",
     "output_type": "stream",
     "text": [
      "----------\n",
      "Epoch 19/30\n",
      "----------\n",
      "Training...\n",
      "Train_loss:0.004\n",
      "loss:0.003549,micro_precision:0.999375,micro_recall:0.999375,micro_f1:0.999375,macro_precision:0.999376,macro_recall:0.999375,macro_f1:0.999375,mcc:0.998751\n",
      ".....\n",
      "Validating...\n",
      "val_loss:0.737\n",
      "micro_precision:0.894737,micro_recall:0.894737,micro_f1:0.894737,macro_precision:0.447368,macro_recall:0.500000,macro_f1:0.472222,mcc:0.000000\n",
      "val micro f1 increased (0.894737-->0.894737).Saving model\n"
     ]
    },
    {
     "name": "stderr",
     "output_type": "stream",
     "text": [
      "C:\\Users\\User1\\anaconda3\\envs\\GrapevineDS\\lib\\site-packages\\sklearn\\metrics\\_classification.py:1334: UndefinedMetricWarning: Precision is ill-defined and being set to 0.0 in labels with no predicted samples. Use `zero_division` parameter to control this behavior.\n",
      "  _warn_prf(average, modifier, msg_start, len(result))\n"
     ]
    },
    {
     "name": "stdout",
     "output_type": "stream",
     "text": [
      "----------\n",
      "Epoch 20/30\n",
      "----------\n",
      "Training...\n",
      "Train_loss:0.006\n",
      "loss:0.005787,micro_precision:0.998125,micro_recall:0.998125,micro_f1:0.998125,macro_precision:0.998126,macro_recall:0.998125,macro_f1:0.998125,mcc:0.996251\n"
     ]
    },
    {
     "name": "stderr",
     "output_type": "stream",
     "text": [
      "C:\\Users\\User1\\anaconda3\\envs\\GrapevineDS\\lib\\site-packages\\sklearn\\metrics\\_classification.py:1334: UndefinedMetricWarning: Precision is ill-defined and being set to 0.0 in labels with no predicted samples. Use `zero_division` parameter to control this behavior.\n",
      "  _warn_prf(average, modifier, msg_start, len(result))\n"
     ]
    },
    {
     "name": "stdout",
     "output_type": "stream",
     "text": [
      ".....\n",
      "Validating...\n",
      "val_loss:0.761\n",
      "micro_precision:0.894737,micro_recall:0.894737,micro_f1:0.894737,macro_precision:0.447368,macro_recall:0.500000,macro_f1:0.472222,mcc:0.000000\n",
      "val micro f1 increased (0.894737-->0.894737).Saving model\n",
      "----------\n",
      "Epoch 21/30\n",
      "----------\n",
      "Training...\n",
      "Train_loss:0.018\n",
      "loss:0.017726,micro_precision:0.995625,micro_recall:0.995625,micro_f1:0.995625,macro_precision:0.995644,macro_recall:0.995625,macro_f1:0.995625,mcc:0.991269\n"
     ]
    },
    {
     "name": "stderr",
     "output_type": "stream",
     "text": [
      "C:\\Users\\User1\\anaconda3\\envs\\GrapevineDS\\lib\\site-packages\\sklearn\\metrics\\_classification.py:1334: UndefinedMetricWarning: Precision is ill-defined and being set to 0.0 in labels with no predicted samples. Use `zero_division` parameter to control this behavior.\n",
      "  _warn_prf(average, modifier, msg_start, len(result))\n"
     ]
    },
    {
     "name": "stdout",
     "output_type": "stream",
     "text": [
      ".....\n",
      "Validating...\n",
      "val_loss:0.824\n",
      "micro_precision:0.894737,micro_recall:0.894737,micro_f1:0.894737,macro_precision:0.447368,macro_recall:0.500000,macro_f1:0.472222,mcc:0.000000\n",
      "val micro f1 increased (0.894737-->0.894737).Saving model\n",
      "----------\n",
      "Epoch 22/30\n",
      "----------\n",
      "Training...\n",
      "Train_loss:0.009\n",
      "loss:0.009198,micro_precision:0.998750,micro_recall:0.998750,micro_f1:0.998750,macro_precision:0.998753,macro_recall:0.998750,macro_f1:0.998750,mcc:0.997503\n",
      ".....\n",
      "Validating...\n",
      "val_loss:0.834\n",
      "micro_precision:0.894737,micro_recall:0.894737,micro_f1:0.894737,macro_precision:0.447368,macro_recall:0.500000,macro_f1:0.472222,mcc:0.000000\n",
      "val micro f1 increased (0.894737-->0.894737).Saving model\n"
     ]
    },
    {
     "name": "stderr",
     "output_type": "stream",
     "text": [
      "C:\\Users\\User1\\anaconda3\\envs\\GrapevineDS\\lib\\site-packages\\sklearn\\metrics\\_classification.py:1334: UndefinedMetricWarning: Precision is ill-defined and being set to 0.0 in labels with no predicted samples. Use `zero_division` parameter to control this behavior.\n",
      "  _warn_prf(average, modifier, msg_start, len(result))\n"
     ]
    },
    {
     "name": "stdout",
     "output_type": "stream",
     "text": [
      "----------\n",
      "Epoch 23/30\n",
      "----------\n",
      "Training...\n",
      "Train_loss:0.011\n",
      "loss:0.011282,micro_precision:0.998750,micro_recall:0.998750,micro_f1:0.998750,macro_precision:0.998753,macro_recall:0.998750,macro_f1:0.998750,mcc:0.997503\n",
      ".....\n",
      "Validating...\n",
      "val_loss:0.781\n",
      "micro_precision:0.894737,micro_recall:0.894737,micro_f1:0.894737,macro_precision:0.447368,macro_recall:0.500000,macro_f1:0.472222,mcc:0.000000\n",
      "val micro f1 increased (0.894737-->0.894737).Saving model\n"
     ]
    },
    {
     "name": "stderr",
     "output_type": "stream",
     "text": [
      "C:\\Users\\User1\\anaconda3\\envs\\GrapevineDS\\lib\\site-packages\\sklearn\\metrics\\_classification.py:1334: UndefinedMetricWarning: Precision is ill-defined and being set to 0.0 in labels with no predicted samples. Use `zero_division` parameter to control this behavior.\n",
      "  _warn_prf(average, modifier, msg_start, len(result))\n"
     ]
    },
    {
     "name": "stdout",
     "output_type": "stream",
     "text": [
      "----------\n",
      "Epoch 24/30\n",
      "----------\n",
      "Training...\n",
      "Train_loss:0.010\n",
      "loss:0.009896,micro_precision:0.998125,micro_recall:0.998125,micro_f1:0.998125,macro_precision:0.998132,macro_recall:0.998125,macro_f1:0.998125,mcc:0.996257\n"
     ]
    },
    {
     "name": "stderr",
     "output_type": "stream",
     "text": [
      "C:\\Users\\User1\\anaconda3\\envs\\GrapevineDS\\lib\\site-packages\\sklearn\\metrics\\_classification.py:1334: UndefinedMetricWarning: Precision is ill-defined and being set to 0.0 in labels with no predicted samples. Use `zero_division` parameter to control this behavior.\n",
      "  _warn_prf(average, modifier, msg_start, len(result))\n"
     ]
    },
    {
     "name": "stdout",
     "output_type": "stream",
     "text": [
      ".....\n",
      "Validating...\n",
      "val_loss:0.777\n",
      "micro_precision:0.894737,micro_recall:0.894737,micro_f1:0.894737,macro_precision:0.447368,macro_recall:0.500000,macro_f1:0.472222,mcc:0.000000\n",
      "val micro f1 increased (0.894737-->0.894737).Saving model\n",
      "----------\n",
      "Epoch 25/30\n",
      "----------\n",
      "Training...\n",
      "Train_loss:0.003\n",
      "loss:0.003032,micro_precision:1.000000,micro_recall:1.000000,micro_f1:1.000000,macro_precision:1.000000,macro_recall:1.000000,macro_f1:1.000000,mcc:1.000000\n",
      ".....\n",
      "Validating...\n",
      "val_loss:0.827\n",
      "micro_precision:0.894737,micro_recall:0.894737,micro_f1:0.894737,macro_precision:0.447368,macro_recall:0.500000,macro_f1:0.472222,mcc:0.000000\n",
      "val micro f1 increased (0.894737-->0.894737).Saving model\n"
     ]
    },
    {
     "name": "stderr",
     "output_type": "stream",
     "text": [
      "C:\\Users\\User1\\anaconda3\\envs\\GrapevineDS\\lib\\site-packages\\sklearn\\metrics\\_classification.py:1334: UndefinedMetricWarning: Precision is ill-defined and being set to 0.0 in labels with no predicted samples. Use `zero_division` parameter to control this behavior.\n",
      "  _warn_prf(average, modifier, msg_start, len(result))\n"
     ]
    },
    {
     "name": "stdout",
     "output_type": "stream",
     "text": [
      "----------\n",
      "Epoch 26/30\n",
      "----------\n",
      "Training...\n",
      "Train_loss:0.011\n",
      "loss:0.010709,micro_precision:0.998125,micro_recall:0.998125,micro_f1:0.998125,macro_precision:0.998126,macro_recall:0.998125,macro_f1:0.998125,mcc:0.996251\n"
     ]
    },
    {
     "name": "stderr",
     "output_type": "stream",
     "text": [
      "C:\\Users\\User1\\anaconda3\\envs\\GrapevineDS\\lib\\site-packages\\sklearn\\metrics\\_classification.py:1334: UndefinedMetricWarning: Precision is ill-defined and being set to 0.0 in labels with no predicted samples. Use `zero_division` parameter to control this behavior.\n",
      "  _warn_prf(average, modifier, msg_start, len(result))\n"
     ]
    },
    {
     "name": "stdout",
     "output_type": "stream",
     "text": [
      ".....\n",
      "Validating...\n",
      "val_loss:0.840\n",
      "micro_precision:0.894737,micro_recall:0.894737,micro_f1:0.894737,macro_precision:0.447368,macro_recall:0.500000,macro_f1:0.472222,mcc:0.000000\n",
      "val micro f1 increased (0.894737-->0.894737).Saving model\n",
      "----------\n",
      "Epoch 27/30\n",
      "----------\n",
      "Training...\n",
      "Train_loss:0.015\n",
      "loss:0.014570,micro_precision:0.995625,micro_recall:0.995625,micro_f1:0.995625,macro_precision:0.995663,macro_recall:0.995625,macro_f1:0.995625,mcc:0.991288\n"
     ]
    },
    {
     "name": "stderr",
     "output_type": "stream",
     "text": [
      "C:\\Users\\User1\\anaconda3\\envs\\GrapevineDS\\lib\\site-packages\\sklearn\\metrics\\_classification.py:1334: UndefinedMetricWarning: Precision is ill-defined and being set to 0.0 in labels with no predicted samples. Use `zero_division` parameter to control this behavior.\n",
      "  _warn_prf(average, modifier, msg_start, len(result))\n"
     ]
    },
    {
     "name": "stdout",
     "output_type": "stream",
     "text": [
      ".....\n",
      "Validating...\n",
      "val_loss:0.783\n",
      "micro_precision:0.894737,micro_recall:0.894737,micro_f1:0.894737,macro_precision:0.447368,macro_recall:0.500000,macro_f1:0.472222,mcc:0.000000\n",
      "val micro f1 increased (0.894737-->0.894737).Saving model\n",
      "----------\n",
      "Epoch 28/30\n",
      "----------\n",
      "Training...\n",
      "Train_loss:0.011\n",
      "loss:0.011355,micro_precision:0.996875,micro_recall:0.996875,micro_f1:0.996875,macro_precision:0.996882,macro_recall:0.996875,macro_f1:0.996875,mcc:0.993757\n",
      ".....\n",
      "Validating...\n",
      "val_loss:0.815\n",
      "micro_precision:0.894737,micro_recall:0.894737,micro_f1:0.894737,macro_precision:0.447368,macro_recall:0.500000,macro_f1:0.472222,mcc:0.000000\n",
      "val micro f1 increased (0.894737-->0.894737).Saving model\n"
     ]
    },
    {
     "name": "stderr",
     "output_type": "stream",
     "text": [
      "C:\\Users\\User1\\anaconda3\\envs\\GrapevineDS\\lib\\site-packages\\sklearn\\metrics\\_classification.py:1334: UndefinedMetricWarning: Precision is ill-defined and being set to 0.0 in labels with no predicted samples. Use `zero_division` parameter to control this behavior.\n",
      "  _warn_prf(average, modifier, msg_start, len(result))\n"
     ]
    },
    {
     "name": "stdout",
     "output_type": "stream",
     "text": [
      "----------\n",
      "Epoch 29/30\n",
      "----------\n",
      "Training...\n",
      "Train_loss:0.003\n",
      "loss:0.002869,micro_precision:1.000000,micro_recall:1.000000,micro_f1:1.000000,macro_precision:1.000000,macro_recall:1.000000,macro_f1:1.000000,mcc:1.000000\n",
      ".....\n",
      "Validating...\n",
      "val_loss:0.793\n",
      "micro_precision:0.894737,micro_recall:0.894737,micro_f1:0.894737,macro_precision:0.447368,macro_recall:0.500000,macro_f1:0.472222,mcc:0.000000\n",
      "val micro f1 increased (0.894737-->0.894737).Saving model\n"
     ]
    },
    {
     "name": "stderr",
     "output_type": "stream",
     "text": [
      "C:\\Users\\User1\\anaconda3\\envs\\GrapevineDS\\lib\\site-packages\\sklearn\\metrics\\_classification.py:1334: UndefinedMetricWarning: Precision is ill-defined and being set to 0.0 in labels with no predicted samples. Use `zero_division` parameter to control this behavior.\n",
      "  _warn_prf(average, modifier, msg_start, len(result))\n"
     ]
    },
    {
     "name": "stdout",
     "output_type": "stream",
     "text": [
      "----------\n",
      "Epoch 30/30\n",
      "----------\n",
      "Training...\n",
      "Train_loss:0.010\n",
      "loss:0.010268,micro_precision:0.998750,micro_recall:0.998750,micro_f1:0.998750,macro_precision:0.998753,macro_recall:0.998750,macro_f1:0.998750,mcc:0.997503\n",
      ".....\n",
      "Validating...\n",
      "val_loss:0.821\n",
      "micro_precision:0.894737,micro_recall:0.894737,micro_f1:0.894737,macro_precision:0.447368,macro_recall:0.500000,macro_f1:0.472222,mcc:0.000000\n",
      "val micro f1 increased (0.894737-->0.894737).Saving model\n"
     ]
    },
    {
     "name": "stderr",
     "output_type": "stream",
     "text": [
      "C:\\Users\\User1\\anaconda3\\envs\\GrapevineDS\\lib\\site-packages\\sklearn\\metrics\\_classification.py:1334: UndefinedMetricWarning: Precision is ill-defined and being set to 0.0 in labels with no predicted samples. Use `zero_division` parameter to control this behavior.\n",
      "  _warn_prf(average, modifier, msg_start, len(result))\n"
     ]
    },
    {
     "name": "stdout",
     "output_type": "stream",
     "text": [
      "----------\n",
      "0m 16s\n",
      "Best model path:./realDS_checkpoints_30_32_0001//C_30_8.pth\n"
     ]
    },
    {
     "name": "stderr",
     "output_type": "stream",
     "text": [
      "C:\\Users\\User1\\anaconda3\\envs\\GrapevineDS\\lib\\site-packages\\torchvision\\models\\_utils.py:223: UserWarning: Arguments other than a weight enum or `None` for 'weights' are deprecated since 0.13 and may be removed in the future. The current behavior is equivalent to passing `weights=None`.\n",
      "  warnings.warn(msg)\n",
      "C:\\Users\\User1\\anaconda3\\envs\\GrapevineDS\\lib\\site-packages\\torch\\nn\\modules\\conv.py:456: UserWarning: Plan failed with a cudnnException: CUDNN_BACKEND_EXECUTION_PLAN_DESCRIPTOR: cudnnFinalize Descriptor Failed cudnn_status: CUDNN_STATUS_NOT_SUPPORTED (Triggered internally at C:\\actions-runner\\_work\\pytorch\\pytorch\\builder\\windows\\pytorch\\aten\\src\\ATen\\native\\cudnn\\Conv_v8.cpp:919.)\n",
      "  return F.conv2d(input, weight, bias, self.stride,\n",
      "C:\\Users\\User1\\anaconda3\\envs\\GrapevineDS\\lib\\site-packages\\sklearn\\metrics\\_classification.py:1334: UndefinedMetricWarning: Precision is ill-defined and being set to 0.0 in labels with no predicted samples. Use `zero_division` parameter to control this behavior.\n",
      "  _warn_prf(average, modifier, msg_start, len(result))\n"
     ]
    },
    {
     "name": "stdout",
     "output_type": "stream",
     "text": [
      "Accuracy of the network on the 30 test images: 93.333336 %\n",
      "[[28  0]\n",
      " [ 2  0]]\n",
      "taking class names to plot CM\n",
      "Generating confution matrix\n",
      "Confusion matrix, without normalization\n",
      "[[28  0]\n",
      " [ 2  0]]\n",
      "Finished confusion matrix drawing...\n",
      "              precision    recall  f1-score   support\n",
      "\n",
      "     Disease       0.93      1.00      0.97        28\n",
      "     Healthy       0.00      0.00      0.00         2\n",
      "\n",
      "    accuracy                           0.93        30\n",
      "   macro avg       0.47      0.50      0.48        30\n",
      "weighted avg       0.87      0.93      0.90        30\n",
      "\n",
      "micro_precision:0.933333,micro_recall:0.933333,micro_f1:0.933333,macro_precision:0.466667,macro_recall:0.500000,macro_f1:0.482759,mcc:0.000000\n"
     ]
    },
    {
     "name": "stderr",
     "output_type": "stream",
     "text": [
      "C:\\Users\\User1\\anaconda3\\envs\\GrapevineDS\\lib\\site-packages\\sklearn\\metrics\\_classification.py:1334: UndefinedMetricWarning: Precision and F-score are ill-defined and being set to 0.0 in labels with no predicted samples. Use `zero_division` parameter to control this behavior.\n",
      "  _warn_prf(average, modifier, msg_start, len(result))\n",
      "C:\\Users\\User1\\anaconda3\\envs\\GrapevineDS\\lib\\site-packages\\sklearn\\metrics\\_classification.py:1334: UndefinedMetricWarning: Precision and F-score are ill-defined and being set to 0.0 in labels with no predicted samples. Use `zero_division` parameter to control this behavior.\n",
      "  _warn_prf(average, modifier, msg_start, len(result))\n",
      "C:\\Users\\User1\\anaconda3\\envs\\GrapevineDS\\lib\\site-packages\\sklearn\\metrics\\_classification.py:1334: UndefinedMetricWarning: Precision and F-score are ill-defined and being set to 0.0 in labels with no predicted samples. Use `zero_division` parameter to control this behavior.\n",
      "  _warn_prf(average, modifier, msg_start, len(result))\n"
     ]
    },
    {
     "data": {
      "text/plain": [
       "(defaultdict(float,\n",
       "             {'micro_precision': 0.8947368421052632,\n",
       "              'micro_recall': 0.8947368421052632,\n",
       "              'micro_f1': 0.8947368421052632,\n",
       "              'macro_precision': 0.4473684210526316,\n",
       "              'macro_recall': 0.5,\n",
       "              'macro_f1': 0.4722222222222222,\n",
       "              'mcc': 0.0}),\n",
       " defaultdict(float,\n",
       "             {'micro_precision': 0.9333333333333333,\n",
       "              'micro_recall': 0.9333333333333333,\n",
       "              'micro_f1': 0.9333333333333333,\n",
       "              'macro_precision': 0.4666666666666667,\n",
       "              'macro_recall': 0.5,\n",
       "              'macro_f1': 0.4827586206896552,\n",
       "              'mcc': 0.0}))"
      ]
     },
     "execution_count": 13,
     "metadata": {},
     "output_type": "execute_result"
    },
    {
     "data": {
      "image/png": "[encoded data removed]",
      "text/plain": [
       "<Figure size 1000x1000 with 2 Axes>"
      ]
     },
     "metadata": {},
     "output_type": "display_data"
    }
   ],
   "source": [
    "logging.basicConfig(level=logging.INFO, format='%(levelname)s: %(message)s')\n",
    "logging.info(f'Using device: {device}')\n",
    "logging.info(f'''Starting training:\n",
    "             Epochs: {max_epochs}\n",
    "             Batch Size: {batch_size}\n",
    "             Learning Rate: {lr}''')\n",
    "t=train()\n",
    "t.train_net()"
   ]
  },
  {
   "cell_type": "code",
   "execution_count": null,
   "id": "c5e81f5c",
   "metadata": {},
   "outputs": [],
   "source": []
  },
  {
   "cell_type": "code",
   "execution_count": null,
   "id": "5484e664",
   "metadata": {},
   "outputs": [],
   "source": []
  },
  {
   "cell_type": "code",
   "execution_count": null,
   "id": "047dd76f",
   "metadata": {},
   "outputs": [],
   "source": []
  }
 ],
 "metadata": {
  "kernelspec": {
   "display_name": "Python 3 (ipykernel)",
   "language": "python",
   "name": "python3"
  },
  "language_info": {
   "codemirror_mode": {
    "name": "ipython",
    "version": 3
   },
   "file_extension": ".py",
   "mimetype": "text/x-python",
   "name": "python",
   "nbconvert_exporter": "python",
   "pygments_lexer": "ipython3",
   "version": "3.8.19"
  }
 },
 "nbformat": 4,
 "nbformat_minor": 5
}
