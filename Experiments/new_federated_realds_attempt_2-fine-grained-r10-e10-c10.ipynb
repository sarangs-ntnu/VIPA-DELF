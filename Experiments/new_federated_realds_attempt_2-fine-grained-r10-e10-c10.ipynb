{
 "cells": [
  {
   "cell_type": "code",
   "execution_count": 1,
   "metadata": {},
   "outputs": [
    {
     "name": "stdout",
     "output_type": "stream",
     "text": [
      "2.0.1+cu117\n"
     ]
    }
   ],
   "source": [
    "import torch\n",
    "import os\n",
    "from torchvision import transforms, datasets,models\n",
    "from torch.utils import data\n",
    "from torch import optim\n",
    "print(torch.__version__)"
   ]
  },
  {
   "cell_type": "code",
   "execution_count": 2,
   "metadata": {},
   "outputs": [
    {
     "data": {
      "text/plain": [
       "device(type='cuda', index=0)"
      ]
     },
     "execution_count": 2,
     "metadata": {},
     "output_type": "execute_result"
    }
   ],
   "source": [
    "###########################\n",
    "# Checking if GPU is used\n",
    "###########################\n",
    "\n",
    "use_cuda=torch.cuda.is_available()\n",
    "use_mps = torch.backends.mps.is_available()\n",
    "device=torch.device(\"cuda:0\" if use_cuda else \"mps\" if use_mps else \"cpu\")\n",
    "device"
   ]
  },
  {
   "cell_type": "code",
   "execution_count": 3,
   "metadata": {},
   "outputs": [
    {
     "name": "stdout",
     "output_type": "stream",
     "text": [
      "Fri Jul 12 00:27:36 2024       \n",
      "+---------------------------------------------------------------------------------------+\n",
      "| NVIDIA-SMI 535.161.08             Driver Version: 535.161.08   CUDA Version: 12.2     |\n",
      "|-----------------------------------------+----------------------+----------------------+\n",
      "| GPU  Name                 Persistence-M | Bus-Id        Disp.A | Volatile Uncorr. ECC |\n",
      "| Fan  Temp   Perf          Pwr:Usage/Cap |         Memory-Usage | GPU-Util  Compute M. |\n",
      "|                                         |                      |               MIG M. |\n",
      "|=========================================+======================+======================|\n",
      "|   0  Tesla V100-SXM3-32GB           On  | 00000000:34:00.0 Off |                    0 |\n",
      "| N/A   33C    P0              75W / 350W |    737MiB / 32768MiB |     18%      Default |\n",
      "|                                         |                      |                  N/A |\n",
      "+-----------------------------------------+----------------------+----------------------+\n",
      "|   1  Tesla V100-SXM3-32GB           On  | 00000000:36:00.0 Off |                    0 |\n",
      "| N/A   57C    P0             263W / 350W |   8045MiB / 32768MiB |     99%      Default |\n",
      "|                                         |                      |                  N/A |\n",
      "+-----------------------------------------+----------------------+----------------------+\n",
      "|   2  Tesla V100-SXM3-32GB           On  | 00000000:39:00.0 Off |                    0 |\n",
      "| N/A   62C    P0              99W / 350W |  11545MiB / 32768MiB |      0%      Default |\n",
      "|                                         |                      |                  N/A |\n",
      "+-----------------------------------------+----------------------+----------------------+\n",
      "|   3  Tesla V100-SXM3-32GB           On  | 00000000:3B:00.0 Off |                    0 |\n",
      "| N/A   66C    P0             355W / 350W |   1279MiB / 32768MiB |     99%      Default |\n",
      "|                                         |                      |                  N/A |\n",
      "+-----------------------------------------+----------------------+----------------------+\n",
      "|   4  Tesla V100-SXM3-32GB           On  | 00000000:57:00.0 Off |                    0 |\n",
      "| N/A   30C    P0              49W / 350W |      0MiB / 32768MiB |      0%      Default |\n",
      "|                                         |                      |                  N/A |\n",
      "+-----------------------------------------+----------------------+----------------------+\n",
      "|   5  Tesla V100-SXM3-32GB           On  | 00000000:59:00.0 Off |                    0 |\n",
      "| N/A   36C    P0              69W / 350W |   9251MiB / 32768MiB |      0%      Default |\n",
      "|                                         |                      |                  N/A |\n",
      "+-----------------------------------------+----------------------+----------------------+\n",
      "|   6  Tesla V100-SXM3-32GB           On  | 00000000:5C:00.0 Off |                    0 |\n",
      "| N/A   28C    P0              50W / 350W |      0MiB / 32768MiB |      0%      Default |\n",
      "|                                         |                      |                  N/A |\n",
      "+-----------------------------------------+----------------------+----------------------+\n",
      "|   7  Tesla V100-SXM3-32GB           On  | 00000000:5E:00.0 Off |                    0 |\n",
      "| N/A   33C    P0              49W / 350W |      0MiB / 32768MiB |      0%      Default |\n",
      "|                                         |                      |                  N/A |\n",
      "+-----------------------------------------+----------------------+----------------------+\n",
      "|   8  Tesla V100-SXM3-32GB           On  | 00000000:B7:00.0 Off |                    0 |\n",
      "| N/A   31C    P0              48W / 350W |      0MiB / 32768MiB |      0%      Default |\n",
      "|                                         |                      |                  N/A |\n",
      "+-----------------------------------------+----------------------+----------------------+\n",
      "|   9  Tesla V100-SXM3-32GB           On  | 00000000:B9:00.0 Off |                    0 |\n",
      "| N/A   31C    P0              48W / 350W |      0MiB / 32768MiB |      0%      Default |\n",
      "|                                         |                      |                  N/A |\n",
      "+-----------------------------------------+----------------------+----------------------+\n",
      "|  10  Tesla V100-SXM3-32GB           On  | 00000000:BC:00.0 Off |                    0 |\n",
      "| N/A   35C    P0              51W / 350W |      0MiB / 32768MiB |      0%      Default |\n",
      "|                                         |                      |                  N/A |\n",
      "+-----------------------------------------+----------------------+----------------------+\n",
      "|  11  Tesla V100-SXM3-32GB           On  | 00000000:BE:00.0 Off |                    0 |\n",
      "| N/A   36C    P0              49W / 350W |      0MiB / 32768MiB |      0%      Default |\n",
      "|                                         |                      |                  N/A |\n",
      "+-----------------------------------------+----------------------+----------------------+\n",
      "|  12  Tesla V100-SXM3-32GB           On  | 00000000:E0:00.0 Off |                    0 |\n",
      "| N/A   31C    P0              47W / 350W |      0MiB / 32768MiB |      0%      Default |\n",
      "|                                         |                      |                  N/A |\n",
      "+-----------------------------------------+----------------------+----------------------+\n",
      "|  13  Tesla V100-SXM3-32GB           On  | 00000000:E2:00.0 Off |                    0 |\n",
      "| N/A   30C    P0              48W / 350W |      0MiB / 32768MiB |      0%      Default |\n",
      "|                                         |                      |                  N/A |\n",
      "+-----------------------------------------+----------------------+----------------------+\n",
      "|  14  Tesla V100-SXM3-32GB           On  | 00000000:E5:00.0 Off |                    0 |\n",
      "| N/A   34C    P0              49W / 350W |      0MiB / 32768MiB |      0%      Default |\n",
      "|                                         |                      |                  N/A |\n",
      "+-----------------------------------------+----------------------+----------------------+\n",
      "|  15  Tesla V100-SXM3-32GB           On  | 00000000:E7:00.0 Off |                    0 |\n",
      "| N/A   35C    P0              50W / 350W |      0MiB / 32768MiB |      0%      Default |\n",
      "|                                         |                      |                  N/A |\n",
      "+-----------------------------------------+----------------------+----------------------+\n",
      "                                                                                         \n",
      "+---------------------------------------------------------------------------------------+\n",
      "| Processes:                                                                            |\n",
      "|  GPU   GI   CI        PID   Type   Process name                            GPU Memory |\n",
      "|        ID   ID                                                             Usage      |\n",
      "|=======================================================================================|\n",
      "|    0   N/A  N/A   1875342      C   ...meshu/anaconda3/envs/ECG/bin/python      734MiB |\n",
      "|    1   N/A  N/A   1932494      C   ...meshu/anaconda3/envs/ECG/bin/python    16930MiB |\n",
      "|    2   N/A  N/A   3001583      C   ...meshu/anaconda3/envs/ECG/bin/python    11542MiB |\n",
      "|    3   N/A  N/A   2589348      C   ...rabink1/.conda/envs/jepa/bin/python     1276MiB |\n",
      "|    5   N/A  N/A   2701134      C   ...gs/D1/chameleon_venv/bin/python3.11     9248MiB |\n",
      "+---------------------------------------------------------------------------------------+\n"
     ]
    }
   ],
   "source": [
    "!nvidia-smi"
   ]
  },
  {
   "cell_type": "code",
   "execution_count": 3,
   "metadata": {},
   "outputs": [],
   "source": [
    "########################################\n",
    "# Setting basic parameters for the model\n",
    "########################################           \n",
    "         \n",
    "batch_size=16\n",
    "max_epochs=10\n",
    "lr=0.0001\n",
    "\n",
    "NUM_CLIENTS = 10\n",
    "\n",
    "NUM_DATA_SPLIT = NUM_CLIENTS\n",
    "\n",
    "ROUNDS = 10\n",
    "\n",
    "# added this just to done some experiments. Remove it to execute correct code.\n",
    "# It should be same as NUM_CLIENTS\n",
    "# NUM_DATA_SPLIT = 40\n",
    "\n",
    "num_classes = 2\n",
    "\n",
    "\n",
    "# name of new dataset\n",
    "dataset = \"Real_images_processed\""
   ]
  },
  {
   "cell_type": "code",
   "execution_count": 4,
   "metadata": {},
   "outputs": [
    {
     "name": "stdout",
     "output_type": "stream",
     "text": [
      "train root Real_images_processed/train\n",
      "Directory './fl_checkpointsswintransformer_e10_c10_r10' created\n"
     ]
    }
   ],
   "source": [
    "train_root_dir=os.path.join(dataset, 'train')   \n",
    "val_root_dir= os.path.join(dataset, 'validation') \n",
    "test_root_dir= os.path.join(dataset, 'test') \n",
    "model_path='./fl_checkpointsswintransformer_e10_c10_r10'  # set path to the folder that will store model's checkpoints\n",
    "\n",
    "n_classes=2  # number of classes used for training\n",
    "\n",
    "global val_f1_max\n",
    "\n",
    "\n",
    "try:\n",
    "    if not os.path.exists(model_path):\n",
    "        os.makedirs(model_path)\n",
    "except OSError as err:\n",
    "    print(err)\n",
    "    \n",
    "print('train root', train_root_dir)\n",
    "\n",
    "print(\"Directory '% s' created\" % model_path)\n",
    "filename='results_e'+str(max_epochs)+'_'+'b'+str(batch_size)+'_'+'lr'+str(lr)+'_'+'cnn'   #filename used for saving epoch-wise training details and test results "
   ]
  },
  {
   "cell_type": "markdown",
   "metadata": {},
   "source": [
    "## Federated Learning"
   ]
  },
  {
   "cell_type": "code",
   "execution_count": 5,
   "metadata": {},
   "outputs": [
    {
     "name": "stderr",
     "output_type": "stream",
     "text": [
      "2024-07-12 12:58:41.270212: I tensorflow/core/platform/cpu_feature_guard.cc:210] This TensorFlow binary is optimized to use available CPU instructions in performance-critical operations.\n",
      "To enable the following instructions: AVX2 AVX512F FMA, in other operations, rebuild TensorFlow with the appropriate compiler flags.\n",
      "2024-07-12 12:58:45.220009: W tensorflow/compiler/tf2tensorrt/utils/py_utils.cc:38] TF-TRT Warning: Could not find TensorRT\n"
     ]
    },
    {
     "name": "stdout",
     "output_type": "stream",
     "text": [
      "Training on cuda:0 using PyTorch 2.0.1+cu117 and Flower 1.9.0\n"
     ]
    }
   ],
   "source": [
    "from collections import OrderedDict\n",
    "from typing import Dict, List, Optional, Tuple\n",
    "\n",
    "import numpy as np\n",
    "import torch\n",
    "import torch.nn as nn\n",
    "import torch.nn.functional as F\n",
    "import torchvision.transforms as transforms\n",
    "from torch.utils.data import DataLoader, random_split\n",
    "from torchvision.datasets import CIFAR10\n",
    "\n",
    "import flwr as fl\n",
    "\n",
    "print(\n",
    "    f\"Training on {device} using PyTorch {torch.__version__} and Flower {fl.__version__}\"\n",
    ")"
   ]
  },
  {
   "cell_type": "markdown",
   "metadata": {},
   "source": [
    "### Custom Data Loader"
   ]
  },
  {
   "cell_type": "code",
   "execution_count": 6,
   "metadata": {},
   "outputs": [
    {
     "name": "stdout",
     "output_type": "stream",
     "text": [
      "Number of Training set images:196\n",
      "Number of Validation set images:55\n",
      "Number of Test set images:30\n",
      "\n",
      "Datassets after split...\n",
      "Number of Training set images:10\n",
      "Number of Validation set images:10\n"
     ]
    }
   ],
   "source": [
    "def load_datasets(num_clients: int):\n",
    "    # ####################################\n",
    "    # # Training\n",
    "    # ####################################\n",
    "\n",
    "    trans={\n",
    "        # Train uses data augmentation\n",
    "        'train': transforms.Compose([\n",
    "            transforms.Resize((224, 224)),\n",
    "            # transforms.RandomRotation(degrees=15),\n",
    "            # transforms.RandomHorizontalFlip(),\n",
    "            transforms.ToTensor(),\n",
    "            transforms.Normalize([0.4762, 0.3054, 0.2368], [0.3345, 0.2407, 0.2164])\n",
    "        ]),\n",
    "        # Validation does not use augmentation\n",
    "        'valid':\n",
    "        transforms.Compose([\n",
    "            transforms.Resize((224, 224)),            \n",
    "            transforms.ToTensor(),\n",
    "            transforms.Normalize([0.4762, 0.3054, 0.2368], [0.3345, 0.2407, 0.2164])\n",
    "        ]),\n",
    "\n",
    "        # Test does not use augmentation\n",
    "        'test':\n",
    "        transforms.Compose([\n",
    "            transforms.Resize((224, 224)),\n",
    "            transforms.ToTensor(),\n",
    "            transforms.Normalize([0.4762, 0.3054, 0.2368], [0.3345, 0.2407, 0.2164])\n",
    "        ]),\n",
    "    }\n",
    "\n",
    "    training_dataset= datasets.ImageFolder(train_root_dir, transform=trans['train'])\n",
    "    validation_dataset= datasets.ImageFolder(val_root_dir, transform=trans['valid'])\n",
    "    test_dataset= datasets.ImageFolder(test_root_dir, transform=trans['test'])\n",
    "\n",
    "    print('Number of Training set images:{}'.format(len(training_dataset)))\n",
    "    print('Number of Validation set images:{}'.format(len(validation_dataset)))\n",
    "    print('Number of Test set images:{}'.format(len(test_dataset)))\n",
    "\n",
    "    # Split training set into `num_clients` partitions to simulate different local datasets\n",
    "    partition_size = len(training_dataset) // num_clients\n",
    "    lengths = [partition_size] * num_clients\n",
    "    diff = len(training_dataset) - sum(lengths)\n",
    "    lengths[-1] = lengths[-1] + diff\n",
    "    train_datasets = random_split(training_dataset, lengths, torch.Generator().manual_seed(42))\n",
    "\n",
    "    partition_size = len(validation_dataset) // num_clients\n",
    "    lengths = [partition_size] * num_clients\n",
    "    diff = len(validation_dataset) - sum(lengths)\n",
    "    lengths[-1] = lengths[-1] + diff\n",
    "    val_datasets = random_split(validation_dataset, lengths, torch.Generator().manual_seed(42))\n",
    "\n",
    "    # Split each partition into train/val and create DataLoader\n",
    "    trainloaders = []\n",
    "    valloaders = []\n",
    "    for tr_ds in train_datasets:\n",
    "        trainloaders.append(data.DataLoader(tr_ds, batch_size=batch_size, shuffle=True))\n",
    "    for val_ds in val_datasets:\n",
    "        valloaders.append(data.DataLoader(val_ds, batch_size=batch_size))\n",
    "\n",
    "    testloader = data.DataLoader(test_dataset,batch_size)\n",
    "    \n",
    "    print(\"\\nDatassets after split...\")\n",
    "    print('Number of Training set images:{}'.format(len(trainloaders)))\n",
    "    print('Number of Validation set images:{}'.format(len(valloaders)))\n",
    "\n",
    "    \n",
    "    return trainloaders, valloaders, testloader\n",
    "\n",
    "trainloaders, valloaders, testloader = load_datasets(NUM_DATA_SPLIT)"
   ]
  },
  {
   "cell_type": "markdown",
   "metadata": {},
   "source": [
    "### Model Training"
   ]
  },
  {
   "cell_type": "code",
   "execution_count": 7,
   "metadata": {},
   "outputs": [],
   "source": [
    "def train(model, trainloader, epochs: int):\n",
    "    \"\"\"Train the network on the training set.\"\"\"\n",
    "    optimizer=optim.Adam(model.parameters(), lr, weight_decay=1e-4)\n",
    "\n",
    "    scheduler=optim.lr_scheduler.ReduceLROnPlateau(optimizer,mode='min',patience=4,verbose=True)\n",
    "\n",
    "    criterion = nn.CrossEntropyLoss()\n",
    "\n",
    "    model.train()\n",
    "    print(\"Starting client training...\")\n",
    "    for epoch in range(epochs):\n",
    "        print(f\"Running epoch {epoch}/{epochs}\")\n",
    "        correct, total, epoch_loss = 0, 0, 0.0\n",
    "        for images, labels in trainloader:\n",
    "            images, labels = images.to(device), labels.to(device)\n",
    "            optimizer.zero_grad()\n",
    "            outputs = model(images)\n",
    "            loss = criterion(outputs, labels)\n",
    "            loss.backward()\n",
    "            optimizer.step()\n",
    "            # Metrics\n",
    "            epoch_loss += loss.item() * images.size(0)\n",
    "            total += labels.size(0)\n",
    "            correct += (torch.max(outputs.data, 1)[1] == labels).sum().item()\n",
    "        epoch_loss /= len(trainloader.dataset)\n",
    "        epoch_acc = correct / total\n",
    "        print(f\"Epoch {epoch+1}: train loss {epoch_loss}, accuracy {epoch_acc}\")\n",
    "        scheduler.step(epoch_loss)\n",
    "#             epoch_loss += loss\n",
    "#             total += labels.size(0)\n",
    "#             correct += (torch.max(outputs.data, 1)[1] == labels).sum().item()\n",
    "#         epoch_loss /= len(trainloader.dataset)\n",
    "#         epoch_acc = correct / total\n",
    "#         print(f\"Epoch {epoch+1}: train loss {epoch_loss}, accuracy {epoch_acc}\")\n",
    "\n",
    "\n",
    "def test(model, testloader):\n",
    "    \"\"\"Evaluate the network on the entire test set.\"\"\"\n",
    "    criterion = nn.CrossEntropyLoss()\n",
    "\n",
    "    correct, total, loss = 0, 0, 0.0\n",
    "    model.eval()\n",
    "    print(\"Starting client validation...\")\n",
    "    with torch.no_grad():\n",
    "        for images, labels in testloader:\n",
    "            images, labels = images.to(device), labels.to(device)\n",
    "            outputs = model(images)\n",
    "            loss += criterion(outputs, labels).item()\n",
    "            _, predicted = torch.max(outputs.data, 1)\n",
    "            total += labels.size(0)\n",
    "            correct += (predicted == labels).sum().item()\n",
    "    loss /= len(testloader.dataset)\n",
    "    accuracy = correct / total\n",
    "    print(f\"Validataion accuracy = {accuracy}\")\n",
    "    return loss, accuracy"
   ]
  },
  {
   "cell_type": "markdown",
   "metadata": {},
   "source": [
    "### Custom Strategy"
   ]
  },
  {
   "cell_type": "code",
   "execution_count": 8,
   "metadata": {},
   "outputs": [],
   "source": [
    "from typing import Callable, Union\n",
    "\n",
    "from flwr.common import (\n",
    "    EvaluateIns,\n",
    "    EvaluateRes,\n",
    "    FitIns,\n",
    "    FitRes,\n",
    "    MetricsAggregationFn,\n",
    "    NDArrays,\n",
    "    Parameters,\n",
    "    Scalar,\n",
    "    ndarrays_to_parameters,\n",
    "    parameters_to_ndarrays,\n",
    ")\n",
    "from flwr.server.client_manager import ClientManager\n",
    "from flwr.server.client_proxy import ClientProxy\n",
    "from flwr.server.strategy.aggregate import aggregate, weighted_loss_avg\n",
    "\n",
    "\n",
    "class FedCustom(fl.server.strategy.Strategy):\n",
    "    def __init__(\n",
    "        self,\n",
    "        fraction_fit: float = 1.0,\n",
    "        fraction_evaluate: float = 1.0,\n",
    "        min_fit_clients: int = 2,\n",
    "        min_evaluate_clients: int = 2,\n",
    "        min_available_clients: int = 2,\n",
    "    ) -> None:\n",
    "        super().__init__()\n",
    "        self.fraction_fit = fraction_fit\n",
    "        self.fraction_evaluate = fraction_evaluate\n",
    "        self.min_fit_clients = min_fit_clients\n",
    "        self.min_evaluate_clients = min_evaluate_clients\n",
    "        self.min_available_clients = min_available_clients\n",
    "\n",
    "    def __repr__(self) -> str:\n",
    "        return \"FedCustom\"\n",
    "\n",
    "    def initialize_parameters(\n",
    "        self, client_manager: ClientManager\n",
    "    ) -> Optional[Parameters]:\n",
    "        \"\"\"Initialize global model parameters.\"\"\"\n",
    "        \n",
    "        net = create_pretrained_densenet(2)\n",
    "        net.to(device)\n",
    "        # get initial parameters for starting point.\n",
    "        ndarrays = get_parameters(net)\n",
    "        # ndarrays_to_parameters function converst numpy ndarray into io.bytes (tensors).\n",
    "        return fl.common.ndarrays_to_parameters(ndarrays)\n",
    "\n",
    "    def configure_fit(\n",
    "        self, server_round: int, parameters: Parameters, client_manager: ClientManager\n",
    "    ) -> List[Tuple[ClientProxy, FitIns]]:\n",
    "        \"\"\"Configure the next round of training.\"\"\"\n",
    "\n",
    "        print(\"Starting configure fit function...\")\n",
    "        # Sample clients\n",
    "        sample_size, min_num_clients = self.num_fit_clients(\n",
    "            client_manager.num_available()\n",
    "        )\n",
    "        clients = client_manager.sample(\n",
    "            num_clients=sample_size, min_num_clients=min_num_clients\n",
    "        )\n",
    "        \n",
    "        print(f\"Sample size = {sample_size} Min Num Clients = {min_num_clients} Clients = {clients}\")\n",
    "\n",
    "        # Create custom configs\n",
    "        n_clients = len(clients)\n",
    "        half_clients = n_clients // 2\n",
    "        standard_config = {\"lr\": 0.001}\n",
    "        higher_lr_config = {\"lr\": 0.003}\n",
    "        fit_configurations = []\n",
    "        \n",
    "        print(f\"Number of clients = {n_clients}\")\n",
    "        for idx, client in enumerate(clients):\n",
    "            if idx < half_clients:\n",
    "                fit_configurations.append((client, FitIns(parameters, standard_config)))\n",
    "            else:\n",
    "                fit_configurations.append(\n",
    "                    (client, FitIns(parameters, higher_lr_config))\n",
    "                )\n",
    "        print(\"Fit Configurations\")        \n",
    "        return fit_configurations\n",
    "\n",
    "    def aggregate_fit(\n",
    "        self,\n",
    "        server_round: int,\n",
    "        results: List[Tuple[ClientProxy, FitRes]],\n",
    "        failures: List[Union[Tuple[ClientProxy, FitRes], BaseException]],\n",
    "    ) -> Tuple[Optional[Parameters], Dict[str, Scalar]]:\n",
    "        \"\"\"Aggregate fit results using weighted average.\"\"\"\n",
    "\n",
    "        weights_results = [\n",
    "            (parameters_to_ndarrays(fit_res.parameters), fit_res.num_examples)\n",
    "            for _, fit_res in results\n",
    "        ]\n",
    "        parameters_aggregated = ndarrays_to_parameters(aggregate(weights_results))\n",
    "        metrics_aggregated = {}\n",
    "        \n",
    "        return parameters_aggregated, metrics_aggregated\n",
    "\n",
    "\n",
    "\n",
    "    def configure_evaluate(\n",
    "        self, server_round: int, parameters: Parameters, client_manager: ClientManager\n",
    "    ) -> List[Tuple[ClientProxy, EvaluateIns]]:\n",
    "        \"\"\"Configure the next round of evaluation.\"\"\"\n",
    "        if self.fraction_evaluate == 0.0:\n",
    "            return []\n",
    "        config = {}\n",
    "        evaluate_ins = EvaluateIns(parameters, config)\n",
    "\n",
    "        # Sample clients\n",
    "        sample_size, min_num_clients = self.num_evaluation_clients(\n",
    "            client_manager.num_available()\n",
    "        )\n",
    "        clients = client_manager.sample(\n",
    "            num_clients=sample_size, min_num_clients=min_num_clients\n",
    "        )\n",
    "\n",
    "        # Return client/config pairs\n",
    "        return [(client, evaluate_ins) for client in clients]\n",
    "\n",
    "    def aggregate_evaluate(\n",
    "        self,\n",
    "        server_round: int,\n",
    "        results: List[Tuple[ClientProxy, EvaluateRes]],\n",
    "        failures: List[Union[Tuple[ClientProxy, EvaluateRes], BaseException]],\n",
    "    ) -> Tuple[Optional[float], Dict[str, Scalar]]:\n",
    "        \"\"\"Aggregate evaluation losses using weighted average.\"\"\"\n",
    "\n",
    "        if not results:\n",
    "            return None, {}\n",
    "\n",
    "        loss_aggregated = weighted_loss_avg(\n",
    "            [\n",
    "                (evaluate_res.num_examples, evaluate_res.loss)\n",
    "                for _, evaluate_res in results\n",
    "            ]\n",
    "        )\n",
    "        metrics_aggregated = {}\n",
    "        return loss_aggregated, metrics_aggregated\n",
    "\n",
    "    def evaluate(\n",
    "        self, server_round: int, parameters: Parameters\n",
    "    ) -> Optional[Tuple[float, Dict[str, Scalar]]]:\n",
    "        \"\"\"Evaluate global model parameters using an evaluation function.\"\"\"\n",
    "\n",
    "        loss = 1\n",
    "        metric = {}    \n",
    "        \n",
    "        try:\n",
    "            parameters_ndarrays = parameters_to_ndarrays(parameters)\n",
    "            len(parameters_ndarrays)\n",
    "            # Let's assume we won't perform the global model evaluation on the server side.\n",
    "            print(\"Evaluating global model\")                \n",
    "            global_model = create_pretrained_densenet(2)\n",
    "            global_model.to(device)\n",
    "\n",
    "            set_parameters(global_model, parameters_ndarrays)\n",
    "            print(\"Parameter set\")\n",
    "            loss, accuracy = test(global_model, testloader)\n",
    "            print(f\"Global evaluation round {server_round} loss = {float(loss)} accuracy = {float(accuracy)}\")\n",
    "            \n",
    "            # Save your weights here.\n",
    "            best_model_path = model_path+f'/fl_densenet_{server_round}.pth'\n",
    "            torch.save({'round':server_round,\n",
    "                'state_dict':global_model.state_dict(),\n",
    "                'loss':loss,\n",
    "                'acc':accuracy},\n",
    "                best_model_path    \n",
    "                )\n",
    "            print(f\"Model saved at {best_model_path}\")\n",
    "            \n",
    "        except:\n",
    "            print(\"Parameter type is not ndarray\")\n",
    "        \n",
    "        return float(loss), metric\n",
    "\n",
    "    def num_fit_clients(self, num_available_clients: int) -> Tuple[int, int]:\n",
    "        \"\"\"Return sample size and required number of clients.\"\"\"\n",
    "        num_clients = int(num_available_clients * self.fraction_fit)\n",
    "        return max(num_clients, self.min_fit_clients), self.min_available_clients\n",
    "\n",
    "    def num_evaluation_clients(self, num_available_clients: int) -> Tuple[int, int]:\n",
    "        \"\"\"Use a fraction of available clients for evaluation.\"\"\"\n",
    "        num_clients = int(num_available_clients * self.fraction_evaluate)\n",
    "        return max(num_clients, self.min_evaluate_clients), self.min_available_clients"
   ]
  },
  {
   "cell_type": "code",
   "execution_count": 9,
   "metadata": {},
   "outputs": [],
   "source": [
    "class FlowerClient(fl.client.NumPyClient):\n",
    "    def __init__(self, cid, model, trainloader, valloader, max_epochs):\n",
    "        self.cid = cid\n",
    "        self.model = model\n",
    "        self.trainloader = trainloader\n",
    "        self.valloader = valloader\n",
    "        self.max_epochs = max_epochs\n",
    "\n",
    "    def get_parameters(self, config):\n",
    "        print(f\"[Client {self.cid}] get_parameters\")\n",
    "        return get_parameters(self.model)\n",
    "\n",
    "    def fit(self, parameters, config):\n",
    "        print(f\"[Client {self.cid}] fit, config: {config}\")\n",
    "        set_parameters(self.model, parameters)\n",
    "        print(\"Client parameters set\")\n",
    "        train(self.model, self.trainloader, epochs=self.max_epochs)\n",
    "        print(\"Training completed!\")\n",
    "        return get_parameters(self.model), len(self.trainloader), {}\n",
    "\n",
    "    def evaluate(self, parameters, config):\n",
    "        print(f\"[Client {self.cid}] evaluate, config: {config}\")\n",
    "        set_parameters(self.model, parameters)\n",
    "        loss, accuracy = test(self.model, self.valloader)\n",
    "        print(f\"Evaluation loss = {float(loss)} accuracy = {float(accuracy)}\")\n",
    "        return float(loss), len(self.valloader), {\"accuracy\": float(accuracy)}\n",
    "\n",
    "    \n",
    "import timm\n",
    "\n",
    "def create_pretrained_densenet(num_classes):\n",
    "    model = timm.create_model('swin_base_patch4_window7_224', pretrained=True, num_classes=2)\n",
    "    return model\n",
    "# def create_pretrained_densenet(num_classes):\n",
    "#     model = models.vit_b_16(pretrained=True)\n",
    "#     # Replace the classifier with a new one (the number of classes in your dataset)\n",
    "#     num_ftrs = model.classifier.in_features\n",
    "#     model.classifier = nn.Linear(num_ftrs, num_classes)\n",
    "#     return model\n",
    "\n",
    "\n",
    "\n",
    "def client_fn(cid) -> FlowerClient:\n",
    "    model = create_pretrained_densenet(num_classes)\n",
    "    model.to(device)\n",
    "\n",
    "    trainloader = trainloaders[int(cid)]\n",
    "    valloader = valloaders[int(cid)]\n",
    "\n",
    "    return FlowerClient(cid, model, trainloader, testloader, max_epochs)"
   ]
  },
  {
   "cell_type": "markdown",
   "metadata": {},
   "source": [
    "### Creating Flower Client"
   ]
  },
  {
   "cell_type": "code",
   "execution_count": 10,
   "metadata": {},
   "outputs": [],
   "source": [
    "def get_parameters(model) -> List[np.ndarray]:\n",
    "    listOfArray = [val.cpu().numpy() for _, val in model.state_dict().items()]\n",
    "    print(f\"Length of params: {len(listOfArray)}\")\n",
    "    return listOfArray\n",
    "\n",
    "def set_parameters(model, parameters: List[np.ndarray]):\n",
    "    print(f\"Updating parameters {len(parameters)}\")\n",
    "    \n",
    "    ord_dict = {}\n",
    "    # this is added for densenet parameters inconsistency.\n",
    "    for k, v, p in zip(model.state_dict().keys(), model.state_dict().values(), parameters):\n",
    "        try:\n",
    "            len(p)\n",
    "            ord_dict[k] = torch.Tensor(p)\n",
    "        except:\n",
    "#             print(f\"Value of V = {v}\")\n",
    "            ord_dict[k] = torch.Tensor(v)\n",
    "    \n",
    "#     params_dict = zip(model.state_dict().keys(), parameters)\n",
    "#     st_dict = OrderedDict({k: torch.Tensor(v) for k, v in params_dict})\n",
    "\n",
    "    st_dict = OrderedDict(ord_dict)\n",
    "    model.load_state_dict(st_dict, strict=True)\n",
    "    print(\"Setting parameters...\")"
   ]
  },
  {
   "cell_type": "code",
   "execution_count": 11,
   "metadata": {
    "scrolled": true
   },
   "outputs": [
    {
     "name": "stderr",
     "output_type": "stream",
     "text": [
      "\u001b[92mINFO \u001b[0m:      Starting Flower simulation, config: num_rounds=10, no round_timeout\n",
      "2024-07-12 12:58:55,935\tINFO worker.py:1752 -- Started a local Ray instance.\n",
      "\u001b[92mINFO \u001b[0m:      Flower VCE: Ray initialized with resources: {'GPU': 1.0, 'accelerator_type:V100': 1.0, 'node:__internal_head__': 1.0, 'node:10.128.0.31': 1.0, 'memory': 1350849895424.0, 'CPU': 96.0, 'object_store_memory': 200000000000.0}\n",
      "\u001b[92mINFO \u001b[0m:      Optimize your simulation with Flower VCE: https://flower.ai/docs/framework/how-to-run-simulations.html\n",
      "/tmp/ipykernel_4135510/24281487.py:29: UserWarning: No `num_cpus` specified in `client_resources`. Using `num_cpus=1` for each client.\n",
      "  history = fl.simulation.start_simulation(\n",
      "\u001b[92mINFO \u001b[0m:      Flower VCE: Resources for each Virtual Client: {'num_gpus': 1, 'num_cpus': 1}\n",
      "\u001b[92mINFO \u001b[0m:      Flower VCE: Creating VirtualClientEngineActorPool with 1 actors\n",
      "\u001b[92mINFO \u001b[0m:      [INIT]\n",
      "\u001b[36m(pid=4144273)\u001b[0m 2024-07-12 12:59:21.321108: W tensorflow/compiler/tf2tensorrt/utils/py_utils.cc:38] TF-TRT Warning: Could not find TensorRT\n"
     ]
    },
    {
     "name": "stdout",
     "output_type": "stream",
     "text": [
      "Length of params: 329\n"
     ]
    },
    {
     "name": "stderr",
     "output_type": "stream",
     "text": [
      "\u001b[92mINFO \u001b[0m:      Using initial global parameters provided by strategy\n",
      "\u001b[92mINFO \u001b[0m:      Evaluating initial global parameters\n"
     ]
    },
    {
     "name": "stdout",
     "output_type": "stream",
     "text": [
      "Evaluating global model\n",
      "Updating parameters 329\n",
      "Setting parameters...\n",
      "Parameter set\n",
      "Starting client validation...\n",
      "Validataion accuracy = 0.4666666666666667\n",
      "Global evaluation round 0 loss = 0.054304216305414835 accuracy = 0.4666666666666667\n"
     ]
    },
    {
     "name": "stderr",
     "output_type": "stream",
     "text": [
      "\u001b[92mINFO \u001b[0m:      initial parameters (loss, other metrics): 0.054304216305414835, {}\n",
      "\u001b[92mINFO \u001b[0m:      \n",
      "\u001b[92mINFO \u001b[0m:      [ROUND 1]\n",
      "\u001b[92mINFO \u001b[0m:      configure_fit: strategy sampled 10 clients (out of 10)\n"
     ]
    },
    {
     "name": "stdout",
     "output_type": "stream",
     "text": [
      "Model saved at ./fl_checkpointsswintransformer_e10_c10_r10/fl_densenet_0.pth\n",
      "Starting configure fit function...\n",
      "Sample size = 10 Min Num Clients = 2 Clients = [<flwr.simulation.ray_transport.ray_client_proxy.RayActorClientProxy object at 0x155491b771d0>, <flwr.simulation.ray_transport.ray_client_proxy.RayActorClientProxy object at 0x155491b76fd0>, <flwr.simulation.ray_transport.ray_client_proxy.RayActorClientProxy object at 0x155491b77310>, <flwr.simulation.ray_transport.ray_client_proxy.RayActorClientProxy object at 0x155491b77650>, <flwr.simulation.ray_transport.ray_client_proxy.RayActorClientProxy object at 0x155314acf550>, <flwr.simulation.ray_transport.ray_client_proxy.RayActorClientProxy object at 0x155491b77750>, <flwr.simulation.ray_transport.ray_client_proxy.RayActorClientProxy object at 0x155491b776d0>, <flwr.simulation.ray_transport.ray_client_proxy.RayActorClientProxy object at 0x155491b76690>, <flwr.simulation.ray_transport.ray_client_proxy.RayActorClientProxy object at 0x155491b77150>, <flwr.simulation.ray_transport.ray_client_proxy.RayActorClientProxy object at 0x155491b775d0>]\n",
      "Number of clients = 10\n",
      "Fit Configurations\n"
     ]
    },
    {
     "name": "stderr",
     "output_type": "stream",
     "text": [
      "\u001b[36m(ClientAppActor pid=4144273)\u001b[0m \u001b[93mWARNING \u001b[0m:   Deprecation Warning: The `client_fn` function must return an instance of `Client`, but an instance of `NumpyClient` was returned. Please use `NumPyClient.to_client()` method to convert it to `Client`.\n"
     ]
    },
    {
     "name": "stdout",
     "output_type": "stream",
     "text": [
      "\u001b[36m(ClientAppActor pid=4144273)\u001b[0m [Client 2] fit, config: {'lr': 0.001}\n",
      "\u001b[36m(ClientAppActor pid=4144273)\u001b[0m Updating parameters 329\n",
      "\u001b[36m(ClientAppActor pid=4144273)\u001b[0m Setting parameters...\n",
      "\u001b[36m(ClientAppActor pid=4144273)\u001b[0m Client parameters set\n",
      "\u001b[36m(ClientAppActor pid=4144273)\u001b[0m Starting client training...\n",
      "\u001b[36m(ClientAppActor pid=4144273)\u001b[0m Running epoch 0/10\n",
      "\u001b[36m(ClientAppActor pid=4144273)\u001b[0m Epoch 1: train loss 0.8978906085616664, accuracy 0.3157894736842105\n",
      "\u001b[36m(ClientAppActor pid=4144273)\u001b[0m Running epoch 1/10\n",
      "\u001b[36m(ClientAppActor pid=4144273)\u001b[0m Epoch 2: train loss 0.5364439518828141, accuracy 0.7368421052631579\n",
      "\u001b[36m(ClientAppActor pid=4144273)\u001b[0m Running epoch 2/10\n",
      "\u001b[36m(ClientAppActor pid=4144273)\u001b[0m Epoch 3: train loss 0.44551408290863037, accuracy 0.7894736842105263\n",
      "\u001b[36m(ClientAppActor pid=4144273)\u001b[0m Running epoch 3/10\n",
      "\u001b[36m(ClientAppActor pid=4144273)\u001b[0m Epoch 4: train loss 0.33871054806207357, accuracy 0.8947368421052632\n",
      "\u001b[36m(ClientAppActor pid=4144273)\u001b[0m Running epoch 4/10\n",
      "\u001b[36m(ClientAppActor pid=4144273)\u001b[0m Epoch 5: train loss 0.18106136431819514, accuracy 0.9473684210526315\n",
      "\u001b[36m(ClientAppActor pid=4144273)\u001b[0m Running epoch 5/10\n",
      "\u001b[36m(ClientAppActor pid=4144273)\u001b[0m Epoch 6: train loss 0.10304092204100207, accuracy 0.9473684210526315\n",
      "\u001b[36m(ClientAppActor pid=4144273)\u001b[0m Running epoch 6/10\n",
      "\u001b[36m(ClientAppActor pid=4144273)\u001b[0m Epoch 7: train loss 0.1070252798105541, accuracy 0.9473684210526315\n",
      "\u001b[36m(ClientAppActor pid=4144273)\u001b[0m Running epoch 7/10\n",
      "\u001b[36m(ClientAppActor pid=4144273)\u001b[0m Epoch 8: train loss 0.13495999574661255, accuracy 0.9473684210526315\n",
      "\u001b[36m(ClientAppActor pid=4144273)\u001b[0m Running epoch 8/10\n",
      "\u001b[36m(ClientAppActor pid=4144273)\u001b[0m Epoch 9: train loss 0.025611886068394308, accuracy 1.0\n",
      "\u001b[36m(ClientAppActor pid=4144273)\u001b[0m Running epoch 9/10\n",
      "\u001b[36m(ClientAppActor pid=4144273)\u001b[0m Epoch 10: train loss 0.010999620316157999, accuracy 1.0\n",
      "\u001b[36m(ClientAppActor pid=4144273)\u001b[0m Training completed!\n",
      "\u001b[36m(ClientAppActor pid=4144273)\u001b[0m Length of params: 329\n"
     ]
    },
    {
     "name": "stderr",
     "output_type": "stream",
     "text": [
      "\u001b[36m(ClientAppActor pid=4144273)\u001b[0m \u001b[93mWARNING \u001b[0m:   Deprecation Warning: The `client_fn` function must return an instance of `Client`, but an instance of `NumpyClient` was returned. Please use `NumPyClient.to_client()` method to convert it to `Client`.\n"
     ]
    },
    {
     "name": "stdout",
     "output_type": "stream",
     "text": [
      "\u001b[36m(ClientAppActor pid=4144273)\u001b[0m [Client 1] fit, config: {'lr': 0.001}\n",
      "\u001b[36m(ClientAppActor pid=4144273)\u001b[0m Updating parameters 329\n",
      "\u001b[36m(ClientAppActor pid=4144273)\u001b[0m Setting parameters...\n",
      "\u001b[36m(ClientAppActor pid=4144273)\u001b[0m Client parameters set\n",
      "\u001b[36m(ClientAppActor pid=4144273)\u001b[0m Starting client training...\n",
      "\u001b[36m(ClientAppActor pid=4144273)\u001b[0m Running epoch 0/10\n",
      "\u001b[36m(ClientAppActor pid=4144273)\u001b[0m Epoch 1: train loss 0.7437049934738561, accuracy 0.47368421052631576\n",
      "\u001b[36m(ClientAppActor pid=4144273)\u001b[0m Running epoch 1/10\n",
      "\u001b[36m(ClientAppActor pid=4144273)\u001b[0m Epoch 2: train loss 0.38685305573438344, accuracy 0.7894736842105263\n",
      "\u001b[36m(ClientAppActor pid=4144273)\u001b[0m Running epoch 2/10\n",
      "\u001b[36m(ClientAppActor pid=4144273)\u001b[0m Epoch 3: train loss 0.4896974940049021, accuracy 0.8421052631578947\n",
      "\u001b[36m(ClientAppActor pid=4144273)\u001b[0m Running epoch 3/10\n",
      "\u001b[36m(ClientAppActor pid=4144273)\u001b[0m Epoch 4: train loss 0.10114683475541442, accuracy 1.0\n",
      "\u001b[36m(ClientAppActor pid=4144273)\u001b[0m Running epoch 4/10\n",
      "\u001b[36m(ClientAppActor pid=4144273)\u001b[0m Epoch 5: train loss 0.22192497259790175, accuracy 0.8947368421052632\n",
      "\u001b[36m(ClientAppActor pid=4144273)\u001b[0m Running epoch 5/10\n",
      "\u001b[36m(ClientAppActor pid=4144273)\u001b[0m Epoch 6: train loss 0.01987405218134977, accuracy 1.0\n",
      "\u001b[36m(ClientAppActor pid=4144273)\u001b[0m Running epoch 6/10\n",
      "\u001b[36m(ClientAppActor pid=4144273)\u001b[0m Epoch 7: train loss 0.06091051263808224, accuracy 0.9473684210526315\n",
      "\u001b[36m(ClientAppActor pid=4144273)\u001b[0m Running epoch 7/10\n",
      "\u001b[36m(ClientAppActor pid=4144273)\u001b[0m Epoch 8: train loss 0.03034901088348737, accuracy 1.0\n",
      "\u001b[36m(ClientAppActor pid=4144273)\u001b[0m Running epoch 8/10\n",
      "\u001b[36m(ClientAppActor pid=4144273)\u001b[0m Epoch 9: train loss 0.005113859440347082, accuracy 1.0\n",
      "\u001b[36m(ClientAppActor pid=4144273)\u001b[0m Running epoch 9/10\n",
      "\u001b[36m(ClientAppActor pid=4144273)\u001b[0m Epoch 10: train loss 0.0018520719328846194, accuracy 1.0\n",
      "\u001b[36m(ClientAppActor pid=4144273)\u001b[0m Training completed!\n",
      "\u001b[36m(ClientAppActor pid=4144273)\u001b[0m Length of params: 329\n"
     ]
    },
    {
     "name": "stderr",
     "output_type": "stream",
     "text": [
      "\u001b[36m(ClientAppActor pid=4144273)\u001b[0m \u001b[93mWARNING \u001b[0m:   Deprecation Warning: The `client_fn` function must return an instance of `Client`, but an instance of `NumpyClient` was returned. Please use `NumPyClient.to_client()` method to convert it to `Client`.\n"
     ]
    },
    {
     "name": "stdout",
     "output_type": "stream",
     "text": [
      "\u001b[36m(ClientAppActor pid=4144273)\u001b[0m [Client 4] fit, config: {'lr': 0.001}\n",
      "\u001b[36m(ClientAppActor pid=4144273)\u001b[0m Updating parameters 329\n",
      "\u001b[36m(ClientAppActor pid=4144273)\u001b[0m Setting parameters...\n",
      "\u001b[36m(ClientAppActor pid=4144273)\u001b[0m Client parameters set\n",
      "\u001b[36m(ClientAppActor pid=4144273)\u001b[0m Starting client training...\n",
      "\u001b[36m(ClientAppActor pid=4144273)\u001b[0m Running epoch 0/10\n",
      "\u001b[36m(ClientAppActor pid=4144273)\u001b[0m Epoch 1: train loss 0.7462727166712284, accuracy 0.42105263157894735\n",
      "\u001b[36m(ClientAppActor pid=4144273)\u001b[0m Running epoch 1/10\n",
      "\u001b[36m(ClientAppActor pid=4144273)\u001b[0m Epoch 2: train loss 0.9825742370203921, accuracy 0.7368421052631579\n",
      "\u001b[36m(ClientAppActor pid=4144273)\u001b[0m Running epoch 2/10\n",
      "\u001b[36m(ClientAppActor pid=4144273)\u001b[0m Epoch 3: train loss 0.2758916945833909, accuracy 0.9473684210526315\n",
      "\u001b[36m(ClientAppActor pid=4144273)\u001b[0m Running epoch 3/10\n",
      "\u001b[36m(ClientAppActor pid=4144273)\u001b[0m Epoch 4: train loss 0.5169839262962341, accuracy 0.631578947368421\n",
      "\u001b[36m(ClientAppActor pid=4144273)\u001b[0m Running epoch 4/10\n",
      "\u001b[36m(ClientAppActor pid=4144273)\u001b[0m Epoch 5: train loss 0.09361327753255241, accuracy 1.0\n",
      "\u001b[36m(ClientAppActor pid=4144273)\u001b[0m Running epoch 5/10\n",
      "\u001b[36m(ClientAppActor pid=4144273)\u001b[0m Epoch 6: train loss 0.06704194706521537, accuracy 1.0\n",
      "\u001b[36m(ClientAppActor pid=4144273)\u001b[0m Running epoch 6/10\n",
      "\u001b[36m(ClientAppActor pid=4144273)\u001b[0m Epoch 7: train loss 0.012138252575440626, accuracy 1.0\n",
      "\u001b[36m(ClientAppActor pid=4144273)\u001b[0m Running epoch 7/10\n",
      "\u001b[36m(ClientAppActor pid=4144273)\u001b[0m Epoch 8: train loss 0.00576927532490931, accuracy 1.0\n",
      "\u001b[36m(ClientAppActor pid=4144273)\u001b[0m Running epoch 8/10\n",
      "\u001b[36m(ClientAppActor pid=4144273)\u001b[0m Epoch 9: train loss 0.0026045225523902396, accuracy 1.0\n",
      "\u001b[36m(ClientAppActor pid=4144273)\u001b[0m Running epoch 9/10\n",
      "\u001b[36m(ClientAppActor pid=4144273)\u001b[0m Epoch 10: train loss 0.0016699721944812488, accuracy 1.0\n",
      "\u001b[36m(ClientAppActor pid=4144273)\u001b[0m Training completed!\n",
      "\u001b[36m(ClientAppActor pid=4144273)\u001b[0m Length of params: 329\n"
     ]
    },
    {
     "name": "stderr",
     "output_type": "stream",
     "text": [
      "\u001b[36m(ClientAppActor pid=4144273)\u001b[0m \u001b[93mWARNING \u001b[0m:   Deprecation Warning: The `client_fn` function must return an instance of `Client`, but an instance of `NumpyClient` was returned. Please use `NumPyClient.to_client()` method to convert it to `Client`.\n"
     ]
    },
    {
     "name": "stdout",
     "output_type": "stream",
     "text": [
      "\u001b[36m(ClientAppActor pid=4144273)\u001b[0m [Client 7] fit, config: {'lr': 0.001}\n",
      "\u001b[36m(ClientAppActor pid=4144273)\u001b[0m Updating parameters 329\n",
      "\u001b[36m(ClientAppActor pid=4144273)\u001b[0m Setting parameters...\n",
      "\u001b[36m(ClientAppActor pid=4144273)\u001b[0m Client parameters set\n",
      "\u001b[36m(ClientAppActor pid=4144273)\u001b[0m Starting client training...\n",
      "\u001b[36m(ClientAppActor pid=4144273)\u001b[0m Running epoch 0/10\n",
      "\u001b[36m(ClientAppActor pid=4144273)\u001b[0m Epoch 1: train loss 0.9687028119438573, accuracy 0.3157894736842105\n",
      "\u001b[36m(ClientAppActor pid=4144273)\u001b[0m Running epoch 1/10\n",
      "\u001b[36m(ClientAppActor pid=4144273)\u001b[0m Epoch 2: train loss 0.3487448237444225, accuracy 0.8421052631578947\n",
      "\u001b[36m(ClientAppActor pid=4144273)\u001b[0m Running epoch 2/10\n",
      "\u001b[36m(ClientAppActor pid=4144273)\u001b[0m Epoch 3: train loss 0.28716725581570673, accuracy 0.9473684210526315\n",
      "\u001b[36m(ClientAppActor pid=4144273)\u001b[0m Running epoch 3/10\n",
      "\u001b[36m(ClientAppActor pid=4144273)\u001b[0m Epoch 4: train loss 0.08820263355186111, accuracy 1.0\n",
      "\u001b[36m(ClientAppActor pid=4144273)\u001b[0m Running epoch 4/10\n",
      "\u001b[36m(ClientAppActor pid=4144273)\u001b[0m Epoch 5: train loss 0.09114652323095422, accuracy 1.0\n",
      "\u001b[36m(ClientAppActor pid=4144273)\u001b[0m Running epoch 5/10\n",
      "\u001b[36m(ClientAppActor pid=4144273)\u001b[0m Epoch 6: train loss 0.012795518103398774, accuracy 1.0\n",
      "\u001b[36m(ClientAppActor pid=4144273)\u001b[0m Running epoch 6/10\n",
      "\u001b[36m(ClientAppActor pid=4144273)\u001b[0m Epoch 7: train loss 0.013258070979071291, accuracy 1.0\n",
      "\u001b[36m(ClientAppActor pid=4144273)\u001b[0m Running epoch 7/10\n",
      "\u001b[36m(ClientAppActor pid=4144273)\u001b[0m Epoch 8: train loss 0.00596609623416474, accuracy 1.0\n",
      "\u001b[36m(ClientAppActor pid=4144273)\u001b[0m Running epoch 8/10\n",
      "\u001b[36m(ClientAppActor pid=4144273)\u001b[0m Epoch 9: train loss 0.0017613971140235662, accuracy 1.0\n",
      "\u001b[36m(ClientAppActor pid=4144273)\u001b[0m Running epoch 9/10\n",
      "\u001b[36m(ClientAppActor pid=4144273)\u001b[0m Epoch 10: train loss 0.0009052574218673582, accuracy 1.0\n",
      "\u001b[36m(ClientAppActor pid=4144273)\u001b[0m Training completed!\n",
      "\u001b[36m(ClientAppActor pid=4144273)\u001b[0m Length of params: 329\n"
     ]
    },
    {
     "name": "stderr",
     "output_type": "stream",
     "text": [
      "\u001b[36m(ClientAppActor pid=4144273)\u001b[0m \u001b[93mWARNING \u001b[0m:   Deprecation Warning: The `client_fn` function must return an instance of `Client`, but an instance of `NumpyClient` was returned. Please use `NumPyClient.to_client()` method to convert it to `Client`.\n"
     ]
    },
    {
     "name": "stdout",
     "output_type": "stream",
     "text": [
      "\u001b[36m(ClientAppActor pid=4144273)\u001b[0m [Client 0] fit, config: {'lr': 0.001}\n",
      "\u001b[36m(ClientAppActor pid=4144273)\u001b[0m Updating parameters 329\n",
      "\u001b[36m(ClientAppActor pid=4144273)\u001b[0m Setting parameters...\n",
      "\u001b[36m(ClientAppActor pid=4144273)\u001b[0m Client parameters set\n",
      "\u001b[36m(ClientAppActor pid=4144273)\u001b[0m Starting client training...\n",
      "\u001b[36m(ClientAppActor pid=4144273)\u001b[0m Running epoch 0/10\n",
      "\u001b[36m(ClientAppActor pid=4144273)\u001b[0m Epoch 1: train loss 0.7700683568653307, accuracy 0.5263157894736842\n",
      "\u001b[36m(ClientAppActor pid=4144273)\u001b[0m Running epoch 1/10\n",
      "\u001b[36m(ClientAppActor pid=4144273)\u001b[0m Epoch 2: train loss 0.39575131551215526, accuracy 0.7368421052631579\n",
      "\u001b[36m(ClientAppActor pid=4144273)\u001b[0m Running epoch 2/10\n",
      "\u001b[36m(ClientAppActor pid=4144273)\u001b[0m Epoch 3: train loss 0.6763406737070334, accuracy 0.5263157894736842\n",
      "\u001b[36m(ClientAppActor pid=4144273)\u001b[0m Running epoch 3/10\n",
      "\u001b[36m(ClientAppActor pid=4144273)\u001b[0m Epoch 4: train loss 0.11865359740821939, accuracy 0.9473684210526315\n",
      "\u001b[36m(ClientAppActor pid=4144273)\u001b[0m Running epoch 4/10\n",
      "\u001b[36m(ClientAppActor pid=4144273)\u001b[0m Epoch 5: train loss 0.09430043752256193, accuracy 1.0\n",
      "\u001b[36m(ClientAppActor pid=4144273)\u001b[0m Running epoch 5/10\n",
      "\u001b[36m(ClientAppActor pid=4144273)\u001b[0m Epoch 6: train loss 0.021437148195936492, accuracy 1.0\n",
      "\u001b[36m(ClientAppActor pid=4144273)\u001b[0m Running epoch 6/10\n",
      "\u001b[36m(ClientAppActor pid=4144273)\u001b[0m Epoch 7: train loss 0.06748997351448786, accuracy 0.9473684210526315\n",
      "\u001b[36m(ClientAppActor pid=4144273)\u001b[0m Running epoch 7/10\n",
      "\u001b[36m(ClientAppActor pid=4144273)\u001b[0m Epoch 8: train loss 0.07590760408263457, accuracy 0.9473684210526315\n",
      "\u001b[36m(ClientAppActor pid=4144273)\u001b[0m Running epoch 8/10\n",
      "\u001b[36m(ClientAppActor pid=4144273)\u001b[0m Epoch 9: train loss 0.007456174782036166, accuracy 1.0\n",
      "\u001b[36m(ClientAppActor pid=4144273)\u001b[0m Running epoch 9/10\n",
      "\u001b[36m(ClientAppActor pid=4144273)\u001b[0m Epoch 10: train loss 0.0072527390806690645, accuracy 1.0\n",
      "\u001b[36m(ClientAppActor pid=4144273)\u001b[0m Training completed!\n",
      "\u001b[36m(ClientAppActor pid=4144273)\u001b[0m Length of params: 329\n"
     ]
    },
    {
     "name": "stderr",
     "output_type": "stream",
     "text": [
      "\u001b[36m(ClientAppActor pid=4144273)\u001b[0m \u001b[93mWARNING \u001b[0m:   Deprecation Warning: The `client_fn` function must return an instance of `Client`, but an instance of `NumpyClient` was returned. Please use `NumPyClient.to_client()` method to convert it to `Client`.\n"
     ]
    },
    {
     "name": "stdout",
     "output_type": "stream",
     "text": [
      "\u001b[36m(ClientAppActor pid=4144273)\u001b[0m [Client 9] fit, config: {'lr': 0.003}\n",
      "\u001b[36m(ClientAppActor pid=4144273)\u001b[0m Updating parameters 329\n",
      "\u001b[36m(ClientAppActor pid=4144273)\u001b[0m Setting parameters...\n",
      "\u001b[36m(ClientAppActor pid=4144273)\u001b[0m Client parameters set\n",
      "\u001b[36m(ClientAppActor pid=4144273)\u001b[0m Starting client training...\n",
      "\u001b[36m(ClientAppActor pid=4144273)\u001b[0m Running epoch 0/10\n",
      "\u001b[36m(ClientAppActor pid=4144273)\u001b[0m Epoch 1: train loss 0.5941289484500885, accuracy 0.68\n",
      "\u001b[36m(ClientAppActor pid=4144273)\u001b[0m Running epoch 1/10\n",
      "\u001b[36m(ClientAppActor pid=4144273)\u001b[0m Epoch 2: train loss 0.15196047246456146, accuracy 1.0\n",
      "\u001b[36m(ClientAppActor pid=4144273)\u001b[0m Running epoch 2/10\n",
      "\u001b[36m(ClientAppActor pid=4144273)\u001b[0m Epoch 3: train loss 0.058578209318220616, accuracy 0.96\n",
      "\u001b[36m(ClientAppActor pid=4144273)\u001b[0m Running epoch 3/10\n",
      "\u001b[36m(ClientAppActor pid=4144273)\u001b[0m Epoch 4: train loss 0.038674828112125394, accuracy 1.0\n",
      "\u001b[36m(ClientAppActor pid=4144273)\u001b[0m Running epoch 4/10\n",
      "\u001b[36m(ClientAppActor pid=4144273)\u001b[0m Epoch 5: train loss 0.002575943497940898, accuracy 1.0\n",
      "\u001b[36m(ClientAppActor pid=4144273)\u001b[0m Running epoch 5/10\n",
      "\u001b[36m(ClientAppActor pid=4144273)\u001b[0m Epoch 6: train loss 0.0020938327815383673, accuracy 1.0\n",
      "\u001b[36m(ClientAppActor pid=4144273)\u001b[0m Running epoch 6/10\n",
      "\u001b[36m(ClientAppActor pid=4144273)\u001b[0m Epoch 7: train loss 0.0012274733325466514, accuracy 1.0\n",
      "\u001b[36m(ClientAppActor pid=4144273)\u001b[0m Running epoch 7/10\n",
      "\u001b[36m(ClientAppActor pid=4144273)\u001b[0m Epoch 8: train loss 0.0005259248916991055, accuracy 1.0\n",
      "\u001b[36m(ClientAppActor pid=4144273)\u001b[0m Running epoch 8/10\n",
      "\u001b[36m(ClientAppActor pid=4144273)\u001b[0m Epoch 9: train loss 0.0005819364753551781, accuracy 1.0\n",
      "\u001b[36m(ClientAppActor pid=4144273)\u001b[0m Running epoch 9/10\n",
      "\u001b[36m(ClientAppActor pid=4144273)\u001b[0m Epoch 10: train loss 0.0010759710059210193, accuracy 1.0\n",
      "\u001b[36m(ClientAppActor pid=4144273)\u001b[0m Training completed!\n",
      "\u001b[36m(ClientAppActor pid=4144273)\u001b[0m Length of params: 329\n"
     ]
    },
    {
     "name": "stderr",
     "output_type": "stream",
     "text": [
      "\u001b[36m(ClientAppActor pid=4144273)\u001b[0m \u001b[93mWARNING \u001b[0m:   Deprecation Warning: The `client_fn` function must return an instance of `Client`, but an instance of `NumpyClient` was returned. Please use `NumPyClient.to_client()` method to convert it to `Client`.\n"
     ]
    },
    {
     "name": "stdout",
     "output_type": "stream",
     "text": [
      "\u001b[36m(ClientAppActor pid=4144273)\u001b[0m [Client 8] fit, config: {'lr': 0.003}\n",
      "\u001b[36m(ClientAppActor pid=4144273)\u001b[0m Updating parameters 329\n",
      "\u001b[36m(ClientAppActor pid=4144273)\u001b[0m Setting parameters...\n",
      "\u001b[36m(ClientAppActor pid=4144273)\u001b[0m Client parameters set\n",
      "\u001b[36m(ClientAppActor pid=4144273)\u001b[0m Starting client training...\n",
      "\u001b[36m(ClientAppActor pid=4144273)\u001b[0m Running epoch 0/10\n",
      "\u001b[36m(ClientAppActor pid=4144273)\u001b[0m Epoch 1: train loss 0.7326665614780626, accuracy 0.47368421052631576\n",
      "\u001b[36m(ClientAppActor pid=4144273)\u001b[0m Running epoch 1/10\n",
      "\u001b[36m(ClientAppActor pid=4144273)\u001b[0m Epoch 2: train loss 0.3617113067915565, accuracy 0.7368421052631579\n",
      "\u001b[36m(ClientAppActor pid=4144273)\u001b[0m Running epoch 2/10\n",
      "\u001b[36m(ClientAppActor pid=4144273)\u001b[0m Epoch 3: train loss 0.35456360209929316, accuracy 0.8947368421052632\n",
      "\u001b[36m(ClientAppActor pid=4144273)\u001b[0m Running epoch 3/10\n",
      "\u001b[36m(ClientAppActor pid=4144273)\u001b[0m Epoch 4: train loss 0.15058333661995435, accuracy 1.0\n",
      "\u001b[36m(ClientAppActor pid=4144273)\u001b[0m Running epoch 4/10\n",
      "\u001b[36m(ClientAppActor pid=4144273)\u001b[0m Epoch 5: train loss 0.045289384740355765, accuracy 1.0\n",
      "\u001b[36m(ClientAppActor pid=4144273)\u001b[0m Running epoch 5/10\n",
      "\u001b[36m(ClientAppActor pid=4144273)\u001b[0m Epoch 6: train loss 0.012933875348320916, accuracy 1.0\n",
      "\u001b[36m(ClientAppActor pid=4144273)\u001b[0m Running epoch 6/10\n",
      "\u001b[36m(ClientAppActor pid=4144273)\u001b[0m Epoch 7: train loss 0.0024523209584386726, accuracy 1.0\n",
      "\u001b[36m(ClientAppActor pid=4144273)\u001b[0m Running epoch 7/10\n",
      "\u001b[36m(ClientAppActor pid=4144273)\u001b[0m Epoch 8: train loss 0.01675920535987978, accuracy 1.0\n",
      "\u001b[36m(ClientAppActor pid=4144273)\u001b[0m Running epoch 8/10\n",
      "\u001b[36m(ClientAppActor pid=4144273)\u001b[0m Epoch 9: train loss 0.0006849148102398766, accuracy 1.0\n",
      "\u001b[36m(ClientAppActor pid=4144273)\u001b[0m Running epoch 9/10\n",
      "\u001b[36m(ClientAppActor pid=4144273)\u001b[0m Epoch 10: train loss 0.0008329349500280315, accuracy 1.0\n",
      "\u001b[36m(ClientAppActor pid=4144273)\u001b[0m Training completed!\n",
      "\u001b[36m(ClientAppActor pid=4144273)\u001b[0m Length of params: 329\n"
     ]
    },
    {
     "name": "stderr",
     "output_type": "stream",
     "text": [
      "\u001b[36m(ClientAppActor pid=4144273)\u001b[0m \u001b[93mWARNING \u001b[0m:   Deprecation Warning: The `client_fn` function must return an instance of `Client`, but an instance of `NumpyClient` was returned. Please use `NumPyClient.to_client()` method to convert it to `Client`.\n"
     ]
    },
    {
     "name": "stdout",
     "output_type": "stream",
     "text": [
      "\u001b[36m(ClientAppActor pid=4144273)\u001b[0m [Client 5] fit, config: {'lr': 0.003}\n",
      "\u001b[36m(ClientAppActor pid=4144273)\u001b[0m Updating parameters 329\n",
      "\u001b[36m(ClientAppActor pid=4144273)\u001b[0m Setting parameters...\n",
      "\u001b[36m(ClientAppActor pid=4144273)\u001b[0m Client parameters set\n",
      "\u001b[36m(ClientAppActor pid=4144273)\u001b[0m Starting client training...\n",
      "\u001b[36m(ClientAppActor pid=4144273)\u001b[0m Running epoch 0/10\n",
      "\u001b[36m(ClientAppActor pid=4144273)\u001b[0m Epoch 1: train loss 0.7953361021844965, accuracy 0.47368421052631576\n",
      "\u001b[36m(ClientAppActor pid=4144273)\u001b[0m Running epoch 1/10\n",
      "\u001b[36m(ClientAppActor pid=4144273)\u001b[0m Epoch 2: train loss 0.31468496746138525, accuracy 1.0\n",
      "\u001b[36m(ClientAppActor pid=4144273)\u001b[0m Running epoch 2/10\n",
      "\u001b[36m(ClientAppActor pid=4144273)\u001b[0m Epoch 3: train loss 0.3561715640519795, accuracy 0.8421052631578947\n",
      "\u001b[36m(ClientAppActor pid=4144273)\u001b[0m Running epoch 3/10\n",
      "\u001b[36m(ClientAppActor pid=4144273)\u001b[0m Epoch 4: train loss 0.09579230766547353, accuracy 1.0\n",
      "\u001b[36m(ClientAppActor pid=4144273)\u001b[0m Running epoch 4/10\n",
      "\u001b[36m(ClientAppActor pid=4144273)\u001b[0m Epoch 5: train loss 0.07239931684575583, accuracy 1.0\n",
      "\u001b[36m(ClientAppActor pid=4144273)\u001b[0m Running epoch 5/10\n",
      "\u001b[36m(ClientAppActor pid=4144273)\u001b[0m Epoch 6: train loss 0.01384592529288248, accuracy 1.0\n",
      "\u001b[36m(ClientAppActor pid=4144273)\u001b[0m Running epoch 6/10\n",
      "\u001b[36m(ClientAppActor pid=4144273)\u001b[0m Epoch 7: train loss 0.00971325102115148, accuracy 1.0\n",
      "\u001b[36m(ClientAppActor pid=4144273)\u001b[0m Running epoch 7/10\n",
      "\u001b[36m(ClientAppActor pid=4144273)\u001b[0m Epoch 8: train loss 0.010531904102352104, accuracy 1.0\n",
      "\u001b[36m(ClientAppActor pid=4144273)\u001b[0m Running epoch 8/10\n",
      "\u001b[36m(ClientAppActor pid=4144273)\u001b[0m Epoch 9: train loss 0.005333434612686305, accuracy 1.0\n",
      "\u001b[36m(ClientAppActor pid=4144273)\u001b[0m Running epoch 9/10\n",
      "\u001b[36m(ClientAppActor pid=4144273)\u001b[0m Epoch 10: train loss 0.0019680644924703395, accuracy 1.0\n",
      "\u001b[36m(ClientAppActor pid=4144273)\u001b[0m Training completed!\n",
      "\u001b[36m(ClientAppActor pid=4144273)\u001b[0m Length of params: 329\n"
     ]
    },
    {
     "name": "stderr",
     "output_type": "stream",
     "text": [
      "\u001b[36m(ClientAppActor pid=4144273)\u001b[0m \u001b[93mWARNING \u001b[0m:   Deprecation Warning: The `client_fn` function must return an instance of `Client`, but an instance of `NumpyClient` was returned. Please use `NumPyClient.to_client()` method to convert it to `Client`.\n"
     ]
    },
    {
     "name": "stdout",
     "output_type": "stream",
     "text": [
      "\u001b[36m(ClientAppActor pid=4144273)\u001b[0m [Client 3] fit, config: {'lr': 0.003}\n",
      "\u001b[36m(ClientAppActor pid=4144273)\u001b[0m Updating parameters 329\n",
      "\u001b[36m(ClientAppActor pid=4144273)\u001b[0m Setting parameters...\n",
      "\u001b[36m(ClientAppActor pid=4144273)\u001b[0m Client parameters set\n",
      "\u001b[36m(ClientAppActor pid=4144273)\u001b[0m Starting client training...\n",
      "\u001b[36m(ClientAppActor pid=4144273)\u001b[0m Running epoch 0/10\n",
      "\u001b[36m(ClientAppActor pid=4144273)\u001b[0m Epoch 1: train loss 0.588191995495244, accuracy 0.6842105263157895\n",
      "\u001b[36m(ClientAppActor pid=4144273)\u001b[0m Running epoch 1/10\n",
      "\u001b[36m(ClientAppActor pid=4144273)\u001b[0m Epoch 2: train loss 0.20141642893615522, accuracy 0.9473684210526315\n",
      "\u001b[36m(ClientAppActor pid=4144273)\u001b[0m Running epoch 2/10\n",
      "\u001b[36m(ClientAppActor pid=4144273)\u001b[0m Epoch 3: train loss 0.06806961329359758, accuracy 0.9473684210526315\n",
      "\u001b[36m(ClientAppActor pid=4144273)\u001b[0m Running epoch 3/10\n",
      "\u001b[36m(ClientAppActor pid=4144273)\u001b[0m Epoch 4: train loss 0.019799174642876574, accuracy 1.0\n",
      "\u001b[36m(ClientAppActor pid=4144273)\u001b[0m Running epoch 4/10\n",
      "\u001b[36m(ClientAppActor pid=4144273)\u001b[0m Epoch 5: train loss 0.0031847909558564425, accuracy 1.0\n",
      "\u001b[36m(ClientAppActor pid=4144273)\u001b[0m Running epoch 5/10\n",
      "\u001b[36m(ClientAppActor pid=4144273)\u001b[0m Epoch 6: train loss 0.000696941423245191, accuracy 1.0\n",
      "\u001b[36m(ClientAppActor pid=4144273)\u001b[0m Running epoch 6/10\n",
      "\u001b[36m(ClientAppActor pid=4144273)\u001b[0m Epoch 7: train loss 0.0003100671130692047, accuracy 1.0\n",
      "\u001b[36m(ClientAppActor pid=4144273)\u001b[0m Running epoch 7/10\n",
      "\u001b[36m(ClientAppActor pid=4144273)\u001b[0m Epoch 8: train loss 0.0005790047748872128, accuracy 1.0\n",
      "\u001b[36m(ClientAppActor pid=4144273)\u001b[0m Running epoch 8/10\n",
      "\u001b[36m(ClientAppActor pid=4144273)\u001b[0m Epoch 9: train loss 4.490128738229702e-05, accuracy 1.0\n",
      "\u001b[36m(ClientAppActor pid=4144273)\u001b[0m Running epoch 9/10\n",
      "\u001b[36m(ClientAppActor pid=4144273)\u001b[0m Epoch 10: train loss 9.780560977608395e-05, accuracy 1.0\n",
      "\u001b[36m(ClientAppActor pid=4144273)\u001b[0m Training completed!\n",
      "\u001b[36m(ClientAppActor pid=4144273)\u001b[0m Length of params: 329\n"
     ]
    },
    {
     "name": "stderr",
     "output_type": "stream",
     "text": [
      "\u001b[36m(ClientAppActor pid=4144273)\u001b[0m \u001b[93mWARNING \u001b[0m:   Deprecation Warning: The `client_fn` function must return an instance of `Client`, but an instance of `NumpyClient` was returned. Please use `NumPyClient.to_client()` method to convert it to `Client`.\n"
     ]
    },
    {
     "name": "stdout",
     "output_type": "stream",
     "text": [
      "\u001b[36m(ClientAppActor pid=4144273)\u001b[0m [Client 6] fit, config: {'lr': 0.003}\n",
      "\u001b[36m(ClientAppActor pid=4144273)\u001b[0m Updating parameters 329\n",
      "\u001b[36m(ClientAppActor pid=4144273)\u001b[0m Setting parameters...\n",
      "\u001b[36m(ClientAppActor pid=4144273)\u001b[0m Client parameters set\n",
      "\u001b[36m(ClientAppActor pid=4144273)\u001b[0m Starting client training...\n",
      "\u001b[36m(ClientAppActor pid=4144273)\u001b[0m Running epoch 0/10\n",
      "\u001b[36m(ClientAppActor pid=4144273)\u001b[0m Epoch 1: train loss 0.7313211999441448, accuracy 0.5263157894736842\n",
      "\u001b[36m(ClientAppActor pid=4144273)\u001b[0m Running epoch 1/10\n",
      "\u001b[36m(ClientAppActor pid=4144273)\u001b[0m Epoch 2: train loss 0.2598883219455418, accuracy 0.9473684210526315\n",
      "\u001b[36m(ClientAppActor pid=4144273)\u001b[0m Running epoch 2/10\n",
      "\u001b[36m(ClientAppActor pid=4144273)\u001b[0m Epoch 3: train loss 0.24518762313221631, accuracy 0.8947368421052632\n",
      "\u001b[36m(ClientAppActor pid=4144273)\u001b[0m Running epoch 3/10\n",
      "\u001b[36m(ClientAppActor pid=4144273)\u001b[0m Epoch 4: train loss 0.125800679731918, accuracy 0.9473684210526315\n",
      "\u001b[36m(ClientAppActor pid=4144273)\u001b[0m Running epoch 4/10\n",
      "\u001b[36m(ClientAppActor pid=4144273)\u001b[0m Epoch 5: train loss 0.020365542094958455, accuracy 1.0\n",
      "\u001b[36m(ClientAppActor pid=4144273)\u001b[0m Running epoch 5/10\n",
      "\u001b[36m(ClientAppActor pid=4144273)\u001b[0m Epoch 6: train loss 0.010165797987658726, accuracy 1.0\n",
      "\u001b[36m(ClientAppActor pid=4144273)\u001b[0m Running epoch 6/10\n",
      "\u001b[36m(ClientAppActor pid=4144273)\u001b[0m Epoch 7: train loss 0.0020913003306639822, accuracy 1.0\n",
      "\u001b[36m(ClientAppActor pid=4144273)\u001b[0m Running epoch 7/10\n",
      "\u001b[36m(ClientAppActor pid=4144273)\u001b[0m Epoch 8: train loss 0.0008968411949401917, accuracy 1.0\n",
      "\u001b[36m(ClientAppActor pid=4144273)\u001b[0m Running epoch 8/10\n",
      "\u001b[36m(ClientAppActor pid=4144273)\u001b[0m Epoch 9: train loss 0.0032225630298183348, accuracy 1.0\n",
      "\u001b[36m(ClientAppActor pid=4144273)\u001b[0m Running epoch 9/10\n",
      "\u001b[36m(ClientAppActor pid=4144273)\u001b[0m Epoch 10: train loss 0.0009784352303923744, accuracy 1.0\n",
      "\u001b[36m(ClientAppActor pid=4144273)\u001b[0m Training completed!\n",
      "\u001b[36m(ClientAppActor pid=4144273)\u001b[0m Length of params: 329\n"
     ]
    },
    {
     "name": "stderr",
     "output_type": "stream",
     "text": [
      "\u001b[92mINFO \u001b[0m:      aggregate_fit: received 10 results and 0 failures\n"
     ]
    },
    {
     "name": "stdout",
     "output_type": "stream",
     "text": [
      "Evaluating global model\n",
      "Updating parameters 329\n",
      "Setting parameters...\n",
      "Parameter set\n",
      "Starting client validation...\n",
      "Validataion accuracy = 0.8666666666666667\n",
      "Global evaluation round 1 loss = 0.04820530116558075 accuracy = 0.8666666666666667\n"
     ]
    },
    {
     "name": "stderr",
     "output_type": "stream",
     "text": [
      "\u001b[92mINFO \u001b[0m:      fit progress: (1, 0.04820530116558075, {}, 825.6038354088087)\n",
      "\u001b[92mINFO \u001b[0m:      configure_evaluate: strategy sampled 10 clients (out of 10)\n"
     ]
    },
    {
     "name": "stdout",
     "output_type": "stream",
     "text": [
      "Model saved at ./fl_checkpointsswintransformer_e10_c10_r10/fl_densenet_1.pth\n"
     ]
    },
    {
     "name": "stderr",
     "output_type": "stream",
     "text": [
      "\u001b[36m(ClientAppActor pid=4144273)\u001b[0m \u001b[93mWARNING \u001b[0m:   Deprecation Warning: The `client_fn` function must return an instance of `Client`, but an instance of `NumpyClient` was returned. Please use `NumPyClient.to_client()` method to convert it to `Client`.\n"
     ]
    },
    {
     "name": "stdout",
     "output_type": "stream",
     "text": [
      "\u001b[36m(ClientAppActor pid=4144273)\u001b[0m [Client 2] evaluate, config: {}\n",
      "\u001b[36m(ClientAppActor pid=4144273)\u001b[0m Updating parameters 329\n",
      "\u001b[36m(ClientAppActor pid=4144273)\u001b[0m Setting parameters...\n",
      "\u001b[36m(ClientAppActor pid=4144273)\u001b[0m Starting client validation...\n",
      "\u001b[36m(ClientAppActor pid=4144273)\u001b[0m Validataion accuracy = 0.8666666666666667\n",
      "\u001b[36m(ClientAppActor pid=4144273)\u001b[0m Evaluation loss = 0.04820530116558075 accuracy = 0.8666666666666667\n"
     ]
    },
    {
     "name": "stderr",
     "output_type": "stream",
     "text": [
      "\u001b[36m(ClientAppActor pid=4144273)\u001b[0m \u001b[93mWARNING \u001b[0m:   Deprecation Warning: The `client_fn` function must return an instance of `Client`, but an instance of `NumpyClient` was returned. Please use `NumPyClient.to_client()` method to convert it to `Client`.\n"
     ]
    },
    {
     "name": "stdout",
     "output_type": "stream",
     "text": [
      "\u001b[36m(ClientAppActor pid=4144273)\u001b[0m [Client 5] evaluate, config: {}\n",
      "\u001b[36m(ClientAppActor pid=4144273)\u001b[0m Updating parameters 329\n",
      "\u001b[36m(ClientAppActor pid=4144273)\u001b[0m Setting parameters...\n",
      "\u001b[36m(ClientAppActor pid=4144273)\u001b[0m Starting client validation...\n",
      "\u001b[36m(ClientAppActor pid=4144273)\u001b[0m Validataion accuracy = 0.8666666666666667\n",
      "\u001b[36m(ClientAppActor pid=4144273)\u001b[0m Evaluation loss = 0.04820530116558075 accuracy = 0.8666666666666667\n"
     ]
    },
    {
     "name": "stderr",
     "output_type": "stream",
     "text": [
      "\u001b[36m(ClientAppActor pid=4144273)\u001b[0m \u001b[93mWARNING \u001b[0m:   Deprecation Warning: The `client_fn` function must return an instance of `Client`, but an instance of `NumpyClient` was returned. Please use `NumPyClient.to_client()` method to convert it to `Client`.\n"
     ]
    },
    {
     "name": "stdout",
     "output_type": "stream",
     "text": [
      "\u001b[36m(ClientAppActor pid=4144273)\u001b[0m [Client 7] evaluate, config: {}\n",
      "\u001b[36m(ClientAppActor pid=4144273)\u001b[0m Updating parameters 329\n",
      "\u001b[36m(ClientAppActor pid=4144273)\u001b[0m Setting parameters...\n",
      "\u001b[36m(ClientAppActor pid=4144273)\u001b[0m Starting client validation...\n",
      "\u001b[36m(ClientAppActor pid=4144273)\u001b[0m Validataion accuracy = 0.8666666666666667\n",
      "\u001b[36m(ClientAppActor pid=4144273)\u001b[0m Evaluation loss = 0.04820530116558075 accuracy = 0.8666666666666667\n"
     ]
    },
    {
     "name": "stderr",
     "output_type": "stream",
     "text": [
      "\u001b[36m(ClientAppActor pid=4144273)\u001b[0m \u001b[93mWARNING \u001b[0m:   Deprecation Warning: The `client_fn` function must return an instance of `Client`, but an instance of `NumpyClient` was returned. Please use `NumPyClient.to_client()` method to convert it to `Client`.\n"
     ]
    },
    {
     "name": "stdout",
     "output_type": "stream",
     "text": [
      "\u001b[36m(ClientAppActor pid=4144273)\u001b[0m [Client 8] evaluate, config: {}\n",
      "\u001b[36m(ClientAppActor pid=4144273)\u001b[0m Updating parameters 329\n",
      "\u001b[36m(ClientAppActor pid=4144273)\u001b[0m Setting parameters...\n",
      "\u001b[36m(ClientAppActor pid=4144273)\u001b[0m Starting client validation...\n",
      "\u001b[36m(ClientAppActor pid=4144273)\u001b[0m Validataion accuracy = 0.8666666666666667\n",
      "\u001b[36m(ClientAppActor pid=4144273)\u001b[0m Evaluation loss = 0.04820530116558075 accuracy = 0.8666666666666667\n"
     ]
    },
    {
     "name": "stderr",
     "output_type": "stream",
     "text": [
      "\u001b[36m(ClientAppActor pid=4144273)\u001b[0m \u001b[93mWARNING \u001b[0m:   Deprecation Warning: The `client_fn` function must return an instance of `Client`, but an instance of `NumpyClient` was returned. Please use `NumPyClient.to_client()` method to convert it to `Client`.\n"
     ]
    },
    {
     "name": "stdout",
     "output_type": "stream",
     "text": [
      "\u001b[36m(ClientAppActor pid=4144273)\u001b[0m [Client 4] evaluate, config: {}\n",
      "\u001b[36m(ClientAppActor pid=4144273)\u001b[0m Updating parameters 329\n",
      "\u001b[36m(ClientAppActor pid=4144273)\u001b[0m Setting parameters...\n",
      "\u001b[36m(ClientAppActor pid=4144273)\u001b[0m Starting client validation...\n",
      "\u001b[36m(ClientAppActor pid=4144273)\u001b[0m Validataion accuracy = 0.8666666666666667\n",
      "\u001b[36m(ClientAppActor pid=4144273)\u001b[0m Evaluation loss = 0.04820530116558075 accuracy = 0.8666666666666667\n"
     ]
    },
    {
     "name": "stderr",
     "output_type": "stream",
     "text": [
      "\u001b[36m(ClientAppActor pid=4144273)\u001b[0m \u001b[93mWARNING \u001b[0m:   Deprecation Warning: The `client_fn` function must return an instance of `Client`, but an instance of `NumpyClient` was returned. Please use `NumPyClient.to_client()` method to convert it to `Client`.\n"
     ]
    },
    {
     "name": "stdout",
     "output_type": "stream",
     "text": [
      "\u001b[36m(ClientAppActor pid=4144273)\u001b[0m [Client 3] evaluate, config: {}\n",
      "\u001b[36m(ClientAppActor pid=4144273)\u001b[0m Updating parameters 329\n",
      "\u001b[36m(ClientAppActor pid=4144273)\u001b[0m Setting parameters...\n",
      "\u001b[36m(ClientAppActor pid=4144273)\u001b[0m Starting client validation...\n",
      "\u001b[36m(ClientAppActor pid=4144273)\u001b[0m Validataion accuracy = 0.8666666666666667\n",
      "\u001b[36m(ClientAppActor pid=4144273)\u001b[0m Evaluation loss = 0.04820530116558075 accuracy = 0.8666666666666667\n"
     ]
    },
    {
     "name": "stderr",
     "output_type": "stream",
     "text": [
      "\u001b[36m(ClientAppActor pid=4144273)\u001b[0m \u001b[93mWARNING \u001b[0m:   Deprecation Warning: The `client_fn` function must return an instance of `Client`, but an instance of `NumpyClient` was returned. Please use `NumPyClient.to_client()` method to convert it to `Client`.\n"
     ]
    },
    {
     "name": "stdout",
     "output_type": "stream",
     "text": [
      "\u001b[36m(ClientAppActor pid=4144273)\u001b[0m [Client 0] evaluate, config: {}\n",
      "\u001b[36m(ClientAppActor pid=4144273)\u001b[0m Updating parameters 329\n",
      "\u001b[36m(ClientAppActor pid=4144273)\u001b[0m Setting parameters...\n",
      "\u001b[36m(ClientAppActor pid=4144273)\u001b[0m Starting client validation...\n",
      "\u001b[36m(ClientAppActor pid=4144273)\u001b[0m Validataion accuracy = 0.8666666666666667\n",
      "\u001b[36m(ClientAppActor pid=4144273)\u001b[0m Evaluation loss = 0.04820530116558075 accuracy = 0.8666666666666667\n"
     ]
    },
    {
     "name": "stderr",
     "output_type": "stream",
     "text": [
      "\u001b[36m(ClientAppActor pid=4144273)\u001b[0m \u001b[93mWARNING \u001b[0m:   Deprecation Warning: The `client_fn` function must return an instance of `Client`, but an instance of `NumpyClient` was returned. Please use `NumPyClient.to_client()` method to convert it to `Client`.\n"
     ]
    },
    {
     "name": "stdout",
     "output_type": "stream",
     "text": [
      "\u001b[36m(ClientAppActor pid=4144273)\u001b[0m [Client 9] evaluate, config: {}\n",
      "\u001b[36m(ClientAppActor pid=4144273)\u001b[0m Updating parameters 329\n",
      "\u001b[36m(ClientAppActor pid=4144273)\u001b[0m Setting parameters...\n",
      "\u001b[36m(ClientAppActor pid=4144273)\u001b[0m Starting client validation...\n",
      "\u001b[36m(ClientAppActor pid=4144273)\u001b[0m Validataion accuracy = 0.8666666666666667\n",
      "\u001b[36m(ClientAppActor pid=4144273)\u001b[0m Evaluation loss = 0.04820530116558075 accuracy = 0.8666666666666667\n"
     ]
    },
    {
     "name": "stderr",
     "output_type": "stream",
     "text": [
      "\u001b[36m(ClientAppActor pid=4144273)\u001b[0m \u001b[93mWARNING \u001b[0m:   Deprecation Warning: The `client_fn` function must return an instance of `Client`, but an instance of `NumpyClient` was returned. Please use `NumPyClient.to_client()` method to convert it to `Client`.\n"
     ]
    },
    {
     "name": "stdout",
     "output_type": "stream",
     "text": [
      "\u001b[36m(ClientAppActor pid=4144273)\u001b[0m [Client 1] evaluate, config: {}\n",
      "\u001b[36m(ClientAppActor pid=4144273)\u001b[0m Updating parameters 329\n",
      "\u001b[36m(ClientAppActor pid=4144273)\u001b[0m Setting parameters...\n",
      "\u001b[36m(ClientAppActor pid=4144273)\u001b[0m Starting client validation...\n",
      "\u001b[36m(ClientAppActor pid=4144273)\u001b[0m Validataion accuracy = 0.8666666666666667\n",
      "\u001b[36m(ClientAppActor pid=4144273)\u001b[0m Evaluation loss = 0.04820530116558075 accuracy = 0.8666666666666667\n"
     ]
    },
    {
     "name": "stderr",
     "output_type": "stream",
     "text": [
      "\u001b[36m(ClientAppActor pid=4144273)\u001b[0m \u001b[93mWARNING \u001b[0m:   Deprecation Warning: The `client_fn` function must return an instance of `Client`, but an instance of `NumpyClient` was returned. Please use `NumPyClient.to_client()` method to convert it to `Client`.\n"
     ]
    },
    {
     "name": "stdout",
     "output_type": "stream",
     "text": [
      "\u001b[36m(ClientAppActor pid=4144273)\u001b[0m [Client 6] evaluate, config: {}\n",
      "\u001b[36m(ClientAppActor pid=4144273)\u001b[0m Updating parameters 329\n",
      "\u001b[36m(ClientAppActor pid=4144273)\u001b[0m Setting parameters...\n",
      "\u001b[36m(ClientAppActor pid=4144273)\u001b[0m Starting client validation...\n"
     ]
    },
    {
     "name": "stderr",
     "output_type": "stream",
     "text": [
      "\u001b[92mINFO \u001b[0m:      aggregate_evaluate: received 10 results and 0 failures\n",
      "\u001b[92mINFO \u001b[0m:      \n",
      "\u001b[92mINFO \u001b[0m:      [ROUND 2]\n",
      "\u001b[92mINFO \u001b[0m:      configure_fit: strategy sampled 10 clients (out of 10)\n"
     ]
    },
    {
     "name": "stdout",
     "output_type": "stream",
     "text": [
      "Starting configure fit function...\n",
      "Sample size = 10 Min Num Clients = 2 Clients = [<flwr.simulation.ray_transport.ray_client_proxy.RayActorClientProxy object at 0x155491b771d0>, <flwr.simulation.ray_transport.ray_client_proxy.RayActorClientProxy object at 0x155491b76690>, <flwr.simulation.ray_transport.ray_client_proxy.RayActorClientProxy object at 0x155491b77750>, <flwr.simulation.ray_transport.ray_client_proxy.RayActorClientProxy object at 0x155491b76fd0>, <flwr.simulation.ray_transport.ray_client_proxy.RayActorClientProxy object at 0x155491b77650>, <flwr.simulation.ray_transport.ray_client_proxy.RayActorClientProxy object at 0x155491b77150>, <flwr.simulation.ray_transport.ray_client_proxy.RayActorClientProxy object at 0x155314acf550>, <flwr.simulation.ray_transport.ray_client_proxy.RayActorClientProxy object at 0x155491b77310>, <flwr.simulation.ray_transport.ray_client_proxy.RayActorClientProxy object at 0x155491b776d0>, <flwr.simulation.ray_transport.ray_client_proxy.RayActorClientProxy object at 0x155491b775d0>]\n",
      "Number of clients = 10\n",
      "Fit Configurations\n",
      "\u001b[36m(ClientAppActor pid=4144273)\u001b[0m Validataion accuracy = 0.8666666666666667\n",
      "\u001b[36m(ClientAppActor pid=4144273)\u001b[0m Evaluation loss = 0.04820530116558075 accuracy = 0.8666666666666667\n"
     ]
    },
    {
     "name": "stderr",
     "output_type": "stream",
     "text": [
      "\u001b[36m(ClientAppActor pid=4144273)\u001b[0m \u001b[93mWARNING \u001b[0m:   Deprecation Warning: The `client_fn` function must return an instance of `Client`, but an instance of `NumpyClient` was returned. Please use `NumPyClient.to_client()` method to convert it to `Client`.\n"
     ]
    },
    {
     "name": "stdout",
     "output_type": "stream",
     "text": [
      "\u001b[36m(ClientAppActor pid=4144273)\u001b[0m [Client 2] fit, config: {'lr': 0.001}\n",
      "\u001b[36m(ClientAppActor pid=4144273)\u001b[0m Updating parameters 329\n",
      "\u001b[36m(ClientAppActor pid=4144273)\u001b[0m Setting parameters...\n",
      "\u001b[36m(ClientAppActor pid=4144273)\u001b[0m Client parameters set\n",
      "\u001b[36m(ClientAppActor pid=4144273)\u001b[0m Starting client training...\n",
      "\u001b[36m(ClientAppActor pid=4144273)\u001b[0m Running epoch 0/10\n",
      "\u001b[36m(ClientAppActor pid=4144273)\u001b[0m Epoch 1: train loss 0.9329294295687425, accuracy 0.7894736842105263\n",
      "\u001b[36m(ClientAppActor pid=4144273)\u001b[0m Running epoch 1/10\n",
      "\u001b[36m(ClientAppActor pid=4144273)\u001b[0m Epoch 2: train loss 0.330135619954059, accuracy 0.8421052631578947\n",
      "\u001b[36m(ClientAppActor pid=4144273)\u001b[0m Running epoch 2/10\n",
      "\u001b[36m(ClientAppActor pid=4144273)\u001b[0m Epoch 3: train loss 0.2211958083667253, accuracy 0.8947368421052632\n",
      "\u001b[36m(ClientAppActor pid=4144273)\u001b[0m Running epoch 3/10\n",
      "\u001b[36m(ClientAppActor pid=4144273)\u001b[0m Epoch 4: train loss 0.145239048098263, accuracy 0.9473684210526315\n",
      "\u001b[36m(ClientAppActor pid=4144273)\u001b[0m Running epoch 4/10\n",
      "\u001b[36m(ClientAppActor pid=4144273)\u001b[0m Epoch 5: train loss 0.13587804609223417, accuracy 0.9473684210526315\n",
      "\u001b[36m(ClientAppActor pid=4144273)\u001b[0m Running epoch 5/10\n",
      "\u001b[36m(ClientAppActor pid=4144273)\u001b[0m Epoch 6: train loss 0.030871919049930415, accuracy 1.0\n",
      "\u001b[36m(ClientAppActor pid=4144273)\u001b[0m Running epoch 6/10\n",
      "\u001b[36m(ClientAppActor pid=4144273)\u001b[0m Epoch 7: train loss 0.011410577565823731, accuracy 1.0\n",
      "\u001b[36m(ClientAppActor pid=4144273)\u001b[0m Running epoch 7/10\n",
      "\u001b[36m(ClientAppActor pid=4144273)\u001b[0m Epoch 8: train loss 0.01347177242860198, accuracy 1.0\n",
      "\u001b[36m(ClientAppActor pid=4144273)\u001b[0m Running epoch 8/10\n",
      "\u001b[36m(ClientAppActor pid=4144273)\u001b[0m Epoch 9: train loss 0.013888828131664348, accuracy 1.0\n",
      "\u001b[36m(ClientAppActor pid=4144273)\u001b[0m Running epoch 9/10\n",
      "\u001b[36m(ClientAppActor pid=4144273)\u001b[0m Epoch 10: train loss 0.0046026954231293575, accuracy 1.0\n",
      "\u001b[36m(ClientAppActor pid=4144273)\u001b[0m Training completed!\n",
      "\u001b[36m(ClientAppActor pid=4144273)\u001b[0m Length of params: 329\n"
     ]
    },
    {
     "name": "stderr",
     "output_type": "stream",
     "text": [
      "\u001b[36m(ClientAppActor pid=4144273)\u001b[0m \u001b[93mWARNING \u001b[0m:   Deprecation Warning: The `client_fn` function must return an instance of `Client`, but an instance of `NumpyClient` was returned. Please use `NumPyClient.to_client()` method to convert it to `Client`.\n"
     ]
    },
    {
     "name": "stdout",
     "output_type": "stream",
     "text": [
      "\u001b[36m(ClientAppActor pid=4144273)\u001b[0m [Client 5] fit, config: {'lr': 0.001}\n",
      "\u001b[36m(ClientAppActor pid=4144273)\u001b[0m Updating parameters 329\n",
      "\u001b[36m(ClientAppActor pid=4144273)\u001b[0m Setting parameters...\n",
      "\u001b[36m(ClientAppActor pid=4144273)\u001b[0m Client parameters set\n",
      "\u001b[36m(ClientAppActor pid=4144273)\u001b[0m Starting client training...\n",
      "\u001b[36m(ClientAppActor pid=4144273)\u001b[0m Running epoch 0/10\n",
      "\u001b[36m(ClientAppActor pid=4144273)\u001b[0m Epoch 1: train loss 0.14086625685817317, accuracy 0.9473684210526315\n",
      "\u001b[36m(ClientAppActor pid=4144273)\u001b[0m Running epoch 1/10\n",
      "\u001b[36m(ClientAppActor pid=4144273)\u001b[0m Epoch 2: train loss 0.0008422721263119264, accuracy 1.0\n",
      "\u001b[36m(ClientAppActor pid=4144273)\u001b[0m Running epoch 2/10\n",
      "\u001b[36m(ClientAppActor pid=4144273)\u001b[0m Epoch 3: train loss 0.4065124647397744, accuracy 0.7894736842105263\n",
      "\u001b[36m(ClientAppActor pid=4144273)\u001b[0m Running epoch 3/10\n",
      "\u001b[36m(ClientAppActor pid=4144273)\u001b[0m Epoch 4: train loss 0.003416331852541158, accuracy 1.0\n",
      "\u001b[36m(ClientAppActor pid=4144273)\u001b[0m Running epoch 4/10\n",
      "\u001b[36m(ClientAppActor pid=4144273)\u001b[0m Epoch 5: train loss 0.010206338900484536, accuracy 1.0\n",
      "\u001b[36m(ClientAppActor pid=4144273)\u001b[0m Running epoch 5/10\n",
      "\u001b[36m(ClientAppActor pid=4144273)\u001b[0m Epoch 6: train loss 0.05953783188995562, accuracy 1.0\n",
      "\u001b[36m(ClientAppActor pid=4144273)\u001b[0m Running epoch 6/10\n",
      "\u001b[36m(ClientAppActor pid=4144273)\u001b[0m Epoch 7: train loss 0.014778464475009395, accuracy 1.0\n",
      "\u001b[36m(ClientAppActor pid=4144273)\u001b[0m Epoch 00007: reducing learning rate of group 0 to 1.0000e-05.\n",
      "\u001b[36m(ClientAppActor pid=4144273)\u001b[0m Running epoch 7/10\n",
      "\u001b[36m(ClientAppActor pid=4144273)\u001b[0m Epoch 8: train loss 0.0018758405257310522, accuracy 1.0\n",
      "\u001b[36m(ClientAppActor pid=4144273)\u001b[0m Running epoch 8/10\n",
      "\u001b[36m(ClientAppActor pid=4144273)\u001b[0m Epoch 9: train loss 0.001721199369058013, accuracy 1.0\n",
      "\u001b[36m(ClientAppActor pid=4144273)\u001b[0m Running epoch 9/10\n",
      "\u001b[36m(ClientAppActor pid=4144273)\u001b[0m Epoch 10: train loss 0.0018444132353914412, accuracy 1.0\n",
      "\u001b[36m(ClientAppActor pid=4144273)\u001b[0m Training completed!\n",
      "\u001b[36m(ClientAppActor pid=4144273)\u001b[0m Length of params: 329\n"
     ]
    },
    {
     "name": "stderr",
     "output_type": "stream",
     "text": [
      "\u001b[36m(ClientAppActor pid=4144273)\u001b[0m \u001b[93mWARNING \u001b[0m:   Deprecation Warning: The `client_fn` function must return an instance of `Client`, but an instance of `NumpyClient` was returned. Please use `NumPyClient.to_client()` method to convert it to `Client`.\n"
     ]
    },
    {
     "name": "stdout",
     "output_type": "stream",
     "text": [
      "\u001b[36m(ClientAppActor pid=4144273)\u001b[0m [Client 9] fit, config: {'lr': 0.001}\n",
      "\u001b[36m(ClientAppActor pid=4144273)\u001b[0m Updating parameters 329\n",
      "\u001b[36m(ClientAppActor pid=4144273)\u001b[0m Setting parameters...\n",
      "\u001b[36m(ClientAppActor pid=4144273)\u001b[0m Client parameters set\n",
      "\u001b[36m(ClientAppActor pid=4144273)\u001b[0m Starting client training...\n",
      "\u001b[36m(ClientAppActor pid=4144273)\u001b[0m Running epoch 0/10\n",
      "\u001b[36m(ClientAppActor pid=4144273)\u001b[0m Epoch 1: train loss 0.6254322099685669, accuracy 0.76\n",
      "\u001b[36m(ClientAppActor pid=4144273)\u001b[0m Running epoch 1/10\n",
      "\u001b[36m(ClientAppActor pid=4144273)\u001b[0m Epoch 2: train loss 0.12085654735565185, accuracy 0.92\n",
      "\u001b[36m(ClientAppActor pid=4144273)\u001b[0m Running epoch 2/10\n",
      "\u001b[36m(ClientAppActor pid=4144273)\u001b[0m Epoch 3: train loss 0.056779436320066455, accuracy 1.0\n",
      "\u001b[36m(ClientAppActor pid=4144273)\u001b[0m Running epoch 3/10\n",
      "\u001b[36m(ClientAppActor pid=4144273)\u001b[0m Epoch 4: train loss 0.24373851329088211, accuracy 0.8\n",
      "\u001b[36m(ClientAppActor pid=4144273)\u001b[0m Running epoch 4/10\n",
      "\u001b[36m(ClientAppActor pid=4144273)\u001b[0m Epoch 5: train loss 0.025642710775136947, accuracy 1.0\n",
      "\u001b[36m(ClientAppActor pid=4144273)\u001b[0m Running epoch 5/10\n",
      "\u001b[36m(ClientAppActor pid=4144273)\u001b[0m Epoch 6: train loss 0.01548854809254408, accuracy 1.0\n",
      "\u001b[36m(ClientAppActor pid=4144273)\u001b[0m Running epoch 6/10\n",
      "\u001b[36m(ClientAppActor pid=4144273)\u001b[0m Epoch 7: train loss 0.017206829339265824, accuracy 1.0\n",
      "\u001b[36m(ClientAppActor pid=4144273)\u001b[0m Running epoch 7/10\n",
      "\u001b[36m(ClientAppActor pid=4144273)\u001b[0m Epoch 8: train loss 0.008937488459050656, accuracy 1.0\n",
      "\u001b[36m(ClientAppActor pid=4144273)\u001b[0m Running epoch 8/10\n",
      "\u001b[36m(ClientAppActor pid=4144273)\u001b[0m Epoch 9: train loss 0.0074745981767773625, accuracy 1.0\n",
      "\u001b[36m(ClientAppActor pid=4144273)\u001b[0m Running epoch 9/10\n",
      "\u001b[36m(ClientAppActor pid=4144273)\u001b[0m Epoch 10: train loss 0.009896924616768957, accuracy 1.0\n",
      "\u001b[36m(ClientAppActor pid=4144273)\u001b[0m Training completed!\n",
      "\u001b[36m(ClientAppActor pid=4144273)\u001b[0m Length of params: 329\n"
     ]
    },
    {
     "name": "stderr",
     "output_type": "stream",
     "text": [
      "\u001b[36m(ClientAppActor pid=4144273)\u001b[0m \u001b[93mWARNING \u001b[0m:   Deprecation Warning: The `client_fn` function must return an instance of `Client`, but an instance of `NumpyClient` was returned. Please use `NumPyClient.to_client()` method to convert it to `Client`.\n"
     ]
    },
    {
     "name": "stdout",
     "output_type": "stream",
     "text": [
      "\u001b[36m(ClientAppActor pid=4144273)\u001b[0m [Client 1] fit, config: {'lr': 0.001}\n",
      "\u001b[36m(ClientAppActor pid=4144273)\u001b[0m Updating parameters 329\n",
      "\u001b[36m(ClientAppActor pid=4144273)\u001b[0m Setting parameters...\n",
      "\u001b[36m(ClientAppActor pid=4144273)\u001b[0m Client parameters set\n",
      "\u001b[36m(ClientAppActor pid=4144273)\u001b[0m Starting client training...\n",
      "\u001b[36m(ClientAppActor pid=4144273)\u001b[0m Running epoch 0/10\n",
      "\u001b[36m(ClientAppActor pid=4144273)\u001b[0m Epoch 1: train loss 0.5164271216643485, accuracy 0.7894736842105263\n",
      "\u001b[36m(ClientAppActor pid=4144273)\u001b[0m Running epoch 1/10\n",
      "\u001b[36m(ClientAppActor pid=4144273)\u001b[0m Epoch 2: train loss 0.16365849290435253, accuracy 0.9473684210526315\n",
      "\u001b[36m(ClientAppActor pid=4144273)\u001b[0m Running epoch 2/10\n",
      "\u001b[36m(ClientAppActor pid=4144273)\u001b[0m Epoch 3: train loss 0.36184487844768326, accuracy 0.8947368421052632\n",
      "\u001b[36m(ClientAppActor pid=4144273)\u001b[0m Running epoch 3/10\n",
      "\u001b[36m(ClientAppActor pid=4144273)\u001b[0m Epoch 4: train loss 0.21202049600450615, accuracy 0.8947368421052632\n",
      "\u001b[36m(ClientAppActor pid=4144273)\u001b[0m Running epoch 4/10\n",
      "\u001b[36m(ClientAppActor pid=4144273)\u001b[0m Epoch 5: train loss 0.054613027329507624, accuracy 1.0\n",
      "\u001b[36m(ClientAppActor pid=4144273)\u001b[0m Running epoch 5/10\n",
      "\u001b[36m(ClientAppActor pid=4144273)\u001b[0m Epoch 6: train loss 0.10184999829844425, accuracy 1.0\n",
      "\u001b[36m(ClientAppActor pid=4144273)\u001b[0m Running epoch 6/10\n",
      "\u001b[36m(ClientAppActor pid=4144273)\u001b[0m Epoch 7: train loss 0.089486703766804, accuracy 1.0\n",
      "\u001b[36m(ClientAppActor pid=4144273)\u001b[0m Running epoch 7/10\n",
      "\u001b[36m(ClientAppActor pid=4144273)\u001b[0m Epoch 8: train loss 0.035035172379330584, accuracy 1.0\n",
      "\u001b[36m(ClientAppActor pid=4144273)\u001b[0m Running epoch 8/10\n",
      "\u001b[36m(ClientAppActor pid=4144273)\u001b[0m Epoch 9: train loss 0.02836603837970056, accuracy 1.0\n",
      "\u001b[36m(ClientAppActor pid=4144273)\u001b[0m Running epoch 9/10\n",
      "\u001b[36m(ClientAppActor pid=4144273)\u001b[0m Epoch 10: train loss 0.00860031179495548, accuracy 1.0\n",
      "\u001b[36m(ClientAppActor pid=4144273)\u001b[0m Training completed!\n",
      "\u001b[36m(ClientAppActor pid=4144273)\u001b[0m Length of params: 329\n"
     ]
    },
    {
     "name": "stderr",
     "output_type": "stream",
     "text": [
      "\u001b[36m(ClientAppActor pid=4144273)\u001b[0m \u001b[93mWARNING \u001b[0m:   Deprecation Warning: The `client_fn` function must return an instance of `Client`, but an instance of `NumpyClient` was returned. Please use `NumPyClient.to_client()` method to convert it to `Client`.\n"
     ]
    },
    {
     "name": "stdout",
     "output_type": "stream",
     "text": [
      "\u001b[36m(ClientAppActor pid=4144273)\u001b[0m [Client 7] fit, config: {'lr': 0.001}\n",
      "\u001b[36m(ClientAppActor pid=4144273)\u001b[0m Updating parameters 329\n",
      "\u001b[36m(ClientAppActor pid=4144273)\u001b[0m Setting parameters...\n",
      "\u001b[36m(ClientAppActor pid=4144273)\u001b[0m Client parameters set\n",
      "\u001b[36m(ClientAppActor pid=4144273)\u001b[0m Starting client training...\n",
      "\u001b[36m(ClientAppActor pid=4144273)\u001b[0m Running epoch 0/10\n",
      "\u001b[36m(ClientAppActor pid=4144273)\u001b[0m Epoch 1: train loss 0.23953233090670487, accuracy 0.9473684210526315\n",
      "\u001b[36m(ClientAppActor pid=4144273)\u001b[0m Running epoch 1/10\n",
      "\u001b[36m(ClientAppActor pid=4144273)\u001b[0m Epoch 2: train loss 0.12261625987134482, accuracy 0.9473684210526315\n",
      "\u001b[36m(ClientAppActor pid=4144273)\u001b[0m Running epoch 2/10\n",
      "\u001b[36m(ClientAppActor pid=4144273)\u001b[0m Epoch 3: train loss 0.00953931047728187, accuracy 1.0\n",
      "\u001b[36m(ClientAppActor pid=4144273)\u001b[0m Running epoch 3/10\n",
      "\u001b[36m(ClientAppActor pid=4144273)\u001b[0m Epoch 4: train loss 0.001700464096900664, accuracy 1.0\n",
      "\u001b[36m(ClientAppActor pid=4144273)\u001b[0m Running epoch 4/10\n",
      "\u001b[36m(ClientAppActor pid=4144273)\u001b[0m Epoch 5: train loss 0.001335769046578973, accuracy 1.0\n",
      "\u001b[36m(ClientAppActor pid=4144273)\u001b[0m Running epoch 5/10\n",
      "\u001b[36m(ClientAppActor pid=4144273)\u001b[0m Epoch 6: train loss 0.00046880479529040473, accuracy 1.0\n",
      "\u001b[36m(ClientAppActor pid=4144273)\u001b[0m Running epoch 6/10\n",
      "\u001b[36m(ClientAppActor pid=4144273)\u001b[0m Epoch 7: train loss 0.0001658031986536164, accuracy 1.0\n",
      "\u001b[36m(ClientAppActor pid=4144273)\u001b[0m Running epoch 7/10\n",
      "\u001b[36m(ClientAppActor pid=4144273)\u001b[0m Epoch 8: train loss 0.00011354816572412873, accuracy 1.0\n",
      "\u001b[36m(ClientAppActor pid=4144273)\u001b[0m Running epoch 8/10\n",
      "\u001b[36m(ClientAppActor pid=4144273)\u001b[0m Epoch 9: train loss 0.0010645713158929108, accuracy 1.0\n",
      "\u001b[36m(ClientAppActor pid=4144273)\u001b[0m Running epoch 9/10\n",
      "\u001b[36m(ClientAppActor pid=4144273)\u001b[0m Epoch 10: train loss 0.0003455835700917401, accuracy 1.0\n",
      "\u001b[36m(ClientAppActor pid=4144273)\u001b[0m Training completed!\n",
      "\u001b[36m(ClientAppActor pid=4144273)\u001b[0m Length of params: 329\n"
     ]
    },
    {
     "name": "stderr",
     "output_type": "stream",
     "text": [
      "\u001b[36m(ClientAppActor pid=4144273)\u001b[0m \u001b[93mWARNING \u001b[0m:   Deprecation Warning: The `client_fn` function must return an instance of `Client`, but an instance of `NumpyClient` was returned. Please use `NumPyClient.to_client()` method to convert it to `Client`.\n"
     ]
    },
    {
     "name": "stdout",
     "output_type": "stream",
     "text": [
      "\u001b[36m(ClientAppActor pid=4144273)\u001b[0m [Client 3] fit, config: {'lr': 0.003}\n",
      "\u001b[36m(ClientAppActor pid=4144273)\u001b[0m Updating parameters 329\n",
      "\u001b[36m(ClientAppActor pid=4144273)\u001b[0m Setting parameters...\n",
      "\u001b[36m(ClientAppActor pid=4144273)\u001b[0m Client parameters set\n",
      "\u001b[36m(ClientAppActor pid=4144273)\u001b[0m Starting client training...\n",
      "\u001b[36m(ClientAppActor pid=4144273)\u001b[0m Running epoch 0/10\n",
      "\u001b[36m(ClientAppActor pid=4144273)\u001b[0m Epoch 1: train loss 0.39567703949777705, accuracy 0.8421052631578947\n",
      "\u001b[36m(ClientAppActor pid=4144273)\u001b[0m Running epoch 1/10\n",
      "\u001b[36m(ClientAppActor pid=4144273)\u001b[0m Epoch 2: train loss 0.11390377522299164, accuracy 0.9473684210526315\n",
      "\u001b[36m(ClientAppActor pid=4144273)\u001b[0m Running epoch 2/10\n",
      "\u001b[36m(ClientAppActor pid=4144273)\u001b[0m Epoch 3: train loss 0.10898729474406298, accuracy 0.9473684210526315\n",
      "\u001b[36m(ClientAppActor pid=4144273)\u001b[0m Running epoch 3/10\n",
      "\u001b[36m(ClientAppActor pid=4144273)\u001b[0m Epoch 4: train loss 0.180018286955984, accuracy 0.9473684210526315\n",
      "\u001b[36m(ClientAppActor pid=4144273)\u001b[0m Running epoch 4/10\n",
      "\u001b[36m(ClientAppActor pid=4144273)\u001b[0m Epoch 5: train loss 0.03887442342544857, accuracy 1.0\n",
      "\u001b[36m(ClientAppActor pid=4144273)\u001b[0m Running epoch 5/10\n",
      "\u001b[36m(ClientAppActor pid=4144273)\u001b[0m Epoch 6: train loss 0.03623482937875547, accuracy 1.0\n",
      "\u001b[36m(ClientAppActor pid=4144273)\u001b[0m Running epoch 6/10\n",
      "\u001b[36m(ClientAppActor pid=4144273)\u001b[0m Epoch 7: train loss 0.028132506499164982, accuracy 1.0\n",
      "\u001b[36m(ClientAppActor pid=4144273)\u001b[0m Running epoch 7/10\n",
      "\u001b[36m(ClientAppActor pid=4144273)\u001b[0m Epoch 8: train loss 0.024024999455401774, accuracy 1.0\n",
      "\u001b[36m(ClientAppActor pid=4144273)\u001b[0m Running epoch 8/10\n",
      "\u001b[36m(ClientAppActor pid=4144273)\u001b[0m Epoch 9: train loss 0.008911079727113247, accuracy 1.0\n",
      "\u001b[36m(ClientAppActor pid=4144273)\u001b[0m Running epoch 9/10\n",
      "\u001b[36m(ClientAppActor pid=4144273)\u001b[0m Epoch 10: train loss 0.0061763512754910875, accuracy 1.0\n",
      "\u001b[36m(ClientAppActor pid=4144273)\u001b[0m Training completed!\n",
      "\u001b[36m(ClientAppActor pid=4144273)\u001b[0m Length of params: 329\n"
     ]
    },
    {
     "name": "stderr",
     "output_type": "stream",
     "text": [
      "\u001b[36m(ClientAppActor pid=4144273)\u001b[0m \u001b[93mWARNING \u001b[0m:   Deprecation Warning: The `client_fn` function must return an instance of `Client`, but an instance of `NumpyClient` was returned. Please use `NumPyClient.to_client()` method to convert it to `Client`.\n"
     ]
    },
    {
     "name": "stdout",
     "output_type": "stream",
     "text": [
      "\u001b[36m(ClientAppActor pid=4144273)\u001b[0m [Client 0] fit, config: {'lr': 0.003}\n",
      "\u001b[36m(ClientAppActor pid=4144273)\u001b[0m Updating parameters 329\n",
      "\u001b[36m(ClientAppActor pid=4144273)\u001b[0m Setting parameters...\n",
      "\u001b[36m(ClientAppActor pid=4144273)\u001b[0m Client parameters set\n",
      "\u001b[36m(ClientAppActor pid=4144273)\u001b[0m Starting client training...\n",
      "\u001b[36m(ClientAppActor pid=4144273)\u001b[0m Running epoch 0/10\n",
      "\u001b[36m(ClientAppActor pid=4144273)\u001b[0m Epoch 1: train loss 0.40978010077225535, accuracy 0.8421052631578947\n",
      "\u001b[36m(ClientAppActor pid=4144273)\u001b[0m Running epoch 1/10\n",
      "\u001b[36m(ClientAppActor pid=4144273)\u001b[0m Epoch 2: train loss 0.008740011688419863, accuracy 1.0\n",
      "\u001b[36m(ClientAppActor pid=4144273)\u001b[0m Running epoch 2/10\n",
      "\u001b[36m(ClientAppActor pid=4144273)\u001b[0m Epoch 3: train loss 0.11088019413383383, accuracy 0.9473684210526315\n",
      "\u001b[36m(ClientAppActor pid=4144273)\u001b[0m Running epoch 3/10\n",
      "\u001b[36m(ClientAppActor pid=4144273)\u001b[0m Epoch 4: train loss 0.07276925797525205, accuracy 1.0\n",
      "\u001b[36m(ClientAppActor pid=4144273)\u001b[0m Running epoch 4/10\n",
      "\u001b[36m(ClientAppActor pid=4144273)\u001b[0m Epoch 5: train loss 0.007185694663540313, accuracy 1.0\n",
      "\u001b[36m(ClientAppActor pid=4144273)\u001b[0m Running epoch 5/10\n",
      "\u001b[36m(ClientAppActor pid=4144273)\u001b[0m Epoch 6: train loss 0.0035698916089083803, accuracy 1.0\n",
      "\u001b[36m(ClientAppActor pid=4144273)\u001b[0m Running epoch 6/10\n",
      "\u001b[36m(ClientAppActor pid=4144273)\u001b[0m Epoch 7: train loss 0.005185514284101756, accuracy 1.0\n",
      "\u001b[36m(ClientAppActor pid=4144273)\u001b[0m Running epoch 7/10\n",
      "\u001b[36m(ClientAppActor pid=4144273)\u001b[0m Epoch 8: train loss 0.006526920252087477, accuracy 1.0\n",
      "\u001b[36m(ClientAppActor pid=4144273)\u001b[0m Running epoch 8/10\n",
      "\u001b[36m(ClientAppActor pid=4144273)\u001b[0m Epoch 9: train loss 0.0061329851956351805, accuracy 1.0\n",
      "\u001b[36m(ClientAppActor pid=4144273)\u001b[0m Running epoch 9/10\n",
      "\u001b[36m(ClientAppActor pid=4144273)\u001b[0m Epoch 10: train loss 0.001911007915623486, accuracy 1.0\n",
      "\u001b[36m(ClientAppActor pid=4144273)\u001b[0m Training completed!\n",
      "\u001b[36m(ClientAppActor pid=4144273)\u001b[0m Length of params: 329\n"
     ]
    },
    {
     "name": "stderr",
     "output_type": "stream",
     "text": [
      "\u001b[36m(ClientAppActor pid=4144273)\u001b[0m \u001b[93mWARNING \u001b[0m:   Deprecation Warning: The `client_fn` function must return an instance of `Client`, but an instance of `NumpyClient` was returned. Please use `NumPyClient.to_client()` method to convert it to `Client`.\n"
     ]
    },
    {
     "name": "stdout",
     "output_type": "stream",
     "text": [
      "\u001b[36m(ClientAppActor pid=4144273)\u001b[0m [Client 4] fit, config: {'lr': 0.003}\n",
      "\u001b[36m(ClientAppActor pid=4144273)\u001b[0m Updating parameters 329\n",
      "\u001b[36m(ClientAppActor pid=4144273)\u001b[0m Setting parameters...\n",
      "\u001b[36m(ClientAppActor pid=4144273)\u001b[0m Client parameters set\n",
      "\u001b[36m(ClientAppActor pid=4144273)\u001b[0m Starting client training...\n",
      "\u001b[36m(ClientAppActor pid=4144273)\u001b[0m Running epoch 0/10\n",
      "\u001b[36m(ClientAppActor pid=4144273)\u001b[0m Epoch 1: train loss 0.0009933429008876708, accuracy 1.0\n",
      "\u001b[36m(ClientAppActor pid=4144273)\u001b[0m Running epoch 1/10\n",
      "\u001b[36m(ClientAppActor pid=4144273)\u001b[0m Epoch 2: train loss 5.2590502395775585e-05, accuracy 1.0\n",
      "\u001b[36m(ClientAppActor pid=4144273)\u001b[0m Running epoch 2/10\n",
      "\u001b[36m(ClientAppActor pid=4144273)\u001b[0m Epoch 3: train loss 4.309488108925794e-05, accuracy 1.0\n",
      "\u001b[36m(ClientAppActor pid=4144273)\u001b[0m Running epoch 3/10\n",
      "\u001b[36m(ClientAppActor pid=4144273)\u001b[0m Epoch 4: train loss 4.467267330566852e-05, accuracy 1.0\n",
      "\u001b[36m(ClientAppActor pid=4144273)\u001b[0m Running epoch 4/10\n",
      "\u001b[36m(ClientAppActor pid=4144273)\u001b[0m Epoch 5: train loss 7.951740056006728e-05, accuracy 1.0\n",
      "\u001b[36m(ClientAppActor pid=4144273)\u001b[0m Running epoch 5/10\n",
      "\u001b[36m(ClientAppActor pid=4144273)\u001b[0m Epoch 6: train loss 5.897715790357133e-07, accuracy 1.0\n",
      "\u001b[36m(ClientAppActor pid=4144273)\u001b[0m Running epoch 6/10\n",
      "\u001b[36m(ClientAppActor pid=4144273)\u001b[0m Epoch 7: train loss 6.023194062340496e-07, accuracy 1.0\n",
      "\u001b[36m(ClientAppActor pid=4144273)\u001b[0m Running epoch 7/10\n",
      "\u001b[36m(ClientAppActor pid=4144273)\u001b[0m Epoch 8: train loss 1.443059192608512e-07, accuracy 1.0\n",
      "\u001b[36m(ClientAppActor pid=4144273)\u001b[0m Running epoch 8/10\n",
      "\u001b[36m(ClientAppActor pid=4144273)\u001b[0m Epoch 9: train loss 1.3803174724850913e-07, accuracy 1.0\n",
      "\u001b[36m(ClientAppActor pid=4144273)\u001b[0m Running epoch 9/10\n",
      "\u001b[36m(ClientAppActor pid=4144273)\u001b[0m Epoch 10: train loss 3.8899807613664675e-07, accuracy 1.0\n",
      "\u001b[36m(ClientAppActor pid=4144273)\u001b[0m Training completed!\n",
      "\u001b[36m(ClientAppActor pid=4144273)\u001b[0m Length of params: 329\n"
     ]
    },
    {
     "name": "stderr",
     "output_type": "stream",
     "text": [
      "\u001b[36m(ClientAppActor pid=4144273)\u001b[0m \u001b[93mWARNING \u001b[0m:   Deprecation Warning: The `client_fn` function must return an instance of `Client`, but an instance of `NumpyClient` was returned. Please use `NumPyClient.to_client()` method to convert it to `Client`.\n"
     ]
    },
    {
     "name": "stdout",
     "output_type": "stream",
     "text": [
      "\u001b[36m(ClientAppActor pid=4144273)\u001b[0m [Client 8] fit, config: {'lr': 0.003}\n",
      "\u001b[36m(ClientAppActor pid=4144273)\u001b[0m Updating parameters 329\n",
      "\u001b[36m(ClientAppActor pid=4144273)\u001b[0m Setting parameters...\n",
      "\u001b[36m(ClientAppActor pid=4144273)\u001b[0m Client parameters set\n",
      "\u001b[36m(ClientAppActor pid=4144273)\u001b[0m Starting client training...\n",
      "\u001b[36m(ClientAppActor pid=4144273)\u001b[0m Running epoch 0/10\n",
      "\u001b[36m(ClientAppActor pid=4144273)\u001b[0m Epoch 1: train loss 0.4652888398421438, accuracy 0.8421052631578947\n",
      "\u001b[36m(ClientAppActor pid=4144273)\u001b[0m Running epoch 1/10\n",
      "\u001b[36m(ClientAppActor pid=4144273)\u001b[0m Epoch 2: train loss 0.2443120850152091, accuracy 0.8421052631578947\n",
      "\u001b[36m(ClientAppActor pid=4144273)\u001b[0m Running epoch 2/10\n",
      "\u001b[36m(ClientAppActor pid=4144273)\u001b[0m Epoch 3: train loss 0.04164488255781563, accuracy 1.0\n",
      "\u001b[36m(ClientAppActor pid=4144273)\u001b[0m Running epoch 3/10\n",
      "\u001b[36m(ClientAppActor pid=4144273)\u001b[0m Epoch 4: train loss 0.15409576579144127, accuracy 0.9473684210526315\n",
      "\u001b[36m(ClientAppActor pid=4144273)\u001b[0m Running epoch 4/10\n",
      "\u001b[36m(ClientAppActor pid=4144273)\u001b[0m Epoch 5: train loss 0.016369615951062816, accuracy 1.0\n",
      "\u001b[36m(ClientAppActor pid=4144273)\u001b[0m Running epoch 5/10\n",
      "\u001b[36m(ClientAppActor pid=4144273)\u001b[0m Epoch 6: train loss 0.034840982211263555, accuracy 1.0\n",
      "\u001b[36m(ClientAppActor pid=4144273)\u001b[0m Running epoch 6/10\n",
      "\u001b[36m(ClientAppActor pid=4144273)\u001b[0m Epoch 7: train loss 0.026975391095651214, accuracy 1.0\n",
      "\u001b[36m(ClientAppActor pid=4144273)\u001b[0m Running epoch 7/10\n",
      "\u001b[36m(ClientAppActor pid=4144273)\u001b[0m Epoch 8: train loss 0.007824082561695067, accuracy 1.0\n",
      "\u001b[36m(ClientAppActor pid=4144273)\u001b[0m Running epoch 8/10\n",
      "\u001b[36m(ClientAppActor pid=4144273)\u001b[0m Epoch 9: train loss 0.004629287619057945, accuracy 1.0\n",
      "\u001b[36m(ClientAppActor pid=4144273)\u001b[0m Running epoch 9/10\n",
      "\u001b[36m(ClientAppActor pid=4144273)\u001b[0m Epoch 10: train loss 0.002839310780951851, accuracy 1.0\n",
      "\u001b[36m(ClientAppActor pid=4144273)\u001b[0m Training completed!\n",
      "\u001b[36m(ClientAppActor pid=4144273)\u001b[0m Length of params: 329\n"
     ]
    },
    {
     "name": "stderr",
     "output_type": "stream",
     "text": [
      "\u001b[36m(ClientAppActor pid=4144273)\u001b[0m \u001b[93mWARNING \u001b[0m:   Deprecation Warning: The `client_fn` function must return an instance of `Client`, but an instance of `NumpyClient` was returned. Please use `NumPyClient.to_client()` method to convert it to `Client`.\n"
     ]
    },
    {
     "name": "stdout",
     "output_type": "stream",
     "text": [
      "\u001b[36m(ClientAppActor pid=4144273)\u001b[0m [Client 6] fit, config: {'lr': 0.003}\n",
      "\u001b[36m(ClientAppActor pid=4144273)\u001b[0m Updating parameters 329\n",
      "\u001b[36m(ClientAppActor pid=4144273)\u001b[0m Setting parameters...\n",
      "\u001b[36m(ClientAppActor pid=4144273)\u001b[0m Client parameters set\n",
      "\u001b[36m(ClientAppActor pid=4144273)\u001b[0m Starting client training...\n",
      "\u001b[36m(ClientAppActor pid=4144273)\u001b[0m Running epoch 0/10\n",
      "\u001b[36m(ClientAppActor pid=4144273)\u001b[0m Epoch 1: train loss 0.22625920960777685, accuracy 0.8421052631578947\n",
      "\u001b[36m(ClientAppActor pid=4144273)\u001b[0m Running epoch 1/10\n",
      "\u001b[36m(ClientAppActor pid=4144273)\u001b[0m Epoch 2: train loss 0.2463241143421711, accuracy 0.8947368421052632\n",
      "\u001b[36m(ClientAppActor pid=4144273)\u001b[0m Running epoch 2/10\n",
      "\u001b[36m(ClientAppActor pid=4144273)\u001b[0m Epoch 3: train loss 0.11236485289899927, accuracy 0.9473684210526315\n",
      "\u001b[36m(ClientAppActor pid=4144273)\u001b[0m Running epoch 3/10\n",
      "\u001b[36m(ClientAppActor pid=4144273)\u001b[0m Epoch 4: train loss 0.03875887952744961, accuracy 1.0\n",
      "\u001b[36m(ClientAppActor pid=4144273)\u001b[0m Running epoch 4/10\n",
      "\u001b[36m(ClientAppActor pid=4144273)\u001b[0m Epoch 5: train loss 0.006536915212085373, accuracy 1.0\n",
      "\u001b[36m(ClientAppActor pid=4144273)\u001b[0m Running epoch 5/10\n",
      "\u001b[36m(ClientAppActor pid=4144273)\u001b[0m Epoch 6: train loss 0.0030868291352434377, accuracy 1.0\n",
      "\u001b[36m(ClientAppActor pid=4144273)\u001b[0m Running epoch 6/10\n",
      "\u001b[36m(ClientAppActor pid=4144273)\u001b[0m Epoch 7: train loss 0.0015272819620900247, accuracy 1.0\n",
      "\u001b[36m(ClientAppActor pid=4144273)\u001b[0m Running epoch 7/10\n",
      "\u001b[36m(ClientAppActor pid=4144273)\u001b[0m Epoch 8: train loss 0.003267058618611803, accuracy 1.0\n",
      "\u001b[36m(ClientAppActor pid=4144273)\u001b[0m Running epoch 8/10\n",
      "\u001b[36m(ClientAppActor pid=4144273)\u001b[0m Epoch 9: train loss 0.003874260785156175, accuracy 1.0\n",
      "\u001b[36m(ClientAppActor pid=4144273)\u001b[0m Running epoch 9/10\n",
      "\u001b[36m(ClientAppActor pid=4144273)\u001b[0m Epoch 10: train loss 0.0014643082747505488, accuracy 1.0\n",
      "\u001b[36m(ClientAppActor pid=4144273)\u001b[0m Training completed!\n",
      "\u001b[36m(ClientAppActor pid=4144273)\u001b[0m Length of params: 329\n"
     ]
    },
    {
     "name": "stderr",
     "output_type": "stream",
     "text": [
      "\u001b[92mINFO \u001b[0m:      aggregate_fit: received 10 results and 0 failures\n"
     ]
    },
    {
     "name": "stdout",
     "output_type": "stream",
     "text": [
      "Evaluating global model\n",
      "Updating parameters 329\n",
      "Setting parameters...\n",
      "Parameter set\n",
      "Starting client validation...\n",
      "Validataion accuracy = 0.8666666666666667\n",
      "Global evaluation round 2 loss = 0.046848846847812334 accuracy = 0.8666666666666667\n"
     ]
    },
    {
     "name": "stderr",
     "output_type": "stream",
     "text": [
      "\u001b[92mINFO \u001b[0m:      fit progress: (2, 0.046848846847812334, {}, 1578.6142262839712)\n",
      "\u001b[92mINFO \u001b[0m:      configure_evaluate: strategy sampled 10 clients (out of 10)\n"
     ]
    },
    {
     "name": "stdout",
     "output_type": "stream",
     "text": [
      "Model saved at ./fl_checkpointsswintransformer_e10_c10_r10/fl_densenet_2.pth\n"
     ]
    },
    {
     "name": "stderr",
     "output_type": "stream",
     "text": [
      "\u001b[36m(ClientAppActor pid=4144273)\u001b[0m \u001b[93mWARNING \u001b[0m:   Deprecation Warning: The `client_fn` function must return an instance of `Client`, but an instance of `NumpyClient` was returned. Please use `NumPyClient.to_client()` method to convert it to `Client`.\n"
     ]
    },
    {
     "name": "stdout",
     "output_type": "stream",
     "text": [
      "\u001b[36m(ClientAppActor pid=4144273)\u001b[0m [Client 3] evaluate, config: {}\n",
      "\u001b[36m(ClientAppActor pid=4144273)\u001b[0m Updating parameters 329\n",
      "\u001b[36m(ClientAppActor pid=4144273)\u001b[0m Setting parameters...\n",
      "\u001b[36m(ClientAppActor pid=4144273)\u001b[0m Starting client validation...\n",
      "\u001b[36m(ClientAppActor pid=4144273)\u001b[0m Validataion accuracy = 0.8666666666666667\n",
      "\u001b[36m(ClientAppActor pid=4144273)\u001b[0m Evaluation loss = 0.046848846847812334 accuracy = 0.8666666666666667\n"
     ]
    },
    {
     "name": "stderr",
     "output_type": "stream",
     "text": [
      "\u001b[36m(ClientAppActor pid=4144273)\u001b[0m \u001b[93mWARNING \u001b[0m:   Deprecation Warning: The `client_fn` function must return an instance of `Client`, but an instance of `NumpyClient` was returned. Please use `NumPyClient.to_client()` method to convert it to `Client`.\n"
     ]
    },
    {
     "name": "stdout",
     "output_type": "stream",
     "text": [
      "\u001b[36m(ClientAppActor pid=4144273)\u001b[0m [Client 2] evaluate, config: {}\n",
      "\u001b[36m(ClientAppActor pid=4144273)\u001b[0m Updating parameters 329\n",
      "\u001b[36m(ClientAppActor pid=4144273)\u001b[0m Setting parameters...\n",
      "\u001b[36m(ClientAppActor pid=4144273)\u001b[0m Starting client validation...\n",
      "\u001b[36m(ClientAppActor pid=4144273)\u001b[0m Validataion accuracy = 0.8666666666666667\n",
      "\u001b[36m(ClientAppActor pid=4144273)\u001b[0m Evaluation loss = 0.046848846847812334 accuracy = 0.8666666666666667\n"
     ]
    },
    {
     "name": "stderr",
     "output_type": "stream",
     "text": [
      "\u001b[36m(ClientAppActor pid=4144273)\u001b[0m \u001b[93mWARNING \u001b[0m:   Deprecation Warning: The `client_fn` function must return an instance of `Client`, but an instance of `NumpyClient` was returned. Please use `NumPyClient.to_client()` method to convert it to `Client`.\n"
     ]
    },
    {
     "name": "stdout",
     "output_type": "stream",
     "text": [
      "\u001b[36m(ClientAppActor pid=4144273)\u001b[0m [Client 5] evaluate, config: {}\n",
      "\u001b[36m(ClientAppActor pid=4144273)\u001b[0m Updating parameters 329\n",
      "\u001b[36m(ClientAppActor pid=4144273)\u001b[0m Setting parameters...\n",
      "\u001b[36m(ClientAppActor pid=4144273)\u001b[0m Starting client validation...\n",
      "\u001b[36m(ClientAppActor pid=4144273)\u001b[0m Validataion accuracy = 0.8666666666666667\n",
      "\u001b[36m(ClientAppActor pid=4144273)\u001b[0m Evaluation loss = 0.046848846847812334 accuracy = 0.8666666666666667\n"
     ]
    },
    {
     "name": "stderr",
     "output_type": "stream",
     "text": [
      "\u001b[36m(ClientAppActor pid=4144273)\u001b[0m \u001b[93mWARNING \u001b[0m:   Deprecation Warning: The `client_fn` function must return an instance of `Client`, but an instance of `NumpyClient` was returned. Please use `NumPyClient.to_client()` method to convert it to `Client`.\n"
     ]
    },
    {
     "name": "stdout",
     "output_type": "stream",
     "text": [
      "\u001b[36m(ClientAppActor pid=4144273)\u001b[0m [Client 4] evaluate, config: {}\n",
      "\u001b[36m(ClientAppActor pid=4144273)\u001b[0m Updating parameters 329\n",
      "\u001b[36m(ClientAppActor pid=4144273)\u001b[0m Setting parameters...\n",
      "\u001b[36m(ClientAppActor pid=4144273)\u001b[0m Starting client validation...\n",
      "\u001b[36m(ClientAppActor pid=4144273)\u001b[0m Validataion accuracy = 0.8666666666666667\n",
      "\u001b[36m(ClientAppActor pid=4144273)\u001b[0m Evaluation loss = 0.046848846847812334 accuracy = 0.8666666666666667\n"
     ]
    },
    {
     "name": "stderr",
     "output_type": "stream",
     "text": [
      "\u001b[36m(ClientAppActor pid=4144273)\u001b[0m \u001b[93mWARNING \u001b[0m:   Deprecation Warning: The `client_fn` function must return an instance of `Client`, but an instance of `NumpyClient` was returned. Please use `NumPyClient.to_client()` method to convert it to `Client`.\n"
     ]
    },
    {
     "name": "stdout",
     "output_type": "stream",
     "text": [
      "\u001b[36m(ClientAppActor pid=4144273)\u001b[0m [Client 7] evaluate, config: {}\n",
      "\u001b[36m(ClientAppActor pid=4144273)\u001b[0m Updating parameters 329\n",
      "\u001b[36m(ClientAppActor pid=4144273)\u001b[0m Setting parameters...\n",
      "\u001b[36m(ClientAppActor pid=4144273)\u001b[0m Starting client validation...\n",
      "\u001b[36m(ClientAppActor pid=4144273)\u001b[0m Validataion accuracy = 0.8666666666666667\n",
      "\u001b[36m(ClientAppActor pid=4144273)\u001b[0m Evaluation loss = 0.046848846847812334 accuracy = 0.8666666666666667\n"
     ]
    },
    {
     "name": "stderr",
     "output_type": "stream",
     "text": [
      "\u001b[36m(ClientAppActor pid=4144273)\u001b[0m \u001b[93mWARNING \u001b[0m:   Deprecation Warning: The `client_fn` function must return an instance of `Client`, but an instance of `NumpyClient` was returned. Please use `NumPyClient.to_client()` method to convert it to `Client`.\n"
     ]
    },
    {
     "name": "stdout",
     "output_type": "stream",
     "text": [
      "\u001b[36m(ClientAppActor pid=4144273)\u001b[0m [Client 8] evaluate, config: {}\n",
      "\u001b[36m(ClientAppActor pid=4144273)\u001b[0m Updating parameters 329\n",
      "\u001b[36m(ClientAppActor pid=4144273)\u001b[0m Setting parameters...\n",
      "\u001b[36m(ClientAppActor pid=4144273)\u001b[0m Starting client validation...\n",
      "\u001b[36m(ClientAppActor pid=4144273)\u001b[0m Validataion accuracy = 0.8666666666666667\n",
      "\u001b[36m(ClientAppActor pid=4144273)\u001b[0m Evaluation loss = 0.046848846847812334 accuracy = 0.8666666666666667\n"
     ]
    },
    {
     "name": "stderr",
     "output_type": "stream",
     "text": [
      "\u001b[36m(ClientAppActor pid=4144273)\u001b[0m \u001b[93mWARNING \u001b[0m:   Deprecation Warning: The `client_fn` function must return an instance of `Client`, but an instance of `NumpyClient` was returned. Please use `NumPyClient.to_client()` method to convert it to `Client`.\n"
     ]
    },
    {
     "name": "stdout",
     "output_type": "stream",
     "text": [
      "\u001b[36m(ClientAppActor pid=4144273)\u001b[0m [Client 9] evaluate, config: {}\n",
      "\u001b[36m(ClientAppActor pid=4144273)\u001b[0m Updating parameters 329\n",
      "\u001b[36m(ClientAppActor pid=4144273)\u001b[0m Setting parameters...\n",
      "\u001b[36m(ClientAppActor pid=4144273)\u001b[0m Starting client validation...\n",
      "\u001b[36m(ClientAppActor pid=4144273)\u001b[0m Validataion accuracy = 0.8666666666666667\n",
      "\u001b[36m(ClientAppActor pid=4144273)\u001b[0m Evaluation loss = 0.046848846847812334 accuracy = 0.8666666666666667\n"
     ]
    },
    {
     "name": "stderr",
     "output_type": "stream",
     "text": [
      "\u001b[36m(ClientAppActor pid=4144273)\u001b[0m \u001b[93mWARNING \u001b[0m:   Deprecation Warning: The `client_fn` function must return an instance of `Client`, but an instance of `NumpyClient` was returned. Please use `NumPyClient.to_client()` method to convert it to `Client`.\n"
     ]
    },
    {
     "name": "stdout",
     "output_type": "stream",
     "text": [
      "\u001b[36m(ClientAppActor pid=4144273)\u001b[0m [Client 6] evaluate, config: {}\n",
      "\u001b[36m(ClientAppActor pid=4144273)\u001b[0m Updating parameters 329\n",
      "\u001b[36m(ClientAppActor pid=4144273)\u001b[0m Setting parameters...\n",
      "\u001b[36m(ClientAppActor pid=4144273)\u001b[0m Starting client validation...\n",
      "\u001b[36m(ClientAppActor pid=4144273)\u001b[0m Validataion accuracy = 0.8666666666666667\n",
      "\u001b[36m(ClientAppActor pid=4144273)\u001b[0m Evaluation loss = 0.046848846847812334 accuracy = 0.8666666666666667\n"
     ]
    },
    {
     "name": "stderr",
     "output_type": "stream",
     "text": [
      "\u001b[36m(ClientAppActor pid=4144273)\u001b[0m \u001b[93mWARNING \u001b[0m:   Deprecation Warning: The `client_fn` function must return an instance of `Client`, but an instance of `NumpyClient` was returned. Please use `NumPyClient.to_client()` method to convert it to `Client`.\n"
     ]
    },
    {
     "name": "stdout",
     "output_type": "stream",
     "text": [
      "\u001b[36m(ClientAppActor pid=4144273)\u001b[0m [Client 0] evaluate, config: {}\n",
      "\u001b[36m(ClientAppActor pid=4144273)\u001b[0m Updating parameters 329\n",
      "\u001b[36m(ClientAppActor pid=4144273)\u001b[0m Setting parameters...\n",
      "\u001b[36m(ClientAppActor pid=4144273)\u001b[0m Starting client validation...\n",
      "\u001b[36m(ClientAppActor pid=4144273)\u001b[0m Validataion accuracy = 0.8666666666666667\n",
      "\u001b[36m(ClientAppActor pid=4144273)\u001b[0m Evaluation loss = 0.046848846847812334 accuracy = 0.8666666666666667\n"
     ]
    },
    {
     "name": "stderr",
     "output_type": "stream",
     "text": [
      "\u001b[36m(ClientAppActor pid=4144273)\u001b[0m \u001b[93mWARNING \u001b[0m:   Deprecation Warning: The `client_fn` function must return an instance of `Client`, but an instance of `NumpyClient` was returned. Please use `NumPyClient.to_client()` method to convert it to `Client`.\n"
     ]
    },
    {
     "name": "stdout",
     "output_type": "stream",
     "text": [
      "\u001b[36m(ClientAppActor pid=4144273)\u001b[0m [Client 1] evaluate, config: {}\n",
      "\u001b[36m(ClientAppActor pid=4144273)\u001b[0m Updating parameters 329\n",
      "\u001b[36m(ClientAppActor pid=4144273)\u001b[0m Setting parameters...\n",
      "\u001b[36m(ClientAppActor pid=4144273)\u001b[0m Starting client validation...\n"
     ]
    },
    {
     "name": "stderr",
     "output_type": "stream",
     "text": [
      "\u001b[92mINFO \u001b[0m:      aggregate_evaluate: received 10 results and 0 failures\n",
      "\u001b[92mINFO \u001b[0m:      \n",
      "\u001b[92mINFO \u001b[0m:      [ROUND 3]\n",
      "\u001b[92mINFO \u001b[0m:      configure_fit: strategy sampled 10 clients (out of 10)\n"
     ]
    },
    {
     "name": "stdout",
     "output_type": "stream",
     "text": [
      "Starting configure fit function...\n",
      "Sample size = 10 Min Num Clients = 2 Clients = [<flwr.simulation.ray_transport.ray_client_proxy.RayActorClientProxy object at 0x155491b77150>, <flwr.simulation.ray_transport.ray_client_proxy.RayActorClientProxy object at 0x155491b771d0>, <flwr.simulation.ray_transport.ray_client_proxy.RayActorClientProxy object at 0x155491b76fd0>, <flwr.simulation.ray_transport.ray_client_proxy.RayActorClientProxy object at 0x155491b77750>, <flwr.simulation.ray_transport.ray_client_proxy.RayActorClientProxy object at 0x155491b76690>, <flwr.simulation.ray_transport.ray_client_proxy.RayActorClientProxy object at 0x155491b77310>, <flwr.simulation.ray_transport.ray_client_proxy.RayActorClientProxy object at 0x155314acf550>, <flwr.simulation.ray_transport.ray_client_proxy.RayActorClientProxy object at 0x155491b77650>, <flwr.simulation.ray_transport.ray_client_proxy.RayActorClientProxy object at 0x155491b775d0>, <flwr.simulation.ray_transport.ray_client_proxy.RayActorClientProxy object at 0x155491b776d0>]\n",
      "Number of clients = 10\n",
      "Fit Configurations\n",
      "\u001b[36m(ClientAppActor pid=4144273)\u001b[0m Validataion accuracy = 0.8666666666666667\n",
      "\u001b[36m(ClientAppActor pid=4144273)\u001b[0m Evaluation loss = 0.046848846847812334 accuracy = 0.8666666666666667\n"
     ]
    },
    {
     "name": "stderr",
     "output_type": "stream",
     "text": [
      "\u001b[36m(ClientAppActor pid=4144273)\u001b[0m \u001b[93mWARNING \u001b[0m:   Deprecation Warning: The `client_fn` function must return an instance of `Client`, but an instance of `NumpyClient` was returned. Please use `NumPyClient.to_client()` method to convert it to `Client`.\n"
     ]
    },
    {
     "name": "stdout",
     "output_type": "stream",
     "text": [
      "\u001b[36m(ClientAppActor pid=4144273)\u001b[0m [Client 3] fit, config: {'lr': 0.001}\n",
      "\u001b[36m(ClientAppActor pid=4144273)\u001b[0m Updating parameters 329\n",
      "\u001b[36m(ClientAppActor pid=4144273)\u001b[0m Setting parameters...\n",
      "\u001b[36m(ClientAppActor pid=4144273)\u001b[0m Client parameters set\n",
      "\u001b[36m(ClientAppActor pid=4144273)\u001b[0m Starting client training...\n",
      "\u001b[36m(ClientAppActor pid=4144273)\u001b[0m Running epoch 0/10\n",
      "\u001b[36m(ClientAppActor pid=4144273)\u001b[0m Epoch 1: train loss 0.12817087063663885, accuracy 0.9473684210526315\n",
      "\u001b[36m(ClientAppActor pid=4144273)\u001b[0m Running epoch 1/10\n",
      "\u001b[36m(ClientAppActor pid=4144273)\u001b[0m Epoch 2: train loss 0.04579268709609383, accuracy 1.0\n",
      "\u001b[36m(ClientAppActor pid=4144273)\u001b[0m Running epoch 2/10\n",
      "\u001b[36m(ClientAppActor pid=4144273)\u001b[0m Epoch 3: train loss 0.0377648027711793, accuracy 1.0\n",
      "\u001b[36m(ClientAppActor pid=4144273)\u001b[0m Running epoch 3/10\n",
      "\u001b[36m(ClientAppActor pid=4144273)\u001b[0m Epoch 4: train loss 0.0007642576238140464, accuracy 1.0\n",
      "\u001b[36m(ClientAppActor pid=4144273)\u001b[0m Running epoch 4/10\n",
      "\u001b[36m(ClientAppActor pid=4144273)\u001b[0m Epoch 5: train loss 0.001443252858926395, accuracy 1.0\n",
      "\u001b[36m(ClientAppActor pid=4144273)\u001b[0m Running epoch 5/10\n",
      "\u001b[36m(ClientAppActor pid=4144273)\u001b[0m Epoch 6: train loss 0.004086666593426152, accuracy 1.0\n",
      "\u001b[36m(ClientAppActor pid=4144273)\u001b[0m Running epoch 6/10\n",
      "\u001b[36m(ClientAppActor pid=4144273)\u001b[0m Epoch 7: train loss 0.00449068318611305, accuracy 1.0\n",
      "\u001b[36m(ClientAppActor pid=4144273)\u001b[0m Running epoch 7/10\n",
      "\u001b[36m(ClientAppActor pid=4144273)\u001b[0m Epoch 8: train loss 0.003930503140987926, accuracy 1.0\n",
      "\u001b[36m(ClientAppActor pid=4144273)\u001b[0m Running epoch 8/10\n",
      "\u001b[36m(ClientAppActor pid=4144273)\u001b[0m Epoch 9: train loss 0.0005445455593105994, accuracy 1.0\n",
      "\u001b[36m(ClientAppActor pid=4144273)\u001b[0m Running epoch 9/10\n",
      "\u001b[36m(ClientAppActor pid=4144273)\u001b[0m Epoch 10: train loss 0.00038830549333636696, accuracy 1.0\n",
      "\u001b[36m(ClientAppActor pid=4144273)\u001b[0m Training completed!\n",
      "\u001b[36m(ClientAppActor pid=4144273)\u001b[0m Length of params: 329\n"
     ]
    },
    {
     "name": "stderr",
     "output_type": "stream",
     "text": [
      "\u001b[36m(ClientAppActor pid=4144273)\u001b[0m \u001b[93mWARNING \u001b[0m:   Deprecation Warning: The `client_fn` function must return an instance of `Client`, but an instance of `NumpyClient` was returned. Please use `NumPyClient.to_client()` method to convert it to `Client`.\n"
     ]
    },
    {
     "name": "stdout",
     "output_type": "stream",
     "text": [
      "\u001b[36m(ClientAppActor pid=4144273)\u001b[0m [Client 2] fit, config: {'lr': 0.001}\n",
      "\u001b[36m(ClientAppActor pid=4144273)\u001b[0m Updating parameters 329\n",
      "\u001b[36m(ClientAppActor pid=4144273)\u001b[0m Setting parameters...\n",
      "\u001b[36m(ClientAppActor pid=4144273)\u001b[0m Client parameters set\n",
      "\u001b[36m(ClientAppActor pid=4144273)\u001b[0m Starting client training...\n",
      "\u001b[36m(ClientAppActor pid=4144273)\u001b[0m Running epoch 0/10\n",
      "\u001b[36m(ClientAppActor pid=4144273)\u001b[0m Epoch 1: train loss 0.5680187498219311, accuracy 0.7368421052631579\n",
      "\u001b[36m(ClientAppActor pid=4144273)\u001b[0m Running epoch 1/10\n",
      "\u001b[36m(ClientAppActor pid=4144273)\u001b[0m Epoch 2: train loss 0.4646081069582387, accuracy 0.8421052631578947\n",
      "\u001b[36m(ClientAppActor pid=4144273)\u001b[0m Running epoch 2/10\n",
      "\u001b[36m(ClientAppActor pid=4144273)\u001b[0m Epoch 3: train loss 0.1366892553326723, accuracy 0.9473684210526315\n",
      "\u001b[36m(ClientAppActor pid=4144273)\u001b[0m Running epoch 3/10\n",
      "\u001b[36m(ClientAppActor pid=4144273)\u001b[0m Epoch 4: train loss 0.10682518804739964, accuracy 0.9473684210526315\n",
      "\u001b[36m(ClientAppActor pid=4144273)\u001b[0m Running epoch 4/10\n",
      "\u001b[36m(ClientAppActor pid=4144273)\u001b[0m Epoch 5: train loss 0.05934683311926691, accuracy 1.0\n",
      "\u001b[36m(ClientAppActor pid=4144273)\u001b[0m Running epoch 5/10\n",
      "\u001b[36m(ClientAppActor pid=4144273)\u001b[0m Epoch 6: train loss 0.011115585894961106, accuracy 1.0\n",
      "\u001b[36m(ClientAppActor pid=4144273)\u001b[0m Running epoch 6/10\n",
      "\u001b[36m(ClientAppActor pid=4144273)\u001b[0m Epoch 7: train loss 0.007476136425362998, accuracy 1.0\n",
      "\u001b[36m(ClientAppActor pid=4144273)\u001b[0m Running epoch 7/10\n",
      "\u001b[36m(ClientAppActor pid=4144273)\u001b[0m Epoch 8: train loss 0.002569762303640968, accuracy 1.0\n",
      "\u001b[36m(ClientAppActor pid=4144273)\u001b[0m Running epoch 8/10\n",
      "\u001b[36m(ClientAppActor pid=4144273)\u001b[0m Epoch 9: train loss 0.0008743564586008066, accuracy 1.0\n",
      "\u001b[36m(ClientAppActor pid=4144273)\u001b[0m Running epoch 9/10\n",
      "\u001b[36m(ClientAppActor pid=4144273)\u001b[0m Epoch 10: train loss 0.0013932681023633403, accuracy 1.0\n",
      "\u001b[36m(ClientAppActor pid=4144273)\u001b[0m Training completed!\n",
      "\u001b[36m(ClientAppActor pid=4144273)\u001b[0m Length of params: 329\n"
     ]
    },
    {
     "name": "stderr",
     "output_type": "stream",
     "text": [
      "\u001b[36m(ClientAppActor pid=4144273)\u001b[0m \u001b[93mWARNING \u001b[0m:   Deprecation Warning: The `client_fn` function must return an instance of `Client`, but an instance of `NumpyClient` was returned. Please use `NumPyClient.to_client()` method to convert it to `Client`.\n"
     ]
    },
    {
     "name": "stdout",
     "output_type": "stream",
     "text": [
      "\u001b[36m(ClientAppActor pid=4144273)\u001b[0m [Client 1] fit, config: {'lr': 0.001}\n",
      "\u001b[36m(ClientAppActor pid=4144273)\u001b[0m Updating parameters 329\n",
      "\u001b[36m(ClientAppActor pid=4144273)\u001b[0m Setting parameters...\n",
      "\u001b[36m(ClientAppActor pid=4144273)\u001b[0m Client parameters set\n",
      "\u001b[36m(ClientAppActor pid=4144273)\u001b[0m Starting client training...\n",
      "\u001b[36m(ClientAppActor pid=4144273)\u001b[0m Running epoch 0/10\n",
      "\u001b[36m(ClientAppActor pid=4144273)\u001b[0m Epoch 1: train loss 0.12003194834840925, accuracy 0.9473684210526315\n",
      "\u001b[36m(ClientAppActor pid=4144273)\u001b[0m Running epoch 1/10\n",
      "\u001b[36m(ClientAppActor pid=4144273)\u001b[0m Epoch 2: train loss 0.14550303687390528, accuracy 0.8947368421052632\n",
      "\u001b[36m(ClientAppActor pid=4144273)\u001b[0m Running epoch 2/10\n",
      "\u001b[36m(ClientAppActor pid=4144273)\u001b[0m Epoch 3: train loss 0.006267997848274382, accuracy 1.0\n",
      "\u001b[36m(ClientAppActor pid=4144273)\u001b[0m Running epoch 3/10\n",
      "\u001b[36m(ClientAppActor pid=4144273)\u001b[0m Epoch 4: train loss 0.00880322025822304, accuracy 1.0\n",
      "\u001b[36m(ClientAppActor pid=4144273)\u001b[0m Running epoch 4/10\n",
      "\u001b[36m(ClientAppActor pid=4144273)\u001b[0m Epoch 5: train loss 0.02110886760056019, accuracy 1.0\n",
      "\u001b[36m(ClientAppActor pid=4144273)\u001b[0m Running epoch 5/10\n",
      "\u001b[36m(ClientAppActor pid=4144273)\u001b[0m Epoch 6: train loss 0.001020931541509191, accuracy 1.0\n",
      "\u001b[36m(ClientAppActor pid=4144273)\u001b[0m Running epoch 6/10\n",
      "\u001b[36m(ClientAppActor pid=4144273)\u001b[0m Epoch 7: train loss 0.0005311638999142145, accuracy 1.0\n",
      "\u001b[36m(ClientAppActor pid=4144273)\u001b[0m Running epoch 7/10\n",
      "\u001b[36m(ClientAppActor pid=4144273)\u001b[0m Epoch 8: train loss 0.0006570190828489629, accuracy 1.0\n",
      "\u001b[36m(ClientAppActor pid=4144273)\u001b[0m Running epoch 8/10\n",
      "\u001b[36m(ClientAppActor pid=4144273)\u001b[0m Epoch 9: train loss 0.0008258184953822484, accuracy 1.0\n",
      "\u001b[36m(ClientAppActor pid=4144273)\u001b[0m Running epoch 9/10\n",
      "\u001b[36m(ClientAppActor pid=4144273)\u001b[0m Epoch 10: train loss 0.00156156608749083, accuracy 1.0\n",
      "\u001b[36m(ClientAppActor pid=4144273)\u001b[0m Training completed!\n",
      "\u001b[36m(ClientAppActor pid=4144273)\u001b[0m Length of params: 329\n"
     ]
    },
    {
     "name": "stderr",
     "output_type": "stream",
     "text": [
      "\u001b[36m(ClientAppActor pid=4144273)\u001b[0m \u001b[93mWARNING \u001b[0m:   Deprecation Warning: The `client_fn` function must return an instance of `Client`, but an instance of `NumpyClient` was returned. Please use `NumPyClient.to_client()` method to convert it to `Client`.\n"
     ]
    },
    {
     "name": "stdout",
     "output_type": "stream",
     "text": [
      "\u001b[36m(ClientAppActor pid=4144273)\u001b[0m [Client 9] fit, config: {'lr': 0.001}\n",
      "\u001b[36m(ClientAppActor pid=4144273)\u001b[0m Updating parameters 329\n",
      "\u001b[36m(ClientAppActor pid=4144273)\u001b[0m Setting parameters...\n",
      "\u001b[36m(ClientAppActor pid=4144273)\u001b[0m Client parameters set\n",
      "\u001b[36m(ClientAppActor pid=4144273)\u001b[0m Starting client training...\n",
      "\u001b[36m(ClientAppActor pid=4144273)\u001b[0m Running epoch 0/10\n",
      "\u001b[36m(ClientAppActor pid=4144273)\u001b[0m Epoch 1: train loss 0.2428860867023468, accuracy 0.88\n",
      "\u001b[36m(ClientAppActor pid=4144273)\u001b[0m Running epoch 1/10\n",
      "\u001b[36m(ClientAppActor pid=4144273)\u001b[0m Epoch 2: train loss 0.05044919490814209, accuracy 1.0\n",
      "\u001b[36m(ClientAppActor pid=4144273)\u001b[0m Running epoch 2/10\n",
      "\u001b[36m(ClientAppActor pid=4144273)\u001b[0m Epoch 3: train loss 0.022928871405310927, accuracy 1.0\n",
      "\u001b[36m(ClientAppActor pid=4144273)\u001b[0m Running epoch 3/10\n",
      "\u001b[36m(ClientAppActor pid=4144273)\u001b[0m Epoch 4: train loss 0.09272107899188996, accuracy 0.92\n",
      "\u001b[36m(ClientAppActor pid=4144273)\u001b[0m Running epoch 4/10\n",
      "\u001b[36m(ClientAppActor pid=4144273)\u001b[0m Epoch 5: train loss 0.0019052390754222869, accuracy 1.0\n",
      "\u001b[36m(ClientAppActor pid=4144273)\u001b[0m Running epoch 5/10\n",
      "\u001b[36m(ClientAppActor pid=4144273)\u001b[0m Epoch 6: train loss 0.0013071398809552193, accuracy 1.0\n",
      "\u001b[36m(ClientAppActor pid=4144273)\u001b[0m Running epoch 6/10\n",
      "\u001b[36m(ClientAppActor pid=4144273)\u001b[0m Epoch 7: train loss 0.001445278925821185, accuracy 1.0\n",
      "\u001b[36m(ClientAppActor pid=4144273)\u001b[0m Running epoch 7/10\n",
      "\u001b[36m(ClientAppActor pid=4144273)\u001b[0m Epoch 8: train loss 0.005852238941006362, accuracy 1.0\n",
      "\u001b[36m(ClientAppActor pid=4144273)\u001b[0m Running epoch 8/10\n",
      "\u001b[36m(ClientAppActor pid=4144273)\u001b[0m Epoch 9: train loss 0.0012239063205197454, accuracy 1.0\n",
      "\u001b[36m(ClientAppActor pid=4144273)\u001b[0m Running epoch 9/10\n",
      "\u001b[36m(ClientAppActor pid=4144273)\u001b[0m Epoch 10: train loss 0.000647379761794582, accuracy 1.0\n",
      "\u001b[36m(ClientAppActor pid=4144273)\u001b[0m Training completed!\n",
      "\u001b[36m(ClientAppActor pid=4144273)\u001b[0m Length of params: 329\n"
     ]
    },
    {
     "name": "stderr",
     "output_type": "stream",
     "text": [
      "\u001b[36m(ClientAppActor pid=4144273)\u001b[0m \u001b[93mWARNING \u001b[0m:   Deprecation Warning: The `client_fn` function must return an instance of `Client`, but an instance of `NumpyClient` was returned. Please use `NumPyClient.to_client()` method to convert it to `Client`.\n"
     ]
    },
    {
     "name": "stdout",
     "output_type": "stream",
     "text": [
      "\u001b[36m(ClientAppActor pid=4144273)\u001b[0m [Client 5] fit, config: {'lr': 0.001}\n",
      "\u001b[36m(ClientAppActor pid=4144273)\u001b[0m Updating parameters 329\n",
      "\u001b[36m(ClientAppActor pid=4144273)\u001b[0m Setting parameters...\n",
      "\u001b[36m(ClientAppActor pid=4144273)\u001b[0m Client parameters set\n",
      "\u001b[36m(ClientAppActor pid=4144273)\u001b[0m Starting client training...\n",
      "\u001b[36m(ClientAppActor pid=4144273)\u001b[0m Running epoch 0/10\n",
      "\u001b[36m(ClientAppActor pid=4144273)\u001b[0m Epoch 1: train loss 0.006084557996425582, accuracy 1.0\n",
      "\u001b[36m(ClientAppActor pid=4144273)\u001b[0m Running epoch 1/10\n",
      "\u001b[36m(ClientAppActor pid=4144273)\u001b[0m Epoch 2: train loss 0.0004588827264103058, accuracy 1.0\n",
      "\u001b[36m(ClientAppActor pid=4144273)\u001b[0m Running epoch 2/10\n",
      "\u001b[36m(ClientAppActor pid=4144273)\u001b[0m Epoch 3: train loss 0.00043764422403718957, accuracy 1.0\n",
      "\u001b[36m(ClientAppActor pid=4144273)\u001b[0m Running epoch 3/10\n",
      "\u001b[36m(ClientAppActor pid=4144273)\u001b[0m Epoch 4: train loss 3.8864560529442604e-05, accuracy 1.0\n",
      "\u001b[36m(ClientAppActor pid=4144273)\u001b[0m Running epoch 4/10\n",
      "\u001b[36m(ClientAppActor pid=4144273)\u001b[0m Epoch 5: train loss 1.8714069010696365e-05, accuracy 1.0\n",
      "\u001b[36m(ClientAppActor pid=4144273)\u001b[0m Running epoch 5/10\n",
      "\u001b[36m(ClientAppActor pid=4144273)\u001b[0m Epoch 6: train loss 6.004226671501256e-06, accuracy 1.0\n",
      "\u001b[36m(ClientAppActor pid=4144273)\u001b[0m Running epoch 6/10\n",
      "\u001b[36m(ClientAppActor pid=4144273)\u001b[0m Epoch 7: train loss 5.160282446587715e-05, accuracy 1.0\n",
      "\u001b[36m(ClientAppActor pid=4144273)\u001b[0m Running epoch 7/10\n",
      "\u001b[36m(ClientAppActor pid=4144273)\u001b[0m Epoch 8: train loss 2.0830184319876072e-06, accuracy 1.0\n",
      "\u001b[36m(ClientAppActor pid=4144273)\u001b[0m Running epoch 8/10\n",
      "\u001b[36m(ClientAppActor pid=4144273)\u001b[0m Epoch 9: train loss 4.642884282415444e-07, accuracy 1.0\n",
      "\u001b[36m(ClientAppActor pid=4144273)\u001b[0m Running epoch 9/10\n",
      "\u001b[36m(ClientAppActor pid=4144273)\u001b[0m Epoch 10: train loss 4.5350722134915746e-05, accuracy 1.0\n",
      "\u001b[36m(ClientAppActor pid=4144273)\u001b[0m Training completed!\n",
      "\u001b[36m(ClientAppActor pid=4144273)\u001b[0m Length of params: 329\n"
     ]
    },
    {
     "name": "stderr",
     "output_type": "stream",
     "text": [
      "\u001b[36m(ClientAppActor pid=4144273)\u001b[0m \u001b[93mWARNING \u001b[0m:   Deprecation Warning: The `client_fn` function must return an instance of `Client`, but an instance of `NumpyClient` was returned. Please use `NumPyClient.to_client()` method to convert it to `Client`.\n"
     ]
    },
    {
     "name": "stdout",
     "output_type": "stream",
     "text": [
      "\u001b[36m(ClientAppActor pid=4144273)\u001b[0m [Client 4] fit, config: {'lr': 0.003}\n",
      "\u001b[36m(ClientAppActor pid=4144273)\u001b[0m Updating parameters 329\n",
      "\u001b[36m(ClientAppActor pid=4144273)\u001b[0m Setting parameters...\n",
      "\u001b[36m(ClientAppActor pid=4144273)\u001b[0m Client parameters set\n",
      "\u001b[36m(ClientAppActor pid=4144273)\u001b[0m Starting client training...\n",
      "\u001b[36m(ClientAppActor pid=4144273)\u001b[0m Running epoch 0/10\n",
      "\u001b[36m(ClientAppActor pid=4144273)\u001b[0m Epoch 1: train loss 0.0021307905894661274, accuracy 1.0\n",
      "\u001b[36m(ClientAppActor pid=4144273)\u001b[0m Running epoch 1/10\n",
      "\u001b[36m(ClientAppActor pid=4144273)\u001b[0m Epoch 2: train loss 0.0006816937940656269, accuracy 1.0\n",
      "\u001b[36m(ClientAppActor pid=4144273)\u001b[0m Running epoch 2/10\n",
      "\u001b[36m(ClientAppActor pid=4144273)\u001b[0m Epoch 3: train loss 9.241735824616626e-06, accuracy 1.0\n",
      "\u001b[36m(ClientAppActor pid=4144273)\u001b[0m Running epoch 3/10\n",
      "\u001b[36m(ClientAppActor pid=4144273)\u001b[0m Epoch 4: train loss 9.524051410823487e-06, accuracy 1.0\n",
      "\u001b[36m(ClientAppActor pid=4144273)\u001b[0m Running epoch 4/10\n",
      "\u001b[36m(ClientAppActor pid=4144273)\u001b[0m Epoch 5: train loss 5.910202114472141e-06, accuracy 1.0\n",
      "\u001b[36m(ClientAppActor pid=4144273)\u001b[0m Running epoch 5/10\n",
      "\u001b[36m(ClientAppActor pid=4144273)\u001b[0m Epoch 6: train loss 3.095482698929692e-05, accuracy 1.0\n",
      "\u001b[36m(ClientAppActor pid=4144273)\u001b[0m Running epoch 6/10\n",
      "\u001b[36m(ClientAppActor pid=4144273)\u001b[0m Epoch 7: train loss 2.450905556447412e-05, accuracy 1.0\n",
      "\u001b[36m(ClientAppActor pid=4144273)\u001b[0m Running epoch 7/10\n",
      "\u001b[36m(ClientAppActor pid=4144273)\u001b[0m Epoch 8: train loss 6.135982403066009e-06, accuracy 1.0\n",
      "\u001b[36m(ClientAppActor pid=4144273)\u001b[0m Running epoch 8/10\n",
      "\u001b[36m(ClientAppActor pid=4144273)\u001b[0m Epoch 9: train loss 7.027064994920358e-07, accuracy 1.0\n",
      "\u001b[36m(ClientAppActor pid=4144273)\u001b[0m Running epoch 9/10\n",
      "\u001b[36m(ClientAppActor pid=4144273)\u001b[0m Epoch 10: train loss 4.730657505397655e-06, accuracy 1.0\n",
      "\u001b[36m(ClientAppActor pid=4144273)\u001b[0m Training completed!\n",
      "\u001b[36m(ClientAppActor pid=4144273)\u001b[0m Length of params: 329\n"
     ]
    },
    {
     "name": "stderr",
     "output_type": "stream",
     "text": [
      "\u001b[36m(ClientAppActor pid=4144273)\u001b[0m \u001b[93mWARNING \u001b[0m:   Deprecation Warning: The `client_fn` function must return an instance of `Client`, but an instance of `NumpyClient` was returned. Please use `NumPyClient.to_client()` method to convert it to `Client`.\n"
     ]
    },
    {
     "name": "stdout",
     "output_type": "stream",
     "text": [
      "\u001b[36m(ClientAppActor pid=4144273)\u001b[0m [Client 0] fit, config: {'lr': 0.003}\n",
      "\u001b[36m(ClientAppActor pid=4144273)\u001b[0m Updating parameters 329\n",
      "\u001b[36m(ClientAppActor pid=4144273)\u001b[0m Setting parameters...\n",
      "\u001b[36m(ClientAppActor pid=4144273)\u001b[0m Client parameters set\n",
      "\u001b[36m(ClientAppActor pid=4144273)\u001b[0m Starting client training...\n",
      "\u001b[36m(ClientAppActor pid=4144273)\u001b[0m Running epoch 0/10\n",
      "\u001b[36m(ClientAppActor pid=4144273)\u001b[0m Epoch 1: train loss 0.40017538792208623, accuracy 0.9473684210526315\n",
      "\u001b[36m(ClientAppActor pid=4144273)\u001b[0m Running epoch 1/10\n",
      "\u001b[36m(ClientAppActor pid=4144273)\u001b[0m Epoch 2: train loss 0.008700143674535579, accuracy 1.0\n",
      "\u001b[36m(ClientAppActor pid=4144273)\u001b[0m Running epoch 2/10\n",
      "\u001b[36m(ClientAppActor pid=4144273)\u001b[0m Epoch 3: train loss 0.02066872092454057, accuracy 1.0\n",
      "\u001b[36m(ClientAppActor pid=4144273)\u001b[0m Running epoch 3/10\n",
      "\u001b[36m(ClientAppActor pid=4144273)\u001b[0m Epoch 4: train loss 0.007917514193410935, accuracy 1.0\n",
      "\u001b[36m(ClientAppActor pid=4144273)\u001b[0m Running epoch 4/10\n",
      "\u001b[36m(ClientAppActor pid=4144273)\u001b[0m Epoch 5: train loss 0.015297036078807554, accuracy 1.0\n",
      "\u001b[36m(ClientAppActor pid=4144273)\u001b[0m Running epoch 5/10\n",
      "\u001b[36m(ClientAppActor pid=4144273)\u001b[0m Epoch 6: train loss 0.002647466269799655, accuracy 1.0\n",
      "\u001b[36m(ClientAppActor pid=4144273)\u001b[0m Running epoch 6/10\n",
      "\u001b[36m(ClientAppActor pid=4144273)\u001b[0m Epoch 7: train loss 0.002563282663590814, accuracy 1.0\n",
      "\u001b[36m(ClientAppActor pid=4144273)\u001b[0m Running epoch 7/10\n",
      "\u001b[36m(ClientAppActor pid=4144273)\u001b[0m Epoch 8: train loss 0.001774987798662072, accuracy 1.0\n",
      "\u001b[36m(ClientAppActor pid=4144273)\u001b[0m Running epoch 8/10\n",
      "\u001b[36m(ClientAppActor pid=4144273)\u001b[0m Epoch 9: train loss 0.0008120591335586811, accuracy 1.0\n",
      "\u001b[36m(ClientAppActor pid=4144273)\u001b[0m Running epoch 9/10\n",
      "\u001b[36m(ClientAppActor pid=4144273)\u001b[0m Epoch 10: train loss 0.009578352009779528, accuracy 1.0\n",
      "\u001b[36m(ClientAppActor pid=4144273)\u001b[0m Training completed!\n",
      "\u001b[36m(ClientAppActor pid=4144273)\u001b[0m Length of params: 329\n"
     ]
    },
    {
     "name": "stderr",
     "output_type": "stream",
     "text": [
      "\u001b[36m(ClientAppActor pid=4144273)\u001b[0m \u001b[93mWARNING \u001b[0m:   Deprecation Warning: The `client_fn` function must return an instance of `Client`, but an instance of `NumpyClient` was returned. Please use `NumPyClient.to_client()` method to convert it to `Client`.\n"
     ]
    },
    {
     "name": "stdout",
     "output_type": "stream",
     "text": [
      "\u001b[36m(ClientAppActor pid=4144273)\u001b[0m [Client 7] fit, config: {'lr': 0.003}\n",
      "\u001b[36m(ClientAppActor pid=4144273)\u001b[0m Updating parameters 329\n",
      "\u001b[36m(ClientAppActor pid=4144273)\u001b[0m Setting parameters...\n",
      "\u001b[36m(ClientAppActor pid=4144273)\u001b[0m Client parameters set\n",
      "\u001b[36m(ClientAppActor pid=4144273)\u001b[0m Starting client training...\n",
      "\u001b[36m(ClientAppActor pid=4144273)\u001b[0m Running epoch 0/10\n",
      "\u001b[36m(ClientAppActor pid=4144273)\u001b[0m Epoch 1: train loss 0.23515794622270683, accuracy 0.9473684210526315\n",
      "\u001b[36m(ClientAppActor pid=4144273)\u001b[0m Running epoch 1/10\n",
      "\u001b[36m(ClientAppActor pid=4144273)\u001b[0m Epoch 2: train loss 0.04163600053442152, accuracy 0.9473684210526315\n",
      "\u001b[36m(ClientAppActor pid=4144273)\u001b[0m Running epoch 2/10\n",
      "\u001b[36m(ClientAppActor pid=4144273)\u001b[0m Epoch 3: train loss 0.0378532825086854, accuracy 1.0\n",
      "\u001b[36m(ClientAppActor pid=4144273)\u001b[0m Running epoch 3/10\n",
      "\u001b[36m(ClientAppActor pid=4144273)\u001b[0m Epoch 4: train loss 0.03543833780445551, accuracy 1.0\n",
      "\u001b[36m(ClientAppActor pid=4144273)\u001b[0m Running epoch 4/10\n",
      "\u001b[36m(ClientAppActor pid=4144273)\u001b[0m Epoch 5: train loss 0.0022979911514802985, accuracy 1.0\n",
      "\u001b[36m(ClientAppActor pid=4144273)\u001b[0m Running epoch 5/10\n",
      "\u001b[36m(ClientAppActor pid=4144273)\u001b[0m Epoch 6: train loss 0.0007224015640339962, accuracy 1.0\n",
      "\u001b[36m(ClientAppActor pid=4144273)\u001b[0m Running epoch 6/10\n",
      "\u001b[36m(ClientAppActor pid=4144273)\u001b[0m Epoch 7: train loss 0.0009690888446608657, accuracy 1.0\n",
      "\u001b[36m(ClientAppActor pid=4144273)\u001b[0m Running epoch 7/10\n",
      "\u001b[36m(ClientAppActor pid=4144273)\u001b[0m Epoch 8: train loss 0.0013686922060227708, accuracy 1.0\n",
      "\u001b[36m(ClientAppActor pid=4144273)\u001b[0m Running epoch 8/10\n",
      "\u001b[36m(ClientAppActor pid=4144273)\u001b[0m Epoch 9: train loss 0.00048483274995784375, accuracy 1.0\n",
      "\u001b[36m(ClientAppActor pid=4144273)\u001b[0m Running epoch 9/10\n",
      "\u001b[36m(ClientAppActor pid=4144273)\u001b[0m Epoch 10: train loss 0.0007665824473645587, accuracy 1.0\n",
      "\u001b[36m(ClientAppActor pid=4144273)\u001b[0m Training completed!\n",
      "\u001b[36m(ClientAppActor pid=4144273)\u001b[0m Length of params: 329\n"
     ]
    },
    {
     "name": "stderr",
     "output_type": "stream",
     "text": [
      "\u001b[36m(ClientAppActor pid=4144273)\u001b[0m \u001b[93mWARNING \u001b[0m:   Deprecation Warning: The `client_fn` function must return an instance of `Client`, but an instance of `NumpyClient` was returned. Please use `NumPyClient.to_client()` method to convert it to `Client`.\n"
     ]
    },
    {
     "name": "stdout",
     "output_type": "stream",
     "text": [
      "\u001b[36m(ClientAppActor pid=4144273)\u001b[0m [Client 6] fit, config: {'lr': 0.003}\n",
      "\u001b[36m(ClientAppActor pid=4144273)\u001b[0m Updating parameters 329\n",
      "\u001b[36m(ClientAppActor pid=4144273)\u001b[0m Setting parameters...\n",
      "\u001b[36m(ClientAppActor pid=4144273)\u001b[0m Client parameters set\n",
      "\u001b[36m(ClientAppActor pid=4144273)\u001b[0m Starting client training...\n",
      "\u001b[36m(ClientAppActor pid=4144273)\u001b[0m Running epoch 0/10\n",
      "\u001b[36m(ClientAppActor pid=4144273)\u001b[0m Epoch 1: train loss 0.1144858177163099, accuracy 0.9473684210526315\n",
      "\u001b[36m(ClientAppActor pid=4144273)\u001b[0m Running epoch 1/10\n",
      "\u001b[36m(ClientAppActor pid=4144273)\u001b[0m Epoch 2: train loss 0.02398013325996305, accuracy 1.0\n",
      "\u001b[36m(ClientAppActor pid=4144273)\u001b[0m Running epoch 2/10\n",
      "\u001b[36m(ClientAppActor pid=4144273)\u001b[0m Epoch 3: train loss 0.009902662565429253, accuracy 1.0\n",
      "\u001b[36m(ClientAppActor pid=4144273)\u001b[0m Running epoch 3/10\n",
      "\u001b[36m(ClientAppActor pid=4144273)\u001b[0m Epoch 4: train loss 0.0016741202899107808, accuracy 1.0\n",
      "\u001b[36m(ClientAppActor pid=4144273)\u001b[0m Running epoch 4/10\n",
      "\u001b[36m(ClientAppActor pid=4144273)\u001b[0m Epoch 5: train loss 0.0006585574439285617, accuracy 1.0\n",
      "\u001b[36m(ClientAppActor pid=4144273)\u001b[0m Running epoch 5/10\n",
      "\u001b[36m(ClientAppActor pid=4144273)\u001b[0m Epoch 6: train loss 0.0015523533434852173, accuracy 1.0\n",
      "\u001b[36m(ClientAppActor pid=4144273)\u001b[0m Running epoch 6/10\n",
      "\u001b[36m(ClientAppActor pid=4144273)\u001b[0m Epoch 7: train loss 0.0003599555164232458, accuracy 1.0\n",
      "\u001b[36m(ClientAppActor pid=4144273)\u001b[0m Running epoch 7/10\n",
      "\u001b[36m(ClientAppActor pid=4144273)\u001b[0m Epoch 8: train loss 4.4165151561365314e-05, accuracy 1.0\n",
      "\u001b[36m(ClientAppActor pid=4144273)\u001b[0m Running epoch 8/10\n",
      "\u001b[36m(ClientAppActor pid=4144273)\u001b[0m Epoch 9: train loss 2.4762658109753638e-05, accuracy 1.0\n",
      "\u001b[36m(ClientAppActor pid=4144273)\u001b[0m Running epoch 9/10\n",
      "\u001b[36m(ClientAppActor pid=4144273)\u001b[0m Epoch 10: train loss 3.174719743607344e-06, accuracy 1.0\n",
      "\u001b[36m(ClientAppActor pid=4144273)\u001b[0m Training completed!\n",
      "\u001b[36m(ClientAppActor pid=4144273)\u001b[0m Length of params: 329\n"
     ]
    },
    {
     "name": "stderr",
     "output_type": "stream",
     "text": [
      "\u001b[36m(ClientAppActor pid=4144273)\u001b[0m \u001b[93mWARNING \u001b[0m:   Deprecation Warning: The `client_fn` function must return an instance of `Client`, but an instance of `NumpyClient` was returned. Please use `NumPyClient.to_client()` method to convert it to `Client`.\n"
     ]
    },
    {
     "name": "stdout",
     "output_type": "stream",
     "text": [
      "\u001b[36m(ClientAppActor pid=4144273)\u001b[0m [Client 8] fit, config: {'lr': 0.003}\n",
      "\u001b[36m(ClientAppActor pid=4144273)\u001b[0m Updating parameters 329\n",
      "\u001b[36m(ClientAppActor pid=4144273)\u001b[0m Setting parameters...\n",
      "\u001b[36m(ClientAppActor pid=4144273)\u001b[0m Client parameters set\n",
      "\u001b[36m(ClientAppActor pid=4144273)\u001b[0m Starting client training...\n",
      "\u001b[36m(ClientAppActor pid=4144273)\u001b[0m Running epoch 0/10\n",
      "\u001b[36m(ClientAppActor pid=4144273)\u001b[0m Epoch 1: train loss 0.16035483424064678, accuracy 0.9473684210526315\n",
      "\u001b[36m(ClientAppActor pid=4144273)\u001b[0m Running epoch 1/10\n",
      "\u001b[36m(ClientAppActor pid=4144273)\u001b[0m Epoch 2: train loss 0.3887067005822533, accuracy 0.8421052631578947\n",
      "\u001b[36m(ClientAppActor pid=4144273)\u001b[0m Running epoch 2/10\n",
      "\u001b[36m(ClientAppActor pid=4144273)\u001b[0m Epoch 3: train loss 0.04217923746297234, accuracy 1.0\n",
      "\u001b[36m(ClientAppActor pid=4144273)\u001b[0m Running epoch 3/10\n",
      "\u001b[36m(ClientAppActor pid=4144273)\u001b[0m Epoch 4: train loss 0.03599714056441659, accuracy 1.0\n",
      "\u001b[36m(ClientAppActor pid=4144273)\u001b[0m Running epoch 4/10\n",
      "\u001b[36m(ClientAppActor pid=4144273)\u001b[0m Epoch 5: train loss 0.017448992198823315, accuracy 1.0\n",
      "\u001b[36m(ClientAppActor pid=4144273)\u001b[0m Running epoch 5/10\n",
      "\u001b[36m(ClientAppActor pid=4144273)\u001b[0m Epoch 6: train loss 0.0021291138224401756, accuracy 1.0\n",
      "\u001b[36m(ClientAppActor pid=4144273)\u001b[0m Running epoch 6/10\n",
      "\u001b[36m(ClientAppActor pid=4144273)\u001b[0m Epoch 7: train loss 0.001011189820833112, accuracy 1.0\n",
      "\u001b[36m(ClientAppActor pid=4144273)\u001b[0m Running epoch 7/10\n",
      "\u001b[36m(ClientAppActor pid=4144273)\u001b[0m Epoch 8: train loss 0.0007752091654478327, accuracy 1.0\n",
      "\u001b[36m(ClientAppActor pid=4144273)\u001b[0m Running epoch 8/10\n",
      "\u001b[36m(ClientAppActor pid=4144273)\u001b[0m Epoch 9: train loss 0.0005659108650625536, accuracy 1.0\n",
      "\u001b[36m(ClientAppActor pid=4144273)\u001b[0m Running epoch 9/10\n",
      "\u001b[36m(ClientAppActor pid=4144273)\u001b[0m Epoch 10: train loss 0.0009052180164297553, accuracy 1.0\n",
      "\u001b[36m(ClientAppActor pid=4144273)\u001b[0m Training completed!\n",
      "\u001b[36m(ClientAppActor pid=4144273)\u001b[0m Length of params: 329\n"
     ]
    },
    {
     "name": "stderr",
     "output_type": "stream",
     "text": [
      "\u001b[92mINFO \u001b[0m:      aggregate_fit: received 10 results and 0 failures\n"
     ]
    },
    {
     "name": "stdout",
     "output_type": "stream",
     "text": [
      "Evaluating global model\n",
      "Updating parameters 329\n",
      "Setting parameters...\n",
      "Parameter set\n",
      "Starting client validation...\n",
      "Validataion accuracy = 0.8666666666666667\n",
      "Global evaluation round 3 loss = 0.060025711357593534 accuracy = 0.8666666666666667\n"
     ]
    },
    {
     "name": "stderr",
     "output_type": "stream",
     "text": [
      "\u001b[92mINFO \u001b[0m:      fit progress: (3, 0.060025711357593534, {}, 2337.4372832819354)\n",
      "\u001b[92mINFO \u001b[0m:      configure_evaluate: strategy sampled 10 clients (out of 10)\n"
     ]
    },
    {
     "name": "stdout",
     "output_type": "stream",
     "text": [
      "Model saved at ./fl_checkpointsswintransformer_e10_c10_r10/fl_densenet_3.pth\n"
     ]
    },
    {
     "name": "stderr",
     "output_type": "stream",
     "text": [
      "\u001b[36m(ClientAppActor pid=4144273)\u001b[0m \u001b[93mWARNING \u001b[0m:   Deprecation Warning: The `client_fn` function must return an instance of `Client`, but an instance of `NumpyClient` was returned. Please use `NumPyClient.to_client()` method to convert it to `Client`.\n"
     ]
    },
    {
     "name": "stdout",
     "output_type": "stream",
     "text": [
      "\u001b[36m(ClientAppActor pid=4144273)\u001b[0m [Client 6] evaluate, config: {}\n",
      "\u001b[36m(ClientAppActor pid=4144273)\u001b[0m Updating parameters 329\n",
      "\u001b[36m(ClientAppActor pid=4144273)\u001b[0m Setting parameters...\n",
      "\u001b[36m(ClientAppActor pid=4144273)\u001b[0m Starting client validation...\n",
      "\u001b[36m(ClientAppActor pid=4144273)\u001b[0m Validataion accuracy = 0.8666666666666667\n",
      "\u001b[36m(ClientAppActor pid=4144273)\u001b[0m Evaluation loss = 0.060025711357593534 accuracy = 0.8666666666666667\n"
     ]
    },
    {
     "name": "stderr",
     "output_type": "stream",
     "text": [
      "\u001b[36m(ClientAppActor pid=4144273)\u001b[0m \u001b[93mWARNING \u001b[0m:   Deprecation Warning: The `client_fn` function must return an instance of `Client`, but an instance of `NumpyClient` was returned. Please use `NumPyClient.to_client()` method to convert it to `Client`.\n"
     ]
    },
    {
     "name": "stdout",
     "output_type": "stream",
     "text": [
      "\u001b[36m(ClientAppActor pid=4144273)\u001b[0m [Client 7] evaluate, config: {}\n",
      "\u001b[36m(ClientAppActor pid=4144273)\u001b[0m Updating parameters 329\n",
      "\u001b[36m(ClientAppActor pid=4144273)\u001b[0m Setting parameters...\n",
      "\u001b[36m(ClientAppActor pid=4144273)\u001b[0m Starting client validation...\n",
      "\u001b[36m(ClientAppActor pid=4144273)\u001b[0m Validataion accuracy = 0.8666666666666667\n",
      "\u001b[36m(ClientAppActor pid=4144273)\u001b[0m Evaluation loss = 0.060025711357593534 accuracy = 0.8666666666666667\n"
     ]
    },
    {
     "name": "stderr",
     "output_type": "stream",
     "text": [
      "\u001b[36m(ClientAppActor pid=4144273)\u001b[0m \u001b[93mWARNING \u001b[0m:   Deprecation Warning: The `client_fn` function must return an instance of `Client`, but an instance of `NumpyClient` was returned. Please use `NumPyClient.to_client()` method to convert it to `Client`.\n"
     ]
    },
    {
     "name": "stdout",
     "output_type": "stream",
     "text": [
      "\u001b[36m(ClientAppActor pid=4144273)\u001b[0m [Client 3] evaluate, config: {}\n",
      "\u001b[36m(ClientAppActor pid=4144273)\u001b[0m Updating parameters 329\n",
      "\u001b[36m(ClientAppActor pid=4144273)\u001b[0m Setting parameters...\n",
      "\u001b[36m(ClientAppActor pid=4144273)\u001b[0m Starting client validation...\n",
      "\u001b[36m(ClientAppActor pid=4144273)\u001b[0m Validataion accuracy = 0.8666666666666667\n",
      "\u001b[36m(ClientAppActor pid=4144273)\u001b[0m Evaluation loss = 0.060025711357593534 accuracy = 0.8666666666666667\n"
     ]
    },
    {
     "name": "stderr",
     "output_type": "stream",
     "text": [
      "\u001b[36m(ClientAppActor pid=4144273)\u001b[0m \u001b[93mWARNING \u001b[0m:   Deprecation Warning: The `client_fn` function must return an instance of `Client`, but an instance of `NumpyClient` was returned. Please use `NumPyClient.to_client()` method to convert it to `Client`.\n"
     ]
    },
    {
     "name": "stdout",
     "output_type": "stream",
     "text": [
      "\u001b[36m(ClientAppActor pid=4144273)\u001b[0m [Client 4] evaluate, config: {}\n",
      "\u001b[36m(ClientAppActor pid=4144273)\u001b[0m Updating parameters 329\n",
      "\u001b[36m(ClientAppActor pid=4144273)\u001b[0m Setting parameters...\n",
      "\u001b[36m(ClientAppActor pid=4144273)\u001b[0m Starting client validation...\n",
      "\u001b[36m(ClientAppActor pid=4144273)\u001b[0m Validataion accuracy = 0.8666666666666667\n",
      "\u001b[36m(ClientAppActor pid=4144273)\u001b[0m Evaluation loss = 0.060025711357593534 accuracy = 0.8666666666666667\n"
     ]
    },
    {
     "name": "stderr",
     "output_type": "stream",
     "text": [
      "\u001b[36m(ClientAppActor pid=4144273)\u001b[0m \u001b[93mWARNING \u001b[0m:   Deprecation Warning: The `client_fn` function must return an instance of `Client`, but an instance of `NumpyClient` was returned. Please use `NumPyClient.to_client()` method to convert it to `Client`.\n"
     ]
    },
    {
     "name": "stdout",
     "output_type": "stream",
     "text": [
      "\u001b[36m(ClientAppActor pid=4144273)\u001b[0m [Client 9] evaluate, config: {}\n",
      "\u001b[36m(ClientAppActor pid=4144273)\u001b[0m Updating parameters 329\n",
      "\u001b[36m(ClientAppActor pid=4144273)\u001b[0m Setting parameters...\n",
      "\u001b[36m(ClientAppActor pid=4144273)\u001b[0m Starting client validation...\n",
      "\u001b[36m(ClientAppActor pid=4144273)\u001b[0m Validataion accuracy = 0.8666666666666667\n",
      "\u001b[36m(ClientAppActor pid=4144273)\u001b[0m Evaluation loss = 0.060025711357593534 accuracy = 0.8666666666666667\n"
     ]
    },
    {
     "name": "stderr",
     "output_type": "stream",
     "text": [
      "\u001b[36m(ClientAppActor pid=4144273)\u001b[0m \u001b[93mWARNING \u001b[0m:   Deprecation Warning: The `client_fn` function must return an instance of `Client`, but an instance of `NumpyClient` was returned. Please use `NumPyClient.to_client()` method to convert it to `Client`.\n"
     ]
    },
    {
     "name": "stdout",
     "output_type": "stream",
     "text": [
      "\u001b[36m(ClientAppActor pid=4144273)\u001b[0m [Client 5] evaluate, config: {}\n",
      "\u001b[36m(ClientAppActor pid=4144273)\u001b[0m Updating parameters 329\n",
      "\u001b[36m(ClientAppActor pid=4144273)\u001b[0m Setting parameters...\n",
      "\u001b[36m(ClientAppActor pid=4144273)\u001b[0m Starting client validation...\n",
      "\u001b[36m(ClientAppActor pid=4144273)\u001b[0m Validataion accuracy = 0.8666666666666667\n",
      "\u001b[36m(ClientAppActor pid=4144273)\u001b[0m Evaluation loss = 0.060025711357593534 accuracy = 0.8666666666666667\n"
     ]
    },
    {
     "name": "stderr",
     "output_type": "stream",
     "text": [
      "\u001b[36m(ClientAppActor pid=4144273)\u001b[0m \u001b[93mWARNING \u001b[0m:   Deprecation Warning: The `client_fn` function must return an instance of `Client`, but an instance of `NumpyClient` was returned. Please use `NumPyClient.to_client()` method to convert it to `Client`.\n"
     ]
    },
    {
     "name": "stdout",
     "output_type": "stream",
     "text": [
      "\u001b[36m(ClientAppActor pid=4144273)\u001b[0m [Client 8] evaluate, config: {}\n",
      "\u001b[36m(ClientAppActor pid=4144273)\u001b[0m Updating parameters 329\n",
      "\u001b[36m(ClientAppActor pid=4144273)\u001b[0m Setting parameters...\n",
      "\u001b[36m(ClientAppActor pid=4144273)\u001b[0m Starting client validation...\n",
      "\u001b[36m(ClientAppActor pid=4144273)\u001b[0m Validataion accuracy = 0.8666666666666667\n",
      "\u001b[36m(ClientAppActor pid=4144273)\u001b[0m Evaluation loss = 0.060025711357593534 accuracy = 0.8666666666666667\n"
     ]
    },
    {
     "name": "stderr",
     "output_type": "stream",
     "text": [
      "\u001b[36m(ClientAppActor pid=4144273)\u001b[0m \u001b[93mWARNING \u001b[0m:   Deprecation Warning: The `client_fn` function must return an instance of `Client`, but an instance of `NumpyClient` was returned. Please use `NumPyClient.to_client()` method to convert it to `Client`.\n"
     ]
    },
    {
     "name": "stdout",
     "output_type": "stream",
     "text": [
      "\u001b[36m(ClientAppActor pid=4144273)\u001b[0m [Client 2] evaluate, config: {}\n",
      "\u001b[36m(ClientAppActor pid=4144273)\u001b[0m Updating parameters 329\n",
      "\u001b[36m(ClientAppActor pid=4144273)\u001b[0m Setting parameters...\n",
      "\u001b[36m(ClientAppActor pid=4144273)\u001b[0m Starting client validation...\n",
      "\u001b[36m(ClientAppActor pid=4144273)\u001b[0m Validataion accuracy = 0.8666666666666667\n",
      "\u001b[36m(ClientAppActor pid=4144273)\u001b[0m Evaluation loss = 0.060025711357593534 accuracy = 0.8666666666666667\n"
     ]
    },
    {
     "name": "stderr",
     "output_type": "stream",
     "text": [
      "\u001b[36m(ClientAppActor pid=4144273)\u001b[0m \u001b[93mWARNING \u001b[0m:   Deprecation Warning: The `client_fn` function must return an instance of `Client`, but an instance of `NumpyClient` was returned. Please use `NumPyClient.to_client()` method to convert it to `Client`.\n"
     ]
    },
    {
     "name": "stdout",
     "output_type": "stream",
     "text": [
      "\u001b[36m(ClientAppActor pid=4144273)\u001b[0m [Client 0] evaluate, config: {}\n",
      "\u001b[36m(ClientAppActor pid=4144273)\u001b[0m Updating parameters 329\n",
      "\u001b[36m(ClientAppActor pid=4144273)\u001b[0m Setting parameters...\n",
      "\u001b[36m(ClientAppActor pid=4144273)\u001b[0m Starting client validation...\n",
      "\u001b[36m(ClientAppActor pid=4144273)\u001b[0m Validataion accuracy = 0.8666666666666667\n",
      "\u001b[36m(ClientAppActor pid=4144273)\u001b[0m Evaluation loss = 0.060025711357593534 accuracy = 0.8666666666666667\n"
     ]
    },
    {
     "name": "stderr",
     "output_type": "stream",
     "text": [
      "\u001b[36m(ClientAppActor pid=4144273)\u001b[0m \u001b[93mWARNING \u001b[0m:   Deprecation Warning: The `client_fn` function must return an instance of `Client`, but an instance of `NumpyClient` was returned. Please use `NumPyClient.to_client()` method to convert it to `Client`.\n"
     ]
    },
    {
     "name": "stdout",
     "output_type": "stream",
     "text": [
      "\u001b[36m(ClientAppActor pid=4144273)\u001b[0m [Client 1] evaluate, config: {}\n",
      "\u001b[36m(ClientAppActor pid=4144273)\u001b[0m Updating parameters 329\n",
      "\u001b[36m(ClientAppActor pid=4144273)\u001b[0m Setting parameters...\n",
      "\u001b[36m(ClientAppActor pid=4144273)\u001b[0m Starting client validation...\n"
     ]
    },
    {
     "name": "stderr",
     "output_type": "stream",
     "text": [
      "\u001b[92mINFO \u001b[0m:      aggregate_evaluate: received 10 results and 0 failures\n",
      "\u001b[92mINFO \u001b[0m:      \n",
      "\u001b[92mINFO \u001b[0m:      [ROUND 4]\n",
      "\u001b[92mINFO \u001b[0m:      configure_fit: strategy sampled 10 clients (out of 10)\n"
     ]
    },
    {
     "name": "stdout",
     "output_type": "stream",
     "text": [
      "Starting configure fit function...\n",
      "Sample size = 10 Min Num Clients = 2 Clients = [<flwr.simulation.ray_transport.ray_client_proxy.RayActorClientProxy object at 0x155314acf550>, <flwr.simulation.ray_transport.ray_client_proxy.RayActorClientProxy object at 0x155491b77150>, <flwr.simulation.ray_transport.ray_client_proxy.RayActorClientProxy object at 0x155491b77650>, <flwr.simulation.ray_transport.ray_client_proxy.RayActorClientProxy object at 0x155491b76fd0>, <flwr.simulation.ray_transport.ray_client_proxy.RayActorClientProxy object at 0x155491b77750>, <flwr.simulation.ray_transport.ray_client_proxy.RayActorClientProxy object at 0x155491b76690>, <flwr.simulation.ray_transport.ray_client_proxy.RayActorClientProxy object at 0x155491b77310>, <flwr.simulation.ray_transport.ray_client_proxy.RayActorClientProxy object at 0x155491b771d0>, <flwr.simulation.ray_transport.ray_client_proxy.RayActorClientProxy object at 0x155491b775d0>, <flwr.simulation.ray_transport.ray_client_proxy.RayActorClientProxy object at 0x155491b776d0>]\n",
      "Number of clients = 10\n",
      "Fit Configurations\n",
      "\u001b[36m(ClientAppActor pid=4144273)\u001b[0m Validataion accuracy = 0.8666666666666667\n",
      "\u001b[36m(ClientAppActor pid=4144273)\u001b[0m Evaluation loss = 0.060025711357593534 accuracy = 0.8666666666666667\n"
     ]
    },
    {
     "name": "stderr",
     "output_type": "stream",
     "text": [
      "\u001b[36m(ClientAppActor pid=4144273)\u001b[0m \u001b[93mWARNING \u001b[0m:   Deprecation Warning: The `client_fn` function must return an instance of `Client`, but an instance of `NumpyClient` was returned. Please use `NumPyClient.to_client()` method to convert it to `Client`.\n"
     ]
    },
    {
     "name": "stdout",
     "output_type": "stream",
     "text": [
      "\u001b[36m(ClientAppActor pid=4144273)\u001b[0m [Client 0] fit, config: {'lr': 0.001}\n",
      "\u001b[36m(ClientAppActor pid=4144273)\u001b[0m Updating parameters 329\n",
      "\u001b[36m(ClientAppActor pid=4144273)\u001b[0m Setting parameters...\n",
      "\u001b[36m(ClientAppActor pid=4144273)\u001b[0m Client parameters set\n",
      "\u001b[36m(ClientAppActor pid=4144273)\u001b[0m Starting client training...\n",
      "\u001b[36m(ClientAppActor pid=4144273)\u001b[0m Running epoch 0/10\n",
      "\u001b[36m(ClientAppActor pid=4144273)\u001b[0m Epoch 1: train loss 0.002958764751000624, accuracy 1.0\n",
      "\u001b[36m(ClientAppActor pid=4144273)\u001b[0m Running epoch 1/10\n",
      "\u001b[36m(ClientAppActor pid=4144273)\u001b[0m Epoch 2: train loss 4.674183142732976e-05, accuracy 1.0\n",
      "\u001b[36m(ClientAppActor pid=4144273)\u001b[0m Running epoch 2/10\n",
      "\u001b[36m(ClientAppActor pid=4144273)\u001b[0m Epoch 3: train loss 0.44805606051446184, accuracy 0.8947368421052632\n",
      "\u001b[36m(ClientAppActor pid=4144273)\u001b[0m Running epoch 3/10\n",
      "\u001b[36m(ClientAppActor pid=4144273)\u001b[0m Epoch 4: train loss 2.6224729768536665e-05, accuracy 1.0\n",
      "\u001b[36m(ClientAppActor pid=4144273)\u001b[0m Running epoch 4/10\n",
      "\u001b[36m(ClientAppActor pid=4144273)\u001b[0m Epoch 5: train loss 0.011181283301036609, accuracy 1.0\n",
      "\u001b[36m(ClientAppActor pid=4144273)\u001b[0m Running epoch 5/10\n",
      "\u001b[36m(ClientAppActor pid=4144273)\u001b[0m Epoch 6: train loss 0.0006036536375942983, accuracy 1.0\n",
      "\u001b[36m(ClientAppActor pid=4144273)\u001b[0m Running epoch 6/10\n",
      "\u001b[36m(ClientAppActor pid=4144273)\u001b[0m Epoch 7: train loss 0.0009613233292168987, accuracy 1.0\n",
      "\u001b[36m(ClientAppActor pid=4144273)\u001b[0m Running epoch 7/10\n",
      "\u001b[36m(ClientAppActor pid=4144273)\u001b[0m Epoch 8: train loss 0.0004294966747693252, accuracy 1.0\n",
      "\u001b[36m(ClientAppActor pid=4144273)\u001b[0m Running epoch 8/10\n",
      "\u001b[36m(ClientAppActor pid=4144273)\u001b[0m Epoch 9: train loss 0.005627472590851157, accuracy 1.0\n",
      "\u001b[36m(ClientAppActor pid=4144273)\u001b[0m Epoch 00009: reducing learning rate of group 0 to 1.0000e-05.\n",
      "\u001b[36m(ClientAppActor pid=4144273)\u001b[0m Running epoch 9/10\n",
      "\u001b[36m(ClientAppActor pid=4144273)\u001b[0m Epoch 10: train loss 0.0007263589052998118, accuracy 1.0\n",
      "\u001b[36m(ClientAppActor pid=4144273)\u001b[0m Training completed!\n",
      "\u001b[36m(ClientAppActor pid=4144273)\u001b[0m Length of params: 329\n"
     ]
    },
    {
     "name": "stderr",
     "output_type": "stream",
     "text": [
      "\u001b[36m(ClientAppActor pid=4144273)\u001b[0m \u001b[93mWARNING \u001b[0m:   Deprecation Warning: The `client_fn` function must return an instance of `Client`, but an instance of `NumpyClient` was returned. Please use `NumPyClient.to_client()` method to convert it to `Client`.\n"
     ]
    },
    {
     "name": "stdout",
     "output_type": "stream",
     "text": [
      "\u001b[36m(ClientAppActor pid=4144273)\u001b[0m [Client 3] fit, config: {'lr': 0.001}\n",
      "\u001b[36m(ClientAppActor pid=4144273)\u001b[0m Updating parameters 329\n",
      "\u001b[36m(ClientAppActor pid=4144273)\u001b[0m Setting parameters...\n",
      "\u001b[36m(ClientAppActor pid=4144273)\u001b[0m Client parameters set\n",
      "\u001b[36m(ClientAppActor pid=4144273)\u001b[0m Starting client training...\n",
      "\u001b[36m(ClientAppActor pid=4144273)\u001b[0m Running epoch 0/10\n",
      "\u001b[36m(ClientAppActor pid=4144273)\u001b[0m Epoch 1: train loss 0.0009329968597739935, accuracy 1.0\n",
      "\u001b[36m(ClientAppActor pid=4144273)\u001b[0m Running epoch 1/10\n",
      "\u001b[36m(ClientAppActor pid=4144273)\u001b[0m Epoch 2: train loss 0.13460010603759992, accuracy 0.9473684210526315\n",
      "\u001b[36m(ClientAppActor pid=4144273)\u001b[0m Running epoch 2/10\n",
      "\u001b[36m(ClientAppActor pid=4144273)\u001b[0m Epoch 3: train loss 0.0043962533401147655, accuracy 1.0\n",
      "\u001b[36m(ClientAppActor pid=4144273)\u001b[0m Running epoch 3/10\n",
      "\u001b[36m(ClientAppActor pid=4144273)\u001b[0m Epoch 4: train loss 0.0024068173822199336, accuracy 1.0\n",
      "\u001b[36m(ClientAppActor pid=4144273)\u001b[0m Running epoch 4/10\n",
      "\u001b[36m(ClientAppActor pid=4144273)\u001b[0m Epoch 5: train loss 0.002041936680478485, accuracy 1.0\n",
      "\u001b[36m(ClientAppActor pid=4144273)\u001b[0m Running epoch 5/10\n",
      "\u001b[36m(ClientAppActor pid=4144273)\u001b[0m Epoch 6: train loss 0.0016396990111771676, accuracy 1.0\n",
      "\u001b[36m(ClientAppActor pid=4144273)\u001b[0m Epoch 00006: reducing learning rate of group 0 to 1.0000e-05.\n",
      "\u001b[36m(ClientAppActor pid=4144273)\u001b[0m Running epoch 6/10\n",
      "\u001b[36m(ClientAppActor pid=4144273)\u001b[0m Epoch 7: train loss 0.0005350821761806545, accuracy 1.0\n",
      "\u001b[36m(ClientAppActor pid=4144273)\u001b[0m Running epoch 7/10\n",
      "\u001b[36m(ClientAppActor pid=4144273)\u001b[0m Epoch 8: train loss 0.0006346074361844282, accuracy 1.0\n",
      "\u001b[36m(ClientAppActor pid=4144273)\u001b[0m Running epoch 8/10\n",
      "\u001b[36m(ClientAppActor pid=4144273)\u001b[0m Epoch 9: train loss 2.3807820209311247e-05, accuracy 1.0\n",
      "\u001b[36m(ClientAppActor pid=4144273)\u001b[0m Running epoch 9/10\n",
      "\u001b[36m(ClientAppActor pid=4144273)\u001b[0m Epoch 10: train loss 4.720164329946305e-05, accuracy 1.0\n",
      "\u001b[36m(ClientAppActor pid=4144273)\u001b[0m Training completed!\n",
      "\u001b[36m(ClientAppActor pid=4144273)\u001b[0m Length of params: 329\n"
     ]
    },
    {
     "name": "stderr",
     "output_type": "stream",
     "text": [
      "\u001b[36m(ClientAppActor pid=4144273)\u001b[0m \u001b[93mWARNING \u001b[0m:   Deprecation Warning: The `client_fn` function must return an instance of `Client`, but an instance of `NumpyClient` was returned. Please use `NumPyClient.to_client()` method to convert it to `Client`.\n"
     ]
    },
    {
     "name": "stdout",
     "output_type": "stream",
     "text": [
      "\u001b[36m(ClientAppActor pid=4144273)\u001b[0m [Client 7] fit, config: {'lr': 0.001}\n",
      "\u001b[36m(ClientAppActor pid=4144273)\u001b[0m Updating parameters 329\n",
      "\u001b[36m(ClientAppActor pid=4144273)\u001b[0m Setting parameters...\n",
      "\u001b[36m(ClientAppActor pid=4144273)\u001b[0m Client parameters set\n",
      "\u001b[36m(ClientAppActor pid=4144273)\u001b[0m Starting client training...\n",
      "\u001b[36m(ClientAppActor pid=4144273)\u001b[0m Running epoch 0/10\n",
      "\u001b[36m(ClientAppActor pid=4144273)\u001b[0m Epoch 1: train loss 0.03616419281982081, accuracy 1.0\n",
      "\u001b[36m(ClientAppActor pid=4144273)\u001b[0m Running epoch 1/10\n",
      "\u001b[36m(ClientAppActor pid=4144273)\u001b[0m Epoch 2: train loss 0.06543793136198044, accuracy 0.9473684210526315\n",
      "\u001b[36m(ClientAppActor pid=4144273)\u001b[0m Running epoch 2/10\n",
      "\u001b[36m(ClientAppActor pid=4144273)\u001b[0m Epoch 3: train loss 0.01585239812878794, accuracy 1.0\n",
      "\u001b[36m(ClientAppActor pid=4144273)\u001b[0m Running epoch 3/10\n",
      "\u001b[36m(ClientAppActor pid=4144273)\u001b[0m Epoch 4: train loss 0.0001998009607440939, accuracy 1.0\n",
      "\u001b[36m(ClientAppActor pid=4144273)\u001b[0m Running epoch 4/10\n",
      "\u001b[36m(ClientAppActor pid=4144273)\u001b[0m Epoch 5: train loss 0.00022469540741248668, accuracy 1.0\n",
      "\u001b[36m(ClientAppActor pid=4144273)\u001b[0m Running epoch 5/10\n",
      "\u001b[36m(ClientAppActor pid=4144273)\u001b[0m Epoch 6: train loss 0.0002798092211474125, accuracy 1.0\n",
      "\u001b[36m(ClientAppActor pid=4144273)\u001b[0m Running epoch 6/10\n",
      "\u001b[36m(ClientAppActor pid=4144273)\u001b[0m Epoch 7: train loss 0.004455175589675109, accuracy 1.0\n",
      "\u001b[36m(ClientAppActor pid=4144273)\u001b[0m Running epoch 7/10\n",
      "\u001b[36m(ClientAppActor pid=4144273)\u001b[0m Epoch 8: train loss 0.0010683675048456184, accuracy 1.0\n",
      "\u001b[36m(ClientAppActor pid=4144273)\u001b[0m Running epoch 8/10\n",
      "\u001b[36m(ClientAppActor pid=4144273)\u001b[0m Epoch 9: train loss 0.0021341730577037915, accuracy 1.0\n",
      "\u001b[36m(ClientAppActor pid=4144273)\u001b[0m Epoch 00009: reducing learning rate of group 0 to 1.0000e-05.\n",
      "\u001b[36m(ClientAppActor pid=4144273)\u001b[0m Running epoch 9/10\n",
      "\u001b[36m(ClientAppActor pid=4144273)\u001b[0m Epoch 10: train loss 0.002064090225183846, accuracy 1.0\n",
      "\u001b[36m(ClientAppActor pid=4144273)\u001b[0m Training completed!\n",
      "\u001b[36m(ClientAppActor pid=4144273)\u001b[0m Length of params: 329\n"
     ]
    },
    {
     "name": "stderr",
     "output_type": "stream",
     "text": [
      "\u001b[36m(ClientAppActor pid=4144273)\u001b[0m \u001b[93mWARNING \u001b[0m:   Deprecation Warning: The `client_fn` function must return an instance of `Client`, but an instance of `NumpyClient` was returned. Please use `NumPyClient.to_client()` method to convert it to `Client`.\n"
     ]
    },
    {
     "name": "stdout",
     "output_type": "stream",
     "text": [
      "\u001b[36m(ClientAppActor pid=4144273)\u001b[0m [Client 1] fit, config: {'lr': 0.001}\n",
      "\u001b[36m(ClientAppActor pid=4144273)\u001b[0m Updating parameters 329\n",
      "\u001b[36m(ClientAppActor pid=4144273)\u001b[0m Setting parameters...\n",
      "\u001b[36m(ClientAppActor pid=4144273)\u001b[0m Client parameters set\n",
      "\u001b[36m(ClientAppActor pid=4144273)\u001b[0m Starting client training...\n",
      "\u001b[36m(ClientAppActor pid=4144273)\u001b[0m Running epoch 0/10\n",
      "\u001b[36m(ClientAppActor pid=4144273)\u001b[0m Epoch 1: train loss 0.030414782856640062, accuracy 1.0\n",
      "\u001b[36m(ClientAppActor pid=4144273)\u001b[0m Running epoch 1/10\n",
      "\u001b[36m(ClientAppActor pid=4144273)\u001b[0m Epoch 2: train loss 0.0004310317660718666, accuracy 1.0\n",
      "\u001b[36m(ClientAppActor pid=4144273)\u001b[0m Running epoch 2/10\n",
      "\u001b[36m(ClientAppActor pid=4144273)\u001b[0m Epoch 3: train loss 0.00020333739523362295, accuracy 1.0\n",
      "\u001b[36m(ClientAppActor pid=4144273)\u001b[0m Running epoch 3/10\n",
      "\u001b[36m(ClientAppActor pid=4144273)\u001b[0m Epoch 4: train loss 0.007770147468698652, accuracy 1.0\n",
      "\u001b[36m(ClientAppActor pid=4144273)\u001b[0m Running epoch 4/10\n",
      "\u001b[36m(ClientAppActor pid=4144273)\u001b[0m Epoch 5: train loss 0.005175405031063986, accuracy 1.0\n",
      "\u001b[36m(ClientAppActor pid=4144273)\u001b[0m Running epoch 5/10\n",
      "\u001b[36m(ClientAppActor pid=4144273)\u001b[0m Epoch 6: train loss 0.0001240962592419237, accuracy 1.0\n",
      "\u001b[36m(ClientAppActor pid=4144273)\u001b[0m Running epoch 6/10\n",
      "\u001b[36m(ClientAppActor pid=4144273)\u001b[0m Epoch 7: train loss 0.00022031454596129296, accuracy 1.0\n",
      "\u001b[36m(ClientAppActor pid=4144273)\u001b[0m Running epoch 7/10\n",
      "\u001b[36m(ClientAppActor pid=4144273)\u001b[0m Epoch 8: train loss 9.909846195162237e-05, accuracy 1.0\n",
      "\u001b[36m(ClientAppActor pid=4144273)\u001b[0m Running epoch 8/10\n",
      "\u001b[36m(ClientAppActor pid=4144273)\u001b[0m Epoch 9: train loss 0.0002761691039746725, accuracy 1.0\n",
      "\u001b[36m(ClientAppActor pid=4144273)\u001b[0m Running epoch 9/10\n",
      "\u001b[36m(ClientAppActor pid=4144273)\u001b[0m Epoch 10: train loss 0.09135514806382018, accuracy 0.9473684210526315\n",
      "\u001b[36m(ClientAppActor pid=4144273)\u001b[0m Training completed!\n",
      "\u001b[36m(ClientAppActor pid=4144273)\u001b[0m Length of params: 329\n"
     ]
    },
    {
     "name": "stderr",
     "output_type": "stream",
     "text": [
      "\u001b[36m(ClientAppActor pid=4144273)\u001b[0m \u001b[93mWARNING \u001b[0m:   Deprecation Warning: The `client_fn` function must return an instance of `Client`, but an instance of `NumpyClient` was returned. Please use `NumPyClient.to_client()` method to convert it to `Client`.\n"
     ]
    },
    {
     "name": "stdout",
     "output_type": "stream",
     "text": [
      "\u001b[36m(ClientAppActor pid=4144273)\u001b[0m [Client 9] fit, config: {'lr': 0.001}\n",
      "\u001b[36m(ClientAppActor pid=4144273)\u001b[0m Updating parameters 329\n",
      "\u001b[36m(ClientAppActor pid=4144273)\u001b[0m Setting parameters...\n",
      "\u001b[36m(ClientAppActor pid=4144273)\u001b[0m Client parameters set\n",
      "\u001b[36m(ClientAppActor pid=4144273)\u001b[0m Starting client training...\n",
      "\u001b[36m(ClientAppActor pid=4144273)\u001b[0m Running epoch 0/10\n",
      "\u001b[36m(ClientAppActor pid=4144273)\u001b[0m Epoch 1: train loss 0.041665218323469165, accuracy 1.0\n",
      "\u001b[36m(ClientAppActor pid=4144273)\u001b[0m Running epoch 1/10\n",
      "\u001b[36m(ClientAppActor pid=4144273)\u001b[0m Epoch 2: train loss 0.00043143238639459014, accuracy 1.0\n",
      "\u001b[36m(ClientAppActor pid=4144273)\u001b[0m Running epoch 2/10\n",
      "\u001b[36m(ClientAppActor pid=4144273)\u001b[0m Epoch 3: train loss 0.002225539106875658, accuracy 1.0\n",
      "\u001b[36m(ClientAppActor pid=4144273)\u001b[0m Running epoch 3/10\n",
      "\u001b[36m(ClientAppActor pid=4144273)\u001b[0m Epoch 4: train loss 0.0037089149234816434, accuracy 1.0\n",
      "\u001b[36m(ClientAppActor pid=4144273)\u001b[0m Running epoch 4/10\n",
      "\u001b[36m(ClientAppActor pid=4144273)\u001b[0m Epoch 5: train loss 0.00015917276672553271, accuracy 1.0\n",
      "\u001b[36m(ClientAppActor pid=4144273)\u001b[0m Running epoch 5/10\n",
      "\u001b[36m(ClientAppActor pid=4144273)\u001b[0m Epoch 6: train loss 0.00010830031475052237, accuracy 1.0\n",
      "\u001b[36m(ClientAppActor pid=4144273)\u001b[0m Running epoch 6/10\n",
      "\u001b[36m(ClientAppActor pid=4144273)\u001b[0m Epoch 7: train loss 5.8665338874561714e-05, accuracy 1.0\n",
      "\u001b[36m(ClientAppActor pid=4144273)\u001b[0m Running epoch 7/10\n",
      "\u001b[36m(ClientAppActor pid=4144273)\u001b[0m Epoch 8: train loss 4.850086232181638e-05, accuracy 1.0\n",
      "\u001b[36m(ClientAppActor pid=4144273)\u001b[0m Running epoch 8/10\n",
      "\u001b[36m(ClientAppActor pid=4144273)\u001b[0m Epoch 9: train loss 1.76364068465773e-05, accuracy 1.0\n",
      "\u001b[36m(ClientAppActor pid=4144273)\u001b[0m Running epoch 9/10\n",
      "\u001b[36m(ClientAppActor pid=4144273)\u001b[0m Epoch 10: train loss 3.807660297752591e-05, accuracy 1.0\n",
      "\u001b[36m(ClientAppActor pid=4144273)\u001b[0m Training completed!\n",
      "\u001b[36m(ClientAppActor pid=4144273)\u001b[0m Length of params: 329\n"
     ]
    },
    {
     "name": "stderr",
     "output_type": "stream",
     "text": [
      "\u001b[36m(ClientAppActor pid=4144273)\u001b[0m \u001b[93mWARNING \u001b[0m:   Deprecation Warning: The `client_fn` function must return an instance of `Client`, but an instance of `NumpyClient` was returned. Please use `NumPyClient.to_client()` method to convert it to `Client`.\n"
     ]
    },
    {
     "name": "stdout",
     "output_type": "stream",
     "text": [
      "\u001b[36m(ClientAppActor pid=4144273)\u001b[0m [Client 5] fit, config: {'lr': 0.003}\n",
      "\u001b[36m(ClientAppActor pid=4144273)\u001b[0m Updating parameters 329\n",
      "\u001b[36m(ClientAppActor pid=4144273)\u001b[0m Setting parameters...\n",
      "\u001b[36m(ClientAppActor pid=4144273)\u001b[0m Client parameters set\n",
      "\u001b[36m(ClientAppActor pid=4144273)\u001b[0m Starting client training...\n",
      "\u001b[36m(ClientAppActor pid=4144273)\u001b[0m Running epoch 0/10\n",
      "\u001b[36m(ClientAppActor pid=4144273)\u001b[0m Epoch 1: train loss 0.0018196371445236238, accuracy 1.0\n",
      "\u001b[36m(ClientAppActor pid=4144273)\u001b[0m Running epoch 1/10\n",
      "\u001b[36m(ClientAppActor pid=4144273)\u001b[0m Epoch 2: train loss 0.06933871695147038, accuracy 0.9473684210526315\n",
      "\u001b[36m(ClientAppActor pid=4144273)\u001b[0m Running epoch 2/10\n",
      "\u001b[36m(ClientAppActor pid=4144273)\u001b[0m Epoch 3: train loss 4.806716481796588e-05, accuracy 1.0\n",
      "\u001b[36m(ClientAppActor pid=4144273)\u001b[0m Running epoch 3/10\n",
      "\u001b[36m(ClientAppActor pid=4144273)\u001b[0m Epoch 4: train loss 0.0011452491136974697, accuracy 1.0\n",
      "\u001b[36m(ClientAppActor pid=4144273)\u001b[0m Running epoch 4/10\n",
      "\u001b[36m(ClientAppActor pid=4144273)\u001b[0m Epoch 5: train loss 0.02167099480242254, accuracy 1.0\n",
      "\u001b[36m(ClientAppActor pid=4144273)\u001b[0m Running epoch 5/10\n",
      "\u001b[36m(ClientAppActor pid=4144273)\u001b[0m Epoch 6: train loss 2.025244238642412e-05, accuracy 1.0\n",
      "\u001b[36m(ClientAppActor pid=4144273)\u001b[0m Running epoch 6/10\n",
      "\u001b[36m(ClientAppActor pid=4144273)\u001b[0m Epoch 7: train loss 1.4699598403623034e-05, accuracy 1.0\n",
      "\u001b[36m(ClientAppActor pid=4144273)\u001b[0m Running epoch 7/10\n",
      "\u001b[36m(ClientAppActor pid=4144273)\u001b[0m Epoch 8: train loss 0.00014336860220665634, accuracy 1.0\n",
      "\u001b[36m(ClientAppActor pid=4144273)\u001b[0m Running epoch 8/10\n",
      "\u001b[36m(ClientAppActor pid=4144273)\u001b[0m Epoch 9: train loss 0.0026744286754508627, accuracy 1.0\n",
      "\u001b[36m(ClientAppActor pid=4144273)\u001b[0m Running epoch 9/10\n",
      "\u001b[36m(ClientAppActor pid=4144273)\u001b[0m Epoch 10: train loss 1.9185733292129282e-05, accuracy 1.0\n",
      "\u001b[36m(ClientAppActor pid=4144273)\u001b[0m Training completed!\n",
      "\u001b[36m(ClientAppActor pid=4144273)\u001b[0m Length of params: 329\n"
     ]
    },
    {
     "name": "stderr",
     "output_type": "stream",
     "text": [
      "\u001b[36m(ClientAppActor pid=4144273)\u001b[0m \u001b[93mWARNING \u001b[0m:   Deprecation Warning: The `client_fn` function must return an instance of `Client`, but an instance of `NumpyClient` was returned. Please use `NumPyClient.to_client()` method to convert it to `Client`.\n"
     ]
    },
    {
     "name": "stdout",
     "output_type": "stream",
     "text": [
      "\u001b[36m(ClientAppActor pid=4144273)\u001b[0m [Client 4] fit, config: {'lr': 0.003}\n",
      "\u001b[36m(ClientAppActor pid=4144273)\u001b[0m Updating parameters 329\n",
      "\u001b[36m(ClientAppActor pid=4144273)\u001b[0m Setting parameters...\n",
      "\u001b[36m(ClientAppActor pid=4144273)\u001b[0m Client parameters set\n",
      "\u001b[36m(ClientAppActor pid=4144273)\u001b[0m Starting client training...\n",
      "\u001b[36m(ClientAppActor pid=4144273)\u001b[0m Running epoch 0/10\n",
      "\u001b[36m(ClientAppActor pid=4144273)\u001b[0m Epoch 1: train loss 1.384663961576543e-05, accuracy 1.0\n",
      "\u001b[36m(ClientAppActor pid=4144273)\u001b[0m Running epoch 1/10\n",
      "\u001b[36m(ClientAppActor pid=4144273)\u001b[0m Epoch 2: train loss 1.1801501291062633e-05, accuracy 1.0\n",
      "\u001b[36m(ClientAppActor pid=4144273)\u001b[0m Running epoch 2/10\n",
      "\u001b[36m(ClientAppActor pid=4144273)\u001b[0m Epoch 3: train loss 6.220318630910602e-05, accuracy 1.0\n",
      "\u001b[36m(ClientAppActor pid=4144273)\u001b[0m Running epoch 3/10\n",
      "\u001b[36m(ClientAppActor pid=4144273)\u001b[0m Epoch 4: train loss 1.819506995783932e-06, accuracy 1.0\n",
      "\u001b[36m(ClientAppActor pid=4144273)\u001b[0m Running epoch 4/10\n",
      "\u001b[36m(ClientAppActor pid=4144273)\u001b[0m Epoch 5: train loss 3.640697717568592e-05, accuracy 1.0\n",
      "\u001b[36m(ClientAppActor pid=4144273)\u001b[0m Running epoch 5/10\n",
      "\u001b[36m(ClientAppActor pid=4144273)\u001b[0m Epoch 6: train loss 2.120661209023398e-06, accuracy 1.0\n",
      "\u001b[36m(ClientAppActor pid=4144273)\u001b[0m Running epoch 6/10\n",
      "\u001b[36m(ClientAppActor pid=4144273)\u001b[0m Epoch 7: train loss 1.1795411625682487e-06, accuracy 1.0\n",
      "\u001b[36m(ClientAppActor pid=4144273)\u001b[0m Running epoch 7/10\n",
      "\u001b[36m(ClientAppActor pid=4144273)\u001b[0m Epoch 8: train loss 1.3238436801992448e-06, accuracy 1.0\n",
      "\u001b[36m(ClientAppActor pid=4144273)\u001b[0m Running epoch 8/10\n",
      "\u001b[36m(ClientAppActor pid=4144273)\u001b[0m Epoch 9: train loss 1.3301221644580533e-06, accuracy 1.0\n",
      "\u001b[36m(ClientAppActor pid=4144273)\u001b[0m Running epoch 9/10\n",
      "\u001b[36m(ClientAppActor pid=4144273)\u001b[0m Epoch 10: train loss 7.616366737295266e-06, accuracy 1.0\n",
      "\u001b[36m(ClientAppActor pid=4144273)\u001b[0m Training completed!\n",
      "\u001b[36m(ClientAppActor pid=4144273)\u001b[0m Length of params: 329\n"
     ]
    },
    {
     "name": "stderr",
     "output_type": "stream",
     "text": [
      "\u001b[36m(ClientAppActor pid=4144273)\u001b[0m \u001b[93mWARNING \u001b[0m:   Deprecation Warning: The `client_fn` function must return an instance of `Client`, but an instance of `NumpyClient` was returned. Please use `NumPyClient.to_client()` method to convert it to `Client`.\n"
     ]
    },
    {
     "name": "stdout",
     "output_type": "stream",
     "text": [
      "\u001b[36m(ClientAppActor pid=4144273)\u001b[0m [Client 2] fit, config: {'lr': 0.003}\n",
      "\u001b[36m(ClientAppActor pid=4144273)\u001b[0m Updating parameters 329\n",
      "\u001b[36m(ClientAppActor pid=4144273)\u001b[0m Setting parameters...\n",
      "\u001b[36m(ClientAppActor pid=4144273)\u001b[0m Client parameters set\n",
      "\u001b[36m(ClientAppActor pid=4144273)\u001b[0m Starting client training...\n",
      "\u001b[36m(ClientAppActor pid=4144273)\u001b[0m Running epoch 0/10\n",
      "\u001b[36m(ClientAppActor pid=4144273)\u001b[0m Epoch 1: train loss 0.50227303402866, accuracy 0.8421052631578947\n",
      "\u001b[36m(ClientAppActor pid=4144273)\u001b[0m Running epoch 1/10\n",
      "\u001b[36m(ClientAppActor pid=4144273)\u001b[0m Epoch 2: train loss 0.7448252627724096, accuracy 0.8421052631578947\n",
      "\u001b[36m(ClientAppActor pid=4144273)\u001b[0m Running epoch 2/10\n",
      "\u001b[36m(ClientAppActor pid=4144273)\u001b[0m Epoch 3: train loss 0.07986425301427708, accuracy 0.9473684210526315\n",
      "\u001b[36m(ClientAppActor pid=4144273)\u001b[0m Running epoch 3/10\n",
      "\u001b[36m(ClientAppActor pid=4144273)\u001b[0m Epoch 4: train loss 0.054183556061041985, accuracy 1.0\n",
      "\u001b[36m(ClientAppActor pid=4144273)\u001b[0m Running epoch 4/10\n",
      "\u001b[36m(ClientAppActor pid=4144273)\u001b[0m Epoch 5: train loss 0.09511883316659614, accuracy 1.0\n",
      "\u001b[36m(ClientAppActor pid=4144273)\u001b[0m Running epoch 5/10\n",
      "\u001b[36m(ClientAppActor pid=4144273)\u001b[0m Epoch 6: train loss 0.08287855188705419, accuracy 1.0\n",
      "\u001b[36m(ClientAppActor pid=4144273)\u001b[0m Running epoch 6/10\n",
      "\u001b[36m(ClientAppActor pid=4144273)\u001b[0m Epoch 7: train loss 0.04771620035171509, accuracy 1.0\n",
      "\u001b[36m(ClientAppActor pid=4144273)\u001b[0m Running epoch 7/10\n",
      "\u001b[36m(ClientAppActor pid=4144273)\u001b[0m Epoch 8: train loss 0.02852018687285875, accuracy 1.0\n",
      "\u001b[36m(ClientAppActor pid=4144273)\u001b[0m Running epoch 8/10\n",
      "\u001b[36m(ClientAppActor pid=4144273)\u001b[0m Epoch 9: train loss 0.009465561885582773, accuracy 1.0\n",
      "\u001b[36m(ClientAppActor pid=4144273)\u001b[0m Running epoch 9/10\n",
      "\u001b[36m(ClientAppActor pid=4144273)\u001b[0m Epoch 10: train loss 0.002319239177986195, accuracy 1.0\n",
      "\u001b[36m(ClientAppActor pid=4144273)\u001b[0m Training completed!\n",
      "\u001b[36m(ClientAppActor pid=4144273)\u001b[0m Length of params: 329\n"
     ]
    },
    {
     "name": "stderr",
     "output_type": "stream",
     "text": [
      "\u001b[36m(ClientAppActor pid=4144273)\u001b[0m \u001b[93mWARNING \u001b[0m:   Deprecation Warning: The `client_fn` function must return an instance of `Client`, but an instance of `NumpyClient` was returned. Please use `NumPyClient.to_client()` method to convert it to `Client`.\n"
     ]
    },
    {
     "name": "stdout",
     "output_type": "stream",
     "text": [
      "\u001b[36m(ClientAppActor pid=4144273)\u001b[0m [Client 6] fit, config: {'lr': 0.003}\n",
      "\u001b[36m(ClientAppActor pid=4144273)\u001b[0m Updating parameters 329\n",
      "\u001b[36m(ClientAppActor pid=4144273)\u001b[0m Setting parameters...\n",
      "\u001b[36m(ClientAppActor pid=4144273)\u001b[0m Client parameters set\n",
      "\u001b[36m(ClientAppActor pid=4144273)\u001b[0m Starting client training...\n",
      "\u001b[36m(ClientAppActor pid=4144273)\u001b[0m Running epoch 0/10\n",
      "\u001b[36m(ClientAppActor pid=4144273)\u001b[0m Epoch 1: train loss 0.0014450821388316782, accuracy 1.0\n",
      "\u001b[36m(ClientAppActor pid=4144273)\u001b[0m Running epoch 1/10\n",
      "\u001b[36m(ClientAppActor pid=4144273)\u001b[0m Epoch 2: train loss 3.675859510334895e-05, accuracy 1.0\n",
      "\u001b[36m(ClientAppActor pid=4144273)\u001b[0m Running epoch 2/10\n",
      "\u001b[36m(ClientAppActor pid=4144273)\u001b[0m Epoch 3: train loss 0.0006717462555762291, accuracy 1.0\n",
      "\u001b[36m(ClientAppActor pid=4144273)\u001b[0m Running epoch 3/10\n",
      "\u001b[36m(ClientAppActor pid=4144273)\u001b[0m Epoch 4: train loss 8.375880962842674e-06, accuracy 1.0\n",
      "\u001b[36m(ClientAppActor pid=4144273)\u001b[0m Running epoch 4/10\n",
      "\u001b[36m(ClientAppActor pid=4144273)\u001b[0m Epoch 5: train loss 2.5715482359756653e-05, accuracy 1.0\n",
      "\u001b[36m(ClientAppActor pid=4144273)\u001b[0m Running epoch 5/10\n",
      "\u001b[36m(ClientAppActor pid=4144273)\u001b[0m Epoch 6: train loss 0.0003372779311234808, accuracy 1.0\n",
      "\u001b[36m(ClientAppActor pid=4144273)\u001b[0m Running epoch 6/10\n",
      "\u001b[36m(ClientAppActor pid=4144273)\u001b[0m Epoch 7: train loss 1.982619228089645e-06, accuracy 1.0\n",
      "\u001b[36m(ClientAppActor pid=4144273)\u001b[0m Running epoch 7/10\n",
      "\u001b[36m(ClientAppActor pid=4144273)\u001b[0m Epoch 8: train loss 2.459461197041061e-06, accuracy 1.0\n",
      "\u001b[36m(ClientAppActor pid=4144273)\u001b[0m Running epoch 8/10\n",
      "\u001b[36m(ClientAppActor pid=4144273)\u001b[0m Epoch 9: train loss 3.2935833668321526e-05, accuracy 1.0\n",
      "\u001b[36m(ClientAppActor pid=4144273)\u001b[0m Running epoch 9/10\n",
      "\u001b[36m(ClientAppActor pid=4144273)\u001b[0m Epoch 10: train loss 2.2586837435243834e-06, accuracy 1.0\n",
      "\u001b[36m(ClientAppActor pid=4144273)\u001b[0m Training completed!\n",
      "\u001b[36m(ClientAppActor pid=4144273)\u001b[0m Length of params: 329\n"
     ]
    },
    {
     "name": "stderr",
     "output_type": "stream",
     "text": [
      "\u001b[36m(ClientAppActor pid=4144273)\u001b[0m \u001b[93mWARNING \u001b[0m:   Deprecation Warning: The `client_fn` function must return an instance of `Client`, but an instance of `NumpyClient` was returned. Please use `NumPyClient.to_client()` method to convert it to `Client`.\n"
     ]
    },
    {
     "name": "stdout",
     "output_type": "stream",
     "text": [
      "\u001b[36m(ClientAppActor pid=4144273)\u001b[0m [Client 8] fit, config: {'lr': 0.003}\n",
      "\u001b[36m(ClientAppActor pid=4144273)\u001b[0m Updating parameters 329\n",
      "\u001b[36m(ClientAppActor pid=4144273)\u001b[0m Setting parameters...\n",
      "\u001b[36m(ClientAppActor pid=4144273)\u001b[0m Client parameters set\n",
      "\u001b[36m(ClientAppActor pid=4144273)\u001b[0m Starting client training...\n",
      "\u001b[36m(ClientAppActor pid=4144273)\u001b[0m Running epoch 0/10\n",
      "\u001b[36m(ClientAppActor pid=4144273)\u001b[0m Epoch 1: train loss 0.16264424041697853, accuracy 0.9473684210526315\n",
      "\u001b[36m(ClientAppActor pid=4144273)\u001b[0m Running epoch 1/10\n",
      "\u001b[36m(ClientAppActor pid=4144273)\u001b[0m Epoch 2: train loss 0.00024604110819238583, accuracy 1.0\n",
      "\u001b[36m(ClientAppActor pid=4144273)\u001b[0m Running epoch 2/10\n",
      "\u001b[36m(ClientAppActor pid=4144273)\u001b[0m Epoch 3: train loss 0.009213504173155678, accuracy 1.0\n",
      "\u001b[36m(ClientAppActor pid=4144273)\u001b[0m Running epoch 3/10\n",
      "\u001b[36m(ClientAppActor pid=4144273)\u001b[0m Epoch 4: train loss 0.6005463511131606, accuracy 0.8947368421052632\n",
      "\u001b[36m(ClientAppActor pid=4144273)\u001b[0m Running epoch 4/10\n",
      "\u001b[36m(ClientAppActor pid=4144273)\u001b[0m Epoch 5: train loss 0.01672025421622062, accuracy 1.0\n",
      "\u001b[36m(ClientAppActor pid=4144273)\u001b[0m Running epoch 5/10\n",
      "\u001b[36m(ClientAppActor pid=4144273)\u001b[0m Epoch 6: train loss 0.002031522724121858, accuracy 1.0\n",
      "\u001b[36m(ClientAppActor pid=4144273)\u001b[0m Running epoch 6/10\n",
      "\u001b[36m(ClientAppActor pid=4144273)\u001b[0m Epoch 7: train loss 0.0020628639015883798, accuracy 1.0\n",
      "\u001b[36m(ClientAppActor pid=4144273)\u001b[0m Epoch 00007: reducing learning rate of group 0 to 1.0000e-05.\n",
      "\u001b[36m(ClientAppActor pid=4144273)\u001b[0m Running epoch 7/10\n",
      "\u001b[36m(ClientAppActor pid=4144273)\u001b[0m Epoch 8: train loss 0.030766601582351876, accuracy 1.0\n",
      "\u001b[36m(ClientAppActor pid=4144273)\u001b[0m Running epoch 8/10\n",
      "\u001b[36m(ClientAppActor pid=4144273)\u001b[0m Epoch 9: train loss 0.004140790715801383, accuracy 1.0\n",
      "\u001b[36m(ClientAppActor pid=4144273)\u001b[0m Running epoch 9/10\n",
      "\u001b[36m(ClientAppActor pid=4144273)\u001b[0m Epoch 10: train loss 0.002148303975302138, accuracy 1.0\n",
      "\u001b[36m(ClientAppActor pid=4144273)\u001b[0m Training completed!\n",
      "\u001b[36m(ClientAppActor pid=4144273)\u001b[0m Length of params: 329\n"
     ]
    },
    {
     "name": "stderr",
     "output_type": "stream",
     "text": [
      "\u001b[92mINFO \u001b[0m:      aggregate_fit: received 10 results and 0 failures\n"
     ]
    },
    {
     "name": "stdout",
     "output_type": "stream",
     "text": [
      "Evaluating global model\n",
      "Updating parameters 329\n",
      "Setting parameters...\n",
      "Parameter set\n",
      "Starting client validation...\n",
      "Validataion accuracy = 0.8666666666666667\n",
      "Global evaluation round 4 loss = 0.06697874416907629 accuracy = 0.8666666666666667\n"
     ]
    },
    {
     "name": "stderr",
     "output_type": "stream",
     "text": [
      "\u001b[92mINFO \u001b[0m:      fit progress: (4, 0.06697874416907629, {}, 2997.649468990974)\n",
      "\u001b[92mINFO \u001b[0m:      configure_evaluate: strategy sampled 10 clients (out of 10)\n"
     ]
    },
    {
     "name": "stdout",
     "output_type": "stream",
     "text": [
      "Model saved at ./fl_checkpointsswintransformer_e10_c10_r10/fl_densenet_4.pth\n"
     ]
    },
    {
     "name": "stderr",
     "output_type": "stream",
     "text": [
      "\u001b[36m(ClientAppActor pid=4144273)\u001b[0m \u001b[93mWARNING \u001b[0m:   Deprecation Warning: The `client_fn` function must return an instance of `Client`, but an instance of `NumpyClient` was returned. Please use `NumPyClient.to_client()` method to convert it to `Client`.\n"
     ]
    },
    {
     "name": "stdout",
     "output_type": "stream",
     "text": [
      "\u001b[36m(ClientAppActor pid=4144273)\u001b[0m [Client 3] evaluate, config: {}\n",
      "\u001b[36m(ClientAppActor pid=4144273)\u001b[0m Updating parameters 329\n",
      "\u001b[36m(ClientAppActor pid=4144273)\u001b[0m Setting parameters...\n",
      "\u001b[36m(ClientAppActor pid=4144273)\u001b[0m Starting client validation...\n",
      "\u001b[36m(ClientAppActor pid=4144273)\u001b[0m Validataion accuracy = 0.8666666666666667\n",
      "\u001b[36m(ClientAppActor pid=4144273)\u001b[0m Evaluation loss = 0.06697874416907629 accuracy = 0.8666666666666667\n"
     ]
    },
    {
     "name": "stderr",
     "output_type": "stream",
     "text": [
      "\u001b[36m(ClientAppActor pid=4144273)\u001b[0m \u001b[93mWARNING \u001b[0m:   Deprecation Warning: The `client_fn` function must return an instance of `Client`, but an instance of `NumpyClient` was returned. Please use `NumPyClient.to_client()` method to convert it to `Client`.\n"
     ]
    },
    {
     "name": "stdout",
     "output_type": "stream",
     "text": [
      "\u001b[36m(ClientAppActor pid=4144273)\u001b[0m [Client 9] evaluate, config: {}\n",
      "\u001b[36m(ClientAppActor pid=4144273)\u001b[0m Updating parameters 329\n",
      "\u001b[36m(ClientAppActor pid=4144273)\u001b[0m Setting parameters...\n",
      "\u001b[36m(ClientAppActor pid=4144273)\u001b[0m Starting client validation...\n",
      "\u001b[36m(ClientAppActor pid=4144273)\u001b[0m Validataion accuracy = 0.8666666666666667\n",
      "\u001b[36m(ClientAppActor pid=4144273)\u001b[0m Evaluation loss = 0.06697874416907629 accuracy = 0.8666666666666667\n"
     ]
    },
    {
     "name": "stderr",
     "output_type": "stream",
     "text": [
      "\u001b[36m(ClientAppActor pid=4144273)\u001b[0m \u001b[93mWARNING \u001b[0m:   Deprecation Warning: The `client_fn` function must return an instance of `Client`, but an instance of `NumpyClient` was returned. Please use `NumPyClient.to_client()` method to convert it to `Client`.\n"
     ]
    },
    {
     "name": "stdout",
     "output_type": "stream",
     "text": [
      "\u001b[36m(ClientAppActor pid=4144273)\u001b[0m [Client 5] evaluate, config: {}\n",
      "\u001b[36m(ClientAppActor pid=4144273)\u001b[0m Updating parameters 329\n",
      "\u001b[36m(ClientAppActor pid=4144273)\u001b[0m Setting parameters...\n",
      "\u001b[36m(ClientAppActor pid=4144273)\u001b[0m Starting client validation...\n",
      "\u001b[36m(ClientAppActor pid=4144273)\u001b[0m Validataion accuracy = 0.8666666666666667\n",
      "\u001b[36m(ClientAppActor pid=4144273)\u001b[0m Evaluation loss = 0.06697874416907629 accuracy = 0.8666666666666667\n"
     ]
    },
    {
     "name": "stderr",
     "output_type": "stream",
     "text": [
      "\u001b[36m(ClientAppActor pid=4144273)\u001b[0m \u001b[93mWARNING \u001b[0m:   Deprecation Warning: The `client_fn` function must return an instance of `Client`, but an instance of `NumpyClient` was returned. Please use `NumPyClient.to_client()` method to convert it to `Client`.\n"
     ]
    },
    {
     "name": "stdout",
     "output_type": "stream",
     "text": [
      "\u001b[36m(ClientAppActor pid=4144273)\u001b[0m [Client 7] evaluate, config: {}\n",
      "\u001b[36m(ClientAppActor pid=4144273)\u001b[0m Updating parameters 329\n",
      "\u001b[36m(ClientAppActor pid=4144273)\u001b[0m Setting parameters...\n",
      "\u001b[36m(ClientAppActor pid=4144273)\u001b[0m Starting client validation...\n",
      "\u001b[36m(ClientAppActor pid=4144273)\u001b[0m Validataion accuracy = 0.8666666666666667\n",
      "\u001b[36m(ClientAppActor pid=4144273)\u001b[0m Evaluation loss = 0.06697874416907629 accuracy = 0.8666666666666667\n"
     ]
    },
    {
     "name": "stderr",
     "output_type": "stream",
     "text": [
      "\u001b[36m(ClientAppActor pid=4144273)\u001b[0m \u001b[93mWARNING \u001b[0m:   Deprecation Warning: The `client_fn` function must return an instance of `Client`, but an instance of `NumpyClient` was returned. Please use `NumPyClient.to_client()` method to convert it to `Client`.\n"
     ]
    },
    {
     "name": "stdout",
     "output_type": "stream",
     "text": [
      "\u001b[36m(ClientAppActor pid=4144273)\u001b[0m [Client 8] evaluate, config: {}\n",
      "\u001b[36m(ClientAppActor pid=4144273)\u001b[0m Updating parameters 329\n",
      "\u001b[36m(ClientAppActor pid=4144273)\u001b[0m Setting parameters...\n",
      "\u001b[36m(ClientAppActor pid=4144273)\u001b[0m Starting client validation...\n",
      "\u001b[36m(ClientAppActor pid=4144273)\u001b[0m Validataion accuracy = 0.8666666666666667\n",
      "\u001b[36m(ClientAppActor pid=4144273)\u001b[0m Evaluation loss = 0.06697874416907629 accuracy = 0.8666666666666667\n"
     ]
    },
    {
     "name": "stderr",
     "output_type": "stream",
     "text": [
      "\u001b[36m(ClientAppActor pid=4144273)\u001b[0m \u001b[93mWARNING \u001b[0m:   Deprecation Warning: The `client_fn` function must return an instance of `Client`, but an instance of `NumpyClient` was returned. Please use `NumPyClient.to_client()` method to convert it to `Client`.\n"
     ]
    },
    {
     "name": "stdout",
     "output_type": "stream",
     "text": [
      "\u001b[36m(ClientAppActor pid=4144273)\u001b[0m [Client 1] evaluate, config: {}\n",
      "\u001b[36m(ClientAppActor pid=4144273)\u001b[0m Updating parameters 329\n",
      "\u001b[36m(ClientAppActor pid=4144273)\u001b[0m Setting parameters...\n",
      "\u001b[36m(ClientAppActor pid=4144273)\u001b[0m Starting client validation...\n",
      "\u001b[36m(ClientAppActor pid=4144273)\u001b[0m Validataion accuracy = 0.8666666666666667\n",
      "\u001b[36m(ClientAppActor pid=4144273)\u001b[0m Evaluation loss = 0.06697874416907629 accuracy = 0.8666666666666667\n"
     ]
    },
    {
     "name": "stderr",
     "output_type": "stream",
     "text": [
      "\u001b[36m(ClientAppActor pid=4144273)\u001b[0m \u001b[93mWARNING \u001b[0m:   Deprecation Warning: The `client_fn` function must return an instance of `Client`, but an instance of `NumpyClient` was returned. Please use `NumPyClient.to_client()` method to convert it to `Client`.\n"
     ]
    },
    {
     "name": "stdout",
     "output_type": "stream",
     "text": [
      "\u001b[36m(ClientAppActor pid=4144273)\u001b[0m [Client 0] evaluate, config: {}\n",
      "\u001b[36m(ClientAppActor pid=4144273)\u001b[0m Updating parameters 329\n",
      "\u001b[36m(ClientAppActor pid=4144273)\u001b[0m Setting parameters...\n",
      "\u001b[36m(ClientAppActor pid=4144273)\u001b[0m Starting client validation...\n",
      "\u001b[36m(ClientAppActor pid=4144273)\u001b[0m Validataion accuracy = 0.8666666666666667\n",
      "\u001b[36m(ClientAppActor pid=4144273)\u001b[0m Evaluation loss = 0.06697874416907629 accuracy = 0.8666666666666667\n"
     ]
    },
    {
     "name": "stderr",
     "output_type": "stream",
     "text": [
      "\u001b[36m(ClientAppActor pid=4144273)\u001b[0m \u001b[93mWARNING \u001b[0m:   Deprecation Warning: The `client_fn` function must return an instance of `Client`, but an instance of `NumpyClient` was returned. Please use `NumPyClient.to_client()` method to convert it to `Client`.\n"
     ]
    },
    {
     "name": "stdout",
     "output_type": "stream",
     "text": [
      "\u001b[36m(ClientAppActor pid=4144273)\u001b[0m [Client 4] evaluate, config: {}\n",
      "\u001b[36m(ClientAppActor pid=4144273)\u001b[0m Updating parameters 329\n",
      "\u001b[36m(ClientAppActor pid=4144273)\u001b[0m Setting parameters...\n",
      "\u001b[36m(ClientAppActor pid=4144273)\u001b[0m Starting client validation...\n",
      "\u001b[36m(ClientAppActor pid=4144273)\u001b[0m Validataion accuracy = 0.8666666666666667\n",
      "\u001b[36m(ClientAppActor pid=4144273)\u001b[0m Evaluation loss = 0.06697874416907629 accuracy = 0.8666666666666667\n"
     ]
    },
    {
     "name": "stderr",
     "output_type": "stream",
     "text": [
      "\u001b[36m(ClientAppActor pid=4144273)\u001b[0m \u001b[93mWARNING \u001b[0m:   Deprecation Warning: The `client_fn` function must return an instance of `Client`, but an instance of `NumpyClient` was returned. Please use `NumPyClient.to_client()` method to convert it to `Client`.\n"
     ]
    },
    {
     "name": "stdout",
     "output_type": "stream",
     "text": [
      "\u001b[36m(ClientAppActor pid=4144273)\u001b[0m [Client 6] evaluate, config: {}\n",
      "\u001b[36m(ClientAppActor pid=4144273)\u001b[0m Updating parameters 329\n",
      "\u001b[36m(ClientAppActor pid=4144273)\u001b[0m Setting parameters...\n",
      "\u001b[36m(ClientAppActor pid=4144273)\u001b[0m Starting client validation...\n",
      "\u001b[36m(ClientAppActor pid=4144273)\u001b[0m Validataion accuracy = 0.8666666666666667\n",
      "\u001b[36m(ClientAppActor pid=4144273)\u001b[0m Evaluation loss = 0.06697874416907629 accuracy = 0.8666666666666667\n"
     ]
    },
    {
     "name": "stderr",
     "output_type": "stream",
     "text": [
      "\u001b[36m(ClientAppActor pid=4144273)\u001b[0m \u001b[93mWARNING \u001b[0m:   Deprecation Warning: The `client_fn` function must return an instance of `Client`, but an instance of `NumpyClient` was returned. Please use `NumPyClient.to_client()` method to convert it to `Client`.\n"
     ]
    },
    {
     "name": "stdout",
     "output_type": "stream",
     "text": [
      "\u001b[36m(ClientAppActor pid=4144273)\u001b[0m [Client 2] evaluate, config: {}\n",
      "\u001b[36m(ClientAppActor pid=4144273)\u001b[0m Updating parameters 329\n",
      "\u001b[36m(ClientAppActor pid=4144273)\u001b[0m Setting parameters...\n",
      "\u001b[36m(ClientAppActor pid=4144273)\u001b[0m Starting client validation...\n"
     ]
    },
    {
     "name": "stderr",
     "output_type": "stream",
     "text": [
      "\u001b[92mINFO \u001b[0m:      aggregate_evaluate: received 10 results and 0 failures\n",
      "\u001b[92mINFO \u001b[0m:      \n",
      "\u001b[92mINFO \u001b[0m:      [ROUND 5]\n",
      "\u001b[92mINFO \u001b[0m:      configure_fit: strategy sampled 10 clients (out of 10)\n"
     ]
    },
    {
     "name": "stdout",
     "output_type": "stream",
     "text": [
      "\u001b[36m(ClientAppActor pid=4144273)\u001b[0m Validataion accuracy = 0.8666666666666667\n",
      "\u001b[36m(ClientAppActor pid=4144273)\u001b[0m Evaluation loss = 0.06697874416907629 accuracy = 0.8666666666666667\n",
      "Starting configure fit function...\n",
      "Sample size = 10 Min Num Clients = 2 Clients = [<flwr.simulation.ray_transport.ray_client_proxy.RayActorClientProxy object at 0x155491b77310>, <flwr.simulation.ray_transport.ray_client_proxy.RayActorClientProxy object at 0x155491b771d0>, <flwr.simulation.ray_transport.ray_client_proxy.RayActorClientProxy object at 0x155491b77750>, <flwr.simulation.ray_transport.ray_client_proxy.RayActorClientProxy object at 0x155491b76690>, <flwr.simulation.ray_transport.ray_client_proxy.RayActorClientProxy object at 0x155491b77150>, <flwr.simulation.ray_transport.ray_client_proxy.RayActorClientProxy object at 0x155491b775d0>, <flwr.simulation.ray_transport.ray_client_proxy.RayActorClientProxy object at 0x155314acf550>, <flwr.simulation.ray_transport.ray_client_proxy.RayActorClientProxy object at 0x155491b77650>, <flwr.simulation.ray_transport.ray_client_proxy.RayActorClientProxy object at 0x155491b776d0>, <flwr.simulation.ray_transport.ray_client_proxy.RayActorClientProxy object at 0x155491b76fd0>]\n",
      "Number of clients = 10\n",
      "Fit Configurations\n"
     ]
    },
    {
     "name": "stderr",
     "output_type": "stream",
     "text": [
      "\u001b[36m(ClientAppActor pid=4144273)\u001b[0m \u001b[93mWARNING \u001b[0m:   Deprecation Warning: The `client_fn` function must return an instance of `Client`, but an instance of `NumpyClient` was returned. Please use `NumPyClient.to_client()` method to convert it to `Client`.\n"
     ]
    },
    {
     "name": "stdout",
     "output_type": "stream",
     "text": [
      "\u001b[36m(ClientAppActor pid=4144273)\u001b[0m [Client 4] fit, config: {'lr': 0.001}\n",
      "\u001b[36m(ClientAppActor pid=4144273)\u001b[0m Updating parameters 329\n",
      "\u001b[36m(ClientAppActor pid=4144273)\u001b[0m Setting parameters...\n",
      "\u001b[36m(ClientAppActor pid=4144273)\u001b[0m Client parameters set\n",
      "\u001b[36m(ClientAppActor pid=4144273)\u001b[0m Starting client training...\n",
      "\u001b[36m(ClientAppActor pid=4144273)\u001b[0m Running epoch 0/10\n",
      "\u001b[36m(ClientAppActor pid=4144273)\u001b[0m Epoch 1: train loss 1.7591534491370303e-05, accuracy 1.0\n",
      "\u001b[36m(ClientAppActor pid=4144273)\u001b[0m Running epoch 1/10\n",
      "\u001b[36m(ClientAppActor pid=4144273)\u001b[0m Epoch 2: train loss 3.388039790240184e-06, accuracy 1.0\n",
      "\u001b[36m(ClientAppActor pid=4144273)\u001b[0m Running epoch 2/10\n",
      "\u001b[36m(ClientAppActor pid=4144273)\u001b[0m Epoch 3: train loss 3.85230758806038e-06, accuracy 1.0\n",
      "\u001b[36m(ClientAppActor pid=4144273)\u001b[0m Running epoch 3/10\n",
      "\u001b[36m(ClientAppActor pid=4144273)\u001b[0m Epoch 4: train loss 2.810812303191836e-06, accuracy 1.0\n",
      "\u001b[36m(ClientAppActor pid=4144273)\u001b[0m Running epoch 4/10\n",
      "\u001b[36m(ClientAppActor pid=4144273)\u001b[0m Epoch 5: train loss 5.044362039466489e-06, accuracy 1.0\n",
      "\u001b[36m(ClientAppActor pid=4144273)\u001b[0m Running epoch 5/10\n",
      "\u001b[36m(ClientAppActor pid=4144273)\u001b[0m Epoch 6: train loss 2.164580630386282e-06, accuracy 1.0\n",
      "\u001b[36m(ClientAppActor pid=4144273)\u001b[0m Running epoch 6/10\n",
      "\u001b[36m(ClientAppActor pid=4144273)\u001b[0m Epoch 7: train loss 3.5197820233628065e-06, accuracy 1.0\n",
      "\u001b[36m(ClientAppActor pid=4144273)\u001b[0m Running epoch 7/10\n",
      "\u001b[36m(ClientAppActor pid=4144273)\u001b[0m Epoch 8: train loss 7.434774632106143e-06, accuracy 1.0\n",
      "\u001b[36m(ClientAppActor pid=4144273)\u001b[0m Running epoch 8/10\n",
      "\u001b[36m(ClientAppActor pid=4144273)\u001b[0m Epoch 9: train loss 1.1105263231576446e-06, accuracy 1.0\n",
      "\u001b[36m(ClientAppActor pid=4144273)\u001b[0m Running epoch 9/10\n",
      "\u001b[36m(ClientAppActor pid=4144273)\u001b[0m Epoch 10: train loss 3.080469813491953e-05, accuracy 1.0\n",
      "\u001b[36m(ClientAppActor pid=4144273)\u001b[0m Training completed!\n",
      "\u001b[36m(ClientAppActor pid=4144273)\u001b[0m Length of params: 329\n"
     ]
    },
    {
     "name": "stderr",
     "output_type": "stream",
     "text": [
      "\u001b[36m(ClientAppActor pid=4144273)\u001b[0m \u001b[93mWARNING \u001b[0m:   Deprecation Warning: The `client_fn` function must return an instance of `Client`, but an instance of `NumpyClient` was returned. Please use `NumPyClient.to_client()` method to convert it to `Client`.\n"
     ]
    },
    {
     "name": "stdout",
     "output_type": "stream",
     "text": [
      "\u001b[36m(ClientAppActor pid=4144273)\u001b[0m [Client 2] fit, config: {'lr': 0.001}\n",
      "\u001b[36m(ClientAppActor pid=4144273)\u001b[0m Updating parameters 329\n",
      "\u001b[36m(ClientAppActor pid=4144273)\u001b[0m Setting parameters...\n",
      "\u001b[36m(ClientAppActor pid=4144273)\u001b[0m Client parameters set\n",
      "\u001b[36m(ClientAppActor pid=4144273)\u001b[0m Starting client training...\n",
      "\u001b[36m(ClientAppActor pid=4144273)\u001b[0m Running epoch 0/10\n",
      "\u001b[36m(ClientAppActor pid=4144273)\u001b[0m Epoch 1: train loss 0.5201995247288754, accuracy 0.8421052631578947\n",
      "\u001b[36m(ClientAppActor pid=4144273)\u001b[0m Running epoch 1/10\n",
      "\u001b[36m(ClientAppActor pid=4144273)\u001b[0m Epoch 2: train loss 0.0010582708928268403, accuracy 1.0\n",
      "\u001b[36m(ClientAppActor pid=4144273)\u001b[0m Running epoch 2/10\n",
      "\u001b[36m(ClientAppActor pid=4144273)\u001b[0m Epoch 3: train loss 0.004847271028618132, accuracy 1.0\n",
      "\u001b[36m(ClientAppActor pid=4144273)\u001b[0m Running epoch 3/10\n",
      "\u001b[36m(ClientAppActor pid=4144273)\u001b[0m Epoch 4: train loss 0.010831265394747453, accuracy 1.0\n",
      "\u001b[36m(ClientAppActor pid=4144273)\u001b[0m Running epoch 4/10\n",
      "\u001b[36m(ClientAppActor pid=4144273)\u001b[0m Epoch 5: train loss 0.015037582500984794, accuracy 1.0\n",
      "\u001b[36m(ClientAppActor pid=4144273)\u001b[0m Running epoch 5/10\n",
      "\u001b[36m(ClientAppActor pid=4144273)\u001b[0m Epoch 6: train loss 0.0037021102126393664, accuracy 1.0\n",
      "\u001b[36m(ClientAppActor pid=4144273)\u001b[0m Running epoch 6/10\n",
      "\u001b[36m(ClientAppActor pid=4144273)\u001b[0m Epoch 7: train loss 0.006165800027941403, accuracy 1.0\n",
      "\u001b[36m(ClientAppActor pid=4144273)\u001b[0m Epoch 00007: reducing learning rate of group 0 to 1.0000e-05.\n",
      "\u001b[36m(ClientAppActor pid=4144273)\u001b[0m Running epoch 7/10\n",
      "\u001b[36m(ClientAppActor pid=4144273)\u001b[0m Epoch 8: train loss 0.002863944970733045, accuracy 1.0\n",
      "\u001b[36m(ClientAppActor pid=4144273)\u001b[0m Running epoch 8/10\n",
      "\u001b[36m(ClientAppActor pid=4144273)\u001b[0m Epoch 9: train loss 0.0020835068885629113, accuracy 1.0\n",
      "\u001b[36m(ClientAppActor pid=4144273)\u001b[0m Running epoch 9/10\n",
      "\u001b[36m(ClientAppActor pid=4144273)\u001b[0m Epoch 10: train loss 0.0009418511058596012, accuracy 1.0\n",
      "\u001b[36m(ClientAppActor pid=4144273)\u001b[0m Training completed!\n",
      "\u001b[36m(ClientAppActor pid=4144273)\u001b[0m Length of params: 329\n"
     ]
    },
    {
     "name": "stderr",
     "output_type": "stream",
     "text": [
      "\u001b[36m(ClientAppActor pid=4144273)\u001b[0m \u001b[93mWARNING \u001b[0m:   Deprecation Warning: The `client_fn` function must return an instance of `Client`, but an instance of `NumpyClient` was returned. Please use `NumPyClient.to_client()` method to convert it to `Client`.\n"
     ]
    },
    {
     "name": "stdout",
     "output_type": "stream",
     "text": [
      "\u001b[36m(ClientAppActor pid=4144273)\u001b[0m [Client 9] fit, config: {'lr': 0.001}\n",
      "\u001b[36m(ClientAppActor pid=4144273)\u001b[0m Updating parameters 329\n",
      "\u001b[36m(ClientAppActor pid=4144273)\u001b[0m Setting parameters...\n",
      "\u001b[36m(ClientAppActor pid=4144273)\u001b[0m Client parameters set\n",
      "\u001b[36m(ClientAppActor pid=4144273)\u001b[0m Starting client training...\n",
      "\u001b[36m(ClientAppActor pid=4144273)\u001b[0m Running epoch 0/10\n",
      "\u001b[36m(ClientAppActor pid=4144273)\u001b[0m Epoch 1: train loss 0.00017588514507224317, accuracy 1.0\n",
      "\u001b[36m(ClientAppActor pid=4144273)\u001b[0m Running epoch 1/10\n",
      "\u001b[36m(ClientAppActor pid=4144273)\u001b[0m Epoch 2: train loss 0.0003371405643702019, accuracy 1.0\n",
      "\u001b[36m(ClientAppActor pid=4144273)\u001b[0m Running epoch 2/10\n",
      "\u001b[36m(ClientAppActor pid=4144273)\u001b[0m Epoch 3: train loss 8.005845593288541e-06, accuracy 1.0\n",
      "\u001b[36m(ClientAppActor pid=4144273)\u001b[0m Running epoch 3/10\n",
      "\u001b[36m(ClientAppActor pid=4144273)\u001b[0m Epoch 4: train loss 0.0011159619555110112, accuracy 1.0\n",
      "\u001b[36m(ClientAppActor pid=4144273)\u001b[0m Running epoch 4/10\n",
      "\u001b[36m(ClientAppActor pid=4144273)\u001b[0m Epoch 5: train loss 0.0001436306060941206, accuracy 1.0\n",
      "\u001b[36m(ClientAppActor pid=4144273)\u001b[0m Running epoch 5/10\n",
      "\u001b[36m(ClientAppActor pid=4144273)\u001b[0m Epoch 6: train loss 4.763131262734532e-05, accuracy 1.0\n",
      "\u001b[36m(ClientAppActor pid=4144273)\u001b[0m Running epoch 6/10\n",
      "\u001b[36m(ClientAppActor pid=4144273)\u001b[0m Epoch 7: train loss 0.012987319226949694, accuracy 1.0\n",
      "\u001b[36m(ClientAppActor pid=4144273)\u001b[0m Running epoch 7/10\n",
      "\u001b[36m(ClientAppActor pid=4144273)\u001b[0m Epoch 8: train loss 0.0005997718265280127, accuracy 1.0\n",
      "\u001b[36m(ClientAppActor pid=4144273)\u001b[0m Epoch 00008: reducing learning rate of group 0 to 1.0000e-05.\n",
      "\u001b[36m(ClientAppActor pid=4144273)\u001b[0m Running epoch 8/10\n",
      "\u001b[36m(ClientAppActor pid=4144273)\u001b[0m Epoch 9: train loss 0.00015451656356162857, accuracy 1.0\n",
      "\u001b[36m(ClientAppActor pid=4144273)\u001b[0m Running epoch 9/10\n",
      "\u001b[36m(ClientAppActor pid=4144273)\u001b[0m Epoch 10: train loss 2.2983323657399524e-06, accuracy 1.0\n",
      "\u001b[36m(ClientAppActor pid=4144273)\u001b[0m Training completed!\n",
      "\u001b[36m(ClientAppActor pid=4144273)\u001b[0m Length of params: 329\n"
     ]
    },
    {
     "name": "stderr",
     "output_type": "stream",
     "text": [
      "\u001b[36m(ClientAppActor pid=4144273)\u001b[0m \u001b[93mWARNING \u001b[0m:   Deprecation Warning: The `client_fn` function must return an instance of `Client`, but an instance of `NumpyClient` was returned. Please use `NumPyClient.to_client()` method to convert it to `Client`.\n"
     ]
    },
    {
     "name": "stdout",
     "output_type": "stream",
     "text": [
      "\u001b[36m(ClientAppActor pid=4144273)\u001b[0m [Client 5] fit, config: {'lr': 0.001}\n",
      "\u001b[36m(ClientAppActor pid=4144273)\u001b[0m Updating parameters 329\n",
      "\u001b[36m(ClientAppActor pid=4144273)\u001b[0m Setting parameters...\n",
      "\u001b[36m(ClientAppActor pid=4144273)\u001b[0m Client parameters set\n",
      "\u001b[36m(ClientAppActor pid=4144273)\u001b[0m Starting client training...\n",
      "\u001b[36m(ClientAppActor pid=4144273)\u001b[0m Running epoch 0/10\n",
      "\u001b[36m(ClientAppActor pid=4144273)\u001b[0m Epoch 1: train loss 0.00022999323247954875, accuracy 1.0\n",
      "\u001b[36m(ClientAppActor pid=4144273)\u001b[0m Running epoch 1/10\n",
      "\u001b[36m(ClientAppActor pid=4144273)\u001b[0m Epoch 2: train loss 9.88164115250057e-06, accuracy 1.0\n",
      "\u001b[36m(ClientAppActor pid=4144273)\u001b[0m Running epoch 2/10\n",
      "\u001b[36m(ClientAppActor pid=4144273)\u001b[0m Epoch 3: train loss 3.724752432868914e-05, accuracy 1.0\n",
      "\u001b[36m(ClientAppActor pid=4144273)\u001b[0m Running epoch 3/10\n",
      "\u001b[36m(ClientAppActor pid=4144273)\u001b[0m Epoch 4: train loss 5.274550800861203e-05, accuracy 1.0\n",
      "\u001b[36m(ClientAppActor pid=4144273)\u001b[0m Running epoch 4/10\n",
      "\u001b[36m(ClientAppActor pid=4144273)\u001b[0m Epoch 5: train loss 1.1098026980586215e-05, accuracy 1.0\n",
      "\u001b[36m(ClientAppActor pid=4144273)\u001b[0m Running epoch 5/10\n",
      "\u001b[36m(ClientAppActor pid=4144273)\u001b[0m Epoch 6: train loss 2.4469263069560936e-07, accuracy 1.0\n",
      "\u001b[36m(ClientAppActor pid=4144273)\u001b[0m Running epoch 6/10\n",
      "\u001b[36m(ClientAppActor pid=4144273)\u001b[0m Epoch 7: train loss 5.4425762127003076e-05, accuracy 1.0\n",
      "\u001b[36m(ClientAppActor pid=4144273)\u001b[0m Running epoch 7/10\n",
      "\u001b[36m(ClientAppActor pid=4144273)\u001b[0m Epoch 8: train loss 5.960447963030004e-07, accuracy 1.0\n",
      "\u001b[36m(ClientAppActor pid=4144273)\u001b[0m Running epoch 8/10\n",
      "\u001b[36m(ClientAppActor pid=4144273)\u001b[0m Epoch 9: train loss 7.968152962240837e-07, accuracy 1.0\n",
      "\u001b[36m(ClientAppActor pid=4144273)\u001b[0m Running epoch 9/10\n",
      "\u001b[36m(ClientAppActor pid=4144273)\u001b[0m Epoch 10: train loss 7.52900693836828e-08, accuracy 1.0\n",
      "\u001b[36m(ClientAppActor pid=4144273)\u001b[0m Training completed!\n",
      "\u001b[36m(ClientAppActor pid=4144273)\u001b[0m Length of params: 329\n"
     ]
    },
    {
     "name": "stderr",
     "output_type": "stream",
     "text": [
      "\u001b[36m(ClientAppActor pid=4144273)\u001b[0m \u001b[93mWARNING \u001b[0m:   Deprecation Warning: The `client_fn` function must return an instance of `Client`, but an instance of `NumpyClient` was returned. Please use `NumPyClient.to_client()` method to convert it to `Client`.\n"
     ]
    },
    {
     "name": "stdout",
     "output_type": "stream",
     "text": [
      "\u001b[36m(ClientAppActor pid=4144273)\u001b[0m [Client 3] fit, config: {'lr': 0.001}\n",
      "\u001b[36m(ClientAppActor pid=4144273)\u001b[0m Updating parameters 329\n",
      "\u001b[36m(ClientAppActor pid=4144273)\u001b[0m Setting parameters...\n",
      "\u001b[36m(ClientAppActor pid=4144273)\u001b[0m Client parameters set\n",
      "\u001b[36m(ClientAppActor pid=4144273)\u001b[0m Starting client training...\n",
      "\u001b[36m(ClientAppActor pid=4144273)\u001b[0m Running epoch 0/10\n",
      "\u001b[36m(ClientAppActor pid=4144273)\u001b[0m Epoch 1: train loss 0.0030648501002647926, accuracy 1.0\n",
      "\u001b[36m(ClientAppActor pid=4144273)\u001b[0m Running epoch 1/10\n",
      "\u001b[36m(ClientAppActor pid=4144273)\u001b[0m Epoch 2: train loss 0.01146973342149163, accuracy 1.0\n",
      "\u001b[36m(ClientAppActor pid=4144273)\u001b[0m Running epoch 2/10\n",
      "\u001b[36m(ClientAppActor pid=4144273)\u001b[0m Epoch 3: train loss 0.00013623319302113438, accuracy 1.0\n",
      "\u001b[36m(ClientAppActor pid=4144273)\u001b[0m Running epoch 3/10\n",
      "\u001b[36m(ClientAppActor pid=4144273)\u001b[0m Epoch 4: train loss 0.3347121524918628, accuracy 0.9473684210526315\n",
      "\u001b[36m(ClientAppActor pid=4144273)\u001b[0m Running epoch 4/10\n",
      "\u001b[36m(ClientAppActor pid=4144273)\u001b[0m Epoch 5: train loss 4.766460992150793e-05, accuracy 1.0\n",
      "\u001b[36m(ClientAppActor pid=4144273)\u001b[0m Running epoch 5/10\n",
      "\u001b[36m(ClientAppActor pid=4144273)\u001b[0m Epoch 6: train loss 0.000310296580592924, accuracy 1.0\n",
      "\u001b[36m(ClientAppActor pid=4144273)\u001b[0m Running epoch 6/10\n",
      "\u001b[36m(ClientAppActor pid=4144273)\u001b[0m Epoch 7: train loss 0.0017526671933745476, accuracy 1.0\n",
      "\u001b[36m(ClientAppActor pid=4144273)\u001b[0m Running epoch 7/10\n",
      "\u001b[36m(ClientAppActor pid=4144273)\u001b[0m Epoch 8: train loss 0.008323290091204015, accuracy 1.0\n",
      "\u001b[36m(ClientAppActor pid=4144273)\u001b[0m Running epoch 8/10\n",
      "\u001b[36m(ClientAppActor pid=4144273)\u001b[0m Epoch 9: train loss 0.008146946367464568, accuracy 1.0\n",
      "\u001b[36m(ClientAppActor pid=4144273)\u001b[0m Running epoch 9/10\n",
      "\u001b[36m(ClientAppActor pid=4144273)\u001b[0m Epoch 10: train loss 0.0017681639935625227, accuracy 1.0\n",
      "\u001b[36m(ClientAppActor pid=4144273)\u001b[0m Epoch 00010: reducing learning rate of group 0 to 1.0000e-05.\n",
      "\u001b[36m(ClientAppActor pid=4144273)\u001b[0m Training completed!\n",
      "\u001b[36m(ClientAppActor pid=4144273)\u001b[0m Length of params: 329\n"
     ]
    },
    {
     "name": "stderr",
     "output_type": "stream",
     "text": [
      "\u001b[36m(ClientAppActor pid=4144273)\u001b[0m \u001b[93mWARNING \u001b[0m:   Deprecation Warning: The `client_fn` function must return an instance of `Client`, but an instance of `NumpyClient` was returned. Please use `NumPyClient.to_client()` method to convert it to `Client`.\n"
     ]
    },
    {
     "name": "stdout",
     "output_type": "stream",
     "text": [
      "\u001b[36m(ClientAppActor pid=4144273)\u001b[0m [Client 6] fit, config: {'lr': 0.003}\n",
      "\u001b[36m(ClientAppActor pid=4144273)\u001b[0m Updating parameters 329\n",
      "\u001b[36m(ClientAppActor pid=4144273)\u001b[0m Setting parameters...\n",
      "\u001b[36m(ClientAppActor pid=4144273)\u001b[0m Client parameters set\n",
      "\u001b[36m(ClientAppActor pid=4144273)\u001b[0m Starting client training...\n",
      "\u001b[36m(ClientAppActor pid=4144273)\u001b[0m Running epoch 0/10\n",
      "\u001b[36m(ClientAppActor pid=4144273)\u001b[0m Epoch 1: train loss 0.00016305909067389286, accuracy 1.0\n",
      "\u001b[36m(ClientAppActor pid=4144273)\u001b[0m Running epoch 1/10\n",
      "\u001b[36m(ClientAppActor pid=4144273)\u001b[0m Epoch 2: train loss 3.6640869594568934e-06, accuracy 1.0\n",
      "\u001b[36m(ClientAppActor pid=4144273)\u001b[0m Running epoch 2/10\n",
      "\u001b[36m(ClientAppActor pid=4144273)\u001b[0m Epoch 3: train loss 7.842363342397699e-06, accuracy 1.0\n",
      "\u001b[36m(ClientAppActor pid=4144273)\u001b[0m Running epoch 3/10\n",
      "\u001b[36m(ClientAppActor pid=4144273)\u001b[0m Epoch 4: train loss 1.2271358819385855e-05, accuracy 1.0\n",
      "\u001b[36m(ClientAppActor pid=4144273)\u001b[0m Running epoch 4/10\n",
      "\u001b[36m(ClientAppActor pid=4144273)\u001b[0m Epoch 5: train loss 6.96432541764424e-07, accuracy 1.0\n",
      "\u001b[36m(ClientAppActor pid=4144273)\u001b[0m Running epoch 5/10\n",
      "\u001b[36m(ClientAppActor pid=4144273)\u001b[0m Epoch 6: train loss 4.091104614040456e-05, accuracy 1.0\n",
      "\u001b[36m(ClientAppActor pid=4144273)\u001b[0m Running epoch 6/10\n",
      "\u001b[36m(ClientAppActor pid=4144273)\u001b[0m Epoch 7: train loss 2.8484317093551383e-06, accuracy 1.0\n",
      "\u001b[36m(ClientAppActor pid=4144273)\u001b[0m Running epoch 7/10\n",
      "\u001b[36m(ClientAppActor pid=4144273)\u001b[0m Epoch 8: train loss 1.5056085477962561e-05, accuracy 1.0\n",
      "\u001b[36m(ClientAppActor pid=4144273)\u001b[0m Running epoch 8/10\n",
      "\u001b[36m(ClientAppActor pid=4144273)\u001b[0m Epoch 9: train loss 9.849937549389373e-06, accuracy 1.0\n",
      "\u001b[36m(ClientAppActor pid=4144273)\u001b[0m Running epoch 9/10\n",
      "\u001b[36m(ClientAppActor pid=4144273)\u001b[0m Epoch 10: train loss 4.8811902831259525e-06, accuracy 1.0\n",
      "\u001b[36m(ClientAppActor pid=4144273)\u001b[0m Epoch 00010: reducing learning rate of group 0 to 1.0000e-05.\n",
      "\u001b[36m(ClientAppActor pid=4144273)\u001b[0m Training completed!\n",
      "\u001b[36m(ClientAppActor pid=4144273)\u001b[0m Length of params: 329\n"
     ]
    },
    {
     "name": "stderr",
     "output_type": "stream",
     "text": [
      "\u001b[36m(ClientAppActor pid=4144273)\u001b[0m \u001b[93mWARNING \u001b[0m:   Deprecation Warning: The `client_fn` function must return an instance of `Client`, but an instance of `NumpyClient` was returned. Please use `NumPyClient.to_client()` method to convert it to `Client`.\n"
     ]
    },
    {
     "name": "stdout",
     "output_type": "stream",
     "text": [
      "\u001b[36m(ClientAppActor pid=4144273)\u001b[0m [Client 0] fit, config: {'lr': 0.003}\n",
      "\u001b[36m(ClientAppActor pid=4144273)\u001b[0m Updating parameters 329\n",
      "\u001b[36m(ClientAppActor pid=4144273)\u001b[0m Setting parameters...\n",
      "\u001b[36m(ClientAppActor pid=4144273)\u001b[0m Client parameters set\n",
      "\u001b[36m(ClientAppActor pid=4144273)\u001b[0m Starting client training...\n",
      "\u001b[36m(ClientAppActor pid=4144273)\u001b[0m Running epoch 0/10\n",
      "\u001b[36m(ClientAppActor pid=4144273)\u001b[0m Epoch 1: train loss 0.00048196611781972215, accuracy 1.0\n",
      "\u001b[36m(ClientAppActor pid=4144273)\u001b[0m Running epoch 1/10\n",
      "\u001b[36m(ClientAppActor pid=4144273)\u001b[0m Epoch 2: train loss 2.1092392815166693e-05, accuracy 1.0\n",
      "\u001b[36m(ClientAppActor pid=4144273)\u001b[0m Running epoch 2/10\n",
      "\u001b[36m(ClientAppActor pid=4144273)\u001b[0m Epoch 3: train loss 3.105288889951465e-05, accuracy 1.0\n",
      "\u001b[36m(ClientAppActor pid=4144273)\u001b[0m Running epoch 3/10\n",
      "\u001b[36m(ClientAppActor pid=4144273)\u001b[0m Epoch 4: train loss 1.4430552973384404e-06, accuracy 1.0\n",
      "\u001b[36m(ClientAppActor pid=4144273)\u001b[0m Running epoch 4/10\n",
      "\u001b[36m(ClientAppActor pid=4144273)\u001b[0m Epoch 5: train loss 2.2909337482776426e-05, accuracy 1.0\n",
      "\u001b[36m(ClientAppActor pid=4144273)\u001b[0m Running epoch 5/10\n",
      "\u001b[36m(ClientAppActor pid=4144273)\u001b[0m Epoch 6: train loss 1.345015755716579e-05, accuracy 1.0\n",
      "\u001b[36m(ClientAppActor pid=4144273)\u001b[0m Running epoch 6/10\n",
      "\u001b[36m(ClientAppActor pid=4144273)\u001b[0m Epoch 7: train loss 1.694026009527318e-07, accuracy 1.0\n",
      "\u001b[36m(ClientAppActor pid=4144273)\u001b[0m Running epoch 7/10\n",
      "\u001b[36m(ClientAppActor pid=4144273)\u001b[0m Epoch 8: train loss 2.1771162497124782e-06, accuracy 1.0\n",
      "\u001b[36m(ClientAppActor pid=4144273)\u001b[0m Running epoch 8/10\n",
      "\u001b[36m(ClientAppActor pid=4144273)\u001b[0m Epoch 9: train loss 5.6467552224747026e-08, accuracy 1.0\n",
      "\u001b[36m(ClientAppActor pid=4144273)\u001b[0m Running epoch 9/10\n",
      "\u001b[36m(ClientAppActor pid=4144273)\u001b[0m Epoch 10: train loss 2.133217594148032e-07, accuracy 1.0\n",
      "\u001b[36m(ClientAppActor pid=4144273)\u001b[0m Training completed!\n",
      "\u001b[36m(ClientAppActor pid=4144273)\u001b[0m Length of params: 329\n"
     ]
    },
    {
     "name": "stderr",
     "output_type": "stream",
     "text": [
      "\u001b[36m(ClientAppActor pid=4144273)\u001b[0m \u001b[93mWARNING \u001b[0m:   Deprecation Warning: The `client_fn` function must return an instance of `Client`, but an instance of `NumpyClient` was returned. Please use `NumPyClient.to_client()` method to convert it to `Client`.\n"
     ]
    },
    {
     "name": "stdout",
     "output_type": "stream",
     "text": [
      "\u001b[36m(ClientAppActor pid=4144273)\u001b[0m [Client 7] fit, config: {'lr': 0.003}\n",
      "\u001b[36m(ClientAppActor pid=4144273)\u001b[0m Updating parameters 329\n",
      "\u001b[36m(ClientAppActor pid=4144273)\u001b[0m Setting parameters...\n",
      "\u001b[36m(ClientAppActor pid=4144273)\u001b[0m Client parameters set\n",
      "\u001b[36m(ClientAppActor pid=4144273)\u001b[0m Starting client training...\n",
      "\u001b[36m(ClientAppActor pid=4144273)\u001b[0m Running epoch 0/10\n",
      "\u001b[36m(ClientAppActor pid=4144273)\u001b[0m Epoch 1: train loss 0.0026116420907017434, accuracy 1.0\n",
      "\u001b[36m(ClientAppActor pid=4144273)\u001b[0m Running epoch 1/10\n",
      "\u001b[36m(ClientAppActor pid=4144273)\u001b[0m Epoch 2: train loss 9.4617299366387e-05, accuracy 1.0\n",
      "\u001b[36m(ClientAppActor pid=4144273)\u001b[0m Running epoch 2/10\n",
      "\u001b[36m(ClientAppActor pid=4144273)\u001b[0m Epoch 3: train loss 1.3626809576587556e-05, accuracy 1.0\n",
      "\u001b[36m(ClientAppActor pid=4144273)\u001b[0m Running epoch 3/10\n",
      "\u001b[36m(ClientAppActor pid=4144273)\u001b[0m Epoch 4: train loss 1.731664890171128e-06, accuracy 1.0\n",
      "\u001b[36m(ClientAppActor pid=4144273)\u001b[0m Running epoch 4/10\n",
      "\u001b[36m(ClientAppActor pid=4144273)\u001b[0m Epoch 5: train loss 2.8108051035240735e-06, accuracy 1.0\n",
      "\u001b[36m(ClientAppActor pid=4144273)\u001b[0m Running epoch 5/10\n",
      "\u001b[36m(ClientAppActor pid=4144273)\u001b[0m Epoch 6: train loss 0.0001486261546643307, accuracy 1.0\n",
      "\u001b[36m(ClientAppActor pid=4144273)\u001b[0m Running epoch 6/10\n",
      "\u001b[36m(ClientAppActor pid=4144273)\u001b[0m Epoch 7: train loss 2.6727660305799587e-06, accuracy 1.0\n",
      "\u001b[36m(ClientAppActor pid=4144273)\u001b[0m Running epoch 7/10\n",
      "\u001b[36m(ClientAppActor pid=4144273)\u001b[0m Epoch 8: train loss 5.458513854250668e-07, accuracy 1.0\n",
      "\u001b[36m(ClientAppActor pid=4144273)\u001b[0m Running epoch 8/10\n",
      "\u001b[36m(ClientAppActor pid=4144273)\u001b[0m Epoch 9: train loss 1.1249127749722806e-05, accuracy 1.0\n",
      "\u001b[36m(ClientAppActor pid=4144273)\u001b[0m Running epoch 9/10\n",
      "\u001b[36m(ClientAppActor pid=4144273)\u001b[0m Epoch 10: train loss 3.3879803380075734e-06, accuracy 1.0\n",
      "\u001b[36m(ClientAppActor pid=4144273)\u001b[0m Training completed!\n",
      "\u001b[36m(ClientAppActor pid=4144273)\u001b[0m Length of params: 329\n"
     ]
    },
    {
     "name": "stderr",
     "output_type": "stream",
     "text": [
      "\u001b[36m(ClientAppActor pid=4144273)\u001b[0m \u001b[93mWARNING \u001b[0m:   Deprecation Warning: The `client_fn` function must return an instance of `Client`, but an instance of `NumpyClient` was returned. Please use `NumPyClient.to_client()` method to convert it to `Client`.\n"
     ]
    },
    {
     "name": "stdout",
     "output_type": "stream",
     "text": [
      "\u001b[36m(ClientAppActor pid=4144273)\u001b[0m [Client 8] fit, config: {'lr': 0.003}\n",
      "\u001b[36m(ClientAppActor pid=4144273)\u001b[0m Updating parameters 329\n",
      "\u001b[36m(ClientAppActor pid=4144273)\u001b[0m Setting parameters...\n",
      "\u001b[36m(ClientAppActor pid=4144273)\u001b[0m Client parameters set\n",
      "\u001b[36m(ClientAppActor pid=4144273)\u001b[0m Starting client training...\n",
      "\u001b[36m(ClientAppActor pid=4144273)\u001b[0m Running epoch 0/10\n",
      "\u001b[36m(ClientAppActor pid=4144273)\u001b[0m Epoch 1: train loss 0.011759077443888313, accuracy 1.0\n",
      "\u001b[36m(ClientAppActor pid=4144273)\u001b[0m Running epoch 1/10\n",
      "\u001b[36m(ClientAppActor pid=4144273)\u001b[0m Epoch 2: train loss 2.6048028973347852e-05, accuracy 1.0\n",
      "\u001b[36m(ClientAppActor pid=4144273)\u001b[0m Running epoch 2/10\n",
      "\u001b[36m(ClientAppActor pid=4144273)\u001b[0m Epoch 3: train loss 0.007691071940491001, accuracy 1.0\n",
      "\u001b[36m(ClientAppActor pid=4144273)\u001b[0m Running epoch 3/10\n",
      "\u001b[36m(ClientAppActor pid=4144273)\u001b[0m Epoch 4: train loss 0.11164982643860735, accuracy 0.9473684210526315\n",
      "\u001b[36m(ClientAppActor pid=4144273)\u001b[0m Running epoch 4/10\n",
      "\u001b[36m(ClientAppActor pid=4144273)\u001b[0m Epoch 5: train loss 3.787344537972546e-05, accuracy 1.0\n",
      "\u001b[36m(ClientAppActor pid=4144273)\u001b[0m Running epoch 5/10\n",
      "\u001b[36m(ClientAppActor pid=4144273)\u001b[0m Epoch 6: train loss 0.08232524351363904, accuracy 0.9473684210526315\n",
      "\u001b[36m(ClientAppActor pid=4144273)\u001b[0m Running epoch 6/10\n",
      "\u001b[36m(ClientAppActor pid=4144273)\u001b[0m Epoch 7: train loss 0.005563639757670707, accuracy 1.0\n",
      "\u001b[36m(ClientAppActor pid=4144273)\u001b[0m Epoch 00007: reducing learning rate of group 0 to 1.0000e-05.\n",
      "\u001b[36m(ClientAppActor pid=4144273)\u001b[0m Running epoch 7/10\n",
      "\u001b[36m(ClientAppActor pid=4144273)\u001b[0m Epoch 8: train loss 0.00476634188702232, accuracy 1.0\n",
      "\u001b[36m(ClientAppActor pid=4144273)\u001b[0m Running epoch 8/10\n",
      "\u001b[36m(ClientAppActor pid=4144273)\u001b[0m Epoch 9: train loss 0.009136275829453217, accuracy 1.0\n",
      "\u001b[36m(ClientAppActor pid=4144273)\u001b[0m Running epoch 9/10\n",
      "\u001b[36m(ClientAppActor pid=4144273)\u001b[0m Epoch 10: train loss 0.00243705462076162, accuracy 1.0\n",
      "\u001b[36m(ClientAppActor pid=4144273)\u001b[0m Training completed!\n",
      "\u001b[36m(ClientAppActor pid=4144273)\u001b[0m Length of params: 329\n"
     ]
    },
    {
     "name": "stderr",
     "output_type": "stream",
     "text": [
      "\u001b[36m(ClientAppActor pid=4144273)\u001b[0m \u001b[93mWARNING \u001b[0m:   Deprecation Warning: The `client_fn` function must return an instance of `Client`, but an instance of `NumpyClient` was returned. Please use `NumPyClient.to_client()` method to convert it to `Client`.\n"
     ]
    },
    {
     "name": "stdout",
     "output_type": "stream",
     "text": [
      "\u001b[36m(ClientAppActor pid=4144273)\u001b[0m [Client 1] fit, config: {'lr': 0.003}\n",
      "\u001b[36m(ClientAppActor pid=4144273)\u001b[0m Updating parameters 329\n",
      "\u001b[36m(ClientAppActor pid=4144273)\u001b[0m Setting parameters...\n",
      "\u001b[36m(ClientAppActor pid=4144273)\u001b[0m Client parameters set\n",
      "\u001b[36m(ClientAppActor pid=4144273)\u001b[0m Starting client training...\n",
      "\u001b[36m(ClientAppActor pid=4144273)\u001b[0m Running epoch 0/10\n",
      "\u001b[36m(ClientAppActor pid=4144273)\u001b[0m Epoch 1: train loss 0.0025280405576555303, accuracy 1.0\n",
      "\u001b[36m(ClientAppActor pid=4144273)\u001b[0m Running epoch 1/10\n",
      "\u001b[36m(ClientAppActor pid=4144273)\u001b[0m Epoch 2: train loss 0.0006683586961547629, accuracy 1.0\n",
      "\u001b[36m(ClientAppActor pid=4144273)\u001b[0m Running epoch 2/10\n",
      "\u001b[36m(ClientAppActor pid=4144273)\u001b[0m Epoch 3: train loss 4.300101108798883e-05, accuracy 1.0\n",
      "\u001b[36m(ClientAppActor pid=4144273)\u001b[0m Running epoch 3/10\n",
      "\u001b[36m(ClientAppActor pid=4144273)\u001b[0m Epoch 4: train loss 2.2758532150203936e-05, accuracy 1.0\n",
      "\u001b[36m(ClientAppActor pid=4144273)\u001b[0m Running epoch 4/10\n",
      "\u001b[36m(ClientAppActor pid=4144273)\u001b[0m Epoch 5: train loss 2.5895742797537853e-05, accuracy 1.0\n",
      "\u001b[36m(ClientAppActor pid=4144273)\u001b[0m Running epoch 5/10\n",
      "\u001b[36m(ClientAppActor pid=4144273)\u001b[0m Epoch 6: train loss 8.190394510165788e-05, accuracy 1.0\n",
      "\u001b[36m(ClientAppActor pid=4144273)\u001b[0m Running epoch 6/10\n",
      "\u001b[36m(ClientAppActor pid=4144273)\u001b[0m Epoch 7: train loss 4.373023138645007e-06, accuracy 1.0\n",
      "\u001b[36m(ClientAppActor pid=4144273)\u001b[0m Running epoch 7/10\n",
      "\u001b[36m(ClientAppActor pid=4144273)\u001b[0m Epoch 8: train loss 1.4510576785429102e-05, accuracy 1.0\n",
      "\u001b[36m(ClientAppActor pid=4144273)\u001b[0m Running epoch 8/10\n",
      "\u001b[36m(ClientAppActor pid=4144273)\u001b[0m Epoch 9: train loss 1.6674408040049265e-05, accuracy 1.0\n",
      "\u001b[36m(ClientAppActor pid=4144273)\u001b[0m Running epoch 9/10\n",
      "\u001b[36m(ClientAppActor pid=4144273)\u001b[0m Epoch 10: train loss 3.639015511381379e-07, accuracy 1.0\n",
      "\u001b[36m(ClientAppActor pid=4144273)\u001b[0m Training completed!\n",
      "\u001b[36m(ClientAppActor pid=4144273)\u001b[0m Length of params: 329\n"
     ]
    },
    {
     "name": "stderr",
     "output_type": "stream",
     "text": [
      "\u001b[92mINFO \u001b[0m:      aggregate_fit: received 10 results and 0 failures\n"
     ]
    },
    {
     "name": "stdout",
     "output_type": "stream",
     "text": [
      "Evaluating global model\n",
      "Updating parameters 329\n",
      "Setting parameters...\n",
      "Parameter set\n",
      "Starting client validation...\n",
      "Validataion accuracy = 0.8666666666666667\n",
      "Global evaluation round 5 loss = 0.06496138274669647 accuracy = 0.8666666666666667\n"
     ]
    },
    {
     "name": "stderr",
     "output_type": "stream",
     "text": [
      "\u001b[92mINFO \u001b[0m:      fit progress: (5, 0.06496138274669647, {}, 3684.3791026859544)\n",
      "\u001b[92mINFO \u001b[0m:      configure_evaluate: strategy sampled 10 clients (out of 10)\n"
     ]
    },
    {
     "name": "stdout",
     "output_type": "stream",
     "text": [
      "Model saved at ./fl_checkpointsswintransformer_e10_c10_r10/fl_densenet_5.pth\n"
     ]
    },
    {
     "name": "stderr",
     "output_type": "stream",
     "text": [
      "\u001b[36m(ClientAppActor pid=4144273)\u001b[0m \u001b[93mWARNING \u001b[0m:   Deprecation Warning: The `client_fn` function must return an instance of `Client`, but an instance of `NumpyClient` was returned. Please use `NumPyClient.to_client()` method to convert it to `Client`.\n"
     ]
    },
    {
     "name": "stdout",
     "output_type": "stream",
     "text": [
      "\u001b[36m(ClientAppActor pid=4144273)\u001b[0m [Client 7] evaluate, config: {}\n",
      "\u001b[36m(ClientAppActor pid=4144273)\u001b[0m Updating parameters 329\n",
      "\u001b[36m(ClientAppActor pid=4144273)\u001b[0m Setting parameters...\n",
      "\u001b[36m(ClientAppActor pid=4144273)\u001b[0m Starting client validation...\n",
      "\u001b[36m(ClientAppActor pid=4144273)\u001b[0m Validataion accuracy = 0.8666666666666667\n",
      "\u001b[36m(ClientAppActor pid=4144273)\u001b[0m Evaluation loss = 0.06496138274669647 accuracy = 0.8666666666666667\n"
     ]
    },
    {
     "name": "stderr",
     "output_type": "stream",
     "text": [
      "\u001b[36m(ClientAppActor pid=4144273)\u001b[0m \u001b[93mWARNING \u001b[0m:   Deprecation Warning: The `client_fn` function must return an instance of `Client`, but an instance of `NumpyClient` was returned. Please use `NumPyClient.to_client()` method to convert it to `Client`.\n"
     ]
    },
    {
     "name": "stdout",
     "output_type": "stream",
     "text": [
      "\u001b[36m(ClientAppActor pid=4144273)\u001b[0m [Client 0] evaluate, config: {}\n",
      "\u001b[36m(ClientAppActor pid=4144273)\u001b[0m Updating parameters 329\n",
      "\u001b[36m(ClientAppActor pid=4144273)\u001b[0m Setting parameters...\n",
      "\u001b[36m(ClientAppActor pid=4144273)\u001b[0m Starting client validation...\n",
      "\u001b[36m(ClientAppActor pid=4144273)\u001b[0m Validataion accuracy = 0.8666666666666667\n",
      "\u001b[36m(ClientAppActor pid=4144273)\u001b[0m Evaluation loss = 0.06496138274669647 accuracy = 0.8666666666666667\n"
     ]
    },
    {
     "name": "stderr",
     "output_type": "stream",
     "text": [
      "\u001b[36m(ClientAppActor pid=4144273)\u001b[0m \u001b[93mWARNING \u001b[0m:   Deprecation Warning: The `client_fn` function must return an instance of `Client`, but an instance of `NumpyClient` was returned. Please use `NumPyClient.to_client()` method to convert it to `Client`.\n"
     ]
    },
    {
     "name": "stdout",
     "output_type": "stream",
     "text": [
      "\u001b[36m(ClientAppActor pid=4144273)\u001b[0m [Client 3] evaluate, config: {}\n",
      "\u001b[36m(ClientAppActor pid=4144273)\u001b[0m Updating parameters 329\n",
      "\u001b[36m(ClientAppActor pid=4144273)\u001b[0m Setting parameters...\n",
      "\u001b[36m(ClientAppActor pid=4144273)\u001b[0m Starting client validation...\n",
      "\u001b[36m(ClientAppActor pid=4144273)\u001b[0m Validataion accuracy = 0.8666666666666667\n",
      "\u001b[36m(ClientAppActor pid=4144273)\u001b[0m Evaluation loss = 0.06496138274669647 accuracy = 0.8666666666666667\n"
     ]
    },
    {
     "name": "stderr",
     "output_type": "stream",
     "text": [
      "\u001b[36m(ClientAppActor pid=4144273)\u001b[0m \u001b[93mWARNING \u001b[0m:   Deprecation Warning: The `client_fn` function must return an instance of `Client`, but an instance of `NumpyClient` was returned. Please use `NumPyClient.to_client()` method to convert it to `Client`.\n"
     ]
    },
    {
     "name": "stdout",
     "output_type": "stream",
     "text": [
      "\u001b[36m(ClientAppActor pid=4144273)\u001b[0m [Client 5] evaluate, config: {}\n",
      "\u001b[36m(ClientAppActor pid=4144273)\u001b[0m Updating parameters 329\n",
      "\u001b[36m(ClientAppActor pid=4144273)\u001b[0m Setting parameters...\n",
      "\u001b[36m(ClientAppActor pid=4144273)\u001b[0m Starting client validation...\n",
      "\u001b[36m(ClientAppActor pid=4144273)\u001b[0m Validataion accuracy = 0.8666666666666667\n",
      "\u001b[36m(ClientAppActor pid=4144273)\u001b[0m Evaluation loss = 0.06496138274669647 accuracy = 0.8666666666666667\n"
     ]
    },
    {
     "name": "stderr",
     "output_type": "stream",
     "text": [
      "\u001b[36m(ClientAppActor pid=4144273)\u001b[0m \u001b[93mWARNING \u001b[0m:   Deprecation Warning: The `client_fn` function must return an instance of `Client`, but an instance of `NumpyClient` was returned. Please use `NumPyClient.to_client()` method to convert it to `Client`.\n"
     ]
    },
    {
     "name": "stdout",
     "output_type": "stream",
     "text": [
      "\u001b[36m(ClientAppActor pid=4144273)\u001b[0m [Client 4] evaluate, config: {}\n",
      "\u001b[36m(ClientAppActor pid=4144273)\u001b[0m Updating parameters 329\n",
      "\u001b[36m(ClientAppActor pid=4144273)\u001b[0m Setting parameters...\n",
      "\u001b[36m(ClientAppActor pid=4144273)\u001b[0m Starting client validation...\n",
      "\u001b[36m(ClientAppActor pid=4144273)\u001b[0m Validataion accuracy = 0.8666666666666667\n",
      "\u001b[36m(ClientAppActor pid=4144273)\u001b[0m Evaluation loss = 0.06496138274669647 accuracy = 0.8666666666666667\n"
     ]
    },
    {
     "name": "stderr",
     "output_type": "stream",
     "text": [
      "\u001b[36m(ClientAppActor pid=4144273)\u001b[0m \u001b[93mWARNING \u001b[0m:   Deprecation Warning: The `client_fn` function must return an instance of `Client`, but an instance of `NumpyClient` was returned. Please use `NumPyClient.to_client()` method to convert it to `Client`.\n"
     ]
    },
    {
     "name": "stdout",
     "output_type": "stream",
     "text": [
      "\u001b[36m(ClientAppActor pid=4144273)\u001b[0m [Client 2] evaluate, config: {}\n",
      "\u001b[36m(ClientAppActor pid=4144273)\u001b[0m Updating parameters 329\n",
      "\u001b[36m(ClientAppActor pid=4144273)\u001b[0m Setting parameters...\n",
      "\u001b[36m(ClientAppActor pid=4144273)\u001b[0m Starting client validation...\n",
      "\u001b[36m(ClientAppActor pid=4144273)\u001b[0m Validataion accuracy = 0.8666666666666667\n",
      "\u001b[36m(ClientAppActor pid=4144273)\u001b[0m Evaluation loss = 0.06496138274669647 accuracy = 0.8666666666666667\n"
     ]
    },
    {
     "name": "stderr",
     "output_type": "stream",
     "text": [
      "\u001b[36m(ClientAppActor pid=4144273)\u001b[0m \u001b[93mWARNING \u001b[0m:   Deprecation Warning: The `client_fn` function must return an instance of `Client`, but an instance of `NumpyClient` was returned. Please use `NumPyClient.to_client()` method to convert it to `Client`.\n"
     ]
    },
    {
     "name": "stdout",
     "output_type": "stream",
     "text": [
      "\u001b[36m(ClientAppActor pid=4144273)\u001b[0m [Client 9] evaluate, config: {}\n",
      "\u001b[36m(ClientAppActor pid=4144273)\u001b[0m Updating parameters 329\n",
      "\u001b[36m(ClientAppActor pid=4144273)\u001b[0m Setting parameters...\n",
      "\u001b[36m(ClientAppActor pid=4144273)\u001b[0m Starting client validation...\n",
      "\u001b[36m(ClientAppActor pid=4144273)\u001b[0m Validataion accuracy = 0.8666666666666667\n",
      "\u001b[36m(ClientAppActor pid=4144273)\u001b[0m Evaluation loss = 0.06496138274669647 accuracy = 0.8666666666666667\n"
     ]
    },
    {
     "name": "stderr",
     "output_type": "stream",
     "text": [
      "\u001b[36m(ClientAppActor pid=4144273)\u001b[0m \u001b[93mWARNING \u001b[0m:   Deprecation Warning: The `client_fn` function must return an instance of `Client`, but an instance of `NumpyClient` was returned. Please use `NumPyClient.to_client()` method to convert it to `Client`.\n"
     ]
    },
    {
     "name": "stdout",
     "output_type": "stream",
     "text": [
      "\u001b[36m(ClientAppActor pid=4144273)\u001b[0m [Client 8] evaluate, config: {}\n",
      "\u001b[36m(ClientAppActor pid=4144273)\u001b[0m Updating parameters 329\n",
      "\u001b[36m(ClientAppActor pid=4144273)\u001b[0m Setting parameters...\n",
      "\u001b[36m(ClientAppActor pid=4144273)\u001b[0m Starting client validation...\n",
      "\u001b[36m(ClientAppActor pid=4144273)\u001b[0m Validataion accuracy = 0.8666666666666667\n",
      "\u001b[36m(ClientAppActor pid=4144273)\u001b[0m Evaluation loss = 0.06496138274669647 accuracy = 0.8666666666666667\n"
     ]
    },
    {
     "name": "stderr",
     "output_type": "stream",
     "text": [
      "\u001b[36m(ClientAppActor pid=4144273)\u001b[0m \u001b[93mWARNING \u001b[0m:   Deprecation Warning: The `client_fn` function must return an instance of `Client`, but an instance of `NumpyClient` was returned. Please use `NumPyClient.to_client()` method to convert it to `Client`.\n"
     ]
    },
    {
     "name": "stdout",
     "output_type": "stream",
     "text": [
      "\u001b[36m(ClientAppActor pid=4144273)\u001b[0m [Client 1] evaluate, config: {}\n",
      "\u001b[36m(ClientAppActor pid=4144273)\u001b[0m Updating parameters 329\n",
      "\u001b[36m(ClientAppActor pid=4144273)\u001b[0m Setting parameters...\n",
      "\u001b[36m(ClientAppActor pid=4144273)\u001b[0m Starting client validation...\n",
      "\u001b[36m(ClientAppActor pid=4144273)\u001b[0m Validataion accuracy = 0.8666666666666667\n",
      "\u001b[36m(ClientAppActor pid=4144273)\u001b[0m Evaluation loss = 0.06496138274669647 accuracy = 0.8666666666666667\n"
     ]
    },
    {
     "name": "stderr",
     "output_type": "stream",
     "text": [
      "\u001b[36m(ClientAppActor pid=4144273)\u001b[0m \u001b[93mWARNING \u001b[0m:   Deprecation Warning: The `client_fn` function must return an instance of `Client`, but an instance of `NumpyClient` was returned. Please use `NumPyClient.to_client()` method to convert it to `Client`.\n"
     ]
    },
    {
     "name": "stdout",
     "output_type": "stream",
     "text": [
      "\u001b[36m(ClientAppActor pid=4144273)\u001b[0m [Client 6] evaluate, config: {}\n",
      "\u001b[36m(ClientAppActor pid=4144273)\u001b[0m Updating parameters 329\n",
      "\u001b[36m(ClientAppActor pid=4144273)\u001b[0m Setting parameters...\n",
      "\u001b[36m(ClientAppActor pid=4144273)\u001b[0m Starting client validation...\n"
     ]
    },
    {
     "name": "stderr",
     "output_type": "stream",
     "text": [
      "\u001b[92mINFO \u001b[0m:      aggregate_evaluate: received 10 results and 0 failures\n",
      "\u001b[92mINFO \u001b[0m:      \n",
      "\u001b[92mINFO \u001b[0m:      [ROUND 6]\n",
      "\u001b[92mINFO \u001b[0m:      configure_fit: strategy sampled 10 clients (out of 10)\n"
     ]
    },
    {
     "name": "stdout",
     "output_type": "stream",
     "text": [
      "Starting configure fit function...\n",
      "Sample size = 10 Min Num Clients = 2 Clients = [<flwr.simulation.ray_transport.ray_client_proxy.RayActorClientProxy object at 0x155491b76fd0>, <flwr.simulation.ray_transport.ray_client_proxy.RayActorClientProxy object at 0x155314acf550>, <flwr.simulation.ray_transport.ray_client_proxy.RayActorClientProxy object at 0x155491b771d0>, <flwr.simulation.ray_transport.ray_client_proxy.RayActorClientProxy object at 0x155491b776d0>, <flwr.simulation.ray_transport.ray_client_proxy.RayActorClientProxy object at 0x155491b77150>, <flwr.simulation.ray_transport.ray_client_proxy.RayActorClientProxy object at 0x155491b775d0>, <flwr.simulation.ray_transport.ray_client_proxy.RayActorClientProxy object at 0x155491b77750>, <flwr.simulation.ray_transport.ray_client_proxy.RayActorClientProxy object at 0x155491b77310>, <flwr.simulation.ray_transport.ray_client_proxy.RayActorClientProxy object at 0x155491b77650>, <flwr.simulation.ray_transport.ray_client_proxy.RayActorClientProxy object at 0x155491b76690>]\n",
      "Number of clients = 10\n",
      "Fit Configurations\n",
      "\u001b[36m(ClientAppActor pid=4144273)\u001b[0m Validataion accuracy = 0.8666666666666667\n",
      "\u001b[36m(ClientAppActor pid=4144273)\u001b[0m Evaluation loss = 0.06496138274669647 accuracy = 0.8666666666666667\n"
     ]
    },
    {
     "name": "stderr",
     "output_type": "stream",
     "text": [
      "\u001b[36m(ClientAppActor pid=4144273)\u001b[0m \u001b[93mWARNING \u001b[0m:   Deprecation Warning: The `client_fn` function must return an instance of `Client`, but an instance of `NumpyClient` was returned. Please use `NumPyClient.to_client()` method to convert it to `Client`.\n"
     ]
    },
    {
     "name": "stdout",
     "output_type": "stream",
     "text": [
      "\u001b[36m(ClientAppActor pid=4144273)\u001b[0m [Client 1] fit, config: {'lr': 0.001}\n",
      "\u001b[36m(ClientAppActor pid=4144273)\u001b[0m Updating parameters 329\n",
      "\u001b[36m(ClientAppActor pid=4144273)\u001b[0m Setting parameters...\n",
      "\u001b[36m(ClientAppActor pid=4144273)\u001b[0m Client parameters set\n",
      "\u001b[36m(ClientAppActor pid=4144273)\u001b[0m Starting client training...\n",
      "\u001b[36m(ClientAppActor pid=4144273)\u001b[0m Running epoch 0/10\n",
      "\u001b[36m(ClientAppActor pid=4144273)\u001b[0m Epoch 1: train loss 0.00012096750402771537, accuracy 1.0\n",
      "\u001b[36m(ClientAppActor pid=4144273)\u001b[0m Running epoch 1/10\n",
      "\u001b[36m(ClientAppActor pid=4144273)\u001b[0m Epoch 2: train loss 9.034797757653666e-07, accuracy 1.0\n",
      "\u001b[36m(ClientAppActor pid=4144273)\u001b[0m Running epoch 2/10\n",
      "\u001b[36m(ClientAppActor pid=4144273)\u001b[0m Epoch 3: train loss 8.846562638466008e-07, accuracy 1.0\n",
      "\u001b[36m(ClientAppActor pid=4144273)\u001b[0m Running epoch 3/10\n",
      "\u001b[36m(ClientAppActor pid=4144273)\u001b[0m Epoch 4: train loss 8.281893698088089e-07, accuracy 1.0\n",
      "\u001b[36m(ClientAppActor pid=4144273)\u001b[0m Running epoch 4/10\n",
      "\u001b[36m(ClientAppActor pid=4144273)\u001b[0m Epoch 5: train loss 4.5079776962091656e-05, accuracy 1.0\n",
      "\u001b[36m(ClientAppActor pid=4144273)\u001b[0m Running epoch 5/10\n",
      "\u001b[36m(ClientAppActor pid=4144273)\u001b[0m Epoch 6: train loss 4.5173973717282934e-07, accuracy 1.0\n",
      "\u001b[36m(ClientAppActor pid=4144273)\u001b[0m Running epoch 6/10\n",
      "\u001b[36m(ClientAppActor pid=4144273)\u001b[0m Epoch 7: train loss 7.75462343115482e-06, accuracy 1.0\n",
      "\u001b[36m(ClientAppActor pid=4144273)\u001b[0m Running epoch 7/10\n",
      "\u001b[36m(ClientAppActor pid=4144273)\u001b[0m Epoch 8: train loss 7.371732169160264e-06, accuracy 1.0\n",
      "\u001b[36m(ClientAppActor pid=4144273)\u001b[0m Running epoch 8/10\n",
      "\u001b[36m(ClientAppActor pid=4144273)\u001b[0m Epoch 9: train loss 1.3112959382660369e-06, accuracy 1.0\n",
      "\u001b[36m(ClientAppActor pid=4144273)\u001b[0m Running epoch 9/10\n",
      "\u001b[36m(ClientAppActor pid=4144273)\u001b[0m Epoch 10: train loss 2.7606347430264577e-07, accuracy 1.0\n",
      "\u001b[36m(ClientAppActor pid=4144273)\u001b[0m Training completed!\n",
      "\u001b[36m(ClientAppActor pid=4144273)\u001b[0m Length of params: 329\n"
     ]
    },
    {
     "name": "stderr",
     "output_type": "stream",
     "text": [
      "\u001b[36m(ClientAppActor pid=4144273)\u001b[0m \u001b[93mWARNING \u001b[0m:   Deprecation Warning: The `client_fn` function must return an instance of `Client`, but an instance of `NumpyClient` was returned. Please use `NumPyClient.to_client()` method to convert it to `Client`.\n"
     ]
    },
    {
     "name": "stdout",
     "output_type": "stream",
     "text": [
      "\u001b[36m(ClientAppActor pid=4144273)\u001b[0m [Client 0] fit, config: {'lr': 0.001}\n",
      "\u001b[36m(ClientAppActor pid=4144273)\u001b[0m Updating parameters 329\n",
      "\u001b[36m(ClientAppActor pid=4144273)\u001b[0m Setting parameters...\n",
      "\u001b[36m(ClientAppActor pid=4144273)\u001b[0m Client parameters set\n",
      "\u001b[36m(ClientAppActor pid=4144273)\u001b[0m Starting client training...\n",
      "\u001b[36m(ClientAppActor pid=4144273)\u001b[0m Running epoch 0/10\n",
      "\u001b[36m(ClientAppActor pid=4144273)\u001b[0m Epoch 1: train loss 2.26402627097406e-05, accuracy 1.0\n",
      "\u001b[36m(ClientAppActor pid=4144273)\u001b[0m Running epoch 1/10\n",
      "\u001b[36m(ClientAppActor pid=4144273)\u001b[0m Epoch 2: train loss 5.219978393112892e-06, accuracy 1.0\n",
      "\u001b[36m(ClientAppActor pid=4144273)\u001b[0m Running epoch 2/10\n",
      "\u001b[36m(ClientAppActor pid=4144273)\u001b[0m Epoch 3: train loss 4.002860949089824e-06, accuracy 1.0\n",
      "\u001b[36m(ClientAppActor pid=4144273)\u001b[0m Running epoch 3/10\n",
      "\u001b[36m(ClientAppActor pid=4144273)\u001b[0m Epoch 4: train loss 1.399138024058438e-06, accuracy 1.0\n",
      "\u001b[36m(ClientAppActor pid=4144273)\u001b[0m Running epoch 4/10\n",
      "\u001b[36m(ClientAppActor pid=4144273)\u001b[0m Epoch 5: train loss 2.753065810990943e-05, accuracy 1.0\n",
      "\u001b[36m(ClientAppActor pid=4144273)\u001b[0m Running epoch 5/10\n",
      "\u001b[36m(ClientAppActor pid=4144273)\u001b[0m Epoch 6: train loss 8.406851795945458e-06, accuracy 1.0\n",
      "\u001b[36m(ClientAppActor pid=4144273)\u001b[0m Running epoch 6/10\n",
      "\u001b[36m(ClientAppActor pid=4144273)\u001b[0m Epoch 7: train loss 1.0477832750672478e-06, accuracy 1.0\n",
      "\u001b[36m(ClientAppActor pid=4144273)\u001b[0m Running epoch 7/10\n",
      "\u001b[36m(ClientAppActor pid=4144273)\u001b[0m Epoch 8: train loss 4.109468901964719e-06, accuracy 1.0\n",
      "\u001b[36m(ClientAppActor pid=4144273)\u001b[0m Running epoch 8/10\n",
      "\u001b[36m(ClientAppActor pid=4144273)\u001b[0m Epoch 9: train loss 1.3112938799359223e-06, accuracy 1.0\n",
      "\u001b[36m(ClientAppActor pid=4144273)\u001b[0m Running epoch 9/10\n",
      "\u001b[36m(ClientAppActor pid=4144273)\u001b[0m Epoch 10: train loss 1.2422809088787433e-06, accuracy 1.0\n",
      "\u001b[36m(ClientAppActor pid=4144273)\u001b[0m Training completed!\n",
      "\u001b[36m(ClientAppActor pid=4144273)\u001b[0m Length of params: 329\n"
     ]
    },
    {
     "name": "stderr",
     "output_type": "stream",
     "text": [
      "\u001b[36m(ClientAppActor pid=4144273)\u001b[0m \u001b[93mWARNING \u001b[0m:   Deprecation Warning: The `client_fn` function must return an instance of `Client`, but an instance of `NumpyClient` was returned. Please use `NumPyClient.to_client()` method to convert it to `Client`.\n"
     ]
    },
    {
     "name": "stdout",
     "output_type": "stream",
     "text": [
      "\u001b[36m(ClientAppActor pid=4144273)\u001b[0m [Client 2] fit, config: {'lr': 0.001}\n",
      "\u001b[36m(ClientAppActor pid=4144273)\u001b[0m Updating parameters 329\n",
      "\u001b[36m(ClientAppActor pid=4144273)\u001b[0m Setting parameters...\n",
      "\u001b[36m(ClientAppActor pid=4144273)\u001b[0m Client parameters set\n",
      "\u001b[36m(ClientAppActor pid=4144273)\u001b[0m Starting client training...\n",
      "\u001b[36m(ClientAppActor pid=4144273)\u001b[0m Running epoch 0/10\n",
      "\u001b[36m(ClientAppActor pid=4144273)\u001b[0m Epoch 1: train loss 0.02670807587470174, accuracy 1.0\n",
      "\u001b[36m(ClientAppActor pid=4144273)\u001b[0m Running epoch 1/10\n",
      "\u001b[36m(ClientAppActor pid=4144273)\u001b[0m Epoch 2: train loss 0.33487688240248603, accuracy 0.9473684210526315\n",
      "\u001b[36m(ClientAppActor pid=4144273)\u001b[0m Running epoch 2/10\n",
      "\u001b[36m(ClientAppActor pid=4144273)\u001b[0m Epoch 3: train loss 1.1945795330048944e-05, accuracy 1.0\n",
      "\u001b[36m(ClientAppActor pid=4144273)\u001b[0m Running epoch 3/10\n",
      "\u001b[36m(ClientAppActor pid=4144273)\u001b[0m Epoch 4: train loss 1.3746484623161928e-05, accuracy 1.0\n",
      "\u001b[36m(ClientAppActor pid=4144273)\u001b[0m Running epoch 4/10\n",
      "\u001b[36m(ClientAppActor pid=4144273)\u001b[0m Epoch 5: train loss 0.00010526422499280766, accuracy 1.0\n",
      "\u001b[36m(ClientAppActor pid=4144273)\u001b[0m Running epoch 5/10\n",
      "\u001b[36m(ClientAppActor pid=4144273)\u001b[0m Epoch 6: train loss 0.00018651284692264438, accuracy 1.0\n",
      "\u001b[36m(ClientAppActor pid=4144273)\u001b[0m Running epoch 6/10\n",
      "\u001b[36m(ClientAppActor pid=4144273)\u001b[0m Epoch 7: train loss 0.0026097113548434877, accuracy 1.0\n",
      "\u001b[36m(ClientAppActor pid=4144273)\u001b[0m Running epoch 7/10\n",
      "\u001b[36m(ClientAppActor pid=4144273)\u001b[0m Epoch 8: train loss 0.0034434883075989907, accuracy 1.0\n",
      "\u001b[36m(ClientAppActor pid=4144273)\u001b[0m Epoch 00008: reducing learning rate of group 0 to 1.0000e-05.\n",
      "\u001b[36m(ClientAppActor pid=4144273)\u001b[0m Running epoch 8/10\n",
      "\u001b[36m(ClientAppActor pid=4144273)\u001b[0m Epoch 9: train loss 0.00012874505467296235, accuracy 1.0\n",
      "\u001b[36m(ClientAppActor pid=4144273)\u001b[0m Running epoch 9/10\n",
      "\u001b[36m(ClientAppActor pid=4144273)\u001b[0m Epoch 10: train loss 0.0001630688156613982, accuracy 1.0\n",
      "\u001b[36m(ClientAppActor pid=4144273)\u001b[0m Training completed!\n",
      "\u001b[36m(ClientAppActor pid=4144273)\u001b[0m Length of params: 329\n"
     ]
    },
    {
     "name": "stderr",
     "output_type": "stream",
     "text": [
      "\u001b[36m(ClientAppActor pid=4144273)\u001b[0m \u001b[93mWARNING \u001b[0m:   Deprecation Warning: The `client_fn` function must return an instance of `Client`, but an instance of `NumpyClient` was returned. Please use `NumPyClient.to_client()` method to convert it to `Client`.\n"
     ]
    },
    {
     "name": "stdout",
     "output_type": "stream",
     "text": [
      "\u001b[36m(ClientAppActor pid=4144273)\u001b[0m [Client 8] fit, config: {'lr': 0.001}\n",
      "\u001b[36m(ClientAppActor pid=4144273)\u001b[0m Updating parameters 329\n",
      "\u001b[36m(ClientAppActor pid=4144273)\u001b[0m Setting parameters...\n",
      "\u001b[36m(ClientAppActor pid=4144273)\u001b[0m Client parameters set\n",
      "\u001b[36m(ClientAppActor pid=4144273)\u001b[0m Starting client training...\n",
      "\u001b[36m(ClientAppActor pid=4144273)\u001b[0m Running epoch 0/10\n",
      "\u001b[36m(ClientAppActor pid=4144273)\u001b[0m Epoch 1: train loss 0.00011409819470779774, accuracy 1.0\n",
      "\u001b[36m(ClientAppActor pid=4144273)\u001b[0m Running epoch 1/10\n",
      "\u001b[36m(ClientAppActor pid=4144273)\u001b[0m Epoch 2: train loss 0.004678034137070522, accuracy 1.0\n",
      "\u001b[36m(ClientAppActor pid=4144273)\u001b[0m Running epoch 2/10\n",
      "\u001b[36m(ClientAppActor pid=4144273)\u001b[0m Epoch 3: train loss 0.0007299772022421573, accuracy 1.0\n",
      "\u001b[36m(ClientAppActor pid=4144273)\u001b[0m Running epoch 3/10\n",
      "\u001b[36m(ClientAppActor pid=4144273)\u001b[0m Epoch 4: train loss 0.4378935349614985, accuracy 0.9473684210526315\n",
      "\u001b[36m(ClientAppActor pid=4144273)\u001b[0m Running epoch 4/10\n",
      "\u001b[36m(ClientAppActor pid=4144273)\u001b[0m Epoch 5: train loss 1.0452405388748862e-05, accuracy 1.0\n",
      "\u001b[36m(ClientAppActor pid=4144273)\u001b[0m Running epoch 5/10\n",
      "\u001b[36m(ClientAppActor pid=4144273)\u001b[0m Epoch 6: train loss 0.0017327466292637215, accuracy 1.0\n",
      "\u001b[36m(ClientAppActor pid=4144273)\u001b[0m Running epoch 6/10\n",
      "\u001b[36m(ClientAppActor pid=4144273)\u001b[0m Epoch 7: train loss 0.10374196980295605, accuracy 0.8947368421052632\n",
      "\u001b[36m(ClientAppActor pid=4144273)\u001b[0m Running epoch 7/10\n",
      "\u001b[36m(ClientAppActor pid=4144273)\u001b[0m Epoch 8: train loss 0.0006992812896465981, accuracy 1.0\n",
      "\u001b[36m(ClientAppActor pid=4144273)\u001b[0m Running epoch 8/10\n",
      "\u001b[36m(ClientAppActor pid=4144273)\u001b[0m Epoch 9: train loss 0.0134055416442846, accuracy 1.0\n",
      "\u001b[36m(ClientAppActor pid=4144273)\u001b[0m Running epoch 9/10\n",
      "\u001b[36m(ClientAppActor pid=4144273)\u001b[0m Epoch 10: train loss 7.534477605842862e-05, accuracy 1.0\n",
      "\u001b[36m(ClientAppActor pid=4144273)\u001b[0m Epoch 00010: reducing learning rate of group 0 to 1.0000e-05.\n",
      "\u001b[36m(ClientAppActor pid=4144273)\u001b[0m Training completed!\n",
      "\u001b[36m(ClientAppActor pid=4144273)\u001b[0m Length of params: 329\n"
     ]
    },
    {
     "name": "stderr",
     "output_type": "stream",
     "text": [
      "\u001b[36m(ClientAppActor pid=4144273)\u001b[0m \u001b[93mWARNING \u001b[0m:   Deprecation Warning: The `client_fn` function must return an instance of `Client`, but an instance of `NumpyClient` was returned. Please use `NumPyClient.to_client()` method to convert it to `Client`.\n"
     ]
    },
    {
     "name": "stdout",
     "output_type": "stream",
     "text": [
      "\u001b[36m(ClientAppActor pid=4144273)\u001b[0m [Client 3] fit, config: {'lr': 0.001}\n",
      "\u001b[36m(ClientAppActor pid=4144273)\u001b[0m Updating parameters 329\n",
      "\u001b[36m(ClientAppActor pid=4144273)\u001b[0m Setting parameters...\n",
      "\u001b[36m(ClientAppActor pid=4144273)\u001b[0m Client parameters set\n",
      "\u001b[36m(ClientAppActor pid=4144273)\u001b[0m Starting client training...\n",
      "\u001b[36m(ClientAppActor pid=4144273)\u001b[0m Running epoch 0/10\n",
      "\u001b[36m(ClientAppActor pid=4144273)\u001b[0m Epoch 1: train loss 4.684999217449546e-05, accuracy 1.0\n",
      "\u001b[36m(ClientAppActor pid=4144273)\u001b[0m Running epoch 1/10\n",
      "\u001b[36m(ClientAppActor pid=4144273)\u001b[0m Epoch 2: train loss 4.3889678157651555e-05, accuracy 1.0\n",
      "\u001b[36m(ClientAppActor pid=4144273)\u001b[0m Running epoch 2/10\n",
      "\u001b[36m(ClientAppActor pid=4144273)\u001b[0m Epoch 3: train loss 1.615408454151628e-05, accuracy 1.0\n",
      "\u001b[36m(ClientAppActor pid=4144273)\u001b[0m Running epoch 3/10\n",
      "\u001b[36m(ClientAppActor pid=4144273)\u001b[0m Epoch 4: train loss 9.592356754613942e-06, accuracy 1.0\n",
      "\u001b[36m(ClientAppActor pid=4144273)\u001b[0m Running epoch 4/10\n",
      "\u001b[36m(ClientAppActor pid=4144273)\u001b[0m Epoch 5: train loss 6.901559752230625e-07, accuracy 1.0\n",
      "\u001b[36m(ClientAppActor pid=4144273)\u001b[0m Running epoch 5/10\n",
      "\u001b[36m(ClientAppActor pid=4144273)\u001b[0m Epoch 6: train loss 6.951351857172708e-06, accuracy 1.0\n",
      "\u001b[36m(ClientAppActor pid=4144273)\u001b[0m Running epoch 6/10\n",
      "\u001b[36m(ClientAppActor pid=4144273)\u001b[0m Epoch 7: train loss 5.333035197078348e-07, accuracy 1.0\n",
      "\u001b[36m(ClientAppActor pid=4144273)\u001b[0m Running epoch 7/10\n",
      "\u001b[36m(ClientAppActor pid=4144273)\u001b[0m Epoch 8: train loss 2.3841847812970004e-07, accuracy 1.0\n",
      "\u001b[36m(ClientAppActor pid=4144273)\u001b[0m Running epoch 8/10\n",
      "\u001b[36m(ClientAppActor pid=4144273)\u001b[0m Epoch 9: train loss 5.6652915143211815e-06, accuracy 1.0\n",
      "\u001b[36m(ClientAppActor pid=4144273)\u001b[0m Running epoch 9/10\n",
      "\u001b[36m(ClientAppActor pid=4144273)\u001b[0m Epoch 10: train loss 1.336385748261723e-06, accuracy 1.0\n",
      "\u001b[36m(ClientAppActor pid=4144273)\u001b[0m Training completed!\n",
      "\u001b[36m(ClientAppActor pid=4144273)\u001b[0m Length of params: 329\n"
     ]
    },
    {
     "name": "stderr",
     "output_type": "stream",
     "text": [
      "\u001b[36m(ClientAppActor pid=4144273)\u001b[0m \u001b[93mWARNING \u001b[0m:   Deprecation Warning: The `client_fn` function must return an instance of `Client`, but an instance of `NumpyClient` was returned. Please use `NumPyClient.to_client()` method to convert it to `Client`.\n"
     ]
    },
    {
     "name": "stdout",
     "output_type": "stream",
     "text": [
      "\u001b[36m(ClientAppActor pid=4144273)\u001b[0m [Client 6] fit, config: {'lr': 0.003}\n",
      "\u001b[36m(ClientAppActor pid=4144273)\u001b[0m Updating parameters 329\n",
      "\u001b[36m(ClientAppActor pid=4144273)\u001b[0m Setting parameters...\n",
      "\u001b[36m(ClientAppActor pid=4144273)\u001b[0m Client parameters set\n",
      "\u001b[36m(ClientAppActor pid=4144273)\u001b[0m Starting client training...\n",
      "\u001b[36m(ClientAppActor pid=4144273)\u001b[0m Running epoch 0/10\n",
      "\u001b[36m(ClientAppActor pid=4144273)\u001b[0m Epoch 1: train loss 2.6229295671280278e-05, accuracy 1.0\n",
      "\u001b[36m(ClientAppActor pid=4144273)\u001b[0m Running epoch 1/10\n",
      "\u001b[36m(ClientAppActor pid=4144273)\u001b[0m Epoch 2: train loss 1.0948128515577226e-05, accuracy 1.0\n",
      "\u001b[36m(ClientAppActor pid=4144273)\u001b[0m Running epoch 2/10\n",
      "\u001b[36m(ClientAppActor pid=4144273)\u001b[0m Epoch 3: train loss 0.0001912077605562732, accuracy 1.0\n",
      "\u001b[36m(ClientAppActor pid=4144273)\u001b[0m Running epoch 3/10\n",
      "\u001b[36m(ClientAppActor pid=4144273)\u001b[0m Epoch 4: train loss 5.270292029691566e-07, accuracy 1.0\n",
      "\u001b[36m(ClientAppActor pid=4144273)\u001b[0m Running epoch 4/10\n",
      "\u001b[36m(ClientAppActor pid=4144273)\u001b[0m Epoch 5: train loss 5.243931844078313e-05, accuracy 1.0\n",
      "\u001b[36m(ClientAppActor pid=4144273)\u001b[0m Running epoch 5/10\n",
      "\u001b[36m(ClientAppActor pid=4144273)\u001b[0m Epoch 6: train loss 3.439487552800289e-05, accuracy 1.0\n",
      "\u001b[36m(ClientAppActor pid=4144273)\u001b[0m Running epoch 6/10\n",
      "\u001b[36m(ClientAppActor pid=4144273)\u001b[0m Epoch 7: train loss 0.0001163313801360968, accuracy 1.0\n",
      "\u001b[36m(ClientAppActor pid=4144273)\u001b[0m Running epoch 7/10\n",
      "\u001b[36m(ClientAppActor pid=4144273)\u001b[0m Epoch 8: train loss 0.0002003379997500145, accuracy 1.0\n",
      "\u001b[36m(ClientAppActor pid=4144273)\u001b[0m Running epoch 8/10\n",
      "\u001b[36m(ClientAppActor pid=4144273)\u001b[0m Epoch 9: train loss 3.701750900195054e-07, accuracy 1.0\n",
      "\u001b[36m(ClientAppActor pid=4144273)\u001b[0m Running epoch 9/10\n",
      "\u001b[36m(ClientAppActor pid=4144273)\u001b[0m Epoch 10: train loss 9.411256784412551e-08, accuracy 1.0\n",
      "\u001b[36m(ClientAppActor pid=4144273)\u001b[0m Training completed!\n",
      "\u001b[36m(ClientAppActor pid=4144273)\u001b[0m Length of params: 329\n"
     ]
    },
    {
     "name": "stderr",
     "output_type": "stream",
     "text": [
      "\u001b[36m(ClientAppActor pid=4144273)\u001b[0m \u001b[93mWARNING \u001b[0m:   Deprecation Warning: The `client_fn` function must return an instance of `Client`, but an instance of `NumpyClient` was returned. Please use `NumPyClient.to_client()` method to convert it to `Client`.\n"
     ]
    },
    {
     "name": "stdout",
     "output_type": "stream",
     "text": [
      "\u001b[36m(ClientAppActor pid=4144273)\u001b[0m [Client 9] fit, config: {'lr': 0.003}\n",
      "\u001b[36m(ClientAppActor pid=4144273)\u001b[0m Updating parameters 329\n",
      "\u001b[36m(ClientAppActor pid=4144273)\u001b[0m Setting parameters...\n",
      "\u001b[36m(ClientAppActor pid=4144273)\u001b[0m Client parameters set\n",
      "\u001b[36m(ClientAppActor pid=4144273)\u001b[0m Starting client training...\n",
      "\u001b[36m(ClientAppActor pid=4144273)\u001b[0m Running epoch 0/10\n",
      "\u001b[36m(ClientAppActor pid=4144273)\u001b[0m Epoch 1: train loss 0.001647960174450418, accuracy 1.0\n",
      "\u001b[36m(ClientAppActor pid=4144273)\u001b[0m Running epoch 1/10\n",
      "\u001b[36m(ClientAppActor pid=4144273)\u001b[0m Epoch 2: train loss 2.067934699880425e-05, accuracy 1.0\n",
      "\u001b[36m(ClientAppActor pid=4144273)\u001b[0m Running epoch 2/10\n",
      "\u001b[36m(ClientAppActor pid=4144273)\u001b[0m Epoch 3: train loss 0.0004998427897226066, accuracy 1.0\n",
      "\u001b[36m(ClientAppActor pid=4144273)\u001b[0m Running epoch 3/10\n",
      "\u001b[36m(ClientAppActor pid=4144273)\u001b[0m Epoch 4: train loss 1.4079589200264308e-05, accuracy 1.0\n",
      "\u001b[36m(ClientAppActor pid=4144273)\u001b[0m Running epoch 4/10\n",
      "\u001b[36m(ClientAppActor pid=4144273)\u001b[0m Epoch 5: train loss 3.495147429930512e-06, accuracy 1.0\n",
      "\u001b[36m(ClientAppActor pid=4144273)\u001b[0m Running epoch 5/10\n",
      "\u001b[36m(ClientAppActor pid=4144273)\u001b[0m Epoch 6: train loss 0.0011748023322934386, accuracy 1.0\n",
      "\u001b[36m(ClientAppActor pid=4144273)\u001b[0m Running epoch 6/10\n",
      "\u001b[36m(ClientAppActor pid=4144273)\u001b[0m Epoch 7: train loss 2.2285746454144827e-05, accuracy 1.0\n",
      "\u001b[36m(ClientAppActor pid=4144273)\u001b[0m Running epoch 7/10\n",
      "\u001b[36m(ClientAppActor pid=4144273)\u001b[0m Epoch 8: train loss 0.0016919882118236274, accuracy 1.0\n",
      "\u001b[36m(ClientAppActor pid=4144273)\u001b[0m Running epoch 8/10\n",
      "\u001b[36m(ClientAppActor pid=4144273)\u001b[0m Epoch 9: train loss 0.0007783790586563554, accuracy 1.0\n",
      "\u001b[36m(ClientAppActor pid=4144273)\u001b[0m Running epoch 9/10\n",
      "\u001b[36m(ClientAppActor pid=4144273)\u001b[0m Epoch 10: train loss 0.01617840646449622, accuracy 1.0\n",
      "\u001b[36m(ClientAppActor pid=4144273)\u001b[0m Epoch 00010: reducing learning rate of group 0 to 1.0000e-05.\n",
      "\u001b[36m(ClientAppActor pid=4144273)\u001b[0m Training completed!\n",
      "\u001b[36m(ClientAppActor pid=4144273)\u001b[0m Length of params: 329\n"
     ]
    },
    {
     "name": "stderr",
     "output_type": "stream",
     "text": [
      "\u001b[36m(ClientAppActor pid=4144273)\u001b[0m \u001b[93mWARNING \u001b[0m:   Deprecation Warning: The `client_fn` function must return an instance of `Client`, but an instance of `NumpyClient` was returned. Please use `NumPyClient.to_client()` method to convert it to `Client`.\n"
     ]
    },
    {
     "name": "stdout",
     "output_type": "stream",
     "text": [
      "\u001b[36m(ClientAppActor pid=4144273)\u001b[0m [Client 4] fit, config: {'lr': 0.003}\n",
      "\u001b[36m(ClientAppActor pid=4144273)\u001b[0m Updating parameters 329\n",
      "\u001b[36m(ClientAppActor pid=4144273)\u001b[0m Setting parameters...\n",
      "\u001b[36m(ClientAppActor pid=4144273)\u001b[0m Client parameters set\n",
      "\u001b[36m(ClientAppActor pid=4144273)\u001b[0m Starting client training...\n",
      "\u001b[36m(ClientAppActor pid=4144273)\u001b[0m Running epoch 0/10\n",
      "\u001b[36m(ClientAppActor pid=4144273)\u001b[0m Epoch 1: train loss 8.532129774757298e-05, accuracy 1.0\n",
      "\u001b[36m(ClientAppActor pid=4144273)\u001b[0m Running epoch 1/10\n",
      "\u001b[36m(ClientAppActor pid=4144273)\u001b[0m Epoch 2: train loss 0.00036413621924829816, accuracy 1.0\n",
      "\u001b[36m(ClientAppActor pid=4144273)\u001b[0m Running epoch 2/10\n",
      "\u001b[36m(ClientAppActor pid=4144273)\u001b[0m Epoch 3: train loss 4.893842838340023e-07, accuracy 1.0\n",
      "\u001b[36m(ClientAppActor pid=4144273)\u001b[0m Running epoch 3/10\n",
      "\u001b[36m(ClientAppActor pid=4144273)\u001b[0m Epoch 4: train loss 7.466226299201432e-07, accuracy 1.0\n",
      "\u001b[36m(ClientAppActor pid=4144273)\u001b[0m Running epoch 4/10\n",
      "\u001b[36m(ClientAppActor pid=4144273)\u001b[0m Epoch 5: train loss 1.0728803628903973e-06, accuracy 1.0\n",
      "\u001b[36m(ClientAppActor pid=4144273)\u001b[0m Running epoch 5/10\n",
      "\u001b[36m(ClientAppActor pid=4144273)\u001b[0m Epoch 6: train loss 0.0009114778281639845, accuracy 1.0\n",
      "\u001b[36m(ClientAppActor pid=4144273)\u001b[0m Running epoch 6/10\n",
      "\u001b[36m(ClientAppActor pid=4144273)\u001b[0m Epoch 7: train loss 1.1167926698506466e-06, accuracy 1.0\n",
      "\u001b[36m(ClientAppActor pid=4144273)\u001b[0m Running epoch 7/10\n",
      "\u001b[36m(ClientAppActor pid=4144273)\u001b[0m Epoch 8: train loss 6.274172760281784e-09, accuracy 1.0\n",
      "\u001b[36m(ClientAppActor pid=4144273)\u001b[0m Running epoch 8/10\n",
      "\u001b[36m(ClientAppActor pid=4144273)\u001b[0m Epoch 9: train loss 2.1959560495145667e-07, accuracy 1.0\n",
      "\u001b[36m(ClientAppActor pid=4144273)\u001b[0m Running epoch 9/10\n",
      "\u001b[36m(ClientAppActor pid=4144273)\u001b[0m Epoch 10: train loss 6.3994233833478865e-06, accuracy 1.0\n",
      "\u001b[36m(ClientAppActor pid=4144273)\u001b[0m Training completed!\n",
      "\u001b[36m(ClientAppActor pid=4144273)\u001b[0m Length of params: 329\n"
     ]
    },
    {
     "name": "stderr",
     "output_type": "stream",
     "text": [
      "\u001b[36m(ClientAppActor pid=4144273)\u001b[0m \u001b[93mWARNING \u001b[0m:   Deprecation Warning: The `client_fn` function must return an instance of `Client`, but an instance of `NumpyClient` was returned. Please use `NumPyClient.to_client()` method to convert it to `Client`.\n"
     ]
    },
    {
     "name": "stdout",
     "output_type": "stream",
     "text": [
      "\u001b[36m(ClientAppActor pid=4144273)\u001b[0m [Client 5] fit, config: {'lr': 0.003}\n",
      "\u001b[36m(ClientAppActor pid=4144273)\u001b[0m Updating parameters 329\n",
      "\u001b[36m(ClientAppActor pid=4144273)\u001b[0m Setting parameters...\n",
      "\u001b[36m(ClientAppActor pid=4144273)\u001b[0m Client parameters set\n",
      "\u001b[36m(ClientAppActor pid=4144273)\u001b[0m Starting client training...\n",
      "\u001b[36m(ClientAppActor pid=4144273)\u001b[0m Running epoch 0/10\n",
      "\u001b[36m(ClientAppActor pid=4144273)\u001b[0m Epoch 1: train loss 0.00010093809432395287, accuracy 1.0\n",
      "\u001b[36m(ClientAppActor pid=4144273)\u001b[0m Running epoch 1/10\n",
      "\u001b[36m(ClientAppActor pid=4144273)\u001b[0m Epoch 2: train loss 6.650617538788969e-07, accuracy 1.0\n",
      "\u001b[36m(ClientAppActor pid=4144273)\u001b[0m Running epoch 2/10\n",
      "\u001b[36m(ClientAppActor pid=4144273)\u001b[0m Epoch 3: train loss 4.166002686121685e-06, accuracy 1.0\n",
      "\u001b[36m(ClientAppActor pid=4144273)\u001b[0m Running epoch 3/10\n",
      "\u001b[36m(ClientAppActor pid=4144273)\u001b[0m Epoch 4: train loss 2.415536599935302e-06, accuracy 1.0\n",
      "\u001b[36m(ClientAppActor pid=4144273)\u001b[0m Running epoch 4/10\n",
      "\u001b[36m(ClientAppActor pid=4144273)\u001b[0m Epoch 5: train loss 3.751893879367392e-06, accuracy 1.0\n",
      "\u001b[36m(ClientAppActor pid=4144273)\u001b[0m Running epoch 5/10\n",
      "\u001b[36m(ClientAppActor pid=4144273)\u001b[0m Epoch 6: train loss 3.1998266193436633e-07, accuracy 1.0\n",
      "\u001b[36m(ClientAppActor pid=4144273)\u001b[0m Running epoch 6/10\n",
      "\u001b[36m(ClientAppActor pid=4144273)\u001b[0m Epoch 7: train loss 2.8923596609705497e-06, accuracy 1.0\n",
      "\u001b[36m(ClientAppActor pid=4144273)\u001b[0m Running epoch 7/10\n",
      "\u001b[36m(ClientAppActor pid=4144273)\u001b[0m Epoch 8: train loss 3.827243263362777e-07, accuracy 1.0\n",
      "\u001b[36m(ClientAppActor pid=4144273)\u001b[0m Running epoch 8/10\n",
      "\u001b[36m(ClientAppActor pid=4144273)\u001b[0m Epoch 9: train loss 5.144814258827816e-07, accuracy 1.0\n",
      "\u001b[36m(ClientAppActor pid=4144273)\u001b[0m Running epoch 9/10\n",
      "\u001b[36m(ClientAppActor pid=4144273)\u001b[0m Epoch 10: train loss 8.658339766791295e-07, accuracy 1.0\n",
      "\u001b[36m(ClientAppActor pid=4144273)\u001b[0m Training completed!\n",
      "\u001b[36m(ClientAppActor pid=4144273)\u001b[0m Length of params: 329\n"
     ]
    },
    {
     "name": "stderr",
     "output_type": "stream",
     "text": [
      "\u001b[36m(ClientAppActor pid=4144273)\u001b[0m \u001b[93mWARNING \u001b[0m:   Deprecation Warning: The `client_fn` function must return an instance of `Client`, but an instance of `NumpyClient` was returned. Please use `NumPyClient.to_client()` method to convert it to `Client`.\n"
     ]
    },
    {
     "name": "stdout",
     "output_type": "stream",
     "text": [
      "\u001b[36m(ClientAppActor pid=4144273)\u001b[0m [Client 7] fit, config: {'lr': 0.003}\n",
      "\u001b[36m(ClientAppActor pid=4144273)\u001b[0m Updating parameters 329\n",
      "\u001b[36m(ClientAppActor pid=4144273)\u001b[0m Setting parameters...\n",
      "\u001b[36m(ClientAppActor pid=4144273)\u001b[0m Client parameters set\n",
      "\u001b[36m(ClientAppActor pid=4144273)\u001b[0m Starting client training...\n",
      "\u001b[36m(ClientAppActor pid=4144273)\u001b[0m Running epoch 0/10\n",
      "\u001b[36m(ClientAppActor pid=4144273)\u001b[0m Epoch 1: train loss 1.3727202665330352e-05, accuracy 1.0\n",
      "\u001b[36m(ClientAppActor pid=4144273)\u001b[0m Running epoch 1/10\n",
      "\u001b[36m(ClientAppActor pid=4144273)\u001b[0m Epoch 2: train loss 2.8860839081876054e-06, accuracy 1.0\n",
      "\u001b[36m(ClientAppActor pid=4144273)\u001b[0m Running epoch 2/10\n",
      "\u001b[36m(ClientAppActor pid=4144273)\u001b[0m Epoch 3: train loss 8.21915100938273e-07, accuracy 1.0\n",
      "\u001b[36m(ClientAppActor pid=4144273)\u001b[0m Running epoch 3/10\n",
      "\u001b[36m(ClientAppActor pid=4144273)\u001b[0m Epoch 4: train loss 6.374222890240401e-06, accuracy 1.0\n",
      "\u001b[36m(ClientAppActor pid=4144273)\u001b[0m Running epoch 4/10\n",
      "\u001b[36m(ClientAppActor pid=4144273)\u001b[0m Epoch 5: train loss 6.769539469898614e-06, accuracy 1.0\n",
      "\u001b[36m(ClientAppActor pid=4144273)\u001b[0m Running epoch 5/10\n",
      "\u001b[36m(ClientAppActor pid=4144273)\u001b[0m Epoch 6: train loss 7.027063371891162e-07, accuracy 1.0\n",
      "\u001b[36m(ClientAppActor pid=4144273)\u001b[0m Running epoch 6/10\n",
      "\u001b[36m(ClientAppActor pid=4144273)\u001b[0m Epoch 7: train loss 6.650611544052098e-07, accuracy 1.0\n",
      "\u001b[36m(ClientAppActor pid=4144273)\u001b[0m Running epoch 7/10\n",
      "\u001b[36m(ClientAppActor pid=4144273)\u001b[0m Epoch 8: train loss 1.2553543599910641e-05, accuracy 1.0\n",
      "\u001b[36m(ClientAppActor pid=4144273)\u001b[0m Running epoch 8/10\n",
      "\u001b[36m(ClientAppActor pid=4144273)\u001b[0m Epoch 9: train loss 7.340773202869107e-07, accuracy 1.0\n",
      "\u001b[36m(ClientAppActor pid=4144273)\u001b[0m Running epoch 9/10\n",
      "\u001b[36m(ClientAppActor pid=4144273)\u001b[0m Epoch 10: train loss 1.2585141168729383e-05, accuracy 1.0\n",
      "\u001b[36m(ClientAppActor pid=4144273)\u001b[0m Training completed!\n",
      "\u001b[36m(ClientAppActor pid=4144273)\u001b[0m Length of params: 329\n"
     ]
    },
    {
     "name": "stderr",
     "output_type": "stream",
     "text": [
      "\u001b[92mINFO \u001b[0m:      aggregate_fit: received 10 results and 0 failures\n"
     ]
    },
    {
     "name": "stdout",
     "output_type": "stream",
     "text": [
      "Evaluating global model\n",
      "Updating parameters 329\n",
      "Setting parameters...\n",
      "Parameter set\n",
      "Starting client validation...\n",
      "Validataion accuracy = 0.8333333333333334\n",
      "Global evaluation round 6 loss = 0.08114009896914164 accuracy = 0.8333333333333334\n"
     ]
    },
    {
     "name": "stderr",
     "output_type": "stream",
     "text": [
      "\u001b[92mINFO \u001b[0m:      fit progress: (6, 0.08114009896914164, {}, 4308.468681596918)\n",
      "\u001b[92mINFO \u001b[0m:      configure_evaluate: strategy sampled 10 clients (out of 10)\n"
     ]
    },
    {
     "name": "stdout",
     "output_type": "stream",
     "text": [
      "Model saved at ./fl_checkpointsswintransformer_e10_c10_r10/fl_densenet_6.pth\n"
     ]
    },
    {
     "name": "stderr",
     "output_type": "stream",
     "text": [
      "\u001b[36m(ClientAppActor pid=4144273)\u001b[0m \u001b[93mWARNING \u001b[0m:   Deprecation Warning: The `client_fn` function must return an instance of `Client`, but an instance of `NumpyClient` was returned. Please use `NumPyClient.to_client()` method to convert it to `Client`.\n"
     ]
    },
    {
     "name": "stdout",
     "output_type": "stream",
     "text": [
      "\u001b[36m(ClientAppActor pid=4144273)\u001b[0m [Client 2] evaluate, config: {}\n",
      "\u001b[36m(ClientAppActor pid=4144273)\u001b[0m Updating parameters 329\n",
      "\u001b[36m(ClientAppActor pid=4144273)\u001b[0m Setting parameters...\n",
      "\u001b[36m(ClientAppActor pid=4144273)\u001b[0m Starting client validation...\n",
      "\u001b[36m(ClientAppActor pid=4144273)\u001b[0m Validataion accuracy = 0.8333333333333334\n",
      "\u001b[36m(ClientAppActor pid=4144273)\u001b[0m Evaluation loss = 0.08114009896914164 accuracy = 0.8333333333333334\n"
     ]
    },
    {
     "name": "stderr",
     "output_type": "stream",
     "text": [
      "\u001b[36m(ClientAppActor pid=4144273)\u001b[0m \u001b[93mWARNING \u001b[0m:   Deprecation Warning: The `client_fn` function must return an instance of `Client`, but an instance of `NumpyClient` was returned. Please use `NumPyClient.to_client()` method to convert it to `Client`.\n"
     ]
    },
    {
     "name": "stdout",
     "output_type": "stream",
     "text": [
      "\u001b[36m(ClientAppActor pid=4144273)\u001b[0m [Client 6] evaluate, config: {}\n",
      "\u001b[36m(ClientAppActor pid=4144273)\u001b[0m Updating parameters 329\n",
      "\u001b[36m(ClientAppActor pid=4144273)\u001b[0m Setting parameters...\n",
      "\u001b[36m(ClientAppActor pid=4144273)\u001b[0m Starting client validation...\n",
      "\u001b[36m(ClientAppActor pid=4144273)\u001b[0m Validataion accuracy = 0.8333333333333334\n",
      "\u001b[36m(ClientAppActor pid=4144273)\u001b[0m Evaluation loss = 0.08114009896914164 accuracy = 0.8333333333333334\n"
     ]
    },
    {
     "name": "stderr",
     "output_type": "stream",
     "text": [
      "\u001b[36m(ClientAppActor pid=4144273)\u001b[0m \u001b[93mWARNING \u001b[0m:   Deprecation Warning: The `client_fn` function must return an instance of `Client`, but an instance of `NumpyClient` was returned. Please use `NumPyClient.to_client()` method to convert it to `Client`.\n"
     ]
    },
    {
     "name": "stdout",
     "output_type": "stream",
     "text": [
      "\u001b[36m(ClientAppActor pid=4144273)\u001b[0m [Client 9] evaluate, config: {}\n",
      "\u001b[36m(ClientAppActor pid=4144273)\u001b[0m Updating parameters 329\n",
      "\u001b[36m(ClientAppActor pid=4144273)\u001b[0m Setting parameters...\n",
      "\u001b[36m(ClientAppActor pid=4144273)\u001b[0m Starting client validation...\n",
      "\u001b[36m(ClientAppActor pid=4144273)\u001b[0m Validataion accuracy = 0.8333333333333334\n",
      "\u001b[36m(ClientAppActor pid=4144273)\u001b[0m Evaluation loss = 0.08114009896914164 accuracy = 0.8333333333333334\n"
     ]
    },
    {
     "name": "stderr",
     "output_type": "stream",
     "text": [
      "\u001b[36m(ClientAppActor pid=4144273)\u001b[0m \u001b[93mWARNING \u001b[0m:   Deprecation Warning: The `client_fn` function must return an instance of `Client`, but an instance of `NumpyClient` was returned. Please use `NumPyClient.to_client()` method to convert it to `Client`.\n"
     ]
    },
    {
     "name": "stdout",
     "output_type": "stream",
     "text": [
      "\u001b[36m(ClientAppActor pid=4144273)\u001b[0m [Client 3] evaluate, config: {}\n",
      "\u001b[36m(ClientAppActor pid=4144273)\u001b[0m Updating parameters 329\n",
      "\u001b[36m(ClientAppActor pid=4144273)\u001b[0m Setting parameters...\n",
      "\u001b[36m(ClientAppActor pid=4144273)\u001b[0m Starting client validation...\n",
      "\u001b[36m(ClientAppActor pid=4144273)\u001b[0m Validataion accuracy = 0.8333333333333334\n",
      "\u001b[36m(ClientAppActor pid=4144273)\u001b[0m Evaluation loss = 0.08114009896914164 accuracy = 0.8333333333333334\n"
     ]
    },
    {
     "name": "stderr",
     "output_type": "stream",
     "text": [
      "\u001b[36m(ClientAppActor pid=4144273)\u001b[0m \u001b[93mWARNING \u001b[0m:   Deprecation Warning: The `client_fn` function must return an instance of `Client`, but an instance of `NumpyClient` was returned. Please use `NumPyClient.to_client()` method to convert it to `Client`.\n"
     ]
    },
    {
     "name": "stdout",
     "output_type": "stream",
     "text": [
      "\u001b[36m(ClientAppActor pid=4144273)\u001b[0m [Client 4] evaluate, config: {}\n",
      "\u001b[36m(ClientAppActor pid=4144273)\u001b[0m Updating parameters 329\n",
      "\u001b[36m(ClientAppActor pid=4144273)\u001b[0m Setting parameters...\n",
      "\u001b[36m(ClientAppActor pid=4144273)\u001b[0m Starting client validation...\n",
      "\u001b[36m(ClientAppActor pid=4144273)\u001b[0m Validataion accuracy = 0.8333333333333334\n",
      "\u001b[36m(ClientAppActor pid=4144273)\u001b[0m Evaluation loss = 0.08114009896914164 accuracy = 0.8333333333333334\n"
     ]
    },
    {
     "name": "stderr",
     "output_type": "stream",
     "text": [
      "\u001b[36m(ClientAppActor pid=4144273)\u001b[0m \u001b[93mWARNING \u001b[0m:   Deprecation Warning: The `client_fn` function must return an instance of `Client`, but an instance of `NumpyClient` was returned. Please use `NumPyClient.to_client()` method to convert it to `Client`.\n"
     ]
    },
    {
     "name": "stdout",
     "output_type": "stream",
     "text": [
      "\u001b[36m(ClientAppActor pid=4144273)\u001b[0m [Client 8] evaluate, config: {}\n",
      "\u001b[36m(ClientAppActor pid=4144273)\u001b[0m Updating parameters 329\n",
      "\u001b[36m(ClientAppActor pid=4144273)\u001b[0m Setting parameters...\n",
      "\u001b[36m(ClientAppActor pid=4144273)\u001b[0m Starting client validation...\n",
      "\u001b[36m(ClientAppActor pid=4144273)\u001b[0m Validataion accuracy = 0.8333333333333334\n",
      "\u001b[36m(ClientAppActor pid=4144273)\u001b[0m Evaluation loss = 0.08114009896914164 accuracy = 0.8333333333333334\n"
     ]
    },
    {
     "name": "stderr",
     "output_type": "stream",
     "text": [
      "\u001b[36m(ClientAppActor pid=4144273)\u001b[0m \u001b[93mWARNING \u001b[0m:   Deprecation Warning: The `client_fn` function must return an instance of `Client`, but an instance of `NumpyClient` was returned. Please use `NumPyClient.to_client()` method to convert it to `Client`.\n"
     ]
    },
    {
     "name": "stdout",
     "output_type": "stream",
     "text": [
      "\u001b[36m(ClientAppActor pid=4144273)\u001b[0m [Client 7] evaluate, config: {}\n",
      "\u001b[36m(ClientAppActor pid=4144273)\u001b[0m Updating parameters 329\n",
      "\u001b[36m(ClientAppActor pid=4144273)\u001b[0m Setting parameters...\n",
      "\u001b[36m(ClientAppActor pid=4144273)\u001b[0m Starting client validation...\n",
      "\u001b[36m(ClientAppActor pid=4144273)\u001b[0m Validataion accuracy = 0.8333333333333334\n",
      "\u001b[36m(ClientAppActor pid=4144273)\u001b[0m Evaluation loss = 0.08114009896914164 accuracy = 0.8333333333333334\n"
     ]
    },
    {
     "name": "stderr",
     "output_type": "stream",
     "text": [
      "\u001b[36m(ClientAppActor pid=4144273)\u001b[0m \u001b[93mWARNING \u001b[0m:   Deprecation Warning: The `client_fn` function must return an instance of `Client`, but an instance of `NumpyClient` was returned. Please use `NumPyClient.to_client()` method to convert it to `Client`.\n"
     ]
    },
    {
     "name": "stdout",
     "output_type": "stream",
     "text": [
      "\u001b[36m(ClientAppActor pid=4144273)\u001b[0m [Client 5] evaluate, config: {}\n",
      "\u001b[36m(ClientAppActor pid=4144273)\u001b[0m Updating parameters 329\n",
      "\u001b[36m(ClientAppActor pid=4144273)\u001b[0m Setting parameters...\n",
      "\u001b[36m(ClientAppActor pid=4144273)\u001b[0m Starting client validation...\n",
      "\u001b[36m(ClientAppActor pid=4144273)\u001b[0m Validataion accuracy = 0.8333333333333334\n",
      "\u001b[36m(ClientAppActor pid=4144273)\u001b[0m Evaluation loss = 0.08114009896914164 accuracy = 0.8333333333333334\n"
     ]
    },
    {
     "name": "stderr",
     "output_type": "stream",
     "text": [
      "\u001b[36m(ClientAppActor pid=4144273)\u001b[0m \u001b[93mWARNING \u001b[0m:   Deprecation Warning: The `client_fn` function must return an instance of `Client`, but an instance of `NumpyClient` was returned. Please use `NumPyClient.to_client()` method to convert it to `Client`.\n"
     ]
    },
    {
     "name": "stdout",
     "output_type": "stream",
     "text": [
      "\u001b[36m(ClientAppActor pid=4144273)\u001b[0m [Client 0] evaluate, config: {}\n",
      "\u001b[36m(ClientAppActor pid=4144273)\u001b[0m Updating parameters 329\n",
      "\u001b[36m(ClientAppActor pid=4144273)\u001b[0m Setting parameters...\n",
      "\u001b[36m(ClientAppActor pid=4144273)\u001b[0m Starting client validation...\n",
      "\u001b[36m(ClientAppActor pid=4144273)\u001b[0m Validataion accuracy = 0.8333333333333334\n",
      "\u001b[36m(ClientAppActor pid=4144273)\u001b[0m Evaluation loss = 0.08114009896914164 accuracy = 0.8333333333333334\n"
     ]
    },
    {
     "name": "stderr",
     "output_type": "stream",
     "text": [
      "\u001b[36m(ClientAppActor pid=4144273)\u001b[0m \u001b[93mWARNING \u001b[0m:   Deprecation Warning: The `client_fn` function must return an instance of `Client`, but an instance of `NumpyClient` was returned. Please use `NumPyClient.to_client()` method to convert it to `Client`.\n"
     ]
    },
    {
     "name": "stdout",
     "output_type": "stream",
     "text": [
      "\u001b[36m(ClientAppActor pid=4144273)\u001b[0m [Client 1] evaluate, config: {}\n",
      "\u001b[36m(ClientAppActor pid=4144273)\u001b[0m Updating parameters 329\n",
      "\u001b[36m(ClientAppActor pid=4144273)\u001b[0m Setting parameters...\n",
      "\u001b[36m(ClientAppActor pid=4144273)\u001b[0m Starting client validation...\n"
     ]
    },
    {
     "name": "stderr",
     "output_type": "stream",
     "text": [
      "\u001b[92mINFO \u001b[0m:      aggregate_evaluate: received 10 results and 0 failures\n",
      "\u001b[92mINFO \u001b[0m:      \n",
      "\u001b[92mINFO \u001b[0m:      [ROUND 7]\n",
      "\u001b[92mINFO \u001b[0m:      configure_fit: strategy sampled 10 clients (out of 10)\n"
     ]
    },
    {
     "name": "stdout",
     "output_type": "stream",
     "text": [
      "Starting configure fit function...\n",
      "Sample size = 10 Min Num Clients = 2 Clients = [<flwr.simulation.ray_transport.ray_client_proxy.RayActorClientProxy object at 0x155491b76690>, <flwr.simulation.ray_transport.ray_client_proxy.RayActorClientProxy object at 0x155491b776d0>, <flwr.simulation.ray_transport.ray_client_proxy.RayActorClientProxy object at 0x155491b76fd0>, <flwr.simulation.ray_transport.ray_client_proxy.RayActorClientProxy object at 0x155314acf550>, <flwr.simulation.ray_transport.ray_client_proxy.RayActorClientProxy object at 0x155491b77650>, <flwr.simulation.ray_transport.ray_client_proxy.RayActorClientProxy object at 0x155491b77750>, <flwr.simulation.ray_transport.ray_client_proxy.RayActorClientProxy object at 0x155491b771d0>, <flwr.simulation.ray_transport.ray_client_proxy.RayActorClientProxy object at 0x155491b77150>, <flwr.simulation.ray_transport.ray_client_proxy.RayActorClientProxy object at 0x155491b77310>, <flwr.simulation.ray_transport.ray_client_proxy.RayActorClientProxy object at 0x155491b775d0>]\n",
      "Number of clients = 10\n",
      "Fit Configurations\n",
      "\u001b[36m(ClientAppActor pid=4144273)\u001b[0m Validataion accuracy = 0.8333333333333334\n",
      "\u001b[36m(ClientAppActor pid=4144273)\u001b[0m Evaluation loss = 0.08114009896914164 accuracy = 0.8333333333333334\n"
     ]
    },
    {
     "name": "stderr",
     "output_type": "stream",
     "text": [
      "\u001b[36m(ClientAppActor pid=4144273)\u001b[0m \u001b[93mWARNING \u001b[0m:   Deprecation Warning: The `client_fn` function must return an instance of `Client`, but an instance of `NumpyClient` was returned. Please use `NumPyClient.to_client()` method to convert it to `Client`.\n"
     ]
    },
    {
     "name": "stdout",
     "output_type": "stream",
     "text": [
      "\u001b[36m(ClientAppActor pid=4144273)\u001b[0m [Client 5] fit, config: {'lr': 0.001}\n",
      "\u001b[36m(ClientAppActor pid=4144273)\u001b[0m Updating parameters 329\n",
      "\u001b[36m(ClientAppActor pid=4144273)\u001b[0m Setting parameters...\n",
      "\u001b[36m(ClientAppActor pid=4144273)\u001b[0m Client parameters set\n",
      "\u001b[36m(ClientAppActor pid=4144273)\u001b[0m Starting client training...\n",
      "\u001b[36m(ClientAppActor pid=4144273)\u001b[0m Running epoch 0/10\n",
      "\u001b[36m(ClientAppActor pid=4144273)\u001b[0m Epoch 1: train loss 3.3127278488552147e-06, accuracy 1.0\n",
      "\u001b[36m(ClientAppActor pid=4144273)\u001b[0m Running epoch 1/10\n",
      "\u001b[36m(ClientAppActor pid=4144273)\u001b[0m Epoch 2: train loss 2.023676795279004e-05, accuracy 1.0\n",
      "\u001b[36m(ClientAppActor pid=4144273)\u001b[0m Running epoch 2/10\n",
      "\u001b[36m(ClientAppActor pid=4144273)\u001b[0m Epoch 3: train loss 3.9527254246326935e-07, accuracy 1.0\n",
      "\u001b[36m(ClientAppActor pid=4144273)\u001b[0m Running epoch 3/10\n",
      "\u001b[36m(ClientAppActor pid=4144273)\u001b[0m Epoch 4: train loss 6.211420123978123e-07, accuracy 1.0\n",
      "\u001b[36m(ClientAppActor pid=4144273)\u001b[0m Running epoch 4/10\n",
      "\u001b[36m(ClientAppActor pid=4144273)\u001b[0m Epoch 5: train loss 1.2987420542518329e-06, accuracy 1.0\n",
      "\u001b[36m(ClientAppActor pid=4144273)\u001b[0m Running epoch 5/10\n",
      "\u001b[36m(ClientAppActor pid=4144273)\u001b[0m Epoch 6: train loss 2.6350986971872195e-06, accuracy 1.0\n",
      "\u001b[36m(ClientAppActor pid=4144273)\u001b[0m Running epoch 6/10\n",
      "\u001b[36m(ClientAppActor pid=4144273)\u001b[0m Epoch 7: train loss 4.893837329763971e-07, accuracy 1.0\n",
      "\u001b[36m(ClientAppActor pid=4144273)\u001b[0m Running epoch 7/10\n",
      "\u001b[36m(ClientAppActor pid=4144273)\u001b[0m Epoch 8: train loss 1.5810823254612746e-06, accuracy 1.0\n",
      "\u001b[36m(ClientAppActor pid=4144273)\u001b[0m Epoch 00008: reducing learning rate of group 0 to 1.0000e-05.\n",
      "\u001b[36m(ClientAppActor pid=4144273)\u001b[0m Running epoch 8/10\n",
      "\u001b[36m(ClientAppActor pid=4144273)\u001b[0m Epoch 9: train loss 5.897708984105664e-07, accuracy 1.0\n",
      "\u001b[36m(ClientAppActor pid=4144273)\u001b[0m Running epoch 9/10\n",
      "\u001b[36m(ClientAppActor pid=4144273)\u001b[0m Epoch 10: train loss 3.3880512187591337e-07, accuracy 1.0\n",
      "\u001b[36m(ClientAppActor pid=4144273)\u001b[0m Training completed!\n",
      "\u001b[36m(ClientAppActor pid=4144273)\u001b[0m Length of params: 329\n"
     ]
    },
    {
     "name": "stderr",
     "output_type": "stream",
     "text": [
      "\u001b[36m(ClientAppActor pid=4144273)\u001b[0m \u001b[93mWARNING \u001b[0m:   Deprecation Warning: The `client_fn` function must return an instance of `Client`, but an instance of `NumpyClient` was returned. Please use `NumPyClient.to_client()` method to convert it to `Client`.\n"
     ]
    },
    {
     "name": "stdout",
     "output_type": "stream",
     "text": [
      "\u001b[36m(ClientAppActor pid=4144273)\u001b[0m [Client 8] fit, config: {'lr': 0.001}\n",
      "\u001b[36m(ClientAppActor pid=4144273)\u001b[0m Updating parameters 329\n",
      "\u001b[36m(ClientAppActor pid=4144273)\u001b[0m Setting parameters...\n",
      "\u001b[36m(ClientAppActor pid=4144273)\u001b[0m Client parameters set\n",
      "\u001b[36m(ClientAppActor pid=4144273)\u001b[0m Starting client training...\n",
      "\u001b[36m(ClientAppActor pid=4144273)\u001b[0m Running epoch 0/10\n",
      "\u001b[36m(ClientAppActor pid=4144273)\u001b[0m Epoch 1: train loss 3.007728925072833e-05, accuracy 1.0\n",
      "\u001b[36m(ClientAppActor pid=4144273)\u001b[0m Running epoch 1/10\n",
      "\u001b[36m(ClientAppActor pid=4144273)\u001b[0m Epoch 2: train loss 3.513534045695403e-07, accuracy 1.0\n",
      "\u001b[36m(ClientAppActor pid=4144273)\u001b[0m Running epoch 2/10\n",
      "\u001b[36m(ClientAppActor pid=4144273)\u001b[0m Epoch 3: train loss 2.7342668832524825e-05, accuracy 1.0\n",
      "\u001b[36m(ClientAppActor pid=4144273)\u001b[0m Running epoch 3/10\n",
      "\u001b[36m(ClientAppActor pid=4144273)\u001b[0m Epoch 4: train loss 1.524614393283149e-06, accuracy 1.0\n",
      "\u001b[36m(ClientAppActor pid=4144273)\u001b[0m Running epoch 4/10\n",
      "\u001b[36m(ClientAppActor pid=4144273)\u001b[0m Epoch 5: train loss 1.32383616415298e-06, accuracy 1.0\n",
      "\u001b[36m(ClientAppActor pid=4144273)\u001b[0m Running epoch 5/10\n",
      "\u001b[36m(ClientAppActor pid=4144273)\u001b[0m Epoch 6: train loss 4.655345061397192e-06, accuracy 1.0\n",
      "\u001b[36m(ClientAppActor pid=4144273)\u001b[0m Running epoch 6/10\n",
      "\u001b[36m(ClientAppActor pid=4144273)\u001b[0m Epoch 7: train loss 2.1332181476234262e-07, accuracy 1.0\n",
      "\u001b[36m(ClientAppActor pid=4144273)\u001b[0m Running epoch 7/10\n",
      "\u001b[36m(ClientAppActor pid=4144273)\u001b[0m Epoch 8: train loss 2.296315391217113e-06, accuracy 1.0\n",
      "\u001b[36m(ClientAppActor pid=4144273)\u001b[0m Running epoch 8/10\n",
      "\u001b[36m(ClientAppActor pid=4144273)\u001b[0m Epoch 9: train loss 6.261444456724444e-06, accuracy 1.0\n",
      "\u001b[36m(ClientAppActor pid=4144273)\u001b[0m Running epoch 9/10\n",
      "\u001b[36m(ClientAppActor pid=4144273)\u001b[0m Epoch 10: train loss 2.44061045899451e-06, accuracy 1.0\n",
      "\u001b[36m(ClientAppActor pid=4144273)\u001b[0m Training completed!\n",
      "\u001b[36m(ClientAppActor pid=4144273)\u001b[0m Length of params: 329\n"
     ]
    },
    {
     "name": "stderr",
     "output_type": "stream",
     "text": [
      "\u001b[36m(ClientAppActor pid=4144273)\u001b[0m \u001b[93mWARNING \u001b[0m:   Deprecation Warning: The `client_fn` function must return an instance of `Client`, but an instance of `NumpyClient` was returned. Please use `NumPyClient.to_client()` method to convert it to `Client`.\n"
     ]
    },
    {
     "name": "stdout",
     "output_type": "stream",
     "text": [
      "\u001b[36m(ClientAppActor pid=4144273)\u001b[0m [Client 1] fit, config: {'lr': 0.001}\n",
      "\u001b[36m(ClientAppActor pid=4144273)\u001b[0m Updating parameters 329\n",
      "\u001b[36m(ClientAppActor pid=4144273)\u001b[0m Setting parameters...\n",
      "\u001b[36m(ClientAppActor pid=4144273)\u001b[0m Client parameters set\n",
      "\u001b[36m(ClientAppActor pid=4144273)\u001b[0m Starting client training...\n",
      "\u001b[36m(ClientAppActor pid=4144273)\u001b[0m Running epoch 0/10\n",
      "\u001b[36m(ClientAppActor pid=4144273)\u001b[0m Epoch 1: train loss 2.447659713461211e-05, accuracy 1.0\n",
      "\u001b[36m(ClientAppActor pid=4144273)\u001b[0m Running epoch 1/10\n",
      "\u001b[36m(ClientAppActor pid=4144273)\u001b[0m Epoch 2: train loss 3.030367736300832e-06, accuracy 1.0\n",
      "\u001b[36m(ClientAppActor pid=4144273)\u001b[0m Running epoch 2/10\n",
      "\u001b[36m(ClientAppActor pid=4144273)\u001b[0m Epoch 3: train loss 3.275040248539833e-06, accuracy 1.0\n",
      "\u001b[36m(ClientAppActor pid=4144273)\u001b[0m Running epoch 3/10\n",
      "\u001b[36m(ClientAppActor pid=4144273)\u001b[0m Epoch 4: train loss 1.4806978948686982e-06, accuracy 1.0\n",
      "\u001b[36m(ClientAppActor pid=4144273)\u001b[0m Running epoch 4/10\n",
      "\u001b[36m(ClientAppActor pid=4144273)\u001b[0m Epoch 5: train loss 6.041876314249724e-06, accuracy 1.0\n",
      "\u001b[36m(ClientAppActor pid=4144273)\u001b[0m Running epoch 5/10\n",
      "\u001b[36m(ClientAppActor pid=4144273)\u001b[0m Epoch 6: train loss 2.3402419688672557e-06, accuracy 1.0\n",
      "\u001b[36m(ClientAppActor pid=4144273)\u001b[0m Running epoch 6/10\n",
      "\u001b[36m(ClientAppActor pid=4144273)\u001b[0m Epoch 7: train loss 1.7818536099711262e-06, accuracy 1.0\n",
      "\u001b[36m(ClientAppActor pid=4144273)\u001b[0m Running epoch 7/10\n",
      "\u001b[36m(ClientAppActor pid=4144273)\u001b[0m Epoch 8: train loss 1.3677545017512067e-06, accuracy 1.0\n",
      "\u001b[36m(ClientAppActor pid=4144273)\u001b[0m Running epoch 8/10\n",
      "\u001b[36m(ClientAppActor pid=4144273)\u001b[0m Epoch 9: train loss 2.0704567275156717e-06, accuracy 1.0\n",
      "\u001b[36m(ClientAppActor pid=4144273)\u001b[0m Running epoch 9/10\n",
      "\u001b[36m(ClientAppActor pid=4144273)\u001b[0m Epoch 10: train loss 7.654456624095474e-07, accuracy 1.0\n",
      "\u001b[36m(ClientAppActor pid=4144273)\u001b[0m Training completed!\n",
      "\u001b[36m(ClientAppActor pid=4144273)\u001b[0m Length of params: 329\n"
     ]
    },
    {
     "name": "stderr",
     "output_type": "stream",
     "text": [
      "\u001b[36m(ClientAppActor pid=4144273)\u001b[0m \u001b[93mWARNING \u001b[0m:   Deprecation Warning: The `client_fn` function must return an instance of `Client`, but an instance of `NumpyClient` was returned. Please use `NumPyClient.to_client()` method to convert it to `Client`.\n"
     ]
    },
    {
     "name": "stdout",
     "output_type": "stream",
     "text": [
      "\u001b[36m(ClientAppActor pid=4144273)\u001b[0m [Client 0] fit, config: {'lr': 0.001}\n",
      "\u001b[36m(ClientAppActor pid=4144273)\u001b[0m Updating parameters 329\n",
      "\u001b[36m(ClientAppActor pid=4144273)\u001b[0m Setting parameters...\n",
      "\u001b[36m(ClientAppActor pid=4144273)\u001b[0m Client parameters set\n",
      "\u001b[36m(ClientAppActor pid=4144273)\u001b[0m Starting client training...\n",
      "\u001b[36m(ClientAppActor pid=4144273)\u001b[0m Running epoch 0/10\n",
      "\u001b[36m(ClientAppActor pid=4144273)\u001b[0m Epoch 1: train loss 5.734515717018726e-06, accuracy 1.0\n",
      "\u001b[36m(ClientAppActor pid=4144273)\u001b[0m Running epoch 1/10\n",
      "\u001b[36m(ClientAppActor pid=4144273)\u001b[0m Epoch 2: train loss 4.4546567024601817e-07, accuracy 1.0\n",
      "\u001b[36m(ClientAppActor pid=4144273)\u001b[0m Running epoch 2/10\n",
      "\u001b[36m(ClientAppActor pid=4144273)\u001b[0m Epoch 3: train loss 1.5559855312044659e-06, accuracy 1.0\n",
      "\u001b[36m(ClientAppActor pid=4144273)\u001b[0m Running epoch 3/10\n",
      "\u001b[36m(ClientAppActor pid=4144273)\u001b[0m Epoch 4: train loss 0.00024300585745943467, accuracy 1.0\n",
      "\u001b[36m(ClientAppActor pid=4144273)\u001b[0m Running epoch 4/10\n",
      "\u001b[36m(ClientAppActor pid=4144273)\u001b[0m Epoch 5: train loss 4.3819459326761334e-05, accuracy 1.0\n",
      "\u001b[36m(ClientAppActor pid=4144273)\u001b[0m Running epoch 5/10\n",
      "\u001b[36m(ClientAppActor pid=4144273)\u001b[0m Epoch 6: train loss 1.2548340210191542e-07, accuracy 1.0\n",
      "\u001b[36m(ClientAppActor pid=4144273)\u001b[0m Running epoch 6/10\n",
      "\u001b[36m(ClientAppActor pid=4144273)\u001b[0m Epoch 7: train loss 1.7567670415461946e-07, accuracy 1.0\n",
      "\u001b[36m(ClientAppActor pid=4144273)\u001b[0m Running epoch 7/10\n",
      "\u001b[36m(ClientAppActor pid=4144273)\u001b[0m Epoch 8: train loss 9.160241078413827e-07, accuracy 1.0\n",
      "\u001b[36m(ClientAppActor pid=4144273)\u001b[0m Running epoch 8/10\n",
      "\u001b[36m(ClientAppActor pid=4144273)\u001b[0m Epoch 9: train loss 2.760631867198227e-07, accuracy 1.0\n",
      "\u001b[36m(ClientAppActor pid=4144273)\u001b[0m Running epoch 9/10\n",
      "\u001b[36m(ClientAppActor pid=4144273)\u001b[0m Epoch 10: train loss 2.1332159935570274e-07, accuracy 1.0\n",
      "\u001b[36m(ClientAppActor pid=4144273)\u001b[0m Training completed!\n",
      "\u001b[36m(ClientAppActor pid=4144273)\u001b[0m Length of params: 329\n"
     ]
    },
    {
     "name": "stderr",
     "output_type": "stream",
     "text": [
      "\u001b[36m(ClientAppActor pid=4144273)\u001b[0m \u001b[93mWARNING \u001b[0m:   Deprecation Warning: The `client_fn` function must return an instance of `Client`, but an instance of `NumpyClient` was returned. Please use `NumPyClient.to_client()` method to convert it to `Client`.\n"
     ]
    },
    {
     "name": "stdout",
     "output_type": "stream",
     "text": [
      "\u001b[36m(ClientAppActor pid=4144273)\u001b[0m [Client 7] fit, config: {'lr': 0.001}\n",
      "\u001b[36m(ClientAppActor pid=4144273)\u001b[0m Updating parameters 329\n",
      "\u001b[36m(ClientAppActor pid=4144273)\u001b[0m Setting parameters...\n",
      "\u001b[36m(ClientAppActor pid=4144273)\u001b[0m Client parameters set\n",
      "\u001b[36m(ClientAppActor pid=4144273)\u001b[0m Starting client training...\n",
      "\u001b[36m(ClientAppActor pid=4144273)\u001b[0m Running epoch 0/10\n",
      "\u001b[36m(ClientAppActor pid=4144273)\u001b[0m Epoch 1: train loss 1.68145312560036e-06, accuracy 1.0\n",
      "\u001b[36m(ClientAppActor pid=4144273)\u001b[0m Running epoch 1/10\n",
      "\u001b[36m(ClientAppActor pid=4144273)\u001b[0m Epoch 2: train loss 1.0759319949508944e-05, accuracy 1.0\n",
      "\u001b[36m(ClientAppActor pid=4144273)\u001b[0m Running epoch 2/10\n",
      "\u001b[36m(ClientAppActor pid=4144273)\u001b[0m Epoch 3: train loss 2.497087543337042e-06, accuracy 1.0\n",
      "\u001b[36m(ClientAppActor pid=4144273)\u001b[0m Running epoch 3/10\n",
      "\u001b[36m(ClientAppActor pid=4144273)\u001b[0m Epoch 4: train loss 3.0565749559747546e-05, accuracy 1.0\n",
      "\u001b[36m(ClientAppActor pid=4144273)\u001b[0m Running epoch 4/10\n",
      "\u001b[36m(ClientAppActor pid=4144273)\u001b[0m Epoch 5: train loss 1.6312844838682252e-07, accuracy 1.0\n",
      "\u001b[36m(ClientAppActor pid=4144273)\u001b[0m Running epoch 5/10\n",
      "\u001b[36m(ClientAppActor pid=4144273)\u001b[0m Epoch 6: train loss 1.5873526870947036e-06, accuracy 1.0\n",
      "\u001b[36m(ClientAppActor pid=4144273)\u001b[0m Running epoch 6/10\n",
      "\u001b[36m(ClientAppActor pid=4144273)\u001b[0m Epoch 7: train loss 9.473966963917902e-07, accuracy 1.0\n",
      "\u001b[36m(ClientAppActor pid=4144273)\u001b[0m Running epoch 7/10\n",
      "\u001b[36m(ClientAppActor pid=4144273)\u001b[0m Epoch 8: train loss 3.952612659256709e-06, accuracy 1.0\n",
      "\u001b[36m(ClientAppActor pid=4144273)\u001b[0m Running epoch 8/10\n",
      "\u001b[36m(ClientAppActor pid=4144273)\u001b[0m Epoch 9: train loss 6.838839030514895e-07, accuracy 1.0\n",
      "\u001b[36m(ClientAppActor pid=4144273)\u001b[0m Running epoch 9/10\n",
      "\u001b[36m(ClientAppActor pid=4144273)\u001b[0m Epoch 10: train loss 9.893535445302715e-06, accuracy 1.0\n",
      "\u001b[36m(ClientAppActor pid=4144273)\u001b[0m Epoch 00010: reducing learning rate of group 0 to 1.0000e-05.\n",
      "\u001b[36m(ClientAppActor pid=4144273)\u001b[0m Training completed!\n",
      "\u001b[36m(ClientAppActor pid=4144273)\u001b[0m Length of params: 329\n"
     ]
    },
    {
     "name": "stderr",
     "output_type": "stream",
     "text": [
      "\u001b[36m(ClientAppActor pid=4144273)\u001b[0m \u001b[93mWARNING \u001b[0m:   Deprecation Warning: The `client_fn` function must return an instance of `Client`, but an instance of `NumpyClient` was returned. Please use `NumPyClient.to_client()` method to convert it to `Client`.\n"
     ]
    },
    {
     "name": "stdout",
     "output_type": "stream",
     "text": [
      "\u001b[36m(ClientAppActor pid=4144273)\u001b[0m [Client 9] fit, config: {'lr': 0.003}\n",
      "\u001b[36m(ClientAppActor pid=4144273)\u001b[0m Updating parameters 329\n",
      "\u001b[36m(ClientAppActor pid=4144273)\u001b[0m Setting parameters...\n",
      "\u001b[36m(ClientAppActor pid=4144273)\u001b[0m Client parameters set\n",
      "\u001b[36m(ClientAppActor pid=4144273)\u001b[0m Starting client training...\n",
      "\u001b[36m(ClientAppActor pid=4144273)\u001b[0m Running epoch 0/10\n",
      "\u001b[36m(ClientAppActor pid=4144273)\u001b[0m Epoch 1: train loss 2.1886658760195133e-06, accuracy 1.0\n",
      "\u001b[36m(ClientAppActor pid=4144273)\u001b[0m Running epoch 1/10\n",
      "\u001b[36m(ClientAppActor pid=4144273)\u001b[0m Epoch 2: train loss 2.512227430997882e-05, accuracy 1.0\n",
      "\u001b[36m(ClientAppActor pid=4144273)\u001b[0m Running epoch 2/10\n",
      "\u001b[36m(ClientAppActor pid=4144273)\u001b[0m Epoch 3: train loss 2.332835749257356e-05, accuracy 1.0\n",
      "\u001b[36m(ClientAppActor pid=4144273)\u001b[0m Running epoch 3/10\n",
      "\u001b[36m(ClientAppActor pid=4144273)\u001b[0m Epoch 4: train loss 1.2922246423840989e-06, accuracy 1.0\n",
      "\u001b[36m(ClientAppActor pid=4144273)\u001b[0m Running epoch 4/10\n",
      "\u001b[36m(ClientAppActor pid=4144273)\u001b[0m Epoch 5: train loss 1.158707182185026e-06, accuracy 1.0\n",
      "\u001b[36m(ClientAppActor pid=4144273)\u001b[0m Running epoch 5/10\n",
      "\u001b[36m(ClientAppActor pid=4144273)\u001b[0m Epoch 6: train loss 1.950235509866616e-06, accuracy 1.0\n",
      "\u001b[36m(ClientAppActor pid=4144273)\u001b[0m Running epoch 6/10\n",
      "\u001b[36m(ClientAppActor pid=4144273)\u001b[0m Epoch 7: train loss 4.706123126538842e-06, accuracy 1.0\n",
      "\u001b[36m(ClientAppActor pid=4144273)\u001b[0m Running epoch 7/10\n",
      "\u001b[36m(ClientAppActor pid=4144273)\u001b[0m Epoch 8: train loss 5.5809874611441044e-05, accuracy 1.0\n",
      "\u001b[36m(ClientAppActor pid=4144273)\u001b[0m Running epoch 8/10\n",
      "\u001b[36m(ClientAppActor pid=4144273)\u001b[0m Epoch 9: train loss 5.102143086332944e-07, accuracy 1.0\n",
      "\u001b[36m(ClientAppActor pid=4144273)\u001b[0m Running epoch 9/10\n",
      "\u001b[36m(ClientAppActor pid=4144273)\u001b[0m Epoch 10: train loss 4.029203323625552e-06, accuracy 1.0\n",
      "\u001b[36m(ClientAppActor pid=4144273)\u001b[0m Training completed!\n",
      "\u001b[36m(ClientAppActor pid=4144273)\u001b[0m Length of params: 329\n"
     ]
    },
    {
     "name": "stderr",
     "output_type": "stream",
     "text": [
      "\u001b[36m(ClientAppActor pid=4144273)\u001b[0m \u001b[93mWARNING \u001b[0m:   Deprecation Warning: The `client_fn` function must return an instance of `Client`, but an instance of `NumpyClient` was returned. Please use `NumPyClient.to_client()` method to convert it to `Client`.\n"
     ]
    },
    {
     "name": "stdout",
     "output_type": "stream",
     "text": [
      "\u001b[36m(ClientAppActor pid=4144273)\u001b[0m [Client 2] fit, config: {'lr': 0.003}\n",
      "\u001b[36m(ClientAppActor pid=4144273)\u001b[0m Updating parameters 329\n",
      "\u001b[36m(ClientAppActor pid=4144273)\u001b[0m Setting parameters...\n",
      "\u001b[36m(ClientAppActor pid=4144273)\u001b[0m Client parameters set\n",
      "\u001b[36m(ClientAppActor pid=4144273)\u001b[0m Starting client training...\n",
      "\u001b[36m(ClientAppActor pid=4144273)\u001b[0m Running epoch 0/10\n",
      "\u001b[36m(ClientAppActor pid=4144273)\u001b[0m Epoch 1: train loss 0.0010838812511184564, accuracy 1.0\n",
      "\u001b[36m(ClientAppActor pid=4144273)\u001b[0m Running epoch 1/10\n",
      "\u001b[36m(ClientAppActor pid=4144273)\u001b[0m Epoch 2: train loss 5.912664643179405e-05, accuracy 1.0\n",
      "\u001b[36m(ClientAppActor pid=4144273)\u001b[0m Running epoch 2/10\n",
      "\u001b[36m(ClientAppActor pid=4144273)\u001b[0m Epoch 3: train loss 0.003727287838330166, accuracy 1.0\n",
      "\u001b[36m(ClientAppActor pid=4144273)\u001b[0m Running epoch 3/10\n",
      "\u001b[36m(ClientAppActor pid=4144273)\u001b[0m Epoch 4: train loss 1.44304650605495e-06, accuracy 1.0\n",
      "\u001b[36m(ClientAppActor pid=4144273)\u001b[0m Running epoch 4/10\n",
      "\u001b[36m(ClientAppActor pid=4144273)\u001b[0m Epoch 5: train loss 0.015735727508160238, accuracy 1.0\n",
      "\u001b[36m(ClientAppActor pid=4144273)\u001b[0m Running epoch 5/10\n",
      "\u001b[36m(ClientAppActor pid=4144273)\u001b[0m Epoch 6: train loss 1.3086737818699284e-05, accuracy 1.0\n",
      "\u001b[36m(ClientAppActor pid=4144273)\u001b[0m Running epoch 6/10\n",
      "\u001b[36m(ClientAppActor pid=4144273)\u001b[0m Epoch 7: train loss 6.418332639824305e-06, accuracy 1.0\n",
      "\u001b[36m(ClientAppActor pid=4144273)\u001b[0m Running epoch 7/10\n",
      "\u001b[36m(ClientAppActor pid=4144273)\u001b[0m Epoch 8: train loss 3.6690129096122724e-05, accuracy 1.0\n",
      "\u001b[36m(ClientAppActor pid=4144273)\u001b[0m Running epoch 8/10\n",
      "\u001b[36m(ClientAppActor pid=4144273)\u001b[0m Epoch 9: train loss 3.892567651507163e-05, accuracy 1.0\n",
      "\u001b[36m(ClientAppActor pid=4144273)\u001b[0m Epoch 00009: reducing learning rate of group 0 to 1.0000e-05.\n",
      "\u001b[36m(ClientAppActor pid=4144273)\u001b[0m Running epoch 9/10\n",
      "\u001b[36m(ClientAppActor pid=4144273)\u001b[0m Epoch 10: train loss 0.2093503452672035, accuracy 0.9473684210526315\n",
      "\u001b[36m(ClientAppActor pid=4144273)\u001b[0m Training completed!\n",
      "\u001b[36m(ClientAppActor pid=4144273)\u001b[0m Length of params: 329\n"
     ]
    },
    {
     "name": "stderr",
     "output_type": "stream",
     "text": [
      "\u001b[36m(ClientAppActor pid=4144273)\u001b[0m \u001b[93mWARNING \u001b[0m:   Deprecation Warning: The `client_fn` function must return an instance of `Client`, but an instance of `NumpyClient` was returned. Please use `NumPyClient.to_client()` method to convert it to `Client`.\n"
     ]
    },
    {
     "name": "stdout",
     "output_type": "stream",
     "text": [
      "\u001b[36m(ClientAppActor pid=4144273)\u001b[0m [Client 3] fit, config: {'lr': 0.003}\n",
      "\u001b[36m(ClientAppActor pid=4144273)\u001b[0m Updating parameters 329\n",
      "\u001b[36m(ClientAppActor pid=4144273)\u001b[0m Setting parameters...\n",
      "\u001b[36m(ClientAppActor pid=4144273)\u001b[0m Client parameters set\n",
      "\u001b[36m(ClientAppActor pid=4144273)\u001b[0m Starting client training...\n",
      "\u001b[36m(ClientAppActor pid=4144273)\u001b[0m Running epoch 0/10\n",
      "\u001b[36m(ClientAppActor pid=4144273)\u001b[0m Epoch 1: train loss 0.00022825186968738738, accuracy 1.0\n",
      "\u001b[36m(ClientAppActor pid=4144273)\u001b[0m Running epoch 1/10\n",
      "\u001b[36m(ClientAppActor pid=4144273)\u001b[0m Epoch 2: train loss 0.0001410311455574599, accuracy 1.0\n",
      "\u001b[36m(ClientAppActor pid=4144273)\u001b[0m Running epoch 2/10\n",
      "\u001b[36m(ClientAppActor pid=4144273)\u001b[0m Epoch 3: train loss 0.00020652416309206357, accuracy 1.0\n",
      "\u001b[36m(ClientAppActor pid=4144273)\u001b[0m Running epoch 3/10\n",
      "\u001b[36m(ClientAppActor pid=4144273)\u001b[0m Epoch 4: train loss 3.7017581402515614e-07, accuracy 1.0\n",
      "\u001b[36m(ClientAppActor pid=4144273)\u001b[0m Running epoch 4/10\n",
      "\u001b[36m(ClientAppActor pid=4144273)\u001b[0m Epoch 5: train loss 3.764496999505546e-07, accuracy 1.0\n",
      "\u001b[36m(ClientAppActor pid=4144273)\u001b[0m Running epoch 5/10\n",
      "\u001b[36m(ClientAppActor pid=4144273)\u001b[0m Epoch 6: train loss 6.399650815362628e-07, accuracy 1.0\n",
      "\u001b[36m(ClientAppActor pid=4144273)\u001b[0m Running epoch 6/10\n",
      "\u001b[36m(ClientAppActor pid=4144273)\u001b[0m Epoch 7: train loss 6.863649718381662e-06, accuracy 1.0\n",
      "\u001b[36m(ClientAppActor pid=4144273)\u001b[0m Running epoch 7/10\n",
      "\u001b[36m(ClientAppActor pid=4144273)\u001b[0m Epoch 8: train loss 6.9074708066134345e-06, accuracy 1.0\n",
      "\u001b[36m(ClientAppActor pid=4144273)\u001b[0m Running epoch 8/10\n",
      "\u001b[36m(ClientAppActor pid=4144273)\u001b[0m Epoch 9: train loss 4.6428808194545316e-07, accuracy 1.0\n",
      "\u001b[36m(ClientAppActor pid=4144273)\u001b[0m Epoch 00009: reducing learning rate of group 0 to 1.0000e-05.\n",
      "\u001b[36m(ClientAppActor pid=4144273)\u001b[0m Running epoch 9/10\n",
      "\u001b[36m(ClientAppActor pid=4144273)\u001b[0m Epoch 10: train loss 1.806955725071116e-06, accuracy 1.0\n",
      "\u001b[36m(ClientAppActor pid=4144273)\u001b[0m Training completed!\n",
      "\u001b[36m(ClientAppActor pid=4144273)\u001b[0m Length of params: 329\n"
     ]
    },
    {
     "name": "stderr",
     "output_type": "stream",
     "text": [
      "\u001b[36m(ClientAppActor pid=4144273)\u001b[0m \u001b[93mWARNING \u001b[0m:   Deprecation Warning: The `client_fn` function must return an instance of `Client`, but an instance of `NumpyClient` was returned. Please use `NumPyClient.to_client()` method to convert it to `Client`.\n"
     ]
    },
    {
     "name": "stdout",
     "output_type": "stream",
     "text": [
      "\u001b[36m(ClientAppActor pid=4144273)\u001b[0m [Client 4] fit, config: {'lr': 0.003}\n",
      "\u001b[36m(ClientAppActor pid=4144273)\u001b[0m Updating parameters 329\n",
      "\u001b[36m(ClientAppActor pid=4144273)\u001b[0m Setting parameters...\n",
      "\u001b[36m(ClientAppActor pid=4144273)\u001b[0m Client parameters set\n",
      "\u001b[36m(ClientAppActor pid=4144273)\u001b[0m Starting client training...\n",
      "\u001b[36m(ClientAppActor pid=4144273)\u001b[0m Running epoch 0/10\n",
      "\u001b[36m(ClientAppActor pid=4144273)\u001b[0m Epoch 1: train loss 2.3214427133816093e-07, accuracy 1.0\n",
      "\u001b[36m(ClientAppActor pid=4144273)\u001b[0m Running epoch 1/10\n",
      "\u001b[36m(ClientAppActor pid=4144273)\u001b[0m Epoch 2: train loss 5.36415417460184e-06, accuracy 1.0\n",
      "\u001b[36m(ClientAppActor pid=4144273)\u001b[0m Running epoch 2/10\n",
      "\u001b[36m(ClientAppActor pid=4144273)\u001b[0m Epoch 3: train loss 5.9076161769074754e-05, accuracy 1.0\n",
      "\u001b[36m(ClientAppActor pid=4144273)\u001b[0m Running epoch 3/10\n",
      "\u001b[36m(ClientAppActor pid=4144273)\u001b[0m Epoch 4: train loss 3.952716150180143e-07, accuracy 1.0\n",
      "\u001b[36m(ClientAppActor pid=4144273)\u001b[0m Running epoch 4/10\n",
      "\u001b[36m(ClientAppActor pid=4144273)\u001b[0m Epoch 5: train loss 6.330297190297522e-06, accuracy 1.0\n",
      "\u001b[36m(ClientAppActor pid=4144273)\u001b[0m Running epoch 5/10\n",
      "\u001b[36m(ClientAppActor pid=4144273)\u001b[0m Epoch 6: train loss 1.1324263452575236e-05, accuracy 1.0\n",
      "\u001b[36m(ClientAppActor pid=4144273)\u001b[0m Epoch 00006: reducing learning rate of group 0 to 1.0000e-05.\n",
      "\u001b[36m(ClientAppActor pid=4144273)\u001b[0m Running epoch 6/10\n",
      "\u001b[36m(ClientAppActor pid=4144273)\u001b[0m Epoch 7: train loss 8.614070201187324e-06, accuracy 1.0\n",
      "\u001b[36m(ClientAppActor pid=4144273)\u001b[0m Running epoch 7/10\n",
      "\u001b[36m(ClientAppActor pid=4144273)\u001b[0m Epoch 8: train loss 3.694379924318606e-05, accuracy 1.0\n",
      "\u001b[36m(ClientAppActor pid=4144273)\u001b[0m Running epoch 8/10\n",
      "\u001b[36m(ClientAppActor pid=4144273)\u001b[0m Epoch 9: train loss 6.0795960292269134e-06, accuracy 1.0\n",
      "\u001b[36m(ClientAppActor pid=4144273)\u001b[0m Running epoch 9/10\n",
      "\u001b[36m(ClientAppActor pid=4144273)\u001b[0m Epoch 10: train loss 1.5552406885514135e-05, accuracy 1.0\n",
      "\u001b[36m(ClientAppActor pid=4144273)\u001b[0m Training completed!\n",
      "\u001b[36m(ClientAppActor pid=4144273)\u001b[0m Length of params: 329\n"
     ]
    },
    {
     "name": "stderr",
     "output_type": "stream",
     "text": [
      "\u001b[36m(ClientAppActor pid=4144273)\u001b[0m \u001b[93mWARNING \u001b[0m:   Deprecation Warning: The `client_fn` function must return an instance of `Client`, but an instance of `NumpyClient` was returned. Please use `NumPyClient.to_client()` method to convert it to `Client`.\n"
     ]
    },
    {
     "name": "stdout",
     "output_type": "stream",
     "text": [
      "\u001b[36m(ClientAppActor pid=4144273)\u001b[0m [Client 6] fit, config: {'lr': 0.003}\n",
      "\u001b[36m(ClientAppActor pid=4144273)\u001b[0m Updating parameters 329\n",
      "\u001b[36m(ClientAppActor pid=4144273)\u001b[0m Setting parameters...\n",
      "\u001b[36m(ClientAppActor pid=4144273)\u001b[0m Client parameters set\n",
      "\u001b[36m(ClientAppActor pid=4144273)\u001b[0m Starting client training...\n",
      "\u001b[36m(ClientAppActor pid=4144273)\u001b[0m Running epoch 0/10\n",
      "\u001b[36m(ClientAppActor pid=4144273)\u001b[0m Epoch 1: train loss 7.591737046727519e-07, accuracy 1.0\n",
      "\u001b[36m(ClientAppActor pid=4144273)\u001b[0m Running epoch 1/10\n",
      "\u001b[36m(ClientAppActor pid=4144273)\u001b[0m Epoch 2: train loss 6.0247314410700804e-05, accuracy 1.0\n",
      "\u001b[36m(ClientAppActor pid=4144273)\u001b[0m Running epoch 2/10\n",
      "\u001b[36m(ClientAppActor pid=4144273)\u001b[0m Epoch 3: train loss 4.2664334530759093e-07, accuracy 1.0\n",
      "\u001b[36m(ClientAppActor pid=4144273)\u001b[0m Running epoch 3/10\n",
      "\u001b[36m(ClientAppActor pid=4144273)\u001b[0m Epoch 4: train loss 7.905183290284568e-06, accuracy 1.0\n",
      "\u001b[36m(ClientAppActor pid=4144273)\u001b[0m Running epoch 4/10\n",
      "\u001b[36m(ClientAppActor pid=4144273)\u001b[0m Epoch 5: train loss 1.8194939318947802e-06, accuracy 1.0\n",
      "\u001b[36m(ClientAppActor pid=4144273)\u001b[0m Running epoch 5/10\n",
      "\u001b[36m(ClientAppActor pid=4144273)\u001b[0m Epoch 6: train loss 8.909275091708112e-07, accuracy 1.0\n",
      "\u001b[36m(ClientAppActor pid=4144273)\u001b[0m Running epoch 6/10\n",
      "\u001b[36m(ClientAppActor pid=4144273)\u001b[0m Epoch 7: train loss 1.8759669668916582e-06, accuracy 1.0\n",
      "\u001b[36m(ClientAppActor pid=4144273)\u001b[0m Running epoch 7/10\n",
      "\u001b[36m(ClientAppActor pid=4144273)\u001b[0m Epoch 8: train loss 1.8634052841099747e-06, accuracy 1.0\n",
      "\u001b[36m(ClientAppActor pid=4144273)\u001b[0m Epoch 00008: reducing learning rate of group 0 to 1.0000e-05.\n",
      "\u001b[36m(ClientAppActor pid=4144273)\u001b[0m Running epoch 8/10\n",
      "\u001b[36m(ClientAppActor pid=4144273)\u001b[0m Epoch 9: train loss 1.254834234181975e-07, accuracy 1.0\n",
      "\u001b[36m(ClientAppActor pid=4144273)\u001b[0m Running epoch 9/10\n",
      "\u001b[36m(ClientAppActor pid=4144273)\u001b[0m Epoch 10: train loss 2.1269215239565134e-06, accuracy 1.0\n",
      "\u001b[36m(ClientAppActor pid=4144273)\u001b[0m Training completed!\n",
      "\u001b[36m(ClientAppActor pid=4144273)\u001b[0m Length of params: 329\n"
     ]
    },
    {
     "name": "stderr",
     "output_type": "stream",
     "text": [
      "\u001b[92mINFO \u001b[0m:      aggregate_fit: received 10 results and 0 failures\n"
     ]
    },
    {
     "name": "stdout",
     "output_type": "stream",
     "text": [
      "Evaluating global model\n",
      "Updating parameters 329\n",
      "Setting parameters...\n",
      "Parameter set\n",
      "Starting client validation...\n",
      "Validataion accuracy = 0.8333333333333334\n",
      "Global evaluation round 7 loss = 0.07091672817866007 accuracy = 0.8333333333333334\n"
     ]
    },
    {
     "name": "stderr",
     "output_type": "stream",
     "text": [
      "\u001b[92mINFO \u001b[0m:      fit progress: (7, 0.07091672817866007, {}, 5006.619490009965)\n",
      "\u001b[92mINFO \u001b[0m:      configure_evaluate: strategy sampled 10 clients (out of 10)\n"
     ]
    },
    {
     "name": "stdout",
     "output_type": "stream",
     "text": [
      "Model saved at ./fl_checkpointsswintransformer_e10_c10_r10/fl_densenet_7.pth\n"
     ]
    },
    {
     "name": "stderr",
     "output_type": "stream",
     "text": [
      "\u001b[36m(ClientAppActor pid=4144273)\u001b[0m \u001b[93mWARNING \u001b[0m:   Deprecation Warning: The `client_fn` function must return an instance of `Client`, but an instance of `NumpyClient` was returned. Please use `NumPyClient.to_client()` method to convert it to `Client`.\n"
     ]
    },
    {
     "name": "stdout",
     "output_type": "stream",
     "text": [
      "\u001b[36m(ClientAppActor pid=4144273)\u001b[0m [Client 0] evaluate, config: {}\n",
      "\u001b[36m(ClientAppActor pid=4144273)\u001b[0m Updating parameters 329\n",
      "\u001b[36m(ClientAppActor pid=4144273)\u001b[0m Setting parameters...\n",
      "\u001b[36m(ClientAppActor pid=4144273)\u001b[0m Starting client validation...\n",
      "\u001b[36m(ClientAppActor pid=4144273)\u001b[0m Validataion accuracy = 0.8333333333333334\n",
      "\u001b[36m(ClientAppActor pid=4144273)\u001b[0m Evaluation loss = 0.07091672817866007 accuracy = 0.8333333333333334\n"
     ]
    },
    {
     "name": "stderr",
     "output_type": "stream",
     "text": [
      "\u001b[36m(ClientAppActor pid=4144273)\u001b[0m \u001b[93mWARNING \u001b[0m:   Deprecation Warning: The `client_fn` function must return an instance of `Client`, but an instance of `NumpyClient` was returned. Please use `NumPyClient.to_client()` method to convert it to `Client`.\n"
     ]
    },
    {
     "name": "stdout",
     "output_type": "stream",
     "text": [
      "\u001b[36m(ClientAppActor pid=4144273)\u001b[0m [Client 7] evaluate, config: {}\n",
      "\u001b[36m(ClientAppActor pid=4144273)\u001b[0m Updating parameters 329\n",
      "\u001b[36m(ClientAppActor pid=4144273)\u001b[0m Setting parameters...\n",
      "\u001b[36m(ClientAppActor pid=4144273)\u001b[0m Starting client validation...\n",
      "\u001b[36m(ClientAppActor pid=4144273)\u001b[0m Validataion accuracy = 0.8333333333333334\n",
      "\u001b[36m(ClientAppActor pid=4144273)\u001b[0m Evaluation loss = 0.07091672817866007 accuracy = 0.8333333333333334\n"
     ]
    },
    {
     "name": "stderr",
     "output_type": "stream",
     "text": [
      "\u001b[36m(ClientAppActor pid=4144273)\u001b[0m \u001b[93mWARNING \u001b[0m:   Deprecation Warning: The `client_fn` function must return an instance of `Client`, but an instance of `NumpyClient` was returned. Please use `NumPyClient.to_client()` method to convert it to `Client`.\n"
     ]
    },
    {
     "name": "stdout",
     "output_type": "stream",
     "text": [
      "\u001b[36m(ClientAppActor pid=4144273)\u001b[0m [Client 5] evaluate, config: {}\n",
      "\u001b[36m(ClientAppActor pid=4144273)\u001b[0m Updating parameters 329\n",
      "\u001b[36m(ClientAppActor pid=4144273)\u001b[0m Setting parameters...\n",
      "\u001b[36m(ClientAppActor pid=4144273)\u001b[0m Starting client validation...\n",
      "\u001b[36m(ClientAppActor pid=4144273)\u001b[0m Validataion accuracy = 0.8333333333333334\n",
      "\u001b[36m(ClientAppActor pid=4144273)\u001b[0m Evaluation loss = 0.07091672817866007 accuracy = 0.8333333333333334\n"
     ]
    },
    {
     "name": "stderr",
     "output_type": "stream",
     "text": [
      "\u001b[36m(ClientAppActor pid=4144273)\u001b[0m \u001b[93mWARNING \u001b[0m:   Deprecation Warning: The `client_fn` function must return an instance of `Client`, but an instance of `NumpyClient` was returned. Please use `NumPyClient.to_client()` method to convert it to `Client`.\n"
     ]
    },
    {
     "name": "stdout",
     "output_type": "stream",
     "text": [
      "\u001b[36m(ClientAppActor pid=4144273)\u001b[0m [Client 1] evaluate, config: {}\n",
      "\u001b[36m(ClientAppActor pid=4144273)\u001b[0m Updating parameters 329\n",
      "\u001b[36m(ClientAppActor pid=4144273)\u001b[0m Setting parameters...\n",
      "\u001b[36m(ClientAppActor pid=4144273)\u001b[0m Starting client validation...\n",
      "\u001b[36m(ClientAppActor pid=4144273)\u001b[0m Validataion accuracy = 0.8333333333333334\n",
      "\u001b[36m(ClientAppActor pid=4144273)\u001b[0m Evaluation loss = 0.07091672817866007 accuracy = 0.8333333333333334\n"
     ]
    },
    {
     "name": "stderr",
     "output_type": "stream",
     "text": [
      "\u001b[36m(ClientAppActor pid=4144273)\u001b[0m \u001b[93mWARNING \u001b[0m:   Deprecation Warning: The `client_fn` function must return an instance of `Client`, but an instance of `NumpyClient` was returned. Please use `NumPyClient.to_client()` method to convert it to `Client`.\n"
     ]
    },
    {
     "name": "stdout",
     "output_type": "stream",
     "text": [
      "\u001b[36m(ClientAppActor pid=4144273)\u001b[0m [Client 9] evaluate, config: {}\n",
      "\u001b[36m(ClientAppActor pid=4144273)\u001b[0m Updating parameters 329\n",
      "\u001b[36m(ClientAppActor pid=4144273)\u001b[0m Setting parameters...\n",
      "\u001b[36m(ClientAppActor pid=4144273)\u001b[0m Starting client validation...\n",
      "\u001b[36m(ClientAppActor pid=4144273)\u001b[0m Validataion accuracy = 0.8333333333333334\n",
      "\u001b[36m(ClientAppActor pid=4144273)\u001b[0m Evaluation loss = 0.07091672817866007 accuracy = 0.8333333333333334\n"
     ]
    },
    {
     "name": "stderr",
     "output_type": "stream",
     "text": [
      "\u001b[36m(ClientAppActor pid=4144273)\u001b[0m \u001b[93mWARNING \u001b[0m:   Deprecation Warning: The `client_fn` function must return an instance of `Client`, but an instance of `NumpyClient` was returned. Please use `NumPyClient.to_client()` method to convert it to `Client`.\n"
     ]
    },
    {
     "name": "stdout",
     "output_type": "stream",
     "text": [
      "\u001b[36m(ClientAppActor pid=4144273)\u001b[0m [Client 6] evaluate, config: {}\n",
      "\u001b[36m(ClientAppActor pid=4144273)\u001b[0m Updating parameters 329\n",
      "\u001b[36m(ClientAppActor pid=4144273)\u001b[0m Setting parameters...\n",
      "\u001b[36m(ClientAppActor pid=4144273)\u001b[0m Starting client validation...\n",
      "\u001b[36m(ClientAppActor pid=4144273)\u001b[0m Validataion accuracy = 0.8333333333333334\n",
      "\u001b[36m(ClientAppActor pid=4144273)\u001b[0m Evaluation loss = 0.07091672817866007 accuracy = 0.8333333333333334\n"
     ]
    },
    {
     "name": "stderr",
     "output_type": "stream",
     "text": [
      "\u001b[36m(ClientAppActor pid=4144273)\u001b[0m \u001b[93mWARNING \u001b[0m:   Deprecation Warning: The `client_fn` function must return an instance of `Client`, but an instance of `NumpyClient` was returned. Please use `NumPyClient.to_client()` method to convert it to `Client`.\n"
     ]
    },
    {
     "name": "stdout",
     "output_type": "stream",
     "text": [
      "\u001b[36m(ClientAppActor pid=4144273)\u001b[0m [Client 4] evaluate, config: {}\n",
      "\u001b[36m(ClientAppActor pid=4144273)\u001b[0m Updating parameters 329\n",
      "\u001b[36m(ClientAppActor pid=4144273)\u001b[0m Setting parameters...\n",
      "\u001b[36m(ClientAppActor pid=4144273)\u001b[0m Starting client validation...\n",
      "\u001b[36m(ClientAppActor pid=4144273)\u001b[0m Validataion accuracy = 0.8333333333333334\n",
      "\u001b[36m(ClientAppActor pid=4144273)\u001b[0m Evaluation loss = 0.07091672817866007 accuracy = 0.8333333333333334\n"
     ]
    },
    {
     "name": "stderr",
     "output_type": "stream",
     "text": [
      "\u001b[36m(ClientAppActor pid=4144273)\u001b[0m \u001b[93mWARNING \u001b[0m:   Deprecation Warning: The `client_fn` function must return an instance of `Client`, but an instance of `NumpyClient` was returned. Please use `NumPyClient.to_client()` method to convert it to `Client`.\n"
     ]
    },
    {
     "name": "stdout",
     "output_type": "stream",
     "text": [
      "\u001b[36m(ClientAppActor pid=4144273)\u001b[0m [Client 8] evaluate, config: {}\n",
      "\u001b[36m(ClientAppActor pid=4144273)\u001b[0m Updating parameters 329\n",
      "\u001b[36m(ClientAppActor pid=4144273)\u001b[0m Setting parameters...\n",
      "\u001b[36m(ClientAppActor pid=4144273)\u001b[0m Starting client validation...\n",
      "\u001b[36m(ClientAppActor pid=4144273)\u001b[0m Validataion accuracy = 0.8333333333333334\n",
      "\u001b[36m(ClientAppActor pid=4144273)\u001b[0m Evaluation loss = 0.07091672817866007 accuracy = 0.8333333333333334\n"
     ]
    },
    {
     "name": "stderr",
     "output_type": "stream",
     "text": [
      "\u001b[36m(ClientAppActor pid=4144273)\u001b[0m \u001b[93mWARNING \u001b[0m:   Deprecation Warning: The `client_fn` function must return an instance of `Client`, but an instance of `NumpyClient` was returned. Please use `NumPyClient.to_client()` method to convert it to `Client`.\n"
     ]
    },
    {
     "name": "stdout",
     "output_type": "stream",
     "text": [
      "\u001b[36m(ClientAppActor pid=4144273)\u001b[0m [Client 2] evaluate, config: {}\n",
      "\u001b[36m(ClientAppActor pid=4144273)\u001b[0m Updating parameters 329\n",
      "\u001b[36m(ClientAppActor pid=4144273)\u001b[0m Setting parameters...\n",
      "\u001b[36m(ClientAppActor pid=4144273)\u001b[0m Starting client validation...\n",
      "\u001b[36m(ClientAppActor pid=4144273)\u001b[0m Validataion accuracy = 0.8333333333333334\n",
      "\u001b[36m(ClientAppActor pid=4144273)\u001b[0m Evaluation loss = 0.07091672817866007 accuracy = 0.8333333333333334\n"
     ]
    },
    {
     "name": "stderr",
     "output_type": "stream",
     "text": [
      "\u001b[36m(ClientAppActor pid=4144273)\u001b[0m \u001b[93mWARNING \u001b[0m:   Deprecation Warning: The `client_fn` function must return an instance of `Client`, but an instance of `NumpyClient` was returned. Please use `NumPyClient.to_client()` method to convert it to `Client`.\n"
     ]
    },
    {
     "name": "stdout",
     "output_type": "stream",
     "text": [
      "\u001b[36m(ClientAppActor pid=4144273)\u001b[0m [Client 3] evaluate, config: {}\n",
      "\u001b[36m(ClientAppActor pid=4144273)\u001b[0m Updating parameters 329\n",
      "\u001b[36m(ClientAppActor pid=4144273)\u001b[0m Setting parameters...\n",
      "\u001b[36m(ClientAppActor pid=4144273)\u001b[0m Starting client validation...\n"
     ]
    },
    {
     "name": "stderr",
     "output_type": "stream",
     "text": [
      "\u001b[92mINFO \u001b[0m:      aggregate_evaluate: received 10 results and 0 failures\n",
      "\u001b[92mINFO \u001b[0m:      \n",
      "\u001b[92mINFO \u001b[0m:      [ROUND 8]\n",
      "\u001b[92mINFO \u001b[0m:      configure_fit: strategy sampled 10 clients (out of 10)\n"
     ]
    },
    {
     "name": "stdout",
     "output_type": "stream",
     "text": [
      "\u001b[36m(ClientAppActor pid=4144273)\u001b[0m Validataion accuracy = 0.8333333333333334\n",
      "\u001b[36m(ClientAppActor pid=4144273)\u001b[0m Evaluation loss = 0.07091672817866007 accuracy = 0.8333333333333334\n",
      "Starting configure fit function...\n",
      "Sample size = 10 Min Num Clients = 2 Clients = [<flwr.simulation.ray_transport.ray_client_proxy.RayActorClientProxy object at 0x155491b76fd0>, <flwr.simulation.ray_transport.ray_client_proxy.RayActorClientProxy object at 0x155491b775d0>, <flwr.simulation.ray_transport.ray_client_proxy.RayActorClientProxy object at 0x155491b776d0>, <flwr.simulation.ray_transport.ray_client_proxy.RayActorClientProxy object at 0x155491b77650>, <flwr.simulation.ray_transport.ray_client_proxy.RayActorClientProxy object at 0x155491b76690>, <flwr.simulation.ray_transport.ray_client_proxy.RayActorClientProxy object at 0x155314acf550>, <flwr.simulation.ray_transport.ray_client_proxy.RayActorClientProxy object at 0x155491b77310>, <flwr.simulation.ray_transport.ray_client_proxy.RayActorClientProxy object at 0x155491b77150>, <flwr.simulation.ray_transport.ray_client_proxy.RayActorClientProxy object at 0x155491b771d0>, <flwr.simulation.ray_transport.ray_client_proxy.RayActorClientProxy object at 0x155491b77750>]\n",
      "Number of clients = 10\n",
      "Fit Configurations\n"
     ]
    },
    {
     "name": "stderr",
     "output_type": "stream",
     "text": [
      "\u001b[36m(ClientAppActor pid=4144273)\u001b[0m \u001b[93mWARNING \u001b[0m:   Deprecation Warning: The `client_fn` function must return an instance of `Client`, but an instance of `NumpyClient` was returned. Please use `NumPyClient.to_client()` method to convert it to `Client`.\n"
     ]
    },
    {
     "name": "stdout",
     "output_type": "stream",
     "text": [
      "\u001b[36m(ClientAppActor pid=4144273)\u001b[0m [Client 1] fit, config: {'lr': 0.001}\n",
      "\u001b[36m(ClientAppActor pid=4144273)\u001b[0m Updating parameters 329\n",
      "\u001b[36m(ClientAppActor pid=4144273)\u001b[0m Setting parameters...\n",
      "\u001b[36m(ClientAppActor pid=4144273)\u001b[0m Client parameters set\n",
      "\u001b[36m(ClientAppActor pid=4144273)\u001b[0m Starting client training...\n",
      "\u001b[36m(ClientAppActor pid=4144273)\u001b[0m Running epoch 0/10\n",
      "\u001b[36m(ClientAppActor pid=4144273)\u001b[0m Epoch 1: train loss 1.1845044833822421e-05, accuracy 1.0\n",
      "\u001b[36m(ClientAppActor pid=4144273)\u001b[0m Running epoch 1/10\n",
      "\u001b[36m(ClientAppActor pid=4144273)\u001b[0m Epoch 2: train loss 1.6187260359258385e-06, accuracy 1.0\n",
      "\u001b[36m(ClientAppActor pid=4144273)\u001b[0m Running epoch 2/10\n",
      "\u001b[36m(ClientAppActor pid=4144273)\u001b[0m Epoch 3: train loss 2.2586999012661947e-07, accuracy 1.0\n",
      "\u001b[36m(ClientAppActor pid=4144273)\u001b[0m Running epoch 3/10\n",
      "\u001b[36m(ClientAppActor pid=4144273)\u001b[0m Epoch 4: train loss 1.0666092233996575e-07, accuracy 1.0\n",
      "\u001b[36m(ClientAppActor pid=4144273)\u001b[0m Running epoch 4/10\n",
      "\u001b[36m(ClientAppActor pid=4144273)\u001b[0m Epoch 5: train loss 1.4304986354761097e-06, accuracy 1.0\n",
      "\u001b[36m(ClientAppActor pid=4144273)\u001b[0m Running epoch 5/10\n",
      "\u001b[36m(ClientAppActor pid=4144273)\u001b[0m Epoch 6: train loss 3.262566185400685e-07, accuracy 1.0\n",
      "\u001b[36m(ClientAppActor pid=4144273)\u001b[0m Running epoch 6/10\n",
      "\u001b[36m(ClientAppActor pid=4144273)\u001b[0m Epoch 7: train loss 5.270294737233359e-07, accuracy 1.0\n",
      "\u001b[36m(ClientAppActor pid=4144273)\u001b[0m Running epoch 7/10\n",
      "\u001b[36m(ClientAppActor pid=4144273)\u001b[0m Epoch 8: train loss 1.8257743118068135e-06, accuracy 1.0\n",
      "\u001b[36m(ClientAppActor pid=4144273)\u001b[0m Running epoch 8/10\n",
      "\u001b[36m(ClientAppActor pid=4144273)\u001b[0m Epoch 9: train loss 3.413100587654059e-06, accuracy 1.0\n",
      "\u001b[36m(ClientAppActor pid=4144273)\u001b[0m Epoch 00009: reducing learning rate of group 0 to 1.0000e-05.\n",
      "\u001b[36m(ClientAppActor pid=4144273)\u001b[0m Running epoch 9/10\n",
      "\u001b[36m(ClientAppActor pid=4144273)\u001b[0m Epoch 10: train loss 1.980425861945964e-05, accuracy 1.0\n",
      "\u001b[36m(ClientAppActor pid=4144273)\u001b[0m Training completed!\n",
      "\u001b[36m(ClientAppActor pid=4144273)\u001b[0m Length of params: 329\n"
     ]
    },
    {
     "name": "stderr",
     "output_type": "stream",
     "text": [
      "\u001b[36m(ClientAppActor pid=4144273)\u001b[0m \u001b[93mWARNING \u001b[0m:   Deprecation Warning: The `client_fn` function must return an instance of `Client`, but an instance of `NumpyClient` was returned. Please use `NumPyClient.to_client()` method to convert it to `Client`.\n"
     ]
    },
    {
     "name": "stdout",
     "output_type": "stream",
     "text": [
      "\u001b[36m(ClientAppActor pid=4144273)\u001b[0m [Client 6] fit, config: {'lr': 0.001}\n",
      "\u001b[36m(ClientAppActor pid=4144273)\u001b[0m Updating parameters 329\n",
      "\u001b[36m(ClientAppActor pid=4144273)\u001b[0m Setting parameters...\n",
      "\u001b[36m(ClientAppActor pid=4144273)\u001b[0m Client parameters set\n",
      "\u001b[36m(ClientAppActor pid=4144273)\u001b[0m Starting client training...\n",
      "\u001b[36m(ClientAppActor pid=4144273)\u001b[0m Running epoch 0/10\n",
      "\u001b[36m(ClientAppActor pid=4144273)\u001b[0m Epoch 1: train loss 7.4911291257625345e-06, accuracy 1.0\n",
      "\u001b[36m(ClientAppActor pid=4144273)\u001b[0m Running epoch 1/10\n",
      "\u001b[36m(ClientAppActor pid=4144273)\u001b[0m Epoch 2: train loss 2.3590582235269004e-06, accuracy 1.0\n",
      "\u001b[36m(ClientAppActor pid=4144273)\u001b[0m Running epoch 2/10\n",
      "\u001b[36m(ClientAppActor pid=4144273)\u001b[0m Epoch 3: train loss 1.6147384139224797e-05, accuracy 1.0\n",
      "\u001b[36m(ClientAppActor pid=4144273)\u001b[0m Running epoch 3/10\n",
      "\u001b[36m(ClientAppActor pid=4144273)\u001b[0m Epoch 4: train loss 3.513534531856222e-07, accuracy 1.0\n",
      "\u001b[36m(ClientAppActor pid=4144273)\u001b[0m Running epoch 4/10\n",
      "\u001b[36m(ClientAppActor pid=4144273)\u001b[0m Epoch 5: train loss 6.894999195594664e-06, accuracy 1.0\n",
      "\u001b[36m(ClientAppActor pid=4144273)\u001b[0m Running epoch 5/10\n",
      "\u001b[36m(ClientAppActor pid=4144273)\u001b[0m Epoch 6: train loss 5.458522459297168e-07, accuracy 1.0\n",
      "\u001b[36m(ClientAppActor pid=4144273)\u001b[0m Running epoch 6/10\n",
      "\u001b[36m(ClientAppActor pid=4144273)\u001b[0m Epoch 7: train loss 1.4430426960500068e-06, accuracy 1.0\n",
      "\u001b[36m(ClientAppActor pid=4144273)\u001b[0m Running epoch 7/10\n",
      "\u001b[36m(ClientAppActor pid=4144273)\u001b[0m Epoch 8: train loss 5.194782130352475e-06, accuracy 1.0\n",
      "\u001b[36m(ClientAppActor pid=4144273)\u001b[0m Running epoch 8/10\n",
      "\u001b[36m(ClientAppActor pid=4144273)\u001b[0m Epoch 9: train loss 1.22973151399875e-06, accuracy 1.0\n",
      "\u001b[36m(ClientAppActor pid=4144273)\u001b[0m Epoch 00009: reducing learning rate of group 0 to 1.0000e-05.\n",
      "\u001b[36m(ClientAppActor pid=4144273)\u001b[0m Running epoch 9/10\n",
      "\u001b[36m(ClientAppActor pid=4144273)\u001b[0m Epoch 10: train loss 1.2548342229628792e-07, accuracy 1.0\n",
      "\u001b[36m(ClientAppActor pid=4144273)\u001b[0m Training completed!\n",
      "\u001b[36m(ClientAppActor pid=4144273)\u001b[0m Length of params: 329\n"
     ]
    },
    {
     "name": "stderr",
     "output_type": "stream",
     "text": [
      "\u001b[36m(ClientAppActor pid=4144273)\u001b[0m \u001b[93mWARNING \u001b[0m:   Deprecation Warning: The `client_fn` function must return an instance of `Client`, but an instance of `NumpyClient` was returned. Please use `NumPyClient.to_client()` method to convert it to `Client`.\n"
     ]
    },
    {
     "name": "stdout",
     "output_type": "stream",
     "text": [
      "\u001b[36m(ClientAppActor pid=4144273)\u001b[0m [Client 8] fit, config: {'lr': 0.001}\n",
      "\u001b[36m(ClientAppActor pid=4144273)\u001b[0m Updating parameters 329\n",
      "\u001b[36m(ClientAppActor pid=4144273)\u001b[0m Setting parameters...\n",
      "\u001b[36m(ClientAppActor pid=4144273)\u001b[0m Client parameters set\n",
      "\u001b[36m(ClientAppActor pid=4144273)\u001b[0m Starting client training...\n",
      "\u001b[36m(ClientAppActor pid=4144273)\u001b[0m Running epoch 0/10\n",
      "\u001b[36m(ClientAppActor pid=4144273)\u001b[0m Epoch 1: train loss 0.0005521386464304095, accuracy 1.0\n",
      "\u001b[36m(ClientAppActor pid=4144273)\u001b[0m Running epoch 1/10\n",
      "\u001b[36m(ClientAppActor pid=4144273)\u001b[0m Epoch 2: train loss 6.7737009047912e-05, accuracy 1.0\n",
      "\u001b[36m(ClientAppActor pid=4144273)\u001b[0m Running epoch 2/10\n",
      "\u001b[36m(ClientAppActor pid=4144273)\u001b[0m Epoch 3: train loss 0.12703574958600458, accuracy 0.9473684210526315\n",
      "\u001b[36m(ClientAppActor pid=4144273)\u001b[0m Running epoch 3/10\n",
      "\u001b[36m(ClientAppActor pid=4144273)\u001b[0m Epoch 4: train loss 5.583999070854349e-07, accuracy 1.0\n",
      "\u001b[36m(ClientAppActor pid=4144273)\u001b[0m Running epoch 4/10\n",
      "\u001b[36m(ClientAppActor pid=4144273)\u001b[0m Epoch 5: train loss 0.00010031914328129987, accuracy 1.0\n",
      "\u001b[36m(ClientAppActor pid=4144273)\u001b[0m Running epoch 5/10\n",
      "\u001b[36m(ClientAppActor pid=4144273)\u001b[0m Epoch 6: train loss 0.0009945798573378277, accuracy 1.0\n",
      "\u001b[36m(ClientAppActor pid=4144273)\u001b[0m Running epoch 6/10\n",
      "\u001b[36m(ClientAppActor pid=4144273)\u001b[0m Epoch 7: train loss 0.16278096876526674, accuracy 0.9473684210526315\n",
      "\u001b[36m(ClientAppActor pid=4144273)\u001b[0m Running epoch 7/10\n",
      "\u001b[36m(ClientAppActor pid=4144273)\u001b[0m Epoch 8: train loss 1.6061829559009168e-06, accuracy 1.0\n",
      "\u001b[36m(ClientAppActor pid=4144273)\u001b[0m Running epoch 8/10\n",
      "\u001b[36m(ClientAppActor pid=4144273)\u001b[0m Epoch 9: train loss 6.73190788802458e-06, accuracy 1.0\n",
      "\u001b[36m(ClientAppActor pid=4144273)\u001b[0m Epoch 00009: reducing learning rate of group 0 to 1.0000e-05.\n",
      "\u001b[36m(ClientAppActor pid=4144273)\u001b[0m Running epoch 9/10\n",
      "\u001b[36m(ClientAppActor pid=4144273)\u001b[0m Epoch 10: train loss 0.0023581130710920804, accuracy 1.0\n",
      "\u001b[36m(ClientAppActor pid=4144273)\u001b[0m Training completed!\n",
      "\u001b[36m(ClientAppActor pid=4144273)\u001b[0m Length of params: 329\n"
     ]
    },
    {
     "name": "stderr",
     "output_type": "stream",
     "text": [
      "\u001b[36m(ClientAppActor pid=4144273)\u001b[0m \u001b[93mWARNING \u001b[0m:   Deprecation Warning: The `client_fn` function must return an instance of `Client`, but an instance of `NumpyClient` was returned. Please use `NumPyClient.to_client()` method to convert it to `Client`.\n"
     ]
    },
    {
     "name": "stdout",
     "output_type": "stream",
     "text": [
      "\u001b[36m(ClientAppActor pid=4144273)\u001b[0m [Client 7] fit, config: {'lr': 0.001}\n",
      "\u001b[36m(ClientAppActor pid=4144273)\u001b[0m Updating parameters 329\n",
      "\u001b[36m(ClientAppActor pid=4144273)\u001b[0m Setting parameters...\n",
      "\u001b[36m(ClientAppActor pid=4144273)\u001b[0m Client parameters set\n",
      "\u001b[36m(ClientAppActor pid=4144273)\u001b[0m Starting client training...\n",
      "\u001b[36m(ClientAppActor pid=4144273)\u001b[0m Running epoch 0/10\n",
      "\u001b[36m(ClientAppActor pid=4144273)\u001b[0m Epoch 1: train loss 1.2610962420766508e-06, accuracy 1.0\n",
      "\u001b[36m(ClientAppActor pid=4144273)\u001b[0m Running epoch 1/10\n",
      "\u001b[36m(ClientAppActor pid=4144273)\u001b[0m Epoch 2: train loss 7.591720083454627e-07, accuracy 1.0\n",
      "\u001b[36m(ClientAppActor pid=4144273)\u001b[0m Running epoch 2/10\n",
      "\u001b[36m(ClientAppActor pid=4144273)\u001b[0m Epoch 3: train loss 5.83497047264365e-07, accuracy 1.0\n",
      "\u001b[36m(ClientAppActor pid=4144273)\u001b[0m Running epoch 3/10\n",
      "\u001b[36m(ClientAppActor pid=4144273)\u001b[0m Epoch 4: train loss 7.152517635009453e-07, accuracy 1.0\n",
      "\u001b[36m(ClientAppActor pid=4144273)\u001b[0m Running epoch 4/10\n",
      "\u001b[36m(ClientAppActor pid=4144273)\u001b[0m Epoch 5: train loss 6.292836539949731e-06, accuracy 1.0\n",
      "\u001b[36m(ClientAppActor pid=4144273)\u001b[0m Running epoch 5/10\n",
      "\u001b[36m(ClientAppActor pid=4144273)\u001b[0m Epoch 6: train loss 9.411237771784823e-07, accuracy 1.0\n",
      "\u001b[36m(ClientAppActor pid=4144273)\u001b[0m Running epoch 6/10\n",
      "\u001b[36m(ClientAppActor pid=4144273)\u001b[0m Epoch 7: train loss 1.449326071834596e-06, accuracy 1.0\n",
      "\u001b[36m(ClientAppActor pid=4144273)\u001b[0m Running epoch 7/10\n",
      "\u001b[36m(ClientAppActor pid=4144273)\u001b[0m Epoch 8: train loss 5.019332710868471e-07, accuracy 1.0\n",
      "\u001b[36m(ClientAppActor pid=4144273)\u001b[0m Running epoch 8/10\n",
      "\u001b[36m(ClientAppActor pid=4144273)\u001b[0m Epoch 9: train loss 2.0077349205394057e-07, accuracy 1.0\n",
      "\u001b[36m(ClientAppActor pid=4144273)\u001b[0m Running epoch 9/10\n",
      "\u001b[36m(ClientAppActor pid=4144273)\u001b[0m Epoch 10: train loss 2.6978925292628206e-07, accuracy 1.0\n",
      "\u001b[36m(ClientAppActor pid=4144273)\u001b[0m Training completed!\n",
      "\u001b[36m(ClientAppActor pid=4144273)\u001b[0m Length of params: 329\n"
     ]
    },
    {
     "name": "stderr",
     "output_type": "stream",
     "text": [
      "\u001b[36m(ClientAppActor pid=4144273)\u001b[0m \u001b[93mWARNING \u001b[0m:   Deprecation Warning: The `client_fn` function must return an instance of `Client`, but an instance of `NumpyClient` was returned. Please use `NumPyClient.to_client()` method to convert it to `Client`.\n"
     ]
    },
    {
     "name": "stdout",
     "output_type": "stream",
     "text": [
      "\u001b[36m(ClientAppActor pid=4144273)\u001b[0m [Client 5] fit, config: {'lr': 0.001}\n",
      "\u001b[36m(ClientAppActor pid=4144273)\u001b[0m Updating parameters 329\n",
      "\u001b[36m(ClientAppActor pid=4144273)\u001b[0m Setting parameters...\n",
      "\u001b[36m(ClientAppActor pid=4144273)\u001b[0m Client parameters set\n",
      "\u001b[36m(ClientAppActor pid=4144273)\u001b[0m Starting client training...\n",
      "\u001b[36m(ClientAppActor pid=4144273)\u001b[0m Running epoch 0/10\n",
      "\u001b[36m(ClientAppActor pid=4144273)\u001b[0m Epoch 1: train loss 4.862309508194142e-06, accuracy 1.0\n",
      "\u001b[36m(ClientAppActor pid=4144273)\u001b[0m Running epoch 1/10\n",
      "\u001b[36m(ClientAppActor pid=4144273)\u001b[0m Epoch 2: train loss 1.6312838182018728e-07, accuracy 1.0\n",
      "\u001b[36m(ClientAppActor pid=4144273)\u001b[0m Running epoch 2/10\n",
      "\u001b[36m(ClientAppActor pid=4144273)\u001b[0m Epoch 3: train loss 2.7166553125898406e-06, accuracy 1.0\n",
      "\u001b[36m(ClientAppActor pid=4144273)\u001b[0m Running epoch 3/10\n",
      "\u001b[36m(ClientAppActor pid=4144273)\u001b[0m Epoch 4: train loss 3.63901747098345e-07, accuracy 1.0\n",
      "\u001b[36m(ClientAppActor pid=4144273)\u001b[0m Running epoch 4/10\n",
      "\u001b[36m(ClientAppActor pid=4144273)\u001b[0m Epoch 5: train loss 1.8195093712404884e-07, accuracy 1.0\n",
      "\u001b[36m(ClientAppActor pid=4144273)\u001b[0m Running epoch 5/10\n",
      "\u001b[36m(ClientAppActor pid=4144273)\u001b[0m Epoch 6: train loss 9.662198743554701e-07, accuracy 1.0\n",
      "\u001b[36m(ClientAppActor pid=4144273)\u001b[0m Running epoch 6/10\n",
      "\u001b[36m(ClientAppActor pid=4144273)\u001b[0m Epoch 7: train loss 1.530879661447072e-06, accuracy 1.0\n",
      "\u001b[36m(ClientAppActor pid=4144273)\u001b[0m Epoch 00007: reducing learning rate of group 0 to 1.0000e-05.\n",
      "\u001b[36m(ClientAppActor pid=4144273)\u001b[0m Running epoch 7/10\n",
      "\u001b[36m(ClientAppActor pid=4144273)\u001b[0m Epoch 8: train loss 7.9054500078332e-07, accuracy 1.0\n",
      "\u001b[36m(ClientAppActor pid=4144273)\u001b[0m Running epoch 8/10\n",
      "\u001b[36m(ClientAppActor pid=4144273)\u001b[0m Epoch 9: train loss 1.5183436217787522e-06, accuracy 1.0\n",
      "\u001b[36m(ClientAppActor pid=4144273)\u001b[0m Running epoch 9/10\n",
      "\u001b[36m(ClientAppActor pid=4144273)\u001b[0m Epoch 10: train loss 2.327684117780767e-06, accuracy 1.0\n",
      "\u001b[36m(ClientAppActor pid=4144273)\u001b[0m Training completed!\n",
      "\u001b[36m(ClientAppActor pid=4144273)\u001b[0m Length of params: 329\n"
     ]
    },
    {
     "name": "stderr",
     "output_type": "stream",
     "text": [
      "\u001b[36m(ClientAppActor pid=4144273)\u001b[0m \u001b[93mWARNING \u001b[0m:   Deprecation Warning: The `client_fn` function must return an instance of `Client`, but an instance of `NumpyClient` was returned. Please use `NumPyClient.to_client()` method to convert it to `Client`.\n"
     ]
    },
    {
     "name": "stdout",
     "output_type": "stream",
     "text": [
      "\u001b[36m(ClientAppActor pid=4144273)\u001b[0m [Client 0] fit, config: {'lr': 0.003}\n",
      "\u001b[36m(ClientAppActor pid=4144273)\u001b[0m Updating parameters 329\n",
      "\u001b[36m(ClientAppActor pid=4144273)\u001b[0m Setting parameters...\n",
      "\u001b[36m(ClientAppActor pid=4144273)\u001b[0m Client parameters set\n",
      "\u001b[36m(ClientAppActor pid=4144273)\u001b[0m Starting client training...\n",
      "\u001b[36m(ClientAppActor pid=4144273)\u001b[0m Running epoch 0/10\n",
      "\u001b[36m(ClientAppActor pid=4144273)\u001b[0m Epoch 1: train loss 7.73577075482248e-06, accuracy 1.0\n",
      "\u001b[36m(ClientAppActor pid=4144273)\u001b[0m Running epoch 1/10\n",
      "\u001b[36m(ClientAppActor pid=4144273)\u001b[0m Epoch 2: train loss 9.411258055910079e-08, accuracy 1.0\n",
      "\u001b[36m(ClientAppActor pid=4144273)\u001b[0m Running epoch 2/10\n",
      "\u001b[36m(ClientAppActor pid=4144273)\u001b[0m Epoch 3: train loss 3.0115983101471725e-07, accuracy 1.0\n",
      "\u001b[36m(ClientAppActor pid=4144273)\u001b[0m Running epoch 3/10\n",
      "\u001b[36m(ClientAppActor pid=4144273)\u001b[0m Epoch 4: train loss 1.192083369747515e-06, accuracy 1.0\n",
      "\u001b[36m(ClientAppActor pid=4144273)\u001b[0m Running epoch 4/10\n",
      "\u001b[36m(ClientAppActor pid=4144273)\u001b[0m Epoch 5: train loss 2.1959589216030986e-07, accuracy 1.0\n",
      "\u001b[36m(ClientAppActor pid=4144273)\u001b[0m Running epoch 5/10\n",
      "\u001b[36m(ClientAppActor pid=4144273)\u001b[0m Epoch 6: train loss 1.3803173677735302e-07, accuracy 1.0\n",
      "\u001b[36m(ClientAppActor pid=4144273)\u001b[0m Running epoch 6/10\n",
      "\u001b[36m(ClientAppActor pid=4144273)\u001b[0m Epoch 7: train loss 1.2548341444292084e-07, accuracy 1.0\n",
      "\u001b[36m(ClientAppActor pid=4144273)\u001b[0m Epoch 00007: reducing learning rate of group 0 to 1.0000e-05.\n",
      "\u001b[36m(ClientAppActor pid=4144273)\u001b[0m Running epoch 7/10\n",
      "\u001b[36m(ClientAppActor pid=4144273)\u001b[0m Epoch 8: train loss 8.156390370124044e-07, accuracy 1.0\n",
      "\u001b[36m(ClientAppActor pid=4144273)\u001b[0m Running epoch 8/10\n",
      "\u001b[36m(ClientAppActor pid=4144273)\u001b[0m Epoch 9: train loss 1.424224347159141e-06, accuracy 1.0\n",
      "\u001b[36m(ClientAppActor pid=4144273)\u001b[0m Running epoch 9/10\n",
      "\u001b[36m(ClientAppActor pid=4144273)\u001b[0m Epoch 10: train loss 1.1481632483130517e-06, accuracy 1.0\n",
      "\u001b[36m(ClientAppActor pid=4144273)\u001b[0m Training completed!\n",
      "\u001b[36m(ClientAppActor pid=4144273)\u001b[0m Length of params: 329\n"
     ]
    },
    {
     "name": "stderr",
     "output_type": "stream",
     "text": [
      "\u001b[36m(ClientAppActor pid=4144273)\u001b[0m \u001b[93mWARNING \u001b[0m:   Deprecation Warning: The `client_fn` function must return an instance of `Client`, but an instance of `NumpyClient` was returned. Please use `NumPyClient.to_client()` method to convert it to `Client`.\n"
     ]
    },
    {
     "name": "stdout",
     "output_type": "stream",
     "text": [
      "\u001b[36m(ClientAppActor pid=4144273)\u001b[0m [Client 4] fit, config: {'lr': 0.003}\n",
      "\u001b[36m(ClientAppActor pid=4144273)\u001b[0m Updating parameters 329\n",
      "\u001b[36m(ClientAppActor pid=4144273)\u001b[0m Setting parameters...\n",
      "\u001b[36m(ClientAppActor pid=4144273)\u001b[0m Client parameters set\n",
      "\u001b[36m(ClientAppActor pid=4144273)\u001b[0m Starting client training...\n",
      "\u001b[36m(ClientAppActor pid=4144273)\u001b[0m Running epoch 0/10\n",
      "\u001b[36m(ClientAppActor pid=4144273)\u001b[0m Epoch 1: train loss 3.1495655891053263e-06, accuracy 1.0\n",
      "\u001b[36m(ClientAppActor pid=4144273)\u001b[0m Running epoch 1/10\n",
      "\u001b[36m(ClientAppActor pid=4144273)\u001b[0m Epoch 2: train loss 8.281869285335568e-07, accuracy 1.0\n",
      "\u001b[36m(ClientAppActor pid=4144273)\u001b[0m Running epoch 2/10\n",
      "\u001b[36m(ClientAppActor pid=4144273)\u001b[0m Epoch 3: train loss 2.1332169509198713e-07, accuracy 1.0\n",
      "\u001b[36m(ClientAppActor pid=4144273)\u001b[0m Running epoch 3/10\n",
      "\u001b[36m(ClientAppActor pid=4144273)\u001b[0m Epoch 4: train loss 9.662161915002798e-07, accuracy 1.0\n",
      "\u001b[36m(ClientAppActor pid=4144273)\u001b[0m Running epoch 4/10\n",
      "\u001b[36m(ClientAppActor pid=4144273)\u001b[0m Epoch 5: train loss 1.3175732946317447e-06, accuracy 1.0\n",
      "\u001b[36m(ClientAppActor pid=4144273)\u001b[0m Running epoch 5/10\n",
      "\u001b[36m(ClientAppActor pid=4144273)\u001b[0m Epoch 6: train loss 3.3880493638686234e-07, accuracy 1.0\n",
      "\u001b[36m(ClientAppActor pid=4144273)\u001b[0m Running epoch 6/10\n",
      "\u001b[36m(ClientAppActor pid=4144273)\u001b[0m Epoch 7: train loss 2.3214431920630312e-07, accuracy 1.0\n",
      "\u001b[36m(ClientAppActor pid=4144273)\u001b[0m Running epoch 7/10\n",
      "\u001b[36m(ClientAppActor pid=4144273)\u001b[0m Epoch 8: train loss 3.952716868202276e-07, accuracy 1.0\n",
      "\u001b[36m(ClientAppActor pid=4144273)\u001b[0m Epoch 00008: reducing learning rate of group 0 to 1.0000e-05.\n",
      "\u001b[36m(ClientAppActor pid=4144273)\u001b[0m Running epoch 8/10\n",
      "\u001b[36m(ClientAppActor pid=4144273)\u001b[0m Epoch 9: train loss 5.333041180596123e-07, accuracy 1.0\n",
      "\u001b[36m(ClientAppActor pid=4144273)\u001b[0m Running epoch 9/10\n",
      "\u001b[36m(ClientAppActor pid=4144273)\u001b[0m Epoch 10: train loss 1.303030865672458e-05, accuracy 1.0\n",
      "\u001b[36m(ClientAppActor pid=4144273)\u001b[0m Training completed!\n",
      "\u001b[36m(ClientAppActor pid=4144273)\u001b[0m Length of params: 329\n"
     ]
    },
    {
     "name": "stderr",
     "output_type": "stream",
     "text": [
      "\u001b[36m(ClientAppActor pid=4144273)\u001b[0m \u001b[93mWARNING \u001b[0m:   Deprecation Warning: The `client_fn` function must return an instance of `Client`, but an instance of `NumpyClient` was returned. Please use `NumPyClient.to_client()` method to convert it to `Client`.\n"
     ]
    },
    {
     "name": "stdout",
     "output_type": "stream",
     "text": [
      "\u001b[36m(ClientAppActor pid=4144273)\u001b[0m [Client 3] fit, config: {'lr': 0.003}\n",
      "\u001b[36m(ClientAppActor pid=4144273)\u001b[0m Updating parameters 329\n",
      "\u001b[36m(ClientAppActor pid=4144273)\u001b[0m Setting parameters...\n",
      "\u001b[36m(ClientAppActor pid=4144273)\u001b[0m Client parameters set\n",
      "\u001b[36m(ClientAppActor pid=4144273)\u001b[0m Starting client training...\n",
      "\u001b[36m(ClientAppActor pid=4144273)\u001b[0m Running epoch 0/10\n",
      "\u001b[36m(ClientAppActor pid=4144273)\u001b[0m Epoch 1: train loss 5.803457735896102e-06, accuracy 1.0\n",
      "\u001b[36m(ClientAppActor pid=4144273)\u001b[0m Running epoch 1/10\n",
      "\u001b[36m(ClientAppActor pid=4144273)\u001b[0m Epoch 2: train loss 1.4932482276651029e-06, accuracy 1.0\n",
      "\u001b[36m(ClientAppActor pid=4144273)\u001b[0m Running epoch 2/10\n",
      "\u001b[36m(ClientAppActor pid=4144273)\u001b[0m Epoch 3: train loss 1.2862005138608287e-06, accuracy 1.0\n",
      "\u001b[36m(ClientAppActor pid=4144273)\u001b[0m Running epoch 3/10\n",
      "\u001b[36m(ClientAppActor pid=4144273)\u001b[0m Epoch 4: train loss 7.027063379370558e-07, accuracy 1.0\n",
      "\u001b[36m(ClientAppActor pid=4144273)\u001b[0m Running epoch 4/10\n",
      "\u001b[36m(ClientAppActor pid=4144273)\u001b[0m Epoch 5: train loss 6.336901458774647e-07, accuracy 1.0\n",
      "\u001b[36m(ClientAppActor pid=4144273)\u001b[0m Running epoch 5/10\n",
      "\u001b[36m(ClientAppActor pid=4144273)\u001b[0m Epoch 6: train loss 1.360808566443582e-05, accuracy 1.0\n",
      "\u001b[36m(ClientAppActor pid=4144273)\u001b[0m Running epoch 6/10\n",
      "\u001b[36m(ClientAppActor pid=4144273)\u001b[0m Epoch 7: train loss 2.3516823698867628e-05, accuracy 1.0\n",
      "\u001b[36m(ClientAppActor pid=4144273)\u001b[0m Running epoch 7/10\n",
      "\u001b[36m(ClientAppActor pid=4144273)\u001b[0m Epoch 8: train loss 8.28189130094128e-07, accuracy 1.0\n",
      "\u001b[36m(ClientAppActor pid=4144273)\u001b[0m Running epoch 8/10\n",
      "\u001b[36m(ClientAppActor pid=4144273)\u001b[0m Epoch 9: train loss 3.7017587984385163e-07, accuracy 1.0\n",
      "\u001b[36m(ClientAppActor pid=4144273)\u001b[0m Running epoch 9/10\n",
      "\u001b[36m(ClientAppActor pid=4144273)\u001b[0m Epoch 10: train loss 1.5497142002411573e-06, accuracy 1.0\n",
      "\u001b[36m(ClientAppActor pid=4144273)\u001b[0m Training completed!\n",
      "\u001b[36m(ClientAppActor pid=4144273)\u001b[0m Length of params: 329\n"
     ]
    },
    {
     "name": "stderr",
     "output_type": "stream",
     "text": [
      "\u001b[36m(ClientAppActor pid=4144273)\u001b[0m \u001b[93mWARNING \u001b[0m:   Deprecation Warning: The `client_fn` function must return an instance of `Client`, but an instance of `NumpyClient` was returned. Please use `NumPyClient.to_client()` method to convert it to `Client`.\n"
     ]
    },
    {
     "name": "stdout",
     "output_type": "stream",
     "text": [
      "\u001b[36m(ClientAppActor pid=4144273)\u001b[0m [Client 2] fit, config: {'lr': 0.003}\n",
      "\u001b[36m(ClientAppActor pid=4144273)\u001b[0m Updating parameters 329\n",
      "\u001b[36m(ClientAppActor pid=4144273)\u001b[0m Setting parameters...\n",
      "\u001b[36m(ClientAppActor pid=4144273)\u001b[0m Client parameters set\n",
      "\u001b[36m(ClientAppActor pid=4144273)\u001b[0m Starting client training...\n",
      "\u001b[36m(ClientAppActor pid=4144273)\u001b[0m Running epoch 0/10\n",
      "\u001b[36m(ClientAppActor pid=4144273)\u001b[0m Epoch 1: train loss 0.0001008146576402013, accuracy 1.0\n",
      "\u001b[36m(ClientAppActor pid=4144273)\u001b[0m Running epoch 1/10\n",
      "\u001b[36m(ClientAppActor pid=4144273)\u001b[0m Epoch 2: train loss 1.0666086699242633e-07, accuracy 1.0\n",
      "\u001b[36m(ClientAppActor pid=4144273)\u001b[0m Running epoch 2/10\n",
      "\u001b[36m(ClientAppActor pid=4144273)\u001b[0m Epoch 3: train loss 6.65058378800902e-07, accuracy 1.0\n",
      "\u001b[36m(ClientAppActor pid=4144273)\u001b[0m Running epoch 3/10\n",
      "\u001b[36m(ClientAppActor pid=4144273)\u001b[0m Epoch 4: train loss 3.29680869499109e-05, accuracy 1.0\n",
      "\u001b[36m(ClientAppActor pid=4144273)\u001b[0m Running epoch 4/10\n",
      "\u001b[36m(ClientAppActor pid=4144273)\u001b[0m Epoch 5: train loss 8.356579775480847e-06, accuracy 1.0\n",
      "\u001b[36m(ClientAppActor pid=4144273)\u001b[0m Running epoch 5/10\n",
      "\u001b[36m(ClientAppActor pid=4144273)\u001b[0m Epoch 6: train loss 0.00014557299743357457, accuracy 1.0\n",
      "\u001b[36m(ClientAppActor pid=4144273)\u001b[0m Running epoch 6/10\n",
      "\u001b[36m(ClientAppActor pid=4144273)\u001b[0m Epoch 7: train loss 1.0666087708961257e-07, accuracy 1.0\n",
      "\u001b[36m(ClientAppActor pid=4144273)\u001b[0m Epoch 00007: reducing learning rate of group 0 to 1.0000e-05.\n",
      "\u001b[36m(ClientAppActor pid=4144273)\u001b[0m Running epoch 7/10\n",
      "\u001b[36m(ClientAppActor pid=4144273)\u001b[0m Epoch 8: train loss 1.8195093675007898e-07, accuracy 1.0\n",
      "\u001b[36m(ClientAppActor pid=4144273)\u001b[0m Running epoch 8/10\n",
      "\u001b[36m(ClientAppActor pid=4144273)\u001b[0m Epoch 9: train loss 1.192092297156035e-07, accuracy 1.0\n",
      "\u001b[36m(ClientAppActor pid=4144273)\u001b[0m Running epoch 9/10\n",
      "\u001b[36m(ClientAppActor pid=4144273)\u001b[0m Epoch 10: train loss 3.4507916337277396e-07, accuracy 1.0\n",
      "\u001b[36m(ClientAppActor pid=4144273)\u001b[0m Training completed!\n",
      "\u001b[36m(ClientAppActor pid=4144273)\u001b[0m Length of params: 329\n"
     ]
    },
    {
     "name": "stderr",
     "output_type": "stream",
     "text": [
      "\u001b[36m(ClientAppActor pid=4144273)\u001b[0m \u001b[93mWARNING \u001b[0m:   Deprecation Warning: The `client_fn` function must return an instance of `Client`, but an instance of `NumpyClient` was returned. Please use `NumPyClient.to_client()` method to convert it to `Client`.\n"
     ]
    },
    {
     "name": "stdout",
     "output_type": "stream",
     "text": [
      "\u001b[36m(ClientAppActor pid=4144273)\u001b[0m [Client 9] fit, config: {'lr': 0.003}\n",
      "\u001b[36m(ClientAppActor pid=4144273)\u001b[0m Updating parameters 329\n",
      "\u001b[36m(ClientAppActor pid=4144273)\u001b[0m Setting parameters...\n",
      "\u001b[36m(ClientAppActor pid=4144273)\u001b[0m Client parameters set\n",
      "\u001b[36m(ClientAppActor pid=4144273)\u001b[0m Starting client training...\n",
      "\u001b[36m(ClientAppActor pid=4144273)\u001b[0m Running epoch 0/10\n",
      "\u001b[36m(ClientAppActor pid=4144273)\u001b[0m Epoch 1: train loss 2.1268567943479867e-05, accuracy 1.0\n",
      "\u001b[36m(ClientAppActor pid=4144273)\u001b[0m Running epoch 1/10\n",
      "\u001b[36m(ClientAppActor pid=4144273)\u001b[0m Epoch 2: train loss 6.394109532266157e-06, accuracy 1.0\n",
      "\u001b[36m(ClientAppActor pid=4144273)\u001b[0m Running epoch 2/10\n",
      "\u001b[36m(ClientAppActor pid=4144273)\u001b[0m Epoch 3: train loss 6.437279989768286e-07, accuracy 1.0\n",
      "\u001b[36m(ClientAppActor pid=4144273)\u001b[0m Running epoch 3/10\n",
      "\u001b[36m(ClientAppActor pid=4144273)\u001b[0m Epoch 4: train loss 7.200216032288154e-07, accuracy 1.0\n",
      "\u001b[36m(ClientAppActor pid=4144273)\u001b[0m Running epoch 4/10\n",
      "\u001b[36m(ClientAppActor pid=4144273)\u001b[0m Epoch 5: train loss 3.9004393602226625e-06, accuracy 1.0\n",
      "\u001b[36m(ClientAppActor pid=4144273)\u001b[0m Running epoch 5/10\n",
      "\u001b[36m(ClientAppActor pid=4144273)\u001b[0m Epoch 6: train loss 5.817403666696919e-07, accuracy 1.0\n",
      "\u001b[36m(ClientAppActor pid=4144273)\u001b[0m Running epoch 6/10\n",
      "\u001b[36m(ClientAppActor pid=4144273)\u001b[0m Epoch 7: train loss 7.438640113832662e-07, accuracy 1.0\n",
      "\u001b[36m(ClientAppActor pid=4144273)\u001b[0m Running epoch 7/10\n",
      "\u001b[36m(ClientAppActor pid=4144273)\u001b[0m Epoch 8: train loss 2.6226014369967744e-07, accuracy 1.0\n",
      "\u001b[36m(ClientAppActor pid=4144273)\u001b[0m Running epoch 8/10\n",
      "\u001b[36m(ClientAppActor pid=4144273)\u001b[0m Epoch 9: train loss 3.7239459197735413e-06, accuracy 1.0\n",
      "\u001b[36m(ClientAppActor pid=4144273)\u001b[0m Running epoch 9/10\n",
      "\u001b[36m(ClientAppActor pid=4144273)\u001b[0m Epoch 10: train loss 1.2577166421579022e-05, accuracy 1.0\n",
      "\u001b[36m(ClientAppActor pid=4144273)\u001b[0m Training completed!\n",
      "\u001b[36m(ClientAppActor pid=4144273)\u001b[0m Length of params: 329\n"
     ]
    },
    {
     "name": "stderr",
     "output_type": "stream",
     "text": [
      "\u001b[92mINFO \u001b[0m:      aggregate_fit: received 10 results and 0 failures\n"
     ]
    },
    {
     "name": "stdout",
     "output_type": "stream",
     "text": [
      "Evaluating global model\n",
      "Updating parameters 329\n",
      "Setting parameters...\n",
      "Parameter set\n",
      "Starting client validation...\n",
      "Validataion accuracy = 0.8666666666666667\n",
      "Global evaluation round 8 loss = 0.07146279215812683 accuracy = 0.8666666666666667\n"
     ]
    },
    {
     "name": "stderr",
     "output_type": "stream",
     "text": [
      "\u001b[92mINFO \u001b[0m:      fit progress: (8, 0.07146279215812683, {}, 5824.198278485797)\n",
      "\u001b[92mINFO \u001b[0m:      configure_evaluate: strategy sampled 10 clients (out of 10)\n"
     ]
    },
    {
     "name": "stdout",
     "output_type": "stream",
     "text": [
      "Model saved at ./fl_checkpointsswintransformer_e10_c10_r10/fl_densenet_8.pth\n"
     ]
    },
    {
     "name": "stderr",
     "output_type": "stream",
     "text": [
      "\u001b[36m(ClientAppActor pid=4144273)\u001b[0m \u001b[93mWARNING \u001b[0m:   Deprecation Warning: The `client_fn` function must return an instance of `Client`, but an instance of `NumpyClient` was returned. Please use `NumPyClient.to_client()` method to convert it to `Client`.\n"
     ]
    },
    {
     "name": "stdout",
     "output_type": "stream",
     "text": [
      "\u001b[36m(ClientAppActor pid=4144273)\u001b[0m [Client 6] evaluate, config: {}\n",
      "\u001b[36m(ClientAppActor pid=4144273)\u001b[0m Updating parameters 329\n",
      "\u001b[36m(ClientAppActor pid=4144273)\u001b[0m Setting parameters...\n",
      "\u001b[36m(ClientAppActor pid=4144273)\u001b[0m Starting client validation...\n",
      "\u001b[36m(ClientAppActor pid=4144273)\u001b[0m Validataion accuracy = 0.8666666666666667\n",
      "\u001b[36m(ClientAppActor pid=4144273)\u001b[0m Evaluation loss = 0.07146279215812683 accuracy = 0.8666666666666667\n"
     ]
    },
    {
     "name": "stderr",
     "output_type": "stream",
     "text": [
      "\u001b[36m(ClientAppActor pid=4144273)\u001b[0m \u001b[93mWARNING \u001b[0m:   Deprecation Warning: The `client_fn` function must return an instance of `Client`, but an instance of `NumpyClient` was returned. Please use `NumPyClient.to_client()` method to convert it to `Client`.\n"
     ]
    },
    {
     "name": "stdout",
     "output_type": "stream",
     "text": [
      "\u001b[36m(ClientAppActor pid=4144273)\u001b[0m [Client 9] evaluate, config: {}\n",
      "\u001b[36m(ClientAppActor pid=4144273)\u001b[0m Updating parameters 329\n",
      "\u001b[36m(ClientAppActor pid=4144273)\u001b[0m Setting parameters...\n",
      "\u001b[36m(ClientAppActor pid=4144273)\u001b[0m Starting client validation...\n",
      "\u001b[36m(ClientAppActor pid=4144273)\u001b[0m Validataion accuracy = 0.8666666666666667\n",
      "\u001b[36m(ClientAppActor pid=4144273)\u001b[0m Evaluation loss = 0.07146279215812683 accuracy = 0.8666666666666667\n"
     ]
    },
    {
     "name": "stderr",
     "output_type": "stream",
     "text": [
      "\u001b[36m(ClientAppActor pid=4144273)\u001b[0m \u001b[93mWARNING \u001b[0m:   Deprecation Warning: The `client_fn` function must return an instance of `Client`, but an instance of `NumpyClient` was returned. Please use `NumPyClient.to_client()` method to convert it to `Client`.\n"
     ]
    },
    {
     "name": "stdout",
     "output_type": "stream",
     "text": [
      "\u001b[36m(ClientAppActor pid=4144273)\u001b[0m [Client 1] evaluate, config: {}\n",
      "\u001b[36m(ClientAppActor pid=4144273)\u001b[0m Updating parameters 329\n",
      "\u001b[36m(ClientAppActor pid=4144273)\u001b[0m Setting parameters...\n",
      "\u001b[36m(ClientAppActor pid=4144273)\u001b[0m Starting client validation...\n",
      "\u001b[36m(ClientAppActor pid=4144273)\u001b[0m Validataion accuracy = 0.8666666666666667\n",
      "\u001b[36m(ClientAppActor pid=4144273)\u001b[0m Evaluation loss = 0.07146279215812683 accuracy = 0.8666666666666667\n"
     ]
    },
    {
     "name": "stderr",
     "output_type": "stream",
     "text": [
      "\u001b[36m(ClientAppActor pid=4144273)\u001b[0m \u001b[93mWARNING \u001b[0m:   Deprecation Warning: The `client_fn` function must return an instance of `Client`, but an instance of `NumpyClient` was returned. Please use `NumPyClient.to_client()` method to convert it to `Client`.\n"
     ]
    },
    {
     "name": "stdout",
     "output_type": "stream",
     "text": [
      "\u001b[36m(ClientAppActor pid=4144273)\u001b[0m [Client 2] evaluate, config: {}\n",
      "\u001b[36m(ClientAppActor pid=4144273)\u001b[0m Updating parameters 329\n",
      "\u001b[36m(ClientAppActor pid=4144273)\u001b[0m Setting parameters...\n",
      "\u001b[36m(ClientAppActor pid=4144273)\u001b[0m Starting client validation...\n",
      "\u001b[36m(ClientAppActor pid=4144273)\u001b[0m Validataion accuracy = 0.8666666666666667\n",
      "\u001b[36m(ClientAppActor pid=4144273)\u001b[0m Evaluation loss = 0.07146279215812683 accuracy = 0.8666666666666667\n"
     ]
    },
    {
     "name": "stderr",
     "output_type": "stream",
     "text": [
      "\u001b[36m(ClientAppActor pid=4144273)\u001b[0m \u001b[93mWARNING \u001b[0m:   Deprecation Warning: The `client_fn` function must return an instance of `Client`, but an instance of `NumpyClient` was returned. Please use `NumPyClient.to_client()` method to convert it to `Client`.\n"
     ]
    },
    {
     "name": "stdout",
     "output_type": "stream",
     "text": [
      "\u001b[36m(ClientAppActor pid=4144273)\u001b[0m [Client 5] evaluate, config: {}\n",
      "\u001b[36m(ClientAppActor pid=4144273)\u001b[0m Updating parameters 329\n",
      "\u001b[36m(ClientAppActor pid=4144273)\u001b[0m Setting parameters...\n",
      "\u001b[36m(ClientAppActor pid=4144273)\u001b[0m Starting client validation...\n",
      "\u001b[36m(ClientAppActor pid=4144273)\u001b[0m Validataion accuracy = 0.8666666666666667\n",
      "\u001b[36m(ClientAppActor pid=4144273)\u001b[0m Evaluation loss = 0.07146279215812683 accuracy = 0.8666666666666667\n"
     ]
    },
    {
     "name": "stderr",
     "output_type": "stream",
     "text": [
      "\u001b[36m(ClientAppActor pid=4144273)\u001b[0m \u001b[93mWARNING \u001b[0m:   Deprecation Warning: The `client_fn` function must return an instance of `Client`, but an instance of `NumpyClient` was returned. Please use `NumPyClient.to_client()` method to convert it to `Client`.\n"
     ]
    },
    {
     "name": "stdout",
     "output_type": "stream",
     "text": [
      "\u001b[36m(ClientAppActor pid=4144273)\u001b[0m [Client 0] evaluate, config: {}\n",
      "\u001b[36m(ClientAppActor pid=4144273)\u001b[0m Updating parameters 329\n",
      "\u001b[36m(ClientAppActor pid=4144273)\u001b[0m Setting parameters...\n",
      "\u001b[36m(ClientAppActor pid=4144273)\u001b[0m Starting client validation...\n",
      "\u001b[36m(ClientAppActor pid=4144273)\u001b[0m Validataion accuracy = 0.8666666666666667\n",
      "\u001b[36m(ClientAppActor pid=4144273)\u001b[0m Evaluation loss = 0.07146279215812683 accuracy = 0.8666666666666667\n"
     ]
    },
    {
     "name": "stderr",
     "output_type": "stream",
     "text": [
      "\u001b[36m(ClientAppActor pid=4144273)\u001b[0m \u001b[93mWARNING \u001b[0m:   Deprecation Warning: The `client_fn` function must return an instance of `Client`, but an instance of `NumpyClient` was returned. Please use `NumPyClient.to_client()` method to convert it to `Client`.\n"
     ]
    },
    {
     "name": "stdout",
     "output_type": "stream",
     "text": [
      "\u001b[36m(ClientAppActor pid=4144273)\u001b[0m [Client 4] evaluate, config: {}\n",
      "\u001b[36m(ClientAppActor pid=4144273)\u001b[0m Updating parameters 329\n",
      "\u001b[36m(ClientAppActor pid=4144273)\u001b[0m Setting parameters...\n",
      "\u001b[36m(ClientAppActor pid=4144273)\u001b[0m Starting client validation...\n",
      "\u001b[36m(ClientAppActor pid=4144273)\u001b[0m Validataion accuracy = 0.8666666666666667\n",
      "\u001b[36m(ClientAppActor pid=4144273)\u001b[0m Evaluation loss = 0.07146279215812683 accuracy = 0.8666666666666667\n"
     ]
    },
    {
     "name": "stderr",
     "output_type": "stream",
     "text": [
      "\u001b[36m(ClientAppActor pid=4144273)\u001b[0m \u001b[93mWARNING \u001b[0m:   Deprecation Warning: The `client_fn` function must return an instance of `Client`, but an instance of `NumpyClient` was returned. Please use `NumPyClient.to_client()` method to convert it to `Client`.\n"
     ]
    },
    {
     "name": "stdout",
     "output_type": "stream",
     "text": [
      "\u001b[36m(ClientAppActor pid=4144273)\u001b[0m [Client 7] evaluate, config: {}\n",
      "\u001b[36m(ClientAppActor pid=4144273)\u001b[0m Updating parameters 329\n",
      "\u001b[36m(ClientAppActor pid=4144273)\u001b[0m Setting parameters...\n",
      "\u001b[36m(ClientAppActor pid=4144273)\u001b[0m Starting client validation...\n",
      "\u001b[36m(ClientAppActor pid=4144273)\u001b[0m Validataion accuracy = 0.8666666666666667\n",
      "\u001b[36m(ClientAppActor pid=4144273)\u001b[0m Evaluation loss = 0.07146279215812683 accuracy = 0.8666666666666667\n"
     ]
    },
    {
     "name": "stderr",
     "output_type": "stream",
     "text": [
      "\u001b[36m(ClientAppActor pid=4144273)\u001b[0m \u001b[93mWARNING \u001b[0m:   Deprecation Warning: The `client_fn` function must return an instance of `Client`, but an instance of `NumpyClient` was returned. Please use `NumPyClient.to_client()` method to convert it to `Client`.\n"
     ]
    },
    {
     "name": "stdout",
     "output_type": "stream",
     "text": [
      "\u001b[36m(ClientAppActor pid=4144273)\u001b[0m [Client 3] evaluate, config: {}\n",
      "\u001b[36m(ClientAppActor pid=4144273)\u001b[0m Updating parameters 329\n",
      "\u001b[36m(ClientAppActor pid=4144273)\u001b[0m Setting parameters...\n",
      "\u001b[36m(ClientAppActor pid=4144273)\u001b[0m Starting client validation...\n",
      "\u001b[36m(ClientAppActor pid=4144273)\u001b[0m Validataion accuracy = 0.8666666666666667\n",
      "\u001b[36m(ClientAppActor pid=4144273)\u001b[0m Evaluation loss = 0.07146279215812683 accuracy = 0.8666666666666667\n"
     ]
    },
    {
     "name": "stderr",
     "output_type": "stream",
     "text": [
      "\u001b[36m(ClientAppActor pid=4144273)\u001b[0m \u001b[93mWARNING \u001b[0m:   Deprecation Warning: The `client_fn` function must return an instance of `Client`, but an instance of `NumpyClient` was returned. Please use `NumPyClient.to_client()` method to convert it to `Client`.\n"
     ]
    },
    {
     "name": "stdout",
     "output_type": "stream",
     "text": [
      "\u001b[36m(ClientAppActor pid=4144273)\u001b[0m [Client 8] evaluate, config: {}\n",
      "\u001b[36m(ClientAppActor pid=4144273)\u001b[0m Updating parameters 329\n",
      "\u001b[36m(ClientAppActor pid=4144273)\u001b[0m Setting parameters...\n",
      "\u001b[36m(ClientAppActor pid=4144273)\u001b[0m Starting client validation...\n"
     ]
    },
    {
     "name": "stderr",
     "output_type": "stream",
     "text": [
      "\u001b[92mINFO \u001b[0m:      aggregate_evaluate: received 10 results and 0 failures\n",
      "\u001b[92mINFO \u001b[0m:      \n",
      "\u001b[92mINFO \u001b[0m:      [ROUND 9]\n",
      "\u001b[92mINFO \u001b[0m:      configure_fit: strategy sampled 10 clients (out of 10)\n"
     ]
    },
    {
     "name": "stdout",
     "output_type": "stream",
     "text": [
      "Starting configure fit function...\n",
      "Sample size = 10 Min Num Clients = 2 Clients = [<flwr.simulation.ray_transport.ray_client_proxy.RayActorClientProxy object at 0x155491b77750>, <flwr.simulation.ray_transport.ray_client_proxy.RayActorClientProxy object at 0x155491b76690>, <flwr.simulation.ray_transport.ray_client_proxy.RayActorClientProxy object at 0x155491b776d0>, <flwr.simulation.ray_transport.ray_client_proxy.RayActorClientProxy object at 0x155491b76fd0>, <flwr.simulation.ray_transport.ray_client_proxy.RayActorClientProxy object at 0x155314acf550>, <flwr.simulation.ray_transport.ray_client_proxy.RayActorClientProxy object at 0x155491b77150>, <flwr.simulation.ray_transport.ray_client_proxy.RayActorClientProxy object at 0x155491b771d0>, <flwr.simulation.ray_transport.ray_client_proxy.RayActorClientProxy object at 0x155491b775d0>, <flwr.simulation.ray_transport.ray_client_proxy.RayActorClientProxy object at 0x155491b77650>, <flwr.simulation.ray_transport.ray_client_proxy.RayActorClientProxy object at 0x155491b77310>]\n",
      "Number of clients = 10\n",
      "Fit Configurations\n",
      "\u001b[36m(ClientAppActor pid=4144273)\u001b[0m Validataion accuracy = 0.8666666666666667\n",
      "\u001b[36m(ClientAppActor pid=4144273)\u001b[0m Evaluation loss = 0.07146279215812683 accuracy = 0.8666666666666667\n"
     ]
    },
    {
     "name": "stderr",
     "output_type": "stream",
     "text": [
      "\u001b[36m(ClientAppActor pid=4144273)\u001b[0m \u001b[93mWARNING \u001b[0m:   Deprecation Warning: The `client_fn` function must return an instance of `Client`, but an instance of `NumpyClient` was returned. Please use `NumPyClient.to_client()` method to convert it to `Client`.\n"
     ]
    },
    {
     "name": "stdout",
     "output_type": "stream",
     "text": [
      "\u001b[36m(ClientAppActor pid=4144273)\u001b[0m [Client 9] fit, config: {'lr': 0.001}\n",
      "\u001b[36m(ClientAppActor pid=4144273)\u001b[0m Updating parameters 329\n",
      "\u001b[36m(ClientAppActor pid=4144273)\u001b[0m Setting parameters...\n",
      "\u001b[36m(ClientAppActor pid=4144273)\u001b[0m Client parameters set\n",
      "\u001b[36m(ClientAppActor pid=4144273)\u001b[0m Starting client training...\n",
      "\u001b[36m(ClientAppActor pid=4144273)\u001b[0m Running epoch 0/10\n",
      "\u001b[36m(ClientAppActor pid=4144273)\u001b[0m Epoch 1: train loss 3.8942606533964866e-05, accuracy 1.0\n",
      "\u001b[36m(ClientAppActor pid=4144273)\u001b[0m Running epoch 1/10\n",
      "\u001b[36m(ClientAppActor pid=4144273)\u001b[0m Epoch 2: train loss 1.1587073163354944e-06, accuracy 1.0\n",
      "\u001b[36m(ClientAppActor pid=4144273)\u001b[0m Running epoch 2/10\n",
      "\u001b[36m(ClientAppActor pid=4144273)\u001b[0m Epoch 3: train loss 7.295585123756609e-07, accuracy 1.0\n",
      "\u001b[36m(ClientAppActor pid=4144273)\u001b[0m Running epoch 3/10\n",
      "\u001b[36m(ClientAppActor pid=4144273)\u001b[0m Epoch 4: train loss 2.812815536344715e-05, accuracy 1.0\n",
      "\u001b[36m(ClientAppActor pid=4144273)\u001b[0m Running epoch 4/10\n",
      "\u001b[36m(ClientAppActor pid=4144273)\u001b[0m Epoch 5: train loss 6.8898032486686135e-06, accuracy 1.0\n",
      "\u001b[36m(ClientAppActor pid=4144273)\u001b[0m Running epoch 5/10\n",
      "\u001b[36m(ClientAppActor pid=4144273)\u001b[0m Epoch 6: train loss 2.384185592063659e-08, accuracy 1.0\n",
      "\u001b[36m(ClientAppActor pid=4144273)\u001b[0m Running epoch 6/10\n",
      "\u001b[36m(ClientAppActor pid=4144273)\u001b[0m Epoch 7: train loss 1.883478107629344e-06, accuracy 1.0\n",
      "\u001b[36m(ClientAppActor pid=4144273)\u001b[0m Running epoch 7/10\n",
      "\u001b[36m(ClientAppActor pid=4144273)\u001b[0m Epoch 8: train loss 2.288816608597699e-07, accuracy 1.0\n",
      "\u001b[36m(ClientAppActor pid=4144273)\u001b[0m Running epoch 8/10\n",
      "\u001b[36m(ClientAppActor pid=4144273)\u001b[0m Epoch 9: train loss 1.4781938375563187e-07, accuracy 1.0\n",
      "\u001b[36m(ClientAppActor pid=4144273)\u001b[0m Running epoch 9/10\n",
      "\u001b[36m(ClientAppActor pid=4144273)\u001b[0m Epoch 10: train loss 1.8500974942980975e-06, accuracy 1.0\n",
      "\u001b[36m(ClientAppActor pid=4144273)\u001b[0m Training completed!\n",
      "\u001b[36m(ClientAppActor pid=4144273)\u001b[0m Length of params: 329\n"
     ]
    },
    {
     "name": "stderr",
     "output_type": "stream",
     "text": [
      "\u001b[36m(ClientAppActor pid=4144273)\u001b[0m \u001b[93mWARNING \u001b[0m:   Deprecation Warning: The `client_fn` function must return an instance of `Client`, but an instance of `NumpyClient` was returned. Please use `NumPyClient.to_client()` method to convert it to `Client`.\n"
     ]
    },
    {
     "name": "stdout",
     "output_type": "stream",
     "text": [
      "\u001b[36m(ClientAppActor pid=4144273)\u001b[0m [Client 5] fit, config: {'lr': 0.001}\n",
      "\u001b[36m(ClientAppActor pid=4144273)\u001b[0m Updating parameters 329\n",
      "\u001b[36m(ClientAppActor pid=4144273)\u001b[0m Setting parameters...\n",
      "\u001b[36m(ClientAppActor pid=4144273)\u001b[0m Client parameters set\n",
      "\u001b[36m(ClientAppActor pid=4144273)\u001b[0m Starting client training...\n",
      "\u001b[36m(ClientAppActor pid=4144273)\u001b[0m Running epoch 0/10\n",
      "\u001b[36m(ClientAppActor pid=4144273)\u001b[0m Epoch 1: train loss 1.7352310058078346e-05, accuracy 1.0\n",
      "\u001b[36m(ClientAppActor pid=4144273)\u001b[0m Running epoch 1/10\n",
      "\u001b[36m(ClientAppActor pid=4144273)\u001b[0m Epoch 2: train loss 9.599467573121058e-07, accuracy 1.0\n",
      "\u001b[36m(ClientAppActor pid=4144273)\u001b[0m Running epoch 2/10\n",
      "\u001b[36m(ClientAppActor pid=4144273)\u001b[0m Epoch 3: train loss 3.513534935743672e-07, accuracy 1.0\n",
      "\u001b[36m(ClientAppActor pid=4144273)\u001b[0m Running epoch 3/10\n",
      "\u001b[36m(ClientAppActor pid=4144273)\u001b[0m Epoch 4: train loss 3.7079800282855868e-06, accuracy 1.0\n",
      "\u001b[36m(ClientAppActor pid=4144273)\u001b[0m Running epoch 4/10\n",
      "\u001b[36m(ClientAppActor pid=4144273)\u001b[0m Epoch 5: train loss 4.736887316731124e-06, accuracy 1.0\n",
      "\u001b[36m(ClientAppActor pid=4144273)\u001b[0m Running epoch 5/10\n",
      "\u001b[36m(ClientAppActor pid=4144273)\u001b[0m Epoch 6: train loss 1.4493219207691397e-06, accuracy 1.0\n",
      "\u001b[36m(ClientAppActor pid=4144273)\u001b[0m Running epoch 6/10\n",
      "\u001b[36m(ClientAppActor pid=4144273)\u001b[0m Epoch 7: train loss 6.27417193754809e-08, accuracy 1.0\n",
      "\u001b[36m(ClientAppActor pid=4144273)\u001b[0m Running epoch 7/10\n",
      "\u001b[36m(ClientAppActor pid=4144273)\u001b[0m Epoch 8: train loss 1.1544371338644804e-06, accuracy 1.0\n",
      "\u001b[36m(ClientAppActor pid=4144273)\u001b[0m Running epoch 8/10\n",
      "\u001b[36m(ClientAppActor pid=4144273)\u001b[0m Epoch 9: train loss 5.207549131563084e-07, accuracy 1.0\n",
      "\u001b[36m(ClientAppActor pid=4144273)\u001b[0m Running epoch 9/10\n",
      "\u001b[36m(ClientAppActor pid=4144273)\u001b[0m Epoch 10: train loss 8.90852564847783e-05, accuracy 1.0\n",
      "\u001b[36m(ClientAppActor pid=4144273)\u001b[0m Training completed!\n",
      "\u001b[36m(ClientAppActor pid=4144273)\u001b[0m Length of params: 329\n",
      "\u001b[36m(ClientAppActor pid=4144273)\u001b[0m \n"
     ]
    },
    {
     "name": "stderr",
     "output_type": "stream",
     "text": [
      "\u001b[36m(ClientAppActor pid=4144273)\u001b[0m \u001b[93mWARNING \u001b[0m:   Deprecation Warning: The `client_fn` function must return an instance of `Client`, but an instance of `NumpyClient` was returned. Please use `NumPyClient.to_client()` method to convert it to `Client`.\n"
     ]
    },
    {
     "name": "stdout",
     "output_type": "stream",
     "text": [
      "\u001b[36m(ClientAppActor pid=4144273)\u001b[0m [Client 8] fit, config: {'lr': 0.001}\n",
      "\u001b[36m(ClientAppActor pid=4144273)\u001b[0m Updating parameters 329\n",
      "\u001b[36m(ClientAppActor pid=4144273)\u001b[0m Setting parameters...\n",
      "\u001b[36m(ClientAppActor pid=4144273)\u001b[0m Client parameters set\n",
      "\u001b[36m(ClientAppActor pid=4144273)\u001b[0m Starting client training...\n",
      "\u001b[36m(ClientAppActor pid=4144273)\u001b[0m Running epoch 0/10\n",
      "\u001b[36m(ClientAppActor pid=4144273)\u001b[0m Epoch 1: train loss 1.0603283554569555e-06, accuracy 1.0\n",
      "\u001b[36m(ClientAppActor pid=4144273)\u001b[0m Running epoch 1/10\n",
      "\u001b[36m(ClientAppActor pid=4144273)\u001b[0m Epoch 2: train loss 3.143313889315897e-06, accuracy 1.0\n",
      "\u001b[36m(ClientAppActor pid=4144273)\u001b[0m Running epoch 2/10\n",
      "\u001b[36m(ClientAppActor pid=4144273)\u001b[0m Epoch 3: train loss 2.5733478219155802e-05, accuracy 1.0\n",
      "\u001b[36m(ClientAppActor pid=4144273)\u001b[0m Running epoch 3/10\n",
      "\u001b[36m(ClientAppActor pid=4144273)\u001b[0m Epoch 4: train loss 8.156396349902121e-07, accuracy 1.0\n",
      "\u001b[36m(ClientAppActor pid=4144273)\u001b[0m Running epoch 4/10\n",
      "\u001b[36m(ClientAppActor pid=4144273)\u001b[0m Epoch 5: train loss 0.00018957763026456202, accuracy 1.0\n",
      "\u001b[36m(ClientAppActor pid=4144273)\u001b[0m Running epoch 5/10\n",
      "\u001b[36m(ClientAppActor pid=4144273)\u001b[0m Epoch 6: train loss 2.384184833652781e-07, accuracy 1.0\n",
      "\u001b[36m(ClientAppActor pid=4144273)\u001b[0m Running epoch 6/10\n",
      "\u001b[36m(ClientAppActor pid=4144273)\u001b[0m Epoch 7: train loss 0.001125542545004895, accuracy 1.0\n",
      "\u001b[36m(ClientAppActor pid=4144273)\u001b[0m Running epoch 7/10\n",
      "\u001b[36m(ClientAppActor pid=4144273)\u001b[0m Epoch 8: train loss 0.06632724561189163, accuracy 0.9473684210526315\n",
      "\u001b[36m(ClientAppActor pid=4144273)\u001b[0m Running epoch 8/10\n",
      "\u001b[36m(ClientAppActor pid=4144273)\u001b[0m Epoch 9: train loss 2.2344253585814793e-05, accuracy 1.0\n",
      "\u001b[36m(ClientAppActor pid=4144273)\u001b[0m Running epoch 9/10\n",
      "\u001b[36m(ClientAppActor pid=4144273)\u001b[0m Epoch 10: train loss 0.6205580256156329, accuracy 0.9473684210526315\n",
      "\u001b[36m(ClientAppActor pid=4144273)\u001b[0m Training completed!\n",
      "\u001b[36m(ClientAppActor pid=4144273)\u001b[0m Length of params: 329\n"
     ]
    },
    {
     "name": "stderr",
     "output_type": "stream",
     "text": [
      "\u001b[36m(ClientAppActor pid=4144273)\u001b[0m \u001b[93mWARNING \u001b[0m:   Deprecation Warning: The `client_fn` function must return an instance of `Client`, but an instance of `NumpyClient` was returned. Please use `NumPyClient.to_client()` method to convert it to `Client`.\n"
     ]
    },
    {
     "name": "stdout",
     "output_type": "stream",
     "text": [
      "\u001b[36m(ClientAppActor pid=4144273)\u001b[0m [Client 1] fit, config: {'lr': 0.001}\n",
      "\u001b[36m(ClientAppActor pid=4144273)\u001b[0m Updating parameters 329\n",
      "\u001b[36m(ClientAppActor pid=4144273)\u001b[0m Setting parameters...\n",
      "\u001b[36m(ClientAppActor pid=4144273)\u001b[0m Client parameters set\n",
      "\u001b[36m(ClientAppActor pid=4144273)\u001b[0m Starting client training...\n",
      "\u001b[36m(ClientAppActor pid=4144273)\u001b[0m Running epoch 0/10\n",
      "\u001b[36m(ClientAppActor pid=4144273)\u001b[0m Epoch 1: train loss 5.9770078606609454e-05, accuracy 1.0\n",
      "\u001b[36m(ClientAppActor pid=4144273)\u001b[0m Running epoch 1/10\n",
      "\u001b[36m(ClientAppActor pid=4144273)\u001b[0m Epoch 2: train loss 1.3080597221615838e-05, accuracy 1.0\n",
      "\u001b[36m(ClientAppActor pid=4144273)\u001b[0m Running epoch 2/10\n",
      "\u001b[36m(ClientAppActor pid=4144273)\u001b[0m Epoch 3: train loss 1.2409013946449035e-05, accuracy 1.0\n",
      "\u001b[36m(ClientAppActor pid=4144273)\u001b[0m Running epoch 3/10\n",
      "\u001b[36m(ClientAppActor pid=4144273)\u001b[0m Epoch 4: train loss 9.88275094291686e-05, accuracy 1.0\n",
      "\u001b[36m(ClientAppActor pid=4144273)\u001b[0m Running epoch 4/10\n",
      "\u001b[36m(ClientAppActor pid=4144273)\u001b[0m Epoch 5: train loss 2.860954976456828e-06, accuracy 1.0\n",
      "\u001b[36m(ClientAppActor pid=4144273)\u001b[0m Running epoch 5/10\n",
      "\u001b[36m(ClientAppActor pid=4144273)\u001b[0m Epoch 6: train loss 8.093659887794945e-07, accuracy 1.0\n",
      "\u001b[36m(ClientAppActor pid=4144273)\u001b[0m Running epoch 6/10\n",
      "\u001b[36m(ClientAppActor pid=4144273)\u001b[0m Epoch 7: train loss 3.1370817803116025e-07, accuracy 1.0\n",
      "\u001b[36m(ClientAppActor pid=4144273)\u001b[0m Running epoch 7/10\n",
      "\u001b[36m(ClientAppActor pid=4144273)\u001b[0m Epoch 8: train loss 7.466239433022948e-07, accuracy 1.0\n",
      "\u001b[36m(ClientAppActor pid=4144273)\u001b[0m Running epoch 8/10\n",
      "\u001b[36m(ClientAppActor pid=4144273)\u001b[0m Epoch 9: train loss 4.153433684749823e-06, accuracy 1.0\n",
      "\u001b[36m(ClientAppActor pid=4144273)\u001b[0m Running epoch 9/10\n",
      "\u001b[36m(ClientAppActor pid=4144273)\u001b[0m Epoch 10: train loss 2.0077216169355732e-06, accuracy 1.0\n",
      "\u001b[36m(ClientAppActor pid=4144273)\u001b[0m Training completed!\n",
      "\u001b[36m(ClientAppActor pid=4144273)\u001b[0m Length of params: 329\n"
     ]
    },
    {
     "name": "stderr",
     "output_type": "stream",
     "text": [
      "\u001b[36m(ClientAppActor pid=4144273)\u001b[0m \u001b[93mWARNING \u001b[0m:   Deprecation Warning: The `client_fn` function must return an instance of `Client`, but an instance of `NumpyClient` was returned. Please use `NumPyClient.to_client()` method to convert it to `Client`.\n"
     ]
    },
    {
     "name": "stdout",
     "output_type": "stream",
     "text": [
      "\u001b[36m(ClientAppActor pid=4144273)\u001b[0m [Client 0] fit, config: {'lr': 0.001}\n",
      "\u001b[36m(ClientAppActor pid=4144273)\u001b[0m Updating parameters 329\n",
      "\u001b[36m(ClientAppActor pid=4144273)\u001b[0m Setting parameters...\n",
      "\u001b[36m(ClientAppActor pid=4144273)\u001b[0m Client parameters set\n",
      "\u001b[36m(ClientAppActor pid=4144273)\u001b[0m Starting client training...\n",
      "\u001b[36m(ClientAppActor pid=4144273)\u001b[0m Running epoch 0/10\n",
      "\u001b[36m(ClientAppActor pid=4144273)\u001b[0m Epoch 1: train loss 2.2524040775208144e-06, accuracy 1.0\n",
      "\u001b[36m(ClientAppActor pid=4144273)\u001b[0m Running epoch 1/10\n",
      "\u001b[36m(ClientAppActor pid=4144273)\u001b[0m Epoch 2: train loss 0.000498203545487884, accuracy 1.0\n",
      "\u001b[36m(ClientAppActor pid=4144273)\u001b[0m Running epoch 2/10\n",
      "\u001b[36m(ClientAppActor pid=4144273)\u001b[0m Epoch 3: train loss 5.263855869642205e-06, accuracy 1.0\n",
      "\u001b[36m(ClientAppActor pid=4144273)\u001b[0m Running epoch 3/10\n",
      "\u001b[36m(ClientAppActor pid=4144273)\u001b[0m Epoch 4: train loss 0.0006310151105637374, accuracy 1.0\n",
      "\u001b[36m(ClientAppActor pid=4144273)\u001b[0m Running epoch 4/10\n",
      "\u001b[36m(ClientAppActor pid=4144273)\u001b[0m Epoch 5: train loss 4.824679824591122e-06, accuracy 1.0\n",
      "\u001b[36m(ClientAppActor pid=4144273)\u001b[0m Running epoch 5/10\n",
      "\u001b[36m(ClientAppActor pid=4144273)\u001b[0m Epoch 6: train loss 0.000998393025024837, accuracy 1.0\n",
      "\u001b[36m(ClientAppActor pid=4144273)\u001b[0m Epoch 00006: reducing learning rate of group 0 to 1.0000e-05.\n",
      "\u001b[36m(ClientAppActor pid=4144273)\u001b[0m Running epoch 6/10\n",
      "\u001b[36m(ClientAppActor pid=4144273)\u001b[0m Epoch 7: train loss 5.2770979584992296e-05, accuracy 1.0\n",
      "\u001b[36m(ClientAppActor pid=4144273)\u001b[0m Running epoch 7/10\n",
      "\u001b[36m(ClientAppActor pid=4144273)\u001b[0m Epoch 8: train loss 1.4842892070239605e-05, accuracy 1.0\n",
      "\u001b[36m(ClientAppActor pid=4144273)\u001b[0m Running epoch 8/10\n",
      "\u001b[36m(ClientAppActor pid=4144273)\u001b[0m Epoch 9: train loss 0.000218266327118948, accuracy 1.0\n",
      "\u001b[36m(ClientAppActor pid=4144273)\u001b[0m Running epoch 9/10\n",
      "\u001b[36m(ClientAppActor pid=4144273)\u001b[0m Epoch 10: train loss 3.6914459105661846e-05, accuracy 1.0\n",
      "\u001b[36m(ClientAppActor pid=4144273)\u001b[0m Training completed!\n",
      "\u001b[36m(ClientAppActor pid=4144273)\u001b[0m Length of params: 329\n"
     ]
    },
    {
     "name": "stderr",
     "output_type": "stream",
     "text": [
      "\u001b[36m(ClientAppActor pid=4144273)\u001b[0m \u001b[93mWARNING \u001b[0m:   Deprecation Warning: The `client_fn` function must return an instance of `Client`, but an instance of `NumpyClient` was returned. Please use `NumPyClient.to_client()` method to convert it to `Client`.\n"
     ]
    },
    {
     "name": "stdout",
     "output_type": "stream",
     "text": [
      "\u001b[36m(ClientAppActor pid=4144273)\u001b[0m [Client 3] fit, config: {'lr': 0.003}\n",
      "\u001b[36m(ClientAppActor pid=4144273)\u001b[0m Updating parameters 329\n",
      "\u001b[36m(ClientAppActor pid=4144273)\u001b[0m Setting parameters...\n",
      "\u001b[36m(ClientAppActor pid=4144273)\u001b[0m Client parameters set\n",
      "\u001b[36m(ClientAppActor pid=4144273)\u001b[0m Starting client training...\n",
      "\u001b[36m(ClientAppActor pid=4144273)\u001b[0m Running epoch 0/10\n",
      "\u001b[36m(ClientAppActor pid=4144273)\u001b[0m Epoch 1: train loss 1.959820340408968e-05, accuracy 1.0\n",
      "\u001b[36m(ClientAppActor pid=4144273)\u001b[0m Running epoch 1/10\n",
      "\u001b[36m(ClientAppActor pid=4144273)\u001b[0m Epoch 2: train loss 1.8571301648319747e-06, accuracy 1.0\n",
      "\u001b[36m(ClientAppActor pid=4144273)\u001b[0m Running epoch 2/10\n",
      "\u001b[36m(ClientAppActor pid=4144273)\u001b[0m Epoch 3: train loss 1.129350820113024e-07, accuracy 1.0\n",
      "\u001b[36m(ClientAppActor pid=4144273)\u001b[0m Running epoch 3/10\n",
      "\u001b[36m(ClientAppActor pid=4144273)\u001b[0m Epoch 4: train loss 2.1332157542163164e-07, accuracy 1.0\n",
      "\u001b[36m(ClientAppActor pid=4144273)\u001b[0m Running epoch 4/10\n",
      "\u001b[36m(ClientAppActor pid=4144273)\u001b[0m Epoch 5: train loss 0.00014087274719617868, accuracy 1.0\n",
      "\u001b[36m(ClientAppActor pid=4144273)\u001b[0m Running epoch 5/10\n",
      "\u001b[36m(ClientAppActor pid=4144273)\u001b[0m Epoch 6: train loss 9.724943287150574e-07, accuracy 1.0\n",
      "\u001b[36m(ClientAppActor pid=4144273)\u001b[0m Running epoch 6/10\n",
      "\u001b[36m(ClientAppActor pid=4144273)\u001b[0m Epoch 7: train loss 6.77608011151757e-07, accuracy 1.0\n",
      "\u001b[36m(ClientAppActor pid=4144273)\u001b[0m Running epoch 7/10\n",
      "\u001b[36m(ClientAppActor pid=4144273)\u001b[0m Epoch 8: train loss 5.696853565352381e-06, accuracy 1.0\n",
      "\u001b[36m(ClientAppActor pid=4144273)\u001b[0m Epoch 00008: reducing learning rate of group 0 to 1.0000e-05.\n",
      "\u001b[36m(ClientAppActor pid=4144273)\u001b[0m Running epoch 8/10\n",
      "\u001b[36m(ClientAppActor pid=4144273)\u001b[0m Epoch 9: train loss 2.3768540765894086e-05, accuracy 1.0\n",
      "\u001b[36m(ClientAppActor pid=4144273)\u001b[0m Running epoch 9/10\n",
      "\u001b[36m(ClientAppActor pid=4144273)\u001b[0m Epoch 10: train loss 3.629293305015093e-05, accuracy 1.0\n",
      "\u001b[36m(ClientAppActor pid=4144273)\u001b[0m Training completed!\n",
      "\u001b[36m(ClientAppActor pid=4144273)\u001b[0m Length of params: 329\n"
     ]
    },
    {
     "name": "stderr",
     "output_type": "stream",
     "text": [
      "\u001b[36m(ClientAppActor pid=4144273)\u001b[0m \u001b[93mWARNING \u001b[0m:   Deprecation Warning: The `client_fn` function must return an instance of `Client`, but an instance of `NumpyClient` was returned. Please use `NumPyClient.to_client()` method to convert it to `Client`.\n"
     ]
    },
    {
     "name": "stdout",
     "output_type": "stream",
     "text": [
      "\u001b[36m(ClientAppActor pid=4144273)\u001b[0m [Client 2] fit, config: {'lr': 0.003}\n",
      "\u001b[36m(ClientAppActor pid=4144273)\u001b[0m Updating parameters 329\n",
      "\u001b[36m(ClientAppActor pid=4144273)\u001b[0m Setting parameters...\n",
      "\u001b[36m(ClientAppActor pid=4144273)\u001b[0m Client parameters set\n",
      "\u001b[36m(ClientAppActor pid=4144273)\u001b[0m Starting client training...\n",
      "\u001b[36m(ClientAppActor pid=4144273)\u001b[0m Running epoch 0/10\n",
      "\u001b[36m(ClientAppActor pid=4144273)\u001b[0m Epoch 1: train loss 0.00011688115390777392, accuracy 1.0\n",
      "\u001b[36m(ClientAppActor pid=4144273)\u001b[0m Running epoch 1/10\n",
      "\u001b[36m(ClientAppActor pid=4144273)\u001b[0m Epoch 2: train loss 1.192092297156035e-07, accuracy 1.0\n",
      "\u001b[36m(ClientAppActor pid=4144273)\u001b[0m Running epoch 2/10\n",
      "\u001b[36m(ClientAppActor pid=4144273)\u001b[0m Epoch 3: train loss 2.170828667514893e-06, accuracy 1.0\n",
      "\u001b[36m(ClientAppActor pid=4144273)\u001b[0m Running epoch 3/10\n",
      "\u001b[36m(ClientAppActor pid=4144273)\u001b[0m Epoch 4: train loss 0.0002723926383330428, accuracy 1.0\n",
      "\u001b[36m(ClientAppActor pid=4144273)\u001b[0m Running epoch 4/10\n",
      "\u001b[36m(ClientAppActor pid=4144273)\u001b[0m Epoch 5: train loss 0.00035991715757395585, accuracy 1.0\n",
      "\u001b[36m(ClientAppActor pid=4144273)\u001b[0m Running epoch 5/10\n",
      "\u001b[36m(ClientAppActor pid=4144273)\u001b[0m Epoch 6: train loss 3.946328146603743e-06, accuracy 1.0\n",
      "\u001b[36m(ClientAppActor pid=4144273)\u001b[0m Running epoch 6/10\n",
      "\u001b[36m(ClientAppActor pid=4144273)\u001b[0m Epoch 7: train loss 0.6206166995198356, accuracy 0.8947368421052632\n",
      "\u001b[36m(ClientAppActor pid=4144273)\u001b[0m Epoch 00007: reducing learning rate of group 0 to 1.0000e-05.\n",
      "\u001b[36m(ClientAppActor pid=4144273)\u001b[0m Running epoch 7/10\n",
      "\u001b[36m(ClientAppActor pid=4144273)\u001b[0m Epoch 8: train loss 0.0002866849837585649, accuracy 1.0\n",
      "\u001b[36m(ClientAppActor pid=4144273)\u001b[0m Running epoch 8/10\n",
      "\u001b[36m(ClientAppActor pid=4144273)\u001b[0m Epoch 9: train loss 1.1644243434267609e-05, accuracy 1.0\n",
      "\u001b[36m(ClientAppActor pid=4144273)\u001b[0m Running epoch 9/10\n",
      "\u001b[36m(ClientAppActor pid=4144273)\u001b[0m Epoch 10: train loss 0.0003446889305977445, accuracy 1.0\n",
      "\u001b[36m(ClientAppActor pid=4144273)\u001b[0m Training completed!\n",
      "\u001b[36m(ClientAppActor pid=4144273)\u001b[0m Length of params: 329\n"
     ]
    },
    {
     "name": "stderr",
     "output_type": "stream",
     "text": [
      "\u001b[36m(ClientAppActor pid=4144273)\u001b[0m \u001b[93mWARNING \u001b[0m:   Deprecation Warning: The `client_fn` function must return an instance of `Client`, but an instance of `NumpyClient` was returned. Please use `NumPyClient.to_client()` method to convert it to `Client`.\n"
     ]
    },
    {
     "name": "stdout",
     "output_type": "stream",
     "text": [
      "\u001b[36m(ClientAppActor pid=4144273)\u001b[0m [Client 6] fit, config: {'lr': 0.003}\n",
      "\u001b[36m(ClientAppActor pid=4144273)\u001b[0m Updating parameters 329\n",
      "\u001b[36m(ClientAppActor pid=4144273)\u001b[0m Setting parameters...\n",
      "\u001b[36m(ClientAppActor pid=4144273)\u001b[0m Client parameters set\n",
      "\u001b[36m(ClientAppActor pid=4144273)\u001b[0m Starting client training...\n",
      "\u001b[36m(ClientAppActor pid=4144273)\u001b[0m Running epoch 0/10\n",
      "\u001b[36m(ClientAppActor pid=4144273)\u001b[0m Epoch 1: train loss 3.1747005933587055e-06, accuracy 1.0\n",
      "\u001b[36m(ClientAppActor pid=4144273)\u001b[0m Running epoch 1/10\n",
      "\u001b[36m(ClientAppActor pid=4144273)\u001b[0m Epoch 2: train loss 9.655523548327724e-06, accuracy 1.0\n",
      "\u001b[36m(ClientAppActor pid=4144273)\u001b[0m Running epoch 2/10\n",
      "\u001b[36m(ClientAppActor pid=4144273)\u001b[0m Epoch 3: train loss 5.395781681577797e-07, accuracy 1.0\n",
      "\u001b[36m(ClientAppActor pid=4144273)\u001b[0m Running epoch 3/10\n",
      "\u001b[36m(ClientAppActor pid=4144273)\u001b[0m Epoch 4: train loss 3.4319244529743436e-06, accuracy 1.0\n",
      "\u001b[36m(ClientAppActor pid=4144273)\u001b[0m Running epoch 4/10\n",
      "\u001b[36m(ClientAppActor pid=4144273)\u001b[0m Epoch 5: train loss 8.720491007576775e-06, accuracy 1.0\n",
      "\u001b[36m(ClientAppActor pid=4144273)\u001b[0m Running epoch 5/10\n",
      "\u001b[36m(ClientAppActor pid=4144273)\u001b[0m Epoch 6: train loss 0.0001226132858144973, accuracy 1.0\n",
      "\u001b[36m(ClientAppActor pid=4144273)\u001b[0m Running epoch 6/10\n",
      "\u001b[36m(ClientAppActor pid=4144273)\u001b[0m Epoch 7: train loss 6.393074151844758e-06, accuracy 1.0\n",
      "\u001b[36m(ClientAppActor pid=4144273)\u001b[0m Running epoch 7/10\n",
      "\u001b[36m(ClientAppActor pid=4144273)\u001b[0m Epoch 8: train loss 1.3489370518838865e-06, accuracy 1.0\n",
      "\u001b[36m(ClientAppActor pid=4144273)\u001b[0m Epoch 00008: reducing learning rate of group 0 to 1.0000e-05.\n",
      "\u001b[36m(ClientAppActor pid=4144273)\u001b[0m Running epoch 8/10\n",
      "\u001b[36m(ClientAppActor pid=4144273)\u001b[0m Epoch 9: train loss 2.446923928507778e-07, accuracy 1.0\n",
      "\u001b[36m(ClientAppActor pid=4144273)\u001b[0m Running epoch 9/10\n",
      "\u001b[36m(ClientAppActor pid=4144273)\u001b[0m Epoch 10: train loss 4.956590972046558e-07, accuracy 1.0\n",
      "\u001b[36m(ClientAppActor pid=4144273)\u001b[0m Training completed!\n",
      "\u001b[36m(ClientAppActor pid=4144273)\u001b[0m Length of params: 329\n"
     ]
    },
    {
     "name": "stderr",
     "output_type": "stream",
     "text": [
      "\u001b[36m(ClientAppActor pid=4144273)\u001b[0m \u001b[93mWARNING \u001b[0m:   Deprecation Warning: The `client_fn` function must return an instance of `Client`, but an instance of `NumpyClient` was returned. Please use `NumPyClient.to_client()` method to convert it to `Client`.\n"
     ]
    },
    {
     "name": "stdout",
     "output_type": "stream",
     "text": [
      "\u001b[36m(ClientAppActor pid=4144273)\u001b[0m [Client 7] fit, config: {'lr': 0.003}\n",
      "\u001b[36m(ClientAppActor pid=4144273)\u001b[0m Updating parameters 329\n",
      "\u001b[36m(ClientAppActor pid=4144273)\u001b[0m Setting parameters...\n",
      "\u001b[36m(ClientAppActor pid=4144273)\u001b[0m Client parameters set\n",
      "\u001b[36m(ClientAppActor pid=4144273)\u001b[0m Starting client training...\n",
      "\u001b[36m(ClientAppActor pid=4144273)\u001b[0m Running epoch 0/10\n",
      "\u001b[36m(ClientAppActor pid=4144273)\u001b[0m Epoch 1: train loss 2.5274146920358026e-05, accuracy 1.0\n",
      "\u001b[36m(ClientAppActor pid=4144273)\u001b[0m Running epoch 1/10\n",
      "\u001b[36m(ClientAppActor pid=4144273)\u001b[0m Epoch 2: train loss 2.4343624461739398e-06, accuracy 1.0\n",
      "\u001b[36m(ClientAppActor pid=4144273)\u001b[0m Running epoch 2/10\n",
      "\u001b[36m(ClientAppActor pid=4144273)\u001b[0m Epoch 3: train loss 5.521249261762836e-07, accuracy 1.0\n",
      "\u001b[36m(ClientAppActor pid=4144273)\u001b[0m Running epoch 3/10\n",
      "\u001b[36m(ClientAppActor pid=4144273)\u001b[0m Epoch 4: train loss 2.1959579567608576e-07, accuracy 1.0\n",
      "\u001b[36m(ClientAppActor pid=4144273)\u001b[0m Running epoch 4/10\n",
      "\u001b[36m(ClientAppActor pid=4144273)\u001b[0m Epoch 5: train loss 8.658309980091872e-07, accuracy 1.0\n",
      "\u001b[36m(ClientAppActor pid=4144273)\u001b[0m Running epoch 5/10\n",
      "\u001b[36m(ClientAppActor pid=4144273)\u001b[0m Epoch 6: train loss 8.846517103895741e-07, accuracy 1.0\n",
      "\u001b[36m(ClientAppActor pid=4144273)\u001b[0m Running epoch 6/10\n",
      "\u001b[36m(ClientAppActor pid=4144273)\u001b[0m Epoch 7: train loss 2.741766300124781e-06, accuracy 1.0\n",
      "\u001b[36m(ClientAppActor pid=4144273)\u001b[0m Running epoch 7/10\n",
      "\u001b[36m(ClientAppActor pid=4144273)\u001b[0m Epoch 8: train loss 6.369525248086767e-05, accuracy 1.0\n",
      "\u001b[36m(ClientAppActor pid=4144273)\u001b[0m Running epoch 8/10\n",
      "\u001b[36m(ClientAppActor pid=4144273)\u001b[0m Epoch 9: train loss 1.6312826214983176e-07, accuracy 1.0\n",
      "\u001b[36m(ClientAppActor pid=4144273)\u001b[0m Running epoch 9/10\n",
      "\u001b[36m(ClientAppActor pid=4144273)\u001b[0m Epoch 10: train loss 5.163391745324325e-06, accuracy 1.0\n",
      "\u001b[36m(ClientAppActor pid=4144273)\u001b[0m Training completed!\n",
      "\u001b[36m(ClientAppActor pid=4144273)\u001b[0m Length of params: 329\n"
     ]
    },
    {
     "name": "stderr",
     "output_type": "stream",
     "text": [
      "\u001b[36m(ClientAppActor pid=4144273)\u001b[0m \u001b[93mWARNING \u001b[0m:   Deprecation Warning: The `client_fn` function must return an instance of `Client`, but an instance of `NumpyClient` was returned. Please use `NumPyClient.to_client()` method to convert it to `Client`.\n"
     ]
    },
    {
     "name": "stdout",
     "output_type": "stream",
     "text": [
      "\u001b[36m(ClientAppActor pid=4144273)\u001b[0m [Client 4] fit, config: {'lr': 0.003}\n",
      "\u001b[36m(ClientAppActor pid=4144273)\u001b[0m Updating parameters 329\n",
      "\u001b[36m(ClientAppActor pid=4144273)\u001b[0m Setting parameters...\n",
      "\u001b[36m(ClientAppActor pid=4144273)\u001b[0m Client parameters set\n",
      "\u001b[36m(ClientAppActor pid=4144273)\u001b[0m Starting client training...\n",
      "\u001b[36m(ClientAppActor pid=4144273)\u001b[0m Running epoch 0/10\n",
      "\u001b[36m(ClientAppActor pid=4144273)\u001b[0m Epoch 1: train loss 5.207557388817613e-07, accuracy 1.0\n",
      "\u001b[36m(ClientAppActor pid=4144273)\u001b[0m Running epoch 1/10\n",
      "\u001b[36m(ClientAppActor pid=4144273)\u001b[0m Epoch 2: train loss 1.4430479615456487e-06, accuracy 1.0\n",
      "\u001b[36m(ClientAppActor pid=4144273)\u001b[0m Running epoch 2/10\n",
      "\u001b[36m(ClientAppActor pid=4144273)\u001b[0m Epoch 3: train loss 4.140950962712515e-07, accuracy 1.0\n",
      "\u001b[36m(ClientAppActor pid=4144273)\u001b[0m Running epoch 3/10\n",
      "\u001b[36m(ClientAppActor pid=4144273)\u001b[0m Epoch 4: train loss 6.39963074813989e-07, accuracy 1.0\n",
      "\u001b[36m(ClientAppActor pid=4144273)\u001b[0m Running epoch 4/10\n",
      "\u001b[36m(ClientAppActor pid=4144273)\u001b[0m Epoch 5: train loss 1.2987448392053874e-06, accuracy 1.0\n",
      "\u001b[36m(ClientAppActor pid=4144273)\u001b[0m Running epoch 5/10\n",
      "\u001b[36m(ClientAppActor pid=4144273)\u001b[0m Epoch 6: train loss 1.3928601531102015e-06, accuracy 1.0\n",
      "\u001b[36m(ClientAppActor pid=4144273)\u001b[0m Running epoch 6/10\n",
      "\u001b[36m(ClientAppActor pid=4144273)\u001b[0m Epoch 7: train loss 5.458522949197686e-07, accuracy 1.0\n",
      "\u001b[36m(ClientAppActor pid=4144273)\u001b[0m Running epoch 7/10\n",
      "\u001b[36m(ClientAppActor pid=4144273)\u001b[0m Epoch 8: train loss 4.580136328214442e-07, accuracy 1.0\n",
      "\u001b[36m(ClientAppActor pid=4144273)\u001b[0m Epoch 00008: reducing learning rate of group 0 to 1.0000e-05.\n",
      "\u001b[36m(ClientAppActor pid=4144273)\u001b[0m Running epoch 8/10\n",
      "\u001b[36m(ClientAppActor pid=4144273)\u001b[0m Epoch 9: train loss 3.212292947290208e-06, accuracy 1.0\n",
      "\u001b[36m(ClientAppActor pid=4144273)\u001b[0m Running epoch 9/10\n",
      "\u001b[36m(ClientAppActor pid=4144273)\u001b[0m Epoch 10: train loss 5.960444840381666e-07, accuracy 1.0\n",
      "\u001b[36m(ClientAppActor pid=4144273)\u001b[0m Training completed!\n",
      "\u001b[36m(ClientAppActor pid=4144273)\u001b[0m Length of params: 329\n"
     ]
    },
    {
     "name": "stderr",
     "output_type": "stream",
     "text": [
      "\u001b[92mINFO \u001b[0m:      aggregate_fit: received 10 results and 0 failures\n"
     ]
    },
    {
     "name": "stdout",
     "output_type": "stream",
     "text": [
      "Evaluating global model\n",
      "Updating parameters 329\n",
      "Setting parameters...\n",
      "Parameter set\n",
      "Starting client validation...\n",
      "Validataion accuracy = 0.8333333333333334\n",
      "Global evaluation round 9 loss = 0.0941953976949056 accuracy = 0.8333333333333334\n"
     ]
    },
    {
     "name": "stderr",
     "output_type": "stream",
     "text": [
      "\u001b[92mINFO \u001b[0m:      fit progress: (9, 0.0941953976949056, {}, 6657.031626517884)\n",
      "\u001b[92mINFO \u001b[0m:      configure_evaluate: strategy sampled 10 clients (out of 10)\n"
     ]
    },
    {
     "name": "stdout",
     "output_type": "stream",
     "text": [
      "Model saved at ./fl_checkpointsswintransformer_e10_c10_r10/fl_densenet_9.pth\n"
     ]
    },
    {
     "name": "stderr",
     "output_type": "stream",
     "text": [
      "\u001b[36m(ClientAppActor pid=4144273)\u001b[0m \u001b[93mWARNING \u001b[0m:   Deprecation Warning: The `client_fn` function must return an instance of `Client`, but an instance of `NumpyClient` was returned. Please use `NumPyClient.to_client()` method to convert it to `Client`.\n"
     ]
    },
    {
     "name": "stdout",
     "output_type": "stream",
     "text": [
      "\u001b[36m(ClientAppActor pid=4144273)\u001b[0m [Client 0] evaluate, config: {}\n",
      "\u001b[36m(ClientAppActor pid=4144273)\u001b[0m Updating parameters 329\n",
      "\u001b[36m(ClientAppActor pid=4144273)\u001b[0m Setting parameters...\n",
      "\u001b[36m(ClientAppActor pid=4144273)\u001b[0m Starting client validation...\n",
      "\u001b[36m(ClientAppActor pid=4144273)\u001b[0m Validataion accuracy = 0.8333333333333334\n",
      "\u001b[36m(ClientAppActor pid=4144273)\u001b[0m Evaluation loss = 0.0941953976949056 accuracy = 0.8333333333333334\n"
     ]
    },
    {
     "name": "stderr",
     "output_type": "stream",
     "text": [
      "\u001b[36m(ClientAppActor pid=4144273)\u001b[0m \u001b[93mWARNING \u001b[0m:   Deprecation Warning: The `client_fn` function must return an instance of `Client`, but an instance of `NumpyClient` was returned. Please use `NumPyClient.to_client()` method to convert it to `Client`.\n"
     ]
    },
    {
     "name": "stdout",
     "output_type": "stream",
     "text": [
      "\u001b[36m(ClientAppActor pid=4144273)\u001b[0m [Client 8] evaluate, config: {}\n",
      "\u001b[36m(ClientAppActor pid=4144273)\u001b[0m Updating parameters 329\n",
      "\u001b[36m(ClientAppActor pid=4144273)\u001b[0m Setting parameters...\n",
      "\u001b[36m(ClientAppActor pid=4144273)\u001b[0m Starting client validation...\n",
      "\u001b[36m(ClientAppActor pid=4144273)\u001b[0m Validataion accuracy = 0.8333333333333334\n",
      "\u001b[36m(ClientAppActor pid=4144273)\u001b[0m Evaluation loss = 0.0941953976949056 accuracy = 0.8333333333333334\n"
     ]
    },
    {
     "name": "stderr",
     "output_type": "stream",
     "text": [
      "\u001b[36m(ClientAppActor pid=4144273)\u001b[0m \u001b[93mWARNING \u001b[0m:   Deprecation Warning: The `client_fn` function must return an instance of `Client`, but an instance of `NumpyClient` was returned. Please use `NumPyClient.to_client()` method to convert it to `Client`.\n"
     ]
    },
    {
     "name": "stdout",
     "output_type": "stream",
     "text": [
      "\u001b[36m(ClientAppActor pid=4144273)\u001b[0m [Client 3] evaluate, config: {}\n",
      "\u001b[36m(ClientAppActor pid=4144273)\u001b[0m Updating parameters 329\n",
      "\u001b[36m(ClientAppActor pid=4144273)\u001b[0m Setting parameters...\n",
      "\u001b[36m(ClientAppActor pid=4144273)\u001b[0m Starting client validation...\n",
      "\u001b[36m(ClientAppActor pid=4144273)\u001b[0m Validataion accuracy = 0.8333333333333334\n",
      "\u001b[36m(ClientAppActor pid=4144273)\u001b[0m Evaluation loss = 0.0941953976949056 accuracy = 0.8333333333333334\n"
     ]
    },
    {
     "name": "stderr",
     "output_type": "stream",
     "text": [
      "\u001b[36m(ClientAppActor pid=4144273)\u001b[0m \u001b[93mWARNING \u001b[0m:   Deprecation Warning: The `client_fn` function must return an instance of `Client`, but an instance of `NumpyClient` was returned. Please use `NumPyClient.to_client()` method to convert it to `Client`.\n"
     ]
    },
    {
     "name": "stdout",
     "output_type": "stream",
     "text": [
      "\u001b[36m(ClientAppActor pid=4144273)\u001b[0m [Client 6] evaluate, config: {}\n",
      "\u001b[36m(ClientAppActor pid=4144273)\u001b[0m Updating parameters 329\n",
      "\u001b[36m(ClientAppActor pid=4144273)\u001b[0m Setting parameters...\n",
      "\u001b[36m(ClientAppActor pid=4144273)\u001b[0m Starting client validation...\n",
      "\u001b[36m(ClientAppActor pid=4144273)\u001b[0m Validataion accuracy = 0.8333333333333334\n",
      "\u001b[36m(ClientAppActor pid=4144273)\u001b[0m Evaluation loss = 0.0941953976949056 accuracy = 0.8333333333333334\n"
     ]
    },
    {
     "name": "stderr",
     "output_type": "stream",
     "text": [
      "\u001b[36m(ClientAppActor pid=4144273)\u001b[0m \u001b[93mWARNING \u001b[0m:   Deprecation Warning: The `client_fn` function must return an instance of `Client`, but an instance of `NumpyClient` was returned. Please use `NumPyClient.to_client()` method to convert it to `Client`.\n"
     ]
    },
    {
     "name": "stdout",
     "output_type": "stream",
     "text": [
      "\u001b[36m(ClientAppActor pid=4144273)\u001b[0m [Client 7] evaluate, config: {}\n",
      "\u001b[36m(ClientAppActor pid=4144273)\u001b[0m Updating parameters 329\n",
      "\u001b[36m(ClientAppActor pid=4144273)\u001b[0m Setting parameters...\n",
      "\u001b[36m(ClientAppActor pid=4144273)\u001b[0m Starting client validation...\n",
      "\u001b[36m(ClientAppActor pid=4144273)\u001b[0m Validataion accuracy = 0.8333333333333334\n",
      "\u001b[36m(ClientAppActor pid=4144273)\u001b[0m Evaluation loss = 0.0941953976949056 accuracy = 0.8333333333333334\n"
     ]
    },
    {
     "name": "stderr",
     "output_type": "stream",
     "text": [
      "\u001b[36m(ClientAppActor pid=4144273)\u001b[0m \u001b[93mWARNING \u001b[0m:   Deprecation Warning: The `client_fn` function must return an instance of `Client`, but an instance of `NumpyClient` was returned. Please use `NumPyClient.to_client()` method to convert it to `Client`.\n"
     ]
    },
    {
     "name": "stdout",
     "output_type": "stream",
     "text": [
      "\u001b[36m(ClientAppActor pid=4144273)\u001b[0m [Client 4] evaluate, config: {}\n",
      "\u001b[36m(ClientAppActor pid=4144273)\u001b[0m Updating parameters 329\n",
      "\u001b[36m(ClientAppActor pid=4144273)\u001b[0m Setting parameters...\n",
      "\u001b[36m(ClientAppActor pid=4144273)\u001b[0m Starting client validation...\n",
      "\u001b[36m(ClientAppActor pid=4144273)\u001b[0m Validataion accuracy = 0.8333333333333334\n",
      "\u001b[36m(ClientAppActor pid=4144273)\u001b[0m Evaluation loss = 0.0941953976949056 accuracy = 0.8333333333333334\n"
     ]
    },
    {
     "name": "stderr",
     "output_type": "stream",
     "text": [
      "\u001b[36m(ClientAppActor pid=4144273)\u001b[0m \u001b[93mWARNING \u001b[0m:   Deprecation Warning: The `client_fn` function must return an instance of `Client`, but an instance of `NumpyClient` was returned. Please use `NumPyClient.to_client()` method to convert it to `Client`.\n"
     ]
    },
    {
     "name": "stdout",
     "output_type": "stream",
     "text": [
      "\u001b[36m(ClientAppActor pid=4144273)\u001b[0m [Client 9] evaluate, config: {}\n",
      "\u001b[36m(ClientAppActor pid=4144273)\u001b[0m Updating parameters 329\n",
      "\u001b[36m(ClientAppActor pid=4144273)\u001b[0m Setting parameters...\n",
      "\u001b[36m(ClientAppActor pid=4144273)\u001b[0m Starting client validation...\n",
      "\u001b[36m(ClientAppActor pid=4144273)\u001b[0m Validataion accuracy = 0.8333333333333334\n",
      "\u001b[36m(ClientAppActor pid=4144273)\u001b[0m Evaluation loss = 0.0941953976949056 accuracy = 0.8333333333333334\n"
     ]
    },
    {
     "name": "stderr",
     "output_type": "stream",
     "text": [
      "\u001b[36m(ClientAppActor pid=4144273)\u001b[0m \u001b[93mWARNING \u001b[0m:   Deprecation Warning: The `client_fn` function must return an instance of `Client`, but an instance of `NumpyClient` was returned. Please use `NumPyClient.to_client()` method to convert it to `Client`.\n"
     ]
    },
    {
     "name": "stdout",
     "output_type": "stream",
     "text": [
      "\u001b[36m(ClientAppActor pid=4144273)\u001b[0m [Client 5] evaluate, config: {}\n",
      "\u001b[36m(ClientAppActor pid=4144273)\u001b[0m Updating parameters 329\n",
      "\u001b[36m(ClientAppActor pid=4144273)\u001b[0m Setting parameters...\n",
      "\u001b[36m(ClientAppActor pid=4144273)\u001b[0m Starting client validation...\n",
      "\u001b[36m(ClientAppActor pid=4144273)\u001b[0m Validataion accuracy = 0.8333333333333334\n",
      "\u001b[36m(ClientAppActor pid=4144273)\u001b[0m Evaluation loss = 0.0941953976949056 accuracy = 0.8333333333333334\n"
     ]
    },
    {
     "name": "stderr",
     "output_type": "stream",
     "text": [
      "\u001b[36m(ClientAppActor pid=4144273)\u001b[0m \u001b[93mWARNING \u001b[0m:   Deprecation Warning: The `client_fn` function must return an instance of `Client`, but an instance of `NumpyClient` was returned. Please use `NumPyClient.to_client()` method to convert it to `Client`.\n"
     ]
    },
    {
     "name": "stdout",
     "output_type": "stream",
     "text": [
      "\u001b[36m(ClientAppActor pid=4144273)\u001b[0m [Client 1] evaluate, config: {}\n",
      "\u001b[36m(ClientAppActor pid=4144273)\u001b[0m Updating parameters 329\n",
      "\u001b[36m(ClientAppActor pid=4144273)\u001b[0m Setting parameters...\n",
      "\u001b[36m(ClientAppActor pid=4144273)\u001b[0m Starting client validation...\n",
      "\u001b[36m(ClientAppActor pid=4144273)\u001b[0m Validataion accuracy = 0.8333333333333334\n",
      "\u001b[36m(ClientAppActor pid=4144273)\u001b[0m Evaluation loss = 0.0941953976949056 accuracy = 0.8333333333333334\n"
     ]
    },
    {
     "name": "stderr",
     "output_type": "stream",
     "text": [
      "\u001b[36m(ClientAppActor pid=4144273)\u001b[0m \u001b[93mWARNING \u001b[0m:   Deprecation Warning: The `client_fn` function must return an instance of `Client`, but an instance of `NumpyClient` was returned. Please use `NumPyClient.to_client()` method to convert it to `Client`.\n"
     ]
    },
    {
     "name": "stdout",
     "output_type": "stream",
     "text": [
      "\u001b[36m(ClientAppActor pid=4144273)\u001b[0m [Client 2] evaluate, config: {}\n",
      "\u001b[36m(ClientAppActor pid=4144273)\u001b[0m Updating parameters 329\n",
      "\u001b[36m(ClientAppActor pid=4144273)\u001b[0m Setting parameters...\n",
      "\u001b[36m(ClientAppActor pid=4144273)\u001b[0m Starting client validation...\n"
     ]
    },
    {
     "name": "stderr",
     "output_type": "stream",
     "text": [
      "\u001b[92mINFO \u001b[0m:      aggregate_evaluate: received 10 results and 0 failures\n",
      "\u001b[92mINFO \u001b[0m:      \n",
      "\u001b[92mINFO \u001b[0m:      [ROUND 10]\n",
      "\u001b[92mINFO \u001b[0m:      configure_fit: strategy sampled 10 clients (out of 10)\n"
     ]
    },
    {
     "name": "stdout",
     "output_type": "stream",
     "text": [
      "Starting configure fit function...\n",
      "Sample size = 10 Min Num Clients = 2 Clients = [<flwr.simulation.ray_transport.ray_client_proxy.RayActorClientProxy object at 0x155491b776d0>, <flwr.simulation.ray_transport.ray_client_proxy.RayActorClientProxy object at 0x155314acf550>, <flwr.simulation.ray_transport.ray_client_proxy.RayActorClientProxy object at 0x155491b775d0>, <flwr.simulation.ray_transport.ray_client_proxy.RayActorClientProxy object at 0x155491b77650>, <flwr.simulation.ray_transport.ray_client_proxy.RayActorClientProxy object at 0x155491b77750>, <flwr.simulation.ray_transport.ray_client_proxy.RayActorClientProxy object at 0x155491b771d0>, <flwr.simulation.ray_transport.ray_client_proxy.RayActorClientProxy object at 0x155491b77310>, <flwr.simulation.ray_transport.ray_client_proxy.RayActorClientProxy object at 0x155491b77150>, <flwr.simulation.ray_transport.ray_client_proxy.RayActorClientProxy object at 0x155491b76fd0>, <flwr.simulation.ray_transport.ray_client_proxy.RayActorClientProxy object at 0x155491b76690>]\n",
      "Number of clients = 10\n",
      "Fit Configurations\n",
      "\u001b[36m(ClientAppActor pid=4144273)\u001b[0m Validataion accuracy = 0.8333333333333334\n",
      "\u001b[36m(ClientAppActor pid=4144273)\u001b[0m Evaluation loss = 0.0941953976949056 accuracy = 0.8333333333333334\n"
     ]
    },
    {
     "name": "stderr",
     "output_type": "stream",
     "text": [
      "\u001b[36m(ClientAppActor pid=4144273)\u001b[0m \u001b[93mWARNING \u001b[0m:   Deprecation Warning: The `client_fn` function must return an instance of `Client`, but an instance of `NumpyClient` was returned. Please use `NumPyClient.to_client()` method to convert it to `Client`.\n"
     ]
    },
    {
     "name": "stdout",
     "output_type": "stream",
     "text": [
      "\u001b[36m(ClientAppActor pid=4144273)\u001b[0m [Client 8] fit, config: {'lr': 0.001}\n",
      "\u001b[36m(ClientAppActor pid=4144273)\u001b[0m Updating parameters 329\n",
      "\u001b[36m(ClientAppActor pid=4144273)\u001b[0m Setting parameters...\n",
      "\u001b[36m(ClientAppActor pid=4144273)\u001b[0m Client parameters set\n",
      "\u001b[36m(ClientAppActor pid=4144273)\u001b[0m Starting client training...\n",
      "\u001b[36m(ClientAppActor pid=4144273)\u001b[0m Running epoch 0/10\n",
      "\u001b[36m(ClientAppActor pid=4144273)\u001b[0m Epoch 1: train loss 3.51864942587099e-05, accuracy 1.0\n",
      "\u001b[36m(ClientAppActor pid=4144273)\u001b[0m Running epoch 1/10\n",
      "\u001b[36m(ClientAppActor pid=4144273)\u001b[0m Epoch 2: train loss 7.529002974287753e-08, accuracy 1.0\n",
      "\u001b[36m(ClientAppActor pid=4144273)\u001b[0m Running epoch 2/10\n",
      "\u001b[36m(ClientAppActor pid=4144273)\u001b[0m Epoch 3: train loss 4.76836520958482e-07, accuracy 1.0\n",
      "\u001b[36m(ClientAppActor pid=4144273)\u001b[0m Running epoch 3/10\n",
      "\u001b[36m(ClientAppActor pid=4144273)\u001b[0m Epoch 4: train loss 1.6405216516240646e-05, accuracy 1.0\n",
      "\u001b[36m(ClientAppActor pid=4144273)\u001b[0m Running epoch 4/10\n",
      "\u001b[36m(ClientAppActor pid=4144273)\u001b[0m Epoch 5: train loss 2.528431076299105e-06, accuracy 1.0\n",
      "\u001b[36m(ClientAppActor pid=4144273)\u001b[0m Running epoch 5/10\n",
      "\u001b[36m(ClientAppActor pid=4144273)\u001b[0m Epoch 6: train loss 1.44305898318539e-07, accuracy 1.0\n",
      "\u001b[36m(ClientAppActor pid=4144273)\u001b[0m Running epoch 6/10\n",
      "\u001b[36m(ClientAppActor pid=4144273)\u001b[0m Epoch 7: train loss 2.0077340828469174e-07, accuracy 1.0\n",
      "\u001b[36m(ClientAppActor pid=4144273)\u001b[0m Epoch 00007: reducing learning rate of group 0 to 1.0000e-05.\n",
      "\u001b[36m(ClientAppActor pid=4144273)\u001b[0m Running epoch 7/10\n",
      "\u001b[36m(ClientAppActor pid=4144273)\u001b[0m Epoch 8: train loss 9.411256073869816e-08, accuracy 1.0\n",
      "\u001b[36m(ClientAppActor pid=4144273)\u001b[0m Running epoch 8/10\n",
      "\u001b[36m(ClientAppActor pid=4144273)\u001b[0m Epoch 9: train loss 6.292624573832559e-06, accuracy 1.0\n",
      "\u001b[36m(ClientAppActor pid=4144273)\u001b[0m Running epoch 9/10\n",
      "\u001b[36m(ClientAppActor pid=4144273)\u001b[0m Epoch 10: train loss 4.7683533921372145e-07, accuracy 1.0\n",
      "\u001b[36m(ClientAppActor pid=4144273)\u001b[0m Training completed!\n",
      "\u001b[36m(ClientAppActor pid=4144273)\u001b[0m Length of params: 329\n"
     ]
    },
    {
     "name": "stderr",
     "output_type": "stream",
     "text": [
      "\u001b[36m(ClientAppActor pid=4144273)\u001b[0m \u001b[93mWARNING \u001b[0m:   Deprecation Warning: The `client_fn` function must return an instance of `Client`, but an instance of `NumpyClient` was returned. Please use `NumPyClient.to_client()` method to convert it to `Client`.\n"
     ]
    },
    {
     "name": "stdout",
     "output_type": "stream",
     "text": [
      "\u001b[36m(ClientAppActor pid=4144273)\u001b[0m [Client 0] fit, config: {'lr': 0.001}\n",
      "\u001b[36m(ClientAppActor pid=4144273)\u001b[0m Updating parameters 329\n",
      "\u001b[36m(ClientAppActor pid=4144273)\u001b[0m Setting parameters...\n",
      "\u001b[36m(ClientAppActor pid=4144273)\u001b[0m Client parameters set\n",
      "\u001b[36m(ClientAppActor pid=4144273)\u001b[0m Starting client training...\n",
      "\u001b[36m(ClientAppActor pid=4144273)\u001b[0m Running epoch 0/10\n",
      "\u001b[36m(ClientAppActor pid=4144273)\u001b[0m Epoch 1: train loss 7.44695401073458e-06, accuracy 1.0\n",
      "\u001b[36m(ClientAppActor pid=4144273)\u001b[0m Running epoch 1/10\n",
      "\u001b[36m(ClientAppActor pid=4144273)\u001b[0m Epoch 2: train loss 6.274144413366326e-07, accuracy 1.0\n",
      "\u001b[36m(ClientAppActor pid=4144273)\u001b[0m Running epoch 2/10\n",
      "\u001b[36m(ClientAppActor pid=4144273)\u001b[0m Epoch 3: train loss 1.0666090738117131e-07, accuracy 1.0\n",
      "\u001b[36m(ClientAppActor pid=4144273)\u001b[0m Running epoch 3/10\n",
      "\u001b[36m(ClientAppActor pid=4144273)\u001b[0m Epoch 4: train loss 4.266424709660561e-07, accuracy 1.0\n",
      "\u001b[36m(ClientAppActor pid=4144273)\u001b[0m Running epoch 4/10\n",
      "\u001b[36m(ClientAppActor pid=4144273)\u001b[0m Epoch 5: train loss 2.4469258357540685e-07, accuracy 1.0\n",
      "\u001b[36m(ClientAppActor pid=4144273)\u001b[0m Running epoch 5/10\n",
      "\u001b[36m(ClientAppActor pid=4144273)\u001b[0m Epoch 6: train loss 3.94633243080247e-06, accuracy 1.0\n",
      "\u001b[36m(ClientAppActor pid=4144273)\u001b[0m Running epoch 6/10\n",
      "\u001b[36m(ClientAppActor pid=4144273)\u001b[0m Epoch 7: train loss 9.473936332046594e-07, accuracy 1.0\n",
      "\u001b[36m(ClientAppActor pid=4144273)\u001b[0m Running epoch 7/10\n",
      "\u001b[36m(ClientAppActor pid=4144273)\u001b[0m Epoch 8: train loss 0.00016886177227685325, accuracy 1.0\n",
      "\u001b[36m(ClientAppActor pid=4144273)\u001b[0m Epoch 00008: reducing learning rate of group 0 to 1.0000e-05.\n",
      "\u001b[36m(ClientAppActor pid=4144273)\u001b[0m Running epoch 8/10\n",
      "\u001b[36m(ClientAppActor pid=4144273)\u001b[0m Epoch 9: train loss 8.783838760444652e-08, accuracy 1.0\n",
      "\u001b[36m(ClientAppActor pid=4144273)\u001b[0m Running epoch 9/10\n",
      "\u001b[36m(ClientAppActor pid=4144273)\u001b[0m Epoch 10: train loss 1.6877269606658574e-06, accuracy 1.0\n",
      "\u001b[36m(ClientAppActor pid=4144273)\u001b[0m Training completed!\n",
      "\u001b[36m(ClientAppActor pid=4144273)\u001b[0m Length of params: 329\n"
     ]
    },
    {
     "name": "stderr",
     "output_type": "stream",
     "text": [
      "\u001b[36m(ClientAppActor pid=4144273)\u001b[0m \u001b[93mWARNING \u001b[0m:   Deprecation Warning: The `client_fn` function must return an instance of `Client`, but an instance of `NumpyClient` was returned. Please use `NumPyClient.to_client()` method to convert it to `Client`.\n"
     ]
    },
    {
     "name": "stdout",
     "output_type": "stream",
     "text": [
      "\u001b[36m(ClientAppActor pid=4144273)\u001b[0m [Client 6] fit, config: {'lr': 0.001}\n",
      "\u001b[36m(ClientAppActor pid=4144273)\u001b[0m Updating parameters 329\n",
      "\u001b[36m(ClientAppActor pid=4144273)\u001b[0m Setting parameters...\n",
      "\u001b[36m(ClientAppActor pid=4144273)\u001b[0m Client parameters set\n",
      "\u001b[36m(ClientAppActor pid=4144273)\u001b[0m Starting client training...\n",
      "\u001b[36m(ClientAppActor pid=4144273)\u001b[0m Running epoch 0/10\n",
      "\u001b[36m(ClientAppActor pid=4144273)\u001b[0m Epoch 1: train loss 2.8609881012112294e-06, accuracy 1.0\n",
      "\u001b[36m(ClientAppActor pid=4144273)\u001b[0m Running epoch 1/10\n",
      "\u001b[36m(ClientAppActor pid=4144273)\u001b[0m Epoch 2: train loss 7.760642849662322e-06, accuracy 1.0\n",
      "\u001b[36m(ClientAppActor pid=4144273)\u001b[0m Running epoch 2/10\n",
      "\u001b[36m(ClientAppActor pid=4144273)\u001b[0m Epoch 3: train loss 3.7957559584356204e-06, accuracy 1.0\n",
      "\u001b[36m(ClientAppActor pid=4144273)\u001b[0m Running epoch 3/10\n",
      "\u001b[36m(ClientAppActor pid=4144273)\u001b[0m Epoch 4: train loss 2.8861170090079356e-07, accuracy 1.0\n",
      "\u001b[36m(ClientAppActor pid=4144273)\u001b[0m Running epoch 4/10\n",
      "\u001b[36m(ClientAppActor pid=4144273)\u001b[0m Epoch 5: train loss 1.4430590991160466e-07, accuracy 1.0\n",
      "\u001b[36m(ClientAppActor pid=4144273)\u001b[0m Running epoch 5/10\n",
      "\u001b[36m(ClientAppActor pid=4144273)\u001b[0m Epoch 6: train loss 1.3175713440049502e-06, accuracy 1.0\n",
      "\u001b[36m(ClientAppActor pid=4144273)\u001b[0m Running epoch 6/10\n",
      "\u001b[36m(ClientAppActor pid=4144273)\u001b[0m Epoch 7: train loss 2.8935840897534754e-05, accuracy 1.0\n",
      "\u001b[36m(ClientAppActor pid=4144273)\u001b[0m Running epoch 7/10\n",
      "\u001b[36m(ClientAppActor pid=4144273)\u001b[0m Epoch 8: train loss 5.772231590951474e-07, accuracy 1.0\n",
      "\u001b[36m(ClientAppActor pid=4144273)\u001b[0m Running epoch 8/10\n",
      "\u001b[36m(ClientAppActor pid=4144273)\u001b[0m Epoch 9: train loss 1.6500885306557297e-06, accuracy 1.0\n",
      "\u001b[36m(ClientAppActor pid=4144273)\u001b[0m Running epoch 9/10\n",
      "\u001b[36m(ClientAppActor pid=4144273)\u001b[0m Epoch 10: train loss 8.407359352328345e-07, accuracy 1.0\n",
      "\u001b[36m(ClientAppActor pid=4144273)\u001b[0m Epoch 00010: reducing learning rate of group 0 to 1.0000e-05.\n",
      "\u001b[36m(ClientAppActor pid=4144273)\u001b[0m Training completed!\n",
      "\u001b[36m(ClientAppActor pid=4144273)\u001b[0m Length of params: 329\n"
     ]
    },
    {
     "name": "stderr",
     "output_type": "stream",
     "text": [
      "\u001b[36m(ClientAppActor pid=4144273)\u001b[0m \u001b[93mWARNING \u001b[0m:   Deprecation Warning: The `client_fn` function must return an instance of `Client`, but an instance of `NumpyClient` was returned. Please use `NumPyClient.to_client()` method to convert it to `Client`.\n"
     ]
    },
    {
     "name": "stdout",
     "output_type": "stream",
     "text": [
      "\u001b[36m(ClientAppActor pid=4144273)\u001b[0m [Client 7] fit, config: {'lr': 0.001}\n",
      "\u001b[36m(ClientAppActor pid=4144273)\u001b[0m Updating parameters 329\n",
      "\u001b[36m(ClientAppActor pid=4144273)\u001b[0m Setting parameters...\n",
      "\u001b[36m(ClientAppActor pid=4144273)\u001b[0m Client parameters set\n",
      "\u001b[36m(ClientAppActor pid=4144273)\u001b[0m Starting client training...\n",
      "\u001b[36m(ClientAppActor pid=4144273)\u001b[0m Running epoch 0/10\n",
      "\u001b[36m(ClientAppActor pid=4144273)\u001b[0m Epoch 1: train loss 3.325303137408379e-07, accuracy 1.0\n",
      "\u001b[36m(ClientAppActor pid=4144273)\u001b[0m Running epoch 1/10\n",
      "\u001b[36m(ClientAppActor pid=4144273)\u001b[0m Epoch 2: train loss 1.1600299707855524e-05, accuracy 1.0\n",
      "\u001b[36m(ClientAppActor pid=4144273)\u001b[0m Running epoch 2/10\n",
      "\u001b[36m(ClientAppActor pid=4144273)\u001b[0m Epoch 3: train loss 2.1708424595233643e-06, accuracy 1.0\n",
      "\u001b[36m(ClientAppActor pid=4144273)\u001b[0m Running epoch 3/10\n",
      "\u001b[36m(ClientAppActor pid=4144273)\u001b[0m Epoch 4: train loss 3.137083156520691e-07, accuracy 1.0\n",
      "\u001b[36m(ClientAppActor pid=4144273)\u001b[0m Running epoch 4/10\n",
      "\u001b[36m(ClientAppActor pid=4144273)\u001b[0m Epoch 5: train loss 2.0704459242743292e-06, accuracy 1.0\n",
      "\u001b[36m(ClientAppActor pid=4144273)\u001b[0m Running epoch 5/10\n",
      "\u001b[36m(ClientAppActor pid=4144273)\u001b[0m Epoch 6: train loss 4.203615581095739e-06, accuracy 1.0\n",
      "\u001b[36m(ClientAppActor pid=4144273)\u001b[0m Running epoch 6/10\n",
      "\u001b[36m(ClientAppActor pid=4144273)\u001b[0m Epoch 7: train loss 1.3740348210801226e-06, accuracy 1.0\n",
      "\u001b[36m(ClientAppActor pid=4144273)\u001b[0m Running epoch 7/10\n",
      "\u001b[36m(ClientAppActor pid=4144273)\u001b[0m Epoch 8: train loss 1.3740381722240464e-06, accuracy 1.0\n",
      "\u001b[36m(ClientAppActor pid=4144273)\u001b[0m Running epoch 8/10\n",
      "\u001b[36m(ClientAppActor pid=4144273)\u001b[0m Epoch 9: train loss 4.950185352993829e-06, accuracy 1.0\n",
      "\u001b[36m(ClientAppActor pid=4144273)\u001b[0m Epoch 00009: reducing learning rate of group 0 to 1.0000e-05.\n",
      "\u001b[36m(ClientAppActor pid=4144273)\u001b[0m Running epoch 9/10\n",
      "\u001b[36m(ClientAppActor pid=4144273)\u001b[0m Epoch 10: train loss 1.926141518843475e-06, accuracy 1.0\n",
      "\u001b[36m(ClientAppActor pid=4144273)\u001b[0m Training completed!\n",
      "\u001b[36m(ClientAppActor pid=4144273)\u001b[0m Length of params: 329\n"
     ]
    },
    {
     "name": "stderr",
     "output_type": "stream",
     "text": [
      "\u001b[36m(ClientAppActor pid=4144273)\u001b[0m \u001b[93mWARNING \u001b[0m:   Deprecation Warning: The `client_fn` function must return an instance of `Client`, but an instance of `NumpyClient` was returned. Please use `NumPyClient.to_client()` method to convert it to `Client`.\n"
     ]
    },
    {
     "name": "stdout",
     "output_type": "stream",
     "text": [
      "\u001b[36m(ClientAppActor pid=4144273)\u001b[0m [Client 9] fit, config: {'lr': 0.001}\n",
      "\u001b[36m(ClientAppActor pid=4144273)\u001b[0m Updating parameters 329\n",
      "\u001b[36m(ClientAppActor pid=4144273)\u001b[0m Setting parameters...\n",
      "\u001b[36m(ClientAppActor pid=4144273)\u001b[0m Client parameters set\n",
      "\u001b[36m(ClientAppActor pid=4144273)\u001b[0m Starting client training...\n",
      "\u001b[36m(ClientAppActor pid=4144273)\u001b[0m Running epoch 0/10\n",
      "\u001b[36m(ClientAppActor pid=4144273)\u001b[0m Epoch 1: train loss 1.5067942558744107e-06, accuracy 1.0\n",
      "\u001b[36m(ClientAppActor pid=4144273)\u001b[0m Running epoch 1/10\n",
      "\u001b[36m(ClientAppActor pid=4144273)\u001b[0m Epoch 2: train loss 4.482254718141121e-07, accuracy 1.0\n",
      "\u001b[36m(ClientAppActor pid=4144273)\u001b[0m Running epoch 2/10\n",
      "\u001b[36m(ClientAppActor pid=4144273)\u001b[0m Epoch 3: train loss 6.866440116937155e-07, accuracy 1.0\n",
      "\u001b[36m(ClientAppActor pid=4144273)\u001b[0m Running epoch 3/10\n",
      "\u001b[36m(ClientAppActor pid=4144273)\u001b[0m Epoch 4: train loss 1.4159955678678671e-05, accuracy 1.0\n",
      "\u001b[36m(ClientAppActor pid=4144273)\u001b[0m Running epoch 4/10\n",
      "\u001b[36m(ClientAppActor pid=4144273)\u001b[0m Epoch 5: train loss 3.299154472188093e-05, accuracy 1.0\n",
      "\u001b[36m(ClientAppActor pid=4144273)\u001b[0m Running epoch 5/10\n",
      "\u001b[36m(ClientAppActor pid=4144273)\u001b[0m Epoch 6: train loss 1.7166119079092823e-07, accuracy 1.0\n",
      "\u001b[36m(ClientAppActor pid=4144273)\u001b[0m Running epoch 6/10\n",
      "\u001b[36m(ClientAppActor pid=4144273)\u001b[0m Epoch 7: train loss 1.955016605279525e-06, accuracy 1.0\n",
      "\u001b[36m(ClientAppActor pid=4144273)\u001b[0m Running epoch 7/10\n",
      "\u001b[36m(ClientAppActor pid=4144273)\u001b[0m Epoch 8: train loss 3.623959361220841e-07, accuracy 1.0\n",
      "\u001b[36m(ClientAppActor pid=4144273)\u001b[0m Running epoch 8/10\n",
      "\u001b[36m(ClientAppActor pid=4144273)\u001b[0m Epoch 9: train loss 5.5310966763499894e-06, accuracy 1.0\n",
      "\u001b[36m(ClientAppActor pid=4144273)\u001b[0m Running epoch 9/10\n",
      "\u001b[36m(ClientAppActor pid=4144273)\u001b[0m Epoch 10: train loss 0.002459788769356237, accuracy 1.0\n",
      "\u001b[36m(ClientAppActor pid=4144273)\u001b[0m Training completed!\n",
      "\u001b[36m(ClientAppActor pid=4144273)\u001b[0m Length of params: 329\n"
     ]
    },
    {
     "name": "stderr",
     "output_type": "stream",
     "text": [
      "\u001b[36m(ClientAppActor pid=4144273)\u001b[0m \u001b[93mWARNING \u001b[0m:   Deprecation Warning: The `client_fn` function must return an instance of `Client`, but an instance of `NumpyClient` was returned. Please use `NumPyClient.to_client()` method to convert it to `Client`.\n"
     ]
    },
    {
     "name": "stdout",
     "output_type": "stream",
     "text": [
      "\u001b[36m(ClientAppActor pid=4144273)\u001b[0m [Client 2] fit, config: {'lr': 0.003}\n",
      "\u001b[36m(ClientAppActor pid=4144273)\u001b[0m Updating parameters 329\n",
      "\u001b[36m(ClientAppActor pid=4144273)\u001b[0m Setting parameters...\n",
      "\u001b[36m(ClientAppActor pid=4144273)\u001b[0m Client parameters set\n",
      "\u001b[36m(ClientAppActor pid=4144273)\u001b[0m Starting client training...\n",
      "\u001b[36m(ClientAppActor pid=4144273)\u001b[0m Running epoch 0/10\n",
      "\u001b[36m(ClientAppActor pid=4144273)\u001b[0m Epoch 1: train loss 3.002289057755996e-05, accuracy 1.0\n",
      "\u001b[36m(ClientAppActor pid=4144273)\u001b[0m Running epoch 1/10\n",
      "\u001b[36m(ClientAppActor pid=4144273)\u001b[0m Epoch 2: train loss 5.0380369522055225e-06, accuracy 1.0\n",
      "\u001b[36m(ClientAppActor pid=4144273)\u001b[0m Running epoch 2/10\n",
      "\u001b[36m(ClientAppActor pid=4144273)\u001b[0m Epoch 3: train loss 2.362960061107419e-05, accuracy 1.0\n",
      "\u001b[36m(ClientAppActor pid=4144273)\u001b[0m Running epoch 3/10\n",
      "\u001b[36m(ClientAppActor pid=4144273)\u001b[0m Epoch 4: train loss 1.723253883094338e-05, accuracy 1.0\n",
      "\u001b[36m(ClientAppActor pid=4144273)\u001b[0m Running epoch 4/10\n",
      "\u001b[36m(ClientAppActor pid=4144273)\u001b[0m Epoch 5: train loss 8.143247932342715e-06, accuracy 1.0\n",
      "\u001b[36m(ClientAppActor pid=4144273)\u001b[0m Running epoch 5/10\n",
      "\u001b[36m(ClientAppActor pid=4144273)\u001b[0m Epoch 6: train loss 6.023183710854746e-07, accuracy 1.0\n",
      "\u001b[36m(ClientAppActor pid=4144273)\u001b[0m Running epoch 6/10\n",
      "\u001b[36m(ClientAppActor pid=4144273)\u001b[0m Epoch 7: train loss 1.066605699107688e-06, accuracy 1.0\n",
      "\u001b[36m(ClientAppActor pid=4144273)\u001b[0m Running epoch 7/10\n",
      "\u001b[36m(ClientAppActor pid=4144273)\u001b[0m Epoch 8: train loss 2.5724054802068213e-07, accuracy 1.0\n",
      "\u001b[36m(ClientAppActor pid=4144273)\u001b[0m Running epoch 8/10\n",
      "\u001b[36m(ClientAppActor pid=4144273)\u001b[0m Epoch 9: train loss 1.9637796197601253e-06, accuracy 1.0\n",
      "\u001b[36m(ClientAppActor pid=4144273)\u001b[0m Running epoch 9/10\n",
      "\u001b[36m(ClientAppActor pid=4144273)\u001b[0m Epoch 10: train loss 1.129350206802452e-07, accuracy 1.0\n",
      "\u001b[36m(ClientAppActor pid=4144273)\u001b[0m Training completed!\n",
      "\u001b[36m(ClientAppActor pid=4144273)\u001b[0m Length of params: 329\n"
     ]
    },
    {
     "name": "stderr",
     "output_type": "stream",
     "text": [
      "\u001b[36m(ClientAppActor pid=4144273)\u001b[0m \u001b[93mWARNING \u001b[0m:   Deprecation Warning: The `client_fn` function must return an instance of `Client`, but an instance of `NumpyClient` was returned. Please use `NumPyClient.to_client()` method to convert it to `Client`.\n"
     ]
    },
    {
     "name": "stdout",
     "output_type": "stream",
     "text": [
      "\u001b[36m(ClientAppActor pid=4144273)\u001b[0m [Client 4] fit, config: {'lr': 0.003}\n",
      "\u001b[36m(ClientAppActor pid=4144273)\u001b[0m Updating parameters 329\n",
      "\u001b[36m(ClientAppActor pid=4144273)\u001b[0m Setting parameters...\n",
      "\u001b[36m(ClientAppActor pid=4144273)\u001b[0m Client parameters set\n",
      "\u001b[36m(ClientAppActor pid=4144273)\u001b[0m Starting client training...\n",
      "\u001b[36m(ClientAppActor pid=4144273)\u001b[0m Running epoch 0/10\n",
      "\u001b[36m(ClientAppActor pid=4144273)\u001b[0m Epoch 1: train loss 5.646754025771148e-08, accuracy 1.0\n",
      "\u001b[36m(ClientAppActor pid=4144273)\u001b[0m Running epoch 1/10\n",
      "\u001b[36m(ClientAppActor pid=4144273)\u001b[0m Epoch 2: train loss 9.41125536332708e-08, accuracy 1.0\n",
      "\u001b[36m(ClientAppActor pid=4144273)\u001b[0m Running epoch 2/10\n",
      "\u001b[36m(ClientAppActor pid=4144273)\u001b[0m Epoch 3: train loss 4.2098227373350326e-06, accuracy 1.0\n",
      "\u001b[36m(ClientAppActor pid=4144273)\u001b[0m Running epoch 3/10\n",
      "\u001b[36m(ClientAppActor pid=4144273)\u001b[0m Epoch 4: train loss 2.7606318709379256e-07, accuracy 1.0\n",
      "\u001b[36m(ClientAppActor pid=4144273)\u001b[0m Running epoch 4/10\n",
      "\u001b[36m(ClientAppActor pid=4144273)\u001b[0m Epoch 5: train loss 1.6940255495443892e-07, accuracy 1.0\n",
      "\u001b[36m(ClientAppActor pid=4144273)\u001b[0m Running epoch 5/10\n",
      "\u001b[36m(ClientAppActor pid=4144273)\u001b[0m Epoch 6: train loss 3.7894787965342402e-06, accuracy 1.0\n",
      "\u001b[36m(ClientAppActor pid=4144273)\u001b[0m Epoch 00006: reducing learning rate of group 0 to 1.0000e-05.\n",
      "\u001b[36m(ClientAppActor pid=4144273)\u001b[0m Running epoch 6/10\n",
      "\u001b[36m(ClientAppActor pid=4144273)\u001b[0m Epoch 7: train loss 2.8233762013709754e-07, accuracy 1.0\n",
      "\u001b[36m(ClientAppActor pid=4144273)\u001b[0m Running epoch 7/10\n",
      "\u001b[36m(ClientAppActor pid=4144273)\u001b[0m Epoch 8: train loss 9.599462857361112e-07, accuracy 1.0\n",
      "\u001b[36m(ClientAppActor pid=4144273)\u001b[0m Running epoch 8/10\n",
      "\u001b[36m(ClientAppActor pid=4144273)\u001b[0m Epoch 9: train loss 2.0892803149763495e-06, accuracy 1.0\n",
      "\u001b[36m(ClientAppActor pid=4144273)\u001b[0m Running epoch 9/10\n",
      "\u001b[36m(ClientAppActor pid=4144273)\u001b[0m Epoch 10: train loss 8.921219350249407e-06, accuracy 1.0\n",
      "\u001b[36m(ClientAppActor pid=4144273)\u001b[0m Training completed!\n",
      "\u001b[36m(ClientAppActor pid=4144273)\u001b[0m Length of params: 329\n"
     ]
    },
    {
     "name": "stderr",
     "output_type": "stream",
     "text": [
      "\u001b[36m(ClientAppActor pid=4144273)\u001b[0m \u001b[93mWARNING \u001b[0m:   Deprecation Warning: The `client_fn` function must return an instance of `Client`, but an instance of `NumpyClient` was returned. Please use `NumPyClient.to_client()` method to convert it to `Client`.\n"
     ]
    },
    {
     "name": "stdout",
     "output_type": "stream",
     "text": [
      "\u001b[36m(ClientAppActor pid=4144273)\u001b[0m [Client 3] fit, config: {'lr': 0.003}\n",
      "\u001b[36m(ClientAppActor pid=4144273)\u001b[0m Updating parameters 329\n",
      "\u001b[36m(ClientAppActor pid=4144273)\u001b[0m Setting parameters...\n",
      "\u001b[36m(ClientAppActor pid=4144273)\u001b[0m Client parameters set\n",
      "\u001b[36m(ClientAppActor pid=4144273)\u001b[0m Starting client training...\n",
      "\u001b[36m(ClientAppActor pid=4144273)\u001b[0m Running epoch 0/10\n",
      "\u001b[36m(ClientAppActor pid=4144273)\u001b[0m Epoch 1: train loss 7.691033380596261e-05, accuracy 1.0\n",
      "\u001b[36m(ClientAppActor pid=4144273)\u001b[0m Running epoch 1/10\n",
      "\u001b[36m(ClientAppActor pid=4144273)\u001b[0m Epoch 2: train loss 1.4806854218519267e-06, accuracy 1.0\n",
      "\u001b[36m(ClientAppActor pid=4144273)\u001b[0m Running epoch 2/10\n",
      "\u001b[36m(ClientAppActor pid=4144273)\u001b[0m Epoch 3: train loss 0.29592185271260524, accuracy 0.9473684210526315\n",
      "\u001b[36m(ClientAppActor pid=4144273)\u001b[0m Running epoch 3/10\n",
      "\u001b[36m(ClientAppActor pid=4144273)\u001b[0m Epoch 4: train loss 0.0008322585521167831, accuracy 1.0\n",
      "\u001b[36m(ClientAppActor pid=4144273)\u001b[0m Running epoch 4/10\n",
      "\u001b[36m(ClientAppActor pid=4144273)\u001b[0m Epoch 5: train loss 0.08420295883153908, accuracy 0.9473684210526315\n",
      "\u001b[36m(ClientAppActor pid=4144273)\u001b[0m Running epoch 5/10\n",
      "\u001b[36m(ClientAppActor pid=4144273)\u001b[0m Epoch 6: train loss 9.166203534206082e-06, accuracy 1.0\n",
      "\u001b[36m(ClientAppActor pid=4144273)\u001b[0m Running epoch 6/10\n",
      "\u001b[36m(ClientAppActor pid=4144273)\u001b[0m Epoch 7: train loss 1.636182576859076e-05, accuracy 1.0\n",
      "\u001b[36m(ClientAppActor pid=4144273)\u001b[0m Epoch 00007: reducing learning rate of group 0 to 1.0000e-05.\n",
      "\u001b[36m(ClientAppActor pid=4144273)\u001b[0m Running epoch 7/10\n",
      "\u001b[36m(ClientAppActor pid=4144273)\u001b[0m Epoch 8: train loss 1.2698187770423063e-05, accuracy 1.0\n",
      "\u001b[36m(ClientAppActor pid=4144273)\u001b[0m Running epoch 8/10\n",
      "\u001b[36m(ClientAppActor pid=4144273)\u001b[0m Epoch 9: train loss 1.8012503986890232e-05, accuracy 1.0\n",
      "\u001b[36m(ClientAppActor pid=4144273)\u001b[0m Running epoch 9/10\n",
      "\u001b[36m(ClientAppActor pid=4144273)\u001b[0m Epoch 10: train loss 1.5220113805538093e-05, accuracy 1.0\n",
      "\u001b[36m(ClientAppActor pid=4144273)\u001b[0m Training completed!\n",
      "\u001b[36m(ClientAppActor pid=4144273)\u001b[0m Length of params: 329\n"
     ]
    },
    {
     "name": "stderr",
     "output_type": "stream",
     "text": [
      "\u001b[36m(ClientAppActor pid=4144273)\u001b[0m \u001b[93mWARNING \u001b[0m:   Deprecation Warning: The `client_fn` function must return an instance of `Client`, but an instance of `NumpyClient` was returned. Please use `NumPyClient.to_client()` method to convert it to `Client`.\n"
     ]
    },
    {
     "name": "stdout",
     "output_type": "stream",
     "text": [
      "\u001b[36m(ClientAppActor pid=4144273)\u001b[0m [Client 1] fit, config: {'lr': 0.003}\n",
      "\u001b[36m(ClientAppActor pid=4144273)\u001b[0m Updating parameters 329\n",
      "\u001b[36m(ClientAppActor pid=4144273)\u001b[0m Setting parameters...\n",
      "\u001b[36m(ClientAppActor pid=4144273)\u001b[0m Client parameters set\n",
      "\u001b[36m(ClientAppActor pid=4144273)\u001b[0m Starting client training...\n",
      "\u001b[36m(ClientAppActor pid=4144273)\u001b[0m Running epoch 0/10\n",
      "\u001b[36m(ClientAppActor pid=4144273)\u001b[0m Epoch 1: train loss 3.0743429509752066e-07, accuracy 1.0\n",
      "\u001b[36m(ClientAppActor pid=4144273)\u001b[0m Running epoch 1/10\n",
      "\u001b[36m(ClientAppActor pid=4144273)\u001b[0m Epoch 2: train loss 2.7631599407054875e-05, accuracy 1.0\n",
      "\u001b[36m(ClientAppActor pid=4144273)\u001b[0m Running epoch 2/10\n",
      "\u001b[36m(ClientAppActor pid=4144273)\u001b[0m Epoch 3: train loss 1.4780964952957507e-05, accuracy 1.0\n",
      "\u001b[36m(ClientAppActor pid=4144273)\u001b[0m Running epoch 3/10\n",
      "\u001b[36m(ClientAppActor pid=4144273)\u001b[0m Epoch 4: train loss 6.525116088153626e-07, accuracy 1.0\n",
      "\u001b[36m(ClientAppActor pid=4144273)\u001b[0m Running epoch 4/10\n",
      "\u001b[36m(ClientAppActor pid=4144273)\u001b[0m Epoch 5: train loss 1.5126066404933991e-05, accuracy 1.0\n",
      "\u001b[36m(ClientAppActor pid=4144273)\u001b[0m Running epoch 5/10\n",
      "\u001b[36m(ClientAppActor pid=4144273)\u001b[0m Epoch 6: train loss 4.3919204460364296e-08, accuracy 1.0\n",
      "\u001b[36m(ClientAppActor pid=4144273)\u001b[0m Running epoch 6/10\n",
      "\u001b[36m(ClientAppActor pid=4144273)\u001b[0m Epoch 7: train loss 1.8195079950314003e-07, accuracy 1.0\n",
      "\u001b[36m(ClientAppActor pid=4144273)\u001b[0m Running epoch 7/10\n",
      "\u001b[36m(ClientAppActor pid=4144273)\u001b[0m Epoch 8: train loss 1.568542348638259e-07, accuracy 1.0\n",
      "\u001b[36m(ClientAppActor pid=4144273)\u001b[0m Running epoch 8/10\n",
      "\u001b[36m(ClientAppActor pid=4144273)\u001b[0m Epoch 9: train loss 9.09751849432819e-07, accuracy 1.0\n",
      "\u001b[36m(ClientAppActor pid=4144273)\u001b[0m Running epoch 9/10\n",
      "\u001b[36m(ClientAppActor pid=4144273)\u001b[0m Epoch 10: train loss 2.321440944504167e-07, accuracy 1.0\n",
      "\u001b[36m(ClientAppActor pid=4144273)\u001b[0m Training completed!\n",
      "\u001b[36m(ClientAppActor pid=4144273)\u001b[0m Length of params: 329\n"
     ]
    },
    {
     "name": "stderr",
     "output_type": "stream",
     "text": [
      "\u001b[36m(ClientAppActor pid=4144273)\u001b[0m \u001b[93mWARNING \u001b[0m:   Deprecation Warning: The `client_fn` function must return an instance of `Client`, but an instance of `NumpyClient` was returned. Please use `NumPyClient.to_client()` method to convert it to `Client`.\n"
     ]
    },
    {
     "name": "stdout",
     "output_type": "stream",
     "text": [
      "\u001b[36m(ClientAppActor pid=4144273)\u001b[0m [Client 5] fit, config: {'lr': 0.003}\n",
      "\u001b[36m(ClientAppActor pid=4144273)\u001b[0m Updating parameters 329\n",
      "\u001b[36m(ClientAppActor pid=4144273)\u001b[0m Setting parameters...\n",
      "\u001b[36m(ClientAppActor pid=4144273)\u001b[0m Client parameters set\n",
      "\u001b[36m(ClientAppActor pid=4144273)\u001b[0m Starting client training...\n",
      "\u001b[36m(ClientAppActor pid=4144273)\u001b[0m Running epoch 0/10\n",
      "\u001b[36m(ClientAppActor pid=4144273)\u001b[0m Epoch 1: train loss 9.642563923843059e-06, accuracy 1.0\n",
      "\u001b[36m(ClientAppActor pid=4144273)\u001b[0m Running epoch 1/10\n",
      "\u001b[36m(ClientAppActor pid=4144273)\u001b[0m Epoch 2: train loss 1.2485473359752655e-06, accuracy 1.0\n",
      "\u001b[36m(ClientAppActor pid=4144273)\u001b[0m Running epoch 2/10\n",
      "\u001b[36m(ClientAppActor pid=4144273)\u001b[0m Epoch 3: train loss 1.2046308046514672e-06, accuracy 1.0\n",
      "\u001b[36m(ClientAppActor pid=4144273)\u001b[0m Running epoch 3/10\n",
      "\u001b[36m(ClientAppActor pid=4144273)\u001b[0m Epoch 4: train loss 9.411226881782472e-07, accuracy 1.0\n",
      "\u001b[36m(ClientAppActor pid=4144273)\u001b[0m Running epoch 4/10\n",
      "\u001b[36m(ClientAppActor pid=4144273)\u001b[0m Epoch 5: train loss 4.3039326556026936e-06, accuracy 1.0\n",
      "\u001b[36m(ClientAppActor pid=4144273)\u001b[0m Running epoch 5/10\n",
      "\u001b[36m(ClientAppActor pid=4144273)\u001b[0m Epoch 6: train loss 1.3175759804832858e-07, accuracy 1.0\n",
      "\u001b[36m(ClientAppActor pid=4144273)\u001b[0m Running epoch 6/10\n",
      "\u001b[36m(ClientAppActor pid=4144273)\u001b[0m Epoch 7: train loss 1.5622629814366088e-06, accuracy 1.0\n",
      "\u001b[36m(ClientAppActor pid=4144273)\u001b[0m Running epoch 7/10\n",
      "\u001b[36m(ClientAppActor pid=4144273)\u001b[0m Epoch 8: train loss 7.547451069082231e-06, accuracy 1.0\n",
      "\u001b[36m(ClientAppActor pid=4144273)\u001b[0m Running epoch 8/10\n",
      "\u001b[36m(ClientAppActor pid=4144273)\u001b[0m Epoch 9: train loss 2.6413713086233323e-06, accuracy 1.0\n",
      "\u001b[36m(ClientAppActor pid=4144273)\u001b[0m Running epoch 9/10\n",
      "\u001b[36m(ClientAppActor pid=4144273)\u001b[0m Epoch 10: train loss 8.532827594440038e-07, accuracy 1.0\n",
      "\u001b[36m(ClientAppActor pid=4144273)\u001b[0m Training completed!\n",
      "\u001b[36m(ClientAppActor pid=4144273)\u001b[0m Length of params: 329\n"
     ]
    },
    {
     "name": "stderr",
     "output_type": "stream",
     "text": [
      "\u001b[92mINFO \u001b[0m:      aggregate_fit: received 10 results and 0 failures\n"
     ]
    },
    {
     "name": "stdout",
     "output_type": "stream",
     "text": [
      "Evaluating global model\n",
      "Updating parameters 329\n",
      "Setting parameters...\n",
      "Parameter set\n",
      "Starting client validation...\n",
      "Validataion accuracy = 0.8333333333333334\n",
      "Global evaluation round 10 loss = 0.09184489250183106 accuracy = 0.8333333333333334\n"
     ]
    },
    {
     "name": "stderr",
     "output_type": "stream",
     "text": [
      "\u001b[92mINFO \u001b[0m:      fit progress: (10, 0.09184489250183106, {}, 7364.938638221938)\n",
      "\u001b[92mINFO \u001b[0m:      configure_evaluate: strategy sampled 10 clients (out of 10)\n"
     ]
    },
    {
     "name": "stdout",
     "output_type": "stream",
     "text": [
      "Model saved at ./fl_checkpointsswintransformer_e10_c10_r10/fl_densenet_10.pth\n"
     ]
    },
    {
     "name": "stderr",
     "output_type": "stream",
     "text": [
      "\u001b[36m(ClientAppActor pid=4144273)\u001b[0m \u001b[93mWARNING \u001b[0m:   Deprecation Warning: The `client_fn` function must return an instance of `Client`, but an instance of `NumpyClient` was returned. Please use `NumPyClient.to_client()` method to convert it to `Client`.\n"
     ]
    },
    {
     "name": "stdout",
     "output_type": "stream",
     "text": [
      "\u001b[36m(ClientAppActor pid=4144273)\u001b[0m [Client 5] evaluate, config: {}\n",
      "\u001b[36m(ClientAppActor pid=4144273)\u001b[0m Updating parameters 329\n",
      "\u001b[36m(ClientAppActor pid=4144273)\u001b[0m Setting parameters...\n",
      "\u001b[36m(ClientAppActor pid=4144273)\u001b[0m Starting client validation...\n",
      "\u001b[36m(ClientAppActor pid=4144273)\u001b[0m Validataion accuracy = 0.8333333333333334\n",
      "\u001b[36m(ClientAppActor pid=4144273)\u001b[0m Evaluation loss = 0.09184489250183106 accuracy = 0.8333333333333334\n"
     ]
    },
    {
     "name": "stderr",
     "output_type": "stream",
     "text": [
      "\u001b[36m(ClientAppActor pid=4144273)\u001b[0m \u001b[93mWARNING \u001b[0m:   Deprecation Warning: The `client_fn` function must return an instance of `Client`, but an instance of `NumpyClient` was returned. Please use `NumPyClient.to_client()` method to convert it to `Client`.\n"
     ]
    },
    {
     "name": "stdout",
     "output_type": "stream",
     "text": [
      "\u001b[36m(ClientAppActor pid=4144273)\u001b[0m [Client 1] evaluate, config: {}\n",
      "\u001b[36m(ClientAppActor pid=4144273)\u001b[0m Updating parameters 329\n",
      "\u001b[36m(ClientAppActor pid=4144273)\u001b[0m Setting parameters...\n",
      "\u001b[36m(ClientAppActor pid=4144273)\u001b[0m Starting client validation...\n",
      "\u001b[36m(ClientAppActor pid=4144273)\u001b[0m Validataion accuracy = 0.8333333333333334\n",
      "\u001b[36m(ClientAppActor pid=4144273)\u001b[0m Evaluation loss = 0.09184489250183106 accuracy = 0.8333333333333334\n"
     ]
    },
    {
     "name": "stderr",
     "output_type": "stream",
     "text": [
      "\u001b[36m(ClientAppActor pid=4144273)\u001b[0m \u001b[93mWARNING \u001b[0m:   Deprecation Warning: The `client_fn` function must return an instance of `Client`, but an instance of `NumpyClient` was returned. Please use `NumPyClient.to_client()` method to convert it to `Client`.\n"
     ]
    },
    {
     "name": "stdout",
     "output_type": "stream",
     "text": [
      "\u001b[36m(ClientAppActor pid=4144273)\u001b[0m [Client 2] evaluate, config: {}\n",
      "\u001b[36m(ClientAppActor pid=4144273)\u001b[0m Updating parameters 329\n",
      "\u001b[36m(ClientAppActor pid=4144273)\u001b[0m Setting parameters...\n",
      "\u001b[36m(ClientAppActor pid=4144273)\u001b[0m Starting client validation...\n",
      "\u001b[36m(ClientAppActor pid=4144273)\u001b[0m Validataion accuracy = 0.8333333333333334\n",
      "\u001b[36m(ClientAppActor pid=4144273)\u001b[0m Evaluation loss = 0.09184489250183106 accuracy = 0.8333333333333334\n"
     ]
    },
    {
     "name": "stderr",
     "output_type": "stream",
     "text": [
      "\u001b[36m(ClientAppActor pid=4144273)\u001b[0m \u001b[93mWARNING \u001b[0m:   Deprecation Warning: The `client_fn` function must return an instance of `Client`, but an instance of `NumpyClient` was returned. Please use `NumPyClient.to_client()` method to convert it to `Client`.\n"
     ]
    },
    {
     "name": "stdout",
     "output_type": "stream",
     "text": [
      "\u001b[36m(ClientAppActor pid=4144273)\u001b[0m [Client 7] evaluate, config: {}\n",
      "\u001b[36m(ClientAppActor pid=4144273)\u001b[0m Updating parameters 329\n",
      "\u001b[36m(ClientAppActor pid=4144273)\u001b[0m Setting parameters...\n",
      "\u001b[36m(ClientAppActor pid=4144273)\u001b[0m Starting client validation...\n",
      "\u001b[36m(ClientAppActor pid=4144273)\u001b[0m Validataion accuracy = 0.8333333333333334\n",
      "\u001b[36m(ClientAppActor pid=4144273)\u001b[0m Evaluation loss = 0.09184489250183106 accuracy = 0.8333333333333334\n"
     ]
    },
    {
     "name": "stderr",
     "output_type": "stream",
     "text": [
      "\u001b[36m(ClientAppActor pid=4144273)\u001b[0m \u001b[93mWARNING \u001b[0m:   Deprecation Warning: The `client_fn` function must return an instance of `Client`, but an instance of `NumpyClient` was returned. Please use `NumPyClient.to_client()` method to convert it to `Client`.\n"
     ]
    },
    {
     "name": "stdout",
     "output_type": "stream",
     "text": [
      "\u001b[36m(ClientAppActor pid=4144273)\u001b[0m [Client 9] evaluate, config: {}\n",
      "\u001b[36m(ClientAppActor pid=4144273)\u001b[0m Updating parameters 329\n",
      "\u001b[36m(ClientAppActor pid=4144273)\u001b[0m Setting parameters...\n",
      "\u001b[36m(ClientAppActor pid=4144273)\u001b[0m Starting client validation...\n",
      "\u001b[36m(ClientAppActor pid=4144273)\u001b[0m Validataion accuracy = 0.8333333333333334\n",
      "\u001b[36m(ClientAppActor pid=4144273)\u001b[0m Evaluation loss = 0.09184489250183106 accuracy = 0.8333333333333334\n"
     ]
    },
    {
     "name": "stderr",
     "output_type": "stream",
     "text": [
      "\u001b[36m(ClientAppActor pid=4144273)\u001b[0m \u001b[93mWARNING \u001b[0m:   Deprecation Warning: The `client_fn` function must return an instance of `Client`, but an instance of `NumpyClient` was returned. Please use `NumPyClient.to_client()` method to convert it to `Client`.\n"
     ]
    },
    {
     "name": "stdout",
     "output_type": "stream",
     "text": [
      "\u001b[36m(ClientAppActor pid=4144273)\u001b[0m [Client 4] evaluate, config: {}\n",
      "\u001b[36m(ClientAppActor pid=4144273)\u001b[0m Updating parameters 329\n",
      "\u001b[36m(ClientAppActor pid=4144273)\u001b[0m Setting parameters...\n",
      "\u001b[36m(ClientAppActor pid=4144273)\u001b[0m Starting client validation...\n",
      "\u001b[36m(ClientAppActor pid=4144273)\u001b[0m Validataion accuracy = 0.8333333333333334\n",
      "\u001b[36m(ClientAppActor pid=4144273)\u001b[0m Evaluation loss = 0.09184489250183106 accuracy = 0.8333333333333334\n"
     ]
    },
    {
     "name": "stderr",
     "output_type": "stream",
     "text": [
      "\u001b[36m(ClientAppActor pid=4144273)\u001b[0m \u001b[93mWARNING \u001b[0m:   Deprecation Warning: The `client_fn` function must return an instance of `Client`, but an instance of `NumpyClient` was returned. Please use `NumPyClient.to_client()` method to convert it to `Client`.\n"
     ]
    },
    {
     "name": "stdout",
     "output_type": "stream",
     "text": [
      "\u001b[36m(ClientAppActor pid=4144273)\u001b[0m [Client 6] evaluate, config: {}\n",
      "\u001b[36m(ClientAppActor pid=4144273)\u001b[0m Updating parameters 329\n",
      "\u001b[36m(ClientAppActor pid=4144273)\u001b[0m Setting parameters...\n",
      "\u001b[36m(ClientAppActor pid=4144273)\u001b[0m Starting client validation...\n",
      "\u001b[36m(ClientAppActor pid=4144273)\u001b[0m Validataion accuracy = 0.8333333333333334\n",
      "\u001b[36m(ClientAppActor pid=4144273)\u001b[0m Evaluation loss = 0.09184489250183106 accuracy = 0.8333333333333334\n"
     ]
    },
    {
     "name": "stderr",
     "output_type": "stream",
     "text": [
      "\u001b[36m(ClientAppActor pid=4144273)\u001b[0m \u001b[93mWARNING \u001b[0m:   Deprecation Warning: The `client_fn` function must return an instance of `Client`, but an instance of `NumpyClient` was returned. Please use `NumPyClient.to_client()` method to convert it to `Client`.\n"
     ]
    },
    {
     "name": "stdout",
     "output_type": "stream",
     "text": [
      "\u001b[36m(ClientAppActor pid=4144273)\u001b[0m [Client 0] evaluate, config: {}\n",
      "\u001b[36m(ClientAppActor pid=4144273)\u001b[0m Updating parameters 329\n",
      "\u001b[36m(ClientAppActor pid=4144273)\u001b[0m Setting parameters...\n",
      "\u001b[36m(ClientAppActor pid=4144273)\u001b[0m Starting client validation...\n",
      "\u001b[36m(ClientAppActor pid=4144273)\u001b[0m Validataion accuracy = 0.8333333333333334\n",
      "\u001b[36m(ClientAppActor pid=4144273)\u001b[0m Evaluation loss = 0.09184489250183106 accuracy = 0.8333333333333334\n"
     ]
    },
    {
     "name": "stderr",
     "output_type": "stream",
     "text": [
      "\u001b[36m(ClientAppActor pid=4144273)\u001b[0m \u001b[93mWARNING \u001b[0m:   Deprecation Warning: The `client_fn` function must return an instance of `Client`, but an instance of `NumpyClient` was returned. Please use `NumPyClient.to_client()` method to convert it to `Client`.\n"
     ]
    },
    {
     "name": "stdout",
     "output_type": "stream",
     "text": [
      "\u001b[36m(ClientAppActor pid=4144273)\u001b[0m [Client 3] evaluate, config: {}\n",
      "\u001b[36m(ClientAppActor pid=4144273)\u001b[0m Updating parameters 329\n",
      "\u001b[36m(ClientAppActor pid=4144273)\u001b[0m Setting parameters...\n",
      "\u001b[36m(ClientAppActor pid=4144273)\u001b[0m Starting client validation...\n",
      "\u001b[36m(ClientAppActor pid=4144273)\u001b[0m Validataion accuracy = 0.8333333333333334\n",
      "\u001b[36m(ClientAppActor pid=4144273)\u001b[0m Evaluation loss = 0.09184489250183106 accuracy = 0.8333333333333334\n"
     ]
    },
    {
     "name": "stderr",
     "output_type": "stream",
     "text": [
      "\u001b[36m(ClientAppActor pid=4144273)\u001b[0m \u001b[93mWARNING \u001b[0m:   Deprecation Warning: The `client_fn` function must return an instance of `Client`, but an instance of `NumpyClient` was returned. Please use `NumPyClient.to_client()` method to convert it to `Client`.\n"
     ]
    },
    {
     "name": "stdout",
     "output_type": "stream",
     "text": [
      "\u001b[36m(ClientAppActor pid=4144273)\u001b[0m [Client 8] evaluate, config: {}\n",
      "\u001b[36m(ClientAppActor pid=4144273)\u001b[0m Updating parameters 329\n",
      "\u001b[36m(ClientAppActor pid=4144273)\u001b[0m Setting parameters...\n",
      "\u001b[36m(ClientAppActor pid=4144273)\u001b[0m Starting client validation...\n"
     ]
    },
    {
     "name": "stderr",
     "output_type": "stream",
     "text": [
      "\u001b[92mINFO \u001b[0m:      aggregate_evaluate: received 10 results and 0 failures\n",
      "\u001b[92mINFO \u001b[0m:      \n",
      "\u001b[92mINFO \u001b[0m:      [SUMMARY]\n",
      "\u001b[92mINFO \u001b[0m:      Run finished 10 round(s) in 7466.76s\n",
      "\u001b[92mINFO \u001b[0m:      \tHistory (loss, distributed):\n",
      "\u001b[92mINFO \u001b[0m:      \t\tround 1: 0.04820530116558075\n",
      "\u001b[92mINFO \u001b[0m:      \t\tround 2: 0.04684884684781233\n",
      "\u001b[92mINFO \u001b[0m:      \t\tround 3: 0.060025711357593534\n",
      "\u001b[92mINFO \u001b[0m:      \t\tround 4: 0.0669787441690763\n",
      "\u001b[92mINFO \u001b[0m:      \t\tround 5: 0.06496138274669648\n",
      "\u001b[92mINFO \u001b[0m:      \t\tround 6: 0.08114009896914164\n",
      "\u001b[92mINFO \u001b[0m:      \t\tround 7: 0.07091672817866006\n",
      "\u001b[92mINFO \u001b[0m:      \t\tround 8: 0.07146279215812681\n",
      "\u001b[92mINFO \u001b[0m:      \t\tround 9: 0.0941953976949056\n",
      "\u001b[92mINFO \u001b[0m:      \t\tround 10: 0.09184489250183105\n",
      "\u001b[92mINFO \u001b[0m:      \tHistory (loss, centralized):\n",
      "\u001b[92mINFO \u001b[0m:      \t\tround 0: 0.054304216305414835\n",
      "\u001b[92mINFO \u001b[0m:      \t\tround 1: 0.04820530116558075\n",
      "\u001b[92mINFO \u001b[0m:      \t\tround 2: 0.046848846847812334\n",
      "\u001b[92mINFO \u001b[0m:      \t\tround 3: 0.060025711357593534\n",
      "\u001b[92mINFO \u001b[0m:      \t\tround 4: 0.06697874416907629\n",
      "\u001b[92mINFO \u001b[0m:      \t\tround 5: 0.06496138274669647\n",
      "\u001b[92mINFO \u001b[0m:      \t\tround 6: 0.08114009896914164\n",
      "\u001b[92mINFO \u001b[0m:      \t\tround 7: 0.07091672817866007\n",
      "\u001b[92mINFO \u001b[0m:      \t\tround 8: 0.07146279215812683\n",
      "\u001b[92mINFO \u001b[0m:      \t\tround 9: 0.0941953976949056\n",
      "\u001b[92mINFO \u001b[0m:      \t\tround 10: 0.09184489250183106\n",
      "\u001b[92mINFO \u001b[0m:      \n"
     ]
    },
    {
     "name": "stdout",
     "output_type": "stream",
     "text": [
      "\u001b[36m(ClientAppActor pid=4144273)\u001b[0m Validataion accuracy = 0.8333333333333334\n",
      "\u001b[36m(ClientAppActor pid=4144273)\u001b[0m Evaluation loss = 0.09184489250183106 accuracy = 0.8333333333333334\n",
      "End of Simulation History = History (loss, distributed):\n",
      "\tround 1: 0.04820530116558075\n",
      "\tround 2: 0.04684884684781233\n",
      "\tround 3: 0.060025711357593534\n",
      "\tround 4: 0.0669787441690763\n",
      "\tround 5: 0.06496138274669648\n",
      "\tround 6: 0.08114009896914164\n",
      "\tround 7: 0.07091672817866006\n",
      "\tround 8: 0.07146279215812681\n",
      "\tround 9: 0.0941953976949056\n",
      "\tround 10: 0.09184489250183105\n",
      "History (loss, centralized):\n",
      "\tround 0: 0.054304216305414835\n",
      "\tround 1: 0.04820530116558075\n",
      "\tround 2: 0.046848846847812334\n",
      "\tround 3: 0.060025711357593534\n",
      "\tround 4: 0.06697874416907629\n",
      "\tround 5: 0.06496138274669647\n",
      "\tround 6: 0.08114009896914164\n",
      "\tround 7: 0.07091672817866007\n",
      "\tround 8: 0.07146279215812683\n",
      "\tround 9: 0.0941953976949056\n",
      "\tround 10: 0.09184489250183106\n",
      "\n"
     ]
    }
   ],
   "source": [
    "# Create an instance of the model and get the parameters\n",
    "# params = get_parameters(create_pretrained_densenet(num_classes).to(device))\n",
    "# print(\"ParamsIn: \", params)\n",
    "\n",
    "# Pass parameters to the Strategy for server-side parameter initialization\n",
    "# strategy = fl.server.strategy.FedAvg(\n",
    "#     fraction_fit=0.3,\n",
    "#     fraction_evaluate=0.3,\n",
    "#     min_fit_clients=1,\n",
    "#     min_evaluate_clients=1,\n",
    "#     min_available_clients=NUM_CLIENTS,\n",
    "# #     initial_parameters=fl.common.ndarrays_to_parameters(params),\n",
    "# )\n",
    "\n",
    "# Specify client resources if you need GPU (defaults to 1 CPU and 0 GPU)\n",
    "client_resources = None\n",
    "if use_cuda:\n",
    "    client_resources = {'num_gpus': 1}\n",
    "\n",
    "# Start simulation\n",
    "# fl.simulation.start_simulation(\n",
    "#     client_fn=client_fn,\n",
    "#     num_clients=NUM_CLIENTS,\n",
    "#     config=fl.server.ServerConfig(num_rounds=1),  # Just three rounds\n",
    "#     strategy=strategy,\n",
    "#     client_resources=client_resources,\n",
    "# )\n",
    "\n",
    "history = fl.simulation.start_simulation(\n",
    "    client_fn=client_fn,\n",
    "    num_clients=NUM_CLIENTS,\n",
    "    config=fl.server.ServerConfig(num_rounds=ROUNDS),  # Just three rounds\n",
    "    strategy=FedCustom(),\n",
    "    client_resources=client_resources,\n",
    ")\n",
    "\n",
    "\n",
    "print(f\"End of Simulation History = {history}\")"
   ]
  },
  {
   "cell_type": "markdown",
   "metadata": {},
   "source": [
    "## Inference"
   ]
  },
  {
   "cell_type": "code",
   "execution_count": null,
   "metadata": {},
   "outputs": [],
   "source": [
    "# import torch\n",
    "# import torchvision.transforms as transforms\n",
    "# from PIL import Image\n",
    "# import os\n",
    "# from torchvision import datasets, models\n",
    "# from torch.utils.data import DataLoader"
   ]
  },
  {
   "cell_type": "code",
   "execution_count": 40,
   "metadata": {},
   "outputs": [],
   "source": [
    "# # Define device\n",
    "# use_cuda = torch.cuda.is_available()\n",
    "# device = torch.device(\"cuda:0\" if use_cuda else \"cpu\")"
   ]
  },
  {
   "cell_type": "code",
   "execution_count": 17,
   "metadata": {},
   "outputs": [],
   "source": [
    "# # Load model\n",
    "# num_classes = 2\n",
    "# model = create_pretrained_densenet(num_classes)\n",
    "# model.to(device)"
   ]
  },
  {
   "cell_type": "code",
   "execution_count": null,
   "metadata": {},
   "outputs": [],
   "source": []
  },
  {
   "cell_type": "code",
   "execution_count": 18,
   "metadata": {},
   "outputs": [],
   "source": [
    "# # Load best model weights\n",
    "# best_model_path = \"./fl_checkpointsdensenet121/fl_densenet_15.pth\"\n",
    "# checkpoint = torch.load(best_model_path)\n",
    "# model.load_state_dict(checkpoint['state_dict'])\n",
    "# print(\"Model loaded successfully\")"
   ]
  },
  {
   "cell_type": "code",
   "execution_count": 43,
   "metadata": {},
   "outputs": [],
   "source": [
    "# # Define transform\n",
    "# transform = transforms.Compose([\n",
    "#     transforms.Resize((224, 224)),\n",
    "#     transforms.ToTensor(),\n",
    "#     transforms.Normalize(mean=[0.4762, 0.3054, 0.2368], std=[0.3345, 0.2407, 0.2164])\n",
    "# ])\n",
    "\n",
    "# # Define test dataset and dataloader\n",
    "# test_root_dir = os.path.join('./../../processed_RealDS', 'test')\n",
    "# test_dataset = datasets.ImageFolder(test_root_dir, transform=transform)\n",
    "# test_loader = DataLoader(test_dataset, batch_size=1, shuffle=False)\n"
   ]
  },
  {
   "cell_type": "code",
   "execution_count": 3,
   "metadata": {},
   "outputs": [],
   "source": [
    "# # Load your single image\n",
    "# PATH_DATASET = './../../processed_RealDS'\n",
    "\n",
    "# image_path = os.path.join(PATH_DATASET, 'test','Disease','Image_114.jpeg')  # Replace 'path_to_your_image.jpg' with the path to your image\n",
    "# image = Image.open(image_path)\n"
   ]
  },
  {
   "cell_type": "code",
   "execution_count": 34,
   "metadata": {},
   "outputs": [],
   "source": [
    "# image = Image.open(image_path)\n",
    "\n",
    "# # Apply the transform to the image\n",
    "# image = transform(image)\n",
    "\n",
    "# # Add batch dimension\n",
    "# image = image.unsqueeze(0)\n",
    "# image = image.to(device)\n"
   ]
  },
  {
   "cell_type": "code",
   "execution_count": 19,
   "metadata": {},
   "outputs": [],
   "source": [
    "# # Perform inference and calculate accuracy\n",
    "# model.eval()\n",
    "# correct = 0\n",
    "# total = 0\n",
    "# class_labels = ['Healthy', 'Disease']  # Replace with your actual class labels\n"
   ]
  },
  {
   "cell_type": "code",
   "execution_count": null,
   "metadata": {},
   "outputs": [],
   "source": []
  },
  {
   "cell_type": "code",
   "execution_count": 20,
   "metadata": {},
   "outputs": [],
   "source": [
    "# # Perform inference\n",
    "# with torch.no_grad():\n",
    "#     output = model(image)\n",
    "\n",
    "#     # Get the predicted class index\n",
    "#     _, predicted = torch.max(output, 1)\n",
    "#     predicted_class_index = predicted.item()\n",
    "    \n",
    "#     # Interpret the results (assuming you have a class label mapping)\n",
    "#     class_labels = ['Healthy','Disease' ]  # Replace with your actual class labels\n",
    "#     predicted_class_label = class_labels[predicted_class_index]\n",
    "#     print('Predicted class:', predicted_class_label)"
   ]
  },
  {
   "cell_type": "code",
   "execution_count": 21,
   "metadata": {},
   "outputs": [],
   "source": [
    "# print('Predicted class:', predicted_class_label)"
   ]
  },
  {
   "cell_type": "markdown",
   "metadata": {},
   "source": [
    "## all predictions"
   ]
  },
  {
   "cell_type": "code",
   "execution_count": null,
   "metadata": {},
   "outputs": [],
   "source": []
  },
  {
   "cell_type": "code",
   "execution_count": 22,
   "metadata": {},
   "outputs": [],
   "source": [
    "# with torch.no_grad():\n",
    "#     for images, labels in test_loader:\n",
    "#         images, labels = images.to(device), labels.to(device)\n",
    "#         outputs = model(images)\n",
    "#         _, predicted = torch.max(outputs.data, 1)\n",
    "#         total += labels.size(0)\n",
    "#         correct += (predicted == labels).sum().item()\n",
    "#         print(f\"Predicted class: {class_labels[predicted.item()]}\")\n",
    "\n",
    "# accuracy = correct / total\n",
    "# print(f'Overall test accuracy: {accuracy * 100:.2f}%')"
   ]
  },
  {
   "cell_type": "code",
   "execution_count": 12,
   "metadata": {},
   "outputs": [],
   "source": [
    "# tmp_model = create_pretrained_densenet(num_classes).to(device)\n",
    "\n",
    "# params = get_parameters(tmp_model)\n",
    "\n",
    "# # it will return byteio(numpyArray(param))\n",
    "# array_to_param = fl.common.ndarrays_to_parameters(params)\n",
    "\n",
    "# param_to_arr = fl.common.parameters_to_ndarrays(array_to_param)\n",
    "\n",
    "# print(type(param_to_arr))\n",
    "\n",
    "# for i, v in enumerate(param_to_arr):\n",
    "#     try:\n",
    "#         print(len(v))\n",
    "#     except:\n",
    "#         print(v)\n",
    "#         param_to_arr[i] = np.array([0])\n",
    "# set_parameters(tmp_model, param_to_arr)"
   ]
  },
  {
   "cell_type": "markdown",
   "metadata": {},
   "source": [
    "# Testing"
   ]
  },
  {
   "cell_type": "code",
   "execution_count": 15,
   "metadata": {},
   "outputs": [
    {
     "name": "stdout",
     "output_type": "stream",
     "text": [
      "Best model path:fl_checkpointsdensenet121_e5_c5_r5/fl_densenet_5.pth\n"
     ]
    },
    {
     "name": "stderr",
     "output_type": "stream",
     "text": [
      "/home/sarangs/D1/chameleon_venv/lib/python3.11/site-packages/torchvision/models/_utils.py:223: UserWarning: Arguments other than a weight enum or `None` for 'weights' are deprecated since 0.13 and may be removed in the future. The current behavior is equivalent to passing `weights=None`.\n",
      "  warnings.warn(msg)\n"
     ]
    },
    {
     "data": {
      "text/plain": [
       "DenseNet(\n",
       "  (features): Sequential(\n",
       "    (conv0): Conv2d(3, 64, kernel_size=(7, 7), stride=(2, 2), padding=(3, 3), bias=False)\n",
       "    (norm0): BatchNorm2d(64, eps=1e-05, momentum=0.1, affine=True, track_running_stats=True)\n",
       "    (relu0): ReLU(inplace=True)\n",
       "    (pool0): MaxPool2d(kernel_size=3, stride=2, padding=1, dilation=1, ceil_mode=False)\n",
       "    (denseblock1): _DenseBlock(\n",
       "      (denselayer1): _DenseLayer(\n",
       "        (norm1): BatchNorm2d(64, eps=1e-05, momentum=0.1, affine=True, track_running_stats=True)\n",
       "        (relu1): ReLU(inplace=True)\n",
       "        (conv1): Conv2d(64, 128, kernel_size=(1, 1), stride=(1, 1), bias=False)\n",
       "        (norm2): BatchNorm2d(128, eps=1e-05, momentum=0.1, affine=True, track_running_stats=True)\n",
       "        (relu2): ReLU(inplace=True)\n",
       "        (conv2): Conv2d(128, 32, kernel_size=(3, 3), stride=(1, 1), padding=(1, 1), bias=False)\n",
       "      )\n",
       "      (denselayer2): _DenseLayer(\n",
       "        (norm1): BatchNorm2d(96, eps=1e-05, momentum=0.1, affine=True, track_running_stats=True)\n",
       "        (relu1): ReLU(inplace=True)\n",
       "        (conv1): Conv2d(96, 128, kernel_size=(1, 1), stride=(1, 1), bias=False)\n",
       "        (norm2): BatchNorm2d(128, eps=1e-05, momentum=0.1, affine=True, track_running_stats=True)\n",
       "        (relu2): ReLU(inplace=True)\n",
       "        (conv2): Conv2d(128, 32, kernel_size=(3, 3), stride=(1, 1), padding=(1, 1), bias=False)\n",
       "      )\n",
       "      (denselayer3): _DenseLayer(\n",
       "        (norm1): BatchNorm2d(128, eps=1e-05, momentum=0.1, affine=True, track_running_stats=True)\n",
       "        (relu1): ReLU(inplace=True)\n",
       "        (conv1): Conv2d(128, 128, kernel_size=(1, 1), stride=(1, 1), bias=False)\n",
       "        (norm2): BatchNorm2d(128, eps=1e-05, momentum=0.1, affine=True, track_running_stats=True)\n",
       "        (relu2): ReLU(inplace=True)\n",
       "        (conv2): Conv2d(128, 32, kernel_size=(3, 3), stride=(1, 1), padding=(1, 1), bias=False)\n",
       "      )\n",
       "      (denselayer4): _DenseLayer(\n",
       "        (norm1): BatchNorm2d(160, eps=1e-05, momentum=0.1, affine=True, track_running_stats=True)\n",
       "        (relu1): ReLU(inplace=True)\n",
       "        (conv1): Conv2d(160, 128, kernel_size=(1, 1), stride=(1, 1), bias=False)\n",
       "        (norm2): BatchNorm2d(128, eps=1e-05, momentum=0.1, affine=True, track_running_stats=True)\n",
       "        (relu2): ReLU(inplace=True)\n",
       "        (conv2): Conv2d(128, 32, kernel_size=(3, 3), stride=(1, 1), padding=(1, 1), bias=False)\n",
       "      )\n",
       "      (denselayer5): _DenseLayer(\n",
       "        (norm1): BatchNorm2d(192, eps=1e-05, momentum=0.1, affine=True, track_running_stats=True)\n",
       "        (relu1): ReLU(inplace=True)\n",
       "        (conv1): Conv2d(192, 128, kernel_size=(1, 1), stride=(1, 1), bias=False)\n",
       "        (norm2): BatchNorm2d(128, eps=1e-05, momentum=0.1, affine=True, track_running_stats=True)\n",
       "        (relu2): ReLU(inplace=True)\n",
       "        (conv2): Conv2d(128, 32, kernel_size=(3, 3), stride=(1, 1), padding=(1, 1), bias=False)\n",
       "      )\n",
       "      (denselayer6): _DenseLayer(\n",
       "        (norm1): BatchNorm2d(224, eps=1e-05, momentum=0.1, affine=True, track_running_stats=True)\n",
       "        (relu1): ReLU(inplace=True)\n",
       "        (conv1): Conv2d(224, 128, kernel_size=(1, 1), stride=(1, 1), bias=False)\n",
       "        (norm2): BatchNorm2d(128, eps=1e-05, momentum=0.1, affine=True, track_running_stats=True)\n",
       "        (relu2): ReLU(inplace=True)\n",
       "        (conv2): Conv2d(128, 32, kernel_size=(3, 3), stride=(1, 1), padding=(1, 1), bias=False)\n",
       "      )\n",
       "    )\n",
       "    (transition1): _Transition(\n",
       "      (norm): BatchNorm2d(256, eps=1e-05, momentum=0.1, affine=True, track_running_stats=True)\n",
       "      (relu): ReLU(inplace=True)\n",
       "      (conv): Conv2d(256, 128, kernel_size=(1, 1), stride=(1, 1), bias=False)\n",
       "      (pool): AvgPool2d(kernel_size=2, stride=2, padding=0)\n",
       "    )\n",
       "    (denseblock2): _DenseBlock(\n",
       "      (denselayer1): _DenseLayer(\n",
       "        (norm1): BatchNorm2d(128, eps=1e-05, momentum=0.1, affine=True, track_running_stats=True)\n",
       "        (relu1): ReLU(inplace=True)\n",
       "        (conv1): Conv2d(128, 128, kernel_size=(1, 1), stride=(1, 1), bias=False)\n",
       "        (norm2): BatchNorm2d(128, eps=1e-05, momentum=0.1, affine=True, track_running_stats=True)\n",
       "        (relu2): ReLU(inplace=True)\n",
       "        (conv2): Conv2d(128, 32, kernel_size=(3, 3), stride=(1, 1), padding=(1, 1), bias=False)\n",
       "      )\n",
       "      (denselayer2): _DenseLayer(\n",
       "        (norm1): BatchNorm2d(160, eps=1e-05, momentum=0.1, affine=True, track_running_stats=True)\n",
       "        (relu1): ReLU(inplace=True)\n",
       "        (conv1): Conv2d(160, 128, kernel_size=(1, 1), stride=(1, 1), bias=False)\n",
       "        (norm2): BatchNorm2d(128, eps=1e-05, momentum=0.1, affine=True, track_running_stats=True)\n",
       "        (relu2): ReLU(inplace=True)\n",
       "        (conv2): Conv2d(128, 32, kernel_size=(3, 3), stride=(1, 1), padding=(1, 1), bias=False)\n",
       "      )\n",
       "      (denselayer3): _DenseLayer(\n",
       "        (norm1): BatchNorm2d(192, eps=1e-05, momentum=0.1, affine=True, track_running_stats=True)\n",
       "        (relu1): ReLU(inplace=True)\n",
       "        (conv1): Conv2d(192, 128, kernel_size=(1, 1), stride=(1, 1), bias=False)\n",
       "        (norm2): BatchNorm2d(128, eps=1e-05, momentum=0.1, affine=True, track_running_stats=True)\n",
       "        (relu2): ReLU(inplace=True)\n",
       "        (conv2): Conv2d(128, 32, kernel_size=(3, 3), stride=(1, 1), padding=(1, 1), bias=False)\n",
       "      )\n",
       "      (denselayer4): _DenseLayer(\n",
       "        (norm1): BatchNorm2d(224, eps=1e-05, momentum=0.1, affine=True, track_running_stats=True)\n",
       "        (relu1): ReLU(inplace=True)\n",
       "        (conv1): Conv2d(224, 128, kernel_size=(1, 1), stride=(1, 1), bias=False)\n",
       "        (norm2): BatchNorm2d(128, eps=1e-05, momentum=0.1, affine=True, track_running_stats=True)\n",
       "        (relu2): ReLU(inplace=True)\n",
       "        (conv2): Conv2d(128, 32, kernel_size=(3, 3), stride=(1, 1), padding=(1, 1), bias=False)\n",
       "      )\n",
       "      (denselayer5): _DenseLayer(\n",
       "        (norm1): BatchNorm2d(256, eps=1e-05, momentum=0.1, affine=True, track_running_stats=True)\n",
       "        (relu1): ReLU(inplace=True)\n",
       "        (conv1): Conv2d(256, 128, kernel_size=(1, 1), stride=(1, 1), bias=False)\n",
       "        (norm2): BatchNorm2d(128, eps=1e-05, momentum=0.1, affine=True, track_running_stats=True)\n",
       "        (relu2): ReLU(inplace=True)\n",
       "        (conv2): Conv2d(128, 32, kernel_size=(3, 3), stride=(1, 1), padding=(1, 1), bias=False)\n",
       "      )\n",
       "      (denselayer6): _DenseLayer(\n",
       "        (norm1): BatchNorm2d(288, eps=1e-05, momentum=0.1, affine=True, track_running_stats=True)\n",
       "        (relu1): ReLU(inplace=True)\n",
       "        (conv1): Conv2d(288, 128, kernel_size=(1, 1), stride=(1, 1), bias=False)\n",
       "        (norm2): BatchNorm2d(128, eps=1e-05, momentum=0.1, affine=True, track_running_stats=True)\n",
       "        (relu2): ReLU(inplace=True)\n",
       "        (conv2): Conv2d(128, 32, kernel_size=(3, 3), stride=(1, 1), padding=(1, 1), bias=False)\n",
       "      )\n",
       "      (denselayer7): _DenseLayer(\n",
       "        (norm1): BatchNorm2d(320, eps=1e-05, momentum=0.1, affine=True, track_running_stats=True)\n",
       "        (relu1): ReLU(inplace=True)\n",
       "        (conv1): Conv2d(320, 128, kernel_size=(1, 1), stride=(1, 1), bias=False)\n",
       "        (norm2): BatchNorm2d(128, eps=1e-05, momentum=0.1, affine=True, track_running_stats=True)\n",
       "        (relu2): ReLU(inplace=True)\n",
       "        (conv2): Conv2d(128, 32, kernel_size=(3, 3), stride=(1, 1), padding=(1, 1), bias=False)\n",
       "      )\n",
       "      (denselayer8): _DenseLayer(\n",
       "        (norm1): BatchNorm2d(352, eps=1e-05, momentum=0.1, affine=True, track_running_stats=True)\n",
       "        (relu1): ReLU(inplace=True)\n",
       "        (conv1): Conv2d(352, 128, kernel_size=(1, 1), stride=(1, 1), bias=False)\n",
       "        (norm2): BatchNorm2d(128, eps=1e-05, momentum=0.1, affine=True, track_running_stats=True)\n",
       "        (relu2): ReLU(inplace=True)\n",
       "        (conv2): Conv2d(128, 32, kernel_size=(3, 3), stride=(1, 1), padding=(1, 1), bias=False)\n",
       "      )\n",
       "      (denselayer9): _DenseLayer(\n",
       "        (norm1): BatchNorm2d(384, eps=1e-05, momentum=0.1, affine=True, track_running_stats=True)\n",
       "        (relu1): ReLU(inplace=True)\n",
       "        (conv1): Conv2d(384, 128, kernel_size=(1, 1), stride=(1, 1), bias=False)\n",
       "        (norm2): BatchNorm2d(128, eps=1e-05, momentum=0.1, affine=True, track_running_stats=True)\n",
       "        (relu2): ReLU(inplace=True)\n",
       "        (conv2): Conv2d(128, 32, kernel_size=(3, 3), stride=(1, 1), padding=(1, 1), bias=False)\n",
       "      )\n",
       "      (denselayer10): _DenseLayer(\n",
       "        (norm1): BatchNorm2d(416, eps=1e-05, momentum=0.1, affine=True, track_running_stats=True)\n",
       "        (relu1): ReLU(inplace=True)\n",
       "        (conv1): Conv2d(416, 128, kernel_size=(1, 1), stride=(1, 1), bias=False)\n",
       "        (norm2): BatchNorm2d(128, eps=1e-05, momentum=0.1, affine=True, track_running_stats=True)\n",
       "        (relu2): ReLU(inplace=True)\n",
       "        (conv2): Conv2d(128, 32, kernel_size=(3, 3), stride=(1, 1), padding=(1, 1), bias=False)\n",
       "      )\n",
       "      (denselayer11): _DenseLayer(\n",
       "        (norm1): BatchNorm2d(448, eps=1e-05, momentum=0.1, affine=True, track_running_stats=True)\n",
       "        (relu1): ReLU(inplace=True)\n",
       "        (conv1): Conv2d(448, 128, kernel_size=(1, 1), stride=(1, 1), bias=False)\n",
       "        (norm2): BatchNorm2d(128, eps=1e-05, momentum=0.1, affine=True, track_running_stats=True)\n",
       "        (relu2): ReLU(inplace=True)\n",
       "        (conv2): Conv2d(128, 32, kernel_size=(3, 3), stride=(1, 1), padding=(1, 1), bias=False)\n",
       "      )\n",
       "      (denselayer12): _DenseLayer(\n",
       "        (norm1): BatchNorm2d(480, eps=1e-05, momentum=0.1, affine=True, track_running_stats=True)\n",
       "        (relu1): ReLU(inplace=True)\n",
       "        (conv1): Conv2d(480, 128, kernel_size=(1, 1), stride=(1, 1), bias=False)\n",
       "        (norm2): BatchNorm2d(128, eps=1e-05, momentum=0.1, affine=True, track_running_stats=True)\n",
       "        (relu2): ReLU(inplace=True)\n",
       "        (conv2): Conv2d(128, 32, kernel_size=(3, 3), stride=(1, 1), padding=(1, 1), bias=False)\n",
       "      )\n",
       "    )\n",
       "    (transition2): _Transition(\n",
       "      (norm): BatchNorm2d(512, eps=1e-05, momentum=0.1, affine=True, track_running_stats=True)\n",
       "      (relu): ReLU(inplace=True)\n",
       "      (conv): Conv2d(512, 256, kernel_size=(1, 1), stride=(1, 1), bias=False)\n",
       "      (pool): AvgPool2d(kernel_size=2, stride=2, padding=0)\n",
       "    )\n",
       "    (denseblock3): _DenseBlock(\n",
       "      (denselayer1): _DenseLayer(\n",
       "        (norm1): BatchNorm2d(256, eps=1e-05, momentum=0.1, affine=True, track_running_stats=True)\n",
       "        (relu1): ReLU(inplace=True)\n",
       "        (conv1): Conv2d(256, 128, kernel_size=(1, 1), stride=(1, 1), bias=False)\n",
       "        (norm2): BatchNorm2d(128, eps=1e-05, momentum=0.1, affine=True, track_running_stats=True)\n",
       "        (relu2): ReLU(inplace=True)\n",
       "        (conv2): Conv2d(128, 32, kernel_size=(3, 3), stride=(1, 1), padding=(1, 1), bias=False)\n",
       "      )\n",
       "      (denselayer2): _DenseLayer(\n",
       "        (norm1): BatchNorm2d(288, eps=1e-05, momentum=0.1, affine=True, track_running_stats=True)\n",
       "        (relu1): ReLU(inplace=True)\n",
       "        (conv1): Conv2d(288, 128, kernel_size=(1, 1), stride=(1, 1), bias=False)\n",
       "        (norm2): BatchNorm2d(128, eps=1e-05, momentum=0.1, affine=True, track_running_stats=True)\n",
       "        (relu2): ReLU(inplace=True)\n",
       "        (conv2): Conv2d(128, 32, kernel_size=(3, 3), stride=(1, 1), padding=(1, 1), bias=False)\n",
       "      )\n",
       "      (denselayer3): _DenseLayer(\n",
       "        (norm1): BatchNorm2d(320, eps=1e-05, momentum=0.1, affine=True, track_running_stats=True)\n",
       "        (relu1): ReLU(inplace=True)\n",
       "        (conv1): Conv2d(320, 128, kernel_size=(1, 1), stride=(1, 1), bias=False)\n",
       "        (norm2): BatchNorm2d(128, eps=1e-05, momentum=0.1, affine=True, track_running_stats=True)\n",
       "        (relu2): ReLU(inplace=True)\n",
       "        (conv2): Conv2d(128, 32, kernel_size=(3, 3), stride=(1, 1), padding=(1, 1), bias=False)\n",
       "      )\n",
       "      (denselayer4): _DenseLayer(\n",
       "        (norm1): BatchNorm2d(352, eps=1e-05, momentum=0.1, affine=True, track_running_stats=True)\n",
       "        (relu1): ReLU(inplace=True)\n",
       "        (conv1): Conv2d(352, 128, kernel_size=(1, 1), stride=(1, 1), bias=False)\n",
       "        (norm2): BatchNorm2d(128, eps=1e-05, momentum=0.1, affine=True, track_running_stats=True)\n",
       "        (relu2): ReLU(inplace=True)\n",
       "        (conv2): Conv2d(128, 32, kernel_size=(3, 3), stride=(1, 1), padding=(1, 1), bias=False)\n",
       "      )\n",
       "      (denselayer5): _DenseLayer(\n",
       "        (norm1): BatchNorm2d(384, eps=1e-05, momentum=0.1, affine=True, track_running_stats=True)\n",
       "        (relu1): ReLU(inplace=True)\n",
       "        (conv1): Conv2d(384, 128, kernel_size=(1, 1), stride=(1, 1), bias=False)\n",
       "        (norm2): BatchNorm2d(128, eps=1e-05, momentum=0.1, affine=True, track_running_stats=True)\n",
       "        (relu2): ReLU(inplace=True)\n",
       "        (conv2): Conv2d(128, 32, kernel_size=(3, 3), stride=(1, 1), padding=(1, 1), bias=False)\n",
       "      )\n",
       "      (denselayer6): _DenseLayer(\n",
       "        (norm1): BatchNorm2d(416, eps=1e-05, momentum=0.1, affine=True, track_running_stats=True)\n",
       "        (relu1): ReLU(inplace=True)\n",
       "        (conv1): Conv2d(416, 128, kernel_size=(1, 1), stride=(1, 1), bias=False)\n",
       "        (norm2): BatchNorm2d(128, eps=1e-05, momentum=0.1, affine=True, track_running_stats=True)\n",
       "        (relu2): ReLU(inplace=True)\n",
       "        (conv2): Conv2d(128, 32, kernel_size=(3, 3), stride=(1, 1), padding=(1, 1), bias=False)\n",
       "      )\n",
       "      (denselayer7): _DenseLayer(\n",
       "        (norm1): BatchNorm2d(448, eps=1e-05, momentum=0.1, affine=True, track_running_stats=True)\n",
       "        (relu1): ReLU(inplace=True)\n",
       "        (conv1): Conv2d(448, 128, kernel_size=(1, 1), stride=(1, 1), bias=False)\n",
       "        (norm2): BatchNorm2d(128, eps=1e-05, momentum=0.1, affine=True, track_running_stats=True)\n",
       "        (relu2): ReLU(inplace=True)\n",
       "        (conv2): Conv2d(128, 32, kernel_size=(3, 3), stride=(1, 1), padding=(1, 1), bias=False)\n",
       "      )\n",
       "      (denselayer8): _DenseLayer(\n",
       "        (norm1): BatchNorm2d(480, eps=1e-05, momentum=0.1, affine=True, track_running_stats=True)\n",
       "        (relu1): ReLU(inplace=True)\n",
       "        (conv1): Conv2d(480, 128, kernel_size=(1, 1), stride=(1, 1), bias=False)\n",
       "        (norm2): BatchNorm2d(128, eps=1e-05, momentum=0.1, affine=True, track_running_stats=True)\n",
       "        (relu2): ReLU(inplace=True)\n",
       "        (conv2): Conv2d(128, 32, kernel_size=(3, 3), stride=(1, 1), padding=(1, 1), bias=False)\n",
       "      )\n",
       "      (denselayer9): _DenseLayer(\n",
       "        (norm1): BatchNorm2d(512, eps=1e-05, momentum=0.1, affine=True, track_running_stats=True)\n",
       "        (relu1): ReLU(inplace=True)\n",
       "        (conv1): Conv2d(512, 128, kernel_size=(1, 1), stride=(1, 1), bias=False)\n",
       "        (norm2): BatchNorm2d(128, eps=1e-05, momentum=0.1, affine=True, track_running_stats=True)\n",
       "        (relu2): ReLU(inplace=True)\n",
       "        (conv2): Conv2d(128, 32, kernel_size=(3, 3), stride=(1, 1), padding=(1, 1), bias=False)\n",
       "      )\n",
       "      (denselayer10): _DenseLayer(\n",
       "        (norm1): BatchNorm2d(544, eps=1e-05, momentum=0.1, affine=True, track_running_stats=True)\n",
       "        (relu1): ReLU(inplace=True)\n",
       "        (conv1): Conv2d(544, 128, kernel_size=(1, 1), stride=(1, 1), bias=False)\n",
       "        (norm2): BatchNorm2d(128, eps=1e-05, momentum=0.1, affine=True, track_running_stats=True)\n",
       "        (relu2): ReLU(inplace=True)\n",
       "        (conv2): Conv2d(128, 32, kernel_size=(3, 3), stride=(1, 1), padding=(1, 1), bias=False)\n",
       "      )\n",
       "      (denselayer11): _DenseLayer(\n",
       "        (norm1): BatchNorm2d(576, eps=1e-05, momentum=0.1, affine=True, track_running_stats=True)\n",
       "        (relu1): ReLU(inplace=True)\n",
       "        (conv1): Conv2d(576, 128, kernel_size=(1, 1), stride=(1, 1), bias=False)\n",
       "        (norm2): BatchNorm2d(128, eps=1e-05, momentum=0.1, affine=True, track_running_stats=True)\n",
       "        (relu2): ReLU(inplace=True)\n",
       "        (conv2): Conv2d(128, 32, kernel_size=(3, 3), stride=(1, 1), padding=(1, 1), bias=False)\n",
       "      )\n",
       "      (denselayer12): _DenseLayer(\n",
       "        (norm1): BatchNorm2d(608, eps=1e-05, momentum=0.1, affine=True, track_running_stats=True)\n",
       "        (relu1): ReLU(inplace=True)\n",
       "        (conv1): Conv2d(608, 128, kernel_size=(1, 1), stride=(1, 1), bias=False)\n",
       "        (norm2): BatchNorm2d(128, eps=1e-05, momentum=0.1, affine=True, track_running_stats=True)\n",
       "        (relu2): ReLU(inplace=True)\n",
       "        (conv2): Conv2d(128, 32, kernel_size=(3, 3), stride=(1, 1), padding=(1, 1), bias=False)\n",
       "      )\n",
       "      (denselayer13): _DenseLayer(\n",
       "        (norm1): BatchNorm2d(640, eps=1e-05, momentum=0.1, affine=True, track_running_stats=True)\n",
       "        (relu1): ReLU(inplace=True)\n",
       "        (conv1): Conv2d(640, 128, kernel_size=(1, 1), stride=(1, 1), bias=False)\n",
       "        (norm2): BatchNorm2d(128, eps=1e-05, momentum=0.1, affine=True, track_running_stats=True)\n",
       "        (relu2): ReLU(inplace=True)\n",
       "        (conv2): Conv2d(128, 32, kernel_size=(3, 3), stride=(1, 1), padding=(1, 1), bias=False)\n",
       "      )\n",
       "      (denselayer14): _DenseLayer(\n",
       "        (norm1): BatchNorm2d(672, eps=1e-05, momentum=0.1, affine=True, track_running_stats=True)\n",
       "        (relu1): ReLU(inplace=True)\n",
       "        (conv1): Conv2d(672, 128, kernel_size=(1, 1), stride=(1, 1), bias=False)\n",
       "        (norm2): BatchNorm2d(128, eps=1e-05, momentum=0.1, affine=True, track_running_stats=True)\n",
       "        (relu2): ReLU(inplace=True)\n",
       "        (conv2): Conv2d(128, 32, kernel_size=(3, 3), stride=(1, 1), padding=(1, 1), bias=False)\n",
       "      )\n",
       "      (denselayer15): _DenseLayer(\n",
       "        (norm1): BatchNorm2d(704, eps=1e-05, momentum=0.1, affine=True, track_running_stats=True)\n",
       "        (relu1): ReLU(inplace=True)\n",
       "        (conv1): Conv2d(704, 128, kernel_size=(1, 1), stride=(1, 1), bias=False)\n",
       "        (norm2): BatchNorm2d(128, eps=1e-05, momentum=0.1, affine=True, track_running_stats=True)\n",
       "        (relu2): ReLU(inplace=True)\n",
       "        (conv2): Conv2d(128, 32, kernel_size=(3, 3), stride=(1, 1), padding=(1, 1), bias=False)\n",
       "      )\n",
       "      (denselayer16): _DenseLayer(\n",
       "        (norm1): BatchNorm2d(736, eps=1e-05, momentum=0.1, affine=True, track_running_stats=True)\n",
       "        (relu1): ReLU(inplace=True)\n",
       "        (conv1): Conv2d(736, 128, kernel_size=(1, 1), stride=(1, 1), bias=False)\n",
       "        (norm2): BatchNorm2d(128, eps=1e-05, momentum=0.1, affine=True, track_running_stats=True)\n",
       "        (relu2): ReLU(inplace=True)\n",
       "        (conv2): Conv2d(128, 32, kernel_size=(3, 3), stride=(1, 1), padding=(1, 1), bias=False)\n",
       "      )\n",
       "      (denselayer17): _DenseLayer(\n",
       "        (norm1): BatchNorm2d(768, eps=1e-05, momentum=0.1, affine=True, track_running_stats=True)\n",
       "        (relu1): ReLU(inplace=True)\n",
       "        (conv1): Conv2d(768, 128, kernel_size=(1, 1), stride=(1, 1), bias=False)\n",
       "        (norm2): BatchNorm2d(128, eps=1e-05, momentum=0.1, affine=True, track_running_stats=True)\n",
       "        (relu2): ReLU(inplace=True)\n",
       "        (conv2): Conv2d(128, 32, kernel_size=(3, 3), stride=(1, 1), padding=(1, 1), bias=False)\n",
       "      )\n",
       "      (denselayer18): _DenseLayer(\n",
       "        (norm1): BatchNorm2d(800, eps=1e-05, momentum=0.1, affine=True, track_running_stats=True)\n",
       "        (relu1): ReLU(inplace=True)\n",
       "        (conv1): Conv2d(800, 128, kernel_size=(1, 1), stride=(1, 1), bias=False)\n",
       "        (norm2): BatchNorm2d(128, eps=1e-05, momentum=0.1, affine=True, track_running_stats=True)\n",
       "        (relu2): ReLU(inplace=True)\n",
       "        (conv2): Conv2d(128, 32, kernel_size=(3, 3), stride=(1, 1), padding=(1, 1), bias=False)\n",
       "      )\n",
       "      (denselayer19): _DenseLayer(\n",
       "        (norm1): BatchNorm2d(832, eps=1e-05, momentum=0.1, affine=True, track_running_stats=True)\n",
       "        (relu1): ReLU(inplace=True)\n",
       "        (conv1): Conv2d(832, 128, kernel_size=(1, 1), stride=(1, 1), bias=False)\n",
       "        (norm2): BatchNorm2d(128, eps=1e-05, momentum=0.1, affine=True, track_running_stats=True)\n",
       "        (relu2): ReLU(inplace=True)\n",
       "        (conv2): Conv2d(128, 32, kernel_size=(3, 3), stride=(1, 1), padding=(1, 1), bias=False)\n",
       "      )\n",
       "      (denselayer20): _DenseLayer(\n",
       "        (norm1): BatchNorm2d(864, eps=1e-05, momentum=0.1, affine=True, track_running_stats=True)\n",
       "        (relu1): ReLU(inplace=True)\n",
       "        (conv1): Conv2d(864, 128, kernel_size=(1, 1), stride=(1, 1), bias=False)\n",
       "        (norm2): BatchNorm2d(128, eps=1e-05, momentum=0.1, affine=True, track_running_stats=True)\n",
       "        (relu2): ReLU(inplace=True)\n",
       "        (conv2): Conv2d(128, 32, kernel_size=(3, 3), stride=(1, 1), padding=(1, 1), bias=False)\n",
       "      )\n",
       "      (denselayer21): _DenseLayer(\n",
       "        (norm1): BatchNorm2d(896, eps=1e-05, momentum=0.1, affine=True, track_running_stats=True)\n",
       "        (relu1): ReLU(inplace=True)\n",
       "        (conv1): Conv2d(896, 128, kernel_size=(1, 1), stride=(1, 1), bias=False)\n",
       "        (norm2): BatchNorm2d(128, eps=1e-05, momentum=0.1, affine=True, track_running_stats=True)\n",
       "        (relu2): ReLU(inplace=True)\n",
       "        (conv2): Conv2d(128, 32, kernel_size=(3, 3), stride=(1, 1), padding=(1, 1), bias=False)\n",
       "      )\n",
       "      (denselayer22): _DenseLayer(\n",
       "        (norm1): BatchNorm2d(928, eps=1e-05, momentum=0.1, affine=True, track_running_stats=True)\n",
       "        (relu1): ReLU(inplace=True)\n",
       "        (conv1): Conv2d(928, 128, kernel_size=(1, 1), stride=(1, 1), bias=False)\n",
       "        (norm2): BatchNorm2d(128, eps=1e-05, momentum=0.1, affine=True, track_running_stats=True)\n",
       "        (relu2): ReLU(inplace=True)\n",
       "        (conv2): Conv2d(128, 32, kernel_size=(3, 3), stride=(1, 1), padding=(1, 1), bias=False)\n",
       "      )\n",
       "      (denselayer23): _DenseLayer(\n",
       "        (norm1): BatchNorm2d(960, eps=1e-05, momentum=0.1, affine=True, track_running_stats=True)\n",
       "        (relu1): ReLU(inplace=True)\n",
       "        (conv1): Conv2d(960, 128, kernel_size=(1, 1), stride=(1, 1), bias=False)\n",
       "        (norm2): BatchNorm2d(128, eps=1e-05, momentum=0.1, affine=True, track_running_stats=True)\n",
       "        (relu2): ReLU(inplace=True)\n",
       "        (conv2): Conv2d(128, 32, kernel_size=(3, 3), stride=(1, 1), padding=(1, 1), bias=False)\n",
       "      )\n",
       "      (denselayer24): _DenseLayer(\n",
       "        (norm1): BatchNorm2d(992, eps=1e-05, momentum=0.1, affine=True, track_running_stats=True)\n",
       "        (relu1): ReLU(inplace=True)\n",
       "        (conv1): Conv2d(992, 128, kernel_size=(1, 1), stride=(1, 1), bias=False)\n",
       "        (norm2): BatchNorm2d(128, eps=1e-05, momentum=0.1, affine=True, track_running_stats=True)\n",
       "        (relu2): ReLU(inplace=True)\n",
       "        (conv2): Conv2d(128, 32, kernel_size=(3, 3), stride=(1, 1), padding=(1, 1), bias=False)\n",
       "      )\n",
       "    )\n",
       "    (transition3): _Transition(\n",
       "      (norm): BatchNorm2d(1024, eps=1e-05, momentum=0.1, affine=True, track_running_stats=True)\n",
       "      (relu): ReLU(inplace=True)\n",
       "      (conv): Conv2d(1024, 512, kernel_size=(1, 1), stride=(1, 1), bias=False)\n",
       "      (pool): AvgPool2d(kernel_size=2, stride=2, padding=0)\n",
       "    )\n",
       "    (denseblock4): _DenseBlock(\n",
       "      (denselayer1): _DenseLayer(\n",
       "        (norm1): BatchNorm2d(512, eps=1e-05, momentum=0.1, affine=True, track_running_stats=True)\n",
       "        (relu1): ReLU(inplace=True)\n",
       "        (conv1): Conv2d(512, 128, kernel_size=(1, 1), stride=(1, 1), bias=False)\n",
       "        (norm2): BatchNorm2d(128, eps=1e-05, momentum=0.1, affine=True, track_running_stats=True)\n",
       "        (relu2): ReLU(inplace=True)\n",
       "        (conv2): Conv2d(128, 32, kernel_size=(3, 3), stride=(1, 1), padding=(1, 1), bias=False)\n",
       "      )\n",
       "      (denselayer2): _DenseLayer(\n",
       "        (norm1): BatchNorm2d(544, eps=1e-05, momentum=0.1, affine=True, track_running_stats=True)\n",
       "        (relu1): ReLU(inplace=True)\n",
       "        (conv1): Conv2d(544, 128, kernel_size=(1, 1), stride=(1, 1), bias=False)\n",
       "        (norm2): BatchNorm2d(128, eps=1e-05, momentum=0.1, affine=True, track_running_stats=True)\n",
       "        (relu2): ReLU(inplace=True)\n",
       "        (conv2): Conv2d(128, 32, kernel_size=(3, 3), stride=(1, 1), padding=(1, 1), bias=False)\n",
       "      )\n",
       "      (denselayer3): _DenseLayer(\n",
       "        (norm1): BatchNorm2d(576, eps=1e-05, momentum=0.1, affine=True, track_running_stats=True)\n",
       "        (relu1): ReLU(inplace=True)\n",
       "        (conv1): Conv2d(576, 128, kernel_size=(1, 1), stride=(1, 1), bias=False)\n",
       "        (norm2): BatchNorm2d(128, eps=1e-05, momentum=0.1, affine=True, track_running_stats=True)\n",
       "        (relu2): ReLU(inplace=True)\n",
       "        (conv2): Conv2d(128, 32, kernel_size=(3, 3), stride=(1, 1), padding=(1, 1), bias=False)\n",
       "      )\n",
       "      (denselayer4): _DenseLayer(\n",
       "        (norm1): BatchNorm2d(608, eps=1e-05, momentum=0.1, affine=True, track_running_stats=True)\n",
       "        (relu1): ReLU(inplace=True)\n",
       "        (conv1): Conv2d(608, 128, kernel_size=(1, 1), stride=(1, 1), bias=False)\n",
       "        (norm2): BatchNorm2d(128, eps=1e-05, momentum=0.1, affine=True, track_running_stats=True)\n",
       "        (relu2): ReLU(inplace=True)\n",
       "        (conv2): Conv2d(128, 32, kernel_size=(3, 3), stride=(1, 1), padding=(1, 1), bias=False)\n",
       "      )\n",
       "      (denselayer5): _DenseLayer(\n",
       "        (norm1): BatchNorm2d(640, eps=1e-05, momentum=0.1, affine=True, track_running_stats=True)\n",
       "        (relu1): ReLU(inplace=True)\n",
       "        (conv1): Conv2d(640, 128, kernel_size=(1, 1), stride=(1, 1), bias=False)\n",
       "        (norm2): BatchNorm2d(128, eps=1e-05, momentum=0.1, affine=True, track_running_stats=True)\n",
       "        (relu2): ReLU(inplace=True)\n",
       "        (conv2): Conv2d(128, 32, kernel_size=(3, 3), stride=(1, 1), padding=(1, 1), bias=False)\n",
       "      )\n",
       "      (denselayer6): _DenseLayer(\n",
       "        (norm1): BatchNorm2d(672, eps=1e-05, momentum=0.1, affine=True, track_running_stats=True)\n",
       "        (relu1): ReLU(inplace=True)\n",
       "        (conv1): Conv2d(672, 128, kernel_size=(1, 1), stride=(1, 1), bias=False)\n",
       "        (norm2): BatchNorm2d(128, eps=1e-05, momentum=0.1, affine=True, track_running_stats=True)\n",
       "        (relu2): ReLU(inplace=True)\n",
       "        (conv2): Conv2d(128, 32, kernel_size=(3, 3), stride=(1, 1), padding=(1, 1), bias=False)\n",
       "      )\n",
       "      (denselayer7): _DenseLayer(\n",
       "        (norm1): BatchNorm2d(704, eps=1e-05, momentum=0.1, affine=True, track_running_stats=True)\n",
       "        (relu1): ReLU(inplace=True)\n",
       "        (conv1): Conv2d(704, 128, kernel_size=(1, 1), stride=(1, 1), bias=False)\n",
       "        (norm2): BatchNorm2d(128, eps=1e-05, momentum=0.1, affine=True, track_running_stats=True)\n",
       "        (relu2): ReLU(inplace=True)\n",
       "        (conv2): Conv2d(128, 32, kernel_size=(3, 3), stride=(1, 1), padding=(1, 1), bias=False)\n",
       "      )\n",
       "      (denselayer8): _DenseLayer(\n",
       "        (norm1): BatchNorm2d(736, eps=1e-05, momentum=0.1, affine=True, track_running_stats=True)\n",
       "        (relu1): ReLU(inplace=True)\n",
       "        (conv1): Conv2d(736, 128, kernel_size=(1, 1), stride=(1, 1), bias=False)\n",
       "        (norm2): BatchNorm2d(128, eps=1e-05, momentum=0.1, affine=True, track_running_stats=True)\n",
       "        (relu2): ReLU(inplace=True)\n",
       "        (conv2): Conv2d(128, 32, kernel_size=(3, 3), stride=(1, 1), padding=(1, 1), bias=False)\n",
       "      )\n",
       "      (denselayer9): _DenseLayer(\n",
       "        (norm1): BatchNorm2d(768, eps=1e-05, momentum=0.1, affine=True, track_running_stats=True)\n",
       "        (relu1): ReLU(inplace=True)\n",
       "        (conv1): Conv2d(768, 128, kernel_size=(1, 1), stride=(1, 1), bias=False)\n",
       "        (norm2): BatchNorm2d(128, eps=1e-05, momentum=0.1, affine=True, track_running_stats=True)\n",
       "        (relu2): ReLU(inplace=True)\n",
       "        (conv2): Conv2d(128, 32, kernel_size=(3, 3), stride=(1, 1), padding=(1, 1), bias=False)\n",
       "      )\n",
       "      (denselayer10): _DenseLayer(\n",
       "        (norm1): BatchNorm2d(800, eps=1e-05, momentum=0.1, affine=True, track_running_stats=True)\n",
       "        (relu1): ReLU(inplace=True)\n",
       "        (conv1): Conv2d(800, 128, kernel_size=(1, 1), stride=(1, 1), bias=False)\n",
       "        (norm2): BatchNorm2d(128, eps=1e-05, momentum=0.1, affine=True, track_running_stats=True)\n",
       "        (relu2): ReLU(inplace=True)\n",
       "        (conv2): Conv2d(128, 32, kernel_size=(3, 3), stride=(1, 1), padding=(1, 1), bias=False)\n",
       "      )\n",
       "      (denselayer11): _DenseLayer(\n",
       "        (norm1): BatchNorm2d(832, eps=1e-05, momentum=0.1, affine=True, track_running_stats=True)\n",
       "        (relu1): ReLU(inplace=True)\n",
       "        (conv1): Conv2d(832, 128, kernel_size=(1, 1), stride=(1, 1), bias=False)\n",
       "        (norm2): BatchNorm2d(128, eps=1e-05, momentum=0.1, affine=True, track_running_stats=True)\n",
       "        (relu2): ReLU(inplace=True)\n",
       "        (conv2): Conv2d(128, 32, kernel_size=(3, 3), stride=(1, 1), padding=(1, 1), bias=False)\n",
       "      )\n",
       "      (denselayer12): _DenseLayer(\n",
       "        (norm1): BatchNorm2d(864, eps=1e-05, momentum=0.1, affine=True, track_running_stats=True)\n",
       "        (relu1): ReLU(inplace=True)\n",
       "        (conv1): Conv2d(864, 128, kernel_size=(1, 1), stride=(1, 1), bias=False)\n",
       "        (norm2): BatchNorm2d(128, eps=1e-05, momentum=0.1, affine=True, track_running_stats=True)\n",
       "        (relu2): ReLU(inplace=True)\n",
       "        (conv2): Conv2d(128, 32, kernel_size=(3, 3), stride=(1, 1), padding=(1, 1), bias=False)\n",
       "      )\n",
       "      (denselayer13): _DenseLayer(\n",
       "        (norm1): BatchNorm2d(896, eps=1e-05, momentum=0.1, affine=True, track_running_stats=True)\n",
       "        (relu1): ReLU(inplace=True)\n",
       "        (conv1): Conv2d(896, 128, kernel_size=(1, 1), stride=(1, 1), bias=False)\n",
       "        (norm2): BatchNorm2d(128, eps=1e-05, momentum=0.1, affine=True, track_running_stats=True)\n",
       "        (relu2): ReLU(inplace=True)\n",
       "        (conv2): Conv2d(128, 32, kernel_size=(3, 3), stride=(1, 1), padding=(1, 1), bias=False)\n",
       "      )\n",
       "      (denselayer14): _DenseLayer(\n",
       "        (norm1): BatchNorm2d(928, eps=1e-05, momentum=0.1, affine=True, track_running_stats=True)\n",
       "        (relu1): ReLU(inplace=True)\n",
       "        (conv1): Conv2d(928, 128, kernel_size=(1, 1), stride=(1, 1), bias=False)\n",
       "        (norm2): BatchNorm2d(128, eps=1e-05, momentum=0.1, affine=True, track_running_stats=True)\n",
       "        (relu2): ReLU(inplace=True)\n",
       "        (conv2): Conv2d(128, 32, kernel_size=(3, 3), stride=(1, 1), padding=(1, 1), bias=False)\n",
       "      )\n",
       "      (denselayer15): _DenseLayer(\n",
       "        (norm1): BatchNorm2d(960, eps=1e-05, momentum=0.1, affine=True, track_running_stats=True)\n",
       "        (relu1): ReLU(inplace=True)\n",
       "        (conv1): Conv2d(960, 128, kernel_size=(1, 1), stride=(1, 1), bias=False)\n",
       "        (norm2): BatchNorm2d(128, eps=1e-05, momentum=0.1, affine=True, track_running_stats=True)\n",
       "        (relu2): ReLU(inplace=True)\n",
       "        (conv2): Conv2d(128, 32, kernel_size=(3, 3), stride=(1, 1), padding=(1, 1), bias=False)\n",
       "      )\n",
       "      (denselayer16): _DenseLayer(\n",
       "        (norm1): BatchNorm2d(992, eps=1e-05, momentum=0.1, affine=True, track_running_stats=True)\n",
       "        (relu1): ReLU(inplace=True)\n",
       "        (conv1): Conv2d(992, 128, kernel_size=(1, 1), stride=(1, 1), bias=False)\n",
       "        (norm2): BatchNorm2d(128, eps=1e-05, momentum=0.1, affine=True, track_running_stats=True)\n",
       "        (relu2): ReLU(inplace=True)\n",
       "        (conv2): Conv2d(128, 32, kernel_size=(3, 3), stride=(1, 1), padding=(1, 1), bias=False)\n",
       "      )\n",
       "    )\n",
       "    (norm5): BatchNorm2d(1024, eps=1e-05, momentum=0.1, affine=True, track_running_stats=True)\n",
       "  )\n",
       "  (classifier): Sequential(\n",
       "    (0): Linear(in_features=1024, out_features=2, bias=True)\n",
       "    (1): LogSoftmax(dim=1)\n",
       "  )\n",
       ")"
      ]
     },
     "execution_count": 15,
     "metadata": {},
     "output_type": "execute_result"
    }
   ],
   "source": [
    "\n",
    "############################\n",
    "#         Test\n",
    "############################\n",
    "test_list=[]\n",
    "test_model_path = \"fl_checkpointsdensenet121_e5_c5_r5/fl_densenet_5.pth\"\n",
    "print('Best model path:{}'.format(test_model_path))\n",
    "best_model=models.densenet121(weights=False).to(device)\n",
    "\n",
    "n_inputs = best_model.classifier.in_features\n",
    "best_model.classifier = nn.Sequential(\n",
    "              nn.Linear(n_inputs, n_classes),               \n",
    "              nn.LogSoftmax(dim=1))\n",
    "\n",
    "\n",
    "checkpoint=torch.load(test_model_path,map_location=device)   # loading best model\n",
    "best_model.load_state_dict(checkpoint['state_dict'])\n",
    "best_model.to(device)\n",
    "best_model.eval()"
   ]
  },
  {
   "cell_type": "code",
   "execution_count": 16,
   "metadata": {},
   "outputs": [],
   "source": [
    "from torch.utils.data import DataLoader\n",
    "\n",
    "# Define transform\n",
    "transform = transforms.Compose([\n",
    "    transforms.Resize((224, 224)),\n",
    "    transforms.ToTensor(),\n",
    "    transforms.Normalize(mean=[0.4762, 0.3054, 0.2368], std=[0.3345, 0.2407, 0.2164])\n",
    "])\n",
    "\n",
    "# Define test dataset and dataloader\n",
    "test_root_dir = os.path.join('Real_images_processed', 'test')\n",
    "test_dataset = datasets.ImageFolder(test_root_dir, transform=transform)\n",
    "test_loader = DataLoader(test_dataset, batch_size=1, shuffle=False)\n"
   ]
  },
  {
   "cell_type": "code",
   "execution_count": 17,
   "metadata": {},
   "outputs": [
    {
     "name": "stdout",
     "output_type": "stream",
     "text": [
      "1 Predicted class: Disease | Actual Class: Disease\n",
      "2 Predicted class: Disease | Actual Class: Disease\n",
      "3 Predicted class: Disease | Actual Class: Disease\n",
      "4 Predicted class: Disease | Actual Class: Disease\n",
      "5 Predicted class: Healthy | Actual Class: Disease\n",
      "6 Predicted class: Disease | Actual Class: Disease\n",
      "7 Predicted class: Healthy | Actual Class: Disease\n",
      "8 Predicted class: Disease | Actual Class: Disease\n",
      "9 Predicted class: Disease | Actual Class: Disease\n",
      "10 Predicted class: Disease | Actual Class: Disease\n",
      "11 Predicted class: Disease | Actual Class: Disease\n",
      "12 Predicted class: Disease | Actual Class: Disease\n",
      "13 Predicted class: Disease | Actual Class: Disease\n",
      "14 Predicted class: Disease | Actual Class: Disease\n",
      "15 Predicted class: Healthy | Actual Class: Healthy\n",
      "16 Predicted class: Healthy | Actual Class: Healthy\n",
      "17 Predicted class: Healthy | Actual Class: Healthy\n",
      "18 Predicted class: Healthy | Actual Class: Healthy\n",
      "19 Predicted class: Healthy | Actual Class: Healthy\n",
      "20 Predicted class: Disease | Actual Class: Healthy\n",
      "21 Predicted class: Disease | Actual Class: Healthy\n",
      "22 Predicted class: Disease | Actual Class: Healthy\n",
      "23 Predicted class: Healthy | Actual Class: Healthy\n",
      "24 Predicted class: Healthy | Actual Class: Healthy\n",
      "25 Predicted class: Disease | Actual Class: Healthy\n",
      "26 Predicted class: Healthy | Actual Class: Healthy\n",
      "27 Predicted class: Healthy | Actual Class: Healthy\n",
      "28 Predicted class: Healthy | Actual Class: Healthy\n",
      "29 Predicted class: Healthy | Actual Class: Healthy\n",
      "30 Predicted class: Healthy | Actual Class: Healthy\n",
      "Overall test accuracy: 80.00%\n"
     ]
    }
   ],
   "source": [
    "# Org test images: 111.jpg, 119.jpg\n",
    "# Other org: 662.jpg, 841.jpg, 731.jpg\n",
    "correct, total, loss = 0, 0, 0.0\n",
    "count = 1\n",
    "class_labels = ['Disease', 'Healthy']\n",
    "with torch.no_grad():\n",
    "    for images, labels in test_loader:\n",
    "        images, labels = images.to(device), labels.to(device)\n",
    "        outputs = best_model(images)\n",
    "        _, predicted = torch.max(outputs.data, 1)\n",
    "        total += labels.size(0)\n",
    "        correct += (predicted == labels).sum().item()\n",
    "        print(f\"{count} Predicted class: {class_labels[predicted.item()]} | Actual Class: {class_labels[labels]}\")\n",
    "        count += 1\n",
    "accuracy = correct / total\n",
    "print(f'Overall test accuracy: {accuracy * 100:.2f}%')"
   ]
  },
  {
   "cell_type": "code",
   "execution_count": null,
   "metadata": {},
   "outputs": [],
   "source": []
  },
  {
   "cell_type": "code",
   "execution_count": null,
   "metadata": {},
   "outputs": [],
   "source": []
  },
  {
   "cell_type": "code",
   "execution_count": null,
   "metadata": {},
   "outputs": [],
   "source": []
  },
  {
   "cell_type": "code",
   "execution_count": null,
   "metadata": {},
   "outputs": [],
   "source": [
    "\n"
   ]
  }
 ],
 "metadata": {
  "kernelspec": {
   "display_name": "Python 3 (ipykernel)",
   "language": "python",
   "name": "python3"
  },
  "language_info": {
   "codemirror_mode": {
    "name": "ipython",
    "version": 3
   },
   "file_extension": ".py",
   "mimetype": "text/x-python",
   "name": "python",
   "nbconvert_exporter": "python",
   "pygments_lexer": "ipython3",
   "version": "3.11.9"
  }
 },
 "nbformat": 4,
 "nbformat_minor": 4
}
